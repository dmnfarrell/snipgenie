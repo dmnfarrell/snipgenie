{
 "cells": [
  {
   "cell_type": "markdown",
   "metadata": {},
   "source": [
    "# All Ireland M.bovis strain diversity and clade identification"
   ]
  },
  {
   "cell_type": "code",
   "execution_count": 283,
   "metadata": {},
   "outputs": [],
   "source": [
    "import sys,os,io,shutil,subprocess\n",
    "import glob\n",
    "from importlib import reload\n",
    "import numpy as np\n",
    "import pandas as pd\n",
    "pd.set_option('display.width', 200)\n",
    "import pylab as plt\n",
    "import matplotlib as mpl\n",
    "from Bio import SeqIO\n",
    "import seaborn as sns\n",
    "sys.path.append('pathogenie')\n",
    "from snipgenie import tools, aligners, app, trees, plotting\n",
    "import toytree, toyplot\n",
    "import toyplot.pdf\n",
    "path = '/storage/btbgenie/all_ireland_results'"
   ]
  },
  {
   "cell_type": "markdown",
   "metadata": {},
   "source": [
    "## get meta data"
   ]
  },
  {
   "cell_type": "code",
   "execution_count": 314,
   "metadata": {},
   "outputs": [
    {
     "name": "stdout",
     "output_type": "stream",
     "text": [
      "583\n"
     ]
    }
   ],
   "source": [
    "meta = pd.read_csv('/storage/btbgenie/mbovis_ireland/all_ireland_samples.csv')\n",
    "print (len(meta))"
   ]
  },
  {
   "cell_type": "code",
   "execution_count": 336,
   "metadata": {},
   "outputs": [
    {
     "name": "stdout",
     "output_type": "stream",
     "text": [
      "          sample    county species  source  batch      aliquot\n",
      "419  TB19-007328  Monaghan     Cow  Declan    2.0  TB19-007328\n",
      "423  TB19-006784  Monaghan     Cow  Declan    2.0  TB19-006784\n",
      "424  TB19-006656  Monaghan     Cow  Declan    2.0  TB19-006656\n",
      "434  TB19-006246  Monaghan     Cow  Declan    2.0  TB19-006246\n",
      "438  TB19-003263     Cavan     Cow  Declan    2.0  TB19-003263\n",
      "439  TB19-003261     Cavan     Cow  Declan    2.0  TB19-003261\n",
      "440  TB19-003260     Cavan     Cow  Declan    2.0  TB19-003260\n",
      "471  TB19-002014  Monaghan     Cow   Kevin    3.0  TB19-002014\n",
      "477  TB19-003377  Monaghan     Cow   Kevin    3.0  TB19-003377\n",
      "479  TB19-003437  Monaghan     Cow   Kevin    3.0  TB19-003437\n",
      "488  TB19-003738  Monaghan     Cow   Kevin    3.0  TB19-003738\n",
      "489  TB19-003747  Monaghan     Cow   Kevin    3.0  TB19-003747\n",
      "490  TB19-003762  Monaghan     Cow   Kevin    3.0  TB19-003762\n",
      "495  TB19-003825  Monaghan     Cow   Kevin    3.0  TB19-003825\n",
      "501  TB19-004238  Monaghan     Cow   Kevin    3.0  TB19-004238\n",
      "533  TB19-004235  Monaghan     Cow   Kevin    4.0  TB19-004235\n",
      "534  TB19-005220  Monaghan     Cow   Kevin    4.0  TB19-005220\n",
      "          sample    county species  source  batch      aliquot\n",
      "125      19-7328  Monaghan     Cow   Kevin    1.0  TB19-007328\n",
      "419  TB19-007328  Monaghan     Cow  Declan    2.0  TB19-007328\n",
      "          sample    county species  source  batch      aliquot\n",
      "117      19-6784  Monaghan     Cow   Kevin    1.0  TB19-006784\n",
      "423  TB19-006784  Monaghan     Cow  Declan    2.0  TB19-006784\n",
      "          sample    county species  source  batch      aliquot\n",
      "116      19-6656  Monaghan     Cow   Kevin    1.0  TB19-006656\n",
      "424  TB19-006656  Monaghan     Cow  Declan    2.0  TB19-006656\n",
      "          sample    county species  source  batch      aliquot\n",
      "105      19-6246  Monaghan     Cow   Kevin    1.0  TB19-006246\n",
      "434  TB19-006246  Monaghan     Cow  Declan    2.0  TB19-006246\n",
      "          sample    county species  source  batch      aliquot\n",
      "181         3263  Monaghan  Badger   Kevin    1.0  TB19-003263\n",
      "438  TB19-003263     Cavan     Cow  Declan    2.0  TB19-003263\n",
      "          sample    county species  source  batch      aliquot\n",
      "180         3261  Monaghan  Badger   Kevin    1.0  TB19-003261\n",
      "439  TB19-003261     Cavan     Cow  Declan    2.0  TB19-003261\n",
      "          sample    county species  source  batch      aliquot\n",
      "179         3260  Monaghan  Badger   Kevin    1.0  TB19-003260\n",
      "440  TB19-003260     Cavan     Cow  Declan    2.0  TB19-003260\n",
      "          sample    county species source  batch      aliquot\n",
      "139         2014  Monaghan     Cow  Kevin    1.0  TB19-002014\n",
      "471  TB19-002014  Monaghan     Cow  Kevin    3.0  TB19-002014\n",
      "          sample    county species source  batch      aliquot\n",
      "183         3377  Monaghan     Cow  Kevin    1.0  TB19-003377\n",
      "477  TB19-003377  Monaghan     Cow  Kevin    3.0  TB19-003377\n",
      "          sample    county species source  batch      aliquot\n",
      "186         3437  Monaghan     Cow  Kevin    1.0  TB19-003437\n",
      "479  TB19-003437  Monaghan     Cow  Kevin    3.0  TB19-003437\n",
      "          sample    county species source  batch      aliquot\n",
      "198         3738  Monaghan     Cow  Kevin    1.0  TB19-003738\n",
      "488  TB19-003738  Monaghan     Cow  Kevin    3.0  TB19-003738\n",
      "          sample    county species source  batch      aliquot\n",
      "199         3747  Monaghan     Cow  Kevin    1.0  TB19-003747\n",
      "489  TB19-003747  Monaghan     Cow  Kevin    3.0  TB19-003747\n",
      "          sample    county species source  batch      aliquot\n",
      "200         3762  Monaghan     Cow  Kevin    1.0  TB19-003762\n",
      "490  TB19-003762  Monaghan     Cow  Kevin    3.0  TB19-003762\n",
      "          sample    county species source  batch      aliquot\n",
      "202         3825  Monaghan     Cow  Kevin    1.0  TB19-003825\n",
      "495  TB19-003825  Monaghan     Cow  Kevin    3.0  TB19-003825\n",
      "          sample    county species source  batch      aliquot\n",
      "208         4238  Monaghan     Cow  Kevin    1.0  TB19-004238\n",
      "501  TB19-004238  Monaghan     Cow  Kevin    3.0  TB19-004238\n",
      "          sample    county species source  batch      aliquot\n",
      "86       19-4235  Monaghan     Cow  Kevin    1.0  TB19-004235\n",
      "533  TB19-004235  Monaghan     Cow  Kevin    4.0  TB19-004235\n",
      "          sample    county species source  batch      aliquot\n",
      "236         5220  Monaghan     Cow  Kevin    1.0  TB19-005220\n",
      "534  TB19-005220  Monaghan     Cow  Kevin    4.0  TB19-005220\n"
     ]
    },
    {
     "data": {
      "text/html": [
       "<div>\n",
       "<style scoped>\n",
       "    .dataframe tbody tr th:only-of-type {\n",
       "        vertical-align: middle;\n",
       "    }\n",
       "\n",
       "    .dataframe tbody tr th {\n",
       "        vertical-align: top;\n",
       "    }\n",
       "\n",
       "    .dataframe thead th {\n",
       "        text-align: right;\n",
       "    }\n",
       "</style>\n",
       "<table border=\"1\" class=\"dataframe\">\n",
       "  <thead>\n",
       "    <tr style=\"text-align: right;\">\n",
       "      <th></th>\n",
       "      <th>sample</th>\n",
       "      <th>county</th>\n",
       "      <th>species</th>\n",
       "      <th>source</th>\n",
       "      <th>batch</th>\n",
       "      <th>aliquot</th>\n",
       "    </tr>\n",
       "  </thead>\n",
       "  <tbody>\n",
       "    <tr>\n",
       "      <th>437</th>\n",
       "      <td>TB19-005728</td>\n",
       "      <td>Monaghan</td>\n",
       "      <td>Cow</td>\n",
       "      <td>Declan</td>\n",
       "      <td>2.0</td>\n",
       "      <td>TB19-005728</td>\n",
       "    </tr>\n",
       "    <tr>\n",
       "      <th>460</th>\n",
       "      <td>TB19-010920</td>\n",
       "      <td>Monaghan</td>\n",
       "      <td>Cow</td>\n",
       "      <td>Declan</td>\n",
       "      <td>2.0</td>\n",
       "      <td>TB19-010920</td>\n",
       "    </tr>\n",
       "    <tr>\n",
       "      <th>535</th>\n",
       "      <td>TB19-008567</td>\n",
       "      <td>Monaghan</td>\n",
       "      <td>Cow</td>\n",
       "      <td>Kevin</td>\n",
       "      <td>4.0</td>\n",
       "      <td>TB19-008567</td>\n",
       "    </tr>\n",
       "    <tr>\n",
       "      <th>536</th>\n",
       "      <td>TB19-005666</td>\n",
       "      <td>Monaghan</td>\n",
       "      <td>Cow</td>\n",
       "      <td>Kevin</td>\n",
       "      <td>4.0</td>\n",
       "      <td>TB19-005666</td>\n",
       "    </tr>\n",
       "    <tr>\n",
       "      <th>537</th>\n",
       "      <td>TB19-004282</td>\n",
       "      <td>Monaghan</td>\n",
       "      <td>Cow</td>\n",
       "      <td>Kevin</td>\n",
       "      <td>4.0</td>\n",
       "      <td>TB19-004282</td>\n",
       "    </tr>\n",
       "    <tr>\n",
       "      <th>538</th>\n",
       "      <td>TB19-007986</td>\n",
       "      <td>Monaghan</td>\n",
       "      <td>Cow</td>\n",
       "      <td>Kevin</td>\n",
       "      <td>4.0</td>\n",
       "      <td>TB19-007986</td>\n",
       "    </tr>\n",
       "  </tbody>\n",
       "</table>\n",
       "</div>"
      ],
      "text/plain": [
       "          sample    county species  source  batch      aliquot\n",
       "437  TB19-005728  Monaghan     Cow  Declan    2.0  TB19-005728\n",
       "460  TB19-010920  Monaghan     Cow  Declan    2.0  TB19-010920\n",
       "535  TB19-008567  Monaghan     Cow   Kevin    4.0  TB19-008567\n",
       "536  TB19-005666  Monaghan     Cow   Kevin    4.0  TB19-005666\n",
       "537  TB19-004282  Monaghan     Cow   Kevin    4.0  TB19-004282\n",
       "538  TB19-007986  Monaghan     Cow   Kevin    4.0  TB19-007986"
      ]
     },
     "execution_count": 336,
     "metadata": {},
     "output_type": "execute_result"
    }
   ],
   "source": [
    "dups=meta[meta.duplicated('aliquot')].dropna()\n",
    "print (dups)\n",
    "for i,r in dups.iterrows():\n",
    "    print (meta[meta.aliquot== r.aliquot])\n",
    "meta[(meta.batch.isin([2,3,4])) & (~meta.aliquot.isin(dups.aliquot)) & (meta.county=='Monaghan')]"
   ]
  },
  {
   "cell_type": "markdown",
   "metadata": {},
   "source": [
    "## run NI"
   ]
  },
  {
   "cell_type": "code",
   "execution_count": null,
   "metadata": {},
   "outputs": [],
   "source": [
    "reload(app)\n",
    "args = {'threads':20, 'outdir': '/storage/btbgenie/NI_results', 'labelsep':'_',\n",
    "        'input':['/storage/btbgenie/mbovis_ireland/NI'],\n",
    "         'species': 'Mbovis-AF212297',\n",
    "         'overwrite':False,\n",
    "         'custom_filters': True,       \n",
    "         'buildtree':True}\n",
    "W = app.WorkFlow(**args)\n",
    "st = W.setup()\n",
    "W.run()"
   ]
  },
  {
   "cell_type": "markdown",
   "metadata": {},
   "source": [
    "## misc 2021 samples"
   ]
  },
  {
   "cell_type": "code",
   "execution_count": null,
   "metadata": {},
   "outputs": [],
   "source": [
    "args = {'threads':20, 'outdir': '/storage/btbgenie/misc_results', 'labelsep':'_',\n",
    "        'input':['/storage/btbgenie/mbovis_ireland/Misc'],\n",
    "         'species': 'Mbovis-AF212297',\n",
    "         'overwrite':False,\n",
    "         'custom_filters': True,\n",
    "         'buildtree':True}\n",
    "W = app.WorkFlow(**args)\n",
    "st = W.setup()\n",
    "W.run()"
   ]
  },
  {
   "cell_type": "code",
   "execution_count": null,
   "metadata": {},
   "outputs": [],
   "source": [
    "reload(app)\n",
    "mask='/home/farrell/gitprojects/snipgenie/snipgenie/data/Mbovis_AF212297_mask.bed'\n",
    "vcf_file='/storage/btbgenie/misc_results/snps.vcf.gz'\n",
    "app.mask_filter(vcf_file, mask)"
   ]
  },
  {
   "cell_type": "code",
   "execution_count": 244,
   "metadata": {},
   "outputs": [
    {
     "name": "stdout",
     "output_type": "stream",
     "text": [
      "         sample                           name                                           bam_file  read_length\n",
      "25  TB19-004280  TB19-004280_S68_L001-4_R2_001  /storage/btbgenie/misc_results/mapped/TB19-004...          149\n",
      "48  TB19-005887  TB19-005887_S29_L001-4_R2_001  /storage/btbgenie/misc_results/mapped/TB19-005...          150\n",
      "65 2 61\n"
     ]
    }
   ],
   "source": [
    "present=pd.read_csv('/storage/btbgenie/misc_results/summary.csv')\n",
    "present['sample']=present['sample'].astype(str)\n",
    "#print (present[:10])\n",
    "l=list(W.fastq_table['sample'].unique())\n",
    "\n",
    "s=meta[meta.batch>=3].sort_values(by='sample')\n",
    "#s['label'] = s['sample'].apply(lambda x : x.split('-')[1][-4:]).astype(str)\n",
    "#s=s.sort_values('label')\n",
    "\n",
    "p = present[~present['sample'].isin(s['sample'])]\n",
    "#p = (s[s['label'].isin(l)])\n",
    "print (p)\n",
    "print (len(s),len(p), len(present))"
   ]
  },
  {
   "cell_type": "code",
   "execution_count": 284,
   "metadata": {},
   "outputs": [],
   "source": [
    "reload(trees)\n",
    "spo=pd.read_csv('/storage/btbgenie/all_ireland_results/misc_spoligotypes.csv')\n",
    "treefile = '/storage/btbgenie/misc_results/tree.newick'\n",
    "tre = toytree.tree(treefile)\n",
    "tipnames = tre.get_tip_labels()\n",
    "mapping = dict(zip(meta['sample'],meta.county))\n",
    "colormap = trees.colors_from_labels(meta,'name','county')\n",
    "tip_colors = [colormap[mapping[i]] if i in mapping else 'Black' for i in tipnames]\n",
    "\n",
    "canvas,t,r=tre.draw(layout='r',width=1000,height=1000,tip_labels_colors=tip_colors,\n",
    "                    scalebar=True,);\n",
    "toyplot.pdf.render(canvas,'/storage/btbgenie/all_ireland_results/misc_samples_tree.pdf')"
   ]
  },
  {
   "cell_type": "markdown",
   "metadata": {},
   "source": [
    "## run CVRL samples"
   ]
  },
  {
   "cell_type": "code",
   "execution_count": null,
   "metadata": {},
   "outputs": [],
   "source": [
    "args = {'threads':20, 'outdir': '/storage/btbgenie/cvrl_results', 'labelsep':'_',\n",
    "        'input':['/storage/btbgenie/mbovis_ireland/CVRL'],\n",
    "         'species': 'Mbovis-AF212297',\n",
    "         'overwrite':False,\n",
    "         'custom_filters': True,\n",
    "         'buildtree':True}\n",
    "W = app.WorkFlow(**args)\n",
    "st = W.setup()\n",
    "W.run()"
   ]
  },
  {
   "cell_type": "code",
   "execution_count": null,
   "metadata": {},
   "outputs": [],
   "source": [
    "reload(trees)\n",
    "spo=pd.read_csv('/storage/btbgenie/all_ireland_results/cvrl_spoligotypes.csv')\n",
    "treefile = '/storage/btbgenie/cvrl_results/tree.newick'\n",
    "tre = toytree.tree(treefile)\n",
    "tipnames = tre.get_tip_labels()\n",
    "mapping = dict(zip(meta['sample'],meta.county))\n",
    "colormap = trees.colors_from_labels(meta,'name','county')\n",
    "tip_colors = [colormap[mapping[i]] if i in mapping else 'Black' for i in tipnames]\n",
    "\n",
    "canvas,t,r=tre.draw(layout='r',width=1000,height=1400,tip_labels_colors=tip_colors,\n",
    "                    scalebar=True,);"
   ]
  },
  {
   "cell_type": "markdown",
   "metadata": {},
   "source": [
    "## integrate previously aligned bam files together and call variants\n",
    "\n",
    "This allows us to join previously mapped results together in one call without re-aligning"
   ]
  },
  {
   "cell_type": "code",
   "execution_count": 295,
   "metadata": {},
   "outputs": [
    {
     "name": "stdout",
     "output_type": "stream",
     "text": [
      "538\n"
     ]
    },
    {
     "data": {
      "text/plain": [
       "'/storage/btbgenie/all_ireland_results/samples.txt'"
      ]
     },
     "execution_count": 295,
     "metadata": {},
     "output_type": "execute_result"
    }
   ],
   "source": [
    "#read in bam files\n",
    "mapped = {'wicklow':'/storage/btbgenie/wicklow_results/mapped/',\n",
    "          'cvrl':'/storage/btbgenie/cvrl_results/mapped/',\n",
    "          'misc':'/storage/btbgenie/misc_results/mapped/',\n",
    "          'monaghan':'/storage/btbgenie/monaghan/monaghan_results/mapped/',\n",
    "          'NI':'/storage/btbgenie/NI_results/','UK':'/storage/btbgenie/UK_results/mapped'}\n",
    "reload(app)\n",
    "bam_files=[]\n",
    "for m in mapped:\n",
    "    f=app.get_files_from_paths(mapped[m], '*.bam')\n",
    "    bam_files.extend(f)\n",
    "print (len(bam_files))\n",
    "\n",
    "outdir='/storage/btbgenie/all_ireland_results'\n",
    "df = app.get_samples(bam_files,sep='_')\n",
    "app.write_samples(df, outdir)"
   ]
  },
  {
   "cell_type": "markdown",
   "metadata": {},
   "source": [
    "## run previously aligned files"
   ]
  },
  {
   "cell_type": "code",
   "execution_count": null,
   "metadata": {},
   "outputs": [],
   "source": [
    "gff_file=os.path.join(outdir,'mbovis.gff')\n",
    "tools.gff_bcftools_format(app.mbovis_gb, gff_file)\n",
    "app.run_bamfiles(bam_files, app.mbovis_genome, outdir='/storage/btbgenie/all_ireland_results', threads=20,\n",
    "                 mask=app.mbovis_mask, gff_file=gff_file,\n",
    "                 custom_filters=True, overwrite=False)"
   ]
  },
  {
   "cell_type": "markdown",
   "metadata": {},
   "source": [
    "## spoligotypes of all samples"
   ]
  },
  {
   "cell_type": "code",
   "execution_count": 213,
   "metadata": {},
   "outputs": [
    {
     "name": "stdout",
     "output_type": "stream",
     "text": [
      "67\n"
     ]
    }
   ],
   "source": [
    "paths = {'Wicklow':'/storage/btbgenie/mbovis_ireland/Wicklow','Monaghan':'/storage/btbgenie/mbovis_ireland/Monaghan/',\n",
    "         'cvrl':'/storage/btbgenie/mbovis_ireland/CVRL',\n",
    "         'NI':'/storage/btbgenie/mbovis_ireland/NI/'}\n",
    "samples = []\n",
    "#paths = {'misc':'/storage/btbgenie/mbovis_ireland/Jun21/'}\n",
    "for p in paths:\n",
    "    f = app.get_files_from_paths(paths[p])   \n",
    "    df = app.get_samples(f,sep='_')\n",
    "    print (len(df['sample'].unique()))\n",
    "    df=df.drop_duplicates('sample')   \n",
    "    df['county'] = p   \n",
    "    samples.append(df)\n",
    "\n",
    "samples = pd.concat(samples)"
   ]
  },
  {
   "cell_type": "code",
   "execution_count": null,
   "metadata": {},
   "outputs": [],
   "source": [
    "reload(tools)\n",
    "res=[]\n",
    "for i,r in samples.iterrows():\n",
    "    f=r.filename\n",
    "    samp=r['sample']\n",
    "    b = tools.get_spoligotype(f,1e6)\n",
    "    sb = tools.get_sb_number(b)\n",
    "    print (f,samp,sb, b)\n",
    "    res.append([f,samp,sb,b])\n",
    "    \n",
    "res = pd.DataFrame(res,columns=['filename','sample','SB','code'])\n",
    "res.code.astype(object)\n",
    "#res.to_csv('/storage/btbgenie/all_ireland_results/spoligotypes.csv',index=False)"
   ]
  },
  {
   "cell_type": "code",
   "execution_count": 215,
   "metadata": {},
   "outputs": [],
   "source": [
    "#res.to_csv('/storage/btbgenie/all_ireland_results/misc_spoligotypes.csv',index=False)"
   ]
  },
  {
   "cell_type": "markdown",
   "metadata": {},
   "source": [
    "## clusters"
   ]
  },
  {
   "cell_type": "code",
   "execution_count": 219,
   "metadata": {},
   "outputs": [
    {
     "name": "stdout",
     "output_type": "stream",
     "text": [
      "TreeCluster.py  -i /storage/btbgenie/all_ireland_results/RAxML_bipartitions.variants -t 0.045\n",
      "TreeCluster.py  -i /storage/btbgenie/all_ireland_results/RAxML_bipartitions.variants -t 0.02\n"
     ]
    }
   ],
   "source": [
    "def run_tree_cluster(f,dist):\n",
    "    \n",
    "    cmd = 'TreeCluster.py  -i {f} -t {d}'.format(f=f,d=dist)\n",
    "    print (cmd)\n",
    "    cl=subprocess.check_output(cmd, shell=True)\n",
    "    cl=pd.read_csv(io.BytesIO(cl),sep='\\t')\n",
    "    return cl\n",
    "\n",
    "res=pd.DataFrame()\n",
    "for d in [0.045,0.02]:    \n",
    "    cl = run_tree_cluster('%s/RAxML_bipartitions.variants' %path, d)\n",
    "    res['name']=cl.SequenceName\n",
    "    res[d] = cl.ClusterNumber\n",
    "    \n",
    "    \n",
    "#print (res[0.02].value_counts())"
   ]
  },
  {
   "cell_type": "code",
   "execution_count": null,
   "metadata": {},
   "outputs": [],
   "source": [
    "meta.county.value_counts()"
   ]
  },
  {
   "cell_type": "code",
   "execution_count": 261,
   "metadata": {},
   "outputs": [],
   "source": [
    "spo = pd.read_csv('/storage/btbgenie/all_ireland_results/spoligotypes.csv')\n",
    "clust = pd.read_csv('/storage/btbgenie/all_ireland_results/clusters.txt',sep='\\t')"
   ]
  },
  {
   "cell_type": "code",
   "execution_count": 266,
   "metadata": {},
   "outputs": [
    {
     "data": {
      "text/plain": [
       "526"
      ]
     },
     "execution_count": 266,
     "metadata": {},
     "output_type": "execute_result"
    }
   ],
   "source": [
    "meta = meta.merge(spo,on='sample',how='left')\n",
    "meta = meta.drop('code',1)\n",
    "meta = meta.merge(clust,left_on='sample',right_on='SequenceName')\n",
    "len(meta)"
   ]
  },
  {
   "cell_type": "code",
   "execution_count": null,
   "metadata": {},
   "outputs": [],
   "source": [
    "meta[meta.county=='Cork']"
   ]
  },
  {
   "cell_type": "markdown",
   "metadata": {},
   "source": [
    "## assign clade names?"
   ]
  },
  {
   "cell_type": "code",
   "execution_count": 268,
   "metadata": {},
   "outputs": [
    {
     "data": {
      "text/plain": [
       "{8: 'Clare-93',\n",
       " 18: 'Clare-46',\n",
       " 15: 'Monaghan-75',\n",
       " 9: 'Monaghan-63',\n",
       " 1: 'Monaghan-31',\n",
       " 20: 'NI-31',\n",
       " 11: 'Wicklow-46'}"
      ]
     },
     "execution_count": 268,
     "metadata": {},
     "output_type": "execute_result"
    }
   ],
   "source": [
    "clmap={}\n",
    "for n,g in meta.groupby('county'):\n",
    "    c = g.value_counts('ClusterNumber')\n",
    "    c = c[c>10]\n",
    "    for i,r in c.iteritems():\n",
    "        clmap[i]=n+'-'+str(r)\n",
    "clmap"
   ]
  },
  {
   "cell_type": "code",
   "execution_count": 269,
   "metadata": {},
   "outputs": [],
   "source": [
    "#clmap = {5:'NI-1',7:'Wicklow-1',4:'Monaghan-1',3:'Monaghan-2',6:'Monaghan-3',-1:'Unknown',10:'Clare-1'}\n",
    "meta['clade'] = meta.ClusterNumber.map(clmap)"
   ]
  },
  {
   "cell_type": "code",
   "execution_count": 270,
   "metadata": {},
   "outputs": [],
   "source": [
    "meta\n",
    "meta.to_csv('/storage/btbgenie/mbovis_ireland/ireland_metadata.csv',index=False)"
   ]
  },
  {
   "cell_type": "markdown",
   "metadata": {},
   "source": [
    "## draw all ireland tree"
   ]
  },
  {
   "cell_type": "code",
   "execution_count": 289,
   "metadata": {},
   "outputs": [],
   "source": [
    "treefile = '/storage/btbgenie/all_ireland_results/tree.newick'\n",
    "tre = toytree.tree(treefile)\n",
    "#canvas,t,r=tre.draw(layout='c')"
   ]
  },
  {
   "cell_type": "code",
   "execution_count": null,
   "metadata": {},
   "outputs": [],
   "source": [
    "reload(trees)\n",
    "#tre = tre.root('TB20-002800')\n",
    "tipnames = tre.get_tip_labels()\n",
    "mapping = dict(zip(meta['sample'],meta.clade))\n",
    "#mapping['ref'] = 'AF2122/97'\n",
    "tiplabels = [mapping[i] if i in mapping else 'NA' for i in tipnames]\n",
    "\n",
    "mapping = dict(zip(meta['sample'],meta.county))\n",
    "colormap = trees.colors_from_labels(meta,'name','county')\n",
    "print (colormap)\n",
    "tip_colors = [colormap[mapping[i]] if i in mapping else 'Black' for i in tipnames]\n",
    "tip_labels_style={      \n",
    "        \"font-size\": \"6px\",\n",
    "        \"-toyplot-anchor-shift\": \"13px\",\n",
    "    }\n",
    "node_sizes=[0 if i else 5 for i in tre.get_node_values(None, 1, 0)]\n",
    "node_colors = [colormap[mapping[n]] if n in mapping else 'black' for n in tre.get_node_values('name', True, True)]\n",
    "\n",
    "canvas,t,r=tre.draw(layout='r',width=1200,height=1300,node_markers=\"o\",node_hover=True, node_sizes=node_sizes,\n",
    "                    tip_labels=False,tip_labels_style=tip_labels_style,node_colors=node_colors,\n",
    "                    tip_labels_colors=tip_colors,scalebar=True,edge_widths=1);\n",
    "#toyplot.pdf.render(canvas,'/storage/btbgenie/all_ireland_results/ireland_tree.pdf')"
   ]
  },
  {
   "cell_type": "markdown",
   "metadata": {},
   "source": [
    "## draw trees"
   ]
  },
  {
   "cell_type": "code",
   "execution_count": null,
   "metadata": {},
   "outputs": [],
   "source": [
    "reload(trees)\n",
    "from ete3 import CircleFace, TreeStyle, NodeStyle, RectFace, TextFace\n",
    "treefile = '/storage/btbgenie/all_ireland_results/RAxML_bipartitions.variants'\n",
    "\n",
    "def make_tree():\n",
    "    \n",
    "    labelmap = dict(zip(meta['name'],meta.species))\n",
    "    colormap = trees.colors_from_labels(meta,'name','county')\n",
    "    t,ts = trees.create_tree(treefile, 'ref', colormap=colormap)  #labelmap=labelmap\n",
    "    colors = {'wicklow': 'blue', 'monaghan': 'green','NI':'crimson'}\n",
    "    for i in colors:\n",
    "        f=ts.legend.add_face(\n",
    "                TextFace(text=i,fgcolor=colors[i],fsize=28),            \n",
    "                column=0)\n",
    "    return t\n",
    "\n",
    "t = make_tree()\n",
    "ts=TreeStyle()\n",
    "ts.scale=8000\n",
    "t.render(\"%%inline\",tree_style=ts,w=1000)"
   ]
  },
  {
   "cell_type": "code",
   "execution_count": null,
   "metadata": {},
   "outputs": [],
   "source": [
    "t = make_tree()\n",
    "#out = t.get_common_ancestor(\"19-4281\", \"19-2438\", \"461\")\n",
    "#out.delete()"
   ]
  },
  {
   "cell_type": "code",
   "execution_count": null,
   "metadata": {},
   "outputs": [],
   "source": [
    "def color_clades(t):\n",
    "    wick = t.get_common_ancestor(\"19-11957\", \"43-MBovis\")\n",
    "    mon = t.get_common_ancestor(\"19-7433\", \"19-6796\")\n",
    "    mon2 = t.get_common_ancestor(\"548\", \"2703\")\n",
    "    ni = t.get_common_ancestor(\"ERR125607\",\"ERR125601\")\n",
    "\n",
    "    colors=['LightSteelBlue','lightgreen','lightgreen','salmon']\n",
    "    for common,clr in zip([wick,mon,mon2,ni],colors):\n",
    "        nodesinbranch = [node for node in common.traverse()]\n",
    "        nstyle1=NodeStyle()\n",
    "        nstyle1['bgcolor']=clr\n",
    "        common.set_style(nstyle1)\n",
    "        \n",
    "color_clades(t)"
   ]
  },
  {
   "cell_type": "code",
   "execution_count": null,
   "metadata": {},
   "outputs": [],
   "source": [
    "reload(trees)\n",
    "ts=TreeStyle()\n",
    "ts.scale=9000\n",
    "ts.show_leaf_name = False\n",
    "trees.set_nodesize(t, 40)\n",
    "ts.mode = 'c'\n",
    "t.render(\"%%inline\",tree_style=ts,w=800)\n",
    "#t.render(\"/storage/btbgenie/all_ireland.png\",tree_style=ts,w=2000)"
   ]
  },
  {
   "cell_type": "code",
   "execution_count": null,
   "metadata": {},
   "outputs": [],
   "source": [
    "samples.county.value_counts()\n",
    "print (samples)"
   ]
  },
  {
   "cell_type": "code",
   "execution_count": null,
   "metadata": {},
   "outputs": [],
   "source": [
    "colormap = trees.colors_from_labels(spo,'sample','SB')\n",
    "labelmap = dict(zip(spo['sample'],spo.SB))\n",
    "t,ts = trees.create_tree(treefile, 'ref')#, colormap=colormap, labelmap=labelmap)\n",
    "color_clades(t)\n",
    "trees.color_leaves(t, colormap)\n",
    "trees.set_tiplabels(t,labelmap)\n",
    "colors = {'wicklow': 'blue', 'monaghan': 'green','NI':'crimson'}\n",
    "for i in colors:\n",
    "       f=ts.legend.add_face(\n",
    "             TextFace(text=i,fgcolor=colors[i],fsize=28),            \n",
    "              column=0)"
   ]
  },
  {
   "cell_type": "code",
   "execution_count": null,
   "metadata": {},
   "outputs": [],
   "source": [
    "ts.mode = 'c'\n",
    "trees.set_nodesize(t, 10)\n",
    "ts.scale=2000\n",
    "t.render(\"%%inline\",tree_style=ts,w=800)\n",
    "#t.render(\"/storage/btbgenie/sb_tree.png\",tree_style=ts,w=2000)"
   ]
  },
  {
   "cell_type": "markdown",
   "metadata": {},
   "source": [
    "## SNP analysis\n",
    "\n",
    "* snps unique to each clade/county\n",
    "* protein groups containing common snps"
   ]
  },
  {
   "cell_type": "code",
   "execution_count": 253,
   "metadata": {},
   "outputs": [],
   "source": [
    "csq = app.read_csq_file('/storage/btbgenie/all_ireland_results/csq.tsv')\n",
    "snp_mat = app.get_aa_snp_matrix(csq)\n",
    "#csq_ind = app.read_csq_file('/storage/btbgenie/all_ireland_results/csq_indels.tsv')\n",
    "#ind_mat = app.get_aa_snp_matrix(csq_ind)"
   ]
  },
  {
   "cell_type": "code",
   "execution_count": 254,
   "metadata": {},
   "outputs": [],
   "source": [
    "mat = snp_mat\n",
    "\n",
    "#labelmap = dict(zip(meta['name'],meta.county))\n",
    "#mat = mat.rename(columns=labelmap)\n",
    "#freqs = mat.sum(1)/len(mat.columns)\n",
    "#freqs =freqs.rename('freq') \n",
    "#freqs.sort_values()\n",
    "#freqs.hist(bins=20)"
   ]
  },
  {
   "cell_type": "code",
   "execution_count": 255,
   "metadata": {},
   "outputs": [],
   "source": [
    "#mat.index = mat.index.get_level_values(1)+'_'+mat.index.get_level_values(2)\n",
    "stat = mat.sum(1).reset_index()\n",
    "#stat.gene.value_counts()[:30]"
   ]
  },
  {
   "cell_type": "code",
   "execution_count": 256,
   "metadata": {},
   "outputs": [
    {
     "name": "stderr",
     "output_type": "stream",
     "text": [
      "/usr/local/lib/python3.9/dist-packages/pandas/core/reshape/merge.py:648: UserWarning: merging between different levels can give an unintended result (4 levels on the left,1 on the right)\n",
      "  warnings.warn(msg, UserWarning)\n"
     ]
    }
   ],
   "source": [
    "cols=['sample','county','SB','ClusterNumber','clade']\n",
    "C=mat.T\n",
    "\n",
    "C=C.merge(meta[cols],left_index=True,right_on='sample').set_index(cols).T\n",
    "#print (C)\n",
    "C=C[C.sum(1)>3].T\n",
    "C.iloc[:4,:2]\n",
    "C.to_csv('csq_snps_ireland.csv')"
   ]
  },
  {
   "cell_type": "code",
   "execution_count": 257,
   "metadata": {},
   "outputs": [],
   "source": [
    "counties = list(C.index.get_level_values(1))\n",
    "sb = list(C.index.get_level_values(2))\n",
    "clust = C.index.get_level_values(3)\n",
    "clades = C.index.get_level_values(4)"
   ]
  },
  {
   "cell_type": "code",
   "execution_count": null,
   "metadata": {},
   "outputs": [],
   "source": [
    "colormap1 = dict(zip(clades.unique(), trees.qcolors))\n",
    "#colormap1 = {'Wicklow-1': 'green', 'Monaghan-3': 'red', np.nan: 'gray', \n",
    "#             'Monaghan-1': 'brown', 'Monaghan-2': 'burlywood', 'Unknown': 'lightblue', 'NI-1': 'blue'}\n",
    "colors1 = [colormap1[i] if i in colormap1 else 'Black' for i in clades]\n",
    "#make legend\n",
    "import matplotlib.patches as mpatches\n",
    "pts=[]\n",
    "for c in colormap1:\n",
    "    pts.append(mpatches.Patch(color=colormap1[c],label=c))\n",
    "g=sns.clustermap(C,xticklabels=False,yticklabels=False,figsize=(17,12),cmap='gray_r',cbar_pos=None,row_colors=colors1)\n",
    "g.fig.legend(handles=pts,bbox_to_anchor=(1.05, 1), )\n",
    "g.savefig('/storage/btbgenie/all_ireland_results/snp_clusters.jpg')"
   ]
  },
  {
   "cell_type": "markdown",
   "metadata": {},
   "source": [
    "## PCA"
   ]
  },
  {
   "cell_type": "code",
   "execution_count": 264,
   "metadata": {},
   "outputs": [
    {
     "data": {
      "image/png": "[encoded data removed]",
      "text/plain": [
       "<Figure size 504x504 with 1 Axes>"
      ]
     },
     "metadata": {
      "needs_background": "light"
     },
     "output_type": "display_data"
    }
   ],
   "source": [
    "import sklearn\n",
    "from sklearn import decomposition\n",
    "from sklearn import manifold\n",
    "\n",
    "pca = decomposition.PCA(n_components=3)\n",
    "mds = manifold.MDS(n_components=3)\n",
    "pos = mds.fit(C).embedding_\n",
    "X = pca.fit_transform(pos)\n",
    "#X = pca.transform(C)\n",
    "df=pd.DataFrame(X)\n",
    "df['sb']=sb\n",
    "df.to_csv('/storage/btbgenie/all_ireland_results/pca_snp.csv')\n",
    "\n",
    "fig,ax = plt.subplots(figsize=(7, 7))\n",
    "sc=ax.scatter(X[:, 0], X[:, 1], c=colors1, s=100, alpha=.6)    \n",
    "ax.legend(handles=pts,loc='best')\n",
    "fig.savefig('/storage/btbgenie/all_ireland_results/pca_snp_clusters.jpg',dpi=150)"
   ]
  },
  {
   "cell_type": "markdown",
   "metadata": {},
   "source": [
    "## compare cvrl wgmlst tree"
   ]
  },
  {
   "cell_type": "code",
   "execution_count": 351,
   "metadata": {},
   "outputs": [
    {
     "data": {
      "text/plain": [
       "(<toyplot.canvas.Canvas at 0x7f1032dd6d00>,\n",
       " <toyplot.coordinates.Cartesian at 0x7f105bf5c850>,\n",
       " <toytree.Render.ToytreeMark at 0x7f1032389550>)"
      ]
     },
     "execution_count": 351,
     "metadata": {},
     "output_type": "execute_result"
    },
    {
     "data": {
      "text/html": [
       "<div class=\"toyplot\" id=\"t000db6709757469e8fbcccc95de38760\" style=\"text-align:center\"><svg class=\"toyplot-canvas-Canvas\" xmlns:toyplot=\"http://www.sandia.gov/toyplot\" xmlns:xlink=\"http://www.w3.org/1999/xlink\" xmlns=\"http://www.w3.org/2000/svg\" width=\"1000.0px\" height=\"1000.0px\" viewBox=\"0 0 1000.0 1000.0\" preserveAspectRatio=\"xMidYMid meet\" style=\"background-color:transparent;border-color:#292724;border-style:none;border-width:1.0;fill:rgb(16.1%,15.3%,14.1%);fill-opacity:1.0;font-family:Helvetica;font-size:12px;opacity:1.0;stroke:rgb(16.1%,15.3%,14.1%);stroke-opacity:1.0;stroke-width:1.0\" id=\"t1ac6205ac4f243e3a41c08510318b498\"><g class=\"toyplot-coordinates-Cartesian\" id=\"tf4067f3aebd841e4a73c7f8efa190c61\"><clipPath id=\"te6bf778a96124da9ac39dc922bc0d3e5\"><rect x=\"30.0\" y=\"30.0\" width=\"940.0\" height=\"940.0\"></rect></clipPath><g clip-path=\"url(#te6bf778a96124da9ac39dc922bc0d3e5)\"><g class=\"toytree-mark-Toytree\" id=\"t9b9ab244e6b54b0ebbc1e085f2a63b9d\"><g class=\"toytree-Edges\" style=\"fill:none;stroke:rgb(14.9%,14.9%,14.9%);stroke-linecap:round;stroke-opacity:1;stroke-width:1\"><path d=\"M 500.0 500.0 L 500.0 500.0 A -0.0 -0.0 0 0 1 500.0 500.0\" id=\"746,745\"></path><path d=\"M 500.0 500.0 L 500.0 500.0 A -0.0 -0.0 0 0 1 500.0 500.0\" id=\"745,744\"></path><path d=\"M 500.0 500.0 L 500.0 500.0 A -0.0 -0.0 0 0 1 500.0 500.0\" id=\"744,743\"></path><path d=\"M 500.0 500.0 L 500.0 500.0 A -0.0 -0.0 0 0 1 500.0 500.0\" id=\"743,742\"></path><path d=\"M 947.8 544.3 L 500.0 500.0 A -0.0 -0.0 0 0 0 500.0 500.0\" id=\"742,741\"></path><path d=\"M 500.0 500.0 L 500.0 500.0 A -0.0 -0.0 0 0 1 500.0 500.0\" id=\"742,740\"></path><path d=\"M 947.1 550.9 L 947.1 550.9 A 450.0 450.0 0 0 0 947.8 544.3\" id=\"741,739\"></path><path d=\"M 897.4 565.7 L 500.0 500.0 A -0.0 -0.0 0 0 0 500.0 500.0\" id=\"740,738\"></path><path d=\"M 500.0 500.0 L 500.0 500.0 A -0.0 -0.0 0 0 1 500.0 500.0\" id=\"740,737\"></path><path d=\"M 946.4 556.5 L 946.4 556.5 A 450.0 450.0 0 0 0 947.1 550.9\" id=\"739,736\"></path><path d=\"M 898.7 571.1 L 896.5 570.7 A 402.8 402.8 0 0 0 897.4 565.7\" id=\"738,735\"></path><path d=\"M 880.4 582.7 L 500.0 500.0 A -0.0 -0.0 0 0 0 500.0 500.0\" id=\"737,734\"></path><path d=\"M 500.0 500.0 L 500.0 500.0 A -0.0 -0.0 0 0 1 500.0 500.0\" id=\"737,733\"></path><path d=\"M 907.8 594.1 L 879.3 587.5 A 389.2 389.2 0 0 0 880.4 582.7\" id=\"734,732\"></path><path d=\"M 839.4 605.9 L 500.0 500.0 A -0.0 -0.0 0 0 0 500.0 500.0\" id=\"733,731\"></path><path d=\"M 492.4 539.8 L 500.0 500.0 A -0.0 -0.0 0 0 0 500.0 500.0\" id=\"733,730\"></path><path d=\"M 873.3 602.0 L 842.9 593.7 A 355.5 355.5 0 0 1 839.4 605.9\" id=\"731,729\"></path><path d=\"M 856.6 625.5 L 835.3 618.0 A 355.5 355.5 0 0 0 839.4 605.9\" id=\"731,728\"></path><path d=\"M 623.1 888.2 L 512.2 538.6 A 40.5 40.5 0 0 1 492.4 539.8\" id=\"730,727\"></path><path d=\"M 445.9 566.2 L 474.4 531.4 A 40.5 40.5 0 0 0 492.4 539.8\" id=\"730,726\"></path><path d=\"M 904.2 616.8 L 871.8 607.5 A 387.0 387.0 0 0 0 873.3 602.0\" id=\"729,725\"></path><path d=\"M 868.9 637.8 L 854.1 632.3 A 378.0 378.0 0 0 0 856.6 625.5\" id=\"728,724\"></path><path d=\"M 609.1 894.7 L 608.5 892.5 A 407.3 407.3 0 0 0 623.1 888.2\" id=\"727,723\"></path><path d=\"M 350.3 643.0 L 438.2 559.1 A 85.5 85.5 0 0 0 445.9 566.2\" id=\"726,722\"></path><path d=\"M 928.5 629.8 L 902.7 621.9 A 420.7 420.7 0 0 0 904.2 616.8\" id=\"725,721\"></path><path d=\"M 865.8 645.6 L 865.8 645.6 A 393.7 393.7 0 0 0 868.9 637.8\" id=\"724,720\"></path><path d=\"M 635.7 919.6 L 626.1 889.6 A 409.5 409.5 0 0 1 609.1 894.7\" id=\"723,719\"></path><path d=\"M 593.5 905.6 L 592.0 899.0 A 409.5 409.5 0 0 0 609.1 894.7\" id=\"723,718\"></path><path d=\"M 294.7 621.4 L 321.8 605.3 A 207.0 207.0 0 0 0 350.3 643.0\" id=\"722,717\"></path><path d=\"M 864.0 656.0 L 861.9 655.1 A 393.7 393.7 0 0 0 865.8 645.6\" id=\"720,716\"></path><path d=\"M 630.9 925.8 L 629.6 921.5 A 441.0 441.0 0 0 0 635.7 919.6\" id=\"719,715\"></path><path d=\"M 581.0 915.2 L 579.7 908.5 A 416.2 416.2 0 0 0 593.5 905.6\" id=\"718,714\"></path><path d=\"M 341.7 715.9 L 359.0 692.3 A 238.5 238.5 0 0 1 294.7 621.4\" id=\"717,713\"></path><path d=\"M 261.3 531.1 L 263.5 530.8 A 238.5 238.5 0 0 0 294.7 621.4\" id=\"717,712\"></path><path d=\"M 860.3 669.7 L 858.2 668.8 A 396.0 396.0 0 0 0 864.0 656.0\" id=\"716,711\"></path><path d=\"M 625.5 927.5 L 625.5 927.5 A 445.5 445.5 0 0 0 630.9 925.8\" id=\"715,710\"></path><path d=\"M 599.6 915.7 L 598.6 911.4 A 423.0 423.0 0 0 1 581.0 915.2\" id=\"714,709\"></path><path d=\"M 563.9 922.7 L 563.3 918.2 A 423.0 423.0 0 0 0 581.0 915.2\" id=\"714,708\"></path><path d=\"M 244.1 870.2 L 347.8 720.3 A 267.7 267.7 0 0 1 341.7 715.9\" id=\"713,707\"></path><path d=\"M 247.4 825.2 L 335.7 711.4 A 267.7 267.7 0 0 0 341.7 715.9\" id=\"713,706\"></path><path d=\"M 255.4 705.6 L 315.7 654.9 A 240.7 240.7 0 0 1 261.3 531.1\" id=\"712,705\"></path><path d=\"M 278.1 395.5 L 282.2 397.5 A 240.7 240.7 0 0 0 261.3 531.1\" id=\"712,704\"></path><path d=\"M 908.4 672.2 L 867.0 654.7 A 398.3 398.3 0 0 1 860.3 669.7\" id=\"711,703\"></path><path d=\"M 856.9 686.6 L 853.0 684.5 A 398.3 398.3 0 0 0 860.3 669.7\" id=\"711,702\"></path><path d=\"M 538.5 925.8 L 538.5 925.8 A 427.5 427.5 0 0 0 563.9 922.7\" id=\"708,701\"></path><path d=\"M 216.1 843.3 L 237.6 817.3 A 411.7 411.7 0 0 0 247.4 825.2\" id=\"706,700\"></path><path d=\"M 217.2 790.0 L 276.9 728.7 A 319.5 319.5 0 0 1 255.4 705.6\" id=\"705,699\"></path><path d=\"M 173.2 723.6 L 236.3 680.4 A 319.5 319.5 0 0 0 255.4 705.6\" id=\"705,698\"></path><path d=\"M 253.5 522.1 L 255.7 521.9 A 245.2 245.2 0 0 1 278.1 395.5\" id=\"704,697\"></path><path d=\"M 359.9 296.0 L 361.2 297.8 A 245.2 245.2 0 0 0 278.1 395.5\" id=\"704,696\"></path><path d=\"M 908.3 678.2 L 906.2 677.3 A 443.2 443.2 0 0 0 908.4 672.2\" id=\"703,695\"></path><path d=\"M 848.2 702.4 L 848.2 702.4 A 402.8 402.8 0 0 0 856.9 686.6\" id=\"702,694\"></path><path d=\"M 571.6 932.9 L 569.8 921.8 A 427.5 427.5 0 0 1 538.5 925.8\" id=\"701,693\"></path><path d=\"M 507.2 934.2 L 507.0 927.5 A 427.5 427.5 0 0 0 538.5 925.8\" id=\"701,692\"></path><path d=\"M 224.3 855.7 L 227.1 852.1 A 445.5 445.5 0 0 1 216.1 843.3\" id=\"700,691\"></path><path d=\"M 204.0 835.9 L 205.4 834.2 A 445.5 445.5 0 0 0 216.1 843.3\" id=\"700,690\"></path><path d=\"M 185.5 792.9 L 210.2 769.9 A 396.0 396.0 0 0 1 173.2 723.6\" id=\"698,689\"></path><path d=\"M 127.3 680.2 L 143.5 672.4 A 396.0 396.0 0 0 0 173.2 723.6\" id=\"698,688\"></path><path d=\"M 246.0 511.2 L 252.7 510.9 A 247.5 247.5 0 0 0 253.5 522.1\" id=\"697,687\"></path><path d=\"M 247.2 426.5 L 262.4 430.9 A 247.5 247.5 0 0 1 359.9 296.0\" id=\"696,686\"></path><path d=\"M 532.8 112.1 L 520.9 253.4 A 247.5 247.5 0 0 0 359.9 296.0\" id=\"696,685\"></path><path d=\"M 875.4 694.9 L 857.5 685.6 A 402.8 402.8 0 0 1 848.2 702.4\" id=\"694,684\"></path><path d=\"M 838.2 718.7 L 838.2 718.7 A 402.8 402.8 0 0 0 848.2 702.4\" id=\"694,683\"></path><path d=\"M 582.7 942.3 L 580.6 931.3 A 438.7 438.7 0 0 1 571.6 932.9\" id=\"693,682\"></path><path d=\"M 562.9 936.5 L 562.6 934.3 A 438.7 438.7 0 0 0 571.6 932.9\" id=\"693,681\"></path><path d=\"M 496.1 934.2 L 496.1 934.2 A 434.3 434.3 0 0 0 507.2 934.2\" id=\"692,680\"></path><path d=\"M 219.9 852.2 L 219.9 852.2 A 450.0 450.0 0 0 0 224.3 855.7\" id=\"691,679\"></path><path d=\"M 208.2 842.6 L 209.6 840.8 A 447.7 447.7 0 0 1 204.0 835.9\" id=\"690,678\"></path><path d=\"M 196.8 832.6 L 198.4 830.9 A 447.7 447.7 0 0 0 204.0 835.9\" id=\"690,677\"></path><path d=\"M 172.1 791.5 L 178.8 785.5 A 429.8 429.8 0 0 0 185.5 792.9\" id=\"689,676\"></path><path d=\"M 100.6 707.3 L 132.6 690.7 A 414.0 414.0 0 0 1 127.3 680.2\" id=\"688,675\"></path><path d=\"M 101.8 678.8 L 122.3 669.6 A 414.0 414.0 0 0 0 127.3 680.2\" id=\"688,674\"></path><path d=\"M 74.7 543.5 L 247.1 525.9 A 254.2 254.2 0 0 1 246.0 511.2\" id=\"687,673\"></path><path d=\"M 223.3 496.2 L 245.8 496.5 A 254.2 254.2 0 0 0 246.0 511.2\" id=\"687,672\"></path><path d=\"M 68.1 390.7 L 244.8 435.4 A 263.2 263.2 0 0 1 247.2 426.5\" id=\"686,671\"></path><path d=\"M 237.2 413.4 L 250.0 417.6 A 263.2 263.2 0 0 0 247.2 426.5\" id=\"686,670\"></path><path d=\"M 493.9 92.8 L 494.2 110.8 A 389.2 389.2 0 0 1 532.8 112.1\" id=\"685,669\"></path><path d=\"M 572.0 112.9 L 571.1 117.3 A 389.2 389.2 0 0 0 532.8 112.1\" id=\"685,668\"></path><path d=\"M 902.8 700.6 L 878.7 688.5 A 423.0 423.0 0 0 1 875.4 694.9\" id=\"684,667\"></path><path d=\"M 895.9 714.0 L 872.1 701.2 A 423.0 423.0 0 0 0 875.4 694.9\" id=\"684,666\"></path><path d=\"M 859.9 713.5 L 846.4 705.5 A 402.8 402.8 0 0 1 838.2 718.7\" id=\"683,665\"></path><path d=\"M 831.3 732.9 L 829.5 731.6 A 402.8 402.8 0 0 0 838.2 718.7\" id=\"683,664\"></path><path d=\"M 555.9 939.7 L 555.6 937.5 A 441.0 441.0 0 0 0 562.9 936.5\" id=\"681,663\"></path><path d=\"M 507.4 943.2 L 507.3 934.2 A 434.3 434.3 0 0 1 496.1 934.2\" id=\"680,662\"></path><path d=\"M 484.8 936.2 L 484.8 934.0 A 434.3 434.3 0 0 0 496.1 934.2\" id=\"680,661\"></path><path d=\"M 160.2 784.7 L 163.7 781.8 A 438.7 438.7 0 0 0 172.1 791.5\" id=\"676,660\"></path><path d=\"M 90.1 668.8 L 96.4 666.2 A 436.5 436.5 0 0 0 101.8 678.8\" id=\"674,659\"></path><path d=\"M 62.9 537.7 L 74.1 536.8 A 427.5 427.5 0 0 0 74.7 543.5\" id=\"673,658\"></path><path d=\"M 207.6 506.1 L 223.3 505.8 A 276.7 276.7 0 0 1 223.3 496.2\" id=\"672,657\"></path><path d=\"M 196.6 485.3 L 223.6 486.6 A 276.7 276.7 0 0 0 223.3 496.2\" id=\"672,656\"></path><path d=\"M 65.2 384.1 L 69.5 385.3 A 445.5 445.5 0 0 0 68.1 390.7\" id=\"671,655\"></path><path d=\"M 233.8 402.5 L 240.1 404.8 A 276.7 276.7 0 0 0 237.2 413.4\" id=\"670,654\"></path><path d=\"M 477.4 52.8 L 479.5 93.3 A 407.3 407.3 0 0 1 493.9 92.8\" id=\"669,653\"></path><path d=\"M 508.4 90.6 L 508.3 92.8 A 407.3 407.3 0 0 0 493.9 92.8\" id=\"669,652\"></path><path d=\"M 600.6 119.3 L 600.6 119.3 A 393.7 393.7 0 0 0 572.0 112.9\" id=\"668,651\"></path><path d=\"M 864.4 723.5 L 856.7 718.8 A 418.5 418.5 0 0 0 859.9 713.5\" id=\"665,650\"></path><path d=\"M 825.5 741.1 L 825.5 741.1 A 405.0 405.0 0 0 0 831.3 732.9\" id=\"664,649\"></path><path d=\"M 548.8 940.6 L 548.8 940.6 A 443.2 443.2 0 0 0 555.9 939.7\" id=\"663,648\"></path><path d=\"M 473.1 937.9 L 473.2 935.7 A 436.5 436.5 0 0 0 484.8 936.2\" id=\"661,647\"></path><path d=\"M 145.1 772.9 L 148.6 770.2 A 443.2 443.2 0 0 0 160.2 784.7\" id=\"660,646\"></path><path d=\"M 82.8 649.7 L 82.8 649.7 A 443.2 443.2 0 0 0 90.1 668.8\" id=\"659,645\"></path><path d=\"M 60.1 531.5 L 62.4 531.3 A 438.7 438.7 0 0 0 62.9 537.7\" id=\"658,644\"></path><path d=\"M 110.8 503.3 L 207.5 502.5 A 292.5 292.5 0 0 0 207.6 506.1\" id=\"657,643\"></path><path d=\"M 98.5 467.8 L 197.2 475.7 A 303.7 303.7 0 0 0 196.6 485.3\" id=\"656,642\"></path><path d=\"M 238.9 389.6 L 238.9 389.6 A 283.5 283.5 0 0 0 233.8 402.5\" id=\"654,641\"></path><path d=\"M 469.8 51.0 L 469.9 53.3 A 447.7 447.7 0 0 1 477.4 52.8\" id=\"653,640\"></path><path d=\"M 484.9 50.3 L 485.0 52.5 A 447.7 447.7 0 0 0 477.4 52.8\" id=\"653,639\"></path><path d=\"M 500.0 56.7 L 500.0 90.5 A 409.5 409.5 0 0 1 508.4 90.6\" id=\"652,638\"></path><path d=\"M 517.5 72.8 L 516.8 90.8 A 409.5 409.5 0 0 0 508.4 90.6\" id=\"652,637\"></path><path d=\"M 558.7 90.2 L 555.8 110.2 A 393.7 393.7 0 0 1 600.6 119.3\" id=\"651,636\"></path><path d=\"M 644.1 133.6 L 644.1 133.6 A 393.7 393.7 0 0 0 600.6 119.3\" id=\"651,635\"></path><path d=\"M 863.5 729.3 L 861.6 728.1 A 427.5 427.5 0 0 0 864.4 723.5\" id=\"650,634\"></path><path d=\"M 819.2 753.0 L 817.4 751.6 A 405.0 405.0 0 0 0 825.5 741.1\" id=\"649,633\"></path><path d=\"M 542.2 945.8 L 541.8 941.3 A 443.2 443.2 0 0 0 548.8 940.6\" id=\"648,632\"></path><path d=\"M 457.2 936.7 L 457.2 936.7 A 438.7 438.7 0 0 0 473.1 937.9\" id=\"647,631\"></path><path d=\"M 157.6 792.0 L 159.3 790.5 A 447.7 447.7 0 0 1 145.1 772.9\" id=\"646,630\"></path><path d=\"M 129.9 755.9 L 131.7 754.6 A 447.7 447.7 0 0 0 145.1 772.9\" id=\"646,629\"></path><path d=\"M 90.3 674.9 L 92.3 674.0 A 443.2 443.2 0 0 1 82.8 649.7\" id=\"645,628\"></path><path d=\"M 72.5 625.5 L 74.7 624.9 A 443.2 443.2 0 0 0 82.8 649.7\" id=\"645,627\"></path><path d=\"M 55.3 526.2 L 59.8 525.9 A 441.0 441.0 0 0 0 60.1 531.5\" id=\"644,626\"></path><path d=\"M 79.6 482.3 L 97.6 483.1 A 402.8 402.8 0 0 1 98.5 467.8\" id=\"642,625\"></path><path d=\"M 97.8 452.3 L 100.0 452.5 A 402.8 402.8 0 0 0 98.5 467.8\" id=\"642,624\"></path><path d=\"M 102.1 356.3 L 233.3 403.7 A 283.5 283.5 0 0 1 238.9 389.6\" id=\"641,623\"></path><path d=\"M 233.0 370.0 L 245.1 375.9 A 283.5 283.5 0 0 0 238.9 389.6\" id=\"641,622\"></path><path d=\"M 525.4 53.0 L 524.2 73.2 A 427.5 427.5 0 0 0 517.5 72.8\" id=\"637,621\"></path><path d=\"M 565.7 89.0 L 565.4 91.2 A 414.0 414.0 0 0 0 558.7 90.2\" id=\"636,620\"></path><path d=\"M 602.4 112.8 L 600.6 119.3 A 393.7 393.7 0 0 1 644.1 133.6\" id=\"635,619\"></path><path d=\"M 686.6 150.7 L 685.6 152.7 A 393.7 393.7 0 0 0 644.1 133.6\" id=\"635,618\"></path><path d=\"M 806.5 768.1 L 806.5 768.1 A 407.3 407.3 0 0 0 819.2 753.0\" id=\"633,617\"></path><path d=\"M 535.7 946.3 L 535.7 946.3 A 447.7 447.7 0 0 0 542.2 945.8\" id=\"632,616\"></path><path d=\"M 477.3 949.4 L 477.9 938.2 A 438.7 438.7 0 0 1 457.2 936.7\" id=\"631,615\"></path><path d=\"M 436.7 934.2 L 436.7 934.2 A 438.7 438.7 0 0 0 457.2 936.7\" id=\"631,614\"></path><path d=\"M 152.9 786.4 L 152.9 786.4 A 450.0 450.0 0 0 0 157.6 792.0\" id=\"630,613\"></path><path d=\"M 125.6 749.7 L 125.6 749.7 A 450.0 450.0 0 0 0 129.9 755.9\" id=\"629,612\"></path><path d=\"M 87.4 668.1 L 87.4 668.1 A 445.5 445.5 0 0 0 90.3 674.9\" id=\"628,611\"></path><path d=\"M 68.3 618.9 L 70.5 618.3 A 445.5 445.5 0 0 0 72.5 625.5\" id=\"627,610\"></path><path d=\"M 51.4 464.1 L 96.3 467.7 A 405.0 405.0 0 0 1 97.8 452.3\" id=\"624,609\"></path><path d=\"M 86.6 434.8 L 99.9 436.9 A 405.0 405.0 0 0 0 97.8 452.3\" id=\"624,608\"></path><path d=\"M 78.2 356.7 L 99.5 363.9 A 423.0 423.0 0 0 1 102.1 356.3\" id=\"623,607\"></path><path d=\"M 102.8 348.0 L 104.9 348.9 A 423.0 423.0 0 0 0 102.1 356.3\" id=\"623,606\"></path><path d=\"M 93.8 322.7 L 227.8 381.2 A 297.0 297.0 0 0 1 233.0 370.0\" id=\"622,605\"></path><path d=\"M 236.6 357.9 L 238.6 359.0 A 297.0 297.0 0 0 0 233.0 370.0\" id=\"622,604\"></path><path d=\"M 532.1 51.1 L 531.9 53.4 A 447.7 447.7 0 0 0 525.4 53.0\" id=\"621,603\"></path><path d=\"M 573.0 85.6 L 572.2 90.1 A 416.2 416.2 0 0 0 565.7 89.0\" id=\"620,602\"></path><path d=\"M 598.6 88.6 L 593.3 110.5 A 400.5 400.5 0 0 1 602.4 112.8\" id=\"619,601\"></path><path d=\"M 612.6 110.9 L 611.3 115.3 A 400.5 400.5 0 0 0 602.4 112.8\" id=\"619,600\"></path><path d=\"M 673.4 111.7 L 661.5 138.4 A 396.0 396.0 0 0 1 686.6 150.7\" id=\"618,599\"></path><path d=\"M 715.7 157.2 L 710.9 164.8 A 396.0 396.0 0 0 0 686.6 150.7\" id=\"618,598\"></path><path d=\"M 851.6 769.9 L 823.1 748.0 A 407.3 407.3 0 0 1 806.5 768.1\" id=\"617,597\"></path><path d=\"M 790.3 788.8 L 788.8 787.2 A 407.3 407.3 0 0 0 806.5 768.1\" id=\"617,596\"></path><path d=\"M 530.2 949.0 L 530.1 946.7 A 447.7 447.7 0 0 0 535.7 946.3\" id=\"616,595\"></path><path d=\"M 458.7 948.1 L 459.7 936.9 A 438.7 438.7 0 0 1 436.7 934.2\" id=\"614,594\"></path><path d=\"M 413.3 932.4 L 413.7 930.2 A 438.7 438.7 0 0 0 436.7 934.2\" id=\"614,593\"></path><path d=\"M 148.4 780.9 L 148.4 780.9 A 450.0 450.0 0 0 0 152.9 786.4\" id=\"613,592\"></path><path d=\"M 121.6 743.5 L 121.6 743.5 A 450.0 450.0 0 0 0 125.6 749.7\" id=\"612,591\"></path><path d=\"M 84.8 661.4 L 84.8 661.4 A 445.5 445.5 0 0 0 87.4 668.1\" id=\"611,590\"></path><path d=\"M 66.4 611.7 L 66.4 611.7 A 447.7 447.7 0 0 0 68.3 618.9\" id=\"610,589\"></path><path d=\"M 51.9 458.5 L 51.9 458.5 A 450.0 450.0 0 0 0 51.4 464.1\" id=\"609,588\"></path><path d=\"M 73.9 444.2 L 85.0 445.7 A 418.5 418.5 0 0 1 86.6 434.8\" id=\"608,587\"></path><path d=\"M 66.3 419.9 L 88.5 424.0 A 418.5 418.5 0 0 0 86.6 434.8\" id=\"608,586\"></path><path d=\"M 81.8 333.9 L 104.8 343.1 A 425.3 425.3 0 0 0 102.8 348.0\" id=\"606,585\"></path><path d=\"M 104.0 311.1 L 229.9 371.1 A 299.2 299.2 0 0 1 236.6 357.9\" id=\"604,584\"></path><path d=\"M 244.0 345.0 L 244.0 345.0 A 299.2 299.2 0 0 0 236.6 357.9\" id=\"604,583\"></path><path d=\"M 537.8 51.6 L 537.8 51.6 A 450.0 450.0 0 0 0 532.1 51.1\" id=\"603,582\"></path><path d=\"M 583.3 64.6 L 579.0 86.7 A 420.7 420.7 0 0 0 573.0 85.6\" id=\"602,581\"></path><path d=\"M 622.2 109.1 L 620.8 113.4 A 405.0 405.0 0 0 0 612.6 110.9\" id=\"600,580\"></path><path d=\"M 755.4 182.8 L 754.0 184.5 A 405.0 405.0 0 0 0 715.7 157.2\" id=\"598,579\"></path><path d=\"M 850.7 778.4 L 847.2 775.6 A 443.2 443.2 0 0 0 851.6 769.9\" id=\"597,578\"></path><path d=\"M 777.5 801.1 L 777.5 801.1 A 409.5 409.5 0 0 0 790.3 788.8\" id=\"596,577\"></path><path d=\"M 451.4 947.4 L 451.4 947.4 A 450.0 450.0 0 0 0 458.7 948.1\" id=\"594,576\"></path><path d=\"M 404.0 930.4 L 404.0 930.4 A 441.0 441.0 0 0 0 413.3 932.4\" id=\"593,575\"></path><path d=\"M 144.3 775.7 L 144.3 775.7 A 450.0 450.0 0 0 0 148.4 780.9\" id=\"592,574\"></path><path d=\"M 117.7 737.3 L 117.7 737.3 A 450.0 450.0 0 0 0 121.6 743.5\" id=\"591,573\"></path><path d=\"M 80.2 655.6 L 82.3 654.8 A 445.5 445.5 0 0 0 84.8 661.4\" id=\"590,572\"></path><path d=\"M 64.6 604.5 L 64.6 604.5 A 447.7 447.7 0 0 0 66.4 611.7\" id=\"589,571\"></path><path d=\"M 56.8 436.3 L 74.6 438.8 A 429.8 429.8 0 0 0 73.9 444.2\" id=\"587,570\"></path><path d=\"M 60.9 412.2 L 67.6 413.5 A 441.0 441.0 0 0 0 66.3 419.9\" id=\"586,569\"></path><path d=\"M 161.8 321.3 L 235.4 360.2 A 299.2 299.2 0 0 1 244.0 345.0\" id=\"583,568\"></path><path d=\"M 247.9 326.5 L 253.5 330.3 A 299.2 299.2 0 0 0 244.0 345.0\" id=\"583,567\"></path><path d=\"M 590.1 59.1 L 588.8 65.7 A 443.2 443.2 0 0 0 583.3 64.6\" id=\"581,566\"></path><path d=\"M 635.1 103.9 L 632.2 112.4 A 409.5 409.5 0 0 0 622.2 109.1\" id=\"580,565\"></path><path d=\"M 702.5 141.5 L 700.3 145.4 A 407.3 407.3 0 0 1 755.4 182.8\" id=\"579,564\"></path><path d=\"M 805.4 227.2 L 803.7 228.7 A 407.3 407.3 0 0 0 755.4 182.8\" id=\"579,563\"></path><path d=\"M 848.0 785.3 L 846.3 783.9 A 447.7 447.7 0 0 0 850.7 778.4\" id=\"578,562\"></path><path d=\"M 755.7 819.9 L 755.7 819.9 A 409.5 409.5 0 0 0 777.5 801.1\" id=\"577,561\"></path><path d=\"M 444.4 946.6 L 444.4 946.6 A 450.0 450.0 0 0 0 451.4 947.4\" id=\"576,560\"></path><path d=\"M 392.8 927.8 L 392.8 927.8 A 441.0 441.0 0 0 0 404.0 930.4\" id=\"575,559\"></path><path d=\"M 140.9 771.2 L 140.9 771.2 A 450.0 450.0 0 0 0 144.3 775.7\" id=\"574,558\"></path><path d=\"M 114.0 731.2 L 114.0 731.2 A 450.0 450.0 0 0 0 117.7 737.3\" id=\"573,557\"></path><path d=\"M 77.9 649.4 L 77.9 649.4 A 447.7 447.7 0 0 0 80.2 655.6\" id=\"572,556\"></path><path d=\"M 62.9 597.2 L 62.9 597.2 A 447.7 447.7 0 0 0 64.6 604.5\" id=\"571,555\"></path><path d=\"M 62.1 406.7 L 62.1 406.7 A 447.7 447.7 0 0 0 60.9 412.2\" id=\"569,554\"></path><path d=\"M 162.7 314.9 L 164.7 316.0 A 382.5 382.5 0 0 0 161.8 321.3\" id=\"568,553\"></path><path d=\"M 169.8 289.7 L 241.9 335.6 A 306.0 306.0 0 0 1 247.9 326.5\" id=\"567,552\"></path><path d=\"M 252.5 316.2 L 254.3 317.6 A 306.0 306.0 0 0 0 247.9 326.5\" id=\"567,551\"></path><path d=\"M 630.7 81.2 L 624.6 100.5 A 418.5 418.5 0 0 1 635.1 103.9\" id=\"565,550\"></path><path d=\"M 648.6 99.1 L 645.4 107.6 A 418.5 418.5 0 0 0 635.1 103.9\" id=\"565,549\"></path><path d=\"M 698.9 108.9 L 686.6 133.0 A 411.7 411.7 0 0 1 702.5 141.5\" id=\"564,548\"></path><path d=\"M 720.3 146.8 L 718.0 150.7 A 411.7 411.7 0 0 0 702.5 141.5\" id=\"564,547\"></path><path d=\"M 817.0 240.7 L 817.0 240.7 A 409.5 409.5 0 0 0 805.4 227.2\" id=\"563,546\"></path><path d=\"M 843.8 790.4 L 843.8 790.4 A 450.0 450.0 0 0 0 848.0 785.3\" id=\"562,545\"></path><path d=\"M 786.2 799.1 L 783.1 795.9 A 409.5 409.5 0 0 1 755.7 819.9\" id=\"561,544\"></path><path d=\"M 726.2 841.3 L 726.2 841.3 A 409.5 409.5 0 0 0 755.7 819.9\" id=\"561,543\"></path><path d=\"M 437.8 945.7 L 437.8 945.7 A 450.0 450.0 0 0 0 444.4 946.6\" id=\"560,542\"></path><path d=\"M 377.7 923.7 L 377.7 923.7 A 441.0 441.0 0 0 0 392.8 927.8\" id=\"559,541\"></path><path d=\"M 110.6 725.5 L 110.6 725.5 A 450.0 450.0 0 0 0 114.0 731.2\" id=\"557,540\"></path><path d=\"M 76.1 644.1 L 76.1 644.1 A 447.7 447.7 0 0 0 77.9 649.4\" id=\"556,539\"></path><path d=\"M 61.4 590.1 L 61.4 590.1 A 447.7 447.7 0 0 0 62.9 597.2\" id=\"555,538\"></path><path d=\"M 147.8 300.0 L 165.5 310.0 A 384.7 384.7 0 0 0 162.7 314.9\" id=\"553,537\"></path><path d=\"M 123.5 253.5 L 172.4 285.6 A 391.5 391.5 0 0 0 169.8 289.7\" id=\"552,536\"></path><path d=\"M 257.2 306.5 L 258.9 307.9 A 308.2 308.2 0 0 0 252.5 316.2\" id=\"551,535\"></path><path d=\"M 648.4 75.2 L 641.0 96.4 A 427.5 427.5 0 0 1 648.6 99.1\" id=\"549,534\"></path><path d=\"M 661.0 89.5 L 656.1 102.0 A 427.5 427.5 0 0 0 648.6 99.1\" id=\"549,533\"></path><path d=\"M 709.7 119.7 L 701.0 135.5 A 416.2 416.2 0 0 1 720.3 146.8\" id=\"547,532\"></path><path d=\"M 741.6 155.5 L 739.0 159.2 A 416.2 416.2 0 0 0 720.3 146.8\" id=\"547,531\"></path><path d=\"M 810.5 222.8 L 805.5 227.3 A 409.5 409.5 0 0 1 817.0 240.7\" id=\"546,530\"></path><path d=\"M 854.9 234.4 L 827.9 254.7 A 409.5 409.5 0 0 0 817.0 240.7\" id=\"546,529\"></path><path d=\"M 840.1 794.7 L 840.1 794.7 A 450.0 450.0 0 0 0 843.8 790.4\" id=\"545,528\"></path><path d=\"M 816.3 813.7 L 794.0 791.5 A 414.0 414.0 0 0 1 786.2 799.1\" id=\"544,527\"></path><path d=\"M 781.3 809.9 L 778.3 806.5 A 414.0 414.0 0 0 0 786.2 799.1\" id=\"544,526\"></path><path d=\"M 749.6 827.5 L 748.2 825.7 A 409.5 409.5 0 0 1 726.2 841.3\" id=\"543,525\"></path><path d=\"M 704.4 857.5 L 703.2 855.5 A 409.5 409.5 0 0 0 726.2 841.3\" id=\"543,524\"></path><path d=\"M 432.2 944.9 L 432.2 944.9 A 450.0 450.0 0 0 0 437.8 945.7\" id=\"542,523\"></path><path d=\"M 394.4 932.8 L 395.4 928.4 A 441.0 441.0 0 0 1 377.7 923.7\" id=\"541,522\"></path><path d=\"M 360.1 918.2 L 360.1 918.2 A 441.0 441.0 0 0 0 377.7 923.7\" id=\"541,521\"></path><path d=\"M 107.8 720.6 L 107.8 720.6 A 450.0 450.0 0 0 0 110.6 725.5\" id=\"540,520\"></path><path d=\"M 60.0 583.2 L 60.0 583.2 A 447.7 447.7 0 0 0 61.4 590.1\" id=\"538,519\"></path><path d=\"M 148.4 294.4 L 150.4 295.5 A 405.0 405.0 0 0 0 147.8 300.0\" id=\"537,518\"></path><path d=\"M 265.7 292.9 L 267.4 294.4 A 310.5 310.5 0 0 0 257.2 306.5\" id=\"535,517\"></path><path d=\"M 668.7 85.3 L 666.2 91.5 A 441.0 441.0 0 0 0 661.0 89.5\" id=\"533,516\"></path><path d=\"M 721.9 134.6 L 718.4 140.4 A 420.7 420.7 0 0 1 741.6 155.5\" id=\"531,515\"></path><path d=\"M 766.6 168.7 L 763.7 172.2 A 420.7 420.7 0 0 0 741.6 155.5\" id=\"531,514\"></path><path d=\"M 811.9 210.9 L 805.2 217.0 A 416.2 416.2 0 0 1 810.5 222.8\" id=\"530,513\"></path><path d=\"M 820.8 224.3 L 815.7 228.7 A 416.2 416.2 0 0 0 810.5 222.8\" id=\"530,512\"></path><path d=\"M 851.0 225.6 L 849.2 227.0 A 443.2 443.2 0 0 1 854.9 234.4\" id=\"529,511\"></path><path d=\"M 862.3 240.7 L 860.4 242.0 A 443.2 443.2 0 0 0 854.9 234.4\" id=\"529,510\"></path><path d=\"M 807.2 825.8 L 787.1 804.5 A 418.5 418.5 0 0 1 781.3 809.9\" id=\"526,509\"></path><path d=\"M 796.1 838.8 L 775.4 815.1 A 418.5 418.5 0 0 0 781.3 809.9\" id=\"526,508\"></path><path d=\"M 780.1 852.2 L 756.3 822.2 A 411.7 411.7 0 0 1 749.6 827.5\" id=\"525,507\"></path><path d=\"M 750.7 843.5 L 742.8 832.6 A 411.7 411.7 0 0 0 749.6 827.5\" id=\"525,506\"></path><path d=\"M 694.8 862.8 L 694.8 862.8 A 411.7 411.7 0 0 0 704.4 857.5\" id=\"524,505\"></path><path d=\"M 388.4 933.6 L 388.9 931.4 A 445.5 445.5 0 0 0 394.4 932.8\" id=\"522,504\"></path><path d=\"M 374.5 927.5 L 375.8 923.1 A 441.0 441.0 0 0 1 360.1 918.2\" id=\"521,503\"></path><path d=\"M 344.7 912.8 L 344.7 912.8 A 441.0 441.0 0 0 0 360.1 918.2\" id=\"521,502\"></path><path d=\"M 58.9 576.7 L 58.9 576.7 A 447.7 447.7 0 0 0 60.0 583.2\" id=\"519,501\"></path><path d=\"M 179.5 245.1 L 255.2 305.3 A 312.7 312.7 0 0 1 265.7 292.9\" id=\"517,500\"></path><path d=\"M 263.9 268.4 L 276.7 281.0 A 312.7 312.7 0 0 0 265.7 292.9\" id=\"517,499\"></path><path d=\"M 729.1 136.4 L 727.9 138.3 A 427.5 427.5 0 0 0 721.9 134.6\" id=\"515,498\"></path><path d=\"M 772.8 145.0 L 759.1 162.8 A 425.3 425.3 0 0 1 766.6 168.7\" id=\"514,497\"></path><path d=\"M 773.9 174.7 L 773.9 174.7 A 425.3 425.3 0 0 0 766.6 168.7\" id=\"514,496\"></path><path d=\"M 845.0 211.1 L 824.3 228.4 A 423.0 423.0 0 0 0 820.8 224.3\" id=\"512,495\"></path><path d=\"M 868.5 245.7 L 866.7 247.0 A 445.5 445.5 0 0 0 862.3 240.7\" id=\"510,494\"></path><path d=\"M 791.8 842.6 L 791.8 842.6 A 450.0 450.0 0 0 0 796.1 838.8\" id=\"508,493\"></path><path d=\"M 756.8 864.1 L 745.1 847.5 A 425.3 425.3 0 0 0 750.7 843.5\" id=\"506,492\"></path><path d=\"M 723.9 890.3 L 704.9 857.2 A 411.7 411.7 0 0 1 694.8 862.8\" id=\"505,491\"></path><path d=\"M 686.5 872.1 L 684.5 868.1 A 411.7 411.7 0 0 0 694.8 862.8\" id=\"505,490\"></path><path d=\"M 359.1 920.3 L 359.9 918.1 A 441.0 441.0 0 0 1 344.7 912.8\" id=\"502,489\"></path><path d=\"M 329.8 906.8 L 329.8 906.8 A 441.0 441.0 0 0 0 344.7 912.8\" id=\"502,488\"></path><path d=\"M 55.7 571.5 L 57.9 571.2 A 447.7 447.7 0 0 0 58.9 576.7\" id=\"501,487\"></path><path d=\"M 140.9 228.8 L 173.2 253.2 A 409.5 409.5 0 0 1 179.5 245.1\" id=\"500,486\"></path><path d=\"M 186.1 237.1 L 186.1 237.1 A 409.5 409.5 0 0 0 179.5 245.1\" id=\"500,485\"></path><path d=\"M 196.4 218.5 L 257.5 275.1 A 330.7 330.7 0 0 1 263.9 268.4\" id=\"499,484\"></path><path d=\"M 209.6 198.6 L 270.5 261.8 A 330.7 330.7 0 0 0 263.9 268.4\" id=\"499,483\"></path><path d=\"M 742.4 128.9 L 735.0 140.2 A 429.8 429.8 0 0 0 729.1 136.4\" id=\"498,482\"></path><path d=\"M 784.6 175.0 L 780.2 180.1 A 425.3 425.3 0 0 0 773.9 174.7\" id=\"496,481\"></path><path d=\"M 872.9 252.2 L 872.9 252.2 A 447.7 447.7 0 0 0 868.5 245.7\" id=\"494,480\"></path><path d=\"M 753.5 871.8 L 751.0 868.1 A 445.5 445.5 0 0 0 756.8 864.1\" id=\"492,479\"></path><path d=\"M 674.9 877.7 L 674.9 877.7 A 416.2 416.2 0 0 0 686.5 872.1\" id=\"490,478\"></path><path d=\"M 352.4 922.7 L 353.9 918.5 A 443.2 443.2 0 0 0 359.1 920.3\" id=\"489,477\"></path><path d=\"M 339.9 913.3 L 340.7 911.2 A 441.0 441.0 0 0 1 329.8 906.8\" id=\"488,476\"></path><path d=\"M 318.0 904.2 L 319.0 902.1 A 441.0 441.0 0 0 0 329.8 906.8\" id=\"488,475\"></path><path d=\"M 164.2 228.2 L 181.7 242.4 A 409.5 409.5 0 0 1 186.1 237.1\" id=\"485,474\"></path><path d=\"M 159.9 205.3 L 190.5 231.8 A 409.5 409.5 0 0 0 186.1 237.1\" id=\"485,473\"></path><path d=\"M 182.1 184.7 L 202.8 205.3 A 418.5 418.5 0 0 1 209.6 198.6\" id=\"483,472\"></path><path d=\"M 213.5 188.8 L 216.6 192.1 A 418.5 418.5 0 0 0 209.6 198.6\" id=\"483,471\"></path><path d=\"M 749.4 130.9 L 748.2 132.7 A 443.2 443.2 0 0 0 742.4 128.9\" id=\"482,470\"></path><path d=\"M 793.2 179.7 L 791.7 181.3 A 432.0 432.0 0 0 0 784.6 175.0\" id=\"481,469\"></path><path d=\"M 877.4 259.1 L 877.4 259.1 A 447.7 447.7 0 0 0 872.9 252.2\" id=\"480,468\"></path><path d=\"M 748.0 875.5 L 748.0 875.5 A 450.0 450.0 0 0 0 753.5 871.8\" id=\"479,467\"></path><path d=\"M 699.2 895.9 L 687.1 871.8 A 416.2 416.2 0 0 1 674.9 877.7\" id=\"478,466\"></path><path d=\"M 662.5 883.2 L 662.5 883.2 A 416.2 416.2 0 0 0 674.9 877.7\" id=\"478,465\"></path><path d=\"M 306.7 898.9 L 306.7 898.9 A 443.2 443.2 0 0 0 318.0 904.2\" id=\"475,464\"></path><path d=\"M 219.9 183.0 L 219.9 183.0 A 423.0 423.0 0 0 0 213.5 188.8\" id=\"471,463\"></path><path d=\"M 754.8 134.6 L 754.8 134.6 A 445.5 445.5 0 0 0 749.4 130.9\" id=\"470,462\"></path><path d=\"M 793.1 167.5 L 787.1 174.2 A 434.3 434.3 0 0 1 793.2 179.7\" id=\"469,461\"></path><path d=\"M 808.5 175.5 L 799.2 185.3 A 434.3 434.3 0 0 0 793.2 179.7\" id=\"469,460\"></path><path d=\"M 882.2 266.7 L 882.2 266.7 A 447.7 447.7 0 0 0 877.4 259.1\" id=\"468,459\"></path><path d=\"M 743.3 878.6 L 743.3 878.6 A 450.0 450.0 0 0 0 748.0 875.5\" id=\"467,458\"></path><path d=\"M 695.2 900.4 L 694.2 898.4 A 443.2 443.2 0 0 0 699.2 895.9\" id=\"466,457\"></path><path d=\"M 671.6 884.2 L 669.7 880.1 A 416.2 416.2 0 0 1 662.5 883.2\" id=\"465,456\"></path><path d=\"M 656.1 888.3 L 655.2 886.2 A 416.2 416.2 0 0 0 662.5 883.2\" id=\"465,455\"></path><path d=\"M 316.6 906.0 L 317.6 904.0 A 443.2 443.2 0 0 1 306.7 898.9\" id=\"464,454\"></path><path d=\"M 295.0 895.5 L 296.0 893.5 A 443.2 443.2 0 0 0 306.7 898.9\" id=\"464,453\"></path><path d=\"M 227.5 176.4 L 227.5 176.4 A 423.0 423.0 0 0 0 219.9 183.0\" id=\"463,452\"></path><path d=\"M 760.7 136.0 L 759.4 137.8 A 445.5 445.5 0 0 0 754.8 134.6\" id=\"462,451\"></path><path d=\"M 814.2 177.8 L 812.6 179.4 A 447.7 447.7 0 0 0 808.5 175.5\" id=\"460,450\"></path><path d=\"M 887.4 275.6 L 887.4 275.6 A 447.7 447.7 0 0 0 882.2 266.7\" id=\"459,449\"></path><path d=\"M 656.9 904.9 L 651.2 890.2 A 418.5 418.5 0 0 0 656.1 888.3\" id=\"455,448\"></path><path d=\"M 309.6 907.7 L 311.5 903.7 A 445.5 445.5 0 0 0 316.6 906.0\" id=\"454,447\"></path><path d=\"M 287.5 894.1 L 288.6 892.1 A 445.5 445.5 0 0 0 295.0 895.5\" id=\"453,446\"></path><path d=\"M 202.5 162.4 L 220.3 182.7 A 423.0 423.0 0 0 1 227.5 176.4\" id=\"452,445\"></path><path d=\"M 233.5 168.6 L 234.9 170.4 A 423.0 423.0 0 0 0 227.5 176.4\" id=\"452,444\"></path><path d=\"M 884.6 266.3 L 882.7 267.5 A 447.7 447.7 0 0 1 887.4 275.6\" id=\"449,443\"></path><path d=\"M 894.0 282.7 L 892.1 283.8 A 447.7 447.7 0 0 0 887.4 275.6\" id=\"449,442\"></path><path d=\"M 281.3 890.7 L 281.3 890.7 A 447.7 447.7 0 0 0 287.5 894.1\" id=\"446,441\"></path><path d=\"M 237.4 159.8 L 240.2 163.4 A 425.3 425.3 0 0 0 233.5 168.6\" id=\"444,440\"></path><path d=\"M 897.6 289.3 L 897.6 289.3 A 450.0 450.0 0 0 0 894.0 282.7\" id=\"442,439\"></path><path d=\"M 275.6 887.4 L 275.6 887.4 A 447.7 447.7 0 0 0 281.3 890.7\" id=\"441,438\"></path><path d=\"M 244.0 152.0 L 245.3 153.8 A 429.8 429.8 0 0 0 237.4 159.8\" id=\"440,437\"></path><path d=\"M 901.1 296.0 L 901.1 296.0 A 450.0 450.0 0 0 0 897.6 289.3\" id=\"439,436\"></path><path d=\"M 269.6 886.5 L 270.7 884.6 A 447.7 447.7 0 0 0 275.6 887.4\" id=\"438,435\"></path><path d=\"M 253.0 142.8 L 254.3 144.7 A 432.0 432.0 0 0 0 244.0 152.0\" id=\"437,434\"></path><path d=\"M 904.5 302.8 L 904.5 302.8 A 450.0 450.0 0 0 0 901.1 296.0\" id=\"436,433\"></path><path d=\"M 268.1 132.8 L 268.1 132.8 A 434.3 434.3 0 0 0 253.0 142.8\" id=\"434,432\"></path><path d=\"M 907.7 309.6 L 907.7 309.6 A 450.0 450.0 0 0 0 904.5 302.8\" id=\"433,431\"></path><path d=\"M 245.5 139.9 L 249.3 145.4 A 434.3 434.3 0 0 1 268.1 132.8\" id=\"432,430\"></path><path d=\"M 286.5 119.3 L 287.6 121.2 A 434.3 434.3 0 0 0 268.1 132.8\" id=\"432,429\"></path><path d=\"M 910.9 316.5 L 910.9 316.5 A 450.0 450.0 0 0 0 907.7 309.6\" id=\"431,428\"></path><path d=\"M 248.2 132.5 L 250.8 136.2 A 441.0 441.0 0 0 0 245.5 139.9\" id=\"430,427\"></path><path d=\"M 305.4 106.7 L 306.4 108.8 A 436.5 436.5 0 0 0 286.5 119.3\" id=\"429,426\"></path><path d=\"M 913.9 323.4 L 913.9 323.4 A 450.0 450.0 0 0 0 910.9 316.5\" id=\"428,425\"></path><path d=\"M 252.9 129.3 L 252.9 129.3 A 445.5 445.5 0 0 0 248.2 132.5\" id=\"427,424\"></path><path d=\"M 274.7 115.7 L 278.1 121.5 A 438.7 438.7 0 0 1 305.4 106.7\" id=\"426,423\"></path><path d=\"M 333.8 94.0 L 333.8 94.0 A 438.7 438.7 0 0 0 305.4 106.7\" id=\"426,422\"></path><path d=\"M 916.8 330.4 L 916.8 330.4 A 450.0 450.0 0 0 0 913.9 323.4\" id=\"425,421\"></path><path d=\"M 279.7 110.2 L 280.8 112.2 A 445.5 445.5 0 0 0 274.7 115.7\" id=\"423,420\"></path><path d=\"M 307.9 98.0 L 310.8 104.1 A 438.7 438.7 0 0 1 333.8 94.0\" id=\"422,419\"></path><path d=\"M 357.2 85.1 L 357.2 85.1 A 438.7 438.7 0 0 0 333.8 94.0\" id=\"422,418\"></path><path d=\"M 919.6 337.4 L 919.6 337.4 A 450.0 450.0 0 0 0 916.8 330.4\" id=\"421,417\"></path><path d=\"M 285.4 107.0 L 285.4 107.0 A 447.7 447.7 0 0 0 279.7 110.2\" id=\"420,416\"></path><path d=\"M 313.6 92.9 L 314.5 95.0 A 445.5 445.5 0 0 0 307.9 98.0\" id=\"419,415\"></path><path d=\"M 346.8 84.1 L 348.4 88.3 A 438.7 438.7 0 0 1 357.2 85.1\" id=\"418,414\"></path><path d=\"M 364.1 75.7 L 366.1 82.2 A 438.7 438.7 0 0 0 357.2 85.1\" id=\"418,413\"></path><path d=\"M 922.3 344.5 L 922.3 344.5 A 450.0 450.0 0 0 0 919.6 337.4\" id=\"417,412\"></path><path d=\"M 289.3 102.4 L 290.4 104.3 A 447.7 447.7 0 0 0 285.4 107.0\" id=\"416,411\"></path><path d=\"M 320.0 90.0 L 320.0 90.0 A 447.7 447.7 0 0 0 313.6 92.9\" id=\"415,410\"></path><path d=\"M 371.5 73.4 L 371.5 73.4 A 445.5 445.5 0 0 0 364.1 75.7\" id=\"413,409\"></path><path d=\"M 924.8 351.6 L 924.8 351.6 A 450.0 450.0 0 0 0 922.3 344.5\" id=\"412,408\"></path><path d=\"M 326.1 87.4 L 326.1 87.4 A 447.7 447.7 0 0 0 320.0 90.0\" id=\"410,407\"></path><path d=\"M 379.3 71.2 L 379.3 71.2 A 445.5 445.5 0 0 0 371.5 73.4\" id=\"409,406\"></path><path d=\"M 927.3 358.8 L 927.3 358.8 A 450.0 450.0 0 0 0 924.8 351.6\" id=\"408,405\"></path><path d=\"M 330.4 83.2 L 331.3 85.3 A 447.7 447.7 0 0 0 326.1 87.4\" id=\"407,404\"></path><path d=\"M 387.8 68.9 L 387.8 68.9 A 445.5 445.5 0 0 0 379.3 71.2\" id=\"406,403\"></path><path d=\"M 929.6 366.0 L 929.6 366.0 A 450.0 450.0 0 0 0 927.3 358.8\" id=\"405,402\"></path><path d=\"M 397.5 66.4 L 397.5 66.4 A 445.5 445.5 0 0 0 387.8 68.9\" id=\"403,401\"></path><path d=\"M 931.8 373.2 L 931.8 373.2 A 450.0 450.0 0 0 0 929.6 366.0\" id=\"402,400\"></path><path d=\"M 409.8 63.7 L 409.8 63.7 A 445.5 445.5 0 0 0 397.5 66.4\" id=\"401,399\"></path><path d=\"M 933.8 380.5 L 933.8 380.5 A 450.0 450.0 0 0 0 931.8 373.2\" id=\"400,398\"></path><path d=\"M 397.5 64.1 L 398.0 66.3 A 445.5 445.5 0 0 1 409.8 63.7\" id=\"399,397\"></path><path d=\"M 421.3 59.2 L 421.7 61.4 A 445.5 445.5 0 0 0 409.8 63.7\" id=\"399,396\"></path><path d=\"M 935.8 387.8 L 935.8 387.8 A 450.0 450.0 0 0 0 933.8 380.5\" id=\"398,395\"></path><path d=\"M 402.5 60.7 L 403.0 62.9 A 447.7 447.7 0 0 0 397.5 64.1\" id=\"397,394\"></path><path d=\"M 428.6 58.0 L 428.6 58.0 A 447.7 447.7 0 0 0 421.3 59.2\" id=\"396,393\"></path><path d=\"M 937.6 395.1 L 937.6 395.1 A 450.0 450.0 0 0 0 935.8 387.8\" id=\"395,392\"></path><path d=\"M 435.8 56.9 L 435.8 56.9 A 447.7 447.7 0 0 0 428.6 58.0\" id=\"393,391\"></path><path d=\"M 939.3 402.5 L 939.3 402.5 A 450.0 450.0 0 0 0 937.6 395.1\" id=\"392,390\"></path><path d=\"M 442.8 55.9 L 442.8 55.9 A 447.7 447.7 0 0 0 435.8 56.9\" id=\"391,389\"></path><path d=\"M 940.9 409.9 L 940.9 409.9 A 450.0 450.0 0 0 0 939.3 402.5\" id=\"390,388\"></path><path d=\"M 449.3 55.1 L 449.3 55.1 A 447.7 447.7 0 0 0 442.8 55.9\" id=\"389,387\"></path><path d=\"M 942.3 417.3 L 942.3 417.3 A 450.0 450.0 0 0 0 940.9 409.9\" id=\"388,386\"></path><path d=\"M 454.9 54.5 L 454.9 54.5 A 447.7 447.7 0 0 0 449.3 55.1\" id=\"387,385\"></path><path d=\"M 943.7 424.8 L 943.7 424.8 A 450.0 450.0 0 0 0 942.3 417.3\" id=\"386,384\"></path><path d=\"M 944.9 432.2 L 944.9 432.2 A 450.0 450.0 0 0 0 943.7 424.8\" id=\"384,383\"></path><path d=\"M 945.9 439.7 L 945.9 439.7 A 450.0 450.0 0 0 0 944.9 432.2\" id=\"383,382\"></path><path d=\"M 946.9 447.2 L 946.9 447.2 A 450.0 450.0 0 0 0 945.9 439.7\" id=\"382,381\"></path><path d=\"M 947.7 454.7 L 947.7 454.7 A 450.0 450.0 0 0 0 946.9 447.2\" id=\"381,380\"></path><path d=\"M 948.4 462.1 L 948.4 462.1 A 450.0 450.0 0 0 0 947.7 454.7\" id=\"380,379\"></path><path d=\"M 949.0 469.5 L 949.0 469.5 A 450.0 450.0 0 0 0 948.4 462.1\" id=\"379,378\"></path><path d=\"M 949.4 476.9 L 949.4 476.9 A 450.0 450.0 0 0 0 949.0 469.5\" id=\"378,377\"></path><path d=\"M 949.7 483.9 L 949.7 483.9 A 450.0 450.0 0 0 0 949.4 476.9\" id=\"377,376\"></path><path d=\"M 949.9 490.6 L 949.9 490.6 A 450.0 450.0 0 0 0 949.7 483.9\" id=\"376,375\"></path><path d=\"M 950.0 496.2 L 950.0 496.2 A 450.0 450.0 0 0 0 949.9 490.6\" id=\"375,374\"></path><path d=\"M 949.9 507.6 L 500.0 500.0 A -0.0 -0.0 0 0 0 500.0 500.0\" id=\"746,373\"></path><path d=\"M 949.7 515.1 L 500.0 500.0 A -0.0 -0.0 0 0 0 500.0 500.0\" id=\"745,372\"></path><path d=\"M 949.4 522.7 L 500.0 500.0 A -0.0 -0.0 0 0 0 500.0 500.0\" id=\"744,371\"></path><path d=\"M 949.0 530.2 L 500.0 500.0 A -0.0 -0.0 0 0 0 500.0 500.0\" id=\"743,370\"></path><path d=\"M 948.4 537.8 L 948.4 537.8 A 450.0 450.0 0 0 1 947.8 544.3\" id=\"741,369\"></path><path d=\"M 947.7 545.3 L 947.7 545.3 A 450.0 450.0 0 0 1 947.1 550.9\" id=\"739,368\"></path><path d=\"M 946.9 552.8 L 946.9 552.8 A 450.0 450.0 0 0 1 946.4 556.5\" id=\"736,367\"></path><path d=\"M 945.9 560.3 L 945.9 560.3 A 450.0 450.0 0 0 0 946.4 556.5\" id=\"736,366\"></path><path d=\"M 944.9 567.8 L 898.2 560.7 A 402.8 402.8 0 0 1 897.4 565.7\" id=\"738,365\"></path><path d=\"M 943.7 575.2 L 899.3 567.7 A 405.0 405.0 0 0 1 898.7 571.1\" id=\"735,364\"></path><path d=\"M 942.3 582.7 L 898.1 574.4 A 405.0 405.0 0 0 0 898.7 571.1\" id=\"735,363\"></path><path d=\"M 940.9 590.1 L 881.4 577.9 A 389.2 389.2 0 0 1 880.4 582.7\" id=\"734,362\"></path><path d=\"M 939.3 597.5 L 908.6 590.7 A 418.5 418.5 0 0 1 907.8 594.1\" id=\"732,361\"></path><path d=\"M 937.6 604.9 L 907.0 597.5 A 418.5 418.5 0 0 0 907.8 594.1\" id=\"732,360\"></path><path d=\"M 935.8 612.2 L 874.8 596.5 A 387.0 387.0 0 0 1 873.3 602.0\" id=\"729,359\"></path><path d=\"M 933.8 619.5 L 905.6 611.7 A 420.7 420.7 0 0 1 904.2 616.8\" id=\"725,358\"></path><path d=\"M 931.8 626.8 L 929.6 626.1 A 447.7 447.7 0 0 1 928.5 629.8\" id=\"721,357\"></path><path d=\"M 929.6 634.0 L 927.4 633.3 A 447.7 447.7 0 0 0 928.5 629.8\" id=\"721,356\"></path><path d=\"M 927.3 641.2 L 858.9 618.6 A 378.0 378.0 0 0 1 856.6 625.5\" id=\"728,355\"></path><path d=\"M 924.8 648.4 L 871.7 629.8 A 393.7 393.7 0 0 1 868.9 637.8\" id=\"724,354\"></path><path d=\"M 922.3 655.5 L 869.5 636.1 A 393.7 393.7 0 0 1 865.8 645.6\" id=\"720,353\"></path><path d=\"M 919.6 662.6 L 869.3 643.1 A 396.0 396.0 0 0 1 864.0 656.0\" id=\"716,352\"></path><path d=\"M 916.8 669.6 L 910.6 667.0 A 443.2 443.2 0 0 1 908.4 672.2\" id=\"703,351\"></path><path d=\"M 913.9 676.6 L 909.8 674.8 A 445.5 445.5 0 0 1 908.3 678.2\" id=\"695,350\"></path><path d=\"M 910.9 683.5 L 906.8 681.7 A 445.5 445.5 0 0 0 908.3 678.2\" id=\"695,349\"></path><path d=\"M 907.7 690.4 L 864.9 670.4 A 402.8 402.8 0 0 1 856.9 686.6\" id=\"702,348\"></path><path d=\"M 904.5 697.2 L 904.5 697.2 A 450.0 450.0 0 0 1 902.8 700.6\" id=\"667,347\"></path><path d=\"M 901.1 704.0 L 901.1 704.0 A 450.0 450.0 0 0 0 902.8 700.6\" id=\"667,346\"></path><path d=\"M 897.6 710.7 L 897.6 710.7 A 450.0 450.0 0 0 1 895.9 714.0\" id=\"666,345\"></path><path d=\"M 894.0 717.3 L 894.0 717.3 A 450.0 450.0 0 0 0 895.9 714.0\" id=\"666,344\"></path><path d=\"M 890.3 723.9 L 863.0 708.2 A 418.5 418.5 0 0 1 859.9 713.5\" id=\"665,343\"></path><path d=\"M 886.5 730.4 L 867.2 718.9 A 427.5 427.5 0 0 1 864.4 723.5\" id=\"650,342\"></path><path d=\"M 882.6 736.9 L 865.4 726.2 A 429.8 429.8 0 0 1 863.5 729.3\" id=\"634,341\"></path><path d=\"M 878.6 743.3 L 861.5 732.3 A 429.8 429.8 0 0 0 863.5 729.3\" id=\"634,340\"></path><path d=\"M 874.4 749.6 L 837.0 724.7 A 405.0 405.0 0 0 1 831.3 732.9\" id=\"664,339\"></path><path d=\"M 870.2 755.9 L 833.2 730.3 A 405.0 405.0 0 0 1 825.5 741.1\" id=\"649,338\"></path><path d=\"M 865.8 762.1 L 831.1 737.2 A 407.3 407.3 0 0 1 819.2 753.0\" id=\"633,337\"></path><path d=\"M 861.4 768.2 L 856.0 764.1 A 443.2 443.2 0 0 1 851.6 769.9\" id=\"597,336\"></path><path d=\"M 856.8 774.2 L 855.0 772.8 A 447.7 447.7 0 0 1 850.7 778.4\" id=\"578,335\"></path><path d=\"M 852.2 780.1 L 852.2 780.1 A 450.0 450.0 0 0 1 848.0 785.3\" id=\"562,334\"></path><path d=\"M 847.4 786.0 L 847.4 786.0 A 450.0 450.0 0 0 1 843.8 790.4\" id=\"545,333\"></path><path d=\"M 842.6 791.8 L 842.6 791.8 A 450.0 450.0 0 0 1 840.1 794.7\" id=\"528,332\"></path><path d=\"M 837.6 797.5 L 837.6 797.5 A 450.0 450.0 0 0 0 840.1 794.7\" id=\"528,331\"></path><path d=\"M 832.6 803.2 L 802.6 775.9 A 409.5 409.5 0 0 1 790.3 788.8\" id=\"596,330\"></path><path d=\"M 827.4 808.7 L 797.9 780.9 A 409.5 409.5 0 0 1 777.5 801.1\" id=\"577,329\"></path><path d=\"M 822.2 814.2 L 819.0 811.0 A 445.5 445.5 0 0 1 816.3 813.7\" id=\"527,328\"></path><path d=\"M 816.9 819.5 L 813.7 816.3 A 445.5 445.5 0 0 0 816.3 813.7\" id=\"527,327\"></path><path d=\"M 811.4 824.8 L 809.9 823.2 A 447.7 447.7 0 0 1 807.2 825.8\" id=\"509,326\"></path><path d=\"M 805.9 830.0 L 804.4 828.3 A 447.7 447.7 0 0 0 807.2 825.8\" id=\"509,325\"></path><path d=\"M 800.4 835.1 L 800.4 835.1 A 450.0 450.0 0 0 1 796.1 838.8\" id=\"508,324\"></path><path d=\"M 794.7 840.1 L 794.7 840.1 A 450.0 450.0 0 0 1 791.8 842.6\" id=\"493,323\"></path><path d=\"M 788.9 845.0 L 788.9 845.0 A 450.0 450.0 0 0 0 791.8 842.6\" id=\"493,322\"></path><path d=\"M 783.1 849.8 L 783.1 849.8 A 450.0 450.0 0 0 1 780.1 852.2\" id=\"507,321\"></path><path d=\"M 777.2 854.5 L 777.2 854.5 A 450.0 450.0 0 0 0 780.1 852.2\" id=\"507,320\"></path><path d=\"M 771.2 859.1 L 756.3 839.4 A 425.3 425.3 0 0 1 750.7 843.5\" id=\"506,319\"></path><path d=\"M 765.1 863.6 L 762.5 860.0 A 445.5 445.5 0 0 1 756.8 864.1\" id=\"492,318\"></path><path d=\"M 759.0 868.0 L 759.0 868.0 A 450.0 450.0 0 0 1 753.5 871.8\" id=\"479,317\"></path><path d=\"M 752.7 872.3 L 752.7 872.3 A 450.0 450.0 0 0 1 748.0 875.5\" id=\"467,316\"></path><path d=\"M 746.5 876.5 L 746.5 876.5 A 450.0 450.0 0 0 1 743.3 878.6\" id=\"458,315\"></path><path d=\"M 740.1 880.6 L 740.1 880.6 A 450.0 450.0 0 0 0 743.3 878.6\" id=\"458,314\"></path><path d=\"M 733.7 884.6 L 713.8 851.9 A 411.7 411.7 0 0 1 704.4 857.5\" id=\"524,313\"></path><path d=\"M 727.2 888.4 L 727.2 888.4 A 450.0 450.0 0 0 1 723.9 890.3\" id=\"491,312\"></path><path d=\"M 720.6 892.2 L 720.6 892.2 A 450.0 450.0 0 0 0 723.9 890.3\" id=\"491,311\"></path><path d=\"M 714.0 895.9 L 698.0 866.2 A 416.2 416.2 0 0 1 686.5 872.1\" id=\"490,310\"></path><path d=\"M 707.3 899.4 L 704.2 893.4 A 443.2 443.2 0 0 1 699.2 895.9\" id=\"466,309\"></path><path d=\"M 700.6 902.8 L 698.6 898.8 A 445.5 445.5 0 0 1 695.2 900.4\" id=\"457,308\"></path><path d=\"M 693.8 906.1 L 691.8 902.1 A 445.5 445.5 0 0 0 695.2 900.4\" id=\"457,307\"></path><path d=\"M 686.9 909.3 L 674.8 882.7 A 420.7 420.7 0 0 1 671.6 884.2\" id=\"456,306\"></path><path d=\"M 680.0 912.4 L 668.3 885.6 A 420.7 420.7 0 0 0 671.6 884.2\" id=\"456,305\"></path><path d=\"M 673.1 915.4 L 661.0 886.3 A 418.5 418.5 0 0 1 656.1 888.3\" id=\"455,304\"></path><path d=\"M 666.1 918.2 L 660.3 903.6 A 434.3 434.3 0 0 1 656.9 904.9\" id=\"448,303\"></path><path d=\"M 659.0 921.0 L 653.5 906.2 A 434.3 434.3 0 0 0 656.9 904.9\" id=\"448,302\"></path><path d=\"M 651.9 923.6 L 637.5 883.3 A 407.3 407.3 0 0 1 623.1 888.2\" id=\"727,301\"></path><path d=\"M 644.8 926.1 L 641.9 917.5 A 441.0 441.0 0 0 1 635.7 919.6\" id=\"719,300\"></path><path d=\"M 637.6 928.4 L 636.2 924.2 A 445.5 445.5 0 0 1 630.9 925.8\" id=\"715,299\"></path><path d=\"M 630.4 930.7 L 629.1 926.4 A 445.5 445.5 0 0 1 625.5 927.5\" id=\"710,298\"></path><path d=\"M 623.1 932.8 L 621.9 928.5 A 445.5 445.5 0 0 0 625.5 927.5\" id=\"710,297\"></path><path d=\"M 615.9 934.8 L 607.2 902.2 A 416.2 416.2 0 0 1 593.5 905.6\" id=\"718,296\"></path><path d=\"M 608.5 936.7 L 603.1 914.9 A 427.5 427.5 0 0 1 599.6 915.7\" id=\"709,295\"></path><path d=\"M 601.2 938.5 L 596.1 916.6 A 427.5 427.5 0 0 0 599.6 915.7\" id=\"709,294\"></path><path d=\"M 593.8 940.1 L 589.1 918.1 A 427.5 427.5 0 0 1 563.9 922.7\" id=\"708,293\"></path><path d=\"M 586.4 941.6 L 586.4 941.6 A 450.0 450.0 0 0 1 582.7 942.3\" id=\"682,292\"></path><path d=\"M 579.0 943.0 L 579.0 943.0 A 450.0 450.0 0 0 0 582.7 942.3\" id=\"682,291\"></path><path d=\"M 571.5 944.3 L 570.1 935.4 A 441.0 441.0 0 0 1 562.9 936.5\" id=\"681,290\"></path><path d=\"M 564.0 945.4 L 563.1 938.7 A 443.2 443.2 0 0 1 555.9 939.7\" id=\"663,289\"></path><path d=\"M 556.5 946.4 L 555.7 939.7 A 443.2 443.2 0 0 1 548.8 940.6\" id=\"648,288\"></path><path d=\"M 549.0 947.3 L 548.8 945.1 A 447.7 447.7 0 0 1 542.2 945.8\" id=\"632,287\"></path><path d=\"M 541.5 948.1 L 541.3 945.8 A 447.7 447.7 0 0 1 535.7 946.3\" id=\"616,286\"></path><path d=\"M 534.0 948.7 L 534.0 948.7 A 450.0 450.0 0 0 1 530.2 949.0\" id=\"595,285\"></path><path d=\"M 526.4 949.2 L 526.4 949.2 A 450.0 450.0 0 0 0 530.2 949.0\" id=\"595,284\"></path><path d=\"M 518.9 949.6 L 518.2 933.9 A 434.3 434.3 0 0 1 507.2 934.2\" id=\"692,283\"></path><path d=\"M 511.3 949.9 L 511.2 943.1 A 443.2 443.2 0 0 1 507.4 943.2\" id=\"662,282\"></path><path d=\"M 503.8 950.0 L 503.7 943.2 A 443.2 443.2 0 0 0 507.4 943.2\" id=\"662,281\"></path><path d=\"M 496.2 950.0 L 496.3 936.5 A 436.5 436.5 0 0 1 484.8 936.2\" id=\"661,280\"></path><path d=\"M 488.7 949.9 L 488.9 938.6 A 438.7 438.7 0 0 1 473.1 937.9\" id=\"647,279\"></path><path d=\"M 481.1 949.6 L 481.1 949.6 A 450.0 450.0 0 0 1 477.3 949.4\" id=\"615,278\"></path><path d=\"M 473.6 949.2 L 473.6 949.2 A 450.0 450.0 0 0 0 477.3 949.4\" id=\"615,277\"></path><path d=\"M 466.0 948.7 L 466.0 948.7 A 450.0 450.0 0 0 1 458.7 948.1\" id=\"594,276\"></path><path d=\"M 458.5 948.1 L 458.5 948.1 A 450.0 450.0 0 0 1 451.4 947.4\" id=\"576,275\"></path><path d=\"M 451.0 947.3 L 451.0 947.3 A 450.0 450.0 0 0 1 444.4 946.6\" id=\"560,274\"></path><path d=\"M 443.5 946.4 L 443.5 946.4 A 450.0 450.0 0 0 1 437.8 945.7\" id=\"542,273\"></path><path d=\"M 436.0 945.4 L 436.0 945.4 A 450.0 450.0 0 0 1 432.2 944.9\" id=\"523,272\"></path><path d=\"M 428.5 944.3 L 428.5 944.3 A 450.0 450.0 0 0 0 432.2 944.9\" id=\"523,271\"></path><path d=\"M 421.0 943.0 L 422.6 934.2 A 441.0 441.0 0 0 1 413.3 932.4\" id=\"593,270\"></path><path d=\"M 413.6 941.6 L 415.3 932.8 A 441.0 441.0 0 0 1 404.0 930.4\" id=\"575,269\"></path><path d=\"M 406.2 940.1 L 408.1 931.3 A 441.0 441.0 0 0 1 392.8 927.8\" id=\"559,268\"></path><path d=\"M 398.8 938.5 L 399.8 934.1 A 445.5 445.5 0 0 1 394.4 932.8\" id=\"522,267\"></path><path d=\"M 391.5 936.7 L 392.0 934.5 A 447.7 447.7 0 0 1 388.4 933.6\" id=\"504,266\"></path><path d=\"M 384.1 934.8 L 384.7 932.7 A 447.7 447.7 0 0 0 388.4 933.6\" id=\"504,265\"></path><path d=\"M 376.9 932.8 L 378.1 928.5 A 445.5 445.5 0 0 1 374.5 927.5\" id=\"503,264\"></path><path d=\"M 369.6 930.7 L 370.9 926.4 A 445.5 445.5 0 0 0 374.5 927.5\" id=\"503,263\"></path><path d=\"M 362.4 928.4 L 364.4 922.0 A 443.2 443.2 0 0 1 359.1 920.3\" id=\"489,262\"></path><path d=\"M 355.2 926.1 L 355.9 923.9 A 447.7 447.7 0 0 1 352.4 922.7\" id=\"477,261\"></path><path d=\"M 348.1 923.6 L 348.8 921.5 A 447.7 447.7 0 0 0 352.4 922.7\" id=\"477,260\"></path><path d=\"M 341.0 921.0 L 343.4 914.6 A 443.2 443.2 0 0 1 339.9 913.3\" id=\"476,259\"></path><path d=\"M 333.9 918.2 L 336.4 912.0 A 443.2 443.2 0 0 0 339.9 913.3\" id=\"476,258\"></path><path d=\"M 326.9 915.4 L 329.5 909.2 A 443.2 443.2 0 0 1 318.0 904.2\" id=\"475,257\"></path><path d=\"M 320.0 912.4 L 321.8 908.3 A 445.5 445.5 0 0 1 316.6 906.0\" id=\"454,256\"></path><path d=\"M 313.1 909.3 L 313.1 909.3 A 450.0 450.0 0 0 1 309.6 907.7\" id=\"447,255\"></path><path d=\"M 306.2 906.1 L 306.2 906.1 A 450.0 450.0 0 0 0 309.6 907.7\" id=\"447,254\"></path><path d=\"M 299.4 902.8 L 301.4 898.8 A 445.5 445.5 0 0 1 295.0 895.5\" id=\"453,253\"></path><path d=\"M 292.7 899.4 L 293.7 897.4 A 447.7 447.7 0 0 1 287.5 894.1\" id=\"446,252\"></path><path d=\"M 286.0 895.9 L 287.1 893.9 A 447.7 447.7 0 0 1 281.3 890.7\" id=\"441,251\"></path><path d=\"M 279.4 892.2 L 280.5 890.2 A 447.7 447.7 0 0 1 275.6 887.4\" id=\"438,250\"></path><path d=\"M 272.8 888.4 L 272.8 888.4 A 450.0 450.0 0 0 1 269.6 886.5\" id=\"435,249\"></path><path d=\"M 266.3 884.6 L 266.3 884.6 A 450.0 450.0 0 0 0 269.6 886.5\" id=\"435,248\"></path><path d=\"M 259.9 880.6 L 454.4 572.3 A 85.5 85.5 0 0 1 445.9 566.2\" id=\"726,247\"></path><path d=\"M 253.5 876.5 L 386.6 673.2 A 207.0 207.0 0 0 1 350.3 643.0\" id=\"722,246\"></path><path d=\"M 247.3 872.3 L 247.3 872.3 A 450.0 450.0 0 0 1 244.1 870.2\" id=\"707,245\"></path><path d=\"M 241.0 868.0 L 241.0 868.0 A 450.0 450.0 0 0 0 244.1 870.2\" id=\"707,244\"></path><path d=\"M 234.9 863.6 L 257.4 832.7 A 411.7 411.7 0 0 1 247.4 825.2\" id=\"706,243\"></path><path d=\"M 228.8 859.1 L 228.8 859.1 A 450.0 450.0 0 0 1 224.3 855.7\" id=\"691,242\"></path><path d=\"M 222.8 854.5 L 222.8 854.5 A 450.0 450.0 0 0 1 219.9 852.2\" id=\"679,241\"></path><path d=\"M 216.9 849.8 L 216.9 849.8 A 450.0 450.0 0 0 0 219.9 852.2\" id=\"679,240\"></path><path d=\"M 211.1 845.0 L 211.1 845.0 A 450.0 450.0 0 0 1 208.2 842.6\" id=\"678,239\"></path><path d=\"M 205.3 840.1 L 205.3 840.1 A 450.0 450.0 0 0 0 208.2 842.6\" id=\"678,238\"></path><path d=\"M 199.6 835.1 L 199.6 835.1 A 450.0 450.0 0 0 1 196.8 832.6\" id=\"677,237\"></path><path d=\"M 194.1 830.0 L 194.1 830.0 A 450.0 450.0 0 0 0 196.8 832.6\" id=\"677,236\"></path><path d=\"M 188.6 824.8 L 219.7 792.3 A 405.0 405.0 0 0 1 217.2 790.0\" id=\"699,235\"></path><path d=\"M 183.1 819.5 L 214.8 787.6 A 405.0 405.0 0 0 0 217.2 790.0\" id=\"699,234\"></path><path d=\"M 177.8 814.2 L 192.3 800.0 A 429.8 429.8 0 0 1 185.5 792.9\" id=\"689,233\"></path><path d=\"M 172.6 808.7 L 180.8 801.0 A 438.7 438.7 0 0 1 172.1 791.5\" id=\"676,232\"></path><path d=\"M 167.4 803.2 L 172.4 798.6 A 443.2 443.2 0 0 1 160.2 784.7\" id=\"660,231\"></path><path d=\"M 162.4 797.5 L 162.4 797.5 A 450.0 450.0 0 0 1 157.6 792.0\" id=\"630,230\"></path><path d=\"M 157.4 791.8 L 157.4 791.8 A 450.0 450.0 0 0 1 152.9 786.4\" id=\"613,229\"></path><path d=\"M 152.6 786.0 L 152.6 786.0 A 450.0 450.0 0 0 1 148.4 780.9\" id=\"592,228\"></path><path d=\"M 147.8 780.1 L 147.8 780.1 A 450.0 450.0 0 0 1 144.3 775.7\" id=\"574,227\"></path><path d=\"M 143.2 774.2 L 143.2 774.2 A 450.0 450.0 0 0 1 140.9 771.2\" id=\"558,226\"></path><path d=\"M 138.6 768.2 L 138.6 768.2 A 450.0 450.0 0 0 0 140.9 771.2\" id=\"558,225\"></path><path d=\"M 134.2 762.1 L 134.2 762.1 A 450.0 450.0 0 0 1 129.9 755.9\" id=\"629,224\"></path><path d=\"M 129.8 755.9 L 129.8 755.9 A 450.0 450.0 0 0 1 125.6 749.7\" id=\"612,223\"></path><path d=\"M 125.6 749.6 L 125.6 749.6 A 450.0 450.0 0 0 1 121.6 743.5\" id=\"591,222\"></path><path d=\"M 121.4 743.3 L 121.4 743.3 A 450.0 450.0 0 0 1 117.7 737.3\" id=\"573,221\"></path><path d=\"M 117.4 736.9 L 117.4 736.9 A 450.0 450.0 0 0 1 114.0 731.2\" id=\"557,220\"></path><path d=\"M 113.5 730.4 L 113.5 730.4 A 450.0 450.0 0 0 1 110.6 725.5\" id=\"540,219\"></path><path d=\"M 109.7 723.9 L 109.7 723.9 A 450.0 450.0 0 0 1 107.8 720.6\" id=\"520,218\"></path><path d=\"M 106.0 717.3 L 106.0 717.3 A 450.0 450.0 0 0 0 107.8 720.6\" id=\"520,217\"></path><path d=\"M 102.4 710.7 L 102.4 710.7 A 450.0 450.0 0 0 1 100.6 707.3\" id=\"675,216\"></path><path d=\"M 98.9 704.0 L 98.9 704.0 A 450.0 450.0 0 0 0 100.6 707.3\" id=\"675,215\"></path><path d=\"M 95.5 697.2 L 107.6 691.3 A 436.5 436.5 0 0 1 101.8 678.8\" id=\"674,214\"></path><path d=\"M 92.3 690.4 L 98.4 687.5 A 443.2 443.2 0 0 1 90.1 668.8\" id=\"659,213\"></path><path d=\"M 89.1 683.5 L 93.2 681.7 A 445.5 445.5 0 0 1 90.3 674.9\" id=\"628,212\"></path><path d=\"M 86.1 676.6 L 90.2 674.8 A 445.5 445.5 0 0 1 87.4 668.1\" id=\"611,211\"></path><path d=\"M 83.2 669.6 L 87.3 667.9 A 445.5 445.5 0 0 1 84.8 661.4\" id=\"590,210\"></path><path d=\"M 80.4 662.6 L 82.5 661.7 A 447.7 447.7 0 0 1 80.2 655.6\" id=\"572,209\"></path><path d=\"M 77.7 655.5 L 79.8 654.7 A 447.7 447.7 0 0 1 77.9 649.4\" id=\"556,208\"></path><path d=\"M 75.2 648.4 L 77.3 647.6 A 447.7 447.7 0 0 1 76.1 644.1\" id=\"539,207\"></path><path d=\"M 72.7 641.2 L 74.9 640.5 A 447.7 447.7 0 0 0 76.1 644.1\" id=\"539,206\"></path><path d=\"M 70.4 634.0 L 74.7 632.7 A 445.5 445.5 0 0 1 72.5 625.5\" id=\"627,205\"></path><path d=\"M 68.2 626.8 L 70.4 626.1 A 447.7 447.7 0 0 1 68.3 618.9\" id=\"610,204\"></path><path d=\"M 66.2 619.5 L 68.3 618.9 A 447.7 447.7 0 0 1 66.4 611.7\" id=\"589,203\"></path><path d=\"M 64.2 612.2 L 66.4 611.6 A 447.7 447.7 0 0 1 64.6 604.5\" id=\"571,202\"></path><path d=\"M 62.4 604.9 L 64.6 604.3 A 447.7 447.7 0 0 1 62.9 597.2\" id=\"555,201\"></path><path d=\"M 60.7 597.5 L 62.9 597.0 A 447.7 447.7 0 0 1 61.4 590.1\" id=\"538,200\"></path><path d=\"M 59.1 590.1 L 61.3 589.7 A 447.7 447.7 0 0 1 60.0 583.2\" id=\"519,199\"></path><path d=\"M 57.7 582.7 L 59.9 582.3 A 447.7 447.7 0 0 1 58.9 576.7\" id=\"501,198\"></path><path d=\"M 56.3 575.2 L 56.3 575.2 A 450.0 450.0 0 0 1 55.7 571.5\" id=\"487,197\"></path><path d=\"M 55.1 567.8 L 55.1 567.8 A 450.0 450.0 0 0 0 55.7 571.5\" id=\"487,196\"></path><path d=\"M 54.1 560.3 L 254.7 533.2 A 247.5 247.5 0 0 1 253.5 522.1\" id=\"697,195\"></path><path d=\"M 53.1 552.8 L 75.4 550.2 A 427.5 427.5 0 0 1 74.7 543.5\" id=\"673,194\"></path><path d=\"M 52.3 545.3 L 63.5 544.2 A 438.7 438.7 0 0 1 62.9 537.7\" id=\"658,193\"></path><path d=\"M 51.6 537.8 L 60.6 537.0 A 441.0 441.0 0 0 1 60.1 531.5\" id=\"644,192\"></path><path d=\"M 51.0 530.2 L 55.5 529.9 A 445.5 445.5 0 0 1 55.3 526.2\" id=\"626,191\"></path><path d=\"M 50.6 522.7 L 55.1 522.4 A 445.5 445.5 0 0 0 55.3 526.2\" id=\"626,190\"></path><path d=\"M 50.3 515.1 L 207.7 509.8 A 292.5 292.5 0 0 1 207.6 506.1\" id=\"657,189\"></path><path d=\"M 50.1 507.6 L 110.8 506.5 A 389.2 389.2 0 0 1 110.8 503.3\" id=\"643,188\"></path><path d=\"M 50.0 500.0 L 110.8 500.0 A 389.2 389.2 0 0 0 110.8 503.3\" id=\"643,187\"></path><path d=\"M 50.1 492.4 L 196.3 494.9 A 303.7 303.7 0 0 1 196.6 485.3\" id=\"656,186\"></path><path d=\"M 50.3 484.9 L 79.5 485.9 A 420.7 420.7 0 0 1 79.6 482.3\" id=\"625,185\"></path><path d=\"M 50.6 477.3 L 79.8 478.8 A 420.7 420.7 0 0 0 79.6 482.3\" id=\"625,184\"></path><path d=\"M 51.0 469.8 L 51.0 469.8 A 450.0 450.0 0 0 1 51.4 464.1\" id=\"609,183\"></path><path d=\"M 51.6 462.2 L 51.6 462.2 A 450.0 450.0 0 0 1 51.9 458.5\" id=\"588,182\"></path><path d=\"M 52.3 454.7 L 52.3 454.7 A 450.0 450.0 0 0 0 51.9 458.5\" id=\"588,181\"></path><path d=\"M 53.1 447.2 L 73.2 449.6 A 429.8 429.8 0 0 1 73.9 444.2\" id=\"587,180\"></path><path d=\"M 54.1 439.7 L 56.3 440.0 A 447.7 447.7 0 0 1 56.8 436.3\" id=\"570,179\"></path><path d=\"M 55.1 432.2 L 57.4 432.6 A 447.7 447.7 0 0 0 56.8 436.3\" id=\"570,178\"></path><path d=\"M 56.3 424.8 L 65.2 426.3 A 441.0 441.0 0 0 1 66.3 419.9\" id=\"586,177\"></path><path d=\"M 57.7 417.3 L 59.9 417.7 A 447.7 447.7 0 0 1 60.9 412.2\" id=\"569,176\"></path><path d=\"M 59.1 409.9 L 61.3 410.3 A 447.7 447.7 0 0 1 62.1 406.7\" id=\"554,175\"></path><path d=\"M 60.7 402.5 L 62.9 403.0 A 447.7 447.7 0 0 0 62.1 406.7\" id=\"554,174\"></path><path d=\"M 62.4 395.1 L 66.8 396.2 A 445.5 445.5 0 0 1 68.1 390.7\" id=\"671,173\"></path><path d=\"M 64.2 387.8 L 64.2 387.8 A 450.0 450.0 0 0 1 65.2 384.1\" id=\"655,172\"></path><path d=\"M 66.2 380.5 L 66.2 380.5 A 450.0 450.0 0 0 0 65.2 384.1\" id=\"655,171\"></path><path d=\"M 68.2 373.2 L 234.5 422.0 A 276.7 276.7 0 0 1 237.2 413.4\" id=\"670,170\"></path><path d=\"M 70.4 366.0 L 229.4 415.6 A 283.5 283.5 0 0 1 233.8 402.5\" id=\"654,169\"></path><path d=\"M 72.7 358.8 L 77.0 360.2 A 445.5 445.5 0 0 1 78.2 356.7\" id=\"607,168\"></path><path d=\"M 75.2 351.6 L 79.4 353.1 A 445.5 445.5 0 0 0 78.2 356.7\" id=\"607,167\"></path><path d=\"M 77.7 344.5 L 100.9 353.1 A 425.3 425.3 0 0 1 102.8 348.0\" id=\"606,166\"></path><path d=\"M 80.4 337.4 L 80.4 337.4 A 450.0 450.0 0 0 1 81.8 333.9\" id=\"585,165\"></path><path d=\"M 83.2 330.4 L 83.2 330.4 A 450.0 450.0 0 0 0 81.8 333.9\" id=\"585,164\"></path><path d=\"M 86.1 323.4 L 92.3 326.1 A 443.2 443.2 0 0 1 93.8 322.7\" id=\"605,163\"></path><path d=\"M 89.1 316.5 L 95.3 319.3 A 443.2 443.2 0 0 0 93.8 322.7\" id=\"605,162\"></path><path d=\"M 92.3 309.6 L 102.4 314.4 A 438.7 438.7 0 0 1 104.0 311.1\" id=\"584,161\"></path><path d=\"M 95.5 302.8 L 105.6 307.7 A 438.7 438.7 0 0 0 104.0 311.1\" id=\"584,160\"></path><path d=\"M 98.9 296.0 L 159.0 326.6 A 382.5 382.5 0 0 1 161.8 321.3\" id=\"568,159\"></path><path d=\"M 102.4 289.3 L 160.0 319.9 A 384.7 384.7 0 0 1 162.7 314.9\" id=\"553,158\"></path><path d=\"M 106.0 282.7 L 145.3 304.4 A 405.0 405.0 0 0 1 147.8 300.0\" id=\"537,157\"></path><path d=\"M 109.7 276.1 L 146.7 297.4 A 407.3 407.3 0 0 1 148.4 294.4\" id=\"518,156\"></path><path d=\"M 113.5 269.6 L 150.2 291.4 A 407.3 407.3 0 0 0 148.4 294.4\" id=\"518,155\"></path><path d=\"M 117.4 263.1 L 167.1 293.9 A 391.5 391.5 0 0 1 169.8 289.7\" id=\"552,154\"></path><path d=\"M 121.4 256.7 L 121.4 256.7 A 450.0 450.0 0 0 1 123.5 253.5\" id=\"536,153\"></path><path d=\"M 125.6 250.4 L 125.6 250.4 A 450.0 450.0 0 0 0 123.5 253.5\" id=\"536,152\"></path><path d=\"M 129.8 244.1 L 246.4 324.7 A 308.2 308.2 0 0 1 252.5 316.2\" id=\"551,151\"></path><path d=\"M 134.2 237.9 L 247.6 319.2 A 310.5 310.5 0 0 1 257.2 306.5\" id=\"535,150\"></path><path d=\"M 138.6 231.8 L 138.6 231.8 A 450.0 450.0 0 0 1 140.9 228.8\" id=\"486,149\"></path><path d=\"M 143.2 225.8 L 143.2 225.8 A 450.0 450.0 0 0 0 140.9 228.8\" id=\"486,148\"></path><path d=\"M 147.8 219.9 L 161.9 231.0 A 432.0 432.0 0 0 1 164.2 228.2\" id=\"474,147\"></path><path d=\"M 152.6 214.0 L 166.5 225.4 A 432.0 432.0 0 0 0 164.2 228.2\" id=\"474,146\"></path><path d=\"M 157.4 208.2 L 157.4 208.2 A 450.0 450.0 0 0 1 159.9 205.3\" id=\"473,145\"></path><path d=\"M 162.4 202.5 L 162.4 202.5 A 450.0 450.0 0 0 0 159.9 205.3\" id=\"473,144\"></path><path d=\"M 167.4 196.8 L 194.1 221.1 A 414.0 414.0 0 0 1 196.4 218.5\" id=\"484,143\"></path><path d=\"M 172.6 191.3 L 198.8 216.0 A 414.0 414.0 0 0 0 196.4 218.5\" id=\"484,142\"></path><path d=\"M 177.8 185.8 L 179.4 187.4 A 447.7 447.7 0 0 1 182.1 184.7\" id=\"472,141\"></path><path d=\"M 183.1 180.5 L 184.7 182.1 A 447.7 447.7 0 0 0 182.1 184.7\" id=\"472,140\"></path><path d=\"M 188.6 175.2 L 207.2 194.7 A 423.0 423.0 0 0 1 213.5 188.8\" id=\"471,139\"></path><path d=\"M 194.1 170.0 L 212.4 189.8 A 423.0 423.0 0 0 1 219.9 183.0\" id=\"463,138\"></path><path d=\"M 199.6 164.9 L 199.6 164.9 A 450.0 450.0 0 0 1 202.5 162.4\" id=\"445,137\"></path><path d=\"M 205.3 159.9 L 205.3 159.9 A 450.0 450.0 0 0 0 202.5 162.4\" id=\"445,136\"></path><path d=\"M 211.1 155.0 L 226.9 174.0 A 425.3 425.3 0 0 1 233.5 168.6\" id=\"444,135\"></path><path d=\"M 216.9 150.2 L 229.6 165.9 A 429.8 429.8 0 0 1 237.4 159.8\" id=\"440,134\"></path><path d=\"M 222.8 145.5 L 233.9 159.7 A 432.0 432.0 0 0 1 244.0 152.0\" id=\"437,133\"></path><path d=\"M 228.8 140.9 L 238.3 153.4 A 434.3 434.3 0 0 1 253.0 142.8\" id=\"434,132\"></path><path d=\"M 234.9 136.4 L 240.2 143.7 A 441.0 441.0 0 0 1 245.5 139.9\" id=\"430,131\"></path><path d=\"M 241.0 132.0 L 243.6 135.7 A 445.5 445.5 0 0 1 248.2 132.5\" id=\"427,130\"></path><path d=\"M 247.3 127.7 L 249.8 131.4 A 445.5 445.5 0 0 1 252.9 129.3\" id=\"424,129\"></path><path d=\"M 253.5 123.5 L 256.0 127.3 A 445.5 445.5 0 0 0 252.9 129.3\" id=\"424,128\"></path><path d=\"M 259.9 119.4 L 267.1 130.8 A 436.5 436.5 0 0 1 286.5 119.3\" id=\"429,127\"></path><path d=\"M 266.3 115.4 L 268.7 119.3 A 445.5 445.5 0 0 1 274.7 115.7\" id=\"423,126\"></path><path d=\"M 272.8 111.6 L 274.0 113.5 A 447.7 447.7 0 0 1 279.7 110.2\" id=\"420,125\"></path><path d=\"M 279.4 107.8 L 280.5 109.8 A 447.7 447.7 0 0 1 285.4 107.0\" id=\"416,124\"></path><path d=\"M 286.0 104.1 L 286.0 104.1 A 450.0 450.0 0 0 1 289.3 102.4\" id=\"411,123\"></path><path d=\"M 292.7 100.6 L 292.7 100.6 A 450.0 450.0 0 0 0 289.3 102.4\" id=\"411,122\"></path><path d=\"M 299.4 97.2 L 301.4 101.2 A 445.5 445.5 0 0 1 307.9 98.0\" id=\"419,121\"></path><path d=\"M 306.2 93.9 L 307.2 95.9 A 447.7 447.7 0 0 1 313.6 92.9\" id=\"415,120\"></path><path d=\"M 313.1 90.7 L 314.0 92.7 A 447.7 447.7 0 0 1 320.0 90.0\" id=\"410,119\"></path><path d=\"M 320.0 87.6 L 320.9 89.6 A 447.7 447.7 0 0 1 326.1 87.4\" id=\"407,118\"></path><path d=\"M 326.9 84.6 L 326.9 84.6 A 450.0 450.0 0 0 1 330.4 83.2\" id=\"404,117\"></path><path d=\"M 333.9 81.8 L 333.9 81.8 A 450.0 450.0 0 0 0 330.4 83.2\" id=\"404,116\"></path><path d=\"M 341.0 79.0 L 343.4 85.4 A 443.2 443.2 0 0 1 346.8 84.1\" id=\"414,115\"></path><path d=\"M 348.1 76.4 L 350.3 82.8 A 443.2 443.2 0 0 0 346.8 84.1\" id=\"414,114\"></path><path d=\"M 355.2 73.9 L 356.7 78.2 A 445.5 445.5 0 0 1 364.1 75.7\" id=\"413,113\"></path><path d=\"M 362.4 71.6 L 363.8 75.8 A 445.5 445.5 0 0 1 371.5 73.4\" id=\"409,112\"></path><path d=\"M 369.6 69.3 L 370.9 73.6 A 445.5 445.5 0 0 1 379.3 71.2\" id=\"406,111\"></path><path d=\"M 376.9 67.2 L 378.1 71.5 A 445.5 445.5 0 0 1 387.8 68.9\" id=\"403,110\"></path><path d=\"M 384.1 65.2 L 385.3 69.5 A 445.5 445.5 0 0 1 397.5 66.4\" id=\"401,109\"></path><path d=\"M 391.5 63.3 L 392.0 65.5 A 447.7 447.7 0 0 1 397.5 64.1\" id=\"397,108\"></path><path d=\"M 398.8 61.5 L 398.8 61.5 A 450.0 450.0 0 0 1 402.5 60.7\" id=\"394,107\"></path><path d=\"M 406.2 59.9 L 406.2 59.9 A 450.0 450.0 0 0 0 402.5 60.7\" id=\"394,106\"></path><path d=\"M 413.6 58.4 L 414.0 60.6 A 447.7 447.7 0 0 1 421.3 59.2\" id=\"396,105\"></path><path d=\"M 421.0 57.0 L 421.4 59.2 A 447.7 447.7 0 0 1 428.6 58.0\" id=\"393,104\"></path><path d=\"M 428.5 55.7 L 428.8 57.9 A 447.7 447.7 0 0 1 435.8 56.9\" id=\"391,103\"></path><path d=\"M 436.0 54.6 L 436.3 56.8 A 447.7 447.7 0 0 1 442.8 55.9\" id=\"389,102\"></path><path d=\"M 443.5 53.6 L 443.7 55.8 A 447.7 447.7 0 0 1 449.3 55.1\" id=\"387,101\"></path><path d=\"M 451.0 52.7 L 451.2 54.9 A 447.7 447.7 0 0 1 454.9 54.5\" id=\"385,100\"></path><path d=\"M 458.5 51.9 L 458.7 54.2 A 447.7 447.7 0 0 0 454.9 54.5\" id=\"385,99\"></path><path d=\"M 466.0 51.3 L 466.0 51.3 A 450.0 450.0 0 0 1 469.8 51.0\" id=\"640,98\"></path><path d=\"M 473.6 50.8 L 473.6 50.8 A 450.0 450.0 0 0 0 469.8 51.0\" id=\"640,97\"></path><path d=\"M 481.1 50.4 L 481.1 50.4 A 450.0 450.0 0 0 1 484.9 50.3\" id=\"639,96\"></path><path d=\"M 488.7 50.1 L 488.7 50.1 A 450.0 450.0 0 0 0 484.9 50.3\" id=\"639,95\"></path><path d=\"M 496.2 50.0 L 496.3 56.8 A 443.2 443.2 0 0 1 500.0 56.7\" id=\"638,94\"></path><path d=\"M 503.8 50.0 L 503.7 56.8 A 443.2 443.2 0 0 0 500.0 56.7\" id=\"638,93\"></path><path d=\"M 511.3 50.1 L 510.8 72.6 A 427.5 427.5 0 0 1 517.5 72.8\" id=\"637,92\"></path><path d=\"M 518.9 50.4 L 518.8 52.6 A 447.7 447.7 0 0 1 525.4 53.0\" id=\"621,91\"></path><path d=\"M 526.4 50.8 L 526.4 50.8 A 450.0 450.0 0 0 1 532.1 51.1\" id=\"603,90\"></path><path d=\"M 534.0 51.3 L 534.0 51.3 A 450.0 450.0 0 0 1 537.8 51.6\" id=\"582,89\"></path><path d=\"M 541.5 51.9 L 541.5 51.9 A 450.0 450.0 0 0 0 537.8 51.6\" id=\"582,88\"></path><path d=\"M 549.0 52.7 L 542.9 108.6 A 393.7 393.7 0 0 1 572.0 112.9\" id=\"668,87\"></path><path d=\"M 556.5 53.6 L 552.0 89.3 A 414.0 414.0 0 0 1 558.7 90.2\" id=\"636,86\"></path><path d=\"M 564.0 54.6 L 559.2 88.0 A 416.2 416.2 0 0 1 565.7 89.0\" id=\"620,85\"></path><path d=\"M 571.5 55.7 L 566.9 84.6 A 420.7 420.7 0 0 1 573.0 85.6\" id=\"602,84\"></path><path d=\"M 579.0 57.0 L 577.8 63.6 A 443.2 443.2 0 0 1 583.3 64.6\" id=\"581,83\"></path><path d=\"M 586.4 58.4 L 586.4 58.4 A 450.0 450.0 0 0 1 590.1 59.1\" id=\"566,82\"></path><path d=\"M 593.8 59.9 L 593.8 59.9 A 450.0 450.0 0 0 0 590.1 59.1\" id=\"566,81\"></path><path d=\"M 601.2 61.5 L 595.1 87.8 A 423.0 423.0 0 0 1 598.6 88.6\" id=\"601,80\"></path><path d=\"M 608.5 63.3 L 602.0 89.5 A 423.0 423.0 0 0 0 598.6 88.6\" id=\"601,79\"></path><path d=\"M 615.9 65.2 L 604.3 108.6 A 405.0 405.0 0 0 1 612.6 110.9\" id=\"600,78\"></path><path d=\"M 623.1 67.2 L 612.1 106.1 A 409.5 409.5 0 0 1 622.2 109.1\" id=\"580,77\"></path><path d=\"M 630.4 69.3 L 627.1 80.1 A 438.7 438.7 0 0 1 630.7 81.2\" id=\"550,76\"></path><path d=\"M 637.6 71.6 L 634.2 82.3 A 438.7 438.7 0 0 0 630.7 81.2\" id=\"550,75\"></path><path d=\"M 644.8 73.9 L 644.8 73.9 A 450.0 450.0 0 0 1 648.4 75.2\" id=\"534,74\"></path><path d=\"M 651.9 76.4 L 651.9 76.4 A 450.0 450.0 0 0 0 648.4 75.2\" id=\"534,73\"></path><path d=\"M 659.0 79.0 L 655.8 87.5 A 441.0 441.0 0 0 1 661.0 89.5\" id=\"533,72\"></path><path d=\"M 666.1 81.8 L 665.2 83.9 A 447.7 447.7 0 0 1 668.7 85.3\" id=\"516,71\"></path><path d=\"M 673.1 84.6 L 672.2 86.7 A 447.7 447.7 0 0 0 668.7 85.3\" id=\"516,70\"></path><path d=\"M 680.0 87.6 L 670.1 110.3 A 425.3 425.3 0 0 1 673.4 111.7\" id=\"599,69\"></path><path d=\"M 686.9 90.7 L 676.7 113.2 A 425.3 425.3 0 0 0 673.4 111.7\" id=\"599,68\"></path><path d=\"M 693.8 93.9 L 674.4 134.5 A 405.0 405.0 0 0 1 715.7 157.2\" id=\"598,67\"></path><path d=\"M 700.6 97.2 L 695.6 107.2 A 438.7 438.7 0 0 1 698.9 108.9\" id=\"548,66\"></path><path d=\"M 707.3 100.6 L 702.1 110.6 A 438.7 438.7 0 0 0 698.9 108.9\" id=\"548,65\"></path><path d=\"M 714.0 104.1 L 706.5 118.0 A 434.3 434.3 0 0 1 709.7 119.7\" id=\"532,64\"></path><path d=\"M 720.6 107.8 L 712.9 121.5 A 434.3 434.3 0 0 0 709.7 119.7\" id=\"532,63\"></path><path d=\"M 727.2 111.6 L 715.8 131.0 A 427.5 427.5 0 0 1 721.9 134.6\" id=\"515,62\"></path><path d=\"M 733.7 115.4 L 723.2 132.7 A 429.8 429.8 0 0 1 729.1 136.4\" id=\"498,61\"></path><path d=\"M 740.1 119.4 L 736.5 125.1 A 443.2 443.2 0 0 1 742.4 128.9\" id=\"482,60\"></path><path d=\"M 746.5 123.5 L 744.0 127.3 A 445.5 445.5 0 0 1 749.4 130.9\" id=\"470,59\"></path><path d=\"M 752.7 127.7 L 750.2 131.4 A 445.5 445.5 0 0 1 754.8 134.6\" id=\"462,58\"></path><path d=\"M 759.0 132.0 L 757.7 133.8 A 447.7 447.7 0 0 1 760.7 136.0\" id=\"451,57\"></path><path d=\"M 765.1 136.4 L 763.8 138.2 A 447.7 447.7 0 0 0 760.7 136.0\" id=\"451,56\"></path><path d=\"M 771.2 140.9 L 769.8 142.7 A 447.7 447.7 0 0 1 772.8 145.0\" id=\"497,55\"></path><path d=\"M 777.2 145.5 L 775.8 147.3 A 447.7 447.7 0 0 0 772.8 145.0\" id=\"497,54\"></path><path d=\"M 783.1 150.2 L 767.5 169.4 A 425.3 425.3 0 0 1 773.9 174.7\" id=\"496,53\"></path><path d=\"M 788.9 155.0 L 777.4 168.8 A 432.0 432.0 0 0 1 784.6 175.0\" id=\"481,52\"></path><path d=\"M 794.7 159.9 L 790.3 165.0 A 443.2 443.2 0 0 1 793.1 167.5\" id=\"461,51\"></path><path d=\"M 800.4 164.9 L 795.9 169.9 A 443.2 443.2 0 0 0 793.1 167.5\" id=\"461,50\"></path><path d=\"M 805.9 170.0 L 804.4 171.7 A 447.7 447.7 0 0 1 808.5 175.5\" id=\"460,49\"></path><path d=\"M 811.4 175.2 L 811.4 175.2 A 450.0 450.0 0 0 1 814.2 177.8\" id=\"450,48\"></path><path d=\"M 816.9 180.5 L 816.9 180.5 A 450.0 450.0 0 0 0 814.2 177.8\" id=\"450,47\"></path><path d=\"M 822.2 185.8 L 793.2 214.1 A 409.5 409.5 0 0 1 805.4 227.2\" id=\"563,46\"></path><path d=\"M 827.4 191.3 L 809.4 208.3 A 425.3 425.3 0 0 1 811.9 210.9\" id=\"513,45\"></path><path d=\"M 832.6 196.8 L 814.3 213.5 A 425.3 425.3 0 0 0 811.9 210.9\" id=\"513,44\"></path><path d=\"M 837.6 202.5 L 817.3 220.3 A 423.0 423.0 0 0 1 820.8 224.3\" id=\"512,43\"></path><path d=\"M 842.6 208.2 L 842.6 208.2 A 450.0 450.0 0 0 1 845.0 211.1\" id=\"495,42\"></path><path d=\"M 847.4 214.0 L 847.4 214.0 A 450.0 450.0 0 0 0 845.0 211.1\" id=\"495,41\"></path><path d=\"M 852.2 219.9 L 848.6 222.7 A 445.5 445.5 0 0 1 851.0 225.6\" id=\"511,40\"></path><path d=\"M 856.8 225.8 L 853.2 228.5 A 445.5 445.5 0 0 0 851.0 225.6\" id=\"511,39\"></path><path d=\"M 861.4 231.8 L 857.8 234.5 A 445.5 445.5 0 0 1 862.3 240.7\" id=\"510,38\"></path><path d=\"M 865.8 237.9 L 864.0 239.3 A 447.7 447.7 0 0 1 868.5 245.7\" id=\"494,37\"></path><path d=\"M 870.2 244.1 L 868.3 245.4 A 447.7 447.7 0 0 1 872.9 252.2\" id=\"480,36\"></path><path d=\"M 874.4 250.4 L 872.6 251.6 A 447.7 447.7 0 0 1 877.4 259.1\" id=\"468,35\"></path><path d=\"M 878.6 256.7 L 876.7 257.9 A 447.7 447.7 0 0 1 882.2 266.7\" id=\"459,34\"></path><path d=\"M 882.6 263.1 L 882.6 263.1 A 450.0 450.0 0 0 1 884.6 266.3\" id=\"443,33\"></path><path d=\"M 886.5 269.6 L 886.5 269.6 A 450.0 450.0 0 0 0 884.6 266.3\" id=\"443,32\"></path><path d=\"M 890.3 276.1 L 890.3 276.1 A 450.0 450.0 0 0 1 894.0 282.7\" id=\"442,31\"></path><path d=\"M 894.0 282.7 L 894.0 282.7 A 450.0 450.0 0 0 1 897.6 289.3\" id=\"439,30\"></path><path d=\"M 897.6 289.3 L 897.6 289.3 A 450.0 450.0 0 0 1 901.1 296.0\" id=\"436,29\"></path><path d=\"M 901.1 296.0 L 901.1 296.0 A 450.0 450.0 0 0 1 904.5 302.8\" id=\"433,28\"></path><path d=\"M 904.5 302.8 L 904.5 302.8 A 450.0 450.0 0 0 1 907.7 309.6\" id=\"431,27\"></path><path d=\"M 907.7 309.6 L 907.7 309.6 A 450.0 450.0 0 0 1 910.9 316.5\" id=\"428,26\"></path><path d=\"M 910.9 316.5 L 910.9 316.5 A 450.0 450.0 0 0 1 913.9 323.4\" id=\"425,25\"></path><path d=\"M 913.9 323.4 L 913.9 323.4 A 450.0 450.0 0 0 1 916.8 330.4\" id=\"421,24\"></path><path d=\"M 916.8 330.4 L 916.8 330.4 A 450.0 450.0 0 0 1 919.6 337.4\" id=\"417,23\"></path><path d=\"M 919.6 337.4 L 919.6 337.4 A 450.0 450.0 0 0 1 922.3 344.5\" id=\"412,22\"></path><path d=\"M 922.3 344.5 L 922.3 344.5 A 450.0 450.0 0 0 1 924.8 351.6\" id=\"408,21\"></path><path d=\"M 924.8 351.6 L 924.8 351.6 A 450.0 450.0 0 0 1 927.3 358.8\" id=\"405,20\"></path><path d=\"M 927.3 358.8 L 927.3 358.8 A 450.0 450.0 0 0 1 929.6 366.0\" id=\"402,19\"></path><path d=\"M 929.6 366.0 L 929.6 366.0 A 450.0 450.0 0 0 1 931.8 373.2\" id=\"400,18\"></path><path d=\"M 931.8 373.2 L 931.8 373.2 A 450.0 450.0 0 0 1 933.8 380.5\" id=\"398,17\"></path><path d=\"M 933.8 380.5 L 933.8 380.5 A 450.0 450.0 0 0 1 935.8 387.8\" id=\"395,16\"></path><path d=\"M 935.8 387.8 L 935.8 387.8 A 450.0 450.0 0 0 1 937.6 395.1\" id=\"392,15\"></path><path d=\"M 937.6 395.1 L 937.6 395.1 A 450.0 450.0 0 0 1 939.3 402.5\" id=\"390,14\"></path><path d=\"M 939.3 402.5 L 939.3 402.5 A 450.0 450.0 0 0 1 940.9 409.9\" id=\"388,13\"></path><path d=\"M 940.9 409.9 L 940.9 409.9 A 450.0 450.0 0 0 1 942.3 417.3\" id=\"386,12\"></path><path d=\"M 942.3 417.3 L 942.3 417.3 A 450.0 450.0 0 0 1 943.7 424.8\" id=\"384,11\"></path><path d=\"M 943.7 424.8 L 943.7 424.8 A 450.0 450.0 0 0 1 944.9 432.2\" id=\"383,10\"></path><path d=\"M 944.9 432.2 L 944.9 432.2 A 450.0 450.0 0 0 1 945.9 439.7\" id=\"382,9\"></path><path d=\"M 945.9 439.7 L 945.9 439.7 A 450.0 450.0 0 0 1 946.9 447.2\" id=\"381,8\"></path><path d=\"M 946.9 447.2 L 946.9 447.2 A 450.0 450.0 0 0 1 947.7 454.7\" id=\"380,7\"></path><path d=\"M 947.7 454.7 L 947.7 454.7 A 450.0 450.0 0 0 1 948.4 462.1\" id=\"379,6\"></path><path d=\"M 948.4 462.2 L 948.4 462.2 A 450.0 450.0 0 0 1 949.0 469.5\" id=\"378,5\"></path><path d=\"M 949.0 469.8 L 949.0 469.8 A 450.0 450.0 0 0 1 949.4 476.9\" id=\"377,4\"></path><path d=\"M 949.4 477.3 L 949.4 477.3 A 450.0 450.0 0 0 1 949.7 483.9\" id=\"376,3\"></path><path d=\"M 949.7 484.9 L 949.7 484.9 A 450.0 450.0 0 0 1 949.9 490.6\" id=\"375,2\"></path><path d=\"M 949.9 492.4 L 949.9 492.4 A 450.0 450.0 0 0 1 950.0 496.2\" id=\"374,1\"></path><path d=\"M 950.0 500.0 L 950.0 500.0 A 450.0 450.0 0 0 0 950.0 496.2\" id=\"374,0\"></path></g></g></g><g class=\"toyplot-coordinates-Axis\" id=\"t9600967db83b432d8c4bcdf1261a1f7c\" transform=\"translate(50.0,950.0)translate(0,20.0)\"><line x1=\"0\" y1=\"0\" x2=\"900.0\" y2=\"0\" style=\"\"></line><g><g transform=\"translate(0.0,6)\"><text x=\"-10.004999999999999\" y=\"8.555\" style=\"fill:rgb(16.1%,15.3%,14.1%);fill-opacity:1.0;font-family:helvetica;font-size:10.0px;font-weight:normal;stroke:none;vertical-align:baseline;white-space:pre\">-200</text></g><g transform=\"translate(225.0,6)\"><text x=\"-10.004999999999999\" y=\"8.555\" style=\"fill:rgb(16.1%,15.3%,14.1%);fill-opacity:1.0;font-family:helvetica;font-size:10.0px;font-weight:normal;stroke:none;vertical-align:baseline;white-space:pre\">-100</text></g><g transform=\"translate(450.0,6)\"><text x=\"-2.78\" y=\"8.555\" style=\"fill:rgb(16.1%,15.3%,14.1%);fill-opacity:1.0;font-family:helvetica;font-size:10.0px;font-weight:normal;stroke:none;vertical-align:baseline;white-space:pre\">0</text></g><g transform=\"translate(675.0,6)\"><text x=\"-8.34\" y=\"8.555\" style=\"fill:rgb(16.1%,15.3%,14.1%);fill-opacity:1.0;font-family:helvetica;font-size:10.0px;font-weight:normal;stroke:none;vertical-align:baseline;white-space:pre\">100</text></g><g transform=\"translate(900.0,6)\"><text x=\"-8.34\" y=\"8.555\" style=\"fill:rgb(16.1%,15.3%,14.1%);fill-opacity:1.0;font-family:helvetica;font-size:10.0px;font-weight:normal;stroke:none;vertical-align:baseline;white-space:pre\">200</text></g></g><g class=\"toyplot-coordinates-Axis-coordinates\" style=\"visibility:hidden\" transform=\"\"><line x1=\"0\" x2=\"0\" y1=\"-3.0\" y2=\"4.5\" style=\"stroke:rgb(43.9%,50.2%,56.5%);stroke-opacity:1.0;stroke-width:1.0\"></line><text x=\"0\" y=\"-6\" style=\"alignment-baseline:alphabetic;fill:rgb(43.9%,50.2%,56.5%);fill-opacity:1.0;font-size:10px;font-weight:normal;stroke:none;text-anchor:middle\"></text></g></g><g class=\"toyplot-coordinates-Axis\" id=\"tb29875e35a984a6599901c8ee9b667c4\" transform=\"translate(50.0,950.0)rotate(-90.0)translate(0,-20.0)\"><line x1=\"0.015875832400510603\" y1=\"0\" x2=\"899.9841241675995\" y2=\"0\" style=\"\"></line><g><g transform=\"translate(0.0,-6)\"><text x=\"-10.004999999999999\" y=\"-4.440892098500626e-16\" style=\"fill:rgb(16.1%,15.3%,14.1%);fill-opacity:1.0;font-family:helvetica;font-size:10.0px;font-weight:normal;stroke:none;vertical-align:baseline;white-space:pre\">-200</text></g><g transform=\"translate(225.0,-6)\"><text x=\"-10.004999999999999\" y=\"-4.440892098500626e-16\" style=\"fill:rgb(16.1%,15.3%,14.1%);fill-opacity:1.0;font-family:helvetica;font-size:10.0px;font-weight:normal;stroke:none;vertical-align:baseline;white-space:pre\">-100</text></g><g transform=\"translate(450.0,-6)\"><text x=\"-2.78\" y=\"-4.440892098500626e-16\" style=\"fill:rgb(16.1%,15.3%,14.1%);fill-opacity:1.0;font-family:helvetica;font-size:10.0px;font-weight:normal;stroke:none;vertical-align:baseline;white-space:pre\">0</text></g><g transform=\"translate(675.0,-6)\"><text x=\"-8.34\" y=\"-4.440892098500626e-16\" style=\"fill:rgb(16.1%,15.3%,14.1%);fill-opacity:1.0;font-family:helvetica;font-size:10.0px;font-weight:normal;stroke:none;vertical-align:baseline;white-space:pre\">100</text></g><g transform=\"translate(900.0,-6)\"><text x=\"-8.34\" y=\"-4.440892098500626e-16\" style=\"fill:rgb(16.1%,15.3%,14.1%);fill-opacity:1.0;font-family:helvetica;font-size:10.0px;font-weight:normal;stroke:none;vertical-align:baseline;white-space:pre\">200</text></g></g><g class=\"toyplot-coordinates-Axis-coordinates\" style=\"visibility:hidden\" transform=\"\"><line x1=\"0\" x2=\"0\" y1=\"3.0\" y2=\"-4.5\" style=\"stroke:rgb(43.9%,50.2%,56.5%);stroke-opacity:1.0;stroke-width:1.0\"></line><text x=\"0\" y=\"6\" style=\"alignment-baseline:hanging;fill:rgb(43.9%,50.2%,56.5%);fill-opacity:1.0;font-size:10px;font-weight:normal;stroke:none;text-anchor:middle\"></text></g></g></g></svg><div class=\"toyplot-behavior\"><script>(function()\n",
       "{\n",
       "var modules={};\n",
       "modules[\"toyplot/canvas/id\"] = \"t1ac6205ac4f243e3a41c08510318b498\";\n",
       "modules[\"toyplot/canvas\"] = (function(canvas_id)\n",
       "    {\n",
       "        return document.querySelector(\"#\" + canvas_id);\n",
       "    })(modules[\"toyplot/canvas/id\"]);\n",
       "modules[\"toyplot.coordinates.Axis\"] = (\n",
       "        function(canvas)\n",
       "        {\n",
       "            function sign(x)\n",
       "            {\n",
       "                return x < 0 ? -1 : x > 0 ? 1 : 0;\n",
       "            }\n",
       "\n",
       "            function mix(a, b, amount)\n",
       "            {\n",
       "                return ((1.0 - amount) * a) + (amount * b);\n",
       "            }\n",
       "\n",
       "            function log(x, base)\n",
       "            {\n",
       "                return Math.log(Math.abs(x)) / Math.log(base);\n",
       "            }\n",
       "\n",
       "            function in_range(a, x, b)\n",
       "            {\n",
       "                var left = Math.min(a, b);\n",
       "                var right = Math.max(a, b);\n",
       "                return left <= x && x <= right;\n",
       "            }\n",
       "\n",
       "            function inside(range, projection)\n",
       "            {\n",
       "                for(var i = 0; i != projection.length; ++i)\n",
       "                {\n",
       "                    var segment = projection[i];\n",
       "                    if(in_range(segment.range.min, range, segment.range.max))\n",
       "                        return true;\n",
       "                }\n",
       "                return false;\n",
       "            }\n",
       "\n",
       "            function to_domain(range, projection)\n",
       "            {\n",
       "                for(var i = 0; i != projection.length; ++i)\n",
       "                {\n",
       "                    var segment = projection[i];\n",
       "                    if(in_range(segment.range.bounds.min, range, segment.range.bounds.max))\n",
       "                    {\n",
       "                        if(segment.scale == \"linear\")\n",
       "                        {\n",
       "                            var amount = (range - segment.range.min) / (segment.range.max - segment.range.min);\n",
       "                            return mix(segment.domain.min, segment.domain.max, amount)\n",
       "                        }\n",
       "                        else if(segment.scale[0] == \"log\")\n",
       "                        {\n",
       "                            var amount = (range - segment.range.min) / (segment.range.max - segment.range.min);\n",
       "                            var base = segment.scale[1];\n",
       "                            return sign(segment.domain.min) * Math.pow(base, mix(log(segment.domain.min, base), log(segment.domain.max, base), amount));\n",
       "                        }\n",
       "                    }\n",
       "                }\n",
       "            }\n",
       "\n",
       "            var axes = {};\n",
       "\n",
       "            function display_coordinates(e)\n",
       "            {\n",
       "                var current = canvas.createSVGPoint();\n",
       "                current.x = e.clientX;\n",
       "                current.y = e.clientY;\n",
       "\n",
       "                for(var axis_id in axes)\n",
       "                {\n",
       "                    var axis = document.querySelector(\"#\" + axis_id);\n",
       "                    var coordinates = axis.querySelector(\".toyplot-coordinates-Axis-coordinates\");\n",
       "                    if(coordinates)\n",
       "                    {\n",
       "                        var projection = axes[axis_id];\n",
       "                        var local = current.matrixTransform(axis.getScreenCTM().inverse());\n",
       "                        if(inside(local.x, projection))\n",
       "                        {\n",
       "                            var domain = to_domain(local.x, projection);\n",
       "                            coordinates.style.visibility = \"visible\";\n",
       "                            coordinates.setAttribute(\"transform\", \"translate(\" + local.x + \")\");\n",
       "                            var text = coordinates.querySelector(\"text\");\n",
       "                            text.textContent = domain.toFixed(2);\n",
       "                        }\n",
       "                        else\n",
       "                        {\n",
       "                            coordinates.style.visibility= \"hidden\";\n",
       "                        }\n",
       "                    }\n",
       "                }\n",
       "            }\n",
       "\n",
       "            canvas.addEventListener(\"click\", display_coordinates);\n",
       "\n",
       "            var module = {};\n",
       "            module.show_coordinates = function(axis_id, projection)\n",
       "            {\n",
       "                axes[axis_id] = projection;\n",
       "            }\n",
       "\n",
       "            return module;\n",
       "        })(modules[\"toyplot/canvas\"]);\n",
       "(function(axis, axis_id, projection)\n",
       "        {\n",
       "            axis.show_coordinates(axis_id, projection);\n",
       "        })(modules[\"toyplot.coordinates.Axis\"],\"t9600967db83b432d8c4bcdf1261a1f7c\",[{\"domain\": {\"bounds\": {\"max\": Infinity, \"min\": -Infinity}, \"max\": 200.0, \"min\": -200.0}, \"range\": {\"bounds\": {\"max\": Infinity, \"min\": -Infinity}, \"max\": 900.0, \"min\": 0.0}, \"scale\": \"linear\"}]);\n",
       "(function(axis, axis_id, projection)\n",
       "        {\n",
       "            axis.show_coordinates(axis_id, projection);\n",
       "        })(modules[\"toyplot.coordinates.Axis\"],\"tb29875e35a984a6599901c8ee9b667c4\",[{\"domain\": {\"bounds\": {\"max\": Infinity, \"min\": -Infinity}, \"max\": 200.0, \"min\": -200.0}, \"range\": {\"bounds\": {\"max\": Infinity, \"min\": -Infinity}, \"max\": 900.0, \"min\": 0.0}, \"scale\": \"linear\"}]);\n",
       "})();</script></div></div>"
      ]
     },
     "metadata": {},
     "output_type": "display_data"
    }
   ],
   "source": [
    "cvrltre = toytree.tree('declan.newick')\n",
    "cvrltre.draw(layout='c',width=800,height=1000,\n",
    "                node_markers=\"o\",node_hover=True, #node_sizes=node_sizes,\n",
    "                tip_labels=False,tip_labels_style=tip_labels_style,#node_colors=node_colors,\n",
    "                scalebar=True,edge_widths=1)"
   ]
  },
  {
   "cell_type": "code",
   "execution_count": null,
   "metadata": {},
   "outputs": [],
   "source": []
  }
 ],
 "metadata": {
  "kernelspec": {
   "display_name": "Python 3",
   "language": "python",
   "name": "python3"
  },
  "language_info": {
   "codemirror_mode": {
    "name": "ipython",
    "version": 3
   },
   "file_extension": ".py",
   "mimetype": "text/x-python",
   "name": "python",
   "nbconvert_exporter": "python",
   "pygments_lexer": "ipython3",
   "version": "3.9.5"
  }
 },
 "nbformat": 4,
 "nbformat_minor": 4
}
