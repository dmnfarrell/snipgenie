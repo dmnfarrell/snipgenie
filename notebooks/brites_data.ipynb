{
 "cells": [
  {
   "cell_type": "markdown",
   "id": "bf5ca2a6-8999-42f9-b1b1-3e1748b86517",
   "metadata": {},
   "source": [
    "# Global M. bovis lineages - fetch data\n",
    "\n",
    "* Brites paper: https://open-research-europe.ec.europa.eu/articles/1-100/v2\n",
    "* Joe data: https://www.ncbi.nlm.nih.gov/bioproject/PRJNA523164"
   ]
  },
  {
   "cell_type": "code",
   "execution_count": 11,
   "id": "97af57d1-ca19-44cd-80a1-979cb48faa11",
   "metadata": {},
   "outputs": [],
   "source": [
    "import sys,os,shutil,subprocess\n",
    "import glob,random\n",
    "from importlib import reload\n",
    "import numpy as np\n",
    "import pandas as pd\n",
    "pd.set_option('display.width', 200)\n",
    "import pylab as plt\n",
    "import matplotlib as mpl\n",
    "from Bio import SeqIO"
   ]
  },
  {
   "cell_type": "markdown",
   "id": "fd54b687-205c-4683-8d5e-c76d46f9a63b",
   "metadata": {},
   "source": [
    "## Brites data"
   ]
  },
  {
   "cell_type": "code",
   "execution_count": 25,
   "id": "0c6ba67b-7c70-4860-8a72-02214dd5796f",
   "metadata": {},
   "outputs": [],
   "source": [
    "brites=pd.read_csv('brites_table1.csv')\n",
    "brites=brites.dropna(subset=['Accession_Number'])\n",
    "brites.Clonal_Complex.value_counts()\n",
    "x=brites.Country.value_counts()\n",
    "countries=list(x[-24:].index)"
   ]
  },
  {
   "cell_type": "code",
   "execution_count": null,
   "id": "8d71d70a-7c5c-43d4-b50d-62e0ded398fd",
   "metadata": {
    "tags": []
   },
   "outputs": [],
   "source": [
    "brites[brites.Country=='United Kingdom']"
   ]
  },
  {
   "cell_type": "code",
   "execution_count": 4,
   "id": "fa3cc039-e1b8-4d6a-951e-d040c98adefb",
   "metadata": {},
   "outputs": [],
   "source": [
    "brites=brites[brites.Country!='Ireland']\n",
    "#low quality\n",
    "omit = ['ERR017796','SRR7131025','SRR7131117','SRR6797355']"
   ]
  },
  {
   "cell_type": "markdown",
   "id": "5ca0cb69-3977-4bfc-a8ee-4638c0525ac6",
   "metadata": {},
   "source": [
    "## fetch data"
   ]
  },
  {
   "cell_type": "code",
   "execution_count": 13,
   "id": "64a0b082-f6f0-4067-a920-8e591cc828eb",
   "metadata": {},
   "outputs": [],
   "source": [
    "def fetch_data(meta,col,path,omit=[]):\n",
    "    for run in meta[col]:\n",
    "        if run in omit:\n",
    "            continue\n",
    "        files = glob.glob(os.path.join(path,'%s*.fastq*') %run)\n",
    "        if len(files)>0:\n",
    "            continue\n",
    "        cmd = 'fastq-dump --split-files -O %s %s' %(path,run)\n",
    "        print (run)\n",
    "        print (cmd)\n",
    "        try:\n",
    "            subprocess.check_output(cmd, shell=True)\n",
    "        except:\n",
    "            print ('failed')\n",
    "            continue\n",
    "        f=os.path.join(path,'%s*.fastq' %run)\n",
    "        cmd = 'pigz %s' %f\n",
    "        print (cmd)\n",
    "        subprocess.check_output(cmd, shell=True)\n",
    "        "
   ]
  },
  {
   "cell_type": "code",
   "execution_count": null,
   "id": "b4ad8c70-f11b-49d2-8812-06d3dbeadf20",
   "metadata": {
    "tags": []
   },
   "outputs": [],
   "source": [
    "path = '/storage/btbgenie/brites'\n",
    "#uk = brites[brites.Country=='United Kingdom']\n",
    "rare = brites[brites.Country.isin(countries)]\n",
    "fetch_data(rare,'Accession_Number',path,omit)"
   ]
  },
  {
   "cell_type": "code",
   "execution_count": 6,
   "id": "41b46321-d3d7-4b55-ade4-4dd972c16110",
   "metadata": {
    "tags": []
   },
   "outputs": [],
   "source": [
    "files = glob.glob('/storage/btbgenie/mbovis_sra/*.fastq*')\n",
    "for f in files:\n",
    "    name=os.path.splitext(os.path.basename(f))[0].split('_')[0]\n",
    "    #print (name)\n",
    "    if name not in list(meta.Accession_Number):\n",
    "        print (name,os.path.basename(f))\n",
    "        shutil.move(f,os.path.join('/storage/btbgenie/mbovis_sra_other',os.path.basename(f)))"
   ]
  },
  {
   "cell_type": "markdown",
   "id": "8b694e6b-208d-4df0-9be1-a9f9ae523bb2",
   "metadata": {},
   "source": [
    "## Joe data"
   ]
  },
  {
   "cell_type": "code",
   "execution_count": 6,
   "id": "e8ae821a-21d4-4449-b6b1-c47299bbf55b",
   "metadata": {
    "tags": []
   },
   "outputs": [],
   "source": [
    "ukmeta = pd.read_csv('/storage/btbgenie/UK/joe_runtable.txt')\n",
    "\n",
    "path='/storage/btbgenie/UK'\n",
    "#fetch_data(ukmeta,'Run',path)"
   ]
  },
  {
   "cell_type": "code",
   "execution_count": 7,
   "id": "70f7d470-b68d-45bb-9fd3-e7401b975fd1",
   "metadata": {
    "tags": []
   },
   "outputs": [
    {
     "data": {
      "text/html": [
       "<div>\n",
       "<style scoped>\n",
       "    .dataframe tbody tr th:only-of-type {\n",
       "        vertical-align: middle;\n",
       "    }\n",
       "\n",
       "    .dataframe tbody tr th {\n",
       "        vertical-align: top;\n",
       "    }\n",
       "\n",
       "    .dataframe thead th {\n",
       "        text-align: right;\n",
       "    }\n",
       "</style>\n",
       "<table border=\"1\" class=\"dataframe\">\n",
       "  <thead>\n",
       "    <tr style=\"text-align: right;\">\n",
       "      <th></th>\n",
       "      <th>Accession_Number</th>\n",
       "      <th>Clonal_Complex</th>\n",
       "      <th>Country</th>\n",
       "      <th>Gnumber</th>\n",
       "      <th>Host</th>\n",
       "      <th>Map</th>\n",
       "      <th>SIB_Number</th>\n",
       "      <th>Sample.included.in.Loiseau.et.al..2020</th>\n",
       "    </tr>\n",
       "  </thead>\n",
       "  <tbody>\n",
       "  </tbody>\n",
       "</table>\n",
       "</div>"
      ],
      "text/plain": [
       "Empty DataFrame\n",
       "Columns: [Accession_Number, Clonal_Complex, Country, Gnumber, Host, Map, SIB_Number, Sample.included.in.Loiseau.et.al..2020]\n",
       "Index: []"
      ]
     },
     "execution_count": 7,
     "metadata": {},
     "output_type": "execute_result"
    }
   ],
   "source": [
    "#check against brites for dups\n",
    "ukmeta.Run\n",
    "brites[brites.Accession_Number.isin(ukmeta.Run)]"
   ]
  },
  {
   "cell_type": "code",
   "execution_count": null,
   "id": "952c82bf-57a0-4d18-9754-ee7e6b018e51",
   "metadata": {},
   "outputs": [],
   "source": []
  }
 ],
 "metadata": {
  "kernelspec": {
   "display_name": "Python 3 (ipykernel)",
   "language": "python",
   "name": "python3"
  },
  "language_info": {
   "codemirror_mode": {
    "name": "ipython",
    "version": 3
   },
   "file_extension": ".py",
   "mimetype": "text/x-python",
   "name": "python",
   "nbconvert_exporter": "python",
   "pygments_lexer": "ipython3",
   "version": "3.10.6"
  }
 },
 "nbformat": 4,
 "nbformat_minor": 5
}
