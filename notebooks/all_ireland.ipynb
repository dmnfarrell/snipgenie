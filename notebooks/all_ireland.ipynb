{
 "cells": [
  {
   "cell_type": "markdown",
   "metadata": {},
   "source": [
    "# All Ireland M.bovis strain diversity and clade identification"
   ]
  },
  {
   "cell_type": "code",
   "execution_count": 283,
   "metadata": {},
   "outputs": [],
   "source": [
    "import sys,os,io,shutil,subprocess\n",
    "import glob\n",
    "from importlib import reload\n",
    "import numpy as np\n",
    "import pandas as pd\n",
    "pd.set_option('display.width', 200)\n",
    "import pylab as plt\n",
    "import matplotlib as mpl\n",
    "from Bio import SeqIO\n",
    "import seaborn as sns\n",
    "sys.path.append('pathogenie')\n",
    "from snipgenie import tools, aligners, app, trees, plotting\n",
    "import toytree, toyplot\n",
    "import toyplot.pdf\n",
    "path = '/storage/btbgenie/all_ireland_results'"
   ]
  },
  {
   "cell_type": "markdown",
   "metadata": {},
   "source": [
    "## get meta data"
   ]
  },
  {
   "cell_type": "code",
   "execution_count": 314,
   "metadata": {},
   "outputs": [
    {
     "name": "stdout",
     "output_type": "stream",
     "text": [
      "583\n"
     ]
    }
   ],
   "source": [
    "meta = pd.read_csv('/storage/btbgenie/mbovis_ireland/all_ireland_samples.csv')\n",
    "print (len(meta))"
   ]
  },
  {
   "cell_type": "code",
   "execution_count": 336,
   "metadata": {},
   "outputs": [
    {
     "name": "stdout",
     "output_type": "stream",
     "text": [
      "          sample    county species  source  batch      aliquot\n",
      "419  TB19-007328  Monaghan     Cow  Declan    2.0  TB19-007328\n",
      "423  TB19-006784  Monaghan     Cow  Declan    2.0  TB19-006784\n",
      "424  TB19-006656  Monaghan     Cow  Declan    2.0  TB19-006656\n",
      "434  TB19-006246  Monaghan     Cow  Declan    2.0  TB19-006246\n",
      "438  TB19-003263     Cavan     Cow  Declan    2.0  TB19-003263\n",
      "439  TB19-003261     Cavan     Cow  Declan    2.0  TB19-003261\n",
      "440  TB19-003260     Cavan     Cow  Declan    2.0  TB19-003260\n",
      "471  TB19-002014  Monaghan     Cow   Kevin    3.0  TB19-002014\n",
      "477  TB19-003377  Monaghan     Cow   Kevin    3.0  TB19-003377\n",
      "479  TB19-003437  Monaghan     Cow   Kevin    3.0  TB19-003437\n",
      "488  TB19-003738  Monaghan     Cow   Kevin    3.0  TB19-003738\n",
      "489  TB19-003747  Monaghan     Cow   Kevin    3.0  TB19-003747\n",
      "490  TB19-003762  Monaghan     Cow   Kevin    3.0  TB19-003762\n",
      "495  TB19-003825  Monaghan     Cow   Kevin    3.0  TB19-003825\n",
      "501  TB19-004238  Monaghan     Cow   Kevin    3.0  TB19-004238\n",
      "533  TB19-004235  Monaghan     Cow   Kevin    4.0  TB19-004235\n",
      "534  TB19-005220  Monaghan     Cow   Kevin    4.0  TB19-005220\n",
      "          sample    county species  source  batch      aliquot\n",
      "125      19-7328  Monaghan     Cow   Kevin    1.0  TB19-007328\n",
      "419  TB19-007328  Monaghan     Cow  Declan    2.0  TB19-007328\n",
      "          sample    county species  source  batch      aliquot\n",
      "117      19-6784  Monaghan     Cow   Kevin    1.0  TB19-006784\n",
      "423  TB19-006784  Monaghan     Cow  Declan    2.0  TB19-006784\n",
      "          sample    county species  source  batch      aliquot\n",
      "116      19-6656  Monaghan     Cow   Kevin    1.0  TB19-006656\n",
      "424  TB19-006656  Monaghan     Cow  Declan    2.0  TB19-006656\n",
      "          sample    county species  source  batch      aliquot\n",
      "105      19-6246  Monaghan     Cow   Kevin    1.0  TB19-006246\n",
      "434  TB19-006246  Monaghan     Cow  Declan    2.0  TB19-006246\n",
      "          sample    county species  source  batch      aliquot\n",
      "181         3263  Monaghan  Badger   Kevin    1.0  TB19-003263\n",
      "438  TB19-003263     Cavan     Cow  Declan    2.0  TB19-003263\n",
      "          sample    county species  source  batch      aliquot\n",
      "180         3261  Monaghan  Badger   Kevin    1.0  TB19-003261\n",
      "439  TB19-003261     Cavan     Cow  Declan    2.0  TB19-003261\n",
      "          sample    county species  source  batch      aliquot\n",
      "179         3260  Monaghan  Badger   Kevin    1.0  TB19-003260\n",
      "440  TB19-003260     Cavan     Cow  Declan    2.0  TB19-003260\n",
      "          sample    county species source  batch      aliquot\n",
      "139         2014  Monaghan     Cow  Kevin    1.0  TB19-002014\n",
      "471  TB19-002014  Monaghan     Cow  Kevin    3.0  TB19-002014\n",
      "          sample    county species source  batch      aliquot\n",
      "183         3377  Monaghan     Cow  Kevin    1.0  TB19-003377\n",
      "477  TB19-003377  Monaghan     Cow  Kevin    3.0  TB19-003377\n",
      "          sample    county species source  batch      aliquot\n",
      "186         3437  Monaghan     Cow  Kevin    1.0  TB19-003437\n",
      "479  TB19-003437  Monaghan     Cow  Kevin    3.0  TB19-003437\n",
      "          sample    county species source  batch      aliquot\n",
      "198         3738  Monaghan     Cow  Kevin    1.0  TB19-003738\n",
      "488  TB19-003738  Monaghan     Cow  Kevin    3.0  TB19-003738\n",
      "          sample    county species source  batch      aliquot\n",
      "199         3747  Monaghan     Cow  Kevin    1.0  TB19-003747\n",
      "489  TB19-003747  Monaghan     Cow  Kevin    3.0  TB19-003747\n",
      "          sample    county species source  batch      aliquot\n",
      "200         3762  Monaghan     Cow  Kevin    1.0  TB19-003762\n",
      "490  TB19-003762  Monaghan     Cow  Kevin    3.0  TB19-003762\n",
      "          sample    county species source  batch      aliquot\n",
      "202         3825  Monaghan     Cow  Kevin    1.0  TB19-003825\n",
      "495  TB19-003825  Monaghan     Cow  Kevin    3.0  TB19-003825\n",
      "          sample    county species source  batch      aliquot\n",
      "208         4238  Monaghan     Cow  Kevin    1.0  TB19-004238\n",
      "501  TB19-004238  Monaghan     Cow  Kevin    3.0  TB19-004238\n",
      "          sample    county species source  batch      aliquot\n",
      "86       19-4235  Monaghan     Cow  Kevin    1.0  TB19-004235\n",
      "533  TB19-004235  Monaghan     Cow  Kevin    4.0  TB19-004235\n",
      "          sample    county species source  batch      aliquot\n",
      "236         5220  Monaghan     Cow  Kevin    1.0  TB19-005220\n",
      "534  TB19-005220  Monaghan     Cow  Kevin    4.0  TB19-005220\n"
     ]
    },
    {
     "data": {
      "text/html": [
       "<div>\n",
       "<style scoped>\n",
       "    .dataframe tbody tr th:only-of-type {\n",
       "        vertical-align: middle;\n",
       "    }\n",
       "\n",
       "    .dataframe tbody tr th {\n",
       "        vertical-align: top;\n",
       "    }\n",
       "\n",
       "    .dataframe thead th {\n",
       "        text-align: right;\n",
       "    }\n",
       "</style>\n",
       "<table border=\"1\" class=\"dataframe\">\n",
       "  <thead>\n",
       "    <tr style=\"text-align: right;\">\n",
       "      <th></th>\n",
       "      <th>sample</th>\n",
       "      <th>county</th>\n",
       "      <th>species</th>\n",
       "      <th>source</th>\n",
       "      <th>batch</th>\n",
       "      <th>aliquot</th>\n",
       "    </tr>\n",
       "  </thead>\n",
       "  <tbody>\n",
       "    <tr>\n",
       "      <th>437</th>\n",
       "      <td>TB19-005728</td>\n",
       "      <td>Monaghan</td>\n",
       "      <td>Cow</td>\n",
       "      <td>Declan</td>\n",
       "      <td>2.0</td>\n",
       "      <td>TB19-005728</td>\n",
       "    </tr>\n",
       "    <tr>\n",
       "      <th>460</th>\n",
       "      <td>TB19-010920</td>\n",
       "      <td>Monaghan</td>\n",
       "      <td>Cow</td>\n",
       "      <td>Declan</td>\n",
       "      <td>2.0</td>\n",
       "      <td>TB19-010920</td>\n",
       "    </tr>\n",
       "    <tr>\n",
       "      <th>535</th>\n",
       "      <td>TB19-008567</td>\n",
       "      <td>Monaghan</td>\n",
       "      <td>Cow</td>\n",
       "      <td>Kevin</td>\n",
       "      <td>4.0</td>\n",
       "      <td>TB19-008567</td>\n",
       "    </tr>\n",
       "    <tr>\n",
       "      <th>536</th>\n",
       "      <td>TB19-005666</td>\n",
       "      <td>Monaghan</td>\n",
       "      <td>Cow</td>\n",
       "      <td>Kevin</td>\n",
       "      <td>4.0</td>\n",
       "      <td>TB19-005666</td>\n",
       "    </tr>\n",
       "    <tr>\n",
       "      <th>537</th>\n",
       "      <td>TB19-004282</td>\n",
       "      <td>Monaghan</td>\n",
       "      <td>Cow</td>\n",
       "      <td>Kevin</td>\n",
       "      <td>4.0</td>\n",
       "      <td>TB19-004282</td>\n",
       "    </tr>\n",
       "    <tr>\n",
       "      <th>538</th>\n",
       "      <td>TB19-007986</td>\n",
       "      <td>Monaghan</td>\n",
       "      <td>Cow</td>\n",
       "      <td>Kevin</td>\n",
       "      <td>4.0</td>\n",
       "      <td>TB19-007986</td>\n",
       "    </tr>\n",
       "  </tbody>\n",
       "</table>\n",
       "</div>"
      ],
      "text/plain": [
       "          sample    county species  source  batch      aliquot\n",
       "437  TB19-005728  Monaghan     Cow  Declan    2.0  TB19-005728\n",
       "460  TB19-010920  Monaghan     Cow  Declan    2.0  TB19-010920\n",
       "535  TB19-008567  Monaghan     Cow   Kevin    4.0  TB19-008567\n",
       "536  TB19-005666  Monaghan     Cow   Kevin    4.0  TB19-005666\n",
       "537  TB19-004282  Monaghan     Cow   Kevin    4.0  TB19-004282\n",
       "538  TB19-007986  Monaghan     Cow   Kevin    4.0  TB19-007986"
      ]
     },
     "execution_count": 336,
     "metadata": {},
     "output_type": "execute_result"
    }
   ],
   "source": [
    "dups=meta[meta.duplicated('aliquot')].dropna()\n",
    "print (dups)\n",
    "for i,r in dups.iterrows():\n",
    "    print (meta[meta.aliquot== r.aliquot])\n",
    "meta[(meta.batch.isin([2,3,4])) & (~meta.aliquot.isin(dups.aliquot)) & (meta.county=='Monaghan')]"
   ]
  },
  {
   "cell_type": "markdown",
   "metadata": {},
   "source": [
    "## run NI"
   ]
  },
  {
   "cell_type": "code",
   "execution_count": null,
   "metadata": {},
   "outputs": [],
   "source": [
    "reload(app)\n",
    "args = {'threads':20, 'outdir': '/storage/btbgenie/NI_results', 'labelsep':'_',\n",
    "        'input':['/storage/btbgenie/mbovis_ireland/NI'],\n",
    "         'species': 'Mbovis-AF212297',\n",
    "         'overwrite':False,\n",
    "         'custom_filters': True,       \n",
    "         'buildtree':True}\n",
    "W = app.WorkFlow(**args)\n",
    "st = W.setup()\n",
    "W.run()"
   ]
  },
  {
   "cell_type": "markdown",
   "metadata": {},
   "source": [
    "## misc 2021 samples"
   ]
  },
  {
   "cell_type": "code",
   "execution_count": null,
   "metadata": {},
   "outputs": [],
   "source": [
    "args = {'threads':20, 'outdir': '/storage/btbgenie/misc_results', 'labelsep':'_',\n",
    "        'input':['/storage/btbgenie/mbovis_ireland/Misc'],\n",
    "         'species': 'Mbovis-AF212297',\n",
    "         'overwrite':False,\n",
    "         'custom_filters': True,\n",
    "         'buildtree':True}\n",
    "W = app.WorkFlow(**args)\n",
    "st = W.setup()\n",
    "W.run()"
   ]
  },
  {
   "cell_type": "code",
   "execution_count": null,
   "metadata": {},
   "outputs": [],
   "source": [
    "reload(app)\n",
    "mask='/home/farrell/gitprojects/snipgenie/snipgenie/data/Mbovis_AF212297_mask.bed'\n",
    "vcf_file='/storage/btbgenie/misc_results/snps.vcf.gz'\n",
    "app.mask_filter(vcf_file, mask)"
   ]
  },
  {
   "cell_type": "code",
   "execution_count": 244,
   "metadata": {},
   "outputs": [
    {
     "name": "stdout",
     "output_type": "stream",
     "text": [
      "         sample                           name                                           bam_file  read_length\n",
      "25  TB19-004280  TB19-004280_S68_L001-4_R2_001  /storage/btbgenie/misc_results/mapped/TB19-004...          149\n",
      "48  TB19-005887  TB19-005887_S29_L001-4_R2_001  /storage/btbgenie/misc_results/mapped/TB19-005...          150\n",
      "65 2 61\n"
     ]
    }
   ],
   "source": [
    "present=pd.read_csv('/storage/btbgenie/misc_results/summary.csv')\n",
    "present['sample']=present['sample'].astype(str)\n",
    "#print (present[:10])\n",
    "l=list(W.fastq_table['sample'].unique())\n",
    "\n",
    "s=meta[meta.batch>=3].sort_values(by='sample')\n",
    "#s['label'] = s['sample'].apply(lambda x : x.split('-')[1][-4:]).astype(str)\n",
    "#s=s.sort_values('label')\n",
    "\n",
    "p = present[~present['sample'].isin(s['sample'])]\n",
    "#p = (s[s['label'].isin(l)])\n",
    "print (p)\n",
    "print (len(s),len(p), len(present))"
   ]
  },
  {
   "cell_type": "code",
   "execution_count": 284,
   "metadata": {},
   "outputs": [],
   "source": [
    "reload(trees)\n",
    "spo=pd.read_csv('/storage/btbgenie/all_ireland_results/misc_spoligotypes.csv')\n",
    "treefile = '/storage/btbgenie/misc_results/tree.newick'\n",
    "tre = toytree.tree(treefile)\n",
    "tipnames = tre.get_tip_labels()\n",
    "mapping = dict(zip(meta['sample'],meta.county))\n",
    "colormap = trees.colors_from_labels(meta,'name','county')\n",
    "tip_colors = [colormap[mapping[i]] if i in mapping else 'Black' for i in tipnames]\n",
    "\n",
    "canvas,t,r=tre.draw(layout='r',width=1000,height=1000,tip_labels_colors=tip_colors,\n",
    "                    scalebar=True,);\n",
    "toyplot.pdf.render(canvas,'/storage/btbgenie/all_ireland_results/misc_samples_tree.pdf')"
   ]
  },
  {
   "cell_type": "markdown",
   "metadata": {},
   "source": [
    "## run CVRL samples"
   ]
  },
  {
   "cell_type": "code",
   "execution_count": null,
   "metadata": {},
   "outputs": [],
   "source": [
    "args = {'threads':20, 'outdir': '/storage/btbgenie/cvrl_results', 'labelsep':'_',\n",
    "        'input':['/storage/btbgenie/mbovis_ireland/CVRL'],\n",
    "         'species': 'Mbovis-AF212297',\n",
    "         'overwrite':False,\n",
    "         'custom_filters': True,\n",
    "         'buildtree':True}\n",
    "W = app.WorkFlow(**args)\n",
    "st = W.setup()\n",
    "W.run()"
   ]
  },
  {
   "cell_type": "code",
   "execution_count": null,
   "metadata": {},
   "outputs": [],
   "source": [
    "reload(trees)\n",
    "spo=pd.read_csv('/storage/btbgenie/all_ireland_results/cvrl_spoligotypes.csv')\n",
    "treefile = '/storage/btbgenie/cvrl_results/tree.newick'\n",
    "tre = toytree.tree(treefile)\n",
    "tipnames = tre.get_tip_labels()\n",
    "mapping = dict(zip(meta['sample'],meta.county))\n",
    "colormap = trees.colors_from_labels(meta,'name','county')\n",
    "tip_colors = [colormap[mapping[i]] if i in mapping else 'Black' for i in tipnames]\n",
    "\n",
    "canvas,t,r=tre.draw(layout='r',width=1000,height=1400,tip_labels_colors=tip_colors,\n",
    "                    scalebar=True,);"
   ]
  },
  {
   "cell_type": "markdown",
   "metadata": {},
   "source": [
    "## integrate previously aligned bam files together and call variants\n",
    "\n",
    "This allows us to join previously mapped results together in one call without re-aligning"
   ]
  },
  {
   "cell_type": "code",
   "execution_count": 295,
   "metadata": {},
   "outputs": [
    {
     "name": "stdout",
     "output_type": "stream",
     "text": [
      "538\n"
     ]
    },
    {
     "data": {
      "text/plain": [
       "'/storage/btbgenie/all_ireland_results/samples.txt'"
      ]
     },
     "execution_count": 295,
     "metadata": {},
     "output_type": "execute_result"
    }
   ],
   "source": [
    "#read in bam files\n",
    "mapped = {'wicklow':'/storage/btbgenie/wicklow_results/mapped/',\n",
    "          'cvrl':'/storage/btbgenie/cvrl_results/mapped/',\n",
    "          'misc':'/storage/btbgenie/misc_results/mapped/',\n",
    "          'monaghan':'/storage/btbgenie/monaghan/monaghan_results/mapped/',\n",
    "          'NI':'/storage/btbgenie/NI_results/','UK':'/storage/btbgenie/UK_results/mapped'}\n",
    "reload(app)\n",
    "bam_files=[]\n",
    "for m in mapped:\n",
    "    f=app.get_files_from_paths(mapped[m], '*.bam')\n",
    "    bam_files.extend(f)\n",
    "print (len(bam_files))\n",
    "\n",
    "outdir='/storage/btbgenie/all_ireland_results'\n",
    "df = app.get_samples(bam_files,sep='_')\n",
    "app.write_samples(df, outdir)"
   ]
  },
  {
   "cell_type": "markdown",
   "metadata": {},
   "source": [
    "## run previously aligned files"
   ]
  },
  {
   "cell_type": "code",
   "execution_count": null,
   "metadata": {},
   "outputs": [],
   "source": [
    "gff_file=os.path.join(outdir,'mbovis.gff')\n",
    "tools.gff_bcftools_format(app.mbovis_gb, gff_file)\n",
    "app.run_bamfiles(bam_files, app.mbovis_genome, outdir='/storage/btbgenie/all_ireland_results', threads=20,\n",
    "                 mask=app.mbovis_mask, gff_file=gff_file,\n",
    "                 custom_filters=True, overwrite=False)"
   ]
  },
  {
   "cell_type": "markdown",
   "metadata": {},
   "source": [
    "## spoligotypes of all samples"
   ]
  },
  {
   "cell_type": "code",
   "execution_count": 213,
   "metadata": {},
   "outputs": [
    {
     "name": "stdout",
     "output_type": "stream",
     "text": [
      "67\n"
     ]
    }
   ],
   "source": [
    "paths = {'Wicklow':'/storage/btbgenie/mbovis_ireland/Wicklow','Monaghan':'/storage/btbgenie/mbovis_ireland/Monaghan/',\n",
    "         'cvrl':'/storage/btbgenie/mbovis_ireland/CVRL',\n",
    "         'NI':'/storage/btbgenie/mbovis_ireland/NI/'}\n",
    "samples = []\n",
    "#paths = {'misc':'/storage/btbgenie/mbovis_ireland/Jun21/'}\n",
    "for p in paths:\n",
    "    f = app.get_files_from_paths(paths[p])   \n",
    "    df = app.get_samples(f,sep='_')\n",
    "    print (len(df['sample'].unique()))\n",
    "    df=df.drop_duplicates('sample')   \n",
    "    df['county'] = p   \n",
    "    samples.append(df)\n",
    "\n",
    "samples = pd.concat(samples)"
   ]
  },
  {
   "cell_type": "code",
   "execution_count": null,
   "metadata": {},
   "outputs": [],
   "source": [
    "reload(tools)\n",
    "res=[]\n",
    "for i,r in samples.iterrows():\n",
    "    f=r.filename\n",
    "    samp=r['sample']\n",
    "    b = tools.get_spoligotype(f,1e6)\n",
    "    sb = tools.get_sb_number(b)\n",
    "    print (f,samp,sb, b)\n",
    "    res.append([f,samp,sb,b])\n",
    "    \n",
    "res = pd.DataFrame(res,columns=['filename','sample','SB','code'])\n",
    "res.code.astype(object)\n",
    "#res.to_csv('/storage/btbgenie/all_ireland_results/spoligotypes.csv',index=False)"
   ]
  },
  {
   "cell_type": "code",
   "execution_count": 215,
   "metadata": {},
   "outputs": [],
   "source": [
    "#res.to_csv('/storage/btbgenie/all_ireland_results/misc_spoligotypes.csv',index=False)"
   ]
  },
  {
   "cell_type": "markdown",
   "metadata": {},
   "source": [
    "## clusters"
   ]
  },
  {
   "cell_type": "code",
   "execution_count": 219,
   "metadata": {},
   "outputs": [
    {
     "name": "stdout",
     "output_type": "stream",
     "text": [
      "TreeCluster.py  -i /storage/btbgenie/all_ireland_results/RAxML_bipartitions.variants -t 0.045\n",
      "TreeCluster.py  -i /storage/btbgenie/all_ireland_results/RAxML_bipartitions.variants -t 0.02\n"
     ]
    }
   ],
   "source": [
    "def run_tree_cluster(f,dist):\n",
    "    \n",
    "    cmd = 'TreeCluster.py  -i {f} -t {d}'.format(f=f,d=dist)\n",
    "    print (cmd)\n",
    "    cl=subprocess.check_output(cmd, shell=True)\n",
    "    cl=pd.read_csv(io.BytesIO(cl),sep='\\t')\n",
    "    return cl\n",
    "\n",
    "res=pd.DataFrame()\n",
    "for d in [0.045,0.02]:    \n",
    "    cl = run_tree_cluster('%s/RAxML_bipartitions.variants' %path, d)\n",
    "    res['name']=cl.SequenceName\n",
    "    res[d] = cl.ClusterNumber\n",
    "    \n",
    "    \n",
    "#print (res[0.02].value_counts())"
   ]
  },
  {
   "cell_type": "code",
   "execution_count": null,
   "metadata": {},
   "outputs": [],
   "source": [
    "meta.county.value_counts()"
   ]
  },
  {
   "cell_type": "code",
   "execution_count": 261,
   "metadata": {},
   "outputs": [],
   "source": [
    "spo = pd.read_csv('/storage/btbgenie/all_ireland_results/spoligotypes.csv')\n",
    "clust = pd.read_csv('/storage/btbgenie/all_ireland_results/clusters.txt',sep='\\t')"
   ]
  },
  {
   "cell_type": "code",
   "execution_count": 266,
   "metadata": {},
   "outputs": [
    {
     "data": {
      "text/plain": [
       "526"
      ]
     },
     "execution_count": 266,
     "metadata": {},
     "output_type": "execute_result"
    }
   ],
   "source": [
    "meta = meta.merge(spo,on='sample',how='left')\n",
    "meta = meta.drop('code',1)\n",
    "meta = meta.merge(clust,left_on='sample',right_on='SequenceName')\n",
    "len(meta)"
   ]
  },
  {
   "cell_type": "code",
   "execution_count": null,
   "metadata": {},
   "outputs": [],
   "source": [
    "meta[meta.county=='Cork']"
   ]
  },
  {
   "cell_type": "markdown",
   "metadata": {},
   "source": [
    "## assign clade names?"
   ]
  },
  {
   "cell_type": "code",
   "execution_count": 268,
   "metadata": {},
   "outputs": [
    {
     "data": {
      "text/plain": [
       "{8: 'Clare-93',\n",
       " 18: 'Clare-46',\n",
       " 15: 'Monaghan-75',\n",
       " 9: 'Monaghan-63',\n",
       " 1: 'Monaghan-31',\n",
       " 20: 'NI-31',\n",
       " 11: 'Wicklow-46'}"
      ]
     },
     "execution_count": 268,
     "metadata": {},
     "output_type": "execute_result"
    }
   ],
   "source": [
    "clmap={}\n",
    "for n,g in meta.groupby('county'):\n",
    "    c = g.value_counts('ClusterNumber')\n",
    "    c = c[c>10]\n",
    "    for i,r in c.iteritems():\n",
    "        clmap[i]=n+'-'+str(r)\n",
    "clmap"
   ]
  },
  {
   "cell_type": "code",
   "execution_count": 269,
   "metadata": {},
   "outputs": [],
   "source": [
    "#clmap = {5:'NI-1',7:'Wicklow-1',4:'Monaghan-1',3:'Monaghan-2',6:'Monaghan-3',-1:'Unknown',10:'Clare-1'}\n",
    "meta['clade'] = meta.ClusterNumber.map(clmap)"
   ]
  },
  {
   "cell_type": "code",
   "execution_count": 270,
   "metadata": {},
   "outputs": [],
   "source": [
    "meta\n",
    "meta.to_csv('/storage/btbgenie/mbovis_ireland/ireland_metadata.csv',index=False)"
   ]
  },
  {
   "cell_type": "markdown",
   "metadata": {},
   "source": [
    "## draw all ireland tree"
   ]
  },
  {
   "cell_type": "code",
   "execution_count": 289,
   "metadata": {},
   "outputs": [],
   "source": [
    "treefile = '/storage/btbgenie/all_ireland_results/tree.newick'\n",
    "tre = toytree.tree(treefile)\n",
    "#canvas,t,r=tre.draw(layout='c')"
   ]
  },
  {
   "cell_type": "code",
   "execution_count": null,
   "metadata": {},
   "outputs": [],
   "source": [
    "reload(trees)\n",
    "#tre = tre.root('TB20-002800')\n",
    "tipnames = tre.get_tip_labels()\n",
    "mapping = dict(zip(meta['sample'],meta.clade))\n",
    "#mapping['ref'] = 'AF2122/97'\n",
    "tiplabels = [mapping[i] if i in mapping else 'NA' for i in tipnames]\n",
    "\n",
    "mapping = dict(zip(meta['sample'],meta.county))\n",
    "colormap = trees.colors_from_labels(meta,'name','county')\n",
    "print (colormap)\n",
    "tip_colors = [colormap[mapping[i]] if i in mapping else 'Black' for i in tipnames]\n",
    "tip_labels_style={      \n",
    "        \"font-size\": \"6px\",\n",
    "        \"-toyplot-anchor-shift\": \"13px\",\n",
    "    }\n",
    "node_sizes=[0 if i else 5 for i in tre.get_node_values(None, 1, 0)]\n",
    "node_colors = [colormap[mapping[n]] if n in mapping else 'black' for n in tre.get_node_values('name', True, True)]\n",
    "\n",
    "canvas,t,r=tre.draw(layout='r',width=1200,height=1300,node_markers=\"o\",node_hover=True, node_sizes=node_sizes,\n",
    "                    tip_labels=False,tip_labels_style=tip_labels_style,node_colors=node_colors,\n",
    "                    tip_labels_colors=tip_colors,scalebar=True,edge_widths=1);\n",
    "#toyplot.pdf.render(canvas,'/storage/btbgenie/all_ireland_results/ireland_tree.pdf')"
   ]
  },
  {
   "cell_type": "markdown",
   "metadata": {},
   "source": [
    "## draw trees"
   ]
  },
  {
   "cell_type": "code",
   "execution_count": null,
   "metadata": {},
   "outputs": [],
   "source": [
    "reload(trees)\n",
    "from ete3 import CircleFace, TreeStyle, NodeStyle, RectFace, TextFace\n",
    "treefile = '/storage/btbgenie/all_ireland_results/RAxML_bipartitions.variants'\n",
    "\n",
    "def make_tree():\n",
    "    \n",
    "    labelmap = dict(zip(meta['name'],meta.species))\n",
    "    colormap = trees.colors_from_labels(meta,'name','county')\n",
    "    t,ts = trees.create_tree(treefile, 'ref', colormap=colormap)  #labelmap=labelmap\n",
    "    colors = {'wicklow': 'blue', 'monaghan': 'green','NI':'crimson'}\n",
    "    for i in colors:\n",
    "        f=ts.legend.add_face(\n",
    "                TextFace(text=i,fgcolor=colors[i],fsize=28),            \n",
    "                column=0)\n",
    "    return t\n",
    "\n",
    "t = make_tree()\n",
    "ts=TreeStyle()\n",
    "ts.scale=8000\n",
    "t.render(\"%%inline\",tree_style=ts,w=1000)"
   ]
  },
  {
   "cell_type": "code",
   "execution_count": null,
   "metadata": {},
   "outputs": [],
   "source": [
    "t = make_tree()\n",
    "#out = t.get_common_ancestor(\"19-4281\", \"19-2438\", \"461\")\n",
    "#out.delete()"
   ]
  },
  {
   "cell_type": "code",
   "execution_count": null,
   "metadata": {},
   "outputs": [],
   "source": [
    "def color_clades(t):\n",
    "    wick = t.get_common_ancestor(\"19-11957\", \"43-MBovis\")\n",
    "    mon = t.get_common_ancestor(\"19-7433\", \"19-6796\")\n",
    "    mon2 = t.get_common_ancestor(\"548\", \"2703\")\n",
    "    ni = t.get_common_ancestor(\"ERR125607\",\"ERR125601\")\n",
    "\n",
    "    colors=['LightSteelBlue','lightgreen','lightgreen','salmon']\n",
    "    for common,clr in zip([wick,mon,mon2,ni],colors):\n",
    "        nodesinbranch = [node for node in common.traverse()]\n",
    "        nstyle1=NodeStyle()\n",
    "        nstyle1['bgcolor']=clr\n",
    "        common.set_style(nstyle1)\n",
    "        \n",
    "color_clades(t)"
   ]
  },
  {
   "cell_type": "code",
   "execution_count": null,
   "metadata": {},
   "outputs": [],
   "source": [
    "reload(trees)\n",
    "ts=TreeStyle()\n",
    "ts.scale=9000\n",
    "ts.show_leaf_name = False\n",
    "trees.set_nodesize(t, 40)\n",
    "ts.mode = 'c'\n",
    "t.render(\"%%inline\",tree_style=ts,w=800)\n",
    "#t.render(\"/storage/btbgenie/all_ireland.png\",tree_style=ts,w=2000)"
   ]
  },
  {
   "cell_type": "code",
   "execution_count": null,
   "metadata": {},
   "outputs": [],
   "source": [
    "samples.county.value_counts()\n",
    "print (samples)"
   ]
  },
  {
   "cell_type": "code",
   "execution_count": null,
   "metadata": {},
   "outputs": [],
   "source": [
    "colormap = trees.colors_from_labels(spo,'sample','SB')\n",
    "labelmap = dict(zip(spo['sample'],spo.SB))\n",
    "t,ts = trees.create_tree(treefile, 'ref')#, colormap=colormap, labelmap=labelmap)\n",
    "color_clades(t)\n",
    "trees.color_leaves(t, colormap)\n",
    "trees.set_tiplabels(t,labelmap)\n",
    "colors = {'wicklow': 'blue', 'monaghan': 'green','NI':'crimson'}\n",
    "for i in colors:\n",
    "       f=ts.legend.add_face(\n",
    "             TextFace(text=i,fgcolor=colors[i],fsize=28),            \n",
    "              column=0)"
   ]
  },
  {
   "cell_type": "code",
   "execution_count": null,
   "metadata": {},
   "outputs": [],
   "source": [
    "ts.mode = 'c'\n",
    "trees.set_nodesize(t, 10)\n",
    "ts.scale=2000\n",
    "t.render(\"%%inline\",tree_style=ts,w=800)\n",
    "#t.render(\"/storage/btbgenie/sb_tree.png\",tree_style=ts,w=2000)"
   ]
  },
  {
   "cell_type": "markdown",
   "metadata": {},
   "source": [
    "## SNP analysis\n",
    "\n",
    "* snps unique to each clade/county\n",
    "* protein groups containing common snps"
   ]
  },
  {
   "cell_type": "code",
   "execution_count": 253,
   "metadata": {},
   "outputs": [],
   "source": [
    "csq = app.read_csq_file('/storage/btbgenie/all_ireland_results/csq.tsv')\n",
    "snp_mat = app.get_aa_snp_matrix(csq)\n",
    "#csq_ind = app.read_csq_file('/storage/btbgenie/all_ireland_results/csq_indels.tsv')\n",
    "#ind_mat = app.get_aa_snp_matrix(csq_ind)"
   ]
  },
  {
   "cell_type": "code",
   "execution_count": 254,
   "metadata": {},
   "outputs": [],
   "source": [
    "mat = snp_mat\n",
    "\n",
    "#labelmap = dict(zip(meta['name'],meta.county))\n",
    "#mat = mat.rename(columns=labelmap)\n",
    "#freqs = mat.sum(1)/len(mat.columns)\n",
    "#freqs =freqs.rename('freq') \n",
    "#freqs.sort_values()\n",
    "#freqs.hist(bins=20)"
   ]
  },
  {
   "cell_type": "code",
   "execution_count": 255,
   "metadata": {},
   "outputs": [],
   "source": [
    "#mat.index = mat.index.get_level_values(1)+'_'+mat.index.get_level_values(2)\n",
    "stat = mat.sum(1).reset_index()\n",
    "#stat.gene.value_counts()[:30]"
   ]
  },
  {
   "cell_type": "code",
   "execution_count": 256,
   "metadata": {},
   "outputs": [
    {
     "name": "stderr",
     "output_type": "stream",
     "text": [
      "/usr/local/lib/python3.9/dist-packages/pandas/core/reshape/merge.py:648: UserWarning: merging between different levels can give an unintended result (4 levels on the left,1 on the right)\n",
      "  warnings.warn(msg, UserWarning)\n"
     ]
    }
   ],
   "source": [
    "cols=['sample','county','SB','ClusterNumber','clade']\n",
    "C=mat.T\n",
    "\n",
    "C=C.merge(meta[cols],left_index=True,right_on='sample').set_index(cols).T\n",
    "#print (C)\n",
    "C=C[C.sum(1)>3].T\n",
    "C.iloc[:4,:2]\n",
    "C.to_csv('csq_snps_ireland.csv')"
   ]
  },
  {
   "cell_type": "code",
   "execution_count": 257,
   "metadata": {},
   "outputs": [],
   "source": [
    "counties = list(C.index.get_level_values(1))\n",
    "sb = list(C.index.get_level_values(2))\n",
    "clust = C.index.get_level_values(3)\n",
    "clades = C.index.get_level_values(4)"
   ]
  },
  {
   "cell_type": "code",
   "execution_count": null,
   "metadata": {},
   "outputs": [],
   "source": [
    "colormap1 = dict(zip(clades.unique(), trees.qcolors))\n",
    "#colormap1 = {'Wicklow-1': 'green', 'Monaghan-3': 'red', np.nan: 'gray', \n",
    "#             'Monaghan-1': 'brown', 'Monaghan-2': 'burlywood', 'Unknown': 'lightblue', 'NI-1': 'blue'}\n",
    "colors1 = [colormap1[i] if i in colormap1 else 'Black' for i in clades]\n",
    "#make legend\n",
    "import matplotlib.patches as mpatches\n",
    "pts=[]\n",
    "for c in colormap1:\n",
    "    pts.append(mpatches.Patch(color=colormap1[c],label=c))\n",
    "g=sns.clustermap(C,xticklabels=False,yticklabels=False,figsize=(17,12),cmap='gray_r',cbar_pos=None,row_colors=colors1)\n",
    "g.fig.legend(handles=pts,bbox_to_anchor=(1.05, 1), )\n",
    "g.savefig('/storage/btbgenie/all_ireland_results/snp_clusters.jpg')"
   ]
  },
  {
   "cell_type": "markdown",
   "metadata": {},
   "source": [
    "## PCA"
   ]
  },
  {
   "cell_type": "code",
   "execution_count": 264,
   "metadata": {},
   "outputs": [
    {
     "data": {
      "image/png": "[encoded data removed]",
      "text/plain": [
       "<Figure size 504x504 with 1 Axes>"
      ]
     },
     "metadata": {
      "needs_background": "light"
     },
     "output_type": "display_data"
    }
   ],
   "source": [
    "import sklearn\n",
    "from sklearn import decomposition\n",
    "from sklearn import manifold\n",
    "\n",
    "pca = decomposition.PCA(n_components=3)\n",
    "mds = manifold.MDS(n_components=3)\n",
    "pos = mds.fit(C).embedding_\n",
    "X = pca.fit_transform(pos)\n",
    "#X = pca.transform(C)\n",
    "df=pd.DataFrame(X)\n",
    "df['sb']=sb\n",
    "df.to_csv('/storage/btbgenie/all_ireland_results/pca_snp.csv')\n",
    "\n",
    "fig,ax = plt.subplots(figsize=(7, 7))\n",
    "sc=ax.scatter(X[:, 0], X[:, 1], c=colors1, s=100, alpha=.6)    \n",
    "ax.legend(handles=pts,loc='best')\n",
    "fig.savefig('/storage/btbgenie/all_ireland_results/pca_snp_clusters.jpg',dpi=150)"
   ]
  },
  {
   "cell_type": "code",
   "execution_count": null,
   "metadata": {},
   "outputs": [],
   "source": []
  }
 ],
 "metadata": {
  "kernelspec": {
   "display_name": "Python 3",
   "language": "python",
   "name": "python3"
  },
  "language_info": {
   "codemirror_mode": {
    "name": "ipython",
    "version": 3
   },
   "file_extension": ".py",
   "mimetype": "text/x-python",
   "name": "python",
   "nbconvert_exporter": "python",
   "pygments_lexer": "ipython3",
   "version": "3.9.5"
  }
 },
 "nbformat": 4,
 "nbformat_minor": 4
}
