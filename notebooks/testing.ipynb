{
 "cells": [
  {
   "cell_type": "markdown",
   "metadata": {},
   "source": [
    "## snipgenie testing notebook\n",
    "\n",
    "Updated files can be found here: https://github.com/dmnfarrell/gordon-group/tree/master/mbovis_annotation\n",
    "\n",
    "links:\n",
    "\n",
    "* https://github.com/JosephCrispell/GeneralTools/tree/master/ProcessingPipeline\n",
    "* [Woodchester Park eLife paper](https://elifesciences.org/articles/45833)\n",
    "* [An African origin for Mycobacterium bovis](https://academic.oup.com/emph/article/2020/1/49/5719036)\n",
    "* http://www.htslib.org/doc/bcftools.html\n",
    "* https://mtbgenomicsworkshop.readthedocs.io/\n",
    "* [BCFtools cheat sheet](https://gist.github.com/elowy01/93922762e131d7abd3c7e8e166a74a0b)\n",
    "* https://biopython.org/wiki/Category:Cookbook\n",
    "* https://pyvcf.readthedocs.io/en/v0.4.6/INTRO.html\n",
    "* https://gatkforums.broadinstitute.org/gatk/discussion/1268/what-is-a-vcf-and-how-should-i-interpret-it"
   ]
  },
  {
   "cell_type": "code",
   "execution_count": 1,
   "metadata": {
    "tags": []
   },
   "outputs": [],
   "source": [
    "import sys,os,shutil,subprocess\n",
    "import random\n",
    "import glob, time\n",
    "from importlib import reload\n",
    "import numpy as np\n",
    "import pandas as pd\n",
    "pd.set_option('display.width', 200)\n",
    "import pylab as plt\n",
    "import seaborn as sns\n",
    "from Bio import SeqIO, AlignIO\n",
    "from Bio.Seq import Seq\n",
    "from Bio.SeqRecord import SeqRecord\n",
    "from gzip import open as gzopen\n",
    "sys.path.append('snipgenie')\n",
    "from snipgenie import tools, aligners, app, trees, plotting\n",
    "#from matplotlib_venn import venn2"
   ]
  },
  {
   "cell_type": "markdown",
   "metadata": {},
   "source": [
    "## Mbovis samples from SRA"
   ]
  },
  {
   "cell_type": "code",
   "execution_count": null,
   "metadata": {
    "tags": []
   },
   "outputs": [],
   "source": [
    "sra = pd.read_csv('../sra_mbovis_runtable.csv')"
   ]
  },
  {
   "cell_type": "markdown",
   "metadata": {},
   "source": [
    "## Get master table with Loiseau et al. meta data¶"
   ]
  },
  {
   "cell_type": "code",
   "execution_count": 3,
   "metadata": {},
   "outputs": [],
   "source": [
    "df = pd.read_excel('../Loiseau_TableS1.xlsx')\n",
    "master = pd.merge(df,sra,left_on='BIOSAMPLE',right_on='BioSample',how='inner')\n",
    "master.to_csv('../mbovis_sra_master.csv',index=False)\n",
    "cols = ['Run','CLONAL_COMPLEX','COUNTRY_ISOLATION','LibraryLayout','Host','ReleaseDate','Bytes','Bases','GENOME_COVERAGE']\n",
    "#master.columns\n",
    "#master.geo_loc_name_country.value_counts()"
   ]
  },
  {
   "cell_type": "markdown",
   "metadata": {},
   "source": [
    "## Representative samples of lineages"
   ]
  },
  {
   "cell_type": "code",
   "execution_count": 4,
   "metadata": {},
   "outputs": [
    {
     "name": "stdout",
     "output_type": "stream",
     "text": [
      "             Run CLONAL_COMPLEX COUNTRY_ISOLATION LibraryLayout        Host           ReleaseDate        Bytes        Bases  GENOME_COVERAGE\n",
      "36     ERR841808            Eu1                UK        PAIRED         Cow  2015-12-02T00:00:00Z  130651179.0  196040478.0            39.78\n",
      "245   SRR5216872            Eu1       New Zealand        PAIRED      BOVINE  2017-01-31T00:00:00Z  194523112.0  295803584.0            41.39\n",
      "464   SRR5486071       Unknown2          Ethiopia        PAIRED  Bos taurus  2017-04-28T00:00:00Z  251875435.0  445066100.0            50.71\n",
      "677    ERR125601            Eu1           Ireland        PAIRED         NaN  2012-10-01T00:00:00Z  277182504.0  346340680.0            68.83\n",
      "765   ERR2815558            Af1               NaN        PAIRED         NaN  2018-09-29T00:00:00Z  162711425.0  367702705.0            67.64\n",
      "886   SRR1791768            Eu2            Canada        PAIRED      Cattle  2015-03-11T00:00:00Z  340596851.0  450406275.0            37.69\n",
      "1076  SRR1791960            Eu2            Mexico        PAIRED      Cattle  2015-03-11T00:00:00Z  234700051.0  344439293.0            38.20\n",
      "1118  SRR1792002            Eu2               USA        PAIRED      Cattle  2015-03-11T00:00:00Z  155793754.0  221710448.0            37.69\n",
      "2577  SRR8065079            Af2            Uganda        PAIRED  Bos taurus  2018-12-01T00:00:00Z  149270806.0  248725188.0            32.01\n",
      "2597  SRR8063654            Af2          Ethiopia        PAIRED  Bos taurus  2018-12-01T00:00:00Z  128374182.0  220964011.0            25.87\n",
      "2608  SRR8063665            Af2          Ethiopia        PAIRED  Bos taurus  2018-12-01T00:00:00Z  127610605.0  219741248.0            27.41\n"
     ]
    }
   ],
   "source": [
    "sub=master[(master.LibraryLayout=='PAIRED') & (master.COUNTRY_ISOLATION.notnull()) & (master.CLONAL_COMPLEX=='Eu2')]\n",
    "#print (sub[cols])\n",
    "#sub[cols].to_csv('../temp.csv')\n",
    "accessions=['SRR1792002','SRR5216872','SRR5486071','ERR841808','ERR125601',\n",
    "            'SRR8063654','SRR8063665','SRR8065079','SRR1791768','SRR1791960','ERR2815558']\n",
    "testset = master[master.Run.isin(accessions)]\n",
    "print (testset[cols])"
   ]
  },
  {
   "cell_type": "code",
   "execution_count": null,
   "metadata": {},
   "outputs": [],
   "source": [
    "# fetch from SRA\n",
    "def fetch_sra_reads(df,path):\n",
    "    \"\"\"download a subset of reads \"\"\"\n",
    "    \n",
    "    for i,r in df.iterrows():\n",
    "        files = glob.glob(os.path.join(path,r.Run+'*'))        \n",
    "        if len(files)==0:\n",
    "            cmd = 'fastq-dump --split-files {n} --outdir {o}'.format(n=r.Run,o=path)\n",
    "            print (cmd)\n",
    "            subprocess.check_output(cmd,shell=True)\n",
    "\n",
    "fetch_sra_reads(testset,path='/storage/btbgenie/mbovis_sra')"
   ]
  },
  {
   "cell_type": "markdown",
   "metadata": {},
   "source": [
    "## Examine FASTQ file quality and define trimming parameters"
   ]
  },
  {
   "cell_type": "code",
   "execution_count": null,
   "metadata": {},
   "outputs": [],
   "source": [
    "reload(tools)\n",
    "\n",
    "df = tools.fastq_to_dataframe(testfile)\n",
    "df.length.hist()"
   ]
  },
  {
   "cell_type": "code",
   "execution_count": null,
   "metadata": {},
   "outputs": [],
   "source": [
    "def trim_reads_default(filename, outfile, right_quality=30):\n",
    "    \"\"\"Trim adapters\"\"\"\n",
    "        \n",
    "    fastq_parser = SeqIO.parse(gzopen(filename, \"rt\"), \"fastq\")\n",
    "    c=0\n",
    "    out = gzopen(outfile, \"wt\")\n",
    "    for record in fastq_parser:\n",
    "        score = record.letter_annotations[\"phred_quality\"]         \n",
    "        for i in range(len(score)-1,0,-1):\n",
    "            if score[i] >= right_quality:\n",
    "                break\n",
    "        #trimmed.append(record[:i])\n",
    "        #print (record[:i])        \n",
    "        #c+=1\n",
    "        #if c>100:\n",
    "        #    break    \n",
    "        SeqIO.write(record[:i],out,'fastq')\n",
    "    return\n",
    "\n",
    "testfile = 'mbovis_sra/SRR1791711_1.fastq.gz'\n",
    "st=time.time()\n",
    "trim_reads_default(testfile,'trimmed.fastq.gz')\n",
    "print (time.time()-st)\n",
    "df = tools.fastq_to_dataframe('trimmed.fastq.gz')\n",
    "df.length.hist()"
   ]
  },
  {
   "cell_type": "markdown",
   "metadata": {},
   "source": [
    "## multiprocess trimming"
   ]
  },
  {
   "cell_type": "code",
   "execution_count": null,
   "metadata": {},
   "outputs": [],
   "source": [
    "def split_fastq(filename, chunks=4):\n",
    "    \"\"\"Split fastq file\"\"\"\n",
    "    \n",
    "    names=[]\n",
    "    tmp = '/tmp'\n",
    "    tmpfiles = []\n",
    "    record_iter = SeqIO.parse(gzopen(filename, \"rt\"), \"fastq\")\n",
    "    length = \n",
    "    for i, batch in enumerate(tools.batch_iterator(record_iter, chunksize)):\n",
    "        tempfile = \"group_%i.fastq\" % (i + 1)\n",
    "        tmpfiles.append(tempfile)\n",
    "        names.append(tempfile)\n",
    "        with open(tempfile, \"w\") as handle:\n",
    "            count = SeqIO.write(batch, handle, \"fastq\")\n",
    "        print(\"Wrote %i records to %s\" % (count, tempfile))\n",
    "    return names\n",
    "\n",
    "split_fastq(testfile)"
   ]
  },
  {
   "cell_type": "code",
   "execution_count": null,
   "metadata": {},
   "outputs": [],
   "source": [
    "tools.plot_fastq_qualities(testfile,limit=100000)\n",
    "plt.savefig('fastq_quals.png',dpi=100)\n",
    "tools.plot_fastq_gc_content(testfile, limit=50000)\n",
    "plt.savefig('gc.png',dpi=100)"
   ]
  },
  {
   "cell_type": "markdown",
   "metadata": {},
   "source": [
    "## remove duplicated reads"
   ]
  },
  {
   "cell_type": "code",
   "execution_count": null,
   "metadata": {},
   "outputs": [],
   "source": [
    "cmd = 'samtools rmdup A_reads.bt2.sorted.bam A_reads.bt2.sorted.noDups.bam'"
   ]
  },
  {
   "cell_type": "markdown",
   "metadata": {
    "tags": []
   },
   "source": [
    "## run new method"
   ]
  },
  {
   "cell_type": "markdown",
   "metadata": {
    "jupyter": {
     "source_hidden": true
    }
   },
   "source": [
    "## filtering\n",
    "\n",
    "```\n",
    "FORMAT/AD   .. Allelic depth (Number=R,Type=Integer)\n",
    "FORMAT/ADF  .. Allelic depths on the forward strand (Number=R,Type=Integer)\n",
    "FORMAT/ADR  .. Allelic depths on the reverse strand (Number=R,Type=Integer)\n",
    "FORMAT/DP   .. Number of high-quality bases (Number=1,Type=Integer)\n",
    "FORMAT/SP   .. Phred-scaled strand bias P-value (Number=1,Type=Integer)\n",
    "FORMAT/SCR  .. Number of soft-clipped reads (Number=1,Type=Integer)\n",
    "\n",
    "INFO/AD     .. Total allelic depth (Number=R,Type=Integer)\n",
    "INFO/ADF    .. Total allelic depths on the forward strand (Number=R,Type=Integer)\n",
    "INFO/ADR    .. Total allelic depths on the reverse strand (Number=R,Type=Integer)\n",
    "INFO/SCR    .. Number of soft-clipped reads (Number=1,Type=Integer)\n",
    "\n",
    "FORMAT/DV   .. Deprecated in favor of FORMAT/AD; Number of high-quality non-reference bases, (Number=1,Type=Integer)\n",
    "FORMAT/DP4  .. Deprecated in favor of FORMAT/ADF and FORMAT/ADR; Number of high-quality ref-forward, ref-reverse,\n",
    "               alt-forward and alt-reverse bases (Number=4,Type=Integer)\n",
    "FORMAT/DPR  .. Deprecated in favor of FORMAT/AD; Number of high-quality bases for each observed allele (Number=R,Type=Integer)\n",
    "INFO/DPR    .. Deprecated in favor of INFO/AD; Number of high-quality bases for each observed allele (Number=R,Type=Integer)\n",
    "```\n",
    "\n",
    "Joe filters: DP - 30, DP4 - 4, MQ - 35, SUP - 0.95 and COV - 0.05. GQ and FQ = 0\n",
    "\n",
    "## Other options\n",
    "\n",
    "```\n",
    "biallelic: -m2 -M2\n",
    "uninformative sites, where the minor allele is present in at least one individual: --min-ac 1:minor\n",
    "```"
   ]
  },
  {
   "cell_type": "code",
   "execution_count": null,
   "metadata": {},
   "outputs": [],
   "source": [
    "import vcf\n",
    "vcf_reader = vcf.Reader(open('mapped/filtered.vcf.gz', 'rb')) \n",
    "for record in vcf_reader:\n",
    "    print (record)\n",
    "    for sample in record.samples:\n",
    "        print (sample)"
   ]
  },
  {
   "cell_type": "code",
   "execution_count": null,
   "metadata": {},
   "outputs": [],
   "source": [
    "cmd = 'bcftools filter -e \"QUAL<=40 && DP>=30 && DP4>=4 && MQ>=35\" -o filtered.vcf.gz -O z mapped/calls.vcf'\n",
    "print (cmd)\n",
    "tmp = subprocess.check_output(cmd,shell=True)\n",
    "v = vcf_to_dataframe('filtered.vcf.gz')\n",
    "v.var_type.value_counts()"
   ]
  },
  {
   "cell_type": "markdown",
   "metadata": {},
   "source": [
    "## test filters\n",
    "\n",
    "* https://samtools.github.io/bcftools/howtos/filtering.html"
   ]
  },
  {
   "cell_type": "code",
   "execution_count": null,
   "metadata": {},
   "outputs": [],
   "source": [
    "vdf = vcf_to_dataframe('test.vcf')\n",
    "vdf"
   ]
  },
  {
   "cell_type": "code",
   "execution_count": null,
   "metadata": {},
   "outputs": [],
   "source": [
    "print (vdf[vdf.end==2839071])"
   ]
  },
  {
   "cell_type": "code",
   "execution_count": null,
   "metadata": {},
   "outputs": [],
   "source": [
    "vdf.groupby('end').agg({'DP':sum}).sort_values(by='DP')"
   ]
  },
  {
   "cell_type": "code",
   "execution_count": null,
   "metadata": {},
   "outputs": [],
   "source": [
    "u = vdf.drop_duplicates(['sample','mut']).set_index(['mut','sample'])['ALT'].unstack('sample')\n",
    "u[:30]"
   ]
  },
  {
   "cell_type": "code",
   "execution_count": null,
   "metadata": {},
   "outputs": [],
   "source": [
    "cmd = 'bcftools filter -e \"QUAL<40 & FMT/DP<30\" -o test.vcf.gz -O z test.vcf'\n",
    "subprocess.check_output(cmd,shell=True)\n",
    "fdf = vcf_to_dataframe('test.vcf.gz')\n",
    "fdf[fdf.end==2839071]"
   ]
  },
  {
   "cell_type": "markdown",
   "metadata": {},
   "source": [
    "## Make fasta alignment from filtered VCF sites with multiple samples\n",
    "\n",
    "https://github.com/JosephCrispell/GeneralTools/blob/master/ProcessingPipeline/CreateFastaWithReferenceFromFiltered_28-06-17.pl\n",
    "\n",
    "\"The allele frequencies at each position in the aligned (against reference) sequence from each isolate were examined. For a haploid organism these frequencies are expected to be either 0 or 1, with some random variation expected from sequencing errors (Sobkowiak et al., 2018). A heterozygous site was defined as one where the allele frequencies were >0.05 and <0.95. Four cattle-derived sequences that had more than 150 heterozygous sites, and allele frequencies that were clustered and non-random (data not shown), were removed. In addition, 26 badger-derived and 16 cattle-derived M. bovis sequences were removed because of suspected errors in the metadata (Appendix 1: Investigating isolate metadata discrepancies).\n",
    "\n",
    "For the sequences from the remaining isolates (204 badger- and 169 cattle-derived isolates), alleles were called at each variant position if they had mapping quality ≥30, high-quality base depth ≥4 (applied to reverse and forward reads separately), read depth ≥30, and allele support ≥0.95. For any site that failed these criteria, if the allele called had been observed in a different isolate that had passed, a second round of filtering was conducted using a high-quality base depth of 5 (total across forward and reverse reads) and the same allele support. As recombination is thought to be extremely rare for mycobacteria (Namouchi et al., 2012), variants in close proximity could indicate a region that is difficult to sequence or under high selection. To avoid calling variants in these regions, variant positions within 10 bp of one another were removed. Following filtering, sequences from 11 badger and 10 cattle isolates that had insufficient coverage (<95%) of the variant positions were removed. Once the alignment was generated, sites with a consistency index less than 1, generally considered homoplasies (Farris, 1989), were removed (n = 4, of 14,991 sites) using HomoplasyFinder (v0.0.0.9; Crispell et al., 2019; RRID: SCR_017300). All the scripts necessary for the processing of the WGS data are freely available online.\""
   ]
  },
  {
   "cell_type": "code",
   "execution_count": 42,
   "metadata": {},
   "outputs": [
    {
     "name": "stdout",
     "output_type": "stream",
     "text": [
      "used 165 sites for core snps\n",
      "9 sites with at least one missing sample\n",
      "273 uninformative sites\n",
      "used 174 sites for core snps\n",
      "9 sites with at least one missing sample\n",
      "273 uninformative sites\n"
     ]
    }
   ],
   "source": [
    "def core_alignment_from_vcf(vcf_file, callback=None, uninformative=False, missing=False, omit=None):\n",
    "    \"\"\"\n",
    "    Get core SNP site calls as sequences from a multi sample vcf file.\n",
    "    Args:\n",
    "        vcf_file: multi-sample vcf (e.g. produced by app.variant_calling)\n",
    "        uninformative: whether to include uninformative sites\n",
    "        missing: whether to include sites with one or more missing samples (ie. no coverage)\n",
    "        omit: list of samples to exclude if required\n",
    "    \"\"\"\n",
    "\n",
    "    import vcf\n",
    "    from collections import defaultdict\n",
    "    vcf_reader = vcf.Reader(open(vcf_file, 'rb'))\n",
    "    #print (vcf_reader.samples)\n",
    "    def default():\n",
    "        return []\n",
    "    result = defaultdict(default)\n",
    "    sites = []\n",
    "    result['ref'] = []\n",
    "    missing_sites = []\n",
    "    uninf_sites = []\n",
    "    for record in vcf_reader:\n",
    "        S = {sample.sample: sample.gt_bases for sample in record.samples}\n",
    "        if omit != None:\n",
    "            for o in omit:\n",
    "                del S[o]\n",
    "        #if any missing samples at the site we don't add\n",
    "        if None in S.values():\n",
    "            missing_sites.append(record.POS)            \n",
    "            if missing == False:                \n",
    "                continue\n",
    "                \n",
    "        #ignore uninformative sites\n",
    "        if uninformative == False:\n",
    "            u = set(S.values())\n",
    "            if len(u) == 1:\n",
    "                uninf_sites.append(record.POS)\n",
    "                continue\n",
    "        result['ref'].append(record.REF)\n",
    "        #get bases over all samples\n",
    "        for name in S:\n",
    "            val = S[name]\n",
    "            if val == None:\n",
    "                val = 'N'\n",
    "            result[name].append(val)\n",
    "        sites.append(record.POS)\n",
    "        \n",
    "    sites = list(set(sites))\n",
    "    print ('used %s sites for core snps' %len(sites))\n",
    "    print ('%s sites with at least one missing sample' %len(missing_sites))\n",
    "    if uninformative == False:\n",
    "        print ('%s uninformative sites' %len(uninf_sites))\n",
    "    if len(sites)==0:\n",
    "        print ('no sites found may mean:\\n'\n",
    "         '- one sample is too different\\n'\n",
    "         '- few reads aligned due to poor coverage')\n",
    "    recs = []\n",
    "    for sample in result:\n",
    "        seq = ''.join(result[sample])\n",
    "        seqrec = SeqRecord(Seq(seq),id=sample)\n",
    "        recs.append(seqrec)\n",
    "        #print (len(seqrec))\n",
    "\n",
    "    smat = pd.DataFrame(result)    \n",
    "    smat.index = sites\n",
    "    smat.index.rename('pos', inplace=True)\n",
    "    smat = smat.sort_index()\n",
    "    return recs, smat\n",
    "\n",
    "seqrecs, smat = core_alignment_from_vcf('/storage/btbgenie/wicklow_results/snps.vcf.gz')\n",
    "seqrecs, smat = core_alignment_from_vcf('/storage/btbgenie/wicklow_results/snps.vcf.gz', missing=True)\n"
   ]
  },
  {
   "cell_type": "markdown",
   "metadata": {},
   "source": [
    "## filters"
   ]
  },
  {
   "cell_type": "code",
   "execution_count": 145,
   "metadata": {},
   "outputs": [
    {
     "name": "stdout",
     "output_type": "stream",
     "text": [
      "proximity filter found 11/629 sites\n"
     ]
    }
   ],
   "source": [
    "def site_proximity_filter(vcf_file, dist=10, overwrite=False, outdir=None):\n",
    "    \"\"\"Remove any pairs of sites within dist of each other\"\"\"\n",
    "\n",
    "    import vcf\n",
    "    vcf_reader = vcf.Reader(open(vcf_file, 'rb'))\n",
    "    sites = [record.POS for record in vcf_reader]\n",
    "    #print (sites)\n",
    "    found = []\n",
    "    for i in range(len(sites)-1):\n",
    "        if sites[i+1] - sites[i] <= dist:\n",
    "            #print (sites[i], sites[i+1],'close')\n",
    "            found.extend([sites[i], sites[i+1]])\n",
    "    #print (found)\n",
    "    new = sorted(list(set(sites) - set(found)))\n",
    "    print ('proximity filter found %s/%s sites' %(len(set(found)),len(sites)))\n",
    "    if outdir == None:\n",
    "        outdir = tempfile.gettempdir()\n",
    "    if overwrite == True:\n",
    "        out = os.path.join(outdir,'temp.vcf')\n",
    "        vcf_reader = vcf.Reader(open(vcf_file, 'rb'))\n",
    "        vcf_writer = vcf.Writer(open(out, 'w'), vcf_reader)\n",
    "        for record in vcf_reader:\n",
    "            if record.POS in new:\n",
    "                #print (record)\n",
    "                vcf_writer.write_record(record)\n",
    "        vcf_writer.close()\n",
    "        #overwrite input vcf\n",
    "        bcftoolscmd = tools.get_cmd('bcftools')\n",
    "        cmd = 'bcftools view {o} -O z -o {gz}'.format(o=out,gz=vcf_file)\n",
    "        tmp = subprocess.check_output(cmd,shell=True)\n",
    "    return new\n",
    "\n",
    "old = site_proximity_filter('/storage/btbgenie/sim_results/snps.vcf.gz')"
   ]
  },
  {
   "cell_type": "code",
   "execution_count": 133,
   "metadata": {},
   "outputs": [
    {
     "name": "stdout",
     "output_type": "stream",
     "text": [
      "       sample REF ALT      mut   DP       ADF      ADR        AD       chrom var_type sub_type   pos   start     end   QUAL\n",
      "0    13-11594   A   G  1057A>G  170  [0, 125]  [0, 45]  [0, 170]  LT708304.1      snp       ts  1057  1056.0  1057.0  999.0\n",
      "1   14-MBovis   A   G  1057A>G  188  [0, 158]  [0, 30]  [0, 188]  LT708304.1      snp       ts  1057  1056.0  1057.0  999.0\n",
      "2    15-11643   A   G  1057A>G  165  [0, 158]   [0, 7]  [0, 165]  LT708304.1      snp       ts  1057  1056.0  1057.0  999.0\n",
      "3  161-MBovis   A   G  1057A>G  136  [0, 135]   [0, 1]  [0, 136]  LT708304.1      snp       ts  1057  1056.0  1057.0  999.0\n"
     ]
    }
   ],
   "source": [
    "df = tools.vcf_to_dataframe('/storage/btbgenie/sim_results/snps.vcf.gz') \n",
    "print (df[:4])\n",
    "p=pd.pivot_table(df,index='pos',columns='sample',values='mut',aggfunc='size')\n",
    "#p[p.isnull().sum(1)>0]"
   ]
  },
  {
   "cell_type": "code",
   "execution_count": 112,
   "metadata": {},
   "outputs": [],
   "source": [
    "fn = [2672966,2916881,3499480,3499469,3499476,2672970,2444846]"
   ]
  },
  {
   "cell_type": "code",
   "execution_count": 142,
   "metadata": {},
   "outputs": [],
   "source": [
    "diff = list (set(new) - set(old))\n",
    "sub=df[df.pos.isin(diff)]\n",
    "p=pd.pivot_table(sub,index='pos',columns='sample',values='mut',aggfunc='first')\n",
    "#import seaborn as sns\n",
    "#sns.heatmap(p)\n",
    "p.to_csv('proximity_changed.csv')"
   ]
  },
  {
   "cell_type": "markdown",
   "metadata": {},
   "source": [
    "## mask locations for mbovis"
   ]
  },
  {
   "cell_type": "code",
   "execution_count": null,
   "metadata": {},
   "outputs": [],
   "source": [
    "#make mask bed file for mbovis\n",
    "g=tools.genbank_to_dataframe('../snipgenie/data/Mbovis_AF212297.gb')\n",
    "g['gene'] = g.gene.fillna('')\n",
    "g=g[(g.gene.str.contains('PE_PGRS') | g.gene.str.contains('PPE')) & (g.feat_type=='CDS') | (g.feat_type=='repeat_region')]\n",
    "for i,r in g.iterrows():  \n",
    "    print ('LT708304.1','\\t', r.start, '\\t', r.end, r.gene, r.locus_tag)"
   ]
  },
  {
   "cell_type": "markdown",
   "metadata": {},
   "source": [
    "## mask for MTB"
   ]
  },
  {
   "cell_type": "code",
   "execution_count": null,
   "metadata": {},
   "outputs": [],
   "source": [
    "#make mask bed file for mbovis\n",
    "g=tools.genbank_to_dataframe('../snipgenie/data/MTB-H37Rv.gb')\n",
    "g['gene'] = g.gene.fillna('')\n",
    "g=g[(g.gene.str.contains('PE_PGRS') | g.gene.str.contains('PPE')) & (g.feat_type=='CDS') | (g.feat_type=='repeat_region')]\n",
    "for i,r in g.iterrows():  \n",
    "    print ('NC_000962.3','\\t', r.start, '\\t', r.end)#, r.gene, r.locus_tag)"
   ]
  },
  {
   "cell_type": "code",
   "execution_count": 210,
   "metadata": {},
   "outputs": [],
   "source": [
    "def generic_multiprocess(inputs):\n",
    "    #split sites into chunks and run in parallel for long jobs\n",
    "    \n",
    "    import multiprocessing as mp\n",
    "    blocks = np.array_split(np.array(inputs),threads)\n",
    "    result=[]\n",
    "    funclist = []\n",
    "    pool = mp.Pool(threads)\n",
    "    for subset in blocks:            \n",
    "        f = pool.apply_async(worker_func, [subset])      \n",
    "        funclist.append(f)            \n",
    "    try:\n",
    "        for f in funclist:\n",
    "            out = f.get(timeout=None)               \n",
    "            if len(out)>0:\n",
    "                result.append(out)\n",
    "    except KeyboardInterrupt:\n",
    "        print ('process interrupted')\n",
    "        pool.terminate()\n",
    "        sys.exit(0)\n",
    "\n",
    "    pool.close()\n",
    "    pool.join()    \n",
    "    return result"
   ]
  },
  {
   "cell_type": "markdown",
   "metadata": {},
   "source": [
    "### Phylogeny from MSA"
   ]
  },
  {
   "cell_type": "code",
   "execution_count": null,
   "metadata": {},
   "outputs": [],
   "source": [
    "def create_tree(filename, labelmap=None):\n",
    "    \"\"\"Draw a tree \"\"\"\n",
    "    \n",
    "    from ete3 import Tree, NodeStyle, TreeStyle\n",
    "    t = Tree(filename)\n",
    "    t.set_outgroup('ref')    \n",
    "    if labelmap != None:\n",
    "        trees.set_tiplabels(t,labelmap)\n",
    "    trees.format_nodes(t)\n",
    "    ts = TreeStyle()\n",
    "    ts.scale=1000\n",
    "    t.render(\"%%inline\", tree_style=ts)\n",
    "    t.render(\"tree.png\", tree_style=ts)\n",
    "    return t\n",
    "\n",
    "sra['filename'] = sra.Run.apply(lambda x: 'mapped/'+x+'.bam')\n",
    "print (sra[:3])\n",
    "labelmap = dict(zip(sra.filename,sra.geo_loc_name_country))\n",
    "#print (labelmap)\n",
    "t = create_tree('RAxML_bipartitions.variants', labelmap)\n",
    "t.render(\"%%inline\")"
   ]
  },
  {
   "cell_type": "code",
   "execution_count": null,
   "metadata": {},
   "outputs": [],
   "source": [
    "from Bio import Phylo\n",
    "tree=Phylo.read('RAxML_bestTree.variants','newick')\n",
    "Phylo.draw(tree)"
   ]
  },
  {
   "cell_type": "markdown",
   "metadata": {},
   "source": [
    "## csq gff format"
   ]
  },
  {
   "cell_type": "code",
   "execution_count": 2,
   "metadata": {},
   "outputs": [
    {
     "name": "stderr",
     "output_type": "stream",
     "text": [
      "/home/farrell/.local/lib/python3.10/site-packages/Bio/SeqFeature.py:257: BiopythonDeprecationWarning: Using the strand argument is deprecated, and will be removed in a future release. Please set it via the location object instead.\n",
      "  warnings.warn(\n"
     ]
    }
   ],
   "source": [
    "tools.gff_bcftools_format('../snipgenie/data/Mbovis_AF212297.gb', '../Mbovis_csq_new.gff')"
   ]
  },
  {
   "cell_type": "code",
   "execution_count": null,
   "metadata": {},
   "outputs": [],
   "source": [
    "gff=tools.gff_to_features('../pathogenie/data/Mbovis_AF212297.gff')\n",
    "g=tools.features_to_dataframe(gff)\n",
    "tools.features_summary(g)"
   ]
  },
  {
   "cell_type": "code",
   "execution_count": null,
   "metadata": {},
   "outputs": [],
   "source": [
    "reload(plotting)\n",
    "f,ax=plt.subplots(1,1,figsize=(12,3))\n",
    "st=time.time()\n",
    "plotting.plot_bam_alignment('../test_results/mapped/3_S57_L001.bam', 'LT708304.1', 2000, 3000, yend=100, rect_height=3, ax=ax)\n",
    "print (time.time()-st)"
   ]
  },
  {
   "cell_type": "code",
   "execution_count": null,
   "metadata": {},
   "outputs": [],
   "source": [
    "def plot_features(rec, ax, rows=3, xstart=0, xend=30000):\n",
    "    \n",
    "    h=1\n",
    "    df = tools.records_to_dataframe([rec])    \n",
    "    df = df[(df.feat_type!='region') & (df['feat_type']!='source')]\n",
    "    df = df[(df.start>xstart) & (df.end<xend)]\n",
    "    df['length'] = df.end-df.start\n",
    "    y = list(range(1,rows)) * len(df)\n",
    "    df['y'] = y[:len(df)]\n",
    "    df['color'] = 'blue'\n",
    "    df = df.fillna('')\n",
    "    #print (df)  \n",
    "    \n",
    "    from matplotlib.collections import PatchCollection\n",
    "    import matplotlib.patches as mpatches\n",
    "\n",
    "    patches=[]\n",
    "    for i,r in df.iterrows():        \n",
    "        #rect = plt.Rectangle((r.start, r.y), r.length, h/2,\n",
    "        #                        alpha=.5, linewidth=.5,\n",
    "        #                        edgecolor='black', facecolor=r.color)\n",
    "        if r.strand == 1:\n",
    "            x = r.start\n",
    "            dx = r.length\n",
    "        else:\n",
    "            x = r.end\n",
    "            dx = -r.length\n",
    "        arrow = mpatches.Arrow(x, r.y, dx, 0, alpha=.7, width=.3, \n",
    "                               edgecolor='black')\n",
    "        txt = ax.text(r.start, r.y-h/2, r.gene, size=16)\n",
    "        patches.append(arrow)  \n",
    "        \n",
    "    ax.add_collection(PatchCollection(patches, match_original=True))  \n",
    "    ax.set_xlim(xstart, xend)\n",
    "    ax.set_ylim(.4,rows-.5)\n",
    "    plt.yticks([])\n",
    "    plt.tight_layout()\n",
    "\n",
    "    def onclick(event):\n",
    "        print('%s click: button=%d, x=%d, y=%d, xdata=%f, ydata=%f' %\n",
    "              ('double' if event.dblclick else 'single', event.button,\n",
    "               event.x, event.y, event.xdata, event.ydata))\n",
    "        ax.text(event.x, event.y, 'HI!')\n",
    "        ax.figure.canvas.draw()\n",
    "    #cid = ax.figure.canvas.mpl_connect('button_press_event', onclick)\n",
    "    return\n",
    "\n",
    "reload(tools)\n",
    "recs = tools.gff_to_records(app.mbovis_gff)\n",
    "rec=recs[0]\n",
    "f,ax=plt.subplots(1,1,figsize=(15,1.5))\n",
    "plot_features(rec, ax=ax, xstart=26000,xend=35000)"
   ]
  },
  {
   "cell_type": "markdown",
   "metadata": {},
   "source": [
    "## replace pysam"
   ]
  },
  {
   "cell_type": "code",
   "execution_count": null,
   "metadata": {},
   "outputs": [],
   "source": [
    "def get_chrom(bam_file):\n",
    "    \"\"\"Get first sequence name in a bam file\"\"\"\n",
    "\n",
    "    import pysam\n",
    "    samfile = pysam.AlignmentFile(bam_file, \"r\")\n",
    "    iter=samfile.fetch(start=0,end=10)\n",
    "    for read in iter:\n",
    "        if read.reference_name:\n",
    "            return read.reference_name\n",
    "        \n",
    "get_chrom('mapped/3_S57_L001.bam')"
   ]
  },
  {
   "cell_type": "code",
   "execution_count": 4,
   "metadata": {},
   "outputs": [],
   "source": [
    "import bamnostic as bs\n",
    "bam = bs.AlignmentFile('mapped/3_S57_L001.bam', 'rb')"
   ]
  },
  {
   "cell_type": "code",
   "execution_count": 6,
   "metadata": {},
   "outputs": [
    {
     "data": {
      "text/plain": [
       "'LT708304.1'"
      ]
     },
     "execution_count": 6,
     "metadata": {},
     "output_type": "execute_result"
    }
   ],
   "source": [
    "chrom=bam.header['SQ'][0]['SN']\n",
    "chrom"
   ]
  },
  {
   "cell_type": "code",
   "execution_count": null,
   "metadata": {},
   "outputs": [],
   "source": [
    "for i, read in enumerate(bam.fetch(chrom, 1, 10)):\n",
    "    print(read)"
   ]
  },
  {
   "cell_type": "code",
   "execution_count": 5,
   "metadata": {},
   "outputs": [
    {
     "name": "stdout",
     "output_type": "stream",
     "text": [
      "blastn -out temp_blast.txt -outfmt \"6 qseqid sseqid qseq sseq pident qcovs length mismatch gapopen qstart qend sstart send evalue bitscore stitle\" -query temp.fa -db contaminants.fa -evalue 0.001 -max_target_seqs 50 -num_threads 8 -task blastn\n",
      "LT708304.1 Mycobacterium bovis AF2122/97 genome assembly, chromosome: Mycobacterium_bovis_AF2122/97    932\n",
      "NZ_CP021380.2 Pseudomonas aeruginosa strain CCBH4851 chromosome, complete genome                       240\n",
      "Name: stitle, dtype: int64\n"
     ]
    }
   ],
   "source": [
    "reload(tools)\n",
    "\n",
    "def check_unmapped(fastafile):\n",
    "    \"\"\"Check possible source of unmapped reads\"\"\"\n",
    "    \n",
    "    recs=list(SeqIO.parse(fastafile,'fasta'))\n",
    "    recs = recs[:900]\n",
    "    SeqIO.write(recs,'temp.fa','fasta')\n",
    "    tools.make_blast_database('contaminants.fa')\n",
    "    bl = tools.blast_fasta('contaminants.fa', 'temp.fa',threads=8,show_cmd=True)    \n",
    "    print (bl.stitle.value_counts())\n",
    "    return bl\n",
    "\n",
    "bl=check_unmapped('/storage/btbgenie/dup_results/unmapped/TB19-002014.bam.fasta')"
   ]
  },
  {
   "cell_type": "code",
   "execution_count": null,
   "metadata": {},
   "outputs": [],
   "source": [
    "bl.qseq.value_counts()"
   ]
  },
  {
   "cell_type": "markdown",
   "metadata": {},
   "source": [
    "## find all multimapping regions in bam file"
   ]
  },
  {
   "cell_type": "code",
   "execution_count": 63,
   "metadata": {},
   "outputs": [
    {
     "data": {
      "text/plain": [
       "b''"
      ]
     },
     "execution_count": 63,
     "metadata": {},
     "output_type": "execute_result"
    }
   ],
   "source": [
    "bf = '/storage/btbgenie/dup_results/mapped/TB19-003437.bam'\n",
    "out = 'multimapped.bam'\n",
    "threads=4\n",
    "cmd = 'samtools view -@ {t} -b -f 256 -F 4 -h  {b} > {o}'.format(b=bf,o=out,t=threads)\n",
    "subprocess.check_output(cmd,shell=True)\n"
   ]
  },
  {
   "cell_type": "code",
   "execution_count": 64,
   "metadata": {},
   "outputs": [],
   "source": [
    "import bamnostic as bs"
   ]
  },
  {
   "cell_type": "code",
   "execution_count": null,
   "metadata": {},
   "outputs": [],
   "source": [
    "def get_multimapped():\n",
    "    bam = bs.AlignmentFile('/storage/btbgenie/dup_results/mapped/TB19-003437.bam', 'rb')\n",
    "    i=0\n",
    "    rc=[]\n",
    "\n",
    "    for read in bam:\n",
    "        if i > 1000000:\n",
    "            break\n",
    "        #if read.mapq == 0:\n",
    "        rc.append(read.pos)\n",
    "        i+=1\n",
    "    \n",
    "get_multimapped()"
   ]
  },
  {
   "cell_type": "code",
   "execution_count": 78,
   "metadata": {},
   "outputs": [
    {
     "name": "stdout",
     "output_type": "stream",
     "text": [
      "CPU times: user 1min 50s, sys: 47.8 ms, total: 1min 50s\n",
      "Wall time: 1min 50s\n"
     ]
    }
   ],
   "source": [
    "%%time \n",
    "get_multimapped()"
   ]
  },
  {
   "cell_type": "code",
   "execution_count": 79,
   "metadata": {},
   "outputs": [
    {
     "data": {
      "text/plain": [
       "608012     13\n",
       "1342643    13\n",
       "892029     12\n",
       "1170985    11\n",
       "608386     11\n",
       "           ..\n",
       "1343378     1\n",
       "104339      1\n",
       "104343      1\n",
       "608153      1\n",
       "401408      1\n",
       "Length: 4109, dtype: int64"
      ]
     },
     "execution_count": 79,
     "metadata": {},
     "output_type": "execute_result"
    }
   ],
   "source": [
    "x=pd.Series(rc)\n",
    "x.value_counts()"
   ]
  },
  {
   "cell_type": "code",
   "execution_count": 65,
   "metadata": {},
   "outputs": [],
   "source": [
    "bam = bs.AlignmentFile('multimapped.bam', 'rb')\n",
    "res=[]\n",
    "for read in bam:\n",
    "    res.append((read.pos,read.seq,read.mapq))\n",
    "    "
   ]
  },
  {
   "cell_type": "code",
   "execution_count": 66,
   "metadata": {},
   "outputs": [],
   "source": [
    "df=pd.DataFrame(res,columns=['pos','seq','qual'])"
   ]
  },
  {
   "cell_type": "code",
   "execution_count": 67,
   "metadata": {},
   "outputs": [
    {
     "data": {
      "text/plain": [
       "0          32\n",
       "1306895    17\n",
       "2767810     8\n",
       "3080741     6\n",
       "1306896     5\n",
       "4317352     5\n",
       "3351441     4\n",
       "1306875     4\n",
       "1306879     3\n",
       "956926      3\n",
       "Name: pos, dtype: int64"
      ]
     },
     "execution_count": 67,
     "metadata": {},
     "output_type": "execute_result"
    },
    {
     "data": {
      "image/png": "[encoded data removed]",
      "text/plain": [
       "<Figure size 432x288 with 1 Axes>"
      ]
     },
     "metadata": {
      "needs_background": "light"
     },
     "output_type": "display_data"
    }
   ],
   "source": [
    "cts=df.pos.value_counts()\n",
    "plt.scatter(x=cts.index,y=cts)\n",
    "cts[:10]"
   ]
  },
  {
   "cell_type": "markdown",
   "metadata": {},
   "source": [
    "## low quality samples checks"
   ]
  },
  {
   "cell_type": "code",
   "execution_count": null,
   "metadata": {},
   "outputs": [],
   "source": [
    "args = {'threads':16, 'outdir': '/storage/btbgenie/monaghan/temp_results', 'labelsep':'_',  \n",
    "        'input':['/storage/btbgenie/mbovis_ireland/Fastqs_06-10-22/'],\n",
    "        'overwrite':False,\n",
    "        'custom_filters': True,\n",
    "        'mask': app.mbovis_mask,\n",
    "        'unmapped': False,\n",
    "        'buildtree': True}\n",
    "W = app.WorkFlow(**args)\n",
    "st = W.setup()\n",
    "W.run()"
   ]
  },
  {
   "cell_type": "code",
   "execution_count": null,
   "metadata": {},
   "outputs": [],
   "source": [
    "import toytree, toyplot\n",
    "treefile1 = '/storage/btbgenie/monaghan/temp_results/tree.newick'\n",
    "tre = toytree.tree(treefile1)\n",
    "canvas,t,r=tre.draw(layout='r',width=1200,height=900)"
   ]
  },
  {
   "cell_type": "code",
   "execution_count": 5,
   "metadata": {},
   "outputs": [],
   "source": [
    "reload(tools)\n",
    "seqrecs, smat = tools.core_alignment_from_vcf('/storage/btbgenie/monaghan/temp_results/snps.vcf.gz', missing=True)\n",
    "SeqIO.write(seqrecs, 'core_test.fa','fasta')\n",
    "treefile2 = trees.run_RAXML('core_test.fa', outpath='temp')"
   ]
  },
  {
   "cell_type": "code",
   "execution_count": 48,
   "metadata": {},
   "outputs": [],
   "source": [
    "smat.to_csv('core_missing.txt', sep=' ')"
   ]
  },
  {
   "cell_type": "code",
   "execution_count": null,
   "metadata": {},
   "outputs": [],
   "source": [
    "import toytree\n",
    "tre = toytree.tree(treefile2)\n",
    "canvas,t,r=tre.draw(layout='r',width=1200,height=900)"
   ]
  },
  {
   "cell_type": "code",
   "execution_count": 39,
   "metadata": {},
   "outputs": [
    {
     "data": {
      "text/plain": [
       "pos\n",
       "1928859    61\n",
       "3688592    19\n",
       "4017811    18\n",
       "2461342    17\n",
       "3075632    17\n",
       "1599371    12\n",
       "1599372    12\n",
       "790175     11\n",
       "4138897    10\n",
       "2362656     7\n",
       "4062199     7\n",
       "3377055     6\n",
       "2108702     6\n",
       "2997998     6\n",
       "3115153     5\n",
       "902470      5\n",
       "651354      5\n",
       "1746821     5\n",
       "4051374     4\n",
       "3440364     4\n",
       "dtype: int64"
      ]
     },
     "execution_count": 39,
     "metadata": {},
     "output_type": "execute_result"
    }
   ],
   "source": [
    "#by position\n",
    "p=smat.T\n",
    "p=p[p=='N'].count().sort_values(ascending=False)[:20]\n",
    "exclude = p.index\n",
    "p"
   ]
  },
  {
   "cell_type": "code",
   "execution_count": 55,
   "metadata": {},
   "outputs": [
    {
     "data": {
      "text/plain": [
       "<AxesSubplot:>"
      ]
     },
     "execution_count": 55,
     "metadata": {},
     "output_type": "execute_result"
    },
    {
     "data": {
      "image/png": "[encoded data removed]",
      "text/plain": [
       "<Figure size 720x480 with 1 Axes>"
      ]
     },
     "metadata": {
      "needs_background": "light"
     },
     "output_type": "display_data"
    }
   ],
   "source": [
    "#exclude dodgy positions from matrix\n",
    "dsmat = smat.loc[~smat.index.isin(exclude)]\n",
    "#missing sites per sample\n",
    "missing=dsmat[dsmat=='N'].count().sort_values()\n",
    "\n",
    "print (missing)\n",
    "#merge with coverage stats from run\n",
    "samples=pd.read_csv('/storage/btbgenie/monaghan/temp_results/samples.csv')\n",
    "x=samples.merge(missing.rename('missing'),right_index=True,left_on='sample')\n",
    "sx=x[x.meandepth>5]\n",
    "sx.missing.hist()"
   ]
  },
  {
   "cell_type": "code",
   "execution_count": 56,
   "metadata": {},
   "outputs": [
    {
     "data": {
      "text/plain": [
       "<AxesSubplot:xlabel='meandepth', ylabel='coverage'>"
      ]
     },
     "execution_count": 56,
     "metadata": {},
     "output_type": "execute_result"
    },
    {
     "data": {
      "image/png": "[encoded data removed]",
      "text/plain": [
       "<Figure size 720x480 with 1 Axes>"
      ]
     },
     "metadata": {
      "needs_background": "light"
     },
     "output_type": "display_data"
    },
    {
     "data": {
      "image/png": "[encoded data removed]",
      "text/plain": [
       "<Figure size 720x480 with 1 Axes>"
      ]
     },
     "metadata": {
      "needs_background": "light"
     },
     "output_type": "display_data"
    },
    {
     "data": {
      "image/png": "[encoded data removed]",
      "text/plain": [
       "<Figure size 720x480 with 1 Axes>"
      ]
     },
     "metadata": {
      "needs_background": "light"
     },
     "output_type": "display_data"
    }
   ],
   "source": [
    "sx.plot('coverage','missing',kind='scatter',s=40)\n",
    "sx.plot('meandepth','missing',kind='scatter',s=40)\n",
    "sx.plot('meandepth','coverage',kind='scatter',s=40)"
   ]
  },
  {
   "cell_type": "code",
   "execution_count": null,
   "metadata": {},
   "outputs": [],
   "source": [
    "x[['sample','missing','coverage','meandepth']].sort_values('missing',ascending=False)[:16]"
   ]
  },
  {
   "cell_type": "code",
   "execution_count": 23,
   "metadata": {},
   "outputs": [
    {
     "name": "stdout",
     "output_type": "stream",
     "text": [
      "found 3214 sites for core snps\n",
      "113 sites with at least one missing sample\n",
      "0 uninformative sites\n"
     ]
    }
   ],
   "source": [
    "#all monaghan\n",
    "seqrecs, smat2 = tools.core_alignment_from_vcf('/storage/btbgenie/monaghan/monaghan_results/snps.vcf.gz', missing=True)\n",
    "missingmon=smat2[smat2=='N'].count().sort_values()"
   ]
  },
  {
   "cell_type": "code",
   "execution_count": null,
   "metadata": {},
   "outputs": [],
   "source": [
    "plt.rcParams['figure.dpi'] = 120\n",
    "samples=pd.read_csv('/storage/btbgenie/monaghan/monaghan_results/samples.csv')\n",
    "monx=samples.merge(missingmon.rename('missing'),right_index=True,left_on='sample')\n",
    "monsx=monx[monx.meandepth<100]\n",
    "monsx.missing.hist()"
   ]
  },
  {
   "cell_type": "code",
   "execution_count": null,
   "metadata": {},
   "outputs": [],
   "source": [
    "monsx.plot('coverage','missing',kind='scatter',s=40)\n",
    "monsx.plot('meandepth','missing',kind='scatter',s=40)\n",
    "monsx.plot('meandepth','coverage',kind='scatter',s=40)"
   ]
  },
  {
   "cell_type": "code",
   "execution_count": null,
   "metadata": {},
   "outputs": [],
   "source": [
    "def distmatrix_to_tree(df, treefile=None):\n",
    "    \"\"\"Make nj tree from snp dist matrix\"\"\"\n",
    "    \n",
    "    from Bio import Phylo\n",
    "    from Bio.Phylo.TreeConstruction import DistanceMatrix, DistanceTreeConstructor\n",
    "\n",
    "    #trim zeroes out \n",
    "    names = list(df.index)\n",
    "    matrix = np.tril(df.values.tolist())\n",
    "    M=[]\n",
    "    for i in range(len(matrix)):\n",
    "        M.append(list(matrix[i][:i+1]))\n",
    "    #print (M)\n",
    "    # Convert the distance matrix to a BioPython DistanceMatrix object\n",
    "    dm = DistanceMatrix(names, M)    \n",
    "    # Build the tree using the Neighbor-Joining algorithm\n",
    "    constructor = DistanceTreeConstructor()\n",
    "    tree = constructor.nj(dm) \n",
    "    def remove_inner_labels(node):\n",
    "        for child in node.clades:\n",
    "            remove_inner_labels(child)\n",
    "        if not node.is_terminal():\n",
    "            node.name = None    \n",
    "    remove_inner_labels(tree.root)    \n",
    "    Phylo.draw(tree)\n",
    "    if treefile != None:\n",
    "        tree = Phylo.write(tree, treefile, 'newick')\n",
    "    return tree\n",
    "    \n",
    "dm = pd.read_csv('/storage/btbgenie/wicklow_results/snpdist.csv', index_col=0)\n",
    "dm = dm.iloc[:15,:15]\n",
    "distmatrix_to_tree(dm)\n"
   ]
  },
  {
   "cell_type": "markdown",
   "metadata": {},
   "source": [
    "## manifest file"
   ]
  },
  {
   "cell_type": "code",
   "execution_count": null,
   "metadata": {},
   "outputs": [],
   "source": [
    "reload(app)\n",
    "ref = app.sarscov2_genome\n",
    "args = {'threads':12, 'outdir': 'test_results', 'labelsep':'.',\n",
    "        #'input':'test_folder',        \n",
    "        'manifest': 'testsamples.txt',\n",
    "        'reference': ref,\n",
    "        'overwrite':False,\n",
    "        'filters':'',\n",
    "        'custom_filters': False, 'get_stats':False}\n",
    "W = app.WorkFlow(**args)\n",
    "st = W.setup()\n",
    "W.run()"
   ]
  },
  {
   "cell_type": "code",
   "execution_count": null,
   "metadata": {},
   "outputs": [],
   "source": [
    "reload(app)\n",
    "ref = app.sarscov2_genome\n",
    "args = {'threads':12, 'outdir': '/home/farrell/espinoza/results', #'labelsep':'.',           \n",
    "        'manifest': '/home/farrell/espinoza/reads_table.DENV2.csv',\n",
    "        'reference': '/home/farrell/espinoza/DENV2.fa',\n",
    "        'overwrite':False,\n",
    "        'filters':'',\n",
    "        'custom_filters': False}\n",
    "W = app.WorkFlow(**args)\n",
    "st = W.setup()\n",
    "W.run()"
   ]
  },
  {
   "cell_type": "code",
   "execution_count": 4,
   "metadata": {},
   "outputs": [],
   "source": [
    "vcf_file = '/other/viktor_wgs/oct24_results/variant_calling/hsd_c1/snps.bcf'\n",
    "vdf = tools.vcf_to_dataframe(vcf_file)"
   ]
  },
  {
   "cell_type": "code",
   "execution_count": 5,
   "metadata": {},
   "outputs": [
    {
     "data": {
      "text/html": [
       "<div>\n",
       "<style scoped>\n",
       "    .dataframe tbody tr th:only-of-type {\n",
       "        vertical-align: middle;\n",
       "    }\n",
       "\n",
       "    .dataframe tbody tr th {\n",
       "        vertical-align: top;\n",
       "    }\n",
       "\n",
       "    .dataframe thead th {\n",
       "        text-align: right;\n",
       "    }\n",
       "</style>\n",
       "<table border=\"1\" class=\"dataframe\">\n",
       "  <thead>\n",
       "    <tr style=\"text-align: right;\">\n",
       "      <th></th>\n",
       "      <th>sample</th>\n",
       "      <th>REF</th>\n",
       "      <th>ALT</th>\n",
       "      <th>mut</th>\n",
       "      <th>DP</th>\n",
       "      <th>ADF</th>\n",
       "      <th>ADR</th>\n",
       "      <th>AD</th>\n",
       "      <th>chrom</th>\n",
       "      <th>var_type</th>\n",
       "      <th>sub_type</th>\n",
       "      <th>pos</th>\n",
       "      <th>start</th>\n",
       "      <th>end</th>\n",
       "      <th>QUAL</th>\n",
       "    </tr>\n",
       "  </thead>\n",
       "  <tbody>\n",
       "    <tr>\n",
       "      <th>0</th>\n",
       "      <td>/other/viktor_wgs/oct24_results/mapped/hsd_c1.bam</td>\n",
       "      <td>C</td>\n",
       "      <td>A</td>\n",
       "      <td>1190396C&gt;A</td>\n",
       "      <td>1</td>\n",
       "      <td>[0, 1]</td>\n",
       "      <td>[0, 0]</td>\n",
       "      <td>[0, 1]</td>\n",
       "      <td>LT708304.1</td>\n",
       "      <td>snp</td>\n",
       "      <td>tv</td>\n",
       "      <td>1190396</td>\n",
       "      <td>1190395</td>\n",
       "      <td>1190396</td>\n",
       "      <td>10.7923</td>\n",
       "    </tr>\n",
       "    <tr>\n",
       "      <th>1</th>\n",
       "      <td>/other/viktor_wgs/oct24_results/mapped/hsd_c1.bam</td>\n",
       "      <td>T</td>\n",
       "      <td>C</td>\n",
       "      <td>1343720T&gt;C</td>\n",
       "      <td>1</td>\n",
       "      <td>[0, 1]</td>\n",
       "      <td>[0, 0]</td>\n",
       "      <td>[0, 1]</td>\n",
       "      <td>LT708304.1</td>\n",
       "      <td>snp</td>\n",
       "      <td>ts</td>\n",
       "      <td>1343720</td>\n",
       "      <td>1343719</td>\n",
       "      <td>1343720</td>\n",
       "      <td>10.7923</td>\n",
       "    </tr>\n",
       "    <tr>\n",
       "      <th>2</th>\n",
       "      <td>/other/viktor_wgs/oct24_results/mapped/hsd_c1.bam</td>\n",
       "      <td>A</td>\n",
       "      <td>G</td>\n",
       "      <td>1475691A&gt;G</td>\n",
       "      <td>483</td>\n",
       "      <td>[0, 278]</td>\n",
       "      <td>[1, 201]</td>\n",
       "      <td>[1, 479]</td>\n",
       "      <td>LT708304.1</td>\n",
       "      <td>snp</td>\n",
       "      <td>ts</td>\n",
       "      <td>1475691</td>\n",
       "      <td>1475690</td>\n",
       "      <td>1475691</td>\n",
       "      <td>228.4260</td>\n",
       "    </tr>\n",
       "  </tbody>\n",
       "</table>\n",
       "</div>"
      ],
      "text/plain": [
       "                                              sample REF ALT         mut   DP       ADF       ADR        AD       chrom var_type sub_type      pos    start      end      QUAL\n",
       "0  /other/viktor_wgs/oct24_results/mapped/hsd_c1.bam   C   A  1190396C>A    1    [0, 1]    [0, 0]    [0, 1]  LT708304.1      snp       tv  1190396  1190395  1190396   10.7923\n",
       "1  /other/viktor_wgs/oct24_results/mapped/hsd_c1.bam   T   C  1343720T>C    1    [0, 1]    [0, 0]    [0, 1]  LT708304.1      snp       ts  1343720  1343719  1343720   10.7923\n",
       "2  /other/viktor_wgs/oct24_results/mapped/hsd_c1.bam   A   G  1475691A>G  483  [0, 278]  [1, 201]  [1, 479]  LT708304.1      snp       ts  1475691  1475690  1475691  228.4260"
      ]
     },
     "execution_count": 5,
     "metadata": {},
     "output_type": "execute_result"
    }
   ],
   "source": [
    "vdf"
   ]
  },
  {
   "cell_type": "code",
   "execution_count": null,
   "metadata": {},
   "outputs": [],
   "source": []
  }
 ],
 "metadata": {
  "kernelspec": {
   "display_name": "Python 3 (ipykernel)",
   "language": "python",
   "name": "python3"
  },
  "language_info": {
   "codemirror_mode": {
    "name": "ipython",
    "version": 3
   },
   "file_extension": ".py",
   "mimetype": "text/x-python",
   "name": "python",
   "nbconvert_exporter": "python",
   "pygments_lexer": "ipython3",
   "version": "3.10.12"
  }
 },
 "nbformat": 4,
 "nbformat_minor": 4
}
