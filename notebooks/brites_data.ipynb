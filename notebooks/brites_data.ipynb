{
 "cells": [
  {
   "cell_type": "markdown",
   "id": "bf5ca2a6-8999-42f9-b1b1-3e1748b86517",
   "metadata": {},
   "source": [
    "# Global M. bovis lineages - fetch data\n",
    "\n",
    "* Brites paper: https://open-research-europe.ec.europa.eu/articles/1-100/v2\n",
    "* Joe data: https://www.ncbi.nlm.nih.gov/bioproject/PRJNA523164"
   ]
  },
  {
   "cell_type": "code",
   "execution_count": 1,
   "id": "97af57d1-ca19-44cd-80a1-979cb48faa11",
   "metadata": {},
   "outputs": [],
   "source": [
    "import sys,os,shutil,subprocess\n",
    "import glob,random\n",
    "from importlib import reload\n",
    "import numpy as np\n",
    "import pandas as pd\n",
    "pd.set_option('display.width', 200)\n",
    "import pylab as plt\n",
    "import matplotlib as mpl\n",
    "from Bio import SeqIO\n",
    "from snipgenie import clustering"
   ]
  },
  {
   "cell_type": "markdown",
   "id": "fd54b687-205c-4683-8d5e-c76d46f9a63b",
   "metadata": {},
   "source": [
    "## Brites data"
   ]
  },
  {
   "cell_type": "code",
   "execution_count": 2,
   "id": "0c6ba67b-7c70-4860-8a72-02214dd5796f",
   "metadata": {},
   "outputs": [],
   "source": [
    "brites=pd.read_csv('brites_table1.csv')\n",
    "brites=brites.dropna(subset=['Accession_Number'])\n",
    "brites.Clonal_Complex.value_counts()\n",
    "c=brites.Country.value_counts()\n",
    "countries=list(c[-24:].index)"
   ]
  },
  {
   "cell_type": "code",
   "execution_count": 3,
   "id": "fa3cc039-e1b8-4d6a-951e-d040c98adefb",
   "metadata": {},
   "outputs": [],
   "source": [
    "brites = brites[~brites.Country.isin(['Ireland','United Kingdom'])]\n",
    "#low quality or v large\n",
    "omit = ['ERR017796','SRR7131025','SRR7131117','SRR6797355','SRR10251186','SRR7617446',\n",
    "        'SRR4199188','ERR2512942','ERR3458087','SRR2101329','SRR5642718','ERR2517102']"
   ]
  },
  {
   "cell_type": "markdown",
   "id": "5ca0cb69-3977-4bfc-a8ee-4638c0525ac6",
   "metadata": {},
   "source": [
    "## fetch data"
   ]
  },
  {
   "cell_type": "code",
   "execution_count": 48,
   "id": "64a0b082-f6f0-4067-a920-8e591cc828eb",
   "metadata": {},
   "outputs": [],
   "source": [
    "def fetch_data(meta,col,path,omit=[]):\n",
    "    for i,row in meta.iterrows():\n",
    "        run = row[col]\n",
    "        #print (row)\n",
    "        if run in omit:\n",
    "            continue\n",
    "        if 'ERS' in run:\n",
    "            continue\n",
    "        files = glob.glob(os.path.join(path,'%s*.fastq*') %run)\n",
    "        if len(files)>0:\n",
    "            continue\n",
    "        cmd = 'fastq-dump --split-files -O %s %s' %(path,run)\n",
    "        print (run)\n",
    "        print (cmd)\n",
    "        try:\n",
    "            subprocess.check_output(cmd, shell=True)\n",
    "        except:\n",
    "            print ('failed')\n",
    "            continue\n",
    "        f=os.path.join(path,'%s*.fastq' %run)\n",
    "        cmd = 'pigz %s' %f\n",
    "        print (cmd)\n",
    "        subprocess.check_output(cmd, shell=True)\n",
    "        "
   ]
  },
  {
   "cell_type": "code",
   "execution_count": null,
   "id": "b4ad8c70-f11b-49d2-8812-06d3dbeadf20",
   "metadata": {
    "tags": []
   },
   "outputs": [],
   "source": [
    "path = '/storage/btbgenie/brites'\n",
    "#uk = brites[brites.Country=='United Kingdom']\n",
    "rare = brites[brites.Country.isin(countries)]\n",
    "sub = brites.sample(40)\n",
    "fetch_data(sub,'Accession_Number',path,omit)"
   ]
  },
  {
   "cell_type": "code",
   "execution_count": 6,
   "id": "41b46321-d3d7-4b55-ade4-4dd972c16110",
   "metadata": {
    "tags": []
   },
   "outputs": [],
   "source": [
    "'''files = glob.glob('/storage/btbgenie/mbovis_sra/*.fastq*')\n",
    "for f in files:\n",
    "    name=os.path.splitext(os.path.basename(f))[0].split('_')[0]\n",
    "    #print (name)\n",
    "    if name not in list(meta.Accession_Number):\n",
    "        print (name,os.path.basename(f))\n",
    "        shutil.move(f,os.path.join('/storage/btbgenie/mbovis_sra_other',os.path.basename(f)))'''"
   ]
  },
  {
   "cell_type": "code",
   "execution_count": null,
   "id": "82b95bfd-9ba1-40e9-a3f4-6cefc43b366b",
   "metadata": {},
   "outputs": [],
   "source": [
    "samples = pd.read_csv('/storage/btbgenie/global_results/samples.csv')\n",
    "x=brites[brites.Accession_Number.isin(samples['sample'])]\n",
    "x.Country.value_counts()\n",
    "samples"
   ]
  },
  {
   "cell_type": "markdown",
   "id": "5d8429a5-a34e-449a-b170-37e3874a9470",
   "metadata": {},
   "source": [
    "## check clustering"
   ]
  },
  {
   "cell_type": "code",
   "execution_count": 25,
   "id": "d4374242-1659-4db5-93de-1c6e3957e6d6",
   "metadata": {},
   "outputs": [
    {
     "data": {
      "text/plain": [
       "snp500\n",
       "1    335\n",
       "4     36\n",
       "8     13\n",
       "2      7\n",
       "5      5\n",
       "6      3\n",
       "3      3\n",
       "7      2\n",
       "Name: count, dtype: int64"
      ]
     },
     "execution_count": 25,
     "metadata": {},
     "output_type": "execute_result"
    }
   ],
   "source": [
    "reload(clustering)\n",
    "snpdist = pd.read_csv('/storage/btbgenie/global_results/snpdist.csv',index_col=0)\n",
    "clusts,members = clustering.get_cluster_levels(snpdist)\n",
    "clusts.snp500.value_counts()"
   ]
  },
  {
   "cell_type": "code",
   "execution_count": 26,
   "id": "520790fb-3652-4952-b550-976b937a72d2",
   "metadata": {
    "scrolled": true
   },
   "outputs": [
    {
     "data": {
      "text/html": [
       "<div>\n",
       "<style scoped>\n",
       "    .dataframe tbody tr th:only-of-type {\n",
       "        vertical-align: middle;\n",
       "    }\n",
       "\n",
       "    .dataframe tbody tr th {\n",
       "        vertical-align: top;\n",
       "    }\n",
       "\n",
       "    .dataframe thead th {\n",
       "        text-align: right;\n",
       "    }\n",
       "</style>\n",
       "<table border=\"1\" class=\"dataframe\">\n",
       "  <thead>\n",
       "    <tr style=\"text-align: right;\">\n",
       "      <th></th>\n",
       "      <th>snp1000</th>\n",
       "      <th>snp500</th>\n",
       "      <th>snp200</th>\n",
       "      <th>snp50</th>\n",
       "      <th>snp20</th>\n",
       "      <th>snp12</th>\n",
       "      <th>snp7</th>\n",
       "      <th>snp3</th>\n",
       "      <th>dup</th>\n",
       "    </tr>\n",
       "  </thead>\n",
       "  <tbody>\n",
       "    <tr>\n",
       "      <th>ref</th>\n",
       "      <td>1</td>\n",
       "      <td>1</td>\n",
       "      <td>4</td>\n",
       "      <td>219</td>\n",
       "      <td>219</td>\n",
       "      <td>219</td>\n",
       "      <td>219</td>\n",
       "      <td>219</td>\n",
       "      <td>219</td>\n",
       "    </tr>\n",
       "    <tr>\n",
       "      <th>SRR1792429</th>\n",
       "      <td>1</td>\n",
       "      <td>1</td>\n",
       "      <td>4</td>\n",
       "      <td>24</td>\n",
       "      <td>8</td>\n",
       "      <td>8</td>\n",
       "      <td>307</td>\n",
       "      <td>307</td>\n",
       "      <td>24</td>\n",
       "    </tr>\n",
       "    <tr>\n",
       "      <th>SRR1792051</th>\n",
       "      <td>1</td>\n",
       "      <td>1</td>\n",
       "      <td>4</td>\n",
       "      <td>47</td>\n",
       "      <td>47</td>\n",
       "      <td>47</td>\n",
       "      <td>23</td>\n",
       "      <td>352</td>\n",
       "      <td>47</td>\n",
       "    </tr>\n",
       "    <tr>\n",
       "      <th>SRR1791707</th>\n",
       "      <td>1</td>\n",
       "      <td>1</td>\n",
       "      <td>4</td>\n",
       "      <td>177</td>\n",
       "      <td>177</td>\n",
       "      <td>177</td>\n",
       "      <td>177</td>\n",
       "      <td>354</td>\n",
       "      <td>177</td>\n",
       "    </tr>\n",
       "    <tr>\n",
       "      <th>SRR1791826</th>\n",
       "      <td>1</td>\n",
       "      <td>1</td>\n",
       "      <td>4</td>\n",
       "      <td>2</td>\n",
       "      <td>222</td>\n",
       "      <td>222</td>\n",
       "      <td>222</td>\n",
       "      <td>222</td>\n",
       "      <td>2</td>\n",
       "    </tr>\n",
       "    <tr>\n",
       "      <th>...</th>\n",
       "      <td>...</td>\n",
       "      <td>...</td>\n",
       "      <td>...</td>\n",
       "      <td>...</td>\n",
       "      <td>...</td>\n",
       "      <td>...</td>\n",
       "      <td>...</td>\n",
       "      <td>...</td>\n",
       "      <td>...</td>\n",
       "    </tr>\n",
       "    <tr>\n",
       "      <th>SRR7851351</th>\n",
       "      <td>1</td>\n",
       "      <td>1</td>\n",
       "      <td>4</td>\n",
       "      <td>39</td>\n",
       "      <td>39</td>\n",
       "      <td>39</td>\n",
       "      <td>157</td>\n",
       "      <td>78</td>\n",
       "      <td>39</td>\n",
       "    </tr>\n",
       "    <tr>\n",
       "      <th>ERR2815600</th>\n",
       "      <td>1</td>\n",
       "      <td>1</td>\n",
       "      <td>14</td>\n",
       "      <td>120</td>\n",
       "      <td>120</td>\n",
       "      <td>120</td>\n",
       "      <td>60</td>\n",
       "      <td>30</td>\n",
       "      <td>120</td>\n",
       "    </tr>\n",
       "    <tr>\n",
       "      <th>SRR7851321</th>\n",
       "      <td>1</td>\n",
       "      <td>1</td>\n",
       "      <td>17</td>\n",
       "      <td>64</td>\n",
       "      <td>64</td>\n",
       "      <td>64</td>\n",
       "      <td>64</td>\n",
       "      <td>64</td>\n",
       "      <td>64</td>\n",
       "    </tr>\n",
       "    <tr>\n",
       "      <th>SRR7851348</th>\n",
       "      <td>1</td>\n",
       "      <td>1</td>\n",
       "      <td>35</td>\n",
       "      <td>67</td>\n",
       "      <td>67</td>\n",
       "      <td>134</td>\n",
       "      <td>67</td>\n",
       "      <td>33</td>\n",
       "      <td>67</td>\n",
       "    </tr>\n",
       "    <tr>\n",
       "      <th>SRR7851339</th>\n",
       "      <td>1</td>\n",
       "      <td>1</td>\n",
       "      <td>34</td>\n",
       "      <td>38</td>\n",
       "      <td>38</td>\n",
       "      <td>19</td>\n",
       "      <td>78</td>\n",
       "      <td>39</td>\n",
       "      <td>38</td>\n",
       "    </tr>\n",
       "  </tbody>\n",
       "</table>\n",
       "<p>219 rows × 9 columns</p>\n",
       "</div>"
      ],
      "text/plain": [
       "            snp1000  snp500  snp200  snp50  snp20  snp12  snp7  snp3  dup\n",
       "ref               1       1       4    219    219    219   219   219  219\n",
       "SRR1792429        1       1       4     24      8      8   307   307   24\n",
       "SRR1792051        1       1       4     47     47     47    23   352   47\n",
       "SRR1791707        1       1       4    177    177    177   177   354  177\n",
       "SRR1791826        1       1       4      2    222    222   222   222    2\n",
       "...             ...     ...     ...    ...    ...    ...   ...   ...  ...\n",
       "SRR7851351        1       1       4     39     39     39   157    78   39\n",
       "ERR2815600        1       1      14    120    120    120    60    30  120\n",
       "SRR7851321        1       1      17     64     64     64    64    64   64\n",
       "SRR7851348        1       1      35     67     67    134    67    33   67\n",
       "SRR7851339        1       1      34     38     38     19    78    39   38\n",
       "\n",
       "[219 rows x 9 columns]"
      ]
     },
     "execution_count": 26,
     "metadata": {},
     "output_type": "execute_result"
    }
   ],
   "source": [
    "clustering.nonredundant_samples(clusts, 'snp50')"
   ]
  },
  {
   "cell_type": "code",
   "execution_count": 47,
   "id": "70f627f0-f3f7-4533-882b-5ad41c198a78",
   "metadata": {},
   "outputs": [
    {
     "data": {
      "text/plain": [
       "array([[<Axes: title={'center': '0'}>]], dtype=object)"
      ]
     },
     "execution_count": 47,
     "metadata": {},
     "output_type": "execute_result"
    },
    {
     "data": {
      "image/png": "[encoded data removed]",
      "text/plain": [
       "<Figure size 640x480 with 1 Axes>"
      ]
     },
     "metadata": {},
     "output_type": "display_data"
    }
   ],
   "source": [
    "smat = pd.read_csv('/storage/btbgenie/global_results/core_missing.txt',sep=' ',index_col=0)\n",
    "missing = smat[smat!='N'].T.count().sort_values()\n",
    "x=pd.DataFrame(missing)#.reset_index()\n",
    "#x.plot(x='pos',y=0,kind='scatter')\n",
    "x.hist()"
   ]
  },
  {
   "cell_type": "markdown",
   "id": "8b694e6b-208d-4df0-9be1-a9f9ae523bb2",
   "metadata": {},
   "source": [
    "## Joe data"
   ]
  },
  {
   "cell_type": "code",
   "execution_count": 6,
   "id": "e8ae821a-21d4-4449-b6b1-c47299bbf55b",
   "metadata": {
    "tags": []
   },
   "outputs": [],
   "source": [
    "ukmeta = pd.read_csv('/storage/btbgenie/UK/joe_runtable.txt')\n",
    "\n",
    "path='/storage/btbgenie/UK'\n",
    "#fetch_data(ukmeta,'Run',path)"
   ]
  },
  {
   "cell_type": "code",
   "execution_count": 7,
   "id": "70f7d470-b68d-45bb-9fd3-e7401b975fd1",
   "metadata": {
    "tags": []
   },
   "outputs": [
    {
     "data": {
      "text/html": [
       "<div>\n",
       "<style scoped>\n",
       "    .dataframe tbody tr th:only-of-type {\n",
       "        vertical-align: middle;\n",
       "    }\n",
       "\n",
       "    .dataframe tbody tr th {\n",
       "        vertical-align: top;\n",
       "    }\n",
       "\n",
       "    .dataframe thead th {\n",
       "        text-align: right;\n",
       "    }\n",
       "</style>\n",
       "<table border=\"1\" class=\"dataframe\">\n",
       "  <thead>\n",
       "    <tr style=\"text-align: right;\">\n",
       "      <th></th>\n",
       "      <th>Accession_Number</th>\n",
       "      <th>Clonal_Complex</th>\n",
       "      <th>Country</th>\n",
       "      <th>Gnumber</th>\n",
       "      <th>Host</th>\n",
       "      <th>Map</th>\n",
       "      <th>SIB_Number</th>\n",
       "      <th>Sample.included.in.Loiseau.et.al..2020</th>\n",
       "    </tr>\n",
       "  </thead>\n",
       "  <tbody>\n",
       "  </tbody>\n",
       "</table>\n",
       "</div>"
      ],
      "text/plain": [
       "Empty DataFrame\n",
       "Columns: [Accession_Number, Clonal_Complex, Country, Gnumber, Host, Map, SIB_Number, Sample.included.in.Loiseau.et.al..2020]\n",
       "Index: []"
      ]
     },
     "execution_count": 7,
     "metadata": {},
     "output_type": "execute_result"
    }
   ],
   "source": [
    "#check against brites for dups\n",
    "ukmeta.Run\n",
    "brites[brites.Accession_Number.isin(ukmeta.Run)]"
   ]
  },
  {
   "cell_type": "code",
   "execution_count": null,
   "id": "952c82bf-57a0-4d18-9754-ee7e6b018e51",
   "metadata": {},
   "outputs": [],
   "source": []
  }
 ],
 "metadata": {
  "kernelspec": {
   "display_name": "Python 3 (ipykernel)",
   "language": "python",
   "name": "python3"
  },
  "language_info": {
   "codemirror_mode": {
    "name": "ipython",
    "version": 3
   },
   "file_extension": ".py",
   "mimetype": "text/x-python",
   "name": "python",
   "nbconvert_exporter": "python",
   "pygments_lexer": "ipython3",
   "version": "3.10.12"
  }
 },
 "nbformat": 4,
 "nbformat_minor": 5
}
