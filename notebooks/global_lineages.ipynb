{
 "cells": [
  {
   "cell_type": "markdown",
   "metadata": {},
   "source": [
    "## find samples of global M. bovis lineages and fetch read data from SRA\n",
    "\n",
    "* https://www.frontiersin.org/articles/10.3389/fmicb.2020.00843/full"
   ]
  },
  {
   "cell_type": "code",
   "execution_count": 1,
   "metadata": {},
   "outputs": [],
   "source": [
    "import sys,os,shutil,subprocess\n",
    "import glob\n",
    "from importlib import reload\n",
    "import numpy as np\n",
    "import pandas as pd\n",
    "pd.set_option('display.width', 200)\n",
    "import pylab as plt\n",
    "import matplotlib as mpl\n",
    "from Bio import SeqIO\n",
    "sys.path.append('pathogenie')\n",
    "from snipgenie import tools, aligners, app, trees, plotting"
   ]
  },
  {
   "cell_type": "code",
   "execution_count": 2,
   "metadata": {},
   "outputs": [],
   "source": [
    "brites=pd.read_csv('/storage/btbgenie/mbovis_other/mbovis_genomes_brites.csv')"
   ]
  },
  {
   "cell_type": "code",
   "execution_count": 5,
   "metadata": {},
   "outputs": [],
   "source": [
    "countries = list(brites.Country.unique())"
   ]
  },
  {
   "cell_type": "code",
   "execution_count": 14,
   "metadata": {},
   "outputs": [
    {
     "data": {
      "text/plain": [
       "Index(['Canada', 'Spain', 'Germany', 'Uruguay', 'Brazil', 'Switzerland', 'Malawi', 'Ghana', 'Panama', 'France', 'Ethiopia', 'Italy', 'Tanzania', 'Tunisia', 'Uganda', 'Russia'], dtype='object')"
      ]
     },
     "execution_count": 14,
     "metadata": {},
     "output_type": "execute_result"
    }
   ],
   "source": [
    "sub1 = brites.Country.value_counts()[7:-1]\n",
    "sub1.index"
   ]
  },
  {
   "cell_type": "code",
   "execution_count": null,
   "metadata": {},
   "outputs": [],
   "source": [
    "selected = brites[brites.Country.isin(sub1.index)]\n",
    "for s in selected['SRA ID']:\n",
    "    print (s)\n",
    "    cmd = 'fastq-dump --split-files %s' %s\n",
    "    subprocess.check_output(cmd, shell=True)\n",
    "    "
   ]
  },
  {
   "cell_type": "code",
   "execution_count": null,
   "metadata": {},
   "outputs": [],
   "source": []
  }
 ],
 "metadata": {
  "kernelspec": {
   "display_name": "Python 3",
   "language": "python",
   "name": "python3"
  },
  "language_info": {
   "codemirror_mode": {
    "name": "ipython",
    "version": 3
   },
   "file_extension": ".py",
   "mimetype": "text/x-python",
   "name": "python",
   "nbconvert_exporter": "python",
   "pygments_lexer": "ipython3",
   "version": "3.8.6"
  }
 },
 "nbformat": 4,
 "nbformat_minor": 4
}
