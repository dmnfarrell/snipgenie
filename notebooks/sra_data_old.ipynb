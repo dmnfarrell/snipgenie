{
 "cells": [
  {
   "cell_type": "markdown",
   "id": "4ab1835c-9521-4003-9ef2-8eebb72db5a9",
   "metadata": {
    "tags": []
   },
   "source": [
    "## NCBI SRA data for bovis (Dec 2021)\n",
    "\n",
    "<div class=\"alert alert-block alert-info\"><b>Run this once to get the data.</b> </div>"
   ]
  },
  {
   "cell_type": "code",
   "execution_count": 2,
   "id": "24234a9c-b67c-4e91-a80b-437a9997f045",
   "metadata": {},
   "outputs": [
    {
     "data": {
      "text/plain": [
       "7492"
      ]
     },
     "execution_count": 2,
     "metadata": {},
     "output_type": "execute_result"
    }
   ],
   "source": [
    "sra = pd.read_csv('mbovis_sra.csv')\n",
    "#apply filters\n",
    "sra = sra[~sra.Organism.str.contains('BCG')]\n",
    "sra = sra[~sra.strain.fillna('').str.contains('BCG')]\n",
    "sra = sra[sra['Assay Type']=='WGS']\n",
    "sra = sra[sra.geo_loc_name_country!='Ireland']\n",
    "sra = sra[(sra.Instrument!='MinION') & (~sra.Instrument.str.contains('PacBio'))]\n",
    "sra = sra[sra.LibraryLayout=='PAIRED']\n",
    "sra = sra[sra.Bytes<7e8]\n",
    "len(sra)"
   ]
  },
  {
   "cell_type": "code",
   "execution_count": 3,
   "id": "aea9009c-1868-42c8-90db-c64811711eb6",
   "metadata": {},
   "outputs": [],
   "source": [
    "#set missing country values\n",
    "data={'PRJEB32192':'Ethiopia','PRJEB19799':'United Kingdom','PRJEB5830':'New Zealand','PRJEB9025': 'United Kingdom'}\n",
    "for d in data:\n",
    "    ind=sra[sra.BioProject==d].index\n",
    "    sra.loc[ind,'geo_loc_name_country']=data[d]\n"
   ]
  },
  {
   "cell_type": "code",
   "execution_count": 12,
   "id": "0e85099e-f1f5-4326-8048-0903366d178b",
   "metadata": {},
   "outputs": [],
   "source": [
    "cols = ['Run', 'BioProject', 'geo_loc_name_country', 'Center Name', 'Instrument', 'LibraryLayout', 'ReleaseDate',\n",
    "        'SRA Study', 'Bytes', 'Bases', 'Collection_Date']"
   ]
  },
  {
   "cell_type": "code",
   "execution_count": 14,
   "id": "5b575d2a-ca84-476e-ab1f-5c640ad1c4e6",
   "metadata": {},
   "outputs": [],
   "source": [
    "sra[cols].to_csv('mbovis_sra_filtered.csv',index=False)"
   ]
  },
  {
   "cell_type": "code",
   "execution_count": null,
   "id": "4c8e574a-6fca-49d3-a6f8-6e77cd636318",
   "metadata": {},
   "outputs": [],
   "source": [
    "sra['Center Name'].value_counts()"
   ]
  },
  {
   "cell_type": "code",
   "execution_count": null,
   "id": "1e8b3cb1-32cb-49b3-8f39-6273a5e47867",
   "metadata": {},
   "outputs": [],
   "source": [
    "sra[sra.BioProject=='PRJEB9680']"
   ]
  },
  {
   "cell_type": "code",
   "execution_count": null,
   "id": "6bf25e1e-a9f1-4245-b18f-98d18718bde2",
   "metadata": {},
   "outputs": [],
   "source": [
    "sra.iloc[0]"
   ]
  },
  {
   "cell_type": "code",
   "execution_count": null,
   "id": "e68a1d61-7ef3-452b-b937-ab27d9c9a7d5",
   "metadata": {},
   "outputs": [],
   "source": [
    "sra.Instrument.value_counts()"
   ]
  },
  {
   "cell_type": "code",
   "execution_count": 15,
   "id": "ae645798-96c5-45af-9b50-ffd8ea028467",
   "metadata": {},
   "outputs": [
    {
     "data": {
      "text/plain": [
       "PRJNA251692    551\n",
       "PRJNA270004      1\n",
       "PRJNA557054      1\n",
       "Name: BioProject, dtype: int64"
      ]
     },
     "execution_count": 15,
     "metadata": {},
     "output_type": "execute_result"
    }
   ],
   "source": [
    "x=sra[sra.geo_loc_name_country=='uncalculated']\n",
    "x.BioProject.value_counts()"
   ]
  },
  {
   "cell_type": "code",
   "execution_count": null,
   "id": "c6a7b95a-76f5-4b8f-b71d-25cc9f23efd5",
   "metadata": {},
   "outputs": [],
   "source": [
    "sra.geo_loc_name_country.value_counts()"
   ]
  },
  {
   "cell_type": "code",
   "execution_count": 517,
   "id": "942e250e-2b60-4167-ae57-9c450e1218e8",
   "metadata": {},
   "outputs": [],
   "source": [
    "countries = list(sra.geo_loc_name_country.unique())"
   ]
  },
  {
   "cell_type": "markdown",
   "id": "a05bb08f-9442-4aad-8dfd-bb1b44bba00e",
   "metadata": {},
   "source": [
    "## sub-sample countries with many entries"
   ]
  },
  {
   "cell_type": "code",
   "execution_count": 40,
   "id": "2176cdf9-a598-4484-b113-e5747bc007b4",
   "metadata": {},
   "outputs": [
    {
     "data": {
      "text/plain": [
       "(133, 130, 233)"
      ]
     },
     "execution_count": 40,
     "metadata": {},
     "output_type": "execute_result"
    }
   ],
   "source": [
    "sub1 = sra.geo_loc_name_country.value_counts()[13:-1]\n",
    "sub1\n",
    "selected1 = sra[sra.geo_loc_name_country.isin(sub1.index)]\n",
    "\n",
    "common = sra.geo_loc_name_country.value_counts()[:13]\n",
    "s2 = sra[sra.geo_loc_name_country.isin(common.index)]\n",
    "selected2=s2.groupby('geo_loc_name_country').sample(10,random_state=2)\n",
    "\n",
    "omit = ['SRR7693877','SRR7693912','SRR9850830','SRR5486090','SRR5486092',\n",
    "        'SRR7131025','SRR5817706','SRR6865435','SRR7240482','SRR5817706',\n",
    "        'ERR1815548','SRR5430748','SRR7983754','ERR4769552','SRR7983756',\n",
    "        'ERR564455','SRR13986557','ERR4769489','ERR4769457','ERR4769538','ERR4769446',\n",
    "        'ERR5311090','ERR4769520','SRR13986560','SRR13199734','SRR10993951',\n",
    "        'SRR13986561','ERR4769458','SRR1657056','SRR13986562','SRR13986556','SRR13986559',\n",
    "        'SRR13986563','SRR5486083','SRR13986568','SRR13986565','SRR5486080']\n",
    "sampled = pd.concat([selected1,selected2])[cols]\n",
    "sampled = sampled[~sampled.Run.isin(omit)]\n",
    "sampled.to_csv('mbovis_sra_subsampled.csv',index=False)\n",
    "len(selected1), len(selected2), len(sampled)\n"
   ]
  },
  {
   "cell_type": "code",
   "execution_count": 41,
   "id": "af74957e-c50a-4aa2-87f9-a7e435fe2fd1",
   "metadata": {},
   "outputs": [
    {
     "data": {
      "text/html": [
       "<div>\n",
       "<style scoped>\n",
       "    .dataframe tbody tr th:only-of-type {\n",
       "        vertical-align: middle;\n",
       "    }\n",
       "\n",
       "    .dataframe tbody tr th {\n",
       "        vertical-align: top;\n",
       "    }\n",
       "\n",
       "    .dataframe thead th {\n",
       "        text-align: right;\n",
       "    }\n",
       "</style>\n",
       "<table border=\"1\" class=\"dataframe\">\n",
       "  <thead>\n",
       "    <tr style=\"text-align: right;\">\n",
       "      <th></th>\n",
       "      <th>Run</th>\n",
       "      <th>BioProject</th>\n",
       "      <th>geo_loc_name_country</th>\n",
       "      <th>Center Name</th>\n",
       "      <th>Instrument</th>\n",
       "      <th>LibraryLayout</th>\n",
       "      <th>ReleaseDate</th>\n",
       "      <th>SRA Study</th>\n",
       "      <th>Bytes</th>\n",
       "      <th>Bases</th>\n",
       "      <th>Collection_Date</th>\n",
       "    </tr>\n",
       "  </thead>\n",
       "  <tbody>\n",
       "    <tr>\n",
       "      <th>109</th>\n",
       "      <td>SRR14049334</td>\n",
       "      <td>PRJNA625091</td>\n",
       "      <td>Argentina</td>\n",
       "      <td>USDA-NVSL-DBPL</td>\n",
       "      <td>Illumina MiSeq</td>\n",
       "      <td>PAIRED</td>\n",
       "      <td>2021-03-23T00:00:00Z</td>\n",
       "      <td>SRP256140</td>\n",
       "      <td>98419521.0</td>\n",
       "      <td>182605631.0</td>\n",
       "      <td>Not collected</td>\n",
       "    </tr>\n",
       "    <tr>\n",
       "      <th>110</th>\n",
       "      <td>SRR14049335</td>\n",
       "      <td>PRJNA625091</td>\n",
       "      <td>Argentina</td>\n",
       "      <td>USDA-NVSL-DBPL</td>\n",
       "      <td>Illumina MiSeq</td>\n",
       "      <td>PAIRED</td>\n",
       "      <td>2021-03-23T00:00:00Z</td>\n",
       "      <td>SRP256140</td>\n",
       "      <td>124169237.0</td>\n",
       "      <td>207748938.0</td>\n",
       "      <td>Not collected</td>\n",
       "    </tr>\n",
       "    <tr>\n",
       "      <th>111</th>\n",
       "      <td>SRR14049336</td>\n",
       "      <td>PRJNA625091</td>\n",
       "      <td>Argentina</td>\n",
       "      <td>USDA-NVSL-DBPL</td>\n",
       "      <td>Illumina MiSeq</td>\n",
       "      <td>PAIRED</td>\n",
       "      <td>2021-03-23T00:00:00Z</td>\n",
       "      <td>SRP256140</td>\n",
       "      <td>186676713.0</td>\n",
       "      <td>308165161.0</td>\n",
       "      <td>Not collected</td>\n",
       "    </tr>\n",
       "    <tr>\n",
       "      <th>112</th>\n",
       "      <td>SRR14049337</td>\n",
       "      <td>PRJNA625091</td>\n",
       "      <td>Argentina</td>\n",
       "      <td>USDA-NVSL-DBPL</td>\n",
       "      <td>Illumina MiSeq</td>\n",
       "      <td>PAIRED</td>\n",
       "      <td>2021-03-23T00:00:00Z</td>\n",
       "      <td>SRP256140</td>\n",
       "      <td>179402310.0</td>\n",
       "      <td>288307814.0</td>\n",
       "      <td>Not collected</td>\n",
       "    </tr>\n",
       "    <tr>\n",
       "      <th>113</th>\n",
       "      <td>SRR14049338</td>\n",
       "      <td>PRJNA625091</td>\n",
       "      <td>Argentina</td>\n",
       "      <td>USDA-NVSL-DBPL</td>\n",
       "      <td>Illumina MiSeq</td>\n",
       "      <td>PAIRED</td>\n",
       "      <td>2021-03-23T00:00:00Z</td>\n",
       "      <td>SRP256140</td>\n",
       "      <td>168628075.0</td>\n",
       "      <td>255189442.0</td>\n",
       "      <td>Not collected</td>\n",
       "    </tr>\n",
       "    <tr>\n",
       "      <th>...</th>\n",
       "      <td>...</td>\n",
       "      <td>...</td>\n",
       "      <td>...</td>\n",
       "      <td>...</td>\n",
       "      <td>...</td>\n",
       "      <td>...</td>\n",
       "      <td>...</td>\n",
       "      <td>...</td>\n",
       "      <td>...</td>\n",
       "      <td>...</td>\n",
       "      <td>...</td>\n",
       "    </tr>\n",
       "    <tr>\n",
       "      <th>3774</th>\n",
       "      <td>SRR7240195</td>\n",
       "      <td>PRJNA251692</td>\n",
       "      <td>uncalculated</td>\n",
       "      <td>USDA-NVSL-DBL</td>\n",
       "      <td>Illumina MiSeq</td>\n",
       "      <td>PAIRED</td>\n",
       "      <td>2018-05-31T00:00:00Z</td>\n",
       "      <td>SRP053287</td>\n",
       "      <td>266300277.0</td>\n",
       "      <td>411048310.0</td>\n",
       "      <td>not collected</td>\n",
       "    </tr>\n",
       "    <tr>\n",
       "      <th>3737</th>\n",
       "      <td>SRR7240158</td>\n",
       "      <td>PRJNA251692</td>\n",
       "      <td>uncalculated</td>\n",
       "      <td>USDA-NVSL-DBL</td>\n",
       "      <td>Illumina MiSeq</td>\n",
       "      <td>PAIRED</td>\n",
       "      <td>2018-05-31T00:00:00Z</td>\n",
       "      <td>SRP053287</td>\n",
       "      <td>255987455.0</td>\n",
       "      <td>385225457.0</td>\n",
       "      <td>not collected</td>\n",
       "    </tr>\n",
       "    <tr>\n",
       "      <th>3764</th>\n",
       "      <td>SRR7240185</td>\n",
       "      <td>PRJNA251692</td>\n",
       "      <td>uncalculated</td>\n",
       "      <td>USDA-NVSL-DBL</td>\n",
       "      <td>Illumina MiSeq</td>\n",
       "      <td>PAIRED</td>\n",
       "      <td>2018-05-31T00:00:00Z</td>\n",
       "      <td>SRP053287</td>\n",
       "      <td>281343555.0</td>\n",
       "      <td>474307908.0</td>\n",
       "      <td>not collected</td>\n",
       "    </tr>\n",
       "    <tr>\n",
       "      <th>3991</th>\n",
       "      <td>SRR7240412</td>\n",
       "      <td>PRJNA251692</td>\n",
       "      <td>uncalculated</td>\n",
       "      <td>USDA-NVSL-DBL</td>\n",
       "      <td>Illumina MiSeq</td>\n",
       "      <td>PAIRED</td>\n",
       "      <td>2018-05-31T00:00:00Z</td>\n",
       "      <td>SRP053287</td>\n",
       "      <td>252710836.0</td>\n",
       "      <td>413287270.0</td>\n",
       "      <td>not collected</td>\n",
       "    </tr>\n",
       "    <tr>\n",
       "      <th>3841</th>\n",
       "      <td>SRR7240262</td>\n",
       "      <td>PRJNA251692</td>\n",
       "      <td>uncalculated</td>\n",
       "      <td>USDA-NVSL-DBL</td>\n",
       "      <td>Illumina MiSeq</td>\n",
       "      <td>PAIRED</td>\n",
       "      <td>2018-05-31T00:00:00Z</td>\n",
       "      <td>SRP053287</td>\n",
       "      <td>154228484.0</td>\n",
       "      <td>247938465.0</td>\n",
       "      <td>not collected</td>\n",
       "    </tr>\n",
       "  </tbody>\n",
       "</table>\n",
       "<p>233 rows × 11 columns</p>\n",
       "</div>"
      ],
      "text/plain": [
       "              Run   BioProject geo_loc_name_country     Center Name      Instrument LibraryLayout           ReleaseDate  SRA Study        Bytes        Bases Collection_Date\n",
       "109   SRR14049334  PRJNA625091            Argentina  USDA-NVSL-DBPL  Illumina MiSeq        PAIRED  2021-03-23T00:00:00Z  SRP256140   98419521.0  182605631.0   Not collected\n",
       "110   SRR14049335  PRJNA625091            Argentina  USDA-NVSL-DBPL  Illumina MiSeq        PAIRED  2021-03-23T00:00:00Z  SRP256140  124169237.0  207748938.0   Not collected\n",
       "111   SRR14049336  PRJNA625091            Argentina  USDA-NVSL-DBPL  Illumina MiSeq        PAIRED  2021-03-23T00:00:00Z  SRP256140  186676713.0  308165161.0   Not collected\n",
       "112   SRR14049337  PRJNA625091            Argentina  USDA-NVSL-DBPL  Illumina MiSeq        PAIRED  2021-03-23T00:00:00Z  SRP256140  179402310.0  288307814.0   Not collected\n",
       "113   SRR14049338  PRJNA625091            Argentina  USDA-NVSL-DBPL  Illumina MiSeq        PAIRED  2021-03-23T00:00:00Z  SRP256140  168628075.0  255189442.0   Not collected\n",
       "...           ...          ...                  ...             ...             ...           ...                   ...        ...          ...          ...             ...\n",
       "3774   SRR7240195  PRJNA251692         uncalculated   USDA-NVSL-DBL  Illumina MiSeq        PAIRED  2018-05-31T00:00:00Z  SRP053287  266300277.0  411048310.0   not collected\n",
       "3737   SRR7240158  PRJNA251692         uncalculated   USDA-NVSL-DBL  Illumina MiSeq        PAIRED  2018-05-31T00:00:00Z  SRP053287  255987455.0  385225457.0   not collected\n",
       "3764   SRR7240185  PRJNA251692         uncalculated   USDA-NVSL-DBL  Illumina MiSeq        PAIRED  2018-05-31T00:00:00Z  SRP053287  281343555.0  474307908.0   not collected\n",
       "3991   SRR7240412  PRJNA251692         uncalculated   USDA-NVSL-DBL  Illumina MiSeq        PAIRED  2018-05-31T00:00:00Z  SRP053287  252710836.0  413287270.0   not collected\n",
       "3841   SRR7240262  PRJNA251692         uncalculated   USDA-NVSL-DBL  Illumina MiSeq        PAIRED  2018-05-31T00:00:00Z  SRP053287  154228484.0  247938465.0   not collected\n",
       "\n",
       "[233 rows x 11 columns]"
      ]
     },
     "execution_count": 41,
     "metadata": {},
     "output_type": "execute_result"
    }
   ],
   "source": [
    "sampled"
   ]
  },
  {
   "cell_type": "code",
   "execution_count": 43,
   "id": "21674c9b-d4dd-41e2-b38a-e519c569fdd6",
   "metadata": {},
   "outputs": [
    {
     "name": "stdout",
     "output_type": "stream",
     "text": [
      "SRR5486080 SRR5486080_1.fastq.gz\n",
      "SRR13986565 SRR13986565_2.fastq.gz\n",
      "SRR5486080 SRR5486080_2.fastq.gz\n",
      "SRR13986568 SRR13986568_2.fastq.gz\n",
      "SRR13986568 SRR13986568_1.fastq.gz\n",
      "SRR13986565 SRR13986565_1.fastq.gz\n"
     ]
    }
   ],
   "source": [
    "#remove samples not in table from folder\n",
    "files = glob.glob('/storage/btbgenie/mbovis_sra/*.fastq*')\n",
    "for f in files:\n",
    "    name=os.path.splitext(os.path.basename(f))[0].split('_')[0]\n",
    "    #print (name)\n",
    "    if name not in list(sampled.Run):\n",
    "        print (name,os.path.basename(f))\n",
    "        #shutil.move(f,os.path.join('/storage/btbgenie/mbovis_sra_other',os.path.basename(f)))"
   ]
  },
  {
   "cell_type": "markdown",
   "id": "b878bef8-08b5-4307-bcff-45aa668f6dee",
   "metadata": {},
   "source": [
    "## fetch data"
   ]
  },
  {
   "cell_type": "code",
   "execution_count": null,
   "id": "a9f97fdc-a3ed-4284-b86f-7f54b7e76d78",
   "metadata": {},
   "outputs": [],
   "source": [
    "for run in sampled['Run']:\n",
    "    f = glob.glob('/storage/btbgenie/mbovis_sra/%s*.fastq*' %run)\n",
    "    if len(f)>0:\n",
    "        continue\n",
    "    cmd = 'fastq-dump --split-files -O /storage/btbgenie/mbovis_sra %s' %run\n",
    "    print (run)\n",
    "    print (cmd)\n",
    "    subprocess.check_output(cmd, shell=True)\n",
    "    cmd = 'pigz /storage/btbgenie/mbovis_sra/%s*.fastq' %run    \n",
    "    subprocess.check_output(cmd, shell=True)"
   ]
  }
 ],
 "metadata": {
  "kernelspec": {
   "display_name": "Python 3",
   "language": "python",
   "name": "python3"
  },
  "language_info": {
   "codemirror_mode": {
    "name": "ipython",
    "version": 3
   },
   "file_extension": ".py",
   "mimetype": "text/x-python",
   "name": "python",
   "nbconvert_exporter": "python",
   "pygments_lexer": "ipython3",
   "version": "3.9.5"
  }
 },
 "nbformat": 4,
 "nbformat_minor": 5
}
