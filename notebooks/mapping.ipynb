{
 "cells": [
  {
   "cell_type": "markdown",
   "metadata": {},
   "source": [
    "## mapping tests "
   ]
  },
  {
   "cell_type": "code",
   "execution_count": 2,
   "metadata": {},
   "outputs": [
    {
     "name": "stderr",
     "output_type": "stream",
     "text": [
      "/usr/local/lib/python3.8/dist-packages/geopandas/_compat.py:84: UserWarning: The Shapely GEOS version (3.8.0-CAPI-1.13.1 ) is incompatible with the GEOS version PyGEOS was compiled with (3.9.0-CAPI-1.16.2). Conversions between both will be slow.\n",
      "  warnings.warn(\n"
     ]
    }
   ],
   "source": [
    "import sys,os,shutil,subprocess\n",
    "import glob\n",
    "from importlib import reload\n",
    "import numpy as np\n",
    "import pandas as pd\n",
    "pd.set_option('display.width', 200)\n",
    "import pylab as plt\n",
    "import matplotlib as mpl\n",
    "import seaborn as sns\n",
    "import geopandas as gpd\n",
    "import random\n",
    "from snipgenie import trees, app, snp_typing\n",
    "from shapely.geometry import Point, LineString, Polygon, MultiPolygon"
   ]
  },
  {
   "cell_type": "code",
   "execution_count": 3,
   "metadata": {},
   "outputs": [],
   "source": [
    "counties = gpd.read_file('https://github.com/dmnfarrell/snipgenie/raw/master/maps/ireland_counties.zip?raw=true')"
   ]
  },
  {
   "cell_type": "markdown",
   "metadata": {},
   "source": [
    "## make fake data for map/db testing"
   ]
  },
  {
   "cell_type": "code",
   "execution_count": 109,
   "metadata": {},
   "outputs": [],
   "source": [
    "meta = pd.read_csv('ireland_metadata.csv',index_col=0)\n",
    "meta = meta.drop(columns=['filename','pair'])\n",
    "meta = meta.rename(columns={'SB':'spoligotype'})\n",
    "meta=meta.set_index('name')"
   ]
  },
  {
   "cell_type": "code",
   "execution_count": 110,
   "metadata": {},
   "outputs": [],
   "source": [
    "def make_points(x):\n",
    "    \"\"\"Make points\"\"\"\n",
    "\n",
    "    if x.county == 'Wicklow':\n",
    "        bounds=(-6.7,52.8,-6.1,53.2)\n",
    "    elif x.county == 'Monaghan':\n",
    "        bounds = (-6.0,54.0,-7.1,54.5)\n",
    "    else:\n",
    "        bounds = (-6.4,53.8,-6.1,54.2)\n",
    "    points = []\n",
    "    minx, miny, maxx, maxy = bounds   \n",
    "    point = (random.uniform(minx, maxx), random.uniform(miny, maxy))\n",
    "    return point\n"
   ]
  },
  {
   "cell_type": "code",
   "execution_count": 111,
   "metadata": {},
   "outputs": [],
   "source": [
    "meta['coord'] = meta.apply(make_points,1)\n",
    "meta[['LONG','LAT']] = pd.DataFrame(meta.coord.tolist(), index=meta.index)"
   ]
  },
  {
   "cell_type": "code",
   "execution_count": 112,
   "metadata": {},
   "outputs": [],
   "source": [
    "sdist = pd.read_csv('/storage/btbgenie/all_ireland_results/snpdist.csv',index_col=0)\n",
    "#print (sdist)\n",
    "\n",
    "def find_neighbours(x, n=4):\n",
    "    \"\"\"find neighbours from snp distance matrix\"\"\"\n",
    "  \n",
    "    vals = list(x.sort_values()[1:n].index)\n",
    "    return ';'.join(vals)\n",
    "\n",
    "nearest = sdist.apply(find_neighbours,1)\n",
    "#nearest\n",
    "meta['nearest'] = nearest"
   ]
  },
  {
   "cell_type": "code",
   "execution_count": 113,
   "metadata": {},
   "outputs": [],
   "source": [
    "#encode snp data into field\n",
    "snpm = pd.read_csv('/storage/btbgenie/all_ireland_results/core.txt',sep=' ').set_index('pos').T\n",
    "snpm = snpm.fillna('N')\n",
    "meta['snps'] = snpm.apply(snp_typing.encode_snps,1)"
   ]
  },
  {
   "cell_type": "code",
   "execution_count": 115,
   "metadata": {},
   "outputs": [
    {
     "name": "stdout",
     "output_type": "stream",
     "text": [
      "              sample county species spoligotype SequenceName  ClusterNumber clade                                     coord      LONG        LAT                        nearest  \\\n",
      "name                                                                                                                                                                              \n",
      "ERR125617  ERR125617     NI     Cow      SB0140    ERR125617              7  NI-1   (-6.176099790947628, 54.08857317250175) -6.176100  54.088573  ERR125614;ERR125619;ERR125609   \n",
      "ERR125622  ERR125622     NI     Cow      SB0140    ERR125622              7  NI-1   (-6.289156146752531, 53.96397871380336) -6.289156  53.963979  ERR125614;ERR125619;ERR125609   \n",
      "ERR125598  ERR125598     NI     Cow      SB0140    ERR125598              7  NI-1  (-6.158677934955872, 53.970065921296445) -6.158678  53.970066  ERR125625;ERR125601;ERR125605   \n",
      "ERR125612  ERR125612     NI     Cow      SB0140    ERR125612              7  NI-1  (-6.2388820348322165, 54.07854221309081) -6.238882  54.078542  ERR125611;ERR125619;ERR125609   \n",
      "\n",
      "                                                        snps  \n",
      "name                                                          \n",
      "ERR125617  687C;937A;1303G;1456G;1584T;2532C;4480T;8048C;...  \n",
      "ERR125622  687C;937A;1303G;1456G;1584T;2532C;4480T;8048C;...  \n",
      "ERR125598  687C;937A;1303G;1456G;1584T;2532C;4480T;8048C;...  \n",
      "ERR125612  687C;937A;1303G;1456G;1584T;2532C;4480T;8048C;...  \n"
     ]
    }
   ],
   "source": [
    "print (meta[:4])\n",
    "meta.to_csv('ireland_test_data.csv')"
   ]
  },
  {
   "cell_type": "code",
   "execution_count": null,
   "metadata": {},
   "outputs": [],
   "source": [
    "gdf = gpd.GeoDataFrame(geometry=gpd.GeoSeries(pts), crs=\"EPSG:4326\")\n",
    "fig,ax=plt.subplots(1,1)\n",
    "gdf.plot(ax=ax)\n",
    "gdf.plot(ax=ax,color='r')"
   ]
  }
 ],
 "metadata": {
  "kernelspec": {
   "display_name": "Python 3",
   "language": "python",
   "name": "python3"
  },
  "language_info": {
   "codemirror_mode": {
    "name": "ipython",
    "version": 3
   },
   "file_extension": ".py",
   "mimetype": "text/x-python",
   "name": "python",
   "nbconvert_exporter": "python",
   "pygments_lexer": "ipython3",
   "version": "3.8.6"
  }
 },
 "nbformat": 4,
 "nbformat_minor": 4
}
