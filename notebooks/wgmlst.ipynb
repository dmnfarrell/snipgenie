{
 "cells": [
  {
   "cell_type": "markdown",
   "id": "097a5efa-3837-48c6-a8ea-309d58ba6fd6",
   "metadata": {},
   "source": [
    "## wgMLST for mbovis\n",
    "\n",
    "* http://www3.ridom.de/seqsphere/cgmlst/\n",
    "* https://www.cgmlst.org/ncs/schema/741110/\n",
    "* https://jcm.asm.org/content/52/7/2479\n",
    "* https://www.biorxiv.org/content/10.1101/172858v1.full\n",
    "* https://www.ncbi.nlm.nih.gov/pmc/articles/PMC3980634/"
   ]
  },
  {
   "cell_type": "markdown",
   "id": "3b554e75-17e5-4a8f-ab03-e93150bcc94e",
   "metadata": {},
   "source": [
    "## steps\n",
    "\n",
    "* get MLST gene list\n",
    "* assembly\n",
    "* annotate\n",
    "* assign allele numbers?"
   ]
  },
  {
   "cell_type": "code",
   "execution_count": 1,
   "id": "5fbe56cd-85be-425d-a949-8d7b709d4acc",
   "metadata": {},
   "outputs": [],
   "source": [
    "import sys,os,shutil,subprocess\n",
    "import glob\n",
    "from importlib import reload\n",
    "import numpy as np\n",
    "import pandas as pd\n",
    "pd.set_option('display.width', 200)\n",
    "pd.set_option('display.max_colwidth', 150)\n",
    "import pylab as plt\n",
    "import seaborn as sns\n",
    "from Bio import SeqIO\n",
    "from Bio.SeqRecord import SeqRecord\n",
    "from io import StringIO\n",
    "import snipgenie as snpg\n",
    "import pathogenie as pg"
   ]
  },
  {
   "cell_type": "code",
   "execution_count": 36,
   "id": "a9158dab-3bba-4414-bad1-59c5f0856117",
   "metadata": {},
   "outputs": [],
   "source": [
    "vcf_file='/storage/btbgenie/wicklow_results/filtered.vcf.gz'"
   ]
  },
  {
   "cell_type": "code",
   "execution_count": null,
   "id": "f630368c-1859-4574-84dd-8a545f5e17b5",
   "metadata": {},
   "outputs": [],
   "source": [
    "path = '/storage/btbgenie/mbovis_ireland/Wicklow/Fastqs_07-01-18/'\n",
    "files = glob.glob(os.path.join(path, '*.gz'))\n",
    "samp = snpg.app.get_samples(files)\n",
    "pairs = pd.pivot_table(samp,index=['sample'],columns=['pair'],values='filename',aggfunc='first').reset_index()\n",
    "print (pairs)"
   ]
  },
  {
   "cell_type": "markdown",
   "id": "1200e6a5-624b-44ff-a8e5-4436b362b548",
   "metadata": {},
   "source": [
    "## create reference proteins for MLST"
   ]
  },
  {
   "cell_type": "code",
   "execution_count": 3,
   "id": "7c6c41ff-b137-40ef-b26d-fa40e236835c",
   "metadata": {},
   "outputs": [
    {
     "name": "stdout",
     "output_type": "stream",
     "text": [
      "3994\n"
     ]
    }
   ],
   "source": [
    "prots = pg.tools.genbank_to_dataframe('Mbovis-AF212297.2.gb',cds=True)\n",
    "prots = prots.fillna('')\n",
    "prots = prots.dropna(subset=['locus_tag'])\n",
    "ref_proteins = 'Mbovis_AF212297_proteins.fa'\n",
    "#get prokka type header for using in annotation\n",
    "prots['header'] = prots.apply(lambda x: '~~~'.join([x.locus_tag,x.gene,x['product'],'none']),1)\n",
    "pg.tools.dataframe_to_fasta(prots,idkey='header',outfile=ref_proteins)\n",
    "print (len(prots))"
   ]
  },
  {
   "cell_type": "code",
   "execution_count": 39,
   "id": "0c949c63-24d7-481a-b145-ca33f18595b4",
   "metadata": {},
   "outputs": [],
   "source": [
    "def get_nucleotide_sequences(gb_file,out_file,idkey='locus_tag'):\n",
    "    \"\"\"protein nucleotide seqs from genbank\"\"\"\n",
    "    \n",
    "    recs = SeqIO.to_dict(SeqIO.parse(gb_file,'genbank'))\n",
    "    chrom = list(recs.keys())[0]\n",
    "    refrec = recs[chrom]\n",
    "    result = []\n",
    "    for f in refrec.features[1:]:\n",
    "        q=f.qualifiers\n",
    "        if f.type != 'CDS':\n",
    "            continue\n",
    "        seq = refrec.seq[f.location.start:f.location.end]\n",
    "        try:\n",
    "            new = SeqRecord(seq,id=q[idkey][0])\n",
    "            result.append(new)\n",
    "        except:\n",
    "            #print (q)\n",
    "            pass        \n",
    "    SeqIO.write(result,out_file,format='fasta')\n",
    "    return\n",
    "\n",
    "get_nucleotide_sequences('Mbovis-AF212297.2.gb','Mbovis_AF212297_nuc.fa')"
   ]
  },
  {
   "cell_type": "markdown",
   "id": "1df61561-684c-418a-980c-2c62299a216a",
   "metadata": {},
   "source": [
    "## assembly"
   ]
  },
  {
   "cell_type": "code",
   "execution_count": null,
   "id": "09ca0cce-bad8-40a0-81bd-f93f8a39518f",
   "metadata": {},
   "outputs": [],
   "source": [
    "def spades(file1, file2, out, threads=4):\n",
    "    \"\"\"Run spades\"\"\"\n",
    "    \n",
    "    cmd = 'spades -t %s --pe1-1 %s --pe1-2 %s --careful -o %s' %(threads,file1,file2,outpath)\n",
    "    print (cmd)\n",
    "    if not os.path.exists(out): \n",
    "        subprocess.check_output(cmd, shell=True)\n",
    "    return \n",
    "\n",
    "path = '/storage/btbgenie/assembly/'\n",
    "\n",
    "for i,r in pairs[:1].iterrows():\n",
    "    print (r[1])\n",
    "    out = os.path.join(path,r['sample'])\n",
    "    spades(r[1], r[2], out,threads=10)"
   ]
  },
  {
   "cell_type": "markdown",
   "id": "255fab33-d9d4-4cc6-9edf-04a7d8250fd9",
   "metadata": {},
   "source": [
    "## get consensus sequence from alignment instead of assembly"
   ]
  },
  {
   "cell_type": "code",
   "execution_count": 22,
   "id": "b1450e60-5c58-4c34-9927-b11396ef068b",
   "metadata": {},
   "outputs": [],
   "source": [
    "def get_consensus(vcf_file, sample, out_file):\n",
    "    \"\"\"Get consensus sequence from vcf\"\"\"\n",
    "      \n",
    "    cmd='bcftools index -f %s' %vcf_file\n",
    "    subprocess.check_output(cmd, shell=True)   \n",
    "    cmd='cat {r} | bcftools consensus -s {s} {v} > {o}'.format(r=snpg.app.mbovis_genome,v=vcf_file,s=sample,o=out_file)\n",
    "    #print (cmd)\n",
    "    subprocess.check_output(cmd, shell=True)\n",
    "    return\n",
    "\n",
    "get_consensus(vcf_file, '1034','consensus.fa')"
   ]
  },
  {
   "cell_type": "markdown",
   "id": "f036d0a1-efe2-497b-bccf-93b0b305a212",
   "metadata": {},
   "source": [
    "## annotate\n"
   ]
  },
  {
   "cell_type": "code",
   "execution_count": null,
   "id": "65652405-949d-4bd8-be2e-e1869169890f",
   "metadata": {},
   "outputs": [],
   "source": [
    "#seqfile='/storage/btbgenie/assembly/17/scaffolds.fasta'\n",
    "seqfile='consensus.fa'\n",
    "featdf,recs = pg.run_annotation(seqfile,\n",
    "                                threads=10, kingdom='bacteria', trusted=ref_proteins)\n",
    "fastafile='/storage/btbgenie/annotation/17.fa'\n",
    "#df = pg.tools.records_to_dataframe(recs)\n",
    "#df['protein_id'] = df.protein_id.fillna(df.locus_tag)\n",
    "#pg.tools.dataframe_to_fasta(df,idkey='protein_id',outfile=fastafile)\n",
    "\n",
    "#write out nucl sequences\n",
    "SeqIO.write(recs,'temp.gb','genbank')\n",
    "get_nucleotide_sequences('temp.gb',fastafile,idkey='protein_id')"
   ]
  },
  {
   "cell_type": "markdown",
   "id": "c904b82a-bee9-4bee-a81d-b33539bb3b9f",
   "metadata": {},
   "source": [
    "# initialise MLST table from reference genome"
   ]
  },
  {
   "cell_type": "markdown",
   "id": "b795b5e3-ce6a-4ea8-a417-60a03ad8b5bc",
   "metadata": {},
   "source": [
    "## filter only Mb proteins in scheme"
   ]
  },
  {
   "cell_type": "code",
   "execution_count": 8,
   "id": "f2b59498-b340-4405-87a9-54ab89498277",
   "metadata": {},
   "outputs": [],
   "source": [
    "mlst=pd.read_csv('mlst_scheme.csv')\n",
    "mlst=mlst[mlst['Ridom Usage']=='MLST+']\n",
    "targets=list(mlst.Target)"
   ]
  },
  {
   "cell_type": "code",
   "execution_count": 9,
   "id": "02009a63-fbc7-4c52-97c1-2daee4048f17",
   "metadata": {},
   "outputs": [],
   "source": [
    "mbmap=pd.read_csv('final_mbovis_mapping.csv')\n",
    "mbmap = mbmap[mbmap.Rv_tag.isin(targets)]\n",
    "mb_tags = list(mbmap.Mb_tag)\n",
    "prots = prots[prots.locus_tag.isin(mb_tags)]\n",
    "nucseqs = pg.tools.fasta_to_dataframe('Mbovis_AF212297_nuc.fa')\n",
    "nucseqs = nucseqs[nucseqs.name.isin(mb_tags)]"
   ]
  },
  {
   "cell_type": "code",
   "execution_count": 10,
   "id": "e1698d53-1360-4deb-b9b8-4a6940766fbe",
   "metadata": {},
   "outputs": [
    {
     "name": "stdout",
     "output_type": "stream",
     "text": [
      "3185\n"
     ]
    }
   ],
   "source": [
    "cols = ['name','allele','sequence']\n",
    "ref = nucseqs.copy()\n",
    "ref['allele'] = 1\n",
    "ref=ref.rename(columns={'translation':'sequence'})\n",
    "ref[cols].to_csv('mlst_db.csv.gz',index=False,compression='gzip')\n",
    "print (len(ref))"
   ]
  },
  {
   "cell_type": "code",
   "execution_count": 11,
   "id": "18704833-b679-49c8-b459-4d0ca72ee22a",
   "metadata": {},
   "outputs": [
    {
     "name": "stdout",
     "output_type": "stream",
     "text": [
      "         name  allele\n",
      "0     Mb0014c       1\n",
      "1     Mb0015c       1\n",
      "2     Mb0016c       1\n",
      "3     Mb0017c       1\n",
      "4     Mb0018c       2\n",
      "...       ...     ...\n",
      "3095  Mb3936c       1\n",
      "3096  Mb3937c       1\n",
      "3097   Mb3938       2\n",
      "3098   Mb3939       1\n",
      "3099   Mb3940       1\n",
      "\n",
      "[3100 rows x 2 columns]\n",
      "added 845 new alleles\n"
     ]
    }
   ],
   "source": [
    "#check a sample against the allele table\n",
    "fastafile='/storage/btbgenie/annotation/1034.fa'\n",
    "\n",
    "def find_alleles(fastafile):\n",
    "    \"\"\"Find allele by simple matches to the reference table of known sequences.\n",
    "    Returns:\n",
    "        dataframe with allele number for each gene\n",
    "        dataframe with new alleles to add to db\n",
    "    \"\"\"\n",
    "    \n",
    "    db = pd.read_csv('mlst_db.csv.gz')\n",
    "    names = ref.name.unique()\n",
    "    df = pg.tools.fasta_to_dataframe(fastafile)\n",
    "    result=[]\n",
    "    new=[]\n",
    "    for name in names:\n",
    "        #print (name)\n",
    "        s = db[db.name==name]\n",
    "        gene = df[df.name==name]\n",
    "        if len(gene)==0:\n",
    "            #print (name)\n",
    "            continue\n",
    "        target = gene.iloc[0].sequence\n",
    "        found = s[s.sequence==target]        \n",
    "        #print (found)\n",
    "        if len(found)>0:\n",
    "            found = found.iloc[0]\n",
    "            result.append((name,found.allele))\n",
    "        else:\n",
    "            #assign new allele\n",
    "            newallele = s.allele.max()+1\n",
    "            result.append((name,newallele))\n",
    "            new.append([name,newallele,target])\n",
    "    prof = pd.DataFrame(result,columns=['name','allele'])\n",
    "    prof['allele'] = prof.allele.astype(int)\n",
    "    new = pd.DataFrame(new,columns=['name','allele','sequence'])\n",
    "    return prof, new\n",
    "    \n",
    "def update_mlst_db(new):\n",
    "    \"\"\"Update the database of MLST profiles\"\"\"\n",
    "    \n",
    "    db = pd.read_csv('mlst_db.csv.gz')\n",
    "    db = pd.concat([db,new])\n",
    "    db.to_csv('mlst_db.csv.gz', index=False, compression='gzip')\n",
    "    print ('added %s new alleles' %len(new))\n",
    "    return\n",
    "\n",
    "res,new = find_alleles(fastafile)\n",
    "print (res)\n",
    "update_mlst_db(new)"
   ]
  },
  {
   "cell_type": "code",
   "execution_count": 14,
   "id": "0aaa32a2-0d5f-44e7-b5d9-95148f858e9e",
   "metadata": {},
   "outputs": [
    {
     "name": "stdout",
     "output_type": "stream",
     "text": [
      "added 0 new alleles\n"
     ]
    }
   ],
   "source": [
    "def type_sample(sample, vcf_file, path, threads=4, overwrite=False):\n",
    "    \"\"\"Type a single sample using wgMLST.\n",
    "    Args:\n",
    "        sample: sample name, must be present in vcf file\n",
    "        vcf_file: source vcf \n",
    "        path: output folder for annotations\n",
    "    Returns:\n",
    "        dataframe of MLST profile\n",
    "    \"\"\"\n",
    "    \n",
    "    seqfile = 'consensus.fa'\n",
    "    fastafile = os.path.join(path,'%s.fa' %sample)\n",
    "    #use consensus for now    \n",
    "    get_consensus(vcf_file, sample, seqfile)\n",
    "    if overwrite == True or not os.path.exists(fastafile):\n",
    "        #annotate\n",
    "        featdf,recs = pg.run_annotation(seqfile,\n",
    "                                    threads=threads, kingdom='bacteria', trusted=ref_proteins)\n",
    "        #get nucl sequences from annotation    \n",
    "        SeqIO.write(recs,'temp.gb','genbank')\n",
    "        get_nucleotide_sequences('temp.gb',fastafile,idkey='protein_id')    \n",
    "    #find alleles\n",
    "    res,new = find_alleles(fastafile)\n",
    "    #print (res)\n",
    "    #update db\n",
    "    update_mlst_db(new)\n",
    "    return res\n",
    "\n",
    "res = type_sample('26-MBovis', vcf_file, '/storage/btbgenie/annotation/')"
   ]
  },
  {
   "cell_type": "code",
   "execution_count": 20,
   "id": "3bc7763a-0ca8-4267-9f1d-60755c13b101",
   "metadata": {},
   "outputs": [],
   "source": [
    "def get_samples_vcf(vcf_file):\n",
    "    cmd = 'bcftools query -l %s' %vcf_file\n",
    "    tmp = subprocess.check_output(cmd, shell=True)\n",
    "    return tmp.decode().split('\\n')\n",
    "    \n",
    "samplenames = get_samples_vcf(vcf_file)"
   ]
  },
  {
   "cell_type": "code",
   "execution_count": 42,
   "id": "3a1e6f8a-e49d-411d-99b4-7904aefa2676",
   "metadata": {},
   "outputs": [
    {
     "name": "stdout",
     "output_type": "stream",
     "text": [
      "31-12952\n",
      "added 0 new alleles\n",
      "48-MBovis\n",
      "added 0 new alleles\n",
      "49-MBovis\n",
      "added 0 new alleles\n",
      "28-12935\n",
      "added 0 new alleles\n",
      "27-MBovis\n",
      "added 0 new alleles\n",
      "15-11643\n",
      "added 0 new alleles\n",
      "59-MBovis\n",
      "added 0 new alleles\n",
      "182-MBovis\n",
      "59-6110\n",
      "added 0 new alleles\n",
      "41-2165\n",
      "added 0 new alleles\n"
     ]
    }
   ],
   "source": [
    "profs = {}\n",
    "omit=['182-MBovis','19-4281','19-2438']\n",
    "for s in samplenames[:10]:\n",
    "    print (s)\n",
    "    if s in omit:\n",
    "        continue\n",
    "    profile = type_sample(s, vcf_file, '/storage/btbgenie/annotation/', threads=12)\n",
    "    profs[s] = get_profile_string(profile)"
   ]
  },
  {
   "cell_type": "markdown",
   "id": "9bdacafc-a95c-4201-93b8-733d3a77e52a",
   "metadata": {},
   "source": [
    "## find distances between profiles"
   ]
  },
  {
   "cell_type": "code",
   "execution_count": 15,
   "id": "fdc652d8-7609-4250-a71a-0431f6bb5c70",
   "metadata": {},
   "outputs": [],
   "source": [
    "def get_profile_string(df):\n",
    "    return ''.join(df.allele.astype(str))\n"
   ]
  },
  {
   "cell_type": "code",
   "execution_count": 16,
   "id": "68e8b4de-4e52-4aae-8fe4-80eba13d3abf",
   "metadata": {},
   "outputs": [],
   "source": [
    "def diff_profiles(s1, s2):\n",
    "    return sum(1 for a, b in zip(list(s1), list(s2)) if a != b)\n"
   ]
  },
  {
   "cell_type": "code",
   "execution_count": 43,
   "id": "660e437c-92aa-4809-a244-e5fdc2927870",
   "metadata": {},
   "outputs": [],
   "source": [
    "def dist_matrix(profiles):\n",
    "    \"\"\"Distance matrix of a set of profiles\"\"\"\n",
    "    \n",
    "    dist=[]\n",
    "    for s in profiles:\n",
    "        x=profs[s]\n",
    "        row=[]\n",
    "        for s in profs:\n",
    "            d = diff_profiles(x,profs[s])\n",
    "            row.append(d)\n",
    "        dist.append(row)\n",
    "    D = pd.DataFrame(dist,columns=profs.keys(),index=profs.keys())\n",
    "    return D"
   ]
  },
  {
   "cell_type": "code",
   "execution_count": 47,
   "id": "7fe28265-9205-4d52-a655-ab7e8d84428f",
   "metadata": {},
   "outputs": [
    {
     "data": {
      "text/plain": [
       "<seaborn.matrix.ClusterGrid at 0x7f5d72d40ac0>"
      ]
     },
     "execution_count": 47,
     "metadata": {},
     "output_type": "execute_result"
    },
    {
     "data": {
      "image/png": "[encoded data removed]",
      "text/plain": [
       "<Figure size 720x720 with 4 Axes>"
      ]
     },
     "metadata": {
      "needs_background": "light"
     },
     "output_type": "display_data"
    }
   ],
   "source": [
    "D = dist_matrix(profs)\n",
    "D.to_csv('dist_mlst.csv',index=False)\n",
    "sns.clustermap(D,xticklabels=True,yticklabels=True)"
   ]
  },
  {
   "cell_type": "code",
   "execution_count": 26,
   "id": "54f0b1aa-82f7-4a51-9efc-bddfcf1eca1a",
   "metadata": {},
   "outputs": [
    {
     "data": {
      "text/plain": [
       "1"
      ]
     },
     "execution_count": 26,
     "metadata": {},
     "output_type": "execute_result"
    }
   ],
   "source": [
    "def tree_from_distance_matrix(X):\n",
    "    \"\"\"Distance matrix to phylo tree\"\"\"\n",
    "\n",
    "    from Bio import Phylo\n",
    "    from Bio.Phylo.TreeConstruction import DistanceMatrix,DistanceTreeConstructor\n",
    "    from Bio.Cluster import distancematrix\n",
    "\n",
    "    names = list(X.index)\n",
    "    if type(X) is pd.DataFrame:\n",
    "        X = X.values\n",
    "    mat = distancematrix(X)\n",
    "    new=[]\n",
    "    for i in mat:\n",
    "        new.append(np.insert(i, 0, 0).tolist())\n",
    "\n",
    "    dm = DistanceMatrix(names,new)\n",
    "    constructor = DistanceTreeConstructor()\n",
    "    tree = constructor.nj(dm)\n",
    "    #Phylo.draw_ascii(tree,file=open('temp.txt','w'))\n",
    "    return tree\n",
    "\n",
    "tree = tree_from_distance_matrix(D)\n",
    "treefile = 'test.newick'\n",
    "Phylo.write(tree,treefile,format='newick')"
   ]
  },
  {
   "cell_type": "code",
   "execution_count": null,
   "id": "84781a9f-8157-4563-b0b4-c43519060934",
   "metadata": {},
   "outputs": [],
   "source": [
    "from Bio import Phylo\n",
    "Phylo.draw_ascii(tree)"
   ]
  },
  {
   "cell_type": "code",
   "execution_count": 29,
   "id": "8debf9c7-a270-4d7b-87cc-bf06f397b5a2",
   "metadata": {},
   "outputs": [],
   "source": [
    "import toytree\n",
    "meta = pd.read_csv('/storage/btbgenie/mbovis_ireland/all_ireland_samples.csv')\n",
    "#mapping = dict(zip(meta['sample'],meta.clade))\n",
    "\n",
    "#tre = toytree.tree(treefile)\n",
    "#canvas,t,r=tre.draw(layout='r')"
   ]
  },
  {
   "cell_type": "code",
   "execution_count": 46,
   "id": "ea9b1f21-c3b7-46f0-93f4-4e3bc503c246",
   "metadata": {},
   "outputs": [
    {
     "data": {
      "text/html": [
       "<div class=\"toyplot\" id=\"tda3a32ca8d4c4f6c96d6a8d36e09289d\" style=\"text-align:center\"><svg class=\"toyplot-canvas-Canvas\" xmlns:toyplot=\"http://www.sandia.gov/toyplot\" xmlns:xlink=\"http://www.w3.org/1999/xlink\" xmlns=\"http://www.w3.org/2000/svg\" width=\"1000.0px\" height=\"828.0px\" viewBox=\"0 0 1000.0 828.0\" preserveAspectRatio=\"xMidYMid meet\" style=\"background-color:transparent;border-color:#292724;border-style:none;border-width:1.0;fill:rgb(16.1%,15.3%,14.1%);fill-opacity:1.0;font-family:Helvetica;font-size:12px;opacity:1.0;stroke:rgb(16.1%,15.3%,14.1%);stroke-opacity:1.0;stroke-width:1.0\" id=\"t2736c7e1e7334ce990c17d5c3bd01071\"><g class=\"toyplot-coordinates-Cartesian\" id=\"t50823abf9d4844848c1020f8d8a94c51\"><clipPath id=\"t1ae138234f284a42a79e8f30fee8f3a6\"><rect x=\"30.0\" y=\"30.0\" width=\"940.0\" height=\"768.0\"></rect></clipPath><g clip-path=\"url(#t1ae138234f284a42a79e8f30fee8f3a6)\"><g class=\"toytree-mark-Toytree\" id=\"t2a0fecbbb8d841d7a41c378aeeecd287\"><g class=\"toytree-Edges\" style=\"fill:none;stroke:rgb(14.9%,14.9%,14.9%);stroke-linecap:round;stroke-opacity:1;stroke-width:2\"><path d=\"M 51.8 140.9 L 51.8 75.9 L 484.4 75.9\" id=\"90,89\"></path><path d=\"M 51.8 140.9 L 51.8 205.9 L 51.8 205.9\" id=\"90,88\"></path><path d=\"M 484.4 75.9 L 484.4 89.5 L 510.1 89.5\" id=\"89,87\"></path><path d=\"M 51.8 205.9 L 51.8 132.5 L 78.7 132.5\" id=\"88,86\"></path><path d=\"M 51.8 205.9 L 51.8 279.2 L 51.8 279.2\" id=\"88,85\"></path><path d=\"M 510.1 89.5 L 510.1 101.3 L 510.1 101.3\" id=\"87,84\"></path><path d=\"M 51.8 279.2 L 51.8 189.0 L 132.4 189.0\" id=\"85,83\"></path><path d=\"M 51.8 279.2 L 51.8 369.5 L 132.3 369.5\" id=\"85,82\"></path><path d=\"M 132.4 189.0 L 132.4 163.8 L 267.1 163.8\" id=\"83,81\"></path><path d=\"M 132.4 189.0 L 132.4 214.1 L 213.7 214.1\" id=\"83,80\"></path><path d=\"M 132.3 369.5 L 132.3 442.2 L 212.8 442.2\" id=\"82,79\"></path><path d=\"M 213.7 214.1 L 213.7 195.1 L 240.5 195.1\" id=\"80,78\"></path><path d=\"M 213.7 214.1 L 213.7 233.2 L 267.1 233.2\" id=\"80,77\"></path><path d=\"M 212.8 442.2 L 212.8 358.1 L 239.5 358.1\" id=\"79,76\"></path><path d=\"M 212.8 442.2 L 212.8 526.3 L 212.8 526.3\" id=\"79,75\"></path><path d=\"M 267.1 233.2 L 267.1 247.9 L 267.1 247.9\" id=\"77,74\"></path><path d=\"M 239.5 358.1 L 239.5 326.0 L 293.0 326.0\" id=\"76,73\"></path><path d=\"M 239.5 358.1 L 239.5 390.1 L 373.7 390.1\" id=\"76,72\"></path><path d=\"M 212.8 526.3 L 212.8 476.5 L 212.9 476.5\" id=\"75,71\"></path><path d=\"M 212.8 526.3 L 212.8 576.1 L 212.9 576.1\" id=\"75,70\"></path><path d=\"M 267.1 247.9 L 267.1 261.5 L 293.8 261.5\" id=\"74,69\"></path><path d=\"M 293.0 326.0 L 293.0 339.7 L 293.1 339.7\" id=\"73,68\"></path><path d=\"M 373.7 390.1 L 373.7 405.2 L 373.7 405.2\" id=\"72,67\"></path><path d=\"M 212.9 576.1 L 212.9 514.7 L 212.9 514.7\" id=\"70,66\"></path><path d=\"M 212.9 576.1 L 212.9 637.6 L 212.9 637.6\" id=\"70,65\"></path><path d=\"M 293.8 261.5 L 293.8 273.3 L 293.8 273.3\" id=\"69,64\"></path><path d=\"M 293.1 339.7 L 293.1 351.5 L 426.9 351.5\" id=\"68,63\"></path><path d=\"M 373.7 405.2 L 373.7 419.9 L 373.7 419.9\" id=\"67,62\"></path><path d=\"M 212.9 514.7 L 212.9 529.3 L 239.5 529.3\" id=\"66,61\"></path><path d=\"M 212.9 637.6 L 212.9 591.9 L 212.9 591.9\" id=\"65,60\"></path><path d=\"M 212.9 637.6 L 212.9 683.2 L 212.9 683.2\" id=\"65,59\"></path><path d=\"M 373.7 419.9 L 373.7 433.5 L 373.7 433.5\" id=\"62,58\"></path><path d=\"M 239.5 529.3 L 239.5 543.0 L 320.1 543.0\" id=\"61,57\"></path><path d=\"M 212.9 591.9 L 212.9 605.5 L 239.5 605.5\" id=\"60,56\"></path><path d=\"M 212.9 683.2 L 212.9 652.5 L 266.4 652.5\" id=\"59,55\"></path><path d=\"M 212.9 683.2 L 212.9 714.0 L 266.4 714.0\" id=\"59,54\"></path><path d=\"M 373.7 433.5 L 373.7 445.3 L 373.8 445.3\" id=\"58,53\"></path><path d=\"M 320.1 543.0 L 320.1 554.7 L 346.6 554.7\" id=\"57,52\"></path><path d=\"M 239.5 605.5 L 239.5 617.3 L 374.3 617.3\" id=\"56,51\"></path><path d=\"M 266.4 652.5 L 266.4 664.2 L 319.8 664.2\" id=\"55,50\"></path><path d=\"M 266.4 714.0 L 266.4 695.5 L 320.2 695.5\" id=\"54,49\"></path><path d=\"M 266.4 714.0 L 266.4 732.6 L 320.1 732.6\" id=\"54,48\"></path><path d=\"M 320.1 732.6 L 320.1 746.3 L 320.1 746.3\" id=\"48,47\"></path><path d=\"M 320.1 746.3 L 320.1 758.0 L 373.6 758.0\" id=\"47,46\"></path><path d=\"M 484.4 75.9 L 484.4 62.2 L 538.5 62.2\" id=\"89,45\"></path><path d=\"M 510.1 89.5 L 510.1 77.8 L 563.2 77.8\" id=\"87,44\"></path><path d=\"M 510.1 101.3 L 510.1 93.5 L 510.2 93.5\" id=\"84,43\"></path><path d=\"M 510.1 101.3 L 510.1 109.1 L 536.7 109.1\" id=\"84,42\"></path><path d=\"M 78.7 132.5 L 78.7 124.7 L 293.9 124.7\" id=\"86,41\"></path><path d=\"M 78.7 132.5 L 78.7 140.4 L 593.8 140.4\" id=\"86,40\"></path><path d=\"M 267.1 163.8 L 267.1 156.0 L 320.6 156.0\" id=\"81,39\"></path><path d=\"M 267.1 163.8 L 267.1 171.6 L 267.1 171.6\" id=\"81,38\"></path><path d=\"M 240.5 195.1 L 240.5 187.3 L 267.3 187.3\" id=\"78,37\"></path><path d=\"M 240.5 195.1 L 240.5 202.9 L 347.9 202.9\" id=\"78,36\"></path><path d=\"M 267.1 233.2 L 267.1 218.5 L 347.3 218.5\" id=\"77,35\"></path><path d=\"M 267.1 247.9 L 267.1 234.2 L 320.5 234.2\" id=\"74,34\"></path><path d=\"M 293.8 261.5 L 293.8 249.8 L 320.5 249.8\" id=\"69,33\"></path><path d=\"M 293.8 273.3 L 293.8 265.5 L 293.9 265.5\" id=\"64,32\"></path><path d=\"M 293.8 273.3 L 293.8 281.1 L 293.9 281.1\" id=\"64,31\"></path><path d=\"M 132.3 369.5 L 132.3 296.7 L 541.7 296.7\" id=\"82,30\"></path><path d=\"M 293.0 326.0 L 293.0 312.4 L 319.7 312.4\" id=\"73,29\"></path><path d=\"M 293.1 339.7 L 293.1 328.0 L 400.2 328.0\" id=\"68,28\"></path><path d=\"M 426.9 351.5 L 426.9 343.6 L 426.9 343.6\" id=\"63,27\"></path><path d=\"M 426.9 351.5 L 426.9 359.3 L 453.6 359.3\" id=\"63,26\"></path><path d=\"M 373.7 390.1 L 373.7 374.9 L 400.3 374.9\" id=\"72,25\"></path><path d=\"M 373.7 405.2 L 373.7 390.5 L 400.4 390.5\" id=\"67,24\"></path><path d=\"M 373.7 419.9 L 373.7 406.2 L 373.7 406.2\" id=\"62,23\"></path><path d=\"M 373.7 433.5 L 373.7 421.8 L 373.8 421.8\" id=\"58,22\"></path><path d=\"M 373.8 445.3 L 373.8 437.5 L 373.8 437.5\" id=\"53,21\"></path><path d=\"M 373.8 445.3 L 373.8 453.1 L 373.8 453.1\" id=\"53,20\"></path><path d=\"M 212.9 476.5 L 212.9 468.7 L 320.0 468.7\" id=\"71,19\"></path><path d=\"M 212.9 476.5 L 212.9 484.4 L 320.0 484.4\" id=\"71,18\"></path><path d=\"M 212.9 514.7 L 212.9 500.0 L 239.6 500.0\" id=\"66,17\"></path><path d=\"M 239.5 529.3 L 239.5 515.6 L 347.0 515.6\" id=\"61,16\"></path><path d=\"M 320.1 543.0 L 320.1 531.3 L 373.6 531.3\" id=\"57,15\"></path><path d=\"M 346.6 554.7 L 346.6 546.9 L 346.7 546.9\" id=\"52,14\"></path><path d=\"M 346.6 554.7 L 346.6 562.5 L 346.7 562.5\" id=\"52,13\"></path><path d=\"M 212.9 591.9 L 212.9 578.2 L 320.1 578.2\" id=\"60,12\"></path><path d=\"M 239.5 605.5 L 239.5 593.8 L 320.0 593.8\" id=\"56,11\"></path><path d=\"M 374.3 617.3 L 374.3 609.5 L 400.7 609.5\" id=\"51,10\"></path><path d=\"M 374.3 617.3 L 374.3 625.1 L 454.9 625.1\" id=\"51,9\"></path><path d=\"M 266.4 652.5 L 266.4 640.7 L 266.4 640.7\" id=\"55,8\"></path><path d=\"M 319.8 664.2 L 319.8 656.4 L 373.2 656.4\" id=\"50,7\"></path><path d=\"M 319.8 664.2 L 319.8 672.0 L 319.8 672.0\" id=\"50,6\"></path><path d=\"M 320.2 695.5 L 320.2 687.6 L 373.8 687.6\" id=\"49,5\"></path><path d=\"M 320.2 695.5 L 320.2 703.3 L 346.9 703.3\" id=\"49,4\"></path><path d=\"M 320.1 732.6 L 320.1 718.9 L 346.8 718.9\" id=\"48,3\"></path><path d=\"M 320.1 746.3 L 320.1 734.5 L 320.1 734.5\" id=\"47,2\"></path><path d=\"M 373.6 758.0 L 373.6 750.2 L 860.8 750.2\" id=\"46,1\"></path><path d=\"M 373.6 758.0 L 373.6 765.8 L 373.6 765.8\" id=\"46,0\"></path></g><g class=\"toytree-TipLabels\" style=\"fill:rgb(14.9%,14.9%,14.9%);fill-opacity:1.0;font-family:helvetica;font-size:11px;font-weight:normal;stroke:none;white-space:pre\"><g transform=\"translate(373.59,765.82)rotate(0)\"><text x=\"15.00\" y=\"2.81\" style=\"\">54-MBovis</text></g><g transform=\"translate(860.84,750.19)rotate(0)\"><text x=\"15.00\" y=\"2.81\" style=\"\">39-MBovis</text></g><g transform=\"translate(320.13,734.55)rotate(0)\"><text x=\"15.00\" y=\"2.81\" style=\"\">49-MBovis</text></g><g transform=\"translate(346.79,718.91)rotate(0)\"><text x=\"15.00\" y=\"2.81\" style=\"\">35-MBovis</text></g><g transform=\"translate(346.86,703.28)rotate(0)\"><text x=\"15.00\" y=\"2.81\" style=\"\">51-MBovis</text></g><g transform=\"translate(373.84,687.64)rotate(0)\"><text x=\"15.00\" y=\"2.81\" style=\"\">23-MBovis</text></g><g transform=\"translate(319.79,672.00)rotate(0)\"><text x=\"15.00\" y=\"2.81\" style=\"\">25-MBovis</text></g><g transform=\"translate(373.18,656.37)rotate(0)\"><text x=\"15.00\" y=\"2.81\" style=\"\">30-MBovis</text></g><g transform=\"translate(266.38,640.73)rotate(0)\"><text x=\"15.00\" y=\"2.81\" style=\"\">14-MBovis</text></g><g transform=\"translate(454.90,625.09)rotate(0)\"><text x=\"15.00\" y=\"2.81\" style=\"\">45-MBovis</text></g><g transform=\"translate(400.67,609.46)rotate(0)\"><text x=\"15.00\" y=\"2.81\" style=\"\">7-10423</text></g><g transform=\"translate(319.96,593.82)rotate(0)\"><text x=\"15.00\" y=\"2.81\" style=\"\">41-MBovis</text></g><g transform=\"translate(320.05,578.18)rotate(0)\"><text x=\"15.00\" y=\"2.81\" style=\"\">17-MBovis</text></g><g transform=\"translate(346.66,562.55)rotate(0)\"><text x=\"15.00\" y=\"2.81\" style=\"\">52-3698</text></g><g transform=\"translate(346.66,546.91)rotate(0)\"><text x=\"15.00\" y=\"2.81\" style=\"\">38-MBovis</text></g><g transform=\"translate(373.62,531.27)rotate(0)\"><text x=\"15.00\" y=\"2.81\" style=\"\">41-2165</text></g><g transform=\"translate(346.97,515.64)rotate(0)\"><text x=\"15.00\" y=\"2.81\" style=\"\">5-10284</text></g><g transform=\"translate(239.59,500.00)rotate(0)\"><text x=\"15.00\" y=\"2.81\" style=\"\">44-MBovis</text></g><g transform=\"translate(320.00,484.36)rotate(0)\"><text x=\"15.00\" y=\"2.81\" style=\"\">27-MBovis</text></g><g transform=\"translate(320.01,468.73)rotate(0)\"><text x=\"15.00\" y=\"2.81\" style=\"\">47-MBovis</text></g><g transform=\"translate(373.79,453.09)rotate(0)\"><text x=\"15.00\" y=\"2.81\" style=\"\">59-6110</text></g><g transform=\"translate(373.79,437.45)rotate(0)\"><text x=\"15.00\" y=\"2.81\" style=\"\">48-MBovis</text></g><g transform=\"translate(373.77,421.82)rotate(0)\"><text x=\"15.00\" y=\"2.81\" style=\"\">19-MBovis</text></g><g transform=\"translate(373.74,406.18)rotate(0)\"><text x=\"15.00\" y=\"2.81\" style=\"\">42-MBovis</text></g><g transform=\"translate(400.36,390.55)rotate(0)\"><text x=\"15.00\" y=\"2.81\" style=\"\">48-2919</text></g><g transform=\"translate(400.31,374.91)rotate(0)\"><text x=\"15.00\" y=\"2.81\" style=\"\">59-MBovis</text></g><g transform=\"translate(453.56,359.27)rotate(0)\"><text x=\"15.00\" y=\"2.81\" style=\"\">3-10110</text></g><g transform=\"translate(426.93,343.64)rotate(0)\"><text x=\"15.00\" y=\"2.81\" style=\"\">26-12883</text></g><g transform=\"translate(400.16,328.00)rotate(0)\"><text x=\"15.00\" y=\"2.81\" style=\"\">55-4348</text></g><g transform=\"translate(319.74,312.36)rotate(0)\"><text x=\"15.00\" y=\"2.81\" style=\"\">37-MBovis</text></g><g transform=\"translate(541.73,296.73)rotate(0)\"><text x=\"15.00\" y=\"2.81\" style=\"\">51-3292</text></g><g transform=\"translate(293.86,281.09)rotate(0)\"><text x=\"15.00\" y=\"2.81\" style=\"\">36-MBovis</text></g><g transform=\"translate(293.86,265.45)rotate(0)\"><text x=\"15.00\" y=\"2.81\" style=\"\">50-MBovis</text></g><g transform=\"translate(320.50,249.82)rotate(0)\"><text x=\"15.00\" y=\"2.81\" style=\"\">26-MBovis</text></g><g transform=\"translate(320.53,234.18)rotate(0)\"><text x=\"15.00\" y=\"2.81\" style=\"\">56-MBovis</text></g><g transform=\"translate(347.30,218.54)rotate(0)\"><text x=\"15.00\" y=\"2.81\" style=\"\">22-12200</text></g><g transform=\"translate(347.89,202.91)rotate(0)\"><text x=\"15.00\" y=\"2.81\" style=\"\">17-11662</text></g><g transform=\"translate(267.30,187.27)rotate(0)\"><text x=\"15.00\" y=\"2.81\" style=\"\">13-11594</text></g><g transform=\"translate(267.09,171.63)rotate(0)\"><text x=\"15.00\" y=\"2.81\" style=\"\">24-MBovis</text></g><g transform=\"translate(320.59,156.00)rotate(0)\"><text x=\"15.00\" y=\"2.81\" style=\"\">29-MBovis</text></g><g transform=\"translate(593.83,140.36)rotate(0)\"><text x=\"15.00\" y=\"2.81\" style=\"\">1034</text></g><g transform=\"translate(293.93,124.72)rotate(0)\"><text x=\"15.00\" y=\"2.81\" style=\"\">43-MBovis</text></g><g transform=\"translate(536.71,109.09)rotate(0)\"><text x=\"15.00\" y=\"2.81\" style=\"\">28-12935</text></g><g transform=\"translate(510.17,93.45)rotate(0)\"><text x=\"15.00\" y=\"2.81\" style=\"\">19-11957</text></g><g transform=\"translate(563.25,77.81)rotate(0)\"><text x=\"15.00\" y=\"2.81\" style=\"\">31-12952</text></g><g transform=\"translate(538.48,62.18)rotate(0)\"><text x=\"15.00\" y=\"2.81\" style=\"\">15-11643</text></g></g></g></g></g></svg><div class=\"toyplot-behavior\"><script>(function()\n",
       "{\n",
       "var modules={};\n",
       "})();</script></div></div>"
      ]
     },
     "metadata": {},
     "output_type": "display_data"
    }
   ],
   "source": [
    "tre2 = toytree.tree('/storage/btbgenie/wicklow_results/RAxML_bestTree.variants')\n",
    "tre2=tre2.drop_tips(omit+['ref'])\n",
    "canvas,t,r=tre2.draw(layout='r',width=1000)"
   ]
  },
  {
   "cell_type": "code",
   "execution_count": null,
   "id": "b3fcd185-df5e-4c4c-affe-7039c6ef5d39",
   "metadata": {},
   "outputs": [],
   "source": []
  }
 ],
 "metadata": {
  "kernelspec": {
   "display_name": "Python 3",
   "language": "python",
   "name": "python3"
  },
  "language_info": {
   "codemirror_mode": {
    "name": "ipython",
    "version": 3
   },
   "file_extension": ".py",
   "mimetype": "text/x-python",
   "name": "python",
   "nbconvert_exporter": "python",
   "pygments_lexer": "ipython3",
   "version": "3.8.6"
  }
 },
 "nbformat": 4,
 "nbformat_minor": 5
}
