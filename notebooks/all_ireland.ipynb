{
 "cells": [
  {
   "cell_type": "markdown",
   "metadata": {},
   "source": [
    "# All Ireland M.bovis strain diversity and clade identification"
   ]
  },
  {
   "cell_type": "code",
   "execution_count": null,
   "metadata": {},
   "outputs": [],
   "source": [
    "import sys,os,io,shutil,subprocess\n",
    "import glob\n",
    "from importlib import reload\n",
    "import numpy as np\n",
    "import pandas as pd\n",
    "pd.set_option('display.width', 200)\n",
    "import pylab as plt\n",
    "import matplotlib as mpl\n",
    "from Bio import SeqIO\n",
    "import seaborn as sns\n",
    "sys.path.append('pathogenie')\n",
    "from snipgenie import tools, aligners, app, trees, plotting\n",
    "path = '/storage/btbgenie/all_ireland_results'"
   ]
  },
  {
   "cell_type": "markdown",
   "metadata": {},
   "source": [
    "## run NI"
   ]
  },
  {
   "cell_type": "code",
   "execution_count": null,
   "metadata": {},
   "outputs": [],
   "source": [
    "reload(app)\n",
    "args = {'threads':20, 'outdir': '/storage/btbgenie/NI_results', 'labelsep':'_',\n",
    "        'input':['/storage/btbgenie/mbovis_ireland/NI'],\n",
    "         'species': 'Mbovis-AF212297',\n",
    "         'overwrite':False,\n",
    "         'custom_filters': True,       \n",
    "         'buildtree':True}\n",
    "W = app.WorkFlow(**args)\n",
    "st = W.setup()\n",
    "W.run()"
   ]
  },
  {
   "cell_type": "markdown",
   "metadata": {},
   "source": [
    "## custom code to integrate previously aligned bam files together and call variants\n",
    "\n",
    "This allows us to join previously mapped results together in one call without re-aligning"
   ]
  },
  {
   "cell_type": "code",
   "execution_count": null,
   "metadata": {},
   "outputs": [],
   "source": [
    "#read in bam files\n",
    "mapped = {'wicklow':'/storage/btbgenie/wicklow_results/mapped/',\n",
    "                'monaghan':'/storage/btbgenie/monaghan/monaghan_results/mapped/',\n",
    "                'NI':'/storage/btbgenie/NI_results/','UK':'/storage/btbgenie/UK_results/mapped'}\n",
    "reload(app)\n",
    "bam_files=[]\n",
    "for m in mapped:\n",
    "    f=app.get_files_from_paths(mapped[m], '*.bam')\n",
    "    bam_files.extend(f)\n",
    "print (len(bam_files))\n",
    "\n",
    "outdir='/storage/btbgenie/all_ireland_results'\n",
    "df = app.get_samples(bam_files,sep='_')\n",
    "app.write_samples(df, outdir)"
   ]
  },
  {
   "cell_type": "code",
   "execution_count": null,
   "metadata": {},
   "outputs": [],
   "source": [
    "#df.to_csv('/storage/btbgenie/mbovis_ireland/temp.csv',index=False)"
   ]
  },
  {
   "cell_type": "markdown",
   "metadata": {},
   "source": [
    "## run rest of workflow as usual"
   ]
  },
  {
   "cell_type": "code",
   "execution_count": null,
   "metadata": {},
   "outputs": [],
   "source": [
    "gff_file=os.path.join(outdir,'mbovis.gff')\n",
    "tools.gff_bcftools_format(app.mbovis_gb, gff_file)\n",
    "app.run_bamfiles(bam_files, app.mbovis_genome, outdir='/storage/btbgenie/all_ireland_results', threads=20,\n",
    "                 mask=app.mbovis_mask, gff_file=gff_file,\n",
    "                 custom_filters=True, overwrite=False)"
   ]
  },
  {
   "cell_type": "code",
   "execution_count": null,
   "metadata": {},
   "outputs": [],
   "source": [
    "treefile = trees.run_RAXML(outfasta, bootstraps=100, outpath=outdir, threads=12)"
   ]
  },
  {
   "cell_type": "markdown",
   "metadata": {},
   "source": [
    "## spoligotypes of all samples"
   ]
  },
  {
   "cell_type": "code",
   "execution_count": null,
   "metadata": {},
   "outputs": [],
   "source": [
    "paths = {'Wicklow':'/storage/btbgenie/mbovis_ireland/Wicklow','Monaghan':'/storage/btbgenie/mbovis_ireland/Monaghan/',\n",
    "         'NI':'/storage/btbgenie/mbovis_ireland/NI/'}\n",
    "samples = []\n",
    "for p in paths:\n",
    "    f = app.get_files_from_paths(paths[p])   \n",
    "    df = app.get_samples(f,sep='_')\n",
    "    print (len(df['sample'].unique()))\n",
    "    df=df.drop_duplicates('sample')   \n",
    "    df['county'] = p   \n",
    "    samples.append(df)\n",
    "\n",
    "samples = pd.concat(samples)\n",
    "#samples = samples.drop_duplicates(subset=['sample','county'])"
   ]
  },
  {
   "cell_type": "code",
   "execution_count": null,
   "metadata": {},
   "outputs": [],
   "source": [
    "reload(tools)\n",
    "res=[]\n",
    "for i,r in samples.iterrows():    \n",
    "    f=r.filename\n",
    "    b = tools.get_spoligotype(f,1e6)\n",
    "    sb = tools.get_sb_number(b)\n",
    "    print (f, sb, b)\n",
    "    res.append([f,sb,b])\n",
    "    \n",
    "res = pd.DataFrame(res,columns=['filename','SB','code'])\n",
    "res.to_csv('/storage/btbgenie/all_ireland_results/spoligotypes.csv',index=False)"
   ]
  },
  {
   "cell_type": "markdown",
   "metadata": {},
   "source": [
    "## get meta data"
   ]
  },
  {
   "cell_type": "code",
   "execution_count": null,
   "metadata": {},
   "outputs": [],
   "source": [
    "meta = pd.read_csv('/storage/btbgenie/mbovis_ireland/all_ireland_samples.csv')\n",
    "print (len(meta))"
   ]
  },
  {
   "cell_type": "markdown",
   "metadata": {},
   "source": [
    "## clusters"
   ]
  },
  {
   "cell_type": "code",
   "execution_count": null,
   "metadata": {},
   "outputs": [],
   "source": [
    "def tree_clusts(f,dist):\n",
    "    cmd = 'TreeCluster.py  -i {f} -t {d}'.format(f=f,d=dist)\n",
    "    cl=subprocess.check_output(cmd, shell=True)\n",
    "    cl=pd.read_csv(io.BytesIO(cl),sep='\\t')\n",
    "    return cl\n",
    "\n",
    "res=pd.DataFrame()\n",
    "for d in [0.045,0.02,0.01]:    \n",
    "    cl = tree_clusts('%s/RAxML_bipartitions.variants' %path, d)\n",
    "    res['name']=cl.SequenceName\n",
    "    res[d] = cl.ClusterNumber"
   ]
  },
  {
   "cell_type": "code",
   "execution_count": null,
   "metadata": {},
   "outputs": [],
   "source": [
    "spo = pd.read_csv('/storage/btbgenie/all_ireland_results/spoligotypes.csv')\n",
    "clust = pd.read_csv('/storage/btbgenie/all_ireland_results/clusters.txt',sep='\\t')"
   ]
  },
  {
   "cell_type": "code",
   "execution_count": null,
   "metadata": {},
   "outputs": [],
   "source": [
    "meta = meta.merge(spo,on='sample')\n",
    "meta = meta.merge(clust,left_on='sample',right_on='SequenceName')"
   ]
  },
  {
   "cell_type": "markdown",
   "metadata": {},
   "source": [
    "## assign clade names?"
   ]
  },
  {
   "cell_type": "code",
   "execution_count": null,
   "metadata": {},
   "outputs": [],
   "source": [
    "clmap = {7:'NI-1',5:'Wicklow-1',4:'Monaghan-1',3:'Monaghan-2',6:'Monaghan-3',-1:'Unknown'}\n",
    "meta['clade'] = meta.ClusterNumber.map(clmap)"
   ]
  },
  {
   "cell_type": "code",
   "execution_count": null,
   "metadata": {},
   "outputs": [],
   "source": [
    "meta"
   ]
  },
  {
   "cell_type": "markdown",
   "metadata": {},
   "source": [
    "## draw trees"
   ]
  },
  {
   "cell_type": "code",
   "execution_count": null,
   "metadata": {},
   "outputs": [],
   "source": [
    "reload(trees)\n",
    "from ete3 import CircleFace, TreeStyle, NodeStyle, RectFace, TextFace\n",
    "treefile = '/storage/btbgenie/all_ireland_results/RAxML_bipartitions.variants'\n",
    "\n",
    "def make_tree():\n",
    "    \n",
    "    labelmap = dict(zip(meta['name'],meta.species))\n",
    "    colormap = trees.colors_from_labels(meta,'name','county')\n",
    "    t,ts = trees.create_tree(treefile, 'ref', colormap=colormap)  #labelmap=labelmap\n",
    "    colors = {'wicklow': 'blue', 'monaghan': 'green','NI':'crimson'}\n",
    "    for i in colors:\n",
    "        f=ts.legend.add_face(\n",
    "                TextFace(text=i,fgcolor=colors[i],fsize=28),            \n",
    "                column=0)\n",
    "    return t\n",
    "\n",
    "t = make_tree()\n",
    "ts=TreeStyle()\n",
    "ts.scale=8000\n",
    "t.render(\"%%inline\",tree_style=ts,w=1000)"
   ]
  },
  {
   "cell_type": "code",
   "execution_count": null,
   "metadata": {},
   "outputs": [],
   "source": [
    "t = make_tree()\n",
    "#out = t.get_common_ancestor(\"19-4281\", \"19-2438\", \"461\")\n",
    "#out.delete()"
   ]
  },
  {
   "cell_type": "code",
   "execution_count": null,
   "metadata": {},
   "outputs": [],
   "source": [
    "def color_clades(t):\n",
    "    wick = t.get_common_ancestor(\"19-11957\", \"43-MBovis\")\n",
    "    mon = t.get_common_ancestor(\"19-7433\", \"19-6796\")\n",
    "    mon2 = t.get_common_ancestor(\"548\", \"2703\")\n",
    "    ni = t.get_common_ancestor(\"ERR125607\",\"ERR125601\")\n",
    "\n",
    "    colors=['LightSteelBlue','lightgreen','lightgreen','salmon']\n",
    "    for common,clr in zip([wick,mon,mon2,ni],colors):\n",
    "        nodesinbranch = [node for node in common.traverse()]\n",
    "        nstyle1=NodeStyle()\n",
    "        nstyle1['bgcolor']=clr\n",
    "        common.set_style(nstyle1)\n",
    "        \n",
    "color_clades(t)"
   ]
  },
  {
   "cell_type": "code",
   "execution_count": null,
   "metadata": {},
   "outputs": [],
   "source": [
    "reload(trees)\n",
    "ts=TreeStyle()\n",
    "ts.scale=9000\n",
    "ts.show_leaf_name = False\n",
    "trees.set_nodesize(t, 40)\n",
    "ts.mode = 'c'\n",
    "t.render(\"%%inline\",tree_style=ts,w=800)\n",
    "#t.render(\"/storage/btbgenie/all_ireland.png\",tree_style=ts,w=2000)"
   ]
  },
  {
   "cell_type": "code",
   "execution_count": null,
   "metadata": {},
   "outputs": [],
   "source": [
    "samples.county.value_counts()\n",
    "print (samples)"
   ]
  },
  {
   "cell_type": "code",
   "execution_count": null,
   "metadata": {},
   "outputs": [],
   "source": [
    "colormap = trees.colors_from_labels(spo,'sample','SB')\n",
    "labelmap = dict(zip(spo['sample'],spo.SB))\n",
    "t,ts = trees.create_tree(treefile, 'ref')#, colormap=colormap, labelmap=labelmap)\n",
    "color_clades(t)\n",
    "trees.color_leaves(t, colormap)\n",
    "trees.set_tiplabels(t,labelmap)\n",
    "colors = {'wicklow': 'blue', 'monaghan': 'green','NI':'crimson'}\n",
    "for i in colors:\n",
    "       f=ts.legend.add_face(\n",
    "             TextFace(text=i,fgcolor=colors[i],fsize=28),            \n",
    "              column=0)"
   ]
  },
  {
   "cell_type": "code",
   "execution_count": null,
   "metadata": {},
   "outputs": [],
   "source": [
    "ts.mode = 'c'\n",
    "trees.set_nodesize(t, 10)\n",
    "ts.scale=2000\n",
    "t.render(\"%%inline\",tree_style=ts,w=800)\n",
    "#t.render(\"/storage/btbgenie/sb_tree.png\",tree_style=ts,w=2000)"
   ]
  },
  {
   "cell_type": "markdown",
   "metadata": {},
   "source": [
    "## toytree"
   ]
  },
  {
   "cell_type": "code",
   "execution_count": null,
   "metadata": {},
   "outputs": [],
   "source": [
    "import toytree\n",
    "treefile = '/storage/btbgenie/all_ireland_results/RAxML_bipartitions.variants'\n",
    "tre = toytree.tree(treefile)\n",
    "tre = tre.root('ref')\n",
    "tipnames = tre.get_tip_labels()\n",
    "mapping = dict(zip(meta['sample'],meta.clade))\n",
    "mapping['ref'] = 'AF2122/97'\n",
    "tiplabels = [mapping[i] for i in tipnames]\n",
    "\n",
    "mapping = dict(zip(meta['sample'],meta.ClusterNumber))\n",
    "colormap = trees.colors_from_labels(meta,'name','ClusterNumber')\n",
    "tip_colors = [colormap[mapping[i]] if i in mapping else 'Black' for i in tipnames]\n",
    "tip_labels_style={      \n",
    "        \"font-size\": \"6px\",\n",
    "        \"-toyplot-anchor-shift\": \"13px\",\n",
    "    }\n",
    "node_sizes=[0 if i else 8 for i in tre.get_node_values(None, 1, 0)]\n",
    "node_colors = [colormap[mapping[n]] if n in mapping else 'black' for n in tre.get_node_values('name', True, True)]\n",
    "\n",
    "canvas,t,r=tre.draw(layout='r',width=800,height=1100,node_markers=\"o\",node_hover=True, node_sizes=node_sizes,\n",
    "                    tip_labels=tiplabels,tip_labels_style=tip_labels_style,node_colors=node_colors,\n",
    "                    tip_labels_colors=tip_colors,scalebar=True,);"
   ]
  },
  {
   "cell_type": "markdown",
   "metadata": {},
   "source": [
    "## SNP analysis\n",
    "\n",
    "* snps unique to each clade/county\n",
    "* protein groups containing common snps"
   ]
  },
  {
   "cell_type": "code",
   "execution_count": null,
   "metadata": {},
   "outputs": [],
   "source": [
    "csq = app.read_csq_file('/storage/btbgenie/all_ireland_results/csq.tsv')\n",
    "snp_mat = app.get_aa_snp_matrix(csq)\n",
    "#csq_ind = app.read_csq_file('/storage/btbgenie/all_ireland_results/csq_indels.tsv')\n",
    "#ind_mat = app.get_aa_snp_matrix(csq_ind)"
   ]
  },
  {
   "cell_type": "code",
   "execution_count": null,
   "metadata": {},
   "outputs": [],
   "source": [
    "mat = snp_mat\n",
    "#labelmap = dict(zip(meta['name'],meta.county))\n",
    "#mat = mat.rename(columns=labelmap)\n",
    "#freqs = mat.sum(1)/len(mat.columns)\n",
    "#freqs =freqs.rename('freq') \n",
    "#freqs.sort_values()\n",
    "#freqs.hist(bins=20)"
   ]
  },
  {
   "cell_type": "code",
   "execution_count": null,
   "metadata": {},
   "outputs": [],
   "source": [
    "#mat.index = mat.index.get_level_values(1)+'_'+mat.index.get_level_values(2)\n",
    "stat = mat.sum(1).reset_index()\n",
    "#stat.gene.value_counts()[:30]"
   ]
  },
  {
   "cell_type": "code",
   "execution_count": null,
   "metadata": {},
   "outputs": [],
   "source": [
    "cols=['name','county','SB','ClusterNumber','clade']\n",
    "C=mat.T\n",
    "\n",
    "C=C.merge(meta[cols],left_index=True,right_on='name').set_index(cols).T\n",
    "#print (C)\n",
    "C=C[C.sum(1)>3].T\n",
    "C.iloc[:4,:2]\n",
    "C.to_csv('csq_snps_ireland.csv')"
   ]
  },
  {
   "cell_type": "code",
   "execution_count": null,
   "metadata": {},
   "outputs": [],
   "source": [
    "counties = list(C.index.get_level_values(1))\n",
    "sb = list(C.index.get_level_values(2))\n",
    "clust = C.index.get_level_values(3)\n",
    "clades = C.index.get_level_values(4)"
   ]
  },
  {
   "cell_type": "code",
   "execution_count": null,
   "metadata": {},
   "outputs": [],
   "source": [
    "colormap1 = dict(zip(clades.unique(), trees.qcolors))\n",
    "colors1 = [colormap1[i] if i in colormap else 'Black' for i in clades]\n",
    "#make legend\n",
    "import matplotlib.patches as mpatches\n",
    "pts=[]\n",
    "for c in colormap1:\n",
    "    pts.append(mpatches.Patch(color=colormap1[c],label=c))\n",
    "g=sns.clustermap(C,xticklabels=False,yticklabels=False,figsize=(17,12),cmap='gray_r',cbar_pos=None,row_colors=colors1)\n",
    "g.fig.legend(handles=pts,bbox_to_anchor=(1.05, 1), )\n",
    "g.savefig('/storage/btbgenie/all_ireland_results/snp_clusters.jpg')"
   ]
  },
  {
   "cell_type": "markdown",
   "metadata": {},
   "source": [
    "## PCA"
   ]
  },
  {
   "cell_type": "code",
   "execution_count": null,
   "metadata": {},
   "outputs": [],
   "source": [
    "import sklearn\n",
    "from sklearn import decomposition\n",
    "from sklearn import manifold\n",
    "\n",
    "pca = decomposition.PCA(n_components=3)\n",
    "mds = manifold.MDS(n_components=3)\n",
    "pos = mds.fit(C).embedding_\n",
    "X = pca.fit_transform(pos)\n",
    "#X = pca.transform(C)\n",
    "df=pd.DataFrame(X)\n",
    "df['sb']=sb\n",
    "df.to_csv('/storage/btbgenie/all_ireland_results/pca_snp.csv')\n",
    "\n",
    "fig,ax = plt.subplots(figsize=(7, 7))\n",
    "sc=ax.scatter(X[:, 0], X[:, 1], c=colors1, s=100, alpha=.6)    \n",
    "ax.legend(handles=pts,loc='best')\n",
    "fig.savefig('/storage/btbgenie/all_ireland_results/pca_snp_clusters.jpg',dpi=150)"
   ]
  },
  {
   "cell_type": "code",
   "execution_count": null,
   "metadata": {},
   "outputs": [],
   "source": []
  }
 ],
 "metadata": {
  "kernelspec": {
   "display_name": "Python 3",
   "language": "python",
   "name": "python3"
  },
  "language_info": {
   "codemirror_mode": {
    "name": "ipython",
    "version": 3
   },
   "file_extension": ".py",
   "mimetype": "text/x-python",
   "name": "python",
   "nbconvert_exporter": "python",
   "pygments_lexer": "ipython3",
   "version": "3.8.6"
  }
 },
 "nbformat": 4,
 "nbformat_minor": 4
}
