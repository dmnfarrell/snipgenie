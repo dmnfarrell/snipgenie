{
 "cells": [
  {
   "cell_type": "markdown",
   "id": "097a5efa-3837-48c6-a8ea-309d58ba6fd6",
   "metadata": {},
   "source": [
    "## wgMLST for mbovis\n",
    "\n",
    "* http://www3.ridom.de/seqsphere/cgmlst/\n",
    "* https://www.cgmlst.org/ncs/schema/741110/\n",
    "* https://jcm.asm.org/content/52/7/2479\n",
    "* https://www.biorxiv.org/content/10.1101/172858v1.full\n",
    "* https://www.ncbi.nlm.nih.gov/pmc/articles/PMC3980634/"
   ]
  },
  {
   "cell_type": "markdown",
   "id": "3b554e75-17e5-4a8f-ab03-e93150bcc94e",
   "metadata": {},
   "source": [
    "## steps\n",
    "\n",
    "* get MLST gene list\n",
    "* assembly\n",
    "* annotate\n",
    "* assign allele numbers?"
   ]
  },
  {
   "cell_type": "code",
   "execution_count": 2,
   "id": "5fbe56cd-85be-425d-a949-8d7b709d4acc",
   "metadata": {},
   "outputs": [],
   "source": [
    "import sys,os,shutil,subprocess\n",
    "import glob\n",
    "from importlib import reload\n",
    "import numpy as np\n",
    "import pandas as pd\n",
    "pd.set_option('display.width', 200)\n",
    "pd.set_option('display.max_colwidth', 150)\n",
    "import pylab as plt\n",
    "import seaborn as sns\n",
    "from Bio import SeqIO\n",
    "from Bio.SeqRecord import SeqRecord\n",
    "from io import StringIO\n",
    "from snipgenie import app\n",
    "import pathogenie as pg\n",
    "import toytree"
   ]
  },
  {
   "cell_type": "code",
   "execution_count": 3,
   "id": "a9158dab-3bba-4414-bad1-59c5f0856117",
   "metadata": {},
   "outputs": [],
   "source": [
    "meta = pd.read_csv('/storage/btbgenie/mbovis_ireland/all_ireland_samples.csv')\n",
    "vcf_file='/storage/btbgenie/wicklow_results/filtered.vcf.gz'"
   ]
  },
  {
   "cell_type": "code",
   "execution_count": 4,
   "id": "3bc7763a-0ca8-4267-9f1d-60755c13b101",
   "metadata": {},
   "outputs": [],
   "source": [
    "def get_samples_vcf(vcf_file):\n",
    "    cmd = 'bcftools query -l %s' %vcf_file\n",
    "    tmp = subprocess.check_output(cmd, shell=True)\n",
    "    return tmp.decode().split('\\n')\n",
    "    \n",
    "samplenames = get_samples_vcf(vcf_file)"
   ]
  },
  {
   "cell_type": "code",
   "execution_count": 5,
   "id": "f630368c-1859-4574-84dd-8a545f5e17b5",
   "metadata": {},
   "outputs": [
    {
     "name": "stdout",
     "output_type": "stream",
     "text": [
      "pair    sample                                                                                             1  \\\n",
      "0         1034                  /storage/btbgenie/mbovis_ireland/Wicklow/dog/1034_S91_L001-4_R1_001.fastq.gz   \n",
      "1     13-11594  /storage/btbgenie/mbovis_ireland/Wicklow/Fastqs_15-03-19/13-11594_S85_L001-4_R1_001.fastq.gz   \n",
      "\n",
      "pair                                                                                             2  \n",
      "0                     /storage/btbgenie/mbovis_ireland/Wicklow/dog/1034_S91_L001-4_R2_001.fastq.gz  \n",
      "1     /storage/btbgenie/mbovis_ireland/Wicklow/Fastqs_15-03-19/13-11594_S85_L001-4_R2_001.fastq.gz  \n"
     ]
    }
   ],
   "source": [
    "path = '/storage/btbgenie/mbovis_ireland/Wicklow/'\n",
    "files = glob.glob(os.path.join(path,'**', '*.fastq.gz'),recursive=True)\n",
    "samp = app.get_samples(files,sep='_')\n",
    "pairs = pd.pivot_table(samp,index=['sample'],columns=['pair'],values='filename',aggfunc='first').reset_index()\n",
    "print (pairs[:2])"
   ]
  },
  {
   "cell_type": "markdown",
   "id": "1200e6a5-624b-44ff-a8e5-4436b362b548",
   "metadata": {},
   "source": [
    "## create reference proteins for MLST"
   ]
  },
  {
   "cell_type": "code",
   "execution_count": 13,
   "id": "7c6c41ff-b137-40ef-b26d-fa40e236835c",
   "metadata": {},
   "outputs": [
    {
     "name": "stdout",
     "output_type": "stream",
     "text": [
      "3994\n"
     ]
    }
   ],
   "source": [
    "prots = pg.tools.genbank_to_dataframe('Mbovis-AF212297.2.gb',cds=True)\n",
    "prots = prots.fillna('')\n",
    "prots = prots.dropna(subset=['locus_tag'])\n",
    "ref_proteins = 'Mbovis_AF212297_proteins.fa'\n",
    "#get prokka type header for using in annotation\n",
    "prots['header'] = prots.apply(lambda x: '~~~'.join([x.locus_tag,x.gene,x['product'],'none']),1)\n",
    "pg.tools.dataframe_to_fasta(prots,idkey='header',outfile=ref_proteins)\n",
    "print (len(prots))"
   ]
  },
  {
   "cell_type": "code",
   "execution_count": 6,
   "id": "0c949c63-24d7-481a-b145-ca33f18595b4",
   "metadata": {},
   "outputs": [],
   "source": [
    "def get_nucleotide_sequences(gb_file,out_file,idkey='locus_tag'):\n",
    "    \"\"\"protein nucleotide seqs from genbank\"\"\"\n",
    "    \n",
    "    recs = SeqIO.to_dict(SeqIO.parse(gb_file,'genbank'))\n",
    "    chroms = list(recs.keys())\n",
    "    result = []\n",
    "    for chrom in chroms[:10]:       \n",
    "        rec = recs[chrom]        \n",
    "        for f in rec.features[1:]:\n",
    "            q=f.qualifiers\n",
    "            if f.type != 'CDS':\n",
    "                continue\n",
    "            seq = rec.seq[f.location.start:f.location.end]\n",
    "            try:         \n",
    "                new = SeqRecord(seq,id=q[idkey][0])\n",
    "                result.append(new)\n",
    "            except:\n",
    "                #print (q)\n",
    "                pass\n",
    "    SeqIO.write(result,out_file,format='fasta')\n",
    "    return result\n",
    "\n",
    "res=get_nucleotide_sequences('Mbovis-AF212297.2.gb','Mbovis_AF212297_nuc.fa')"
   ]
  },
  {
   "cell_type": "markdown",
   "id": "1df61561-684c-418a-980c-2c62299a216a",
   "metadata": {},
   "source": [
    "## assembly"
   ]
  },
  {
   "cell_type": "code",
   "execution_count": null,
   "id": "09ca0cce-bad8-40a0-81bd-f93f8a39518f",
   "metadata": {},
   "outputs": [],
   "source": [
    "def spades(file1, file2, path, outfile=None, threads=4):\n",
    "    \"\"\"Run spades\"\"\"\n",
    "    \n",
    "    cmd = 'spades -t %s --pe1-1 %s --pe1-2 %s --careful -o %s' %(threads,file1,file2,path)    \n",
    "    if not os.path.exists(path): \n",
    "        print (cmd)\n",
    "        subprocess.check_output(cmd, shell=True)\n",
    "    if outfile != None:\n",
    "        shutil.copy(os.path.join(path,'scaffolds.fasta'),outfile)\n",
    "    return outfile\n",
    "\n",
    "assembly_path = '/storage/btbgenie/assembly/'\n",
    "\n",
    "for i,r in pairs[5:10].iterrows():    \n",
    "    name=r['sample']\n",
    "    print (name)\n",
    "    out = os.path.join(assembly_path,name+'.fa')\n",
    "    print (out)\n",
    "    spades(r[1], r[2], os.path.join(assembly_path,name), outfile=out, threads=12)"
   ]
  },
  {
   "cell_type": "markdown",
   "id": "255fab33-d9d4-4cc6-9edf-04a7d8250fd9",
   "metadata": {},
   "source": [
    "## get consensus sequence from alignment instead of assembly"
   ]
  },
  {
   "cell_type": "code",
   "execution_count": 8,
   "id": "b1450e60-5c58-4c34-9927-b11396ef068b",
   "metadata": {},
   "outputs": [],
   "source": [
    "def get_consensus(vcf_file, sample, out_file='consensus.fa'):\n",
    "    \"\"\"Get consensus sequence from vcf\"\"\"\n",
    "      \n",
    "    cmd='bcftools index -f %s' %vcf_file\n",
    "    subprocess.check_output(cmd, shell=True)   \n",
    "    cmd='cat {r} | bcftools consensus -s {s} {v} > {o}'.format(r=app.mbovis_genome,v=vcf_file,s=sample,o=out_file)\n",
    "    #print (cmd)\n",
    "    subprocess.check_output(cmd, shell=True)\n",
    "    return\n",
    "\n",
    "get_consensus(vcf_file, '1034','consensus.fa')\n"
   ]
  },
  {
   "cell_type": "markdown",
   "id": "f036d0a1-efe2-497b-bccf-93b0b305a212",
   "metadata": {},
   "source": [
    "## annotate\n"
   ]
  },
  {
   "cell_type": "code",
   "execution_count": null,
   "id": "65652405-949d-4bd8-be2e-e1869169890f",
   "metadata": {},
   "outputs": [],
   "source": [
    "seqfile='/storage/btbgenie/assembly/1034.fa'\n",
    "#seqfile='consensus.fa'\n",
    "featdf,recs = pg.run_annotation(seqfile,\n",
    "                                threads=10, kingdom='bacteria', trusted=ref_proteins)\n",
    "outfile='/storage/btbgenie/annotation_assembly/1034.fa'\n",
    "\n",
    "#write out nucl sequences\n",
    "SeqIO.write(recs,'temp.gb','genbank')\n",
    "res = get_nucleotide_sequences('temp.gb',outfile,idkey='protein_id')"
   ]
  },
  {
   "cell_type": "code",
   "execution_count": 853,
   "id": "790a4e36-d0d8-4d9d-8398-124cdb32d6d0",
   "metadata": {},
   "outputs": [
    {
     "name": "stdout",
     "output_type": "stream",
     "text": [
      "Mb3672c\n"
     ]
    },
    {
     "data": {
      "text/plain": [
       "Seq('MPQGTVKWFNAEKGFGFIAPEDGSADVFVHYTEIQGTGFRTLEENQKVEFEIGH...SL*')"
      ]
     },
     "execution_count": 853,
     "metadata": {},
     "output_type": "execute_result"
    }
   ],
   "source": [
    "rec=res[3]\n",
    "print (rec.id)\n",
    "rec.seq.translate()"
   ]
  },
  {
   "cell_type": "markdown",
   "id": "c904b82a-bee9-4bee-a81d-b33539bb3b9f",
   "metadata": {},
   "source": [
    "# initialise MLST table from reference genome"
   ]
  },
  {
   "cell_type": "markdown",
   "id": "b795b5e3-ce6a-4ea8-a417-60a03ad8b5bc",
   "metadata": {},
   "source": [
    "## filter only Mb proteins in scheme"
   ]
  },
  {
   "cell_type": "code",
   "execution_count": 825,
   "id": "f2b59498-b340-4405-87a9-54ab89498277",
   "metadata": {},
   "outputs": [],
   "source": [
    "mlst=pd.read_csv('mlst_scheme.csv')\n",
    "mlst=mlst[mlst['Ridom Usage']=='MLST+']\n",
    "targets=list(mlst.Target)"
   ]
  },
  {
   "cell_type": "code",
   "execution_count": 826,
   "id": "02009a63-fbc7-4c52-97c1-2daee4048f17",
   "metadata": {},
   "outputs": [],
   "source": [
    "mbmap=pd.read_csv('final_mbovis_mapping.csv')\n",
    "mbmap = mbmap[mbmap.Rv_tag.isin(targets)]\n",
    "mb_tags = list(mbmap.Mb_tag)\n",
    "prots = prots[prots.locus_tag.isin(mb_tags)]\n",
    "nucseqs = pg.tools.fasta_to_dataframe('Mbovis_AF212297_nuc.fa')\n",
    "nucseqs = nucseqs[nucseqs.name.isin(mb_tags)]"
   ]
  },
  {
   "cell_type": "code",
   "execution_count": 827,
   "id": "e1698d53-1360-4deb-b9b8-4a6940766fbe",
   "metadata": {},
   "outputs": [
    {
     "name": "stdout",
     "output_type": "stream",
     "text": [
      "3184\n"
     ]
    }
   ],
   "source": [
    "cols = ['name','allele','sequence']\n",
    "ref = nucseqs.copy()\n",
    "ref['allele'] = 1\n",
    "ref=ref.rename(columns={'translation':'sequence'})\n",
    "ref[cols].to_csv('mlst_db.csv.gz',index=False,compression='gzip')\n",
    "print (len(ref))"
   ]
  },
  {
   "cell_type": "code",
   "execution_count": 635,
   "id": "d1112407-b094-45a1-9b2e-d1936429d4d1",
   "metadata": {},
   "outputs": [
    {
     "data": {
      "text/html": [
       "<div>\n",
       "<style scoped>\n",
       "    .dataframe tbody tr th:only-of-type {\n",
       "        vertical-align: middle;\n",
       "    }\n",
       "\n",
       "    .dataframe tbody tr th {\n",
       "        vertical-align: top;\n",
       "    }\n",
       "\n",
       "    .dataframe thead th {\n",
       "        text-align: right;\n",
       "    }\n",
       "</style>\n",
       "<table border=\"1\" class=\"dataframe\">\n",
       "  <thead>\n",
       "    <tr style=\"text-align: right;\">\n",
       "      <th></th>\n",
       "      <th>name</th>\n",
       "      <th>sequence</th>\n",
       "      <th>description</th>\n",
       "      <th>type</th>\n",
       "    </tr>\n",
       "  </thead>\n",
       "  <tbody>\n",
       "    <tr>\n",
       "      <th>3240</th>\n",
       "      <td>Mb0014c</td>\n",
       "      <td>CTACTGGCCGAACCTCAGCGTGATGATGCCGTCCCGGTTGACGCCGGTCCCCGCCGGCGGGTTTTGATAGACGACCCGGTTGTGTTGGGAGCCACCGGCGTCGACGTCGGCCCCTTTGTCGAGCATCCCGGTCCAGCCCAGCGCGC...</td>\n",
       "      <td>Mb0014c &lt;unknown description&gt;</td>\n",
       "      <td>CDS</td>\n",
       "    </tr>\n",
       "  </tbody>\n",
       "</table>\n",
       "</div>"
      ],
      "text/plain": [
       "         name                                                                                                                                               sequence                    description  \\\n",
       "3240  Mb0014c  CTACTGGCCGAACCTCAGCGTGATGATGCCGTCCCGGTTGACGCCGGTCCCCGCCGGCGGGTTTTGATAGACGACCCGGTTGTGTTGGGAGCCACCGGCGTCGACGTCGGCCCCTTTGTCGAGCATCCCGGTCCAGCCCAGCGCGC...  Mb0014c <unknown description>   \n",
       "\n",
       "     type  \n",
       "3240  CDS  "
      ]
     },
     "execution_count": 635,
     "metadata": {},
     "output_type": "execute_result"
    }
   ],
   "source": [
    "fastafile='/storage/btbgenie/annotation_assembly/1034.fa'\n",
    "df = pg.tools.fasta_to_dataframe(fastafile)\n",
    "df[df.name=='Mb0014c']"
   ]
  },
  {
   "cell_type": "code",
   "execution_count": 10,
   "id": "18704833-b679-49c8-b459-4d0ca72ee22a",
   "metadata": {},
   "outputs": [],
   "source": [
    "def find_alleles(fastafile):\n",
    "    \"\"\"Find allele by simple matches to the reference table of known sequences.\n",
    "    Returns:\n",
    "        dataframe with allele number for each gene\n",
    "        dataframe with new alleles to add to db\n",
    "    \"\"\"\n",
    "    \n",
    "    db = pd.read_csv('mlst_db.csv.gz')\n",
    "    names = db.name.unique()\n",
    "    df = pg.tools.fasta_to_dataframe(fastafile).reset_index()\n",
    "    #print (df.iloc[0])\n",
    "    result=[]\n",
    "    new=[]\n",
    "    for name in names:\n",
    "        #print (name)\n",
    "        s = db[db.name==name]\n",
    "        gene = df[df.name==name]\n",
    "        #print (gene)\n",
    "        if len(gene)==0:\n",
    "            #print (name)\n",
    "            #missing gene in target\n",
    "            result.append((name,0))\n",
    "            continue\n",
    "        target = gene.iloc[0].sequence\n",
    "        found = s[s.sequence==target]        \n",
    "        #print (target,found)\n",
    "        if len(found)>0:\n",
    "            found = found.iloc[0]\n",
    "            result.append((name,found.allele))\n",
    "        else:\n",
    "            #assign new allele            \n",
    "            newallele = s.allele.max()+1\n",
    "            result.append((name,newallele))\n",
    "            new.append([name,newallele,target])\n",
    "    prof = pd.DataFrame(result,columns=['name','allele'])\n",
    "    prof['allele'] = prof.allele.astype(int)\n",
    "    #new additions\n",
    "    new = pd.DataFrame(new,columns=['name','allele','sequence'])\n",
    "    return prof, new\n",
    "    \n",
    "def update_mlst_db(new):\n",
    "    \"\"\"Update the database of MLST profiles\"\"\"\n",
    "    \n",
    "    db = pd.read_csv('mlst_db.csv.gz')\n",
    "    db = pd.concat([db,new])\n",
    "    db.to_csv('mlst_db.csv.gz', index=False, compression='gzip')\n",
    "    print ('added %s new alleles' %len(new))\n",
    "    return\n",
    "\n",
    "fastafile='26-Mbovis.fa'\n",
    "prof,new = find_alleles(fastafile)\n",
    "#update_mlst_db(new)\n",
    "#print (prof[:100])"
   ]
  },
  {
   "cell_type": "code",
   "execution_count": null,
   "id": "0aaa32a2-0d5f-44e7-b5d9-95148f858e9e",
   "metadata": {},
   "outputs": [],
   "source": [
    "def type_sample(fastafile, outfile, threads=4, overwrite=False):\n",
    "    \"\"\"Type a single sample using wgMLST.\n",
    "    Args:\n",
    "        fastafile: fasta file to type from assembly or other\n",
    "        \n",
    "        path: output folder for annotations\n",
    "    Returns:\n",
    "        dataframe of MLST profile\n",
    "    \"\"\"\n",
    "    \n",
    "    if overwrite == True or not os.path.exists(outfile):\n",
    "        #annotate\n",
    "        featdf,recs = pg.run_annotation(fastafile, threads=threads,\n",
    "                                        kingdom='bacteria', trusted=ref_proteins)\n",
    "        #get nucl sequences from annotation    \n",
    "        SeqIO.write(recs,'temp.gb','genbank')\n",
    "        get_nucleotide_sequences('temp.gb',outfile,idkey='protein_id')\n",
    "    \n",
    "    #find alleles\n",
    "    res,new = find_alleles(outfile)\n",
    "    #print (res)\n",
    "    #update db\n",
    "    update_mlst_db(new)\n",
    "    return res\n",
    "\n",
    "get_consensus(vcf_file, '26-MBovis')\n",
    "fastafile = 'consensus.fa'\n",
    "res = type_sample(fastafile, '26-Mbovis.fa', threads=10)"
   ]
  },
  {
   "cell_type": "code",
   "execution_count": 15,
   "id": "fdc652d8-7609-4250-a71a-0431f6bb5c70",
   "metadata": {},
   "outputs": [],
   "source": [
    "def get_profile_string(df):\n",
    "    return ''.join(df.allele.astype(str))"
   ]
  },
  {
   "cell_type": "markdown",
   "id": "ea02a7c5-940e-4566-8bda-11ddd4d97244",
   "metadata": {},
   "source": [
    "## profiles from assembly - not needed?"
   ]
  },
  {
   "cell_type": "code",
   "execution_count": null,
   "id": "3a1e6f8a-e49d-411d-99b4-7904aefa2676",
   "metadata": {},
   "outputs": [],
   "source": [
    "profs = {}\n",
    "omit=['182-MBovis','19-4281','19-2438']\n",
    "samples=glob.glob(os.path.join(assembly_path,'*.fa'))\n",
    "pdf=pd.DataFrame()\n",
    "for s in samples:\n",
    "    print (s)\n",
    "    sample = os.path.splitext(os.path.basename(s))[0]    \n",
    "    if sample in omit:\n",
    "        continue\n",
    "    profile = type_sample(s, '/storage/btbgenie/annotation_assembly/%s.fa' %sample, threads=12)\n",
    "    pdf[sample] = profile['allele']\n",
    "    profs[sample] = get_profile_string(profile)"
   ]
  },
  {
   "cell_type": "markdown",
   "id": "c3201168-0b53-4d6e-b990-f171924c03b5",
   "metadata": {},
   "source": [
    "## profiles from consensus seqs"
   ]
  },
  {
   "cell_type": "code",
   "execution_count": null,
   "id": "c3cfa8f4-3452-4dff-b8f7-dc32c4d1a7e9",
   "metadata": {},
   "outputs": [],
   "source": [
    "omit=['182-MBovis','19-4281','19-2438']\n",
    "\n",
    "def run_samples(vcf_file, outdir, omit=[], **kwargs):\n",
    "    \"\"\"Run samples in a vcf file.\n",
    "    Args:\n",
    "        vcf_file: multi sample variant file from previous calling\n",
    "        outdir: folder for writing intermediate files\n",
    "    Returns:\n",
    "        dict of mst profiles\n",
    "    \"\"\"\n",
    "\n",
    "    profs = {}\n",
    "    samplenames = get_samples_vcf(vcf_file)\n",
    "    for s in samplenames[:15]:\n",
    "        print (s)\n",
    "        if s in omit:\n",
    "            continue\n",
    "        get_consensus(vcf_file, s)\n",
    "        outfile = os.path.join(outdir, '%s.fa' %s)\n",
    "        profile = type_sample('consensus.fa', outfile, **kwargs)\n",
    "        profs[s] = get_profile_string(profile)\n",
    "    return profs\n",
    "\n",
    "profs = run_samples(vcf_file, '/storage/btbgenie/annotation_consensus', threads=12, omit=omit)"
   ]
  },
  {
   "cell_type": "code",
   "execution_count": null,
   "id": "74b4ea83-c6fa-46bc-934d-114b0a97fc56",
   "metadata": {},
   "outputs": [],
   "source": [
    "for i in profs:\n",
    "    print (i,len(profs[i]))"
   ]
  },
  {
   "cell_type": "markdown",
   "id": "9bdacafc-a95c-4201-93b8-733d3a77e52a",
   "metadata": {},
   "source": [
    "## find distances between mlst profiles"
   ]
  },
  {
   "cell_type": "code",
   "execution_count": 21,
   "id": "68e8b4de-4e52-4aae-8fe4-80eba13d3abf",
   "metadata": {},
   "outputs": [
    {
     "data": {
      "text/plain": [
       "2"
      ]
     },
     "execution_count": 21,
     "metadata": {},
     "output_type": "execute_result"
    }
   ],
   "source": [
    "def diff_profiles(s1, s2):\n",
    "    #print (list(zip(list(s1), list(s2))))\n",
    "    return sum(1 for a, b in zip(list(s1), list(s2)) if a != b)\n",
    "\n",
    "diff_profiles('AAABBBB','AAABBCC')"
   ]
  },
  {
   "cell_type": "code",
   "execution_count": 19,
   "id": "660e437c-92aa-4809-a244-e5fdc2927870",
   "metadata": {},
   "outputs": [],
   "source": [
    "def dist_matrix(profiles):\n",
    "    \"\"\"Distance matrix of a set of profiles\"\"\"\n",
    "    \n",
    "    dist=[]\n",
    "    for s in profiles:\n",
    "        x=profiles[s]\n",
    "        row=[]\n",
    "        for s in profiles:\n",
    "            d = diff_profiles(x,profiles[s])\n",
    "            row.append(d)\n",
    "        dist.append(row)\n",
    "    D = pd.DataFrame(dist,columns=profiles.keys(),index=profiles.keys())\n",
    "    return D"
   ]
  },
  {
   "cell_type": "code",
   "execution_count": 23,
   "id": "5743d878-a7a9-43a2-b926-4b788ac2e8b9",
   "metadata": {},
   "outputs": [],
   "source": [
    "def tree_from_distmatrix(D, treefile):\n",
    "    \n",
    "    from skbio import DistanceMatrix\n",
    "    from skbio.tree import nj\n",
    "    ids = list(D.index)\n",
    "    dm = DistanceMatrix(D.values, ids)\n",
    "    tree = nj(dm)\n",
    "    #print(tree.ascii_art())\n",
    "    tree.write(treefile, 'newick')\n",
    "    return tree"
   ]
  },
  {
   "cell_type": "code",
   "execution_count": null,
   "id": "09d0f523-b5eb-4fc2-af3e-95b499d153e4",
   "metadata": {},
   "outputs": [],
   "source": [
    "import random\n",
    "test = {'A':'1112233','B':'1112213','C':'2111213','D':'2111232','E':'212211','F':'2111222'}\n",
    "\n",
    "d = dist_matrix(test)\n",
    "tree_from_distmatrix(d)\n",
    "tre = toytree.tree(treefile)\n",
    "canvas,t,r=tre.draw(layout='r',scalebar=True,width=500)\n",
    "sns.clustermap(d,figsize=(5,5))"
   ]
  },
  {
   "cell_type": "code",
   "execution_count": 44,
   "id": "3165e7d3-a5b3-4065-a27b-98745581292e",
   "metadata": {},
   "outputs": [
    {
     "data": {
      "text/html": [
       "<div class=\"toyplot\" id=\"tda4735a7b4b848ff8a23f20a21c03a63\" style=\"text-align:center\"><svg class=\"toyplot-canvas-Canvas\" xmlns:toyplot=\"http://www.sandia.gov/toyplot\" xmlns:xlink=\"http://www.w3.org/1999/xlink\" xmlns=\"http://www.w3.org/2000/svg\" width=\"500.0px\" height=\"400.0px\" viewBox=\"0 0 500.0 400.0\" preserveAspectRatio=\"xMidYMid meet\" style=\"background-color:transparent;border-color:#292724;border-style:none;border-width:1.0;fill:rgb(16.1%,15.3%,14.1%);fill-opacity:1.0;font-family:Helvetica;font-size:12px;opacity:1.0;stroke:rgb(16.1%,15.3%,14.1%);stroke-opacity:1.0;stroke-width:1.0\" id=\"t0d261a67c28c4d3ca88bd16fed58c0b0\"><g class=\"toyplot-coordinates-Cartesian\" id=\"t8b8a47d5cced42f6832588278b97602f\"><clipPath id=\"t6c1b1d2fae654771b3a6b9025bc75b8a\"><rect x=\"30.0\" y=\"30.0\" width=\"440.0\" height=\"340.0\"></rect></clipPath><g clip-path=\"url(#t6c1b1d2fae654771b3a6b9025bc75b8a)\"><g class=\"toytree-mark-Toytree\" id=\"t2cb1951fc62f47c093c725f4a1772089\"><g class=\"toytree-Edges\" style=\"fill:none;stroke:rgb(14.9%,14.9%,14.9%);stroke-linecap:round;stroke-opacity:1;stroke-width:2\"><path d=\"M 51.6 93.1 L 51.6 124.6 L 130.6 124.6\" id=\"26,25\"></path><path d=\"M 130.6 124.6 L 130.6 93.6 L 197.6 93.6\" id=\"25,24\"></path><path d=\"M 130.6 124.6 L 130.6 155.7 L 198.3 155.7\" id=\"25,23\"></path><path d=\"M 198.3 155.7 L 198.3 185.9 L 203.5 185.9\" id=\"23,22\"></path><path d=\"M 203.5 185.9 L 203.5 157.4 L 206.0 157.4\" id=\"22,21\"></path><path d=\"M 203.5 185.9 L 203.5 214.3 L 213.2 214.3\" id=\"22,20\"></path><path d=\"M 213.2 214.3 L 213.2 239.3 L 226.8 239.3\" id=\"20,19\"></path><path d=\"M 226.8 239.3 L 226.8 267.9 L 263.3 267.9\" id=\"19,18\"></path><path d=\"M 263.3 267.9 L 263.3 242.6 L 280.9 242.6\" id=\"18,17\"></path><path d=\"M 263.3 267.9 L 263.3 293.1 L 271.3 293.1\" id=\"18,16\"></path><path d=\"M 271.3 293.1 L 271.3 311.8 L 314.9 311.8\" id=\"16,15\"></path><path d=\"M 314.9 311.8 L 314.9 327.7 L 340.8 327.7\" id=\"15,14\"></path><path d=\"M 51.6 93.1 L 51.6 61.6 L 130.6 61.6\" id=\"26,13\"></path><path d=\"M 197.6 93.6 L 197.6 82.9 L 279.4 82.9\" id=\"24,12\"></path><path d=\"M 197.6 93.6 L 197.6 104.2 L 320.4 104.2\" id=\"24,11\"></path><path d=\"M 198.3 155.7 L 198.3 125.5 L 273.9 125.5\" id=\"23,10\"></path><path d=\"M 206.0 157.4 L 206.0 146.8 L 285.6 146.8\" id=\"21,9\"></path><path d=\"M 206.0 157.4 L 206.0 168.1 L 228.7 168.1\" id=\"21,8\"></path><path d=\"M 213.2 214.3 L 213.2 189.4 L 322.4 189.4\" id=\"20,7\"></path><path d=\"M 226.8 239.3 L 226.8 210.6 L 315.6 210.6\" id=\"19,6\"></path><path d=\"M 280.9 242.6 L 280.9 231.9 L 329.5 231.9\" id=\"17,5\"></path><path d=\"M 280.9 242.6 L 280.9 253.2 L 355.0 253.2\" id=\"17,4\"></path><path d=\"M 271.3 293.1 L 271.3 274.5 L 370.8 274.5\" id=\"16,3\"></path><path d=\"M 314.9 311.8 L 314.9 295.8 L 350.5 295.8\" id=\"15,2\"></path><path d=\"M 340.8 327.7 L 340.8 317.1 L 341.3 317.1\" id=\"14,1\"></path><path d=\"M 340.8 327.7 L 340.8 338.4 L 360.7 338.4\" id=\"14,0\"></path></g><g class=\"toytree-TipLabels\" style=\"fill:rgb(14.9%,14.9%,14.9%);fill-opacity:1.0;font-family:helvetica;font-size:11px;font-weight:normal;stroke:none;white-space:pre\"><g transform=\"translate(360.75,338.38)rotate(0)\"><text x=\"15.00\" y=\"2.81\" style=\"\">35-MBovis</text></g><g transform=\"translate(341.31,317.09)rotate(0)\"><text x=\"15.00\" y=\"2.81\" style=\"\">49-MBovis</text></g><g transform=\"translate(350.46,295.80)rotate(0)\"><text x=\"15.00\" y=\"2.81\" style=\"\">54-MBovis</text></g><g transform=\"translate(370.84,274.51)rotate(0)\"><text x=\"15.00\" y=\"2.81\" style=\"\">38-MBovis</text></g><g transform=\"translate(355.04,253.22)rotate(0)\"><text x=\"15.00\" y=\"2.81\" style=\"\">27-MBovis</text></g><g transform=\"translate(329.46,231.93)rotate(0)\"><text x=\"15.00\" y=\"2.81\" style=\"\">25-MBovis</text></g><g transform=\"translate(315.59,210.64)rotate(0)\"><text x=\"15.00\" y=\"2.81\" style=\"\">47-MBovis</text></g><g transform=\"translate(322.45,189.36)rotate(0)\"><text x=\"15.00\" y=\"2.81\" style=\"\">48-MBovis</text></g><g transform=\"translate(228.66,168.07)rotate(0)\"><text x=\"15.00\" y=\"2.81\" style=\"\">14-MBovis</text></g><g transform=\"translate(285.56,146.78)rotate(0)\"><text x=\"15.00\" y=\"2.81\" style=\"\">23-MBovis</text></g><g transform=\"translate(273.87,125.49)rotate(0)\"><text x=\"15.00\" y=\"2.81\" style=\"\">41-MBovis</text></g><g transform=\"translate(320.37,104.20)rotate(0)\"><text x=\"15.00\" y=\"2.81\" style=\"\">24-MBovis</text></g><g transform=\"translate(279.45,82.91)rotate(0)\"><text x=\"15.00\" y=\"2.81\" style=\"\">36-MBovis</text></g><g transform=\"translate(130.65,61.62)rotate(0)\"><text x=\"15.00\" y=\"2.81\" style=\"\">43-MBovis</text></g></g></g></g><g class=\"toyplot-coordinates-Axis\" id=\"te378a41a4cc241a4868ca803eb53f202\" transform=\"translate(50.0,350.0)translate(0,20.0)\"><line x1=\"1.5962233355879725\" y1=\"0\" x2=\"320.84089045318774\" y2=\"0\" style=\"\"></line><g><line x1=\"320.84089045318774\" y1=\"0\" x2=\"320.84089045318774\" y2=\"-5\" style=\"\"></line><line x1=\"241.0297236737878\" y1=\"0\" x2=\"241.0297236737878\" y2=\"-5\" style=\"\"></line><line x1=\"161.21855689438786\" y1=\"0\" x2=\"161.21855689438786\" y2=\"-5\" style=\"\"></line><line x1=\"81.40739011498795\" y1=\"0\" x2=\"81.40739011498795\" y2=\"-5\" style=\"\"></line><line x1=\"1.5962233355880089\" y1=\"0\" x2=\"1.5962233355880089\" y2=\"-5\" style=\"\"></line></g><g><g transform=\"translate(320.84089045318774,6)\"><text x=\"-2.78\" y=\"8.555\" style=\"fill:rgb(16.1%,15.3%,14.1%);fill-opacity:1.0;font-family:helvetica;font-size:10.0px;font-weight:normal;stroke:none;vertical-align:baseline;white-space:pre\">0</text></g><g transform=\"translate(241.0297236737878,6)\"><text x=\"-2.78\" y=\"8.555\" style=\"fill:rgb(16.1%,15.3%,14.1%);fill-opacity:1.0;font-family:helvetica;font-size:10.0px;font-weight:normal;stroke:none;vertical-align:baseline;white-space:pre\">4</text></g><g transform=\"translate(161.21855689438786,6)\"><text x=\"-2.78\" y=\"8.555\" style=\"fill:rgb(16.1%,15.3%,14.1%);fill-opacity:1.0;font-family:helvetica;font-size:10.0px;font-weight:normal;stroke:none;vertical-align:baseline;white-space:pre\">8</text></g><g transform=\"translate(81.40739011498795,6)\"><text x=\"-5.56\" y=\"8.555\" style=\"fill:rgb(16.1%,15.3%,14.1%);fill-opacity:1.0;font-family:helvetica;font-size:10.0px;font-weight:normal;stroke:none;vertical-align:baseline;white-space:pre\">12</text></g><g transform=\"translate(1.5962233355880089,6)\"><text x=\"-5.56\" y=\"8.555\" style=\"fill:rgb(16.1%,15.3%,14.1%);fill-opacity:1.0;font-family:helvetica;font-size:10.0px;font-weight:normal;stroke:none;vertical-align:baseline;white-space:pre\">16</text></g></g><g class=\"toyplot-coordinates-Axis-coordinates\" style=\"visibility:hidden\" transform=\"\"><line x1=\"0\" x2=\"0\" y1=\"-3.0\" y2=\"4.5\" style=\"stroke:rgb(43.9%,50.2%,56.5%);stroke-opacity:1.0;stroke-width:1.0\"></line><text x=\"0\" y=\"-6\" style=\"alignment-baseline:alphabetic;fill:rgb(43.9%,50.2%,56.5%);fill-opacity:1.0;font-size:10px;font-weight:normal;stroke:none;text-anchor:middle\"></text></g></g></g></svg><div class=\"toyplot-behavior\"><script>(function()\n",
       "{\n",
       "var modules={};\n",
       "modules[\"toyplot/canvas/id\"] = \"t0d261a67c28c4d3ca88bd16fed58c0b0\";\n",
       "modules[\"toyplot/canvas\"] = (function(canvas_id)\n",
       "    {\n",
       "        return document.querySelector(\"#\" + canvas_id);\n",
       "    })(modules[\"toyplot/canvas/id\"]);\n",
       "modules[\"toyplot.coordinates.Axis\"] = (\n",
       "        function(canvas)\n",
       "        {\n",
       "            function sign(x)\n",
       "            {\n",
       "                return x < 0 ? -1 : x > 0 ? 1 : 0;\n",
       "            }\n",
       "\n",
       "            function mix(a, b, amount)\n",
       "            {\n",
       "                return ((1.0 - amount) * a) + (amount * b);\n",
       "            }\n",
       "\n",
       "            function log(x, base)\n",
       "            {\n",
       "                return Math.log(Math.abs(x)) / Math.log(base);\n",
       "            }\n",
       "\n",
       "            function in_range(a, x, b)\n",
       "            {\n",
       "                var left = Math.min(a, b);\n",
       "                var right = Math.max(a, b);\n",
       "                return left <= x && x <= right;\n",
       "            }\n",
       "\n",
       "            function inside(range, projection)\n",
       "            {\n",
       "                for(var i = 0; i != projection.length; ++i)\n",
       "                {\n",
       "                    var segment = projection[i];\n",
       "                    if(in_range(segment.range.min, range, segment.range.max))\n",
       "                        return true;\n",
       "                }\n",
       "                return false;\n",
       "            }\n",
       "\n",
       "            function to_domain(range, projection)\n",
       "            {\n",
       "                for(var i = 0; i != projection.length; ++i)\n",
       "                {\n",
       "                    var segment = projection[i];\n",
       "                    if(in_range(segment.range.bounds.min, range, segment.range.bounds.max))\n",
       "                    {\n",
       "                        if(segment.scale == \"linear\")\n",
       "                        {\n",
       "                            var amount = (range - segment.range.min) / (segment.range.max - segment.range.min);\n",
       "                            return mix(segment.domain.min, segment.domain.max, amount)\n",
       "                        }\n",
       "                        else if(segment.scale[0] == \"log\")\n",
       "                        {\n",
       "                            var amount = (range - segment.range.min) / (segment.range.max - segment.range.min);\n",
       "                            var base = segment.scale[1];\n",
       "                            return sign(segment.domain.min) * Math.pow(base, mix(log(segment.domain.min, base), log(segment.domain.max, base), amount));\n",
       "                        }\n",
       "                    }\n",
       "                }\n",
       "            }\n",
       "\n",
       "            var axes = {};\n",
       "\n",
       "            function display_coordinates(e)\n",
       "            {\n",
       "                var current = canvas.createSVGPoint();\n",
       "                current.x = e.clientX;\n",
       "                current.y = e.clientY;\n",
       "\n",
       "                for(var axis_id in axes)\n",
       "                {\n",
       "                    var axis = document.querySelector(\"#\" + axis_id);\n",
       "                    var coordinates = axis.querySelector(\".toyplot-coordinates-Axis-coordinates\");\n",
       "                    if(coordinates)\n",
       "                    {\n",
       "                        var projection = axes[axis_id];\n",
       "                        var local = current.matrixTransform(axis.getScreenCTM().inverse());\n",
       "                        if(inside(local.x, projection))\n",
       "                        {\n",
       "                            var domain = to_domain(local.x, projection);\n",
       "                            coordinates.style.visibility = \"visible\";\n",
       "                            coordinates.setAttribute(\"transform\", \"translate(\" + local.x + \")\");\n",
       "                            var text = coordinates.querySelector(\"text\");\n",
       "                            text.textContent = domain.toFixed(2);\n",
       "                        }\n",
       "                        else\n",
       "                        {\n",
       "                            coordinates.style.visibility= \"hidden\";\n",
       "                        }\n",
       "                    }\n",
       "                }\n",
       "            }\n",
       "\n",
       "            canvas.addEventListener(\"click\", display_coordinates);\n",
       "\n",
       "            var module = {};\n",
       "            module.show_coordinates = function(axis_id, projection)\n",
       "            {\n",
       "                axes[axis_id] = projection;\n",
       "            }\n",
       "\n",
       "            return module;\n",
       "        })(modules[\"toyplot/canvas\"]);\n",
       "(function(axis, axis_id, projection)\n",
       "        {\n",
       "            axis.show_coordinates(axis_id, projection);\n",
       "        })(modules[\"toyplot.coordinates.Axis\"],\"te378a41a4cc241a4868ca803eb53f202\",[{\"domain\": {\"bounds\": {\"max\": Infinity, \"min\": -Infinity}, \"max\": 3.8689489368337506, \"min\": -15.681290872499998}, \"range\": {\"bounds\": {\"max\": Infinity, \"min\": -Infinity}, \"max\": 400.0, \"min\": 0.0}, \"scale\": \"linear\"}]);\n",
       "})();</script></div></div>"
      ]
     },
     "metadata": {},
     "output_type": "display_data"
    }
   ],
   "source": [
    "D = dist_matrix(profs)\n",
    "D.to_csv('dist_mlst.csv',index=False)\n",
    "#sns.clustermap(D,xticklabels=True,yticklabels=True,figsize=(6,6))\n",
    "treefile='temp.newick'\n",
    "tree_from_distmatrix(D, treefile)\n",
    "tre = toytree.tree(treefile)\n",
    "tre=tre.root('43-MBovis')\n",
    "canvas,t,r=tre.draw(layout='r',scalebar=True,height=400,width=500)\n",
    "import toyplot.png\n",
    "#toyplot.png.render(canvas, \"mlst-tree.png\")"
   ]
  },
  {
   "cell_type": "code",
   "execution_count": 43,
   "id": "ea9b1f21-c3b7-46f0-93f4-4e3bc503c246",
   "metadata": {},
   "outputs": [
    {
     "data": {
      "text/html": [
       "<div class=\"toyplot\" id=\"tc9ec798ab33647748239a6223fd6913b\" style=\"text-align:center\"><svg class=\"toyplot-canvas-Canvas\" xmlns:toyplot=\"http://www.sandia.gov/toyplot\" xmlns:xlink=\"http://www.w3.org/1999/xlink\" xmlns=\"http://www.w3.org/2000/svg\" width=\"500.0px\" height=\"400.0px\" viewBox=\"0 0 500.0 400.0\" preserveAspectRatio=\"xMidYMid meet\" style=\"background-color:transparent;border-color:#292724;border-style:none;border-width:1.0;fill:rgb(16.1%,15.3%,14.1%);fill-opacity:1.0;font-family:Helvetica;font-size:12px;opacity:1.0;stroke:rgb(16.1%,15.3%,14.1%);stroke-opacity:1.0;stroke-width:1.0\" id=\"t0b5d206e71854a7d99adbf771696500c\"><g class=\"toyplot-coordinates-Cartesian\" id=\"t6f028a5580744071ad84df00b76e5756\"><clipPath id=\"t759b21db136445548298c42d3da79045\"><rect x=\"30.0\" y=\"30.0\" width=\"440.0\" height=\"340.0\"></rect></clipPath><g clip-path=\"url(#t759b21db136445548298c42d3da79045)\"><g class=\"toytree-mark-Toytree\" id=\"tc860d0400a814f67a6966dd7f3c41048\"><g class=\"toytree-Edges\" style=\"fill:none;stroke:rgb(14.9%,14.9%,14.9%);stroke-linecap:round;stroke-opacity:1;stroke-width:2\"><path d=\"M 51.6 93.1 L 51.6 124.6 L 51.6 124.6\" id=\"26,25\"></path><path d=\"M 51.6 124.6 L 51.6 93.6 L 131.4 93.6\" id=\"25,24\"></path><path d=\"M 51.6 124.6 L 51.6 155.7 L 211.2 155.7\" id=\"25,23\"></path><path d=\"M 211.2 155.7 L 211.2 185.9 L 211.2 185.9\" id=\"23,22\"></path><path d=\"M 211.2 185.9 L 211.2 157.4 L 211.2 157.4\" id=\"22,21\"></path><path d=\"M 211.2 185.9 L 211.2 214.3 L 211.2 214.3\" id=\"22,20\"></path><path d=\"M 211.2 214.3 L 211.2 239.3 L 211.3 239.3\" id=\"20,19\"></path><path d=\"M 211.3 239.3 L 211.3 267.9 L 211.3 267.9\" id=\"19,18\"></path><path d=\"M 211.3 267.9 L 211.3 242.6 L 264.3 242.6\" id=\"18,17\"></path><path d=\"M 211.3 267.9 L 211.3 293.1 L 264.3 293.1\" id=\"18,16\"></path><path d=\"M 264.3 293.1 L 264.3 311.8 L 317.5 311.8\" id=\"16,15\"></path><path d=\"M 317.5 311.8 L 317.5 327.7 L 317.6 327.7\" id=\"15,14\"></path><path d=\"M 51.6 93.1 L 51.6 61.6 L 291.6 61.6\" id=\"26,13\"></path><path d=\"M 131.4 93.6 L 131.4 82.9 L 265.0 82.9\" id=\"24,12\"></path><path d=\"M 131.4 93.6 L 131.4 104.2 L 291.5 104.2\" id=\"24,11\"></path><path d=\"M 211.2 155.7 L 211.2 125.5 L 370.8 125.5\" id=\"23,10\"></path><path d=\"M 211.2 157.4 L 211.2 146.8 L 317.5 146.8\" id=\"21,9\"></path><path d=\"M 211.2 157.4 L 211.2 168.1 L 317.5 168.1\" id=\"21,8\"></path><path d=\"M 211.2 214.3 L 211.2 189.4 L 343.9 189.4\" id=\"20,7\"></path><path d=\"M 211.3 239.3 L 211.3 210.6 L 317.4 210.6\" id=\"19,6\"></path><path d=\"M 264.3 242.6 L 264.3 231.9 L 264.3 231.9\" id=\"17,5\"></path><path d=\"M 264.3 242.6 L 264.3 253.2 L 317.3 253.2\" id=\"17,4\"></path><path d=\"M 264.3 293.1 L 264.3 274.5 L 370.8 274.5\" id=\"16,3\"></path><path d=\"M 317.5 311.8 L 317.5 295.8 L 344.0 295.8\" id=\"15,2\"></path><path d=\"M 317.6 327.7 L 317.6 317.1 L 317.6 317.1\" id=\"14,1\"></path><path d=\"M 317.6 327.7 L 317.6 338.4 L 370.6 338.4\" id=\"14,0\"></path></g><g class=\"toytree-TipLabels\" style=\"fill:rgb(14.9%,14.9%,14.9%);fill-opacity:1.0;font-family:helvetica;font-size:11px;font-weight:normal;stroke:none;white-space:pre\"><g transform=\"translate(370.59,338.38)rotate(0)\"><text x=\"15.00\" y=\"2.81\" style=\"\">54-MBovis</text></g><g transform=\"translate(317.59,317.09)rotate(0)\"><text x=\"15.00\" y=\"2.81\" style=\"\">49-MBovis</text></g><g transform=\"translate(344.03,295.80)rotate(0)\"><text x=\"15.00\" y=\"2.81\" style=\"\">35-MBovis</text></g><g transform=\"translate(370.84,274.51)rotate(0)\"><text x=\"15.00\" y=\"2.81\" style=\"\">23-MBovis</text></g><g transform=\"translate(317.26,253.22)rotate(0)\"><text x=\"15.00\" y=\"2.81\" style=\"\">25-MBovis</text></g><g transform=\"translate(264.30,231.93)rotate(0)\"><text x=\"15.00\" y=\"2.81\" style=\"\">14-MBovis</text></g><g transform=\"translate(317.43,210.64)rotate(0)\"><text x=\"15.00\" y=\"2.81\" style=\"\">41-MBovis</text></g><g transform=\"translate(343.90,189.36)rotate(0)\"><text x=\"15.00\" y=\"2.81\" style=\"\">38-MBovis</text></g><g transform=\"translate(317.46,168.07)rotate(0)\"><text x=\"15.00\" y=\"2.81\" style=\"\">27-MBovis</text></g><g transform=\"translate(317.48,146.78)rotate(0)\"><text x=\"15.00\" y=\"2.81\" style=\"\">47-MBovis</text></g><g transform=\"translate(370.79,125.49)rotate(0)\"><text x=\"15.00\" y=\"2.81\" style=\"\">48-MBovis</text></g><g transform=\"translate(291.54,104.20)rotate(0)\"><text x=\"15.00\" y=\"2.81\" style=\"\">36-MBovis</text></g><g transform=\"translate(265.00,82.91)rotate(0)\"><text x=\"15.00\" y=\"2.81\" style=\"\">24-MBovis</text></g><g transform=\"translate(291.62,61.62)rotate(0)\"><text x=\"15.00\" y=\"2.81\" style=\"\">43-MBovis</text></g></g></g></g><g class=\"toyplot-coordinates-Axis\" id=\"t26c3c69d33fb4cab9aaecb8faeac191b\" transform=\"translate(50.0,350.0)translate(0,20.0)\"><line x1=\"1.5962233355879818\" y1=\"0\" x2=\"320.84089045318774\" y2=\"0\" style=\"\"></line><g><line x1=\"320.84089045318774\" y1=\"0\" x2=\"320.84089045318774\" y2=\"-5\" style=\"\"></line><line x1=\"241.02972367378777\" y1=\"0\" x2=\"241.02972367378777\" y2=\"-5\" style=\"\"></line><line x1=\"161.21855689438783\" y1=\"0\" x2=\"161.21855689438783\" y2=\"-5\" style=\"\"></line><line x1=\"81.40739011498792\" y1=\"0\" x2=\"81.40739011498792\" y2=\"-5\" style=\"\"></line><line x1=\"1.5962233355879818\" y1=\"0\" x2=\"1.5962233355879818\" y2=\"-5\" style=\"\"></line></g><g><g transform=\"translate(320.84089045318774,6)\"><text x=\"-12.51\" y=\"8.555\" style=\"fill:rgb(16.1%,15.3%,14.1%);fill-opacity:1.0;font-family:helvetica;font-size:10.0px;font-weight:normal;stroke:none;vertical-align:baseline;white-space:pre\">0.000</text></g><g transform=\"translate(241.02972367378777,6)\"><text x=\"-12.51\" y=\"8.555\" style=\"fill:rgb(16.1%,15.3%,14.1%);fill-opacity:1.0;font-family:helvetica;font-size:10.0px;font-weight:normal;stroke:none;vertical-align:baseline;white-space:pre\">0.003</text></g><g transform=\"translate(161.21855689438783,6)\"><text x=\"-12.51\" y=\"8.555\" style=\"fill:rgb(16.1%,15.3%,14.1%);fill-opacity:1.0;font-family:helvetica;font-size:10.0px;font-weight:normal;stroke:none;vertical-align:baseline;white-space:pre\">0.007</text></g><g transform=\"translate(81.40739011498792,6)\"><text x=\"-12.51\" y=\"8.555\" style=\"fill:rgb(16.1%,15.3%,14.1%);fill-opacity:1.0;font-family:helvetica;font-size:10.0px;font-weight:normal;stroke:none;vertical-align:baseline;white-space:pre\">0.010</text></g><g transform=\"translate(1.5962233355879818,6)\"><text x=\"-12.51\" y=\"8.555\" style=\"fill:rgb(16.1%,15.3%,14.1%);fill-opacity:1.0;font-family:helvetica;font-size:10.0px;font-weight:normal;stroke:none;vertical-align:baseline;white-space:pre\">0.013</text></g></g><g class=\"toyplot-coordinates-Axis-coordinates\" style=\"visibility:hidden\" transform=\"\"><line x1=\"0\" x2=\"0\" y1=\"-3.0\" y2=\"4.5\" style=\"stroke:rgb(43.9%,50.2%,56.5%);stroke-opacity:1.0;stroke-width:1.0\"></line><text x=\"0\" y=\"-6\" style=\"alignment-baseline:alphabetic;fill:rgb(43.9%,50.2%,56.5%);fill-opacity:1.0;font-size:10px;font-weight:normal;stroke:none;text-anchor:middle\"></text></g></g></g></svg><div class=\"toyplot-behavior\"><script>(function()\n",
       "{\n",
       "var modules={};\n",
       "modules[\"toyplot/canvas/id\"] = \"t0b5d206e71854a7d99adbf771696500c\";\n",
       "modules[\"toyplot/canvas\"] = (function(canvas_id)\n",
       "    {\n",
       "        return document.querySelector(\"#\" + canvas_id);\n",
       "    })(modules[\"toyplot/canvas/id\"]);\n",
       "modules[\"toyplot.coordinates.Axis\"] = (\n",
       "        function(canvas)\n",
       "        {\n",
       "            function sign(x)\n",
       "            {\n",
       "                return x < 0 ? -1 : x > 0 ? 1 : 0;\n",
       "            }\n",
       "\n",
       "            function mix(a, b, amount)\n",
       "            {\n",
       "                return ((1.0 - amount) * a) + (amount * b);\n",
       "            }\n",
       "\n",
       "            function log(x, base)\n",
       "            {\n",
       "                return Math.log(Math.abs(x)) / Math.log(base);\n",
       "            }\n",
       "\n",
       "            function in_range(a, x, b)\n",
       "            {\n",
       "                var left = Math.min(a, b);\n",
       "                var right = Math.max(a, b);\n",
       "                return left <= x && x <= right;\n",
       "            }\n",
       "\n",
       "            function inside(range, projection)\n",
       "            {\n",
       "                for(var i = 0; i != projection.length; ++i)\n",
       "                {\n",
       "                    var segment = projection[i];\n",
       "                    if(in_range(segment.range.min, range, segment.range.max))\n",
       "                        return true;\n",
       "                }\n",
       "                return false;\n",
       "            }\n",
       "\n",
       "            function to_domain(range, projection)\n",
       "            {\n",
       "                for(var i = 0; i != projection.length; ++i)\n",
       "                {\n",
       "                    var segment = projection[i];\n",
       "                    if(in_range(segment.range.bounds.min, range, segment.range.bounds.max))\n",
       "                    {\n",
       "                        if(segment.scale == \"linear\")\n",
       "                        {\n",
       "                            var amount = (range - segment.range.min) / (segment.range.max - segment.range.min);\n",
       "                            return mix(segment.domain.min, segment.domain.max, amount)\n",
       "                        }\n",
       "                        else if(segment.scale[0] == \"log\")\n",
       "                        {\n",
       "                            var amount = (range - segment.range.min) / (segment.range.max - segment.range.min);\n",
       "                            var base = segment.scale[1];\n",
       "                            return sign(segment.domain.min) * Math.pow(base, mix(log(segment.domain.min, base), log(segment.domain.max, base), amount));\n",
       "                        }\n",
       "                    }\n",
       "                }\n",
       "            }\n",
       "\n",
       "            var axes = {};\n",
       "\n",
       "            function display_coordinates(e)\n",
       "            {\n",
       "                var current = canvas.createSVGPoint();\n",
       "                current.x = e.clientX;\n",
       "                current.y = e.clientY;\n",
       "\n",
       "                for(var axis_id in axes)\n",
       "                {\n",
       "                    var axis = document.querySelector(\"#\" + axis_id);\n",
       "                    var coordinates = axis.querySelector(\".toyplot-coordinates-Axis-coordinates\");\n",
       "                    if(coordinates)\n",
       "                    {\n",
       "                        var projection = axes[axis_id];\n",
       "                        var local = current.matrixTransform(axis.getScreenCTM().inverse());\n",
       "                        if(inside(local.x, projection))\n",
       "                        {\n",
       "                            var domain = to_domain(local.x, projection);\n",
       "                            coordinates.style.visibility = \"visible\";\n",
       "                            coordinates.setAttribute(\"transform\", \"translate(\" + local.x + \")\");\n",
       "                            var text = coordinates.querySelector(\"text\");\n",
       "                            text.textContent = domain.toFixed(2);\n",
       "                        }\n",
       "                        else\n",
       "                        {\n",
       "                            coordinates.style.visibility= \"hidden\";\n",
       "                        }\n",
       "                    }\n",
       "                }\n",
       "            }\n",
       "\n",
       "            canvas.addEventListener(\"click\", display_coordinates);\n",
       "\n",
       "            var module = {};\n",
       "            module.show_coordinates = function(axis_id, projection)\n",
       "            {\n",
       "                axes[axis_id] = projection;\n",
       "            }\n",
       "\n",
       "            return module;\n",
       "        })(modules[\"toyplot/canvas\"]);\n",
       "(function(axis, axis_id, projection)\n",
       "        {\n",
       "            axis.show_coordinates(axis_id, projection);\n",
       "        })(modules[\"toyplot.coordinates.Axis\"],\"t26c3c69d33fb4cab9aaecb8faeac191b\",[{\"domain\": {\"bounds\": {\"max\": Infinity, \"min\": -Infinity}, \"max\": 0.0032318828668771384, \"min\": -0.013099189503086308}, \"range\": {\"bounds\": {\"max\": Infinity, \"min\": -Infinity}, \"max\": 400.0, \"min\": 0.0}, \"scale\": \"linear\"}]);\n",
       "})();</script></div></div>"
      ]
     },
     "metadata": {},
     "output_type": "display_data"
    }
   ],
   "source": [
    "tre2 = toytree.tree('/storage/btbgenie/wicklow_results/RAxML_bestTree.variants')\n",
    "#tre2 = toytree.tree('snps.newick')\n",
    "drop = list(set(tre2.get_tip_labels()) - set(tre.get_tip_labels()))\n",
    "tre2=tre2.drop_tips(drop)\n",
    "tre2=tre2.root('43-MBovis')\n",
    "canvas,t,r=tre2.draw(layout='r',scalebar=True,height=400,width=500)\n",
    "#toyplot.png.render(canvas, \"snp-tree.png\")"
   ]
  },
  {
   "cell_type": "code",
   "execution_count": 39,
   "id": "24e4e31b-87c0-4f89-a0e8-8de8e81ac12a",
   "metadata": {},
   "outputs": [],
   "source": [
    "import dendropy\n",
    "from dendropy.calculate import treecompare\n",
    "tns = dendropy.TaxonNamespace()\n",
    "tree1 = dendropy.Tree.get(path=treefile, schema='newick',taxon_namespace=tns)\n",
    "tree2 = dendropy.Tree.get(path='/storage/btbgenie/wicklow_results/RAxML_bestTree.variants', schema='newick',taxon_namespace=tns)\n",
    "core = pd.read_csv('/storage/btbgenie/wicklow_results/core.txt',sep=' ')\n",
    "p = len(core)\n",
    "tree=convert_branch_lengths(tree2, p)\n",
    "tree.write(path=\"snps.newick\",schema=\"newick\")"
   ]
  },
  {
   "cell_type": "code",
   "execution_count": 40,
   "id": "e759c544-f5e4-4b89-90c0-3edad69d0059",
   "metadata": {},
   "outputs": [
    {
     "name": "stdout",
     "output_type": "stream",
     "text": [
      "16.37713653314643\n"
     ]
    }
   ],
   "source": [
    "print(treecompare.euclidean_distance(tree1, tree2))"
   ]
  },
  {
   "cell_type": "markdown",
   "id": "d04212ed-5300-43f1-a9d1-f805d2bee14c",
   "metadata": {},
   "source": [
    "## convert branch lengths to snps"
   ]
  },
  {
   "cell_type": "code",
   "execution_count": 38,
   "id": "b54e1c67-db0d-4b17-b596-a84493f3bb8c",
   "metadata": {},
   "outputs": [],
   "source": [
    "def convert_branch_lengths(tree, n=1): \n",
    "    tree=dendropy.Tree(tree)\n",
    "    for edge in tree.postorder_edge_iter():\n",
    "        if edge.length is None:\n",
    "            edge.length = 0\n",
    "        else:\n",
    "            edge.length = float(edge.length)*n\n",
    "    newickstr=tree.as_string(schema='newick')\n",
    "    return tree\n"
   ]
  },
  {
   "cell_type": "markdown",
   "id": "0e9485ac-50a4-4e0f-a5fb-14062f54896c",
   "metadata": {},
   "source": [
    "## sensitivity analysis - SNPs vs MLST\n",
    "\n",
    "* artificial data?"
   ]
  },
  {
   "cell_type": "code",
   "execution_count": 90,
   "id": "b4ec1487-61bb-4744-8a53-96e43a7a3982",
   "metadata": {},
   "outputs": [],
   "source": [
    "#simulate snps in genome\n",
    "\n",
    "ref = SeqIO.read('Mbovis-AF212297.2.gb',format='gb')\n",
    "\n",
    "class BTree(object):\n",
    "    def __init__(self, name, seq):\n",
    "        self.left = None\n",
    "        self.right = None\n",
    "        self.seq = seq  \n",
    "        self.name= name\n",
    "\n",
    "def mutate(seq, n=100):\n",
    "    #create mutations\n",
    "    from Bio.Seq import MutableSeq\n",
    "    new = MutableSeq(seq)\n",
    "    pos = random.sample(range(len(seq)),k=n)\n",
    "    for i in pos:        \n",
    "        m = random.sample(['A','G','C','T'],1)[0]        \n",
    "        new[i] = m        \n",
    "        #print (i,seq[i],new[i])\n",
    "    return new, pos\n",
    "\n",
    "def sim_pop(ref):\n",
    "    #simulate related genomes - crude\n",
    "    \n",
    "    pop = BTree('ref', ref.seq)\n",
    "    \n",
    "    return\n",
    "\n",
    "#mutate(str(ref.seq))\n",
    "sim_pop(ref)\n"
   ]
  },
  {
   "cell_type": "code",
   "execution_count": null,
   "id": "ae4bd955-e6ca-4e8b-98ef-4f92b34c4442",
   "metadata": {},
   "outputs": [],
   "source": []
  }
 ],
 "metadata": {
  "kernelspec": {
   "display_name": "Python 3",
   "language": "python",
   "name": "python3"
  },
  "language_info": {
   "codemirror_mode": {
    "name": "ipython",
    "version": 3
   },
   "file_extension": ".py",
   "mimetype": "text/x-python",
   "name": "python",
   "nbconvert_exporter": "python",
   "pygments_lexer": "ipython3",
   "version": "3.8.6"
  }
 },
 "nbformat": 4,
 "nbformat_minor": 5
}
