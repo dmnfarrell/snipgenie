{
 "cells": [
  {
   "cell_type": "markdown",
   "id": "cd45f263-6b35-45cb-8a47-92c17c953375",
   "metadata": {},
   "source": [
    "## rush parallel - windows only"
   ]
  },
  {
   "cell_type": "code",
   "execution_count": 1,
   "id": "d65f5a1e-65a6-44af-bc8e-d3b3b0eeb616",
   "metadata": {},
   "outputs": [],
   "source": [
    "import sys,os,shutil,subprocess\n",
    "import glob,tempfile\n",
    "from importlib import reload\n",
    "import numpy as np\n",
    "import pandas as pd\n",
    "pd.set_option('display.width', 200)\n",
    "import pylab as plt\n",
    "import matplotlib as mpl\n",
    "sys.path.append('c:/Users/damien/projects/snipgenie/')\n",
    "from snipgenie import tools, aligners, app, trees, plotting"
   ]
  },
  {
   "cell_type": "code",
   "execution_count": 5,
   "id": "a19c5676-784b-4dad-95f9-3581642e0af9",
   "metadata": {},
   "outputs": [
    {
     "name": "stdout",
     "output_type": "stream",
     "text": [
      "The following options were supplied\n",
      "-------\n",
      "threads : 4\n",
      "outdir : E:/test_results\n",
      "labelsep : _\n",
      "input : ['E:/test_files']\n",
      "species : Mbovis-AF212297\n",
      "get_stats : False\n",
      "overwrite : True\n",
      "aligner : minimap2\n",
      "custom_filters : True\n",
      "buildtree : True\n",
      "labelindex : 0\n",
      "trim : False\n",
      "unmapped : False\n",
      "quality : 25\n",
      "platform : illumina\n",
      "filters : QUAL>=40 && FORMAT/DP>=30 && DP4>=4\n",
      "mask : None\n",
      "reference : None\n",
      "gb_file : None\n",
      "omit_samples : []\n",
      "bootstraps : 100\n",
      "\n",
      "4 samples were loaded:\n",
      "----------------------\n",
      "     sample                                          filename1                                          filename2                       name1                       name2  read_length\n",
      "0  13-11594  E:\\test_files\\13-11594_S85_L001-4_R1_001.fastq.gz  E:\\test_files\\13-11594_S85_L001-4_R2_001.fastq.gz  13-11594_S85_L001-4_R1_001  13-11594_S85_L001-4_R2_001          149\n",
      "1  15-11643  E:\\test_files\\15-11643_S67_L001-4_R1_001.fastq.gz  E:\\test_files\\15-11643_S67_L001-4_R2_001.fastq.gz  15-11643_S67_L001-4_R1_001  15-11643_S67_L001-4_R2_001          149\n",
      "2  17-11662  E:\\test_files\\17-11662_S11_L001-4_R1_001.fastq.gz  E:\\test_files\\17-11662_S11_L001-4_R2_001.fastq.gz  17-11662_S11_L001-4_R1_001  17-11662_S11_L001-4_R2_001          149\n",
      "3  19-11957  E:\\test_files\\19-11957_S38_L001-4_R1_001.fastq.gz  E:\\test_files\\19-11957_S38_L001-4_R2_001.fastq.gz  19-11957_S38_L001-4_R1_001  19-11957_S38_L001-4_R2_001          150\n",
      "\n",
      "building index\n",
      "aligning files\n",
      "--------------\n",
      "Using reference genome: C:\\Users\\damien\\.config\\snipgenie\\genome\\Mbovis_AF212297.fa\n",
      "4/4 samples already aligned\n",
      "C:\\Users\\damien\\.config\\snipgenie\\binaries\\minimap2.exe -t 4 -ax sr C:\\Users\\damien\\.config\\snipgenie\\genome\\Mbovis_AF212297.fa E:\\test_files\\13-11594_S85_L001-4_R1_001.fastq.gz E:\\test_files\\13-11594_S85_L001-4_R2_001.fastq.gz | C:\\Users\\damien\\.config\\snipgenie\\binaries\\samtools.exe view -F 0x04 -bt - | C:\\Users\\damien\\.config\\snipgenie\\binaries\\samtools.exe sort -o E:/test_results\\mapped\\13-11594.bam\n",
      "aligning 13-11594\n",
      "C:\\Users\\damien\\.config\\snipgenie\\binaries\\samtools.exe index E:/test_results\\mapped\\13-11594.bam\n",
      "C:\\Users\\damien\\.config\\snipgenie\\binaries\\minimap2.exe -t 4 -ax sr C:\\Users\\damien\\.config\\snipgenie\\genome\\Mbovis_AF212297.fa E:\\test_files\\15-11643_S67_L001-4_R1_001.fastq.gz E:\\test_files\\15-11643_S67_L001-4_R2_001.fastq.gz | C:\\Users\\damien\\.config\\snipgenie\\binaries\\samtools.exe view -F 0x04 -bt - | C:\\Users\\damien\\.config\\snipgenie\\binaries\\samtools.exe sort -o E:/test_results\\mapped\\15-11643.bam\n",
      "aligning 15-11643\n",
      "C:\\Users\\damien\\.config\\snipgenie\\binaries\\samtools.exe index E:/test_results\\mapped\\15-11643.bam\n",
      "C:\\Users\\damien\\.config\\snipgenie\\binaries\\minimap2.exe -t 4 -ax sr C:\\Users\\damien\\.config\\snipgenie\\genome\\Mbovis_AF212297.fa E:\\test_files\\17-11662_S11_L001-4_R1_001.fastq.gz E:\\test_files\\17-11662_S11_L001-4_R2_001.fastq.gz | C:\\Users\\damien\\.config\\snipgenie\\binaries\\samtools.exe view -F 0x04 -bt - | C:\\Users\\damien\\.config\\snipgenie\\binaries\\samtools.exe sort -o E:/test_results\\mapped\\17-11662.bam\n",
      "aligning 17-11662\n",
      "C:\\Users\\damien\\.config\\snipgenie\\binaries\\samtools.exe index E:/test_results\\mapped\\17-11662.bam\n",
      "C:\\Users\\damien\\.config\\snipgenie\\binaries\\minimap2.exe -t 4 -ax sr C:\\Users\\damien\\.config\\snipgenie\\genome\\Mbovis_AF212297.fa E:\\test_files\\19-11957_S38_L001-4_R1_001.fastq.gz E:\\test_files\\19-11957_S38_L001-4_R2_001.fastq.gz | C:\\Users\\damien\\.config\\snipgenie\\binaries\\samtools.exe view -F 0x04 -bt - | C:\\Users\\damien\\.config\\snipgenie\\binaries\\samtools.exe sort -o E:/test_results\\mapped\\19-11957.bam\n",
      "aligning 19-11957\n",
      "C:\\Users\\damien\\.config\\snipgenie\\binaries\\samtools.exe index E:/test_results\\mapped\\19-11957.bam\n",
      "\n",
      "calling variants\n",
      "----------------\n",
      "running mpileup..\n",
      "[      1 1087476 2174952 3262428 4349904]\n",
      "echo \"LT708304.1\":1-1087475 \"LT708304.1\":1087476-2174951 \"LT708304.1\":2174952-3262427 \"LT708304.1\":3262428-4349903 | C:\\Users\\damien\\.config\\snipgenie\\binaries\\rush.exe -D \" \" \"C:\\Users\\damien\\.config\\snipgenie\\binaries\\bcftools.exe mpileup -r {} -f C:\\Users\\damien\\.config\\snipgenie\\genome\\Mbovis_AF212297.fa -a \"AD,ADF,ADR,DP,SP,INFO/AD,INFO/ADF,INFO/ADR\" --min-MQ 60 E:\\test_results\\mapped\\13-11594.bam E:\\test_results\\mapped\\15-11643.bam E:\\test_results\\mapped\\17-11662.bam E:\\test_results\\mapped\\19-11957.bam -o E:/test_results\\tmp/{@[^:]*$}.bcf\"\n",
      "C:\\Users\\damien\\.config\\snipgenie\\binaries\\bcftools.exe concat E:/test_results\\tmp\\1-1087475.bcf E:/test_results\\tmp\\1087476-2174951.bcf E:/test_results\\tmp\\2174952-3262427.bcf E:/test_results\\tmp\\3262428-4349903.bcf -O b -o E:/test_results\\raw.bcf\n",
      "calling variants..\n",
      "C:\\Users\\damien\\.config\\snipgenie\\binaries\\bcftools.exe call --ploidy 1 -m -v -o E:/test_results\\calls.vcf E:/test_results\\raw.bcf\n",
      "C:\\Users\\damien\\.config\\snipgenie\\binaries\\bcftools.exe reheader --samples E:/test_results\\samples.txt -o C:\\Users\\damien\\AppData\\Local\\Temp\\calls.vcf E:/test_results\\calls.vcf\n",
      "C:\\Users\\damien\\.config\\snipgenie\\binaries\\bcftools.exe filter -i \"QUAL>=40 && FORMAT/DP>=30 && DP4>=4\" -o E:/test_results\\filtered.vcf.gz -O z E:/test_results\\calls.vcf\n",
      "splitting snps and indels..\n",
      "C:\\Users\\damien\\.config\\snipgenie\\binaries\\bcftools.exe view -v snps -o E:/test_results\\snps.vcf.gz -O z E:/test_results\\filtered.vcf.gz\n",
      "C:\\Users\\damien\\.config\\snipgenie\\binaries\\bcftools.exe view -v indels -o E:/test_results\\indels.vcf.gz -O z E:/test_results\\filtered.vcf.gz\n",
      "using mask bed file c:\\Users\\damien\\projects\\snipgenie\\snipgenie\\data\\Mbovis_AF212297_mask.bed\n",
      "172 sites\n",
      "found 3 sites in masked regions\n",
      "C:\\Users\\damien\\.config\\snipgenie\\binaries\\bcftools.exe view E:/test_results\\temp.vcf -O z -o E:/test_results\\snps.vcf.gz\n",
      "proximity filter removed 0/169 sites\n",
      "C:\\Users\\damien\\.config\\snipgenie\\binaries\\bcftools.exe view E:/test_results\\temp.vcf -O z -o E:/test_results\\snps.vcf.gz\n",
      "consequence calling..\n",
      "C:\\Users\\damien\\.config\\snipgenie\\binaries\\bcftools.exe csq -f C:\\Users\\damien\\.config\\snipgenie\\genome\\Mbovis_AF212297.fa -g E:/test_results\\Mbovis_AF212297.gb.gff E:/test_results\\snps.vcf.gz -Ot -o E:/test_results\\csq.tsv\n",
      "C:\\Users\\damien\\.config\\snipgenie\\binaries\\bcftools.exe csq -f C:\\Users\\damien\\.config\\snipgenie\\genome\\Mbovis_AF212297.fa -g E:/test_results\\Mbovis_AF212297.gb.gff E:/test_results\\indels.vcf.gz -Ot -o E:/test_results\\csq_indels.tsv\n",
      "took 152.0 seconds\n",
      "E:/test_results\\snps.vcf.gz\n",
      "\n",
      "making SNP matrix\n",
      "-----------------\n",
      "used 21 sites for core snps\n",
      "0 sites with at least one missing sample\n",
      "148 uninformative sites\n",
      "\n",
      "Done. Sample summary:\n",
      "---------------------\n",
      "     sample                       name1                       name2  read_length                             bam_file\n",
      "0  13-11594  13-11594_S85_L001-4_R1_001  13-11594_S85_L001-4_R2_001          149  E:\\test_results\\mapped\\13-11594.bam\n",
      "1  15-11643  15-11643_S67_L001-4_R1_001  15-11643_S67_L001-4_R2_001          149  E:\\test_results\\mapped\\15-11643.bam\n",
      "2  17-11662  17-11662_S11_L001-4_R1_001  17-11662_S11_L001-4_R2_001          149  E:\\test_results\\mapped\\17-11662.bam\n",
      "3  19-11957  19-11957_S38_L001-4_R1_001  19-11957_S38_L001-4_R2_001          150  E:\\test_results\\mapped\\19-11957.bam\n",
      "\n",
      "building tree\n",
      "-------------\n",
      "C:\\Users\\damien\\.config\\snipgenie\\binaries\\RAxML.exe -f a -N 100 -T 4 -m GTRCAT -V -p 40568935 -x 45061913 -n variants -w E:\\test_results -s E:/test_results\\core.fa\n",
      "Error building tree. Is RAxML installed?\n"
     ]
    }
   ],
   "source": [
    "reload(app)\n",
    "reload(tools)\n",
    "args = {'threads':4, 'outdir': \"E:/test_results\", 'labelsep':'_',\n",
    "        'input':['E:/test_files'],        \n",
    "         'species': 'Mbovis-AF212297','get_stats':False,\n",
    "         'overwrite':True,\n",
    "         'aligner':'minimap2',\n",
    "         'custom_filters': True,\n",
    "         'buildtree':True}\n",
    "W = app.WorkFlow(**args)\n",
    "st = W.setup()\n",
    "W.run()"
   ]
  },
  {
   "cell_type": "code",
   "execution_count": null,
   "id": "ec82f550-ca99-4f9c-94fe-b19612125f2d",
   "metadata": {},
   "outputs": [],
   "source": [
    "trees.run_fasttree('E:/test_results/core.fa', bootstraps=100, outpath='E:/test_results/')"
   ]
  },
  {
   "cell_type": "code",
   "execution_count": 19,
   "id": "5e9aba02-e006-4cbb-aaf4-e5e7f4ecb21d",
   "metadata": {},
   "outputs": [
    {
     "name": "stdout",
     "output_type": "stream",
     "text": [
      "E:/test_results/mapped\\15-11643.bam E:/test_results/mapped\\13-11594.bam\n"
     ]
    }
   ],
   "source": [
    "bams=glob.glob('E:/test_results/mapped/*.bam')\n",
    "bam_files = ' '.join(bams[:2])\n",
    "print (bam_files)"
   ]
  },
  {
   "cell_type": "code",
   "execution_count": null,
   "id": "f95ba0bb-8088-4aa3-98ae-0ac58a8e477c",
   "metadata": {},
   "outputs": [
    {
     "data": {
      "text/plain": [
       "['1087-2174', '']"
      ]
     },
     "execution_count": 81,
     "metadata": {},
     "output_type": "execute_result"
    }
   ],
   "source": [
    "import re\n",
    "re.findall( '[^:]*$','\"LT708304.1\":1087-2174')"
   ]
  },
  {
   "cell_type": "code",
   "execution_count": 120,
   "id": "949b549a-fcbe-4aa3-b600-bdacc36d54be",
   "metadata": {},
   "outputs": [
    {
     "name": "stdout",
     "output_type": "stream",
     "text": [
      "echo \"LT708304.1\":1-1087 \"LT708304.1\":1087-2174 | C:\\Users\\damien\\.config\\snipgenie\\binaries\\rush.exe -D \" \" \"C:\\Users\\damien\\.config\\snipgenie\\binaries\\bcftools.exe mpileup -r {} -f C:\\Users\\damien\\.config\\snipgenie\\genome\\Mbovis_AF212297.fa -a \"AD,ADF,ADR,DP,SP,INFO/AD,INFO/ADF,INFO/ADR\" --min-MQ 60 E:/test_results/mapped\\15-11643.bam E:/test_results/mapped\\13-11594.bam -o C:\\Users\\damien\\AppData\\Local\\Temp/{@[^:]*$}.bcf\"\n"
     ]
    }
   ],
   "source": [
    "tempdir = tempfile.tempdir\n",
    "regstr = '\"LT708304.1\":1-1087 \"LT708304.1\":1087-2174'\n",
    "filesstr = \"1.bcf 2.bcf\"\n",
    "annotatestr = '\"AD,ADF,ADR,DP,SP,INFO/AD,INFO/ADF,INFO/ADR\"'\n",
    "outfiles = [r\"\\Users\\damien\\AppData\\Local\\Temp\\1-1087.bcf\",r\"C:\\Users\\damien\\AppData\\Local\\Temp\\1087-2174.bcf\"]\n",
    "rawbcf = 'raw.bcf'\n",
    "\n",
    "ref=  app.mbovis_genome\n",
    "rushcmd = tools.get_cmd('rush')\n",
    "bcftoolscmd = tools.get_cmd('bcftools')\n",
    "cmd = 'echo {reg} | {rc} -D \" \" \"{bc} mpileup -r {{}} -f {r} -a {a} --min-MQ 60 {b} -o {p}/{{@[^:]*$}}.bcf\"'\\\n",
    "        .format(rc=rushcmd,bc=bcftoolscmd,reg=regstr,r=ref,b=bam_files,a=annotatestr,p=tempdir)\n",
    "print (cmd)\n",
    "tmp=subprocess.check_output(cmd, shell=True)\n",
    "cmd = '{bc} concat {i} -O b -o {o}'.format(bc=bcftoolscmd,i=' '.join(outfiles),o=rawbcf)\n",
    "tmp=subprocess.check_output(cmd, shell=True)\n"
   ]
  },
  {
   "cell_type": "code",
   "execution_count": 129,
   "id": "19be42cc-dc13-4e7a-9ad1-60252a7c978e",
   "metadata": {},
   "outputs": [
    {
     "name": "stdout",
     "output_type": "stream",
     "text": [
      "['E:/test_results/mapped\\\\15-11643.bam', 'E:/test_results/mapped\\\\13-11594.bam', 'E:/test_results/mapped\\\\19-11957.bam', 'E:/test_results/mapped\\\\17-11662.bam']\n",
      "[      1 1087476 2174952 3262428 4349904]\n",
      "echo \"LT708304.1\":1-1087475 \"LT708304.1\":1087476-2174951 \"LT708304.1\":2174952-3262427 \"LT708304.1\":3262428-4349903 | C:\\Users\\damien\\.config\\snipgenie\\binaries\\rush.exe -D \" \" \"C:\\Users\\damien\\.config\\snipgenie\\binaries\\bcftools.exe mpileup -r {} -f C:\\Users\\damien\\.config\\snipgenie\\genome\\Mbovis_AF212297.fa -a \"AD,ADF,ADR,DP,SP,INFO/AD,INFO/ADF,INFO/ADR\" --min-MQ 60 E:/test_results/mapped\\15-11643.bam E:/test_results/mapped\\13-11594.bam E:/test_results/mapped\\19-11957.bam E:/test_results/mapped\\17-11662.bam -o C:\\Users\\damien\\AppData\\Local\\Temp/{@[^:]*$}.bcf\"\n",
      "C:\\Users\\damien\\.config\\snipgenie\\binaries\\bcftools.exe concat C:\\Users\\damien\\AppData\\Local\\Temp\\1-1087475.bcf C:\\Users\\damien\\AppData\\Local\\Temp\\1087476-2174951.bcf C:\\Users\\damien\\AppData\\Local\\Temp\\2174952-3262427.bcf C:\\Users\\damien\\AppData\\Local\\Temp\\3262428-4349903.bcf -O b -o .\\raw.bcf\n"
     ]
    },
    {
     "data": {
      "text/plain": [
       "'.\\\\raw.bcf'"
      ]
     },
     "execution_count": 129,
     "metadata": {},
     "output_type": "execute_result"
    }
   ],
   "source": [
    "reload(app)\n",
    "bams = app.get_files_from_paths('E:/test_results/mapped/','*.bam')\n",
    "print (bams)\n",
    "app.mpileup_parallel(bams, app.mbovis_genome, '.' )"
   ]
  },
  {
   "cell_type": "code",
   "execution_count": null,
   "id": "4a994ad1-821f-4f42-ba0b-d0af40c251e9",
   "metadata": {},
   "outputs": [],
   "source": []
  }
 ],
 "metadata": {
  "kernelspec": {
   "display_name": "Python 3 (ipykernel)",
   "language": "python",
   "name": "python3"
  },
  "language_info": {
   "codemirror_mode": {
    "name": "ipython",
    "version": 3
   },
   "file_extension": ".py",
   "mimetype": "text/x-python",
   "name": "python",
   "nbconvert_exporter": "python",
   "pygments_lexer": "ipython3",
   "version": "3.10.5"
  }
 },
 "nbformat": 4,
 "nbformat_minor": 5
}
