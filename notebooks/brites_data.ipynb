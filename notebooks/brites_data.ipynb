{
 "cells": [
  {
   "cell_type": "markdown",
   "id": "bf5ca2a6-8999-42f9-b1b1-3e1748b86517",
   "metadata": {},
   "source": [
    "# Global M. bovis lineages - get data\n",
    "\n",
    "* https://open-research-europe.ec.europa.eu/articles/1-100/v2"
   ]
  },
  {
   "cell_type": "code",
   "execution_count": 2,
   "id": "97af57d1-ca19-44cd-80a1-979cb48faa11",
   "metadata": {},
   "outputs": [],
   "source": [
    "import sys,os,shutil,subprocess\n",
    "import glob,random\n",
    "from importlib import reload\n",
    "import numpy as np\n",
    "import pandas as pd\n",
    "pd.set_option('display.width', 200)\n",
    "import pylab as plt\n",
    "import matplotlib as mpl\n",
    "from Bio import SeqIO"
   ]
  },
  {
   "cell_type": "code",
   "execution_count": 3,
   "id": "0c6ba67b-7c70-4860-8a72-02214dd5796f",
   "metadata": {},
   "outputs": [],
   "source": [
    "meta=pd.read_csv('brites_table1.csv')\n",
    "#meta.Country_Isolation.value_counts()"
   ]
  },
  {
   "cell_type": "code",
   "execution_count": 4,
   "id": "fa3cc039-e1b8-4d6a-951e-d040c98adefb",
   "metadata": {},
   "outputs": [],
   "source": [
    "meta=meta[meta.Country_Isolation!='Ireland']\n",
    "omit = ['ERR017796']"
   ]
  },
  {
   "cell_type": "markdown",
   "id": "5ca0cb69-3977-4bfc-a8ee-4638c0525ac6",
   "metadata": {},
   "source": [
    "## fetch data"
   ]
  },
  {
   "cell_type": "code",
   "execution_count": null,
   "id": "64a0b082-f6f0-4067-a920-8e591cc828eb",
   "metadata": {},
   "outputs": [],
   "source": [
    "for run in meta.Accession_Number:\n",
    "    f = glob.glob('/storage/btbgenie/brites/%s*.fastq*' %run)\n",
    "    if len(f)>0:\n",
    "        continue\n",
    "    cmd = 'fastq-dump --split-files -O /storage/btbgenie/brites %s' %run\n",
    "    print (run)\n",
    "    print (cmd)\n",
    "    try:\n",
    "        subprocess.check_output(cmd, shell=True)\n",
    "    except:\n",
    "        print ('failed')\n",
    "        continue\n",
    "    cmd = 'pigz /storage/btbgenie/brites/%s*.fastq' %run    \n",
    "    subprocess.check_output(cmd, shell=True)"
   ]
  },
  {
   "cell_type": "code",
   "execution_count": 6,
   "id": "41b46321-d3d7-4b55-ade4-4dd972c16110",
   "metadata": {},
   "outputs": [],
   "source": [
    "files = glob.glob('/storage/btbgenie/mbovis_sra/*.fastq*')\n",
    "for f in files:\n",
    "    name=os.path.splitext(os.path.basename(f))[0].split('_')[0]\n",
    "    #print (name)\n",
    "    if name not in list(meta.Accession_Number):\n",
    "        print (name,os.path.basename(f))\n",
    "        shutil.move(f,os.path.join('/storage/btbgenie/mbovis_sra_other',os.path.basename(f)))"
   ]
  },
  {
   "cell_type": "code",
   "execution_count": null,
   "id": "e759fdfc-06fb-4ad5-8d85-854c7e9c3f08",
   "metadata": {},
   "outputs": [],
   "source": []
  }
 ],
 "metadata": {
  "kernelspec": {
   "display_name": "Python 3",
   "language": "python",
   "name": "python3"
  },
  "language_info": {
   "codemirror_mode": {
    "name": "ipython",
    "version": 3
   },
   "file_extension": ".py",
   "mimetype": "text/x-python",
   "name": "python",
   "nbconvert_exporter": "python",
   "pygments_lexer": "ipython3",
   "version": "3.9.5"
  }
 },
 "nbformat": 4,
 "nbformat_minor": 5
}
