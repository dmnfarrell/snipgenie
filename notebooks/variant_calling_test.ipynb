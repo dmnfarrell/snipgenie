{
 "cells": [
  {
   "cell_type": "markdown",
   "id": "b24b3dce-67af-42ce-9c40-b78c8a906b20",
   "metadata": {},
   "source": [
    "# compare 2 methods of calling - concat vs individual"
   ]
  },
  {
   "cell_type": "code",
   "execution_count": 20,
   "id": "62f95d5b-cd1a-4b4f-a5c1-b11a3f783ab5",
   "metadata": {},
   "outputs": [],
   "source": [
    "import sys,os,shutil,subprocess\n",
    "import random\n",
    "import glob, time, platform\n",
    "import tempfile\n",
    "from importlib import reload\n",
    "import numpy as np\n",
    "import pandas as pd\n",
    "pd.set_option('display.width', 200)\n",
    "import pylab as plt\n",
    "import seaborn as sns\n",
    "from Bio import SeqIO, AlignIO\n",
    "from Bio.Seq import Seq\n",
    "from Bio.SeqRecord import SeqRecord\n",
    "from gzip import open as gzopen\n",
    "from tqdm.notebook import tqdm\n",
    "sys.path.append('snipgenie')\n",
    "from snipgenie import tools, aligners, app, tools, trees"
   ]
  },
  {
   "cell_type": "code",
   "execution_count": null,
   "id": "66c66ff7-1bdb-42c7-bc9e-6bccc59a2dc7",
   "metadata": {},
   "outputs": [],
   "source": [
    "reload(app)\n",
    "ref = app.sarscov2_genome\n",
    "args = {'threads':12, 'outdir': 'simdata/sim_results', 'labelsep':'.',\n",
    "        'input':'simdata/sim_fastq/',        \n",
    "        'reference': ref,\n",
    "        'overwrite':False,\n",
    "        'filters':'', \n",
    "        'custom_filters': False, 'get_stats':False}\n",
    "W = app.WorkFlow(**args)\n",
    "st = W.setup()\n",
    "W.run()"
   ]
  },
  {
   "cell_type": "code",
   "execution_count": 207,
   "id": "96c5206e-1d55-480f-a1b2-764e9ac89313",
   "metadata": {},
   "outputs": [],
   "source": [
    "samples = pd.read_csv('simdata/sim_results/samples.csv')"
   ]
  },
  {
   "cell_type": "code",
   "execution_count": 25,
   "id": "dbb80a11-99c1-403c-a492-b6c8a104b883",
   "metadata": {},
   "outputs": [],
   "source": [
    "def compare_results(c1, c2, sample=None):\n",
    "    \"\"\"\n",
    "    Compare two runs of snipgenie.\n",
    "    \"\"\"\n",
    "\n",
    "    x = c1[~c1.pos.isin(c2.pos)]\n",
    "    y = c2[~c2.pos.isin(c1.pos)]\n",
    "    print ('%s/%s sites not in second:' %(len(x),len(c1)))\n",
    "    print (x)\n",
    "    print ('-------------------------')\n",
    "    print ('%s/%s sites not in first:' %(len(y),len(c2)))\n",
    "    print (y)\n",
    "    return x,y"
   ]
  },
  {
   "cell_type": "code",
   "execution_count": 106,
   "id": "a92f74e8-36fa-4c27-b6bd-488aaf49a8b8",
   "metadata": {
    "jupyter": {
     "source_hidden": true
    },
    "tags": []
   },
   "outputs": [],
   "source": [
    "import multiprocessing as mp\n",
    "\n",
    "def worker(args):\n",
    "    mpileup(args[0], args[1])\n",
    "        \n",
    "def mpileup_multiprocess(bam_files, ref, outpath, threads=4, callback=None):\n",
    "    \"\"\"Run mpileup in parallel over multiple files and make separate bcfs.\n",
    "    Assumes alignment to a bacterial reference with a single chromosome.\"\"\"\n",
    "\n",
    "    bcftoolscmd = tools.get_cmd('bcftools')\n",
    "    #size = len(bam_files) \n",
    "    #pool = mp.Pool(threads)\n",
    "    outfiles = []\n",
    "    st = time.time()\n",
    "    bcfpath = os.path.join(outpath,'bcf')\n",
    "    if not os.path.exists(bcfpath):\n",
    "        os.mkdir(bcfpath)\n",
    "    for bam_file in bam_files:\n",
    "        name = os.path.splitext(os.path.basename(bam_file))[0]\n",
    "        out = '{o}/{f}.bcf'.format(o=bcfpath,f=name) \n",
    "        outfiles.append(out)\n",
    "   \n",
    "    data = list(zip(bam_files,outfiles))\n",
    "    #print (data)\n",
    "   \n",
    "    p = mp.Pool(threads)\n",
    "    p.map_async(worker, data)\n",
    "    p.close()\n",
    "    p.join()\n",
    "    \n",
    "    t=time.time()-st\n",
    "    print ('took %s seconds' %str(round(t,3)))\n",
    "    rawbcf = os.path.join(outpath,'raw.bcf')\n",
    "    bcf_files = ' '.join(outfiles)\n",
    "    cmd = '{bc} merge --threads {t} -o {r} {b}'.format(b=bcf_files,r=rawbcf, bc=bcftoolscmd,t=threads)\n",
    "    print (cmd)\n",
    "    subprocess.check_output(cmd, shell=True)\n",
    "    return rawbcf\n",
    "\n",
    "def mpileup_files(bam_files, ref, outpath, threads=4):\n",
    "    \"\"\"mpileup bam files\"\"\"\n",
    "    \n",
    "    bcftoolscmd = tools.get_cmd('bcftools')\n",
    "    outfiles = []\n",
    "    st = time.time()\n",
    "    bcfpath = os.path.join(outpath,'bcf')\n",
    "    if not os.path.exists(bcfpath):\n",
    "        os.mkdir(bcfpath)\n",
    "    for bam_file in bam_files:\n",
    "        name = os.path.splitext(os.path.basename(bam_file))[0]\n",
    "        out = '{o}/{f}.bcf'.format(o=bcfpath,f=name) \n",
    "        outfiles.append(out)        \n",
    "   \n",
    "    data = list(zip(bam_files,outfiles)) \n",
    "    #print (data)\n",
    "    for f,out in data:\n",
    "        mpileup(f, out, ref, threads=threads)\n",
    "        \n",
    "    t=time.time()-st\n",
    "    print ('took %s seconds' %str(round(t,3)))\n",
    "    rawbcf = os.path.join(outpath,'raw.bcf')\n",
    "    bcf_files = ' '.join(outfiles)\n",
    "    #print (bcf_files)\n",
    "    cmd = '{bc} merge --threads {t} -0 -o {o} {b}'.format(b=bcf_files,o=rawbcf, bc=bcftoolscmd,t=threads)\n",
    "    print (cmd)\n",
    "    #subprocess.check_output(cmd, shell=True)\n",
    "    #cmd = '{bc} norm -f {r} -O b -o {o} tmp.bcf'.format(o=rawbcf, bc=bcftoolscmd, r=ref) \n",
    "    subprocess.check_output(cmd, shell=True)    \n",
    "    return rawbcf\n",
    "\n",
    "def mpileup(bam_file, out, ref, threads=4, overwrite=False):\n",
    "    \"\"\"Run bcftools for single file.\"\"\"\n",
    "\n",
    "    bcftoolscmd = tools.get_cmd('bcftools')\n",
    "    if overwrite==False and os.path.exists(out):\n",
    "        return\n",
    "    cmd = '{bc} mpileup -a {a} -O b --max-depth 500 --min-MQ 60 -f {r} -o {o} {b}'\\\n",
    "            .format(r=ref, b=bam_file, o=out, bc=bcftoolscmd, a=app.annotatestr, t=threads)\n",
    "    subprocess.check_output(cmd, shell=True)  \n",
    "    print (cmd)\n",
    "    cmd = 'bcftools index {o}'.format(o=out)\n",
    "    subprocess.check_output(cmd, shell=True)\n",
    "    return\n",
    "   "
   ]
  },
  {
   "cell_type": "code",
   "execution_count": 2,
   "id": "be76c1e8-25ef-4834-9d6d-a0d3999d4619",
   "metadata": {},
   "outputs": [],
   "source": [
    "annotatestr = '\"AD,ADF,ADR,DP,SP,INFO/AD,INFO/ADF,INFO/ADR\"'\n",
    "\n",
    "def mpileup_parallel(bam_file, ref, rawbcf, threads=4, callback=None, tempdir=None):\n",
    "    \"\"\"Run mpileup in over multiple regions with GNU parallel on linux or rush on Windows\n",
    "      Separate bcf files are then joined together.\n",
    "      Assumes alignment to a bacterial reference with a single chromosome.\n",
    "    \"\"\"\n",
    "\n",
    "    if tempdir == None:\n",
    "        tempdir = tempfile.tempdir\n",
    "    #bam_files = ' '.join(bam_files)\n",
    "    #rawbcf = os.path.join(outpath,'raw.bcf')\n",
    "    chr = tools.get_chrom(ref)\n",
    "    length = tools.get_fasta_length(ref)\n",
    "    x = np.linspace(1,length,threads+1,dtype=int)\n",
    "    print (x)\n",
    "\n",
    "    #split genome into blocks\n",
    "    blocks=[]\n",
    "    for i in range(len(x)):\n",
    "        if i < len(x)-1:\n",
    "            blocks.append((x[i],x[i+1]-1))\n",
    "\n",
    "    #get temp outfile names\n",
    "    outfiles = []\n",
    "    regions = []\n",
    "    for start,end in blocks:\n",
    "        region = '\"{c}\":{s}-{e}'.format(c=chr,s=start,e=end)\n",
    "        regions.append(region)\n",
    "        out = os.path.join(tempdir,'{s}-{e}.bcf'.format(s=start,e=end))\n",
    "        outfiles.append(out)\n",
    "\n",
    "    regstr = ' '.join(regions)\n",
    "    #print (regstr)\n",
    "    filesstr = ' '.join(outfiles)\n",
    "    bcftoolscmd = tools.get_cmd('bcftools')\n",
    "\n",
    "    if platform.system() == 'Windows':\n",
    "        rushcmd = tools.get_cmd('rush')\n",
    "        cmd = 'echo {reg} | {rc} -D \" \" \"{bc} mpileup -r {{}} -f {r} -a {a} --max-depth 500 --min-MQ 60 {b} -o {p}/{{@[^:]*$}}.bcf\"'\\\n",
    "                .format(rc=rushcmd,bc=bcftoolscmd,reg=regstr,r=ref,b=bam_file,a=annotatestr,p=tempdir)\n",
    "    else:\n",
    "        cmd = 'parallel bcftools mpileup -r {{1}} -a {a} -O b --max-depth 500 --min-MQ 60 -o {{2}} -f {r} {b} ::: {reg} :::+ {o}'\\\n",
    "                .format(r=ref, reg=regstr, b=bam_file, o=filesstr, a=annotatestr)\n",
    "    #print (cmd)\n",
    "    #if callback != None:\n",
    "    #    callback(cmd)\n",
    "    subprocess.check_output(cmd, shell=True, stderr=subprocess.PIPE)\n",
    "    #concat the separate files\n",
    "    cmd = '{bc} concat {i} --threads {t} -O b -o {o}'.format(bc=bcftoolscmd,i=' '.join(outfiles),o=rawbcf,t=threads)\n",
    "    print (cmd)\n",
    "    subprocess.check_output(cmd, shell=True)\n",
    "    #remove temp files\n",
    "    for f in outfiles:\n",
    "        os.remove(f)\n",
    "    return rawbcf"
   ]
  },
  {
   "cell_type": "code",
   "execution_count": 3,
   "id": "b5e84e1e-e4fb-4adb-a62a-76368439ab1a",
   "metadata": {},
   "outputs": [],
   "source": [
    "reload(tools)\n",
    "\n",
    "path = 'simdata/sim_results2/variant_calling/S1'\n",
    "bam_file = 'simdata/sim_results/mapped/S1.bam'\n",
    "#app.run_file(bam_file, app.sarscov2_genome, path, overwrite=True)\n"
   ]
  },
  {
   "cell_type": "code",
   "execution_count": null,
   "id": "31426336-9f87-4f76-8e1c-32b5deab686a",
   "metadata": {
    "jupyter": {
     "source_hidden": true
    }
   },
   "outputs": [],
   "source": [
    "def worker(args):\n",
    "    run_file(args[0], args[1], args[2], args[3])  \n",
    "        \n",
    "def variant_calling_multiprocess(samples, ref, outpath, filters=None, custom_filters=False, mask=None,\n",
    "                        overwrite=False, threads=4):\n",
    "  \n",
    "    bcftoolscmd = tools.get_cmd('bcftools')\n",
    "    vcfoutpath = os.path.join(outpath, 'variant_calling')\n",
    "    os.makedirs(vcfoutdir, exist_ok=True)    \n",
    "    if samples is not None:\n",
    "        #write out new samples.txt file for reheader step\n",
    "        app.write_samples(samples[['sample']], outpath)\n",
    "        sample_file = os.path.join(outpath,'samples.txt') \n",
    "        \n",
    "    outpaths = []\n",
    "    #outfiles = []\n",
    "    for i,r in samples.iterrows():    \n",
    "        name = r['sample']\n",
    "        path = os.path.join(vcfoutpath, name)\n",
    "        #snpfile = run_file(r.bam_file, ref, path, filters=filters, mask=mask)\n",
    "        \n",
    "        #snpfile = os.path.join(vcfoutpath, name, 'snps.bcf')\n",
    "        outfiles.append(snpfile)\n",
    "    \n",
    "    data = list(zip(bam_files,outpaths,mask))\n",
    "    print (data)\n",
    "   \n",
    "    #p = mp.Pool(threads)\n",
    "    #p.map_async(worker, data)\n",
    "    #p.close()\n",
    "    #p.join()\n",
    "\n",
    "    \n",
    "\n",
    "outdir='simdata/sim_results_parallel/'\n",
    "variant_calling_multiprocess(samples, app.sarscov2_genome, outdir, filters=None)"
   ]
  },
  {
   "cell_type": "code",
   "execution_count": 4,
   "id": "a7a332a5-9e31-412f-b021-1780c989ff63",
   "metadata": {},
   "outputs": [],
   "source": [
    "def write_filelist(files, filename):\n",
    "    \"\"\"Write out sample names only using dataframe from get_samples\"\"\"\n",
    "\n",
    "    df = pd.DataFrame(files)    \n",
    "    df.to_csv(filename, index=False, header=False)\n",
    "    return \n",
    "    \n",
    "def new_variant_calling(samples, ref, outpath, filters=None, custom_filters=False, mask=None,\n",
    "                        overwrite=False, threads=4):\n",
    "    \"\"\"\n",
    "    Run variant calling for multiple samples\n",
    "    \"\"\"\n",
    "    \n",
    "    bcftoolscmd = tools.get_cmd('bcftools')\n",
    "    vcfoutpath = os.path.join(outpath, 'variant_calling')\n",
    "    os.makedirs(vcfoutpath, exist_ok=True)\n",
    "    if samples is not None:\n",
    "        #write out new samples.txt file for reheader step\n",
    "        app.write_samples(samples[['sample']], outpath)\n",
    "        sample_file = os.path.join(outpath,'samples.txt')\n",
    "        \n",
    "    outfiles = []    \n",
    "    for i, r in tqdm(samples.iterrows(), total=len(samples)):\n",
    "    #for i,r in samples.iterrows():    \n",
    "        name = r['sample']\n",
    "        #print (name)\n",
    "        path = os.path.join(vcfoutpath, name)\n",
    "        snpfile = run_file(r.bam_file, ref, path, filters=filters, mask=mask, threads=threads)\n",
    "        outfiles.append(snpfile)\n",
    "\n",
    "    #write file list\n",
    "    bcffilelist = os.path.join(outpath, 'bcffiles.txt')\n",
    "    write_filelist(outfiles, bcffilelist)\n",
    "    merged = os.path.join(outpath, 'merged.vcf.gz')\n",
    "    bcf_files = ' '.join(outfiles)\n",
    "    #print (outfiles)\n",
    "    cmd = '{bc} merge --threads {t} -0 -O z -o {o} --file-list {f}'.format(f=bcffilelist,o=merged, bc=bcftoolscmd,t=threads)\n",
    "    print (cmd)\n",
    "    subprocess.check_output(cmd, shell=True)  \n",
    "    app.relabel_vcfheader(merged, sample_file)\n",
    "    #custom filters\n",
    "    if custom_filters == True:\n",
    "        app.site_proximity_filter(merged, outdir=outpath, overwrite=True)\n",
    "    return\n",
    "\n",
    "outdir='simdata/sim_results2/'\n",
    "#new_variant_calling(samples, app.sarscov2_genome, outdir, filters=None)\n",
    "#app.run_vcf('simdata/sim_results2/merged.vcf.gz', outdir, threads=8)"
   ]
  },
  {
   "cell_type": "markdown",
   "id": "c4afe3f7-2ab1-48c5-a31a-93754257f572",
   "metadata": {},
   "source": [
    "## SNIPPY test"
   ]
  },
  {
   "cell_type": "code",
   "execution_count": null,
   "id": "b4cedc81-e402-4ee0-88df-c735427d0808",
   "metadata": {},
   "outputs": [],
   "source": [
    "outdir='simdata/snippy_results'\n",
    "ref=app.sarscov2_genome\n",
    "for i, r in samples.iterrows():    \n",
    "    out = os.path.join(outdir, r['sample'])\n",
    "    cmd = '/local/snippy/bin/snippy --cpus 8 --outdir {o} --ref {r} --R1 {f1} --R2 {f2}'.format(\n",
    "            o=out,r=ref,f1=r.filename1,f2=r.filename2)\n",
    "    print (cmd)\n",
    "    subprocess.check_output(cmd, shell=True)"
   ]
  },
  {
   "cell_type": "code",
   "execution_count": null,
   "id": "eb06d340-21ad-428a-bbc9-1a974e6f8e19",
   "metadata": {},
   "outputs": [],
   "source": [
    "cmd = \"/local/snippy/bin/snippy-core --ref 'simdata/snippy_results/S1/ref.fa' S1 S10 S11 S2 S3 S4 S5 S6 S7 S8 S9\"\n",
    "subprocess.check_output(cmd, shell=True)"
   ]
  },
  {
   "cell_type": "code",
   "execution_count": 27,
   "id": "ba21873f-ba21-4074-9ab2-e02a32e28994",
   "metadata": {},
   "outputs": [
    {
     "name": "stdout",
     "output_type": "stream",
     "text": [
      "4/176 sites not in second:\n",
      "       pos ref S1 S10 S11 S2 S3 S4 S5 S6 S7 S8 S9\n",
      "25    3584   G  G   G   G  G  G  A  G  G  G  G  G\n",
      "30    4588   A  A   A   G  A  A  A  A  A  A  A  A\n",
      "31    4626   C  C   C   T  C  C  C  C  C  C  C  C\n",
      "166  28546   C  C   C   C  C  C  C  C  C  C  C  T\n",
      "-------------------------\n",
      "0/172 sites not in first:\n",
      "Empty DataFrame\n",
      "Columns: [pos, ref, S1, S10, S11, S2, S3, S4, S5, S6, S7, S8, S9]\n",
      "Index: []\n"
     ]
    }
   ],
   "source": [
    "c1=pd.read_csv('simdata/sim_results/core.txt',sep=' ')\n",
    "c2=pd.read_csv('simdata/sim_results2/core.txt',sep=' ')\n",
    "c3=pd.read_csv('simdata/snippy_results/core.tab',sep='\\t')\n",
    "c3=c3.rename(columns={'POS':'pos'})\n",
    "x,y=compare_results(c1,c2)\n"
   ]
  },
  {
   "cell_type": "code",
   "execution_count": null,
   "id": "e5f7f30f-f655-4757-b931-17e3f8f62c9e",
   "metadata": {},
   "outputs": [],
   "source": [
    "d1 = pd.read_csv('simdata/sim_results/snpdist.csv',index_col=0)\n",
    "d2 = pd.read_csv('simdata/sim_results2/snpdist.csv',index_col=0)\n",
    "print (d1)\n",
    "print (d2)"
   ]
  },
  {
   "cell_type": "markdown",
   "id": "7840500f-5768-4fad-89d4-7ef3be4575f8",
   "metadata": {},
   "source": [
    "## test with wicklow data"
   ]
  },
  {
   "cell_type": "code",
   "execution_count": 206,
   "id": "52b272ff-cac2-4248-9390-00f1aa99184d",
   "metadata": {},
   "outputs": [],
   "source": [
    "wsamples = pd.read_csv('/storage/btbgenie/wicklow_results/samples.csv')\n",
    "bam_files = list(samples.bam_file.unique())\n",
    "ref = app.mbovis_genome"
   ]
  },
  {
   "cell_type": "code",
   "execution_count": null,
   "id": "6306cb74-e256-450f-8bd9-253f33cf0be2",
   "metadata": {
    "tags": []
   },
   "outputs": [],
   "source": [
    "v1 = tools.vcf_to_dataframe(os.path.join('wicklow_results','snps.vcf.gz'))\n",
    "v1\n",
    "print (tools.bcftools_query('wicklow_results/raw.bcf',[205557]))\n",
    "print (tools.bcftools_query('wicklow_temp/raw.bcf',[205557]))"
   ]
  },
  {
   "cell_type": "code",
   "execution_count": null,
   "id": "3ad767d6-8e83-4d29-adab-c1570487b2f8",
   "metadata": {
    "tags": []
   },
   "outputs": [],
   "source": [
    "compare_results('/storage/btbgenie/wicklow_results','wicklow_temp')\n",
    "#compare_results('wicklow_temp','/storage/btbgenie/wicklow_results')"
   ]
  },
  {
   "cell_type": "code",
   "execution_count": null,
   "id": "edab9dd8-0dc0-4a9a-b31f-6668183459fe",
   "metadata": {},
   "outputs": [],
   "source": [
    "v1 = vcf_to_dataframe('result.vcf')\n",
    "print (v1.var_type.value_counts())"
   ]
  },
  {
   "cell_type": "code",
   "execution_count": null,
   "id": "0e1e2ad4-4719-4461-b9ba-29512b11eddc",
   "metadata": {},
   "outputs": [],
   "source": [
    "v2 = vcf_to_dataframe('mapped/raw.bcf')\n",
    "print (v2.var_type.value_counts())"
   ]
  },
  {
   "cell_type": "markdown",
   "id": "1533ab88-a9ec-42ea-9045-fbabab832612",
   "metadata": {},
   "source": [
    "# run Ireland samples with new method"
   ]
  },
  {
   "cell_type": "code",
   "execution_count": 7,
   "id": "b394cd96-4905-45b8-a8c5-0c36d69778ba",
   "metadata": {},
   "outputs": [
    {
     "name": "stdout",
     "output_type": "stream",
     "text": [
      "TB22-005458\n",
      "TB22-005451\n",
      "TB22-005609\n"
     ]
    }
   ],
   "source": [
    "#app.clean_folders(iresamples, '/storage/btbgenie/all_ireland_results_new/variant_calling/')"
   ]
  },
  {
   "cell_type": "code",
   "execution_count": 3,
   "id": "d350c4fa-f163-4ad1-8367-3cf5f548d718",
   "metadata": {},
   "outputs": [
    {
     "name": "stdout",
     "output_type": "stream",
     "text": [
      "65000\n"
     ]
    }
   ],
   "source": [
    "! ulimit -Sn"
   ]
  },
  {
   "cell_type": "code",
   "execution_count": null,
   "id": "1206c267-6e93-4a09-ae81-9c619123b867",
   "metadata": {
    "scrolled": true
   },
   "outputs": [],
   "source": [
    "reload(app)\n",
    "outdir='/storage/btbgenie/all_ireland_results_new'\n",
    "iresamples = pd.read_csv('/storage/btbgenie/all_ireland_results_new/samples.csv')\n",
    "variant_calling(iresamples, app.mbovis_genome, outdir, proximity=True, threads=12)\n",
    "run_vcf(f'{outdir}/merged.vcf.gz', outdir, threads=12)"
   ]
  },
  {
   "cell_type": "code",
   "execution_count": 24,
   "id": "bf7b83de-04a2-47b7-933c-5d43c5fe05b3",
   "metadata": {},
   "outputs": [],
   "source": [
    "#treefile = trees.run_RAXML(f'{outdir}/core.fa', outpath=outdir, threads=12)\n",
    "out = os.path.join(outdir,'tree.newick')\n",
    "trees.run_fasttree(f'{outdir}/core.fa', out)"
   ]
  },
  {
   "cell_type": "code",
   "execution_count": 55,
   "id": "aeed9730-e1d5-4105-b2b5-4387c94d1f99",
   "metadata": {
    "jupyter": {
     "source_hidden": true
    }
   },
   "outputs": [],
   "source": [
    "from multiprocessing import Pool\n",
    "\n",
    "def compute_snp_count(args):\n",
    "    i, j, seq1, seq2 = args\n",
    "    return i, j, np.sum(np.fromiter((c1 != c2 for c1, c2 in zip(seq1, seq2)), dtype=int))\n",
    "\n",
    "def snp_dist_matrix(aln, threads=4):\n",
    "    \"\"\"\n",
    "    Compute the number of Single Nucleotide Polymorphisms (SNPs)\n",
    "    between sequences in a Biopython alignment.\n",
    "    Args:\n",
    "        aln:\n",
    "            Biopython multiple sequence alignment object.\n",
    "    Returns:\n",
    "        A matrix as pandas dataframe.\n",
    "    \"\"\"\n",
    "    \n",
    "    names = [s.id for s in aln]\n",
    "    num_sequences = len(aln)\n",
    "    matrix = np.zeros((num_sequences, num_sequences), dtype=int)\n",
    "    sequences = [str(s.seq) for s in aln]\n",
    "\n",
    "    args_list = []\n",
    "    for i in range(num_sequences):\n",
    "        seq1 = sequences[i]\n",
    "        for j in range(i + 1, num_sequences):\n",
    "            seq2 = sequences[j]\n",
    "            args_list.append((i, j, seq1, seq2))\n",
    "\n",
    "    with Pool(processes=threads) as pool:\n",
    "        results = pool.map(compute_snp_count, args_list)\n",
    "\n",
    "    for i, j, snp_count in results:\n",
    "        matrix[i, j] = snp_count\n",
    "        matrix[j, i] = snp_count\n",
    "\n",
    "    m = pd.DataFrame(matrix, index=names, columns=names)\n",
    "    return m\n",
    "    "
   ]
  },
  {
   "cell_type": "code",
   "execution_count": 18,
   "id": "6474a4b6-b58e-4685-a27b-c87870e1f0a6",
   "metadata": {
    "jupyter": {
     "source_hidden": true
    }
   },
   "outputs": [],
   "source": [
    "def snp_dist_matrix_old(aln):\n",
    "    \"\"\"\n",
    "    Compute the number of Single Nucleotide Polymorphisms (SNPs)\n",
    "    between sequences in a Biopython alignment.\n",
    "    Args:\n",
    "        aln:\n",
    "            Biopython multiple sequence alignment object.\n",
    "    returns:\n",
    "        a matrix as pandas dataframe\n",
    "    \"\"\"\n",
    "\n",
    "    names=[s.id for s in aln]\n",
    "    num_sequences = len(aln)\n",
    "    matrix = np.zeros((num_sequences, num_sequences))\n",
    "\n",
    "    for i in range(num_sequences):\n",
    "        seq1 = str(aln[i].seq)\n",
    "        for j in range(i + 1, num_sequences):\n",
    "            seq2 = str(aln[j].seq)\n",
    "            # Calculate the number of SNPs\n",
    "            snp_count = sum(c1 != c2 for c1, c2 in zip(seq1, seq2))\n",
    "            matrix[i, j] = snp_count\n",
    "            matrix[j, i] = snp_count\n",
    "\n",
    "    m = pd.DataFrame(matrix,index=names,columns=names).astype(int)\n",
    "    return m"
   ]
  },
  {
   "cell_type": "code",
   "execution_count": 72,
   "id": "73e752c7-b9d8-42c3-8896-fbb79aaf6cc0",
   "metadata": {},
   "outputs": [
    {
     "name": "stdout",
     "output_type": "stream",
     "text": [
      "3.123283386230469e-05\n"
     ]
    }
   ],
   "source": [
    "#aln = AlignIO.read('simdata/sim_results/core.fa',format='fasta')\n",
    "#aln = AlignIO.read('/storage/btbgenie/all_ireland_results/old_results/core.fa',format='fasta')\n",
    "aln = AlignIO.read('/storage/btbgenie/all_ireland_results_new/core.fa',format='fasta')\n",
    "st= time.time()\n",
    "dm=snp_dist_matrix(aln, 12)\n",
    "print (time.time()-st)"
   ]
  },
  {
   "cell_type": "code",
   "execution_count": null,
   "id": "c6ad33fe-c729-46e6-9ad4-d2de77de6373",
   "metadata": {},
   "outputs": [],
   "source": [
    "#test new snp dist calc\n",
    "res=[]\n",
    "for l in range(10,3500,1000):\n",
    "    #print (l)\n",
    "    #st= time.time()\n",
    "    #dm=snp_dist_matrix_old(aln[:l])\n",
    "    #t1 = time.time()-st    \n",
    "    st= time.time()\n",
    "    dm=snp_dist_matrix(aln[:l], 12)\n",
    "    t2 = time.time()-st    \n",
    "    SeqIO.write(aln[:l],'temp.fa','fasta')\n",
    "    cmd = 'snp-dists -j 12 temp.fa'\n",
    "    st= time.time()\n",
    "    tmp=subprocess.check_output(cmd,shell=True)\n",
    "    t3 = time.time()-st\n",
    "    res.append([l,t2,t3]) \n",
    "\n",
    "res=pd.DataFrame(res,columns=['size','python-threaded','snp-dists'])"
   ]
  },
  {
   "cell_type": "code",
   "execution_count": 74,
   "id": "b454b860-692a-49a0-9dca-04199da9170f",
   "metadata": {},
   "outputs": [
    {
     "data": {
      "text/plain": [
       "<Axes: xlabel='size'>"
      ]
     },
     "execution_count": 74,
     "metadata": {},
     "output_type": "execute_result"
    },
    {
     "data": {
      "image/png": "[encoded data removed]",
      "text/plain": [
       "<Figure size 640x480 with 1 Axes>"
      ]
     },
     "metadata": {},
     "output_type": "display_data"
    }
   ],
   "source": [
    "res.plot(x='size')#,kind='scatter')"
   ]
  },
  {
   "cell_type": "code",
   "execution_count": null,
   "id": "c786ae65-14bc-4f66-82f5-c7de2f259d17",
   "metadata": {},
   "outputs": [],
   "source": []
  }
 ],
 "metadata": {
  "kernelspec": {
   "display_name": "Python 3 (ipykernel)",
   "language": "python",
   "name": "python3"
  },
  "language_info": {
   "codemirror_mode": {
    "name": "ipython",
    "version": 3
   },
   "file_extension": ".py",
   "mimetype": "text/x-python",
   "name": "python",
   "nbconvert_exporter": "python",
   "pygments_lexer": "ipython3",
   "version": "3.10.12"
  }
 },
 "nbformat": 4,
 "nbformat_minor": 5
}
