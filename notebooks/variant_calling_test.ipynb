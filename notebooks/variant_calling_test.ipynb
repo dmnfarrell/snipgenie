{
 "cells": [
  {
   "cell_type": "markdown",
   "id": "b24b3dce-67af-42ce-9c40-b78c8a906b20",
   "metadata": {},
   "source": [
    "# compare 2 methods of calling - concat vs individual"
   ]
  },
  {
   "cell_type": "code",
   "execution_count": null,
   "id": "62f95d5b-cd1a-4b4f-a5c1-b11a3f783ab5",
   "metadata": {},
   "outputs": [],
   "source": [
    "import sys,os,shutil,subprocess\n",
    "import random\n",
    "import glob, time, platform\n",
    "import tempfile\n",
    "from importlib import reload\n",
    "import numpy as np\n",
    "import pandas as pd\n",
    "pd.set_option('display.width', 200)\n",
    "import pylab as plt\n",
    "import seaborn as sns\n",
    "from Bio import SeqIO, AlignIO\n",
    "from Bio.Seq import Seq\n",
    "from Bio.SeqRecord import SeqRecord\n",
    "from gzip import open as gzopen\n",
    "sys.path.append('snipgenie')\n",
    "from snipgenie import tools, aligners, app, tools"
   ]
  },
  {
   "cell_type": "code",
   "execution_count": null,
   "id": "66c66ff7-1bdb-42c7-bc9e-6bccc59a2dc7",
   "metadata": {},
   "outputs": [],
   "source": [
    "reload(app)\n",
    "ref = app.sarscov2_genome\n",
    "args = {'threads':12, 'outdir': 'simdata/sim_results', 'labelsep':'.',\n",
    "        'input':'simdata/sim_fastq/',        \n",
    "        'reference': ref,\n",
    "        'overwrite':False,\n",
    "        'filters':'', \n",
    "        'custom_filters': False, 'get_stats':False}\n",
    "W = app.WorkFlow(**args)\n",
    "st = W.setup()\n",
    "W.run()"
   ]
  },
  {
   "cell_type": "code",
   "execution_count": 207,
   "id": "96c5206e-1d55-480f-a1b2-764e9ac89313",
   "metadata": {},
   "outputs": [],
   "source": [
    "samples = pd.read_csv('simdata/sim_results/samples.csv')"
   ]
  },
  {
   "cell_type": "code",
   "execution_count": 116,
   "id": "dbb80a11-99c1-403c-a492-b6c8a104b883",
   "metadata": {},
   "outputs": [],
   "source": [
    "def compare_results(c1, c2, sample=None):\n",
    "    \"\"\"\n",
    "    Compare two runs of snipgenie.\n",
    "    \"\"\"\n",
    "\n",
    "    x = c1[~c1.pos.isin(c2.pos)]\n",
    "    y = c2[~c2.pos.isin(c1.pos)]\n",
    "    print ('%s/%s sites not in second:' %(len(x),len(c1)))\n",
    "    print (x)\n",
    "    print ('-------------------------')\n",
    "    print ('%s/%s sites not in first:' %(len(y),len(c2)))\n",
    "    print (y)\n",
    "    return x,y"
   ]
  },
  {
   "cell_type": "code",
   "execution_count": 106,
   "id": "a92f74e8-36fa-4c27-b6bd-488aaf49a8b8",
   "metadata": {
    "jupyter": {
     "source_hidden": true
    },
    "tags": []
   },
   "outputs": [],
   "source": [
    "import multiprocessing as mp\n",
    "\n",
    "def worker(args):\n",
    "    mpileup(args[0], args[1])\n",
    "        \n",
    "def mpileup_multiprocess(bam_files, ref, outpath, threads=4, callback=None):\n",
    "    \"\"\"Run mpileup in parallel over multiple files and make separate bcfs.\n",
    "    Assumes alignment to a bacterial reference with a single chromosome.\"\"\"\n",
    "\n",
    "    bcftoolscmd = tools.get_cmd('bcftools')\n",
    "    #size = len(bam_files) \n",
    "    #pool = mp.Pool(threads)\n",
    "    outfiles = []\n",
    "    st = time.time()\n",
    "    bcfpath = os.path.join(outpath,'bcf')\n",
    "    if not os.path.exists(bcfpath):\n",
    "        os.mkdir(bcfpath)\n",
    "    for bam_file in bam_files:\n",
    "        name = os.path.splitext(os.path.basename(bam_file))[0]\n",
    "        out = '{o}/{f}.bcf'.format(o=bcfpath,f=name) \n",
    "        outfiles.append(out)\n",
    "   \n",
    "    data = list(zip(bam_files,outfiles))\n",
    "    #print (data)\n",
    "   \n",
    "    p = mp.Pool(threads)\n",
    "    p.map_async(worker, data)\n",
    "    p.close()\n",
    "    p.join()\n",
    "    \n",
    "    t=time.time()-st\n",
    "    print ('took %s seconds' %str(round(t,3)))\n",
    "    rawbcf = os.path.join(outpath,'raw.bcf')\n",
    "    bcf_files = ' '.join(outfiles)\n",
    "    cmd = '{bc} merge --threads {t} -o {r} {b}'.format(b=bcf_files,r=rawbcf, bc=bcftoolscmd,t=threads)\n",
    "    print (cmd)\n",
    "    subprocess.check_output(cmd, shell=True)\n",
    "    return rawbcf\n",
    "\n",
    "def mpileup_files(bam_files, ref, outpath, threads=4):\n",
    "    \"\"\"mpileup bam files\"\"\"\n",
    "    \n",
    "    bcftoolscmd = tools.get_cmd('bcftools')\n",
    "    outfiles = []\n",
    "    st = time.time()\n",
    "    bcfpath = os.path.join(outpath,'bcf')\n",
    "    if not os.path.exists(bcfpath):\n",
    "        os.mkdir(bcfpath)\n",
    "    for bam_file in bam_files:\n",
    "        name = os.path.splitext(os.path.basename(bam_file))[0]\n",
    "        out = '{o}/{f}.bcf'.format(o=bcfpath,f=name) \n",
    "        outfiles.append(out)        \n",
    "   \n",
    "    data = list(zip(bam_files,outfiles)) \n",
    "    #print (data)\n",
    "    for f,out in data:\n",
    "        mpileup(f, out, ref, threads=threads)\n",
    "        \n",
    "    t=time.time()-st\n",
    "    print ('took %s seconds' %str(round(t,3)))\n",
    "    rawbcf = os.path.join(outpath,'raw.bcf')\n",
    "    bcf_files = ' '.join(outfiles)\n",
    "    #print (bcf_files)\n",
    "    cmd = '{bc} merge --threads {t} -0 -o {o} {b}'.format(b=bcf_files,o=rawbcf, bc=bcftoolscmd,t=threads)\n",
    "    print (cmd)\n",
    "    #subprocess.check_output(cmd, shell=True)\n",
    "    #cmd = '{bc} norm -f {r} -O b -o {o} tmp.bcf'.format(o=rawbcf, bc=bcftoolscmd, r=ref) \n",
    "    subprocess.check_output(cmd, shell=True)    \n",
    "    return rawbcf\n",
    "\n",
    "def mpileup(bam_file, out, ref, threads=4, overwrite=False):\n",
    "    \"\"\"Run bcftools for single file.\"\"\"\n",
    "\n",
    "    bcftoolscmd = tools.get_cmd('bcftools')\n",
    "    if overwrite==False and os.path.exists(out):\n",
    "        return\n",
    "    cmd = '{bc} mpileup -a {a} -O b --max-depth 500 --min-MQ 60 -f {r} -o {o} {b}'\\\n",
    "            .format(r=ref, b=bam_file, o=out, bc=bcftoolscmd, a=app.annotatestr, t=threads)\n",
    "    subprocess.check_output(cmd, shell=True)  \n",
    "    print (cmd)\n",
    "    cmd = 'bcftools index {o}'.format(o=out)\n",
    "    subprocess.check_output(cmd, shell=True)\n",
    "    return\n",
    "   "
   ]
  },
  {
   "cell_type": "code",
   "execution_count": 225,
   "id": "be76c1e8-25ef-4834-9d6d-a0d3999d4619",
   "metadata": {},
   "outputs": [],
   "source": [
    "annotatestr = '\"AD,ADF,ADR,DP,SP,INFO/AD,INFO/ADF,INFO/ADR\"'\n",
    "\n",
    "def mpileup_parallel(bam_file, ref, rawbcf, threads=4, callback=None, tempdir=None):\n",
    "    \"\"\"Run mpileup in over multiple regions with GNU parallel on linux or rush on Windows\n",
    "      Separate bcf files are then joined together.\n",
    "      Assumes alignment to a bacterial reference with a single chromosome.\n",
    "    \"\"\"\n",
    "\n",
    "    if tempdir == None:\n",
    "        tempdir = tempfile.tempdir\n",
    "    #bam_files = ' '.join(bam_files)\n",
    "    #rawbcf = os.path.join(outpath,'raw.bcf')\n",
    "    chr = tools.get_chrom(ref)\n",
    "    length = tools.get_fasta_length(ref)\n",
    "    x = np.linspace(1,length,threads+1,dtype=int)\n",
    "    print (x)\n",
    "\n",
    "    #split genome into blocks\n",
    "    blocks=[]\n",
    "    for i in range(len(x)):\n",
    "        if i < len(x)-1:\n",
    "            blocks.append((x[i],x[i+1]-1))\n",
    "\n",
    "    #get temp outfile names\n",
    "    outfiles = []\n",
    "    regions = []\n",
    "    for start,end in blocks:\n",
    "        region = '\"{c}\":{s}-{e}'.format(c=chr,s=start,e=end)\n",
    "        regions.append(region)\n",
    "        out = os.path.join(tempdir,'{s}-{e}.bcf'.format(s=start,e=end))\n",
    "        outfiles.append(out)\n",
    "\n",
    "    regstr = ' '.join(regions)\n",
    "    #print (regstr)\n",
    "    filesstr = ' '.join(outfiles)\n",
    "    bcftoolscmd = tools.get_cmd('bcftools')\n",
    "\n",
    "    if platform.system() == 'Windows':\n",
    "        rushcmd = tools.get_cmd('rush')\n",
    "        cmd = 'echo {reg} | {rc} -D \" \" \"{bc} mpileup -r {{}} -f {r} -a {a} --max-depth 500 --min-MQ 60 {b} -o {p}/{{@[^:]*$}}.bcf\"'\\\n",
    "                .format(rc=rushcmd,bc=bcftoolscmd,reg=regstr,r=ref,b=bam_file,a=annotatestr,p=tempdir)\n",
    "    else:\n",
    "        cmd = 'parallel bcftools mpileup -r {{1}} -a {a} -O b --max-depth 500 --min-MQ 60 -o {{2}} -f {r} {b} ::: {reg} :::+ {o}'\\\n",
    "                .format(r=ref, reg=regstr, b=bam_file, o=filesstr, a=annotatestr)\n",
    "    print (cmd)\n",
    "    #if callback != None:\n",
    "    #    callback(cmd)\n",
    "    subprocess.check_output(cmd, shell=True)\n",
    "    #concat the separate files\n",
    "    cmd = '{bc} concat {i} --threads {t} -O b -o {o}'.format(bc=bcftoolscmd,i=' '.join(outfiles),o=rawbcf,t=threads)\n",
    "    #print (cmd)\n",
    "    subprocess.check_output(cmd, shell=True)\n",
    "    #remove temp files\n",
    "    for f in outfiles:\n",
    "        os.remove(f)\n",
    "    return rawbcf"
   ]
  },
  {
   "cell_type": "code",
   "execution_count": 227,
   "id": "b5e84e1e-e4fb-4adb-a62a-76368439ab1a",
   "metadata": {},
   "outputs": [
    {
     "name": "stdout",
     "output_type": "stream",
     "text": [
      "[    1  7476 14952 22427 29903]\n",
      "parallel bcftools mpileup -r {1} -a \"AD,ADF,ADR,DP,SP,INFO/AD,INFO/ADF,INFO/ADR\" -O b --max-depth 500 --min-MQ 60 -o {2} -f /home/farrell/.config/snipgenie/genome/Sars-Cov-2.fa simdata/sim_results/mapped/S1.bam ::: \"NC_045512.2\":1-7475 \"NC_045512.2\":7476-14951 \"NC_045512.2\":14952-22426 \"NC_045512.2\":22427-29902 :::+ /tmp/1-7475.bcf /tmp/7476-14951.bcf /tmp/14952-22426.bcf /tmp/22427-29902.bcf\n",
      "bcftools concat /tmp/1-7475.bcf /tmp/7476-14951.bcf /tmp/14952-22426.bcf /tmp/22427-29902.bcf --threads 4 -O b -o simdata/sim_results2/variant_calling/S1/raw.bcf\n"
     ]
    },
    {
     "name": "stderr",
     "output_type": "stream",
     "text": [
      "[mpileup] 1 samples in 1 input files\n",
      "[mpileup] maximum number of reads per input file set to -d 500\n",
      "[mpileup] 1 samples in 1 input files\n",
      "[mpileup] maximum number of reads per input file set to -d 500\n",
      "[mpileup] 1 samples in 1 input files\n",
      "[mpileup] maximum number of reads per input file set to -d 500\n",
      "[mpileup] 1 samples in 1 input files\n",
      "[mpileup] maximum number of reads per input file set to -d 500\n",
      "Checking the headers and starting positions of 4 files\n",
      "Concatenating /tmp/1-7475.bcf\t0.004075 seconds\n",
      "Concatenating /tmp/7476-14951.bcf\t0.001616 seconds\n",
      "Concatenating /tmp/14952-22426.bcf\t0.002544 seconds\n",
      "Concatenating /tmp/22427-29902.bcf\t0.002100 seconds\n"
     ]
    },
    {
     "data": {
      "text/plain": [
       "'simdata/sim_results2/variant_calling/S1/snps.bcf'"
      ]
     },
     "execution_count": 227,
     "metadata": {},
     "output_type": "execute_result"
    }
   ],
   "source": [
    "reload(tools)\n",
    "\n",
    "def run_file(bam_file, ref, outpath, filters=None, mask=None,\n",
    "             overwrite=False, threads=4):\n",
    "    \"\"\"\n",
    "    Run mpileup/snp calling/filtering for one file.\n",
    "    \"\"\"\n",
    "    \n",
    "    if not os.path.exists(outpath):\n",
    "        os.makedirs(outpath, exist_ok=True)\n",
    "    if filters == None:\n",
    "        filters = app.default_filter        \n",
    "    bcftoolscmd = tools.get_cmd('bcftools')\n",
    "    rawbcf = os.path.join(outpath,'raw.bcf')\n",
    "    \n",
    "    if not os.path.exists(rawbcf) or overwrite == True:\n",
    "        mpileup_parallel(bam_file, ref, rawbcf, threads=threads)\n",
    "        #mpileup(bam_file, rawbcf, ref, threads=threads, overwrite=overwrite)\n",
    "    \n",
    "    #call\n",
    "    vcfout = os.path.join(outpath,'calls.vcf')\n",
    "    #assumes other files are there and returns - probably not ideal\n",
    "    if os.path.exists(vcfout) and overwrite == False:\n",
    "        return\n",
    "    tools.bcftools_call(rawbcf, vcfout)#, show_cmd=True)\n",
    "    #filter calls\n",
    "    if filters != None:\n",
    "        filtered = os.path.join(outpath,'filtered.bcf')\n",
    "        cmd = '{bc} filter -i \"{f}\" -o {o} -O b {i}'.format(bc=bcftoolscmd,i=vcfout,o=filtered,f=filters)\n",
    "        #print (cmd)\n",
    "        tmp = subprocess.check_output(cmd,shell=True)\n",
    "    else:\n",
    "        filtered = vcfout\n",
    "    #print ('splitting snps and indels..')\n",
    "    snpsout = os.path.join(outpath,'snps.bcf')\n",
    "    cmd = '{bc} view -v snps -o {o} -O b {i}'.format(bc=bcftoolscmd,o=snpsout,i=filtered)\n",
    "    #print (cmd)\n",
    "    subprocess.check_output(cmd,shell=True)\n",
    "    cmd = 'bcftools index {o}'.format(o=snpsout)\n",
    "    subprocess.check_output(cmd, shell=True)\n",
    "    \n",
    "    #also get indels only to separate file\n",
    "    indelsout = os.path.join(outpath,'indels.bcf')\n",
    "    #cmd = '{bc} call -V snps --ploidy 1 -m -v -o {o} {raw}'.format(bc=bcftoolscmd,o=indelsout,raw=rawbcf)\n",
    "    cmd = '{bc} view -v indels -o {o} -O z {i}'.format(bc=bcftoolscmd,o=indelsout,i=filtered)\n",
    "    #print (cmd)\n",
    "    subprocess.check_output(cmd,shell=True)\n",
    "\n",
    "    #apply mask if required\n",
    "    if mask != None:\n",
    "        mask_filter(snpsout, mask, outdir=outpath, overwrite=True)\n",
    "        mask_filter(indelsout, mask, outdir=outpath, overwrite=True)  \n",
    "    \n",
    "    return snpsout\n",
    "\n",
    "path = 'simdata/sim_results2/variant_calling/S1'\n",
    "bam_file = 'simdata/sim_results/mapped/S1.bam'\n",
    "run_file(bam_file, app.sarscov2_genome, path, overwrite=True)\n"
   ]
  },
  {
   "cell_type": "code",
   "execution_count": null,
   "id": "31426336-9f87-4f76-8e1c-32b5deab686a",
   "metadata": {
    "jupyter": {
     "source_hidden": true
    }
   },
   "outputs": [],
   "source": [
    "def worker(args):\n",
    "    run_file(args[0], args[1], args[2], args[3])  \n",
    "        \n",
    "def variant_calling_multiprocess(samples, ref, outpath, filters=None, custom_filters=False, mask=None,\n",
    "                        overwrite=False, threads=4):\n",
    "  \n",
    "    bcftoolscmd = tools.get_cmd('bcftools')\n",
    "    vcfoutpath = os.path.join(outpath, 'variant_calling')\n",
    "    os.makedirs(vcfoutdir, exist_ok=True)    \n",
    "    if samples is not None:\n",
    "        #write out new samples.txt file for reheader step\n",
    "        app.write_samples(samples[['sample']], outpath)\n",
    "        sample_file = os.path.join(outpath,'samples.txt') \n",
    "        \n",
    "    outpaths = []\n",
    "    #outfiles = []\n",
    "    for i,r in samples.iterrows():    \n",
    "        name = r['sample']\n",
    "        path = os.path.join(vcfoutpath, name)\n",
    "        #snpfile = run_file(r.bam_file, ref, path, filters=filters, mask=mask)\n",
    "        \n",
    "        #snpfile = os.path.join(vcfoutpath, name, 'snps.bcf')\n",
    "        outfiles.append(snpfile)\n",
    "    \n",
    "    data = list(zip(bam_files,outpaths,mask))\n",
    "    print (data)\n",
    "   \n",
    "    #p = mp.Pool(threads)\n",
    "    #p.map_async(worker, data)\n",
    "    #p.close()\n",
    "    #p.join()\n",
    "\n",
    "    \n",
    "\n",
    "outdir='simdata/sim_results_parallel/'\n",
    "variant_calling_multiprocess(samples, app.sarscov2_genome, outdir, filters=None)"
   ]
  },
  {
   "cell_type": "code",
   "execution_count": 216,
   "id": "a7a332a5-9e31-412f-b021-1780c989ff63",
   "metadata": {},
   "outputs": [
    {
     "name": "stdout",
     "output_type": "stream",
     "text": [
      "S1\n",
      "S10\n",
      "S11\n",
      "S2\n",
      "S3\n",
      "S4\n",
      "S5\n",
      "S6\n",
      "S7\n",
      "S8\n",
      "S9\n",
      "bcftools merge --threads 4 -0 -O z -o simdata/sim_results2/merged.vcf.gz simdata/sim_results2/variant_calling/S1/snps.bcf simdata/sim_results2/variant_calling/S10/snps.bcf simdata/sim_results2/variant_calling/S11/snps.bcf simdata/sim_results2/variant_calling/S2/snps.bcf simdata/sim_results2/variant_calling/S3/snps.bcf simdata/sim_results2/variant_calling/S4/snps.bcf simdata/sim_results2/variant_calling/S5/snps.bcf simdata/sim_results2/variant_calling/S6/snps.bcf simdata/sim_results2/variant_calling/S7/snps.bcf simdata/sim_results2/variant_calling/S8/snps.bcf simdata/sim_results2/variant_calling/S9/snps.bcf\n",
      "bcftools reheader --samples simdata/sim_results2/samples.txt -o /tmp/calls.vcf simdata/sim_results2/merged.vcf.gz\n",
      "getting core alignment..\n",
      "uninformative_sites False\n",
      "found 172 sites for core snps\n",
      "0 sites with at least one missing sample\n",
      "0 uninformative sites\n",
      "computing snp distance matrix..\n",
      "raxmlHPC-PTHREADS -f a -N 100 -T 8 -m GTRCAT -V -p 86013816 -x 91007490 -n variants -w /home/farrell/gitprojects/snipgenie/notebooks/simdata/sim_results2 -s simdata/sim_results2/core.fa\n"
     ]
    }
   ],
   "source": [
    "def new_variant_calling(samples, ref, outpath, filters=None, custom_filters=False, mask=None,\n",
    "                        overwrite=False, threads=4):\n",
    "    \"\"\"\n",
    "    Run variant calling for multiple samples\n",
    "    \"\"\"\n",
    "    \n",
    "    bcftoolscmd = tools.get_cmd('bcftools')\n",
    "    vcfoutpath = os.path.join(outpath, 'variant_calling')\n",
    "    os.makedirs(vcfoutdir, exist_ok=True)    \n",
    "    if samples is not None:\n",
    "        #write out new samples.txt file for reheader step\n",
    "        app.write_samples(samples[['sample']], outpath)\n",
    "        sample_file = os.path.join(outpath,'samples.txt')    \n",
    "    outfiles = []\n",
    "    for i,r in samples.iterrows():    \n",
    "        name = r['sample']\n",
    "        print (name)\n",
    "        path = os.path.join(vcfoutpath, name)\n",
    "        snpfile = run_file(r.bam_file, ref, path, filters=filters, mask=mask, threads=threads)\n",
    "        outfiles.append(snpfile)\n",
    "\n",
    "    merged = os.path.join(outpath, 'merged.vcf.gz')\n",
    "    bcf_files = ' '.join(outfiles)\n",
    "    #print (bcf_files)\n",
    "    cmd = '{bc} merge --threads {t} -0 -O z -o {o} {f}'.format(f=bcf_files,o=merged, bc=bcftoolscmd,t=threads)\n",
    "    print (cmd)\n",
    "    subprocess.check_output(cmd, shell=True)  \n",
    "    app.relabel_vcfheader(merged, sample_file)\n",
    "    #custom filters\n",
    "    if custom_filters == True:\n",
    "        app.site_proximity_filter(merged, outdir=outpath, overwrite=True)\n",
    "    return\n",
    "\n",
    "outdir='simdata/sim_results2/'\n",
    "new_variant_calling(samples, app.sarscov2_genome, outdir, filters=None)\n",
    "app.run_vcf('simdata/sim_results2/merged.vcf.gz', outdir, threads=8)"
   ]
  },
  {
   "cell_type": "markdown",
   "id": "c4afe3f7-2ab1-48c5-a31a-93754257f572",
   "metadata": {},
   "source": [
    "## SNIPPY test"
   ]
  },
  {
   "cell_type": "code",
   "execution_count": null,
   "id": "b4cedc81-e402-4ee0-88df-c735427d0808",
   "metadata": {},
   "outputs": [],
   "source": [
    "outdir='simdata/snippy_results'\n",
    "ref=app.sarscov2_genome\n",
    "for i, r in samples.iterrows():    \n",
    "    out = os.path.join(outdir, r['sample'])\n",
    "    cmd = '/local/snippy/bin/snippy --cpus 8 --outdir {o} --ref {r} --R1 {f1} --R2 {f2}'.format(\n",
    "            o=out,r=ref,f1=r.filename1,f2=r.filename2)\n",
    "    print (cmd)\n",
    "    subprocess.check_output(cmd, shell=True)"
   ]
  },
  {
   "cell_type": "code",
   "execution_count": null,
   "id": "eb06d340-21ad-428a-bbc9-1a974e6f8e19",
   "metadata": {},
   "outputs": [],
   "source": [
    "cmd = \"/local/snippy/bin/snippy-core --ref 'simdata/snippy_results/S1/ref.fa' S1 S10 S11 S2 S3 S4 S5 S6 S7 S8 S9\"\n",
    "subprocess.check_output(cmd, shell=True)"
   ]
  },
  {
   "cell_type": "code",
   "execution_count": 211,
   "id": "ba21873f-ba21-4074-9ab2-e02a32e28994",
   "metadata": {},
   "outputs": [
    {
     "name": "stdout",
     "output_type": "stream",
     "text": [
      "4/176 sites not in second:\n",
      "       pos ref S1 S10 S11 S2 S3 S4 S5 S6 S7 S8 S9\n",
      "25    3584   G  G   G   G  G  G  A  G  G  G  G  G\n",
      "30    4588   A  A   A   G  A  A  A  A  A  A  A  A\n",
      "31    4626   C  C   C   T  C  C  C  C  C  C  C  C\n",
      "166  28546   C  C   C   C  C  C  C  C  C  C  C  T\n",
      "-------------------------\n",
      "0/172 sites not in first:\n",
      "Empty DataFrame\n",
      "Columns: [pos, ref, S1, S10, S11, S2, S3, S4, S5, S6, S7, S8, S9]\n",
      "Index: []\n"
     ]
    }
   ],
   "source": [
    "c1=pd.read_csv('simdata/sim_results/core.txt',sep=' ')\n",
    "c2=pd.read_csv('simdata/sim_results2/core.txt',sep=' ')\n",
    "c3=pd.read_csv('simdata/snippy_results/core.tab',sep='\\t')\n",
    "c3=c3.rename(columns={'POS':'pos'})\n",
    "x,y=compare_results(c1,c2)\n"
   ]
  },
  {
   "cell_type": "code",
   "execution_count": null,
   "id": "e5f7f30f-f655-4757-b931-17e3f8f62c9e",
   "metadata": {},
   "outputs": [],
   "source": [
    "d1 = pd.read_csv('simdata/sim_results/snpdist.csv',index_col=0)\n",
    "d2 = pd.read_csv('simdata/sim_results2/snpdist.csv',index_col=0)\n",
    "print (d1)\n",
    "print (d2)"
   ]
  },
  {
   "cell_type": "markdown",
   "id": "7840500f-5768-4fad-89d4-7ef3be4575f8",
   "metadata": {},
   "source": [
    "## test with wicklow data"
   ]
  },
  {
   "cell_type": "code",
   "execution_count": 206,
   "id": "52b272ff-cac2-4248-9390-00f1aa99184d",
   "metadata": {},
   "outputs": [],
   "source": [
    "wsamples = pd.read_csv('/storage/btbgenie/wicklow_results/samples.csv')\n",
    "bam_files = list(samples.bam_file.unique())\n",
    "ref = app.mbovis_genome\n"
   ]
  },
  {
   "cell_type": "code",
   "execution_count": null,
   "id": "93d9be0b-ec7d-46a1-ac7b-c7d68d1fb68c",
   "metadata": {},
   "outputs": [],
   "source": [
    "reload(app)\n"
   ]
  },
  {
   "cell_type": "code",
   "execution_count": null,
   "id": "6306cb74-e256-450f-8bd9-253f33cf0be2",
   "metadata": {
    "tags": []
   },
   "outputs": [],
   "source": [
    "v1 = tools.vcf_to_dataframe(os.path.join('wicklow_results','snps.vcf.gz'))\n",
    "v1\n",
    "print (tools.bcftools_query('wicklow_results/raw.bcf',[205557]))\n",
    "print (tools.bcftools_query('wicklow_temp/raw.bcf',[205557]))"
   ]
  },
  {
   "cell_type": "code",
   "execution_count": null,
   "id": "3ad767d6-8e83-4d29-adab-c1570487b2f8",
   "metadata": {
    "tags": []
   },
   "outputs": [],
   "source": [
    "compare_results('/storage/btbgenie/wicklow_results','wicklow_temp')\n",
    "compare_results('wicklow_temp','/storage/btbgenie/wicklow_results')"
   ]
  },
  {
   "cell_type": "code",
   "execution_count": null,
   "id": "edab9dd8-0dc0-4a9a-b31f-6668183459fe",
   "metadata": {},
   "outputs": [],
   "source": [
    "v1 = vcf_to_dataframe('result.vcf')\n",
    "print (v1.var_type.value_counts())"
   ]
  },
  {
   "cell_type": "code",
   "execution_count": null,
   "id": "0e1e2ad4-4719-4461-b9ba-29512b11eddc",
   "metadata": {},
   "outputs": [],
   "source": [
    "v2 = vcf_to_dataframe('mapped/raw.bcf')\n",
    "print (v2.var_type.value_counts())"
   ]
  },
  {
   "cell_type": "markdown",
   "id": "1533ab88-a9ec-42ea-9045-fbabab832612",
   "metadata": {},
   "source": [
    "## run Ireland samples with new method"
   ]
  },
  {
   "cell_type": "code",
   "execution_count": null,
   "id": "1206c267-6e93-4a09-ae81-9c619123b867",
   "metadata": {
    "scrolled": true
   },
   "outputs": [
    {
     "name": "stderr",
     "output_type": "stream",
     "text": [
      "\t0.254752 seconds\n",
      "Concatenating /tmp/3987412-4349903.bcf\t0.277171 seconds\n"
     ]
    },
    {
     "name": "stdout",
     "output_type": "stream",
     "text": [
      "TB19-011147\n",
      "[      1  362492  724984 1087476 1449968 1812460 2174952 2537444 2899936\n",
      " 3262428 3624920 3987412 4349904]\n",
      "parallel bcftools mpileup -r {1} -a \"AD,ADF,ADR,DP,SP,INFO/AD,INFO/ADF,INFO/ADR\" -O b --max-depth 500 --min-MQ 60 -o {2} -f /home/farrell/.config/snipgenie/genome/Mbovis_AF212297.fa /storage/btbgenie/all_ireland_results/mapped/TB19-011147.bam ::: \"LT708304.1\":1-362491 \"LT708304.1\":362492-724983 \"LT708304.1\":724984-1087475 \"LT708304.1\":1087476-1449967 \"LT708304.1\":1449968-1812459 \"LT708304.1\":1812460-2174951 \"LT708304.1\":2174952-2537443 \"LT708304.1\":2537444-2899935 \"LT708304.1\":2899936-3262427 \"LT708304.1\":3262428-3624919 \"LT708304.1\":3624920-3987411 \"LT708304.1\":3987412-4349903 :::+ /tmp/1-362491.bcf /tmp/362492-724983.bcf /tmp/724984-1087475.bcf /tmp/1087476-1449967.bcf /tmp/1449968-1812459.bcf /tmp/1812460-2174951.bcf /tmp/2174952-2537443.bcf /tmp/2537444-2899935.bcf /tmp/2899936-3262427.bcf /tmp/3262428-3624919.bcf /tmp/3624920-3987411.bcf /tmp/3987412-4349903.bcf\n"
     ]
    },
    {
     "name": "stderr",
     "output_type": "stream",
     "text": [
      "[mpileup] 1 samples in 1 input files\n",
      "[mpileup] maximum number of reads per input file set to -d 500\n",
      "[mpileup] 1 samples in 1 input files\n",
      "[mpileup] maximum number of reads per input file set to -d 500\n",
      "[mpileup] 1 samples in 1 input files\n",
      "[mpileup] maximum number of reads per input file set to -d 500\n",
      "[mpileup] 1 samples in 1 input files\n",
      "[mpileup] maximum number of reads per input file set to -d 500\n",
      "[mpileup] 1 samples in 1 input files\n",
      "[mpileup] maximum number of reads per input file set to -d 500\n",
      "[mpileup] 1 samples in 1 input files\n",
      "[mpileup] maximum number of reads per input file set to -d 500\n",
      "[mpileup] 1 samples in 1 input files\n",
      "[mpileup] maximum number of reads per input file set to -d 500\n",
      "[mpileup] 1 samples in 1 input files\n",
      "[mpileup] maximum number of reads per input file set to -d 500\n",
      "[mpileup] 1 samples in 1 input files\n",
      "[mpileup] maximum number of reads per input file set to -d 500\n",
      "[mpileup] 1 samples in 1 input files\n",
      "[mpileup] maximum number of reads per input file set to -d 500\n",
      "[mpileup] 1 samples in 1 input files\n",
      "[mpileup] maximum number of reads per input file set to -d 500\n",
      "[mpileup] 1 samples in 1 input files\n",
      "[mpileup] maximum number of reads per input file set to -d 500\n",
      "Checking the headers and starting positions of 12 files\n",
      "Concatenating /tmp/1-362491.bcf"
     ]
    },
    {
     "name": "stdout",
     "output_type": "stream",
     "text": [
      "bcftools concat /tmp/1-362491.bcf /tmp/362492-724983.bcf /tmp/724984-1087475.bcf /tmp/1087476-1449967.bcf /tmp/1449968-1812459.bcf /tmp/1812460-2174951.bcf /tmp/2174952-2537443.bcf /tmp/2537444-2899935.bcf /tmp/2899936-3262427.bcf /tmp/3262428-3624919.bcf /tmp/3624920-3987411.bcf /tmp/3987412-4349903.bcf --threads 12 -O b -o /storage/btbgenie/all_ireland_results_new/variant_calling/TB19-011147/raw.bcf\n"
     ]
    },
    {
     "name": "stderr",
     "output_type": "stream",
     "text": [
      "\t0.175770 seconds\n",
      "Concatenating /tmp/362492-724983.bcf\t0.306782 seconds\n",
      "Concatenating /tmp/724984-1087475.bcf\t0.242226 seconds\n",
      "Concatenating /tmp/1087476-1449967.bcf\t0.240516 seconds\n",
      "Concatenating /tmp/1449968-1812459.bcf\t0.229551 seconds\n",
      "Concatenating /tmp/1812460-2174951.bcf\t0.220389 seconds\n",
      "Concatenating /tmp/2174952-2537443.bcf\t0.223001 seconds\n",
      "Concatenating /tmp/2537444-2899935.bcf\t0.228172 seconds\n",
      "Concatenating /tmp/2899936-3262427.bcf\t0.234088 seconds\n",
      "Concatenating /tmp/3262428-3624919.bcf\t0.249381 seconds\n",
      "Concatenating /tmp/3624920-3987411.bcf\t0.218548 seconds\n",
      "Concatenating /tmp/3987412-4349903.bcf\t0.243348 seconds\n"
     ]
    },
    {
     "name": "stdout",
     "output_type": "stream",
     "text": [
      "TB19-011143\n",
      "[      1  362492  724984 1087476 1449968 1812460 2174952 2537444 2899936\n",
      " 3262428 3624920 3987412 4349904]\n",
      "parallel bcftools mpileup -r {1} -a \"AD,ADF,ADR,DP,SP,INFO/AD,INFO/ADF,INFO/ADR\" -O b --max-depth 500 --min-MQ 60 -o {2} -f /home/farrell/.config/snipgenie/genome/Mbovis_AF212297.fa /storage/btbgenie/all_ireland_results/mapped/TB19-011143.bam ::: \"LT708304.1\":1-362491 \"LT708304.1\":362492-724983 \"LT708304.1\":724984-1087475 \"LT708304.1\":1087476-1449967 \"LT708304.1\":1449968-1812459 \"LT708304.1\":1812460-2174951 \"LT708304.1\":2174952-2537443 \"LT708304.1\":2537444-2899935 \"LT708304.1\":2899936-3262427 \"LT708304.1\":3262428-3624919 \"LT708304.1\":3624920-3987411 \"LT708304.1\":3987412-4349903 :::+ /tmp/1-362491.bcf /tmp/362492-724983.bcf /tmp/724984-1087475.bcf /tmp/1087476-1449967.bcf /tmp/1449968-1812459.bcf /tmp/1812460-2174951.bcf /tmp/2174952-2537443.bcf /tmp/2537444-2899935.bcf /tmp/2899936-3262427.bcf /tmp/3262428-3624919.bcf /tmp/3624920-3987411.bcf /tmp/3987412-4349903.bcf\n"
     ]
    },
    {
     "name": "stderr",
     "output_type": "stream",
     "text": [
      "[mpileup] 1 samples in 1 input files\n",
      "[mpileup] maximum number of reads per input file set to -d 500\n",
      "[mpileup] 1 samples in 1 input files\n",
      "[mpileup] maximum number of reads per input file set to -d 500\n",
      "[mpileup] 1 samples in 1 input files\n",
      "[mpileup] maximum number of reads per input file set to -d 500\n",
      "[mpileup] 1 samples in 1 input files\n",
      "[mpileup] maximum number of reads per input file set to -d 500\n",
      "[mpileup] 1 samples in 1 input files\n",
      "[mpileup] maximum number of reads per input file set to -d 500\n",
      "[mpileup] 1 samples in 1 input files\n",
      "[mpileup] maximum number of reads per input file set to -d 500\n",
      "[mpileup] 1 samples in 1 input files\n",
      "[mpileup] maximum number of reads per input file set to -d 500\n",
      "[mpileup] 1 samples in 1 input files\n",
      "[mpileup] maximum number of reads per input file set to -d 500\n",
      "[mpileup] 1 samples in 1 input files\n",
      "[mpileup] maximum number of reads per input file set to -d 500\n",
      "[mpileup] 1 samples in 1 input files\n",
      "[mpileup] maximum number of reads per input file set to -d 500\n",
      "[mpileup] 1 samples in 1 input files\n",
      "[mpileup] maximum number of reads per input file set to -d 500\n",
      "[mpileup] 1 samples in 1 input files\n",
      "[mpileup] maximum number of reads per input file set to -d 500\n",
      "Checking the headers and starting positions of 12 files\n",
      "Concatenating /tmp/1-362491.bcf"
     ]
    },
    {
     "name": "stdout",
     "output_type": "stream",
     "text": [
      "bcftools concat /tmp/1-362491.bcf /tmp/362492-724983.bcf /tmp/724984-1087475.bcf /tmp/1087476-1449967.bcf /tmp/1449968-1812459.bcf /tmp/1812460-2174951.bcf /tmp/2174952-2537443.bcf /tmp/2537444-2899935.bcf /tmp/2899936-3262427.bcf /tmp/3262428-3624919.bcf /tmp/3624920-3987411.bcf /tmp/3987412-4349903.bcf --threads 12 -O b -o /storage/btbgenie/all_ireland_results_new/variant_calling/TB19-011143/raw.bcf\n"
     ]
    },
    {
     "name": "stderr",
     "output_type": "stream",
     "text": [
      "\t0.266716 seconds\n",
      "Concatenating /tmp/362492-724983.bcf\t0.387026 seconds\n",
      "Concatenating /tmp/724984-1087475.bcf\t0.258625 seconds\n",
      "Concatenating /tmp/1087476-1449967.bcf\t0.256811 seconds\n",
      "Concatenating /tmp/1449968-1812459.bcf\t0.247790 seconds\n",
      "Concatenating /tmp/1812460-2174951.bcf\t0.247714 seconds\n",
      "Concatenating /tmp/2174952-2537443.bcf\t0.242069 seconds\n",
      "Concatenating /tmp/2537444-2899935.bcf\t0.255912 seconds\n",
      "Concatenating /tmp/2899936-3262427.bcf\t0.254195 seconds\n",
      "Concatenating /tmp/3262428-3624919.bcf\t0.339574 seconds\n",
      "Concatenating /tmp/3624920-3987411.bcf\t0.244092 seconds\n",
      "Concatenating /tmp/3987412-4349903.bcf\t0.247479 seconds\n"
     ]
    },
    {
     "name": "stdout",
     "output_type": "stream",
     "text": [
      "TB19-011141\n",
      "[      1  362492  724984 1087476 1449968 1812460 2174952 2537444 2899936\n",
      " 3262428 3624920 3987412 4349904]\n",
      "parallel bcftools mpileup -r {1} -a \"AD,ADF,ADR,DP,SP,INFO/AD,INFO/ADF,INFO/ADR\" -O b --max-depth 500 --min-MQ 60 -o {2} -f /home/farrell/.config/snipgenie/genome/Mbovis_AF212297.fa /storage/btbgenie/all_ireland_results/mapped/TB19-011141.bam ::: \"LT708304.1\":1-362491 \"LT708304.1\":362492-724983 \"LT708304.1\":724984-1087475 \"LT708304.1\":1087476-1449967 \"LT708304.1\":1449968-1812459 \"LT708304.1\":1812460-2174951 \"LT708304.1\":2174952-2537443 \"LT708304.1\":2537444-2899935 \"LT708304.1\":2899936-3262427 \"LT708304.1\":3262428-3624919 \"LT708304.1\":3624920-3987411 \"LT708304.1\":3987412-4349903 :::+ /tmp/1-362491.bcf /tmp/362492-724983.bcf /tmp/724984-1087475.bcf /tmp/1087476-1449967.bcf /tmp/1449968-1812459.bcf /tmp/1812460-2174951.bcf /tmp/2174952-2537443.bcf /tmp/2537444-2899935.bcf /tmp/2899936-3262427.bcf /tmp/3262428-3624919.bcf /tmp/3624920-3987411.bcf /tmp/3987412-4349903.bcf\n"
     ]
    },
    {
     "name": "stderr",
     "output_type": "stream",
     "text": [
      "[mpileup] 1 samples in 1 input files\n",
      "[mpileup] maximum number of reads per input file set to -d 500\n",
      "[mpileup] 1 samples in 1 input files\n",
      "[mpileup] maximum number of reads per input file set to -d 500\n",
      "[mpileup] 1 samples in 1 input files\n",
      "[mpileup] maximum number of reads per input file set to -d 500\n",
      "[mpileup] 1 samples in 1 input files\n",
      "[mpileup] maximum number of reads per input file set to -d 500\n",
      "[mpileup] 1 samples in 1 input files\n",
      "[mpileup] maximum number of reads per input file set to -d 500\n",
      "[mpileup] 1 samples in 1 input files\n",
      "[mpileup] maximum number of reads per input file set to -d 500\n",
      "[mpileup] 1 samples in 1 input files\n",
      "[mpileup] maximum number of reads per input file set to -d 500\n",
      "[mpileup] 1 samples in 1 input files\n",
      "[mpileup] maximum number of reads per input file set to -d 500\n",
      "[mpileup] 1 samples in 1 input files\n",
      "[mpileup] maximum number of reads per input file set to -d 500\n",
      "[mpileup] 1 samples in 1 input files\n",
      "[mpileup] maximum number of reads per input file set to -d 500\n",
      "[mpileup] 1 samples in 1 input files\n",
      "[mpileup] maximum number of reads per input file set to -d 500\n",
      "[mpileup] 1 samples in 1 input files\n",
      "[mpileup] maximum number of reads per input file set to -d 500\n",
      "Checking the headers and starting positions of 12 files\n",
      "Concatenating /tmp/1-362491.bcf"
     ]
    },
    {
     "name": "stdout",
     "output_type": "stream",
     "text": [
      "bcftools concat /tmp/1-362491.bcf /tmp/362492-724983.bcf /tmp/724984-1087475.bcf /tmp/1087476-1449967.bcf /tmp/1449968-1812459.bcf /tmp/1812460-2174951.bcf /tmp/2174952-2537443.bcf /tmp/2537444-2899935.bcf /tmp/2899936-3262427.bcf /tmp/3262428-3624919.bcf /tmp/3624920-3987411.bcf /tmp/3987412-4349903.bcf --threads 12 -O b -o /storage/btbgenie/all_ireland_results_new/variant_calling/TB19-011141/raw.bcf\n"
     ]
    },
    {
     "name": "stderr",
     "output_type": "stream",
     "text": [
      "\t0.265559 seconds\n",
      "Concatenating /tmp/362492-724983.bcf\t0.269865 seconds\n",
      "Concatenating /tmp/724984-1087475.bcf\t0.252802 seconds\n",
      "Concatenating /tmp/1087476-1449967.bcf\t0.256829 seconds\n",
      "Concatenating /tmp/1449968-1812459.bcf\t0.263309 seconds\n",
      "Concatenating /tmp/1812460-2174951.bcf\t0.242415 seconds\n",
      "Concatenating /tmp/2174952-2537443.bcf\t0.268109 seconds\n",
      "Concatenating /tmp/2537444-2899935.bcf\t0.267591 seconds\n",
      "Concatenating /tmp/2899936-3262427.bcf\t0.252227 seconds\n",
      "Concatenating /tmp/3262428-3624919.bcf\t0.267328 seconds\n",
      "Concatenating /tmp/3624920-3987411.bcf\t0.325692 seconds\n",
      "Concatenating /tmp/3987412-4349903.bcf\t0.264908 seconds\n"
     ]
    },
    {
     "name": "stdout",
     "output_type": "stream",
     "text": [
      "TB19-011140\n",
      "[      1  362492  724984 1087476 1449968 1812460 2174952 2537444 2899936\n",
      " 3262428 3624920 3987412 4349904]\n",
      "parallel bcftools mpileup -r {1} -a \"AD,ADF,ADR,DP,SP,INFO/AD,INFO/ADF,INFO/ADR\" -O b --max-depth 500 --min-MQ 60 -o {2} -f /home/farrell/.config/snipgenie/genome/Mbovis_AF212297.fa /storage/btbgenie/all_ireland_results/mapped/TB19-011140.bam ::: \"LT708304.1\":1-362491 \"LT708304.1\":362492-724983 \"LT708304.1\":724984-1087475 \"LT708304.1\":1087476-1449967 \"LT708304.1\":1449968-1812459 \"LT708304.1\":1812460-2174951 \"LT708304.1\":2174952-2537443 \"LT708304.1\":2537444-2899935 \"LT708304.1\":2899936-3262427 \"LT708304.1\":3262428-3624919 \"LT708304.1\":3624920-3987411 \"LT708304.1\":3987412-4349903 :::+ /tmp/1-362491.bcf /tmp/362492-724983.bcf /tmp/724984-1087475.bcf /tmp/1087476-1449967.bcf /tmp/1449968-1812459.bcf /tmp/1812460-2174951.bcf /tmp/2174952-2537443.bcf /tmp/2537444-2899935.bcf /tmp/2899936-3262427.bcf /tmp/3262428-3624919.bcf /tmp/3624920-3987411.bcf /tmp/3987412-4349903.bcf\n"
     ]
    },
    {
     "name": "stderr",
     "output_type": "stream",
     "text": [
      "[mpileup] 1 samples in 1 input files\n",
      "[mpileup] maximum number of reads per input file set to -d 500\n",
      "[mpileup] 1 samples in 1 input files\n",
      "[mpileup] maximum number of reads per input file set to -d 500\n",
      "[mpileup] 1 samples in 1 input files\n",
      "[mpileup] maximum number of reads per input file set to -d 500\n",
      "[mpileup] 1 samples in 1 input files\n",
      "[mpileup] maximum number of reads per input file set to -d 500\n",
      "[mpileup] 1 samples in 1 input files\n",
      "[mpileup] maximum number of reads per input file set to -d 500\n",
      "[mpileup] 1 samples in 1 input files\n",
      "[mpileup] maximum number of reads per input file set to -d 500\n",
      "[mpileup] 1 samples in 1 input files\n",
      "[mpileup] maximum number of reads per input file set to -d 500\n",
      "[mpileup] 1 samples in 1 input files\n",
      "[mpileup] maximum number of reads per input file set to -d 500\n",
      "[mpileup] 1 samples in 1 input files\n",
      "[mpileup] maximum number of reads per input file set to -d 500\n",
      "[mpileup] 1 samples in 1 input files\n",
      "[mpileup] maximum number of reads per input file set to -d 500\n",
      "[mpileup] 1 samples in 1 input files\n",
      "[mpileup] maximum number of reads per input file set to -d 500\n",
      "[mpileup] 1 samples in 1 input files\n",
      "[mpileup] maximum number of reads per input file set to -d 500\n",
      "Checking the headers and starting positions of 12 files\n",
      "Concatenating /tmp/1-362491.bcf"
     ]
    },
    {
     "name": "stdout",
     "output_type": "stream",
     "text": [
      "bcftools concat /tmp/1-362491.bcf /tmp/362492-724983.bcf /tmp/724984-1087475.bcf /tmp/1087476-1449967.bcf /tmp/1449968-1812459.bcf /tmp/1812460-2174951.bcf /tmp/2174952-2537443.bcf /tmp/2537444-2899935.bcf /tmp/2899936-3262427.bcf /tmp/3262428-3624919.bcf /tmp/3624920-3987411.bcf /tmp/3987412-4349903.bcf --threads 12 -O b -o /storage/btbgenie/all_ireland_results_new/variant_calling/TB19-011140/raw.bcf\n"
     ]
    },
    {
     "name": "stderr",
     "output_type": "stream",
     "text": [
      "\t0.268577 seconds\n",
      "Concatenating /tmp/362492-724983.bcf\t0.270025 seconds\n",
      "Concatenating /tmp/724984-1087475.bcf\t0.241848 seconds\n",
      "Concatenating /tmp/1087476-1449967.bcf\t0.281375 seconds\n",
      "Concatenating /tmp/1449968-1812459.bcf\t0.252160 seconds\n",
      "Concatenating /tmp/1812460-2174951.bcf\t0.264979 seconds\n",
      "Concatenating /tmp/2174952-2537443.bcf\t0.268643 seconds\n",
      "Concatenating /tmp/2537444-2899935.bcf\t0.261745 seconds\n",
      "Concatenating /tmp/2899936-3262427.bcf\t0.262033 seconds\n",
      "Concatenating /tmp/3262428-3624919.bcf\t0.252296 seconds\n",
      "Concatenating /tmp/3624920-3987411.bcf\t0.344877 seconds\n",
      "Concatenating /tmp/3987412-4349903.bcf\t0.353209 seconds\n"
     ]
    },
    {
     "name": "stdout",
     "output_type": "stream",
     "text": [
      "TB19-011135\n",
      "[      1  362492  724984 1087476 1449968 1812460 2174952 2537444 2899936\n",
      " 3262428 3624920 3987412 4349904]\n",
      "parallel bcftools mpileup -r {1} -a \"AD,ADF,ADR,DP,SP,INFO/AD,INFO/ADF,INFO/ADR\" -O b --max-depth 500 --min-MQ 60 -o {2} -f /home/farrell/.config/snipgenie/genome/Mbovis_AF212297.fa /storage/btbgenie/all_ireland_results/mapped/TB19-011135.bam ::: \"LT708304.1\":1-362491 \"LT708304.1\":362492-724983 \"LT708304.1\":724984-1087475 \"LT708304.1\":1087476-1449967 \"LT708304.1\":1449968-1812459 \"LT708304.1\":1812460-2174951 \"LT708304.1\":2174952-2537443 \"LT708304.1\":2537444-2899935 \"LT708304.1\":2899936-3262427 \"LT708304.1\":3262428-3624919 \"LT708304.1\":3624920-3987411 \"LT708304.1\":3987412-4349903 :::+ /tmp/1-362491.bcf /tmp/362492-724983.bcf /tmp/724984-1087475.bcf /tmp/1087476-1449967.bcf /tmp/1449968-1812459.bcf /tmp/1812460-2174951.bcf /tmp/2174952-2537443.bcf /tmp/2537444-2899935.bcf /tmp/2899936-3262427.bcf /tmp/3262428-3624919.bcf /tmp/3624920-3987411.bcf /tmp/3987412-4349903.bcf\n"
     ]
    },
    {
     "name": "stderr",
     "output_type": "stream",
     "text": [
      "[mpileup] 1 samples in 1 input files\n",
      "[mpileup] maximum number of reads per input file set to -d 500\n",
      "[mpileup] 1 samples in 1 input files\n",
      "[mpileup] maximum number of reads per input file set to -d 500\n",
      "[mpileup] 1 samples in 1 input files\n",
      "[mpileup] maximum number of reads per input file set to -d 500\n",
      "[mpileup] 1 samples in 1 input files\n",
      "[mpileup] maximum number of reads per input file set to -d 500\n",
      "[mpileup] 1 samples in 1 input files\n",
      "[mpileup] maximum number of reads per input file set to -d 500\n",
      "[mpileup] 1 samples in 1 input files\n",
      "[mpileup] maximum number of reads per input file set to -d 500\n",
      "[mpileup] 1 samples in 1 input files\n",
      "[mpileup] maximum number of reads per input file set to -d 500\n",
      "[mpileup] 1 samples in 1 input files\n",
      "[mpileup] maximum number of reads per input file set to -d 500\n",
      "[mpileup] 1 samples in 1 input files\n",
      "[mpileup] maximum number of reads per input file set to -d 500\n",
      "[mpileup] 1 samples in 1 input files\n",
      "[mpileup] maximum number of reads per input file set to -d 500\n",
      "[mpileup] 1 samples in 1 input files\n",
      "[mpileup] maximum number of reads per input file set to -d 500\n",
      "[mpileup] 1 samples in 1 input files\n",
      "[mpileup] maximum number of reads per input file set to -d 500\n",
      "Checking the headers and starting positions of 12 files\n",
      "Concatenating /tmp/1-362491.bcf"
     ]
    },
    {
     "name": "stdout",
     "output_type": "stream",
     "text": [
      "bcftools concat /tmp/1-362491.bcf /tmp/362492-724983.bcf /tmp/724984-1087475.bcf /tmp/1087476-1449967.bcf /tmp/1449968-1812459.bcf /tmp/1812460-2174951.bcf /tmp/2174952-2537443.bcf /tmp/2537444-2899935.bcf /tmp/2899936-3262427.bcf /tmp/3262428-3624919.bcf /tmp/3624920-3987411.bcf /tmp/3987412-4349903.bcf --threads 12 -O b -o /storage/btbgenie/all_ireland_results_new/variant_calling/TB19-011135/raw.bcf\n"
     ]
    },
    {
     "name": "stderr",
     "output_type": "stream",
     "text": [
      "\t0.172540 seconds\n",
      "Concatenating /tmp/362492-724983.bcf\t0.334714 seconds\n",
      "Concatenating /tmp/724984-1087475.bcf\t0.254988 seconds\n",
      "Concatenating /tmp/1087476-1449967.bcf\t0.251481 seconds\n",
      "Concatenating /tmp/1449968-1812459.bcf\t0.265915 seconds\n",
      "Concatenating /tmp/1812460-2174951.bcf\t0.272290 seconds\n",
      "Concatenating /tmp/2174952-2537443.bcf\t0.254285 seconds\n",
      "Concatenating /tmp/2537444-2899935.bcf\t0.251105 seconds\n",
      "Concatenating /tmp/2899936-3262427.bcf\t0.239808 seconds\n",
      "Concatenating /tmp/3262428-3624919.bcf\t0.253746 seconds\n",
      "Concatenating /tmp/3624920-3987411.bcf\t0.262156 seconds\n",
      "Concatenating /tmp/3987412-4349903.bcf\t0.244905 seconds\n"
     ]
    },
    {
     "name": "stdout",
     "output_type": "stream",
     "text": [
      "TB19-011128\n",
      "[      1  362492  724984 1087476 1449968 1812460 2174952 2537444 2899936\n",
      " 3262428 3624920 3987412 4349904]\n",
      "parallel bcftools mpileup -r {1} -a \"AD,ADF,ADR,DP,SP,INFO/AD,INFO/ADF,INFO/ADR\" -O b --max-depth 500 --min-MQ 60 -o {2} -f /home/farrell/.config/snipgenie/genome/Mbovis_AF212297.fa /storage/btbgenie/all_ireland_results/mapped/TB19-011128.bam ::: \"LT708304.1\":1-362491 \"LT708304.1\":362492-724983 \"LT708304.1\":724984-1087475 \"LT708304.1\":1087476-1449967 \"LT708304.1\":1449968-1812459 \"LT708304.1\":1812460-2174951 \"LT708304.1\":2174952-2537443 \"LT708304.1\":2537444-2899935 \"LT708304.1\":2899936-3262427 \"LT708304.1\":3262428-3624919 \"LT708304.1\":3624920-3987411 \"LT708304.1\":3987412-4349903 :::+ /tmp/1-362491.bcf /tmp/362492-724983.bcf /tmp/724984-1087475.bcf /tmp/1087476-1449967.bcf /tmp/1449968-1812459.bcf /tmp/1812460-2174951.bcf /tmp/2174952-2537443.bcf /tmp/2537444-2899935.bcf /tmp/2899936-3262427.bcf /tmp/3262428-3624919.bcf /tmp/3624920-3987411.bcf /tmp/3987412-4349903.bcf\n"
     ]
    },
    {
     "name": "stderr",
     "output_type": "stream",
     "text": [
      "[mpileup] 1 samples in 1 input files\n",
      "[mpileup] maximum number of reads per input file set to -d 500\n",
      "[mpileup] 1 samples in 1 input files\n",
      "[mpileup] maximum number of reads per input file set to -d 500\n",
      "[mpileup] 1 samples in 1 input files\n",
      "[mpileup] maximum number of reads per input file set to -d 500\n",
      "[mpileup] 1 samples in 1 input files\n",
      "[mpileup] maximum number of reads per input file set to -d 500\n",
      "[mpileup] 1 samples in 1 input files\n",
      "[mpileup] maximum number of reads per input file set to -d 500\n",
      "[mpileup] 1 samples in 1 input files\n",
      "[mpileup] maximum number of reads per input file set to -d 500\n",
      "[mpileup] 1 samples in 1 input files\n",
      "[mpileup] maximum number of reads per input file set to -d 500\n",
      "[mpileup] 1 samples in 1 input files\n",
      "[mpileup] maximum number of reads per input file set to -d 500\n",
      "[mpileup] 1 samples in 1 input files\n",
      "[mpileup] maximum number of reads per input file set to -d 500\n",
      "[mpileup] 1 samples in 1 input files\n",
      "[mpileup] maximum number of reads per input file set to -d 500\n",
      "[mpileup] 1 samples in 1 input files\n",
      "[mpileup] maximum number of reads per input file set to -d 500\n",
      "[mpileup] 1 samples in 1 input files\n",
      "[mpileup] maximum number of reads per input file set to -d 500\n",
      "Checking the headers and starting positions of 12 files\n",
      "Concatenating /tmp/1-362491.bcf"
     ]
    },
    {
     "name": "stdout",
     "output_type": "stream",
     "text": [
      "bcftools concat /tmp/1-362491.bcf /tmp/362492-724983.bcf /tmp/724984-1087475.bcf /tmp/1087476-1449967.bcf /tmp/1449968-1812459.bcf /tmp/1812460-2174951.bcf /tmp/2174952-2537443.bcf /tmp/2537444-2899935.bcf /tmp/2899936-3262427.bcf /tmp/3262428-3624919.bcf /tmp/3624920-3987411.bcf /tmp/3987412-4349903.bcf --threads 12 -O b -o /storage/btbgenie/all_ireland_results_new/variant_calling/TB19-011128/raw.bcf\n"
     ]
    },
    {
     "name": "stderr",
     "output_type": "stream",
     "text": [
      "\t0.287893 seconds\n",
      "Concatenating /tmp/362492-724983.bcf\t0.269546 seconds\n",
      "Concatenating /tmp/724984-1087475.bcf\t0.288766 seconds\n",
      "Concatenating /tmp/1087476-1449967.bcf\t0.289795 seconds\n",
      "Concatenating /tmp/1449968-1812459.bcf\t0.280650 seconds\n",
      "Concatenating /tmp/1812460-2174951.bcf\t0.381679 seconds\n",
      "Concatenating /tmp/2174952-2537443.bcf\t0.292231 seconds\n",
      "Concatenating /tmp/2537444-2899935.bcf\t0.294011 seconds\n",
      "Concatenating /tmp/2899936-3262427.bcf\t0.276048 seconds\n",
      "Concatenating /tmp/3262428-3624919.bcf\t0.281642 seconds\n",
      "Concatenating /tmp/3624920-3987411.bcf\t0.298454 seconds\n",
      "Concatenating /tmp/3987412-4349903.bcf\t0.375302 seconds\n"
     ]
    },
    {
     "name": "stdout",
     "output_type": "stream",
     "text": [
      "TB19-011149\n",
      "[      1  362492  724984 1087476 1449968 1812460 2174952 2537444 2899936\n",
      " 3262428 3624920 3987412 4349904]\n",
      "parallel bcftools mpileup -r {1} -a \"AD,ADF,ADR,DP,SP,INFO/AD,INFO/ADF,INFO/ADR\" -O b --max-depth 500 --min-MQ 60 -o {2} -f /home/farrell/.config/snipgenie/genome/Mbovis_AF212297.fa /storage/btbgenie/all_ireland_results/mapped/TB19-011149.bam ::: \"LT708304.1\":1-362491 \"LT708304.1\":362492-724983 \"LT708304.1\":724984-1087475 \"LT708304.1\":1087476-1449967 \"LT708304.1\":1449968-1812459 \"LT708304.1\":1812460-2174951 \"LT708304.1\":2174952-2537443 \"LT708304.1\":2537444-2899935 \"LT708304.1\":2899936-3262427 \"LT708304.1\":3262428-3624919 \"LT708304.1\":3624920-3987411 \"LT708304.1\":3987412-4349903 :::+ /tmp/1-362491.bcf /tmp/362492-724983.bcf /tmp/724984-1087475.bcf /tmp/1087476-1449967.bcf /tmp/1449968-1812459.bcf /tmp/1812460-2174951.bcf /tmp/2174952-2537443.bcf /tmp/2537444-2899935.bcf /tmp/2899936-3262427.bcf /tmp/3262428-3624919.bcf /tmp/3624920-3987411.bcf /tmp/3987412-4349903.bcf\n"
     ]
    },
    {
     "name": "stderr",
     "output_type": "stream",
     "text": [
      "[mpileup] 1 samples in 1 input files\n",
      "[mpileup] maximum number of reads per input file set to -d 500\n",
      "[mpileup] 1 samples in 1 input files\n",
      "[mpileup] maximum number of reads per input file set to -d 500\n",
      "[mpileup] 1 samples in 1 input files\n",
      "[mpileup] maximum number of reads per input file set to -d 500\n",
      "[mpileup] 1 samples in 1 input files\n",
      "[mpileup] maximum number of reads per input file set to -d 500\n",
      "[mpileup] 1 samples in 1 input files\n",
      "[mpileup] maximum number of reads per input file set to -d 500\n",
      "[mpileup] 1 samples in 1 input files\n",
      "[mpileup] maximum number of reads per input file set to -d 500\n",
      "[mpileup] 1 samples in 1 input files\n",
      "[mpileup] maximum number of reads per input file set to -d 500\n",
      "[mpileup] 1 samples in 1 input files\n",
      "[mpileup] maximum number of reads per input file set to -d 500\n",
      "[mpileup] 1 samples in 1 input files\n",
      "[mpileup] maximum number of reads per input file set to -d 500\n",
      "[mpileup] 1 samples in 1 input files\n",
      "[mpileup] maximum number of reads per input file set to -d 500\n",
      "[mpileup] 1 samples in 1 input files\n",
      "[mpileup] maximum number of reads per input file set to -d 500\n",
      "[mpileup] 1 samples in 1 input files\n",
      "[mpileup] maximum number of reads per input file set to -d 500\n",
      "Checking the headers and starting positions of 12 files\n",
      "Concatenating /tmp/1-362491.bcf"
     ]
    },
    {
     "name": "stdout",
     "output_type": "stream",
     "text": [
      "bcftools concat /tmp/1-362491.bcf /tmp/362492-724983.bcf /tmp/724984-1087475.bcf /tmp/1087476-1449967.bcf /tmp/1449968-1812459.bcf /tmp/1812460-2174951.bcf /tmp/2174952-2537443.bcf /tmp/2537444-2899935.bcf /tmp/2899936-3262427.bcf /tmp/3262428-3624919.bcf /tmp/3624920-3987411.bcf /tmp/3987412-4349903.bcf --threads 12 -O b -o /storage/btbgenie/all_ireland_results_new/variant_calling/TB19-011149/raw.bcf\n"
     ]
    },
    {
     "name": "stderr",
     "output_type": "stream",
     "text": [
      "\t0.296997 seconds\n",
      "Concatenating /tmp/362492-724983.bcf\t0.292811 seconds\n",
      "Concatenating /tmp/724984-1087475.bcf\t0.279519 seconds\n",
      "Concatenating /tmp/1087476-1449967.bcf\t0.271833 seconds\n",
      "Concatenating /tmp/1449968-1812459.bcf\t0.275740 seconds\n",
      "Concatenating /tmp/1812460-2174951.bcf\t0.372721 seconds\n",
      "Concatenating /tmp/2174952-2537443.bcf\t0.305640 seconds\n",
      "Concatenating /tmp/2537444-2899935.bcf\t0.311122 seconds\n",
      "Concatenating /tmp/2899936-3262427.bcf\t0.289788 seconds\n",
      "Concatenating /tmp/3262428-3624919.bcf\t0.270815 seconds\n",
      "Concatenating /tmp/3624920-3987411.bcf\t0.381144 seconds\n",
      "Concatenating /tmp/3987412-4349903.bcf\t0.284775 seconds\n"
     ]
    },
    {
     "name": "stdout",
     "output_type": "stream",
     "text": [
      "TB19-011215\n",
      "[      1  362492  724984 1087476 1449968 1812460 2174952 2537444 2899936\n",
      " 3262428 3624920 3987412 4349904]\n",
      "parallel bcftools mpileup -r {1} -a \"AD,ADF,ADR,DP,SP,INFO/AD,INFO/ADF,INFO/ADR\" -O b --max-depth 500 --min-MQ 60 -o {2} -f /home/farrell/.config/snipgenie/genome/Mbovis_AF212297.fa /storage/btbgenie/all_ireland_results/mapped/TB19-011215.bam ::: \"LT708304.1\":1-362491 \"LT708304.1\":362492-724983 \"LT708304.1\":724984-1087475 \"LT708304.1\":1087476-1449967 \"LT708304.1\":1449968-1812459 \"LT708304.1\":1812460-2174951 \"LT708304.1\":2174952-2537443 \"LT708304.1\":2537444-2899935 \"LT708304.1\":2899936-3262427 \"LT708304.1\":3262428-3624919 \"LT708304.1\":3624920-3987411 \"LT708304.1\":3987412-4349903 :::+ /tmp/1-362491.bcf /tmp/362492-724983.bcf /tmp/724984-1087475.bcf /tmp/1087476-1449967.bcf /tmp/1449968-1812459.bcf /tmp/1812460-2174951.bcf /tmp/2174952-2537443.bcf /tmp/2537444-2899935.bcf /tmp/2899936-3262427.bcf /tmp/3262428-3624919.bcf /tmp/3624920-3987411.bcf /tmp/3987412-4349903.bcf\n"
     ]
    },
    {
     "name": "stderr",
     "output_type": "stream",
     "text": [
      "[mpileup] 1 samples in 1 input files\n",
      "[mpileup] maximum number of reads per input file set to -d 500\n",
      "[mpileup] 1 samples in 1 input files\n",
      "[mpileup] maximum number of reads per input file set to -d 500\n",
      "[mpileup] 1 samples in 1 input files\n",
      "[mpileup] maximum number of reads per input file set to -d 500\n",
      "[mpileup] 1 samples in 1 input files\n",
      "[mpileup] maximum number of reads per input file set to -d 500\n",
      "[mpileup] 1 samples in 1 input files\n",
      "[mpileup] maximum number of reads per input file set to -d 500\n",
      "[mpileup] 1 samples in 1 input files\n",
      "[mpileup] maximum number of reads per input file set to -d 500\n",
      "[mpileup] 1 samples in 1 input files\n",
      "[mpileup] maximum number of reads per input file set to -d 500\n",
      "[mpileup] 1 samples in 1 input files\n",
      "[mpileup] maximum number of reads per input file set to -d 500\n",
      "[mpileup] 1 samples in 1 input files\n",
      "[mpileup] maximum number of reads per input file set to -d 500\n",
      "[mpileup] 1 samples in 1 input files\n",
      "[mpileup] maximum number of reads per input file set to -d 500\n",
      "[mpileup] 1 samples in 1 input files\n",
      "[mpileup] maximum number of reads per input file set to -d 500\n",
      "[mpileup] 1 samples in 1 input files\n",
      "[mpileup] maximum number of reads per input file set to -d 500\n",
      "Checking the headers and starting positions of 12 files\n",
      "Concatenating /tmp/1-362491.bcf"
     ]
    },
    {
     "name": "stdout",
     "output_type": "stream",
     "text": [
      "bcftools concat /tmp/1-362491.bcf /tmp/362492-724983.bcf /tmp/724984-1087475.bcf /tmp/1087476-1449967.bcf /tmp/1449968-1812459.bcf /tmp/1812460-2174951.bcf /tmp/2174952-2537443.bcf /tmp/2537444-2899935.bcf /tmp/2899936-3262427.bcf /tmp/3262428-3624919.bcf /tmp/3624920-3987411.bcf /tmp/3987412-4349903.bcf --threads 12 -O b -o /storage/btbgenie/all_ireland_results_new/variant_calling/TB19-011215/raw.bcf\n"
     ]
    },
    {
     "name": "stderr",
     "output_type": "stream",
     "text": [
      "\t0.298514 seconds\n",
      "Concatenating /tmp/362492-724983.bcf\t0.292892 seconds\n",
      "Concatenating /tmp/724984-1087475.bcf\t0.280340 seconds\n",
      "Concatenating /tmp/1087476-1449967.bcf\t0.277619 seconds\n",
      "Concatenating /tmp/1449968-1812459.bcf\t0.278964 seconds\n",
      "Concatenating /tmp/1812460-2174951.bcf\t0.394987 seconds\n",
      "Concatenating /tmp/2174952-2537443.bcf\t0.294529 seconds\n",
      "Concatenating /tmp/2537444-2899935.bcf\t0.299100 seconds\n",
      "Concatenating /tmp/2899936-3262427.bcf\t0.279752 seconds\n",
      "Concatenating /tmp/3262428-3624919.bcf\t0.289885 seconds\n",
      "Concatenating /tmp/3624920-3987411.bcf\t0.383207 seconds\n",
      "Concatenating /tmp/3987412-4349903.bcf\t0.296223 seconds\n"
     ]
    },
    {
     "name": "stdout",
     "output_type": "stream",
     "text": [
      "TB19-011226\n",
      "[      1  362492  724984 1087476 1449968 1812460 2174952 2537444 2899936\n",
      " 3262428 3624920 3987412 4349904]\n",
      "parallel bcftools mpileup -r {1} -a \"AD,ADF,ADR,DP,SP,INFO/AD,INFO/ADF,INFO/ADR\" -O b --max-depth 500 --min-MQ 60 -o {2} -f /home/farrell/.config/snipgenie/genome/Mbovis_AF212297.fa /storage/btbgenie/all_ireland_results/mapped/TB19-011226.bam ::: \"LT708304.1\":1-362491 \"LT708304.1\":362492-724983 \"LT708304.1\":724984-1087475 \"LT708304.1\":1087476-1449967 \"LT708304.1\":1449968-1812459 \"LT708304.1\":1812460-2174951 \"LT708304.1\":2174952-2537443 \"LT708304.1\":2537444-2899935 \"LT708304.1\":2899936-3262427 \"LT708304.1\":3262428-3624919 \"LT708304.1\":3624920-3987411 \"LT708304.1\":3987412-4349903 :::+ /tmp/1-362491.bcf /tmp/362492-724983.bcf /tmp/724984-1087475.bcf /tmp/1087476-1449967.bcf /tmp/1449968-1812459.bcf /tmp/1812460-2174951.bcf /tmp/2174952-2537443.bcf /tmp/2537444-2899935.bcf /tmp/2899936-3262427.bcf /tmp/3262428-3624919.bcf /tmp/3624920-3987411.bcf /tmp/3987412-4349903.bcf\n"
     ]
    },
    {
     "name": "stderr",
     "output_type": "stream",
     "text": [
      "[mpileup] 1 samples in 1 input files\n",
      "[mpileup] maximum number of reads per input file set to -d 500\n",
      "[mpileup] 1 samples in 1 input files\n",
      "[mpileup] maximum number of reads per input file set to -d 500\n",
      "[mpileup] 1 samples in 1 input files\n",
      "[mpileup] maximum number of reads per input file set to -d 500\n",
      "[mpileup] 1 samples in 1 input files\n",
      "[mpileup] maximum number of reads per input file set to -d 500\n",
      "[mpileup] 1 samples in 1 input files\n",
      "[mpileup] maximum number of reads per input file set to -d 500\n",
      "[mpileup] 1 samples in 1 input files\n",
      "[mpileup] maximum number of reads per input file set to -d 500\n",
      "[mpileup] 1 samples in 1 input files\n",
      "[mpileup] maximum number of reads per input file set to -d 500\n",
      "[mpileup] 1 samples in 1 input files\n",
      "[mpileup] maximum number of reads per input file set to -d 500\n",
      "[mpileup] 1 samples in 1 input files\n",
      "[mpileup] maximum number of reads per input file set to -d 500\n",
      "[mpileup] 1 samples in 1 input files\n",
      "[mpileup] maximum number of reads per input file set to -d 500\n",
      "[mpileup] 1 samples in 1 input files\n",
      "[mpileup] maximum number of reads per input file set to -d 500\n",
      "[mpileup] 1 samples in 1 input files\n",
      "[mpileup] maximum number of reads per input file set to -d 500\n",
      "Checking the headers and starting positions of 12 files\n",
      "Concatenating /tmp/1-362491.bcf"
     ]
    },
    {
     "name": "stdout",
     "output_type": "stream",
     "text": [
      "bcftools concat /tmp/1-362491.bcf /tmp/362492-724983.bcf /tmp/724984-1087475.bcf /tmp/1087476-1449967.bcf /tmp/1449968-1812459.bcf /tmp/1812460-2174951.bcf /tmp/2174952-2537443.bcf /tmp/2537444-2899935.bcf /tmp/2899936-3262427.bcf /tmp/3262428-3624919.bcf /tmp/3624920-3987411.bcf /tmp/3987412-4349903.bcf --threads 12 -O b -o /storage/btbgenie/all_ireland_results_new/variant_calling/TB19-011226/raw.bcf\n"
     ]
    },
    {
     "name": "stderr",
     "output_type": "stream",
     "text": [
      "\t0.299294 seconds\n",
      "Concatenating /tmp/362492-724983.bcf\t0.312326 seconds\n",
      "Concatenating /tmp/724984-1087475.bcf\t0.287558 seconds\n",
      "Concatenating /tmp/1087476-1449967.bcf\t0.274329 seconds\n",
      "Concatenating /tmp/1449968-1812459.bcf\t0.287188 seconds\n",
      "Concatenating /tmp/1812460-2174951.bcf\t0.263382 seconds\n",
      "Concatenating /tmp/2174952-2537443.bcf\t0.296528 seconds\n",
      "Concatenating /tmp/2537444-2899935.bcf\t0.275693 seconds\n",
      "Concatenating /tmp/2899936-3262427.bcf\t0.252809 seconds\n",
      "Concatenating /tmp/3262428-3624919.bcf\t0.288962 seconds\n",
      "Concatenating /tmp/3624920-3987411.bcf\t0.263478 seconds\n",
      "Concatenating /tmp/3987412-4349903.bcf\t0.275275 seconds\n"
     ]
    },
    {
     "name": "stdout",
     "output_type": "stream",
     "text": [
      "TB19-011232a\n",
      "[      1  362492  724984 1087476 1449968 1812460 2174952 2537444 2899936\n",
      " 3262428 3624920 3987412 4349904]\n",
      "parallel bcftools mpileup -r {1} -a \"AD,ADF,ADR,DP,SP,INFO/AD,INFO/ADF,INFO/ADR\" -O b --max-depth 500 --min-MQ 60 -o {2} -f /home/farrell/.config/snipgenie/genome/Mbovis_AF212297.fa /storage/btbgenie/all_ireland_results/mapped/TB19-011232a.bam ::: \"LT708304.1\":1-362491 \"LT708304.1\":362492-724983 \"LT708304.1\":724984-1087475 \"LT708304.1\":1087476-1449967 \"LT708304.1\":1449968-1812459 \"LT708304.1\":1812460-2174951 \"LT708304.1\":2174952-2537443 \"LT708304.1\":2537444-2899935 \"LT708304.1\":2899936-3262427 \"LT708304.1\":3262428-3624919 \"LT708304.1\":3624920-3987411 \"LT708304.1\":3987412-4349903 :::+ /tmp/1-362491.bcf /tmp/362492-724983.bcf /tmp/724984-1087475.bcf /tmp/1087476-1449967.bcf /tmp/1449968-1812459.bcf /tmp/1812460-2174951.bcf /tmp/2174952-2537443.bcf /tmp/2537444-2899935.bcf /tmp/2899936-3262427.bcf /tmp/3262428-3624919.bcf /tmp/3624920-3987411.bcf /tmp/3987412-4349903.bcf\n"
     ]
    },
    {
     "name": "stderr",
     "output_type": "stream",
     "text": [
      "[mpileup] 1 samples in 1 input files\n",
      "[mpileup] maximum number of reads per input file set to -d 500\n",
      "[mpileup] 1 samples in 1 input files\n",
      "[mpileup] maximum number of reads per input file set to -d 500\n",
      "[mpileup] 1 samples in 1 input files\n",
      "[mpileup] maximum number of reads per input file set to -d 500\n",
      "[mpileup] 1 samples in 1 input files\n",
      "[mpileup] maximum number of reads per input file set to -d 500\n",
      "[mpileup] 1 samples in 1 input files\n",
      "[mpileup] maximum number of reads per input file set to -d 500\n",
      "[mpileup] 1 samples in 1 input files\n",
      "[mpileup] maximum number of reads per input file set to -d 500\n",
      "[mpileup] 1 samples in 1 input files\n",
      "[mpileup] maximum number of reads per input file set to -d 500\n",
      "[mpileup] 1 samples in 1 input files\n",
      "[mpileup] maximum number of reads per input file set to -d 500\n",
      "[mpileup] 1 samples in 1 input files\n",
      "[mpileup] maximum number of reads per input file set to -d 500\n",
      "[mpileup] 1 samples in 1 input files\n",
      "[mpileup] maximum number of reads per input file set to -d 500\n",
      "[mpileup] 1 samples in 1 input files\n",
      "[mpileup] maximum number of reads per input file set to -d 500\n",
      "[mpileup] 1 samples in 1 input files\n",
      "[mpileup] maximum number of reads per input file set to -d 500\n",
      "Checking the headers and starting positions of 12 files\n",
      "Concatenating /tmp/1-362491.bcf"
     ]
    },
    {
     "name": "stdout",
     "output_type": "stream",
     "text": [
      "bcftools concat /tmp/1-362491.bcf /tmp/362492-724983.bcf /tmp/724984-1087475.bcf /tmp/1087476-1449967.bcf /tmp/1449968-1812459.bcf /tmp/1812460-2174951.bcf /tmp/2174952-2537443.bcf /tmp/2537444-2899935.bcf /tmp/2899936-3262427.bcf /tmp/3262428-3624919.bcf /tmp/3624920-3987411.bcf /tmp/3987412-4349903.bcf --threads 12 -O b -o /storage/btbgenie/all_ireland_results_new/variant_calling/TB19-011232a/raw.bcf\n"
     ]
    },
    {
     "name": "stderr",
     "output_type": "stream",
     "text": [
      "\t0.327776 seconds\n",
      "Concatenating /tmp/362492-724983.bcf\t0.305204 seconds\n",
      "Concatenating /tmp/724984-1087475.bcf\t0.301702 seconds\n",
      "Concatenating /tmp/1087476-1449967.bcf\t0.312151 seconds\n",
      "Concatenating /tmp/1449968-1812459.bcf\t0.374497 seconds\n",
      "Concatenating /tmp/1812460-2174951.bcf\t0.284265 seconds\n",
      "Concatenating /tmp/2174952-2537443.bcf\t0.279938 seconds\n",
      "Concatenating /tmp/2537444-2899935.bcf\t0.281794 seconds\n",
      "Concatenating /tmp/2899936-3262427.bcf\t0.384280 seconds\n",
      "Concatenating /tmp/3262428-3624919.bcf\t0.287314 seconds\n",
      "Concatenating /tmp/3624920-3987411.bcf\t0.303646 seconds\n",
      "Concatenating /tmp/3987412-4349903.bcf\t0.289091 seconds\n"
     ]
    },
    {
     "name": "stdout",
     "output_type": "stream",
     "text": [
      "TB19-011358\n",
      "[      1  362492  724984 1087476 1449968 1812460 2174952 2537444 2899936\n",
      " 3262428 3624920 3987412 4349904]\n",
      "parallel bcftools mpileup -r {1} -a \"AD,ADF,ADR,DP,SP,INFO/AD,INFO/ADF,INFO/ADR\" -O b --max-depth 500 --min-MQ 60 -o {2} -f /home/farrell/.config/snipgenie/genome/Mbovis_AF212297.fa /storage/btbgenie/all_ireland_results/mapped/TB19-011358.bam ::: \"LT708304.1\":1-362491 \"LT708304.1\":362492-724983 \"LT708304.1\":724984-1087475 \"LT708304.1\":1087476-1449967 \"LT708304.1\":1449968-1812459 \"LT708304.1\":1812460-2174951 \"LT708304.1\":2174952-2537443 \"LT708304.1\":2537444-2899935 \"LT708304.1\":2899936-3262427 \"LT708304.1\":3262428-3624919 \"LT708304.1\":3624920-3987411 \"LT708304.1\":3987412-4349903 :::+ /tmp/1-362491.bcf /tmp/362492-724983.bcf /tmp/724984-1087475.bcf /tmp/1087476-1449967.bcf /tmp/1449968-1812459.bcf /tmp/1812460-2174951.bcf /tmp/2174952-2537443.bcf /tmp/2537444-2899935.bcf /tmp/2899936-3262427.bcf /tmp/3262428-3624919.bcf /tmp/3624920-3987411.bcf /tmp/3987412-4349903.bcf\n"
     ]
    },
    {
     "name": "stderr",
     "output_type": "stream",
     "text": [
      "[mpileup] 1 samples in 1 input files\n",
      "[mpileup] maximum number of reads per input file set to -d 500\n",
      "[mpileup] 1 samples in 1 input files\n",
      "[mpileup] maximum number of reads per input file set to -d 500\n",
      "[mpileup] 1 samples in 1 input files\n",
      "[mpileup] maximum number of reads per input file set to -d 500\n",
      "[mpileup] 1 samples in 1 input files\n",
      "[mpileup] maximum number of reads per input file set to -d 500\n",
      "[mpileup] 1 samples in 1 input files\n",
      "[mpileup] maximum number of reads per input file set to -d 500\n",
      "[mpileup] 1 samples in 1 input files\n",
      "[mpileup] maximum number of reads per input file set to -d 500\n",
      "[mpileup] 1 samples in 1 input files\n",
      "[mpileup] maximum number of reads per input file set to -d 500\n",
      "[mpileup] 1 samples in 1 input files\n",
      "[mpileup] maximum number of reads per input file set to -d 500\n",
      "[mpileup] 1 samples in 1 input files\n",
      "[mpileup] maximum number of reads per input file set to -d 500\n",
      "[mpileup] 1 samples in 1 input files\n",
      "[mpileup] maximum number of reads per input file set to -d 500\n",
      "[mpileup] 1 samples in 1 input files\n",
      "[mpileup] maximum number of reads per input file set to -d 500\n",
      "[mpileup] 1 samples in 1 input files\n",
      "[mpileup] maximum number of reads per input file set to -d 500\n",
      "Checking the headers and starting positions of 12 files\n",
      "Concatenating /tmp/1-362491.bcf\t0.162265 seconds\n",
      "Concatenating /tmp/362492-724983.bcf"
     ]
    },
    {
     "name": "stdout",
     "output_type": "stream",
     "text": [
      "bcftools concat /tmp/1-362491.bcf /tmp/362492-724983.bcf /tmp/724984-1087475.bcf /tmp/1087476-1449967.bcf /tmp/1449968-1812459.bcf /tmp/1812460-2174951.bcf /tmp/2174952-2537443.bcf /tmp/2537444-2899935.bcf /tmp/2899936-3262427.bcf /tmp/3262428-3624919.bcf /tmp/3624920-3987411.bcf /tmp/3987412-4349903.bcf --threads 12 -O b -o /storage/btbgenie/all_ireland_results_new/variant_calling/TB19-011358/raw.bcf\n"
     ]
    },
    {
     "name": "stderr",
     "output_type": "stream",
     "text": [
      "\t0.230481 seconds\n",
      "Concatenating /tmp/724984-1087475.bcf\t0.290416 seconds\n",
      "Concatenating /tmp/1087476-1449967.bcf\t0.219893 seconds\n",
      "Concatenating /tmp/1449968-1812459.bcf\t0.229773 seconds\n",
      "Concatenating /tmp/1812460-2174951.bcf\t0.218937 seconds\n",
      "Concatenating /tmp/2174952-2537443.bcf\t0.245418 seconds\n",
      "Concatenating /tmp/2537444-2899935.bcf\t0.237078 seconds\n",
      "Concatenating /tmp/2899936-3262427.bcf\t0.234909 seconds\n",
      "Concatenating /tmp/3262428-3624919.bcf\t0.214864 seconds\n",
      "Concatenating /tmp/3624920-3987411.bcf\t0.231044 seconds\n",
      "Concatenating /tmp/3987412-4349903.bcf\t0.229901 seconds\n"
     ]
    },
    {
     "name": "stdout",
     "output_type": "stream",
     "text": [
      "TB19-011349\n",
      "[      1  362492  724984 1087476 1449968 1812460 2174952 2537444 2899936\n",
      " 3262428 3624920 3987412 4349904]\n",
      "parallel bcftools mpileup -r {1} -a \"AD,ADF,ADR,DP,SP,INFO/AD,INFO/ADF,INFO/ADR\" -O b --max-depth 500 --min-MQ 60 -o {2} -f /home/farrell/.config/snipgenie/genome/Mbovis_AF212297.fa /storage/btbgenie/all_ireland_results/mapped/TB19-011349.bam ::: \"LT708304.1\":1-362491 \"LT708304.1\":362492-724983 \"LT708304.1\":724984-1087475 \"LT708304.1\":1087476-1449967 \"LT708304.1\":1449968-1812459 \"LT708304.1\":1812460-2174951 \"LT708304.1\":2174952-2537443 \"LT708304.1\":2537444-2899935 \"LT708304.1\":2899936-3262427 \"LT708304.1\":3262428-3624919 \"LT708304.1\":3624920-3987411 \"LT708304.1\":3987412-4349903 :::+ /tmp/1-362491.bcf /tmp/362492-724983.bcf /tmp/724984-1087475.bcf /tmp/1087476-1449967.bcf /tmp/1449968-1812459.bcf /tmp/1812460-2174951.bcf /tmp/2174952-2537443.bcf /tmp/2537444-2899935.bcf /tmp/2899936-3262427.bcf /tmp/3262428-3624919.bcf /tmp/3624920-3987411.bcf /tmp/3987412-4349903.bcf\n"
     ]
    },
    {
     "name": "stderr",
     "output_type": "stream",
     "text": [
      "[mpileup] 1 samples in 1 input files\n",
      "[mpileup] maximum number of reads per input file set to -d 500\n",
      "[mpileup] 1 samples in 1 input files\n",
      "[mpileup] maximum number of reads per input file set to -d 500\n",
      "[mpileup] 1 samples in 1 input files\n",
      "[mpileup] maximum number of reads per input file set to -d 500\n",
      "[mpileup] 1 samples in 1 input files\n",
      "[mpileup] maximum number of reads per input file set to -d 500\n",
      "[mpileup] 1 samples in 1 input files\n",
      "[mpileup] maximum number of reads per input file set to -d 500\n",
      "[mpileup] 1 samples in 1 input files\n",
      "[mpileup] maximum number of reads per input file set to -d 500\n",
      "[mpileup] 1 samples in 1 input files\n",
      "[mpileup] maximum number of reads per input file set to -d 500\n",
      "[mpileup] 1 samples in 1 input files\n",
      "[mpileup] maximum number of reads per input file set to -d 500\n",
      "[mpileup] 1 samples in 1 input files\n",
      "[mpileup] maximum number of reads per input file set to -d 500\n",
      "[mpileup] 1 samples in 1 input files\n",
      "[mpileup] maximum number of reads per input file set to -d 500\n",
      "[mpileup] 1 samples in 1 input files\n",
      "[mpileup] maximum number of reads per input file set to -d 500\n",
      "[mpileup] 1 samples in 1 input files\n",
      "[mpileup] maximum number of reads per input file set to -d 500\n",
      "Checking the headers and starting positions of 12 files\n",
      "Concatenating /tmp/1-362491.bcf"
     ]
    },
    {
     "name": "stdout",
     "output_type": "stream",
     "text": [
      "bcftools concat /tmp/1-362491.bcf /tmp/362492-724983.bcf /tmp/724984-1087475.bcf /tmp/1087476-1449967.bcf /tmp/1449968-1812459.bcf /tmp/1812460-2174951.bcf /tmp/2174952-2537443.bcf /tmp/2537444-2899935.bcf /tmp/2899936-3262427.bcf /tmp/3262428-3624919.bcf /tmp/3624920-3987411.bcf /tmp/3987412-4349903.bcf --threads 12 -O b -o /storage/btbgenie/all_ireland_results_new/variant_calling/TB19-011349/raw.bcf\n"
     ]
    },
    {
     "name": "stderr",
     "output_type": "stream",
     "text": [
      "\t0.180798 seconds\n",
      "Concatenating /tmp/362492-724983.bcf\t0.340346 seconds\n",
      "Concatenating /tmp/724984-1087475.bcf\t0.243414 seconds\n",
      "Concatenating /tmp/1087476-1449967.bcf\t0.263954 seconds\n",
      "Concatenating /tmp/1449968-1812459.bcf\t0.264355 seconds\n",
      "Concatenating /tmp/1812460-2174951.bcf\t0.253771 seconds\n",
      "Concatenating /tmp/2174952-2537443.bcf\t0.263256 seconds\n",
      "Concatenating /tmp/2537444-2899935.bcf\t0.264245 seconds\n",
      "Concatenating /tmp/2899936-3262427.bcf\t0.243975 seconds\n",
      "Concatenating /tmp/3262428-3624919.bcf\t0.252411 seconds\n",
      "Concatenating /tmp/3624920-3987411.bcf\t0.253106 seconds\n",
      "Concatenating /tmp/3987412-4349903.bcf\t0.252134 seconds\n"
     ]
    },
    {
     "name": "stdout",
     "output_type": "stream",
     "text": [
      "TB19-011343\n",
      "[      1  362492  724984 1087476 1449968 1812460 2174952 2537444 2899936\n",
      " 3262428 3624920 3987412 4349904]\n",
      "parallel bcftools mpileup -r {1} -a \"AD,ADF,ADR,DP,SP,INFO/AD,INFO/ADF,INFO/ADR\" -O b --max-depth 500 --min-MQ 60 -o {2} -f /home/farrell/.config/snipgenie/genome/Mbovis_AF212297.fa /storage/btbgenie/all_ireland_results/mapped/TB19-011343.bam ::: \"LT708304.1\":1-362491 \"LT708304.1\":362492-724983 \"LT708304.1\":724984-1087475 \"LT708304.1\":1087476-1449967 \"LT708304.1\":1449968-1812459 \"LT708304.1\":1812460-2174951 \"LT708304.1\":2174952-2537443 \"LT708304.1\":2537444-2899935 \"LT708304.1\":2899936-3262427 \"LT708304.1\":3262428-3624919 \"LT708304.1\":3624920-3987411 \"LT708304.1\":3987412-4349903 :::+ /tmp/1-362491.bcf /tmp/362492-724983.bcf /tmp/724984-1087475.bcf /tmp/1087476-1449967.bcf /tmp/1449968-1812459.bcf /tmp/1812460-2174951.bcf /tmp/2174952-2537443.bcf /tmp/2537444-2899935.bcf /tmp/2899936-3262427.bcf /tmp/3262428-3624919.bcf /tmp/3624920-3987411.bcf /tmp/3987412-4349903.bcf\n"
     ]
    },
    {
     "name": "stderr",
     "output_type": "stream",
     "text": [
      "[mpileup] 1 samples in 1 input files\n",
      "[mpileup] maximum number of reads per input file set to -d 500\n",
      "[mpileup] 1 samples in 1 input files\n",
      "[mpileup] maximum number of reads per input file set to -d 500\n",
      "[mpileup] 1 samples in 1 input files\n",
      "[mpileup] maximum number of reads per input file set to -d 500\n",
      "[mpileup] 1 samples in 1 input files\n",
      "[mpileup] maximum number of reads per input file set to -d 500\n",
      "[mpileup] 1 samples in 1 input files\n",
      "[mpileup] maximum number of reads per input file set to -d 500\n",
      "[mpileup] 1 samples in 1 input files\n",
      "[mpileup] maximum number of reads per input file set to -d 500\n",
      "[mpileup] 1 samples in 1 input files\n",
      "[mpileup] maximum number of reads per input file set to -d 500\n",
      "[mpileup] 1 samples in 1 input files\n",
      "[mpileup] maximum number of reads per input file set to -d 500\n",
      "[mpileup] 1 samples in 1 input files\n",
      "[mpileup] maximum number of reads per input file set to -d 500\n",
      "[mpileup] 1 samples in 1 input files\n",
      "[mpileup] maximum number of reads per input file set to -d 500\n",
      "[mpileup] 1 samples in 1 input files\n",
      "[mpileup] maximum number of reads per input file set to -d 500\n",
      "[mpileup] 1 samples in 1 input files\n",
      "[mpileup] maximum number of reads per input file set to -d 500\n",
      "Checking the headers and starting positions of 12 files\n",
      "Concatenating /tmp/1-362491.bcf"
     ]
    },
    {
     "name": "stdout",
     "output_type": "stream",
     "text": [
      "bcftools concat /tmp/1-362491.bcf /tmp/362492-724983.bcf /tmp/724984-1087475.bcf /tmp/1087476-1449967.bcf /tmp/1449968-1812459.bcf /tmp/1812460-2174951.bcf /tmp/2174952-2537443.bcf /tmp/2537444-2899935.bcf /tmp/2899936-3262427.bcf /tmp/3262428-3624919.bcf /tmp/3624920-3987411.bcf /tmp/3987412-4349903.bcf --threads 12 -O b -o /storage/btbgenie/all_ireland_results_new/variant_calling/TB19-011343/raw.bcf\n"
     ]
    },
    {
     "name": "stderr",
     "output_type": "stream",
     "text": [
      "\t0.293497 seconds\n",
      "Concatenating /tmp/362492-724983.bcf\t0.280148 seconds\n",
      "Concatenating /tmp/724984-1087475.bcf\t0.284465 seconds\n",
      "Concatenating /tmp/1087476-1449967.bcf\t0.277115 seconds\n",
      "Concatenating /tmp/1449968-1812459.bcf\t0.378473 seconds\n",
      "Concatenating /tmp/1812460-2174951.bcf\t0.292661 seconds\n",
      "Concatenating /tmp/2174952-2537443.bcf\t0.292740 seconds\n",
      "Concatenating /tmp/2537444-2899935.bcf\t0.283952 seconds\n",
      "Concatenating /tmp/2899936-3262427.bcf\t0.399274 seconds\n",
      "Concatenating /tmp/3262428-3624919.bcf\t0.284619 seconds\n",
      "Concatenating /tmp/3624920-3987411.bcf\t0.304503 seconds\n",
      "Concatenating /tmp/3987412-4349903.bcf\t0.304505 seconds\n"
     ]
    },
    {
     "name": "stdout",
     "output_type": "stream",
     "text": [
      "TB19-011321\n",
      "[      1  362492  724984 1087476 1449968 1812460 2174952 2537444 2899936\n",
      " 3262428 3624920 3987412 4349904]\n",
      "parallel bcftools mpileup -r {1} -a \"AD,ADF,ADR,DP,SP,INFO/AD,INFO/ADF,INFO/ADR\" -O b --max-depth 500 --min-MQ 60 -o {2} -f /home/farrell/.config/snipgenie/genome/Mbovis_AF212297.fa /storage/btbgenie/all_ireland_results/mapped/TB19-011321.bam ::: \"LT708304.1\":1-362491 \"LT708304.1\":362492-724983 \"LT708304.1\":724984-1087475 \"LT708304.1\":1087476-1449967 \"LT708304.1\":1449968-1812459 \"LT708304.1\":1812460-2174951 \"LT708304.1\":2174952-2537443 \"LT708304.1\":2537444-2899935 \"LT708304.1\":2899936-3262427 \"LT708304.1\":3262428-3624919 \"LT708304.1\":3624920-3987411 \"LT708304.1\":3987412-4349903 :::+ /tmp/1-362491.bcf /tmp/362492-724983.bcf /tmp/724984-1087475.bcf /tmp/1087476-1449967.bcf /tmp/1449968-1812459.bcf /tmp/1812460-2174951.bcf /tmp/2174952-2537443.bcf /tmp/2537444-2899935.bcf /tmp/2899936-3262427.bcf /tmp/3262428-3624919.bcf /tmp/3624920-3987411.bcf /tmp/3987412-4349903.bcf\n"
     ]
    },
    {
     "name": "stderr",
     "output_type": "stream",
     "text": [
      "[mpileup] 1 samples in 1 input files\n",
      "[mpileup] maximum number of reads per input file set to -d 500\n",
      "[mpileup] 1 samples in 1 input files\n",
      "[mpileup] maximum number of reads per input file set to -d 500\n",
      "[mpileup] 1 samples in 1 input files\n",
      "[mpileup] maximum number of reads per input file set to -d 500\n",
      "[mpileup] 1 samples in 1 input files\n",
      "[mpileup] maximum number of reads per input file set to -d 500\n",
      "[mpileup] 1 samples in 1 input files\n",
      "[mpileup] maximum number of reads per input file set to -d 500\n",
      "[mpileup] 1 samples in 1 input files\n",
      "[mpileup] maximum number of reads per input file set to -d 500\n",
      "[mpileup] 1 samples in 1 input files\n",
      "[mpileup] maximum number of reads per input file set to -d 500\n",
      "[mpileup] 1 samples in 1 input files\n",
      "[mpileup] maximum number of reads per input file set to -d 500\n",
      "[mpileup] 1 samples in 1 input files\n",
      "[mpileup] maximum number of reads per input file set to -d 500\n",
      "[mpileup] 1 samples in 1 input files\n",
      "[mpileup] maximum number of reads per input file set to -d 500\n",
      "[mpileup] 1 samples in 1 input files\n",
      "[mpileup] maximum number of reads per input file set to -d 500\n",
      "[mpileup] 1 samples in 1 input files\n",
      "[mpileup] maximum number of reads per input file set to -d 500\n",
      "Checking the headers and starting positions of 12 files\n",
      "Concatenating /tmp/1-362491.bcf\t0.179203 seconds\n",
      "Concatenating /tmp/362492-724983.bcf"
     ]
    },
    {
     "name": "stdout",
     "output_type": "stream",
     "text": [
      "bcftools concat /tmp/1-362491.bcf /tmp/362492-724983.bcf /tmp/724984-1087475.bcf /tmp/1087476-1449967.bcf /tmp/1449968-1812459.bcf /tmp/1812460-2174951.bcf /tmp/2174952-2537443.bcf /tmp/2537444-2899935.bcf /tmp/2899936-3262427.bcf /tmp/3262428-3624919.bcf /tmp/3624920-3987411.bcf /tmp/3987412-4349903.bcf --threads 12 -O b -o /storage/btbgenie/all_ireland_results_new/variant_calling/TB19-011321/raw.bcf\n"
     ]
    },
    {
     "name": "stderr",
     "output_type": "stream",
     "text": [
      "\t0.392811 seconds\n",
      "Concatenating /tmp/724984-1087475.bcf\t0.275597 seconds\n",
      "Concatenating /tmp/1087476-1449967.bcf\t0.242471 seconds\n",
      "Concatenating /tmp/1449968-1812459.bcf\t0.241875 seconds\n",
      "Concatenating /tmp/1812460-2174951.bcf\t0.275658 seconds\n",
      "Concatenating /tmp/2174952-2537443.bcf\t0.263287 seconds\n",
      "Concatenating /tmp/2537444-2899935.bcf\t0.255040 seconds\n",
      "Concatenating /tmp/2899936-3262427.bcf\t0.262792 seconds\n",
      "Concatenating /tmp/3262428-3624919.bcf\t0.279140 seconds\n",
      "Concatenating /tmp/3624920-3987411.bcf\t0.259866 seconds\n",
      "Concatenating /tmp/3987412-4349903.bcf\t0.244318 seconds\n"
     ]
    },
    {
     "name": "stdout",
     "output_type": "stream",
     "text": [
      "TB19-011318\n",
      "[      1  362492  724984 1087476 1449968 1812460 2174952 2537444 2899936\n",
      " 3262428 3624920 3987412 4349904]\n",
      "parallel bcftools mpileup -r {1} -a \"AD,ADF,ADR,DP,SP,INFO/AD,INFO/ADF,INFO/ADR\" -O b --max-depth 500 --min-MQ 60 -o {2} -f /home/farrell/.config/snipgenie/genome/Mbovis_AF212297.fa /storage/btbgenie/all_ireland_results/mapped/TB19-011318.bam ::: \"LT708304.1\":1-362491 \"LT708304.1\":362492-724983 \"LT708304.1\":724984-1087475 \"LT708304.1\":1087476-1449967 \"LT708304.1\":1449968-1812459 \"LT708304.1\":1812460-2174951 \"LT708304.1\":2174952-2537443 \"LT708304.1\":2537444-2899935 \"LT708304.1\":2899936-3262427 \"LT708304.1\":3262428-3624919 \"LT708304.1\":3624920-3987411 \"LT708304.1\":3987412-4349903 :::+ /tmp/1-362491.bcf /tmp/362492-724983.bcf /tmp/724984-1087475.bcf /tmp/1087476-1449967.bcf /tmp/1449968-1812459.bcf /tmp/1812460-2174951.bcf /tmp/2174952-2537443.bcf /tmp/2537444-2899935.bcf /tmp/2899936-3262427.bcf /tmp/3262428-3624919.bcf /tmp/3624920-3987411.bcf /tmp/3987412-4349903.bcf\n"
     ]
    },
    {
     "name": "stderr",
     "output_type": "stream",
     "text": [
      "[mpileup] 1 samples in 1 input files\n",
      "[mpileup] maximum number of reads per input file set to -d 500\n",
      "[mpileup] 1 samples in 1 input files\n",
      "[mpileup] maximum number of reads per input file set to -d 500\n",
      "[mpileup] 1 samples in 1 input files\n",
      "[mpileup] maximum number of reads per input file set to -d 500\n",
      "[mpileup] 1 samples in 1 input files\n",
      "[mpileup] maximum number of reads per input file set to -d 500\n",
      "[mpileup] 1 samples in 1 input files\n",
      "[mpileup] maximum number of reads per input file set to -d 500\n",
      "[mpileup] 1 samples in 1 input files\n",
      "[mpileup] maximum number of reads per input file set to -d 500\n",
      "[mpileup] 1 samples in 1 input files\n",
      "[mpileup] maximum number of reads per input file set to -d 500\n",
      "[mpileup] 1 samples in 1 input files\n",
      "[mpileup] maximum number of reads per input file set to -d 500\n",
      "[mpileup] 1 samples in 1 input files\n",
      "[mpileup] maximum number of reads per input file set to -d 500\n",
      "[mpileup] 1 samples in 1 input files\n",
      "[mpileup] maximum number of reads per input file set to -d 500\n",
      "[mpileup] 1 samples in 1 input files\n",
      "[mpileup] maximum number of reads per input file set to -d 500\n",
      "[mpileup] 1 samples in 1 input files\n",
      "[mpileup] maximum number of reads per input file set to -d 500\n",
      "Checking the headers and starting positions of 12 files\n",
      "Concatenating /tmp/1-362491.bcf"
     ]
    },
    {
     "name": "stdout",
     "output_type": "stream",
     "text": [
      "bcftools concat /tmp/1-362491.bcf /tmp/362492-724983.bcf /tmp/724984-1087475.bcf /tmp/1087476-1449967.bcf /tmp/1449968-1812459.bcf /tmp/1812460-2174951.bcf /tmp/2174952-2537443.bcf /tmp/2537444-2899935.bcf /tmp/2899936-3262427.bcf /tmp/3262428-3624919.bcf /tmp/3624920-3987411.bcf /tmp/3987412-4349903.bcf --threads 12 -O b -o /storage/btbgenie/all_ireland_results_new/variant_calling/TB19-011318/raw.bcf\n"
     ]
    },
    {
     "name": "stderr",
     "output_type": "stream",
     "text": [
      "\t0.290813 seconds\n",
      "Concatenating /tmp/362492-724983.bcf\t0.284782 seconds\n",
      "Concatenating /tmp/724984-1087475.bcf\t0.289138 seconds\n",
      "Concatenating /tmp/1087476-1449967.bcf\t0.304318 seconds\n",
      "Concatenating /tmp/1449968-1812459.bcf\t0.384296 seconds\n",
      "Concatenating /tmp/1812460-2174951.bcf\t0.304056 seconds\n",
      "Concatenating /tmp/2174952-2537443.bcf\t0.292691 seconds\n",
      "Concatenating /tmp/2537444-2899935.bcf\t0.279070 seconds\n",
      "Concatenating /tmp/2899936-3262427.bcf\t0.390170 seconds\n",
      "Concatenating /tmp/3262428-3624919.bcf\t0.305894 seconds\n",
      "Concatenating /tmp/3624920-3987411.bcf\t0.288441 seconds\n",
      "Concatenating /tmp/3987412-4349903.bcf\t0.280763 seconds\n"
     ]
    },
    {
     "name": "stdout",
     "output_type": "stream",
     "text": [
      "TB19-011314\n",
      "[      1  362492  724984 1087476 1449968 1812460 2174952 2537444 2899936\n",
      " 3262428 3624920 3987412 4349904]\n",
      "parallel bcftools mpileup -r {1} -a \"AD,ADF,ADR,DP,SP,INFO/AD,INFO/ADF,INFO/ADR\" -O b --max-depth 500 --min-MQ 60 -o {2} -f /home/farrell/.config/snipgenie/genome/Mbovis_AF212297.fa /storage/btbgenie/all_ireland_results/mapped/TB19-011314.bam ::: \"LT708304.1\":1-362491 \"LT708304.1\":362492-724983 \"LT708304.1\":724984-1087475 \"LT708304.1\":1087476-1449967 \"LT708304.1\":1449968-1812459 \"LT708304.1\":1812460-2174951 \"LT708304.1\":2174952-2537443 \"LT708304.1\":2537444-2899935 \"LT708304.1\":2899936-3262427 \"LT708304.1\":3262428-3624919 \"LT708304.1\":3624920-3987411 \"LT708304.1\":3987412-4349903 :::+ /tmp/1-362491.bcf /tmp/362492-724983.bcf /tmp/724984-1087475.bcf /tmp/1087476-1449967.bcf /tmp/1449968-1812459.bcf /tmp/1812460-2174951.bcf /tmp/2174952-2537443.bcf /tmp/2537444-2899935.bcf /tmp/2899936-3262427.bcf /tmp/3262428-3624919.bcf /tmp/3624920-3987411.bcf /tmp/3987412-4349903.bcf\n"
     ]
    },
    {
     "name": "stderr",
     "output_type": "stream",
     "text": [
      "[mpileup] 1 samples in 1 input files\n",
      "[mpileup] maximum number of reads per input file set to -d 500\n",
      "[mpileup] 1 samples in 1 input files\n",
      "[mpileup] maximum number of reads per input file set to -d 500\n",
      "[mpileup] 1 samples in 1 input files\n",
      "[mpileup] maximum number of reads per input file set to -d 500\n",
      "[mpileup] 1 samples in 1 input files\n",
      "[mpileup] maximum number of reads per input file set to -d 500\n",
      "[mpileup] 1 samples in 1 input files\n",
      "[mpileup] maximum number of reads per input file set to -d 500\n",
      "[mpileup] 1 samples in 1 input files\n",
      "[mpileup] maximum number of reads per input file set to -d 500\n",
      "[mpileup] 1 samples in 1 input files\n",
      "[mpileup] maximum number of reads per input file set to -d 500\n",
      "[mpileup] 1 samples in 1 input files\n",
      "[mpileup] maximum number of reads per input file set to -d 500\n",
      "[mpileup] 1 samples in 1 input files\n",
      "[mpileup] maximum number of reads per input file set to -d 500\n",
      "[mpileup] 1 samples in 1 input files\n",
      "[mpileup] maximum number of reads per input file set to -d 500\n",
      "[mpileup] 1 samples in 1 input files\n",
      "[mpileup] maximum number of reads per input file set to -d 500\n",
      "[mpileup] 1 samples in 1 input files\n",
      "[mpileup] maximum number of reads per input file set to -d 500\n",
      "Checking the headers and starting positions of 12 files\n",
      "Concatenating /tmp/1-362491.bcf"
     ]
    },
    {
     "name": "stdout",
     "output_type": "stream",
     "text": [
      "bcftools concat /tmp/1-362491.bcf /tmp/362492-724983.bcf /tmp/724984-1087475.bcf /tmp/1087476-1449967.bcf /tmp/1449968-1812459.bcf /tmp/1812460-2174951.bcf /tmp/2174952-2537443.bcf /tmp/2537444-2899935.bcf /tmp/2899936-3262427.bcf /tmp/3262428-3624919.bcf /tmp/3624920-3987411.bcf /tmp/3987412-4349903.bcf --threads 12 -O b -o /storage/btbgenie/all_ireland_results_new/variant_calling/TB19-011314/raw.bcf\n"
     ]
    },
    {
     "name": "stderr",
     "output_type": "stream",
     "text": [
      "\t0.271413 seconds\n",
      "Concatenating /tmp/362492-724983.bcf\t0.292810 seconds\n",
      "Concatenating /tmp/724984-1087475.bcf\t0.274631 seconds\n",
      "Concatenating /tmp/1087476-1449967.bcf\t0.277679 seconds\n",
      "Concatenating /tmp/1449968-1812459.bcf\t0.263094 seconds\n",
      "Concatenating /tmp/1812460-2174951.bcf\t0.268074 seconds\n",
      "Concatenating /tmp/2174952-2537443.bcf\t0.274728 seconds\n",
      "Concatenating /tmp/2537444-2899935.bcf\t0.286812 seconds\n",
      "Concatenating /tmp/2899936-3262427.bcf\t0.265076 seconds\n",
      "Concatenating /tmp/3262428-3624919.bcf\t0.371012 seconds\n",
      "Concatenating /tmp/3624920-3987411.bcf\t0.291659 seconds\n",
      "Concatenating /tmp/3987412-4349903.bcf\t0.275752 seconds\n"
     ]
    },
    {
     "name": "stdout",
     "output_type": "stream",
     "text": [
      "TB19-011309\n",
      "[      1  362492  724984 1087476 1449968 1812460 2174952 2537444 2899936\n",
      " 3262428 3624920 3987412 4349904]\n",
      "parallel bcftools mpileup -r {1} -a \"AD,ADF,ADR,DP,SP,INFO/AD,INFO/ADF,INFO/ADR\" -O b --max-depth 500 --min-MQ 60 -o {2} -f /home/farrell/.config/snipgenie/genome/Mbovis_AF212297.fa /storage/btbgenie/all_ireland_results/mapped/TB19-011309.bam ::: \"LT708304.1\":1-362491 \"LT708304.1\":362492-724983 \"LT708304.1\":724984-1087475 \"LT708304.1\":1087476-1449967 \"LT708304.1\":1449968-1812459 \"LT708304.1\":1812460-2174951 \"LT708304.1\":2174952-2537443 \"LT708304.1\":2537444-2899935 \"LT708304.1\":2899936-3262427 \"LT708304.1\":3262428-3624919 \"LT708304.1\":3624920-3987411 \"LT708304.1\":3987412-4349903 :::+ /tmp/1-362491.bcf /tmp/362492-724983.bcf /tmp/724984-1087475.bcf /tmp/1087476-1449967.bcf /tmp/1449968-1812459.bcf /tmp/1812460-2174951.bcf /tmp/2174952-2537443.bcf /tmp/2537444-2899935.bcf /tmp/2899936-3262427.bcf /tmp/3262428-3624919.bcf /tmp/3624920-3987411.bcf /tmp/3987412-4349903.bcf\n"
     ]
    },
    {
     "name": "stderr",
     "output_type": "stream",
     "text": [
      "[mpileup] 1 samples in 1 input files\n",
      "[mpileup] maximum number of reads per input file set to -d 500\n",
      "[mpileup] 1 samples in 1 input files\n",
      "[mpileup] maximum number of reads per input file set to -d 500\n",
      "[mpileup] 1 samples in 1 input files\n",
      "[mpileup] maximum number of reads per input file set to -d 500\n",
      "[mpileup] 1 samples in 1 input files\n",
      "[mpileup] maximum number of reads per input file set to -d 500\n",
      "[mpileup] 1 samples in 1 input files\n",
      "[mpileup] maximum number of reads per input file set to -d 500\n",
      "[mpileup] 1 samples in 1 input files\n",
      "[mpileup] maximum number of reads per input file set to -d 500\n",
      "[mpileup] 1 samples in 1 input files\n",
      "[mpileup] maximum number of reads per input file set to -d 500\n",
      "[mpileup] 1 samples in 1 input files\n",
      "[mpileup] maximum number of reads per input file set to -d 500\n",
      "[mpileup] 1 samples in 1 input files\n",
      "[mpileup] maximum number of reads per input file set to -d 500\n",
      "[mpileup] 1 samples in 1 input files\n",
      "[mpileup] maximum number of reads per input file set to -d 500\n",
      "[mpileup] 1 samples in 1 input files\n",
      "[mpileup] maximum number of reads per input file set to -d 500\n",
      "[mpileup] 1 samples in 1 input files\n",
      "[mpileup] maximum number of reads per input file set to -d 500\n",
      "Checking the headers and starting positions of 12 files\n",
      "Concatenating /tmp/1-362491.bcf"
     ]
    },
    {
     "name": "stdout",
     "output_type": "stream",
     "text": [
      "bcftools concat /tmp/1-362491.bcf /tmp/362492-724983.bcf /tmp/724984-1087475.bcf /tmp/1087476-1449967.bcf /tmp/1449968-1812459.bcf /tmp/1812460-2174951.bcf /tmp/2174952-2537443.bcf /tmp/2537444-2899935.bcf /tmp/2899936-3262427.bcf /tmp/3262428-3624919.bcf /tmp/3624920-3987411.bcf /tmp/3987412-4349903.bcf --threads 12 -O b -o /storage/btbgenie/all_ireland_results_new/variant_calling/TB19-011309/raw.bcf\n"
     ]
    },
    {
     "name": "stderr",
     "output_type": "stream",
     "text": [
      "\t0.296508 seconds\n",
      "Concatenating /tmp/362492-724983.bcf\t0.288946 seconds\n",
      "Concatenating /tmp/724984-1087475.bcf\t0.291705 seconds\n",
      "Concatenating /tmp/1087476-1449967.bcf\t0.276156 seconds\n",
      "Concatenating /tmp/1449968-1812459.bcf\t0.286723 seconds\n",
      "Concatenating /tmp/1812460-2174951.bcf\t0.284252 seconds\n",
      "Concatenating /tmp/2174952-2537443.bcf\t0.293131 seconds\n",
      "Concatenating /tmp/2537444-2899935.bcf\t0.376949 seconds\n",
      "Concatenating /tmp/2899936-3262427.bcf\t0.311634 seconds\n",
      "Concatenating /tmp/3262428-3624919.bcf\t0.309279 seconds\n",
      "Concatenating /tmp/3624920-3987411.bcf\t0.288208 seconds\n",
      "Concatenating /tmp/3987412-4349903.bcf\t0.298993 seconds\n"
     ]
    },
    {
     "name": "stdout",
     "output_type": "stream",
     "text": [
      "TB19-011247\n",
      "[      1  362492  724984 1087476 1449968 1812460 2174952 2537444 2899936\n",
      " 3262428 3624920 3987412 4349904]\n",
      "parallel bcftools mpileup -r {1} -a \"AD,ADF,ADR,DP,SP,INFO/AD,INFO/ADF,INFO/ADR\" -O b --max-depth 500 --min-MQ 60 -o {2} -f /home/farrell/.config/snipgenie/genome/Mbovis_AF212297.fa /storage/btbgenie/all_ireland_results/mapped/TB19-011247.bam ::: \"LT708304.1\":1-362491 \"LT708304.1\":362492-724983 \"LT708304.1\":724984-1087475 \"LT708304.1\":1087476-1449967 \"LT708304.1\":1449968-1812459 \"LT708304.1\":1812460-2174951 \"LT708304.1\":2174952-2537443 \"LT708304.1\":2537444-2899935 \"LT708304.1\":2899936-3262427 \"LT708304.1\":3262428-3624919 \"LT708304.1\":3624920-3987411 \"LT708304.1\":3987412-4349903 :::+ /tmp/1-362491.bcf /tmp/362492-724983.bcf /tmp/724984-1087475.bcf /tmp/1087476-1449967.bcf /tmp/1449968-1812459.bcf /tmp/1812460-2174951.bcf /tmp/2174952-2537443.bcf /tmp/2537444-2899935.bcf /tmp/2899936-3262427.bcf /tmp/3262428-3624919.bcf /tmp/3624920-3987411.bcf /tmp/3987412-4349903.bcf\n"
     ]
    },
    {
     "name": "stderr",
     "output_type": "stream",
     "text": [
      "[mpileup] 1 samples in 1 input files\n",
      "[mpileup] maximum number of reads per input file set to -d 500\n",
      "[mpileup] 1 samples in 1 input files\n",
      "[mpileup] maximum number of reads per input file set to -d 500\n",
      "[mpileup] 1 samples in 1 input files\n",
      "[mpileup] maximum number of reads per input file set to -d 500\n",
      "[mpileup] 1 samples in 1 input files\n",
      "[mpileup] maximum number of reads per input file set to -d 500\n",
      "[mpileup] 1 samples in 1 input files\n",
      "[mpileup] maximum number of reads per input file set to -d 500\n",
      "[mpileup] 1 samples in 1 input files\n",
      "[mpileup] maximum number of reads per input file set to -d 500\n",
      "[mpileup] 1 samples in 1 input files\n",
      "[mpileup] maximum number of reads per input file set to -d 500\n",
      "[mpileup] 1 samples in 1 input files\n",
      "[mpileup] maximum number of reads per input file set to -d 500\n",
      "[mpileup] 1 samples in 1 input files\n",
      "[mpileup] maximum number of reads per input file set to -d 500\n",
      "[mpileup] 1 samples in 1 input files\n",
      "[mpileup] maximum number of reads per input file set to -d 500\n",
      "[mpileup] 1 samples in 1 input files\n",
      "[mpileup] maximum number of reads per input file set to -d 500\n",
      "[mpileup] 1 samples in 1 input files\n",
      "[mpileup] maximum number of reads per input file set to -d 500\n",
      "Checking the headers and starting positions of 12 files\n",
      "Concatenating /tmp/1-362491.bcf"
     ]
    },
    {
     "name": "stdout",
     "output_type": "stream",
     "text": [
      "bcftools concat /tmp/1-362491.bcf /tmp/362492-724983.bcf /tmp/724984-1087475.bcf /tmp/1087476-1449967.bcf /tmp/1449968-1812459.bcf /tmp/1812460-2174951.bcf /tmp/2174952-2537443.bcf /tmp/2537444-2899935.bcf /tmp/2899936-3262427.bcf /tmp/3262428-3624919.bcf /tmp/3624920-3987411.bcf /tmp/3987412-4349903.bcf --threads 12 -O b -o /storage/btbgenie/all_ireland_results_new/variant_calling/TB19-011247/raw.bcf\n"
     ]
    },
    {
     "name": "stderr",
     "output_type": "stream",
     "text": [
      "\t0.282580 seconds\n",
      "Concatenating /tmp/362492-724983.bcf\t0.293610 seconds\n",
      "Concatenating /tmp/724984-1087475.bcf\t0.287221 seconds\n",
      "Concatenating /tmp/1087476-1449967.bcf\t0.284244 seconds\n",
      "Concatenating /tmp/1449968-1812459.bcf\t0.288154 seconds\n",
      "Concatenating /tmp/1812460-2174951.bcf\t0.285150 seconds\n",
      "Concatenating /tmp/2174952-2537443.bcf\t0.268396 seconds\n",
      "Concatenating /tmp/2537444-2899935.bcf\t0.277944 seconds\n",
      "Concatenating /tmp/2899936-3262427.bcf\t0.289436 seconds\n",
      "Concatenating /tmp/3262428-3624919.bcf\t0.368495 seconds\n",
      "Concatenating /tmp/3624920-3987411.bcf\t0.264419 seconds\n",
      "Concatenating /tmp/3987412-4349903.bcf\t0.302018 seconds\n"
     ]
    },
    {
     "name": "stdout",
     "output_type": "stream",
     "text": [
      "TB19-011244\n",
      "[      1  362492  724984 1087476 1449968 1812460 2174952 2537444 2899936\n",
      " 3262428 3624920 3987412 4349904]\n",
      "parallel bcftools mpileup -r {1} -a \"AD,ADF,ADR,DP,SP,INFO/AD,INFO/ADF,INFO/ADR\" -O b --max-depth 500 --min-MQ 60 -o {2} -f /home/farrell/.config/snipgenie/genome/Mbovis_AF212297.fa /storage/btbgenie/all_ireland_results/mapped/TB19-011244.bam ::: \"LT708304.1\":1-362491 \"LT708304.1\":362492-724983 \"LT708304.1\":724984-1087475 \"LT708304.1\":1087476-1449967 \"LT708304.1\":1449968-1812459 \"LT708304.1\":1812460-2174951 \"LT708304.1\":2174952-2537443 \"LT708304.1\":2537444-2899935 \"LT708304.1\":2899936-3262427 \"LT708304.1\":3262428-3624919 \"LT708304.1\":3624920-3987411 \"LT708304.1\":3987412-4349903 :::+ /tmp/1-362491.bcf /tmp/362492-724983.bcf /tmp/724984-1087475.bcf /tmp/1087476-1449967.bcf /tmp/1449968-1812459.bcf /tmp/1812460-2174951.bcf /tmp/2174952-2537443.bcf /tmp/2537444-2899935.bcf /tmp/2899936-3262427.bcf /tmp/3262428-3624919.bcf /tmp/3624920-3987411.bcf /tmp/3987412-4349903.bcf\n"
     ]
    },
    {
     "name": "stderr",
     "output_type": "stream",
     "text": [
      "[mpileup] 1 samples in 1 input files\n",
      "[mpileup] maximum number of reads per input file set to -d 500\n",
      "[mpileup] 1 samples in 1 input files\n",
      "[mpileup] maximum number of reads per input file set to -d 500\n",
      "[mpileup] 1 samples in 1 input files\n",
      "[mpileup] maximum number of reads per input file set to -d 500\n",
      "[mpileup] 1 samples in 1 input files\n",
      "[mpileup] maximum number of reads per input file set to -d 500\n",
      "[mpileup] 1 samples in 1 input files\n",
      "[mpileup] maximum number of reads per input file set to -d 500\n",
      "[mpileup] 1 samples in 1 input files\n",
      "[mpileup] maximum number of reads per input file set to -d 500\n",
      "[mpileup] 1 samples in 1 input files\n",
      "[mpileup] maximum number of reads per input file set to -d 500\n",
      "[mpileup] 1 samples in 1 input files\n",
      "[mpileup] maximum number of reads per input file set to -d 500\n",
      "[mpileup] 1 samples in 1 input files\n",
      "[mpileup] maximum number of reads per input file set to -d 500\n",
      "[mpileup] 1 samples in 1 input files\n",
      "[mpileup] maximum number of reads per input file set to -d 500\n",
      "[mpileup] 1 samples in 1 input files\n",
      "[mpileup] maximum number of reads per input file set to -d 500\n",
      "[mpileup] 1 samples in 1 input files\n",
      "[mpileup] maximum number of reads per input file set to -d 500\n",
      "Checking the headers and starting positions of 12 files\n",
      "Concatenating /tmp/1-362491.bcf"
     ]
    },
    {
     "name": "stdout",
     "output_type": "stream",
     "text": [
      "bcftools concat /tmp/1-362491.bcf /tmp/362492-724983.bcf /tmp/724984-1087475.bcf /tmp/1087476-1449967.bcf /tmp/1449968-1812459.bcf /tmp/1812460-2174951.bcf /tmp/2174952-2537443.bcf /tmp/2537444-2899935.bcf /tmp/2899936-3262427.bcf /tmp/3262428-3624919.bcf /tmp/3624920-3987411.bcf /tmp/3987412-4349903.bcf --threads 12 -O b -o /storage/btbgenie/all_ireland_results_new/variant_calling/TB19-011244/raw.bcf\n"
     ]
    },
    {
     "name": "stderr",
     "output_type": "stream",
     "text": [
      "\t0.180330 seconds\n",
      "Concatenating /tmp/362492-724983.bcf\t0.351853 seconds\n",
      "Concatenating /tmp/724984-1087475.bcf\t0.266235 seconds\n",
      "Concatenating /tmp/1087476-1449967.bcf\t0.255130 seconds\n",
      "Concatenating /tmp/1449968-1812459.bcf\t0.273211 seconds\n",
      "Concatenating /tmp/1812460-2174951.bcf\t0.253315 seconds\n",
      "Concatenating /tmp/2174952-2537443.bcf\t0.250320 seconds\n",
      "Concatenating /tmp/2537444-2899935.bcf\t0.251259 seconds\n",
      "Concatenating /tmp/2899936-3262427.bcf\t0.288433 seconds\n",
      "Concatenating /tmp/3262428-3624919.bcf\t0.262325 seconds\n",
      "Concatenating /tmp/3624920-3987411.bcf\t0.265921 seconds\n",
      "Concatenating /tmp/3987412-4349903.bcf\t0.261608 seconds\n"
     ]
    },
    {
     "name": "stdout",
     "output_type": "stream",
     "text": [
      "TB19-011240\n",
      "[      1  362492  724984 1087476 1449968 1812460 2174952 2537444 2899936\n",
      " 3262428 3624920 3987412 4349904]\n",
      "parallel bcftools mpileup -r {1} -a \"AD,ADF,ADR,DP,SP,INFO/AD,INFO/ADF,INFO/ADR\" -O b --max-depth 500 --min-MQ 60 -o {2} -f /home/farrell/.config/snipgenie/genome/Mbovis_AF212297.fa /storage/btbgenie/all_ireland_results/mapped/TB19-011240.bam ::: \"LT708304.1\":1-362491 \"LT708304.1\":362492-724983 \"LT708304.1\":724984-1087475 \"LT708304.1\":1087476-1449967 \"LT708304.1\":1449968-1812459 \"LT708304.1\":1812460-2174951 \"LT708304.1\":2174952-2537443 \"LT708304.1\":2537444-2899935 \"LT708304.1\":2899936-3262427 \"LT708304.1\":3262428-3624919 \"LT708304.1\":3624920-3987411 \"LT708304.1\":3987412-4349903 :::+ /tmp/1-362491.bcf /tmp/362492-724983.bcf /tmp/724984-1087475.bcf /tmp/1087476-1449967.bcf /tmp/1449968-1812459.bcf /tmp/1812460-2174951.bcf /tmp/2174952-2537443.bcf /tmp/2537444-2899935.bcf /tmp/2899936-3262427.bcf /tmp/3262428-3624919.bcf /tmp/3624920-3987411.bcf /tmp/3987412-4349903.bcf\n"
     ]
    },
    {
     "name": "stderr",
     "output_type": "stream",
     "text": [
      "[mpileup] 1 samples in 1 input files\n",
      "[mpileup] maximum number of reads per input file set to -d 500\n",
      "[mpileup] 1 samples in 1 input files\n",
      "[mpileup] maximum number of reads per input file set to -d 500\n",
      "[mpileup] 1 samples in 1 input files\n",
      "[mpileup] maximum number of reads per input file set to -d 500\n",
      "[mpileup] 1 samples in 1 input files\n",
      "[mpileup] maximum number of reads per input file set to -d 500\n",
      "[mpileup] 1 samples in 1 input files\n",
      "[mpileup] maximum number of reads per input file set to -d 500\n",
      "[mpileup] 1 samples in 1 input files\n",
      "[mpileup] maximum number of reads per input file set to -d 500\n",
      "[mpileup] 1 samples in 1 input files\n",
      "[mpileup] maximum number of reads per input file set to -d 500\n",
      "[mpileup] 1 samples in 1 input files\n",
      "[mpileup] maximum number of reads per input file set to -d 500\n",
      "[mpileup] 1 samples in 1 input files\n",
      "[mpileup] maximum number of reads per input file set to -d 500\n",
      "[mpileup] 1 samples in 1 input files\n",
      "[mpileup] maximum number of reads per input file set to -d 500\n",
      "[mpileup] 1 samples in 1 input files\n",
      "[mpileup] maximum number of reads per input file set to -d 500\n",
      "[mpileup] 1 samples in 1 input files\n",
      "[mpileup] maximum number of reads per input file set to -d 500\n",
      "Checking the headers and starting positions of 12 files\n",
      "Concatenating /tmp/1-362491.bcf"
     ]
    },
    {
     "name": "stdout",
     "output_type": "stream",
     "text": [
      "bcftools concat /tmp/1-362491.bcf /tmp/362492-724983.bcf /tmp/724984-1087475.bcf /tmp/1087476-1449967.bcf /tmp/1449968-1812459.bcf /tmp/1812460-2174951.bcf /tmp/2174952-2537443.bcf /tmp/2537444-2899935.bcf /tmp/2899936-3262427.bcf /tmp/3262428-3624919.bcf /tmp/3624920-3987411.bcf /tmp/3987412-4349903.bcf --threads 12 -O b -o /storage/btbgenie/all_ireland_results_new/variant_calling/TB19-011240/raw.bcf\n"
     ]
    },
    {
     "name": "stderr",
     "output_type": "stream",
     "text": [
      "\t0.284624 seconds\n",
      "Concatenating /tmp/362492-724983.bcf\t0.291380 seconds\n",
      "Concatenating /tmp/724984-1087475.bcf\t0.288212 seconds\n",
      "Concatenating /tmp/1087476-1449967.bcf\t0.273996 seconds\n",
      "Concatenating /tmp/1449968-1812459.bcf\t0.284660 seconds\n",
      "Concatenating /tmp/1812460-2174951.bcf\t0.268694 seconds\n",
      "Concatenating /tmp/2174952-2537443.bcf\t0.300624 seconds\n",
      "Concatenating /tmp/2537444-2899935.bcf\t0.288873 seconds\n",
      "Concatenating /tmp/2899936-3262427.bcf\t0.278854 seconds\n",
      "Concatenating /tmp/3262428-3624919.bcf\t0.297991 seconds\n",
      "Concatenating /tmp/3624920-3987411.bcf\t0.264646 seconds\n",
      "Concatenating /tmp/3987412-4349903.bcf\t0.381276 seconds\n"
     ]
    },
    {
     "name": "stdout",
     "output_type": "stream",
     "text": [
      "TB19-011237\n",
      "[      1  362492  724984 1087476 1449968 1812460 2174952 2537444 2899936\n",
      " 3262428 3624920 3987412 4349904]\n",
      "parallel bcftools mpileup -r {1} -a \"AD,ADF,ADR,DP,SP,INFO/AD,INFO/ADF,INFO/ADR\" -O b --max-depth 500 --min-MQ 60 -o {2} -f /home/farrell/.config/snipgenie/genome/Mbovis_AF212297.fa /storage/btbgenie/all_ireland_results/mapped/TB19-011237.bam ::: \"LT708304.1\":1-362491 \"LT708304.1\":362492-724983 \"LT708304.1\":724984-1087475 \"LT708304.1\":1087476-1449967 \"LT708304.1\":1449968-1812459 \"LT708304.1\":1812460-2174951 \"LT708304.1\":2174952-2537443 \"LT708304.1\":2537444-2899935 \"LT708304.1\":2899936-3262427 \"LT708304.1\":3262428-3624919 \"LT708304.1\":3624920-3987411 \"LT708304.1\":3987412-4349903 :::+ /tmp/1-362491.bcf /tmp/362492-724983.bcf /tmp/724984-1087475.bcf /tmp/1087476-1449967.bcf /tmp/1449968-1812459.bcf /tmp/1812460-2174951.bcf /tmp/2174952-2537443.bcf /tmp/2537444-2899935.bcf /tmp/2899936-3262427.bcf /tmp/3262428-3624919.bcf /tmp/3624920-3987411.bcf /tmp/3987412-4349903.bcf\n"
     ]
    },
    {
     "name": "stderr",
     "output_type": "stream",
     "text": [
      "[mpileup] 1 samples in 1 input files\n",
      "[mpileup] maximum number of reads per input file set to -d 500\n",
      "[mpileup] 1 samples in 1 input files\n",
      "[mpileup] maximum number of reads per input file set to -d 500\n",
      "[mpileup] 1 samples in 1 input files\n",
      "[mpileup] maximum number of reads per input file set to -d 500\n",
      "[mpileup] 1 samples in 1 input files\n",
      "[mpileup] maximum number of reads per input file set to -d 500\n",
      "[mpileup] 1 samples in 1 input files\n",
      "[mpileup] maximum number of reads per input file set to -d 500\n",
      "[mpileup] 1 samples in 1 input files\n",
      "[mpileup] maximum number of reads per input file set to -d 500\n",
      "[mpileup] 1 samples in 1 input files\n",
      "[mpileup] maximum number of reads per input file set to -d 500\n",
      "[mpileup] 1 samples in 1 input files\n",
      "[mpileup] maximum number of reads per input file set to -d 500\n",
      "[mpileup] 1 samples in 1 input files\n",
      "[mpileup] maximum number of reads per input file set to -d 500\n",
      "[mpileup] 1 samples in 1 input files\n",
      "[mpileup] maximum number of reads per input file set to -d 500\n",
      "[mpileup] 1 samples in 1 input files\n",
      "[mpileup] maximum number of reads per input file set to -d 500\n",
      "[mpileup] 1 samples in 1 input files\n",
      "[mpileup] maximum number of reads per input file set to -d 500\n",
      "Checking the headers and starting positions of 12 files\n",
      "Concatenating /tmp/1-362491.bcf\t0.165236 seconds\n",
      "Concatenating /tmp/362492-724983.bcf"
     ]
    },
    {
     "name": "stdout",
     "output_type": "stream",
     "text": [
      "bcftools concat /tmp/1-362491.bcf /tmp/362492-724983.bcf /tmp/724984-1087475.bcf /tmp/1087476-1449967.bcf /tmp/1449968-1812459.bcf /tmp/1812460-2174951.bcf /tmp/2174952-2537443.bcf /tmp/2537444-2899935.bcf /tmp/2899936-3262427.bcf /tmp/3262428-3624919.bcf /tmp/3624920-3987411.bcf /tmp/3987412-4349903.bcf --threads 12 -O b -o /storage/btbgenie/all_ireland_results_new/variant_calling/TB19-011237/raw.bcf\n"
     ]
    },
    {
     "name": "stderr",
     "output_type": "stream",
     "text": [
      "\t0.325184 seconds\n",
      "Concatenating /tmp/724984-1087475.bcf\t0.277403 seconds\n",
      "Concatenating /tmp/1087476-1449967.bcf\t0.241889 seconds\n",
      "Concatenating /tmp/1449968-1812459.bcf\t0.251370 seconds\n",
      "Concatenating /tmp/1812460-2174951.bcf\t0.240540 seconds\n",
      "Concatenating /tmp/2174952-2537443.bcf\t0.250753 seconds\n",
      "Concatenating /tmp/2537444-2899935.bcf\t0.254677 seconds\n",
      "Concatenating /tmp/2899936-3262427.bcf\t0.241797 seconds\n",
      "Concatenating /tmp/3262428-3624919.bcf\t0.252955 seconds\n",
      "Concatenating /tmp/3624920-3987411.bcf\t0.251504 seconds\n",
      "Concatenating /tmp/3987412-4349903.bcf\t0.275961 seconds\n"
     ]
    },
    {
     "name": "stdout",
     "output_type": "stream",
     "text": [
      "TB19-011236\n",
      "[      1  362492  724984 1087476 1449968 1812460 2174952 2537444 2899936\n",
      " 3262428 3624920 3987412 4349904]\n",
      "parallel bcftools mpileup -r {1} -a \"AD,ADF,ADR,DP,SP,INFO/AD,INFO/ADF,INFO/ADR\" -O b --max-depth 500 --min-MQ 60 -o {2} -f /home/farrell/.config/snipgenie/genome/Mbovis_AF212297.fa /storage/btbgenie/all_ireland_results/mapped/TB19-011236.bam ::: \"LT708304.1\":1-362491 \"LT708304.1\":362492-724983 \"LT708304.1\":724984-1087475 \"LT708304.1\":1087476-1449967 \"LT708304.1\":1449968-1812459 \"LT708304.1\":1812460-2174951 \"LT708304.1\":2174952-2537443 \"LT708304.1\":2537444-2899935 \"LT708304.1\":2899936-3262427 \"LT708304.1\":3262428-3624919 \"LT708304.1\":3624920-3987411 \"LT708304.1\":3987412-4349903 :::+ /tmp/1-362491.bcf /tmp/362492-724983.bcf /tmp/724984-1087475.bcf /tmp/1087476-1449967.bcf /tmp/1449968-1812459.bcf /tmp/1812460-2174951.bcf /tmp/2174952-2537443.bcf /tmp/2537444-2899935.bcf /tmp/2899936-3262427.bcf /tmp/3262428-3624919.bcf /tmp/3624920-3987411.bcf /tmp/3987412-4349903.bcf\n"
     ]
    },
    {
     "name": "stderr",
     "output_type": "stream",
     "text": [
      "[mpileup] 1 samples in 1 input files\n",
      "[mpileup] maximum number of reads per input file set to -d 500\n",
      "[mpileup] 1 samples in 1 input files\n",
      "[mpileup] maximum number of reads per input file set to -d 500\n",
      "[mpileup] 1 samples in 1 input files\n",
      "[mpileup] maximum number of reads per input file set to -d 500\n",
      "[mpileup] 1 samples in 1 input files\n",
      "[mpileup] maximum number of reads per input file set to -d 500\n",
      "[mpileup] 1 samples in 1 input files\n",
      "[mpileup] maximum number of reads per input file set to -d 500\n",
      "[mpileup] 1 samples in 1 input files\n",
      "[mpileup] maximum number of reads per input file set to -d 500\n",
      "[mpileup] 1 samples in 1 input files\n",
      "[mpileup] maximum number of reads per input file set to -d 500\n",
      "[mpileup] 1 samples in 1 input files\n",
      "[mpileup] maximum number of reads per input file set to -d 500\n",
      "[mpileup] 1 samples in 1 input files\n",
      "[mpileup] maximum number of reads per input file set to -d 500\n",
      "[mpileup] 1 samples in 1 input files\n",
      "[mpileup] maximum number of reads per input file set to -d 500\n",
      "[mpileup] 1 samples in 1 input files\n",
      "[mpileup] maximum number of reads per input file set to -d 500\n",
      "[mpileup] 1 samples in 1 input files\n",
      "[mpileup] maximum number of reads per input file set to -d 500\n",
      "Checking the headers and starting positions of 12 files\n",
      "Concatenating /tmp/1-362491.bcf"
     ]
    },
    {
     "name": "stdout",
     "output_type": "stream",
     "text": [
      "bcftools concat /tmp/1-362491.bcf /tmp/362492-724983.bcf /tmp/724984-1087475.bcf /tmp/1087476-1449967.bcf /tmp/1449968-1812459.bcf /tmp/1812460-2174951.bcf /tmp/2174952-2537443.bcf /tmp/2537444-2899935.bcf /tmp/2899936-3262427.bcf /tmp/3262428-3624919.bcf /tmp/3624920-3987411.bcf /tmp/3987412-4349903.bcf --threads 12 -O b -o /storage/btbgenie/all_ireland_results_new/variant_calling/TB19-011236/raw.bcf\n"
     ]
    },
    {
     "name": "stderr",
     "output_type": "stream",
     "text": [
      "\t0.298764 seconds\n",
      "Concatenating /tmp/362492-724983.bcf\t0.291047 seconds\n",
      "Concatenating /tmp/724984-1087475.bcf\t0.280823 seconds\n",
      "Concatenating /tmp/1087476-1449967.bcf\t0.304830 seconds\n",
      "Concatenating /tmp/1449968-1812459.bcf\t0.267090 seconds\n",
      "Concatenating /tmp/1812460-2174951.bcf\t0.277812 seconds\n",
      "Concatenating /tmp/2174952-2537443.bcf\t0.275636 seconds\n",
      "Concatenating /tmp/2537444-2899935.bcf\t0.264429 seconds\n",
      "Concatenating /tmp/2899936-3262427.bcf\t0.377278 seconds\n",
      "Concatenating /tmp/3262428-3624919.bcf\t0.279053 seconds\n",
      "Concatenating /tmp/3624920-3987411.bcf\t0.264182 seconds\n",
      "Concatenating /tmp/3987412-4349903.bcf\t0.288307 seconds\n"
     ]
    },
    {
     "name": "stdout",
     "output_type": "stream",
     "text": [
      "TB19-011235\n",
      "[      1  362492  724984 1087476 1449968 1812460 2174952 2537444 2899936\n",
      " 3262428 3624920 3987412 4349904]\n",
      "parallel bcftools mpileup -r {1} -a \"AD,ADF,ADR,DP,SP,INFO/AD,INFO/ADF,INFO/ADR\" -O b --max-depth 500 --min-MQ 60 -o {2} -f /home/farrell/.config/snipgenie/genome/Mbovis_AF212297.fa /storage/btbgenie/all_ireland_results/mapped/TB19-011235.bam ::: \"LT708304.1\":1-362491 \"LT708304.1\":362492-724983 \"LT708304.1\":724984-1087475 \"LT708304.1\":1087476-1449967 \"LT708304.1\":1449968-1812459 \"LT708304.1\":1812460-2174951 \"LT708304.1\":2174952-2537443 \"LT708304.1\":2537444-2899935 \"LT708304.1\":2899936-3262427 \"LT708304.1\":3262428-3624919 \"LT708304.1\":3624920-3987411 \"LT708304.1\":3987412-4349903 :::+ /tmp/1-362491.bcf /tmp/362492-724983.bcf /tmp/724984-1087475.bcf /tmp/1087476-1449967.bcf /tmp/1449968-1812459.bcf /tmp/1812460-2174951.bcf /tmp/2174952-2537443.bcf /tmp/2537444-2899935.bcf /tmp/2899936-3262427.bcf /tmp/3262428-3624919.bcf /tmp/3624920-3987411.bcf /tmp/3987412-4349903.bcf\n"
     ]
    },
    {
     "name": "stderr",
     "output_type": "stream",
     "text": [
      "[mpileup] 1 samples in 1 input files\n",
      "[mpileup] maximum number of reads per input file set to -d 500\n",
      "[mpileup] 1 samples in 1 input files\n",
      "[mpileup] maximum number of reads per input file set to -d 500\n",
      "[mpileup] 1 samples in 1 input files\n",
      "[mpileup] maximum number of reads per input file set to -d 500\n",
      "[mpileup] 1 samples in 1 input files\n",
      "[mpileup] maximum number of reads per input file set to -d 500\n",
      "[mpileup] 1 samples in 1 input files\n",
      "[mpileup] maximum number of reads per input file set to -d 500\n",
      "[mpileup] 1 samples in 1 input files\n",
      "[mpileup] maximum number of reads per input file set to -d 500\n",
      "[mpileup] 1 samples in 1 input files\n",
      "[mpileup] maximum number of reads per input file set to -d 500\n",
      "[mpileup] 1 samples in 1 input files\n",
      "[mpileup] maximum number of reads per input file set to -d 500\n",
      "[mpileup] 1 samples in 1 input files\n",
      "[mpileup] maximum number of reads per input file set to -d 500\n",
      "[mpileup] 1 samples in 1 input files\n",
      "[mpileup] maximum number of reads per input file set to -d 500\n",
      "[mpileup] 1 samples in 1 input files\n",
      "[mpileup] maximum number of reads per input file set to -d 500\n",
      "[mpileup] 1 samples in 1 input files\n",
      "[mpileup] maximum number of reads per input file set to -d 500\n",
      "Checking the headers and starting positions of 12 files\n",
      "Concatenating /tmp/1-362491.bcf"
     ]
    },
    {
     "name": "stdout",
     "output_type": "stream",
     "text": [
      "bcftools concat /tmp/1-362491.bcf /tmp/362492-724983.bcf /tmp/724984-1087475.bcf /tmp/1087476-1449967.bcf /tmp/1449968-1812459.bcf /tmp/1812460-2174951.bcf /tmp/2174952-2537443.bcf /tmp/2537444-2899935.bcf /tmp/2899936-3262427.bcf /tmp/3262428-3624919.bcf /tmp/3624920-3987411.bcf /tmp/3987412-4349903.bcf --threads 12 -O b -o /storage/btbgenie/all_ireland_results_new/variant_calling/TB19-011235/raw.bcf\n"
     ]
    },
    {
     "name": "stderr",
     "output_type": "stream",
     "text": [
      "\t0.264443 seconds\n",
      "Concatenating /tmp/362492-724983.bcf\t0.267674 seconds\n",
      "Concatenating /tmp/724984-1087475.bcf\t0.244358 seconds\n",
      "Concatenating /tmp/1087476-1449967.bcf\t0.253011 seconds\n",
      "Concatenating /tmp/1449968-1812459.bcf\t0.271044 seconds\n",
      "Concatenating /tmp/1812460-2174951.bcf\t0.260607 seconds\n",
      "Concatenating /tmp/2174952-2537443.bcf\t0.255971 seconds\n",
      "Concatenating /tmp/2537444-2899935.bcf\t0.250610 seconds\n",
      "Concatenating /tmp/2899936-3262427.bcf\t0.280753 seconds\n",
      "Concatenating /tmp/3262428-3624919.bcf\t0.254228 seconds\n",
      "Concatenating /tmp/3624920-3987411.bcf\t0.269568 seconds\n",
      "Concatenating /tmp/3987412-4349903.bcf\t0.361083 seconds\n"
     ]
    },
    {
     "name": "stdout",
     "output_type": "stream",
     "text": [
      "TB19-011234\n",
      "[      1  362492  724984 1087476 1449968 1812460 2174952 2537444 2899936\n",
      " 3262428 3624920 3987412 4349904]\n",
      "parallel bcftools mpileup -r {1} -a \"AD,ADF,ADR,DP,SP,INFO/AD,INFO/ADF,INFO/ADR\" -O b --max-depth 500 --min-MQ 60 -o {2} -f /home/farrell/.config/snipgenie/genome/Mbovis_AF212297.fa /storage/btbgenie/all_ireland_results/mapped/TB19-011234.bam ::: \"LT708304.1\":1-362491 \"LT708304.1\":362492-724983 \"LT708304.1\":724984-1087475 \"LT708304.1\":1087476-1449967 \"LT708304.1\":1449968-1812459 \"LT708304.1\":1812460-2174951 \"LT708304.1\":2174952-2537443 \"LT708304.1\":2537444-2899935 \"LT708304.1\":2899936-3262427 \"LT708304.1\":3262428-3624919 \"LT708304.1\":3624920-3987411 \"LT708304.1\":3987412-4349903 :::+ /tmp/1-362491.bcf /tmp/362492-724983.bcf /tmp/724984-1087475.bcf /tmp/1087476-1449967.bcf /tmp/1449968-1812459.bcf /tmp/1812460-2174951.bcf /tmp/2174952-2537443.bcf /tmp/2537444-2899935.bcf /tmp/2899936-3262427.bcf /tmp/3262428-3624919.bcf /tmp/3624920-3987411.bcf /tmp/3987412-4349903.bcf\n"
     ]
    },
    {
     "name": "stderr",
     "output_type": "stream",
     "text": [
      "[mpileup] 1 samples in 1 input files\n",
      "[mpileup] maximum number of reads per input file set to -d 500\n",
      "[mpileup] 1 samples in 1 input files\n",
      "[mpileup] maximum number of reads per input file set to -d 500\n",
      "[mpileup] 1 samples in 1 input files\n",
      "[mpileup] maximum number of reads per input file set to -d 500\n",
      "[mpileup] 1 samples in 1 input files\n",
      "[mpileup] maximum number of reads per input file set to -d 500\n",
      "[mpileup] 1 samples in 1 input files\n",
      "[mpileup] maximum number of reads per input file set to -d 500\n",
      "[mpileup] 1 samples in 1 input files\n",
      "[mpileup] maximum number of reads per input file set to -d 500\n",
      "[mpileup] 1 samples in 1 input files\n",
      "[mpileup] maximum number of reads per input file set to -d 500\n",
      "[mpileup] 1 samples in 1 input files\n",
      "[mpileup] maximum number of reads per input file set to -d 500\n",
      "[mpileup] 1 samples in 1 input files\n",
      "[mpileup] maximum number of reads per input file set to -d 500\n",
      "[mpileup] 1 samples in 1 input files\n",
      "[mpileup] maximum number of reads per input file set to -d 500\n",
      "[mpileup] 1 samples in 1 input files\n",
      "[mpileup] maximum number of reads per input file set to -d 500\n",
      "[mpileup] 1 samples in 1 input files\n",
      "[mpileup] maximum number of reads per input file set to -d 500\n",
      "Checking the headers and starting positions of 12 files\n",
      "Concatenating /tmp/1-362491.bcf"
     ]
    },
    {
     "name": "stdout",
     "output_type": "stream",
     "text": [
      "bcftools concat /tmp/1-362491.bcf /tmp/362492-724983.bcf /tmp/724984-1087475.bcf /tmp/1087476-1449967.bcf /tmp/1449968-1812459.bcf /tmp/1812460-2174951.bcf /tmp/2174952-2537443.bcf /tmp/2537444-2899935.bcf /tmp/2899936-3262427.bcf /tmp/3262428-3624919.bcf /tmp/3624920-3987411.bcf /tmp/3987412-4349903.bcf --threads 12 -O b -o /storage/btbgenie/all_ireland_results_new/variant_calling/TB19-011234/raw.bcf\n"
     ]
    },
    {
     "name": "stderr",
     "output_type": "stream",
     "text": [
      "\t0.304601 seconds\n",
      "Concatenating /tmp/362492-724983.bcf\t0.311228 seconds\n",
      "Concatenating /tmp/724984-1087475.bcf\t0.295861 seconds\n",
      "Concatenating /tmp/1087476-1449967.bcf\t0.303675 seconds\n",
      "Concatenating /tmp/1449968-1812459.bcf\t0.280606 seconds\n",
      "Concatenating /tmp/1812460-2174951.bcf\t0.278028 seconds\n",
      "Concatenating /tmp/2174952-2537443.bcf\t0.274158 seconds\n",
      "Concatenating /tmp/2537444-2899935.bcf\t0.273792 seconds\n",
      "Concatenating /tmp/2899936-3262427.bcf\t0.399202 seconds\n",
      "Concatenating /tmp/3262428-3624919.bcf\t0.277018 seconds\n",
      "Concatenating /tmp/3624920-3987411.bcf\t0.301954 seconds\n",
      "Concatenating /tmp/3987412-4349903.bcf\t0.283162 seconds\n"
     ]
    },
    {
     "name": "stdout",
     "output_type": "stream",
     "text": [
      "TB19-011233\n",
      "[      1  362492  724984 1087476 1449968 1812460 2174952 2537444 2899936\n",
      " 3262428 3624920 3987412 4349904]\n",
      "parallel bcftools mpileup -r {1} -a \"AD,ADF,ADR,DP,SP,INFO/AD,INFO/ADF,INFO/ADR\" -O b --max-depth 500 --min-MQ 60 -o {2} -f /home/farrell/.config/snipgenie/genome/Mbovis_AF212297.fa /storage/btbgenie/all_ireland_results/mapped/TB19-011233.bam ::: \"LT708304.1\":1-362491 \"LT708304.1\":362492-724983 \"LT708304.1\":724984-1087475 \"LT708304.1\":1087476-1449967 \"LT708304.1\":1449968-1812459 \"LT708304.1\":1812460-2174951 \"LT708304.1\":2174952-2537443 \"LT708304.1\":2537444-2899935 \"LT708304.1\":2899936-3262427 \"LT708304.1\":3262428-3624919 \"LT708304.1\":3624920-3987411 \"LT708304.1\":3987412-4349903 :::+ /tmp/1-362491.bcf /tmp/362492-724983.bcf /tmp/724984-1087475.bcf /tmp/1087476-1449967.bcf /tmp/1449968-1812459.bcf /tmp/1812460-2174951.bcf /tmp/2174952-2537443.bcf /tmp/2537444-2899935.bcf /tmp/2899936-3262427.bcf /tmp/3262428-3624919.bcf /tmp/3624920-3987411.bcf /tmp/3987412-4349903.bcf\n"
     ]
    },
    {
     "name": "stderr",
     "output_type": "stream",
     "text": [
      "[mpileup] 1 samples in 1 input files\n",
      "[mpileup] maximum number of reads per input file set to -d 500\n",
      "[mpileup] 1 samples in 1 input files\n",
      "[mpileup] maximum number of reads per input file set to -d 500\n",
      "[mpileup] 1 samples in 1 input files\n",
      "[mpileup] maximum number of reads per input file set to -d 500\n",
      "[mpileup] 1 samples in 1 input files\n",
      "[mpileup] maximum number of reads per input file set to -d 500\n",
      "[mpileup] 1 samples in 1 input files\n",
      "[mpileup] maximum number of reads per input file set to -d 500\n",
      "[mpileup] 1 samples in 1 input files\n",
      "[mpileup] maximum number of reads per input file set to -d 500\n",
      "[mpileup] 1 samples in 1 input files\n",
      "[mpileup] maximum number of reads per input file set to -d 500\n",
      "[mpileup] 1 samples in 1 input files\n",
      "[mpileup] maximum number of reads per input file set to -d 500\n",
      "[mpileup] 1 samples in 1 input files\n",
      "[mpileup] maximum number of reads per input file set to -d 500\n",
      "[mpileup] 1 samples in 1 input files\n",
      "[mpileup] maximum number of reads per input file set to -d 500\n",
      "[mpileup] 1 samples in 1 input files\n",
      "[mpileup] maximum number of reads per input file set to -d 500\n",
      "[mpileup] 1 samples in 1 input files\n",
      "[mpileup] maximum number of reads per input file set to -d 500\n",
      "Checking the headers and starting positions of 12 files\n",
      "Concatenating /tmp/1-362491.bcf"
     ]
    },
    {
     "name": "stdout",
     "output_type": "stream",
     "text": [
      "bcftools concat /tmp/1-362491.bcf /tmp/362492-724983.bcf /tmp/724984-1087475.bcf /tmp/1087476-1449967.bcf /tmp/1449968-1812459.bcf /tmp/1812460-2174951.bcf /tmp/2174952-2537443.bcf /tmp/2537444-2899935.bcf /tmp/2899936-3262427.bcf /tmp/3262428-3624919.bcf /tmp/3624920-3987411.bcf /tmp/3987412-4349903.bcf --threads 12 -O b -o /storage/btbgenie/all_ireland_results_new/variant_calling/TB19-011233/raw.bcf\n"
     ]
    },
    {
     "name": "stderr",
     "output_type": "stream",
     "text": [
      "\t0.258819 seconds\n",
      "Concatenating /tmp/362492-724983.bcf\t0.256519 seconds\n",
      "Concatenating /tmp/724984-1087475.bcf\t0.257391 seconds\n",
      "Concatenating /tmp/1087476-1449967.bcf\t0.238452 seconds\n",
      "Concatenating /tmp/1449968-1812459.bcf\t0.249802 seconds\n",
      "Concatenating /tmp/1812460-2174951.bcf\t0.253228 seconds\n",
      "Concatenating /tmp/2174952-2537443.bcf\t0.253022 seconds\n",
      "Concatenating /tmp/2537444-2899935.bcf\t0.255744 seconds\n",
      "Concatenating /tmp/2899936-3262427.bcf\t0.251811 seconds\n",
      "Concatenating /tmp/3262428-3624919.bcf\t0.257237 seconds\n",
      "Concatenating /tmp/3624920-3987411.bcf\t0.338805 seconds\n",
      "Concatenating /tmp/3987412-4349903.bcf\t0.256745 seconds\n"
     ]
    },
    {
     "name": "stdout",
     "output_type": "stream",
     "text": [
      "TB19-011123\n",
      "[      1  362492  724984 1087476 1449968 1812460 2174952 2537444 2899936\n",
      " 3262428 3624920 3987412 4349904]\n",
      "parallel bcftools mpileup -r {1} -a \"AD,ADF,ADR,DP,SP,INFO/AD,INFO/ADF,INFO/ADR\" -O b --max-depth 500 --min-MQ 60 -o {2} -f /home/farrell/.config/snipgenie/genome/Mbovis_AF212297.fa /storage/btbgenie/all_ireland_results/mapped/TB19-011123.bam ::: \"LT708304.1\":1-362491 \"LT708304.1\":362492-724983 \"LT708304.1\":724984-1087475 \"LT708304.1\":1087476-1449967 \"LT708304.1\":1449968-1812459 \"LT708304.1\":1812460-2174951 \"LT708304.1\":2174952-2537443 \"LT708304.1\":2537444-2899935 \"LT708304.1\":2899936-3262427 \"LT708304.1\":3262428-3624919 \"LT708304.1\":3624920-3987411 \"LT708304.1\":3987412-4349903 :::+ /tmp/1-362491.bcf /tmp/362492-724983.bcf /tmp/724984-1087475.bcf /tmp/1087476-1449967.bcf /tmp/1449968-1812459.bcf /tmp/1812460-2174951.bcf /tmp/2174952-2537443.bcf /tmp/2537444-2899935.bcf /tmp/2899936-3262427.bcf /tmp/3262428-3624919.bcf /tmp/3624920-3987411.bcf /tmp/3987412-4349903.bcf\n"
     ]
    },
    {
     "name": "stderr",
     "output_type": "stream",
     "text": [
      "[mpileup] 1 samples in 1 input files\n",
      "[mpileup] maximum number of reads per input file set to -d 500\n",
      "[mpileup] 1 samples in 1 input files\n",
      "[mpileup] maximum number of reads per input file set to -d 500\n",
      "[mpileup] 1 samples in 1 input files\n",
      "[mpileup] maximum number of reads per input file set to -d 500\n",
      "[mpileup] 1 samples in 1 input files\n",
      "[mpileup] maximum number of reads per input file set to -d 500\n",
      "[mpileup] 1 samples in 1 input files\n",
      "[mpileup] maximum number of reads per input file set to -d 500\n",
      "[mpileup] 1 samples in 1 input files\n",
      "[mpileup] maximum number of reads per input file set to -d 500\n",
      "[mpileup] 1 samples in 1 input files\n",
      "[mpileup] maximum number of reads per input file set to -d 500\n",
      "[mpileup] 1 samples in 1 input files\n",
      "[mpileup] maximum number of reads per input file set to -d 500\n",
      "[mpileup] 1 samples in 1 input files\n",
      "[mpileup] maximum number of reads per input file set to -d 500\n",
      "[mpileup] 1 samples in 1 input files\n",
      "[mpileup] maximum number of reads per input file set to -d 500\n",
      "[mpileup] 1 samples in 1 input files\n",
      "[mpileup] maximum number of reads per input file set to -d 500\n",
      "[mpileup] 1 samples in 1 input files\n",
      "[mpileup] maximum number of reads per input file set to -d 500\n",
      "Checking the headers and starting positions of 12 files\n",
      "Concatenating /tmp/1-362491.bcf\t0.143688 seconds\n",
      "Concatenating /tmp/362492-724983.bcf"
     ]
    },
    {
     "name": "stdout",
     "output_type": "stream",
     "text": [
      "bcftools concat /tmp/1-362491.bcf /tmp/362492-724983.bcf /tmp/724984-1087475.bcf /tmp/1087476-1449967.bcf /tmp/1449968-1812459.bcf /tmp/1812460-2174951.bcf /tmp/2174952-2537443.bcf /tmp/2537444-2899935.bcf /tmp/2899936-3262427.bcf /tmp/3262428-3624919.bcf /tmp/3624920-3987411.bcf /tmp/3987412-4349903.bcf --threads 12 -O b -o /storage/btbgenie/all_ireland_results_new/variant_calling/TB19-011123/raw.bcf\n"
     ]
    },
    {
     "name": "stderr",
     "output_type": "stream",
     "text": [
      "\t0.228966 seconds\n",
      "Concatenating /tmp/724984-1087475.bcf\t0.259460 seconds\n",
      "Concatenating /tmp/1087476-1449967.bcf\t0.237178 seconds\n",
      "Concatenating /tmp/1449968-1812459.bcf\t0.212756 seconds\n",
      "Concatenating /tmp/1812460-2174951.bcf\t0.198960 seconds\n",
      "Concatenating /tmp/2174952-2537443.bcf\t0.228418 seconds\n",
      "Concatenating /tmp/2537444-2899935.bcf\t0.234837 seconds\n",
      "Concatenating /tmp/2899936-3262427.bcf\t0.235751 seconds\n",
      "Concatenating /tmp/3262428-3624919.bcf\t0.291303 seconds\n",
      "Concatenating /tmp/3624920-3987411.bcf\t0.251124 seconds\n",
      "Concatenating /tmp/3987412-4349903.bcf\t0.218756 seconds\n"
     ]
    },
    {
     "name": "stdout",
     "output_type": "stream",
     "text": [
      "TB19-011361\n",
      "[      1  362492  724984 1087476 1449968 1812460 2174952 2537444 2899936\n",
      " 3262428 3624920 3987412 4349904]\n",
      "parallel bcftools mpileup -r {1} -a \"AD,ADF,ADR,DP,SP,INFO/AD,INFO/ADF,INFO/ADR\" -O b --max-depth 500 --min-MQ 60 -o {2} -f /home/farrell/.config/snipgenie/genome/Mbovis_AF212297.fa /storage/btbgenie/all_ireland_results/mapped/TB19-011361.bam ::: \"LT708304.1\":1-362491 \"LT708304.1\":362492-724983 \"LT708304.1\":724984-1087475 \"LT708304.1\":1087476-1449967 \"LT708304.1\":1449968-1812459 \"LT708304.1\":1812460-2174951 \"LT708304.1\":2174952-2537443 \"LT708304.1\":2537444-2899935 \"LT708304.1\":2899936-3262427 \"LT708304.1\":3262428-3624919 \"LT708304.1\":3624920-3987411 \"LT708304.1\":3987412-4349903 :::+ /tmp/1-362491.bcf /tmp/362492-724983.bcf /tmp/724984-1087475.bcf /tmp/1087476-1449967.bcf /tmp/1449968-1812459.bcf /tmp/1812460-2174951.bcf /tmp/2174952-2537443.bcf /tmp/2537444-2899935.bcf /tmp/2899936-3262427.bcf /tmp/3262428-3624919.bcf /tmp/3624920-3987411.bcf /tmp/3987412-4349903.bcf\n"
     ]
    },
    {
     "name": "stderr",
     "output_type": "stream",
     "text": [
      "[mpileup] 1 samples in 1 input files\n",
      "[mpileup] maximum number of reads per input file set to -d 500\n",
      "[mpileup] 1 samples in 1 input files\n",
      "[mpileup] maximum number of reads per input file set to -d 500\n",
      "[mpileup] 1 samples in 1 input files\n",
      "[mpileup] maximum number of reads per input file set to -d 500\n",
      "[mpileup] 1 samples in 1 input files\n",
      "[mpileup] maximum number of reads per input file set to -d 500\n",
      "[mpileup] 1 samples in 1 input files\n",
      "[mpileup] maximum number of reads per input file set to -d 500\n",
      "[mpileup] 1 samples in 1 input files\n",
      "[mpileup] maximum number of reads per input file set to -d 500\n",
      "[mpileup] 1 samples in 1 input files\n",
      "[mpileup] maximum number of reads per input file set to -d 500\n",
      "[mpileup] 1 samples in 1 input files\n",
      "[mpileup] maximum number of reads per input file set to -d 500\n",
      "[mpileup] 1 samples in 1 input files\n",
      "[mpileup] maximum number of reads per input file set to -d 500\n",
      "[mpileup] 1 samples in 1 input files\n",
      "[mpileup] maximum number of reads per input file set to -d 500\n",
      "[mpileup] 1 samples in 1 input files\n",
      "[mpileup] maximum number of reads per input file set to -d 500\n",
      "[mpileup] 1 samples in 1 input files\n",
      "[mpileup] maximum number of reads per input file set to -d 500\n",
      "Checking the headers and starting positions of 12 files\n",
      "Concatenating /tmp/1-362491.bcf"
     ]
    },
    {
     "name": "stdout",
     "output_type": "stream",
     "text": [
      "bcftools concat /tmp/1-362491.bcf /tmp/362492-724983.bcf /tmp/724984-1087475.bcf /tmp/1087476-1449967.bcf /tmp/1449968-1812459.bcf /tmp/1812460-2174951.bcf /tmp/2174952-2537443.bcf /tmp/2537444-2899935.bcf /tmp/2899936-3262427.bcf /tmp/3262428-3624919.bcf /tmp/3624920-3987411.bcf /tmp/3987412-4349903.bcf --threads 12 -O b -o /storage/btbgenie/all_ireland_results_new/variant_calling/TB19-011361/raw.bcf\n"
     ]
    },
    {
     "name": "stderr",
     "output_type": "stream",
     "text": [
      "\t0.273553 seconds\n",
      "Concatenating /tmp/362492-724983.bcf\t0.258552 seconds\n",
      "Concatenating /tmp/724984-1087475.bcf\t0.243978 seconds\n",
      "Concatenating /tmp/1087476-1449967.bcf\t0.252955 seconds\n",
      "Concatenating /tmp/1449968-1812459.bcf\t0.243642 seconds\n",
      "Concatenating /tmp/1812460-2174951.bcf\t0.255409 seconds\n",
      "Concatenating /tmp/2174952-2537443.bcf\t0.264775 seconds\n",
      "Concatenating /tmp/2537444-2899935.bcf\t0.267416 seconds\n",
      "Concatenating /tmp/2899936-3262427.bcf\t0.265612 seconds\n",
      "Concatenating /tmp/3262428-3624919.bcf\t0.250590 seconds\n",
      "Concatenating /tmp/3624920-3987411.bcf\t0.253838 seconds\n",
      "Concatenating /tmp/3987412-4349903.bcf\t0.338572 seconds\n"
     ]
    },
    {
     "name": "stdout",
     "output_type": "stream",
     "text": [
      "TB19-011116\n",
      "[      1  362492  724984 1087476 1449968 1812460 2174952 2537444 2899936\n",
      " 3262428 3624920 3987412 4349904]\n",
      "parallel bcftools mpileup -r {1} -a \"AD,ADF,ADR,DP,SP,INFO/AD,INFO/ADF,INFO/ADR\" -O b --max-depth 500 --min-MQ 60 -o {2} -f /home/farrell/.config/snipgenie/genome/Mbovis_AF212297.fa /storage/btbgenie/all_ireland_results/mapped/TB19-011116.bam ::: \"LT708304.1\":1-362491 \"LT708304.1\":362492-724983 \"LT708304.1\":724984-1087475 \"LT708304.1\":1087476-1449967 \"LT708304.1\":1449968-1812459 \"LT708304.1\":1812460-2174951 \"LT708304.1\":2174952-2537443 \"LT708304.1\":2537444-2899935 \"LT708304.1\":2899936-3262427 \"LT708304.1\":3262428-3624919 \"LT708304.1\":3624920-3987411 \"LT708304.1\":3987412-4349903 :::+ /tmp/1-362491.bcf /tmp/362492-724983.bcf /tmp/724984-1087475.bcf /tmp/1087476-1449967.bcf /tmp/1449968-1812459.bcf /tmp/1812460-2174951.bcf /tmp/2174952-2537443.bcf /tmp/2537444-2899935.bcf /tmp/2899936-3262427.bcf /tmp/3262428-3624919.bcf /tmp/3624920-3987411.bcf /tmp/3987412-4349903.bcf\n"
     ]
    },
    {
     "name": "stderr",
     "output_type": "stream",
     "text": [
      "[mpileup] 1 samples in 1 input files\n",
      "[mpileup] maximum number of reads per input file set to -d 500\n",
      "[mpileup] 1 samples in 1 input files\n",
      "[mpileup] maximum number of reads per input file set to -d 500\n",
      "[mpileup] 1 samples in 1 input files\n",
      "[mpileup] maximum number of reads per input file set to -d 500\n",
      "[mpileup] 1 samples in 1 input files\n",
      "[mpileup] maximum number of reads per input file set to -d 500\n",
      "[mpileup] 1 samples in 1 input files\n",
      "[mpileup] maximum number of reads per input file set to -d 500\n",
      "[mpileup] 1 samples in 1 input files\n",
      "[mpileup] maximum number of reads per input file set to -d 500\n",
      "[mpileup] 1 samples in 1 input files\n",
      "[mpileup] maximum number of reads per input file set to -d 500\n",
      "[mpileup] 1 samples in 1 input files\n",
      "[mpileup] maximum number of reads per input file set to -d 500\n",
      "[mpileup] 1 samples in 1 input files\n",
      "[mpileup] maximum number of reads per input file set to -d 500\n",
      "[mpileup] 1 samples in 1 input files\n",
      "[mpileup] maximum number of reads per input file set to -d 500\n",
      "[mpileup] 1 samples in 1 input files\n",
      "[mpileup] maximum number of reads per input file set to -d 500\n",
      "[mpileup] 1 samples in 1 input files\n",
      "[mpileup] maximum number of reads per input file set to -d 500\n",
      "Checking the headers and starting positions of 12 files\n",
      "Concatenating /tmp/1-362491.bcf"
     ]
    },
    {
     "name": "stdout",
     "output_type": "stream",
     "text": [
      "bcftools concat /tmp/1-362491.bcf /tmp/362492-724983.bcf /tmp/724984-1087475.bcf /tmp/1087476-1449967.bcf /tmp/1449968-1812459.bcf /tmp/1812460-2174951.bcf /tmp/2174952-2537443.bcf /tmp/2537444-2899935.bcf /tmp/2899936-3262427.bcf /tmp/3262428-3624919.bcf /tmp/3624920-3987411.bcf /tmp/3987412-4349903.bcf --threads 12 -O b -o /storage/btbgenie/all_ireland_results_new/variant_calling/TB19-011116/raw.bcf\n"
     ]
    },
    {
     "name": "stderr",
     "output_type": "stream",
     "text": [
      "\t0.246931 seconds\n",
      "Concatenating /tmp/362492-724983.bcf\t0.306049 seconds\n",
      "Concatenating /tmp/724984-1087475.bcf\t0.246277 seconds\n",
      "Concatenating /tmp/1087476-1449967.bcf\t0.240726 seconds\n",
      "Concatenating /tmp/1449968-1812459.bcf\t0.233347 seconds\n",
      "Concatenating /tmp/1812460-2174951.bcf\t0.246801 seconds\n",
      "Concatenating /tmp/2174952-2537443.bcf\t0.246522 seconds\n",
      "Concatenating /tmp/2537444-2899935.bcf\t0.255018 seconds\n",
      "Concatenating /tmp/2899936-3262427.bcf\t0.258731 seconds\n",
      "Concatenating /tmp/3262428-3624919.bcf\t0.241207 seconds\n",
      "Concatenating /tmp/3624920-3987411.bcf\t0.240105 seconds\n",
      "Concatenating /tmp/3987412-4349903.bcf\t0.257023 seconds\n"
     ]
    },
    {
     "name": "stdout",
     "output_type": "stream",
     "text": [
      "TB19-011088\n",
      "[      1  362492  724984 1087476 1449968 1812460 2174952 2537444 2899936\n",
      " 3262428 3624920 3987412 4349904]\n",
      "parallel bcftools mpileup -r {1} -a \"AD,ADF,ADR,DP,SP,INFO/AD,INFO/ADF,INFO/ADR\" -O b --max-depth 500 --min-MQ 60 -o {2} -f /home/farrell/.config/snipgenie/genome/Mbovis_AF212297.fa /storage/btbgenie/all_ireland_results/mapped/TB19-011088.bam ::: \"LT708304.1\":1-362491 \"LT708304.1\":362492-724983 \"LT708304.1\":724984-1087475 \"LT708304.1\":1087476-1449967 \"LT708304.1\":1449968-1812459 \"LT708304.1\":1812460-2174951 \"LT708304.1\":2174952-2537443 \"LT708304.1\":2537444-2899935 \"LT708304.1\":2899936-3262427 \"LT708304.1\":3262428-3624919 \"LT708304.1\":3624920-3987411 \"LT708304.1\":3987412-4349903 :::+ /tmp/1-362491.bcf /tmp/362492-724983.bcf /tmp/724984-1087475.bcf /tmp/1087476-1449967.bcf /tmp/1449968-1812459.bcf /tmp/1812460-2174951.bcf /tmp/2174952-2537443.bcf /tmp/2537444-2899935.bcf /tmp/2899936-3262427.bcf /tmp/3262428-3624919.bcf /tmp/3624920-3987411.bcf /tmp/3987412-4349903.bcf\n"
     ]
    },
    {
     "name": "stderr",
     "output_type": "stream",
     "text": [
      "[mpileup] 1 samples in 1 input files\n",
      "[mpileup] maximum number of reads per input file set to -d 500\n",
      "[mpileup] 1 samples in 1 input files\n",
      "[mpileup] maximum number of reads per input file set to -d 500\n",
      "[mpileup] 1 samples in 1 input files\n",
      "[mpileup] maximum number of reads per input file set to -d 500\n",
      "[mpileup] 1 samples in 1 input files\n",
      "[mpileup] maximum number of reads per input file set to -d 500\n",
      "[mpileup] 1 samples in 1 input files\n",
      "[mpileup] maximum number of reads per input file set to -d 500\n",
      "[mpileup] 1 samples in 1 input files\n",
      "[mpileup] maximum number of reads per input file set to -d 500\n",
      "[mpileup] 1 samples in 1 input files\n",
      "[mpileup] maximum number of reads per input file set to -d 500\n",
      "[mpileup] 1 samples in 1 input files\n",
      "[mpileup] maximum number of reads per input file set to -d 500\n",
      "[mpileup] 1 samples in 1 input files\n",
      "[mpileup] maximum number of reads per input file set to -d 500\n",
      "[mpileup] 1 samples in 1 input files\n",
      "[mpileup] maximum number of reads per input file set to -d 500\n",
      "[mpileup] 1 samples in 1 input files\n",
      "[mpileup] maximum number of reads per input file set to -d 500\n",
      "[mpileup] 1 samples in 1 input files\n",
      "[mpileup] maximum number of reads per input file set to -d 500\n",
      "Checking the headers and starting positions of 12 files\n",
      "Concatenating /tmp/1-362491.bcf\t0.176076 seconds\n",
      "Concatenating /tmp/362492-724983.bcf"
     ]
    },
    {
     "name": "stdout",
     "output_type": "stream",
     "text": [
      "bcftools concat /tmp/1-362491.bcf /tmp/362492-724983.bcf /tmp/724984-1087475.bcf /tmp/1087476-1449967.bcf /tmp/1449968-1812459.bcf /tmp/1812460-2174951.bcf /tmp/2174952-2537443.bcf /tmp/2537444-2899935.bcf /tmp/2899936-3262427.bcf /tmp/3262428-3624919.bcf /tmp/3624920-3987411.bcf /tmp/3987412-4349903.bcf --threads 12 -O b -o /storage/btbgenie/all_ireland_results_new/variant_calling/TB19-011088/raw.bcf\n"
     ]
    },
    {
     "name": "stderr",
     "output_type": "stream",
     "text": [
      "\t0.351005 seconds\n",
      "Concatenating /tmp/724984-1087475.bcf\t0.265749 seconds\n",
      "Concatenating /tmp/1087476-1449967.bcf\t0.256930 seconds\n",
      "Concatenating /tmp/1449968-1812459.bcf\t0.239201 seconds\n",
      "Concatenating /tmp/1812460-2174951.bcf\t0.277731 seconds\n",
      "Concatenating /tmp/2174952-2537443.bcf\t0.270038 seconds\n",
      "Concatenating /tmp/2537444-2899935.bcf\t0.272136 seconds\n",
      "Concatenating /tmp/2899936-3262427.bcf\t0.285938 seconds\n",
      "Concatenating /tmp/3262428-3624919.bcf\t0.264755 seconds\n",
      "Concatenating /tmp/3624920-3987411.bcf\t0.258233 seconds\n",
      "Concatenating /tmp/3987412-4349903.bcf\t0.337126 seconds\n"
     ]
    },
    {
     "name": "stdout",
     "output_type": "stream",
     "text": [
      "TB19-010837\n",
      "[      1  362492  724984 1087476 1449968 1812460 2174952 2537444 2899936\n",
      " 3262428 3624920 3987412 4349904]\n",
      "parallel bcftools mpileup -r {1} -a \"AD,ADF,ADR,DP,SP,INFO/AD,INFO/ADF,INFO/ADR\" -O b --max-depth 500 --min-MQ 60 -o {2} -f /home/farrell/.config/snipgenie/genome/Mbovis_AF212297.fa /storage/btbgenie/all_ireland_results/mapped/TB19-010837.bam ::: \"LT708304.1\":1-362491 \"LT708304.1\":362492-724983 \"LT708304.1\":724984-1087475 \"LT708304.1\":1087476-1449967 \"LT708304.1\":1449968-1812459 \"LT708304.1\":1812460-2174951 \"LT708304.1\":2174952-2537443 \"LT708304.1\":2537444-2899935 \"LT708304.1\":2899936-3262427 \"LT708304.1\":3262428-3624919 \"LT708304.1\":3624920-3987411 \"LT708304.1\":3987412-4349903 :::+ /tmp/1-362491.bcf /tmp/362492-724983.bcf /tmp/724984-1087475.bcf /tmp/1087476-1449967.bcf /tmp/1449968-1812459.bcf /tmp/1812460-2174951.bcf /tmp/2174952-2537443.bcf /tmp/2537444-2899935.bcf /tmp/2899936-3262427.bcf /tmp/3262428-3624919.bcf /tmp/3624920-3987411.bcf /tmp/3987412-4349903.bcf\n"
     ]
    },
    {
     "name": "stderr",
     "output_type": "stream",
     "text": [
      "[mpileup] 1 samples in 1 input files\n",
      "[mpileup] maximum number of reads per input file set to -d 500\n",
      "[mpileup] 1 samples in 1 input files\n",
      "[mpileup] maximum number of reads per input file set to -d 500\n",
      "[mpileup] 1 samples in 1 input files\n",
      "[mpileup] maximum number of reads per input file set to -d 500\n",
      "[mpileup] 1 samples in 1 input files\n",
      "[mpileup] maximum number of reads per input file set to -d 500\n",
      "[mpileup] 1 samples in 1 input files\n",
      "[mpileup] maximum number of reads per input file set to -d 500\n",
      "[mpileup] 1 samples in 1 input files\n",
      "[mpileup] maximum number of reads per input file set to -d 500\n",
      "[mpileup] 1 samples in 1 input files\n",
      "[mpileup] maximum number of reads per input file set to -d 500\n",
      "[mpileup] 1 samples in 1 input files\n",
      "[mpileup] maximum number of reads per input file set to -d 500\n",
      "[mpileup] 1 samples in 1 input files\n",
      "[mpileup] maximum number of reads per input file set to -d 500\n",
      "[mpileup] 1 samples in 1 input files\n",
      "[mpileup] maximum number of reads per input file set to -d 500\n",
      "[mpileup] 1 samples in 1 input files\n",
      "[mpileup] maximum number of reads per input file set to -d 500\n",
      "[mpileup] 1 samples in 1 input files\n",
      "[mpileup] maximum number of reads per input file set to -d 500\n",
      "Checking the headers and starting positions of 12 files\n",
      "Concatenating /tmp/1-362491.bcf"
     ]
    },
    {
     "name": "stdout",
     "output_type": "stream",
     "text": [
      "bcftools concat /tmp/1-362491.bcf /tmp/362492-724983.bcf /tmp/724984-1087475.bcf /tmp/1087476-1449967.bcf /tmp/1449968-1812459.bcf /tmp/1812460-2174951.bcf /tmp/2174952-2537443.bcf /tmp/2537444-2899935.bcf /tmp/2899936-3262427.bcf /tmp/3262428-3624919.bcf /tmp/3624920-3987411.bcf /tmp/3987412-4349903.bcf --threads 12 -O b -o /storage/btbgenie/all_ireland_results_new/variant_calling/TB19-010837/raw.bcf\n"
     ]
    },
    {
     "name": "stderr",
     "output_type": "stream",
     "text": [
      "\t0.258158 seconds\n",
      "Concatenating /tmp/362492-724983.bcf\t0.257546 seconds\n",
      "Concatenating /tmp/724984-1087475.bcf\t0.241295 seconds\n",
      "Concatenating /tmp/1087476-1449967.bcf\t0.254923 seconds\n",
      "Concatenating /tmp/1449968-1812459.bcf\t0.264668 seconds\n",
      "Concatenating /tmp/1812460-2174951.bcf\t0.242225 seconds\n",
      "Concatenating /tmp/2174952-2537443.bcf\t0.240820 seconds\n",
      "Concatenating /tmp/2537444-2899935.bcf\t0.254727 seconds\n",
      "Concatenating /tmp/2899936-3262427.bcf\t0.254254 seconds\n",
      "Concatenating /tmp/3262428-3624919.bcf\t0.242207 seconds\n",
      "Concatenating /tmp/3624920-3987411.bcf\t0.252275 seconds\n",
      "Concatenating /tmp/3987412-4349903.bcf\t0.264742 seconds\n"
     ]
    },
    {
     "name": "stdout",
     "output_type": "stream",
     "text": [
      "TB19-010719\n",
      "[      1  362492  724984 1087476 1449968 1812460 2174952 2537444 2899936\n",
      " 3262428 3624920 3987412 4349904]\n",
      "parallel bcftools mpileup -r {1} -a \"AD,ADF,ADR,DP,SP,INFO/AD,INFO/ADF,INFO/ADR\" -O b --max-depth 500 --min-MQ 60 -o {2} -f /home/farrell/.config/snipgenie/genome/Mbovis_AF212297.fa /storage/btbgenie/all_ireland_results/mapped/TB19-010719.bam ::: \"LT708304.1\":1-362491 \"LT708304.1\":362492-724983 \"LT708304.1\":724984-1087475 \"LT708304.1\":1087476-1449967 \"LT708304.1\":1449968-1812459 \"LT708304.1\":1812460-2174951 \"LT708304.1\":2174952-2537443 \"LT708304.1\":2537444-2899935 \"LT708304.1\":2899936-3262427 \"LT708304.1\":3262428-3624919 \"LT708304.1\":3624920-3987411 \"LT708304.1\":3987412-4349903 :::+ /tmp/1-362491.bcf /tmp/362492-724983.bcf /tmp/724984-1087475.bcf /tmp/1087476-1449967.bcf /tmp/1449968-1812459.bcf /tmp/1812460-2174951.bcf /tmp/2174952-2537443.bcf /tmp/2537444-2899935.bcf /tmp/2899936-3262427.bcf /tmp/3262428-3624919.bcf /tmp/3624920-3987411.bcf /tmp/3987412-4349903.bcf\n"
     ]
    },
    {
     "name": "stderr",
     "output_type": "stream",
     "text": [
      "[mpileup] 1 samples in 1 input files\n",
      "[mpileup] maximum number of reads per input file set to -d 500\n",
      "[mpileup] 1 samples in 1 input files\n",
      "[mpileup] maximum number of reads per input file set to -d 500\n",
      "[mpileup] 1 samples in 1 input files\n",
      "[mpileup] maximum number of reads per input file set to -d 500\n",
      "[mpileup] 1 samples in 1 input files\n",
      "[mpileup] maximum number of reads per input file set to -d 500\n",
      "[mpileup] 1 samples in 1 input files\n",
      "[mpileup] maximum number of reads per input file set to -d 500\n",
      "[mpileup] 1 samples in 1 input files\n",
      "[mpileup] maximum number of reads per input file set to -d 500\n",
      "[mpileup] 1 samples in 1 input files\n",
      "[mpileup] maximum number of reads per input file set to -d 500\n",
      "[mpileup] 1 samples in 1 input files\n",
      "[mpileup] maximum number of reads per input file set to -d 500\n",
      "[mpileup] 1 samples in 1 input files\n",
      "[mpileup] maximum number of reads per input file set to -d 500\n",
      "[mpileup] 1 samples in 1 input files\n",
      "[mpileup] maximum number of reads per input file set to -d 500\n",
      "[mpileup] 1 samples in 1 input files\n",
      "[mpileup] maximum number of reads per input file set to -d 500\n",
      "[mpileup] 1 samples in 1 input files\n",
      "[mpileup] maximum number of reads per input file set to -d 500\n"
     ]
    },
    {
     "name": "stdout",
     "output_type": "stream",
     "text": [
      "bcftools concat /tmp/1-362491.bcf /tmp/362492-724983.bcf /tmp/724984-1087475.bcf /tmp/1087476-1449967.bcf /tmp/1449968-1812459.bcf /tmp/1812460-2174951.bcf /tmp/2174952-2537443.bcf /tmp/2537444-2899935.bcf /tmp/2899936-3262427.bcf /tmp/3262428-3624919.bcf /tmp/3624920-3987411.bcf /tmp/3987412-4349903.bcf --threads 12 -O b -o /storage/btbgenie/all_ireland_results_new/variant_calling/TB19-010719/raw.bcf\n"
     ]
    },
    {
     "name": "stderr",
     "output_type": "stream",
     "text": [
      "Checking the headers and starting positions of 12 files\n",
      "Concatenating /tmp/1-362491.bcf\t0.162957 seconds\n",
      "Concatenating /tmp/362492-724983.bcf\t0.230375 seconds\n",
      "Concatenating /tmp/724984-1087475.bcf\t0.238788 seconds\n",
      "Concatenating /tmp/1087476-1449967.bcf\t0.214389 seconds\n",
      "Concatenating /tmp/1449968-1812459.bcf\t0.245908 seconds\n",
      "Concatenating /tmp/1812460-2174951.bcf\t0.320141 seconds\n",
      "Concatenating /tmp/2174952-2537443.bcf\t0.240529 seconds\n",
      "Concatenating /tmp/2537444-2899935.bcf\t0.231213 seconds\n",
      "Concatenating /tmp/2899936-3262427.bcf\t0.240758 seconds\n",
      "Concatenating /tmp/3262428-3624919.bcf\t0.252414 seconds\n",
      "Concatenating /tmp/3624920-3987411.bcf\t0.231916 seconds\n",
      "Concatenating /tmp/3987412-4349903.bcf\t0.225983 seconds\n"
     ]
    },
    {
     "name": "stdout",
     "output_type": "stream",
     "text": [
      "TB19-010714\n",
      "[      1  362492  724984 1087476 1449968 1812460 2174952 2537444 2899936\n",
      " 3262428 3624920 3987412 4349904]\n",
      "parallel bcftools mpileup -r {1} -a \"AD,ADF,ADR,DP,SP,INFO/AD,INFO/ADF,INFO/ADR\" -O b --max-depth 500 --min-MQ 60 -o {2} -f /home/farrell/.config/snipgenie/genome/Mbovis_AF212297.fa /storage/btbgenie/all_ireland_results/mapped/TB19-010714.bam ::: \"LT708304.1\":1-362491 \"LT708304.1\":362492-724983 \"LT708304.1\":724984-1087475 \"LT708304.1\":1087476-1449967 \"LT708304.1\":1449968-1812459 \"LT708304.1\":1812460-2174951 \"LT708304.1\":2174952-2537443 \"LT708304.1\":2537444-2899935 \"LT708304.1\":2899936-3262427 \"LT708304.1\":3262428-3624919 \"LT708304.1\":3624920-3987411 \"LT708304.1\":3987412-4349903 :::+ /tmp/1-362491.bcf /tmp/362492-724983.bcf /tmp/724984-1087475.bcf /tmp/1087476-1449967.bcf /tmp/1449968-1812459.bcf /tmp/1812460-2174951.bcf /tmp/2174952-2537443.bcf /tmp/2537444-2899935.bcf /tmp/2899936-3262427.bcf /tmp/3262428-3624919.bcf /tmp/3624920-3987411.bcf /tmp/3987412-4349903.bcf\n"
     ]
    },
    {
     "name": "stderr",
     "output_type": "stream",
     "text": [
      "[mpileup] 1 samples in 1 input files\n",
      "[mpileup] maximum number of reads per input file set to -d 500\n",
      "[mpileup] 1 samples in 1 input files\n",
      "[mpileup] maximum number of reads per input file set to -d 500\n",
      "[mpileup] 1 samples in 1 input files\n",
      "[mpileup] maximum number of reads per input file set to -d 500\n",
      "[mpileup] 1 samples in 1 input files\n",
      "[mpileup] maximum number of reads per input file set to -d 500\n",
      "[mpileup] 1 samples in 1 input files\n",
      "[mpileup] maximum number of reads per input file set to -d 500\n",
      "[mpileup] 1 samples in 1 input files\n",
      "[mpileup] maximum number of reads per input file set to -d 500\n",
      "[mpileup] 1 samples in 1 input files\n",
      "[mpileup] maximum number of reads per input file set to -d 500\n",
      "[mpileup] 1 samples in 1 input files\n",
      "[mpileup] maximum number of reads per input file set to -d 500\n",
      "[mpileup] 1 samples in 1 input files\n",
      "[mpileup] maximum number of reads per input file set to -d 500\n",
      "[mpileup] 1 samples in 1 input files\n",
      "[mpileup] maximum number of reads per input file set to -d 500\n",
      "[mpileup] 1 samples in 1 input files\n",
      "[mpileup] maximum number of reads per input file set to -d 500\n",
      "[mpileup] 1 samples in 1 input files\n",
      "[mpileup] maximum number of reads per input file set to -d 500\n",
      "Checking the headers and starting positions of 12 files\n",
      "Concatenating /tmp/1-362491.bcf"
     ]
    },
    {
     "name": "stdout",
     "output_type": "stream",
     "text": [
      "bcftools concat /tmp/1-362491.bcf /tmp/362492-724983.bcf /tmp/724984-1087475.bcf /tmp/1087476-1449967.bcf /tmp/1449968-1812459.bcf /tmp/1812460-2174951.bcf /tmp/2174952-2537443.bcf /tmp/2537444-2899935.bcf /tmp/2899936-3262427.bcf /tmp/3262428-3624919.bcf /tmp/3624920-3987411.bcf /tmp/3987412-4349903.bcf --threads 12 -O b -o /storage/btbgenie/all_ireland_results_new/variant_calling/TB19-010714/raw.bcf\n"
     ]
    },
    {
     "name": "stderr",
     "output_type": "stream",
     "text": [
      "\t0.274450 seconds\n",
      "Concatenating /tmp/362492-724983.bcf\t0.257099 seconds\n",
      "Concatenating /tmp/724984-1087475.bcf\t0.256373 seconds\n",
      "Concatenating /tmp/1087476-1449967.bcf\t0.265114 seconds\n",
      "Concatenating /tmp/1449968-1812459.bcf\t0.276054 seconds\n",
      "Concatenating /tmp/1812460-2174951.bcf\t0.261663 seconds\n",
      "Concatenating /tmp/2174952-2537443.bcf\t0.272841 seconds\n",
      "Concatenating /tmp/2537444-2899935.bcf\t0.266245 seconds\n",
      "Concatenating /tmp/2899936-3262427.bcf\t0.248738 seconds\n",
      "Concatenating /tmp/3262428-3624919.bcf\t0.263682 seconds\n",
      "Concatenating /tmp/3624920-3987411.bcf\t0.282300 seconds\n",
      "Concatenating /tmp/3987412-4349903.bcf\t0.342976 seconds\n"
     ]
    },
    {
     "name": "stdout",
     "output_type": "stream",
     "text": [
      "TB19-010712\n",
      "[      1  362492  724984 1087476 1449968 1812460 2174952 2537444 2899936\n",
      " 3262428 3624920 3987412 4349904]\n",
      "parallel bcftools mpileup -r {1} -a \"AD,ADF,ADR,DP,SP,INFO/AD,INFO/ADF,INFO/ADR\" -O b --max-depth 500 --min-MQ 60 -o {2} -f /home/farrell/.config/snipgenie/genome/Mbovis_AF212297.fa /storage/btbgenie/all_ireland_results/mapped/TB19-010712.bam ::: \"LT708304.1\":1-362491 \"LT708304.1\":362492-724983 \"LT708304.1\":724984-1087475 \"LT708304.1\":1087476-1449967 \"LT708304.1\":1449968-1812459 \"LT708304.1\":1812460-2174951 \"LT708304.1\":2174952-2537443 \"LT708304.1\":2537444-2899935 \"LT708304.1\":2899936-3262427 \"LT708304.1\":3262428-3624919 \"LT708304.1\":3624920-3987411 \"LT708304.1\":3987412-4349903 :::+ /tmp/1-362491.bcf /tmp/362492-724983.bcf /tmp/724984-1087475.bcf /tmp/1087476-1449967.bcf /tmp/1449968-1812459.bcf /tmp/1812460-2174951.bcf /tmp/2174952-2537443.bcf /tmp/2537444-2899935.bcf /tmp/2899936-3262427.bcf /tmp/3262428-3624919.bcf /tmp/3624920-3987411.bcf /tmp/3987412-4349903.bcf\n"
     ]
    },
    {
     "name": "stderr",
     "output_type": "stream",
     "text": [
      "[mpileup] 1 samples in 1 input files\n",
      "[mpileup] maximum number of reads per input file set to -d 500\n",
      "[mpileup] 1 samples in 1 input files\n",
      "[mpileup] maximum number of reads per input file set to -d 500\n",
      "[mpileup] 1 samples in 1 input files\n",
      "[mpileup] maximum number of reads per input file set to -d 500\n",
      "[mpileup] 1 samples in 1 input files\n",
      "[mpileup] maximum number of reads per input file set to -d 500\n",
      "[mpileup] 1 samples in 1 input files\n",
      "[mpileup] maximum number of reads per input file set to -d 500\n",
      "[mpileup] 1 samples in 1 input files\n",
      "[mpileup] maximum number of reads per input file set to -d 500\n",
      "[mpileup] 1 samples in 1 input files\n",
      "[mpileup] maximum number of reads per input file set to -d 500\n",
      "[mpileup] 1 samples in 1 input files\n",
      "[mpileup] maximum number of reads per input file set to -d 500\n",
      "[mpileup] 1 samples in 1 input files\n",
      "[mpileup] maximum number of reads per input file set to -d 500\n",
      "[mpileup] 1 samples in 1 input files\n",
      "[mpileup] maximum number of reads per input file set to -d 500\n",
      "[mpileup] 1 samples in 1 input files\n",
      "[mpileup] maximum number of reads per input file set to -d 500\n",
      "[mpileup] 1 samples in 1 input files\n",
      "[mpileup] maximum number of reads per input file set to -d 500\n",
      "Checking the headers and starting positions of 12 files\n",
      "Concatenating /tmp/1-362491.bcf"
     ]
    },
    {
     "name": "stdout",
     "output_type": "stream",
     "text": [
      "bcftools concat /tmp/1-362491.bcf /tmp/362492-724983.bcf /tmp/724984-1087475.bcf /tmp/1087476-1449967.bcf /tmp/1449968-1812459.bcf /tmp/1812460-2174951.bcf /tmp/2174952-2537443.bcf /tmp/2537444-2899935.bcf /tmp/2899936-3262427.bcf /tmp/3262428-3624919.bcf /tmp/3624920-3987411.bcf /tmp/3987412-4349903.bcf --threads 12 -O b -o /storage/btbgenie/all_ireland_results_new/variant_calling/TB19-010712/raw.bcf\n"
     ]
    },
    {
     "name": "stderr",
     "output_type": "stream",
     "text": [
      "\t0.255280 seconds\n",
      "Concatenating /tmp/362492-724983.bcf\t0.257749 seconds\n",
      "Concatenating /tmp/724984-1087475.bcf\t0.253247 seconds\n",
      "Concatenating /tmp/1087476-1449967.bcf\t0.256089 seconds\n",
      "Concatenating /tmp/1449968-1812459.bcf\t0.260904 seconds\n",
      "Concatenating /tmp/1812460-2174951.bcf\t0.252022 seconds\n",
      "Concatenating /tmp/2174952-2537443.bcf\t0.255179 seconds\n",
      "Concatenating /tmp/2537444-2899935.bcf\t0.249895 seconds\n",
      "Concatenating /tmp/2899936-3262427.bcf\t0.269936 seconds\n",
      "Concatenating /tmp/3262428-3624919.bcf\t0.263000 seconds\n",
      "Concatenating /tmp/3624920-3987411.bcf\t0.255426 seconds\n",
      "Concatenating /tmp/3987412-4349903.bcf\t0.265411 seconds\n"
     ]
    },
    {
     "name": "stdout",
     "output_type": "stream",
     "text": [
      "TB19-010707\n",
      "[      1  362492  724984 1087476 1449968 1812460 2174952 2537444 2899936\n",
      " 3262428 3624920 3987412 4349904]\n",
      "parallel bcftools mpileup -r {1} -a \"AD,ADF,ADR,DP,SP,INFO/AD,INFO/ADF,INFO/ADR\" -O b --max-depth 500 --min-MQ 60 -o {2} -f /home/farrell/.config/snipgenie/genome/Mbovis_AF212297.fa /storage/btbgenie/all_ireland_results/mapped/TB19-010707.bam ::: \"LT708304.1\":1-362491 \"LT708304.1\":362492-724983 \"LT708304.1\":724984-1087475 \"LT708304.1\":1087476-1449967 \"LT708304.1\":1449968-1812459 \"LT708304.1\":1812460-2174951 \"LT708304.1\":2174952-2537443 \"LT708304.1\":2537444-2899935 \"LT708304.1\":2899936-3262427 \"LT708304.1\":3262428-3624919 \"LT708304.1\":3624920-3987411 \"LT708304.1\":3987412-4349903 :::+ /tmp/1-362491.bcf /tmp/362492-724983.bcf /tmp/724984-1087475.bcf /tmp/1087476-1449967.bcf /tmp/1449968-1812459.bcf /tmp/1812460-2174951.bcf /tmp/2174952-2537443.bcf /tmp/2537444-2899935.bcf /tmp/2899936-3262427.bcf /tmp/3262428-3624919.bcf /tmp/3624920-3987411.bcf /tmp/3987412-4349903.bcf\n"
     ]
    },
    {
     "name": "stderr",
     "output_type": "stream",
     "text": [
      "[mpileup] 1 samples in 1 input files\n",
      "[mpileup] maximum number of reads per input file set to -d 500\n",
      "[mpileup] 1 samples in 1 input files\n",
      "[mpileup] maximum number of reads per input file set to -d 500\n",
      "[mpileup] 1 samples in 1 input files\n",
      "[mpileup] maximum number of reads per input file set to -d 500\n",
      "[mpileup] 1 samples in 1 input files\n",
      "[mpileup] maximum number of reads per input file set to -d 500\n",
      "[mpileup] 1 samples in 1 input files\n",
      "[mpileup] maximum number of reads per input file set to -d 500\n",
      "[mpileup] 1 samples in 1 input files\n",
      "[mpileup] maximum number of reads per input file set to -d 500\n",
      "[mpileup] 1 samples in 1 input files\n",
      "[mpileup] maximum number of reads per input file set to -d 500\n",
      "[mpileup] 1 samples in 1 input files\n",
      "[mpileup] maximum number of reads per input file set to -d 500\n",
      "[mpileup] 1 samples in 1 input files\n",
      "[mpileup] maximum number of reads per input file set to -d 500\n",
      "[mpileup] 1 samples in 1 input files\n",
      "[mpileup] maximum number of reads per input file set to -d 500\n",
      "[mpileup] 1 samples in 1 input files\n",
      "[mpileup] maximum number of reads per input file set to -d 500\n",
      "[mpileup] 1 samples in 1 input files\n",
      "[mpileup] maximum number of reads per input file set to -d 500\n",
      "Checking the headers and starting positions of 12 files\n",
      "Concatenating /tmp/1-362491.bcf"
     ]
    },
    {
     "name": "stdout",
     "output_type": "stream",
     "text": [
      "bcftools concat /tmp/1-362491.bcf /tmp/362492-724983.bcf /tmp/724984-1087475.bcf /tmp/1087476-1449967.bcf /tmp/1449968-1812459.bcf /tmp/1812460-2174951.bcf /tmp/2174952-2537443.bcf /tmp/2537444-2899935.bcf /tmp/2899936-3262427.bcf /tmp/3262428-3624919.bcf /tmp/3624920-3987411.bcf /tmp/3987412-4349903.bcf --threads 12 -O b -o /storage/btbgenie/all_ireland_results_new/variant_calling/TB19-010707/raw.bcf\n"
     ]
    },
    {
     "name": "stderr",
     "output_type": "stream",
     "text": [
      "\t0.255616 seconds\n",
      "Concatenating /tmp/362492-724983.bcf\t0.266406 seconds\n",
      "Concatenating /tmp/724984-1087475.bcf\t0.255324 seconds\n",
      "Concatenating /tmp/1087476-1449967.bcf\t0.257902 seconds\n",
      "Concatenating /tmp/1449968-1812459.bcf\t0.240638 seconds\n",
      "Concatenating /tmp/1812460-2174951.bcf\t0.262370 seconds\n",
      "Concatenating /tmp/2174952-2537443.bcf\t0.267687 seconds\n",
      "Concatenating /tmp/2537444-2899935.bcf\t0.355223 seconds\n",
      "Concatenating /tmp/2899936-3262427.bcf\t0.272087 seconds\n",
      "Concatenating /tmp/3262428-3624919.bcf\t0.267013 seconds\n",
      "Concatenating /tmp/3624920-3987411.bcf\t0.318715 seconds\n",
      "Concatenating /tmp/3987412-4349903.bcf\t0.255335 seconds\n"
     ]
    },
    {
     "name": "stdout",
     "output_type": "stream",
     "text": [
      "TB19-010700\n",
      "[      1  362492  724984 1087476 1449968 1812460 2174952 2537444 2899936\n",
      " 3262428 3624920 3987412 4349904]\n",
      "parallel bcftools mpileup -r {1} -a \"AD,ADF,ADR,DP,SP,INFO/AD,INFO/ADF,INFO/ADR\" -O b --max-depth 500 --min-MQ 60 -o {2} -f /home/farrell/.config/snipgenie/genome/Mbovis_AF212297.fa /storage/btbgenie/all_ireland_results/mapped/TB19-010700.bam ::: \"LT708304.1\":1-362491 \"LT708304.1\":362492-724983 \"LT708304.1\":724984-1087475 \"LT708304.1\":1087476-1449967 \"LT708304.1\":1449968-1812459 \"LT708304.1\":1812460-2174951 \"LT708304.1\":2174952-2537443 \"LT708304.1\":2537444-2899935 \"LT708304.1\":2899936-3262427 \"LT708304.1\":3262428-3624919 \"LT708304.1\":3624920-3987411 \"LT708304.1\":3987412-4349903 :::+ /tmp/1-362491.bcf /tmp/362492-724983.bcf /tmp/724984-1087475.bcf /tmp/1087476-1449967.bcf /tmp/1449968-1812459.bcf /tmp/1812460-2174951.bcf /tmp/2174952-2537443.bcf /tmp/2537444-2899935.bcf /tmp/2899936-3262427.bcf /tmp/3262428-3624919.bcf /tmp/3624920-3987411.bcf /tmp/3987412-4349903.bcf\n"
     ]
    },
    {
     "name": "stderr",
     "output_type": "stream",
     "text": [
      "[mpileup] 1 samples in 1 input files\n",
      "[mpileup] maximum number of reads per input file set to -d 500\n",
      "[mpileup] 1 samples in 1 input files\n",
      "[mpileup] maximum number of reads per input file set to -d 500\n",
      "[mpileup] 1 samples in 1 input files\n",
      "[mpileup] maximum number of reads per input file set to -d 500\n",
      "[mpileup] 1 samples in 1 input files\n",
      "[mpileup] maximum number of reads per input file set to -d 500\n",
      "[mpileup] 1 samples in 1 input files\n",
      "[mpileup] maximum number of reads per input file set to -d 500\n",
      "[mpileup] 1 samples in 1 input files\n",
      "[mpileup] maximum number of reads per input file set to -d 500\n",
      "[mpileup] 1 samples in 1 input files\n",
      "[mpileup] maximum number of reads per input file set to -d 500\n",
      "[mpileup] 1 samples in 1 input files\n",
      "[mpileup] maximum number of reads per input file set to -d 500\n",
      "[mpileup] 1 samples in 1 input files\n",
      "[mpileup] maximum number of reads per input file set to -d 500\n",
      "[mpileup] 1 samples in 1 input files\n",
      "[mpileup] maximum number of reads per input file set to -d 500\n",
      "[mpileup] 1 samples in 1 input files\n",
      "[mpileup] maximum number of reads per input file set to -d 500\n",
      "[mpileup] 1 samples in 1 input files\n",
      "[mpileup] maximum number of reads per input file set to -d 500\n",
      "Checking the headers and starting positions of 12 files\n",
      "Concatenating /tmp/1-362491.bcf\t0.155546 seconds\n",
      "Concatenating /tmp/362492-724983.bcf"
     ]
    },
    {
     "name": "stdout",
     "output_type": "stream",
     "text": [
      "bcftools concat /tmp/1-362491.bcf /tmp/362492-724983.bcf /tmp/724984-1087475.bcf /tmp/1087476-1449967.bcf /tmp/1449968-1812459.bcf /tmp/1812460-2174951.bcf /tmp/2174952-2537443.bcf /tmp/2537444-2899935.bcf /tmp/2899936-3262427.bcf /tmp/3262428-3624919.bcf /tmp/3624920-3987411.bcf /tmp/3987412-4349903.bcf --threads 12 -O b -o /storage/btbgenie/all_ireland_results_new/variant_calling/TB19-010700/raw.bcf\n"
     ]
    },
    {
     "name": "stderr",
     "output_type": "stream",
     "text": [
      "\t0.243217 seconds\n",
      "Concatenating /tmp/724984-1087475.bcf\t0.229476 seconds\n",
      "Concatenating /tmp/1087476-1449967.bcf\t0.224835 seconds\n",
      "Concatenating /tmp/1449968-1812459.bcf\t0.217320 seconds\n",
      "Concatenating /tmp/1812460-2174951.bcf\t0.221500 seconds\n",
      "Concatenating /tmp/2174952-2537443.bcf\t0.227274 seconds\n",
      "Concatenating /tmp/2537444-2899935.bcf\t0.293163 seconds\n",
      "Concatenating /tmp/2899936-3262427.bcf\t0.220606 seconds\n",
      "Concatenating /tmp/3262428-3624919.bcf\t0.219837 seconds\n",
      "Concatenating /tmp/3624920-3987411.bcf\t0.230792 seconds\n",
      "Concatenating /tmp/3987412-4349903.bcf\t0.228514 seconds\n"
     ]
    },
    {
     "name": "stdout",
     "output_type": "stream",
     "text": [
      "TB19-010839\n",
      "[      1  362492  724984 1087476 1449968 1812460 2174952 2537444 2899936\n",
      " 3262428 3624920 3987412 4349904]\n",
      "parallel bcftools mpileup -r {1} -a \"AD,ADF,ADR,DP,SP,INFO/AD,INFO/ADF,INFO/ADR\" -O b --max-depth 500 --min-MQ 60 -o {2} -f /home/farrell/.config/snipgenie/genome/Mbovis_AF212297.fa /storage/btbgenie/all_ireland_results/mapped/TB19-010839.bam ::: \"LT708304.1\":1-362491 \"LT708304.1\":362492-724983 \"LT708304.1\":724984-1087475 \"LT708304.1\":1087476-1449967 \"LT708304.1\":1449968-1812459 \"LT708304.1\":1812460-2174951 \"LT708304.1\":2174952-2537443 \"LT708304.1\":2537444-2899935 \"LT708304.1\":2899936-3262427 \"LT708304.1\":3262428-3624919 \"LT708304.1\":3624920-3987411 \"LT708304.1\":3987412-4349903 :::+ /tmp/1-362491.bcf /tmp/362492-724983.bcf /tmp/724984-1087475.bcf /tmp/1087476-1449967.bcf /tmp/1449968-1812459.bcf /tmp/1812460-2174951.bcf /tmp/2174952-2537443.bcf /tmp/2537444-2899935.bcf /tmp/2899936-3262427.bcf /tmp/3262428-3624919.bcf /tmp/3624920-3987411.bcf /tmp/3987412-4349903.bcf\n"
     ]
    },
    {
     "name": "stderr",
     "output_type": "stream",
     "text": [
      "[mpileup] 1 samples in 1 input files\n",
      "[mpileup] maximum number of reads per input file set to -d 500\n",
      "[mpileup] 1 samples in 1 input files\n",
      "[mpileup] maximum number of reads per input file set to -d 500\n",
      "[mpileup] 1 samples in 1 input files\n",
      "[mpileup] maximum number of reads per input file set to -d 500\n",
      "[mpileup] 1 samples in 1 input files\n",
      "[mpileup] maximum number of reads per input file set to -d 500\n",
      "[mpileup] 1 samples in 1 input files\n",
      "[mpileup] maximum number of reads per input file set to -d 500\n",
      "[mpileup] 1 samples in 1 input files\n",
      "[mpileup] maximum number of reads per input file set to -d 500\n",
      "[mpileup] 1 samples in 1 input files\n",
      "[mpileup] maximum number of reads per input file set to -d 500\n",
      "[mpileup] 1 samples in 1 input files\n",
      "[mpileup] maximum number of reads per input file set to -d 500\n",
      "[mpileup] 1 samples in 1 input files\n",
      "[mpileup] maximum number of reads per input file set to -d 500\n",
      "[mpileup] 1 samples in 1 input files\n",
      "[mpileup] maximum number of reads per input file set to -d 500\n",
      "[mpileup] 1 samples in 1 input files\n",
      "[mpileup] maximum number of reads per input file set to -d 500\n",
      "[mpileup] 1 samples in 1 input files\n",
      "[mpileup] maximum number of reads per input file set to -d 500\n",
      "Checking the headers and starting positions of 12 files\n",
      "Concatenating /tmp/1-362491.bcf"
     ]
    },
    {
     "name": "stdout",
     "output_type": "stream",
     "text": [
      "bcftools concat /tmp/1-362491.bcf /tmp/362492-724983.bcf /tmp/724984-1087475.bcf /tmp/1087476-1449967.bcf /tmp/1449968-1812459.bcf /tmp/1812460-2174951.bcf /tmp/2174952-2537443.bcf /tmp/2537444-2899935.bcf /tmp/2899936-3262427.bcf /tmp/3262428-3624919.bcf /tmp/3624920-3987411.bcf /tmp/3987412-4349903.bcf --threads 12 -O b -o /storage/btbgenie/all_ireland_results_new/variant_calling/TB19-010839/raw.bcf\n"
     ]
    },
    {
     "name": "stderr",
     "output_type": "stream",
     "text": [
      "\t0.283299 seconds\n",
      "Concatenating /tmp/362492-724983.bcf\t0.300436 seconds\n",
      "Concatenating /tmp/724984-1087475.bcf\t0.290688 seconds\n",
      "Concatenating /tmp/1087476-1449967.bcf\t0.296112 seconds\n",
      "Concatenating /tmp/1449968-1812459.bcf\t0.310714 seconds\n",
      "Concatenating /tmp/1812460-2174951.bcf\t0.286954 seconds\n",
      "Concatenating /tmp/2174952-2537443.bcf\t0.287219 seconds\n",
      "Concatenating /tmp/2537444-2899935.bcf\t0.277831 seconds\n",
      "Concatenating /tmp/2899936-3262427.bcf\t0.350775 seconds\n",
      "Concatenating /tmp/3262428-3624919.bcf\t0.289089 seconds\n",
      "Concatenating /tmp/3624920-3987411.bcf\t0.266166 seconds\n",
      "Concatenating /tmp/3987412-4349903.bcf\t0.267000 seconds\n"
     ]
    },
    {
     "name": "stdout",
     "output_type": "stream",
     "text": [
      "TB19-010688\n",
      "[      1  362492  724984 1087476 1449968 1812460 2174952 2537444 2899936\n",
      " 3262428 3624920 3987412 4349904]\n",
      "parallel bcftools mpileup -r {1} -a \"AD,ADF,ADR,DP,SP,INFO/AD,INFO/ADF,INFO/ADR\" -O b --max-depth 500 --min-MQ 60 -o {2} -f /home/farrell/.config/snipgenie/genome/Mbovis_AF212297.fa /storage/btbgenie/all_ireland_results/mapped/TB19-010688.bam ::: \"LT708304.1\":1-362491 \"LT708304.1\":362492-724983 \"LT708304.1\":724984-1087475 \"LT708304.1\":1087476-1449967 \"LT708304.1\":1449968-1812459 \"LT708304.1\":1812460-2174951 \"LT708304.1\":2174952-2537443 \"LT708304.1\":2537444-2899935 \"LT708304.1\":2899936-3262427 \"LT708304.1\":3262428-3624919 \"LT708304.1\":3624920-3987411 \"LT708304.1\":3987412-4349903 :::+ /tmp/1-362491.bcf /tmp/362492-724983.bcf /tmp/724984-1087475.bcf /tmp/1087476-1449967.bcf /tmp/1449968-1812459.bcf /tmp/1812460-2174951.bcf /tmp/2174952-2537443.bcf /tmp/2537444-2899935.bcf /tmp/2899936-3262427.bcf /tmp/3262428-3624919.bcf /tmp/3624920-3987411.bcf /tmp/3987412-4349903.bcf\n"
     ]
    },
    {
     "name": "stderr",
     "output_type": "stream",
     "text": [
      "[mpileup] 1 samples in 1 input files\n",
      "[mpileup] maximum number of reads per input file set to -d 500\n",
      "[mpileup] 1 samples in 1 input files\n",
      "[mpileup] maximum number of reads per input file set to -d 500\n",
      "[mpileup] 1 samples in 1 input files\n",
      "[mpileup] maximum number of reads per input file set to -d 500\n",
      "[mpileup] 1 samples in 1 input files\n",
      "[mpileup] maximum number of reads per input file set to -d 500\n",
      "[mpileup] 1 samples in 1 input files\n",
      "[mpileup] maximum number of reads per input file set to -d 500\n",
      "[mpileup] 1 samples in 1 input files\n",
      "[mpileup] maximum number of reads per input file set to -d 500\n",
      "[mpileup] 1 samples in 1 input files\n",
      "[mpileup] maximum number of reads per input file set to -d 500\n",
      "[mpileup] 1 samples in 1 input files\n",
      "[mpileup] maximum number of reads per input file set to -d 500\n",
      "[mpileup] 1 samples in 1 input files\n",
      "[mpileup] maximum number of reads per input file set to -d 500\n",
      "[mpileup] 1 samples in 1 input files\n",
      "[mpileup] maximum number of reads per input file set to -d 500\n",
      "[mpileup] 1 samples in 1 input files\n",
      "[mpileup] maximum number of reads per input file set to -d 500\n",
      "[mpileup] 1 samples in 1 input files\n",
      "[mpileup] maximum number of reads per input file set to -d 500\n",
      "Checking the headers and starting positions of 12 files\n",
      "Concatenating /tmp/1-362491.bcf"
     ]
    },
    {
     "name": "stdout",
     "output_type": "stream",
     "text": [
      "bcftools concat /tmp/1-362491.bcf /tmp/362492-724983.bcf /tmp/724984-1087475.bcf /tmp/1087476-1449967.bcf /tmp/1449968-1812459.bcf /tmp/1812460-2174951.bcf /tmp/2174952-2537443.bcf /tmp/2537444-2899935.bcf /tmp/2899936-3262427.bcf /tmp/3262428-3624919.bcf /tmp/3624920-3987411.bcf /tmp/3987412-4349903.bcf --threads 12 -O b -o /storage/btbgenie/all_ireland_results_new/variant_calling/TB19-010688/raw.bcf\n"
     ]
    },
    {
     "name": "stderr",
     "output_type": "stream",
     "text": [
      "\t0.268797 seconds\n",
      "Concatenating /tmp/362492-724983.bcf\t0.282093 seconds\n",
      "Concatenating /tmp/724984-1087475.bcf\t0.242967 seconds\n",
      "Concatenating /tmp/1087476-1449967.bcf\t0.270276 seconds\n",
      "Concatenating /tmp/1449968-1812459.bcf\t0.280665 seconds\n",
      "Concatenating /tmp/1812460-2174951.bcf\t0.253083 seconds\n",
      "Concatenating /tmp/2174952-2537443.bcf\t0.341573 seconds\n",
      "Concatenating /tmp/2537444-2899935.bcf\t0.271088 seconds\n",
      "Concatenating /tmp/2899936-3262427.bcf\t0.281128 seconds\n",
      "Concatenating /tmp/3262428-3624919.bcf\t0.274917 seconds\n",
      "Concatenating /tmp/3624920-3987411.bcf\t0.267197 seconds\n",
      "Concatenating /tmp/3987412-4349903.bcf\t0.244769 seconds\n"
     ]
    },
    {
     "name": "stdout",
     "output_type": "stream",
     "text": [
      "TB19-009937\n",
      "[      1  362492  724984 1087476 1449968 1812460 2174952 2537444 2899936\n",
      " 3262428 3624920 3987412 4349904]\n",
      "parallel bcftools mpileup -r {1} -a \"AD,ADF,ADR,DP,SP,INFO/AD,INFO/ADF,INFO/ADR\" -O b --max-depth 500 --min-MQ 60 -o {2} -f /home/farrell/.config/snipgenie/genome/Mbovis_AF212297.fa /storage/btbgenie/all_ireland_results/mapped/TB19-009937.bam ::: \"LT708304.1\":1-362491 \"LT708304.1\":362492-724983 \"LT708304.1\":724984-1087475 \"LT708304.1\":1087476-1449967 \"LT708304.1\":1449968-1812459 \"LT708304.1\":1812460-2174951 \"LT708304.1\":2174952-2537443 \"LT708304.1\":2537444-2899935 \"LT708304.1\":2899936-3262427 \"LT708304.1\":3262428-3624919 \"LT708304.1\":3624920-3987411 \"LT708304.1\":3987412-4349903 :::+ /tmp/1-362491.bcf /tmp/362492-724983.bcf /tmp/724984-1087475.bcf /tmp/1087476-1449967.bcf /tmp/1449968-1812459.bcf /tmp/1812460-2174951.bcf /tmp/2174952-2537443.bcf /tmp/2537444-2899935.bcf /tmp/2899936-3262427.bcf /tmp/3262428-3624919.bcf /tmp/3624920-3987411.bcf /tmp/3987412-4349903.bcf\n"
     ]
    },
    {
     "name": "stderr",
     "output_type": "stream",
     "text": [
      "[mpileup] 1 samples in 1 input files\n",
      "[mpileup] maximum number of reads per input file set to -d 500\n",
      "[mpileup] 1 samples in 1 input files\n",
      "[mpileup] maximum number of reads per input file set to -d 500\n",
      "[mpileup] 1 samples in 1 input files\n",
      "[mpileup] maximum number of reads per input file set to -d 500\n",
      "[mpileup] 1 samples in 1 input files\n",
      "[mpileup] maximum number of reads per input file set to -d 500\n",
      "[mpileup] 1 samples in 1 input files\n",
      "[mpileup] maximum number of reads per input file set to -d 500\n",
      "[mpileup] 1 samples in 1 input files\n",
      "[mpileup] maximum number of reads per input file set to -d 500\n",
      "[mpileup] 1 samples in 1 input files\n",
      "[mpileup] maximum number of reads per input file set to -d 500\n",
      "[mpileup] 1 samples in 1 input files\n",
      "[mpileup] maximum number of reads per input file set to -d 500\n",
      "[mpileup] 1 samples in 1 input files\n",
      "[mpileup] maximum number of reads per input file set to -d 500\n",
      "[mpileup] 1 samples in 1 input files\n",
      "[mpileup] maximum number of reads per input file set to -d 500\n",
      "[mpileup] 1 samples in 1 input files\n",
      "[mpileup] maximum number of reads per input file set to -d 500\n",
      "[mpileup] 1 samples in 1 input files\n",
      "[mpileup] maximum number of reads per input file set to -d 500\n",
      "Checking the headers and starting positions of 12 files\n",
      "Concatenating /tmp/1-362491.bcf"
     ]
    },
    {
     "name": "stdout",
     "output_type": "stream",
     "text": [
      "bcftools concat /tmp/1-362491.bcf /tmp/362492-724983.bcf /tmp/724984-1087475.bcf /tmp/1087476-1449967.bcf /tmp/1449968-1812459.bcf /tmp/1812460-2174951.bcf /tmp/2174952-2537443.bcf /tmp/2537444-2899935.bcf /tmp/2899936-3262427.bcf /tmp/3262428-3624919.bcf /tmp/3624920-3987411.bcf /tmp/3987412-4349903.bcf --threads 12 -O b -o /storage/btbgenie/all_ireland_results_new/variant_calling/TB19-009937/raw.bcf\n"
     ]
    },
    {
     "name": "stderr",
     "output_type": "stream",
     "text": [
      "\t0.270160 seconds\n",
      "Concatenating /tmp/362492-724983.bcf\t0.271005 seconds\n",
      "Concatenating /tmp/724984-1087475.bcf\t0.269178 seconds\n",
      "Concatenating /tmp/1087476-1449967.bcf\t0.239892 seconds\n",
      "Concatenating /tmp/1449968-1812459.bcf\t0.269574 seconds\n",
      "Concatenating /tmp/1812460-2174951.bcf\t0.270069 seconds\n",
      "Concatenating /tmp/2174952-2537443.bcf\t0.274564 seconds\n",
      "Concatenating /tmp/2537444-2899935.bcf\t0.274774 seconds\n",
      "Concatenating /tmp/2899936-3262427.bcf\t0.265281 seconds\n",
      "Concatenating /tmp/3262428-3624919.bcf\t0.332646 seconds\n",
      "Concatenating /tmp/3624920-3987411.bcf\t0.270500 seconds\n",
      "Concatenating /tmp/3987412-4349903.bcf\t0.265707 seconds\n"
     ]
    },
    {
     "name": "stdout",
     "output_type": "stream",
     "text": [
      "TB19-009902\n",
      "[      1  362492  724984 1087476 1449968 1812460 2174952 2537444 2899936\n",
      " 3262428 3624920 3987412 4349904]\n",
      "parallel bcftools mpileup -r {1} -a \"AD,ADF,ADR,DP,SP,INFO/AD,INFO/ADF,INFO/ADR\" -O b --max-depth 500 --min-MQ 60 -o {2} -f /home/farrell/.config/snipgenie/genome/Mbovis_AF212297.fa /storage/btbgenie/all_ireland_results/mapped/TB19-009902.bam ::: \"LT708304.1\":1-362491 \"LT708304.1\":362492-724983 \"LT708304.1\":724984-1087475 \"LT708304.1\":1087476-1449967 \"LT708304.1\":1449968-1812459 \"LT708304.1\":1812460-2174951 \"LT708304.1\":2174952-2537443 \"LT708304.1\":2537444-2899935 \"LT708304.1\":2899936-3262427 \"LT708304.1\":3262428-3624919 \"LT708304.1\":3624920-3987411 \"LT708304.1\":3987412-4349903 :::+ /tmp/1-362491.bcf /tmp/362492-724983.bcf /tmp/724984-1087475.bcf /tmp/1087476-1449967.bcf /tmp/1449968-1812459.bcf /tmp/1812460-2174951.bcf /tmp/2174952-2537443.bcf /tmp/2537444-2899935.bcf /tmp/2899936-3262427.bcf /tmp/3262428-3624919.bcf /tmp/3624920-3987411.bcf /tmp/3987412-4349903.bcf\n"
     ]
    },
    {
     "name": "stderr",
     "output_type": "stream",
     "text": [
      "[mpileup] 1 samples in 1 input files\n",
      "[mpileup] maximum number of reads per input file set to -d 500\n",
      "[mpileup] 1 samples in 1 input files\n",
      "[mpileup] maximum number of reads per input file set to -d 500\n",
      "[mpileup] 1 samples in 1 input files\n",
      "[mpileup] maximum number of reads per input file set to -d 500\n",
      "[mpileup] 1 samples in 1 input files\n",
      "[mpileup] maximum number of reads per input file set to -d 500\n",
      "[mpileup] 1 samples in 1 input files\n",
      "[mpileup] maximum number of reads per input file set to -d 500\n",
      "[mpileup] 1 samples in 1 input files\n",
      "[mpileup] maximum number of reads per input file set to -d 500\n",
      "[mpileup] 1 samples in 1 input files\n",
      "[mpileup] maximum number of reads per input file set to -d 500\n",
      "[mpileup] 1 samples in 1 input files\n",
      "[mpileup] maximum number of reads per input file set to -d 500\n",
      "[mpileup] 1 samples in 1 input files\n",
      "[mpileup] maximum number of reads per input file set to -d 500\n",
      "[mpileup] 1 samples in 1 input files\n",
      "[mpileup] maximum number of reads per input file set to -d 500\n",
      "[mpileup] 1 samples in 1 input files\n",
      "[mpileup] maximum number of reads per input file set to -d 500\n",
      "[mpileup] 1 samples in 1 input files\n",
      "[mpileup] maximum number of reads per input file set to -d 500\n",
      "Checking the headers and starting positions of 12 files\n",
      "Concatenating /tmp/1-362491.bcf"
     ]
    },
    {
     "name": "stdout",
     "output_type": "stream",
     "text": [
      "bcftools concat /tmp/1-362491.bcf /tmp/362492-724983.bcf /tmp/724984-1087475.bcf /tmp/1087476-1449967.bcf /tmp/1449968-1812459.bcf /tmp/1812460-2174951.bcf /tmp/2174952-2537443.bcf /tmp/2537444-2899935.bcf /tmp/2899936-3262427.bcf /tmp/3262428-3624919.bcf /tmp/3624920-3987411.bcf /tmp/3987412-4349903.bcf --threads 12 -O b -o /storage/btbgenie/all_ireland_results_new/variant_calling/TB19-009902/raw.bcf\n"
     ]
    },
    {
     "name": "stderr",
     "output_type": "stream",
     "text": [
      "\t0.266344 seconds\n",
      "Concatenating /tmp/362492-724983.bcf\t0.268185 seconds\n",
      "Concatenating /tmp/724984-1087475.bcf\t0.270539 seconds\n",
      "Concatenating /tmp/1087476-1449967.bcf\t0.261596 seconds\n",
      "Concatenating /tmp/1449968-1812459.bcf\t0.251290 seconds\n",
      "Concatenating /tmp/1812460-2174951.bcf\t0.247932 seconds\n",
      "Concatenating /tmp/2174952-2537443.bcf\t0.266740 seconds\n",
      "Concatenating /tmp/2537444-2899935.bcf\t0.263852 seconds\n",
      "Concatenating /tmp/2899936-3262427.bcf\t0.266912 seconds\n",
      "Concatenating /tmp/3262428-3624919.bcf\t0.268739 seconds\n",
      "Concatenating /tmp/3624920-3987411.bcf\t0.274494 seconds\n",
      "Concatenating /tmp/3987412-4349903.bcf\t0.352697 seconds\n"
     ]
    },
    {
     "name": "stdout",
     "output_type": "stream",
     "text": [
      "TB19-009901\n",
      "[      1  362492  724984 1087476 1449968 1812460 2174952 2537444 2899936\n",
      " 3262428 3624920 3987412 4349904]\n",
      "parallel bcftools mpileup -r {1} -a \"AD,ADF,ADR,DP,SP,INFO/AD,INFO/ADF,INFO/ADR\" -O b --max-depth 500 --min-MQ 60 -o {2} -f /home/farrell/.config/snipgenie/genome/Mbovis_AF212297.fa /storage/btbgenie/all_ireland_results/mapped/TB19-009901.bam ::: \"LT708304.1\":1-362491 \"LT708304.1\":362492-724983 \"LT708304.1\":724984-1087475 \"LT708304.1\":1087476-1449967 \"LT708304.1\":1449968-1812459 \"LT708304.1\":1812460-2174951 \"LT708304.1\":2174952-2537443 \"LT708304.1\":2537444-2899935 \"LT708304.1\":2899936-3262427 \"LT708304.1\":3262428-3624919 \"LT708304.1\":3624920-3987411 \"LT708304.1\":3987412-4349903 :::+ /tmp/1-362491.bcf /tmp/362492-724983.bcf /tmp/724984-1087475.bcf /tmp/1087476-1449967.bcf /tmp/1449968-1812459.bcf /tmp/1812460-2174951.bcf /tmp/2174952-2537443.bcf /tmp/2537444-2899935.bcf /tmp/2899936-3262427.bcf /tmp/3262428-3624919.bcf /tmp/3624920-3987411.bcf /tmp/3987412-4349903.bcf\n"
     ]
    },
    {
     "name": "stderr",
     "output_type": "stream",
     "text": [
      "[mpileup] 1 samples in 1 input files\n",
      "[mpileup] maximum number of reads per input file set to -d 500\n",
      "[mpileup] 1 samples in 1 input files\n",
      "[mpileup] maximum number of reads per input file set to -d 500\n",
      "[mpileup] 1 samples in 1 input files\n",
      "[mpileup] maximum number of reads per input file set to -d 500\n",
      "[mpileup] 1 samples in 1 input files\n",
      "[mpileup] maximum number of reads per input file set to -d 500\n",
      "[mpileup] 1 samples in 1 input files\n",
      "[mpileup] maximum number of reads per input file set to -d 500\n",
      "[mpileup] 1 samples in 1 input files\n",
      "[mpileup] maximum number of reads per input file set to -d 500\n",
      "[mpileup] 1 samples in 1 input files\n",
      "[mpileup] maximum number of reads per input file set to -d 500\n",
      "[mpileup] 1 samples in 1 input files\n",
      "[mpileup] maximum number of reads per input file set to -d 500\n",
      "[mpileup] 1 samples in 1 input files\n",
      "[mpileup] maximum number of reads per input file set to -d 500\n",
      "[mpileup] 1 samples in 1 input files\n",
      "[mpileup] maximum number of reads per input file set to -d 500\n",
      "[mpileup] 1 samples in 1 input files\n",
      "[mpileup] maximum number of reads per input file set to -d 500\n",
      "[mpileup] 1 samples in 1 input files\n",
      "[mpileup] maximum number of reads per input file set to -d 500\n",
      "Checking the headers and starting positions of 12 files\n",
      "Concatenating /tmp/1-362491.bcf"
     ]
    },
    {
     "name": "stdout",
     "output_type": "stream",
     "text": [
      "bcftools concat /tmp/1-362491.bcf /tmp/362492-724983.bcf /tmp/724984-1087475.bcf /tmp/1087476-1449967.bcf /tmp/1449968-1812459.bcf /tmp/1812460-2174951.bcf /tmp/2174952-2537443.bcf /tmp/2537444-2899935.bcf /tmp/2899936-3262427.bcf /tmp/3262428-3624919.bcf /tmp/3624920-3987411.bcf /tmp/3987412-4349903.bcf --threads 12 -O b -o /storage/btbgenie/all_ireland_results_new/variant_calling/TB19-009901/raw.bcf\n"
     ]
    },
    {
     "name": "stderr",
     "output_type": "stream",
     "text": [
      "\t0.254413 seconds\n",
      "Concatenating /tmp/362492-724983.bcf\t0.257469 seconds\n",
      "Concatenating /tmp/724984-1087475.bcf\t0.255088 seconds\n",
      "Concatenating /tmp/1087476-1449967.bcf\t0.254681 seconds\n",
      "Concatenating /tmp/1449968-1812459.bcf\t0.255061 seconds\n",
      "Concatenating /tmp/1812460-2174951.bcf\t0.256681 seconds\n",
      "Concatenating /tmp/2174952-2537443.bcf\t0.243461 seconds\n",
      "Concatenating /tmp/2537444-2899935.bcf\t0.256462 seconds\n",
      "Concatenating /tmp/2899936-3262427.bcf\t0.336189 seconds\n",
      "Concatenating /tmp/3262428-3624919.bcf\t0.272356 seconds\n",
      "Concatenating /tmp/3624920-3987411.bcf\t0.265607 seconds\n",
      "Concatenating /tmp/3987412-4349903.bcf\t0.242135 seconds\n"
     ]
    },
    {
     "name": "stdout",
     "output_type": "stream",
     "text": [
      "TB19-009897\n",
      "[      1  362492  724984 1087476 1449968 1812460 2174952 2537444 2899936\n",
      " 3262428 3624920 3987412 4349904]\n",
      "parallel bcftools mpileup -r {1} -a \"AD,ADF,ADR,DP,SP,INFO/AD,INFO/ADF,INFO/ADR\" -O b --max-depth 500 --min-MQ 60 -o {2} -f /home/farrell/.config/snipgenie/genome/Mbovis_AF212297.fa /storage/btbgenie/all_ireland_results/mapped/TB19-009897.bam ::: \"LT708304.1\":1-362491 \"LT708304.1\":362492-724983 \"LT708304.1\":724984-1087475 \"LT708304.1\":1087476-1449967 \"LT708304.1\":1449968-1812459 \"LT708304.1\":1812460-2174951 \"LT708304.1\":2174952-2537443 \"LT708304.1\":2537444-2899935 \"LT708304.1\":2899936-3262427 \"LT708304.1\":3262428-3624919 \"LT708304.1\":3624920-3987411 \"LT708304.1\":3987412-4349903 :::+ /tmp/1-362491.bcf /tmp/362492-724983.bcf /tmp/724984-1087475.bcf /tmp/1087476-1449967.bcf /tmp/1449968-1812459.bcf /tmp/1812460-2174951.bcf /tmp/2174952-2537443.bcf /tmp/2537444-2899935.bcf /tmp/2899936-3262427.bcf /tmp/3262428-3624919.bcf /tmp/3624920-3987411.bcf /tmp/3987412-4349903.bcf\n"
     ]
    },
    {
     "name": "stderr",
     "output_type": "stream",
     "text": [
      "[mpileup] 1 samples in 1 input files\n",
      "[mpileup] maximum number of reads per input file set to -d 500\n",
      "[mpileup] 1 samples in 1 input files\n",
      "[mpileup] maximum number of reads per input file set to -d 500\n",
      "[mpileup] 1 samples in 1 input files\n",
      "[mpileup] maximum number of reads per input file set to -d 500\n",
      "[mpileup] 1 samples in 1 input files\n",
      "[mpileup] maximum number of reads per input file set to -d 500\n",
      "[mpileup] 1 samples in 1 input files\n",
      "[mpileup] maximum number of reads per input file set to -d 500\n",
      "[mpileup] 1 samples in 1 input files\n",
      "[mpileup] maximum number of reads per input file set to -d 500\n",
      "[mpileup] 1 samples in 1 input files\n",
      "[mpileup] maximum number of reads per input file set to -d 500\n",
      "[mpileup] 1 samples in 1 input files\n",
      "[mpileup] maximum number of reads per input file set to -d 500\n",
      "[mpileup] 1 samples in 1 input files\n",
      "[mpileup] maximum number of reads per input file set to -d 500\n",
      "[mpileup] 1 samples in 1 input files\n",
      "[mpileup] maximum number of reads per input file set to -d 500\n",
      "[mpileup] 1 samples in 1 input files\n",
      "[mpileup] maximum number of reads per input file set to -d 500\n",
      "[mpileup] 1 samples in 1 input files\n",
      "[mpileup] maximum number of reads per input file set to -d 500\n",
      "Checking the headers and starting positions of 12 files\n",
      "Concatenating /tmp/1-362491.bcf\t0.159795 seconds\n",
      "Concatenating /tmp/362492-724983.bcf"
     ]
    },
    {
     "name": "stdout",
     "output_type": "stream",
     "text": [
      "bcftools concat /tmp/1-362491.bcf /tmp/362492-724983.bcf /tmp/724984-1087475.bcf /tmp/1087476-1449967.bcf /tmp/1449968-1812459.bcf /tmp/1812460-2174951.bcf /tmp/2174952-2537443.bcf /tmp/2537444-2899935.bcf /tmp/2899936-3262427.bcf /tmp/3262428-3624919.bcf /tmp/3624920-3987411.bcf /tmp/3987412-4349903.bcf --threads 12 -O b -o /storage/btbgenie/all_ireland_results_new/variant_calling/TB19-009897/raw.bcf\n"
     ]
    },
    {
     "name": "stderr",
     "output_type": "stream",
     "text": [
      "\t0.230236 seconds\n",
      "Concatenating /tmp/724984-1087475.bcf\t0.231261 seconds\n",
      "Concatenating /tmp/1087476-1449967.bcf\t0.288986 seconds\n",
      "Concatenating /tmp/1449968-1812459.bcf\t0.218845 seconds\n",
      "Concatenating /tmp/1812460-2174951.bcf\t0.230902 seconds\n",
      "Concatenating /tmp/2174952-2537443.bcf\t0.220587 seconds\n",
      "Concatenating /tmp/2537444-2899935.bcf\t0.240831 seconds\n",
      "Concatenating /tmp/2899936-3262427.bcf\t0.218494 seconds\n",
      "Concatenating /tmp/3262428-3624919.bcf\t0.217582 seconds\n",
      "Concatenating /tmp/3624920-3987411.bcf\t0.231995 seconds\n",
      "Concatenating /tmp/3987412-4349903.bcf\t0.218087 seconds\n"
     ]
    },
    {
     "name": "stdout",
     "output_type": "stream",
     "text": [
      "TB19-009892\n",
      "[      1  362492  724984 1087476 1449968 1812460 2174952 2537444 2899936\n",
      " 3262428 3624920 3987412 4349904]\n",
      "parallel bcftools mpileup -r {1} -a \"AD,ADF,ADR,DP,SP,INFO/AD,INFO/ADF,INFO/ADR\" -O b --max-depth 500 --min-MQ 60 -o {2} -f /home/farrell/.config/snipgenie/genome/Mbovis_AF212297.fa /storage/btbgenie/all_ireland_results/mapped/TB19-009892.bam ::: \"LT708304.1\":1-362491 \"LT708304.1\":362492-724983 \"LT708304.1\":724984-1087475 \"LT708304.1\":1087476-1449967 \"LT708304.1\":1449968-1812459 \"LT708304.1\":1812460-2174951 \"LT708304.1\":2174952-2537443 \"LT708304.1\":2537444-2899935 \"LT708304.1\":2899936-3262427 \"LT708304.1\":3262428-3624919 \"LT708304.1\":3624920-3987411 \"LT708304.1\":3987412-4349903 :::+ /tmp/1-362491.bcf /tmp/362492-724983.bcf /tmp/724984-1087475.bcf /tmp/1087476-1449967.bcf /tmp/1449968-1812459.bcf /tmp/1812460-2174951.bcf /tmp/2174952-2537443.bcf /tmp/2537444-2899935.bcf /tmp/2899936-3262427.bcf /tmp/3262428-3624919.bcf /tmp/3624920-3987411.bcf /tmp/3987412-4349903.bcf\n"
     ]
    },
    {
     "name": "stderr",
     "output_type": "stream",
     "text": [
      "[mpileup] 1 samples in 1 input files\n",
      "[mpileup] maximum number of reads per input file set to -d 500\n",
      "[mpileup] 1 samples in 1 input files\n",
      "[mpileup] maximum number of reads per input file set to -d 500\n",
      "[mpileup] 1 samples in 1 input files\n",
      "[mpileup] maximum number of reads per input file set to -d 500\n",
      "[mpileup] 1 samples in 1 input files\n",
      "[mpileup] maximum number of reads per input file set to -d 500\n",
      "[mpileup] 1 samples in 1 input files\n",
      "[mpileup] maximum number of reads per input file set to -d 500\n",
      "[mpileup] 1 samples in 1 input files\n",
      "[mpileup] maximum number of reads per input file set to -d 500\n",
      "[mpileup] 1 samples in 1 input files\n",
      "[mpileup] maximum number of reads per input file set to -d 500\n",
      "[mpileup] 1 samples in 1 input files\n",
      "[mpileup] maximum number of reads per input file set to -d 500\n",
      "[mpileup] 1 samples in 1 input files\n",
      "[mpileup] maximum number of reads per input file set to -d 500\n",
      "[mpileup] 1 samples in 1 input files\n",
      "[mpileup] maximum number of reads per input file set to -d 500\n",
      "[mpileup] 1 samples in 1 input files\n",
      "[mpileup] maximum number of reads per input file set to -d 500\n",
      "[mpileup] 1 samples in 1 input files\n",
      "[mpileup] maximum number of reads per input file set to -d 500\n",
      "Checking the headers and starting positions of 12 files\n",
      "Concatenating /tmp/1-362491.bcf"
     ]
    },
    {
     "name": "stdout",
     "output_type": "stream",
     "text": [
      "bcftools concat /tmp/1-362491.bcf /tmp/362492-724983.bcf /tmp/724984-1087475.bcf /tmp/1087476-1449967.bcf /tmp/1449968-1812459.bcf /tmp/1812460-2174951.bcf /tmp/2174952-2537443.bcf /tmp/2537444-2899935.bcf /tmp/2899936-3262427.bcf /tmp/3262428-3624919.bcf /tmp/3624920-3987411.bcf /tmp/3987412-4349903.bcf --threads 12 -O b -o /storage/btbgenie/all_ireland_results_new/variant_calling/TB19-009892/raw.bcf\n"
     ]
    },
    {
     "name": "stderr",
     "output_type": "stream",
     "text": [
      "\t0.275387 seconds\n",
      "Concatenating /tmp/362492-724983.bcf\t0.258881 seconds\n",
      "Concatenating /tmp/724984-1087475.bcf\t0.278410 seconds\n",
      "Concatenating /tmp/1087476-1449967.bcf\t0.266865 seconds\n",
      "Concatenating /tmp/1449968-1812459.bcf\t0.286081 seconds\n",
      "Concatenating /tmp/1812460-2174951.bcf\t0.266110 seconds\n",
      "Concatenating /tmp/2174952-2537443.bcf\t0.257187 seconds\n",
      "Concatenating /tmp/2537444-2899935.bcf\t0.376422 seconds\n",
      "Concatenating /tmp/2899936-3262427.bcf\t0.278506 seconds\n",
      "Concatenating /tmp/3262428-3624919.bcf\t0.269732 seconds\n",
      "Concatenating /tmp/3624920-3987411.bcf\t0.264910 seconds\n",
      "Concatenating /tmp/3987412-4349903.bcf\t0.308243 seconds\n"
     ]
    },
    {
     "name": "stdout",
     "output_type": "stream",
     "text": [
      "TB19-009889\n",
      "[      1  362492  724984 1087476 1449968 1812460 2174952 2537444 2899936\n",
      " 3262428 3624920 3987412 4349904]\n",
      "parallel bcftools mpileup -r {1} -a \"AD,ADF,ADR,DP,SP,INFO/AD,INFO/ADF,INFO/ADR\" -O b --max-depth 500 --min-MQ 60 -o {2} -f /home/farrell/.config/snipgenie/genome/Mbovis_AF212297.fa /storage/btbgenie/all_ireland_results/mapped/TB19-009889.bam ::: \"LT708304.1\":1-362491 \"LT708304.1\":362492-724983 \"LT708304.1\":724984-1087475 \"LT708304.1\":1087476-1449967 \"LT708304.1\":1449968-1812459 \"LT708304.1\":1812460-2174951 \"LT708304.1\":2174952-2537443 \"LT708304.1\":2537444-2899935 \"LT708304.1\":2899936-3262427 \"LT708304.1\":3262428-3624919 \"LT708304.1\":3624920-3987411 \"LT708304.1\":3987412-4349903 :::+ /tmp/1-362491.bcf /tmp/362492-724983.bcf /tmp/724984-1087475.bcf /tmp/1087476-1449967.bcf /tmp/1449968-1812459.bcf /tmp/1812460-2174951.bcf /tmp/2174952-2537443.bcf /tmp/2537444-2899935.bcf /tmp/2899936-3262427.bcf /tmp/3262428-3624919.bcf /tmp/3624920-3987411.bcf /tmp/3987412-4349903.bcf\n"
     ]
    },
    {
     "name": "stderr",
     "output_type": "stream",
     "text": [
      "[mpileup] 1 samples in 1 input files\n",
      "[mpileup] maximum number of reads per input file set to -d 500\n",
      "[mpileup] 1 samples in 1 input files\n",
      "[mpileup] maximum number of reads per input file set to -d 500\n",
      "[mpileup] 1 samples in 1 input files\n",
      "[mpileup] maximum number of reads per input file set to -d 500\n",
      "[mpileup] 1 samples in 1 input files\n",
      "[mpileup] maximum number of reads per input file set to -d 500\n",
      "[mpileup] 1 samples in 1 input files\n",
      "[mpileup] maximum number of reads per input file set to -d 500\n",
      "[mpileup] 1 samples in 1 input files\n",
      "[mpileup] maximum number of reads per input file set to -d 500\n",
      "[mpileup] 1 samples in 1 input files\n",
      "[mpileup] maximum number of reads per input file set to -d 500\n",
      "[mpileup] 1 samples in 1 input files\n",
      "[mpileup] maximum number of reads per input file set to -d 500\n",
      "[mpileup] 1 samples in 1 input files\n",
      "[mpileup] maximum number of reads per input file set to -d 500\n",
      "[mpileup] 1 samples in 1 input files\n",
      "[mpileup] maximum number of reads per input file set to -d 500\n",
      "[mpileup] 1 samples in 1 input files\n",
      "[mpileup] maximum number of reads per input file set to -d 500\n",
      "[mpileup] 1 samples in 1 input files\n",
      "[mpileup] maximum number of reads per input file set to -d 500\n",
      "Checking the headers and starting positions of 12 files\n",
      "Concatenating /tmp/1-362491.bcf"
     ]
    },
    {
     "name": "stdout",
     "output_type": "stream",
     "text": [
      "bcftools concat /tmp/1-362491.bcf /tmp/362492-724983.bcf /tmp/724984-1087475.bcf /tmp/1087476-1449967.bcf /tmp/1449968-1812459.bcf /tmp/1812460-2174951.bcf /tmp/2174952-2537443.bcf /tmp/2537444-2899935.bcf /tmp/2899936-3262427.bcf /tmp/3262428-3624919.bcf /tmp/3624920-3987411.bcf /tmp/3987412-4349903.bcf --threads 12 -O b -o /storage/btbgenie/all_ireland_results_new/variant_calling/TB19-009889/raw.bcf\n"
     ]
    },
    {
     "name": "stderr",
     "output_type": "stream",
     "text": [
      "\t0.281722 seconds\n",
      "Concatenating /tmp/362492-724983.bcf\t0.257094 seconds\n",
      "Concatenating /tmp/724984-1087475.bcf\t0.246698 seconds\n",
      "Concatenating /tmp/1087476-1449967.bcf\t0.253154 seconds\n",
      "Concatenating /tmp/1449968-1812459.bcf\t0.249303 seconds\n",
      "Concatenating /tmp/1812460-2174951.bcf\t0.252889 seconds\n",
      "Concatenating /tmp/2174952-2537443.bcf\t0.259251 seconds\n",
      "Concatenating /tmp/2537444-2899935.bcf\t0.253565 seconds\n",
      "Concatenating /tmp/2899936-3262427.bcf\t0.250031 seconds\n",
      "Concatenating /tmp/3262428-3624919.bcf\t0.264621 seconds\n",
      "Concatenating /tmp/3624920-3987411.bcf\t0.348179 seconds\n",
      "Concatenating /tmp/3987412-4349903.bcf\t0.254842 seconds\n"
     ]
    },
    {
     "name": "stdout",
     "output_type": "stream",
     "text": [
      "TB19-010683\n",
      "[      1  362492  724984 1087476 1449968 1812460 2174952 2537444 2899936\n",
      " 3262428 3624920 3987412 4349904]\n",
      "parallel bcftools mpileup -r {1} -a \"AD,ADF,ADR,DP,SP,INFO/AD,INFO/ADF,INFO/ADR\" -O b --max-depth 500 --min-MQ 60 -o {2} -f /home/farrell/.config/snipgenie/genome/Mbovis_AF212297.fa /storage/btbgenie/all_ireland_results/mapped/TB19-010683.bam ::: \"LT708304.1\":1-362491 \"LT708304.1\":362492-724983 \"LT708304.1\":724984-1087475 \"LT708304.1\":1087476-1449967 \"LT708304.1\":1449968-1812459 \"LT708304.1\":1812460-2174951 \"LT708304.1\":2174952-2537443 \"LT708304.1\":2537444-2899935 \"LT708304.1\":2899936-3262427 \"LT708304.1\":3262428-3624919 \"LT708304.1\":3624920-3987411 \"LT708304.1\":3987412-4349903 :::+ /tmp/1-362491.bcf /tmp/362492-724983.bcf /tmp/724984-1087475.bcf /tmp/1087476-1449967.bcf /tmp/1449968-1812459.bcf /tmp/1812460-2174951.bcf /tmp/2174952-2537443.bcf /tmp/2537444-2899935.bcf /tmp/2899936-3262427.bcf /tmp/3262428-3624919.bcf /tmp/3624920-3987411.bcf /tmp/3987412-4349903.bcf\n"
     ]
    },
    {
     "name": "stderr",
     "output_type": "stream",
     "text": [
      "[mpileup] 1 samples in 1 input files\n",
      "[mpileup] maximum number of reads per input file set to -d 500\n",
      "[mpileup] 1 samples in 1 input files\n",
      "[mpileup] maximum number of reads per input file set to -d 500\n",
      "[mpileup] 1 samples in 1 input files\n",
      "[mpileup] maximum number of reads per input file set to -d 500\n",
      "[mpileup] 1 samples in 1 input files\n",
      "[mpileup] maximum number of reads per input file set to -d 500\n",
      "[mpileup] 1 samples in 1 input files\n",
      "[mpileup] maximum number of reads per input file set to -d 500\n",
      "[mpileup] 1 samples in 1 input files\n",
      "[mpileup] maximum number of reads per input file set to -d 500\n",
      "[mpileup] 1 samples in 1 input files\n",
      "[mpileup] maximum number of reads per input file set to -d 500\n",
      "[mpileup] 1 samples in 1 input files\n",
      "[mpileup] maximum number of reads per input file set to -d 500\n",
      "[mpileup] 1 samples in 1 input files\n",
      "[mpileup] maximum number of reads per input file set to -d 500\n",
      "[mpileup] 1 samples in 1 input files\n",
      "[mpileup] maximum number of reads per input file set to -d 500\n",
      "[mpileup] 1 samples in 1 input files\n",
      "[mpileup] maximum number of reads per input file set to -d 500\n",
      "[mpileup] 1 samples in 1 input files\n",
      "[mpileup] maximum number of reads per input file set to -d 500\n",
      "Checking the headers and starting positions of 12 files\n",
      "Concatenating /tmp/1-362491.bcf\t0.169905 seconds\n",
      "Concatenating /tmp/362492-724983.bcf"
     ]
    },
    {
     "name": "stdout",
     "output_type": "stream",
     "text": [
      "bcftools concat /tmp/1-362491.bcf /tmp/362492-724983.bcf /tmp/724984-1087475.bcf /tmp/1087476-1449967.bcf /tmp/1449968-1812459.bcf /tmp/1812460-2174951.bcf /tmp/2174952-2537443.bcf /tmp/2537444-2899935.bcf /tmp/2899936-3262427.bcf /tmp/3262428-3624919.bcf /tmp/3624920-3987411.bcf /tmp/3987412-4349903.bcf --threads 12 -O b -o /storage/btbgenie/all_ireland_results_new/variant_calling/TB19-010683/raw.bcf\n"
     ]
    },
    {
     "name": "stderr",
     "output_type": "stream",
     "text": [
      "\t0.217760 seconds\n",
      "Concatenating /tmp/724984-1087475.bcf\t0.244628 seconds\n",
      "Concatenating /tmp/1087476-1449967.bcf\t0.240910 seconds\n",
      "Concatenating /tmp/1449968-1812459.bcf\t0.298980 seconds\n",
      "Concatenating /tmp/1812460-2174951.bcf\t0.242294 seconds\n",
      "Concatenating /tmp/2174952-2537443.bcf\t0.261533 seconds\n",
      "Concatenating /tmp/2537444-2899935.bcf\t0.230124 seconds\n",
      "Concatenating /tmp/2899936-3262427.bcf\t0.233646 seconds\n",
      "Concatenating /tmp/3262428-3624919.bcf\t0.228601 seconds\n",
      "Concatenating /tmp/3624920-3987411.bcf\t0.229351 seconds\n",
      "Concatenating /tmp/3987412-4349903.bcf\t0.230710 seconds\n"
     ]
    },
    {
     "name": "stdout",
     "output_type": "stream",
     "text": [
      "TB19-010840\n",
      "[      1  362492  724984 1087476 1449968 1812460 2174952 2537444 2899936\n",
      " 3262428 3624920 3987412 4349904]\n",
      "parallel bcftools mpileup -r {1} -a \"AD,ADF,ADR,DP,SP,INFO/AD,INFO/ADF,INFO/ADR\" -O b --max-depth 500 --min-MQ 60 -o {2} -f /home/farrell/.config/snipgenie/genome/Mbovis_AF212297.fa /storage/btbgenie/all_ireland_results/mapped/TB19-010840.bam ::: \"LT708304.1\":1-362491 \"LT708304.1\":362492-724983 \"LT708304.1\":724984-1087475 \"LT708304.1\":1087476-1449967 \"LT708304.1\":1449968-1812459 \"LT708304.1\":1812460-2174951 \"LT708304.1\":2174952-2537443 \"LT708304.1\":2537444-2899935 \"LT708304.1\":2899936-3262427 \"LT708304.1\":3262428-3624919 \"LT708304.1\":3624920-3987411 \"LT708304.1\":3987412-4349903 :::+ /tmp/1-362491.bcf /tmp/362492-724983.bcf /tmp/724984-1087475.bcf /tmp/1087476-1449967.bcf /tmp/1449968-1812459.bcf /tmp/1812460-2174951.bcf /tmp/2174952-2537443.bcf /tmp/2537444-2899935.bcf /tmp/2899936-3262427.bcf /tmp/3262428-3624919.bcf /tmp/3624920-3987411.bcf /tmp/3987412-4349903.bcf\n"
     ]
    },
    {
     "name": "stderr",
     "output_type": "stream",
     "text": [
      "[mpileup] 1 samples in 1 input files\n",
      "[mpileup] maximum number of reads per input file set to -d 500\n",
      "[mpileup] 1 samples in 1 input files\n",
      "[mpileup] maximum number of reads per input file set to -d 500\n",
      "[mpileup] 1 samples in 1 input files\n",
      "[mpileup] maximum number of reads per input file set to -d 500\n",
      "[mpileup] 1 samples in 1 input files\n",
      "[mpileup] maximum number of reads per input file set to -d 500\n",
      "[mpileup] 1 samples in 1 input files\n",
      "[mpileup] maximum number of reads per input file set to -d 500\n",
      "[mpileup] 1 samples in 1 input files\n",
      "[mpileup] maximum number of reads per input file set to -d 500\n",
      "[mpileup] 1 samples in 1 input files\n",
      "[mpileup] maximum number of reads per input file set to -d 500\n",
      "[mpileup] 1 samples in 1 input files\n",
      "[mpileup] maximum number of reads per input file set to -d 500\n",
      "[mpileup] 1 samples in 1 input files\n",
      "[mpileup] maximum number of reads per input file set to -d 500\n",
      "[mpileup] 1 samples in 1 input files\n",
      "[mpileup] maximum number of reads per input file set to -d 500\n",
      "[mpileup] 1 samples in 1 input files\n",
      "[mpileup] maximum number of reads per input file set to -d 500\n",
      "[mpileup] 1 samples in 1 input files\n",
      "[mpileup] maximum number of reads per input file set to -d 500\n",
      "Checking the headers and starting positions of 12 files\n",
      "Concatenating /tmp/1-362491.bcf\t0.176557 seconds\n",
      "Concatenating /tmp/362492-724983.bcf"
     ]
    },
    {
     "name": "stdout",
     "output_type": "stream",
     "text": [
      "bcftools concat /tmp/1-362491.bcf /tmp/362492-724983.bcf /tmp/724984-1087475.bcf /tmp/1087476-1449967.bcf /tmp/1449968-1812459.bcf /tmp/1812460-2174951.bcf /tmp/2174952-2537443.bcf /tmp/2537444-2899935.bcf /tmp/2899936-3262427.bcf /tmp/3262428-3624919.bcf /tmp/3624920-3987411.bcf /tmp/3987412-4349903.bcf --threads 12 -O b -o /storage/btbgenie/all_ireland_results_new/variant_calling/TB19-010840/raw.bcf\n"
     ]
    },
    {
     "name": "stderr",
     "output_type": "stream",
     "text": [
      "\t0.351307 seconds\n",
      "Concatenating /tmp/724984-1087475.bcf\t0.273309 seconds\n",
      "Concatenating /tmp/1087476-1449967.bcf\t0.266758 seconds\n",
      "Concatenating /tmp/1449968-1812459.bcf\t0.283004 seconds\n",
      "Concatenating /tmp/1812460-2174951.bcf\t0.266590 seconds\n",
      "Concatenating /tmp/2174952-2537443.bcf\t0.351442 seconds\n",
      "Concatenating /tmp/2537444-2899935.bcf\t0.265242 seconds\n",
      "Concatenating /tmp/2899936-3262427.bcf\t0.255111 seconds\n",
      "Concatenating /tmp/3262428-3624919.bcf\t0.261941 seconds\n",
      "Concatenating /tmp/3624920-3987411.bcf\t0.276277 seconds\n",
      "Concatenating /tmp/3987412-4349903.bcf\t0.268585 seconds\n"
     ]
    },
    {
     "name": "stdout",
     "output_type": "stream",
     "text": [
      "TB19-010843\n",
      "[      1  362492  724984 1087476 1449968 1812460 2174952 2537444 2899936\n",
      " 3262428 3624920 3987412 4349904]\n",
      "parallel bcftools mpileup -r {1} -a \"AD,ADF,ADR,DP,SP,INFO/AD,INFO/ADF,INFO/ADR\" -O b --max-depth 500 --min-MQ 60 -o {2} -f /home/farrell/.config/snipgenie/genome/Mbovis_AF212297.fa /storage/btbgenie/all_ireland_results/mapped/TB19-010843.bam ::: \"LT708304.1\":1-362491 \"LT708304.1\":362492-724983 \"LT708304.1\":724984-1087475 \"LT708304.1\":1087476-1449967 \"LT708304.1\":1449968-1812459 \"LT708304.1\":1812460-2174951 \"LT708304.1\":2174952-2537443 \"LT708304.1\":2537444-2899935 \"LT708304.1\":2899936-3262427 \"LT708304.1\":3262428-3624919 \"LT708304.1\":3624920-3987411 \"LT708304.1\":3987412-4349903 :::+ /tmp/1-362491.bcf /tmp/362492-724983.bcf /tmp/724984-1087475.bcf /tmp/1087476-1449967.bcf /tmp/1449968-1812459.bcf /tmp/1812460-2174951.bcf /tmp/2174952-2537443.bcf /tmp/2537444-2899935.bcf /tmp/2899936-3262427.bcf /tmp/3262428-3624919.bcf /tmp/3624920-3987411.bcf /tmp/3987412-4349903.bcf\n"
     ]
    },
    {
     "name": "stderr",
     "output_type": "stream",
     "text": [
      "[mpileup] 1 samples in 1 input files\n",
      "[mpileup] maximum number of reads per input file set to -d 500\n",
      "[mpileup] 1 samples in 1 input files\n",
      "[mpileup] maximum number of reads per input file set to -d 500\n",
      "[mpileup] 1 samples in 1 input files\n",
      "[mpileup] maximum number of reads per input file set to -d 500\n",
      "[mpileup] 1 samples in 1 input files\n",
      "[mpileup] maximum number of reads per input file set to -d 500\n",
      "[mpileup] 1 samples in 1 input files\n",
      "[mpileup] maximum number of reads per input file set to -d 500\n",
      "[mpileup] 1 samples in 1 input files\n",
      "[mpileup] maximum number of reads per input file set to -d 500\n",
      "[mpileup] 1 samples in 1 input files\n",
      "[mpileup] maximum number of reads per input file set to -d 500\n",
      "[mpileup] 1 samples in 1 input files\n",
      "[mpileup] maximum number of reads per input file set to -d 500\n",
      "[mpileup] 1 samples in 1 input files\n",
      "[mpileup] maximum number of reads per input file set to -d 500\n",
      "[mpileup] 1 samples in 1 input files\n",
      "[mpileup] maximum number of reads per input file set to -d 500\n",
      "[mpileup] 1 samples in 1 input files\n",
      "[mpileup] maximum number of reads per input file set to -d 500\n",
      "[mpileup] 1 samples in 1 input files\n",
      "[mpileup] maximum number of reads per input file set to -d 500\n",
      "Checking the headers and starting positions of 12 files\n",
      "Concatenating /tmp/1-362491.bcf"
     ]
    },
    {
     "name": "stdout",
     "output_type": "stream",
     "text": [
      "bcftools concat /tmp/1-362491.bcf /tmp/362492-724983.bcf /tmp/724984-1087475.bcf /tmp/1087476-1449967.bcf /tmp/1449968-1812459.bcf /tmp/1812460-2174951.bcf /tmp/2174952-2537443.bcf /tmp/2537444-2899935.bcf /tmp/2899936-3262427.bcf /tmp/3262428-3624919.bcf /tmp/3624920-3987411.bcf /tmp/3987412-4349903.bcf --threads 12 -O b -o /storage/btbgenie/all_ireland_results_new/variant_calling/TB19-010843/raw.bcf\n"
     ]
    },
    {
     "name": "stderr",
     "output_type": "stream",
     "text": [
      "\t0.317001 seconds\n",
      "Concatenating /tmp/362492-724983.bcf\t0.280392 seconds\n",
      "Concatenating /tmp/724984-1087475.bcf\t0.298553 seconds\n",
      "Concatenating /tmp/1087476-1449967.bcf\t0.264853 seconds\n",
      "Concatenating /tmp/1449968-1812459.bcf\t0.264051 seconds\n",
      "Concatenating /tmp/1812460-2174951.bcf\t0.308897 seconds\n",
      "Concatenating /tmp/2174952-2537443.bcf\t0.274966 seconds\n",
      "Concatenating /tmp/2537444-2899935.bcf\t0.254915 seconds\n",
      "Concatenating /tmp/2899936-3262427.bcf\t0.288011 seconds\n",
      "Concatenating /tmp/3262428-3624919.bcf\t0.288025 seconds\n",
      "Concatenating /tmp/3624920-3987411.bcf\t0.371672 seconds\n",
      "Concatenating /tmp/3987412-4349903.bcf\t0.279476 seconds\n"
     ]
    },
    {
     "name": "stdout",
     "output_type": "stream",
     "text": [
      "TB19-010849\n",
      "[      1  362492  724984 1087476 1449968 1812460 2174952 2537444 2899936\n",
      " 3262428 3624920 3987412 4349904]\n",
      "parallel bcftools mpileup -r {1} -a \"AD,ADF,ADR,DP,SP,INFO/AD,INFO/ADF,INFO/ADR\" -O b --max-depth 500 --min-MQ 60 -o {2} -f /home/farrell/.config/snipgenie/genome/Mbovis_AF212297.fa /storage/btbgenie/all_ireland_results/mapped/TB19-010849.bam ::: \"LT708304.1\":1-362491 \"LT708304.1\":362492-724983 \"LT708304.1\":724984-1087475 \"LT708304.1\":1087476-1449967 \"LT708304.1\":1449968-1812459 \"LT708304.1\":1812460-2174951 \"LT708304.1\":2174952-2537443 \"LT708304.1\":2537444-2899935 \"LT708304.1\":2899936-3262427 \"LT708304.1\":3262428-3624919 \"LT708304.1\":3624920-3987411 \"LT708304.1\":3987412-4349903 :::+ /tmp/1-362491.bcf /tmp/362492-724983.bcf /tmp/724984-1087475.bcf /tmp/1087476-1449967.bcf /tmp/1449968-1812459.bcf /tmp/1812460-2174951.bcf /tmp/2174952-2537443.bcf /tmp/2537444-2899935.bcf /tmp/2899936-3262427.bcf /tmp/3262428-3624919.bcf /tmp/3624920-3987411.bcf /tmp/3987412-4349903.bcf\n"
     ]
    },
    {
     "name": "stderr",
     "output_type": "stream",
     "text": [
      "[mpileup] 1 samples in 1 input files\n",
      "[mpileup] maximum number of reads per input file set to -d 500\n",
      "[mpileup] 1 samples in 1 input files\n",
      "[mpileup] maximum number of reads per input file set to -d 500\n",
      "[mpileup] 1 samples in 1 input files\n",
      "[mpileup] maximum number of reads per input file set to -d 500\n",
      "[mpileup] 1 samples in 1 input files\n",
      "[mpileup] maximum number of reads per input file set to -d 500\n",
      "[mpileup] 1 samples in 1 input files\n",
      "[mpileup] maximum number of reads per input file set to -d 500\n",
      "[mpileup] 1 samples in 1 input files\n",
      "[mpileup] maximum number of reads per input file set to -d 500\n",
      "[mpileup] 1 samples in 1 input files\n",
      "[mpileup] maximum number of reads per input file set to -d 500\n",
      "[mpileup] 1 samples in 1 input files\n",
      "[mpileup] maximum number of reads per input file set to -d 500\n",
      "[mpileup] 1 samples in 1 input files\n",
      "[mpileup] maximum number of reads per input file set to -d 500\n",
      "[mpileup] 1 samples in 1 input files\n",
      "[mpileup] maximum number of reads per input file set to -d 500\n",
      "[mpileup] 1 samples in 1 input files\n",
      "[mpileup] maximum number of reads per input file set to -d 500\n",
      "[mpileup] 1 samples in 1 input files\n",
      "[mpileup] maximum number of reads per input file set to -d 500\n",
      "Checking the headers and starting positions of 12 files\n",
      "Concatenating /tmp/1-362491.bcf"
     ]
    },
    {
     "name": "stdout",
     "output_type": "stream",
     "text": [
      "bcftools concat /tmp/1-362491.bcf /tmp/362492-724983.bcf /tmp/724984-1087475.bcf /tmp/1087476-1449967.bcf /tmp/1449968-1812459.bcf /tmp/1812460-2174951.bcf /tmp/2174952-2537443.bcf /tmp/2537444-2899935.bcf /tmp/2899936-3262427.bcf /tmp/3262428-3624919.bcf /tmp/3624920-3987411.bcf /tmp/3987412-4349903.bcf --threads 12 -O b -o /storage/btbgenie/all_ireland_results_new/variant_calling/TB19-010849/raw.bcf\n"
     ]
    },
    {
     "name": "stderr",
     "output_type": "stream",
     "text": [
      "\t0.190029 seconds\n",
      "Concatenating /tmp/362492-724983.bcf\t0.363285 seconds\n",
      "Concatenating /tmp/724984-1087475.bcf\t0.255646 seconds\n",
      "Concatenating /tmp/1087476-1449967.bcf\t0.274897 seconds\n",
      "Concatenating /tmp/1449968-1812459.bcf\t0.246160 seconds\n",
      "Concatenating /tmp/1812460-2174951.bcf\t0.243520 seconds\n",
      "Concatenating /tmp/2174952-2537443.bcf\t0.253561 seconds\n",
      "Concatenating /tmp/2537444-2899935.bcf\t0.251611 seconds\n",
      "Concatenating /tmp/2899936-3262427.bcf\t0.244668 seconds\n",
      "Concatenating /tmp/3262428-3624919.bcf\t0.252640 seconds\n",
      "Concatenating /tmp/3624920-3987411.bcf\t0.254782 seconds\n",
      "Concatenating /tmp/3987412-4349903.bcf\t0.250983 seconds\n"
     ]
    },
    {
     "name": "stdout",
     "output_type": "stream",
     "text": [
      "TB19-010956\n",
      "[      1  362492  724984 1087476 1449968 1812460 2174952 2537444 2899936\n",
      " 3262428 3624920 3987412 4349904]\n",
      "parallel bcftools mpileup -r {1} -a \"AD,ADF,ADR,DP,SP,INFO/AD,INFO/ADF,INFO/ADR\" -O b --max-depth 500 --min-MQ 60 -o {2} -f /home/farrell/.config/snipgenie/genome/Mbovis_AF212297.fa /storage/btbgenie/all_ireland_results/mapped/TB19-010956.bam ::: \"LT708304.1\":1-362491 \"LT708304.1\":362492-724983 \"LT708304.1\":724984-1087475 \"LT708304.1\":1087476-1449967 \"LT708304.1\":1449968-1812459 \"LT708304.1\":1812460-2174951 \"LT708304.1\":2174952-2537443 \"LT708304.1\":2537444-2899935 \"LT708304.1\":2899936-3262427 \"LT708304.1\":3262428-3624919 \"LT708304.1\":3624920-3987411 \"LT708304.1\":3987412-4349903 :::+ /tmp/1-362491.bcf /tmp/362492-724983.bcf /tmp/724984-1087475.bcf /tmp/1087476-1449967.bcf /tmp/1449968-1812459.bcf /tmp/1812460-2174951.bcf /tmp/2174952-2537443.bcf /tmp/2537444-2899935.bcf /tmp/2899936-3262427.bcf /tmp/3262428-3624919.bcf /tmp/3624920-3987411.bcf /tmp/3987412-4349903.bcf\n"
     ]
    },
    {
     "name": "stderr",
     "output_type": "stream",
     "text": [
      "[mpileup] 1 samples in 1 input files\n",
      "[mpileup] maximum number of reads per input file set to -d 500\n",
      "[mpileup] 1 samples in 1 input files\n",
      "[mpileup] maximum number of reads per input file set to -d 500\n",
      "[mpileup] 1 samples in 1 input files\n",
      "[mpileup] maximum number of reads per input file set to -d 500\n",
      "[mpileup] 1 samples in 1 input files\n",
      "[mpileup] maximum number of reads per input file set to -d 500\n",
      "[mpileup] 1 samples in 1 input files\n",
      "[mpileup] maximum number of reads per input file set to -d 500\n",
      "[mpileup] 1 samples in 1 input files\n",
      "[mpileup] maximum number of reads per input file set to -d 500\n",
      "[mpileup] 1 samples in 1 input files\n",
      "[mpileup] maximum number of reads per input file set to -d 500\n",
      "[mpileup] 1 samples in 1 input files\n",
      "[mpileup] maximum number of reads per input file set to -d 500\n",
      "[mpileup] 1 samples in 1 input files\n",
      "[mpileup] maximum number of reads per input file set to -d 500\n",
      "[mpileup] 1 samples in 1 input files\n",
      "[mpileup] maximum number of reads per input file set to -d 500\n",
      "[mpileup] 1 samples in 1 input files\n",
      "[mpileup] maximum number of reads per input file set to -d 500\n",
      "[mpileup] 1 samples in 1 input files\n",
      "[mpileup] maximum number of reads per input file set to -d 500\n",
      "Checking the headers and starting positions of 12 files\n",
      "Concatenating /tmp/1-362491.bcf"
     ]
    },
    {
     "name": "stdout",
     "output_type": "stream",
     "text": [
      "bcftools concat /tmp/1-362491.bcf /tmp/362492-724983.bcf /tmp/724984-1087475.bcf /tmp/1087476-1449967.bcf /tmp/1449968-1812459.bcf /tmp/1812460-2174951.bcf /tmp/2174952-2537443.bcf /tmp/2537444-2899935.bcf /tmp/2899936-3262427.bcf /tmp/3262428-3624919.bcf /tmp/3624920-3987411.bcf /tmp/3987412-4349903.bcf --threads 12 -O b -o /storage/btbgenie/all_ireland_results_new/variant_calling/TB19-010956/raw.bcf\n"
     ]
    },
    {
     "name": "stderr",
     "output_type": "stream",
     "text": [
      "\t0.257668 seconds\n",
      "Concatenating /tmp/362492-724983.bcf\t0.280979 seconds\n",
      "Concatenating /tmp/724984-1087475.bcf\t0.243639 seconds\n",
      "Concatenating /tmp/1087476-1449967.bcf\t0.255546 seconds\n",
      "Concatenating /tmp/1449968-1812459.bcf\t0.256373 seconds\n",
      "Concatenating /tmp/1812460-2174951.bcf\t0.242145 seconds\n",
      "Concatenating /tmp/2174952-2537443.bcf\t0.245931 seconds\n",
      "Concatenating /tmp/2537444-2899935.bcf\t0.346503 seconds\n",
      "Concatenating /tmp/2899936-3262427.bcf\t0.245802 seconds\n",
      "Concatenating /tmp/3262428-3624919.bcf\t0.245474 seconds\n",
      "Concatenating /tmp/3624920-3987411.bcf\t0.274996 seconds\n",
      "Concatenating /tmp/3987412-4349903.bcf\t0.256120 seconds\n"
     ]
    },
    {
     "name": "stdout",
     "output_type": "stream",
     "text": [
      "TB19-010946\n",
      "[      1  362492  724984 1087476 1449968 1812460 2174952 2537444 2899936\n",
      " 3262428 3624920 3987412 4349904]\n",
      "parallel bcftools mpileup -r {1} -a \"AD,ADF,ADR,DP,SP,INFO/AD,INFO/ADF,INFO/ADR\" -O b --max-depth 500 --min-MQ 60 -o {2} -f /home/farrell/.config/snipgenie/genome/Mbovis_AF212297.fa /storage/btbgenie/all_ireland_results/mapped/TB19-010946.bam ::: \"LT708304.1\":1-362491 \"LT708304.1\":362492-724983 \"LT708304.1\":724984-1087475 \"LT708304.1\":1087476-1449967 \"LT708304.1\":1449968-1812459 \"LT708304.1\":1812460-2174951 \"LT708304.1\":2174952-2537443 \"LT708304.1\":2537444-2899935 \"LT708304.1\":2899936-3262427 \"LT708304.1\":3262428-3624919 \"LT708304.1\":3624920-3987411 \"LT708304.1\":3987412-4349903 :::+ /tmp/1-362491.bcf /tmp/362492-724983.bcf /tmp/724984-1087475.bcf /tmp/1087476-1449967.bcf /tmp/1449968-1812459.bcf /tmp/1812460-2174951.bcf /tmp/2174952-2537443.bcf /tmp/2537444-2899935.bcf /tmp/2899936-3262427.bcf /tmp/3262428-3624919.bcf /tmp/3624920-3987411.bcf /tmp/3987412-4349903.bcf\n"
     ]
    },
    {
     "name": "stderr",
     "output_type": "stream",
     "text": [
      "[mpileup] 1 samples in 1 input files\n",
      "[mpileup] maximum number of reads per input file set to -d 500\n",
      "[mpileup] 1 samples in 1 input files\n",
      "[mpileup] maximum number of reads per input file set to -d 500\n",
      "[mpileup] 1 samples in 1 input files\n",
      "[mpileup] maximum number of reads per input file set to -d 500\n",
      "[mpileup] 1 samples in 1 input files\n",
      "[mpileup] maximum number of reads per input file set to -d 500\n",
      "[mpileup] 1 samples in 1 input files\n",
      "[mpileup] maximum number of reads per input file set to -d 500\n",
      "[mpileup] 1 samples in 1 input files\n",
      "[mpileup] maximum number of reads per input file set to -d 500\n",
      "[mpileup] 1 samples in 1 input files\n",
      "[mpileup] maximum number of reads per input file set to -d 500\n",
      "[mpileup] 1 samples in 1 input files\n",
      "[mpileup] maximum number of reads per input file set to -d 500\n",
      "[mpileup] 1 samples in 1 input files\n",
      "[mpileup] maximum number of reads per input file set to -d 500\n",
      "[mpileup] 1 samples in 1 input files\n",
      "[mpileup] maximum number of reads per input file set to -d 500\n",
      "[mpileup] 1 samples in 1 input files\n",
      "[mpileup] maximum number of reads per input file set to -d 500\n",
      "[mpileup] 1 samples in 1 input files\n",
      "[mpileup] maximum number of reads per input file set to -d 500\n",
      "Checking the headers and starting positions of 12 files\n",
      "Concatenating /tmp/1-362491.bcf"
     ]
    },
    {
     "name": "stdout",
     "output_type": "stream",
     "text": [
      "bcftools concat /tmp/1-362491.bcf /tmp/362492-724983.bcf /tmp/724984-1087475.bcf /tmp/1087476-1449967.bcf /tmp/1449968-1812459.bcf /tmp/1812460-2174951.bcf /tmp/2174952-2537443.bcf /tmp/2537444-2899935.bcf /tmp/2899936-3262427.bcf /tmp/3262428-3624919.bcf /tmp/3624920-3987411.bcf /tmp/3987412-4349903.bcf --threads 12 -O b -o /storage/btbgenie/all_ireland_results_new/variant_calling/TB19-010946/raw.bcf\n"
     ]
    },
    {
     "name": "stderr",
     "output_type": "stream",
     "text": [
      "\t0.299612 seconds\n",
      "Concatenating /tmp/362492-724983.bcf\t0.281665 seconds\n",
      "Concatenating /tmp/724984-1087475.bcf\t0.284280 seconds\n",
      "Concatenating /tmp/1087476-1449967.bcf\t0.376190 seconds\n",
      "Concatenating /tmp/1449968-1812459.bcf\t0.274179 seconds\n",
      "Concatenating /tmp/1812460-2174951.bcf\t0.294437 seconds\n",
      "Concatenating /tmp/2174952-2537443.bcf\t0.402711 seconds\n",
      "Concatenating /tmp/2537444-2899935.bcf\t0.283624 seconds\n",
      "Concatenating /tmp/2899936-3262427.bcf\t0.282690 seconds\n",
      "Concatenating /tmp/3262428-3624919.bcf\t0.376973 seconds\n",
      "Concatenating /tmp/3624920-3987411.bcf\t0.291055 seconds\n",
      "Concatenating /tmp/3987412-4349903.bcf\t0.301993 seconds\n"
     ]
    },
    {
     "name": "stdout",
     "output_type": "stream",
     "text": [
      "TB19-010944\n",
      "[      1  362492  724984 1087476 1449968 1812460 2174952 2537444 2899936\n",
      " 3262428 3624920 3987412 4349904]\n",
      "parallel bcftools mpileup -r {1} -a \"AD,ADF,ADR,DP,SP,INFO/AD,INFO/ADF,INFO/ADR\" -O b --max-depth 500 --min-MQ 60 -o {2} -f /home/farrell/.config/snipgenie/genome/Mbovis_AF212297.fa /storage/btbgenie/all_ireland_results/mapped/TB19-010944.bam ::: \"LT708304.1\":1-362491 \"LT708304.1\":362492-724983 \"LT708304.1\":724984-1087475 \"LT708304.1\":1087476-1449967 \"LT708304.1\":1449968-1812459 \"LT708304.1\":1812460-2174951 \"LT708304.1\":2174952-2537443 \"LT708304.1\":2537444-2899935 \"LT708304.1\":2899936-3262427 \"LT708304.1\":3262428-3624919 \"LT708304.1\":3624920-3987411 \"LT708304.1\":3987412-4349903 :::+ /tmp/1-362491.bcf /tmp/362492-724983.bcf /tmp/724984-1087475.bcf /tmp/1087476-1449967.bcf /tmp/1449968-1812459.bcf /tmp/1812460-2174951.bcf /tmp/2174952-2537443.bcf /tmp/2537444-2899935.bcf /tmp/2899936-3262427.bcf /tmp/3262428-3624919.bcf /tmp/3624920-3987411.bcf /tmp/3987412-4349903.bcf\n"
     ]
    },
    {
     "name": "stderr",
     "output_type": "stream",
     "text": [
      "[mpileup] 1 samples in 1 input files\n",
      "[mpileup] maximum number of reads per input file set to -d 500\n",
      "[mpileup] 1 samples in 1 input files\n",
      "[mpileup] maximum number of reads per input file set to -d 500\n",
      "[mpileup] 1 samples in 1 input files\n",
      "[mpileup] maximum number of reads per input file set to -d 500\n",
      "[mpileup] 1 samples in 1 input files\n",
      "[mpileup] maximum number of reads per input file set to -d 500\n",
      "[mpileup] 1 samples in 1 input files\n",
      "[mpileup] maximum number of reads per input file set to -d 500\n",
      "[mpileup] 1 samples in 1 input files\n",
      "[mpileup] maximum number of reads per input file set to -d 500\n",
      "[mpileup] 1 samples in 1 input files\n",
      "[mpileup] maximum number of reads per input file set to -d 500\n",
      "[mpileup] 1 samples in 1 input files\n",
      "[mpileup] maximum number of reads per input file set to -d 500\n",
      "[mpileup] 1 samples in 1 input files\n",
      "[mpileup] maximum number of reads per input file set to -d 500\n",
      "[mpileup] 1 samples in 1 input files\n",
      "[mpileup] maximum number of reads per input file set to -d 500\n",
      "[mpileup] 1 samples in 1 input files\n",
      "[mpileup] maximum number of reads per input file set to -d 500\n",
      "[mpileup] 1 samples in 1 input files\n",
      "[mpileup] maximum number of reads per input file set to -d 500\n",
      "Checking the headers and starting positions of 12 files\n",
      "Concatenating /tmp/1-362491.bcf"
     ]
    },
    {
     "name": "stdout",
     "output_type": "stream",
     "text": [
      "bcftools concat /tmp/1-362491.bcf /tmp/362492-724983.bcf /tmp/724984-1087475.bcf /tmp/1087476-1449967.bcf /tmp/1449968-1812459.bcf /tmp/1812460-2174951.bcf /tmp/2174952-2537443.bcf /tmp/2537444-2899935.bcf /tmp/2899936-3262427.bcf /tmp/3262428-3624919.bcf /tmp/3624920-3987411.bcf /tmp/3987412-4349903.bcf --threads 12 -O b -o /storage/btbgenie/all_ireland_results_new/variant_calling/TB19-010944/raw.bcf\n"
     ]
    },
    {
     "name": "stderr",
     "output_type": "stream",
     "text": [
      "\t0.267381 seconds\n",
      "Concatenating /tmp/362492-724983.bcf\t0.257456 seconds\n",
      "Concatenating /tmp/724984-1087475.bcf\t0.266807 seconds\n",
      "Concatenating /tmp/1087476-1449967.bcf\t0.263970 seconds\n",
      "Concatenating /tmp/1449968-1812459.bcf\t0.254046 seconds\n",
      "Concatenating /tmp/1812460-2174951.bcf\t0.265803 seconds\n",
      "Concatenating /tmp/2174952-2537443.bcf\t0.269562 seconds\n",
      "Concatenating /tmp/2537444-2899935.bcf\t0.271279 seconds\n",
      "Concatenating /tmp/2899936-3262427.bcf\t0.245363 seconds\n",
      "Concatenating /tmp/3262428-3624919.bcf\t0.260029 seconds\n",
      "Concatenating /tmp/3624920-3987411.bcf\t0.258194 seconds\n",
      "Concatenating /tmp/3987412-4349903.bcf\t0.328795 seconds\n"
     ]
    },
    {
     "name": "stdout",
     "output_type": "stream",
     "text": [
      "TB19-010942\n",
      "[      1  362492  724984 1087476 1449968 1812460 2174952 2537444 2899936\n",
      " 3262428 3624920 3987412 4349904]\n",
      "parallel bcftools mpileup -r {1} -a \"AD,ADF,ADR,DP,SP,INFO/AD,INFO/ADF,INFO/ADR\" -O b --max-depth 500 --min-MQ 60 -o {2} -f /home/farrell/.config/snipgenie/genome/Mbovis_AF212297.fa /storage/btbgenie/all_ireland_results/mapped/TB19-010942.bam ::: \"LT708304.1\":1-362491 \"LT708304.1\":362492-724983 \"LT708304.1\":724984-1087475 \"LT708304.1\":1087476-1449967 \"LT708304.1\":1449968-1812459 \"LT708304.1\":1812460-2174951 \"LT708304.1\":2174952-2537443 \"LT708304.1\":2537444-2899935 \"LT708304.1\":2899936-3262427 \"LT708304.1\":3262428-3624919 \"LT708304.1\":3624920-3987411 \"LT708304.1\":3987412-4349903 :::+ /tmp/1-362491.bcf /tmp/362492-724983.bcf /tmp/724984-1087475.bcf /tmp/1087476-1449967.bcf /tmp/1449968-1812459.bcf /tmp/1812460-2174951.bcf /tmp/2174952-2537443.bcf /tmp/2537444-2899935.bcf /tmp/2899936-3262427.bcf /tmp/3262428-3624919.bcf /tmp/3624920-3987411.bcf /tmp/3987412-4349903.bcf\n"
     ]
    },
    {
     "name": "stderr",
     "output_type": "stream",
     "text": [
      "[mpileup] 1 samples in 1 input files\n",
      "[mpileup] maximum number of reads per input file set to -d 500\n",
      "[mpileup] 1 samples in 1 input files\n",
      "[mpileup] maximum number of reads per input file set to -d 500\n",
      "[mpileup] 1 samples in 1 input files\n",
      "[mpileup] maximum number of reads per input file set to -d 500\n",
      "[mpileup] 1 samples in 1 input files\n",
      "[mpileup] maximum number of reads per input file set to -d 500\n",
      "[mpileup] 1 samples in 1 input files\n",
      "[mpileup] maximum number of reads per input file set to -d 500\n",
      "[mpileup] 1 samples in 1 input files\n",
      "[mpileup] maximum number of reads per input file set to -d 500\n",
      "[mpileup] 1 samples in 1 input files\n",
      "[mpileup] maximum number of reads per input file set to -d 500\n",
      "[mpileup] 1 samples in 1 input files\n",
      "[mpileup] maximum number of reads per input file set to -d 500\n",
      "[mpileup] 1 samples in 1 input files\n",
      "[mpileup] maximum number of reads per input file set to -d 500\n",
      "[mpileup] 1 samples in 1 input files\n",
      "[mpileup] maximum number of reads per input file set to -d 500\n",
      "[mpileup] 1 samples in 1 input files\n",
      "[mpileup] maximum number of reads per input file set to -d 500\n",
      "[mpileup] 1 samples in 1 input files\n",
      "[mpileup] maximum number of reads per input file set to -d 500\n",
      "Checking the headers and starting positions of 12 files\n",
      "Concatenating /tmp/1-362491.bcf"
     ]
    },
    {
     "name": "stdout",
     "output_type": "stream",
     "text": [
      "bcftools concat /tmp/1-362491.bcf /tmp/362492-724983.bcf /tmp/724984-1087475.bcf /tmp/1087476-1449967.bcf /tmp/1449968-1812459.bcf /tmp/1812460-2174951.bcf /tmp/2174952-2537443.bcf /tmp/2537444-2899935.bcf /tmp/2899936-3262427.bcf /tmp/3262428-3624919.bcf /tmp/3624920-3987411.bcf /tmp/3987412-4349903.bcf --threads 12 -O b -o /storage/btbgenie/all_ireland_results_new/variant_calling/TB19-010942/raw.bcf\n"
     ]
    },
    {
     "name": "stderr",
     "output_type": "stream",
     "text": [
      "\t0.244506 seconds\n",
      "Concatenating /tmp/362492-724983.bcf\t0.256395 seconds\n",
      "Concatenating /tmp/724984-1087475.bcf\t0.244781 seconds\n",
      "Concatenating /tmp/1087476-1449967.bcf\t0.245333 seconds\n",
      "Concatenating /tmp/1449968-1812459.bcf\t0.253295 seconds\n",
      "Concatenating /tmp/1812460-2174951.bcf\t0.241897 seconds\n",
      "Concatenating /tmp/2174952-2537443.bcf\t0.261921 seconds\n",
      "Concatenating /tmp/2537444-2899935.bcf\t0.258537 seconds\n",
      "Concatenating /tmp/2899936-3262427.bcf\t0.266011 seconds\n",
      "Concatenating /tmp/3262428-3624919.bcf\t0.341989 seconds\n",
      "Concatenating /tmp/3624920-3987411.bcf\t0.267625 seconds\n",
      "Concatenating /tmp/3987412-4349903.bcf\t0.267451 seconds\n"
     ]
    },
    {
     "name": "stdout",
     "output_type": "stream",
     "text": [
      "TB19-010920\n",
      "[      1  362492  724984 1087476 1449968 1812460 2174952 2537444 2899936\n",
      " 3262428 3624920 3987412 4349904]\n",
      "parallel bcftools mpileup -r {1} -a \"AD,ADF,ADR,DP,SP,INFO/AD,INFO/ADF,INFO/ADR\" -O b --max-depth 500 --min-MQ 60 -o {2} -f /home/farrell/.config/snipgenie/genome/Mbovis_AF212297.fa /storage/btbgenie/all_ireland_results/mapped/TB19-010920.bam ::: \"LT708304.1\":1-362491 \"LT708304.1\":362492-724983 \"LT708304.1\":724984-1087475 \"LT708304.1\":1087476-1449967 \"LT708304.1\":1449968-1812459 \"LT708304.1\":1812460-2174951 \"LT708304.1\":2174952-2537443 \"LT708304.1\":2537444-2899935 \"LT708304.1\":2899936-3262427 \"LT708304.1\":3262428-3624919 \"LT708304.1\":3624920-3987411 \"LT708304.1\":3987412-4349903 :::+ /tmp/1-362491.bcf /tmp/362492-724983.bcf /tmp/724984-1087475.bcf /tmp/1087476-1449967.bcf /tmp/1449968-1812459.bcf /tmp/1812460-2174951.bcf /tmp/2174952-2537443.bcf /tmp/2537444-2899935.bcf /tmp/2899936-3262427.bcf /tmp/3262428-3624919.bcf /tmp/3624920-3987411.bcf /tmp/3987412-4349903.bcf\n"
     ]
    },
    {
     "name": "stderr",
     "output_type": "stream",
     "text": [
      "[W::hts_idx_load3] The index file is older than the data file: /storage/btbgenie/all_ireland_results/mapped/TB19-010920.bam.bai\n",
      "[mpileup] 1 samples in 1 input files\n",
      "[mpileup] maximum number of reads per input file set to -d 500\n",
      "[E::bgzf_read_block] Invalid BGZF header at offset 347\n",
      "[E::bgzf_read] Read block operation failed with error 2 after 0 of 4 bytes\n",
      "[W::hts_idx_load3] The index file is older than the data file: /storage/btbgenie/all_ireland_results/mapped/TB19-010920.bam.bai\n",
      "[mpileup] 1 samples in 1 input files\n",
      "[mpileup] maximum number of reads per input file set to -d 500\n",
      "[E::bgzf_read_block] Invalid BGZF header at offset 236451905\n",
      "[E::bgzf_read] Read block operation failed with error 2 after 0 of 4 bytes\n",
      "[W::hts_idx_load3] The index file is older than the data file: /storage/btbgenie/all_ireland_results/mapped/TB19-010920.bam.bai\n",
      "[mpileup] 1 samples in 1 input files\n",
      "[mpileup] maximum number of reads per input file set to -d 500\n",
      "[E::bgzf_read_block] Invalid BGZF header at offset 107051173\n",
      "[E::bgzf_read] Read block operation failed with error 2 after 0 of 4 bytes\n",
      "[W::hts_idx_load3] The index file is older than the data file: /storage/btbgenie/all_ireland_results/mapped/TB19-010920.bam.bai\n",
      "[mpileup] 1 samples in 1 input files\n",
      "[mpileup] maximum number of reads per input file set to -d 500\n",
      "[E::bgzf_read_block] Invalid BGZF header at offset 43400665\n",
      "[E::bgzf_read] Read block operation failed with error 2 after 0 of 4 bytes\n",
      "[W::hts_idx_load3] The index file is older than the data file: /storage/btbgenie/all_ireland_results/mapped/TB19-010920.bam.bai\n",
      "[mpileup] 1 samples in 1 input files\n",
      "[mpileup] maximum number of reads per input file set to -d 500\n",
      "[E::bgzf_read_block] Invalid BGZF header at offset 86159488\n",
      "[E::bgzf_read] Read block operation failed with error 2 after 0 of 4 bytes\n",
      "[W::hts_idx_load3] The index file is older than the data file: /storage/btbgenie/all_ireland_results/mapped/TB19-010920.bam.bai\n",
      "[mpileup] 1 samples in 1 input files\n",
      "[mpileup] maximum number of reads per input file set to -d 500\n",
      "[E::bgzf_read_block] Invalid BGZF header at offset 215293702\n",
      "[E::bgzf_read] Read block operation failed with error 2 after 0 of 4 bytes\n",
      "[W::hts_idx_load3] The index file is older than the data file: /storage/btbgenie/all_ireland_results/mapped/TB19-010920.bam.bai\n",
      "[mpileup] 1 samples in 1 input files\n",
      "[mpileup] maximum number of reads per input file set to -d 500\n",
      "[E::bgzf_read_block] Invalid BGZF header at offset 170995676\n",
      "[E::bgzf_read] Read block operation failed with error 2 after 0 of 4 bytes\n",
      "[W::hts_idx_load3] The index file is older than the data file: /storage/btbgenie/all_ireland_results/mapped/TB19-010920.bam.bai\n",
      "[mpileup] 1 samples in 1 input files\n",
      "[mpileup] maximum number of reads per input file set to -d 500\n",
      "[E::bgzf_read_block] Invalid BGZF header at offset 193481605\n",
      "[E::bgzf_read] Read block operation failed with error 2 after 0 of 4 bytes\n",
      "[W::hts_idx_load3] The index file is older than the data file: /storage/btbgenie/all_ireland_results/mapped/TB19-010920.bam.bai\n",
      "[mpileup] 1 samples in 1 input files\n",
      "[mpileup] maximum number of reads per input file set to -d 500\n",
      "[E::bgzf_read_block] Invalid BGZF header at offset 149699147\n",
      "[E::bgzf_read] Read block operation failed with error 2 after 0 of 4 bytes\n",
      "[W::hts_idx_load3] The index file is older than the data file: /storage/btbgenie/all_ireland_results/mapped/TB19-010920.bam.bai\n",
      "[mpileup] 1 samples in 1 input files\n",
      "[mpileup] maximum number of reads per input file set to -d 500\n",
      "[E::bgzf_read_block] Invalid BGZF header at offset 64916916\n",
      "[E::bgzf_read] Read block operation failed with error 2 after 0 of 4 bytes\n",
      "[W::hts_idx_load3] The index file is older than the data file: /storage/btbgenie/all_ireland_results/mapped/TB19-010920.bam.bai\n",
      "[mpileup] 1 samples in 1 input files\n",
      "[mpileup] maximum number of reads per input file set to -d 500\n",
      "[E::bgzf_read_block] Invalid BGZF header at offset 128518242\n",
      "[E::bgzf_read] Read block operation failed with error 2 after 0 of 4 bytes\n",
      "[W::hts_idx_load3] The index file is older than the data file: /storage/btbgenie/all_ireland_results/mapped/TB19-010920.bam.bai\n",
      "[mpileup] 1 samples in 1 input files\n",
      "[mpileup] maximum number of reads per input file set to -d 500\n",
      "[E::bgzf_read_block] Invalid BGZF header at offset 21747246\n",
      "[E::bgzf_read] Read block operation failed with error 2 after 0 of 4 bytes\n",
      "Checking the headers and starting positions of 12 files\n",
      "Concatenating /tmp/1-362491.bcf\t0.000457 seconds\n",
      "Concatenating /tmp/362492-724983.bcf\t0.000288 seconds\n",
      "Concatenating /tmp/724984-1087475.bcf\t0.000324 seconds\n",
      "Concatenating /tmp/1087476-1449967.bcf\t0.000311 seconds\n",
      "Concatenating /tmp/1449968-1812459.bcf\t0.000287 seconds\n",
      "Concatenating /tmp/1812460-2174951.bcf\t0.000268 seconds\n",
      "Concatenating /tmp/2174952-2537443.bcf\t0.000297 seconds\n",
      "Concatenating /tmp/2537444-2899935.bcf\t0.000290 seconds\n",
      "Concatenating /tmp/2899936-3262427.bcf\t0.000270 seconds\n",
      "Concatenating /tmp/3262428-3624919.bcf\t0.000258 seconds\n",
      "Concatenating /tmp/3624920-3987411.bcf\t0.000252 seconds\n",
      "Concatenating /tmp/3987412-4349903.bcf\t0.000251 seconds\n"
     ]
    },
    {
     "name": "stdout",
     "output_type": "stream",
     "text": [
      "bcftools concat /tmp/1-362491.bcf /tmp/362492-724983.bcf /tmp/724984-1087475.bcf /tmp/1087476-1449967.bcf /tmp/1449968-1812459.bcf /tmp/1812460-2174951.bcf /tmp/2174952-2537443.bcf /tmp/2537444-2899935.bcf /tmp/2899936-3262427.bcf /tmp/3262428-3624919.bcf /tmp/3624920-3987411.bcf /tmp/3987412-4349903.bcf --threads 12 -O b -o /storage/btbgenie/all_ireland_results_new/variant_calling/TB19-010920/raw.bcf\n",
      "TB19-010898\n",
      "[      1  362492  724984 1087476 1449968 1812460 2174952 2537444 2899936\n",
      " 3262428 3624920 3987412 4349904]\n",
      "parallel bcftools mpileup -r {1} -a \"AD,ADF,ADR,DP,SP,INFO/AD,INFO/ADF,INFO/ADR\" -O b --max-depth 500 --min-MQ 60 -o {2} -f /home/farrell/.config/snipgenie/genome/Mbovis_AF212297.fa /storage/btbgenie/all_ireland_results/mapped/TB19-010898.bam ::: \"LT708304.1\":1-362491 \"LT708304.1\":362492-724983 \"LT708304.1\":724984-1087475 \"LT708304.1\":1087476-1449967 \"LT708304.1\":1449968-1812459 \"LT708304.1\":1812460-2174951 \"LT708304.1\":2174952-2537443 \"LT708304.1\":2537444-2899935 \"LT708304.1\":2899936-3262427 \"LT708304.1\":3262428-3624919 \"LT708304.1\":3624920-3987411 \"LT708304.1\":3987412-4349903 :::+ /tmp/1-362491.bcf /tmp/362492-724983.bcf /tmp/724984-1087475.bcf /tmp/1087476-1449967.bcf /tmp/1449968-1812459.bcf /tmp/1812460-2174951.bcf /tmp/2174952-2537443.bcf /tmp/2537444-2899935.bcf /tmp/2899936-3262427.bcf /tmp/3262428-3624919.bcf /tmp/3624920-3987411.bcf /tmp/3987412-4349903.bcf\n"
     ]
    },
    {
     "name": "stderr",
     "output_type": "stream",
     "text": [
      "[mpileup] 1 samples in 1 input files\n",
      "[mpileup] maximum number of reads per input file set to -d 500\n",
      "[mpileup] 1 samples in 1 input files\n",
      "[mpileup] maximum number of reads per input file set to -d 500\n",
      "[mpileup] 1 samples in 1 input files\n",
      "[mpileup] maximum number of reads per input file set to -d 500\n",
      "[mpileup] 1 samples in 1 input files\n",
      "[mpileup] maximum number of reads per input file set to -d 500\n",
      "[mpileup] 1 samples in 1 input files\n",
      "[mpileup] maximum number of reads per input file set to -d 500\n",
      "[mpileup] 1 samples in 1 input files\n",
      "[mpileup] maximum number of reads per input file set to -d 500\n",
      "[mpileup] 1 samples in 1 input files\n",
      "[mpileup] maximum number of reads per input file set to -d 500\n",
      "[mpileup] 1 samples in 1 input files\n",
      "[mpileup] maximum number of reads per input file set to -d 500\n",
      "[mpileup] 1 samples in 1 input files\n",
      "[mpileup] maximum number of reads per input file set to -d 500\n",
      "[mpileup] 1 samples in 1 input files\n",
      "[mpileup] maximum number of reads per input file set to -d 500\n",
      "[mpileup] 1 samples in 1 input files\n",
      "[mpileup] maximum number of reads per input file set to -d 500\n",
      "[mpileup] 1 samples in 1 input files\n",
      "[mpileup] maximum number of reads per input file set to -d 500\n",
      "Checking the headers and starting positions of 12 files\n",
      "Concatenating /tmp/1-362491.bcf"
     ]
    },
    {
     "name": "stdout",
     "output_type": "stream",
     "text": [
      "bcftools concat /tmp/1-362491.bcf /tmp/362492-724983.bcf /tmp/724984-1087475.bcf /tmp/1087476-1449967.bcf /tmp/1449968-1812459.bcf /tmp/1812460-2174951.bcf /tmp/2174952-2537443.bcf /tmp/2537444-2899935.bcf /tmp/2899936-3262427.bcf /tmp/3262428-3624919.bcf /tmp/3624920-3987411.bcf /tmp/3987412-4349903.bcf --threads 12 -O b -o /storage/btbgenie/all_ireland_results_new/variant_calling/TB19-010898/raw.bcf\n"
     ]
    },
    {
     "name": "stderr",
     "output_type": "stream",
     "text": [
      "\t0.254896 seconds\n",
      "Concatenating /tmp/362492-724983.bcf\t0.260084 seconds\n",
      "Concatenating /tmp/724984-1087475.bcf\t0.254439 seconds\n",
      "Concatenating /tmp/1087476-1449967.bcf\t0.254440 seconds\n",
      "Concatenating /tmp/1449968-1812459.bcf\t0.264914 seconds\n",
      "Concatenating /tmp/1812460-2174951.bcf\t0.245506 seconds\n",
      "Concatenating /tmp/2174952-2537443.bcf\t0.255867 seconds\n",
      "Concatenating /tmp/2537444-2899935.bcf\t0.339077 seconds\n",
      "Concatenating /tmp/2899936-3262427.bcf\t0.260783 seconds\n",
      "Concatenating /tmp/3262428-3624919.bcf\t0.243488 seconds\n",
      "Concatenating /tmp/3624920-3987411.bcf\t0.266795 seconds\n",
      "Concatenating /tmp/3987412-4349903.bcf\t0.254941 seconds\n"
     ]
    },
    {
     "name": "stdout",
     "output_type": "stream",
     "text": [
      "TB19-010897\n",
      "[      1  362492  724984 1087476 1449968 1812460 2174952 2537444 2899936\n",
      " 3262428 3624920 3987412 4349904]\n",
      "parallel bcftools mpileup -r {1} -a \"AD,ADF,ADR,DP,SP,INFO/AD,INFO/ADF,INFO/ADR\" -O b --max-depth 500 --min-MQ 60 -o {2} -f /home/farrell/.config/snipgenie/genome/Mbovis_AF212297.fa /storage/btbgenie/all_ireland_results/mapped/TB19-010897.bam ::: \"LT708304.1\":1-362491 \"LT708304.1\":362492-724983 \"LT708304.1\":724984-1087475 \"LT708304.1\":1087476-1449967 \"LT708304.1\":1449968-1812459 \"LT708304.1\":1812460-2174951 \"LT708304.1\":2174952-2537443 \"LT708304.1\":2537444-2899935 \"LT708304.1\":2899936-3262427 \"LT708304.1\":3262428-3624919 \"LT708304.1\":3624920-3987411 \"LT708304.1\":3987412-4349903 :::+ /tmp/1-362491.bcf /tmp/362492-724983.bcf /tmp/724984-1087475.bcf /tmp/1087476-1449967.bcf /tmp/1449968-1812459.bcf /tmp/1812460-2174951.bcf /tmp/2174952-2537443.bcf /tmp/2537444-2899935.bcf /tmp/2899936-3262427.bcf /tmp/3262428-3624919.bcf /tmp/3624920-3987411.bcf /tmp/3987412-4349903.bcf\n"
     ]
    },
    {
     "name": "stderr",
     "output_type": "stream",
     "text": [
      "[mpileup] 1 samples in 1 input files\n",
      "[mpileup] maximum number of reads per input file set to -d 500\n",
      "[mpileup] 1 samples in 1 input files\n",
      "[mpileup] maximum number of reads per input file set to -d 500\n",
      "[mpileup] 1 samples in 1 input files\n",
      "[mpileup] maximum number of reads per input file set to -d 500\n",
      "[mpileup] 1 samples in 1 input files\n",
      "[mpileup] maximum number of reads per input file set to -d 500\n",
      "[mpileup] 1 samples in 1 input files\n",
      "[mpileup] maximum number of reads per input file set to -d 500\n",
      "[mpileup] 1 samples in 1 input files\n",
      "[mpileup] maximum number of reads per input file set to -d 500\n",
      "[mpileup] 1 samples in 1 input files\n",
      "[mpileup] maximum number of reads per input file set to -d 500\n",
      "[mpileup] 1 samples in 1 input files\n",
      "[mpileup] maximum number of reads per input file set to -d 500\n",
      "[mpileup] 1 samples in 1 input files\n",
      "[mpileup] maximum number of reads per input file set to -d 500\n",
      "[mpileup] 1 samples in 1 input files\n",
      "[mpileup] maximum number of reads per input file set to -d 500\n",
      "[mpileup] 1 samples in 1 input files\n",
      "[mpileup] maximum number of reads per input file set to -d 500\n",
      "[mpileup] 1 samples in 1 input files\n",
      "[mpileup] maximum number of reads per input file set to -d 500\n",
      "Checking the headers and starting positions of 12 files\n",
      "Concatenating /tmp/1-362491.bcf\t0.179932 seconds\n",
      "Concatenating /tmp/362492-724983.bcf"
     ]
    },
    {
     "name": "stdout",
     "output_type": "stream",
     "text": [
      "bcftools concat /tmp/1-362491.bcf /tmp/362492-724983.bcf /tmp/724984-1087475.bcf /tmp/1087476-1449967.bcf /tmp/1449968-1812459.bcf /tmp/1812460-2174951.bcf /tmp/2174952-2537443.bcf /tmp/2537444-2899935.bcf /tmp/2899936-3262427.bcf /tmp/3262428-3624919.bcf /tmp/3624920-3987411.bcf /tmp/3987412-4349903.bcf --threads 12 -O b -o /storage/btbgenie/all_ireland_results_new/variant_calling/TB19-010897/raw.bcf\n"
     ]
    },
    {
     "name": "stderr",
     "output_type": "stream",
     "text": [
      "\t0.347489 seconds\n",
      "Concatenating /tmp/724984-1087475.bcf\t0.280028 seconds\n",
      "Concatenating /tmp/1087476-1449967.bcf\t0.251509 seconds\n",
      "Concatenating /tmp/1449968-1812459.bcf\t0.264452 seconds\n",
      "Concatenating /tmp/1812460-2174951.bcf\t0.275697 seconds\n",
      "Concatenating /tmp/2174952-2537443.bcf\t0.383275 seconds\n",
      "Concatenating /tmp/2537444-2899935.bcf\t0.243596 seconds\n",
      "Concatenating /tmp/2899936-3262427.bcf\t0.274454 seconds\n",
      "Concatenating /tmp/3262428-3624919.bcf\t0.246106 seconds\n",
      "Concatenating /tmp/3624920-3987411.bcf\t0.259417 seconds\n",
      "Concatenating /tmp/3987412-4349903.bcf\t0.268490 seconds\n"
     ]
    },
    {
     "name": "stdout",
     "output_type": "stream",
     "text": [
      "TB19-010896\n",
      "[      1  362492  724984 1087476 1449968 1812460 2174952 2537444 2899936\n",
      " 3262428 3624920 3987412 4349904]\n",
      "parallel bcftools mpileup -r {1} -a \"AD,ADF,ADR,DP,SP,INFO/AD,INFO/ADF,INFO/ADR\" -O b --max-depth 500 --min-MQ 60 -o {2} -f /home/farrell/.config/snipgenie/genome/Mbovis_AF212297.fa /storage/btbgenie/all_ireland_results/mapped/TB19-010896.bam ::: \"LT708304.1\":1-362491 \"LT708304.1\":362492-724983 \"LT708304.1\":724984-1087475 \"LT708304.1\":1087476-1449967 \"LT708304.1\":1449968-1812459 \"LT708304.1\":1812460-2174951 \"LT708304.1\":2174952-2537443 \"LT708304.1\":2537444-2899935 \"LT708304.1\":2899936-3262427 \"LT708304.1\":3262428-3624919 \"LT708304.1\":3624920-3987411 \"LT708304.1\":3987412-4349903 :::+ /tmp/1-362491.bcf /tmp/362492-724983.bcf /tmp/724984-1087475.bcf /tmp/1087476-1449967.bcf /tmp/1449968-1812459.bcf /tmp/1812460-2174951.bcf /tmp/2174952-2537443.bcf /tmp/2537444-2899935.bcf /tmp/2899936-3262427.bcf /tmp/3262428-3624919.bcf /tmp/3624920-3987411.bcf /tmp/3987412-4349903.bcf\n"
     ]
    },
    {
     "name": "stderr",
     "output_type": "stream",
     "text": [
      "[mpileup] 1 samples in 1 input files\n",
      "[mpileup] maximum number of reads per input file set to -d 500\n",
      "[mpileup] 1 samples in 1 input files\n",
      "[mpileup] maximum number of reads per input file set to -d 500\n",
      "[mpileup] 1 samples in 1 input files\n",
      "[mpileup] maximum number of reads per input file set to -d 500\n",
      "[mpileup] 1 samples in 1 input files\n",
      "[mpileup] maximum number of reads per input file set to -d 500\n",
      "[mpileup] 1 samples in 1 input files\n",
      "[mpileup] maximum number of reads per input file set to -d 500\n",
      "[mpileup] 1 samples in 1 input files\n",
      "[mpileup] maximum number of reads per input file set to -d 500\n",
      "[mpileup] 1 samples in 1 input files\n",
      "[mpileup] maximum number of reads per input file set to -d 500\n",
      "[mpileup] 1 samples in 1 input files\n",
      "[mpileup] maximum number of reads per input file set to -d 500\n",
      "[mpileup] 1 samples in 1 input files\n",
      "[mpileup] maximum number of reads per input file set to -d 500\n",
      "[mpileup] 1 samples in 1 input files\n",
      "[mpileup] maximum number of reads per input file set to -d 500\n",
      "[mpileup] 1 samples in 1 input files\n",
      "[mpileup] maximum number of reads per input file set to -d 500\n",
      "[mpileup] 1 samples in 1 input files\n",
      "[mpileup] maximum number of reads per input file set to -d 500\n",
      "Checking the headers and starting positions of 12 files\n",
      "Concatenating /tmp/1-362491.bcf"
     ]
    },
    {
     "name": "stdout",
     "output_type": "stream",
     "text": [
      "bcftools concat /tmp/1-362491.bcf /tmp/362492-724983.bcf /tmp/724984-1087475.bcf /tmp/1087476-1449967.bcf /tmp/1449968-1812459.bcf /tmp/1812460-2174951.bcf /tmp/2174952-2537443.bcf /tmp/2537444-2899935.bcf /tmp/2899936-3262427.bcf /tmp/3262428-3624919.bcf /tmp/3624920-3987411.bcf /tmp/3987412-4349903.bcf --threads 12 -O b -o /storage/btbgenie/all_ireland_results_new/variant_calling/TB19-010896/raw.bcf\n"
     ]
    },
    {
     "name": "stderr",
     "output_type": "stream",
     "text": [
      "\t0.260083 seconds\n",
      "Concatenating /tmp/362492-724983.bcf\t0.249230 seconds\n",
      "Concatenating /tmp/724984-1087475.bcf\t0.268623 seconds\n",
      "Concatenating /tmp/1087476-1449967.bcf\t0.266870 seconds\n",
      "Concatenating /tmp/1449968-1812459.bcf\t0.273606 seconds\n",
      "Concatenating /tmp/1812460-2174951.bcf\t0.266891 seconds\n",
      "Concatenating /tmp/2174952-2537443.bcf\t0.262252 seconds\n",
      "Concatenating /tmp/2537444-2899935.bcf\t0.257443 seconds\n",
      "Concatenating /tmp/2899936-3262427.bcf\t0.264639 seconds\n",
      "Concatenating /tmp/3262428-3624919.bcf\t0.347206 seconds\n",
      "Concatenating /tmp/3624920-3987411.bcf\t0.246940 seconds\n",
      "Concatenating /tmp/3987412-4349903.bcf\t0.257872 seconds\n"
     ]
    },
    {
     "name": "stdout",
     "output_type": "stream",
     "text": [
      "TB19-010895\n",
      "[      1  362492  724984 1087476 1449968 1812460 2174952 2537444 2899936\n",
      " 3262428 3624920 3987412 4349904]\n",
      "parallel bcftools mpileup -r {1} -a \"AD,ADF,ADR,DP,SP,INFO/AD,INFO/ADF,INFO/ADR\" -O b --max-depth 500 --min-MQ 60 -o {2} -f /home/farrell/.config/snipgenie/genome/Mbovis_AF212297.fa /storage/btbgenie/all_ireland_results/mapped/TB19-010895.bam ::: \"LT708304.1\":1-362491 \"LT708304.1\":362492-724983 \"LT708304.1\":724984-1087475 \"LT708304.1\":1087476-1449967 \"LT708304.1\":1449968-1812459 \"LT708304.1\":1812460-2174951 \"LT708304.1\":2174952-2537443 \"LT708304.1\":2537444-2899935 \"LT708304.1\":2899936-3262427 \"LT708304.1\":3262428-3624919 \"LT708304.1\":3624920-3987411 \"LT708304.1\":3987412-4349903 :::+ /tmp/1-362491.bcf /tmp/362492-724983.bcf /tmp/724984-1087475.bcf /tmp/1087476-1449967.bcf /tmp/1449968-1812459.bcf /tmp/1812460-2174951.bcf /tmp/2174952-2537443.bcf /tmp/2537444-2899935.bcf /tmp/2899936-3262427.bcf /tmp/3262428-3624919.bcf /tmp/3624920-3987411.bcf /tmp/3987412-4349903.bcf\n"
     ]
    },
    {
     "name": "stderr",
     "output_type": "stream",
     "text": [
      "[mpileup] 1 samples in 1 input files\n",
      "[mpileup] maximum number of reads per input file set to -d 500\n",
      "[mpileup] 1 samples in 1 input files\n",
      "[mpileup] maximum number of reads per input file set to -d 500\n",
      "[mpileup] 1 samples in 1 input files\n",
      "[mpileup] maximum number of reads per input file set to -d 500\n",
      "[mpileup] 1 samples in 1 input files\n",
      "[mpileup] maximum number of reads per input file set to -d 500\n",
      "[mpileup] 1 samples in 1 input files\n",
      "[mpileup] maximum number of reads per input file set to -d 500\n",
      "[mpileup] 1 samples in 1 input files\n",
      "[mpileup] maximum number of reads per input file set to -d 500\n",
      "[mpileup] 1 samples in 1 input files\n",
      "[mpileup] maximum number of reads per input file set to -d 500\n",
      "[mpileup] 1 samples in 1 input files\n",
      "[mpileup] maximum number of reads per input file set to -d 500\n",
      "[mpileup] 1 samples in 1 input files\n",
      "[mpileup] maximum number of reads per input file set to -d 500\n",
      "[mpileup] 1 samples in 1 input files\n",
      "[mpileup] maximum number of reads per input file set to -d 500\n",
      "[mpileup] 1 samples in 1 input files\n",
      "[mpileup] maximum number of reads per input file set to -d 500\n",
      "[mpileup] 1 samples in 1 input files\n",
      "[mpileup] maximum number of reads per input file set to -d 500\n",
      "Checking the headers and starting positions of 12 files\n",
      "Concatenating /tmp/1-362491.bcf"
     ]
    },
    {
     "name": "stdout",
     "output_type": "stream",
     "text": [
      "bcftools concat /tmp/1-362491.bcf /tmp/362492-724983.bcf /tmp/724984-1087475.bcf /tmp/1087476-1449967.bcf /tmp/1449968-1812459.bcf /tmp/1812460-2174951.bcf /tmp/2174952-2537443.bcf /tmp/2537444-2899935.bcf /tmp/2899936-3262427.bcf /tmp/3262428-3624919.bcf /tmp/3624920-3987411.bcf /tmp/3987412-4349903.bcf --threads 12 -O b -o /storage/btbgenie/all_ireland_results_new/variant_calling/TB19-010895/raw.bcf\n"
     ]
    },
    {
     "name": "stderr",
     "output_type": "stream",
     "text": [
      "\t0.153882 seconds\n",
      "Concatenating /tmp/362492-724983.bcf\t0.240139 seconds\n",
      "Concatenating /tmp/724984-1087475.bcf\t0.232039 seconds\n",
      "Concatenating /tmp/1087476-1449967.bcf\t0.228688 seconds\n",
      "Concatenating /tmp/1449968-1812459.bcf\t0.310502 seconds\n",
      "Concatenating /tmp/1812460-2174951.bcf\t0.230151 seconds\n",
      "Concatenating /tmp/2174952-2537443.bcf\t0.220379 seconds\n",
      "Concatenating /tmp/2537444-2899935.bcf\t0.230823 seconds\n",
      "Concatenating /tmp/2899936-3262427.bcf\t0.231369 seconds\n",
      "Concatenating /tmp/3262428-3624919.bcf\t0.230659 seconds\n",
      "Concatenating /tmp/3624920-3987411.bcf\t0.238671 seconds\n",
      "Concatenating /tmp/3987412-4349903.bcf\t0.229312 seconds\n"
     ]
    },
    {
     "name": "stdout",
     "output_type": "stream",
     "text": [
      "TB19-010885\n",
      "[      1  362492  724984 1087476 1449968 1812460 2174952 2537444 2899936\n",
      " 3262428 3624920 3987412 4349904]\n",
      "parallel bcftools mpileup -r {1} -a \"AD,ADF,ADR,DP,SP,INFO/AD,INFO/ADF,INFO/ADR\" -O b --max-depth 500 --min-MQ 60 -o {2} -f /home/farrell/.config/snipgenie/genome/Mbovis_AF212297.fa /storage/btbgenie/all_ireland_results/mapped/TB19-010885.bam ::: \"LT708304.1\":1-362491 \"LT708304.1\":362492-724983 \"LT708304.1\":724984-1087475 \"LT708304.1\":1087476-1449967 \"LT708304.1\":1449968-1812459 \"LT708304.1\":1812460-2174951 \"LT708304.1\":2174952-2537443 \"LT708304.1\":2537444-2899935 \"LT708304.1\":2899936-3262427 \"LT708304.1\":3262428-3624919 \"LT708304.1\":3624920-3987411 \"LT708304.1\":3987412-4349903 :::+ /tmp/1-362491.bcf /tmp/362492-724983.bcf /tmp/724984-1087475.bcf /tmp/1087476-1449967.bcf /tmp/1449968-1812459.bcf /tmp/1812460-2174951.bcf /tmp/2174952-2537443.bcf /tmp/2537444-2899935.bcf /tmp/2899936-3262427.bcf /tmp/3262428-3624919.bcf /tmp/3624920-3987411.bcf /tmp/3987412-4349903.bcf\n"
     ]
    },
    {
     "name": "stderr",
     "output_type": "stream",
     "text": [
      "[mpileup] 1 samples in 1 input files\n",
      "[mpileup] maximum number of reads per input file set to -d 500\n",
      "[mpileup] 1 samples in 1 input files\n",
      "[mpileup] maximum number of reads per input file set to -d 500\n",
      "[mpileup] 1 samples in 1 input files\n",
      "[mpileup] maximum number of reads per input file set to -d 500\n",
      "[mpileup] 1 samples in 1 input files\n",
      "[mpileup] maximum number of reads per input file set to -d 500\n",
      "[mpileup] 1 samples in 1 input files\n",
      "[mpileup] maximum number of reads per input file set to -d 500\n",
      "[mpileup] 1 samples in 1 input files\n",
      "[mpileup] maximum number of reads per input file set to -d 500\n",
      "[mpileup] 1 samples in 1 input files\n",
      "[mpileup] maximum number of reads per input file set to -d 500\n",
      "[mpileup] 1 samples in 1 input files\n",
      "[mpileup] maximum number of reads per input file set to -d 500\n",
      "[mpileup] 1 samples in 1 input files\n",
      "[mpileup] maximum number of reads per input file set to -d 500\n",
      "[mpileup] 1 samples in 1 input files\n",
      "[mpileup] maximum number of reads per input file set to -d 500\n",
      "[mpileup] 1 samples in 1 input files\n",
      "[mpileup] maximum number of reads per input file set to -d 500\n",
      "[mpileup] 1 samples in 1 input files\n",
      "[mpileup] maximum number of reads per input file set to -d 500\n",
      "Checking the headers and starting positions of 12 files\n",
      "Concatenating /tmp/1-362491.bcf"
     ]
    },
    {
     "name": "stdout",
     "output_type": "stream",
     "text": [
      "bcftools concat /tmp/1-362491.bcf /tmp/362492-724983.bcf /tmp/724984-1087475.bcf /tmp/1087476-1449967.bcf /tmp/1449968-1812459.bcf /tmp/1812460-2174951.bcf /tmp/2174952-2537443.bcf /tmp/2537444-2899935.bcf /tmp/2899936-3262427.bcf /tmp/3262428-3624919.bcf /tmp/3624920-3987411.bcf /tmp/3987412-4349903.bcf --threads 12 -O b -o /storage/btbgenie/all_ireland_results_new/variant_calling/TB19-010885/raw.bcf\n"
     ]
    },
    {
     "name": "stderr",
     "output_type": "stream",
     "text": [
      "\t0.146986 seconds\n",
      "Concatenating /tmp/362492-724983.bcf\t0.313506 seconds\n",
      "Concatenating /tmp/724984-1087475.bcf\t0.221013 seconds\n",
      "Concatenating /tmp/1087476-1449967.bcf\t0.221486 seconds\n",
      "Concatenating /tmp/1449968-1812459.bcf\t0.215320 seconds\n",
      "Concatenating /tmp/1812460-2174951.bcf\t0.297979 seconds\n",
      "Concatenating /tmp/2174952-2537443.bcf\t0.221505 seconds\n",
      "Concatenating /tmp/2537444-2899935.bcf\t0.242208 seconds\n",
      "Concatenating /tmp/2899936-3262427.bcf\t0.221015 seconds\n",
      "Concatenating /tmp/3262428-3624919.bcf\t0.240541 seconds\n",
      "Concatenating /tmp/3624920-3987411.bcf\t0.230032 seconds\n",
      "Concatenating /tmp/3987412-4349903.bcf\t0.241552 seconds\n"
     ]
    },
    {
     "name": "stdout",
     "output_type": "stream",
     "text": [
      "TB19-010884\n",
      "[      1  362492  724984 1087476 1449968 1812460 2174952 2537444 2899936\n",
      " 3262428 3624920 3987412 4349904]\n",
      "parallel bcftools mpileup -r {1} -a \"AD,ADF,ADR,DP,SP,INFO/AD,INFO/ADF,INFO/ADR\" -O b --max-depth 500 --min-MQ 60 -o {2} -f /home/farrell/.config/snipgenie/genome/Mbovis_AF212297.fa /storage/btbgenie/all_ireland_results/mapped/TB19-010884.bam ::: \"LT708304.1\":1-362491 \"LT708304.1\":362492-724983 \"LT708304.1\":724984-1087475 \"LT708304.1\":1087476-1449967 \"LT708304.1\":1449968-1812459 \"LT708304.1\":1812460-2174951 \"LT708304.1\":2174952-2537443 \"LT708304.1\":2537444-2899935 \"LT708304.1\":2899936-3262427 \"LT708304.1\":3262428-3624919 \"LT708304.1\":3624920-3987411 \"LT708304.1\":3987412-4349903 :::+ /tmp/1-362491.bcf /tmp/362492-724983.bcf /tmp/724984-1087475.bcf /tmp/1087476-1449967.bcf /tmp/1449968-1812459.bcf /tmp/1812460-2174951.bcf /tmp/2174952-2537443.bcf /tmp/2537444-2899935.bcf /tmp/2899936-3262427.bcf /tmp/3262428-3624919.bcf /tmp/3624920-3987411.bcf /tmp/3987412-4349903.bcf\n"
     ]
    },
    {
     "name": "stderr",
     "output_type": "stream",
     "text": [
      "[mpileup] 1 samples in 1 input files\n",
      "[mpileup] maximum number of reads per input file set to -d 500\n",
      "[mpileup] 1 samples in 1 input files\n",
      "[mpileup] maximum number of reads per input file set to -d 500\n",
      "[mpileup] 1 samples in 1 input files\n",
      "[mpileup] maximum number of reads per input file set to -d 500\n",
      "[mpileup] 1 samples in 1 input files\n",
      "[mpileup] maximum number of reads per input file set to -d 500\n",
      "[mpileup] 1 samples in 1 input files\n",
      "[mpileup] maximum number of reads per input file set to -d 500\n",
      "[mpileup] 1 samples in 1 input files\n",
      "[mpileup] maximum number of reads per input file set to -d 500\n",
      "[mpileup] 1 samples in 1 input files\n",
      "[mpileup] maximum number of reads per input file set to -d 500\n",
      "[mpileup] 1 samples in 1 input files\n",
      "[mpileup] maximum number of reads per input file set to -d 500\n",
      "[mpileup] 1 samples in 1 input files\n",
      "[mpileup] maximum number of reads per input file set to -d 500\n",
      "[mpileup] 1 samples in 1 input files\n",
      "[mpileup] maximum number of reads per input file set to -d 500\n",
      "[mpileup] 1 samples in 1 input files\n",
      "[mpileup] maximum number of reads per input file set to -d 500\n",
      "[mpileup] 1 samples in 1 input files\n",
      "[mpileup] maximum number of reads per input file set to -d 500\n",
      "Checking the headers and starting positions of 12 files\n",
      "Concatenating /tmp/1-362491.bcf"
     ]
    },
    {
     "name": "stdout",
     "output_type": "stream",
     "text": [
      "bcftools concat /tmp/1-362491.bcf /tmp/362492-724983.bcf /tmp/724984-1087475.bcf /tmp/1087476-1449967.bcf /tmp/1449968-1812459.bcf /tmp/1812460-2174951.bcf /tmp/2174952-2537443.bcf /tmp/2537444-2899935.bcf /tmp/2899936-3262427.bcf /tmp/3262428-3624919.bcf /tmp/3624920-3987411.bcf /tmp/3987412-4349903.bcf --threads 12 -O b -o /storage/btbgenie/all_ireland_results_new/variant_calling/TB19-010884/raw.bcf\n"
     ]
    },
    {
     "name": "stderr",
     "output_type": "stream",
     "text": [
      "\t0.259199 seconds\n",
      "Concatenating /tmp/362492-724983.bcf\t0.258796 seconds\n",
      "Concatenating /tmp/724984-1087475.bcf\t0.243366 seconds\n",
      "Concatenating /tmp/1087476-1449967.bcf\t0.264793 seconds\n",
      "Concatenating /tmp/1449968-1812459.bcf\t0.252129 seconds\n",
      "Concatenating /tmp/1812460-2174951.bcf\t0.276069 seconds\n",
      "Concatenating /tmp/2174952-2537443.bcf\t0.266437 seconds\n",
      "Concatenating /tmp/2537444-2899935.bcf\t0.266962 seconds\n",
      "Concatenating /tmp/2899936-3262427.bcf\t0.274912 seconds\n",
      "Concatenating /tmp/3262428-3624919.bcf\t0.256782 seconds\n",
      "Concatenating /tmp/3624920-3987411.bcf\t0.269302 seconds\n",
      "Concatenating /tmp/3987412-4349903.bcf\t0.275111 seconds\n"
     ]
    },
    {
     "name": "stdout",
     "output_type": "stream",
     "text": [
      "TB19-010868\n",
      "[      1  362492  724984 1087476 1449968 1812460 2174952 2537444 2899936\n",
      " 3262428 3624920 3987412 4349904]\n",
      "parallel bcftools mpileup -r {1} -a \"AD,ADF,ADR,DP,SP,INFO/AD,INFO/ADF,INFO/ADR\" -O b --max-depth 500 --min-MQ 60 -o {2} -f /home/farrell/.config/snipgenie/genome/Mbovis_AF212297.fa /storage/btbgenie/all_ireland_results/mapped/TB19-010868.bam ::: \"LT708304.1\":1-362491 \"LT708304.1\":362492-724983 \"LT708304.1\":724984-1087475 \"LT708304.1\":1087476-1449967 \"LT708304.1\":1449968-1812459 \"LT708304.1\":1812460-2174951 \"LT708304.1\":2174952-2537443 \"LT708304.1\":2537444-2899935 \"LT708304.1\":2899936-3262427 \"LT708304.1\":3262428-3624919 \"LT708304.1\":3624920-3987411 \"LT708304.1\":3987412-4349903 :::+ /tmp/1-362491.bcf /tmp/362492-724983.bcf /tmp/724984-1087475.bcf /tmp/1087476-1449967.bcf /tmp/1449968-1812459.bcf /tmp/1812460-2174951.bcf /tmp/2174952-2537443.bcf /tmp/2537444-2899935.bcf /tmp/2899936-3262427.bcf /tmp/3262428-3624919.bcf /tmp/3624920-3987411.bcf /tmp/3987412-4349903.bcf\n"
     ]
    },
    {
     "name": "stderr",
     "output_type": "stream",
     "text": [
      "[mpileup] 1 samples in 1 input files\n",
      "[mpileup] maximum number of reads per input file set to -d 500\n",
      "[mpileup] 1 samples in 1 input files\n",
      "[mpileup] maximum number of reads per input file set to -d 500\n",
      "[mpileup] 1 samples in 1 input files\n",
      "[mpileup] maximum number of reads per input file set to -d 500\n",
      "[mpileup] 1 samples in 1 input files\n",
      "[mpileup] maximum number of reads per input file set to -d 500\n",
      "[mpileup] 1 samples in 1 input files\n",
      "[mpileup] maximum number of reads per input file set to -d 500\n",
      "[mpileup] 1 samples in 1 input files\n",
      "[mpileup] maximum number of reads per input file set to -d 500\n",
      "[mpileup] 1 samples in 1 input files\n",
      "[mpileup] maximum number of reads per input file set to -d 500\n",
      "[mpileup] 1 samples in 1 input files\n",
      "[mpileup] maximum number of reads per input file set to -d 500\n",
      "[mpileup] 1 samples in 1 input files\n",
      "[mpileup] maximum number of reads per input file set to -d 500\n"
     ]
    }
   ],
   "source": [
    "outdir='/storage/btbgenie/all_ireland_results_new'\n",
    "iresamples = pd.read_csv('/storage/btbgenie/all_ireland_results/samples.csv')\n",
    "new_variant_calling(iresamples, app.mbovis_genome, outdir, filters=None, threads=12)\n",
    "app.run_vcf(f'{outdir}/merged.vcf.gz', outdir, threads=12)"
   ]
  },
  {
   "cell_type": "code",
   "execution_count": null,
   "id": "4dab688f-ad5d-4bc9-a49d-5fe09c19188e",
   "metadata": {},
   "outputs": [],
   "source": []
  }
 ],
 "metadata": {
  "kernelspec": {
   "display_name": "Python 3 (ipykernel)",
   "language": "python",
   "name": "python3"
  },
  "language_info": {
   "codemirror_mode": {
    "name": "ipython",
    "version": 3
   },
   "file_extension": ".py",
   "mimetype": "text/x-python",
   "name": "python",
   "nbconvert_exporter": "python",
   "pygments_lexer": "ipython3",
   "version": "3.10.12"
  }
 },
 "nbformat": 4,
 "nbformat_minor": 5
}
