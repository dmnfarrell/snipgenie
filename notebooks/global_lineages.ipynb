{
 "cells": [
  {
   "cell_type": "markdown",
   "metadata": {},
   "source": [
    "# phylogeny of global M. bovis lineages\n",
    "\n",
    "Make phylogeny from selected samples and delineate lineages\n",
    "\n",
    "* global https://www.frontiersin.org/articles/10.3389/fmicb.2020.00843/full\n",
    "* UK https://www.ncbi.nlm.nih.gov/bioproject/PRJNA523164"
   ]
  },
  {
   "cell_type": "code",
   "execution_count": 1,
   "metadata": {},
   "outputs": [],
   "source": [
    "import sys,os,shutil,subprocess\n",
    "import glob,random\n",
    "from importlib import reload\n",
    "import numpy as np\n",
    "import pandas as pd\n",
    "pd.set_option('display.width', 200)\n",
    "import pylab as plt\n",
    "import matplotlib as mpl\n",
    "import seaborn as sns\n",
    "from Bio import SeqIO\n",
    "sys.path.append('pathogenie')\n",
    "from snipgenie import tools, aligners, app, trees, plotting\n",
    "import toytree"
   ]
  },
  {
   "cell_type": "code",
   "execution_count": 9,
   "metadata": {},
   "outputs": [],
   "source": [
    "#samples = pd.read_csv('/storage/btbgenie/global_results/samples.csv')\n",
    "#app.clean_bam_files(samples,'/storage/btbgenie/global_results/mapped/',True)"
   ]
  },
  {
   "cell_type": "code",
   "execution_count": null,
   "metadata": {},
   "outputs": [],
   "source": [
    "reload(app)\n",
    "reload(tools)\n",
    "reload(aligners)\n",
    "args = {'threads':16, 'outdir': '/storage/btbgenie/global_results', 'labelsep':'-',\n",
    "        'input':['/storage/btbgenie/brites'],\n",
    "         'species': 'Mbovis-AF212297', 'overwrite':False,\n",
    "         'custom_filters': True,\n",
    "         'buildtree':True}\n",
    "W = app.WorkFlow(**args)\n",
    "st = W.setup()\n",
    "W.run()"
   ]
  },
  {
   "cell_type": "code",
   "execution_count": null,
   "metadata": {},
   "outputs": [],
   "source": [
    "treefile1 = '/storage/btbgenie/global_results/tree.newick'\n",
    "tre = toytree.tree(treefile1)\n",
    "mystyle = { \"layout\": 'c','node_sizes':1,'tip_labels_align':True}\n",
    "tre.draw(**mystyle,height=700);"
   ]
  },
  {
   "cell_type": "markdown",
   "metadata": {},
   "source": [
    "## spoligotypes"
   ]
  },
  {
   "cell_type": "code",
   "execution_count": null,
   "metadata": {},
   "outputs": [],
   "source": [
    "def get_spoligotypes(samples, spo=None):\n",
    "    \"\"\"Get spoligotypes for multiple M.bovis strains\"\"\"\n",
    "    \n",
    "    if spo is not None:\n",
    "        done=list(spo['sample'])\n",
    "    else:\n",
    "        done=[]\n",
    "    samples = samples.drop_duplicates('sample')\n",
    "    res=[]\n",
    "    for i,r in samples.iterrows():       \n",
    "        f=r.filename1\n",
    "        samp=r['sample']\n",
    "        if samp in done:\n",
    "            continue\n",
    "        b = tools.get_spoligotype(f)\n",
    "        sb = tools.get_sb_number(b)\n",
    "        print (r['sample'], sb, b)\n",
    "        res.append([r['sample'],sb,b])\n",
    "    \n",
    "    res = pd.DataFrame(res,columns=['sample','SB','code'])\n",
    "    return res\n",
    "\n",
    "spo = pd.read_csv('/storage/btbgenie/global_results/spotypes.csv')\n",
    "samples = pd.read_csv('/storage/btbgenie/global_results/samples.csv')\n",
    "res = get_spoligotypes(samples,spo)\n",
    "#res=pd.concat([spo,res])\n",
    "#res.to_csv('/storage/btbgenie/global_results/spotypes.csv')"
   ]
  },
  {
   "cell_type": "markdown",
   "metadata": {},
   "source": [
    "## RD analysis"
   ]
  },
  {
   "cell_type": "code",
   "execution_count": null,
   "metadata": {},
   "outputs": [],
   "source": [
    "samples = pd.read_csv('/storage/btbgenie/global_results/samples.csv')\n",
    "from snipgenie import rdiff\n",
    "reload(rdiff)\n",
    "rdiff.create_rd_index()\n",
    "res = rdiff.run_samples(samples,'/storage/btbgenie/global_results/rd_aligned',threads=10)\n",
    "X = rdiff.get_matrix(res, cutoff=0.15)\n",
    "X['ident'] = X.apply(rdiff.apply_rules,1)\n",
    "X.to_csv('/storage/btbgenie/global_results/rd.csv')"
   ]
  },
  {
   "cell_type": "code",
   "execution_count": null,
   "metadata": {},
   "outputs": [],
   "source": [
    "reload(rdiff)\n",
    "rdiff.show_rd_coverage(samples[:5], 'LT708304.1',4330000,4340000,app.mbovis_genome,margin=1300)"
   ]
  },
  {
   "cell_type": "markdown",
   "metadata": {
    "tags": []
   },
   "source": [
    "## merge to get metadata "
   ]
  },
  {
   "cell_type": "code",
   "execution_count": 39,
   "metadata": {},
   "outputs": [
    {
     "data": {
      "text/plain": [
       "211"
      ]
     },
     "execution_count": 39,
     "metadata": {},
     "output_type": "execute_result"
    }
   ],
   "source": [
    "samples = pd.read_csv('/storage/btbgenie/global_results/samples.csv')\n",
    "meta = pd.read_csv('brites_table1.csv')\n",
    "x = samples.merge(meta,right_on='Accession_Number',left_on='sample',how='left')\n",
    "spotypes = pd.read_csv('/storage/btbgenie/global_results/spotypes.csv')\n",
    "R = pd.read_csv('/storage/btbgenie/global_results/rd.csv',index_col=0)\n",
    "x = x.merge(spotypes,on='sample')\n",
    "rds=R[['RD1mic','RD149','RD3','RD5','RD5oryx*','RD122','RDAf2','RDWicklow']]\n",
    "meta = x.merge(rds,left_on='sample',right_index=True)\n",
    "len(meta)"
   ]
  },
  {
   "cell_type": "code",
   "execution_count": 42,
   "metadata": {},
   "outputs": [
    {
     "data": {
      "text/plain": [
       "array(['La2', 'La1.8.1', 'La1.3', 'La1.6', 'La1.7.1', 'La1.5', 'La3',\n",
       "       'La1.8.2', 'La1.7-unk4', 'La1.2', 'La1.4', 'La1.7-unk5', 'La1.1'],\n",
       "      dtype=object)"
      ]
     },
     "execution_count": 42,
     "metadata": {},
     "output_type": "execute_result"
    }
   ],
   "source": [
    "complexcolors = {'La2':'blue', 'La1.8.1':'pink', 'La1.3':'', 'La1.6':'', 'La1.7.1':'', 'La1.5':'', 'La3':'',\n",
    "                'La1.8.2':'', 'La1.7-unk4':'', 'La1.2':'', 'La1.4':'', 'La1.7-unk5':'', 'La1.1':''}\n"
   ]
  },
  {
   "cell_type": "code",
   "execution_count": 64,
   "metadata": {},
   "outputs": [
    {
     "data": {
      "text/plain": [
       "<matplotlib.legend.Legend at 0x7f3ba3a70430>"
      ]
     },
     "execution_count": 64,
     "metadata": {},
     "output_type": "execute_result"
    },
    {
     "data": {
      "image/png": "[encoded data removed]",
      "text/plain": [
       "<Figure size 864x864 with 4 Axes>"
      ]
     },
     "metadata": {
      "needs_background": "light"
     },
     "output_type": "display_data"
    }
   ],
   "source": [
    "R = pd.read_csv('/storage/btbgenie/global_results/rd.csv',index_col=0)\n",
    "#mapdict=dict(zip(meta['sample'],meta['SIB_Number']))\n",
    "#X.index=X.index.map(mapdict)\n",
    "scols=['sample','Clonal_Complex']\n",
    "R=R.merge(meta[scols],left_index=True,right_on='sample',how='left').set_index('sample')\n",
    "\n",
    "row_colors,colormap = get_color_mapping(R,'Clonal_Complex',cmap='Paired',seed=18)\n",
    "\n",
    "cols = ['RD1','RD1mic','RDWicklow','RD8','RD11','RD149','RD6','RD3','RD122','RDAf2']\n",
    "\n",
    "\n",
    "import matplotlib.patches as mpatches\n",
    "g=sns.clustermap(R[cols],lw=0,cmap='gray_r',fmt='g',cbar_pos=None,col_cluster=False,\n",
    "                 yticklabels=False,row_colors=row_colors,figsize=(12,12))\n",
    "pts=[]\n",
    "for c in colormap:\n",
    "    pts.append(mpatches.Patch(color=colormap[c],label=c))\n",
    "g.fig.legend(handles=pts,bbox_to_anchor=(1.15, .9))"
   ]
  },
  {
   "cell_type": "code",
   "execution_count": null,
   "metadata": {},
   "outputs": [],
   "source": [
    "#treefile1 = '/storage/btbgenie/global_results/tree.newick'\n",
    "#clusts = trees.get_clusters(treefile1)\n",
    "#meta = meta.merge(clusts,left_on='sample',right_on='SequenceName')"
   ]
  },
  {
   "cell_type": "code",
   "execution_count": 41,
   "metadata": {},
   "outputs": [],
   "source": [
    "meta.to_csv('/storage/btbgenie/global_results/metadata.csv',index=False)"
   ]
  },
  {
   "cell_type": "markdown",
   "metadata": {},
   "source": [
    "## combine ireland + global samples\n",
    "\n",
    "add Ireland samples to global tree"
   ]
  },
  {
   "cell_type": "code",
   "execution_count": 43,
   "metadata": {},
   "outputs": [
    {
     "name": "stdout",
     "output_type": "stream",
     "text": [
      "wicklow\n",
      "other\n",
      "monaghan\n",
      "NI\n",
      "NI_AFBI\n",
      "global\n",
      "336\n"
     ]
    },
    {
     "data": {
      "text/plain": [
       "'/storage/btbgenie/combined_results/samples.txt'"
      ]
     },
     "execution_count": 43,
     "metadata": {},
     "output_type": "execute_result"
    }
   ],
   "source": [
    "outdir='/storage/btbgenie/combined_results'\n",
    "\n",
    "folders = {'wicklow':'/storage/btbgenie/wicklow_results',\n",
    "          'other':'/storage/btbgenie/misc_results/',\n",
    "          'monaghan':'/storage/btbgenie/monaghan/monaghan_results',\n",
    "          'NI':'/storage/btbgenie/NI_results/',\n",
    "          'NI_AFBI':'/storage/btbgenie/NI_AFBI_results/',\n",
    "          'global':'/storage/btbgenie/global_results/'}\n",
    "\n",
    "x=[]\n",
    "for f in folders:\n",
    "    print (f)\n",
    "    file = os.path.join(folders[f],'samples.csv')   \n",
    "    df=pd.read_csv(file)\n",
    "    if f != 'global':\n",
    "       df = df.sample(25,random_state=1) \n",
    "    x.append(df)\n",
    "allsamples = pd.concat(x)\n",
    "print (len(allsamples))\n",
    "allsamples.to_csv(os.path.join(outdir,'samples.csv'),index=False)\n",
    "app.write_samples(allsamples[['sample']], outdir)"
   ]
  },
  {
   "cell_type": "markdown",
   "metadata": {},
   "source": [
    "## run variant calling on combined files"
   ]
  },
  {
   "cell_type": "code",
   "execution_count": null,
   "metadata": {},
   "outputs": [],
   "source": [
    "reload(app)\n",
    "bam_files = allsamples.bam_file\n",
    "gff_file=os.path.join(outdir,'mbovis.gff')\n",
    "tools.gff_bcftools_format(app.mbovis_gb, gff_file)\n",
    "app.run_bamfiles(bam_files, app.mbovis_genome, outdir='/storage/btbgenie/combined_results', threads=16,\n",
    "                 mask=app.mbovis_mask, gff_file=gff_file,\n",
    "                 custom_filters=True, overwrite=False)"
   ]
  },
  {
   "cell_type": "markdown",
   "metadata": {},
   "source": [
    "<div class=\"alert alert-block alert-info\"><b>Start here for post analysis</b></div>"
   ]
  },
  {
   "cell_type": "code",
   "execution_count": 52,
   "metadata": {},
   "outputs": [
    {
     "name": "stdout",
     "output_type": "stream",
     "text": [
      "567 211\n"
     ]
    }
   ],
   "source": [
    "scols=['sample','SB','batch','county']\n",
    "ireland = pd.read_csv('/storage/btbgenie/all_ireland_results/metadata.csv')\n",
    "ireland['Country']='Ireland'\n",
    "print (len(ireland), len(meta))\n",
    "master=pd.concat([ireland,meta])"
   ]
  },
  {
   "cell_type": "code",
   "execution_count": 53,
   "metadata": {},
   "outputs": [],
   "source": [
    "def get_common(x, common):\n",
    "    if x in common:\n",
    "        return x\n",
    "    else:\n",
    "        return 'Other'"
   ]
  },
  {
   "cell_type": "code",
   "execution_count": 54,
   "metadata": {},
   "outputs": [
    {
     "data": {
      "text/plain": [
       "778"
      ]
     },
     "execution_count": 54,
     "metadata": {},
     "output_type": "execute_result"
    }
   ],
   "source": [
    "common = master.Country.value_counts()[:9]\n",
    "master['Country1'] = master.Country.apply(lambda x: get_common(x, common))\n",
    "len(master)"
   ]
  },
  {
   "cell_type": "code",
   "execution_count": 55,
   "metadata": {},
   "outputs": [],
   "source": [
    "common = master.county.value_counts()[:4]\n",
    "master['county1'] = master.county.apply(lambda x: get_common(x, common))\n",
    "master['cc'] = master['Clonal_Complex'].fillna(master.Country)\n",
    "master['cc1'] = master['Clonal_Complex'].fillna(master.county1)"
   ]
  },
  {
   "cell_type": "code",
   "execution_count": 56,
   "metadata": {},
   "outputs": [],
   "source": [
    "common = master.SB.value_counts()[:8]\n",
    "master['SB1'] = master.SB.apply(lambda x: get_common(x, common))"
   ]
  },
  {
   "cell_type": "code",
   "execution_count": 57,
   "metadata": {},
   "outputs": [
    {
     "name": "stdout",
     "output_type": "stream",
     "text": [
      "TreeCluster.py  -i /storage/btbgenie/combined_results/tree.newick -t 3 -m max_clade\n",
      "TreeCluster.py  -i /storage/btbgenie/combined_results/tree.newick -t 5 -m max_clade\n",
      "TreeCluster.py  -i /storage/btbgenie/combined_results/tree.newick -t 7 -m max_clade\n",
      "TreeCluster.py  -i /storage/btbgenie/combined_results/tree.newick -t 10 -m max_clade\n",
      "TreeCluster.py  -i /storage/btbgenie/combined_results/tree.newick -t 12 -m max_clade\n",
      "TreeCluster.py  -i /storage/btbgenie/combined_results/tree.newick -t 20 -m max_clade\n",
      "TreeCluster.py  -i /storage/btbgenie/combined_results/tree.newick -t 50 -m max_clade\n",
      "TreeCluster.py  -i /storage/btbgenie/combined_results/tree.newick -t 100 -m max_clade\n",
      "[11, 14, 34, 5, 9, 1, 40, 3, 29, 24, 15, 19, 35, 44, 30, 6, 8, 18, 17]\n"
     ]
    },
    {
     "data": {
      "image/png": "[encoded data removed]",
      "text/plain": [
       "<Figure size 864x360 with 1 Axes>"
      ]
     },
     "metadata": {
      "needs_background": "light"
     },
     "output_type": "display_data"
    }
   ],
   "source": [
    "treefile = '/storage/btbgenie/combined_results/tree.newick'\n",
    "clusts = trees.get_clusters(treefile)\n",
    "cc = clusts.snp100.value_counts()[1:20]\n",
    "cc.plot(kind='bar',figsize=(12,5))\n",
    "print (list(cc.index))"
   ]
  },
  {
   "cell_type": "code",
   "execution_count": 231,
   "metadata": {},
   "outputs": [],
   "source": [
    "#master = master.merge(clusts,left_on='sample',right_on='SequenceName')"
   ]
  },
  {
   "cell_type": "code",
   "execution_count": 58,
   "metadata": {},
   "outputs": [
    {
     "data": {
      "text/plain": [
       "778"
      ]
     },
     "execution_count": 58,
     "metadata": {},
     "output_type": "execute_result"
    }
   ],
   "source": [
    "master.to_csv('/storage/btbgenie/combined_results/metadata.csv')\n",
    "len(master)"
   ]
  },
  {
   "cell_type": "code",
   "execution_count": null,
   "metadata": {},
   "outputs": [],
   "source": [
    "#tre = tre.root(names=['SRR5486072'])\n",
    "def toytree_draw(tre, meta, labelcol,colorcol):\n",
    "    \"\"\"Draw colored tree with toytree\"\"\"\n",
    "    \n",
    "    tipnames = tre.get_tip_labels()\n",
    "    mapping = dict(zip(meta['sample'],meta[labelcol]))\n",
    "    mapping['ref'] = 'AF2122/97'\n",
    "    tiplabels = [mapping[i] if i in mapping else 'NA' for i in tipnames]   \n",
    "    mapping = dict(zip(meta['sample'],meta[colorcol]))\n",
    "    colormap = trees.colors_from_labels(meta,'sample',colorcol)\n",
    "    tip_colors = [colormap[mapping[i]] if i in mapping else 'Black' for i in tipnames]\n",
    "    node_sizes=[0 if i else 8 for i in tre.get_node_values(None, 1, 0)]\n",
    "    node_colors = [colormap[mapping[n]] if n in mapping else 'black' for n in tre.get_node_values('name', True, True)]\n",
    "\n",
    "    canvas,t,r=tre.draw(layout='r',width=600,height=800,tip_labels=tiplabels,node_markers=\"o\",node_hover=True,edge_widths=1,\n",
    "             tip_labels_colors=tip_colors,node_sizes=node_sizes,scalebar=True,node_colors=node_colors)#tip_labels_align=True);\n",
    "    #canvas.legend(leg,corner=(\"top\", 100, 100, 70));\n",
    "    return\n",
    "\n",
    "#import toyplot\n",
    "#toyplot.png.render(canvas, \"/storage/btbgenie/global_results/tree_clusters.png\")\n",
    "toytree_draw(tre2, master,'Country1','SB')"
   ]
  },
  {
   "cell_type": "code",
   "execution_count": null,
   "metadata": {},
   "outputs": [],
   "source": [
    "#combine rd data\n",
    "rd1=pd.read_csv('/storage/btbgenie/global_results/rd.csv',index_col=0)\n",
    "rd2=pd.read_csv('/storage/btbgenie/mbovis_ireland/rd.csv',index_col=0)\n",
    "rd=pd.concat([rd1,rd2])"
   ]
  },
  {
   "cell_type": "code",
   "execution_count": 251,
   "metadata": {},
   "outputs": [
    {
     "data": {
      "text/plain": [
       "<seaborn.matrix.ClusterGrid at 0x7f892b81b760>"
      ]
     },
     "execution_count": 251,
     "metadata": {},
     "output_type": "execute_result"
    },
    {
     "data": {
      "image/png": "[encoded data removed]",
      "text/plain": [
       "<Figure size 864x864 with 4 Axes>"
      ]
     },
     "metadata": {
      "needs_background": "light"
     },
     "output_type": "display_data"
    }
   ],
   "source": [
    "cols=['sample','SB']\n",
    "rvar = ['RD149','RD3','RD5','RD5oryx*','RD122','RDAf2','RDWicklow']\n",
    "X = rd[rvar]\n",
    "X=X.merge(master[cols],left_index=True,right_on='sample').set_index(cols)\n",
    "#X = X.iloc[:,1:]\n",
    "#print (X)\n",
    "sns.clustermap(X,xticklabels=True,yticklabels=[],cmap='gray',figsize=(12,12))"
   ]
  },
  {
   "cell_type": "code",
   "execution_count": 61,
   "metadata": {},
   "outputs": [
    {
     "name": "stdout",
     "output_type": "stream",
     "text": [
      "['#442082', '#3CFDE6', '#F1C26B', '#30F90E', '#C7DD01', '#E48875', '#34A20F', '#0B0D04', '#C36ED8', '#0E71E0', '#FD77B0', '#7670EB']\n"
     ]
    }
   ],
   "source": [
    "print(plotting.random_colors(12))"
   ]
  },
  {
   "cell_type": "code",
   "execution_count": null,
   "metadata": {},
   "outputs": [],
   "source": [
    "names = tre2.get_tip_labels()\n",
    "names.reverse()\n",
    "#print (names)\n",
    "rdv=rd[rvar]\n",
    "matrix = rdv.loc[names].values*255"
   ]
  },
  {
   "cell_type": "code",
   "execution_count": null,
   "metadata": {},
   "outputs": [],
   "source": [
    "# create a canvas\n",
    "import toyplot\n",
    "canvas = toyplot.Canvas(width=600, height=650);\n",
    "\n",
    "# add tree\n",
    "axes = canvas.cartesian(bounds=(50, 350, 20, 640))\n",
    "tre2.draw(axes=axes,tip_labels_colors=tip_colors,#node_colors=node_colors, #,tip_labels=tiplabels #\n",
    "         tip_labels_align=True)\n",
    "\n",
    "# add matrix\n",
    "table = canvas.table(\n",
    "    rows=len(rdv),\n",
    "    columns=6,\n",
    "    margin=0,\n",
    "    bounds=(375, 450, 25, 630),  \n",
    ")\n",
    "\n",
    "colormap = toyplot.color.brewer.map(\"Blues\")\n",
    "\n",
    "# apply a color to each cell in the table\n",
    "for ridx in range(matrix.shape[0]):\n",
    "    for cidx in range(matrix.shape[1]):\n",
    "        cell = table.cells.cell[ridx, cidx]\n",
    "        cell.style = {\n",
    "            \"fill\": colormap.colors(matrix[ridx, cidx], 0, 100),\n",
    "        }\n",
    "\n",
    "# style the gaps between cells\n",
    "table.body.gaps.columns[:] = 3\n",
    "table.body.gaps.rows[:] = 3\n"
   ]
  },
  {
   "cell_type": "markdown",
   "metadata": {},
   "source": [
    "## SNPs and indels clustering"
   ]
  },
  {
   "cell_type": "code",
   "execution_count": null,
   "metadata": {},
   "outputs": [],
   "source": [
    "csq = app.read_csq_file('/storage/btbgenie/combined_results/csq.tsv')\n",
    "snp_mat = app.get_aa_snp_matrix(csq)"
   ]
  },
  {
   "cell_type": "code",
   "execution_count": null,
   "metadata": {},
   "outputs": [],
   "source": [
    "csqind = app.read_csq_file('/storage/btbgenie/combined_results/csq_indels.tsv')\n",
    "#print (csqind)\n",
    "#print (csqind.snp_type.value_counts())\n",
    "\n",
    "ind_mat = app.get_aa_snp_matrix(csqind)\n",
    "ind_mat.reset_index().snp_type.value_counts()\n",
    "#ind_mat\n",
    "#ind_mat[ind_mat.sum(1)>5]"
   ]
  },
  {
   "cell_type": "code",
   "execution_count": null,
   "metadata": {},
   "outputs": [],
   "source": [
    "mat = snp_mat\n",
    "#mat.index = mat.index.get_level_values(1)+'_'+mat.index.get_level_values(2)\n",
    "stat = mat.sum(1).reset_index()\n",
    "#stat.gene.value_counts()[:30]"
   ]
  },
  {
   "cell_type": "code",
   "execution_count": null,
   "metadata": {},
   "outputs": [],
   "source": [
    "C=mat.T\n",
    "C=C.merge(meta[cols],left_index=True,right_on='SRA ID').set_index(cols).T\n",
    "C=C[C.sum(1)>3].T\n",
    "C.iloc[:4,:2]"
   ]
  },
  {
   "cell_type": "code",
   "execution_count": null,
   "metadata": {},
   "outputs": [],
   "source": [
    "countries = C.index.get_level_values(1)\n",
    "sb = C.index.get_level_values(2)\n",
    "clust = C.index.get_level_values(3)"
   ]
  },
  {
   "cell_type": "code",
   "execution_count": null,
   "metadata": {},
   "outputs": [],
   "source": [
    "reload(trees)\n",
    "colormap1 = dict(zip(sb.unique(), trees.qcolors))\n",
    "colors1 = [colormap1[i] if i in colormap1 else 'Black' for i in sb]\n",
    "\n",
    "colormap2 = dict(zip(clust.unique(), trees.qcolors))\n",
    "colors2 = [colormap2[i] if i in colormap2 else 'Black' for i in clust]\n",
    "#print (colors2)\n",
    "\n",
    "g=sns.clustermap(C,xticklabels=False,yticklabels=True,figsize=(17,12),cmap='gray_r',cbar_pos=None,row_colors=colors2)\n",
    "g.fig.savefig('/storage/btbgenie/global_results/indel_clusters.jpg')"
   ]
  },
  {
   "cell_type": "markdown",
   "metadata": {},
   "source": [
    "## PCA snps"
   ]
  },
  {
   "cell_type": "code",
   "execution_count": null,
   "metadata": {},
   "outputs": [],
   "source": [
    "import sklearn\n",
    "from sklearn import decomposition\n",
    "from sklearn import manifold\n",
    "\n",
    "pca = decomposition.PCA(n_components=3)\n",
    "mds = manifold.MDS(n_components=3)\n",
    "pos = mds.fit(C).embedding_\n",
    "X = pca.fit_transform(pos)\n",
    "#X = pca.transform(C)\n",
    "\n",
    "fig,ax = plt.subplots(figsize=(7, 7))\n",
    "ax.scatter(X[:, 0], X[:, 1], c=colors2, s=100, alpha=.6)\n"
   ]
  },
  {
   "cell_type": "code",
   "execution_count": null,
   "metadata": {},
   "outputs": [],
   "source": []
  }
 ],
 "metadata": {
  "kernelspec": {
   "display_name": "Python 3",
   "language": "python",
   "name": "python3"
  },
  "language_info": {
   "codemirror_mode": {
    "name": "ipython",
    "version": 3
   },
   "file_extension": ".py",
   "mimetype": "text/x-python",
   "name": "python",
   "nbconvert_exporter": "python",
   "pygments_lexer": "ipython3",
   "version": "3.9.5"
  }
 },
 "nbformat": 4,
 "nbformat_minor": 4
}
