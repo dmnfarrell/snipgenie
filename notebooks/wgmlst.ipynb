{
 "cells": [
  {
   "cell_type": "markdown",
   "id": "097a5efa-3837-48c6-a8ea-309d58ba6fd6",
   "metadata": {},
   "source": [
    "## wgMLST for mbovis\n",
    "\n",
    "* http://www3.ridom.de/seqsphere/cgmlst/\n",
    "* https://www.cgmlst.org/ncs/schema/741110/\n",
    "* https://jcm.asm.org/content/52/7/2479\n",
    "* https://www.biorxiv.org/content/10.1101/172858v1.full\n",
    "* https://www.ncbi.nlm.nih.gov/pmc/articles/PMC3980634/"
   ]
  },
  {
   "cell_type": "markdown",
   "id": "3b554e75-17e5-4a8f-ab03-e93150bcc94e",
   "metadata": {},
   "source": [
    "## steps\n",
    "\n",
    "* get MLST gene list\n",
    "* assembly\n",
    "* annotate\n",
    "* assign allele numbers?"
   ]
  },
  {
   "cell_type": "code",
   "execution_count": 40,
   "id": "5fbe56cd-85be-425d-a949-8d7b709d4acc",
   "metadata": {},
   "outputs": [],
   "source": [
    "import sys,os,shutil,subprocess\n",
    "import glob\n",
    "from importlib import reload\n",
    "import numpy as np\n",
    "import pandas as pd\n",
    "pd.set_option('display.width', 200)\n",
    "pd.set_option('display.max_colwidth', 150)\n",
    "import pylab as plt\n",
    "from Bio import SeqIO\n",
    "from io import StringIO\n",
    "import snipgenie as snpg\n",
    "import pathogenie as pg"
   ]
  },
  {
   "cell_type": "code",
   "execution_count": null,
   "id": "f630368c-1859-4574-84dd-8a545f5e17b5",
   "metadata": {},
   "outputs": [],
   "source": [
    "path = '/storage/btbgenie/mbovis_ireland/Wicklow/Fastqs_07-01-18/'\n",
    "files = glob.glob(os.path.join(path, '*.gz'))\n",
    "samp = app.get_samples(files)\n",
    "pairs = pd.pivot_table(samp,index=['sample'],columns=['pair'],values='filename',aggfunc='first').reset_index()\n",
    "print (pairs)"
   ]
  },
  {
   "cell_type": "markdown",
   "id": "1df61561-684c-418a-980c-2c62299a216a",
   "metadata": {},
   "source": [
    "## assembly"
   ]
  },
  {
   "cell_type": "code",
   "execution_count": null,
   "id": "09ca0cce-bad8-40a0-81bd-f93f8a39518f",
   "metadata": {},
   "outputs": [],
   "source": [
    "def spades(file1, file2, outpath,threads=4):\n",
    "    \"\"\"Run spades\"\"\"\n",
    "    \n",
    "    cmd = 'spades -t %s --pe1-1 %s --pe1-2 %s --careful -o %s' %(threads,file1,file2,outpath)\n",
    "    print (cmd)\n",
    "    if not os.path.exists(out): \n",
    "        subprocess.check_output(cmd, shell=True)\n",
    "    return\n",
    "\n",
    "path = '/storage/btbgenie/assembly/'\n",
    "\n",
    "for i,r in pairs[:1].iterrows():\n",
    "    print (r[1])\n",
    "    out = os.path.join(path,r['sample'])\n",
    "    spades(r[1], r[2], out,threads=10)"
   ]
  },
  {
   "cell_type": "markdown",
   "id": "255fab33-d9d4-4cc6-9edf-04a7d8250fd9",
   "metadata": {},
   "source": [
    "## get consensus sequence from alignment instead of assembly?"
   ]
  },
  {
   "cell_type": "code",
   "execution_count": 51,
   "id": "b1450e60-5c58-4c34-9927-b11396ef068b",
   "metadata": {},
   "outputs": [
    {
     "name": "stdout",
     "output_type": "stream",
     "text": [
      "cat /home/damien/.config/snipgenie/genome/Mbovis_AF212297.fa | bcftools consensus -s 1034 /storage/btbgenie/all_ireland_results/filtered.vcf.gz > consensus.fa\n"
     ]
    }
   ],
   "source": [
    "vcf_file='/storage/btbgenie/all_ireland_results/filtered.vcf.gz'\n",
    "sample = '1034'\n",
    "cmd='bcftools index %s' %vcf_file\n",
    "#subprocess.check_output(cmd, shell=True)\n",
    "cmd='cat {r} | bcftools consensus -s {s} {v} > consensus.fa'.format(r=app.mbovis_genome,v=vcf_file,s=sample)\n",
    "print (cmd)\n",
    "#subprocess.check_output(cmd, shell=True)"
   ]
  },
  {
   "cell_type": "markdown",
   "id": "f036d0a1-efe2-497b-bccf-93b0b305a212",
   "metadata": {},
   "source": [
    "## annotate\n",
    "\n",
    "need to use known proteins with Mb tags"
   ]
  },
  {
   "cell_type": "code",
   "execution_count": null,
   "id": "65652405-949d-4bd8-be2e-e1869169890f",
   "metadata": {},
   "outputs": [],
   "source": [
    "#seqfile='/storage/btbgenie/assembly/17/scaffolds.fasta'\n",
    "seqfile='consensus.fa'\n",
    "featdf,recs = pg.run_annotation(seqfile,\n",
    "                                threads=10, kingdom='bacteria', trusted='Mbovis_AF212297_protein.fasta')\n",
    "fastafile='/storage/btbgenie/annotation/17.fa'\n",
    "df=pg.tools.records_to_dataframe(recs)\n",
    "pg.tools.dataframe_to_fasta(df,outfile=fastafile)"
   ]
  },
  {
   "cell_type": "code",
   "execution_count": 68,
   "id": "e1698d53-1360-4deb-b9b8-4a6940766fbe",
   "metadata": {},
   "outputs": [
    {
     "data": {
      "text/plain": [
       "1"
      ]
     },
     "execution_count": 68,
     "metadata": {},
     "output_type": "execute_result"
    }
   ],
   "source": [
    "## create a master table of alleles and add each new isolate to it?\n"
   ]
  },
  {
   "cell_type": "code",
   "execution_count": 84,
   "id": "f2b59498-b340-4405-87a9-54ab89498277",
   "metadata": {},
   "outputs": [],
   "source": [
    "mlst=pd.read_csv('mlst_scheme.csv')\n",
    "mlst=mlst[mlst['Ridom Usage']=='MLST+']"
   ]
  },
  {
   "cell_type": "code",
   "execution_count": 86,
   "id": "c80629ac-92c1-49f1-9d6e-8eb5c861e33e",
   "metadata": {},
   "outputs": [
    {
     "data": {
      "text/html": [
       "<div>\n",
       "<style scoped>\n",
       "    .dataframe tbody tr th:only-of-type {\n",
       "        vertical-align: middle;\n",
       "    }\n",
       "\n",
       "    .dataframe tbody tr th {\n",
       "        vertical-align: top;\n",
       "    }\n",
       "\n",
       "    .dataframe thead th {\n",
       "        text-align: right;\n",
       "    }\n",
       "</style>\n",
       "<table border=\"1\" class=\"dataframe\">\n",
       "  <thead>\n",
       "    <tr style=\"text-align: right;\">\n",
       "      <th></th>\n",
       "      <th>Target</th>\n",
       "      <th>Ridom Usage</th>\n",
       "      <th>Ridom Exclusion Reason</th>\n",
       "      <th>location</th>\n",
       "      <th>gene</th>\n",
       "      <th>product</th>\n",
       "      <th>protein_id</th>\n",
       "      <th>note</th>\n",
       "    </tr>\n",
       "  </thead>\n",
       "  <tbody>\n",
       "    <tr>\n",
       "      <th>13</th>\n",
       "      <td>Rv0014c</td>\n",
       "      <td>MLST+</td>\n",
       "      <td>-</td>\n",
       "      <td>15590..17470</td>\n",
       "      <td>pknB</td>\n",
       "      <td>Transmembrane serine/threonine-protein kinase B PknB (protein kinase B) (STPK B)</td>\n",
       "      <td>NP_214528.1</td>\n",
       "      <td>Rv0014c, (MTCY10H4.14c), len: 626 aa. PknB,transmembrane serine/threonine-protein kinase (see citations below). Contains PS00107 Protein kinases A...</td>\n",
       "    </tr>\n",
       "    <tr>\n",
       "      <th>14</th>\n",
       "      <td>Rv0015c</td>\n",
       "      <td>MLST+</td>\n",
       "      <td>-</td>\n",
       "      <td>17467..18762</td>\n",
       "      <td>pknA</td>\n",
       "      <td>Transmembrane serine/threonine-protein kinase A PknA (protein kinase A) (STPK A)</td>\n",
       "      <td>NP_214529.1</td>\n",
       "      <td>Rv0015c, (MTCY10H4.15c), len: 431 aa. PknA,transmembrane serine/threonine-protein kinase,magnesium/manganese dependent (see citations below). Cont...</td>\n",
       "    </tr>\n",
       "    <tr>\n",
       "      <th>15</th>\n",
       "      <td>Rv0016c</td>\n",
       "      <td>MLST+</td>\n",
       "      <td>-</td>\n",
       "      <td>18759..20234</td>\n",
       "      <td>pbpA</td>\n",
       "      <td>Probable penicillin-binding protein PbpA</td>\n",
       "      <td>NP_214530.1</td>\n",
       "      <td>Rv0016c, (MTCY10H4.16c), len: 491 aa. Probable pbpA,penicillin-binding protein, similar to many.</td>\n",
       "    </tr>\n",
       "    <tr>\n",
       "      <th>16</th>\n",
       "      <td>Rv0017c</td>\n",
       "      <td>MLST+</td>\n",
       "      <td>-</td>\n",
       "      <td>20231..21640</td>\n",
       "      <td>rodA</td>\n",
       "      <td>Probable cell division protein RodA</td>\n",
       "      <td>NP_214531.1</td>\n",
       "      <td>Rv0017c, (MTCY10H4.17c), len: 469 aa. Probable rodA (alternate gene name: ftsW), cell division protein,integral membrane protein. Belongs to the F...</td>\n",
       "    </tr>\n",
       "    <tr>\n",
       "      <th>17</th>\n",
       "      <td>Rv0018c</td>\n",
       "      <td>MLST+</td>\n",
       "      <td>-</td>\n",
       "      <td>21637..23181</td>\n",
       "      <td>pstP</td>\n",
       "      <td>Phosphoserine/threonine phosphatase PstP</td>\n",
       "      <td>NP_214532.1</td>\n",
       "      <td>Rv0018c, (MTCY10H4.18c), len: 514 aa. PstP,phosphoserine/threonine phosphatase. Experimental studies have shown that PstP specifically dephosporyl...</td>\n",
       "    </tr>\n",
       "    <tr>\n",
       "      <th>...</th>\n",
       "      <td>...</td>\n",
       "      <td>...</td>\n",
       "      <td>...</td>\n",
       "      <td>...</td>\n",
       "      <td>...</td>\n",
       "      <td>...</td>\n",
       "      <td>...</td>\n",
       "      <td>...</td>\n",
       "    </tr>\n",
       "    <tr>\n",
       "      <th>3999</th>\n",
       "      <td>Rv3906c</td>\n",
       "      <td>MLST+</td>\n",
       "      <td>-</td>\n",
       "      <td>4391097..4391606</td>\n",
       "      <td>NaN</td>\n",
       "      <td>hypothetical protein</td>\n",
       "      <td>NP_218423.1</td>\n",
       "      <td>Rv3906c, (MTCY15F10.05), len: 169 aa. Conserved hypothetical protein, strongly related to Q50578|AT9S (sod related in Escherichia coli) from Mycob...</td>\n",
       "    </tr>\n",
       "    <tr>\n",
       "      <th>4000</th>\n",
       "      <td>Rv3907c</td>\n",
       "      <td>MLST+</td>\n",
       "      <td>-</td>\n",
       "      <td>4391631..4393073</td>\n",
       "      <td>pcnA</td>\n",
       "      <td>Probable poly(A) polymerase PcnA (polynucleotide adenylyltransferase) (NTP polymerase) (RNA adenylating enzyme) (poly(A) polymerase)</td>\n",
       "      <td>YP_178026.1</td>\n",
       "      <td>Rv3907c, (MTCY15F10.04), len: 480 aa. Probable pcnA,polynucleotide polymerase, equivalent to Q9CCY1|PCNA|ML2697 PCNA protein from Mycobacterium le...</td>\n",
       "    </tr>\n",
       "    <tr>\n",
       "      <th>4001</th>\n",
       "      <td>Rv3908</td>\n",
       "      <td>MLST+</td>\n",
       "      <td>-</td>\n",
       "      <td>4393449..4394195</td>\n",
       "      <td>mutT4</td>\n",
       "      <td>Possible mutator protein MutT4</td>\n",
       "      <td>NP_218425.1</td>\n",
       "      <td>Rv3908, (MTCY15F10.03c), len: 248 aa. Possible mutT4, mutator protein, equivalent to Q50195|ML2698|L222-ORF6 hypothetical protein from Mycobacteri...</td>\n",
       "    </tr>\n",
       "    <tr>\n",
       "      <th>4002</th>\n",
       "      <td>Rv3909</td>\n",
       "      <td>MLST+</td>\n",
       "      <td>-</td>\n",
       "      <td>4394192..4396600</td>\n",
       "      <td>NaN</td>\n",
       "      <td>hypothetical protein</td>\n",
       "      <td>NP_218426.1</td>\n",
       "      <td>Rv3909, (MTCY15F10.02c), len: 802 aa. Conserved protein, equivalent to Q9CCY0|ML2699 putative secreted protein from Mycobacterium leprae (797 aa) ...</td>\n",
       "    </tr>\n",
       "    <tr>\n",
       "      <th>4003</th>\n",
       "      <td>Rv3910</td>\n",
       "      <td>MLST+</td>\n",
       "      <td>-</td>\n",
       "      <td>4396597..4400151</td>\n",
       "      <td>NaN</td>\n",
       "      <td>Probable conserved transmembrane protein</td>\n",
       "      <td>NP_218427.1</td>\n",
       "      <td>Rv3910, (MTCY15F10.01c.MTV028.01), len: 1184 aa. Probable conserved transmembrane protein (hydrophobic domain ~50-550), equivalent to Q9CCX9|ML270...</td>\n",
       "    </tr>\n",
       "  </tbody>\n",
       "</table>\n",
       "<p>3257 rows × 8 columns</p>\n",
       "</div>"
      ],
      "text/plain": [
       "       Target Ridom Usage Ridom Exclusion Reason          location   gene  \\\n",
       "13    Rv0014c       MLST+                      -      15590..17470   pknB   \n",
       "14    Rv0015c       MLST+                      -      17467..18762   pknA   \n",
       "15    Rv0016c       MLST+                      -      18759..20234   pbpA   \n",
       "16    Rv0017c       MLST+                      -      20231..21640   rodA   \n",
       "17    Rv0018c       MLST+                      -      21637..23181   pstP   \n",
       "...       ...         ...                    ...               ...    ...   \n",
       "3999  Rv3906c       MLST+                      -  4391097..4391606    NaN   \n",
       "4000  Rv3907c       MLST+                      -  4391631..4393073   pcnA   \n",
       "4001   Rv3908       MLST+                      -  4393449..4394195  mutT4   \n",
       "4002   Rv3909       MLST+                      -  4394192..4396600    NaN   \n",
       "4003   Rv3910       MLST+                      -  4396597..4400151    NaN   \n",
       "\n",
       "                                                                                                                                   product   protein_id  \\\n",
       "13                                                        Transmembrane serine/threonine-protein kinase B PknB (protein kinase B) (STPK B)  NP_214528.1   \n",
       "14                                                        Transmembrane serine/threonine-protein kinase A PknA (protein kinase A) (STPK A)  NP_214529.1   \n",
       "15                                                                                                Probable penicillin-binding protein PbpA  NP_214530.1   \n",
       "16                                                                                                     Probable cell division protein RodA  NP_214531.1   \n",
       "17                                                                                                Phosphoserine/threonine phosphatase PstP  NP_214532.1   \n",
       "...                                                                                                                                    ...          ...   \n",
       "3999                                                                                                                  hypothetical protein  NP_218423.1   \n",
       "4000  Probable poly(A) polymerase PcnA (polynucleotide adenylyltransferase) (NTP polymerase) (RNA adenylating enzyme) (poly(A) polymerase)  YP_178026.1   \n",
       "4001                                                                                                        Possible mutator protein MutT4  NP_218425.1   \n",
       "4002                                                                                                                  hypothetical protein  NP_218426.1   \n",
       "4003                                                                                              Probable conserved transmembrane protein  NP_218427.1   \n",
       "\n",
       "                                                                                                                                                       note  \n",
       "13    Rv0014c, (MTCY10H4.14c), len: 626 aa. PknB,transmembrane serine/threonine-protein kinase (see citations below). Contains PS00107 Protein kinases A...  \n",
       "14    Rv0015c, (MTCY10H4.15c), len: 431 aa. PknA,transmembrane serine/threonine-protein kinase,magnesium/manganese dependent (see citations below). Cont...  \n",
       "15                                                         Rv0016c, (MTCY10H4.16c), len: 491 aa. Probable pbpA,penicillin-binding protein, similar to many.  \n",
       "16    Rv0017c, (MTCY10H4.17c), len: 469 aa. Probable rodA (alternate gene name: ftsW), cell division protein,integral membrane protein. Belongs to the F...  \n",
       "17    Rv0018c, (MTCY10H4.18c), len: 514 aa. PstP,phosphoserine/threonine phosphatase. Experimental studies have shown that PstP specifically dephosporyl...  \n",
       "...                                                                                                                                                     ...  \n",
       "3999  Rv3906c, (MTCY15F10.05), len: 169 aa. Conserved hypothetical protein, strongly related to Q50578|AT9S (sod related in Escherichia coli) from Mycob...  \n",
       "4000  Rv3907c, (MTCY15F10.04), len: 480 aa. Probable pcnA,polynucleotide polymerase, equivalent to Q9CCY1|PCNA|ML2697 PCNA protein from Mycobacterium le...  \n",
       "4001  Rv3908, (MTCY15F10.03c), len: 248 aa. Possible mutT4, mutator protein, equivalent to Q50195|ML2698|L222-ORF6 hypothetical protein from Mycobacteri...  \n",
       "4002  Rv3909, (MTCY15F10.02c), len: 802 aa. Conserved protein, equivalent to Q9CCY0|ML2699 putative secreted protein from Mycobacterium leprae (797 aa) ...  \n",
       "4003  Rv3910, (MTCY15F10.01c.MTV028.01), len: 1184 aa. Probable conserved transmembrane protein (hydrophobic domain ~50-550), equivalent to Q9CCX9|ML270...  \n",
       "\n",
       "[3257 rows x 8 columns]"
      ]
     },
     "execution_count": 86,
     "metadata": {},
     "output_type": "execute_result"
    }
   ],
   "source": [
    "mlst"
   ]
  },
  {
   "cell_type": "code",
   "execution_count": null,
   "id": "92fa2b8c-50fb-410a-9813-5ea166d5d1d8",
   "metadata": {},
   "outputs": [],
   "source": []
  }
 ],
 "metadata": {
  "kernelspec": {
   "display_name": "Python 3",
   "language": "python",
   "name": "python3"
  },
  "language_info": {
   "codemirror_mode": {
    "name": "ipython",
    "version": 3
   },
   "file_extension": ".py",
   "mimetype": "text/x-python",
   "name": "python",
   "nbconvert_exporter": "python",
   "pygments_lexer": "ipython3",
   "version": "3.9.4"
  }
 },
 "nbformat": 4,
 "nbformat_minor": 5
}
