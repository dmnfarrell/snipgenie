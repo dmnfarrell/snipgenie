{
 "cells": [
  {
   "cell_type": "markdown",
   "metadata": {},
   "source": [
    "# Spoligotype from WGS\n",
    "\n",
    "* https://genomemedicine.biomedcentral.com/articles/10.1186/s13073-016-0270-7\n"
   ]
  },
  {
   "cell_type": "code",
   "execution_count": 1,
   "metadata": {},
   "outputs": [],
   "source": [
    "import sys,os,shutil,subprocess\n",
    "import glob\n",
    "from importlib import reload\n",
    "import numpy as np\n",
    "import pandas as pd\n",
    "pd.set_option('display.width', 200)\n",
    "pd.set_option('display.max_colwidth', 150)\n",
    "import pylab as plt\n",
    "from Bio import SeqIO\n",
    "from io import StringIO\n",
    "from snipgenie import tools,app,aligners"
   ]
  },
  {
   "cell_type": "markdown",
   "metadata": {},
   "source": [
    "## test files"
   ]
  },
  {
   "cell_type": "code",
   "execution_count": 2,
   "metadata": {},
   "outputs": [
    {
     "data": {
      "text/html": [
       "<div>\n",
       "<style scoped>\n",
       "    .dataframe tbody tr th:only-of-type {\n",
       "        vertical-align: middle;\n",
       "    }\n",
       "\n",
       "    .dataframe tbody tr th {\n",
       "        vertical-align: top;\n",
       "    }\n",
       "\n",
       "    .dataframe thead th {\n",
       "        text-align: right;\n",
       "    }\n",
       "</style>\n",
       "<table border=\"1\" class=\"dataframe\">\n",
       "  <thead>\n",
       "    <tr style=\"text-align: right;\">\n",
       "      <th></th>\n",
       "      <th>sample</th>\n",
       "      <th>filename1</th>\n",
       "      <th>filename2</th>\n",
       "      <th>name1</th>\n",
       "      <th>name2</th>\n",
       "    </tr>\n",
       "  </thead>\n",
       "  <tbody>\n",
       "    <tr>\n",
       "      <th>0</th>\n",
       "      <td>17</td>\n",
       "      <td>/storage/btbgenie/mbovis_ireland/Wicklow/Fastqs_07-01-18/17-MBovis_S21_L001-4_R1_001.fastq.gz</td>\n",
       "      <td>/storage/btbgenie/mbovis_ireland/Wicklow/Fastqs_07-01-18/17-MBovis_S21_L001-4_R2_001.fastq.gz</td>\n",
       "      <td>17-MBovis_S21_L001-4_R1_001</td>\n",
       "      <td>17-MBovis_S21_L001-4_R2_001</td>\n",
       "    </tr>\n",
       "    <tr>\n",
       "      <th>1</th>\n",
       "      <td>19</td>\n",
       "      <td>/storage/btbgenie/mbovis_ireland/Wicklow/Fastqs_07-01-18/19-MBovis_S32_L001-4_R1_001.fastq.gz</td>\n",
       "      <td>/storage/btbgenie/mbovis_ireland/Wicklow/Fastqs_07-01-18/19-MBovis_S32_L001-4_R2_001.fastq.gz</td>\n",
       "      <td>19-MBovis_S32_L001-4_R1_001</td>\n",
       "      <td>19-MBovis_S32_L001-4_R2_001</td>\n",
       "    </tr>\n",
       "    <tr>\n",
       "      <th>2</th>\n",
       "      <td>26</td>\n",
       "      <td>/storage/btbgenie/mbovis_ireland/Wicklow/Fastqs_07-01-18/26-MBovis_S43_L001-4_R1_001.fastq.gz</td>\n",
       "      <td>/storage/btbgenie/mbovis_ireland/Wicklow/Fastqs_07-01-18/26-MBovis_S43_L001-4_R2_001.fastq.gz</td>\n",
       "      <td>26-MBovis_S43_L001-4_R1_001</td>\n",
       "      <td>26-MBovis_S43_L001-4_R2_001</td>\n",
       "    </tr>\n",
       "  </tbody>\n",
       "</table>\n",
       "</div>"
      ],
      "text/plain": [
       "  sample                                                                                      filename1  \\\n",
       "0     17  /storage/btbgenie/mbovis_ireland/Wicklow/Fastqs_07-01-18/17-MBovis_S21_L001-4_R1_001.fastq.gz   \n",
       "1     19  /storage/btbgenie/mbovis_ireland/Wicklow/Fastqs_07-01-18/19-MBovis_S32_L001-4_R1_001.fastq.gz   \n",
       "2     26  /storage/btbgenie/mbovis_ireland/Wicklow/Fastqs_07-01-18/26-MBovis_S43_L001-4_R1_001.fastq.gz   \n",
       "\n",
       "                                                                                       filename2                        name1                        name2  \n",
       "0  /storage/btbgenie/mbovis_ireland/Wicklow/Fastqs_07-01-18/17-MBovis_S21_L001-4_R2_001.fastq.gz  17-MBovis_S21_L001-4_R1_001  17-MBovis_S21_L001-4_R2_001  \n",
       "1  /storage/btbgenie/mbovis_ireland/Wicklow/Fastqs_07-01-18/19-MBovis_S32_L001-4_R2_001.fastq.gz  19-MBovis_S32_L001-4_R1_001  19-MBovis_S32_L001-4_R2_001  \n",
       "2  /storage/btbgenie/mbovis_ireland/Wicklow/Fastqs_07-01-18/26-MBovis_S43_L001-4_R2_001.fastq.gz  26-MBovis_S43_L001-4_R1_001  26-MBovis_S43_L001-4_R2_001  "
      ]
     },
     "execution_count": 2,
     "metadata": {},
     "output_type": "execute_result"
    }
   ],
   "source": [
    "#path = '/storage/btbgenie/mbovis_ireland/NI/'\n",
    "path = '/storage/btbgenie/mbovis_ireland/Wicklow/Fastqs_07-01-18/'\n",
    "files = glob.glob(os.path.join(path, '*.gz'))\n",
    "samp = app.get_samples(files)\n",
    "samp = app.get_pivoted_samples(samp)\n",
    "samp"
   ]
  },
  {
   "cell_type": "code",
   "execution_count": null,
   "metadata": {},
   "outputs": [],
   "source": [
    "#convert reads to fasta\n",
    "tools.fastq_to_fasta(f1, 'temp.fa', 500000)\n",
    "#make blast db from reads\n",
    "tools.make_blast_database('temp.fa')\n",
    "#blast spacers to db\n",
    "bl = tools.blast_fasta('temp.fa', '../dr_spacers.fa', evalue=0.1, \n",
    "                       maxseqs=100000, show_cmd=True)"
   ]
  },
  {
   "cell_type": "code",
   "execution_count": null,
   "metadata": {},
   "outputs": [],
   "source": [
    "#bl=bl.sort_values('qseqid','pident')\n",
    "bl[['qseqid','pident','qcovs','length','mismatch']]"
   ]
  },
  {
   "cell_type": "code",
   "execution_count": 212,
   "metadata": {},
   "outputs": [
    {
     "data": {
      "text/html": [
       "<div>\n",
       "<style scoped>\n",
       "    .dataframe tbody tr th:only-of-type {\n",
       "        vertical-align: middle;\n",
       "    }\n",
       "\n",
       "    .dataframe tbody tr th {\n",
       "        vertical-align: top;\n",
       "    }\n",
       "\n",
       "    .dataframe thead th {\n",
       "        text-align: right;\n",
       "    }\n",
       "</style>\n",
       "<table border=\"1\" class=\"dataframe\">\n",
       "  <thead>\n",
       "    <tr style=\"text-align: right;\">\n",
       "      <th></th>\n",
       "      <th>qseqid</th>\n",
       "      <th>pident</th>\n",
       "    </tr>\n",
       "  </thead>\n",
       "  <tbody>\n",
       "    <tr>\n",
       "      <th>0</th>\n",
       "      <td>37</td>\n",
       "      <td>9.0</td>\n",
       "    </tr>\n",
       "    <tr>\n",
       "      <th>1</th>\n",
       "      <td>38</td>\n",
       "      <td>7.0</td>\n",
       "    </tr>\n",
       "  </tbody>\n",
       "</table>\n",
       "</div>"
      ],
      "text/plain": [
       "   qseqid  pident\n",
       "0      37     9.0\n",
       "1      38     7.0"
      ]
     },
     "execution_count": 212,
     "metadata": {},
     "output_type": "execute_result"
    }
   ],
   "source": [
    "bl=bl[(bl.qcovs>95) & (bl.mismatch<2)]\n",
    "x=bl.groupby('qseqid').agg({'pident':np.size}).reset_index()\n",
    "x"
   ]
  },
  {
   "cell_type": "code",
   "execution_count": 5,
   "metadata": {},
   "outputs": [
    {
     "name": "stdout",
     "output_type": "stream",
     "text": [
      "blastn -out ../snipgenie/data/dr_spacers_blast.txt -outfmt \"6 qseqid sseqid qseq sseq pident qcovs length mismatch gapopen qstart qend sstart send evalue bitscore stitle\" -query ../snipgenie/data/dr_spacers.fa -db temp.fa -evalue 0.1 -max_target_seqs 500000 -num_threads 4 -task blastn\n",
      "1100101000000110111111111011101111111100000\n"
     ]
    }
   ],
   "source": [
    "def get_spoligotype(filename, reads_limit=500000, threshold=0):\n",
    "    \"\"\"Get spoligotype from reads. Returns a binary string.\"\"\"\n",
    "    \n",
    "    ref = '../snipgenie/data/dr_spacers.fa'\n",
    "    #convert reads to fasta\n",
    "    tools.fastq_to_fasta(filename, 'temp.fa', reads_limit)\n",
    "    #make blast db from reads\n",
    "    tools.make_blast_database('temp.fa')\n",
    "    #blast spacers to db\n",
    "    bl = tools.blast_fasta('temp.fa', ref, evalue=.1, \n",
    "                           maxseqs=reads_limit, show_cmd=True) \n",
    "    bl=bl[(bl.qcovs>95) & (bl.mismatch<3)]\n",
    "    x = bl.groupby('qseqid').agg({'pident':np.size}).reset_index()\n",
    "    #print (x)\n",
    "    x = x[x.pident>=threshold]    \n",
    "    found = list(x.qseqid)\n",
    "    \n",
    "    s=[]\n",
    "    for i in range(1,44):\n",
    "        if i in found:\n",
    "            s.append('1')\n",
    "        else:\n",
    "            s.append('0')\n",
    "    s =''.join(s)\n",
    "    print (s)\n",
    "    return s\n",
    "\n",
    "s = get_spoligotype('/storage/btbgenie/mbovis_ireland/Wicklow/Fastqs_09-07-18/48-MBovis_S17_L001-4_R1_001.fastq.gz')\n",
    "get_sb_number(s)"
   ]
  },
  {
   "cell_type": "code",
   "execution_count": 4,
   "metadata": {},
   "outputs": [
    {
     "data": {
      "text/plain": [
       "'SB0054'"
      ]
     },
     "execution_count": 4,
     "metadata": {},
     "output_type": "execute_result"
    }
   ],
   "source": [
    "def get_sb_number(binary_str):\n",
    "    \"\"\"Get SB number from binary pattern usinf database reference\"\"\"\n",
    "    \n",
    "    df = pd.read_csv('../snipgenie/data/Mbovis.org_db.csv')\n",
    "    x = df[df['binary'] == str(binary_str)]\n",
    "    if len(x) == 0:\n",
    "        return \n",
    "    else:\n",
    "        return x.iloc[0].SB\n",
    "\n",
    "get_sb_number('1100101000001110111111111111111111111100000')"
   ]
  },
  {
   "cell_type": "markdown",
   "metadata": {},
   "source": [
    "## test thresholds, reads used"
   ]
  },
  {
   "cell_type": "code",
   "execution_count": 64,
   "metadata": {},
   "outputs": [
    {
     "name": "stdout",
     "output_type": "stream",
     "text": [
      "blastn -out ../snipgenie/data/dr_spacers_blast.txt -outfmt \"6 qseqid sseqid qseq sseq pident qcovs length mismatch gapopen qstart qend sstart send evalue bitscore stitle\" -query ../snipgenie/data/dr_spacers.fa -db temp.fa -evalue 0.1 -max_target_seqs 500000 -num_threads 4 -task blastn\n",
      "1100101000000110111011111011111011111100000\n",
      "0 None\n",
      "blastn -out ../snipgenie/data/dr_spacers_blast.txt -outfmt \"6 qseqid sseqid qseq sseq pident qcovs length mismatch gapopen qstart qend sstart send evalue bitscore stitle\" -query ../snipgenie/data/dr_spacers.fa -db temp.fa -evalue 0.1 -max_target_seqs 500000 -num_threads 4 -task blastn\n",
      "1100101000000110111011111011111011111100000\n",
      "1 None\n",
      "blastn -out ../snipgenie/data/dr_spacers_blast.txt -outfmt \"6 qseqid sseqid qseq sseq pident qcovs length mismatch gapopen qstart qend sstart send evalue bitscore stitle\" -query ../snipgenie/data/dr_spacers.fa -db temp.fa -evalue 0.1 -max_target_seqs 500000 -num_threads 4 -task blastn\n",
      "1000001000000010111010101001111011110100000\n",
      "2 None\n",
      "blastn -out ../snipgenie/data/dr_spacers_blast.txt -outfmt \"6 qseqid sseqid qseq sseq pident qcovs length mismatch gapopen qstart qend sstart send evalue bitscore stitle\" -query ../snipgenie/data/dr_spacers.fa -db temp.fa -evalue 0.1 -max_target_seqs 500000 -num_threads 4 -task blastn\n",
      "1000001000000010101000101000010000010000000\n",
      "3 None\n"
     ]
    }
   ],
   "source": [
    "for t in range(0,4):\n",
    "    b = get_spoligotype('/storage/btbgenie/mbovis_ireland/Wicklow/Fastqs_09-07-18/36-MBovis_S38_L001-4_R1_001.fastq.gz', threshold=t)\n",
    "    print (t,get_sb_number(b))"
   ]
  },
  {
   "cell_type": "code",
   "execution_count": 6,
   "metadata": {},
   "outputs": [
    {
     "name": "stdout",
     "output_type": "stream",
     "text": [
      "blastn -out ../snipgenie/data/dr_spacers_blast.txt -outfmt \"6 qseqid sseqid qseq sseq pident qcovs length mismatch gapopen qstart qend sstart send evalue bitscore stitle\" -query ../snipgenie/data/dr_spacers.fa -db temp.fa -evalue 0.1 -max_target_seqs 500000 -num_threads 4 -task blastn\n",
      "1100101000000010011111111101111111011100000\n",
      "/storage/btbgenie/mbovis_ireland/Wicklow/Fastqs_07-01-18/17-MBovis_S21_L001-4_R1_001.fastq.gz None\n",
      "blastn -out ../snipgenie/data/dr_spacers_blast.txt -outfmt \"6 qseqid sseqid qseq sseq pident qcovs length mismatch gapopen qstart qend sstart send evalue bitscore stitle\" -query ../snipgenie/data/dr_spacers.fa -db temp.fa -evalue 0.1 -max_target_seqs 500000 -num_threads 4 -task blastn\n",
      "1100001000001100011010111111111111000100000\n",
      "/storage/btbgenie/mbovis_ireland/Wicklow/Fastqs_07-01-18/26-MBovis_S43_L001-4_R1_001.fastq.gz None\n",
      "blastn -out ../snipgenie/data/dr_spacers_blast.txt -outfmt \"6 qseqid sseqid qseq sseq pident qcovs length mismatch gapopen qstart qend sstart send evalue bitscore stitle\" -query ../snipgenie/data/dr_spacers.fa -db temp.fa -evalue 0.1 -max_target_seqs 500000 -num_threads 4 -task blastn\n",
      "1100001000000110110110111100110111111000000\n",
      "/storage/btbgenie/mbovis_ireland/Wicklow/Fastqs_07-01-18/19-MBovis_S32_L001-4_R1_001.fastq.gz None\n",
      "blastn -out ../snipgenie/data/dr_spacers_blast.txt -outfmt \"6 qseqid sseqid qseq sseq pident qcovs length mismatch gapopen qstart qend sstart send evalue bitscore stitle\" -query ../snipgenie/data/dr_spacers.fa -db temp.fa -evalue 0.1 -max_target_seqs 500000 -num_threads 4 -task blastn\n",
      "1100001000001110101101111111101110011000000\n",
      "/storage/btbgenie/mbovis_ireland/Wicklow/Fastqs_07-01-18/17-MBovis_S21_L001-4_R2_001.fastq.gz None\n",
      "blastn -out ../snipgenie/data/dr_spacers_blast.txt -outfmt \"6 qseqid sseqid qseq sseq pident qcovs length mismatch gapopen qstart qend sstart send evalue bitscore stitle\" -query ../snipgenie/data/dr_spacers.fa -db temp.fa -evalue 0.1 -max_target_seqs 500000 -num_threads 4 -task blastn\n",
      "1100001000000100101100111111111100011100000\n",
      "/storage/btbgenie/mbovis_ireland/Wicklow/Fastqs_07-01-18/19-MBovis_S32_L001-4_R2_001.fastq.gz None\n",
      "blastn -out ../snipgenie/data/dr_spacers_blast.txt -outfmt \"6 qseqid sseqid qseq sseq pident qcovs length mismatch gapopen qstart qend sstart send evalue bitscore stitle\" -query ../snipgenie/data/dr_spacers.fa -db temp.fa -evalue 0.1 -max_target_seqs 500000 -num_threads 4 -task blastn\n",
      "1100101000001110011000111111000111110000000\n",
      "/storage/btbgenie/mbovis_ireland/Wicklow/Fastqs_07-01-18/26-MBovis_S43_L001-4_R2_001.fastq.gz None\n"
     ]
    }
   ],
   "source": [
    "res=[]\n",
    "for f in files:\n",
    "    s = get_spoligotype(f, threshold=0)\n",
    "    sb = get_sb_number(s)\n",
    "    print (f, sb)\n",
    "    res.append([f,sb])    "
   ]
  },
  {
   "cell_type": "code",
   "execution_count": null,
   "metadata": {},
   "outputs": [],
   "source": []
  }
 ],
 "metadata": {
  "kernelspec": {
   "display_name": "Python 3",
   "language": "python",
   "name": "python3"
  },
  "language_info": {
   "codemirror_mode": {
    "name": "ipython",
    "version": 3
   },
   "file_extension": ".py",
   "mimetype": "text/x-python",
   "name": "python",
   "nbconvert_exporter": "python",
   "pygments_lexer": "ipython3",
   "version": "3.9.5"
  }
 },
 "nbformat": 4,
 "nbformat_minor": 4
}
