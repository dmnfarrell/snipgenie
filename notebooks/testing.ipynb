{
 "cells": [
  {
   "cell_type": "markdown",
   "metadata": {},
   "source": [
    "## snipgenie testing notebook\n",
    "\n",
    "Updated files can be found here: https://github.com/dmnfarrell/gordon-group/tree/master/mbovis_annotation\n",
    "\n",
    "links:\n",
    "\n",
    "* https://github.com/JosephCrispell/GeneralTools/tree/master/ProcessingPipeline\n",
    "* [Woodchester Park eLife paper](https://elifesciences.org/articles/45833)\n",
    "* [An African origin for Mycobacterium bovis](https://academic.oup.com/emph/article/2020/1/49/5719036)\n",
    "* http://www.htslib.org/doc/bcftools.html\n",
    "* https://mtbgenomicsworkshop.readthedocs.io/\n",
    "* [BCFtools cheat sheet](https://gist.github.com/elowy01/93922762e131d7abd3c7e8e166a74a0b)\n",
    "* https://biopython.org/wiki/Category:Cookbook\n",
    "* https://pyvcf.readthedocs.io/en/v0.4.6/INTRO.html\n",
    "* https://gatkforums.broadinstitute.org/gatk/discussion/1268/what-is-a-vcf-and-how-should-i-interpret-it"
   ]
  },
  {
   "cell_type": "code",
   "execution_count": 2,
   "metadata": {},
   "outputs": [],
   "source": [
    "import sys,os,shutil,subprocess\n",
    "import random\n",
    "import glob, time\n",
    "from importlib import reload\n",
    "import numpy as np\n",
    "import pandas as pd\n",
    "pd.set_option('display.width', 200)\n",
    "import pylab as plt\n",
    "from Bio import SeqIO\n",
    "from Bio.Seq import Seq\n",
    "from Bio.SeqRecord import SeqRecord\n",
    "from gzip import open as gzopen\n",
    "sys.path.append('pathogenie')\n",
    "from snipgenie import tools, aligners, app, trees, plotting\n",
    "#from matplotlib_venn import venn2"
   ]
  },
  {
   "cell_type": "markdown",
   "metadata": {},
   "source": [
    "## Mbovis samples from SRA"
   ]
  },
  {
   "cell_type": "code",
   "execution_count": 2,
   "metadata": {},
   "outputs": [],
   "source": [
    "sra = pd.read_csv('../sra_mbovis_runtable.csv')"
   ]
  },
  {
   "cell_type": "markdown",
   "metadata": {},
   "source": [
    "## Get master table with Loiseau et al. meta data¶"
   ]
  },
  {
   "cell_type": "code",
   "execution_count": 3,
   "metadata": {},
   "outputs": [],
   "source": [
    "df = pd.read_excel('../Loiseau_TableS1.xlsx')\n",
    "master = pd.merge(df,sra,left_on='BIOSAMPLE',right_on='BioSample',how='inner')\n",
    "master.to_csv('../mbovis_sra_master.csv',index=False)\n",
    "cols = ['Run','CLONAL_COMPLEX','COUNTRY_ISOLATION','LibraryLayout','Host','ReleaseDate','Bytes','Bases','GENOME_COVERAGE']\n",
    "#master.columns\n",
    "#master.geo_loc_name_country.value_counts()"
   ]
  },
  {
   "cell_type": "markdown",
   "metadata": {},
   "source": [
    "## Representative samples of lineages"
   ]
  },
  {
   "cell_type": "code",
   "execution_count": 4,
   "metadata": {},
   "outputs": [
    {
     "name": "stdout",
     "output_type": "stream",
     "text": [
      "             Run CLONAL_COMPLEX COUNTRY_ISOLATION LibraryLayout        Host           ReleaseDate        Bytes        Bases  GENOME_COVERAGE\n",
      "36     ERR841808            Eu1                UK        PAIRED         Cow  2015-12-02T00:00:00Z  130651179.0  196040478.0            39.78\n",
      "245   SRR5216872            Eu1       New Zealand        PAIRED      BOVINE  2017-01-31T00:00:00Z  194523112.0  295803584.0            41.39\n",
      "464   SRR5486071       Unknown2          Ethiopia        PAIRED  Bos taurus  2017-04-28T00:00:00Z  251875435.0  445066100.0            50.71\n",
      "677    ERR125601            Eu1           Ireland        PAIRED         NaN  2012-10-01T00:00:00Z  277182504.0  346340680.0            68.83\n",
      "765   ERR2815558            Af1               NaN        PAIRED         NaN  2018-09-29T00:00:00Z  162711425.0  367702705.0            67.64\n",
      "886   SRR1791768            Eu2            Canada        PAIRED      Cattle  2015-03-11T00:00:00Z  340596851.0  450406275.0            37.69\n",
      "1076  SRR1791960            Eu2            Mexico        PAIRED      Cattle  2015-03-11T00:00:00Z  234700051.0  344439293.0            38.20\n",
      "1118  SRR1792002            Eu2               USA        PAIRED      Cattle  2015-03-11T00:00:00Z  155793754.0  221710448.0            37.69\n",
      "2577  SRR8065079            Af2            Uganda        PAIRED  Bos taurus  2018-12-01T00:00:00Z  149270806.0  248725188.0            32.01\n",
      "2597  SRR8063654            Af2          Ethiopia        PAIRED  Bos taurus  2018-12-01T00:00:00Z  128374182.0  220964011.0            25.87\n",
      "2608  SRR8063665            Af2          Ethiopia        PAIRED  Bos taurus  2018-12-01T00:00:00Z  127610605.0  219741248.0            27.41\n"
     ]
    }
   ],
   "source": [
    "sub=master[(master.LibraryLayout=='PAIRED') & (master.COUNTRY_ISOLATION.notnull()) & (master.CLONAL_COMPLEX=='Eu2')]\n",
    "#print (sub[cols])\n",
    "#sub[cols].to_csv('../temp.csv')\n",
    "accessions=['SRR1792002','SRR5216872','SRR5486071','ERR841808','ERR125601',\n",
    "            'SRR8063654','SRR8063665','SRR8065079','SRR1791768','SRR1791960','ERR2815558']\n",
    "testset = master[master.Run.isin(accessions)]\n",
    "print (testset[cols])"
   ]
  },
  {
   "cell_type": "code",
   "execution_count": null,
   "metadata": {},
   "outputs": [],
   "source": [
    "# fetch from SRA\n",
    "def fetch_sra_reads(df,path):\n",
    "    \"\"\"download a subset of reads \"\"\"\n",
    "    \n",
    "    for i,r in df.iterrows():\n",
    "        files = glob.glob(os.path.join(path,r.Run+'*'))        \n",
    "        if len(files)==0:\n",
    "            cmd = 'fastq-dump --split-files {n} --outdir {o}'.format(n=r.Run,o=path)\n",
    "            print (cmd)\n",
    "            subprocess.check_output(cmd,shell=True)\n",
    "\n",
    "fetch_sra_reads(testset,path='/storage/btbgenie/mbovis_sra')"
   ]
  },
  {
   "cell_type": "markdown",
   "metadata": {},
   "source": [
    "## Blasting to known contaminants\n",
    "\n",
    "* https://bmcbioinformatics.biomedcentral.com/articles/10.1186/s12859-019-2684-x#Sec2"
   ]
  },
  {
   "cell_type": "code",
   "execution_count": null,
   "metadata": {},
   "outputs": [],
   "source": [
    "#get unmapped reads from a bam file\n",
    "\n",
    "infile='mapped/3_S57_L001.bam'\n",
    "cmd = 'samtools view -b -f 4 {i} > unmapped.bam'.format(i=infile)\n",
    "print (cmd)\n",
    "#align with bwa to known index of contaminants\n"
   ]
  },
  {
   "cell_type": "markdown",
   "metadata": {},
   "source": [
    "## Examine FASTQ file quality and define trimming parameters"
   ]
  },
  {
   "cell_type": "code",
   "execution_count": null,
   "metadata": {},
   "outputs": [],
   "source": [
    "reload(tools)\n",
    "\n",
    "df = tools.fastq_to_dataframe(testfile)\n",
    "df.length.hist()"
   ]
  },
  {
   "cell_type": "code",
   "execution_count": null,
   "metadata": {},
   "outputs": [],
   "source": [
    "def trim_reads_default(filename, outfile, right_quality=30):\n",
    "    \"\"\"Trim adapters\"\"\"\n",
    "        \n",
    "    fastq_parser = SeqIO.parse(gzopen(filename, \"rt\"), \"fastq\")\n",
    "    c=0\n",
    "    out = gzopen(outfile, \"wt\")\n",
    "    for record in fastq_parser:\n",
    "        score = record.letter_annotations[\"phred_quality\"]         \n",
    "        for i in range(len(score)-1,0,-1):\n",
    "            if score[i] >= right_quality:\n",
    "                break\n",
    "        #trimmed.append(record[:i])\n",
    "        #print (record[:i])        \n",
    "        #c+=1\n",
    "        #if c>100:\n",
    "        #    break    \n",
    "        SeqIO.write(record[:i],out,'fastq')\n",
    "    return\n",
    "\n",
    "testfile = 'mbovis_sra/SRR1791711_1.fastq.gz'\n",
    "st=time.time()\n",
    "trim_reads_default(testfile,'trimmed.fastq.gz')\n",
    "print (time.time()-st)\n",
    "df = tools.fastq_to_dataframe('trimmed.fastq.gz')\n",
    "df.length.hist()"
   ]
  },
  {
   "cell_type": "markdown",
   "metadata": {},
   "source": [
    "## multiprocess trimming"
   ]
  },
  {
   "cell_type": "code",
   "execution_count": null,
   "metadata": {},
   "outputs": [],
   "source": [
    "def split_fastq(filename, chunks=4):\n",
    "    \"\"\"Split fastq file\"\"\"\n",
    "    \n",
    "    names=[]\n",
    "    tmp = '/tmp'\n",
    "    tmpfiles = []\n",
    "    record_iter = SeqIO.parse(gzopen(filename, \"rt\"), \"fastq\")\n",
    "    length = \n",
    "    for i, batch in enumerate(tools.batch_iterator(record_iter, chunksize)):\n",
    "        tempfile = \"group_%i.fastq\" % (i + 1)\n",
    "        tmpfiles.append(tempfile)\n",
    "        names.append(tempfile)\n",
    "        with open(tempfile, \"w\") as handle:\n",
    "            count = SeqIO.write(batch, handle, \"fastq\")\n",
    "        print(\"Wrote %i records to %s\" % (count, tempfile))\n",
    "    return names\n",
    "\n",
    "split_fastq(testfile)"
   ]
  },
  {
   "cell_type": "code",
   "execution_count": null,
   "metadata": {},
   "outputs": [],
   "source": [
    "tools.plot_fastq_qualities(testfile,limit=100000)\n",
    "plt.savefig('fastq_quals.png',dpi=100)\n",
    "tools.plot_fastq_gc_content(testfile, limit=50000)\n",
    "plt.savefig('gc.png',dpi=100)"
   ]
  },
  {
   "cell_type": "markdown",
   "metadata": {},
   "source": [
    "## Get sample ids from fastq files"
   ]
  },
  {
   "cell_type": "code",
   "execution_count": null,
   "metadata": {},
   "outputs": [],
   "source": [
    "path1='/storage/btbgenie/albania'\n",
    "files = glob.glob(os.path.join(path1,'*.fastq.gz'))\n",
    "path2='/storage/btbgenie/mbovis_sra'\n",
    "files = glob.glob(os.path.join(path2,'*.fastq.gz'))\n",
    "#add outgroup file\n",
    "#files.append\n",
    "files = app.get_files_from_paths([path1,path2])\n",
    "\n",
    "df = app.get_samples(files)\n",
    "df"
   ]
  },
  {
   "cell_type": "markdown",
   "metadata": {},
   "source": [
    "## Align the FASTQ files against reference and create VCF files"
   ]
  },
  {
   "cell_type": "code",
   "execution_count": null,
   "metadata": {},
   "outputs": [],
   "source": [
    "reload(aligners)\n",
    "ref = app.mbovis_genome\n",
    "samples = app.get_samples(files)\n",
    "app.align_reads(samples, idx=ref, threads=10, overwrite=False)"
   ]
  },
  {
   "cell_type": "markdown",
   "metadata": {},
   "source": [
    "## remove duplicated reads"
   ]
  },
  {
   "cell_type": "code",
   "execution_count": null,
   "metadata": {},
   "outputs": [],
   "source": [
    "cmd = 'samtools rmdup A_reads.bt2.sorted.bam A_reads.bt2.sorted.noDups.bam'"
   ]
  },
  {
   "cell_type": "markdown",
   "metadata": {},
   "source": [
    "## Keeping unmapped reads\n",
    "\n",
    "https://gist.github.com/davfre/8596159"
   ]
  },
  {
   "cell_type": "code",
   "execution_count": null,
   "metadata": {},
   "outputs": [],
   "source": []
  },
  {
   "cell_type": "markdown",
   "metadata": {},
   "source": [
    "## variant calling"
   ]
  },
  {
   "cell_type": "code",
   "execution_count": 119,
   "metadata": {},
   "outputs": [
    {
     "name": "stdout",
     "output_type": "stream",
     "text": [
      "[      1  434991  869981 1304971 1739962 2174952 2609942 3044933 3479923\n",
      " 3914913 4349904]\n",
      "parallel bcftools mpileup -r {1} -a \"AD,ADF,ADR,DP,SP,INFO/AD,INFO/ADF,INFO/ADR\" -O b  --min-MQ 60 -o {2} -f /home/damien/.config/snpgenie/genome/Mbovis_AF212297.fa mapped/ERR551704.bam mapped/6_S7_L001.bam mapped/3_S57_L001.bam ::: \"LT708304.1\":1-434990 \"LT708304.1\":434991-869980 \"LT708304.1\":869981-1304970 \"LT708304.1\":1304971-1739961 \"LT708304.1\":1739962-2174951 \"LT708304.1\":2174952-2609941 \"LT708304.1\":2609942-3044932 \"LT708304.1\":3044933-3479922 \"LT708304.1\":3479923-3914912 \"LT708304.1\":3914913-4349903 :::+ /tmp/1.bcf /tmp/434991.bcf /tmp/869981.bcf /tmp/1304971.bcf /tmp/1739962.bcf /tmp/2174952.bcf /tmp/2609942.bcf /tmp/3044933.bcf /tmp/3479923.bcf /tmp/3914913.bcf\n",
      "bcftools concat /tmp/1.bcf /tmp/434991.bcf /tmp/869981.bcf /tmp/1304971.bcf /tmp/1739962.bcf /tmp/2174952.bcf /tmp/2609942.bcf /tmp/3044933.bcf /tmp/3479923.bcf /tmp/3914913.bcf -O b -o mapped/raw.bcf\n",
      "bcftools call -V indels --ploidy 1 -m -v -o mapped/calls.vcf mapped/raw.bcf\n",
      "bcftools reheader --samples mapped/samples.txt -o /tmp/calls.vcf mapped/calls.vcf\n",
      "bcftools filter -i \"QUAL>=40 && FORMAT/DP>=30 && DP4>=4 && MQ>30\" -o mapped/filtered.vcf.gz -O z mapped/calls.vcf\n",
      "took 33.0 seconds\n",
      "33.45631980895996\n"
     ]
    }
   ],
   "source": [
    "reload(app)\n",
    "ref = app.mbovis_genome\n",
    "bam_files = glob.glob('mapped/*.bam')\n",
    "st=time.time()\n",
    "vcf_file = app.variant_calling(bam_files, ref, 'mapped', threads=10, overwrite=True)\n",
    "print (time.time()-st)"
   ]
  },
  {
   "cell_type": "markdown",
   "metadata": {},
   "source": [
    "## freebayes calling"
   ]
  },
  {
   "cell_type": "code",
   "execution_count": 204,
   "metadata": {},
   "outputs": [
    {
     "name": "stdout",
     "output_type": "stream",
     "text": [
      "['mapped/ERR551704.bam', 'mapped/6_S7_L001.bam', 'mapped/3_S57_L001.bam']\n",
      "freebayes -p 2 -P 0 -C 2 -F 0.05 --min-coverage 10 --min-repeat-entropy 1.0 -q 40 -m 20 --strict-vcf -f /home/damien/.config/snpgenie/genome/Mbovis_AF212297.fa -L files.txt > mapped/freebayes.vcf\n"
     ]
    }
   ],
   "source": [
    "fbcmd = 'freebayes'\n",
    "\n",
    "ref=app.mbovis_genome\n",
    "bam_files = glob.glob('mapped/*.bam')\n",
    "print (bam_files)\n",
    "out='mapped/freebayes.vcf'\n",
    "cmd = '{fb} -p 2 -P 0 -C 2 -F 0.05 --min-coverage 10'\\\n",
    "         ' --min-repeat-entropy 1.0 -q 40 -m 20 --strict-vcf'\\\n",
    "        ' -f {r} -L files.txt > {o}'.format(r=ref,o=out,fb=fbcmd)        \n",
    "print (cmd)"
   ]
  },
  {
   "cell_type": "code",
   "execution_count": null,
   "metadata": {},
   "outputs": [],
   "source": [
    "v1 = vcf_to_dataframe('result.vcf')\n",
    "print (v1.var_type.value_counts())"
   ]
  },
  {
   "cell_type": "code",
   "execution_count": null,
   "metadata": {},
   "outputs": [],
   "source": [
    "v2 = vcf_to_dataframe('mapped/raw.bcf')\n",
    "print (v2.var_type.value_counts())"
   ]
  },
  {
   "cell_type": "markdown",
   "metadata": {},
   "source": [
    "## filtering\n",
    "\n",
    "```\n",
    "FORMAT/AD   .. Allelic depth (Number=R,Type=Integer)\n",
    "FORMAT/ADF  .. Allelic depths on the forward strand (Number=R,Type=Integer)\n",
    "FORMAT/ADR  .. Allelic depths on the reverse strand (Number=R,Type=Integer)\n",
    "FORMAT/DP   .. Number of high-quality bases (Number=1,Type=Integer)\n",
    "FORMAT/SP   .. Phred-scaled strand bias P-value (Number=1,Type=Integer)\n",
    "FORMAT/SCR  .. Number of soft-clipped reads (Number=1,Type=Integer)\n",
    "\n",
    "INFO/AD     .. Total allelic depth (Number=R,Type=Integer)\n",
    "INFO/ADF    .. Total allelic depths on the forward strand (Number=R,Type=Integer)\n",
    "INFO/ADR    .. Total allelic depths on the reverse strand (Number=R,Type=Integer)\n",
    "INFO/SCR    .. Number of soft-clipped reads (Number=1,Type=Integer)\n",
    "\n",
    "FORMAT/DV   .. Deprecated in favor of FORMAT/AD; Number of high-quality non-reference bases, (Number=1,Type=Integer)\n",
    "FORMAT/DP4  .. Deprecated in favor of FORMAT/ADF and FORMAT/ADR; Number of high-quality ref-forward, ref-reverse,\n",
    "               alt-forward and alt-reverse bases (Number=4,Type=Integer)\n",
    "FORMAT/DPR  .. Deprecated in favor of FORMAT/AD; Number of high-quality bases for each observed allele (Number=R,Type=Integer)\n",
    "INFO/DPR    .. Deprecated in favor of INFO/AD; Number of high-quality bases for each observed allele (Number=R,Type=Integer)\n",
    "```\n",
    "\n",
    "Joe filters: DP - 30, DP4 - 4, MQ - 35, SUP - 0.95 and COV - 0.05. GQ and FQ = 0\n",
    "\n",
    "## Other options\n",
    "\n",
    "```\n",
    "biallelic: -m2 -M2\n",
    "uninformative sites, where the minor allele is present in at least one individual: --min-ac 1:minor\n",
    "```"
   ]
  },
  {
   "cell_type": "code",
   "execution_count": null,
   "metadata": {},
   "outputs": [],
   "source": [
    "import vcf\n",
    "vcf_reader = vcf.Reader(open('mapped/filtered.vcf.gz', 'rb')) \n",
    "for record in vcf_reader:\n",
    "    print (record)\n",
    "    for sample in record.samples:\n",
    "        print (sample)"
   ]
  },
  {
   "cell_type": "code",
   "execution_count": null,
   "metadata": {},
   "outputs": [],
   "source": [
    "cmd = 'bcftools filter -e \"QUAL<=40 && DP>=30 && DP4>=4 && MQ>=35\" -o filtered.vcf.gz -O z mapped/calls.vcf'\n",
    "print (cmd)\n",
    "tmp = subprocess.check_output(cmd,shell=True)\n",
    "v = vcf_to_dataframe('filtered.vcf.gz')\n",
    "v.var_type.value_counts()"
   ]
  },
  {
   "cell_type": "markdown",
   "metadata": {},
   "source": [
    "## consequence calling for vcf"
   ]
  },
  {
   "cell_type": "code",
   "execution_count": 94,
   "metadata": {},
   "outputs": [
    {
     "name": "stdout",
     "output_type": "stream",
     "text": [
      "bcftools csq -f /home/damien/.config/snpgenie/genome/Mbovis_AF212297.fa -g ../snpgenie/data/Mbovis_csq_format.gff mapped/filtered.vcf.gz -Ot -o mapped/csq.tsv\n"
     ]
    }
   ],
   "source": [
    "reload(app)\n",
    "ref=app.mbovis_genome\n",
    "gff = '../snpgenie/data/Mbovis_csq_format.gff'\n",
    "out = 'mapped/csq.tsv'\n",
    "def csq_call():\n",
    "    cmd = 'bcftools csq -f {r} -g {g} mapped/filtered.vcf.gz -Ot -o {o}'.format(r=ref,g=gff,o=out)\n",
    "    print (cmd)\n",
    "    tmp = subprocess.check_output(cmd,shell=True)\n",
    "    \n",
    "csq_call()"
   ]
  },
  {
   "cell_type": "code",
   "execution_count": null,
   "metadata": {},
   "outputs": [],
   "source": [
    "reload(app)\n",
    "def read_csq_file(filename):\n",
    "    cols = ['1','filename','2','chrom','start','snp_type','gene','locus_tag','strand','feature_type','aa','nuc',]\n",
    "    csqdf = pd.read_csv(filename,sep='[|\\t]',comment='#',names=cols, engine='python')\n",
    "    return csqdf\n",
    "csq = read_csq_file('csqout.tsv')\n",
    "csq"
   ]
  },
  {
   "cell_type": "code",
   "execution_count": 5,
   "metadata": {},
   "outputs": [],
   "source": [
    "def vcf_to_dataframe(vcf_file):\n",
    "    \"\"\"\n",
    "    Convert a multi sample vcf to dataframe. Records each samples FORMAT fields.\n",
    "    Args:\n",
    "        vcf_file: input multi sample vcf\n",
    "    Returns: pandas DataFrame\n",
    "    \"\"\"\n",
    "\n",
    "    import vcf\n",
    "    ext = os.path.splitext(vcf_file)[1]\n",
    "    if ext == '.gz':\n",
    "        file = gzopen(vcf_file, \"rt\")\n",
    "    else:\n",
    "        file = open(vcf_file)\n",
    "    vcf_reader = vcf.Reader(file,'r')\n",
    "    res=[]\n",
    "    cols = ['sample','REF','ALT','mut','DP','ADF','ADR','AD','chrom','var_type',\n",
    "            'sub_type','start','end','QUAL']\n",
    "    i=0\n",
    "    for rec in vcf_reader:\n",
    "        #if i>50:\n",
    "        #    break\n",
    "        x = [rec.CHROM, rec.var_type, rec.var_subtype, rec.start, rec.end, rec.QUAL]\n",
    "        for sample in rec.samples:\n",
    "            if sample.gt_bases == None:\n",
    "                mut=''\n",
    "                row = [sample.sample, rec.REF, sample.gt_bases, mut, 0,0,0,0]\n",
    "            elif rec.REF != sample.gt_bases:\n",
    "                mut = str(rec.end)+rec.REF+'>'+sample.gt_bases\n",
    "                cdata = sample.data\n",
    "                row = [sample.sample, rec.REF, sample.gt_bases, mut, cdata[2], cdata[4] ,cdata[5], cdata[6]] + x\n",
    "            else:\n",
    "                mut = str(rec.end)+rec.REF\n",
    "                #inf = sample.site.INFO\n",
    "                cdata = sample.data\n",
    "                row = [sample.sample, rec.REF, sample.gt_bases, mut, cdata[2], cdata[4] ,cdata[5], cdata[6]] + x\n",
    "\n",
    "            res.append(row)\n",
    "    res = pd.DataFrame(res,columns=cols)\n",
    "    res = res[~res.start.isnull()]\n",
    "    #res['start'] = res.start.astype(int)\n",
    "    #res['end'] = res.end.astype(int)\n",
    "    return res\n"
   ]
  },
  {
   "cell_type": "markdown",
   "metadata": {},
   "source": [
    "## test filters\n",
    "\n",
    "* https://samtools.github.io/bcftools/howtos/filtering.html"
   ]
  },
  {
   "cell_type": "code",
   "execution_count": 6,
   "metadata": {},
   "outputs": [
    {
     "data": {
      "text/html": [
       "<div>\n",
       "<style scoped>\n",
       "    .dataframe tbody tr th:only-of-type {\n",
       "        vertical-align: middle;\n",
       "    }\n",
       "\n",
       "    .dataframe tbody tr th {\n",
       "        vertical-align: top;\n",
       "    }\n",
       "\n",
       "    .dataframe thead th {\n",
       "        text-align: right;\n",
       "    }\n",
       "</style>\n",
       "<table border=\"1\" class=\"dataframe\">\n",
       "  <thead>\n",
       "    <tr style=\"text-align: right;\">\n",
       "      <th></th>\n",
       "      <th>sample</th>\n",
       "      <th>REF</th>\n",
       "      <th>ALT</th>\n",
       "      <th>mut</th>\n",
       "      <th>DP</th>\n",
       "      <th>ADF</th>\n",
       "      <th>ADR</th>\n",
       "      <th>AD</th>\n",
       "      <th>chrom</th>\n",
       "      <th>var_type</th>\n",
       "      <th>sub_type</th>\n",
       "      <th>start</th>\n",
       "      <th>end</th>\n",
       "      <th>QUAL</th>\n",
       "    </tr>\n",
       "  </thead>\n",
       "  <tbody>\n",
       "    <tr>\n",
       "      <th>0</th>\n",
       "      <td>13-11594</td>\n",
       "      <td>A</td>\n",
       "      <td>G</td>\n",
       "      <td>1057A&gt;G</td>\n",
       "      <td>78</td>\n",
       "      <td>[0, 44]</td>\n",
       "      <td>[0, 33]</td>\n",
       "      <td>[0, 77]</td>\n",
       "      <td>LT708304.1</td>\n",
       "      <td>snp</td>\n",
       "      <td>ts</td>\n",
       "      <td>1056.0</td>\n",
       "      <td>1057.0</td>\n",
       "      <td>999.0</td>\n",
       "    </tr>\n",
       "    <tr>\n",
       "      <th>1</th>\n",
       "      <td>14-MBovis</td>\n",
       "      <td>A</td>\n",
       "      <td>G</td>\n",
       "      <td>1057A&gt;G</td>\n",
       "      <td>114</td>\n",
       "      <td>[1, 67]</td>\n",
       "      <td>[0, 46]</td>\n",
       "      <td>[1, 113]</td>\n",
       "      <td>LT708304.1</td>\n",
       "      <td>snp</td>\n",
       "      <td>ts</td>\n",
       "      <td>1056.0</td>\n",
       "      <td>1057.0</td>\n",
       "      <td>999.0</td>\n",
       "    </tr>\n",
       "    <tr>\n",
       "      <th>2</th>\n",
       "      <td>15-11643</td>\n",
       "      <td>A</td>\n",
       "      <td>G</td>\n",
       "      <td>1057A&gt;G</td>\n",
       "      <td>96</td>\n",
       "      <td>[0, 57]</td>\n",
       "      <td>[0, 39]</td>\n",
       "      <td>[0, 96]</td>\n",
       "      <td>LT708304.1</td>\n",
       "      <td>snp</td>\n",
       "      <td>ts</td>\n",
       "      <td>1056.0</td>\n",
       "      <td>1057.0</td>\n",
       "      <td>999.0</td>\n",
       "    </tr>\n",
       "    <tr>\n",
       "      <th>3</th>\n",
       "      <td>17-11662</td>\n",
       "      <td>A</td>\n",
       "      <td>G</td>\n",
       "      <td>1057A&gt;G</td>\n",
       "      <td>98</td>\n",
       "      <td>[0, 59]</td>\n",
       "      <td>[0, 39]</td>\n",
       "      <td>[0, 98]</td>\n",
       "      <td>LT708304.1</td>\n",
       "      <td>snp</td>\n",
       "      <td>ts</td>\n",
       "      <td>1056.0</td>\n",
       "      <td>1057.0</td>\n",
       "      <td>999.0</td>\n",
       "    </tr>\n",
       "    <tr>\n",
       "      <th>4</th>\n",
       "      <td>17-MBovis</td>\n",
       "      <td>A</td>\n",
       "      <td>G</td>\n",
       "      <td>1057A&gt;G</td>\n",
       "      <td>64</td>\n",
       "      <td>[0, 34]</td>\n",
       "      <td>[0, 30]</td>\n",
       "      <td>[0, 64]</td>\n",
       "      <td>LT708304.1</td>\n",
       "      <td>snp</td>\n",
       "      <td>ts</td>\n",
       "      <td>1056.0</td>\n",
       "      <td>1057.0</td>\n",
       "      <td>999.0</td>\n",
       "    </tr>\n",
       "    <tr>\n",
       "      <th>...</th>\n",
       "      <td>...</td>\n",
       "      <td>...</td>\n",
       "      <td>...</td>\n",
       "      <td>...</td>\n",
       "      <td>...</td>\n",
       "      <td>...</td>\n",
       "      <td>...</td>\n",
       "      <td>...</td>\n",
       "      <td>...</td>\n",
       "      <td>...</td>\n",
       "      <td>...</td>\n",
       "      <td>...</td>\n",
       "      <td>...</td>\n",
       "      <td>...</td>\n",
       "    </tr>\n",
       "    <tr>\n",
       "      <th>16325</th>\n",
       "      <td>55-4348</td>\n",
       "      <td>G</td>\n",
       "      <td>A</td>\n",
       "      <td>4346083G&gt;A</td>\n",
       "      <td>101</td>\n",
       "      <td>[0, 66]</td>\n",
       "      <td>[0, 35]</td>\n",
       "      <td>[0, 101]</td>\n",
       "      <td>LT708304.1</td>\n",
       "      <td>snp</td>\n",
       "      <td>ts</td>\n",
       "      <td>4346082.0</td>\n",
       "      <td>4346083.0</td>\n",
       "      <td>211.0</td>\n",
       "    </tr>\n",
       "    <tr>\n",
       "      <th>16326</th>\n",
       "      <td>56-MBovis</td>\n",
       "      <td>G</td>\n",
       "      <td>G</td>\n",
       "      <td>4346083G</td>\n",
       "      <td>121</td>\n",
       "      <td>[63, 0]</td>\n",
       "      <td>[58, 0]</td>\n",
       "      <td>[121, 0]</td>\n",
       "      <td>LT708304.1</td>\n",
       "      <td>snp</td>\n",
       "      <td>ts</td>\n",
       "      <td>4346082.0</td>\n",
       "      <td>4346083.0</td>\n",
       "      <td>211.0</td>\n",
       "    </tr>\n",
       "    <tr>\n",
       "      <th>16327</th>\n",
       "      <td>59-6110</td>\n",
       "      <td>G</td>\n",
       "      <td>G</td>\n",
       "      <td>4346083G</td>\n",
       "      <td>98</td>\n",
       "      <td>[50, 0]</td>\n",
       "      <td>[44, 0]</td>\n",
       "      <td>[94, 0]</td>\n",
       "      <td>LT708304.1</td>\n",
       "      <td>snp</td>\n",
       "      <td>ts</td>\n",
       "      <td>4346082.0</td>\n",
       "      <td>4346083.0</td>\n",
       "      <td>211.0</td>\n",
       "    </tr>\n",
       "    <tr>\n",
       "      <th>16328</th>\n",
       "      <td>59-MBovis</td>\n",
       "      <td>G</td>\n",
       "      <td>G</td>\n",
       "      <td>4346083G</td>\n",
       "      <td>134</td>\n",
       "      <td>[73, 0]</td>\n",
       "      <td>[61, 0]</td>\n",
       "      <td>[134, 0]</td>\n",
       "      <td>LT708304.1</td>\n",
       "      <td>snp</td>\n",
       "      <td>ts</td>\n",
       "      <td>4346082.0</td>\n",
       "      <td>4346083.0</td>\n",
       "      <td>211.0</td>\n",
       "    </tr>\n",
       "    <tr>\n",
       "      <th>16329</th>\n",
       "      <td>7-10423</td>\n",
       "      <td>G</td>\n",
       "      <td>G</td>\n",
       "      <td>4346083G</td>\n",
       "      <td>110</td>\n",
       "      <td>[56, 0]</td>\n",
       "      <td>[54, 0]</td>\n",
       "      <td>[110, 0]</td>\n",
       "      <td>LT708304.1</td>\n",
       "      <td>snp</td>\n",
       "      <td>ts</td>\n",
       "      <td>4346082.0</td>\n",
       "      <td>4346083.0</td>\n",
       "      <td>211.0</td>\n",
       "    </tr>\n",
       "  </tbody>\n",
       "</table>\n",
       "<p>14310 rows × 14 columns</p>\n",
       "</div>"
      ],
      "text/plain": [
       "          sample REF ALT         mut   DP      ADF      ADR        AD       chrom var_type sub_type      start        end   QUAL\n",
       "0       13-11594   A   G     1057A>G   78  [0, 44]  [0, 33]   [0, 77]  LT708304.1      snp       ts     1056.0     1057.0  999.0\n",
       "1      14-MBovis   A   G     1057A>G  114  [1, 67]  [0, 46]  [1, 113]  LT708304.1      snp       ts     1056.0     1057.0  999.0\n",
       "2       15-11643   A   G     1057A>G   96  [0, 57]  [0, 39]   [0, 96]  LT708304.1      snp       ts     1056.0     1057.0  999.0\n",
       "3       17-11662   A   G     1057A>G   98  [0, 59]  [0, 39]   [0, 98]  LT708304.1      snp       ts     1056.0     1057.0  999.0\n",
       "4      17-MBovis   A   G     1057A>G   64  [0, 34]  [0, 30]   [0, 64]  LT708304.1      snp       ts     1056.0     1057.0  999.0\n",
       "...          ...  ..  ..         ...  ...      ...      ...       ...         ...      ...      ...        ...        ...    ...\n",
       "16325    55-4348   G   A  4346083G>A  101  [0, 66]  [0, 35]  [0, 101]  LT708304.1      snp       ts  4346082.0  4346083.0  211.0\n",
       "16326  56-MBovis   G   G    4346083G  121  [63, 0]  [58, 0]  [121, 0]  LT708304.1      snp       ts  4346082.0  4346083.0  211.0\n",
       "16327    59-6110   G   G    4346083G   98  [50, 0]  [44, 0]   [94, 0]  LT708304.1      snp       ts  4346082.0  4346083.0  211.0\n",
       "16328  59-MBovis   G   G    4346083G  134  [73, 0]  [61, 0]  [134, 0]  LT708304.1      snp       ts  4346082.0  4346083.0  211.0\n",
       "16329    7-10423   G   G    4346083G  110  [56, 0]  [54, 0]  [110, 0]  LT708304.1      snp       ts  4346082.0  4346083.0  211.0\n",
       "\n",
       "[14310 rows x 14 columns]"
      ]
     },
     "execution_count": 6,
     "metadata": {},
     "output_type": "execute_result"
    }
   ],
   "source": [
    "vdf = vcf_to_dataframe('test.vcf')\n",
    "vdf"
   ]
  },
  {
   "cell_type": "code",
   "execution_count": null,
   "metadata": {},
   "outputs": [],
   "source": [
    "print (vdf[vdf.end==2839071])"
   ]
  },
  {
   "cell_type": "code",
   "execution_count": 24,
   "metadata": {},
   "outputs": [
    {
     "data": {
      "text/html": [
       "<div>\n",
       "<style scoped>\n",
       "    .dataframe tbody tr th:only-of-type {\n",
       "        vertical-align: middle;\n",
       "    }\n",
       "\n",
       "    .dataframe tbody tr th {\n",
       "        vertical-align: top;\n",
       "    }\n",
       "\n",
       "    .dataframe thead th {\n",
       "        text-align: right;\n",
       "    }\n",
       "</style>\n",
       "<table border=\"1\" class=\"dataframe\">\n",
       "  <thead>\n",
       "    <tr style=\"text-align: right;\">\n",
       "      <th></th>\n",
       "      <th>DP</th>\n",
       "    </tr>\n",
       "    <tr>\n",
       "      <th>end</th>\n",
       "      <th></th>\n",
       "    </tr>\n",
       "  </thead>\n",
       "  <tbody>\n",
       "    <tr>\n",
       "      <th>2799843.0</th>\n",
       "      <td>1</td>\n",
       "    </tr>\n",
       "    <tr>\n",
       "      <th>3673622.0</th>\n",
       "      <td>1</td>\n",
       "    </tr>\n",
       "    <tr>\n",
       "      <th>3673605.0</th>\n",
       "      <td>1</td>\n",
       "    </tr>\n",
       "    <tr>\n",
       "      <th>2799853.0</th>\n",
       "      <td>1</td>\n",
       "    </tr>\n",
       "    <tr>\n",
       "      <th>3488356.0</th>\n",
       "      <td>1</td>\n",
       "    </tr>\n",
       "    <tr>\n",
       "      <th>...</th>\n",
       "      <td>...</td>\n",
       "    </tr>\n",
       "    <tr>\n",
       "      <th>102980.0</th>\n",
       "      <td>6262</td>\n",
       "    </tr>\n",
       "    <tr>\n",
       "      <th>67098.0</th>\n",
       "      <td>6276</td>\n",
       "    </tr>\n",
       "    <tr>\n",
       "      <th>2592710.0</th>\n",
       "      <td>6704</td>\n",
       "    </tr>\n",
       "    <tr>\n",
       "      <th>193147.0</th>\n",
       "      <td>6773</td>\n",
       "    </tr>\n",
       "    <tr>\n",
       "      <th>3577163.0</th>\n",
       "      <td>7084</td>\n",
       "    </tr>\n",
       "  </tbody>\n",
       "</table>\n",
       "<p>355 rows × 1 columns</p>\n",
       "</div>"
      ],
      "text/plain": [
       "             DP\n",
       "end            \n",
       "2799843.0     1\n",
       "3673622.0     1\n",
       "3673605.0     1\n",
       "2799853.0     1\n",
       "3488356.0     1\n",
       "...         ...\n",
       "102980.0   6262\n",
       "67098.0    6276\n",
       "2592710.0  6704\n",
       "193147.0   6773\n",
       "3577163.0  7084\n",
       "\n",
       "[355 rows x 1 columns]"
      ]
     },
     "execution_count": 24,
     "metadata": {},
     "output_type": "execute_result"
    }
   ],
   "source": [
    "vdf.groupby('end').agg({'DP':sum}).sort_values(by='DP')"
   ]
  },
  {
   "cell_type": "code",
   "execution_count": null,
   "metadata": {},
   "outputs": [],
   "source": [
    "u = vdf.drop_duplicates(['sample','mut']).set_index(['mut','sample'])['ALT'].unstack('sample')\n",
    "u[:30]"
   ]
  },
  {
   "cell_type": "code",
   "execution_count": 55,
   "metadata": {},
   "outputs": [
    {
     "data": {
      "text/html": [
       "<div>\n",
       "<style scoped>\n",
       "    .dataframe tbody tr th:only-of-type {\n",
       "        vertical-align: middle;\n",
       "    }\n",
       "\n",
       "    .dataframe tbody tr th {\n",
       "        vertical-align: top;\n",
       "    }\n",
       "\n",
       "    .dataframe thead th {\n",
       "        text-align: right;\n",
       "    }\n",
       "</style>\n",
       "<table border=\"1\" class=\"dataframe\">\n",
       "  <thead>\n",
       "    <tr style=\"text-align: right;\">\n",
       "      <th></th>\n",
       "      <th>sample</th>\n",
       "      <th>REF</th>\n",
       "      <th>ALT</th>\n",
       "      <th>mut</th>\n",
       "      <th>DP</th>\n",
       "      <th>ADF</th>\n",
       "      <th>ADR</th>\n",
       "      <th>AD</th>\n",
       "      <th>chrom</th>\n",
       "      <th>var_type</th>\n",
       "      <th>sub_type</th>\n",
       "      <th>start</th>\n",
       "      <th>end</th>\n",
       "      <th>QUAL</th>\n",
       "    </tr>\n",
       "  </thead>\n",
       "  <tbody>\n",
       "    <tr>\n",
       "      <th>5290</th>\n",
       "      <td>13-11594</td>\n",
       "      <td>C</td>\n",
       "      <td>G</td>\n",
       "      <td>2839071C&gt;G</td>\n",
       "      <td>11</td>\n",
       "      <td>[0, 8]</td>\n",
       "      <td>[1, 1]</td>\n",
       "      <td>[1, 9]</td>\n",
       "      <td>LT708304.1</td>\n",
       "      <td>snp</td>\n",
       "      <td>tv</td>\n",
       "      <td>2839070.0</td>\n",
       "      <td>2839071.0</td>\n",
       "      <td>999.0</td>\n",
       "    </tr>\n",
       "    <tr>\n",
       "      <th>5291</th>\n",
       "      <td>14-MBovis</td>\n",
       "      <td>C</td>\n",
       "      <td>G</td>\n",
       "      <td>2839071C&gt;G</td>\n",
       "      <td>12</td>\n",
       "      <td>[0, 9]</td>\n",
       "      <td>[0, 3]</td>\n",
       "      <td>[0, 12]</td>\n",
       "      <td>LT708304.1</td>\n",
       "      <td>snp</td>\n",
       "      <td>tv</td>\n",
       "      <td>2839070.0</td>\n",
       "      <td>2839071.0</td>\n",
       "      <td>999.0</td>\n",
       "    </tr>\n",
       "    <tr>\n",
       "      <th>5292</th>\n",
       "      <td>15-11643</td>\n",
       "      <td>C</td>\n",
       "      <td>G</td>\n",
       "      <td>2839071C&gt;G</td>\n",
       "      <td>23</td>\n",
       "      <td>[0, 13]</td>\n",
       "      <td>[0, 10]</td>\n",
       "      <td>[0, 23]</td>\n",
       "      <td>LT708304.1</td>\n",
       "      <td>snp</td>\n",
       "      <td>tv</td>\n",
       "      <td>2839070.0</td>\n",
       "      <td>2839071.0</td>\n",
       "      <td>999.0</td>\n",
       "    </tr>\n",
       "    <tr>\n",
       "      <th>5293</th>\n",
       "      <td>17-11662</td>\n",
       "      <td>C</td>\n",
       "      <td>G</td>\n",
       "      <td>2839071C&gt;G</td>\n",
       "      <td>6</td>\n",
       "      <td>[1, 1]</td>\n",
       "      <td>[0, 4]</td>\n",
       "      <td>[1, 5]</td>\n",
       "      <td>LT708304.1</td>\n",
       "      <td>snp</td>\n",
       "      <td>tv</td>\n",
       "      <td>2839070.0</td>\n",
       "      <td>2839071.0</td>\n",
       "      <td>999.0</td>\n",
       "    </tr>\n",
       "    <tr>\n",
       "      <th>5294</th>\n",
       "      <td>17-MBovis</td>\n",
       "      <td>C</td>\n",
       "      <td>G</td>\n",
       "      <td>2839071C&gt;G</td>\n",
       "      <td>2</td>\n",
       "      <td>[0, 2]</td>\n",
       "      <td>[0, 0]</td>\n",
       "      <td>[0, 2]</td>\n",
       "      <td>LT708304.1</td>\n",
       "      <td>snp</td>\n",
       "      <td>tv</td>\n",
       "      <td>2839070.0</td>\n",
       "      <td>2839071.0</td>\n",
       "      <td>999.0</td>\n",
       "    </tr>\n",
       "    <tr>\n",
       "      <th>5295</th>\n",
       "      <td>182-MBovis</td>\n",
       "      <td>C</td>\n",
       "      <td>C</td>\n",
       "      <td>2839071C</td>\n",
       "      <td>104</td>\n",
       "      <td>[67, 0]</td>\n",
       "      <td>[37, 0]</td>\n",
       "      <td>[104, 0]</td>\n",
       "      <td>LT708304.1</td>\n",
       "      <td>snp</td>\n",
       "      <td>tv</td>\n",
       "      <td>2839070.0</td>\n",
       "      <td>2839071.0</td>\n",
       "      <td>999.0</td>\n",
       "    </tr>\n",
       "    <tr>\n",
       "      <th>5296</th>\n",
       "      <td>19-11957</td>\n",
       "      <td>C</td>\n",
       "      <td>G</td>\n",
       "      <td>2839071C&gt;G</td>\n",
       "      <td>8</td>\n",
       "      <td>[0, 6]</td>\n",
       "      <td>[0, 2]</td>\n",
       "      <td>[0, 8]</td>\n",
       "      <td>LT708304.1</td>\n",
       "      <td>snp</td>\n",
       "      <td>tv</td>\n",
       "      <td>2839070.0</td>\n",
       "      <td>2839071.0</td>\n",
       "      <td>999.0</td>\n",
       "    </tr>\n",
       "    <tr>\n",
       "      <th>5297</th>\n",
       "      <td>19-MBovis</td>\n",
       "      <td>C</td>\n",
       "      <td>G</td>\n",
       "      <td>2839071C&gt;G</td>\n",
       "      <td>4</td>\n",
       "      <td>[0, 3]</td>\n",
       "      <td>[0, 0]</td>\n",
       "      <td>[0, 3]</td>\n",
       "      <td>LT708304.1</td>\n",
       "      <td>snp</td>\n",
       "      <td>tv</td>\n",
       "      <td>2839070.0</td>\n",
       "      <td>2839071.0</td>\n",
       "      <td>999.0</td>\n",
       "    </tr>\n",
       "    <tr>\n",
       "      <th>5298</th>\n",
       "      <td>22-12200</td>\n",
       "      <td>C</td>\n",
       "      <td>G</td>\n",
       "      <td>2839071C&gt;G</td>\n",
       "      <td>10</td>\n",
       "      <td>[0, 3]</td>\n",
       "      <td>[0, 6]</td>\n",
       "      <td>[0, 9]</td>\n",
       "      <td>LT708304.1</td>\n",
       "      <td>snp</td>\n",
       "      <td>tv</td>\n",
       "      <td>2839070.0</td>\n",
       "      <td>2839071.0</td>\n",
       "      <td>999.0</td>\n",
       "    </tr>\n",
       "    <tr>\n",
       "      <th>5299</th>\n",
       "      <td>23-MBovis</td>\n",
       "      <td>C</td>\n",
       "      <td>G</td>\n",
       "      <td>2839071C&gt;G</td>\n",
       "      <td>11</td>\n",
       "      <td>[0, 7]</td>\n",
       "      <td>[0, 4]</td>\n",
       "      <td>[0, 11]</td>\n",
       "      <td>LT708304.1</td>\n",
       "      <td>snp</td>\n",
       "      <td>tv</td>\n",
       "      <td>2839070.0</td>\n",
       "      <td>2839071.0</td>\n",
       "      <td>999.0</td>\n",
       "    </tr>\n",
       "    <tr>\n",
       "      <th>5300</th>\n",
       "      <td>24-MBovis</td>\n",
       "      <td>C</td>\n",
       "      <td>G</td>\n",
       "      <td>2839071C&gt;G</td>\n",
       "      <td>37</td>\n",
       "      <td>[0, 21]</td>\n",
       "      <td>[0, 15]</td>\n",
       "      <td>[0, 36]</td>\n",
       "      <td>LT708304.1</td>\n",
       "      <td>snp</td>\n",
       "      <td>tv</td>\n",
       "      <td>2839070.0</td>\n",
       "      <td>2839071.0</td>\n",
       "      <td>999.0</td>\n",
       "    </tr>\n",
       "    <tr>\n",
       "      <th>5301</th>\n",
       "      <td>25-MBovis</td>\n",
       "      <td>C</td>\n",
       "      <td>G</td>\n",
       "      <td>2839071C&gt;G</td>\n",
       "      <td>13</td>\n",
       "      <td>[0, 10]</td>\n",
       "      <td>[0, 3]</td>\n",
       "      <td>[0, 13]</td>\n",
       "      <td>LT708304.1</td>\n",
       "      <td>snp</td>\n",
       "      <td>tv</td>\n",
       "      <td>2839070.0</td>\n",
       "      <td>2839071.0</td>\n",
       "      <td>999.0</td>\n",
       "    </tr>\n",
       "    <tr>\n",
       "      <th>5302</th>\n",
       "      <td>26-12883</td>\n",
       "      <td>C</td>\n",
       "      <td>G</td>\n",
       "      <td>2839071C&gt;G</td>\n",
       "      <td>9</td>\n",
       "      <td>[0, 7]</td>\n",
       "      <td>[0, 2]</td>\n",
       "      <td>[0, 9]</td>\n",
       "      <td>LT708304.1</td>\n",
       "      <td>snp</td>\n",
       "      <td>tv</td>\n",
       "      <td>2839070.0</td>\n",
       "      <td>2839071.0</td>\n",
       "      <td>999.0</td>\n",
       "    </tr>\n",
       "    <tr>\n",
       "      <th>5303</th>\n",
       "      <td>26-MBovis</td>\n",
       "      <td>C</td>\n",
       "      <td>G</td>\n",
       "      <td>2839071C&gt;G</td>\n",
       "      <td>4</td>\n",
       "      <td>[0, 3]</td>\n",
       "      <td>[0, 1]</td>\n",
       "      <td>[0, 4]</td>\n",
       "      <td>LT708304.1</td>\n",
       "      <td>snp</td>\n",
       "      <td>tv</td>\n",
       "      <td>2839070.0</td>\n",
       "      <td>2839071.0</td>\n",
       "      <td>999.0</td>\n",
       "    </tr>\n",
       "    <tr>\n",
       "      <th>5304</th>\n",
       "      <td>27-MBovis</td>\n",
       "      <td>C</td>\n",
       "      <td>G</td>\n",
       "      <td>2839071C&gt;G</td>\n",
       "      <td>14</td>\n",
       "      <td>[0, 6]</td>\n",
       "      <td>[0, 8]</td>\n",
       "      <td>[0, 14]</td>\n",
       "      <td>LT708304.1</td>\n",
       "      <td>snp</td>\n",
       "      <td>tv</td>\n",
       "      <td>2839070.0</td>\n",
       "      <td>2839071.0</td>\n",
       "      <td>999.0</td>\n",
       "    </tr>\n",
       "    <tr>\n",
       "      <th>5305</th>\n",
       "      <td>28-12935</td>\n",
       "      <td>C</td>\n",
       "      <td>G</td>\n",
       "      <td>2839071C&gt;G</td>\n",
       "      <td>6</td>\n",
       "      <td>[0, 3]</td>\n",
       "      <td>[0, 3]</td>\n",
       "      <td>[0, 6]</td>\n",
       "      <td>LT708304.1</td>\n",
       "      <td>snp</td>\n",
       "      <td>tv</td>\n",
       "      <td>2839070.0</td>\n",
       "      <td>2839071.0</td>\n",
       "      <td>999.0</td>\n",
       "    </tr>\n",
       "    <tr>\n",
       "      <th>5306</th>\n",
       "      <td>29-MBovis</td>\n",
       "      <td>C</td>\n",
       "      <td>G</td>\n",
       "      <td>2839071C&gt;G</td>\n",
       "      <td>13</td>\n",
       "      <td>[0, 7]</td>\n",
       "      <td>[0, 5]</td>\n",
       "      <td>[0, 12]</td>\n",
       "      <td>LT708304.1</td>\n",
       "      <td>snp</td>\n",
       "      <td>tv</td>\n",
       "      <td>2839070.0</td>\n",
       "      <td>2839071.0</td>\n",
       "      <td>999.0</td>\n",
       "    </tr>\n",
       "    <tr>\n",
       "      <th>5307</th>\n",
       "      <td>3-10110</td>\n",
       "      <td>C</td>\n",
       "      <td>G</td>\n",
       "      <td>2839071C&gt;G</td>\n",
       "      <td>10</td>\n",
       "      <td>[1, 5]</td>\n",
       "      <td>[0, 4]</td>\n",
       "      <td>[1, 9]</td>\n",
       "      <td>LT708304.1</td>\n",
       "      <td>snp</td>\n",
       "      <td>tv</td>\n",
       "      <td>2839070.0</td>\n",
       "      <td>2839071.0</td>\n",
       "      <td>999.0</td>\n",
       "    </tr>\n",
       "    <tr>\n",
       "      <th>5308</th>\n",
       "      <td>30-MBovis</td>\n",
       "      <td>C</td>\n",
       "      <td>G</td>\n",
       "      <td>2839071C&gt;G</td>\n",
       "      <td>6</td>\n",
       "      <td>[0, 3]</td>\n",
       "      <td>[0, 3]</td>\n",
       "      <td>[0, 6]</td>\n",
       "      <td>LT708304.1</td>\n",
       "      <td>snp</td>\n",
       "      <td>tv</td>\n",
       "      <td>2839070.0</td>\n",
       "      <td>2839071.0</td>\n",
       "      <td>999.0</td>\n",
       "    </tr>\n",
       "    <tr>\n",
       "      <th>5309</th>\n",
       "      <td>31-12952</td>\n",
       "      <td>C</td>\n",
       "      <td>G</td>\n",
       "      <td>2839071C&gt;G</td>\n",
       "      <td>12</td>\n",
       "      <td>[0, 4]</td>\n",
       "      <td>[0, 7]</td>\n",
       "      <td>[0, 11]</td>\n",
       "      <td>LT708304.1</td>\n",
       "      <td>snp</td>\n",
       "      <td>tv</td>\n",
       "      <td>2839070.0</td>\n",
       "      <td>2839071.0</td>\n",
       "      <td>999.0</td>\n",
       "    </tr>\n",
       "    <tr>\n",
       "      <th>5310</th>\n",
       "      <td>35-MBovis</td>\n",
       "      <td>C</td>\n",
       "      <td>G</td>\n",
       "      <td>2839071C&gt;G</td>\n",
       "      <td>7</td>\n",
       "      <td>[0, 6]</td>\n",
       "      <td>[0, 1]</td>\n",
       "      <td>[0, 7]</td>\n",
       "      <td>LT708304.1</td>\n",
       "      <td>snp</td>\n",
       "      <td>tv</td>\n",
       "      <td>2839070.0</td>\n",
       "      <td>2839071.0</td>\n",
       "      <td>999.0</td>\n",
       "    </tr>\n",
       "    <tr>\n",
       "      <th>5311</th>\n",
       "      <td>36-MBovis</td>\n",
       "      <td>C</td>\n",
       "      <td>G</td>\n",
       "      <td>2839071C&gt;G</td>\n",
       "      <td>11</td>\n",
       "      <td>[0, 9]</td>\n",
       "      <td>[0, 2]</td>\n",
       "      <td>[0, 11]</td>\n",
       "      <td>LT708304.1</td>\n",
       "      <td>snp</td>\n",
       "      <td>tv</td>\n",
       "      <td>2839070.0</td>\n",
       "      <td>2839071.0</td>\n",
       "      <td>999.0</td>\n",
       "    </tr>\n",
       "    <tr>\n",
       "      <th>5312</th>\n",
       "      <td>37-MBovis</td>\n",
       "      <td>C</td>\n",
       "      <td>G</td>\n",
       "      <td>2839071C&gt;G</td>\n",
       "      <td>7</td>\n",
       "      <td>[0, 5]</td>\n",
       "      <td>[0, 2]</td>\n",
       "      <td>[0, 7]</td>\n",
       "      <td>LT708304.1</td>\n",
       "      <td>snp</td>\n",
       "      <td>tv</td>\n",
       "      <td>2839070.0</td>\n",
       "      <td>2839071.0</td>\n",
       "      <td>999.0</td>\n",
       "    </tr>\n",
       "    <tr>\n",
       "      <th>5313</th>\n",
       "      <td>38-MBovis</td>\n",
       "      <td>C</td>\n",
       "      <td>G</td>\n",
       "      <td>2839071C&gt;G</td>\n",
       "      <td>12</td>\n",
       "      <td>[0, 4]</td>\n",
       "      <td>[0, 8]</td>\n",
       "      <td>[0, 12]</td>\n",
       "      <td>LT708304.1</td>\n",
       "      <td>snp</td>\n",
       "      <td>tv</td>\n",
       "      <td>2839070.0</td>\n",
       "      <td>2839071.0</td>\n",
       "      <td>999.0</td>\n",
       "    </tr>\n",
       "    <tr>\n",
       "      <th>5314</th>\n",
       "      <td>39-MBovis</td>\n",
       "      <td>C</td>\n",
       "      <td>G</td>\n",
       "      <td>2839071C&gt;G</td>\n",
       "      <td>3</td>\n",
       "      <td>[0, 1]</td>\n",
       "      <td>[0, 2]</td>\n",
       "      <td>[0, 3]</td>\n",
       "      <td>LT708304.1</td>\n",
       "      <td>snp</td>\n",
       "      <td>tv</td>\n",
       "      <td>2839070.0</td>\n",
       "      <td>2839071.0</td>\n",
       "      <td>999.0</td>\n",
       "    </tr>\n",
       "    <tr>\n",
       "      <th>5315</th>\n",
       "      <td>41-2165</td>\n",
       "      <td>C</td>\n",
       "      <td>G</td>\n",
       "      <td>2839071C&gt;G</td>\n",
       "      <td>10</td>\n",
       "      <td>[0, 4]</td>\n",
       "      <td>[0, 6]</td>\n",
       "      <td>[0, 10]</td>\n",
       "      <td>LT708304.1</td>\n",
       "      <td>snp</td>\n",
       "      <td>tv</td>\n",
       "      <td>2839070.0</td>\n",
       "      <td>2839071.0</td>\n",
       "      <td>999.0</td>\n",
       "    </tr>\n",
       "    <tr>\n",
       "      <th>5316</th>\n",
       "      <td>41-MBovis</td>\n",
       "      <td>C</td>\n",
       "      <td>G</td>\n",
       "      <td>2839071C&gt;G</td>\n",
       "      <td>16</td>\n",
       "      <td>[0, 11]</td>\n",
       "      <td>[0, 5]</td>\n",
       "      <td>[0, 16]</td>\n",
       "      <td>LT708304.1</td>\n",
       "      <td>snp</td>\n",
       "      <td>tv</td>\n",
       "      <td>2839070.0</td>\n",
       "      <td>2839071.0</td>\n",
       "      <td>999.0</td>\n",
       "    </tr>\n",
       "    <tr>\n",
       "      <th>5317</th>\n",
       "      <td>42-MBovis</td>\n",
       "      <td>C</td>\n",
       "      <td>G</td>\n",
       "      <td>2839071C&gt;G</td>\n",
       "      <td>6</td>\n",
       "      <td>[0, 4]</td>\n",
       "      <td>[0, 2]</td>\n",
       "      <td>[0, 6]</td>\n",
       "      <td>LT708304.1</td>\n",
       "      <td>snp</td>\n",
       "      <td>tv</td>\n",
       "      <td>2839070.0</td>\n",
       "      <td>2839071.0</td>\n",
       "      <td>999.0</td>\n",
       "    </tr>\n",
       "    <tr>\n",
       "      <th>5318</th>\n",
       "      <td>43-MBovis</td>\n",
       "      <td>C</td>\n",
       "      <td>G</td>\n",
       "      <td>2839071C&gt;G</td>\n",
       "      <td>18</td>\n",
       "      <td>[0, 11]</td>\n",
       "      <td>[0, 7]</td>\n",
       "      <td>[0, 18]</td>\n",
       "      <td>LT708304.1</td>\n",
       "      <td>snp</td>\n",
       "      <td>tv</td>\n",
       "      <td>2839070.0</td>\n",
       "      <td>2839071.0</td>\n",
       "      <td>999.0</td>\n",
       "    </tr>\n",
       "    <tr>\n",
       "      <th>5319</th>\n",
       "      <td>44-MBovis</td>\n",
       "      <td>C</td>\n",
       "      <td>G</td>\n",
       "      <td>2839071C&gt;G</td>\n",
       "      <td>15</td>\n",
       "      <td>[0, 12]</td>\n",
       "      <td>[0, 3]</td>\n",
       "      <td>[0, 15]</td>\n",
       "      <td>LT708304.1</td>\n",
       "      <td>snp</td>\n",
       "      <td>tv</td>\n",
       "      <td>2839070.0</td>\n",
       "      <td>2839071.0</td>\n",
       "      <td>999.0</td>\n",
       "    </tr>\n",
       "    <tr>\n",
       "      <th>5320</th>\n",
       "      <td>45-MBovis</td>\n",
       "      <td>C</td>\n",
       "      <td>G</td>\n",
       "      <td>2839071C&gt;G</td>\n",
       "      <td>7</td>\n",
       "      <td>[0, 6]</td>\n",
       "      <td>[0, 1]</td>\n",
       "      <td>[0, 7]</td>\n",
       "      <td>LT708304.1</td>\n",
       "      <td>snp</td>\n",
       "      <td>tv</td>\n",
       "      <td>2839070.0</td>\n",
       "      <td>2839071.0</td>\n",
       "      <td>999.0</td>\n",
       "    </tr>\n",
       "    <tr>\n",
       "      <th>5321</th>\n",
       "      <td>47-MBovis</td>\n",
       "      <td>C</td>\n",
       "      <td>G</td>\n",
       "      <td>2839071C&gt;G</td>\n",
       "      <td>17</td>\n",
       "      <td>[0, 11]</td>\n",
       "      <td>[0, 6]</td>\n",
       "      <td>[0, 17]</td>\n",
       "      <td>LT708304.1</td>\n",
       "      <td>snp</td>\n",
       "      <td>tv</td>\n",
       "      <td>2839070.0</td>\n",
       "      <td>2839071.0</td>\n",
       "      <td>999.0</td>\n",
       "    </tr>\n",
       "    <tr>\n",
       "      <th>5322</th>\n",
       "      <td>48-2919</td>\n",
       "      <td>C</td>\n",
       "      <td>G</td>\n",
       "      <td>2839071C&gt;G</td>\n",
       "      <td>12</td>\n",
       "      <td>[0, 7]</td>\n",
       "      <td>[0, 5]</td>\n",
       "      <td>[0, 12]</td>\n",
       "      <td>LT708304.1</td>\n",
       "      <td>snp</td>\n",
       "      <td>tv</td>\n",
       "      <td>2839070.0</td>\n",
       "      <td>2839071.0</td>\n",
       "      <td>999.0</td>\n",
       "    </tr>\n",
       "    <tr>\n",
       "      <th>5323</th>\n",
       "      <td>48-MBovis</td>\n",
       "      <td>C</td>\n",
       "      <td>G</td>\n",
       "      <td>2839071C&gt;G</td>\n",
       "      <td>10</td>\n",
       "      <td>[0, 6]</td>\n",
       "      <td>[0, 4]</td>\n",
       "      <td>[0, 10]</td>\n",
       "      <td>LT708304.1</td>\n",
       "      <td>snp</td>\n",
       "      <td>tv</td>\n",
       "      <td>2839070.0</td>\n",
       "      <td>2839071.0</td>\n",
       "      <td>999.0</td>\n",
       "    </tr>\n",
       "    <tr>\n",
       "      <th>5324</th>\n",
       "      <td>49-MBovis</td>\n",
       "      <td>C</td>\n",
       "      <td>G</td>\n",
       "      <td>2839071C&gt;G</td>\n",
       "      <td>12</td>\n",
       "      <td>[0, 8]</td>\n",
       "      <td>[0, 4]</td>\n",
       "      <td>[0, 12]</td>\n",
       "      <td>LT708304.1</td>\n",
       "      <td>snp</td>\n",
       "      <td>tv</td>\n",
       "      <td>2839070.0</td>\n",
       "      <td>2839071.0</td>\n",
       "      <td>999.0</td>\n",
       "    </tr>\n",
       "    <tr>\n",
       "      <th>5325</th>\n",
       "      <td>5-10284</td>\n",
       "      <td>C</td>\n",
       "      <td>G</td>\n",
       "      <td>2839071C&gt;G</td>\n",
       "      <td>10</td>\n",
       "      <td>[0, 5]</td>\n",
       "      <td>[0, 5]</td>\n",
       "      <td>[0, 10]</td>\n",
       "      <td>LT708304.1</td>\n",
       "      <td>snp</td>\n",
       "      <td>tv</td>\n",
       "      <td>2839070.0</td>\n",
       "      <td>2839071.0</td>\n",
       "      <td>999.0</td>\n",
       "    </tr>\n",
       "    <tr>\n",
       "      <th>5326</th>\n",
       "      <td>50-MBovis</td>\n",
       "      <td>C</td>\n",
       "      <td>G</td>\n",
       "      <td>2839071C&gt;G</td>\n",
       "      <td>5</td>\n",
       "      <td>[0, 4]</td>\n",
       "      <td>[0, 1]</td>\n",
       "      <td>[0, 5]</td>\n",
       "      <td>LT708304.1</td>\n",
       "      <td>snp</td>\n",
       "      <td>tv</td>\n",
       "      <td>2839070.0</td>\n",
       "      <td>2839071.0</td>\n",
       "      <td>999.0</td>\n",
       "    </tr>\n",
       "    <tr>\n",
       "      <th>5327</th>\n",
       "      <td>51-3292</td>\n",
       "      <td>C</td>\n",
       "      <td>G</td>\n",
       "      <td>2839071C&gt;G</td>\n",
       "      <td>16</td>\n",
       "      <td>[0, 7]</td>\n",
       "      <td>[0, 9]</td>\n",
       "      <td>[0, 16]</td>\n",
       "      <td>LT708304.1</td>\n",
       "      <td>snp</td>\n",
       "      <td>tv</td>\n",
       "      <td>2839070.0</td>\n",
       "      <td>2839071.0</td>\n",
       "      <td>999.0</td>\n",
       "    </tr>\n",
       "    <tr>\n",
       "      <th>5328</th>\n",
       "      <td>51-MBovis</td>\n",
       "      <td>C</td>\n",
       "      <td>G</td>\n",
       "      <td>2839071C&gt;G</td>\n",
       "      <td>5</td>\n",
       "      <td>[0, 3]</td>\n",
       "      <td>[0, 2]</td>\n",
       "      <td>[0, 5]</td>\n",
       "      <td>LT708304.1</td>\n",
       "      <td>snp</td>\n",
       "      <td>tv</td>\n",
       "      <td>2839070.0</td>\n",
       "      <td>2839071.0</td>\n",
       "      <td>999.0</td>\n",
       "    </tr>\n",
       "    <tr>\n",
       "      <th>5329</th>\n",
       "      <td>52-3698</td>\n",
       "      <td>C</td>\n",
       "      <td>G</td>\n",
       "      <td>2839071C&gt;G</td>\n",
       "      <td>11</td>\n",
       "      <td>[0, 5]</td>\n",
       "      <td>[0, 6]</td>\n",
       "      <td>[0, 11]</td>\n",
       "      <td>LT708304.1</td>\n",
       "      <td>snp</td>\n",
       "      <td>tv</td>\n",
       "      <td>2839070.0</td>\n",
       "      <td>2839071.0</td>\n",
       "      <td>999.0</td>\n",
       "    </tr>\n",
       "    <tr>\n",
       "      <th>5330</th>\n",
       "      <td>54-MBovis</td>\n",
       "      <td>C</td>\n",
       "      <td>G</td>\n",
       "      <td>2839071C&gt;G</td>\n",
       "      <td>14</td>\n",
       "      <td>[0, 6]</td>\n",
       "      <td>[0, 8]</td>\n",
       "      <td>[0, 14]</td>\n",
       "      <td>LT708304.1</td>\n",
       "      <td>snp</td>\n",
       "      <td>tv</td>\n",
       "      <td>2839070.0</td>\n",
       "      <td>2839071.0</td>\n",
       "      <td>999.0</td>\n",
       "    </tr>\n",
       "    <tr>\n",
       "      <th>5331</th>\n",
       "      <td>55-4348</td>\n",
       "      <td>C</td>\n",
       "      <td>G</td>\n",
       "      <td>2839071C&gt;G</td>\n",
       "      <td>9</td>\n",
       "      <td>[0, 6]</td>\n",
       "      <td>[0, 3]</td>\n",
       "      <td>[0, 9]</td>\n",
       "      <td>LT708304.1</td>\n",
       "      <td>snp</td>\n",
       "      <td>tv</td>\n",
       "      <td>2839070.0</td>\n",
       "      <td>2839071.0</td>\n",
       "      <td>999.0</td>\n",
       "    </tr>\n",
       "    <tr>\n",
       "      <th>5332</th>\n",
       "      <td>56-MBovis</td>\n",
       "      <td>C</td>\n",
       "      <td>G</td>\n",
       "      <td>2839071C&gt;G</td>\n",
       "      <td>4</td>\n",
       "      <td>[0, 3]</td>\n",
       "      <td>[0, 1]</td>\n",
       "      <td>[0, 4]</td>\n",
       "      <td>LT708304.1</td>\n",
       "      <td>snp</td>\n",
       "      <td>tv</td>\n",
       "      <td>2839070.0</td>\n",
       "      <td>2839071.0</td>\n",
       "      <td>999.0</td>\n",
       "    </tr>\n",
       "    <tr>\n",
       "      <th>5333</th>\n",
       "      <td>59-6110</td>\n",
       "      <td>C</td>\n",
       "      <td>G</td>\n",
       "      <td>2839071C&gt;G</td>\n",
       "      <td>18</td>\n",
       "      <td>[0, 8]</td>\n",
       "      <td>[0, 9]</td>\n",
       "      <td>[0, 17]</td>\n",
       "      <td>LT708304.1</td>\n",
       "      <td>snp</td>\n",
       "      <td>tv</td>\n",
       "      <td>2839070.0</td>\n",
       "      <td>2839071.0</td>\n",
       "      <td>999.0</td>\n",
       "    </tr>\n",
       "    <tr>\n",
       "      <th>5334</th>\n",
       "      <td>59-MBovis</td>\n",
       "      <td>C</td>\n",
       "      <td>G</td>\n",
       "      <td>2839071C&gt;G</td>\n",
       "      <td>10</td>\n",
       "      <td>[0, 5]</td>\n",
       "      <td>[0, 5]</td>\n",
       "      <td>[0, 10]</td>\n",
       "      <td>LT708304.1</td>\n",
       "      <td>snp</td>\n",
       "      <td>tv</td>\n",
       "      <td>2839070.0</td>\n",
       "      <td>2839071.0</td>\n",
       "      <td>999.0</td>\n",
       "    </tr>\n",
       "    <tr>\n",
       "      <th>5335</th>\n",
       "      <td>7-10423</td>\n",
       "      <td>C</td>\n",
       "      <td>G</td>\n",
       "      <td>2839071C&gt;G</td>\n",
       "      <td>6</td>\n",
       "      <td>[0, 5]</td>\n",
       "      <td>[0, 1]</td>\n",
       "      <td>[0, 6]</td>\n",
       "      <td>LT708304.1</td>\n",
       "      <td>snp</td>\n",
       "      <td>tv</td>\n",
       "      <td>2839070.0</td>\n",
       "      <td>2839071.0</td>\n",
       "      <td>999.0</td>\n",
       "    </tr>\n",
       "  </tbody>\n",
       "</table>\n",
       "</div>"
      ],
      "text/plain": [
       "          sample REF ALT         mut   DP      ADF      ADR        AD       chrom var_type sub_type      start        end   QUAL\n",
       "5290    13-11594   C   G  2839071C>G   11   [0, 8]   [1, 1]    [1, 9]  LT708304.1      snp       tv  2839070.0  2839071.0  999.0\n",
       "5291   14-MBovis   C   G  2839071C>G   12   [0, 9]   [0, 3]   [0, 12]  LT708304.1      snp       tv  2839070.0  2839071.0  999.0\n",
       "5292    15-11643   C   G  2839071C>G   23  [0, 13]  [0, 10]   [0, 23]  LT708304.1      snp       tv  2839070.0  2839071.0  999.0\n",
       "5293    17-11662   C   G  2839071C>G    6   [1, 1]   [0, 4]    [1, 5]  LT708304.1      snp       tv  2839070.0  2839071.0  999.0\n",
       "5294   17-MBovis   C   G  2839071C>G    2   [0, 2]   [0, 0]    [0, 2]  LT708304.1      snp       tv  2839070.0  2839071.0  999.0\n",
       "5295  182-MBovis   C   C    2839071C  104  [67, 0]  [37, 0]  [104, 0]  LT708304.1      snp       tv  2839070.0  2839071.0  999.0\n",
       "5296    19-11957   C   G  2839071C>G    8   [0, 6]   [0, 2]    [0, 8]  LT708304.1      snp       tv  2839070.0  2839071.0  999.0\n",
       "5297   19-MBovis   C   G  2839071C>G    4   [0, 3]   [0, 0]    [0, 3]  LT708304.1      snp       tv  2839070.0  2839071.0  999.0\n",
       "5298    22-12200   C   G  2839071C>G   10   [0, 3]   [0, 6]    [0, 9]  LT708304.1      snp       tv  2839070.0  2839071.0  999.0\n",
       "5299   23-MBovis   C   G  2839071C>G   11   [0, 7]   [0, 4]   [0, 11]  LT708304.1      snp       tv  2839070.0  2839071.0  999.0\n",
       "5300   24-MBovis   C   G  2839071C>G   37  [0, 21]  [0, 15]   [0, 36]  LT708304.1      snp       tv  2839070.0  2839071.0  999.0\n",
       "5301   25-MBovis   C   G  2839071C>G   13  [0, 10]   [0, 3]   [0, 13]  LT708304.1      snp       tv  2839070.0  2839071.0  999.0\n",
       "5302    26-12883   C   G  2839071C>G    9   [0, 7]   [0, 2]    [0, 9]  LT708304.1      snp       tv  2839070.0  2839071.0  999.0\n",
       "5303   26-MBovis   C   G  2839071C>G    4   [0, 3]   [0, 1]    [0, 4]  LT708304.1      snp       tv  2839070.0  2839071.0  999.0\n",
       "5304   27-MBovis   C   G  2839071C>G   14   [0, 6]   [0, 8]   [0, 14]  LT708304.1      snp       tv  2839070.0  2839071.0  999.0\n",
       "5305    28-12935   C   G  2839071C>G    6   [0, 3]   [0, 3]    [0, 6]  LT708304.1      snp       tv  2839070.0  2839071.0  999.0\n",
       "5306   29-MBovis   C   G  2839071C>G   13   [0, 7]   [0, 5]   [0, 12]  LT708304.1      snp       tv  2839070.0  2839071.0  999.0\n",
       "5307     3-10110   C   G  2839071C>G   10   [1, 5]   [0, 4]    [1, 9]  LT708304.1      snp       tv  2839070.0  2839071.0  999.0\n",
       "5308   30-MBovis   C   G  2839071C>G    6   [0, 3]   [0, 3]    [0, 6]  LT708304.1      snp       tv  2839070.0  2839071.0  999.0\n",
       "5309    31-12952   C   G  2839071C>G   12   [0, 4]   [0, 7]   [0, 11]  LT708304.1      snp       tv  2839070.0  2839071.0  999.0\n",
       "5310   35-MBovis   C   G  2839071C>G    7   [0, 6]   [0, 1]    [0, 7]  LT708304.1      snp       tv  2839070.0  2839071.0  999.0\n",
       "5311   36-MBovis   C   G  2839071C>G   11   [0, 9]   [0, 2]   [0, 11]  LT708304.1      snp       tv  2839070.0  2839071.0  999.0\n",
       "5312   37-MBovis   C   G  2839071C>G    7   [0, 5]   [0, 2]    [0, 7]  LT708304.1      snp       tv  2839070.0  2839071.0  999.0\n",
       "5313   38-MBovis   C   G  2839071C>G   12   [0, 4]   [0, 8]   [0, 12]  LT708304.1      snp       tv  2839070.0  2839071.0  999.0\n",
       "5314   39-MBovis   C   G  2839071C>G    3   [0, 1]   [0, 2]    [0, 3]  LT708304.1      snp       tv  2839070.0  2839071.0  999.0\n",
       "5315     41-2165   C   G  2839071C>G   10   [0, 4]   [0, 6]   [0, 10]  LT708304.1      snp       tv  2839070.0  2839071.0  999.0\n",
       "5316   41-MBovis   C   G  2839071C>G   16  [0, 11]   [0, 5]   [0, 16]  LT708304.1      snp       tv  2839070.0  2839071.0  999.0\n",
       "5317   42-MBovis   C   G  2839071C>G    6   [0, 4]   [0, 2]    [0, 6]  LT708304.1      snp       tv  2839070.0  2839071.0  999.0\n",
       "5318   43-MBovis   C   G  2839071C>G   18  [0, 11]   [0, 7]   [0, 18]  LT708304.1      snp       tv  2839070.0  2839071.0  999.0\n",
       "5319   44-MBovis   C   G  2839071C>G   15  [0, 12]   [0, 3]   [0, 15]  LT708304.1      snp       tv  2839070.0  2839071.0  999.0\n",
       "5320   45-MBovis   C   G  2839071C>G    7   [0, 6]   [0, 1]    [0, 7]  LT708304.1      snp       tv  2839070.0  2839071.0  999.0\n",
       "5321   47-MBovis   C   G  2839071C>G   17  [0, 11]   [0, 6]   [0, 17]  LT708304.1      snp       tv  2839070.0  2839071.0  999.0\n",
       "5322     48-2919   C   G  2839071C>G   12   [0, 7]   [0, 5]   [0, 12]  LT708304.1      snp       tv  2839070.0  2839071.0  999.0\n",
       "5323   48-MBovis   C   G  2839071C>G   10   [0, 6]   [0, 4]   [0, 10]  LT708304.1      snp       tv  2839070.0  2839071.0  999.0\n",
       "5324   49-MBovis   C   G  2839071C>G   12   [0, 8]   [0, 4]   [0, 12]  LT708304.1      snp       tv  2839070.0  2839071.0  999.0\n",
       "5325     5-10284   C   G  2839071C>G   10   [0, 5]   [0, 5]   [0, 10]  LT708304.1      snp       tv  2839070.0  2839071.0  999.0\n",
       "5326   50-MBovis   C   G  2839071C>G    5   [0, 4]   [0, 1]    [0, 5]  LT708304.1      snp       tv  2839070.0  2839071.0  999.0\n",
       "5327     51-3292   C   G  2839071C>G   16   [0, 7]   [0, 9]   [0, 16]  LT708304.1      snp       tv  2839070.0  2839071.0  999.0\n",
       "5328   51-MBovis   C   G  2839071C>G    5   [0, 3]   [0, 2]    [0, 5]  LT708304.1      snp       tv  2839070.0  2839071.0  999.0\n",
       "5329     52-3698   C   G  2839071C>G   11   [0, 5]   [0, 6]   [0, 11]  LT708304.1      snp       tv  2839070.0  2839071.0  999.0\n",
       "5330   54-MBovis   C   G  2839071C>G   14   [0, 6]   [0, 8]   [0, 14]  LT708304.1      snp       tv  2839070.0  2839071.0  999.0\n",
       "5331     55-4348   C   G  2839071C>G    9   [0, 6]   [0, 3]    [0, 9]  LT708304.1      snp       tv  2839070.0  2839071.0  999.0\n",
       "5332   56-MBovis   C   G  2839071C>G    4   [0, 3]   [0, 1]    [0, 4]  LT708304.1      snp       tv  2839070.0  2839071.0  999.0\n",
       "5333     59-6110   C   G  2839071C>G   18   [0, 8]   [0, 9]   [0, 17]  LT708304.1      snp       tv  2839070.0  2839071.0  999.0\n",
       "5334   59-MBovis   C   G  2839071C>G   10   [0, 5]   [0, 5]   [0, 10]  LT708304.1      snp       tv  2839070.0  2839071.0  999.0\n",
       "5335     7-10423   C   G  2839071C>G    6   [0, 5]   [0, 1]    [0, 6]  LT708304.1      snp       tv  2839070.0  2839071.0  999.0"
      ]
     },
     "execution_count": 55,
     "metadata": {},
     "output_type": "execute_result"
    }
   ],
   "source": [
    "cmd = 'bcftools filter -e \"QUAL<40 & FMT/DP<30\" -o test.vcf.gz -O z test.vcf'\n",
    "subprocess.check_output(cmd,shell=True)\n",
    "fdf = vcf_to_dataframe('test.vcf.gz')\n",
    "fdf[fdf.end==2839071]"
   ]
  },
  {
   "cell_type": "markdown",
   "metadata": {},
   "source": [
    "## Make fasta alignment from filtered VCF sites with multiple samples\n",
    "\n",
    "https://github.com/JosephCrispell/GeneralTools/blob/master/ProcessingPipeline/CreateFastaWithReferenceFromFiltered_28-06-17.pl\n",
    "\n",
    "\"The allele frequencies at each position in the aligned (against reference) sequence from each isolate were examined. For a haploid organism these frequencies are expected to be either 0 or 1, with some random variation expected from sequencing errors (Sobkowiak et al., 2018). A heterozygous site was defined as one where the allele frequencies were >0.05 and <0.95. Four cattle-derived sequences that had more than 150 heterozygous sites, and allele frequencies that were clustered and non-random (data not shown), were removed. In addition, 26 badger-derived and 16 cattle-derived M. bovis sequences were removed because of suspected errors in the metadata (Appendix 1: Investigating isolate metadata discrepancies).\n",
    "\n",
    "For the sequences from the remaining isolates (204 badger- and 169 cattle-derived isolates), alleles were called at each variant position if they had mapping quality ≥30, high-quality base depth ≥4 (applied to reverse and forward reads separately), read depth ≥30, and allele support ≥0.95. For any site that failed these criteria, if the allele called had been observed in a different isolate that had passed, a second round of filtering was conducted using a high-quality base depth of 5 (total across forward and reverse reads) and the same allele support. As recombination is thought to be extremely rare for mycobacteria (Namouchi et al., 2012), variants in close proximity could indicate a region that is difficult to sequence or under high selection. To avoid calling variants in these regions, variant positions within 10 bp of one another were removed. Following filtering, sequences from 11 badger and 10 cattle isolates that had insufficient coverage (<95%) of the variant positions were removed. Once the alignment was generated, sites with a consistency index less than 1, generally considered homoplasies (Farris, 1989), were removed (n = 4, of 14,991 sites) using HomoplasyFinder (v0.0.0.9; Crispell et al., 2019; RRID: SCR_017300). All the scripts necessary for the processing of the WGS data are freely available online.\""
   ]
  },
  {
   "cell_type": "code",
   "execution_count": 42,
   "metadata": {},
   "outputs": [
    {
     "name": "stdout",
     "output_type": "stream",
     "text": [
      "used 165 sites for core snps\n",
      "9 sites with at least one missing sample\n",
      "273 uninformative sites\n",
      "used 174 sites for core snps\n",
      "9 sites with at least one missing sample\n",
      "273 uninformative sites\n"
     ]
    }
   ],
   "source": [
    "def core_alignment_from_vcf(vcf_file, callback=None, uninformative=False, missing=False, omit=None):\n",
    "    \"\"\"\n",
    "    Get core SNP site calls as sequences from a multi sample vcf file.\n",
    "    Args:\n",
    "        vcf_file: multi-sample vcf (e.g. produced by app.variant_calling)\n",
    "        uninformative: whether to include uninformative sites\n",
    "        missing: whether to include sites with one or more missing samples (ie. no coverage)\n",
    "        omit: list of samples to exclude if required\n",
    "    \"\"\"\n",
    "\n",
    "    import vcf\n",
    "    from collections import defaultdict\n",
    "    vcf_reader = vcf.Reader(open(vcf_file, 'rb'))\n",
    "    #print (vcf_reader.samples)\n",
    "    def default():\n",
    "        return []\n",
    "    result = defaultdict(default)\n",
    "    sites = []\n",
    "    result['ref'] = []\n",
    "    missing_sites = []\n",
    "    uninf_sites = []\n",
    "    for record in vcf_reader:\n",
    "        S = {sample.sample: sample.gt_bases for sample in record.samples}\n",
    "        if omit != None:\n",
    "            for o in omit:\n",
    "                del S[o]\n",
    "        #if any missing samples at the site we don't add\n",
    "        if None in S.values():\n",
    "            missing_sites.append(record.POS)            \n",
    "            if missing == False:                \n",
    "                continue\n",
    "                \n",
    "        #ignore uninformative sites\n",
    "        if uninformative == False:\n",
    "            u = set(S.values())\n",
    "            if len(u) == 1:\n",
    "                uninf_sites.append(record.POS)\n",
    "                continue\n",
    "        result['ref'].append(record.REF)\n",
    "        #get bases over all samples\n",
    "        for name in S:\n",
    "            val = S[name]\n",
    "            if val == None:\n",
    "                val = 'N'\n",
    "            result[name].append(val)\n",
    "        sites.append(record.POS)\n",
    "        \n",
    "    sites = list(set(sites))\n",
    "    print ('used %s sites for core snps' %len(sites))\n",
    "    print ('%s sites with at least one missing sample' %len(missing_sites))\n",
    "    if uninformative == False:\n",
    "        print ('%s uninformative sites' %len(uninf_sites))\n",
    "    if len(sites)==0:\n",
    "        print ('no sites found may mean:\\n'\n",
    "         '- one sample is too different\\n'\n",
    "         '- few reads aligned due to poor coverage')\n",
    "    recs = []\n",
    "    for sample in result:\n",
    "        seq = ''.join(result[sample])\n",
    "        seqrec = SeqRecord(Seq(seq),id=sample)\n",
    "        recs.append(seqrec)\n",
    "        #print (len(seqrec))\n",
    "\n",
    "    smat = pd.DataFrame(result)    \n",
    "    smat.index = sites\n",
    "    smat.index.rename('pos', inplace=True)\n",
    "    smat = smat.sort_index()\n",
    "    return recs, smat\n",
    "\n",
    "seqrecs, smat = core_alignment_from_vcf('/storage/btbgenie/wicklow_results/snps.vcf.gz')\n",
    "seqrecs, smat = core_alignment_from_vcf('/storage/btbgenie/wicklow_results/snps.vcf.gz', missing=True)\n"
   ]
  },
  {
   "cell_type": "markdown",
   "metadata": {},
   "source": [
    "## filters"
   ]
  },
  {
   "cell_type": "code",
   "execution_count": 145,
   "metadata": {},
   "outputs": [
    {
     "name": "stdout",
     "output_type": "stream",
     "text": [
      "proximity filter found 11/629 sites\n"
     ]
    }
   ],
   "source": [
    "def site_proximity_filter(vcf_file, dist=10, overwrite=False, outdir=None):\n",
    "    \"\"\"Remove any pairs of sites within dist of each other\"\"\"\n",
    "\n",
    "    import vcf\n",
    "    vcf_reader = vcf.Reader(open(vcf_file, 'rb'))\n",
    "    sites = [record.POS for record in vcf_reader]\n",
    "    #print (sites)\n",
    "    found = []\n",
    "    for i in range(len(sites)-1):\n",
    "        if sites[i+1] - sites[i] <= dist:\n",
    "            #print (sites[i], sites[i+1],'close')\n",
    "            found.extend([sites[i], sites[i+1]])\n",
    "    #print (found)\n",
    "    new = sorted(list(set(sites) - set(found)))\n",
    "    print ('proximity filter found %s/%s sites' %(len(set(found)),len(sites)))\n",
    "    if outdir == None:\n",
    "        outdir = tempfile.gettempdir()\n",
    "    if overwrite == True:\n",
    "        out = os.path.join(outdir,'temp.vcf')\n",
    "        vcf_reader = vcf.Reader(open(vcf_file, 'rb'))\n",
    "        vcf_writer = vcf.Writer(open(out, 'w'), vcf_reader)\n",
    "        for record in vcf_reader:\n",
    "            if record.POS in new:\n",
    "                #print (record)\n",
    "                vcf_writer.write_record(record)\n",
    "        vcf_writer.close()\n",
    "        #overwrite input vcf\n",
    "        bcftoolscmd = tools.get_cmd('bcftools')\n",
    "        cmd = 'bcftools view {o} -O z -o {gz}'.format(o=out,gz=vcf_file)\n",
    "        tmp = subprocess.check_output(cmd,shell=True)\n",
    "    return new\n",
    "\n",
    "old = site_proximity_filter('/storage/btbgenie/sim_results/snps.vcf.gz')"
   ]
  },
  {
   "cell_type": "code",
   "execution_count": 133,
   "metadata": {},
   "outputs": [
    {
     "name": "stdout",
     "output_type": "stream",
     "text": [
      "       sample REF ALT      mut   DP       ADF      ADR        AD       chrom var_type sub_type   pos   start     end   QUAL\n",
      "0    13-11594   A   G  1057A>G  170  [0, 125]  [0, 45]  [0, 170]  LT708304.1      snp       ts  1057  1056.0  1057.0  999.0\n",
      "1   14-MBovis   A   G  1057A>G  188  [0, 158]  [0, 30]  [0, 188]  LT708304.1      snp       ts  1057  1056.0  1057.0  999.0\n",
      "2    15-11643   A   G  1057A>G  165  [0, 158]   [0, 7]  [0, 165]  LT708304.1      snp       ts  1057  1056.0  1057.0  999.0\n",
      "3  161-MBovis   A   G  1057A>G  136  [0, 135]   [0, 1]  [0, 136]  LT708304.1      snp       ts  1057  1056.0  1057.0  999.0\n"
     ]
    }
   ],
   "source": [
    "df = tools.vcf_to_dataframe('/storage/btbgenie/sim_results/snps.vcf.gz') \n",
    "print (df[:4])\n",
    "p=pd.pivot_table(df,index='pos',columns='sample',values='mut',aggfunc='size')\n",
    "#p[p.isnull().sum(1)>0]"
   ]
  },
  {
   "cell_type": "code",
   "execution_count": 112,
   "metadata": {},
   "outputs": [],
   "source": [
    "fn = [2672966,2916881,3499480,3499469,3499476,2672970,2444846]"
   ]
  },
  {
   "cell_type": "code",
   "execution_count": 142,
   "metadata": {},
   "outputs": [],
   "source": [
    "diff = list (set(new) - set(old))\n",
    "sub=df[df.pos.isin(diff)]\n",
    "p=pd.pivot_table(sub,index='pos',columns='sample',values='mut',aggfunc='first')\n",
    "#import seaborn as sns\n",
    "#sns.heatmap(p)\n",
    "p.to_csv('proximity_changed.csv')"
   ]
  },
  {
   "cell_type": "code",
   "execution_count": 120,
   "metadata": {},
   "outputs": [],
   "source": [
    "def overwrite_vcf(vcf_file, sites, outdir=None):\n",
    "    \"\"\"Make a new vcf with subset of sites\"\"\"\n",
    "    \n",
    "    if outdir == None:\n",
    "        outdir = tempfile.gettempdir()\n",
    "    \n",
    "    out = os.path.join(outdir,'temp.vcf')\n",
    "    vcf_reader = vcf.Reader(open(vcf_file, 'rb'))\n",
    "    vcf_writer = vcf.Writer(open(out, 'w'), vcf_reader)\n",
    "    for record in vcf_reader:\n",
    "        if record.POS in sites:\n",
    "            #print (record)\n",
    "            vcf_writer.write_record(record)\n",
    "    vcf_writer.close()\n",
    "    #copy or overwrite input vcf\n",
    "    bcftoolscmd = tools.get_cmd('bcftools')\n",
    "    cmd = 'bcftools view {o} -O z -o {gz}'.format(o=out,gz=vcf_file)\n",
    "    tmp = subprocess.check_output(cmd,shell=True)\n",
    "    return"
   ]
  },
  {
   "cell_type": "code",
   "execution_count": 146,
   "metadata": {},
   "outputs": [
    {
     "name": "stdout",
     "output_type": "stream",
     "text": [
      "set()\n",
      "proximity filter found 0/629 sites\n"
     ]
    }
   ],
   "source": [
    "reload(tools)\n",
    "\n",
    "def new_site_proximity_filter(vcf_file, dist=10, overwrite=False, outdir=None):\n",
    "    \"\"\"Remove any pairs of sites within dist of each other.\n",
    "    Args:\n",
    "        vcf_file: input vcf file with positions to filter\n",
    "        dist: distance threshold\n",
    "        overwrite: whether to overwrite the vcf\n",
    "    \"\"\"\n",
    "\n",
    "    #get vcf into dataframe\n",
    "    df = tools.vcf_to_dataframe(vcf_file)\n",
    "    df = df[df.REF != df.ALT]\n",
    "    sites = list(df.pos.unique())\n",
    "    found = []\n",
    "    #check distances in sites per sample\n",
    "    for s, g in df.groupby(['sample']):\n",
    "        #print (s)\n",
    "        pos = list(g.pos)\n",
    "        a = list(g.mut)   \n",
    "        for i in range(len(pos)-1):\n",
    "            #if pos[i] in fn:\n",
    "                #print (s,pos[i],pos[i+1], pos[i+1] - pos[i],alt[i])\n",
    "                #print (g[g.pos==pos[i]])            \n",
    "            if pos[i+1] - pos[i] <= dist:\n",
    "                found.extend([pos[i], pos[i+1]])\n",
    "    #all unique positions    \n",
    "    found = list(set(found))\n",
    "    print (set(found).intersection(set(fn)))\n",
    "    new = sorted(list(set(sites) - set(found)))\n",
    "    print ('proximity filter found %s/%s sites' %(len(found),len(sites)))\n",
    "    if overwrite == True:    \n",
    "        overwrite_vcf(vcf_file, new, outdir)\n",
    "    return new\n",
    "\n",
    "new=new_site_proximity_filter('/storage/btbgenie/sim_results/snps.vcf.gz')"
   ]
  },
  {
   "cell_type": "markdown",
   "metadata": {},
   "source": [
    "## mask locations for mbovis"
   ]
  },
  {
   "cell_type": "code",
   "execution_count": null,
   "metadata": {},
   "outputs": [],
   "source": [
    "#make mask bed file for mbovis\n",
    "g=tools.genbank_to_dataframe('../snipgenie/data/Mbovis_AF212297.gb')\n",
    "g['gene'] = g.gene.fillna('')\n",
    "g=g[(g.gene.str.contains('PE_PGRS') | g.gene.str.contains('PPE')) & (g.feat_type=='CDS') | (g.feat_type=='repeat_region')]\n",
    "for i,r in g.iterrows():  \n",
    "    print ('LT708304.1','\\t', r.start, '\\t', r.end, r.gene, r.locus_tag)"
   ]
  },
  {
   "cell_type": "markdown",
   "metadata": {},
   "source": [
    "## mask for MTB"
   ]
  },
  {
   "cell_type": "code",
   "execution_count": null,
   "metadata": {},
   "outputs": [],
   "source": [
    "#make mask bed file for mbovis\n",
    "g=tools.genbank_to_dataframe('../snipgenie/data/MTB-H37Rv.gb')\n",
    "g['gene'] = g.gene.fillna('')\n",
    "g=g[(g.gene.str.contains('PE_PGRS') | g.gene.str.contains('PPE')) & (g.feat_type=='CDS') | (g.feat_type=='repeat_region')]\n",
    "for i,r in g.iterrows():  \n",
    "    print ('NC_000962.3','\\t', r.start, '\\t', r.end)#, r.gene, r.locus_tag)"
   ]
  },
  {
   "cell_type": "code",
   "execution_count": null,
   "metadata": {},
   "outputs": [],
   "source": [
    "def mask_filter(vcf_file, mask_file):\n",
    "    \"\"\"Remove any masked sites using a bed file, overwrites input\"\"\"\n",
    "\n",
    "    print('using mask bed file', mask_file)\n",
    "    mask = pd.read_csv(mask_file,sep='\\t',names=['chrom','start','end'])    \n",
    "    #print (mask)\n",
    "    def do_mask(x,i):     \n",
    "        #print (x.start, x.end, i)\n",
    "        if (x.start<=i) & (x.end>=i):            \n",
    "            return 1\n",
    "    import vcf\n",
    "    vcf_reader = vcf.Reader(open(vcf_file, 'rb'))\n",
    "    sites = [record.POS for record in vcf_reader]\n",
    "    found = []\n",
    "    for i in sites:       \n",
    "        m = mask.apply( lambda x: do_mask(x,i),1)        \n",
    "        m = m[m==1]   \n",
    "        if len(m)>0:    \n",
    "            print (i)\n",
    "            found.append(i)\n",
    "    print('found %s sites in masked regions' %len(found))\n",
    "    new = sorted(list(set(sites) - set(found)))\n",
    "    \n",
    "    tempdir = tempfile.gettempdir()\n",
    "    out = os.path.join(tempdir,'temp.vcf')\n",
    "    vcf_reader = vcf.Reader(open(vcf_file, 'rb'))\n",
    "    vcf_writer = vcf.Writer(open(out, 'w'), vcf_reader)\n",
    "    for record in vcf_reader:\n",
    "        if record.POS in new:\n",
    "            #print (record)\n",
    "            vcf_writer.write_record(record)\n",
    "    vcf_writer.close()\n",
    "    #overwrite input vcf\n",
    "    bcftoolscmd = tools.get_cmd('bcftools')\n",
    "    cmd = 'bcftools view {o} -O z -o {gz}'.format(o=out,gz=vcf_file)\n",
    "    tmp = subprocess.check_output(cmd,shell=True)\n",
    "    return\n",
    "\n",
    "mask_filter('mapped/filtered.vcf.gz','../snpgenie/data/Mbovis_AF212297_mask.bed')\n"
   ]
  },
  {
   "cell_type": "markdown",
   "metadata": {},
   "source": [
    "## uninformative sites\n",
    "\n",
    "probably not needed as we can use `--min-ac 1:minor`  in bcftools view?"
   ]
  },
  {
   "cell_type": "code",
   "execution_count": 237,
   "metadata": {},
   "outputs": [
    {
     "name": "stdout",
     "output_type": "stream",
     "text": [
      "629 78\n"
     ]
    }
   ],
   "source": [
    "def uninformative_sites_filter(vcf_file):\n",
    "    \"\"\"Ree\"\"\"\n",
    "\n",
    "    import vcf\n",
    "    vcf_reader = vcf.Reader(open(vcf_file, 'rb'))\n",
    "    i=0; u=0\n",
    "    for record in vcf_reader:\n",
    "        ref=record.REF\n",
    "        S = set([sample.gt_bases for sample in record.samples])\n",
    "        #print (record.POS,ref,S)\n",
    "        if (len(S)==1):\n",
    "            #print (record.POS,ref,S)\n",
    "            u+=1\n",
    "        i+=1\n",
    "    print (i,u)    \n",
    "    \n",
    "#u_filter('mapped/filtered.vcf.gz')\n",
    "#u_filter('../test_results/filtered.vcf.gz')\n",
    "uninformative_sites_filter('/storage/btbgenie/wicklow_results/filtered.vcf.gz')"
   ]
  },
  {
   "cell_type": "code",
   "execution_count": 210,
   "metadata": {},
   "outputs": [],
   "source": [
    "def generic_multiprocess(inputs):\n",
    "    #split sites into chunks and run in parallel for long jobs\n",
    "    \n",
    "    import multiprocessing as mp\n",
    "    blocks = np.array_split(np.array(inputs),threads)\n",
    "    result=[]\n",
    "    funclist = []\n",
    "    pool = mp.Pool(threads)\n",
    "    for subset in blocks:            \n",
    "        f = pool.apply_async(worker_func, [subset])      \n",
    "        funclist.append(f)            \n",
    "    try:\n",
    "        for f in funclist:\n",
    "            out = f.get(timeout=None)               \n",
    "            if len(out)>0:\n",
    "                result.append(out)\n",
    "    except KeyboardInterrupt:\n",
    "        print ('process interrupted')\n",
    "        pool.terminate()\n",
    "        sys.exit(0)\n",
    "\n",
    "    pool.close()\n",
    "    pool.join()    \n",
    "    return result"
   ]
  },
  {
   "cell_type": "markdown",
   "metadata": {},
   "source": [
    "### Phylogeny from MSA"
   ]
  },
  {
   "cell_type": "code",
   "execution_count": null,
   "metadata": {},
   "outputs": [],
   "source": [
    "def run_RAXML(infile, name='variants', threads=8):\n",
    "    \"\"\"Run Raxml pthreads\"\"\"\n",
    "\n",
    "    bootstraps = 10\n",
    "    model = 'GTRCAT'\n",
    "    s1 = random.randint(0,1e8)\n",
    "    s2 = random.randint(0,1e8)\n",
    "    \n",
    "    files = glob.glob('RAxML_*')\n",
    "    for f in files:\n",
    "        os.remove(f)\n",
    "    cmd = 'raxmlHPC-PTHREADS -f a -N {nb} -T {t} -m {m} -V -p {s1} -x {s2} -n {n} -s {i}'.format(t=threads,nb=bootstraps,n=name,i=infile,s1=s1,s2=s2,m=model)\n",
    "    print (cmd)\n",
    "    tmp = subprocess.check_output(cmd, shell=True)\n",
    "    return\n",
    "    \n",
    "run_RAXML('variants.fa')"
   ]
  },
  {
   "cell_type": "code",
   "execution_count": null,
   "metadata": {},
   "outputs": [],
   "source": [
    "def create_tree(filename, labelmap=None):\n",
    "    \"\"\"Draw a tree \"\"\"\n",
    "    \n",
    "    from ete3 import Tree, NodeStyle, TreeStyle\n",
    "    t = Tree(filename)\n",
    "    t.set_outgroup('ref')    \n",
    "    if labelmap != None:\n",
    "        trees.set_tiplabels(t,labelmap)\n",
    "    trees.format_nodes(t)\n",
    "    ts = TreeStyle()\n",
    "    ts.scale=1000\n",
    "    t.render(\"%%inline\", tree_style=ts)\n",
    "    t.render(\"tree.png\", tree_style=ts)\n",
    "    return t\n",
    "\n",
    "sra['filename'] = sra.Run.apply(lambda x: 'mapped/'+x+'.bam')\n",
    "print (sra[:3])\n",
    "labelmap = dict(zip(sra.filename,sra.geo_loc_name_country))\n",
    "#print (labelmap)\n",
    "t = create_tree('RAxML_bipartitions.variants', labelmap)\n",
    "t.render(\"%%inline\")"
   ]
  },
  {
   "cell_type": "code",
   "execution_count": null,
   "metadata": {},
   "outputs": [],
   "source": [
    "from Bio import Phylo\n",
    "tree=Phylo.read('RAxML_bestTree.variants','newick')\n",
    "Phylo.draw(tree)"
   ]
  },
  {
   "cell_type": "markdown",
   "metadata": {},
   "source": [
    "## csq gff format"
   ]
  },
  {
   "cell_type": "code",
   "execution_count": null,
   "metadata": {},
   "outputs": [],
   "source": [
    "tools.gff_bcftools_format('../snpgenie/data/Mbovis_AF212297.gb', '../Mbovis_csq_new.gff')"
   ]
  },
  {
   "cell_type": "code",
   "execution_count": null,
   "metadata": {},
   "outputs": [],
   "source": [
    "gff=tools.gff_to_features('../pathogenie/data/Mbovis_AF212297.gff')\n",
    "g=tools.features_to_dataframe(gff)\n",
    "tools.features_summary(g)"
   ]
  },
  {
   "cell_type": "code",
   "execution_count": null,
   "metadata": {},
   "outputs": [],
   "source": [
    "reload(plotting)\n",
    "f,ax=plt.subplots(1,1,figsize=(12,3))\n",
    "st=time.time()\n",
    "plotting.plot_bam_alignment('../test_results/mapped/3_S57_L001.bam', 'LT708304.1', 2000, 3000, yend=100, rect_height=3, ax=ax)\n",
    "print (time.time()-st)"
   ]
  },
  {
   "cell_type": "code",
   "execution_count": null,
   "metadata": {},
   "outputs": [],
   "source": [
    "def plot_features(rec, ax, rows=3, xstart=0, xend=30000):\n",
    "    \n",
    "    h=1\n",
    "    df = tools.records_to_dataframe([rec])    \n",
    "    df = df[(df.feat_type!='region') & (df['feat_type']!='source')]\n",
    "    df = df[(df.start>xstart) & (df.end<xend)]\n",
    "    df['length'] = df.end-df.start\n",
    "    y = list(range(1,rows)) * len(df)\n",
    "    df['y'] = y[:len(df)]\n",
    "    df['color'] = 'blue'\n",
    "    df = df.fillna('')\n",
    "    #print (df)  \n",
    "    \n",
    "    from matplotlib.collections import PatchCollection\n",
    "    import matplotlib.patches as mpatches\n",
    "\n",
    "    patches=[]\n",
    "    for i,r in df.iterrows():        \n",
    "        #rect = plt.Rectangle((r.start, r.y), r.length, h/2,\n",
    "        #                        alpha=.5, linewidth=.5,\n",
    "        #                        edgecolor='black', facecolor=r.color)\n",
    "        if r.strand == 1:\n",
    "            x = r.start\n",
    "            dx = r.length\n",
    "        else:\n",
    "            x = r.end\n",
    "            dx = -r.length\n",
    "        arrow = mpatches.Arrow(x, r.y, dx, 0, alpha=.7, width=.3, \n",
    "                               edgecolor='black')\n",
    "        txt = ax.text(r.start, r.y-h/2, r.gene, size=16)\n",
    "        patches.append(arrow)  \n",
    "        \n",
    "    ax.add_collection(PatchCollection(patches, match_original=True))  \n",
    "    ax.set_xlim(xstart, xend)\n",
    "    ax.set_ylim(.4,rows-.5)\n",
    "    plt.yticks([])\n",
    "    plt.tight_layout()\n",
    "\n",
    "    def onclick(event):\n",
    "        print('%s click: button=%d, x=%d, y=%d, xdata=%f, ydata=%f' %\n",
    "              ('double' if event.dblclick else 'single', event.button,\n",
    "               event.x, event.y, event.xdata, event.ydata))\n",
    "        ax.text(event.x, event.y, 'HI!')\n",
    "        ax.figure.canvas.draw()\n",
    "    #cid = ax.figure.canvas.mpl_connect('button_press_event', onclick)\n",
    "    return\n",
    "\n",
    "reload(tools)\n",
    "recs = tools.gff_to_records(app.mbovis_gff)\n",
    "rec=recs[0]\n",
    "f,ax=plt.subplots(1,1,figsize=(15,1.5))\n",
    "plot_features(rec, ax=ax, xstart=26000,xend=35000)"
   ]
  },
  {
   "cell_type": "markdown",
   "metadata": {},
   "source": [
    "## replace pysam"
   ]
  },
  {
   "cell_type": "code",
   "execution_count": null,
   "metadata": {},
   "outputs": [],
   "source": [
    "def get_chrom(bam_file):\n",
    "    \"\"\"Get first sequence name in a bam file\"\"\"\n",
    "\n",
    "    import pysam\n",
    "    samfile = pysam.AlignmentFile(bam_file, \"r\")\n",
    "    iter=samfile.fetch(start=0,end=10)\n",
    "    for read in iter:\n",
    "        if read.reference_name:\n",
    "            return read.reference_name\n",
    "        \n",
    "get_chrom('mapped/3_S57_L001.bam')"
   ]
  },
  {
   "cell_type": "code",
   "execution_count": 4,
   "metadata": {},
   "outputs": [],
   "source": [
    "import bamnostic as bs\n",
    "bam = bs.AlignmentFile('mapped/3_S57_L001.bam', 'rb')"
   ]
  },
  {
   "cell_type": "code",
   "execution_count": 6,
   "metadata": {},
   "outputs": [
    {
     "data": {
      "text/plain": [
       "'LT708304.1'"
      ]
     },
     "execution_count": 6,
     "metadata": {},
     "output_type": "execute_result"
    }
   ],
   "source": [
    "chrom=bam.header['SQ'][0]['SN']\n",
    "chrom"
   ]
  },
  {
   "cell_type": "code",
   "execution_count": null,
   "metadata": {},
   "outputs": [],
   "source": [
    "for i, read in enumerate(bam.fetch(chrom, 1, 10)):\n",
    "    print(read)"
   ]
  },
  {
   "cell_type": "code",
   "execution_count": null,
   "metadata": {},
   "outputs": [],
   "source": [
    "def get_coverage(bam_file, chr, start, end):\n",
    "    \"\"\"Get coverage from bam file at specified region\"\"\"\n",
    "    \n",
    "    import bamnostic as bs\n",
    "    if bam_file is None or not os.path.exists(bam_file):\n",
    "        return\n",
    "    bam = bs.AlignmentFile(bam_file, 'rb')\n",
    "    for i, read in enumerate(bam.fetch(chrom, 1, 10)):\n",
    "        print(read)\n",
    "    return\n",
    "\n",
    "get_coverage('mapped/3_S57_L001.bam', chrom, 1, 100)"
   ]
  },
  {
   "cell_type": "code",
   "execution_count": null,
   "metadata": {},
   "outputs": [],
   "source": [
    "def samtools_flagstats(filename):\n",
    "    \"\"\"Parse samtools flagstat output into dictionary\"\"\"\n",
    "    \n",
    "    cmd = 'samtools flagstat %s' %filename\n",
    "    tmp = subprocess.check_output(cmd, shell=True, universal_newlines=True)\n",
    "    x = tmp.split('\\n')    \n",
    "    x = [int(i.split('+')[0]) for i in x[:-1]]\n",
    "    #print (x)\n",
    "    cols = ['total','secondary','supplementary','duplicates','mapped',\n",
    "            'paired','read1','read2','properly paired','with itself','singletons']\n",
    "    d = {}\n",
    "    for c,v in zip(cols,x):\n",
    "        d[c] = v\n",
    "    return d\n",
    "\n",
    "samtools_flagstats('mapped/6_S7_L001.bam')"
   ]
  },
  {
   "cell_type": "code",
   "execution_count": null,
   "metadata": {},
   "outputs": [],
   "source": [
    "def samtools_tview(bam_file, chrom, pos, ref='', display='T'):\n",
    "    \"\"\"View bam alignment with samtools\"\"\"\n",
    "    \n",
    "    cmd = 'COLUMNS=150 samtools tview {b} -p {c}:{p} -d {d} {r}'.format(b=bam_file,c=chrom,p=pos,d=display,r=ref)\n",
    "    #print (cmd)\n",
    "    tmp = subprocess.check_output(cmd, shell=True, universal_newlines=True)    \n",
    "    return tmp\n",
    "\n",
    "t=samtools_tview('mapped/6_S7_L001.bam', 'LT708304.1', 1900, app.mbovis_genome)\n",
    "print (t)"
   ]
  },
  {
   "cell_type": "code",
   "execution_count": null,
   "metadata": {},
   "outputs": [],
   "source": [
    "def samtools_depth(bam_file, chrom, start, end):\n",
    "    \"\"\"Get depth from bam file\"\"\"\n",
    "\n",
    "    cmd = 'samtools depth -r {c}:{s}-{e} {b}'.format(b=bam_file,c=chrom,s=start,e=end)\n",
    "    tmp=subprocess.check_output(cmd, shell=True, universal_newlines=True)\n",
    "    from io import StringIO\n",
    "    c = pd.read_csv(StringIO(tmp),sep='\\t',names=['chr','pos','depth'])\n",
    "    return c\n",
    "    \n",
    "t=samtools_depth('mapped/6_S7_L001.bam', 'LT708304.1', 1900, 2000)\n",
    "t"
   ]
  },
  {
   "cell_type": "code",
   "execution_count": 5,
   "metadata": {},
   "outputs": [
    {
     "name": "stdout",
     "output_type": "stream",
     "text": [
      "blastn -out temp_blast.txt -outfmt \"6 qseqid sseqid qseq sseq pident qcovs length mismatch gapopen qstart qend sstart send evalue bitscore stitle\" -query temp.fa -db contaminants.fa -evalue 0.001 -max_target_seqs 50 -num_threads 8 -task blastn\n",
      "LT708304.1 Mycobacterium bovis AF2122/97 genome assembly, chromosome: Mycobacterium_bovis_AF2122/97    932\n",
      "NZ_CP021380.2 Pseudomonas aeruginosa strain CCBH4851 chromosome, complete genome                       240\n",
      "Name: stitle, dtype: int64\n"
     ]
    }
   ],
   "source": [
    "reload(tools)\n",
    "\n",
    "def check_unmapped(fastafile):\n",
    "    \"\"\"Check possible source of unmapped reads\"\"\"\n",
    "    \n",
    "    recs=list(SeqIO.parse(fastafile,'fasta'))\n",
    "    recs = recs[:900]\n",
    "    SeqIO.write(recs,'temp.fa','fasta')\n",
    "    tools.make_blast_database('contaminants.fa')\n",
    "    bl = tools.blast_fasta('contaminants.fa', 'temp.fa',threads=8,show_cmd=True)    \n",
    "    print (bl.stitle.value_counts())\n",
    "    return bl\n",
    "\n",
    "bl=check_unmapped('/storage/btbgenie/dup_results/unmapped/TB19-002014.bam.fasta')"
   ]
  },
  {
   "cell_type": "code",
   "execution_count": 7,
   "metadata": {},
   "outputs": [
    {
     "data": {
      "text/plain": [
       "GCACAGATGGAACGGCTCGCGGTCCCCGACGA                                                                                                                           35\n",
       "TCGTCGGGGACCGCGAGCCGTTCCATCTGTGC                                                                                                                           25\n",
       "TTGAAGGTGTGGAAGAACTCCTCTTGAATACCCTCTTTGCCTTCAATGAATTGGATGTCGTCGACCAACAGCACGTCTACGTCGCGGTAGCTGCGTTTGAATGCG                                                  22\n",
       "ACCAGC---CTTAACCGTCGCTACACCTTTGATACGTTCGTTATCGGCGCCTCCAACCGGTTCGCGCACGCCGCCGCCT                                                                            14\n",
       "GTGTTGGCGTCGGCGATCAGATCGCGAAGCACAATCTCGGCCAGCGCTTTGTCGATTGGTGTTTTGTTCAATGAGGCGAACGCGGTGACCCGGATCAGCGCGCCCTCGAGTTCACGGATATTGCGTTCGATACTGCTGGCGATGAGTTCGA    11\n",
       "                                                                                                                                                           ..\n",
       "GATGAACAGGGGGTTGTAAGCGCGGGCGGGTGCTTCTGCGATCGCCAAGGCGGCGGCGTGCGCGAACCGGTTGGAGGCGCCGATAACGAACGTATCAAAGGTGTAGCGACGGTTAATGCTGGTTACGCCAGCGGTAGCGGAATCGGTATTG     1\n",
       "GTTAAGGCTGGTTACGCCAGCGGTAGCGGAATCGGTATTGCGCGGGCGCTCGGTGAAGTAACTTGGCCAACTGTGCTGGTTATCGCCCCGTGCCGCAGCGCTGTCATCAATCTCGTCGTTGTCGGTTGTGGTGTCTGGCGATGTGGTAGCA     1\n",
       "GGCCGAGATTGTGCTTCGCGATCTGATCGCCGACGCCAACACCATGCAAATCAGCGCGGCGACGATCATGGCTGCCACCGCCGAATACTTCGACACTACCGTCGAAGAGCTTCGCGGGCCCGGCAAGACCCGAGCACTGGCCCAGTCACGA     1\n",
       "CGACGTATCTCCCTGGTTCTCGTTAGT                                                                                                                                 1\n",
       "CCTTCAACACCTTGCACAATGCCAACAAGCAAATCGTCATCTCATCTGACCGCCCACCCAAGCAGCTCGCCGCCCTCGAGGACCGGCTGAGAACCCGCTTTGAGT                                                   1\n",
       "Name: qseq, Length: 706, dtype: int64"
      ]
     },
     "execution_count": 7,
     "metadata": {},
     "output_type": "execute_result"
    }
   ],
   "source": [
    "bl.qseq.value_counts()"
   ]
  },
  {
   "cell_type": "markdown",
   "metadata": {},
   "source": [
    "## find all multimapping regions in bam file"
   ]
  },
  {
   "cell_type": "code",
   "execution_count": 63,
   "metadata": {},
   "outputs": [
    {
     "data": {
      "text/plain": [
       "b''"
      ]
     },
     "execution_count": 63,
     "metadata": {},
     "output_type": "execute_result"
    }
   ],
   "source": [
    "bf = '/storage/btbgenie/dup_results/mapped/TB19-003437.bam'\n",
    "out = 'multimapped.bam'\n",
    "threads=4\n",
    "cmd = 'samtools view -@ {t} -b -f 256 -F 4 -h  {b} > {o}'.format(b=bf,o=out,t=threads)\n",
    "subprocess.check_output(cmd,shell=True)\n"
   ]
  },
  {
   "cell_type": "code",
   "execution_count": 64,
   "metadata": {},
   "outputs": [],
   "source": [
    "import bamnostic as bs"
   ]
  },
  {
   "cell_type": "code",
   "execution_count": null,
   "metadata": {},
   "outputs": [],
   "source": [
    "def get_multimapped():\n",
    "    bam = bs.AlignmentFile('/storage/btbgenie/dup_results/mapped/TB19-003437.bam', 'rb')\n",
    "    i=0\n",
    "    rc=[]\n",
    "\n",
    "    for read in bam:\n",
    "        if i > 1000000:\n",
    "            break\n",
    "        #if read.mapq == 0:\n",
    "        rc.append(read.pos)\n",
    "        i+=1\n",
    "    \n",
    "get_multimapped()"
   ]
  },
  {
   "cell_type": "code",
   "execution_count": 78,
   "metadata": {},
   "outputs": [
    {
     "name": "stdout",
     "output_type": "stream",
     "text": [
      "CPU times: user 1min 50s, sys: 47.8 ms, total: 1min 50s\n",
      "Wall time: 1min 50s\n"
     ]
    }
   ],
   "source": [
    "%%time \n",
    "get_multimapped()"
   ]
  },
  {
   "cell_type": "code",
   "execution_count": 79,
   "metadata": {},
   "outputs": [
    {
     "data": {
      "text/plain": [
       "608012     13\n",
       "1342643    13\n",
       "892029     12\n",
       "1170985    11\n",
       "608386     11\n",
       "           ..\n",
       "1343378     1\n",
       "104339      1\n",
       "104343      1\n",
       "608153      1\n",
       "401408      1\n",
       "Length: 4109, dtype: int64"
      ]
     },
     "execution_count": 79,
     "metadata": {},
     "output_type": "execute_result"
    }
   ],
   "source": [
    "x=pd.Series(rc)\n",
    "x.value_counts()"
   ]
  },
  {
   "cell_type": "code",
   "execution_count": 65,
   "metadata": {},
   "outputs": [],
   "source": [
    "bam = bs.AlignmentFile('multimapped.bam', 'rb')\n",
    "res=[]\n",
    "for read in bam:\n",
    "    res.append((read.pos,read.seq,read.mapq))\n",
    "    "
   ]
  },
  {
   "cell_type": "code",
   "execution_count": 66,
   "metadata": {},
   "outputs": [],
   "source": [
    "df=pd.DataFrame(res,columns=['pos','seq','qual'])"
   ]
  },
  {
   "cell_type": "code",
   "execution_count": 67,
   "metadata": {},
   "outputs": [
    {
     "data": {
      "text/plain": [
       "0          32\n",
       "1306895    17\n",
       "2767810     8\n",
       "3080741     6\n",
       "1306896     5\n",
       "4317352     5\n",
       "3351441     4\n",
       "1306875     4\n",
       "1306879     3\n",
       "956926      3\n",
       "Name: pos, dtype: int64"
      ]
     },
     "execution_count": 67,
     "metadata": {},
     "output_type": "execute_result"
    },
    {
     "data": {
      "image/png": "[encoded data removed]",
      "text/plain": [
       "<Figure size 432x288 with 1 Axes>"
      ]
     },
     "metadata": {
      "needs_background": "light"
     },
     "output_type": "display_data"
    }
   ],
   "source": [
    "cts=df.pos.value_counts()\n",
    "plt.scatter(x=cts.index,y=cts)\n",
    "cts[:10]"
   ]
  },
  {
   "cell_type": "markdown",
   "metadata": {},
   "source": [
    "## igv browser"
   ]
  },
  {
   "cell_type": "code",
   "execution_count": 34,
   "metadata": {},
   "outputs": [],
   "source": [
    "import igv\n",
    "ref = {\n",
    "    \"id\": \"AF212297\",  \n",
    "    \"fastaURL\": \"Mbovis_AF212297.fa\",\n",
    "    \"indexURL\": \"Mbovis_AF212297.fa.fai\",  \n",
    "  }\n",
    "\n",
    "b = igv.Browser({\"reference\": ref})\n",
    "b.load_track(\n",
    "    {\n",
    "        \"name\": \"Local VCF\",\n",
    "        \"url\": \"duplicate_test/snps.vcf.gz\",\n",
    "        \"format\": \"vcf\",\n",
    "        \"type\": \"variant\",\n",
    "        \"indexed\": False\n",
    "    })\n",
    "\n",
    "b.load_track(\n",
    "    {\n",
    "        \"name\": \"TB19-002014\",\n",
    "        \"url\": \"/storage/btbgenie/dup_results/mapped/TB19-002014.bam\",\n",
    "        \"indexURL\": \"/storage/btbgenie/dup_results/mapped/TB19-002014.bam.bai\",\n",
    "        \"format\": \"bam\",\n",
    "        \"type\": \"alignment\"\n",
    "    })"
   ]
  },
  {
   "cell_type": "code",
   "execution_count": null,
   "metadata": {},
   "outputs": [],
   "source": [
    "b.show()\n",
    "b.zoom_in()"
   ]
  },
  {
   "cell_type": "code",
   "execution_count": 12,
   "metadata": {},
   "outputs": [
    {
     "data": {
      "text/html": [
       "<div>\n",
       "<style scoped>\n",
       "    .dataframe tbody tr th:only-of-type {\n",
       "        vertical-align: middle;\n",
       "    }\n",
       "\n",
       "    .dataframe tbody tr th {\n",
       "        vertical-align: top;\n",
       "    }\n",
       "\n",
       "    .dataframe thead th {\n",
       "        text-align: right;\n",
       "    }\n",
       "</style>\n",
       "<table border=\"1\" class=\"dataframe\">\n",
       "  <thead>\n",
       "    <tr style=\"text-align: right;\">\n",
       "      <th></th>\n",
       "      <th>name</th>\n",
       "      <th>sample</th>\n",
       "      <th>filename</th>\n",
       "      <th>pair</th>\n",
       "    </tr>\n",
       "  </thead>\n",
       "  <tbody>\n",
       "    <tr>\n",
       "      <th>0</th>\n",
       "      <td>ERR125601_1</td>\n",
       "      <td>ERR125601</td>\n",
       "      <td>/storage/btbgenie/mbovis_ireland/NI/ERR125601_...</td>\n",
       "      <td>1</td>\n",
       "    </tr>\n",
       "    <tr>\n",
       "      <th>1</th>\n",
       "      <td>ERR125602_2</td>\n",
       "      <td>ERR125602</td>\n",
       "      <td>/storage/btbgenie/mbovis_ireland/NI/ERR125602_...</td>\n",
       "      <td>1</td>\n",
       "    </tr>\n",
       "    <tr>\n",
       "      <th>2</th>\n",
       "      <td>ERR125614_1</td>\n",
       "      <td>ERR125614</td>\n",
       "      <td>/storage/btbgenie/mbovis_ireland/NI/ERR125614_...</td>\n",
       "      <td>1</td>\n",
       "    </tr>\n",
       "    <tr>\n",
       "      <th>3</th>\n",
       "      <td>ERR125624_2</td>\n",
       "      <td>ERR125624</td>\n",
       "      <td>/storage/btbgenie/mbovis_ireland/NI/ERR125624_...</td>\n",
       "      <td>1</td>\n",
       "    </tr>\n",
       "    <tr>\n",
       "      <th>4</th>\n",
       "      <td>ERR125611_2</td>\n",
       "      <td>ERR125611</td>\n",
       "      <td>/storage/btbgenie/mbovis_ireland/NI/ERR125611_...</td>\n",
       "      <td>1</td>\n",
       "    </tr>\n",
       "    <tr>\n",
       "      <th>...</th>\n",
       "      <td>...</td>\n",
       "      <td>...</td>\n",
       "      <td>...</td>\n",
       "      <td>...</td>\n",
       "    </tr>\n",
       "    <tr>\n",
       "      <th>57</th>\n",
       "      <td>ERR125627_2</td>\n",
       "      <td>ERR125627</td>\n",
       "      <td>/storage/btbgenie/mbovis_ireland/NI/ERR125627_...</td>\n",
       "      <td>2</td>\n",
       "    </tr>\n",
       "    <tr>\n",
       "      <th>58</th>\n",
       "      <td>ERR125606_2</td>\n",
       "      <td>ERR125606</td>\n",
       "      <td>/storage/btbgenie/mbovis_ireland/NI/ERR125606_...</td>\n",
       "      <td>2</td>\n",
       "    </tr>\n",
       "    <tr>\n",
       "      <th>59</th>\n",
       "      <td>ERR125619_1</td>\n",
       "      <td>ERR125619</td>\n",
       "      <td>/storage/btbgenie/mbovis_ireland/NI/ERR125619_...</td>\n",
       "      <td>2</td>\n",
       "    </tr>\n",
       "    <tr>\n",
       "      <th>60</th>\n",
       "      <td>ERR125603_2</td>\n",
       "      <td>ERR125603</td>\n",
       "      <td>/storage/btbgenie/mbovis_ireland/NI/ERR125603_...</td>\n",
       "      <td>2</td>\n",
       "    </tr>\n",
       "    <tr>\n",
       "      <th>61</th>\n",
       "      <td>ERR125598_1</td>\n",
       "      <td>ERR125598</td>\n",
       "      <td>/storage/btbgenie/mbovis_ireland/NI/ERR125598_...</td>\n",
       "      <td>2</td>\n",
       "    </tr>\n",
       "  </tbody>\n",
       "</table>\n",
       "<p>62 rows × 4 columns</p>\n",
       "</div>"
      ],
      "text/plain": [
       "           name     sample                                           filename  pair\n",
       "0   ERR125601_1  ERR125601  /storage/btbgenie/mbovis_ireland/NI/ERR125601_...     1\n",
       "1   ERR125602_2  ERR125602  /storage/btbgenie/mbovis_ireland/NI/ERR125602_...     1\n",
       "2   ERR125614_1  ERR125614  /storage/btbgenie/mbovis_ireland/NI/ERR125614_...     1\n",
       "3   ERR125624_2  ERR125624  /storage/btbgenie/mbovis_ireland/NI/ERR125624_...     1\n",
       "4   ERR125611_2  ERR125611  /storage/btbgenie/mbovis_ireland/NI/ERR125611_...     1\n",
       "..          ...        ...                                                ...   ...\n",
       "57  ERR125627_2  ERR125627  /storage/btbgenie/mbovis_ireland/NI/ERR125627_...     2\n",
       "58  ERR125606_2  ERR125606  /storage/btbgenie/mbovis_ireland/NI/ERR125606_...     2\n",
       "59  ERR125619_1  ERR125619  /storage/btbgenie/mbovis_ireland/NI/ERR125619_...     2\n",
       "60  ERR125603_2  ERR125603  /storage/btbgenie/mbovis_ireland/NI/ERR125603_...     2\n",
       "61  ERR125598_1  ERR125598  /storage/btbgenie/mbovis_ireland/NI/ERR125598_...     2\n",
       "\n",
       "[62 rows x 4 columns]"
      ]
     },
     "execution_count": 12,
     "metadata": {},
     "output_type": "execute_result"
    }
   ],
   "source": [
    "files=app.get_files_from_paths('/storage/btbgenie/mbovis_ireland/NI/')\n",
    "df = app.get_samples(files)\n",
    "df"
   ]
  },
  {
   "cell_type": "code",
   "execution_count": 26,
   "metadata": {},
   "outputs": [],
   "source": [
    "p=pd.pivot_table(df,index='sample',columns='pair',values=['filename','name'],aggfunc='first')\n",
    "c=list(zip(p.columns.get_level_values(0),p.columns.get_level_values(1)))\n",
    "p.columns = [i[0]+str(i[1]) for i in c]\n",
    "p=p.reset_index()"
   ]
  },
  {
   "cell_type": "markdown",
   "metadata": {},
   "source": [
    "## low quality samples checks"
   ]
  },
  {
   "cell_type": "code",
   "execution_count": 1,
   "metadata": {},
   "outputs": [],
   "source": [
    "args = {'threads':16, 'outdir': 'temp_results', 'labelsep':'_',  \n",
    "        'input':['/storage/btbgenie/mbovis_ireland/Monaghan/Fastqs_06-10-22/'],\n",
    "        'overwrite':False,\n",
    "        'custom_filters': True,\n",
    "        'mask': app.mbovis_mask,\n",
    "        'unmapped': False,\n",
    "        'buildtree': True}\n",
    "W = app.WorkFlow(**args)\n",
    "st = W.setup()\n",
    "W.run()"
   ]
  },
  {
   "cell_type": "code",
   "execution_count": 52,
   "metadata": {},
   "outputs": [
    {
     "data": {
      "text/html": [
       "<div class=\"toyplot\" id=\"t7a104c72acb34f7c87c9e43ed919bff6\" style=\"text-align:center\"><svg class=\"toyplot-canvas-Canvas\" xmlns:toyplot=\"http://www.sandia.gov/toyplot\" xmlns:xlink=\"http://www.w3.org/1999/xlink\" xmlns=\"http://www.w3.org/2000/svg\" width=\"1200.0px\" height=\"900.0px\" viewBox=\"0 0 1200.0 900.0\" preserveAspectRatio=\"xMidYMid meet\" style=\"background-color:transparent;border-color:#292724;border-style:none;border-width:1.0;fill:rgb(16.1%,15.3%,14.1%);fill-opacity:1.0;font-family:Helvetica;font-size:12px;opacity:1.0;stroke:rgb(16.1%,15.3%,14.1%);stroke-opacity:1.0;stroke-width:1.0\" id=\"te85ef8c1aa2043ddaf386512328ab762\"><g class=\"toyplot-coordinates-Cartesian\" id=\"t0e75dd0249f442f49e9d4cd7c10b2727\"><clipPath id=\"t871a08fae26943fe91616f98a43b58e5\"><rect x=\"30.0\" y=\"30.0\" width=\"1140.0\" height=\"840.0\"></rect></clipPath><g clip-path=\"url(#t871a08fae26943fe91616f98a43b58e5)\"><g class=\"toytree-mark-Toytree\" id=\"t9780617de8434642b5aa1218fde27785\"><g class=\"toytree-Edges\" style=\"fill:none;stroke:rgb(14.9%,14.9%,14.9%);stroke-linecap:round;stroke-opacity:1;stroke-width:2\"><path d=\"M 51.8 117.9 L 51.8 221.0 L 62.7 221.0\" id=\"189,188\"></path><path d=\"M 62.7 221.0 L 62.7 121.5 L 164.4 121.5\" id=\"188,187\"></path><path d=\"M 62.7 221.0 L 62.7 320.5 L 70.1 320.5\" id=\"188,186\"></path><path d=\"M 164.4 121.5 L 164.4 85.7 L 187.0 85.7\" id=\"187,185\"></path><path d=\"M 164.4 121.5 L 164.4 157.3 L 171.2 157.3\" id=\"187,184\"></path><path d=\"M 70.1 320.5 L 70.1 265.3 L 198.9 265.3\" id=\"186,183\"></path><path d=\"M 70.1 320.5 L 70.1 375.8 L 77.4 375.8\" id=\"186,182\"></path><path d=\"M 187.0 85.7 L 187.0 92.8 L 197.9 92.8\" id=\"185,181\"></path><path d=\"M 171.2 157.3 L 171.2 125.0 L 193.2 125.0\" id=\"184,180\"></path><path d=\"M 171.2 157.3 L 171.2 189.6 L 193.2 189.6\" id=\"184,179\"></path><path d=\"M 198.9 265.3 L 198.9 272.4 L 209.7 272.4\" id=\"183,178\"></path><path d=\"M 77.4 375.8 L 77.4 311.6 L 222.3 311.6\" id=\"182,177\"></path><path d=\"M 77.4 375.8 L 77.4 439.9 L 77.4 439.9\" id=\"182,176\"></path><path d=\"M 197.9 92.8 L 197.9 99.0 L 201.5 99.0\" id=\"181,175\"></path><path d=\"M 193.2 125.0 L 193.2 115.3 L 196.8 115.3\" id=\"180,174\"></path><path d=\"M 193.2 125.0 L 193.2 134.7 L 193.2 134.7\" id=\"180,173\"></path><path d=\"M 193.2 189.6 L 193.2 167.3 L 193.2 167.3\" id=\"179,172\"></path><path d=\"M 193.2 189.6 L 193.2 212.0 L 196.8 212.0\" id=\"179,171\"></path><path d=\"M 209.7 272.4 L 209.7 278.6 L 220.6 278.6\" id=\"178,170\"></path><path d=\"M 222.3 311.6 L 222.3 332.4 L 259.2 332.4\" id=\"177,169\"></path><path d=\"M 77.4 439.9 L 77.4 410.2 L 233.0 410.2\" id=\"176,168\"></path><path d=\"M 77.4 439.9 L 77.4 469.7 L 88.4 469.7\" id=\"176,167\"></path><path d=\"M 193.2 134.7 L 193.2 141.8 L 193.2 141.8\" id=\"173,166\"></path><path d=\"M 193.2 167.3 L 193.2 174.5 L 193.2 174.5\" id=\"172,165\"></path><path d=\"M 196.8 212.0 L 196.8 199.0 L 204.1 199.0\" id=\"171,164\"></path><path d=\"M 196.8 212.0 L 196.8 225.0 L 196.8 225.0\" id=\"171,163\"></path><path d=\"M 259.2 332.4 L 259.2 311.2 L 266.5 311.2\" id=\"169,162\"></path><path d=\"M 259.2 332.4 L 259.2 353.6 L 262.8 353.6\" id=\"169,161\"></path><path d=\"M 233.0 410.2 L 233.0 401.0 L 542.5 401.0\" id=\"168,160\"></path><path d=\"M 233.0 410.2 L 233.0 419.4 L 466.9 419.4\" id=\"168,159\"></path><path d=\"M 88.4 469.7 L 88.4 441.8 L 160.0 441.8\" id=\"167,158\"></path><path d=\"M 88.4 469.7 L 88.4 497.6 L 129.0 497.6\" id=\"167,157\"></path><path d=\"M 193.2 141.8 L 193.2 147.9 L 196.8 147.9\" id=\"166,156\"></path><path d=\"M 193.2 174.5 L 193.2 180.6 L 193.2 180.6\" id=\"165,155\"></path><path d=\"M 204.1 199.0 L 204.1 205.1 L 204.1 205.1\" id=\"164,154\"></path><path d=\"M 196.8 225.0 L 196.8 232.6 L 196.8 232.6\" id=\"163,153\"></path><path d=\"M 266.5 311.2 L 266.5 303.0 L 270.1 303.0\" id=\"162,152\"></path><path d=\"M 266.5 311.2 L 266.5 319.4 L 266.5 319.4\" id=\"162,151\"></path><path d=\"M 262.8 353.6 L 262.8 337.7 L 266.4 337.7\" id=\"161,150\"></path><path d=\"M 262.8 353.6 L 262.8 369.4 L 262.8 369.4\" id=\"161,149\"></path><path d=\"M 466.9 419.4 L 466.9 425.5 L 970.0 425.5\" id=\"159,148\"></path><path d=\"M 129.0 497.6 L 129.0 461.7 L 244.8 461.7\" id=\"157,147\"></path><path d=\"M 129.0 497.6 L 129.0 533.4 L 129.1 533.4\" id=\"157,146\"></path><path d=\"M 196.8 232.6 L 196.8 239.8 L 196.8 239.8\" id=\"153,145\"></path><path d=\"M 266.4 337.7 L 266.4 343.9 L 266.4 343.9\" id=\"150,144\"></path><path d=\"M 262.8 369.4 L 262.8 360.2 L 266.4 360.2\" id=\"149,143\"></path><path d=\"M 262.8 369.4 L 262.8 378.6 L 262.8 378.6\" id=\"149,142\"></path><path d=\"M 244.8 461.7 L 244.8 469.4 L 244.8 469.4\" id=\"147,141\"></path><path d=\"M 129.1 533.4 L 129.1 499.0 L 260.5 499.0\" id=\"146,140\"></path><path d=\"M 129.1 533.4 L 129.1 567.8 L 143.5 567.8\" id=\"146,139\"></path><path d=\"M 196.8 239.8 L 196.8 245.9 L 204.1 245.9\" id=\"145,138\"></path><path d=\"M 262.8 378.6 L 262.8 384.7 L 262.8 384.7\" id=\"142,137\"></path><path d=\"M 244.8 469.4 L 244.8 476.5 L 270.3 476.5\" id=\"141,136\"></path><path d=\"M 143.5 567.8 L 143.5 519.1 L 175.9 519.1\" id=\"139,135\"></path><path d=\"M 143.5 567.8 L 143.5 616.4 L 210.6 616.4\" id=\"139,134\"></path><path d=\"M 270.3 476.5 L 270.3 482.7 L 270.3 482.7\" id=\"136,133\"></path><path d=\"M 175.9 519.1 L 175.9 527.0 L 266.8 527.0\" id=\"135,132\"></path><path d=\"M 210.6 616.4 L 210.6 566.3 L 228.9 566.3\" id=\"134,131\"></path><path d=\"M 210.6 616.4 L 210.6 666.5 L 210.6 666.5\" id=\"134,130\"></path><path d=\"M 266.8 527.0 L 266.8 534.7 L 270.4 534.7\" id=\"132,129\"></path><path d=\"M 228.9 566.3 L 228.9 572.5 L 228.9 572.5\" id=\"131,128\"></path><path d=\"M 210.6 666.5 L 210.6 611.7 L 210.6 611.7\" id=\"130,127\"></path><path d=\"M 210.6 666.5 L 210.6 721.3 L 210.6 721.3\" id=\"130,126\"></path><path d=\"M 270.4 534.7 L 270.4 541.8 L 270.4 541.8\" id=\"129,125\"></path><path d=\"M 210.6 611.7 L 210.6 590.8 L 225.2 590.8\" id=\"127,124\"></path><path d=\"M 210.6 611.7 L 210.6 632.7 L 217.9 632.7\" id=\"127,123\"></path><path d=\"M 210.6 721.3 L 210.6 687.8 L 210.7 687.8\" id=\"126,122\"></path><path d=\"M 210.6 721.3 L 210.6 754.8 L 210.7 754.8\" id=\"126,121\"></path><path d=\"M 270.4 541.8 L 270.4 548.0 L 270.4 548.0\" id=\"125,120\"></path><path d=\"M 225.2 590.8 L 225.2 597.0 L 225.2 597.0\" id=\"124,119\"></path><path d=\"M 217.9 632.7 L 217.9 616.3 L 228.9 616.3\" id=\"123,118\"></path><path d=\"M 217.9 632.7 L 217.9 649.0 L 228.9 649.0\" id=\"123,117\"></path><path d=\"M 210.7 687.8 L 210.7 678.6 L 225.2 678.6\" id=\"122,116\"></path><path d=\"M 210.7 687.8 L 210.7 697.0 L 218.0 697.0\" id=\"122,115\"></path><path d=\"M 210.7 754.8 L 210.7 731.7 L 210.7 731.7\" id=\"121,114\"></path><path d=\"M 210.7 754.8 L 210.7 778.0 L 228.9 778.0\" id=\"121,113\"></path><path d=\"M 228.9 616.3 L 228.9 623.5 L 232.5 623.5\" id=\"118,112\"></path><path d=\"M 228.9 649.0 L 228.9 656.1 L 232.5 656.1\" id=\"117,111\"></path><path d=\"M 218.0 697.0 L 218.0 703.1 L 225.2 703.1\" id=\"115,110\"></path><path d=\"M 210.7 731.7 L 210.7 719.4 L 265.8 719.4\" id=\"114,109\"></path><path d=\"M 210.7 731.7 L 210.7 743.9 L 217.9 743.9\" id=\"114,108\"></path><path d=\"M 228.9 778.0 L 228.9 791.7 L 228.9 791.7\" id=\"113,107\"></path><path d=\"M 232.5 623.5 L 232.5 629.6 L 236.1 629.6\" id=\"112,106\"></path><path d=\"M 232.5 656.1 L 232.5 662.3 L 232.5 662.3\" id=\"111,105\"></path><path d=\"M 217.9 743.9 L 217.9 735.7 L 228.9 735.7\" id=\"108,104\"></path><path d=\"M 217.9 743.9 L 217.9 752.1 L 228.9 752.1\" id=\"108,103\"></path><path d=\"M 228.9 791.7 L 228.9 778.6 L 232.5 778.6\" id=\"107,102\"></path><path d=\"M 228.9 791.7 L 228.9 804.9 L 228.9 804.9\" id=\"107,101\"></path><path d=\"M 232.5 778.6 L 232.5 784.7 L 236.2 784.7\" id=\"102,100\"></path><path d=\"M 228.9 804.9 L 228.9 812.8 L 228.9 812.8\" id=\"101,99\"></path><path d=\"M 228.9 812.8 L 228.9 820.4 L 236.2 820.4\" id=\"99,98\"></path><path d=\"M 236.2 820.4 L 236.2 827.6 L 236.2 827.6\" id=\"98,97\"></path><path d=\"M 236.2 827.6 L 236.2 833.7 L 239.8 833.7\" id=\"97,96\"></path><path d=\"M 51.8 117.9 L 51.8 62.2 L 51.8 62.2\" id=\"189,95\"></path><path d=\"M 51.8 117.9 L 51.8 70.4 L 197.9 70.4\" id=\"189,94\"></path><path d=\"M 187.0 85.7 L 187.0 78.5 L 209.1 78.5\" id=\"185,93\"></path><path d=\"M 197.9 92.8 L 197.9 86.7 L 212.5 86.7\" id=\"181,92\"></path><path d=\"M 201.5 99.0 L 201.5 94.9 L 205.2 94.9\" id=\"175,91\"></path><path d=\"M 201.5 99.0 L 201.5 103.0 L 205.2 103.0\" id=\"175,90\"></path><path d=\"M 196.8 115.3 L 196.8 111.2 L 196.8 111.2\" id=\"174,89\"></path><path d=\"M 196.8 115.3 L 196.8 119.4 L 196.8 119.4\" id=\"174,88\"></path><path d=\"M 193.2 134.7 L 193.2 127.5 L 193.2 127.5\" id=\"173,87\"></path><path d=\"M 193.2 141.8 L 193.2 135.7 L 204.1 135.7\" id=\"166,86\"></path><path d=\"M 196.8 147.9 L 196.8 143.9 L 204.1 143.9\" id=\"156,85\"></path><path d=\"M 196.8 147.9 L 196.8 152.0 L 196.9 152.0\" id=\"156,84\"></path><path d=\"M 193.2 167.3 L 193.2 160.2 L 196.8 160.2\" id=\"172,83\"></path><path d=\"M 193.2 174.5 L 193.2 168.3 L 193.2 168.3\" id=\"165,82\"></path><path d=\"M 193.2 180.6 L 193.2 176.5 L 196.8 176.5\" id=\"155,81\"></path><path d=\"M 193.2 180.6 L 193.2 184.7 L 196.8 184.7\" id=\"155,80\"></path><path d=\"M 204.1 199.0 L 204.1 192.8 L 207.7 192.8\" id=\"164,79\"></path><path d=\"M 204.1 205.1 L 204.1 201.0 L 204.1 201.0\" id=\"154,78\"></path><path d=\"M 204.1 205.1 L 204.1 209.2 L 204.1 209.2\" id=\"154,77\"></path><path d=\"M 196.8 225.0 L 196.8 217.3 L 200.4 217.3\" id=\"163,76\"></path><path d=\"M 196.8 232.6 L 196.8 225.5 L 196.8 225.5\" id=\"153,75\"></path><path d=\"M 196.8 239.8 L 196.8 233.7 L 200.4 233.7\" id=\"145,74\"></path><path d=\"M 204.1 245.9 L 204.1 241.8 L 207.7 241.8\" id=\"138,73\"></path><path d=\"M 204.1 245.9 L 204.1 250.0 L 204.1 250.0\" id=\"138,72\"></path><path d=\"M 198.9 265.3 L 198.9 258.1 L 228.4 258.1\" id=\"183,71\"></path><path d=\"M 209.7 272.4 L 209.7 266.3 L 238.8 266.3\" id=\"178,70\"></path><path d=\"M 220.6 278.6 L 220.6 274.5 L 220.6 274.5\" id=\"170,69\"></path><path d=\"M 220.6 278.6 L 220.6 282.6 L 224.2 282.6\" id=\"170,68\"></path><path d=\"M 222.3 311.6 L 222.3 290.8 L 263.1 290.8\" id=\"177,67\"></path><path d=\"M 270.1 303.0 L 270.1 299.0 L 277.4 299.0\" id=\"152,66\"></path><path d=\"M 270.1 303.0 L 270.1 307.1 L 270.2 307.1\" id=\"152,65\"></path><path d=\"M 266.5 319.4 L 266.5 315.3 L 266.5 315.3\" id=\"151,64\"></path><path d=\"M 266.5 319.4 L 266.5 323.5 L 266.5 323.5\" id=\"151,63\"></path><path d=\"M 266.4 337.7 L 266.4 331.6 L 270.0 331.6\" id=\"150,62\"></path><path d=\"M 266.4 343.9 L 266.4 339.8 L 266.4 339.8\" id=\"144,61\"></path><path d=\"M 266.4 343.9 L 266.4 348.0 L 266.4 348.0\" id=\"144,60\"></path><path d=\"M 266.4 360.2 L 266.4 356.1 L 266.4 356.1\" id=\"143,59\"></path><path d=\"M 266.4 360.2 L 266.4 364.3 L 270.0 364.3\" id=\"143,58\"></path><path d=\"M 262.8 378.6 L 262.8 372.4 L 262.8 372.4\" id=\"142,57\"></path><path d=\"M 262.8 384.7 L 262.8 380.6 L 262.8 380.6\" id=\"137,56\"></path><path d=\"M 262.8 384.7 L 262.8 388.8 L 262.8 388.8\" id=\"137,55\"></path><path d=\"M 542.5 401.0 L 542.5 396.9 L 542.5 396.9\" id=\"160,54\"></path><path d=\"M 542.5 401.0 L 542.5 405.1 L 546.2 405.1\" id=\"160,53\"></path><path d=\"M 466.9 419.4 L 466.9 413.3 L 1036.1 413.3\" id=\"159,52\"></path><path d=\"M 970.0 425.5 L 970.0 421.4 L 1000.7 421.4\" id=\"148,51\"></path><path d=\"M 970.0 425.5 L 970.0 429.6 L 998.6 429.6\" id=\"148,50\"></path><path d=\"M 160.0 441.8 L 160.0 437.8 L 250.2 437.8\" id=\"158,49\"></path><path d=\"M 160.0 441.8 L 160.0 445.9 L 250.1 445.9\" id=\"158,48\"></path><path d=\"M 244.8 461.7 L 244.8 454.1 L 266.6 454.1\" id=\"147,47\"></path><path d=\"M 244.8 469.4 L 244.8 462.2 L 266.7 462.2\" id=\"141,46\"></path><path d=\"M 270.3 476.5 L 270.3 470.4 L 273.9 470.4\" id=\"136,45\"></path><path d=\"M 270.3 482.7 L 270.3 478.6 L 270.3 478.6\" id=\"133,44\"></path><path d=\"M 270.3 482.7 L 270.3 486.7 L 270.3 486.7\" id=\"133,43\"></path><path d=\"M 260.5 499.0 L 260.5 494.9 L 260.5 494.9\" id=\"140,42\"></path><path d=\"M 260.5 499.0 L 260.5 503.1 L 264.2 503.1\" id=\"140,41\"></path><path d=\"M 175.9 519.1 L 175.9 511.2 L 309.3 511.2\" id=\"135,40\"></path><path d=\"M 266.8 527.0 L 266.8 519.4 L 266.8 519.4\" id=\"132,39\"></path><path d=\"M 270.4 534.7 L 270.4 527.6 L 274.0 527.6\" id=\"129,38\"></path><path d=\"M 270.4 541.8 L 270.4 535.7 L 274.0 535.7\" id=\"125,37\"></path><path d=\"M 270.4 548.0 L 270.4 543.9 L 270.4 543.9\" id=\"120,36\"></path><path d=\"M 270.4 548.0 L 270.4 552.0 L 270.4 552.0\" id=\"120,35\"></path><path d=\"M 228.9 566.3 L 228.9 560.2 L 239.8 560.2\" id=\"131,34\"></path><path d=\"M 228.9 572.5 L 228.9 568.4 L 239.8 568.4\" id=\"128,33\"></path><path d=\"M 228.9 572.5 L 228.9 576.5 L 228.9 576.5\" id=\"128,32\"></path><path d=\"M 225.2 590.8 L 225.2 584.7 L 228.9 584.7\" id=\"124,31\"></path><path d=\"M 225.2 597.0 L 225.2 592.9 L 225.2 592.9\" id=\"119,30\"></path><path d=\"M 225.2 597.0 L 225.2 601.0 L 225.2 601.0\" id=\"119,29\"></path><path d=\"M 228.9 616.3 L 228.9 609.2 L 228.9 609.2\" id=\"118,28\"></path><path d=\"M 232.5 623.5 L 232.5 617.4 L 232.5 617.4\" id=\"112,27\"></path><path d=\"M 236.1 629.6 L 236.1 625.5 L 247.1 625.5\" id=\"106,26\"></path><path d=\"M 236.1 629.6 L 236.1 633.7 L 250.8 633.7\" id=\"106,25\"></path><path d=\"M 228.9 649.0 L 228.9 641.9 L 228.9 641.9\" id=\"117,24\"></path><path d=\"M 232.5 656.1 L 232.5 650.0 L 236.2 650.0\" id=\"111,23\"></path><path d=\"M 232.5 662.3 L 232.5 658.2 L 232.5 658.2\" id=\"105,22\"></path><path d=\"M 232.5 662.3 L 232.5 666.3 L 236.2 666.3\" id=\"105,21\"></path><path d=\"M 225.2 678.6 L 225.2 674.5 L 225.2 674.5\" id=\"116,20\"></path><path d=\"M 225.2 678.6 L 225.2 682.7 L 232.5 682.7\" id=\"116,19\"></path><path d=\"M 218.0 697.0 L 218.0 690.8 L 225.3 690.8\" id=\"115,18\"></path><path d=\"M 225.2 703.1 L 225.2 699.0 L 225.2 699.0\" id=\"110,17\"></path><path d=\"M 225.2 703.1 L 225.2 707.2 L 225.2 707.2\" id=\"110,16\"></path><path d=\"M 265.8 719.4 L 265.8 715.3 L 269.4 715.3\" id=\"109,15\"></path><path d=\"M 265.8 719.4 L 265.8 723.5 L 265.8 723.5\" id=\"109,14\"></path><path d=\"M 228.9 735.7 L 228.9 731.7 L 228.9 731.7\" id=\"104,13\"></path><path d=\"M 228.9 735.7 L 228.9 739.8 L 232.5 739.8\" id=\"104,12\"></path><path d=\"M 228.9 752.1 L 228.9 748.0 L 236.2 748.0\" id=\"103,11\"></path><path d=\"M 228.9 752.1 L 228.9 756.1 L 239.9 756.1\" id=\"103,10\"></path><path d=\"M 228.9 778.0 L 228.9 764.3 L 232.5 764.3\" id=\"113,9\"></path><path d=\"M 232.5 778.6 L 232.5 772.5 L 236.2 772.5\" id=\"102,8\"></path><path d=\"M 236.2 784.7 L 236.2 780.6 L 236.2 780.6\" id=\"100,7\"></path><path d=\"M 236.2 784.7 L 236.2 788.8 L 254.4 788.8\" id=\"100,6\"></path><path d=\"M 228.9 804.9 L 228.9 797.0 L 228.9 797.0\" id=\"101,5\"></path><path d=\"M 228.9 812.8 L 228.9 805.1 L 236.2 805.1\" id=\"99,4\"></path><path d=\"M 236.2 820.4 L 236.2 813.3 L 239.8 813.3\" id=\"98,3\"></path><path d=\"M 236.2 827.6 L 236.2 821.5 L 236.2 821.5\" id=\"97,2\"></path><path d=\"M 239.8 833.7 L 239.8 829.6 L 239.8 829.6\" id=\"96,1\"></path><path d=\"M 239.8 833.7 L 239.8 837.8 L 239.8 837.8\" id=\"96,0\"></path></g><g class=\"toytree-TipLabels\" style=\"fill:rgb(14.9%,14.9%,14.9%);fill-opacity:1.0;font-family:helvetica;font-size:11px;font-weight:normal;stroke:none;white-space:pre\"><g transform=\"translate(239.81,837.78)rotate(0)\"><text x=\"15.00\" y=\"2.81\" style=\"\">TB21-003501</text></g><g transform=\"translate(239.81,829.62)rotate(0)\"><text x=\"15.00\" y=\"2.81\" style=\"\">TB20-007517</text></g><g transform=\"translate(236.18,821.46)rotate(0)\"><text x=\"15.00\" y=\"2.81\" style=\"\">TB21-000767</text></g><g transform=\"translate(239.80,813.29)rotate(0)\"><text x=\"15.00\" y=\"2.81\" style=\"\">TB20-010284</text></g><g transform=\"translate(236.17,805.13)rotate(0)\"><text x=\"15.00\" y=\"2.81\" style=\"\">TB21-003503</text></g><g transform=\"translate(228.90,796.97)rotate(0)\"><text x=\"15.00\" y=\"2.81\" style=\"\">TB21-003481</text></g><g transform=\"translate(254.44,788.80)rotate(0)\"><text x=\"15.00\" y=\"2.81\" style=\"\">TB21-002988</text></g><g transform=\"translate(236.18,780.64)rotate(0)\"><text x=\"15.00\" y=\"2.81\" style=\"\">TB20-006150</text></g><g transform=\"translate(236.17,772.47)rotate(0)\"><text x=\"15.00\" y=\"2.81\" style=\"\">TB20-001123</text></g><g transform=\"translate(232.52,764.31)rotate(0)\"><text x=\"15.00\" y=\"2.81\" style=\"\">TB21-003351</text></g><g transform=\"translate(239.91,756.15)rotate(0)\"><text x=\"15.00\" y=\"2.81\" style=\"\">TB21-006021</text></g><g transform=\"translate(236.21,747.98)rotate(0)\"><text x=\"15.00\" y=\"2.81\" style=\"\">TB20-009957</text></g><g transform=\"translate(232.52,739.82)rotate(0)\"><text x=\"15.00\" y=\"2.81\" style=\"\">TB21-003754</text></g><g transform=\"translate(228.89,731.65)rotate(0)\"><text x=\"15.00\" y=\"2.81\" style=\"\">TB21-003761</text></g><g transform=\"translate(265.80,723.49)rotate(0)\"><text x=\"15.00\" y=\"2.81\" style=\"\">TB20-010495</text></g><g transform=\"translate(269.43,715.33)rotate(0)\"><text x=\"15.00\" y=\"2.81\" style=\"\">TB20-008178</text></g><g transform=\"translate(225.24,707.16)rotate(0)\"><text x=\"15.00\" y=\"2.81\" style=\"\">TB20-001076</text></g><g transform=\"translate(225.24,699.00)rotate(0)\"><text x=\"15.00\" y=\"2.81\" style=\"\">TB20-013130</text></g><g transform=\"translate(225.25,690.83)rotate(0)\"><text x=\"15.00\" y=\"2.81\" style=\"\">TB21-002445</text></g><g transform=\"translate(232.53,682.67)rotate(0)\"><text x=\"15.00\" y=\"2.81\" style=\"\">TB21-003803</text></g><g transform=\"translate(225.25,674.51)rotate(0)\"><text x=\"15.00\" y=\"2.81\" style=\"\">TB20-006503</text></g><g transform=\"translate(236.17,666.34)rotate(0)\"><text x=\"15.00\" y=\"2.81\" style=\"\">TB21-002605</text></g><g transform=\"translate(232.53,658.18)rotate(0)\"><text x=\"15.00\" y=\"2.81\" style=\"\">TB21-004113</text></g><g transform=\"translate(236.16,650.02)rotate(0)\"><text x=\"15.00\" y=\"2.81\" style=\"\">TB21-005004</text></g><g transform=\"translate(228.90,641.85)rotate(0)\"><text x=\"15.00\" y=\"2.81\" style=\"\">TB21-003810</text></g><g transform=\"translate(250.76,633.69)rotate(0)\"><text x=\"15.00\" y=\"2.81\" style=\"\">TB20-010501</text></g><g transform=\"translate(247.09,625.52)rotate(0)\"><text x=\"15.00\" y=\"2.81\" style=\"\">TB20-010290</text></g><g transform=\"translate(232.51,617.36)rotate(0)\"><text x=\"15.00\" y=\"2.81\" style=\"\">TB20-007365</text></g><g transform=\"translate(228.88,609.20)rotate(0)\"><text x=\"15.00\" y=\"2.81\" style=\"\">TB20-00383</text></g><g transform=\"translate(225.25,601.03)rotate(0)\"><text x=\"15.00\" y=\"2.81\" style=\"\">TB20-007106</text></g><g transform=\"translate(225.25,592.87)rotate(0)\"><text x=\"15.00\" y=\"2.81\" style=\"\">TB21-002572</text></g><g transform=\"translate(228.88,584.70)rotate(0)\"><text x=\"15.00\" y=\"2.81\" style=\"\">TB21-002394</text></g><g transform=\"translate(228.88,576.54)rotate(0)\"><text x=\"15.00\" y=\"2.81\" style=\"\">TB20-008488</text></g><g transform=\"translate(239.80,568.38)rotate(0)\"><text x=\"15.00\" y=\"2.81\" style=\"\">TB21-005044</text></g><g transform=\"translate(239.79,560.21)rotate(0)\"><text x=\"15.00\" y=\"2.81\" style=\"\">TB20-008255</text></g><g transform=\"translate(270.41,552.05)rotate(0)\"><text x=\"15.00\" y=\"2.81\" style=\"\">TB21-001820</text></g><g transform=\"translate(270.41,543.88)rotate(0)\"><text x=\"15.00\" y=\"2.81\" style=\"\">TB20-006477</text></g><g transform=\"translate(274.02,535.72)rotate(0)\"><text x=\"15.00\" y=\"2.81\" style=\"\">TB21-005899</text></g><g transform=\"translate(274.02,527.56)rotate(0)\"><text x=\"15.00\" y=\"2.81\" style=\"\">TB21-005814</text></g><g transform=\"translate(266.78,519.39)rotate(0)\"><text x=\"15.00\" y=\"2.81\" style=\"\">TB21-002996</text></g><g transform=\"translate(309.27,511.23)rotate(0)\"><text x=\"15.00\" y=\"2.81\" style=\"\">TB20-008482</text></g><g transform=\"translate(264.15,503.07)rotate(0)\"><text x=\"15.00\" y=\"2.81\" style=\"\">TB21-002477</text></g><g transform=\"translate(260.51,494.90)rotate(0)\"><text x=\"15.00\" y=\"2.81\" style=\"\">TB21-003550</text></g><g transform=\"translate(270.29,486.74)rotate(0)\"><text x=\"15.00\" y=\"2.81\" style=\"\">TB20-008539</text></g><g transform=\"translate(270.29,478.57)rotate(0)\"><text x=\"15.00\" y=\"2.81\" style=\"\">TB20-008494</text></g><g transform=\"translate(273.91,470.41)rotate(0)\"><text x=\"15.00\" y=\"2.81\" style=\"\">TB21-001453</text></g><g transform=\"translate(266.70,462.25)rotate(0)\"><text x=\"15.00\" y=\"2.81\" style=\"\">TB21-005756</text></g><g transform=\"translate(266.63,454.08)rotate(0)\"><text x=\"15.00\" y=\"2.81\" style=\"\">TB21-004491</text></g><g transform=\"translate(250.10,445.92)rotate(0)\"><text x=\"15.00\" y=\"2.81\" style=\"\">TB21-005048</text></g><g transform=\"translate(250.18,437.75)rotate(0)\"><text x=\"15.00\" y=\"2.81\" style=\"\">TB21-006681</text></g><g transform=\"translate(998.55,429.59)rotate(0)\"><text x=\"15.00\" y=\"2.81\" style=\"\">TB21-003857</text></g><g transform=\"translate(1000.67,421.43)rotate(0)\"><text x=\"15.00\" y=\"2.81\" style=\"\">TB21-004961</text></g><g transform=\"translate(1036.14,413.26)rotate(0)\"><text x=\"15.00\" y=\"2.81\" style=\"\">TB21-007218</text></g><g transform=\"translate(546.16,405.10)rotate(0)\"><text x=\"15.00\" y=\"2.81\" style=\"\">TB21-002478</text></g><g transform=\"translate(542.54,396.93)rotate(0)\"><text x=\"15.00\" y=\"2.81\" style=\"\">TB21-001822</text></g><g transform=\"translate(262.79,388.77)rotate(0)\"><text x=\"15.00\" y=\"2.81\" style=\"\">TB21-006172</text></g><g transform=\"translate(262.79,380.61)rotate(0)\"><text x=\"15.00\" y=\"2.81\" style=\"\">TB21-007003</text></g><g transform=\"translate(262.79,372.44)rotate(0)\"><text x=\"15.00\" y=\"2.81\" style=\"\">TB21-005484</text></g><g transform=\"translate(270.04,364.28)rotate(0)\"><text x=\"15.00\" y=\"2.81\" style=\"\">TB20-009946</text></g><g transform=\"translate(266.41,356.12)rotate(0)\"><text x=\"15.00\" y=\"2.81\" style=\"\">TB20-007196</text></g><g transform=\"translate(266.41,347.95)rotate(0)\"><text x=\"15.00\" y=\"2.81\" style=\"\">TB21-006183</text></g><g transform=\"translate(266.41,339.79)rotate(0)\"><text x=\"15.00\" y=\"2.81\" style=\"\">TB21-005633</text></g><g transform=\"translate(270.04,331.62)rotate(0)\"><text x=\"15.00\" y=\"2.81\" style=\"\">TB21-000372</text></g><g transform=\"translate(266.53,323.46)rotate(0)\"><text x=\"15.00\" y=\"2.81\" style=\"\">TB21-003616</text></g><g transform=\"translate(266.53,315.30)rotate(0)\"><text x=\"15.00\" y=\"2.81\" style=\"\">TB20-003017</text></g><g transform=\"translate(270.15,307.13)rotate(0)\"><text x=\"15.00\" y=\"2.81\" style=\"\">TB21-002576</text></g><g transform=\"translate(277.41,298.97)rotate(0)\"><text x=\"15.00\" y=\"2.81\" style=\"\">TB21-004763</text></g><g transform=\"translate(263.05,290.80)rotate(0)\"><text x=\"15.00\" y=\"2.81\" style=\"\">TB21-006150</text></g><g transform=\"translate(224.20,282.64)rotate(0)\"><text x=\"15.00\" y=\"2.81\" style=\"\">TB20-008480</text></g><g transform=\"translate(220.58,274.48)rotate(0)\"><text x=\"15.00\" y=\"2.81\" style=\"\">TB21-009235</text></g><g transform=\"translate(238.84,266.31)rotate(0)\"><text x=\"15.00\" y=\"2.81\" style=\"\">TB21-005040</text></g><g transform=\"translate(228.40,258.15)rotate(0)\"><text x=\"15.00\" y=\"2.81\" style=\"\">TB20-008004</text></g><g transform=\"translate(204.08,249.98)rotate(0)\"><text x=\"15.00\" y=\"2.81\" style=\"\">TB21-005761</text></g><g transform=\"translate(207.70,241.82)rotate(0)\"><text x=\"15.00\" y=\"2.81\" style=\"\">TB21-004667</text></g><g transform=\"translate(200.44,233.66)rotate(0)\"><text x=\"15.00\" y=\"2.81\" style=\"\">TB20-007397</text></g><g transform=\"translate(196.81,225.49)rotate(0)\"><text x=\"15.00\" y=\"2.81\" style=\"\">TB21-005746</text></g><g transform=\"translate(200.44,217.33)rotate(0)\"><text x=\"15.00\" y=\"2.81\" style=\"\">TB21-004455</text></g><g transform=\"translate(204.07,209.17)rotate(0)\"><text x=\"15.00\" y=\"2.81\" style=\"\">TB20-001671</text></g><g transform=\"translate(204.07,201.00)rotate(0)\"><text x=\"15.00\" y=\"2.81\" style=\"\">TB21-006176</text></g><g transform=\"translate(207.69,192.84)rotate(0)\"><text x=\"15.00\" y=\"2.81\" style=\"\">TB20-007395</text></g><g transform=\"translate(196.82,184.67)rotate(0)\"><text x=\"15.00\" y=\"2.81\" style=\"\">TB21-000716</text></g><g transform=\"translate(196.81,176.51)rotate(0)\"><text x=\"15.00\" y=\"2.81\" style=\"\">TB21-004511</text></g><g transform=\"translate(193.18,168.35)rotate(0)\"><text x=\"15.00\" y=\"2.81\" style=\"\">TB20-007352</text></g><g transform=\"translate(196.82,160.18)rotate(0)\"><text x=\"15.00\" y=\"2.81\" style=\"\">TB20-009717</text></g><g transform=\"translate(196.85,152.02)rotate(0)\"><text x=\"15.00\" y=\"2.81\" style=\"\">TB20-011683</text></g><g transform=\"translate(204.13,143.85)rotate(0)\"><text x=\"15.00\" y=\"2.81\" style=\"\">TB20-008169</text></g><g transform=\"translate(204.14,135.69)rotate(0)\"><text x=\"15.00\" y=\"2.81\" style=\"\">TB21-001382</text></g><g transform=\"translate(193.21,127.53)rotate(0)\"><text x=\"15.00\" y=\"2.81\" style=\"\">TB21-002598</text></g><g transform=\"translate(196.85,119.36)rotate(0)\"><text x=\"15.00\" y=\"2.81\" style=\"\">TB21-002581</text></g><g transform=\"translate(196.85,111.20)rotate(0)\"><text x=\"15.00\" y=\"2.81\" style=\"\">TB21-005363</text></g><g transform=\"translate(205.15,103.03)rotate(0)\"><text x=\"15.00\" y=\"2.81\" style=\"\">TB20-007880</text></g><g transform=\"translate(205.15,94.87)rotate(0)\"><text x=\"15.00\" y=\"2.81\" style=\"\">TB20-007291</text></g><g transform=\"translate(212.46,86.71)rotate(0)\"><text x=\"15.00\" y=\"2.81\" style=\"\">TB20-005224</text></g><g transform=\"translate(209.06,78.54)rotate(0)\"><text x=\"15.00\" y=\"2.81\" style=\"\">TB21-006205</text></g><g transform=\"translate(197.88,70.38)rotate(0)\"><text x=\"15.00\" y=\"2.81\" style=\"\">TB21-004516</text></g><g transform=\"translate(51.79,62.22)rotate(0)\"><text x=\"15.00\" y=\"2.81\" style=\"\">ref</text></g></g></g></g></g></svg><div class=\"toyplot-behavior\"><script>(function()\n",
       "{\n",
       "var modules={};\n",
       "})();</script></div></div>"
      ]
     },
     "metadata": {},
     "output_type": "display_data"
    }
   ],
   "source": [
    "import toytree, toyplot\n",
    "treefile1 = '/storage/btbgenie/monaghan/temp_results/tree.newick'\n",
    "tre = toytree.tree(treefile1)\n",
    "canvas,t,r=tre.draw(layout='r',width=1200,height=900)"
   ]
  },
  {
   "cell_type": "code",
   "execution_count": 46,
   "metadata": {},
   "outputs": [
    {
     "name": "stdout",
     "output_type": "stream",
     "text": [
      "found 1646 sites for core snps\n",
      "648 sites with at least one missing sample\n",
      "31 uninformative sites\n",
      "raxmlHPC-PTHREADS -f a -N 100 -T 8 -m GTRCAT -V -p 73564176 -x 61282166 -n variants -w /home/farrell/gitprojects/snipgenie/notebooks/temp -s core_test.fa\n"
     ]
    }
   ],
   "source": [
    "reload(tools)\n",
    "seqrecs, smat = tools.core_alignment_from_vcf('/storage/btbgenie/monaghan/temp_results/snps.vcf.gz', missing=True)\n",
    "SeqIO.write(seqrecs, 'core_test.fa','fasta')\n",
    "treefile2 = trees.run_RAXML('core_test.fa', outpath='temp')"
   ]
  },
  {
   "cell_type": "code",
   "execution_count": 53,
   "metadata": {},
   "outputs": [
    {
     "data": {
      "text/html": [
       "<div class=\"toyplot\" id=\"ta1fc742333a54df8b48ae8d12b868620\" style=\"text-align:center\"><svg class=\"toyplot-canvas-Canvas\" xmlns:toyplot=\"http://www.sandia.gov/toyplot\" xmlns:xlink=\"http://www.w3.org/1999/xlink\" xmlns=\"http://www.w3.org/2000/svg\" width=\"1200.0px\" height=\"900.0px\" viewBox=\"0 0 1200.0 900.0\" preserveAspectRatio=\"xMidYMid meet\" style=\"background-color:transparent;border-color:#292724;border-style:none;border-width:1.0;fill:rgb(16.1%,15.3%,14.1%);fill-opacity:1.0;font-family:Helvetica;font-size:12px;opacity:1.0;stroke:rgb(16.1%,15.3%,14.1%);stroke-opacity:1.0;stroke-width:1.0\" id=\"t17b534656ac044e8948db762778cb26a\"><g class=\"toyplot-coordinates-Cartesian\" id=\"t019dd03b7bf04549b557de25208063ed\"><clipPath id=\"t7069cb4751fa4db792b3b77899098f0c\"><rect x=\"30.0\" y=\"30.0\" width=\"1140.0\" height=\"840.0\"></rect></clipPath><g clip-path=\"url(#t7069cb4751fa4db792b3b77899098f0c)\"><g class=\"toytree-mark-Toytree\" id=\"t19e056a65d8242beaf7b2742b18b67a8\"><g class=\"toytree-Edges\" style=\"fill:none;stroke:rgb(14.9%,14.9%,14.9%);stroke-linecap:round;stroke-opacity:1;stroke-width:2\"><path d=\"M 51.8 115.7 L 51.8 76.5 L 63.5 76.5\" id=\"189,188\"></path><path d=\"M 51.8 115.7 L 51.8 208.3 L 75.5 208.3\" id=\"189,187\"></path><path d=\"M 63.5 76.5 L 63.5 82.6 L 70.5 82.6\" id=\"188,186\"></path><path d=\"M 75.5 208.3 L 75.5 133.6 L 81.2 133.6\" id=\"187,185\"></path><path d=\"M 75.5 208.3 L 75.5 283.0 L 173.5 283.0\" id=\"187,184\"></path><path d=\"M 81.2 133.6 L 81.2 104.1 L 103.4 104.1\" id=\"185,183\"></path><path d=\"M 81.2 133.6 L 81.2 163.2 L 106.5 163.2\" id=\"185,182\"></path><path d=\"M 173.5 283.0 L 173.5 245.9 L 191.6 245.9\" id=\"184,181\"></path><path d=\"M 173.5 283.0 L 173.5 320.1 L 179.7 320.1\" id=\"184,180\"></path><path d=\"M 103.4 104.1 L 103.4 113.2 L 103.4 113.2\" id=\"183,179\"></path><path d=\"M 106.5 163.2 L 106.5 150.0 L 110.7 150.0\" id=\"182,178\"></path><path d=\"M 106.5 163.2 L 106.5 176.5 L 106.5 176.5\" id=\"182,177\"></path><path d=\"M 179.7 320.1 L 179.7 265.3 L 291.3 265.3\" id=\"180,176\"></path><path d=\"M 179.7 320.1 L 179.7 375.0 L 183.8 375.0\" id=\"180,175\"></path><path d=\"M 103.4 113.2 L 103.4 123.4 L 105.6 123.4\" id=\"179,174\"></path><path d=\"M 110.7 150.0 L 110.7 156.1 L 110.7 156.1\" id=\"178,173\"></path><path d=\"M 106.5 176.5 L 106.5 184.6 L 106.5 184.6\" id=\"177,172\"></path><path d=\"M 291.3 265.3 L 291.3 272.4 L 297.2 272.4\" id=\"176,171\"></path><path d=\"M 183.8 375.0 L 183.8 311.0 L 315.5 311.0\" id=\"175,170\"></path><path d=\"M 183.8 375.0 L 183.8 439.0 L 183.8 439.0\" id=\"175,169\"></path><path d=\"M 105.6 123.4 L 105.6 115.3 L 109.8 115.3\" id=\"174,168\"></path><path d=\"M 105.6 123.4 L 105.6 131.6 L 105.6 131.6\" id=\"174,167\"></path><path d=\"M 106.5 184.6 L 106.5 192.7 L 106.5 192.7\" id=\"172,166\"></path><path d=\"M 297.2 272.4 L 297.2 278.6 L 307.5 278.6\" id=\"171,165\"></path><path d=\"M 315.5 311.0 L 315.5 331.1 L 344.6 331.1\" id=\"170,164\"></path><path d=\"M 183.8 439.0 L 183.8 410.2 L 370.3 410.2\" id=\"169,163\"></path><path d=\"M 183.8 439.0 L 183.8 467.7 L 194.1 467.7\" id=\"169,162\"></path><path d=\"M 106.5 192.7 L 106.5 200.7 L 108.6 200.7\" id=\"166,161\"></path><path d=\"M 344.6 331.1 L 344.6 311.2 L 348.7 311.2\" id=\"164,160\"></path><path d=\"M 344.6 331.1 L 344.6 351.0 L 346.6 351.0\" id=\"164,159\"></path><path d=\"M 370.3 410.2 L 370.3 401.0 L 652.6 401.0\" id=\"163,158\"></path><path d=\"M 370.3 410.2 L 370.3 419.4 L 545.3 419.4\" id=\"163,157\"></path><path d=\"M 194.1 467.7 L 194.1 441.8 L 271.9 441.8\" id=\"162,156\"></path><path d=\"M 194.1 467.7 L 194.1 493.7 L 251.0 493.7\" id=\"162,155\"></path><path d=\"M 108.6 200.7 L 108.6 208.7 L 108.6 208.7\" id=\"161,154\"></path><path d=\"M 348.7 311.2 L 348.7 303.0 L 348.7 303.0\" id=\"160,153\"></path><path d=\"M 348.7 311.2 L 348.7 319.4 L 350.8 319.4\" id=\"160,152\"></path><path d=\"M 346.6 351.0 L 346.6 335.7 L 348.7 335.7\" id=\"159,151\"></path><path d=\"M 346.6 351.0 L 346.6 366.3 L 346.6 366.3\" id=\"159,150\"></path><path d=\"M 545.3 419.4 L 545.3 425.5 L 997.1 425.5\" id=\"157,149\"></path><path d=\"M 251.0 493.7 L 251.0 458.2 L 372.4 458.2\" id=\"155,148\"></path><path d=\"M 251.0 493.7 L 251.0 529.1 L 251.0 529.1\" id=\"155,147\"></path><path d=\"M 108.6 208.7 L 108.6 216.3 L 108.6 216.3\" id=\"154,146\"></path><path d=\"M 346.6 366.3 L 346.6 354.1 L 346.6 354.1\" id=\"150,145\"></path><path d=\"M 346.6 366.3 L 346.6 378.6 L 346.6 378.6\" id=\"150,144\"></path><path d=\"M 251.0 529.1 L 251.0 483.7 L 348.6 483.7\" id=\"147,143\"></path><path d=\"M 251.0 529.1 L 251.0 574.6 L 259.1 574.6\" id=\"147,142\"></path><path d=\"M 108.6 216.3 L 108.6 223.5 L 108.6 223.5\" id=\"146,141\"></path><path d=\"M 346.6 354.1 L 346.6 360.2 L 348.7 360.2\" id=\"145,140\"></path><path d=\"M 346.6 378.6 L 346.6 384.7 L 350.8 384.7\" id=\"144,139\"></path><path d=\"M 348.6 483.7 L 348.6 474.5 L 352.3 474.5\" id=\"143,138\"></path><path d=\"M 348.6 483.7 L 348.6 492.9 L 367.7 492.9\" id=\"143,137\"></path><path d=\"M 259.1 574.6 L 259.1 520.4 L 279.0 520.4\" id=\"142,136\"></path><path d=\"M 259.1 574.6 L 259.1 628.8 L 324.5 628.8\" id=\"142,135\"></path><path d=\"M 108.6 223.5 L 108.6 229.6 L 114.8 229.6\" id=\"141,134\"></path><path d=\"M 367.7 492.9 L 367.7 499.0 L 371.8 499.0\" id=\"137,133\"></path><path d=\"M 279.0 520.4 L 279.0 529.6 L 360.4 529.6\" id=\"136,132\"></path><path d=\"M 324.5 628.8 L 324.5 573.5 L 328.6 573.5\" id=\"135,131\"></path><path d=\"M 324.5 628.8 L 324.5 684.1 L 324.5 684.1\" id=\"135,130\"></path><path d=\"M 360.4 529.6 L 360.4 539.8 L 362.5 539.8\" id=\"132,129\"></path><path d=\"M 328.6 573.5 L 328.6 564.3 L 346.7 564.3\" id=\"131,128\"></path><path d=\"M 328.6 573.5 L 328.6 582.7 L 343.1 582.7\" id=\"131,127\"></path><path d=\"M 324.5 684.1 L 324.5 632.2 L 326.6 632.2\" id=\"130,126\"></path><path d=\"M 324.5 684.1 L 324.5 736.1 L 324.5 736.1\" id=\"130,125\"></path><path d=\"M 362.5 539.8 L 362.5 531.6 L 364.5 531.6\" id=\"129,124\"></path><path d=\"M 362.5 539.8 L 362.5 548.0 L 362.5 548.0\" id=\"129,123\"></path><path d=\"M 343.1 582.7 L 343.1 588.8 L 343.1 588.8\" id=\"127,122\"></path><path d=\"M 326.6 632.2 L 326.6 607.2 L 339.0 607.2\" id=\"126,121\"></path><path d=\"M 326.6 632.2 L 326.6 657.2 L 336.9 657.2\" id=\"126,120\"></path><path d=\"M 324.5 736.1 L 324.5 713.3 L 332.8 713.3\" id=\"125,119\"></path><path d=\"M 324.5 736.1 L 324.5 759.0 L 326.6 759.0\" id=\"125,118\"></path><path d=\"M 339.0 607.2 L 339.0 613.3 L 339.0 613.3\" id=\"121,117\"></path><path d=\"M 336.9 657.2 L 336.9 637.8 L 341.0 637.8\" id=\"120,116\"></path><path d=\"M 336.9 657.2 L 336.9 676.5 L 336.9 676.5\" id=\"120,115\"></path><path d=\"M 332.8 713.3 L 332.8 719.4 L 339.0 719.4\" id=\"119,114\"></path><path d=\"M 326.6 759.0 L 326.6 735.7 L 364.0 735.7\" id=\"118,113\"></path><path d=\"M 326.6 759.0 L 326.6 782.2 L 326.6 782.2\" id=\"118,112\"></path><path d=\"M 341.0 637.8 L 341.0 629.6 L 343.1 629.6\" id=\"116,111\"></path><path d=\"M 341.0 637.8 L 341.0 645.9 L 341.0 645.9\" id=\"116,110\"></path><path d=\"M 336.9 676.5 L 336.9 664.3 L 336.9 664.3\" id=\"115,109\"></path><path d=\"M 336.9 676.5 L 336.9 688.8 L 339.0 688.8\" id=\"115,108\"></path><path d=\"M 326.6 782.2 L 326.6 760.2 L 330.7 760.2\" id=\"112,107\"></path><path d=\"M 326.6 782.2 L 326.6 804.1 L 330.7 804.1\" id=\"112,106\"></path><path d=\"M 336.9 664.3 L 336.9 670.4 L 336.9 670.4\" id=\"109,105\"></path><path d=\"M 339.0 688.8 L 339.0 694.9 L 341.0 694.9\" id=\"108,104\"></path><path d=\"M 330.7 760.2 L 330.7 752.1 L 336.9 752.1\" id=\"107,103\"></path><path d=\"M 330.7 760.2 L 330.7 768.4 L 345.2 768.4\" id=\"107,102\"></path><path d=\"M 330.7 804.1 L 330.7 787.8 L 343.1 787.8\" id=\"106,101\"></path><path d=\"M 330.7 804.1 L 330.7 820.4 L 334.8 820.4\" id=\"106,100\"></path><path d=\"M 343.1 787.8 L 343.1 794.9 L 345.2 794.9\" id=\"101,99\"></path><path d=\"M 334.8 820.4 L 334.8 827.6 L 337.3 827.6\" id=\"100,98\"></path><path d=\"M 345.2 794.9 L 345.2 801.0 L 345.2 801.0\" id=\"99,97\"></path><path d=\"M 337.3 827.6 L 337.3 833.7 L 344.8 833.7\" id=\"98,96\"></path><path d=\"M 51.8 115.7 L 51.8 62.2 L 76.9 62.2\" id=\"189,95\"></path><path d=\"M 63.5 76.5 L 63.5 70.4 L 73.9 70.4\" id=\"188,94\"></path><path d=\"M 70.5 82.6 L 70.5 78.5 L 72.6 78.5\" id=\"186,93\"></path><path d=\"M 70.5 82.6 L 70.5 86.7 L 72.6 86.7\" id=\"186,92\"></path><path d=\"M 103.4 104.1 L 103.4 94.9 L 103.4 94.9\" id=\"183,91\"></path><path d=\"M 103.4 113.2 L 103.4 103.0 L 103.4 103.0\" id=\"179,90\"></path><path d=\"M 109.8 115.3 L 109.8 111.2 L 109.8 111.2\" id=\"168,89\"></path><path d=\"M 109.8 115.3 L 109.8 119.4 L 113.9 119.4\" id=\"168,88\"></path><path d=\"M 105.6 131.6 L 105.6 127.5 L 111.9 127.5\" id=\"167,87\"></path><path d=\"M 105.6 131.6 L 105.6 135.7 L 107.9 135.7\" id=\"167,86\"></path><path d=\"M 110.7 150.0 L 110.7 143.9 L 112.7 143.9\" id=\"178,85\"></path><path d=\"M 110.7 156.1 L 110.7 152.0 L 110.7 152.0\" id=\"173,84\"></path><path d=\"M 110.7 156.1 L 110.7 160.2 L 110.7 160.2\" id=\"173,83\"></path><path d=\"M 106.5 176.5 L 106.5 168.3 L 108.6 168.3\" id=\"177,82\"></path><path d=\"M 106.5 184.6 L 106.5 176.5 L 106.5 176.5\" id=\"172,81\"></path><path d=\"M 106.5 192.7 L 106.5 184.7 L 110.7 184.7\" id=\"166,80\"></path><path d=\"M 108.6 200.7 L 108.6 192.8 L 112.8 192.8\" id=\"161,79\"></path><path d=\"M 108.6 208.7 L 108.6 201.0 L 108.6 201.0\" id=\"154,78\"></path><path d=\"M 108.6 216.3 L 108.6 209.2 L 110.7 209.2\" id=\"146,77\"></path><path d=\"M 108.6 223.5 L 108.6 217.3 L 112.8 217.3\" id=\"141,76\"></path><path d=\"M 114.8 229.6 L 114.8 225.5 L 114.8 225.5\" id=\"134,75\"></path><path d=\"M 114.8 229.6 L 114.8 233.7 L 119.0 233.7\" id=\"134,74\"></path><path d=\"M 191.6 245.9 L 191.6 241.8 L 240.9 241.8\" id=\"181,73\"></path><path d=\"M 191.6 245.9 L 191.6 250.0 L 329.2 250.0\" id=\"181,72\"></path><path d=\"M 291.3 265.3 L 291.3 258.1 L 329.6 258.1\" id=\"176,71\"></path><path d=\"M 297.2 272.4 L 297.2 266.3 L 326.4 266.3\" id=\"171,70\"></path><path d=\"M 307.5 278.6 L 307.5 274.5 L 311.6 274.5\" id=\"165,69\"></path><path d=\"M 307.5 278.6 L 307.5 282.6 L 307.5 282.6\" id=\"165,68\"></path><path d=\"M 315.5 311.0 L 315.5 290.8 L 353.5 290.8\" id=\"170,67\"></path><path d=\"M 348.7 303.0 L 348.7 299.0 L 348.7 299.0\" id=\"153,66\"></path><path d=\"M 348.7 303.0 L 348.7 307.1 L 350.8 307.1\" id=\"153,65\"></path><path d=\"M 350.8 319.4 L 350.8 315.3 L 350.8 315.3\" id=\"152,64\"></path><path d=\"M 350.8 319.4 L 350.8 323.5 L 359.1 323.5\" id=\"152,63\"></path><path d=\"M 348.7 335.7 L 348.7 331.6 L 348.7 331.6\" id=\"151,62\"></path><path d=\"M 348.7 335.7 L 348.7 339.8 L 352.8 339.8\" id=\"151,61\"></path><path d=\"M 346.6 354.1 L 346.6 348.0 L 348.7 348.0\" id=\"145,60\"></path><path d=\"M 348.7 360.2 L 348.7 356.1 L 350.7 356.1\" id=\"140,59\"></path><path d=\"M 348.7 360.2 L 348.7 364.3 L 348.7 364.3\" id=\"140,58\"></path><path d=\"M 346.6 378.6 L 346.6 372.4 L 352.8 372.4\" id=\"144,57\"></path><path d=\"M 350.8 384.7 L 350.8 380.6 L 352.8 380.6\" id=\"139,56\"></path><path d=\"M 350.8 384.7 L 350.8 388.8 L 352.8 388.8\" id=\"139,55\"></path><path d=\"M 652.6 401.0 L 652.6 396.9 L 654.6 396.9\" id=\"158,54\"></path><path d=\"M 652.6 401.0 L 652.6 405.1 L 656.8 405.1\" id=\"158,53\"></path><path d=\"M 545.3 419.4 L 545.3 413.3 L 1025.2 413.3\" id=\"157,52\"></path><path d=\"M 997.1 425.5 L 997.1 421.4 L 1028.0 421.4\" id=\"149,51\"></path><path d=\"M 997.1 425.5 L 997.1 429.6 L 1036.1 429.6\" id=\"149,50\"></path><path d=\"M 271.9 441.8 L 271.9 437.8 L 351.2 437.8\" id=\"156,49\"></path><path d=\"M 271.9 441.8 L 271.9 445.9 L 357.3 445.9\" id=\"156,48\"></path><path d=\"M 372.4 458.2 L 372.4 454.1 L 376.5 454.1\" id=\"148,47\"></path><path d=\"M 372.4 458.2 L 372.4 462.2 L 372.4 462.2\" id=\"148,46\"></path><path d=\"M 352.3 474.5 L 352.3 470.4 L 373.2 470.4\" id=\"138,45\"></path><path d=\"M 352.3 474.5 L 352.3 478.6 L 369.1 478.6\" id=\"138,44\"></path><path d=\"M 367.7 492.9 L 367.7 486.7 L 371.9 486.7\" id=\"137,43\"></path><path d=\"M 371.8 499.0 L 371.8 494.9 L 371.8 494.9\" id=\"133,42\"></path><path d=\"M 371.8 499.0 L 371.8 503.1 L 371.8 503.1\" id=\"133,41\"></path><path d=\"M 279.0 520.4 L 279.0 511.2 L 397.3 511.2\" id=\"136,40\"></path><path d=\"M 360.4 529.6 L 360.4 519.4 L 360.4 519.4\" id=\"132,39\"></path><path d=\"M 364.5 531.6 L 364.5 527.6 L 364.5 527.6\" id=\"124,38\"></path><path d=\"M 364.5 531.6 L 364.5 535.7 L 366.6 535.7\" id=\"124,37\"></path><path d=\"M 362.5 548.0 L 362.5 543.9 L 364.5 543.9\" id=\"123,36\"></path><path d=\"M 362.5 548.0 L 362.5 552.0 L 366.6 552.0\" id=\"123,35\"></path><path d=\"M 346.7 564.3 L 346.7 560.2 L 349.2 560.2\" id=\"128,34\"></path><path d=\"M 346.7 564.3 L 346.7 568.4 L 353.6 568.4\" id=\"128,33\"></path><path d=\"M 343.1 582.7 L 343.1 576.5 L 349.3 576.5\" id=\"127,32\"></path><path d=\"M 343.1 588.8 L 343.1 584.7 L 343.1 584.7\" id=\"122,31\"></path><path d=\"M 343.1 588.8 L 343.1 592.9 L 343.1 592.9\" id=\"122,30\"></path><path d=\"M 339.0 607.2 L 339.0 601.0 L 339.0 601.0\" id=\"121,29\"></path><path d=\"M 339.0 613.3 L 339.0 609.2 L 345.2 609.2\" id=\"117,28\"></path><path d=\"M 339.0 613.3 L 339.0 617.4 L 345.5 617.4\" id=\"117,27\"></path><path d=\"M 343.1 629.6 L 343.1 625.5 L 343.1 625.5\" id=\"111,26\"></path><path d=\"M 343.1 629.6 L 343.1 633.7 L 345.1 633.7\" id=\"111,25\"></path><path d=\"M 341.0 645.9 L 341.0 641.9 L 341.0 641.9\" id=\"110,24\"></path><path d=\"M 341.0 645.9 L 341.0 650.0 L 343.1 650.0\" id=\"110,23\"></path><path d=\"M 336.9 664.3 L 336.9 658.2 L 336.9 658.2\" id=\"109,22\"></path><path d=\"M 336.9 670.4 L 336.9 666.3 L 341.0 666.3\" id=\"105,21\"></path><path d=\"M 336.9 670.4 L 336.9 674.5 L 343.1 674.5\" id=\"105,20\"></path><path d=\"M 339.0 688.8 L 339.0 682.7 L 343.1 682.7\" id=\"108,19\"></path><path d=\"M 341.0 694.9 L 341.0 690.8 L 341.0 690.8\" id=\"104,18\"></path><path d=\"M 341.0 694.9 L 341.0 699.0 L 351.4 699.0\" id=\"104,17\"></path><path d=\"M 332.8 713.3 L 332.8 707.2 L 336.9 707.2\" id=\"119,16\"></path><path d=\"M 339.0 719.4 L 339.0 715.3 L 339.0 715.3\" id=\"114,15\"></path><path d=\"M 339.0 719.4 L 339.0 723.5 L 341.0 723.5\" id=\"114,14\"></path><path d=\"M 364.0 735.7 L 364.0 731.7 L 364.0 731.7\" id=\"113,13\"></path><path d=\"M 364.0 735.7 L 364.0 739.8 L 368.1 739.8\" id=\"113,12\"></path><path d=\"M 336.9 752.1 L 336.9 748.0 L 345.2 748.0\" id=\"103,11\"></path><path d=\"M 336.9 752.1 L 336.9 756.1 L 347.3 756.1\" id=\"103,10\"></path><path d=\"M 345.2 768.4 L 345.2 764.3 L 345.2 764.3\" id=\"102,9\"></path><path d=\"M 345.2 768.4 L 345.2 772.5 L 347.3 772.5\" id=\"102,8\"></path><path d=\"M 343.1 787.8 L 343.1 780.6 L 343.1 780.6\" id=\"101,7\"></path><path d=\"M 345.2 794.9 L 345.2 788.8 L 345.2 788.8\" id=\"99,6\"></path><path d=\"M 345.2 801.0 L 345.2 797.0 L 347.3 797.0\" id=\"97,5\"></path><path d=\"M 345.2 801.0 L 345.2 805.1 L 347.9 805.1\" id=\"97,4\"></path><path d=\"M 334.8 820.4 L 334.8 813.3 L 349.3 813.3\" id=\"100,3\"></path><path d=\"M 337.3 827.6 L 337.3 821.5 L 347.7 821.5\" id=\"98,2\"></path><path d=\"M 344.8 833.7 L 344.8 829.6 L 348.9 829.6\" id=\"96,1\"></path><path d=\"M 344.8 833.7 L 344.8 837.8 L 347.2 837.8\" id=\"96,0\"></path></g><g class=\"toytree-TipLabels\" style=\"fill:rgb(14.9%,14.9%,14.9%);fill-opacity:1.0;font-family:helvetica;font-size:11px;font-weight:normal;stroke:none;white-space:pre\"><g transform=\"translate(347.25,837.78)rotate(0)\"><text x=\"15.00\" y=\"2.81\" style=\"\">TB20-007365</text></g><g transform=\"translate(348.89,829.62)rotate(0)\"><text x=\"15.00\" y=\"2.81\" style=\"\">TB20-00383</text></g><g transform=\"translate(347.67,821.46)rotate(0)\"><text x=\"15.00\" y=\"2.81\" style=\"\">TB20-010501</text></g><g transform=\"translate(349.32,813.29)rotate(0)\"><text x=\"15.00\" y=\"2.81\" style=\"\">TB20-010290</text></g><g transform=\"translate(347.86,805.13)rotate(0)\"><text x=\"15.00\" y=\"2.81\" style=\"\">TB21-003810</text></g><g transform=\"translate(347.26,796.97)rotate(0)\"><text x=\"15.00\" y=\"2.81\" style=\"\">TB21-002605</text></g><g transform=\"translate(345.20,788.80)rotate(0)\"><text x=\"15.00\" y=\"2.81\" style=\"\">TB21-004113</text></g><g transform=\"translate(343.14,780.64)rotate(0)\"><text x=\"15.00\" y=\"2.81\" style=\"\">TB21-005004</text></g><g transform=\"translate(347.25,772.47)rotate(0)\"><text x=\"15.00\" y=\"2.81\" style=\"\">TB21-003761</text></g><g transform=\"translate(345.20,764.31)rotate(0)\"><text x=\"15.00\" y=\"2.81\" style=\"\">TB21-003754</text></g><g transform=\"translate(347.27,756.15)rotate(0)\"><text x=\"15.00\" y=\"2.81\" style=\"\">TB20-009957</text></g><g transform=\"translate(345.21,747.98)rotate(0)\"><text x=\"15.00\" y=\"2.81\" style=\"\">TB21-006021</text></g><g transform=\"translate(368.09,739.82)rotate(0)\"><text x=\"15.00\" y=\"2.81\" style=\"\">TB20-008178</text></g><g transform=\"translate(363.96,731.65)rotate(0)\"><text x=\"15.00\" y=\"2.81\" style=\"\">TB20-010495</text></g><g transform=\"translate(341.04,723.49)rotate(0)\"><text x=\"15.00\" y=\"2.81\" style=\"\">TB20-001076</text></g><g transform=\"translate(338.98,715.33)rotate(0)\"><text x=\"15.00\" y=\"2.81\" style=\"\">TB20-013130</text></g><g transform=\"translate(336.92,707.16)rotate(0)\"><text x=\"15.00\" y=\"2.81\" style=\"\">TB21-002445</text></g><g transform=\"translate(351.37,699.00)rotate(0)\"><text x=\"15.00\" y=\"2.81\" style=\"\">TB21-002988</text></g><g transform=\"translate(341.04,690.83)rotate(0)\"><text x=\"15.00\" y=\"2.81\" style=\"\">TB20-006150</text></g><g transform=\"translate(343.09,682.67)rotate(0)\"><text x=\"15.00\" y=\"2.81\" style=\"\">TB20-001123</text></g><g transform=\"translate(343.15,674.51)rotate(0)\"><text x=\"15.00\" y=\"2.81\" style=\"\">TB21-003351</text></g><g transform=\"translate(341.04,666.34)rotate(0)\"><text x=\"15.00\" y=\"2.81\" style=\"\">TB21-003503</text></g><g transform=\"translate(336.92,658.18)rotate(0)\"><text x=\"15.00\" y=\"2.81\" style=\"\">TB21-003481</text></g><g transform=\"translate(343.09,650.02)rotate(0)\"><text x=\"15.00\" y=\"2.81\" style=\"\">TB20-010284</text></g><g transform=\"translate(341.03,641.85)rotate(0)\"><text x=\"15.00\" y=\"2.81\" style=\"\">TB21-000767</text></g><g transform=\"translate(345.14,633.69)rotate(0)\"><text x=\"15.00\" y=\"2.81\" style=\"\">TB21-003501</text></g><g transform=\"translate(343.09,625.52)rotate(0)\"><text x=\"15.00\" y=\"2.81\" style=\"\">TB20-007517</text></g><g transform=\"translate(345.49,617.36)rotate(0)\"><text x=\"15.00\" y=\"2.81\" style=\"\">TB20-008255</text></g><g transform=\"translate(345.18,609.20)rotate(0)\"><text x=\"15.00\" y=\"2.81\" style=\"\">TB21-005044</text></g><g transform=\"translate(338.98,601.03)rotate(0)\"><text x=\"15.00\" y=\"2.81\" style=\"\">TB20-008488</text></g><g transform=\"translate(343.14,592.87)rotate(0)\"><text x=\"15.00\" y=\"2.81\" style=\"\">TB21-002572</text></g><g transform=\"translate(343.14,584.70)rotate(0)\"><text x=\"15.00\" y=\"2.81\" style=\"\">TB20-007106</text></g><g transform=\"translate(349.33,576.54)rotate(0)\"><text x=\"15.00\" y=\"2.81\" style=\"\">TB21-002394</text></g><g transform=\"translate(353.57,568.38)rotate(0)\"><text x=\"15.00\" y=\"2.81\" style=\"\">TB21-003803</text></g><g transform=\"translate(349.15,560.21)rotate(0)\"><text x=\"15.00\" y=\"2.81\" style=\"\">TB20-006503</text></g><g transform=\"translate(366.58,552.05)rotate(0)\"><text x=\"15.00\" y=\"2.81\" style=\"\">TB21-005814</text></g><g transform=\"translate(364.52,543.88)rotate(0)\"><text x=\"15.00\" y=\"2.81\" style=\"\">TB21-005899</text></g><g transform=\"translate(366.57,535.72)rotate(0)\"><text x=\"15.00\" y=\"2.81\" style=\"\">TB21-001820</text></g><g transform=\"translate(364.51,527.56)rotate(0)\"><text x=\"15.00\" y=\"2.81\" style=\"\">TB20-006477</text></g><g transform=\"translate(360.41,519.39)rotate(0)\"><text x=\"15.00\" y=\"2.81\" style=\"\">TB21-002996</text></g><g transform=\"translate(397.30,511.23)rotate(0)\"><text x=\"15.00\" y=\"2.81\" style=\"\">TB20-008482</text></g><g transform=\"translate(371.75,503.07)rotate(0)\"><text x=\"15.00\" y=\"2.81\" style=\"\">TB20-008494</text></g><g transform=\"translate(371.75,494.90)rotate(0)\"><text x=\"15.00\" y=\"2.81\" style=\"\">TB20-008539</text></g><g transform=\"translate(371.89,486.74)rotate(0)\"><text x=\"15.00\" y=\"2.81\" style=\"\">TB21-001453</text></g><g transform=\"translate(369.08,478.57)rotate(0)\"><text x=\"15.00\" y=\"2.81\" style=\"\">TB21-005756</text></g><g transform=\"translate(373.23,470.41)rotate(0)\"><text x=\"15.00\" y=\"2.81\" style=\"\">TB21-004491</text></g><g transform=\"translate(372.40,462.25)rotate(0)\"><text x=\"15.00\" y=\"2.81\" style=\"\">TB21-003550</text></g><g transform=\"translate(376.53,454.08)rotate(0)\"><text x=\"15.00\" y=\"2.81\" style=\"\">TB21-002477</text></g><g transform=\"translate(357.33,445.92)rotate(0)\"><text x=\"15.00\" y=\"2.81\" style=\"\">TB21-005048</text></g><g transform=\"translate(351.15,437.75)rotate(0)\"><text x=\"15.00\" y=\"2.81\" style=\"\">TB21-006681</text></g><g transform=\"translate(1036.14,429.59)rotate(0)\"><text x=\"15.00\" y=\"2.81\" style=\"\">TB21-003857</text></g><g transform=\"translate(1027.99,421.43)rotate(0)\"><text x=\"15.00\" y=\"2.81\" style=\"\">TB21-004961</text></g><g transform=\"translate(1025.22,413.26)rotate(0)\"><text x=\"15.00\" y=\"2.81\" style=\"\">TB21-007218</text></g><g transform=\"translate(656.84,405.10)rotate(0)\"><text x=\"15.00\" y=\"2.81\" style=\"\">TB21-002478</text></g><g transform=\"translate(654.56,396.93)rotate(0)\"><text x=\"15.00\" y=\"2.81\" style=\"\">TB21-001822</text></g><g transform=\"translate(352.82,388.77)rotate(0)\"><text x=\"15.00\" y=\"2.81\" style=\"\">TB20-009946</text></g><g transform=\"translate(352.82,380.61)rotate(0)\"><text x=\"15.00\" y=\"2.81\" style=\"\">TB20-007196</text></g><g transform=\"translate(352.82,372.44)rotate(0)\"><text x=\"15.00\" y=\"2.81\" style=\"\">TB21-005484</text></g><g transform=\"translate(348.69,364.28)rotate(0)\"><text x=\"15.00\" y=\"2.81\" style=\"\">TB21-006172</text></g><g transform=\"translate(350.75,356.12)rotate(0)\"><text x=\"15.00\" y=\"2.81\" style=\"\">TB21-005633</text></g><g transform=\"translate(348.68,347.95)rotate(0)\"><text x=\"15.00\" y=\"2.81\" style=\"\">TB21-007003</text></g><g transform=\"translate(352.82,339.79)rotate(0)\"><text x=\"15.00\" y=\"2.81\" style=\"\">TB21-000372</text></g><g transform=\"translate(348.68,331.62)rotate(0)\"><text x=\"15.00\" y=\"2.81\" style=\"\">TB21-006183</text></g><g transform=\"translate(359.11,323.46)rotate(0)\"><text x=\"15.00\" y=\"2.81\" style=\"\">TB21-004763</text></g><g transform=\"translate(350.80,315.30)rotate(0)\"><text x=\"15.00\" y=\"2.81\" style=\"\">TB21-002576</text></g><g transform=\"translate(350.80,307.13)rotate(0)\"><text x=\"15.00\" y=\"2.81\" style=\"\">TB20-003017</text></g><g transform=\"translate(348.74,298.97)rotate(0)\"><text x=\"15.00\" y=\"2.81\" style=\"\">TB21-003616</text></g><g transform=\"translate(353.52,290.80)rotate(0)\"><text x=\"15.00\" y=\"2.81\" style=\"\">TB21-006150</text></g><g transform=\"translate(307.50,282.64)rotate(0)\"><text x=\"15.00\" y=\"2.81\" style=\"\">TB21-009235</text></g><g transform=\"translate(311.62,274.48)rotate(0)\"><text x=\"15.00\" y=\"2.81\" style=\"\">TB20-008480</text></g><g transform=\"translate(326.36,266.31)rotate(0)\"><text x=\"15.00\" y=\"2.81\" style=\"\">TB21-005040</text></g><g transform=\"translate(329.57,258.15)rotate(0)\"><text x=\"15.00\" y=\"2.81\" style=\"\">TB20-008004</text></g><g transform=\"translate(329.17,249.98)rotate(0)\"><text x=\"15.00\" y=\"2.81\" style=\"\">TB21-004516</text></g><g transform=\"translate(240.87,241.82)rotate(0)\"><text x=\"15.00\" y=\"2.81\" style=\"\">ref</text></g><g transform=\"translate(118.96,233.66)rotate(0)\"><text x=\"15.00\" y=\"2.81\" style=\"\">TB21-005761</text></g><g transform=\"translate(114.83,225.49)rotate(0)\"><text x=\"15.00\" y=\"2.81\" style=\"\">TB21-004667</text></g><g transform=\"translate(112.78,217.33)rotate(0)\"><text x=\"15.00\" y=\"2.81\" style=\"\">TB20-009717</text></g><g transform=\"translate(110.71,209.17)rotate(0)\"><text x=\"15.00\" y=\"2.81\" style=\"\">TB21-000716</text></g><g transform=\"translate(108.64,201.00)rotate(0)\"><text x=\"15.00\" y=\"2.81\" style=\"\">TB20-007352</text></g><g transform=\"translate(112.76,192.84)rotate(0)\"><text x=\"15.00\" y=\"2.81\" style=\"\">TB21-004511</text></g><g transform=\"translate(110.67,184.67)rotate(0)\"><text x=\"15.00\" y=\"2.81\" style=\"\">TB20-007397</text></g><g transform=\"translate(106.54,176.51)rotate(0)\"><text x=\"15.00\" y=\"2.81\" style=\"\">TB21-005746</text></g><g transform=\"translate(108.60,168.35)rotate(0)\"><text x=\"15.00\" y=\"2.81\" style=\"\">TB21-004455</text></g><g transform=\"translate(110.66,160.18)rotate(0)\"><text x=\"15.00\" y=\"2.81\" style=\"\">TB20-001671</text></g><g transform=\"translate(110.66,152.02)rotate(0)\"><text x=\"15.00\" y=\"2.81\" style=\"\">TB21-006176</text></g><g transform=\"translate(112.72,143.85)rotate(0)\"><text x=\"15.00\" y=\"2.81\" style=\"\">TB20-007395</text></g><g transform=\"translate(107.85,135.69)rotate(0)\"><text x=\"15.00\" y=\"2.81\" style=\"\">TB21-002598</text></g><g transform=\"translate(111.86,127.53)rotate(0)\"><text x=\"15.00\" y=\"2.81\" style=\"\">TB21-001382</text></g><g transform=\"translate(113.91,119.36)rotate(0)\"><text x=\"15.00\" y=\"2.81\" style=\"\">TB20-008169</text></g><g transform=\"translate(109.78,111.20)rotate(0)\"><text x=\"15.00\" y=\"2.81\" style=\"\">TB20-011683</text></g><g transform=\"translate(103.44,103.03)rotate(0)\"><text x=\"15.00\" y=\"2.81\" style=\"\">TB21-002581</text></g><g transform=\"translate(103.44,94.87)rotate(0)\"><text x=\"15.00\" y=\"2.81\" style=\"\">TB21-005363</text></g><g transform=\"translate(72.60,86.71)rotate(0)\"><text x=\"15.00\" y=\"2.81\" style=\"\">TB20-007291</text></g><g transform=\"translate(72.57,78.54)rotate(0)\"><text x=\"15.00\" y=\"2.81\" style=\"\">TB20-007880</text></g><g transform=\"translate(73.85,70.38)rotate(0)\"><text x=\"15.00\" y=\"2.81\" style=\"\">TB20-005224</text></g><g transform=\"translate(76.90,62.22)rotate(0)\"><text x=\"15.00\" y=\"2.81\" style=\"\">TB21-006205</text></g></g></g></g></g></svg><div class=\"toyplot-behavior\"><script>(function()\n",
       "{\n",
       "var modules={};\n",
       "})();</script></div></div>"
      ]
     },
     "metadata": {},
     "output_type": "display_data"
    }
   ],
   "source": [
    "tre = toytree.tree(treefile2)\n",
    "canvas,t,r=tre.draw(layout='r',width=1200,height=900)"
   ]
  },
  {
   "cell_type": "code",
   "execution_count": 84,
   "metadata": {},
   "outputs": [
    {
     "data": {
      "text/plain": [
       "<AxesSubplot:>"
      ]
     },
     "execution_count": 84,
     "metadata": {},
     "output_type": "execute_result"
    },
    {
     "data": {
      "image/png": "[encoded data removed]",
      "text/plain": [
       "<Figure size 432x288 with 1 Axes>"
      ]
     },
     "metadata": {
      "needs_background": "light"
     },
     "output_type": "display_data"
    }
   ],
   "source": [
    "#missing sites per sample\n",
    "missing=smat[smat=='N'].count().sort_values()\n",
    "#print (missing)\n",
    "#merge with coverage stats from run\n",
    "samples=pd.read_csv('/storage/btbgenie/monaghan/temp_results/samples.csv')\n",
    "x=samples.merge(missing.rename('missing'),right_index=True,left_on='sample')\n",
    "sx=x[x.meandepth>5]\n",
    "sx.missing.hist()"
   ]
  },
  {
   "cell_type": "code",
   "execution_count": 105,
   "metadata": {},
   "outputs": [
    {
     "data": {
      "text/plain": [
       "<AxesSubplot:xlabel='meandepth', ylabel='coverage'>"
      ]
     },
     "execution_count": 105,
     "metadata": {},
     "output_type": "execute_result"
    },
    {
     "data": {
      "image/png": "[encoded data removed]",
      "text/plain": [
       "<Figure size 720x360 with 1 Axes>"
      ]
     },
     "metadata": {
      "needs_background": "light"
     },
     "output_type": "display_data"
    },
    {
     "data": {
      "image/png": "[encoded data removed]",
      "text/plain": [
       "<Figure size 720x360 with 1 Axes>"
      ]
     },
     "metadata": {
      "needs_background": "light"
     },
     "output_type": "display_data"
    },
    {
     "data": {
      "image/png": "[encoded data removed]",
      "text/plain": [
       "<Figure size 720x360 with 1 Axes>"
      ]
     },
     "metadata": {
      "needs_background": "light"
     },
     "output_type": "display_data"
    }
   ],
   "source": [
    "sx.plot('coverage','missing',kind='scatter',s=40,figsize=(10,5))\n",
    "sx.plot('meandepth','missing',kind='scatter',s=40,figsize=(10,5))\n",
    "sx.plot('meandepth','coverage',kind='scatter',s=40,figsize=(10,5))"
   ]
  },
  {
   "cell_type": "code",
   "execution_count": 73,
   "metadata": {},
   "outputs": [
    {
     "data": {
      "text/html": [
       "<div>\n",
       "<style scoped>\n",
       "    .dataframe tbody tr th:only-of-type {\n",
       "        vertical-align: middle;\n",
       "    }\n",
       "\n",
       "    .dataframe tbody tr th {\n",
       "        vertical-align: top;\n",
       "    }\n",
       "\n",
       "    .dataframe thead th {\n",
       "        text-align: right;\n",
       "    }\n",
       "</style>\n",
       "<table border=\"1\" class=\"dataframe\">\n",
       "  <thead>\n",
       "    <tr style=\"text-align: right;\">\n",
       "      <th></th>\n",
       "      <th>sample</th>\n",
       "      <th>missing</th>\n",
       "      <th>coverage</th>\n",
       "      <th>meandepth</th>\n",
       "    </tr>\n",
       "  </thead>\n",
       "  <tbody>\n",
       "    <tr>\n",
       "      <th>63</th>\n",
       "      <td>TB21-003810</td>\n",
       "      <td>367</td>\n",
       "      <td>77.17</td>\n",
       "      <td>1.70</td>\n",
       "    </tr>\n",
       "    <tr>\n",
       "      <th>8</th>\n",
       "      <td>TB20-006503</td>\n",
       "      <td>249</td>\n",
       "      <td>82.35</td>\n",
       "      <td>2.01</td>\n",
       "    </tr>\n",
       "    <tr>\n",
       "      <th>21</th>\n",
       "      <td>TB20-008255</td>\n",
       "      <td>79</td>\n",
       "      <td>94.98</td>\n",
       "      <td>3.77</td>\n",
       "    </tr>\n",
       "    <tr>\n",
       "      <th>40</th>\n",
       "      <td>TB21-001453</td>\n",
       "      <td>42</td>\n",
       "      <td>96.66</td>\n",
       "      <td>4.76</td>\n",
       "    </tr>\n",
       "    <tr>\n",
       "      <th>81</th>\n",
       "      <td>TB21-005756</td>\n",
       "      <td>12</td>\n",
       "      <td>98.56</td>\n",
       "      <td>6.81</td>\n",
       "    </tr>\n",
       "    <tr>\n",
       "      <th>54</th>\n",
       "      <td>TB21-003351</td>\n",
       "      <td>11</td>\n",
       "      <td>98.42</td>\n",
       "      <td>10.81</td>\n",
       "    </tr>\n",
       "    <tr>\n",
       "      <th>71</th>\n",
       "      <td>TB21-004763</td>\n",
       "      <td>11</td>\n",
       "      <td>98.47</td>\n",
       "      <td>7.05</td>\n",
       "    </tr>\n",
       "    <tr>\n",
       "      <th>67</th>\n",
       "      <td>TB21-004491</td>\n",
       "      <td>10</td>\n",
       "      <td>98.46</td>\n",
       "      <td>15.96</td>\n",
       "    </tr>\n",
       "    <tr>\n",
       "      <th>37</th>\n",
       "      <td>TB21-000716</td>\n",
       "      <td>9</td>\n",
       "      <td>98.67</td>\n",
       "      <td>39.69</td>\n",
       "    </tr>\n",
       "    <tr>\n",
       "      <th>18</th>\n",
       "      <td>TB20-008004</td>\n",
       "      <td>9</td>\n",
       "      <td>98.57</td>\n",
       "      <td>31.40</td>\n",
       "    </tr>\n",
       "    <tr>\n",
       "      <th>80</th>\n",
       "      <td>TB21-005746</td>\n",
       "      <td>8</td>\n",
       "      <td>98.30</td>\n",
       "      <td>5.95</td>\n",
       "    </tr>\n",
       "    <tr>\n",
       "      <th>62</th>\n",
       "      <td>TB21-003803</td>\n",
       "      <td>8</td>\n",
       "      <td>98.07</td>\n",
       "      <td>6.92</td>\n",
       "    </tr>\n",
       "    <tr>\n",
       "      <th>74</th>\n",
       "      <td>TB21-005040</td>\n",
       "      <td>8</td>\n",
       "      <td>98.72</td>\n",
       "      <td>7.58</td>\n",
       "    </tr>\n",
       "    <tr>\n",
       "      <th>38</th>\n",
       "      <td>TB21-000767</td>\n",
       "      <td>7</td>\n",
       "      <td>98.88</td>\n",
       "      <td>29.08</td>\n",
       "    </tr>\n",
       "    <tr>\n",
       "      <th>93</th>\n",
       "      <td>TB21-007218</td>\n",
       "      <td>7</td>\n",
       "      <td>99.28</td>\n",
       "      <td>48.03</td>\n",
       "    </tr>\n",
       "    <tr>\n",
       "      <th>77</th>\n",
       "      <td>TB21-005363</td>\n",
       "      <td>6</td>\n",
       "      <td>98.54</td>\n",
       "      <td>6.87</td>\n",
       "    </tr>\n",
       "  </tbody>\n",
       "</table>\n",
       "</div>"
      ],
      "text/plain": [
       "         sample  missing  coverage  meandepth\n",
       "63  TB21-003810      367     77.17       1.70\n",
       "8   TB20-006503      249     82.35       2.01\n",
       "21  TB20-008255       79     94.98       3.77\n",
       "40  TB21-001453       42     96.66       4.76\n",
       "81  TB21-005756       12     98.56       6.81\n",
       "54  TB21-003351       11     98.42      10.81\n",
       "71  TB21-004763       11     98.47       7.05\n",
       "67  TB21-004491       10     98.46      15.96\n",
       "37  TB21-000716        9     98.67      39.69\n",
       "18  TB20-008004        9     98.57      31.40\n",
       "80  TB21-005746        8     98.30       5.95\n",
       "62  TB21-003803        8     98.07       6.92\n",
       "74  TB21-005040        8     98.72       7.58\n",
       "38  TB21-000767        7     98.88      29.08\n",
       "93  TB21-007218        7     99.28      48.03\n",
       "77  TB21-005363        6     98.54       6.87"
      ]
     },
     "execution_count": 73,
     "metadata": {},
     "output_type": "execute_result"
    }
   ],
   "source": [
    "x[['sample','missing','coverage','meandepth']].sort_values('missing',ascending=False)[:16]"
   ]
  },
  {
   "cell_type": "code",
   "execution_count": 91,
   "metadata": {},
   "outputs": [
    {
     "name": "stdout",
     "output_type": "stream",
     "text": [
      "found 2840 sites for core snps\n",
      "462 sites with at least one missing sample\n",
      "0 uninformative sites\n"
     ]
    }
   ],
   "source": [
    "#all monaghan\n",
    "seqrecs, smat2 = tools.core_alignment_from_vcf('/storage/btbgenie/monaghan/monaghan_results/snps.vcf.gz', missing=True)\n",
    "missingmon=smat2[smat2=='N'].count().sort_values()"
   ]
  },
  {
   "cell_type": "code",
   "execution_count": 114,
   "metadata": {},
   "outputs": [
    {
     "data": {
      "text/plain": [
       "<AxesSubplot:>"
      ]
     },
     "execution_count": 114,
     "metadata": {},
     "output_type": "execute_result"
    },
    {
     "data": {
      "image/png": "[encoded data removed]",
      "text/plain": [
       "<Figure size 720x480 with 1 Axes>"
      ]
     },
     "metadata": {
      "needs_background": "light"
     },
     "output_type": "display_data"
    }
   ],
   "source": [
    "plt.rcParams['figure.dpi'] = 120\n",
    "samples=pd.read_csv('/storage/btbgenie/monaghan/monaghan_results/samples.csv')\n",
    "monx=samples.merge(missingmon.rename('missing'),right_index=True,left_on='sample')\n",
    "monsx=monx[monx.meandepth<100]\n",
    "monsx.missing.hist()"
   ]
  },
  {
   "cell_type": "code",
   "execution_count": 115,
   "metadata": {},
   "outputs": [
    {
     "data": {
      "text/plain": [
       "<AxesSubplot:xlabel='meandepth', ylabel='coverage'>"
      ]
     },
     "execution_count": 115,
     "metadata": {},
     "output_type": "execute_result"
    },
    {
     "data": {
      "image/png": "[encoded data removed]",
      "text/plain": [
       "<Figure size 1200x600 with 1 Axes>"
      ]
     },
     "metadata": {
      "needs_background": "light"
     },
     "output_type": "display_data"
    },
    {
     "data": {
      "image/png": "[encoded data removed]",
      "text/plain": [
       "<Figure size 1200x600 with 1 Axes>"
      ]
     },
     "metadata": {
      "needs_background": "light"
     },
     "output_type": "display_data"
    },
    {
     "data": {
      "image/png": "[encoded data removed]",
      "text/plain": [
       "<Figure size 1200x600 with 1 Axes>"
      ]
     },
     "metadata": {
      "needs_background": "light"
     },
     "output_type": "display_data"
    }
   ],
   "source": [
    "monsx.plot('coverage','missing',kind='scatter',s=40,figsize=(10,5))\n",
    "monsx.plot('meandepth','missing',kind='scatter',s=40,figsize=(10,5))\n",
    "monsx.plot('meandepth','coverage',kind='scatter',s=40,figsize=(10,5))"
   ]
  },
  {
   "cell_type": "code",
   "execution_count": null,
   "metadata": {},
   "outputs": [],
   "source": []
  }
 ],
 "metadata": {
  "kernelspec": {
   "display_name": "Python 3 (ipykernel)",
   "language": "python",
   "name": "python3"
  },
  "language_info": {
   "codemirror_mode": {
    "name": "ipython",
    "version": 3
   },
   "file_extension": ".py",
   "mimetype": "text/x-python",
   "name": "python",
   "nbconvert_exporter": "python",
   "pygments_lexer": "ipython3",
   "version": "3.10.6"
  }
 },
 "nbformat": 4,
 "nbformat_minor": 4
}
