{
 "cells": [
  {
   "cell_type": "markdown",
   "metadata": {},
   "source": [
    "# phylogeny of global M. bovis lineages\n",
    "\n",
    "Make phylogeny from global sequences (Ireland/UK, World) for strain naming\n",
    "\n",
    "* https://www.microbiologyresearch.org/content/journal/mgen/10.1099/mgen.0.000491?crawler=true\n",
    "* https://open-research-europe.ec.europa.eu/articles/1-100/v2#f1"
   ]
  },
  {
   "cell_type": "code",
   "execution_count": 66,
   "metadata": {},
   "outputs": [],
   "source": [
    "import sys,os,shutil,subprocess,time\n",
    "import glob,random\n",
    "from importlib import reload\n",
    "import numpy as np\n",
    "import pandas as pd\n",
    "pd.set_option('display.width', 200)\n",
    "import pylab as plt\n",
    "import matplotlib as mpl\n",
    "import seaborn as sns\n",
    "from Bio import SeqIO\n",
    "sys.path.append('pathogenie')\n",
    "from snipgenie import tools, aligners, app, trees, plotting, clustering\n",
    "import toytree"
   ]
  },
  {
   "cell_type": "code",
   "execution_count": null,
   "metadata": {
    "jupyter": {
     "source_hidden": true
    }
   },
   "outputs": [],
   "source": [
    "reload(app)\n",
    "reload(tools)\n",
    "reload(aligners)\n",
    "args = {'threads':12, 'outdir': '/storage/btbgenie/global_results', 'labelsep':'-',\n",
    "        'input':['/storage/btbgenie/brites'],\n",
    "         'species': 'Mbovis-AF212297', 'overwrite':False,\n",
    "         'custom_filters': True, 'get_stats': False,\n",
    "         'buildtree':True}\n",
    "W = app.WorkFlow(**args)\n",
    "st = W.setup()\n",
    "W.run()"
   ]
  },
  {
   "cell_type": "markdown",
   "metadata": {},
   "source": [
    "## tb-profiler"
   ]
  },
  {
   "cell_type": "code",
   "execution_count": 33,
   "metadata": {},
   "outputs": [],
   "source": [
    "cmd = 'tb-profiler batch --csv iesamples.csv --threads_per_job 12 --dir tbprofiler_output'\n",
    "#cmd has to be run in conda env   \n",
    "tbprof = pd.read_csv('tbprofiler.txt',sep='\\t')\n",
    "tbprof=tbprof.iloc[:,:4]"
   ]
  },
  {
   "cell_type": "code",
   "execution_count": 61,
   "metadata": {
    "jupyter": {
     "source_hidden": true
    }
   },
   "outputs": [],
   "source": [
    "country_to_continent = {\n",
    "    'Nigeria': 'Africa',\n",
    "    'Ghana': 'Africa',\n",
    "    'Germany': 'Europe',\n",
    "    'United Kingdom': 'United Kingdom',\n",
    "    'Mali': 'Africa',\n",
    "    'Ethiopia': 'Africa',\n",
    "    'Burundi': 'Africa',\n",
    "    'Uganda': 'Africa',\n",
    "    'Tanzania': 'Africa',\n",
    "    'Netherlands': 'Europe',\n",
    "    'Peru': 'South America',\n",
    "    'China': 'Asia',\n",
    "    'Japan': 'Asia',\n",
    "    'Russia': 'Europe/Asia',\n",
    "    'New Zealand': 'Oceania',\n",
    "    'Canada': 'North America',\n",
    "    'Mexico': 'North America',\n",
    "    'South Africa': 'Africa',\n",
    "    'Uruguay': 'South America',\n",
    "    'Ireland': 'Ireland',\n",
    "    'USA': 'North America',\n",
    "    'Costa Rica': 'North America',\n",
    "    'Panama': 'North America',\n",
    "    'France': 'Europe',\n",
    "    'Indonesia': 'Asia',\n",
    "    'Brazil': 'South America',\n",
    "    'Belgium': 'Europe',\n",
    "    'Lebanon': 'Asia',\n",
    "    'Australia': 'Oceania',\n",
    "    'Bangladesh': 'Asia',\n",
    "    'India': 'Asia',\n",
    "    'Malawi': 'Africa',\n",
    "    'Switzerland': 'Europe',\n",
    "    'Spain': 'Europe',\n",
    "    'Eritrea': 'Africa',\n",
    "    'Italy': 'Europe',\n",
    "    'Morocco': 'Africa',\n",
    "    'Tunisia': 'Africa',\n",
    "    'Kazakhstan': 'Asia',\n",
    "    'Moldova': 'Europe',\n",
    "    'Zambia': 'Africa'    \n",
    "}"
   ]
  },
  {
   "cell_type": "code",
   "execution_count": 65,
   "metadata": {},
   "outputs": [],
   "source": [
    "samples = pd.read_csv('/storage/btbgenie/global_results/samples.csv')\n",
    "meta = pd.read_csv('brites_table1.csv')\n",
    "meta = meta.drop_duplicates(subset='sample')\n",
    "iremeta = pd.read_csv('/storage/btbgenie/all_ireland_results_new/metadata.csv')[['sample','Region','SB1','Level.1','short_name']]\n",
    "iremeta = iremeta.rename(columns={'Region':'Country'})\n",
    "iremeta['Country'] = iremeta.Country.replace({'IE':'Ireland','GB':'United Kingdom','NI':'Ireland'})\n",
    "iremeta=iremeta.merge(tbprof,on='sample',how='left')\n",
    "iremeta['Clonal_Complex'] = iremeta.sub_lineage\n",
    "meta = pd.concat([meta,iremeta])\n",
    "meta['Continent'] = meta.Country.map(country_to_continent)\n",
    "meta.to_csv('/storage/btbgenie/global_results/metadata.csv',index=False)"
   ]
  },
  {
   "cell_type": "code",
   "execution_count": null,
   "metadata": {},
   "outputs": [],
   "source": [
    "meta"
   ]
  },
  {
   "cell_type": "code",
   "execution_count": null,
   "metadata": {},
   "outputs": [],
   "source": [
    "treefile1 = '/storage/btbgenie/global_results/tree.newick'\n",
    "tre = toytree.tree(treefile1)\n",
    "mystyle = { \"layout\": 'c','node_sizes':1,'tip_labels_align':True}\n",
    "tre.draw(**mystyle,height=700);"
   ]
  },
  {
   "cell_type": "markdown",
   "metadata": {},
   "source": [
    "## spoligotypes"
   ]
  },
  {
   "cell_type": "code",
   "execution_count": null,
   "metadata": {},
   "outputs": [],
   "source": [
    "def get_spoligotypes(samples, spo=None):\n",
    "    \"\"\"Get spoligotypes for multiple M.bovis strains\"\"\"\n",
    "    \n",
    "    if spo is not None:\n",
    "        done=list(spo['sample'])\n",
    "    else:\n",
    "        done=[]\n",
    "    samples = samples.drop_duplicates('sample')\n",
    "    res=[]\n",
    "    for i,r in samples.iterrows():\n",
    "        f=r.filename1\n",
    "        samp=r['sample']\n",
    "        if samp in done:\n",
    "            continue\n",
    "        b = tools.get_spoligotype(f)\n",
    "        sb = tools.get_sb_number(b)\n",
    "        print (r['sample'], sb, b)\n",
    "        res.append([r['sample'],sb,b])\n",
    "    \n",
    "    res = pd.DataFrame(res,columns=['sample','SB','code'])\n",
    "    return res\n",
    "\n",
    "spo = pd.read_csv('/storage/btbgenie/mbovis_ireland/spoligotypes.csv')\n",
    "samples = pd.read_csv('/storage/btbgenie/global_results/samples.csv')\n",
    "res = get_spoligotypes(samples,spo)"
   ]
  },
  {
   "cell_type": "code",
   "execution_count": 95,
   "metadata": {
    "tags": []
   },
   "outputs": [],
   "source": [
    "#res=pd.concat([spo,res])\n",
    "#res.to_csv('/storage/btbgenie/mbovis_ireland/spoligotypes.csv')"
   ]
  },
  {
   "cell_type": "code",
   "execution_count": null,
   "metadata": {},
   "outputs": [],
   "source": [
    "samples = pd.read_csv('/storage/btbgenie/global_results/samples.csv')\n",
    "from snipgenie import rdiff\n",
    "reload(rdiff)\n",
    "rdiff.create_rd_index()\n",
    "res = rdiff.run_samples(samples,'/storage/btbgenie/global_results/rd_aligned',threads=10)\n",
    "X = rdiff.get_matrix(res, cutoff=0.15)\n",
    "X['ident'] = X.apply(rdiff.apply_rules,1)\n",
    "X.to_csv('/storage/btbgenie/global_results/rd.csv')"
   ]
  },
  {
   "cell_type": "markdown",
   "metadata": {
    "tags": []
   },
   "source": [
    "## merge to get metadata "
   ]
  },
  {
   "cell_type": "code",
   "execution_count": 5,
   "metadata": {},
   "outputs": [
    {
     "data": {
      "text/plain": [
       "407"
      ]
     },
     "execution_count": 5,
     "metadata": {},
     "output_type": "execute_result"
    }
   ],
   "source": [
    "samples = pd.read_csv('/storage/btbgenie/global_results/samples.csv')\n",
    "meta = pd.read_csv('brites_table1.csv')\n",
    "x = samples.merge(meta,right_on='Accession_Number',left_on='sample',how='left')\n",
    "spotypes = pd.read_csv('/storage/btbgenie/all_ireland_results_new/spoligotypes.csv')\n",
    "R = pd.read_csv('/storage/btbgenie/all_ireland_results_new/rd.csv',index_col=0)\n",
    "meta = x.merge(spotypes,on='sample')\n",
    "meta = meta.drop_duplicates('sample')\n",
    "#rds=R[['RD1mic','RD149','RD3','RD5','RD5oryx*','RD122','RDAf2','RDWicklow']]\n",
    "#meta = x.merge(rds,left_on='sample',right_index=True)\n",
    "len(meta)"
   ]
  },
  {
   "cell_type": "code",
   "execution_count": null,
   "metadata": {},
   "outputs": [],
   "source": [
    "reload(clustering)\n",
    "snpdist = pd.read_csv('/storage/btbgenie/global_results/snpdist.csv',index_col=0)\n",
    "clusts,members = clustering.get_cluster_levels(snpdist)\n",
    "meta = meta.merge(clusts,left_on='sample',right_index=True)"
   ]
  },
  {
   "cell_type": "code",
   "execution_count": 108,
   "metadata": {},
   "outputs": [],
   "source": [
    "meta.to_csv('/storage/btbgenie/global_results/metadata.csv',index=False)"
   ]
  },
  {
   "cell_type": "markdown",
   "metadata": {},
   "source": [
    "## RD analysis"
   ]
  },
  {
   "cell_type": "code",
   "execution_count": null,
   "metadata": {},
   "outputs": [],
   "source": [
    "reload(rdiff)\n",
    "rdiff.show_rd_coverage(samples[:5], 'LT708304.1',4330000,4340000,app.mbovis_genome,margin=1300)"
   ]
  },
  {
   "cell_type": "code",
   "execution_count": 8,
   "metadata": {},
   "outputs": [],
   "source": [
    "complexcolors = {'La2':'blue', 'La1.8.1':'pink', 'La1.3':'', 'La1.6':'', 'La1.7.1':'', 'La1.5':'', 'La3':'',\n",
    "                 'La1.8.2':'', 'La1.7-unk4':'', 'La1.2':'', 'La1.4':'', 'La1.7-unk5':'', 'La1.1':''}"
   ]
  },
  {
   "cell_type": "code",
   "execution_count": null,
   "metadata": {},
   "outputs": [],
   "source": [
    "R = pd.read_csv('/storage/btbgenie/global_results/rd.csv',index_col=0).iloc[:,:-1]\n",
    "xcols = R.columns[(R.sum()<61) | (R.sum()>10)]\n",
    "R[xcols]"
   ]
  },
  {
   "cell_type": "code",
   "execution_count": null,
   "metadata": {},
   "outputs": [],
   "source": [
    "R = pd.read_csv('/storage/btbgenie/global_results/rd.csv',index_col=0)\n",
    "#mapdict=dict(zip(meta['sample'],meta['SIB_Number']))\n",
    "#X.index=X.index.map(mapdict)\n",
    "scols=['sample','Clonal_Complex']\n",
    "R=R.merge(meta[scols],left_index=True,right_on='sample',how='left').set_index('sample')\n",
    "\n",
    "row_colors,colormap = plotting.get_color_mapping(R,'Clonal_Complex',cmap='Paired',seed=18)\n",
    "\n",
    "cols = ['RD1','RD1mic','RDWicklow','RD8','RD11','RD149','RD6','RD3','RDAf2']\n",
    "\n",
    "import matplotlib.patches as mpatches\n",
    "g=sns.clustermap(R[cols],lw=0,cmap='gray_r',fmt='g',cbar_pos=None,col_cluster=False,\n",
    "                 yticklabels=False,row_colors=row_colors,figsize=(12,12))\n",
    "pts=[]\n",
    "for c in colormap:\n",
    "    pts.append(mpatches.Patch(color=colormap[c],label=c))\n",
    "g.fig.legend(handles=pts,bbox_to_anchor=(1.15, .9))"
   ]
  },
  {
   "cell_type": "markdown",
   "metadata": {},
   "source": [
    "<div class=\"alert alert-block alert-info\"><b>Start here for post analysis</b></div>"
   ]
  },
  {
   "cell_type": "code",
   "execution_count": null,
   "metadata": {},
   "outputs": [],
   "source": [
    "scols=['sample','SB','batch','county']\n",
    "ireland = pd.read_csv('/storage/btbgenie/all_ireland_results/metadata.csv').iloc[:,:-7]\n",
    "#ireland['Country']='Ireland'\n",
    "master=pd.concat([ireland,meta])\n",
    "print (len(ireland), len(meta), len(master))"
   ]
  },
  {
   "cell_type": "code",
   "execution_count": null,
   "metadata": {},
   "outputs": [],
   "source": [
    "def get_common(x, common):\n",
    "    if x in common:\n",
    "        return x\n",
    "    else:\n",
    "        return 'Other'"
   ]
  },
  {
   "cell_type": "code",
   "execution_count": null,
   "metadata": {},
   "outputs": [],
   "source": [
    "common = master.Country.value_counts()[:9]\n",
    "master['Country1'] = master.Country.apply(lambda x: get_common(x, common))\n",
    "#len(master)"
   ]
  },
  {
   "cell_type": "code",
   "execution_count": null,
   "metadata": {},
   "outputs": [],
   "source": [
    "#common = master.county.value_counts()[:4]\n",
    "#master['county1'] = master.county.apply(lambda x: get_common(x, common))\n",
    "#master['cc'] = master['Clonal_Complex'].fillna(master.Country)\n",
    "#master['cc1'] = master['Clonal_Complex'].fillna(master.county1)"
   ]
  },
  {
   "cell_type": "code",
   "execution_count": null,
   "metadata": {},
   "outputs": [],
   "source": [
    "common = master.SB.value_counts()[:8]\n",
    "master['SB1'] = master.SB.apply(lambda x: get_common(x, common))"
   ]
  },
  {
   "cell_type": "code",
   "execution_count": null,
   "metadata": {},
   "outputs": [],
   "source": [
    "reload(clustering)\n",
    "snpdist = pd.read_csv('/storage/btbgenie/combined_results/snpdist.csv',index_col=0)\n",
    "clusts,members = clustering.get_cluster_levels(snpdist)\n",
    "cc = clusts.snp500.value_counts()#[1:20]\n",
    "cc.plot(kind='bar',figsize=(12,5))\n",
    "print (list(cc.index))\n",
    "members.to_parquet(\"/storage/btbgenie/cluster_members.parquet\")"
   ]
  },
  {
   "cell_type": "code",
   "execution_count": null,
   "metadata": {
    "tags": []
   },
   "outputs": [],
   "source": [
    "st = clustering.generate_strain_names(clusts)"
   ]
  },
  {
   "cell_type": "code",
   "execution_count": null,
   "metadata": {},
   "outputs": [],
   "source": [
    "final = master.merge(st,left_on='sample',right_index=True)"
   ]
  },
  {
   "cell_type": "code",
   "execution_count": null,
   "metadata": {},
   "outputs": [],
   "source": [
    "#combine rd data\n",
    "rd1=pd.read_csv('/storage/btbgenie/global_results/rd.csv',index_col=0)\n",
    "rd2=pd.read_csv('/storage/btbgenie/mbovis_ireland/rd.csv',index_col=0)\n",
    "rd=pd.concat([rd1,rd2])\n",
    "rvar = ['RD149','RD3','RD5','RD5oryx*','RDAf2','RDWicklow']\n",
    "final = final.merge(rd[rvar],left_on='sample',right_index=True)"
   ]
  },
  {
   "cell_type": "code",
   "execution_count": null,
   "metadata": {},
   "outputs": [],
   "source": [
    "final.to_csv('/storage/btbgenie/combined_results/metadata.csv')"
   ]
  },
  {
   "cell_type": "code",
   "execution_count": null,
   "metadata": {},
   "outputs": [],
   "source": [
    "cols=['sample','SB']\n",
    "X=final.set_index(cols)[rvar].fillna(0)\n",
    "#X = X.iloc[:,1:]\n",
    "#print (X)\n",
    "sns.clustermap(X,xticklabels=True,yticklabels=[],cmap='gray',figsize=(12,12))"
   ]
  },
  {
   "cell_type": "code",
   "execution_count": null,
   "metadata": {
    "tags": []
   },
   "outputs": [],
   "source": [
    "meta.Clonal_Complex.value_counts()"
   ]
  },
  {
   "cell_type": "markdown",
   "metadata": {},
   "source": [
    "## representative samples"
   ]
  },
  {
   "cell_type": "code",
   "execution_count": null,
   "metadata": {},
   "outputs": [],
   "source": [
    "clustering.nonredundant_samples(clusts, 'snp500')"
   ]
  },
  {
   "cell_type": "markdown",
   "metadata": {},
   "source": [
    "## missing sites"
   ]
  },
  {
   "cell_type": "code",
   "execution_count": null,
   "metadata": {},
   "outputs": [],
   "source": [
    "snprecs, smat = tools.core_alignment_from_vcf('/storage/btbgenie/global_results/snps.vcf.gz', missing=True)"
   ]
  },
  {
   "cell_type": "code",
   "execution_count": null,
   "metadata": {},
   "outputs": [],
   "source": [
    "missing = smat[smat=='N'].T.count().sort_values()\n",
    "x=pd.DataFrame(missing).reset_index()\n",
    "x"
   ]
  },
  {
   "cell_type": "markdown",
   "metadata": {
    "tags": []
   },
   "source": [
    "## SNPs and indels statistics"
   ]
  },
  {
   "cell_type": "code",
   "execution_count": null,
   "metadata": {
    "tags": []
   },
   "outputs": [],
   "source": [
    "final = pd.read_csv('/storage/btbgenie/combined_results/metadata.csv',index_col=0)"
   ]
  },
  {
   "cell_type": "code",
   "execution_count": null,
   "metadata": {},
   "outputs": [],
   "source": [
    "csq = app.read_csq_file('/storage/btbgenie/combined_results/csq.tsv')\n",
    "aamat = app.get_aa_snp_matrix(csq)\n",
    "nucmat = pd.read_csv('/storage/btbgenie/combined_results/core.txt',sep=' ')\n",
    "nucmat = nucmat.set_index('pos')"
   ]
  },
  {
   "cell_type": "code",
   "execution_count": null,
   "metadata": {},
   "outputs": [],
   "source": [
    "csqind = app.read_csq_file('/storage/btbgenie/combined_results/csq_indels.tsv')\n",
    "#print (csqind)\n",
    "#print (csqind.snp_type.value_counts())\n",
    "\n",
    "ind_mat = app.get_aa_snp_matrix(csqind)\n",
    "ind_mat.reset_index().snp_type.value_counts()\n",
    "#ind_mat\n",
    "#ind_mat[ind_mat.sum(1)>5]"
   ]
  },
  {
   "cell_type": "code",
   "execution_count": null,
   "metadata": {},
   "outputs": [],
   "source": [
    "#mat.index = mat.index.get_level_values(1)+'_'+mat.index.get_level_values(2)\n",
    "stat = aamat.sum(1).reset_index()\n",
    "stat.gene.value_counts()[:50]"
   ]
  },
  {
   "cell_type": "code",
   "execution_count": null,
   "metadata": {
    "tags": []
   },
   "outputs": [],
   "source": [
    "C=aamat.T\n",
    "cols=['sample','Country','snp500']\n",
    "C=C.merge(final[cols],on='sample')\n",
    "C=C.set_index(cols)\n",
    "C"
   ]
  },
  {
   "cell_type": "code",
   "execution_count": null,
   "metadata": {},
   "outputs": [],
   "source": [
    "countries = C.index.get_level_values(1)\n",
    "clust = C.index.get_level_values(2)"
   ]
  },
  {
   "cell_type": "code",
   "execution_count": null,
   "metadata": {},
   "outputs": [],
   "source": [
    "reload(trees)\n",
    "colormap1 = dict(zip(countries.unique(), trees.qcolors))\n",
    "colors1 = [colormap1[i] if i in colormap1 else 'Black' for i in countries]\n",
    "colormap2 = dict(zip(clust.unique(), trees.qcolors))\n",
    "colors2 = [colormap2[i] if i in colormap2 else 'Black' for i in clust]\n",
    "#print (colors2)\n",
    "g=sns.clustermap(C.iloc[:,:2000],xticklabels=False,yticklabels=False,figsize=(17,12),cmap='gray_r',cbar_pos=None,row_colors=colors2)\n",
    "p=plotting.make_legend(g.fig,colormap1)\n",
    "#g.fig.savefig('/storage/btbgenie/global_results/indel_clusters.jpg')"
   ]
  }
 ],
 "metadata": {
  "kernelspec": {
   "display_name": "Python 3 (ipykernel)",
   "language": "python",
   "name": "python3"
  },
  "language_info": {
   "codemirror_mode": {
    "name": "ipython",
    "version": 3
   },
   "file_extension": ".py",
   "mimetype": "text/x-python",
   "name": "python",
   "nbconvert_exporter": "python",
   "pygments_lexer": "ipython3",
   "version": "3.10.12"
  }
 },
 "nbformat": 4,
 "nbformat_minor": 4
}
