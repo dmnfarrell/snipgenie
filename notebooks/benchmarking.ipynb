{
 "cells": [
  {
   "cell_type": "markdown",
   "id": "f3397387-2dee-4eac-a7d6-1c13130b06fa",
   "metadata": {},
   "source": [
    "## benchmarks"
   ]
  },
  {
   "cell_type": "code",
   "execution_count": 87,
   "id": "f0a064c8-373b-4dc7-91d6-e398bd312f20",
   "metadata": {},
   "outputs": [],
   "source": [
    "import sys,os,shutil,subprocess\n",
    "import glob,tempfile\n",
    "from importlib import reload\n",
    "import numpy as np\n",
    "import pandas as pd\n",
    "pd.set_option('display.width', 200)\n",
    "import pylab as plt\n",
    "import matplotlib as mpl\n",
    "sys.path.append('c:/Users/damien/projects/snipgenie/')\n",
    "from snipgenie import tools, aligners, app, trees, plotting"
   ]
  },
  {
   "cell_type": "code",
   "execution_count": 42,
   "id": "0b99bc46-bcf0-41a3-b137-3f3ec440eeb2",
   "metadata": {},
   "outputs": [],
   "source": [
    "testpath = '/storage/snipgenie_test_files/'"
   ]
  },
  {
   "cell_type": "markdown",
   "id": "ee2b3dfb-976a-4a9b-8bb2-80d072b4930c",
   "metadata": {},
   "source": [
    "## create test files"
   ]
  },
  {
   "cell_type": "code",
   "execution_count": null,
   "id": "ab3f6fb3-abee-450c-94a2-95f4038b4c81",
   "metadata": {},
   "outputs": [],
   "source": [
    "#use wicklow samples\n",
    "path = '/storage/btbgenie/mbovis_ireland/Wicklow/'\n",
    "df=app.get_samples(app.get_files_from_paths(path),'_')\n",
    "df=df.sort_values('sample')\n",
    "\n",
    "names = ['31-12952','13-11594','15-11643','17-11662','19-11957','44-MBovis']\n",
    "for i,r in list(df.iterrows()):\n",
    "    f = r.filename  \n",
    "    if r['sample'] in names:\n",
    "        #print (r)\n",
    "        tools.get_subsample_reads(f,'/storage/snipgenie_test_files/',400000)\n",
    "    "
   ]
  },
  {
   "cell_type": "code",
   "execution_count": 61,
   "id": "fd87728c-c688-486c-8929-f3cb34c4d897",
   "metadata": {},
   "outputs": [],
   "source": [
    "## trimming"
   ]
  },
  {
   "cell_type": "code",
   "execution_count": null,
   "id": "b501564a-2572-46a3-8f8e-60a3bddf4d88",
   "metadata": {},
   "outputs": [],
   "source": [
    "reload(app)\n",
    "reload(tools)\n",
    "reload(aligners)\n",
    "args = {'threads':8, 'outdir': \"bowtie_results\", 'labelsep':'_',\n",
    "        'input':[testpath],        \n",
    "         'species': 'Mbovis-AF212297','get_stats':False,\n",
    "         #'overwrite':True,\n",
    "         'aligner':'bowtie',\n",
    "         #'trim':True,\n",
    "         'custom_filters': True,\n",
    "         'buildtree':True}\n",
    "W = app.WorkFlow(**args)\n",
    "st = W.setup()\n",
    "W.run()"
   ]
  },
  {
   "cell_type": "code",
   "execution_count": 53,
   "id": "3c930b97-e08f-4410-8a30-9edb4cb93a9f",
   "metadata": {},
   "outputs": [],
   "source": [
    "sm1 = pd.read_csv('bwa_results/snpdist.csv',index_col=0)\n",
    "sm2 = pd.read_csv('minimap2_results/snpdist.csv',index_col=0)\n",
    "sm3 = pd.read_csv('subread_results/snpdist.csv',index_col=0)\n",
    "#sm1"
   ]
  },
  {
   "cell_type": "code",
   "execution_count": 62,
   "id": "ac3ed50c-065e-4cac-9938-98098b83a0b8",
   "metadata": {},
   "outputs": [
    {
     "data": {
      "text/html": [
       "<div>\n",
       "<style scoped>\n",
       "    .dataframe tbody tr th:only-of-type {\n",
       "        vertical-align: middle;\n",
       "    }\n",
       "\n",
       "    .dataframe tbody tr th {\n",
       "        vertical-align: top;\n",
       "    }\n",
       "\n",
       "    .dataframe thead th {\n",
       "        text-align: right;\n",
       "    }\n",
       "</style>\n",
       "<table border=\"1\" class=\"dataframe\">\n",
       "  <thead>\n",
       "    <tr style=\"text-align: right;\">\n",
       "      <th></th>\n",
       "    </tr>\n",
       "  </thead>\n",
       "  <tbody>\n",
       "  </tbody>\n",
       "</table>\n",
       "</div>"
      ],
      "text/plain": [
       "Empty DataFrame\n",
       "Columns: []\n",
       "Index: []"
      ]
     },
     "execution_count": 62,
     "metadata": {},
     "output_type": "execute_result"
    }
   ],
   "source": [
    "sm3"
   ]
  },
  {
   "cell_type": "code",
   "execution_count": 82,
   "id": "75217b44-9f7e-4d4d-8cd1-9addd4e8f931",
   "metadata": {},
   "outputs": [
    {
     "data": {
      "text/html": [
       "<div>\n",
       "<style scoped>\n",
       "    .dataframe tbody tr th:only-of-type {\n",
       "        vertical-align: middle;\n",
       "    }\n",
       "\n",
       "    .dataframe tbody tr th {\n",
       "        vertical-align: top;\n",
       "    }\n",
       "\n",
       "    .dataframe thead th {\n",
       "        text-align: right;\n",
       "    }\n",
       "</style>\n",
       "<table border=\"1\" class=\"dataframe\">\n",
       "  <thead>\n",
       "    <tr style=\"text-align: right;\">\n",
       "      <th></th>\n",
       "      <th>13-11594</th>\n",
       "      <th>15-11643</th>\n",
       "      <th>17-11662</th>\n",
       "      <th>19-11957</th>\n",
       "      <th>31-12952</th>\n",
       "      <th>44-MBovis</th>\n",
       "    </tr>\n",
       "  </thead>\n",
       "  <tbody>\n",
       "    <tr>\n",
       "      <th>13-11594</th>\n",
       "      <td>0</td>\n",
       "      <td>2</td>\n",
       "      <td>0</td>\n",
       "      <td>2</td>\n",
       "      <td>1</td>\n",
       "      <td>0</td>\n",
       "    </tr>\n",
       "    <tr>\n",
       "      <th>15-11643</th>\n",
       "      <td>2</td>\n",
       "      <td>0</td>\n",
       "      <td>2</td>\n",
       "      <td>0</td>\n",
       "      <td>1</td>\n",
       "      <td>2</td>\n",
       "    </tr>\n",
       "    <tr>\n",
       "      <th>17-11662</th>\n",
       "      <td>0</td>\n",
       "      <td>2</td>\n",
       "      <td>0</td>\n",
       "      <td>2</td>\n",
       "      <td>1</td>\n",
       "      <td>0</td>\n",
       "    </tr>\n",
       "    <tr>\n",
       "      <th>19-11957</th>\n",
       "      <td>2</td>\n",
       "      <td>0</td>\n",
       "      <td>2</td>\n",
       "      <td>0</td>\n",
       "      <td>1</td>\n",
       "      <td>2</td>\n",
       "    </tr>\n",
       "    <tr>\n",
       "      <th>31-12952</th>\n",
       "      <td>1</td>\n",
       "      <td>1</td>\n",
       "      <td>1</td>\n",
       "      <td>1</td>\n",
       "      <td>0</td>\n",
       "      <td>1</td>\n",
       "    </tr>\n",
       "    <tr>\n",
       "      <th>44-MBovis</th>\n",
       "      <td>0</td>\n",
       "      <td>2</td>\n",
       "      <td>0</td>\n",
       "      <td>2</td>\n",
       "      <td>1</td>\n",
       "      <td>0</td>\n",
       "    </tr>\n",
       "  </tbody>\n",
       "</table>\n",
       "</div>"
      ],
      "text/plain": [
       "           13-11594  15-11643  17-11662  19-11957  31-12952  44-MBovis\n",
       "13-11594          0         2         0         2         1          0\n",
       "15-11643          2         0         2         0         1          2\n",
       "17-11662          0         2         0         2         1          0\n",
       "19-11957          2         0         2         0         1          2\n",
       "31-12952          1         1         1         1         0          1\n",
       "44-MBovis         0         2         0         2         1          0"
      ]
     },
     "execution_count": 82,
     "metadata": {},
     "output_type": "execute_result"
    }
   ],
   "source": [
    "sm1.sub(sm2).abs()"
   ]
  },
  {
   "cell_type": "code",
   "execution_count": 86,
   "id": "d643194e-c4b9-45e0-9f02-0f88539b2fcb",
   "metadata": {},
   "outputs": [
    {
     "data": {
      "text/plain": [
       "<matplotlib_venn._common.VennDiagram at 0x7fd2ec781690>"
      ]
     },
     "execution_count": 86,
     "metadata": {},
     "output_type": "execute_result"
    },
    {
     "data": {
      "image/png": "[encoded data removed]",
      "text/plain": [
       "<Figure size 432x288 with 1 Axes>"
      ]
     },
     "metadata": {},
     "output_type": "display_data"
    }
   ],
   "source": [
    "v1 = tools.vcf_to_dataframe('bwa_results/filtered.vcf.gz')\n",
    "v2 = tools.vcf_to_dataframe('minimap2_results/filtered.vcf.gz')\n",
    "from matplotlib_venn import venn2\n",
    "a=list(v1.mut.unique())\n",
    "b=list(v2.mut.unique())\n",
    "venn2([set(a),set(b)],('bwa','minimap2'))"
   ]
  },
  {
   "cell_type": "code",
   "execution_count": null,
   "id": "6b536447-7a0c-4529-bd38-9875611180b2",
   "metadata": {},
   "outputs": [],
   "source": []
  }
 ],
 "metadata": {
  "kernelspec": {
   "display_name": "Python 3 (ipykernel)",
   "language": "python",
   "name": "python3"
  },
  "language_info": {
   "codemirror_mode": {
    "name": "ipython",
    "version": 3
   },
   "file_extension": ".py",
   "mimetype": "text/x-python",
   "name": "python",
   "nbconvert_exporter": "python",
   "pygments_lexer": "ipython3",
   "version": "3.10.4"
  }
 },
 "nbformat": 4,
 "nbformat_minor": 5
}
