{
 "cells": [
  {
   "cell_type": "markdown",
   "metadata": {},
   "source": [
    "# phylogeny of global M. bovis lineages\n",
    "\n",
    "Make phylogeny from global sequences (Ireland/UK, World) for strain naming\n",
    "\n",
    "* https://www.microbiologyresearch.org/content/journal/mgen/10.1099/mgen.0.000491?crawler=true\n",
    "* https://open-research-europe.ec.europa.eu/articles/1-100/v2#f1"
   ]
  },
  {
   "cell_type": "code",
   "execution_count": 1,
   "metadata": {},
   "outputs": [],
   "source": [
    "import sys,os,shutil,subprocess,time\n",
    "import glob,random\n",
    "from importlib import reload\n",
    "import numpy as np\n",
    "import pandas as pd\n",
    "pd.set_option('display.width', 200)\n",
    "import pylab as plt\n",
    "import matplotlib as mpl\n",
    "import seaborn as sns\n",
    "from Bio import SeqIO\n",
    "sys.path.append('pathogenie')\n",
    "from snipgenie import tools, aligners, app, trees, plotting, clustering\n",
    "import toytree"
   ]
  },
  {
   "cell_type": "code",
   "execution_count": null,
   "metadata": {},
   "outputs": [],
   "source": [
    "reload(app)\n",
    "reload(tools)\n",
    "reload(aligners)\n",
    "args = {'threads':12, 'outdir': '/storage/btbgenie/global_results', 'labelsep':'-',\n",
    "        'input':['/storage/btbgenie/brites'],\n",
    "         'species': 'Mbovis-AF212297', 'overwrite':False,\n",
    "         'custom_filters': True, 'get_stats': False,\n",
    "         'buildtree':True}\n",
    "W = app.WorkFlow(**args)\n",
    "st = W.setup()\n",
    "W.run()"
   ]
  },
  {
   "cell_type": "code",
   "execution_count": null,
   "metadata": {},
   "outputs": [],
   "source": [
    "samples = pd.read_csv('/storage/btbgenie/global_results/samples.csv')\n",
    "#app.clean_bam_files(samples,'/storage/btbgenie/global_results/mapped/',True)"
   ]
  },
  {
   "cell_type": "code",
   "execution_count": null,
   "metadata": {},
   "outputs": [],
   "source": [
    "treefile1 = '/storage/btbgenie/global_results/tree.newick'\n",
    "tre = toytree.tree(treefile1)\n",
    "mystyle = { \"layout\": 'c','node_sizes':1,'tip_labels_align':True}\n",
    "tre.draw(**mystyle,height=700);"
   ]
  },
  {
   "cell_type": "markdown",
   "metadata": {},
   "source": [
    "## spoligotypes"
   ]
  },
  {
   "cell_type": "code",
   "execution_count": null,
   "metadata": {},
   "outputs": [],
   "source": [
    "def get_spoligotypes(samples, spo=None):\n",
    "    \"\"\"Get spoligotypes for multiple M.bovis strains\"\"\"\n",
    "    \n",
    "    if spo is not None:\n",
    "        done=list(spo['sample'])\n",
    "    else:\n",
    "        done=[]\n",
    "    samples = samples.drop_duplicates('sample')\n",
    "    res=[]\n",
    "    for i,r in samples.iterrows():\n",
    "        f=r.filename1\n",
    "        samp=r['sample']\n",
    "        if samp in done:\n",
    "            continue\n",
    "        b = tools.get_spoligotype(f)\n",
    "        sb = tools.get_sb_number(b)\n",
    "        print (r['sample'], sb, b)\n",
    "        res.append([r['sample'],sb,b])\n",
    "    \n",
    "    res = pd.DataFrame(res,columns=['sample','SB','code'])\n",
    "    return res\n",
    "\n",
    "spo = pd.read_csv('/storage/btbgenie/mbovis_ireland/spoligotypes.csv')\n",
    "samples = pd.read_csv('/storage/btbgenie/global_results/samples.csv')\n",
    "res = get_spoligotypes(samples,spo)"
   ]
  },
  {
   "cell_type": "code",
   "execution_count": 95,
   "metadata": {
    "tags": []
   },
   "outputs": [],
   "source": [
    "#res=pd.concat([spo,res])\n",
    "#res.to_csv('/storage/btbgenie/mbovis_ireland/spoligotypes.csv')"
   ]
  },
  {
   "cell_type": "code",
   "execution_count": null,
   "metadata": {},
   "outputs": [],
   "source": [
    "samples = pd.read_csv('/storage/btbgenie/global_results/samples.csv')\n",
    "from snipgenie import rdiff\n",
    "reload(rdiff)\n",
    "rdiff.create_rd_index()\n",
    "res = rdiff.run_samples(samples,'/storage/btbgenie/global_results/rd_aligned',threads=10)\n",
    "X = rdiff.get_matrix(res, cutoff=0.15)\n",
    "X['ident'] = X.apply(rdiff.apply_rules,1)\n",
    "X.to_csv('/storage/btbgenie/global_results/rd.csv')"
   ]
  },
  {
   "cell_type": "markdown",
   "metadata": {
    "tags": []
   },
   "source": [
    "## merge to get metadata "
   ]
  },
  {
   "cell_type": "code",
   "execution_count": 110,
   "metadata": {},
   "outputs": [
    {
     "data": {
      "text/plain": [
       "407"
      ]
     },
     "execution_count": 110,
     "metadata": {},
     "output_type": "execute_result"
    }
   ],
   "source": [
    "samples = pd.read_csv('/storage/btbgenie/global_results/samples.csv')\n",
    "meta = pd.read_csv('brites_table1.csv')\n",
    "x = samples.merge(meta,right_on='Accession_Number',left_on='sample',how='left')\n",
    "spotypes = pd.read_csv('/storage/btbgenie/mbovis_ireland/spoligotypes.csv')\n",
    "R = pd.read_csv('/storage/btbgenie/global_results/rd.csv',index_col=0)\n",
    "meta = x.merge(spotypes,on='sample')\n",
    "meta = meta.drop_duplicates('sample')\n",
    "#rds=R[['RD1mic','RD149','RD3','RD5','RD5oryx*','RD122','RDAf2','RDWicklow']]\n",
    "#meta = x.merge(rds,left_on='sample',right_index=True)\n",
    "len(meta)"
   ]
  },
  {
   "cell_type": "code",
   "execution_count": null,
   "metadata": {},
   "outputs": [],
   "source": [
    "reload(clustering)\n",
    "snpdist = pd.read_csv('/storage/btbgenie/global_results/snpdist.csv',index_col=0)\n",
    "clusts,members = clustering.get_cluster_levels(snpdist)\n",
    "meta = meta.merge(clusts,left_on='sample',right_index=True)"
   ]
  },
  {
   "cell_type": "code",
   "execution_count": 115,
   "metadata": {},
   "outputs": [
    {
     "data": {
      "text/plain": [
       "snp500\n",
       "2    398\n",
       "1      9\n",
       "Name: count, dtype: int64"
      ]
     },
     "execution_count": 115,
     "metadata": {},
     "output_type": "execute_result"
    }
   ],
   "source": [
    "clusts.snp500.value_counts()\n",
    "#clustering.nonredundant_samples(clusts, 'snp50')"
   ]
  },
  {
   "cell_type": "code",
   "execution_count": 108,
   "metadata": {},
   "outputs": [],
   "source": [
    "meta.to_csv('/storage/btbgenie/global_results/metadata.csv',index=False)"
   ]
  },
  {
   "cell_type": "markdown",
   "metadata": {},
   "source": [
    "## RD analysis"
   ]
  },
  {
   "cell_type": "code",
   "execution_count": null,
   "metadata": {},
   "outputs": [],
   "source": [
    "reload(rdiff)\n",
    "rdiff.show_rd_coverage(samples[:5], 'LT708304.1',4330000,4340000,app.mbovis_genome,margin=1300)"
   ]
  },
  {
   "cell_type": "code",
   "execution_count": null,
   "metadata": {},
   "outputs": [],
   "source": [
    "complexcolors = {'La2':'blue', 'La1.8.1':'pink', 'La1.3':'', 'La1.6':'', 'La1.7.1':'', 'La1.5':'', 'La3':'',\n",
    "                'La1.8.2':'', 'La1.7-unk4':'', 'La1.2':'', 'La1.4':'', 'La1.7-unk5':'', 'La1.1':''}"
   ]
  },
  {
   "cell_type": "code",
   "execution_count": null,
   "metadata": {},
   "outputs": [],
   "source": [
    "R = pd.read_csv('/storage/btbgenie/global_results/rd.csv',index_col=0).iloc[:,:-1]\n",
    "xcols = R.columns[(R.sum()<61) | (R.sum()>10)]\n",
    "R[xcols]"
   ]
  },
  {
   "cell_type": "code",
   "execution_count": null,
   "metadata": {},
   "outputs": [],
   "source": [
    "R = pd.read_csv('/storage/btbgenie/global_results/rd.csv',index_col=0)\n",
    "#mapdict=dict(zip(meta['sample'],meta['SIB_Number']))\n",
    "#X.index=X.index.map(mapdict)\n",
    "scols=['sample','Clonal_Complex']\n",
    "R=R.merge(meta[scols],left_index=True,right_on='sample',how='left').set_index('sample')\n",
    "\n",
    "row_colors,colormap = plotting.get_color_mapping(R,'Clonal_Complex',cmap='Paired',seed=18)\n",
    "\n",
    "cols = ['RD1','RD1mic','RDWicklow','RD8','RD11','RD149','RD6','RD3','RDAf2']\n",
    "\n",
    "import matplotlib.patches as mpatches\n",
    "g=sns.clustermap(R[cols],lw=0,cmap='gray_r',fmt='g',cbar_pos=None,col_cluster=False,\n",
    "                 yticklabels=False,row_colors=row_colors,figsize=(12,12))\n",
    "pts=[]\n",
    "for c in colormap:\n",
    "    pts.append(mpatches.Patch(color=colormap[c],label=c))\n",
    "g.fig.legend(handles=pts,bbox_to_anchor=(1.15, .9))"
   ]
  },
  {
   "cell_type": "markdown",
   "metadata": {},
   "source": [
    "## combine ireland + uk + global samples\n",
    "\n",
    "add Ireland samples to global tree"
   ]
  },
  {
   "cell_type": "code",
   "execution_count": null,
   "metadata": {},
   "outputs": [],
   "source": [
    "outdir='/storage/btbgenie/combined_results'\n",
    "\n",
    "folders = {'ireland':'/storage/btbgenie/all_ireland_results/',          \n",
    "          'global':'/storage/btbgenie/global_results/'}\n",
    "\n",
    "x=[]\n",
    "for f in folders:\n",
    "    file = os.path.join(folders[f],'samples.csv')\n",
    "    df=pd.read_csv(file)    \n",
    "    x.append(df)\n",
    "    print (f, len(df))\n",
    "allsamples = pd.concat(x)\n",
    "print (len(allsamples))\n",
    "allsamples.to_csv(os.path.join(outdir,'samples.csv'),index=False)\n",
    "app.write_samples(allsamples[['sample']], outdir)"
   ]
  },
  {
   "cell_type": "markdown",
   "metadata": {},
   "source": [
    "## run variant calling on combined files"
   ]
  },
  {
   "cell_type": "code",
   "execution_count": null,
   "metadata": {},
   "outputs": [],
   "source": [
    "reload(app)\n",
    "bam_files = allsamples.bam_file\n",
    "gff_file=os.path.join(outdir,'mbovis.gff')\n",
    "outdir='/storage/btbgenie/combined_results'\n",
    "tools.gff_bcftools_format(app.mbovis_gb, gff_file)\n",
    "app.run_bamfiles(bam_files, app.mbovis_genome, outdir=outdir, threads=18,\n",
    "                 mask=app.mbovis_mask, gff_file=gff_file,\n",
    "                 custom_filters=True, overwrite=False)"
   ]
  },
  {
   "cell_type": "code",
   "execution_count": 4,
   "metadata": {
    "tags": []
   },
   "outputs": [
    {
     "data": {
      "text/html": [
       "<div>\n",
       "<style scoped>\n",
       "    .dataframe tbody tr th:only-of-type {\n",
       "        vertical-align: middle;\n",
       "    }\n",
       "\n",
       "    .dataframe tbody tr th {\n",
       "        vertical-align: top;\n",
       "    }\n",
       "\n",
       "    .dataframe thead th {\n",
       "        text-align: right;\n",
       "    }\n",
       "</style>\n",
       "<table border=\"1\" class=\"dataframe\">\n",
       "  <thead>\n",
       "    <tr style=\"text-align: right;\">\n",
       "      <th></th>\n",
       "      <th>ref</th>\n",
       "      <th>1034</th>\n",
       "      <th>13-11594</th>\n",
       "      <th>14-MBovis</th>\n",
       "      <th>15-11643</th>\n",
       "      <th>17-11662</th>\n",
       "      <th>17-MBovis</th>\n",
       "      <th>19-11957</th>\n",
       "      <th>19-MBovis</th>\n",
       "      <th>22-12200</th>\n",
       "      <th>...</th>\n",
       "      <th>SRR13888775</th>\n",
       "      <th>SRR1791891</th>\n",
       "      <th>SRR1792067</th>\n",
       "      <th>SRR1792410</th>\n",
       "      <th>SRR7236143</th>\n",
       "      <th>SRR7236174</th>\n",
       "      <th>SRR7236252</th>\n",
       "      <th>SRR7236262</th>\n",
       "      <th>SRR7236279</th>\n",
       "      <th>SRR7236421</th>\n",
       "    </tr>\n",
       "    <tr>\n",
       "      <th>pos</th>\n",
       "      <th></th>\n",
       "      <th></th>\n",
       "      <th></th>\n",
       "      <th></th>\n",
       "      <th></th>\n",
       "      <th></th>\n",
       "      <th></th>\n",
       "      <th></th>\n",
       "      <th></th>\n",
       "      <th></th>\n",
       "      <th></th>\n",
       "      <th></th>\n",
       "      <th></th>\n",
       "      <th></th>\n",
       "      <th></th>\n",
       "      <th></th>\n",
       "      <th></th>\n",
       "      <th></th>\n",
       "      <th></th>\n",
       "      <th></th>\n",
       "      <th></th>\n",
       "    </tr>\n",
       "  </thead>\n",
       "  <tbody>\n",
       "    <tr>\n",
       "      <th>224</th>\n",
       "      <td>A</td>\n",
       "      <td>A</td>\n",
       "      <td>A</td>\n",
       "      <td>A</td>\n",
       "      <td>A</td>\n",
       "      <td>A</td>\n",
       "      <td>A</td>\n",
       "      <td>A</td>\n",
       "      <td>A</td>\n",
       "      <td>A</td>\n",
       "      <td>...</td>\n",
       "      <td>A</td>\n",
       "      <td>A</td>\n",
       "      <td>A</td>\n",
       "      <td>A</td>\n",
       "      <td>A</td>\n",
       "      <td>A</td>\n",
       "      <td>A</td>\n",
       "      <td>A</td>\n",
       "      <td>A</td>\n",
       "      <td>A</td>\n",
       "    </tr>\n",
       "    <tr>\n",
       "      <th>342</th>\n",
       "      <td>G</td>\n",
       "      <td>G</td>\n",
       "      <td>G</td>\n",
       "      <td>G</td>\n",
       "      <td>G</td>\n",
       "      <td>G</td>\n",
       "      <td>G</td>\n",
       "      <td>G</td>\n",
       "      <td>G</td>\n",
       "      <td>G</td>\n",
       "      <td>...</td>\n",
       "      <td>G</td>\n",
       "      <td>G</td>\n",
       "      <td>G</td>\n",
       "      <td>G</td>\n",
       "      <td>G</td>\n",
       "      <td>G</td>\n",
       "      <td>G</td>\n",
       "      <td>G</td>\n",
       "      <td>G</td>\n",
       "      <td>G</td>\n",
       "    </tr>\n",
       "    <tr>\n",
       "      <th>387</th>\n",
       "      <td>C</td>\n",
       "      <td>C</td>\n",
       "      <td>C</td>\n",
       "      <td>C</td>\n",
       "      <td>C</td>\n",
       "      <td>C</td>\n",
       "      <td>C</td>\n",
       "      <td>C</td>\n",
       "      <td>C</td>\n",
       "      <td>C</td>\n",
       "      <td>...</td>\n",
       "      <td>C</td>\n",
       "      <td>C</td>\n",
       "      <td>C</td>\n",
       "      <td>C</td>\n",
       "      <td>C</td>\n",
       "      <td>C</td>\n",
       "      <td>C</td>\n",
       "      <td>C</td>\n",
       "      <td>C</td>\n",
       "      <td>C</td>\n",
       "    </tr>\n",
       "    <tr>\n",
       "      <th>467</th>\n",
       "      <td>G</td>\n",
       "      <td>G</td>\n",
       "      <td>G</td>\n",
       "      <td>G</td>\n",
       "      <td>G</td>\n",
       "      <td>G</td>\n",
       "      <td>G</td>\n",
       "      <td>G</td>\n",
       "      <td>G</td>\n",
       "      <td>G</td>\n",
       "      <td>...</td>\n",
       "      <td>G</td>\n",
       "      <td>G</td>\n",
       "      <td>G</td>\n",
       "      <td>G</td>\n",
       "      <td>G</td>\n",
       "      <td>G</td>\n",
       "      <td>G</td>\n",
       "      <td>G</td>\n",
       "      <td>G</td>\n",
       "      <td>G</td>\n",
       "    </tr>\n",
       "    <tr>\n",
       "      <th>539</th>\n",
       "      <td>G</td>\n",
       "      <td>G</td>\n",
       "      <td>G</td>\n",
       "      <td>G</td>\n",
       "      <td>G</td>\n",
       "      <td>G</td>\n",
       "      <td>G</td>\n",
       "      <td>G</td>\n",
       "      <td>G</td>\n",
       "      <td>G</td>\n",
       "      <td>...</td>\n",
       "      <td>G</td>\n",
       "      <td>G</td>\n",
       "      <td>G</td>\n",
       "      <td>G</td>\n",
       "      <td>G</td>\n",
       "      <td>G</td>\n",
       "      <td>G</td>\n",
       "      <td>G</td>\n",
       "      <td>G</td>\n",
       "      <td>G</td>\n",
       "    </tr>\n",
       "    <tr>\n",
       "      <th>...</th>\n",
       "      <td>...</td>\n",
       "      <td>...</td>\n",
       "      <td>...</td>\n",
       "      <td>...</td>\n",
       "      <td>...</td>\n",
       "      <td>...</td>\n",
       "      <td>...</td>\n",
       "      <td>...</td>\n",
       "      <td>...</td>\n",
       "      <td>...</td>\n",
       "      <td>...</td>\n",
       "      <td>...</td>\n",
       "      <td>...</td>\n",
       "      <td>...</td>\n",
       "      <td>...</td>\n",
       "      <td>...</td>\n",
       "      <td>...</td>\n",
       "      <td>...</td>\n",
       "      <td>...</td>\n",
       "      <td>...</td>\n",
       "      <td>...</td>\n",
       "    </tr>\n",
       "    <tr>\n",
       "      <th>4349078</th>\n",
       "      <td>C</td>\n",
       "      <td>C</td>\n",
       "      <td>C</td>\n",
       "      <td>C</td>\n",
       "      <td>C</td>\n",
       "      <td>C</td>\n",
       "      <td>C</td>\n",
       "      <td>C</td>\n",
       "      <td>C</td>\n",
       "      <td>C</td>\n",
       "      <td>...</td>\n",
       "      <td>C</td>\n",
       "      <td>C</td>\n",
       "      <td>C</td>\n",
       "      <td>C</td>\n",
       "      <td>C</td>\n",
       "      <td>C</td>\n",
       "      <td>C</td>\n",
       "      <td>C</td>\n",
       "      <td>C</td>\n",
       "      <td>C</td>\n",
       "    </tr>\n",
       "    <tr>\n",
       "      <th>4349107</th>\n",
       "      <td>G</td>\n",
       "      <td>G</td>\n",
       "      <td>G</td>\n",
       "      <td>G</td>\n",
       "      <td>G</td>\n",
       "      <td>G</td>\n",
       "      <td>G</td>\n",
       "      <td>G</td>\n",
       "      <td>G</td>\n",
       "      <td>G</td>\n",
       "      <td>...</td>\n",
       "      <td>G</td>\n",
       "      <td>G</td>\n",
       "      <td>G</td>\n",
       "      <td>G</td>\n",
       "      <td>G</td>\n",
       "      <td>G</td>\n",
       "      <td>G</td>\n",
       "      <td>G</td>\n",
       "      <td>G</td>\n",
       "      <td>G</td>\n",
       "    </tr>\n",
       "    <tr>\n",
       "      <th>4349136</th>\n",
       "      <td>G</td>\n",
       "      <td>G</td>\n",
       "      <td>G</td>\n",
       "      <td>G</td>\n",
       "      <td>G</td>\n",
       "      <td>G</td>\n",
       "      <td>G</td>\n",
       "      <td>G</td>\n",
       "      <td>G</td>\n",
       "      <td>G</td>\n",
       "      <td>...</td>\n",
       "      <td>G</td>\n",
       "      <td>G</td>\n",
       "      <td>G</td>\n",
       "      <td>G</td>\n",
       "      <td>G</td>\n",
       "      <td>G</td>\n",
       "      <td>G</td>\n",
       "      <td>G</td>\n",
       "      <td>G</td>\n",
       "      <td>G</td>\n",
       "    </tr>\n",
       "    <tr>\n",
       "      <th>4349603</th>\n",
       "      <td>A</td>\n",
       "      <td>A</td>\n",
       "      <td>A</td>\n",
       "      <td>A</td>\n",
       "      <td>A</td>\n",
       "      <td>A</td>\n",
       "      <td>A</td>\n",
       "      <td>A</td>\n",
       "      <td>A</td>\n",
       "      <td>A</td>\n",
       "      <td>...</td>\n",
       "      <td>A</td>\n",
       "      <td>A</td>\n",
       "      <td>A</td>\n",
       "      <td>A</td>\n",
       "      <td>A</td>\n",
       "      <td>A</td>\n",
       "      <td>A</td>\n",
       "      <td>A</td>\n",
       "      <td>A</td>\n",
       "      <td>A</td>\n",
       "    </tr>\n",
       "    <tr>\n",
       "      <th>4349644</th>\n",
       "      <td>G</td>\n",
       "      <td>G</td>\n",
       "      <td>G</td>\n",
       "      <td>G</td>\n",
       "      <td>G</td>\n",
       "      <td>G</td>\n",
       "      <td>G</td>\n",
       "      <td>G</td>\n",
       "      <td>G</td>\n",
       "      <td>G</td>\n",
       "      <td>...</td>\n",
       "      <td>G</td>\n",
       "      <td>G</td>\n",
       "      <td>G</td>\n",
       "      <td>G</td>\n",
       "      <td>G</td>\n",
       "      <td>G</td>\n",
       "      <td>G</td>\n",
       "      <td>G</td>\n",
       "      <td>G</td>\n",
       "      <td>G</td>\n",
       "    </tr>\n",
       "  </tbody>\n",
       "</table>\n",
       "<p>25178 rows × 2131 columns</p>\n",
       "</div>"
      ],
      "text/plain": [
       "        ref 1034 13-11594 14-MBovis 15-11643 17-11662 17-MBovis 19-11957 19-MBovis 22-12200  ... SRR13888775 SRR1791891 SRR1792067 SRR1792410 SRR7236143 SRR7236174 SRR7236252 SRR7236262 SRR7236279  \\\n",
       "pos                                                                                          ...                                                                                                       \n",
       "224       A    A        A         A        A        A         A        A         A        A  ...           A          A          A          A          A          A          A          A          A   \n",
       "342       G    G        G         G        G        G         G        G         G        G  ...           G          G          G          G          G          G          G          G          G   \n",
       "387       C    C        C         C        C        C         C        C         C        C  ...           C          C          C          C          C          C          C          C          C   \n",
       "467       G    G        G         G        G        G         G        G         G        G  ...           G          G          G          G          G          G          G          G          G   \n",
       "539       G    G        G         G        G        G         G        G         G        G  ...           G          G          G          G          G          G          G          G          G   \n",
       "...      ..  ...      ...       ...      ...      ...       ...      ...       ...      ...  ...         ...        ...        ...        ...        ...        ...        ...        ...        ...   \n",
       "4349078   C    C        C         C        C        C         C        C         C        C  ...           C          C          C          C          C          C          C          C          C   \n",
       "4349107   G    G        G         G        G        G         G        G         G        G  ...           G          G          G          G          G          G          G          G          G   \n",
       "4349136   G    G        G         G        G        G         G        G         G        G  ...           G          G          G          G          G          G          G          G          G   \n",
       "4349603   A    A        A         A        A        A         A        A         A        A  ...           A          A          A          A          A          A          A          A          A   \n",
       "4349644   G    G        G         G        G        G         G        G         G        G  ...           G          G          G          G          G          G          G          G          G   \n",
       "\n",
       "        SRR7236421  \n",
       "pos                 \n",
       "224              A  \n",
       "342              G  \n",
       "387              C  \n",
       "467              G  \n",
       "539              G  \n",
       "...            ...  \n",
       "4349078          C  \n",
       "4349107          G  \n",
       "4349136          G  \n",
       "4349603          A  \n",
       "4349644          G  \n",
       "\n",
       "[25178 rows x 2131 columns]"
      ]
     },
     "execution_count": 4,
     "metadata": {},
     "output_type": "execute_result"
    }
   ],
   "source": [
    "reload(app)\n",
    "#app.csq_call(app.mbovis_genome, gff_file,'/storage/btbgenie/combined_results/snps.vcf.gz', \n",
    "#             '/storage/btbgenie/combined_results/csq.tsv')\n",
    "#smat = pd.read_csv('/storage/btbgenie/combined_results/core.txt',index_col=0,sep=' ')\n",
    "#trees.convert_branch_lengths('/storage/btbgenie/combined_results/RAxML_bipartitions.variants',\n",
    "#                             '/storage/btbgenie/combined_results/tree.newick', len(smat))\n"
   ]
  },
  {
   "cell_type": "markdown",
   "metadata": {},
   "source": [
    "<div class=\"alert alert-block alert-info\"><b>Start here for post analysis</b></div>"
   ]
  },
  {
   "cell_type": "code",
   "execution_count": null,
   "metadata": {},
   "outputs": [],
   "source": [
    "scols=['sample','SB','batch','county']\n",
    "ireland = pd.read_csv('/storage/btbgenie/all_ireland_results/metadata.csv').iloc[:,:-7]\n",
    "#ireland['Country']='Ireland'\n",
    "master=pd.concat([ireland,meta])\n",
    "print (len(ireland), len(meta), len(master))"
   ]
  },
  {
   "cell_type": "code",
   "execution_count": null,
   "metadata": {},
   "outputs": [],
   "source": [
    "def get_common(x, common):\n",
    "    if x in common:\n",
    "        return x\n",
    "    else:\n",
    "        return 'Other'"
   ]
  },
  {
   "cell_type": "code",
   "execution_count": null,
   "metadata": {},
   "outputs": [],
   "source": [
    "common = master.Country.value_counts()[:9]\n",
    "master['Country1'] = master.Country.apply(lambda x: get_common(x, common))\n",
    "#len(master)"
   ]
  },
  {
   "cell_type": "code",
   "execution_count": null,
   "metadata": {},
   "outputs": [],
   "source": [
    "#common = master.county.value_counts()[:4]\n",
    "#master['county1'] = master.county.apply(lambda x: get_common(x, common))\n",
    "#master['cc'] = master['Clonal_Complex'].fillna(master.Country)\n",
    "#master['cc1'] = master['Clonal_Complex'].fillna(master.county1)"
   ]
  },
  {
   "cell_type": "code",
   "execution_count": null,
   "metadata": {},
   "outputs": [],
   "source": [
    "common = master.SB.value_counts()[:8]\n",
    "master['SB1'] = master.SB.apply(lambda x: get_common(x, common))"
   ]
  },
  {
   "cell_type": "code",
   "execution_count": null,
   "metadata": {},
   "outputs": [],
   "source": [
    "reload(clustering)\n",
    "snpdist = pd.read_csv('/storage/btbgenie/combined_results/snpdist.csv',index_col=0)\n",
    "clusts,members = clustering.get_cluster_levels(snpdist)\n",
    "cc = clusts.snp500.value_counts()#[1:20]\n",
    "cc.plot(kind='bar',figsize=(12,5))\n",
    "print (list(cc.index))\n",
    "members.to_parquet(\"/storage/btbgenie/cluster_members.parquet\")"
   ]
  },
  {
   "cell_type": "code",
   "execution_count": null,
   "metadata": {
    "tags": []
   },
   "outputs": [],
   "source": [
    "st = clustering.generate_strain_names(clusts)"
   ]
  },
  {
   "cell_type": "code",
   "execution_count": null,
   "metadata": {},
   "outputs": [],
   "source": [
    "final = master.merge(st,left_on='sample',right_index=True)"
   ]
  },
  {
   "cell_type": "code",
   "execution_count": null,
   "metadata": {},
   "outputs": [],
   "source": [
    "#combine rd data\n",
    "rd1=pd.read_csv('/storage/btbgenie/global_results/rd.csv',index_col=0)\n",
    "rd2=pd.read_csv('/storage/btbgenie/mbovis_ireland/rd.csv',index_col=0)\n",
    "rd=pd.concat([rd1,rd2])\n",
    "rvar = ['RD149','RD3','RD5','RD5oryx*','RDAf2','RDWicklow']\n",
    "final = final.merge(rd[rvar],left_on='sample',right_index=True)"
   ]
  },
  {
   "cell_type": "code",
   "execution_count": null,
   "metadata": {},
   "outputs": [],
   "source": [
    "final.to_csv('/storage/btbgenie/combined_results/metadata.csv')"
   ]
  },
  {
   "cell_type": "code",
   "execution_count": null,
   "metadata": {},
   "outputs": [],
   "source": [
    "cols=['sample','SB']\n",
    "X=final.set_index(cols)[rvar].fillna(0)\n",
    "#X = X.iloc[:,1:]\n",
    "#print (X)\n",
    "sns.clustermap(X,xticklabels=True,yticklabels=[],cmap='gray',figsize=(12,12))"
   ]
  },
  {
   "cell_type": "code",
   "execution_count": null,
   "metadata": {
    "tags": []
   },
   "outputs": [],
   "source": [
    "meta.Clonal_Complex.value_counts()"
   ]
  },
  {
   "cell_type": "markdown",
   "metadata": {},
   "source": [
    "## representative samples"
   ]
  },
  {
   "cell_type": "code",
   "execution_count": null,
   "metadata": {},
   "outputs": [],
   "source": [
    "clustering.nonredundant_samples(clusts, 'snp500')"
   ]
  },
  {
   "cell_type": "markdown",
   "metadata": {},
   "source": [
    "## missing sites"
   ]
  },
  {
   "cell_type": "code",
   "execution_count": null,
   "metadata": {},
   "outputs": [],
   "source": [
    "snprecs, smat = tools.core_alignment_from_vcf('/storage/btbgenie/global_results/snps.vcf.gz', missing=True)"
   ]
  },
  {
   "cell_type": "code",
   "execution_count": null,
   "metadata": {},
   "outputs": [],
   "source": [
    "missing = smat[smat=='N'].T.count().sort_values()\n",
    "x=pd.DataFrame(missing).reset_index()\n",
    "x"
   ]
  },
  {
   "cell_type": "markdown",
   "metadata": {
    "tags": []
   },
   "source": [
    "## SNPs and indels statistics"
   ]
  },
  {
   "cell_type": "code",
   "execution_count": null,
   "metadata": {
    "tags": []
   },
   "outputs": [],
   "source": [
    "final = pd.read_csv('/storage/btbgenie/combined_results/metadata.csv',index_col=0)"
   ]
  },
  {
   "cell_type": "code",
   "execution_count": null,
   "metadata": {},
   "outputs": [],
   "source": [
    "csq = app.read_csq_file('/storage/btbgenie/combined_results/csq.tsv')\n",
    "aamat = app.get_aa_snp_matrix(csq)\n",
    "nucmat = pd.read_csv('/storage/btbgenie/combined_results/core.txt',sep=' ')\n",
    "nucmat = nucmat.set_index('pos')"
   ]
  },
  {
   "cell_type": "code",
   "execution_count": null,
   "metadata": {},
   "outputs": [],
   "source": [
    "csqind = app.read_csq_file('/storage/btbgenie/combined_results/csq_indels.tsv')\n",
    "#print (csqind)\n",
    "#print (csqind.snp_type.value_counts())\n",
    "\n",
    "ind_mat = app.get_aa_snp_matrix(csqind)\n",
    "ind_mat.reset_index().snp_type.value_counts()\n",
    "#ind_mat\n",
    "#ind_mat[ind_mat.sum(1)>5]"
   ]
  },
  {
   "cell_type": "code",
   "execution_count": null,
   "metadata": {},
   "outputs": [],
   "source": [
    "#mat.index = mat.index.get_level_values(1)+'_'+mat.index.get_level_values(2)\n",
    "stat = aamat.sum(1).reset_index()\n",
    "stat.gene.value_counts()[:50]"
   ]
  },
  {
   "cell_type": "code",
   "execution_count": null,
   "metadata": {
    "tags": []
   },
   "outputs": [],
   "source": [
    "C=aamat.T\n",
    "cols=['sample','Country','snp500']\n",
    "C=C.merge(final[cols],on='sample')\n",
    "C=C.set_index(cols)\n",
    "C"
   ]
  },
  {
   "cell_type": "code",
   "execution_count": null,
   "metadata": {},
   "outputs": [],
   "source": [
    "countries = C.index.get_level_values(1)\n",
    "clust = C.index.get_level_values(2)"
   ]
  },
  {
   "cell_type": "code",
   "execution_count": null,
   "metadata": {},
   "outputs": [],
   "source": [
    "reload(trees)\n",
    "colormap1 = dict(zip(countries.unique(), trees.qcolors))\n",
    "colors1 = [colormap1[i] if i in colormap1 else 'Black' for i in countries]\n",
    "colormap2 = dict(zip(clust.unique(), trees.qcolors))\n",
    "colors2 = [colormap2[i] if i in colormap2 else 'Black' for i in clust]\n",
    "#print (colors2)\n",
    "g=sns.clustermap(C.iloc[:,:2000],xticklabels=False,yticklabels=False,figsize=(17,12),cmap='gray_r',cbar_pos=None,row_colors=colors2)\n",
    "p=plotting.make_legend(g.fig,colormap1)\n",
    "#g.fig.savefig('/storage/btbgenie/global_results/indel_clusters.jpg')"
   ]
  },
  {
   "cell_type": "code",
   "execution_count": null,
   "metadata": {},
   "outputs": [],
   "source": [
    "x=[[random.choice([0,1]) for i in range(10)] for i in range(4)]\n",
    "data=np.array([[1, 1, 1, 1, 0, 1, 0, 0, 0, 0],\n",
    "               [1, 1, 1, 0, 0, 0, 0, 0, 0, 0],\n",
    "               [1, 1, 0, 0, 0, 1, 1, 1, 1, 1],\n",
    "               [0, 0, 1, 0, 0, 0, 0, 0, 0, 0]])\n",
    "df=pd.DataFrame(data, index=['A','B','C','D'])\n",
    "print (df)\n",
    "get_unique_snps([0,1,2], df)\n"
   ]
  },
  {
   "cell_type": "code",
   "execution_count": null,
   "metadata": {},
   "outputs": [],
   "source": [
    "def get_unique_snps(names, df, present=True):\n",
    "    \"\"\"Get snps unique to one or more samples from a SNP matrix.\n",
    "    Args:\n",
    "        name: name of sample(s)\n",
    "        df: snp matrix from app.get_aa_snp_matrix(csq)\n",
    "        present: whether snp should be present/absent\n",
    "    returns:\n",
    "        dataframe\n",
    "    \"\"\"\n",
    "\n",
    "    if type(names) is str:\n",
    "        names=[names]\n",
    "    insamp = df[names]\n",
    "    other = df.loc[:, ~df.columns.isin(names)]\n",
    "    if present == True:\n",
    "        u = other[other.sum(1)==0]\n",
    "        u = insamp.loc[u.index]\n",
    "    else:\n",
    "        u = other[other.sum(1)==len(other.columns)]\n",
    "        #sns.clustermap(df.loc[u.index])\n",
    "        u = insamp.loc[u.index]\n",
    "        u = u[u.sum(1)==0]\n",
    "    return u"
   ]
  },
  {
   "cell_type": "code",
   "execution_count": null,
   "metadata": {},
   "outputs": [],
   "source": [
    "#names=['41-MBovis','45-MBovis','48-MBovis','35-MBovis']\n",
    "x=pd.read_csv('/storage/btbgenie/wicklow_results/samples.csv')\n",
    "names=list(x['sample'])\n",
    "print (len(names))\n",
    "get_unique_snps(names, aamat)"
   ]
  },
  {
   "cell_type": "code",
   "execution_count": null,
   "metadata": {},
   "outputs": [],
   "source": [
    "c = nucmat.T\n",
    "c = c.loc[names]\n",
    "c = c[[i for i in c if c[i].nunique()>1]]\n",
    "c"
   ]
  },
  {
   "cell_type": "code",
   "execution_count": null,
   "metadata": {},
   "outputs": [],
   "source": [
    "pos = list(c.columns)\n",
    "aamat.loc[pos,:,:,:]"
   ]
  },
  {
   "cell_type": "markdown",
   "metadata": {
    "tags": []
   },
   "source": [
    "## PCA snps"
   ]
  },
  {
   "cell_type": "code",
   "execution_count": null,
   "metadata": {},
   "outputs": [],
   "source": [
    "import sklearn\n",
    "from sklearn import decomposition\n",
    "from sklearn import manifold\n",
    "\n",
    "pca = decomposition.PCA(n_components=3)\n",
    "mds = manifold.MDS(n_components=3)\n",
    "pos = mds.fit(C).embedding_\n",
    "X = pca.fit_transform(pos)\n",
    "#X = pca.transform(C)"
   ]
  },
  {
   "cell_type": "code",
   "execution_count": null,
   "metadata": {},
   "outputs": [],
   "source": [
    "fig,ax = plt.subplots(figsize=(7, 7))\n",
    "ax.scatter(X[:, 0], X[:, 1], c=colors1, s=50, alpha=.4)"
   ]
  },
  {
   "cell_type": "code",
   "execution_count": null,
   "metadata": {
    "tags": []
   },
   "outputs": [],
   "source": [
    "%matplotlib ipympl\n",
    "plt.figure()\n",
    "ax = plt.axes(projection='3d')\n",
    "ax.scatter(X[:, 0], X[:, 1], X[:, 2], c=colors2, s=30, alpha=.3)\n"
   ]
  },
  {
   "cell_type": "code",
   "execution_count": null,
   "metadata": {},
   "outputs": [],
   "source": []
  }
 ],
 "metadata": {
  "kernelspec": {
   "display_name": "Python 3 (ipykernel)",
   "language": "python",
   "name": "python3"
  },
  "language_info": {
   "codemirror_mode": {
    "name": "ipython",
    "version": 3
   },
   "file_extension": ".py",
   "mimetype": "text/x-python",
   "name": "python",
   "nbconvert_exporter": "python",
   "pygments_lexer": "ipython3",
   "version": "3.10.12"
  }
 },
 "nbformat": 4,
 "nbformat_minor": 4
}
