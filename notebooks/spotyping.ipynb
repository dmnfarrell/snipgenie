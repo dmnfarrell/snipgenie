{
 "cells": [
  {
   "cell_type": "markdown",
   "metadata": {},
   "source": [
    "# Spoligotype from WGS\n",
    "\n",
    "* https://genomemedicine.biomedcentral.com/articles/10.1186/s13073-016-0270-7\n"
   ]
  },
  {
   "cell_type": "code",
   "execution_count": 12,
   "metadata": {},
   "outputs": [],
   "source": [
    "import sys,os,shutil,subprocess\n",
    "import glob\n",
    "from importlib import reload\n",
    "import numpy as np\n",
    "import pandas as pd\n",
    "pd.set_option('display.width', 200)\n",
    "pd.set_option('display.max_colwidth', 150)\n",
    "import pylab as plt\n",
    "from Bio import SeqIO\n",
    "from io import StringIO\n",
    "from snipgenie import tools,app,aligners"
   ]
  },
  {
   "cell_type": "markdown",
   "metadata": {},
   "source": [
    "## test files"
   ]
  },
  {
   "cell_type": "code",
   "execution_count": 13,
   "metadata": {},
   "outputs": [
    {
     "data": {
      "text/html": [
       "<div>\n",
       "<style scoped>\n",
       "    .dataframe tbody tr th:only-of-type {\n",
       "        vertical-align: middle;\n",
       "    }\n",
       "\n",
       "    .dataframe tbody tr th {\n",
       "        vertical-align: top;\n",
       "    }\n",
       "\n",
       "    .dataframe thead th {\n",
       "        text-align: right;\n",
       "    }\n",
       "</style>\n",
       "<table border=\"1\" class=\"dataframe\">\n",
       "  <thead>\n",
       "    <tr style=\"text-align: right;\">\n",
       "      <th></th>\n",
       "      <th>name</th>\n",
       "      <th>sample</th>\n",
       "      <th>filename</th>\n",
       "      <th>pair</th>\n",
       "    </tr>\n",
       "  </thead>\n",
       "  <tbody>\n",
       "    <tr>\n",
       "      <th>0</th>\n",
       "      <td>19-5224_S37_L001-4_R2_001</td>\n",
       "      <td>19</td>\n",
       "      <td>/storage/btbgenie/mbovis_ireland/Monaghan/Fastqs_16-12-19/19-5224_S37_L001-4_R2_001.fastq.gz</td>\n",
       "      <td>1</td>\n",
       "    </tr>\n",
       "    <tr>\n",
       "      <th>1</th>\n",
       "      <td>19-4168_S66_L001-4_R2_001</td>\n",
       "      <td>19</td>\n",
       "      <td>/storage/btbgenie/mbovis_ireland/Monaghan/Fastqs_16-12-19/19-4168_S66_L001-4_R2_001.fastq.gz</td>\n",
       "      <td>2</td>\n",
       "    </tr>\n",
       "    <tr>\n",
       "      <th>2</th>\n",
       "      <td>19-8294_S40_L001-4_R1_001</td>\n",
       "      <td>19</td>\n",
       "      <td>/storage/btbgenie/mbovis_ireland/Monaghan/Fastqs_16-12-19/19-8294_S40_L001-4_R1_001.fastq.gz</td>\n",
       "      <td>3</td>\n",
       "    </tr>\n",
       "    <tr>\n",
       "      <th>3</th>\n",
       "      <td>19-7319_S58_L001-4_R2_001</td>\n",
       "      <td>19</td>\n",
       "      <td>/storage/btbgenie/mbovis_ireland/Monaghan/Fastqs_16-12-19/19-7319_S58_L001-4_R2_001.fastq.gz</td>\n",
       "      <td>4</td>\n",
       "    </tr>\n",
       "    <tr>\n",
       "      <th>4</th>\n",
       "      <td>19-1469_S35_L001-4_R1_001</td>\n",
       "      <td>19</td>\n",
       "      <td>/storage/btbgenie/mbovis_ireland/Monaghan/Fastqs_16-12-19/19-1469_S35_L001-4_R1_001.fastq.gz</td>\n",
       "      <td>5</td>\n",
       "    </tr>\n",
       "    <tr>\n",
       "      <th>...</th>\n",
       "      <td>...</td>\n",
       "      <td>...</td>\n",
       "      <td>...</td>\n",
       "      <td>...</td>\n",
       "    </tr>\n",
       "    <tr>\n",
       "      <th>157</th>\n",
       "      <td>19-598_S95_L001-4_R2_001</td>\n",
       "      <td>19</td>\n",
       "      <td>/storage/btbgenie/mbovis_ireland/Monaghan/Fastqs_16-12-19/19-598_S95_L001-4_R2_001.fastq.gz</td>\n",
       "      <td>158</td>\n",
       "    </tr>\n",
       "    <tr>\n",
       "      <th>158</th>\n",
       "      <td>19-6277_S32_L001-4_R2_001</td>\n",
       "      <td>19</td>\n",
       "      <td>/storage/btbgenie/mbovis_ireland/Monaghan/Fastqs_16-12-19/19-6277_S32_L001-4_R2_001.fastq.gz</td>\n",
       "      <td>159</td>\n",
       "    </tr>\n",
       "    <tr>\n",
       "      <th>159</th>\n",
       "      <td>19-1428_S57_L001-4_R2_001</td>\n",
       "      <td>19</td>\n",
       "      <td>/storage/btbgenie/mbovis_ireland/Monaghan/Fastqs_16-12-19/19-1428_S57_L001-4_R2_001.fastq.gz</td>\n",
       "      <td>160</td>\n",
       "    </tr>\n",
       "    <tr>\n",
       "      <th>160</th>\n",
       "      <td>19-4803_S31_L001-4_R2_001</td>\n",
       "      <td>19</td>\n",
       "      <td>/storage/btbgenie/mbovis_ireland/Monaghan/Fastqs_16-12-19/19-4803_S31_L001-4_R2_001.fastq.gz</td>\n",
       "      <td>161</td>\n",
       "    </tr>\n",
       "    <tr>\n",
       "      <th>161</th>\n",
       "      <td>19-4168_S66_L001-4_R1_001</td>\n",
       "      <td>19</td>\n",
       "      <td>/storage/btbgenie/mbovis_ireland/Monaghan/Fastqs_16-12-19/19-4168_S66_L001-4_R1_001.fastq.gz</td>\n",
       "      <td>162</td>\n",
       "    </tr>\n",
       "  </tbody>\n",
       "</table>\n",
       "<p>162 rows × 4 columns</p>\n",
       "</div>"
      ],
      "text/plain": [
       "                          name sample                                                                                      filename  pair\n",
       "0    19-5224_S37_L001-4_R2_001     19  /storage/btbgenie/mbovis_ireland/Monaghan/Fastqs_16-12-19/19-5224_S37_L001-4_R2_001.fastq.gz     1\n",
       "1    19-4168_S66_L001-4_R2_001     19  /storage/btbgenie/mbovis_ireland/Monaghan/Fastqs_16-12-19/19-4168_S66_L001-4_R2_001.fastq.gz     2\n",
       "2    19-8294_S40_L001-4_R1_001     19  /storage/btbgenie/mbovis_ireland/Monaghan/Fastqs_16-12-19/19-8294_S40_L001-4_R1_001.fastq.gz     3\n",
       "3    19-7319_S58_L001-4_R2_001     19  /storage/btbgenie/mbovis_ireland/Monaghan/Fastqs_16-12-19/19-7319_S58_L001-4_R2_001.fastq.gz     4\n",
       "4    19-1469_S35_L001-4_R1_001     19  /storage/btbgenie/mbovis_ireland/Monaghan/Fastqs_16-12-19/19-1469_S35_L001-4_R1_001.fastq.gz     5\n",
       "..                         ...    ...                                                                                           ...   ...\n",
       "157   19-598_S95_L001-4_R2_001     19   /storage/btbgenie/mbovis_ireland/Monaghan/Fastqs_16-12-19/19-598_S95_L001-4_R2_001.fastq.gz   158\n",
       "158  19-6277_S32_L001-4_R2_001     19  /storage/btbgenie/mbovis_ireland/Monaghan/Fastqs_16-12-19/19-6277_S32_L001-4_R2_001.fastq.gz   159\n",
       "159  19-1428_S57_L001-4_R2_001     19  /storage/btbgenie/mbovis_ireland/Monaghan/Fastqs_16-12-19/19-1428_S57_L001-4_R2_001.fastq.gz   160\n",
       "160  19-4803_S31_L001-4_R2_001     19  /storage/btbgenie/mbovis_ireland/Monaghan/Fastqs_16-12-19/19-4803_S31_L001-4_R2_001.fastq.gz   161\n",
       "161  19-4168_S66_L001-4_R1_001     19  /storage/btbgenie/mbovis_ireland/Monaghan/Fastqs_16-12-19/19-4168_S66_L001-4_R1_001.fastq.gz   162\n",
       "\n",
       "[162 rows x 4 columns]"
      ]
     },
     "execution_count": 13,
     "metadata": {},
     "output_type": "execute_result"
    }
   ],
   "source": [
    "#path = '/storage/btbgenie/mbovis_ireland/NI/'\n",
    "path = '/storage/btbgenie/mbovis_ireland/Monaghan/Fastqs_16-12-19/'\n",
    "files = glob.glob(os.path.join(path, '*.gz'))\n",
    "samp = app.get_samples(files)\n",
    "samp"
   ]
  },
  {
   "cell_type": "code",
   "execution_count": 186,
   "metadata": {},
   "outputs": [
    {
     "name": "stdout",
     "output_type": "stream",
     "text": [
      "blastn -out ../dr_spacers_blast.txt -outfmt \"6 qseqid sseqid qseq sseq pident qcovs length mismatch gapopen qstart qend sstart send evalue bitscore stitle\" -query ../dr_spacers.fa -db temp.fa -evalue 0.1 -max_target_seqs 100000 -num_threads 4 -task blastn\n"
     ]
    }
   ],
   "source": [
    "#convert reads to fasta\n",
    "tools.fastq_to_fasta(f1, 'temp.fa', 500000)\n",
    "#make blast db from reads\n",
    "tools.make_blast_database('temp.fa')\n",
    "#blast spacers to db\n",
    "bl = tools.blast_fasta('temp.fa', '../dr_spacers.fa', evalue=0.1, \n",
    "                       maxseqs=100000, show_cmd=True)"
   ]
  },
  {
   "cell_type": "code",
   "execution_count": null,
   "metadata": {},
   "outputs": [],
   "source": [
    "#bl=bl.sort_values('qseqid','pident')\n",
    "bl[['qseqid','pident','qcovs','length','mismatch']]"
   ]
  },
  {
   "cell_type": "code",
   "execution_count": 212,
   "metadata": {},
   "outputs": [
    {
     "data": {
      "text/html": [
       "<div>\n",
       "<style scoped>\n",
       "    .dataframe tbody tr th:only-of-type {\n",
       "        vertical-align: middle;\n",
       "    }\n",
       "\n",
       "    .dataframe tbody tr th {\n",
       "        vertical-align: top;\n",
       "    }\n",
       "\n",
       "    .dataframe thead th {\n",
       "        text-align: right;\n",
       "    }\n",
       "</style>\n",
       "<table border=\"1\" class=\"dataframe\">\n",
       "  <thead>\n",
       "    <tr style=\"text-align: right;\">\n",
       "      <th></th>\n",
       "      <th>qseqid</th>\n",
       "      <th>pident</th>\n",
       "    </tr>\n",
       "  </thead>\n",
       "  <tbody>\n",
       "    <tr>\n",
       "      <th>0</th>\n",
       "      <td>37</td>\n",
       "      <td>9.0</td>\n",
       "    </tr>\n",
       "    <tr>\n",
       "      <th>1</th>\n",
       "      <td>38</td>\n",
       "      <td>7.0</td>\n",
       "    </tr>\n",
       "  </tbody>\n",
       "</table>\n",
       "</div>"
      ],
      "text/plain": [
       "   qseqid  pident\n",
       "0      37     9.0\n",
       "1      38     7.0"
      ]
     },
     "execution_count": 212,
     "metadata": {},
     "output_type": "execute_result"
    }
   ],
   "source": [
    "bl=bl[(bl.qcovs>95) & (bl.mismatch<2)]\n",
    "x=bl.groupby('qseqid').agg({'pident':np.size}).reset_index()\n",
    "x"
   ]
  },
  {
   "cell_type": "code",
   "execution_count": 18,
   "metadata": {},
   "outputs": [
    {
     "name": "stdout",
     "output_type": "stream",
     "text": [
      "    qseqid  pident\n",
      "0        1     4.0\n",
      "1        2     4.0\n",
      "2        7    11.0\n",
      "3       14     2.0\n",
      "6       19     2.0\n",
      "9       23     4.0\n",
      "10      24     7.0\n",
      "11      25     6.0\n",
      "12      26     4.0\n",
      "13      27     3.0\n",
      "18      34     4.0\n",
      "19      35     3.0\n",
      "20      36     2.0\n",
      "21      37     2.0\n",
      "22      38     3.0\n",
      "1100001000000100001000111110000001111100000\n"
     ]
    },
    {
     "data": {
      "text/plain": [
       "'0o141004107601740'"
      ]
     },
     "execution_count": 18,
     "metadata": {},
     "output_type": "execute_result"
    }
   ],
   "source": [
    "def get_spoligotype(filename, reads_limit=500000, threshold=2):\n",
    "    \"\"\"Get spoligotype from reads\"\"\"\n",
    "    \n",
    "    ref = '../snpgenie/data/dr_spacers.fa'\n",
    "    #convert reads to fasta\n",
    "    tools.fastq_to_fasta(filename, 'temp.fa', reads_limit)\n",
    "    #make blast db from reads\n",
    "    tools.make_blast_database('temp.fa')\n",
    "    #blast spacers to db\n",
    "    bl = tools.blast_fasta('temp.fa', ref, evalue=0.1, \n",
    "                           maxseqs=100000, show_cmd=False) \n",
    "    bl=bl[(bl.qcovs>95) & (bl.mismatch<2)]\n",
    "    x = bl.groupby('qseqid').agg({'pident':np.size}).reset_index()    \n",
    "    x = x[x.pident>=threshold]\n",
    "    print (x)\n",
    "    found = list(x.qseqid)\n",
    "    \n",
    "    s=[]\n",
    "    for i in range(1,44):\n",
    "        if i in found:\n",
    "            s.append('1')\n",
    "        else:\n",
    "            s.append('0')\n",
    "    s =''.join(s)\n",
    "    print (s)\n",
    "    return s\n",
    "\n",
    "s = get_spoligotype('/storage/btbgenie/mbovis_ireland/NI/ERR125598_1.fastq.gz')\n",
    "oct(int(s,2))"
   ]
  },
  {
   "cell_type": "code",
   "execution_count": null,
   "metadata": {},
   "outputs": [],
   "source": [
    "def get_sb_number(binary_str):\n",
    "    \"\"\"Get SB number from binary pattern usinf database reference\"\"\"\n",
    "    \n",
    "    df = pd.read_csv('../snpgenie/data/Mbovis.org_db.csv')\n",
    "    x = df[df['binary'] == binary_str]\n",
    "    if len(x) == 0:\n",
    "        return \n",
    "    else:\n",
    "        return x.iloc[0].SB\n",
    "\n",
    "get_sb_number('0000000000000000000000000000000000001100000')"
   ]
  },
  {
   "cell_type": "markdown",
   "metadata": {},
   "source": [
    "## test thresholds, reads used"
   ]
  },
  {
   "cell_type": "code",
   "execution_count": null,
   "metadata": {},
   "outputs": [],
   "source": [
    "for t in range(2,6):\n",
    "    b = get_spoligotype('/storage/btbgenie/mbovis_ireland/Wicklow/Fastqs_09-07-18/45-MBovis_S22_L001-4_R1_001.fastq.gz', 500000, t)\n",
    "    print (get_sb_number(b))"
   ]
  },
  {
   "cell_type": "code",
   "execution_count": null,
   "metadata": {},
   "outputs": [],
   "source": [
    "res=[]\n",
    "for f in files:\n",
    "    s = get_spoligotype(f)\n",
    "    sb = get_sb_number(s)\n",
    "    print (f, sb)\n",
    "    res.append([f,sb])    "
   ]
  },
  {
   "cell_type": "code",
   "execution_count": null,
   "metadata": {},
   "outputs": [],
   "source": []
  }
 ],
 "metadata": {
  "kernelspec": {
   "display_name": "Python 3",
   "language": "python",
   "name": "python3"
  },
  "language_info": {
   "codemirror_mode": {
    "name": "ipython",
    "version": 3
   },
   "file_extension": ".py",
   "mimetype": "text/x-python",
   "name": "python",
   "nbconvert_exporter": "python",
   "pygments_lexer": "ipython3",
   "version": "3.9.4"
  }
 },
 "nbformat": 4,
 "nbformat_minor": 4
}
