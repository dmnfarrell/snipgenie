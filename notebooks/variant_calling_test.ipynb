{
 "cells": [
  {
   "cell_type": "markdown",
   "id": "b24b3dce-67af-42ce-9c40-b78c8a906b20",
   "metadata": {},
   "source": [
    "# compare 2 methods of calling - concat vs individual"
   ]
  },
  {
   "cell_type": "code",
   "execution_count": 6,
   "id": "62f95d5b-cd1a-4b4f-a5c1-b11a3f783ab5",
   "metadata": {},
   "outputs": [],
   "source": [
    "import sys,os,shutil,subprocess\n",
    "import random\n",
    "import glob, time\n",
    "from importlib import reload\n",
    "import numpy as np\n",
    "import pandas as pd\n",
    "pd.set_option('display.width', 200)\n",
    "import pylab as plt\n",
    "import seaborn as sns\n",
    "from Bio import SeqIO, AlignIO\n",
    "from Bio.Seq import Seq\n",
    "from Bio.SeqRecord import SeqRecord\n",
    "from gzip import open as gzopen\n",
    "sys.path.append('snipgenie')\n",
    "from snipgenie import tools, aligners, app, tools"
   ]
  },
  {
   "cell_type": "code",
   "execution_count": null,
   "id": "66c66ff7-1bdb-42c7-bc9e-6bccc59a2dc7",
   "metadata": {},
   "outputs": [],
   "source": [
    "reload(app)\n",
    "ref = app.sarscov2_genome\n",
    "args = {'threads':12, 'outdir': 'simdata/sim_results', 'labelsep':'.',\n",
    "        'input':'simdata/sim_fastq/',        \n",
    "        'reference': ref,\n",
    "        'overwrite':False,\n",
    "        'filters':'',\n",
    "        'custom_filters': False, 'get_stats':False}\n",
    "W = app.WorkFlow(**args)\n",
    "st = W.setup()\n",
    "W.run()"
   ]
  },
  {
   "cell_type": "code",
   "execution_count": 23,
   "id": "96c5206e-1d55-480f-a1b2-764e9ac89313",
   "metadata": {},
   "outputs": [],
   "source": [
    "samples = pd.read_csv('simdata/sim_results/samples.csv')"
   ]
  },
  {
   "cell_type": "code",
   "execution_count": 116,
   "id": "dbb80a11-99c1-403c-a492-b6c8a104b883",
   "metadata": {},
   "outputs": [],
   "source": [
    "def compare_results(c1, c2, sample=None):\n",
    "    \"\"\"\n",
    "    Compare two runs of snipgenie.\n",
    "    \"\"\"\n",
    "\n",
    "    x = c1[~c1.pos.isin(c2.pos)]\n",
    "    y = c2[~c2.pos.isin(c1.pos)]\n",
    "    print ('%s/%s sites not in second:' %(len(x),len(c1)))\n",
    "    print (x)\n",
    "    print ('-------------------------')\n",
    "    print ('%s/%s sites not in first:' %(len(y),len(c2)))\n",
    "    print (y)\n",
    "    return x,y"
   ]
  },
  {
   "cell_type": "code",
   "execution_count": 106,
   "id": "a92f74e8-36fa-4c27-b6bd-488aaf49a8b8",
   "metadata": {
    "tags": []
   },
   "outputs": [],
   "source": [
    "import multiprocessing as mp\n",
    "\n",
    "def worker(args):\n",
    "    mpileup(args[0], args[1])\n",
    "        \n",
    "def mpileup_multiprocess(bam_files, ref, outpath, threads=4, callback=None):\n",
    "    \"\"\"Run mpileup in parallel over multiple files and make separate bcfs.\n",
    "    Assumes alignment to a bacterial reference with a single chromosome.\"\"\"\n",
    "\n",
    "    bcftoolscmd = tools.get_cmd('bcftools')\n",
    "    #size = len(bam_files) \n",
    "    #pool = mp.Pool(threads)\n",
    "    outfiles = []\n",
    "    st = time.time()\n",
    "    bcfpath = os.path.join(outpath,'bcf')\n",
    "    if not os.path.exists(bcfpath):\n",
    "        os.mkdir(bcfpath)\n",
    "    for bam_file in bam_files:\n",
    "        name = os.path.splitext(os.path.basename(bam_file))[0]\n",
    "        out = '{o}/{f}.bcf'.format(o=bcfpath,f=name) \n",
    "        outfiles.append(out)\n",
    "   \n",
    "    data = list(zip(bam_files,outfiles))\n",
    "    #print (data)\n",
    "   \n",
    "    p = mp.Pool(threads)\n",
    "    p.map_async(worker, data)\n",
    "    p.close()\n",
    "    p.join()\n",
    "    \n",
    "    t=time.time()-st\n",
    "    print ('took %s seconds' %str(round(t,3)))\n",
    "    rawbcf = os.path.join(outpath,'raw.bcf')\n",
    "    bcf_files = ' '.join(outfiles)\n",
    "    cmd = '{bc} merge --threads {t} -o {r} {b}'.format(b=bcf_files,r=rawbcf, bc=bcftoolscmd,t=threads)\n",
    "    print (cmd)\n",
    "    subprocess.check_output(cmd, shell=True)\n",
    "    return rawbcf\n",
    "\n",
    "def mpileup_files(bam_files, ref, outpath, threads=4):\n",
    "    \"\"\"mpileup bam files\"\"\"\n",
    "    \n",
    "    bcftoolscmd = tools.get_cmd('bcftools')\n",
    "    outfiles = []\n",
    "    st = time.time()\n",
    "    bcfpath = os.path.join(outpath,'bcf')\n",
    "    if not os.path.exists(bcfpath):\n",
    "        os.mkdir(bcfpath)\n",
    "    for bam_file in bam_files:\n",
    "        name = os.path.splitext(os.path.basename(bam_file))[0]\n",
    "        out = '{o}/{f}.bcf'.format(o=bcfpath,f=name) \n",
    "        outfiles.append(out)        \n",
    "   \n",
    "    data = list(zip(bam_files,outfiles)) \n",
    "    #print (data)\n",
    "    for f,out in data:\n",
    "        mpileup(f, out, ref, threads=threads)\n",
    "        \n",
    "    t=time.time()-st\n",
    "    print ('took %s seconds' %str(round(t,3)))\n",
    "    rawbcf = os.path.join(outpath,'raw.bcf')\n",
    "    bcf_files = ' '.join(outfiles)\n",
    "    #print (bcf_files)\n",
    "    cmd = '{bc} merge --threads {t} -0 -o {o} {b}'.format(b=bcf_files,o=rawbcf, bc=bcftoolscmd,t=threads)\n",
    "    print (cmd)\n",
    "    #subprocess.check_output(cmd, shell=True)\n",
    "    #cmd = '{bc} norm -f {r} -O b -o {o} tmp.bcf'.format(o=rawbcf, bc=bcftoolscmd, r=ref) \n",
    "    subprocess.check_output(cmd, shell=True)    \n",
    "    return rawbcf\n",
    "\n",
    "def mpileup(bam_file, out, ref, threads=4, overwrite=False):\n",
    "    \"\"\"Run bcftools for single file.\"\"\"\n",
    "\n",
    "    bcftoolscmd = tools.get_cmd('bcftools')\n",
    "    if overwrite==False and os.path.exists(out):\n",
    "        return\n",
    "    cmd = '{bc} mpileup -a {a} -O b --max-depth 500 --min-MQ 60 -f {r} -o {o} {b}'\\\n",
    "            .format(r=ref, b=bam_file, o=out, bc=bcftoolscmd, a=app.annotatestr, t=threads)\n",
    "    subprocess.check_output(cmd, shell=True)  \n",
    "    print (cmd)\n",
    "    cmd = 'bcftools index {o}'.format(o=out)\n",
    "    subprocess.check_output(cmd, shell=True)\n",
    "    return\n",
    "   "
   ]
  },
  {
   "cell_type": "code",
   "execution_count": 103,
   "id": "b5e84e1e-e4fb-4adb-a62a-76368439ab1a",
   "metadata": {},
   "outputs": [
    {
     "name": "stderr",
     "output_type": "stream",
     "text": [
      "[mpileup] 1 samples in 1 input files\n",
      "[mpileup] maximum number of reads per input file set to -d 500\n"
     ]
    },
    {
     "name": "stdout",
     "output_type": "stream",
     "text": [
      "bcftools mpileup -a \"AD,ADF,ADR,DP,SP,INFO/AD,INFO/ADF,INFO/ADR\" -O b --max-depth 500 --min-MQ 60 -f /home/farrell/.config/snipgenie/genome/Sars-Cov-2.fa -o simdata/sim_results3/S1/raw.bcf simdata/sim_results/mapped/S1.bam\n"
     ]
    },
    {
     "data": {
      "text/plain": [
       "'simdata/sim_results3/S1/snps.bcf'"
      ]
     },
     "execution_count": 103,
     "metadata": {},
     "output_type": "execute_result"
    }
   ],
   "source": [
    "reload(tools)\n",
    "\n",
    "def run_file(bam_file, ref, outpath, filters=None, mask=None,\n",
    "             overwrite=False, threads=4):\n",
    "    \"\"\"\n",
    "    Run pileup/snp calling for one file\n",
    "    \"\"\"\n",
    "    \n",
    "    if not os.path.exists(outpath):\n",
    "        os.makedirs(outpath, exist_ok=True)\n",
    "    if filters == None:\n",
    "        filters = app.default_filter        \n",
    "    bcftoolscmd = tools.get_cmd('bcftools')\n",
    "    rawbcf = os.path.join(outpath,'raw.bcf')\n",
    "    mpileup(bam_file, rawbcf, ref, threads=threads, overwrite=overwrite)\n",
    "\n",
    "    #call\n",
    "    vcfout = os.path.join(outpath,'calls.vcf')\n",
    "    tools.bcftools_call(rawbcf, vcfout)#, show_cmd=True)\n",
    "    \n",
    "    #filter snps\n",
    "    filtered = os.path.join(outpath,'filtered.bcf')\n",
    "    cmd = '{bc} filter -i \"{f}\" -o {o} -O b {i}'.format(bc=bcftoolscmd,i=vcfout,o=filtered,f=filters)\n",
    "    #print (cmd)\n",
    "    tmp = subprocess.check_output(cmd,shell=True)\n",
    "    \n",
    "    #print ('splitting snps and indels..')\n",
    "    snpsout = os.path.join(outpath,'snps.bcf')\n",
    "    cmd = '{bc} view -v snps -o {o} -O b {i}'.format(bc=bcftoolscmd,o=snpsout,i=vcfout)\n",
    "    #print (cmd)\n",
    "    subprocess.check_output(cmd,shell=True)\n",
    "    cmd = 'bcftools index {o}'.format(o=snpsout)\n",
    "    subprocess.check_output(cmd, shell=True)\n",
    "    \n",
    "    #also get indels only to separate file\n",
    "    indelsout = os.path.join(outpath,'indels.bcf')\n",
    "    #cmd = '{bc} call -V snps --ploidy 1 -m -v -o {o} {raw}'.format(bc=bcftoolscmd,o=indelsout,raw=rawbcf)\n",
    "    cmd = '{bc} view -v indels -o {o} -O z {i}'.format(bc=bcftoolscmd,o=indelsout,i=filtered)\n",
    "    #print (cmd)\n",
    "    subprocess.check_output(cmd,shell=True)\n",
    "\n",
    "    #apply mask if required\n",
    "    if mask != None:\n",
    "        mask_filter(snpsout, mask, outdir=outpath, overwrite=True)\n",
    "        mask_filter(indelsout, mask, outdir=outpath, overwrite=True)\n",
    "\n",
    "    #run proximity filter on all sites at once...\n",
    "    \n",
    "    return snpsout\n",
    "\n",
    "path = 'simdata/sim_results3/S1'\n",
    "bam_file = 'simdata/sim_results/mapped/S1.bam'\n",
    "run_file(bam_file, app.sarscov2_genome, path, overwrite=True)\n"
   ]
  },
  {
   "cell_type": "code",
   "execution_count": 112,
   "id": "a7a332a5-9e31-412f-b021-1780c989ff63",
   "metadata": {},
   "outputs": [
    {
     "name": "stdout",
     "output_type": "stream",
     "text": [
      "bcftools merge -m all --threads 4 -0 -O z -o simdata/sim_results3/merged.vcf.gz simdata/sim_results3/S1/snps.bcf simdata/sim_results3/S10/snps.bcf simdata/sim_results3/S11/snps.bcf simdata/sim_results3/S2/snps.bcf simdata/sim_results3/S3/snps.bcf simdata/sim_results3/S4/snps.bcf simdata/sim_results3/S5/snps.bcf simdata/sim_results3/S6/snps.bcf simdata/sim_results3/S7/snps.bcf simdata/sim_results3/S8/snps.bcf simdata/sim_results3/S9/snps.bcf\n",
      "bcftools reheader --samples simdata/sim_results3/samples.txt -o /tmp/calls.vcf simdata/sim_results3/merged.vcf.gz\n"
     ]
    }
   ],
   "source": [
    "def new_variant_calling(samples, outpath, overwrite=False, threads=4):\n",
    "    \"\"\"\n",
    "    Run variant calling for multiple samples\n",
    "    \"\"\"\n",
    "    \n",
    "    bcftoolscmd = tools.get_cmd('bcftools')\n",
    "    if samples is not None:\n",
    "        #write out new samples.txt file for reheader step\n",
    "        app.write_samples(samples[['sample']], outpath)\n",
    "        sample_file = os.path.join(outpath,'samples.txt')    \n",
    "    outfiles = []\n",
    "    for i,r in samples.iterrows():    \n",
    "        name = r['sample']\n",
    "        path = os.path.join(outpath,name)\n",
    "        snpfile = run_file(r.bam_file, app.sarscov2_genome, path)\n",
    "        outfiles.append(snpfile)\n",
    "\n",
    "    merged = os.path.join(outpath, 'merged.vcf.gz')\n",
    "    bcf_files = ' '.join(outfiles)\n",
    "    #print (bcf_files)\n",
    "    cmd = '{bc} merge -m all --threads {t} -0 -O z -o {o} {f}'.format(f=bcf_files,o=merged, bc=bcftoolscmd,t=threads)\n",
    "    print (cmd)\n",
    "    subprocess.check_output(cmd, shell=True)  \n",
    "    app.relabel_vcfheader(merged, sample_file)\n",
    "    return\n",
    "    \n",
    "outdir='simdata/sim_results3/'\n",
    "new_variant_calling(samples, outdir)"
   ]
  },
  {
   "cell_type": "code",
   "execution_count": 113,
   "id": "8737b712-c95e-4e0f-b298-a60d875dfeaf",
   "metadata": {},
   "outputs": [
    {
     "name": "stdout",
     "output_type": "stream",
     "text": [
      "getting core alignment..\n",
      "uninformative_sites False\n",
      "found 176 sites for core snps\n",
      "0 sites with at least one missing sample\n",
      "0 uninformative sites\n",
      "computing snp distance matrix..\n",
      "raxmlHPC-PTHREADS -f a -N 100 -T 8 -m GTRCAT -V -p 79763833 -x 81235701 -n variants -w /home/farrell/gitprojects/snipgenie/notebooks/simdata/sim_results3 -s simdata/sim_results3/core.fa\n"
     ]
    }
   ],
   "source": [
    "reload(tools)\n",
    "#tools.core_alignment_from_vcf('simdata/sim_results3/merged.vcf.gz')\n",
    "app.run_vcf('simdata/sim_results3/merged.vcf.gz', outdir, threads=8)"
   ]
  },
  {
   "cell_type": "markdown",
   "id": "c4afe3f7-2ab1-48c5-a31a-93754257f572",
   "metadata": {},
   "source": [
    "## SNIPPY test"
   ]
  },
  {
   "cell_type": "code",
   "execution_count": null,
   "id": "b4cedc81-e402-4ee0-88df-c735427d0808",
   "metadata": {},
   "outputs": [],
   "source": [
    "outdir='simdata/snippy_results'\n",
    "ref=app.sarscov2_genome\n",
    "for i, r in samples.iterrows():    \n",
    "    out = os.path.join(outdir, r['sample'])\n",
    "    cmd = '/local/snippy/bin/snippy --cpus 8 --outdir {o} --ref {r} --R1 {f1} --R2 {f2}'.format(\n",
    "            o=out,r=ref,f1=r.filename1,f2=r.filename2)\n",
    "    print (cmd)\n",
    "    subprocess.check_output(cmd, shell=True)"
   ]
  },
  {
   "cell_type": "code",
   "execution_count": null,
   "id": "eb06d340-21ad-428a-bbc9-1a974e6f8e19",
   "metadata": {},
   "outputs": [],
   "source": [
    "cmd = \"/local/snippy/bin/snippy-core --ref 'simdata/snippy_results/S1/ref.fa' S1 S10 S11 S2 S3 S4 S5 S6 S7 S8 S9\"\n",
    "subprocess.check_output(cmd, shell=True)"
   ]
  },
  {
   "cell_type": "code",
   "execution_count": null,
   "id": "bc0025a4-2371-46ef-aebd-800f8cff78b5",
   "metadata": {
    "tags": []
   },
   "outputs": [],
   "source": [
    "reload(app)\n",
    "\n",
    "bam_files = list(samples.bam_file.unique())\n",
    "mpileup_files(bam_files, ref, 'simdata/sim_results2', threads=8)\n",
    "#app.run_bamfiles(bam_files, ref, outdir='simdata/sim_results2', custom_filters=False, filters='', threads=8)\n",
    "\n",
    "#manually\n",
    "cmd = 'bcftools call --ploidy 1 -m -v -o {o} {raw}'.format(o='simdata/sim_results2/calls2.vcf',raw='simdata/sim_results2/raw.bcf')\n",
    "print (cmd)\n",
    "subprocess.check_output(cmd, shell=True)\n",
    "cmd = 'bcftools view -v snps -o {o} -O z {i}'.format(o='simdata/sim_results2/snps.vcf.gz',i='simdata/sim_results2/calls2.vcf')\n",
    "subprocess.check_output(cmd, shell=True)\n",
    "snprecs, smat = tools.core_alignment_from_vcf('simdata/sim_results2/snps.vcf.gz')\n",
    "outfasta = 'simdata/sim_results2/core2.fa'\n",
    "SeqIO.write(snprecs, outfasta, 'fasta')\n",
    "aln = AlignIO.read(outfasta, 'fasta')\n",
    "aln = aln[1:]\n",
    "snp_dist = tools.snp_dist_matrix(aln)\n",
    "snp_dist.to_csv('simdata/sim_results2/snpdist2.csv', sep=',')\n"
   ]
  },
  {
   "cell_type": "code",
   "execution_count": null,
   "id": "f43b35b8-5d98-48d8-86c2-cae8b69ecccc",
   "metadata": {
    "tags": []
   },
   "outputs": [],
   "source": [
    "reload(tools)\n",
    "bcf_files = ' '.join(glob.glob('simdata/sim_results2/bcf/*.bcf'))\n",
    "print(bcf_files)\n",
    "tools.bcftools_merge(bcf_files, 'simdata/sim_results2/raw.bcf', threads=8)"
   ]
  },
  {
   "cell_type": "code",
   "execution_count": 8,
   "id": "fbc5c6cb-7dbc-40fa-9df8-86fbee4a9967",
   "metadata": {
    "tags": []
   },
   "outputs": [
    {
     "name": "stdout",
     "output_type": "stream",
     "text": [
      "bcftools call --ploidy 1 -m -o simdata/sim_results2/calls.vcf simdata/sim_results2/test.bcf\n"
     ]
    }
   ],
   "source": [
    "reload(tools)\n",
    "tools.bcftools_call('simdata/sim_results2/test.bcf', 'simdata/sim_results2/calls.vcf')"
   ]
  },
  {
   "cell_type": "code",
   "execution_count": 118,
   "id": "1c822117-5bf8-48cb-b9d2-35295cc396bd",
   "metadata": {
    "tags": []
   },
   "outputs": [
    {
     "name": "stdout",
     "output_type": "stream",
     "text": [
      "0/176 sites not in second:\n",
      "Empty DataFrame\n",
      "Columns: [pos, ref, S1, S10, S11, S2, S3, S4, S5, S6, S7, S8, S9]\n",
      "Index: []\n",
      "-------------------------\n",
      "0/176 sites not in first:\n",
      "Empty DataFrame\n",
      "Columns: [pos, ref, S1, S10, S11, S2, S3, S4, S5, S6, S7, S8, S9]\n",
      "Index: []\n"
     ]
    }
   ],
   "source": [
    "c1=pd.read_csv('simdata/sim_results/core.txt',sep=' ')\n",
    "c2=pd.read_csv('simdata/sim_results3/core.txt',sep=' ')\n",
    "x1,y1=compare_results(c1,c2)"
   ]
  },
  {
   "cell_type": "code",
   "execution_count": 114,
   "id": "80e9f045-4302-43ad-b77c-6a7d63e34295",
   "metadata": {
    "tags": []
   },
   "outputs": [
    {
     "ename": "NameError",
     "evalue": "name 'x1' is not defined",
     "output_type": "error",
     "traceback": [
      "\u001b[0;31m---------------------------------------------------------------------------\u001b[0m",
      "\u001b[0;31mNameError\u001b[0m                                 Traceback (most recent call last)",
      "Cell \u001b[0;32mIn[114], line 2\u001b[0m\n\u001b[1;32m      1\u001b[0m reload(tools)\n\u001b[0;32m----> 2\u001b[0m pos\u001b[38;5;241m=\u001b[39m\u001b[43mx1\u001b[49m\u001b[38;5;241m.\u001b[39mpos\n\u001b[1;32m      3\u001b[0m \u001b[38;5;66;03m#pos2 = y1.pos[:12]\u001b[39;00m\n\u001b[1;32m      4\u001b[0m \u001b[38;5;66;03m#pos = np.random.randint(1,2000,5)\u001b[39;00m\n\u001b[1;32m      5\u001b[0m pos \u001b[38;5;241m=\u001b[39m [\u001b[38;5;241m189\u001b[39m]\u001b[38;5;66;03m#,252,457,855]\u001b[39;00m\n",
      "\u001b[0;31mNameError\u001b[0m: name 'x1' is not defined"
     ]
    }
   ],
   "source": [
    "reload(tools)\n",
    "pos=x1.pos\n",
    "#pos2 = y1.pos[:12]\n",
    "#pos = np.random.randint(1,2000,5)\n",
    "pos = [189]#,252,457,855]\n",
    "#pos = list(x1.pos[:6])\n",
    "n=6\n",
    "\n",
    "print (tools.bcftools_query('simdata/sim_results/snps.vcf.gz',pos).iloc[:,:])\n",
    "print (tools.bcftools_query('simdata/sim_results3/raw.bcf',pos).iloc[:,:])\n",
    "\n",
    "for s in ['S1','S2','S3','S9','S10','S11']:\n",
    "    print (tools.bcftools_query(f'simdata/sim_results2/bcf/{s}.bcf',pos).iloc[:,:5])\n"
   ]
  },
  {
   "cell_type": "code",
   "execution_count": null,
   "id": "e5f7f30f-f655-4757-b931-17e3f8f62c9e",
   "metadata": {},
   "outputs": [],
   "source": [
    "d1 = pd.read_csv('simdata/sim_results/snpdist.csv',index_col=0)\n",
    "d2 = pd.read_csv('simdata/sim_results2/snpdist.csv',index_col=0)\n",
    "print (d1)\n",
    "print (d2)"
   ]
  },
  {
   "cell_type": "code",
   "execution_count": 90,
   "id": "ba21873f-ba21-4074-9ab2-e02a32e28994",
   "metadata": {},
   "outputs": [
    {
     "name": "stdout",
     "output_type": "stream",
     "text": [
      "30/176 sites not in second:\n",
      "       pos ref S1 S10 S11 S2 S3 S4 S5 S6 S7 S8 S9\n",
      "1      189   G  G   G   G  G  G  G  G  G  G  G  T\n",
      "3      252   G  G   G   G  G  G  G  G  G  G  G  T\n",
      "5      457   T  T   C   T  T  T  T  T  T  T  T  C\n",
      "9      855   C  C   T   C  C  C  C  C  C  C  C  T\n",
      "37    5724   C  C   T   T  C  C  C  C  C  C  C  T\n",
      "56    7782   A  A   G   G  A  A  A  A  A  A  A  G\n",
      "60    8615   G  G   G   G  G  G  G  G  G  G  G  T\n",
      "64    8922   C  C   C   C  C  C  C  C  C  C  C  T\n",
      "70   10226   C  C   T   T  C  C  C  C  C  C  C  T\n",
      "74   10658   G  G   G   G  G  G  G  G  G  G  G  A\n",
      "78   11820   G  G   G   G  G  G  G  G  G  G  G  T\n",
      "81   12921   C  C   C   C  C  C  C  C  C  C  C  T\n",
      "96   15601   C  C   T   C  C  C  C  C  C  C  C  T\n",
      "97   15848   C  C   C   C  C  C  C  C  C  C  C  T\n",
      "102  16508   G  G   G   G  G  G  G  G  G  G  G  T\n",
      "103  17090   G  G   G   G  G  G  G  G  G  G  G  A\n",
      "104  17104   C  C   C   C  C  C  C  C  C  C  C  T\n",
      "120  19495   C  C   C   C  C  C  C  C  C  C  C  A\n",
      "127  20283   C  C   C   C  C  C  C  C  C  C  C  T\n",
      "129  20632   G  G   G   G  G  G  G  G  G  G  G  T\n",
      "137  21995   T  T   G   T  T  T  T  T  T  T  T  G\n",
      "138  22484   G  G   G   G  G  G  G  G  G  G  G  T\n",
      "148  24745   C  C   C   C  C  C  C  C  C  C  C  T\n",
      "150  24887   T  T   T   T  T  T  T  T  T  T  T  C\n",
      "158  27208   C  C   T   C  C  C  C  C  C  C  C  T\n",
      "160  27517   G  G   G   G  G  G  G  G  G  G  G  T\n",
      "166  28546   C  C   C   C  C  C  C  C  C  C  C  T\n",
      "168  28876   C  C   T   C  C  C  C  C  C  C  C  T\n",
      "170  29185   T  T   T   T  T  T  T  T  T  T  T  C\n",
      "172  29734   G  G   T   G  G  G  G  G  G  G  G  T\n",
      "-------------------------\n",
      "0/146 sites not in first:\n",
      "Empty DataFrame\n",
      "Columns: [pos, ref, S1, S10, S11, S2, S3, S4, S5, S6, S7, S8, S9]\n",
      "Index: []\n"
     ]
    }
   ],
   "source": [
    "c1=pd.read_csv('simdata/sim_results/core.txt',sep=' ')\n",
    "c2=pd.read_csv('simdata/sim_results2/core.txt',sep=' ')\n",
    "c3=pd.read_csv('simdata/snippy_results/core.tab',sep='\\t')\n",
    "c3=c3.rename(columns={'POS':'pos'})\n",
    "x,y=compare_results(c1,c2)\n"
   ]
  },
  {
   "cell_type": "code",
   "execution_count": null,
   "id": "cd82b511-6e3c-42c9-ae28-aa535d2fa4b4",
   "metadata": {},
   "outputs": [],
   "source": []
  },
  {
   "cell_type": "markdown",
   "id": "7840500f-5768-4fad-89d4-7ef3be4575f8",
   "metadata": {},
   "source": [
    "## test with wicklow data"
   ]
  },
  {
   "cell_type": "code",
   "execution_count": null,
   "id": "52b272ff-cac2-4248-9390-00f1aa99184d",
   "metadata": {},
   "outputs": [],
   "source": [
    "samples = pd.read_csv('/storage/btbgenie/wicklow_results/samples.csv')\n",
    "bam_files = list(samples.bam_file.unique())\n",
    "ref = app.mbovis_genome\n",
    "#mpileup_multiprocess(bam_files, ref, 'wicklow_temp', threads=8)"
   ]
  },
  {
   "cell_type": "code",
   "execution_count": null,
   "id": "93d9be0b-ec7d-46a1-ac7b-c7d68d1fb68c",
   "metadata": {},
   "outputs": [],
   "source": [
    "reload(app)\n",
    "samples = pd.read_csv('/storage/btbgenie/wicklow_results/samples.csv')\n",
    "bam_files = list(samples.bam_file.unique())\n",
    "app.run_bamfiles(bam_files, app.mbovis_genome, outdir='wicklow_temp', samples=samples, custom_filters=True, threads=10)\n",
    "#treefile = trees.run_RAXML('temp/core.fa', threads=8, outpath='temp')"
   ]
  },
  {
   "cell_type": "code",
   "execution_count": null,
   "id": "6306cb74-e256-450f-8bd9-253f33cf0be2",
   "metadata": {
    "tags": []
   },
   "outputs": [],
   "source": [
    "v1 = tools.vcf_to_dataframe(os.path.join('wicklow_results','snps.vcf.gz'))\n",
    "v1\n",
    "print (tools.bcftools_query('wicklow_results/raw.bcf',[205557]))\n",
    "print (tools.bcftools_query('wicklow_temp/raw.bcf',[205557]))"
   ]
  },
  {
   "cell_type": "code",
   "execution_count": null,
   "id": "3ad767d6-8e83-4d29-adab-c1570487b2f8",
   "metadata": {
    "tags": []
   },
   "outputs": [],
   "source": [
    "compare_results('/storage/btbgenie/wicklow_results','wicklow_temp')\n",
    "compare_results('wicklow_temp','/storage/btbgenie/wicklow_results')"
   ]
  },
  {
   "cell_type": "code",
   "execution_count": null,
   "id": "edab9dd8-0dc0-4a9a-b31f-6668183459fe",
   "metadata": {},
   "outputs": [],
   "source": [
    "v1 = vcf_to_dataframe('result.vcf')\n",
    "print (v1.var_type.value_counts())"
   ]
  },
  {
   "cell_type": "code",
   "execution_count": null,
   "id": "0e1e2ad4-4719-4461-b9ba-29512b11eddc",
   "metadata": {},
   "outputs": [],
   "source": [
    "v2 = vcf_to_dataframe('mapped/raw.bcf')\n",
    "print (v2.var_type.value_counts())"
   ]
  },
  {
   "cell_type": "code",
   "execution_count": null,
   "id": "ea21b967-f282-41b8-ad11-864f384875b3",
   "metadata": {},
   "outputs": [],
   "source": []
  }
 ],
 "metadata": {
  "kernelspec": {
   "display_name": "Python 3 (ipykernel)",
   "language": "python",
   "name": "python3"
  },
  "language_info": {
   "codemirror_mode": {
    "name": "ipython",
    "version": 3
   },
   "file_extension": ".py",
   "mimetype": "text/x-python",
   "name": "python",
   "nbconvert_exporter": "python",
   "pygments_lexer": "ipython3",
   "version": "3.10.12"
  }
 },
 "nbformat": 4,
 "nbformat_minor": 5
}
