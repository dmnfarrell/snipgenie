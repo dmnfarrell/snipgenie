{
 "cells": [
  {
   "cell_type": "markdown",
   "metadata": {},
   "source": [
    "# phylogeny of global M. bovis lineages\n",
    "\n",
    "Make phylogeny from global and UK samples for strain naming"
   ]
  },
  {
   "cell_type": "code",
   "execution_count": 164,
   "metadata": {},
   "outputs": [],
   "source": [
    "import sys,os,shutil,subprocess,time\n",
    "import glob,random\n",
    "from importlib import reload\n",
    "import numpy as np\n",
    "import pandas as pd\n",
    "pd.set_option('display.width', 200)\n",
    "import pylab as plt\n",
    "import matplotlib as mpl\n",
    "import seaborn as sns\n",
    "from Bio import SeqIO\n",
    "sys.path.append('pathogenie')\n",
    "from snipgenie import tools, aligners, app, trees, plotting, clustering\n",
    "import toytree"
   ]
  },
  {
   "cell_type": "code",
   "execution_count": 9,
   "metadata": {},
   "outputs": [],
   "source": [
    "#samples = pd.read_csv('/storage/btbgenie/global_results/samples.csv')\n",
    "#app.clean_bam_files(samples,'/storage/btbgenie/global_results/mapped/',True)"
   ]
  },
  {
   "cell_type": "code",
   "execution_count": null,
   "metadata": {},
   "outputs": [],
   "source": [
    "reload(app)\n",
    "reload(tools)\n",
    "reload(aligners)\n",
    "args = {'threads':12, 'outdir': '/storage/btbgenie/global_results', 'labelsep':'-',\n",
    "        'input':['/storage/btbgenie/brites'],\n",
    "         'species': 'Mbovis-AF212297', 'overwrite':False,\n",
    "         'custom_filters': True,\n",
    "         'buildtree':True}\n",
    "W = app.WorkFlow(**args)\n",
    "st = W.setup()\n",
    "W.run()"
   ]
  },
  {
   "cell_type": "code",
   "execution_count": null,
   "metadata": {},
   "outputs": [],
   "source": [
    "treefile1 = '/storage/btbgenie/global_results/tree.newick'\n",
    "tre = toytree.tree(treefile1)\n",
    "mystyle = { \"layout\": 'c','node_sizes':1,'tip_labels_align':True}\n",
    "tre.draw(**mystyle,height=700);"
   ]
  },
  {
   "cell_type": "markdown",
   "metadata": {},
   "source": [
    "## spoligotypes"
   ]
  },
  {
   "cell_type": "code",
   "execution_count": null,
   "metadata": {},
   "outputs": [],
   "source": [
    "def get_spoligotypes(samples, spo=None):\n",
    "    \"\"\"Get spoligotypes for multiple M.bovis strains\"\"\"\n",
    "    \n",
    "    if spo is not None:\n",
    "        done=list(spo['sample'])\n",
    "    else:\n",
    "        done=[]\n",
    "    samples = samples.drop_duplicates('sample')\n",
    "    res=[]\n",
    "    for i,r in samples.iterrows():       \n",
    "        f=r.filename1\n",
    "        samp=r['sample']\n",
    "        if samp in done:\n",
    "            continue\n",
    "        b = tools.get_spoligotype(f)\n",
    "        sb = tools.get_sb_number(b)\n",
    "        print (r['sample'], sb, b)\n",
    "        res.append([r['sample'],sb,b])\n",
    "    \n",
    "    res = pd.DataFrame(res,columns=['sample','SB','code'])\n",
    "    return res\n",
    "\n",
    "spo = pd.read_csv('/storage/btbgenie/mbovis_ireland/spoligotypes.csv')\n",
    "samples = pd.read_csv('/storage/btbgenie/global_results/samples.csv')\n",
    "res = get_spoligotypes(samples,spo)"
   ]
  },
  {
   "cell_type": "code",
   "execution_count": 5,
   "metadata": {
    "tags": []
   },
   "outputs": [],
   "source": [
    "#res=pd.concat([spo,res])\n",
    "#res.to_csv('/storage/btbgenie/mbovis_ireland/spoligotypes.csv')"
   ]
  },
  {
   "cell_type": "markdown",
   "metadata": {},
   "source": [
    "## RD analysis"
   ]
  },
  {
   "cell_type": "code",
   "execution_count": null,
   "metadata": {},
   "outputs": [],
   "source": [
    "samples = pd.read_csv('/storage/btbgenie/global_results/samples.csv')\n",
    "from snipgenie import rdiff\n",
    "reload(rdiff)\n",
    "rdiff.create_rd_index()\n",
    "res = rdiff.run_samples(samples,'/storage/btbgenie/global_results/rd_aligned',threads=10)\n",
    "X = rdiff.get_matrix(res, cutoff=0.15)\n",
    "X['ident'] = X.apply(rdiff.apply_rules,1)\n",
    "X.to_csv('/storage/btbgenie/global_results/rd.csv')"
   ]
  },
  {
   "cell_type": "code",
   "execution_count": null,
   "metadata": {},
   "outputs": [],
   "source": [
    "reload(rdiff)\n",
    "rdiff.show_rd_coverage(samples[:5], 'LT708304.1',4330000,4340000,app.mbovis_genome,margin=1300)"
   ]
  },
  {
   "cell_type": "markdown",
   "metadata": {
    "tags": []
   },
   "source": [
    "## merge to get metadata "
   ]
  },
  {
   "cell_type": "code",
   "execution_count": 9,
   "metadata": {},
   "outputs": [
    {
     "data": {
      "text/plain": [
       "263"
      ]
     },
     "execution_count": 9,
     "metadata": {},
     "output_type": "execute_result"
    }
   ],
   "source": [
    "samples = pd.read_csv('/storage/btbgenie/global_results/samples.csv')\n",
    "meta = pd.read_csv('brites_table1.csv')\n",
    "x = samples.merge(meta,right_on='Accession_Number',left_on='sample',how='left')\n",
    "spotypes = pd.read_csv('/storage/btbgenie/mbovis_ireland/spoligotypes.csv')\n",
    "R = pd.read_csv('/storage/btbgenie/global_results/rd.csv',index_col=0)\n",
    "meta = x.merge(spotypes,on='sample')\n",
    "#rds=R[['RD1mic','RD149','RD3','RD5','RD5oryx*','RD122','RDAf2','RDWicklow']]\n",
    "#meta = x.merge(rds,left_on='sample',right_index=True)\n",
    "len(meta)"
   ]
  },
  {
   "cell_type": "code",
   "execution_count": 42,
   "metadata": {},
   "outputs": [
    {
     "data": {
      "text/plain": [
       "array(['La2', 'La1.8.1', 'La1.3', 'La1.6', 'La1.7.1', 'La1.5', 'La3',\n",
       "       'La1.8.2', 'La1.7-unk4', 'La1.2', 'La1.4', 'La1.7-unk5', 'La1.1'],\n",
       "      dtype=object)"
      ]
     },
     "execution_count": 42,
     "metadata": {},
     "output_type": "execute_result"
    }
   ],
   "source": [
    "complexcolors = {'La2':'blue', 'La1.8.1':'pink', 'La1.3':'', 'La1.6':'', 'La1.7.1':'', 'La1.5':'', 'La3':'',\n",
    "                'La1.8.2':'', 'La1.7-unk4':'', 'La1.2':'', 'La1.4':'', 'La1.7-unk5':'', 'La1.1':''}"
   ]
  },
  {
   "cell_type": "code",
   "execution_count": null,
   "metadata": {},
   "outputs": [],
   "source": [
    "R = pd.read_csv('/storage/btbgenie/global_results/rd.csv',index_col=0).iloc[:,:-1]\n",
    "xcols = R.columns[(R.sum()<61) | (R.sum()>10)]\n",
    "R[xcols]"
   ]
  },
  {
   "cell_type": "code",
   "execution_count": 112,
   "metadata": {},
   "outputs": [
    {
     "data": {
      "text/plain": [
       "<matplotlib.legend.Legend at 0x7f3b97d119d0>"
      ]
     },
     "execution_count": 112,
     "metadata": {},
     "output_type": "execute_result"
    },
    {
     "data": {
      "image/png": "[encoded data removed]",
      "text/plain": [
       "<Figure size 864x864 with 4 Axes>"
      ]
     },
     "metadata": {
      "needs_background": "light"
     },
     "output_type": "display_data"
    }
   ],
   "source": [
    "R = pd.read_csv('/storage/btbgenie/global_results/rd.csv',index_col=0)\n",
    "#mapdict=dict(zip(meta['sample'],meta['SIB_Number']))\n",
    "#X.index=X.index.map(mapdict)\n",
    "scols=['sample','Clonal_Complex']\n",
    "R=R.merge(meta[scols],left_index=True,right_on='sample',how='left').set_index('sample')\n",
    "\n",
    "row_colors,colormap = get_color_mapping(R,'Clonal_Complex',cmap='Paired',seed=18)\n",
    "\n",
    "cols = ['RD1','RD1mic','RDWicklow','RD8','RD11','RD149','RD6','RD3','RDAf2']\n",
    "\n",
    "\n",
    "import matplotlib.patches as mpatches\n",
    "g=sns.clustermap(R[cols],lw=0,cmap='gray_r',fmt='g',cbar_pos=None,col_cluster=False,\n",
    "                 yticklabels=False,row_colors=row_colors,figsize=(12,12))\n",
    "pts=[]\n",
    "for c in colormap:\n",
    "    pts.append(mpatches.Patch(color=colormap[c],label=c))\n",
    "g.fig.legend(handles=pts,bbox_to_anchor=(1.15, .9))"
   ]
  },
  {
   "cell_type": "code",
   "execution_count": null,
   "metadata": {},
   "outputs": [],
   "source": [
    "#treefile1 = '/storage/btbgenie/global_results/tree.newick'\n",
    "#clusts = trees.get_clusters(treefile1)\n",
    "#meta = meta.merge(clusts,left_on='sample',right_on='SequenceName')"
   ]
  },
  {
   "cell_type": "code",
   "execution_count": 10,
   "metadata": {},
   "outputs": [],
   "source": [
    "meta.to_csv('/storage/btbgenie/global_results/metadata.csv',index=False)"
   ]
  },
  {
   "cell_type": "markdown",
   "metadata": {},
   "source": [
    "## combine ireland + uk + global samples\n",
    "\n",
    "add Ireland samples to global tree"
   ]
  },
  {
   "cell_type": "code",
   "execution_count": 6,
   "metadata": {},
   "outputs": [
    {
     "name": "stdout",
     "output_type": "stream",
     "text": [
      "ireland\n",
      "global\n",
      "1697\n"
     ]
    },
    {
     "data": {
      "text/plain": [
       "'/storage/btbgenie/combined_results/samples.txt'"
      ]
     },
     "execution_count": 6,
     "metadata": {},
     "output_type": "execute_result"
    }
   ],
   "source": [
    "outdir='/storage/btbgenie/combined_results'\n",
    "\n",
    "folders = {'ireland':'/storage/btbgenie/all_ireland_results/',          \n",
    "          'global':'/storage/btbgenie/global_results/'}\n",
    "\n",
    "x=[]\n",
    "for f in folders:\n",
    "    print (f)\n",
    "    file = os.path.join(folders[f],'samples.csv')\n",
    "    df=pd.read_csv(file)\n",
    "    \n",
    "    x.append(df)\n",
    "allsamples = pd.concat(x)\n",
    "print (len(allsamples))\n",
    "allsamples.to_csv(os.path.join(outdir,'samples.csv'),index=False)\n",
    "app.write_samples(allsamples[['sample']], outdir)"
   ]
  },
  {
   "cell_type": "markdown",
   "metadata": {},
   "source": [
    "## run variant calling on combined files"
   ]
  },
  {
   "cell_type": "code",
   "execution_count": null,
   "metadata": {},
   "outputs": [],
   "source": [
    "reload(app)\n",
    "bam_files = allsamples.bam_file\n",
    "gff_file=os.path.join(outdir,'mbovis.gff')\n",
    "tools.gff_bcftools_format(app.mbovis_gb, gff_file)\n",
    "app.run_bamfiles(bam_files, app.mbovis_genome, outdir='/storage/btbgenie/combined_results', threads=12,\n",
    "                 mask=app.mbovis_mask, gff_file=gff_file,\n",
    "                 custom_filters=True, overwrite=False)"
   ]
  },
  {
   "cell_type": "markdown",
   "metadata": {},
   "source": [
    "<div class=\"alert alert-block alert-info\"><b>Start here for post analysis</b></div>"
   ]
  },
  {
   "cell_type": "code",
   "execution_count": 60,
   "metadata": {},
   "outputs": [
    {
     "name": "stdout",
     "output_type": "stream",
     "text": [
      "1435 263\n"
     ]
    }
   ],
   "source": [
    "scols=['sample','SB','batch','county']\n",
    "ireland = pd.read_csv('/storage/btbgenie/all_ireland_results/metadata.csv').iloc[:,:-7]\n",
    "#ireland['Country']='Ireland'\n",
    "print (len(ireland), len(meta))\n",
    "master=pd.concat([ireland,meta])"
   ]
  },
  {
   "cell_type": "code",
   "execution_count": 12,
   "metadata": {},
   "outputs": [],
   "source": [
    "def get_common(x, common):\n",
    "    if x in common:\n",
    "        return x\n",
    "    else:\n",
    "        return 'Other'"
   ]
  },
  {
   "cell_type": "code",
   "execution_count": 61,
   "metadata": {},
   "outputs": [
    {
     "data": {
      "text/plain": [
       "1698"
      ]
     },
     "execution_count": 61,
     "metadata": {},
     "output_type": "execute_result"
    }
   ],
   "source": [
    "common = master.Country.value_counts()[:9]\n",
    "master['Country1'] = master.Country.apply(lambda x: get_common(x, common))\n",
    "len(master)"
   ]
  },
  {
   "cell_type": "code",
   "execution_count": null,
   "metadata": {},
   "outputs": [],
   "source": [
    "#common = master.county.value_counts()[:4]\n",
    "#master['county1'] = master.county.apply(lambda x: get_common(x, common))\n",
    "#master['cc'] = master['Clonal_Complex'].fillna(master.Country)\n",
    "#master['cc1'] = master['Clonal_Complex'].fillna(master.county1)"
   ]
  },
  {
   "cell_type": "code",
   "execution_count": 62,
   "metadata": {},
   "outputs": [],
   "source": [
    "common = master.SB.value_counts()[:8]\n",
    "master['SB1'] = master.SB.apply(lambda x: get_common(x, common))"
   ]
  },
  {
   "cell_type": "code",
   "execution_count": 79,
   "metadata": {},
   "outputs": [
    {
     "name": "stdout",
     "output_type": "stream",
     "text": [
      "[14, 4, 2, 1, 7, 8, 10, 3, 11, 9, 6, 13, 12]\n"
     ]
    },
    {
     "data": {
      "image/png": "[encoded data removed]",
      "text/plain": [
       "<Figure size 1200x500 with 1 Axes>"
      ]
     },
     "metadata": {},
     "output_type": "display_data"
    }
   ],
   "source": [
    "reload(clustering)\n",
    "snpdist = pd.read_csv('/storage/btbgenie/combined_results/snpdist.csv',index_col=0)\n",
    "clusts,members = clustering.get_cluster_levels(snpdist)\n",
    "cc = clusts.snp500.value_counts()[1:20]\n",
    "cc.plot(kind='bar',figsize=(12,5))\n",
    "print (list(cc.index))\n",
    "members.to_parquet(\"/storage/btbgenie/cluster_members.parquet\")"
   ]
  },
  {
   "cell_type": "code",
   "execution_count": 80,
   "metadata": {
    "tags": []
   },
   "outputs": [],
   "source": [
    "st = clustering.generate_strain_names(clusts,snpdist)"
   ]
  },
  {
   "cell_type": "code",
   "execution_count": 83,
   "metadata": {},
   "outputs": [],
   "source": [
    "final = master.merge(st,left_on='sample',right_index=True)"
   ]
  },
  {
   "cell_type": "code",
   "execution_count": 84,
   "metadata": {},
   "outputs": [],
   "source": [
    "#combine rd data\n",
    "rd1=pd.read_csv('/storage/btbgenie/global_results/rd.csv',index_col=0)\n",
    "rd2=pd.read_csv('/storage/btbgenie/mbovis_ireland/rd.csv',index_col=0)\n",
    "rd=pd.concat([rd1,rd2])\n",
    "rvar = ['RD149','RD3','RD5','RD5oryx*','RDAf2','RDWicklow']\n",
    "final = final.merge(rd[rvar],left_on='sample',right_index=True)"
   ]
  },
  {
   "cell_type": "code",
   "execution_count": 85,
   "metadata": {},
   "outputs": [],
   "source": [
    "final.to_csv('/storage/btbgenie/combined_results/metadata.csv')"
   ]
  },
  {
   "cell_type": "code",
   "execution_count": null,
   "metadata": {},
   "outputs": [],
   "source": [
    "cols=['sample','SB']\n",
    "X=final.set_index(cols)[rvar].fillna(0)\n",
    "#X = X.iloc[:,1:]\n",
    "#print (X)\n",
    "sns.clustermap(X,xticklabels=True,yticklabels=[],cmap='gray',figsize=(12,12))"
   ]
  },
  {
   "cell_type": "code",
   "execution_count": 93,
   "metadata": {
    "tags": []
   },
   "outputs": [
    {
     "data": {
      "text/plain": [
       "La1.8.1       78\n",
       "La1.3         64\n",
       "La3           32\n",
       "La1.2         26\n",
       "La1.7.1       16\n",
       "La2           13\n",
       "La1.7-unk5     9\n",
       "La1.6          8\n",
       "La1.8.2        7\n",
       "La1.1          5\n",
       "La1.5          2\n",
       "La1.7-unk4     2\n",
       "La1.4          1\n",
       "Name: Clonal_Complex, dtype: int64"
      ]
     },
     "execution_count": 93,
     "metadata": {},
     "output_type": "execute_result"
    }
   ],
   "source": [
    "meta.Clonal_Complex.value_counts()"
   ]
  },
  {
   "cell_type": "markdown",
   "metadata": {
    "tags": []
   },
   "source": [
    "## test of 'initial' typing of new samples \n",
    "- add new samples with just SNPs without re-aligning to other samples. allows us to type new samples from snps quickly. \n",
    "\n",
    "## requirements\n",
    "* current core alignments for baseline pop - can be recreated at any time \n",
    "* current cluster membership\n",
    "* snpdist matrix is recreated from a) full alignment or b) on the fly from new addition"
   ]
  },
  {
   "cell_type": "code",
   "execution_count": 2,
   "metadata": {
    "tags": []
   },
   "outputs": [],
   "source": [
    "core_snps = pd.read_csv('/storage/btbgenie/combined_results/core.txt',sep=' ')"
   ]
  },
  {
   "cell_type": "code",
   "execution_count": null,
   "metadata": {
    "tags": []
   },
   "outputs": [],
   "source": [
    "#snps from single sample call\n",
    "\n",
    "newsnps = pd.read_csv('/storage/btbgenie/held_back_test/core.txt',index_col=0,sep=' ')\n",
    "#print(newsnps)\n",
    "\n",
    "def combine_core_snps(core, new):\n",
    "    \"\"\"Add new sample(s) to core snps by combining both tables.\"\"\"\n",
    "    \n",
    "    #new=new.drop(columns='ref')\n",
    "    ncols = new.columns[1:]\n",
    "    #print (ncols)\n",
    "    df = core.merge(new,on='pos',how='outer')\n",
    "    for col in ncols:\n",
    "        df[col] = df[col].fillna(df['ref_x'])\n",
    "    currcols = core.columns\n",
    "    #fill remainder\n",
    "    df = df.apply(lambda x: x.fillna(df.ref_y))\n",
    "    #r=new.pos[:13]\n",
    "    #print (df[df.pos.isin(r)][['pos','ref_x','ref_y','6','1034']])\n",
    "    print (len(core),len(df))\n",
    "    df['ref'] = df.ref_y.fillna(df.ref_x)\n",
    "    #print (df[df.ref.isnull()])\n",
    "    df=df.drop(columns=['ref_y','ref_x'])    \n",
    "    return df\n",
    "\n",
    "df = combine_core_snps(core_snps, newsnps)\n",
    "df#[df['6'].isna()]"
   ]
  },
  {
   "cell_type": "code",
   "execution_count": 343,
   "metadata": {
    "tags": []
   },
   "outputs": [
    {
     "name": "stdout",
     "output_type": "stream",
     "text": [
      "pos        224     253     260     342     387     467     524     525     551     561      ... 4245762 4253109 4256023 4282227 4283951 4295924 4297492 4311425 4321337 4348834\n",
      "1034             A       G       G       G       C       G       A       T       G       C  ...       A       G       T       C       C       G       T       C       T       G\n",
      "13-11594         A       G       G       G       C       G       A       T       G       C  ...       A       G       T       C       C       G       T       C       T       G\n",
      "14-MBovis        A       G       G       G       C       G       A       T       G       C  ...       A       G       T       C       C       G       T       C       T       G\n",
      "15-11643         A       G       G       G       C       G       A       T       G       C  ...       A       G       T       C       C       G       T       C       T       G\n",
      "17-11662         A       G       G       G       C       G       A       T       G       C  ...       A       G       T       C       C       G       T       C       T       G\n",
      "...            ...     ...     ...     ...     ...     ...     ...     ...     ...     ...  ...     ...     ...     ...     ...     ...     ...     ...     ...     ...     ...\n",
      "ERR2514957       A       G       G       G       C       A       A       T       G       C  ...       A       G       T       C       C       G       T       C       T       G\n",
      "ERR2514545       A       G       G       G       C       G       A       T       G       C  ...       A       G       T       C       C       G       T       C       T       G\n",
      "SRR7617441       A       G       G       G       C       G       A       T       G       C  ...       A       G       T       C       C       G       T       C       T       G\n",
      "6                A       G       G       G       C       G       A       T       G       C  ...       G       A       C       T       T       A       C       T       C       A\n",
      "ref              A       G       G       G       C       G       A       T       G       C  ...       A       G       T       C       C       G       T       C       T       G\n",
      "\n",
      "[1699 rows x 23872 columns]\n"
     ]
    }
   ],
   "source": [
    "from Bio.SeqRecord import SeqRecord\n",
    "from Bio.Seq import Seq\n",
    "from Bio import Align\n",
    "\n",
    "def alignment_from_snps(df):\n",
    "    \"\"\"MultipleSeqAlignment object from core snps\"\"\"\n",
    "    \n",
    "    df=df.set_index('pos').T\n",
    "    print (df)\n",
    "    seqs=[]\n",
    "    for i,r in df.iterrows():\n",
    "        #print (r)\n",
    "        s=''.join(r)\n",
    "        seqs.append(SeqRecord(s,id=i))\n",
    "\n",
    "    aln=Align.MultipleSeqAlignment(seqs)\n",
    "    return aln\n",
    "\n",
    "aln=alignment_from_snps(df)"
   ]
  },
  {
   "cell_type": "code",
   "execution_count": 349,
   "metadata": {
    "tags": []
   },
   "outputs": [
    {
     "name": "stdout",
     "output_type": "stream",
     "text": [
      "2 samples to be added\n",
      "(array([], dtype=int64), array([], dtype=int64))\n",
      "0.05143475532531738\n"
     ]
    }
   ],
   "source": [
    "def update_snp_dist_matrix(aln, snpdist=None):\n",
    "    \"\"\"\n",
    "    Compute a new SNP distance matrix given an updated\n",
    "    alignment and previous matrix. The alignment should contain\n",
    "    ALL the samples in the previous matrix. Designed so we can add\n",
    "    one or few samples without recomputing all values.\n",
    "    Args:\n",
    "        aln: Biopython multiple sequence alignment object\n",
    "        snpdist: current snp distance matrix to be updated\n",
    "    returns:\n",
    "        a matrix as pandas dataframe\n",
    "    \"\"\"\n",
    "    \n",
    "    present = snpdist.index\n",
    "    #print (present)\n",
    "    new_aln = [s for s in aln if s.id not in present]\n",
    "    #print (len(new_aln))\n",
    "    new=[s.id for s in new_aln]\n",
    "    print ('%s samples to be added' %len(new))\n",
    "    #create the new matrix\n",
    "    matrix = snpdist.copy()\n",
    "    new_index = snpdist.columns.tolist() + new    \n",
    "    matrix = snpdist.reindex(new_index)\n",
    "    matrix = matrix.reindex(new_index, axis=1)\n",
    "    \n",
    "    for s1 in aln:\n",
    "        seq1 = str(s1.seq)\n",
    "        x=s1.id\n",
    "        #print (x)\n",
    "        for s2 in aln:\n",
    "            y=s2.id            \n",
    "            if not np.isnan(matrix.loc[x,y]):                \n",
    "                continue\n",
    "            else:\n",
    "                seq2 = str(s2.seq)\n",
    "                snp_count = sum(c1 != c2 for c1, c2 in zip(seq1, seq2))                \n",
    "                matrix.loc[x,y] = snp_count\n",
    "                matrix.loc[x,y] = snp_count\n",
    "        \n",
    "    print (matrix[matrix.ref.isnull()])\n",
    "    matrix = matrix.astype(int)   \n",
    "    return matrix\n",
    "\n",
    "st=time.time()\n",
    "n=10\n",
    "m1=update_snp_dist_matrix(aln[:n], snpdist.iloc[1:n-1,1:n-1])\n",
    "print (time.time()-st)\n"
   ]
  },
  {
   "cell_type": "code",
   "execution_count": 348,
   "metadata": {
    "tags": []
   },
   "outputs": [
    {
     "data": {
      "text/html": [
       "<div>\n",
       "<style scoped>\n",
       "    .dataframe tbody tr th:only-of-type {\n",
       "        vertical-align: middle;\n",
       "    }\n",
       "\n",
       "    .dataframe tbody tr th {\n",
       "        vertical-align: top;\n",
       "    }\n",
       "\n",
       "    .dataframe thead th {\n",
       "        text-align: right;\n",
       "    }\n",
       "</style>\n",
       "<table border=\"1\" class=\"dataframe\">\n",
       "  <thead>\n",
       "    <tr style=\"text-align: right;\">\n",
       "      <th></th>\n",
       "      <th>23-MBovis</th>\n",
       "      <th>22-12200</th>\n",
       "      <th>19-MBovis</th>\n",
       "      <th>19-11957</th>\n",
       "    </tr>\n",
       "  </thead>\n",
       "  <tbody>\n",
       "    <tr>\n",
       "      <th>17-MBovis</th>\n",
       "      <td>8.0</td>\n",
       "      <td>18.0</td>\n",
       "      <td>9.0</td>\n",
       "      <td>24.0</td>\n",
       "    </tr>\n",
       "    <tr>\n",
       "      <th>19-11957</th>\n",
       "      <td>24.0</td>\n",
       "      <td>22.0</td>\n",
       "      <td>25.0</td>\n",
       "      <td>0.0</td>\n",
       "    </tr>\n",
       "    <tr>\n",
       "      <th>19-MBovis</th>\n",
       "      <td>9.0</td>\n",
       "      <td>19.0</td>\n",
       "      <td>0.0</td>\n",
       "      <td>25.0</td>\n",
       "    </tr>\n",
       "    <tr>\n",
       "      <th>22-12200</th>\n",
       "      <td>18.0</td>\n",
       "      <td>0.0</td>\n",
       "      <td>19.0</td>\n",
       "      <td>22.0</td>\n",
       "    </tr>\n",
       "    <tr>\n",
       "      <th>23-MBovis</th>\n",
       "      <td>0.0</td>\n",
       "      <td>18.0</td>\n",
       "      <td>9.0</td>\n",
       "      <td>24.0</td>\n",
       "    </tr>\n",
       "  </tbody>\n",
       "</table>\n",
       "</div>"
      ],
      "text/plain": [
       "           23-MBovis  22-12200  19-MBovis  19-11957\n",
       "17-MBovis        8.0      18.0        9.0      24.0\n",
       "19-11957        24.0      22.0       25.0       0.0\n",
       "19-MBovis        9.0      19.0        0.0      25.0\n",
       "22-12200        18.0       0.0       19.0      22.0\n",
       "23-MBovis        0.0      18.0        9.0      24.0"
      ]
     },
     "execution_count": 348,
     "metadata": {},
     "output_type": "execute_result"
    }
   ],
   "source": [
    "m1.iloc[-5:,:-5:-1]"
   ]
  },
  {
   "cell_type": "code",
   "execution_count": 298,
   "metadata": {
    "tags": []
   },
   "outputs": [
    {
     "name": "stdout",
     "output_type": "stream",
     "text": [
      "0.4521524906158447\n"
     ]
    }
   ],
   "source": [
    "st=time.time()\n",
    "m2 = tools.snp_dist_matrix(aln[:n])\n",
    "print (time.time()-st)"
   ]
  },
  {
   "cell_type": "code",
   "execution_count": null,
   "metadata": {
    "tags": []
   },
   "outputs": [],
   "source": [
    "#m1==m2"
   ]
  },
  {
   "cell_type": "code",
   "execution_count": 352,
   "metadata": {
    "tags": []
   },
   "outputs": [],
   "source": [
    "reload(tools)\n",
    "#newdm = tools.snp_dist_matrix(aln)\n",
    "#newdm = update_snp_dist_matrix(aln, snpdist)\n",
    "reload(clustering)\n",
    "clusts,newmembers = clustering.get_cluster_levels(newdm, members)\n",
    "newst = clustering.generate_strain_names(clusts)"
   ]
  },
  {
   "cell_type": "code",
   "execution_count": null,
   "metadata": {
    "tags": []
   },
   "outputs": [],
   "source": [
    "newdm.iloc[-5:,-5:]\n",
    "print (newdm)"
   ]
  },
  {
   "cell_type": "code",
   "execution_count": 354,
   "metadata": {
    "tags": []
   },
   "outputs": [
    {
     "data": {
      "text/html": [
       "<div>\n",
       "<style scoped>\n",
       "    .dataframe tbody tr th:only-of-type {\n",
       "        vertical-align: middle;\n",
       "    }\n",
       "\n",
       "    .dataframe tbody tr th {\n",
       "        vertical-align: top;\n",
       "    }\n",
       "\n",
       "    .dataframe thead th {\n",
       "        text-align: right;\n",
       "    }\n",
       "</style>\n",
       "<table border=\"1\" class=\"dataframe\">\n",
       "  <thead>\n",
       "    <tr style=\"text-align: right;\">\n",
       "      <th></th>\n",
       "      <th>snp500</th>\n",
       "      <th>snp200</th>\n",
       "      <th>snp50</th>\n",
       "      <th>snp12</th>\n",
       "      <th>snp3</th>\n",
       "    </tr>\n",
       "  </thead>\n",
       "  <tbody>\n",
       "    <tr>\n",
       "      <th>6</th>\n",
       "      <td>1</td>\n",
       "      <td>71</td>\n",
       "      <td>192</td>\n",
       "      <td>530</td>\n",
       "      <td>993</td>\n",
       "    </tr>\n",
       "  </tbody>\n",
       "</table>\n",
       "</div>"
      ],
      "text/plain": [
       "   snp500  snp200  snp50  snp12  snp3\n",
       "6       1      71    192    530   993"
      ]
     },
     "execution_count": 354,
     "metadata": {},
     "output_type": "execute_result"
    }
   ],
   "source": [
    "clusts[-1:]"
   ]
  },
  {
   "cell_type": "code",
   "execution_count": 365,
   "metadata": {
    "tags": []
   },
   "outputs": [
    {
     "data": {
      "text/html": [
       "<div>\n",
       "<style scoped>\n",
       "    .dataframe tbody tr th:only-of-type {\n",
       "        vertical-align: middle;\n",
       "    }\n",
       "\n",
       "    .dataframe tbody tr th {\n",
       "        vertical-align: top;\n",
       "    }\n",
       "\n",
       "    .dataframe thead th {\n",
       "        text-align: right;\n",
       "    }\n",
       "</style>\n",
       "<table border=\"1\" class=\"dataframe\">\n",
       "  <thead>\n",
       "    <tr style=\"text-align: right;\">\n",
       "      <th></th>\n",
       "      <th>ERR2212120</th>\n",
       "      <th>ERR2212113</th>\n",
       "      <th>TB20-007278</th>\n",
       "      <th>ref</th>\n",
       "      <th>SRR8600077</th>\n",
       "      <th>BTB-Gen-478</th>\n",
       "      <th>TB19-004994</th>\n",
       "      <th>6</th>\n",
       "    </tr>\n",
       "  </thead>\n",
       "  <tbody>\n",
       "    <tr>\n",
       "      <th>ERR2212120</th>\n",
       "      <td>0</td>\n",
       "      <td>12</td>\n",
       "      <td>436</td>\n",
       "      <td>495</td>\n",
       "      <td>495</td>\n",
       "      <td>498</td>\n",
       "      <td>481</td>\n",
       "      <td>374</td>\n",
       "    </tr>\n",
       "    <tr>\n",
       "      <th>ERR2212113</th>\n",
       "      <td>12</td>\n",
       "      <td>0</td>\n",
       "      <td>442</td>\n",
       "      <td>501</td>\n",
       "      <td>501</td>\n",
       "      <td>504</td>\n",
       "      <td>487</td>\n",
       "      <td>380</td>\n",
       "    </tr>\n",
       "    <tr>\n",
       "      <th>TB20-007278</th>\n",
       "      <td>436</td>\n",
       "      <td>442</td>\n",
       "      <td>0</td>\n",
       "      <td>60</td>\n",
       "      <td>60</td>\n",
       "      <td>63</td>\n",
       "      <td>45</td>\n",
       "      <td>436</td>\n",
       "    </tr>\n",
       "    <tr>\n",
       "      <th>ref</th>\n",
       "      <td>495</td>\n",
       "      <td>501</td>\n",
       "      <td>60</td>\n",
       "      <td>0</td>\n",
       "      <td>6</td>\n",
       "      <td>3</td>\n",
       "      <td>97</td>\n",
       "      <td>463</td>\n",
       "    </tr>\n",
       "    <tr>\n",
       "      <th>SRR8600077</th>\n",
       "      <td>495</td>\n",
       "      <td>501</td>\n",
       "      <td>60</td>\n",
       "      <td>6</td>\n",
       "      <td>0</td>\n",
       "      <td>9</td>\n",
       "      <td>97</td>\n",
       "      <td>463</td>\n",
       "    </tr>\n",
       "    <tr>\n",
       "      <th>BTB-Gen-478</th>\n",
       "      <td>498</td>\n",
       "      <td>504</td>\n",
       "      <td>63</td>\n",
       "      <td>3</td>\n",
       "      <td>9</td>\n",
       "      <td>0</td>\n",
       "      <td>100</td>\n",
       "      <td>466</td>\n",
       "    </tr>\n",
       "    <tr>\n",
       "      <th>TB19-004994</th>\n",
       "      <td>481</td>\n",
       "      <td>487</td>\n",
       "      <td>45</td>\n",
       "      <td>97</td>\n",
       "      <td>97</td>\n",
       "      <td>100</td>\n",
       "      <td>0</td>\n",
       "      <td>477</td>\n",
       "    </tr>\n",
       "    <tr>\n",
       "      <th>6</th>\n",
       "      <td>374</td>\n",
       "      <td>380</td>\n",
       "      <td>436</td>\n",
       "      <td>463</td>\n",
       "      <td>463</td>\n",
       "      <td>466</td>\n",
       "      <td>477</td>\n",
       "      <td>0</td>\n",
       "    </tr>\n",
       "  </tbody>\n",
       "</table>\n",
       "</div>"
      ],
      "text/plain": [
       "             ERR2212120  ERR2212113  TB20-007278  ref  SRR8600077  BTB-Gen-478  TB19-004994    6\n",
       "ERR2212120            0          12          436  495         495          498          481  374\n",
       "ERR2212113           12           0          442  501         501          504          487  380\n",
       "TB20-007278         436         442            0   60          60           63           45  436\n",
       "ref                 495         501           60    0           6            3           97  463\n",
       "SRR8600077          495         501           60    6           0            9           97  463\n",
       "BTB-Gen-478         498         504           63    3           9            0          100  466\n",
       "TB19-004994         481         487           45   97          97          100            0  477\n",
       "6                   374         380          436  463         463          466          477    0"
      ]
     },
     "execution_count": 365,
     "metadata": {},
     "output_type": "execute_result"
    }
   ],
   "source": [
    "def get_closest_samples(distance_matrix, row_index, n):\n",
    "    \"\"\"\n",
    "    Get the closest N samples for a given row in a distance matrix DataFrame.\n",
    "    \"\"\"\n",
    "    row = distance_matrix.loc[row_index]\n",
    "    closest = row.nsmallest(n + 1)[1:]\n",
    "    return closest\n",
    "\n",
    "close=get_closest_samples(newdm, '6', 7)\n",
    "x=list(close.index)+['6']\n",
    "D=newdm.loc[x,x]\n",
    "\n",
    "D"
   ]
  },
  {
   "cell_type": "code",
   "execution_count": null,
   "metadata": {},
   "outputs": [
    {
     "name": "stderr",
     "output_type": "stream",
     "text": [
      "/tmp/ipykernel_3540521/938038229.py:7: FutureWarning: iteritems is deprecated and will be removed in a future version. Use .items instead.\n",
      "  for j, weight in row.iteritems():\n"
     ]
    },
    {
     "data": {
      "image/png": "[encoded data removed]",
      "text/plain": [
       "<Figure size 640x480 with 1 Axes>"
      ]
     },
     "metadata": {},
     "output_type": "display_data"
    }
   ],
   "source": [
    "def dist_matrix_to_mst(distance_matrix, ax):\n",
    "    \n",
    "    import networkx as nx\n",
    "    G = nx.Graph()\n",
    "\n",
    "    for i, row in distance_matrix.iterrows():\n",
    "        for j, weight in row.iteritems():\n",
    "            G.add_edge(i, j, weight=weight)\n",
    "\n",
    "    T = nx.minimum_spanning_tree(G)\n",
    "    pos = nx.spring_layout(T)  # Positions of the nodes\n",
    "    labels = nx.get_edge_attributes(T, 'weight')  # Labels for edge weights\n",
    "\n",
    "    nx.draw_networkx(T, pos)\n",
    "    nx.draw_networkx_edge_labels(T, pos, edge_labels=labels)\n",
    "    plt.axis('off')\n",
    "    return\n",
    "    \n",
    "fig,ax=plt.subplots(1,1)\n",
    "dist_matrix_to_mst(D,ax)"
   ]
  },
  {
   "cell_type": "code",
   "execution_count": 371,
   "metadata": {
    "tags": []
   },
   "outputs": [
    {
     "ename": "AttributeError",
     "evalue": "'generator' object has no attribute 'is_directed'",
     "output_type": "error",
     "traceback": [
      "\u001b[0;31m---------------------------------------------------------------------------\u001b[0m",
      "\u001b[0;31mAttributeError\u001b[0m                            Traceback (most recent call last)",
      "Cell \u001b[0;32mIn[371], line 8\u001b[0m\n\u001b[1;32m      6\u001b[0m edgelist \u001b[38;5;241m=\u001b[39m \u001b[38;5;28mlist\u001b[39m(mst)\n\u001b[1;32m      7\u001b[0m \u001b[38;5;28msorted\u001b[39m(\u001b[38;5;28msorted\u001b[39m(e) \u001b[38;5;28;01mfor\u001b[39;00m e \u001b[38;5;129;01min\u001b[39;00m edgelist)\n\u001b[0;32m----> 8\u001b[0m \u001b[43mnx\u001b[49m\u001b[38;5;241;43m.\u001b[39;49m\u001b[43mdraw\u001b[49m\u001b[43m(\u001b[49m\u001b[43mmst\u001b[49m\u001b[43m)\u001b[49m\n",
      "File \u001b[0;32m~/.local/lib/python3.10/site-packages/networkx/drawing/nx_pylab.py:121\u001b[0m, in \u001b[0;36mdraw\u001b[0;34m(G, pos, ax, **kwds)\u001b[0m\n\u001b[1;32m    118\u001b[0m \u001b[38;5;28;01mif\u001b[39;00m \u001b[38;5;124m\"\u001b[39m\u001b[38;5;124mwith_labels\u001b[39m\u001b[38;5;124m\"\u001b[39m \u001b[38;5;129;01mnot\u001b[39;00m \u001b[38;5;129;01min\u001b[39;00m kwds:\n\u001b[1;32m    119\u001b[0m     kwds[\u001b[38;5;124m\"\u001b[39m\u001b[38;5;124mwith_labels\u001b[39m\u001b[38;5;124m\"\u001b[39m] \u001b[38;5;241m=\u001b[39m \u001b[38;5;124m\"\u001b[39m\u001b[38;5;124mlabels\u001b[39m\u001b[38;5;124m\"\u001b[39m \u001b[38;5;129;01min\u001b[39;00m kwds\n\u001b[0;32m--> 121\u001b[0m \u001b[43mdraw_networkx\u001b[49m\u001b[43m(\u001b[49m\u001b[43mG\u001b[49m\u001b[43m,\u001b[49m\u001b[43m \u001b[49m\u001b[43mpos\u001b[49m\u001b[38;5;241;43m=\u001b[39;49m\u001b[43mpos\u001b[49m\u001b[43m,\u001b[49m\u001b[43m \u001b[49m\u001b[43max\u001b[49m\u001b[38;5;241;43m=\u001b[39;49m\u001b[43max\u001b[49m\u001b[43m,\u001b[49m\u001b[43m \u001b[49m\u001b[38;5;241;43m*\u001b[39;49m\u001b[38;5;241;43m*\u001b[39;49m\u001b[43mkwds\u001b[49m\u001b[43m)\u001b[49m\n\u001b[1;32m    122\u001b[0m ax\u001b[38;5;241m.\u001b[39mset_axis_off()\n\u001b[1;32m    123\u001b[0m plt\u001b[38;5;241m.\u001b[39mdraw_if_interactive()\n",
      "File \u001b[0;32m~/.local/lib/python3.10/site-packages/networkx/drawing/nx_pylab.py:304\u001b[0m, in \u001b[0;36mdraw_networkx\u001b[0;34m(G, pos, arrows, with_labels, **kwds)\u001b[0m\n\u001b[1;32m    301\u001b[0m     pos \u001b[38;5;241m=\u001b[39m nx\u001b[38;5;241m.\u001b[39mdrawing\u001b[38;5;241m.\u001b[39mspring_layout(G)  \u001b[38;5;66;03m# default to spring layout\u001b[39;00m\n\u001b[1;32m    303\u001b[0m draw_networkx_nodes(G, pos, \u001b[38;5;241m*\u001b[39m\u001b[38;5;241m*\u001b[39mnode_kwds)\n\u001b[0;32m--> 304\u001b[0m \u001b[43mdraw_networkx_edges\u001b[49m\u001b[43m(\u001b[49m\u001b[43mG\u001b[49m\u001b[43m,\u001b[49m\u001b[43m \u001b[49m\u001b[43mpos\u001b[49m\u001b[43m,\u001b[49m\u001b[43m \u001b[49m\u001b[43marrows\u001b[49m\u001b[38;5;241;43m=\u001b[39;49m\u001b[43marrows\u001b[49m\u001b[43m,\u001b[49m\u001b[43m \u001b[49m\u001b[38;5;241;43m*\u001b[39;49m\u001b[38;5;241;43m*\u001b[39;49m\u001b[43medge_kwds\u001b[49m\u001b[43m)\u001b[49m\n\u001b[1;32m    305\u001b[0m \u001b[38;5;28;01mif\u001b[39;00m with_labels:\n\u001b[1;32m    306\u001b[0m     draw_networkx_labels(G, pos, \u001b[38;5;241m*\u001b[39m\u001b[38;5;241m*\u001b[39mlabel_kwds)\n",
      "File \u001b[0;32m~/.local/lib/python3.10/site-packages/networkx/drawing/nx_pylab.py:656\u001b[0m, in \u001b[0;36mdraw_networkx_edges\u001b[0;34m(G, pos, edgelist, width, edge_color, style, alpha, arrowstyle, arrowsize, edge_cmap, edge_vmin, edge_vmax, ax, arrows, label, node_size, nodelist, node_shape, connectionstyle, min_source_margin, min_target_margin)\u001b[0m\n\u001b[1;32m    650\u001b[0m \u001b[38;5;28;01mimport\u001b[39;00m \u001b[38;5;21;01mnumpy\u001b[39;00m \u001b[38;5;28;01mas\u001b[39;00m \u001b[38;5;21;01mnp\u001b[39;00m\n\u001b[1;32m    652\u001b[0m \u001b[38;5;66;03m# The default behavior is to use LineCollection to draw edges for\u001b[39;00m\n\u001b[1;32m    653\u001b[0m \u001b[38;5;66;03m# undirected graphs (for performance reasons) and use FancyArrowPatches\u001b[39;00m\n\u001b[1;32m    654\u001b[0m \u001b[38;5;66;03m# for directed graphs.\u001b[39;00m\n\u001b[1;32m    655\u001b[0m \u001b[38;5;66;03m# The `arrows` keyword can be used to override the default behavior\u001b[39;00m\n\u001b[0;32m--> 656\u001b[0m use_linecollection \u001b[38;5;241m=\u001b[39m \u001b[38;5;129;01mnot\u001b[39;00m \u001b[43mG\u001b[49m\u001b[38;5;241;43m.\u001b[39;49m\u001b[43mis_directed\u001b[49m()\n\u001b[1;32m    657\u001b[0m \u001b[38;5;28;01mif\u001b[39;00m arrows \u001b[38;5;129;01min\u001b[39;00m (\u001b[38;5;28;01mTrue\u001b[39;00m, \u001b[38;5;28;01mFalse\u001b[39;00m):\n\u001b[1;32m    658\u001b[0m     use_linecollection \u001b[38;5;241m=\u001b[39m \u001b[38;5;129;01mnot\u001b[39;00m arrows\n",
      "\u001b[0;31mAttributeError\u001b[0m: 'generator' object has no attribute 'is_directed'"
     ]
    },
    {
     "data": {
      "image/png": "[encoded data removed]",
      "text/plain": [
       "<Figure size 640x480 with 1 Axes>"
      ]
     },
     "metadata": {},
     "output_type": "display_data"
    }
   ],
   "source": [
    "import networkx as nx\n",
    "from networkx.algorithms import tree\n",
    "G = nx.cycle_graph(4)\n",
    "G.add_edge(0, 3, weight=2)\n",
    "mst = tree.minimum_spanning_edges(G, algorithm=\"kruskal\", data=False)\n",
    "edgelist = list(mst)\n",
    "sorted(sorted(e) for e in edgelist)\n",
    "nx.draw(mst)"
   ]
  },
  {
   "cell_type": "markdown",
   "metadata": {
    "tags": []
   },
   "source": [
    "## SNPs and indels clustering"
   ]
  },
  {
   "cell_type": "code",
   "execution_count": null,
   "metadata": {},
   "outputs": [],
   "source": [
    "csq = app.read_csq_file('/storage/btbgenie/combined_results/csq.tsv')\n",
    "snp_mat = app.get_aa_snp_matrix(csq)"
   ]
  },
  {
   "cell_type": "code",
   "execution_count": null,
   "metadata": {},
   "outputs": [],
   "source": [
    "csqind = app.read_csq_file('/storage/btbgenie/combined_results/csq_indels.tsv')\n",
    "#print (csqind)\n",
    "#print (csqind.snp_type.value_counts())\n",
    "\n",
    "ind_mat = app.get_aa_snp_matrix(csqind)\n",
    "ind_mat.reset_index().snp_type.value_counts()\n",
    "#ind_mat\n",
    "#ind_mat[ind_mat.sum(1)>5]"
   ]
  },
  {
   "cell_type": "code",
   "execution_count": null,
   "metadata": {},
   "outputs": [],
   "source": [
    "mat = snp_mat\n",
    "#mat.index = mat.index.get_level_values(1)+'_'+mat.index.get_level_values(2)\n",
    "stat = mat.sum(1).reset_index()\n",
    "#stat.gene.value_counts()[:30]"
   ]
  },
  {
   "cell_type": "code",
   "execution_count": null,
   "metadata": {},
   "outputs": [],
   "source": [
    "C=mat.T\n",
    "C=C.merge(meta[cols],left_index=True,right_on='SRA ID').set_index(cols).T\n",
    "C=C[C.sum(1)>3].T\n",
    "C.iloc[:4,:2]"
   ]
  },
  {
   "cell_type": "code",
   "execution_count": null,
   "metadata": {},
   "outputs": [],
   "source": [
    "countries = C.index.get_level_values(1)\n",
    "sb = C.index.get_level_values(2)\n",
    "clust = C.index.get_level_values(3)"
   ]
  },
  {
   "cell_type": "code",
   "execution_count": null,
   "metadata": {},
   "outputs": [],
   "source": [
    "reload(trees)\n",
    "colormap1 = dict(zip(sb.unique(), trees.qcolors))\n",
    "colors1 = [colormap1[i] if i in colormap1 else 'Black' for i in sb]\n",
    "\n",
    "colormap2 = dict(zip(clust.unique(), trees.qcolors))\n",
    "colors2 = [colormap2[i] if i in colormap2 else 'Black' for i in clust]\n",
    "#print (colors2)\n",
    "\n",
    "g=sns.clustermap(C,xticklabels=False,yticklabels=True,figsize=(17,12),cmap='gray_r',cbar_pos=None,row_colors=colors2)\n",
    "g.fig.savefig('/storage/btbgenie/global_results/indel_clusters.jpg')"
   ]
  },
  {
   "cell_type": "markdown",
   "metadata": {
    "jp-MarkdownHeadingCollapsed": true,
    "tags": []
   },
   "source": [
    "## PCA snps"
   ]
  },
  {
   "cell_type": "code",
   "execution_count": null,
   "metadata": {},
   "outputs": [],
   "source": [
    "import sklearn\n",
    "from sklearn import decomposition\n",
    "from sklearn import manifold\n",
    "\n",
    "pca = decomposition.PCA(n_components=3)\n",
    "mds = manifold.MDS(n_components=3)\n",
    "pos = mds.fit(C).embedding_\n",
    "X = pca.fit_transform(pos)\n",
    "#X = pca.transform(C)\n",
    "\n",
    "fig,ax = plt.subplots(figsize=(7, 7))\n",
    "ax.scatter(X[:, 0], X[:, 1], c=colors2, s=100, alpha=.6)\n"
   ]
  },
  {
   "cell_type": "code",
   "execution_count": null,
   "metadata": {},
   "outputs": [],
   "source": []
  }
 ],
 "metadata": {
  "kernelspec": {
   "display_name": "Python 3 (ipykernel)",
   "language": "python",
   "name": "python3"
  },
  "language_info": {
   "codemirror_mode": {
    "name": "ipython",
    "version": 3
   },
   "file_extension": ".py",
   "mimetype": "text/x-python",
   "name": "python",
   "nbconvert_exporter": "python",
   "pygments_lexer": "ipython3",
   "version": "3.10.6"
  }
 },
 "nbformat": 4,
 "nbformat_minor": 4
}
