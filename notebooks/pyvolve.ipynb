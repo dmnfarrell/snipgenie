{
 "cells": [
  {
   "cell_type": "markdown",
   "id": "06aee665-5b55-423c-afb6-5e519e52fd09",
   "metadata": {},
   "source": [
    "## pyvolve"
   ]
  },
  {
   "cell_type": "code",
   "execution_count": 1,
   "id": "f1afebe9-c807-44d5-921f-4cfb2114cae4",
   "metadata": {},
   "outputs": [],
   "source": [
    "import sys,os,shutil,subprocess\n",
    "import glob\n",
    "from importlib import reload\n",
    "import numpy as np\n",
    "import pandas as pd\n",
    "import pylab as plt\n",
    "import seaborn as sns\n",
    "from Bio import SeqIO\n",
    "\n",
    "import pyvolve\n",
    "import toytree"
   ]
  },
  {
   "cell_type": "code",
   "execution_count": 2,
   "id": "b05b6773-32ff-4c3e-8a73-1534f5e5146e",
   "metadata": {},
   "outputs": [
    {
     "data": {
      "text/html": [
       "<div class=\"toyplot\" id=\"tdd606a27211a491bb5f693a63f09b0d8\" style=\"text-align:center\"><svg class=\"toyplot-canvas-Canvas\" xmlns:toyplot=\"http://www.sandia.gov/toyplot\" xmlns:xlink=\"http://www.w3.org/1999/xlink\" xmlns=\"http://www.w3.org/2000/svg\" width=\"500.0px\" height=\"400.0px\" viewBox=\"0 0 500.0 400.0\" preserveAspectRatio=\"xMidYMid meet\" style=\"background-color:transparent;border-color:#292724;border-style:none;border-width:1.0;fill:rgb(16.1%,15.3%,14.1%);fill-opacity:1.0;font-family:Helvetica;font-size:12px;opacity:1.0;stroke:rgb(16.1%,15.3%,14.1%);stroke-opacity:1.0;stroke-width:1.0\" id=\"tdcbcef31361648d699835e0bc931bb79\"><g class=\"toyplot-coordinates-Cartesian\" id=\"t05bd809ef590467b87f8c93f1ee78b8b\"><clipPath id=\"t1ebefe40f8934c6b82473ea8bb533cca\"><rect x=\"30.0\" y=\"30.0\" width=\"440.0\" height=\"340.0\"></rect></clipPath><g clip-path=\"url(#t1ebefe40f8934c6b82473ea8bb533cca)\"><g class=\"toytree-mark-Toytree\" id=\"tc4f457a54fd5485dbdebea6de780ee42\"><g class=\"toytree-Edges\" style=\"fill:none;stroke:rgb(14.9%,14.9%,14.9%);stroke-linecap:round;stroke-opacity:1;stroke-width:2\"><path d=\"M 51.9 186.2 L 51.9 103.1 L 155.2 103.1\" id=\"10,9\"></path><path d=\"M 51.9 186.2 L 51.9 269.2 L 222.3 269.2\" id=\"10,8\"></path><path d=\"M 155.2 103.1 L 155.2 144.6 L 195.1 144.6\" id=\"9,7\"></path><path d=\"M 222.3 269.2 L 222.3 310.7 L 321.9 310.7\" id=\"8,6\"></path><path d=\"M 155.2 103.1 L 155.2 61.6 L 320.9 61.6\" id=\"9,5\"></path><path d=\"M 195.1 144.6 L 195.1 117.0 L 357.3 117.0\" id=\"7,4\"></path><path d=\"M 195.1 144.6 L 195.1 172.3 L 395.2 172.3\" id=\"7,3\"></path><path d=\"M 222.3 269.2 L 222.3 227.7 L 438.7 227.7\" id=\"8,2\"></path><path d=\"M 321.9 310.7 L 321.9 283.0 L 408.4 283.0\" id=\"6,1\"></path><path d=\"M 321.9 310.7 L 321.9 338.4 L 322.8 338.4\" id=\"6,0\"></path></g><g class=\"toytree-TipLabels\" style=\"fill:rgb(14.9%,14.9%,14.9%);fill-opacity:1.0;font-family:helvetica;font-size:11px;font-weight:normal;stroke:none;white-space:pre\"><g transform=\"translate(322.83,338.38)rotate(0)\"><text x=\"15.00\" y=\"2.81\" style=\"\">2</text></g><g transform=\"translate(408.37,283.03)rotate(0)\"><text x=\"15.00\" y=\"2.81\" style=\"\">6</text></g><g transform=\"translate(438.71,227.68)rotate(0)\"><text x=\"15.00\" y=\"2.81\" style=\"\">3</text></g><g transform=\"translate(395.22,172.32)rotate(0)\"><text x=\"15.00\" y=\"2.81\" style=\"\">5</text></g><g transform=\"translate(357.26,116.97)rotate(0)\"><text x=\"15.00\" y=\"2.81\" style=\"\">1</text></g><g transform=\"translate(320.85,61.62)rotate(0)\"><text x=\"15.00\" y=\"2.81\" style=\"\">4</text></g></g></g></g><g class=\"toyplot-coordinates-Axis\" id=\"t2bfa44570c0c4d8185cd2bca989e4ade\" transform=\"translate(50.0,350.0)translate(0,20.0)\"><line x1=\"1.9338806215491884\" y1=\"0\" x2=\"388.71000493139553\" y2=\"0\" style=\"\"></line><g><line x1=\"388.71000493139553\" y1=\"0\" x2=\"388.71000493139553\" y2=\"-5\" style=\"\"></line><line x1=\"292.01597385393393\" y1=\"0\" x2=\"292.01597385393393\" y2=\"-5\" style=\"\"></line><line x1=\"195.32194277647235\" y1=\"0\" x2=\"195.32194277647235\" y2=\"-5\" style=\"\"></line><line x1=\"98.62791169901077\" y1=\"0\" x2=\"98.62791169901077\" y2=\"-5\" style=\"\"></line><line x1=\"1.9338806215491884\" y1=\"0\" x2=\"1.9338806215491884\" y2=\"-5\" style=\"\"></line></g><g><g transform=\"translate(388.71000493139553,6)\"><text x=\"-6.95\" y=\"8.555\" style=\"fill:rgb(16.1%,15.3%,14.1%);fill-opacity:1.0;font-family:helvetica;font-size:10.0px;font-weight:normal;stroke:none;vertical-align:baseline;white-space:pre\">0.0</text></g><g transform=\"translate(292.01597385393393,6)\"><text x=\"-6.95\" y=\"8.555\" style=\"fill:rgb(16.1%,15.3%,14.1%);fill-opacity:1.0;font-family:helvetica;font-size:10.0px;font-weight:normal;stroke:none;vertical-align:baseline;white-space:pre\">0.7</text></g><g transform=\"translate(195.32194277647235,6)\"><text x=\"-6.95\" y=\"8.555\" style=\"fill:rgb(16.1%,15.3%,14.1%);fill-opacity:1.0;font-family:helvetica;font-size:10.0px;font-weight:normal;stroke:none;vertical-align:baseline;white-space:pre\">1.5</text></g><g transform=\"translate(98.62791169901077,6)\"><text x=\"-6.95\" y=\"8.555\" style=\"fill:rgb(16.1%,15.3%,14.1%);fill-opacity:1.0;font-family:helvetica;font-size:10.0px;font-weight:normal;stroke:none;vertical-align:baseline;white-space:pre\">2.2</text></g><g transform=\"translate(1.9338806215491884,6)\"><text x=\"-6.95\" y=\"8.555\" style=\"fill:rgb(16.1%,15.3%,14.1%);fill-opacity:1.0;font-family:helvetica;font-size:10.0px;font-weight:normal;stroke:none;vertical-align:baseline;white-space:pre\">2.9</text></g></g><g class=\"toyplot-coordinates-Axis-coordinates\" style=\"visibility:hidden\" transform=\"\"><line x1=\"0\" x2=\"0\" y1=\"-3.0\" y2=\"4.5\" style=\"stroke:rgb(43.9%,50.2%,56.5%);stroke-opacity:1.0;stroke-width:1.0\"></line><text x=\"0\" y=\"-6\" style=\"alignment-baseline:alphabetic;fill:rgb(43.9%,50.2%,56.5%);fill-opacity:1.0;font-size:10px;font-weight:normal;stroke:none;text-anchor:middle\"></text></g></g></g></svg><div class=\"toyplot-behavior\"><script>(function()\n",
       "{\n",
       "var modules={};\n",
       "modules[\"toyplot/canvas/id\"] = \"tdcbcef31361648d699835e0bc931bb79\";\n",
       "modules[\"toyplot/canvas\"] = (function(canvas_id)\n",
       "    {\n",
       "        return document.querySelector(\"#\" + canvas_id);\n",
       "    })(modules[\"toyplot/canvas/id\"]);\n",
       "modules[\"toyplot.coordinates.Axis\"] = (\n",
       "        function(canvas)\n",
       "        {\n",
       "            function sign(x)\n",
       "            {\n",
       "                return x < 0 ? -1 : x > 0 ? 1 : 0;\n",
       "            }\n",
       "\n",
       "            function mix(a, b, amount)\n",
       "            {\n",
       "                return ((1.0 - amount) * a) + (amount * b);\n",
       "            }\n",
       "\n",
       "            function log(x, base)\n",
       "            {\n",
       "                return Math.log(Math.abs(x)) / Math.log(base);\n",
       "            }\n",
       "\n",
       "            function in_range(a, x, b)\n",
       "            {\n",
       "                var left = Math.min(a, b);\n",
       "                var right = Math.max(a, b);\n",
       "                return left <= x && x <= right;\n",
       "            }\n",
       "\n",
       "            function inside(range, projection)\n",
       "            {\n",
       "                for(var i = 0; i != projection.length; ++i)\n",
       "                {\n",
       "                    var segment = projection[i];\n",
       "                    if(in_range(segment.range.min, range, segment.range.max))\n",
       "                        return true;\n",
       "                }\n",
       "                return false;\n",
       "            }\n",
       "\n",
       "            function to_domain(range, projection)\n",
       "            {\n",
       "                for(var i = 0; i != projection.length; ++i)\n",
       "                {\n",
       "                    var segment = projection[i];\n",
       "                    if(in_range(segment.range.bounds.min, range, segment.range.bounds.max))\n",
       "                    {\n",
       "                        if(segment.scale == \"linear\")\n",
       "                        {\n",
       "                            var amount = (range - segment.range.min) / (segment.range.max - segment.range.min);\n",
       "                            return mix(segment.domain.min, segment.domain.max, amount)\n",
       "                        }\n",
       "                        else if(segment.scale[0] == \"log\")\n",
       "                        {\n",
       "                            var amount = (range - segment.range.min) / (segment.range.max - segment.range.min);\n",
       "                            var base = segment.scale[1];\n",
       "                            return sign(segment.domain.min) * Math.pow(base, mix(log(segment.domain.min, base), log(segment.domain.max, base), amount));\n",
       "                        }\n",
       "                    }\n",
       "                }\n",
       "            }\n",
       "\n",
       "            var axes = {};\n",
       "\n",
       "            function display_coordinates(e)\n",
       "            {\n",
       "                var current = canvas.createSVGPoint();\n",
       "                current.x = e.clientX;\n",
       "                current.y = e.clientY;\n",
       "\n",
       "                for(var axis_id in axes)\n",
       "                {\n",
       "                    var axis = document.querySelector(\"#\" + axis_id);\n",
       "                    var coordinates = axis.querySelector(\".toyplot-coordinates-Axis-coordinates\");\n",
       "                    if(coordinates)\n",
       "                    {\n",
       "                        var projection = axes[axis_id];\n",
       "                        var local = current.matrixTransform(axis.getScreenCTM().inverse());\n",
       "                        if(inside(local.x, projection))\n",
       "                        {\n",
       "                            var domain = to_domain(local.x, projection);\n",
       "                            coordinates.style.visibility = \"visible\";\n",
       "                            coordinates.setAttribute(\"transform\", \"translate(\" + local.x + \")\");\n",
       "                            var text = coordinates.querySelector(\"text\");\n",
       "                            text.textContent = domain.toFixed(2);\n",
       "                        }\n",
       "                        else\n",
       "                        {\n",
       "                            coordinates.style.visibility= \"hidden\";\n",
       "                        }\n",
       "                    }\n",
       "                }\n",
       "            }\n",
       "\n",
       "            canvas.addEventListener(\"click\", display_coordinates);\n",
       "\n",
       "            var module = {};\n",
       "            module.show_coordinates = function(axis_id, projection)\n",
       "            {\n",
       "                axes[axis_id] = projection;\n",
       "            }\n",
       "\n",
       "            return module;\n",
       "        })(modules[\"toyplot/canvas\"]);\n",
       "(function(axis, axis_id, projection)\n",
       "        {\n",
       "            axis.show_coordinates(axis_id, projection);\n",
       "        })(modules[\"toyplot.coordinates.Axis\"],\"t2bfa44570c0c4d8185cd2bca989e4ade\",[{\"domain\": {\"bounds\": {\"max\": Infinity, \"min\": -Infinity}, \"max\": 0.08571743502021015, \"min\": -2.9512169302949998}, \"range\": {\"bounds\": {\"max\": Infinity, \"min\": -Infinity}, \"max\": 400.0, \"min\": 0.0}, \"scale\": \"linear\"}]);\n",
       "})();</script></div></div>"
      ]
     },
     "metadata": {},
     "output_type": "display_data"
    }
   ],
   "source": [
    "treestr=\"(t4:0.785,(t3:0.380,(t2:0.806,(t5:0.612,t1:0.660):0.762):0.921):0.207);\"\n",
    "#tree = pyvolve.read_tree(tree = treestr)\n",
    "tree = pyvolve.read_tree(file='sim.newick')\n",
    "tre = toytree.tree('sim.newick')\n",
    "canvas,t,r=tre.draw(layout='r',scalebar=True,height=400,width=500)"
   ]
  },
  {
   "cell_type": "code",
   "execution_count": null,
   "id": "c00e9733-4bd6-4bd0-ad39-c2963dfd5dbe",
   "metadata": {},
   "outputs": [],
   "source": [
    "ref = SeqIO.read('Mbovis-AF212297.2.gb',format='gb')\n",
    "refseq = str(ref.seq)\n",
    "model=pyvolve.Model(\"nucleotide\")\n",
    "partition=pyvolve.Partition(models=model, root_seqeuence='AAAAGGCCT')\n",
    "ev = pyvolve.Evolver(partitions=partition,tree=tree)"
   ]
  },
  {
   "cell_type": "code",
   "execution_count": null,
   "id": "b6b00ba3-1cb6-47b7-ad72-990532fd7346",
   "metadata": {},
   "outputs": [],
   "source": [
    "ev()\n",
    "ev.get_sequences()"
   ]
  },
  {
   "cell_type": "code",
   "execution_count": 6,
   "id": "7b7f3783-4f2f-45ba-b44a-d1596eca508c",
   "metadata": {},
   "outputs": [
    {
     "data": {
      "text/plain": [
       "\u001b[0;31mInit signature:\u001b[0m \u001b[0mpyvolve\u001b[0m\u001b[0;34m.\u001b[0m\u001b[0mPartition\u001b[0m\u001b[0;34m(\u001b[0m\u001b[0;34m**\u001b[0m\u001b[0mkwargs\u001b[0m\u001b[0;34m)\u001b[0m\u001b[0;34m\u001b[0m\u001b[0;34m\u001b[0m\u001b[0m\n",
       "\u001b[0;31mDocstring:\u001b[0m      <no docstring>\n",
       "\u001b[0;31mInit docstring:\u001b[0m\n",
       "Required keyword arguments:\n",
       "    \n",
       "    1. **size**, integer giving the root length of this partition (only required when no root sequence is given)\n",
       "    2. **models** (or **model**), either a single Model object (for cases of branch homogeneity), or a list of Model objects (for cases of branch heterogeneity).\n",
       "\n",
       "Optional keyword arguments:\n",
       "\n",
       "    1. **root_sequence**, a string giving the ancestral sequence for this partition. Note that, when provided, the **size** argument is not needed.\n",
       "    2. **root_model_name**, the *name attribute* of the model to be used at the root of the phylogeny. Applicable only to cases of *branch heterogeneity*.\n",
       "\n",
       "Examples:\n",
       "    .. code-block:: python\n",
       "\n",
       "       >>> # Define a temporally homogeneous partition\n",
       "       >>> my_partition = Partition(models = my_model, size = 500) \n",
       "       \n",
       "       >>> # Define a temporally heterogeneous partition, in which three models (model1, model2, and rootmodel) are used during sequence evolution, and rootmodel is the model at the root of the tree\n",
       "       >>> my_other_partition = Partition(models = [model1, model2, rootmodel], size = 134, root_model_name = rootmodel.name)       \n",
       "    \n",
       "\u001b[0;31mFile:\u001b[0m           /usr/local/lib/python3.9/dist-packages/pyvolve/partition.py\n",
       "\u001b[0;31mType:\u001b[0m           type\n",
       "\u001b[0;31mSubclasses:\u001b[0m     \n"
      ]
     },
     "metadata": {},
     "output_type": "display_data"
    }
   ],
   "source": [
    "?pyvolve.Partition"
   ]
  }
 ],
 "metadata": {
  "kernelspec": {
   "display_name": "Python 3",
   "language": "python",
   "name": "python3"
  },
  "language_info": {
   "codemirror_mode": {
    "name": "ipython",
    "version": 3
   },
   "file_extension": ".py",
   "mimetype": "text/x-python",
   "name": "python",
   "nbconvert_exporter": "python",
   "pygments_lexer": "ipython3",
   "version": "3.9.5"
  }
 },
 "nbformat": 4,
 "nbformat_minor": 5
}
