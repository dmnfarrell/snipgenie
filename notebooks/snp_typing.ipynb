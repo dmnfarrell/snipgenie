{
 "cells": [
  {
   "cell_type": "markdown",
   "metadata": {},
   "source": [
    "## SNP typing and lineage naming from WGS using reference population\n",
    "\n",
    "References:\n",
    "\n",
    "* https://www.frontiersin.org/articles/10.3389/fmicb.2020.00843/full\n",
    "* https://www.ncbi.nlm.nih.gov/pmc/articles/PMC3502966/\n",
    "\n",
    "Selection of reference population:\n",
    "\n",
    "* Global\n",
    "* European\n",
    "* UK/Ireland\n",
    "* All Ireland (republic + NI)\n",
    "\n",
    "required: \n",
    "\n",
    "* We need to be able to add new samples to the existing **reference** population phylogeny without having to re-analyse everything together.\n",
    "* We need to have a sufficiently sampled reference matrix that it will cover most potential new inputs. Otherwise they will be considered outgroups.\n",
    "\n",
    "Method: \n",
    "\n",
    "* add one or more samples to an existing population snp matrix - concatenate two sets of snps into one matrix by keeping only the polymorphic sites in the reference matrix. sites not present in the unknown samples are replaced with Ns\n",
    "* generate a new phylogeny from the combined snp matrix or just cluster them\n",
    "* find nearest neighbours and identify the unknown isolates with a known clade"
   ]
  },
  {
   "cell_type": "code",
   "execution_count": 137,
   "metadata": {},
   "outputs": [],
   "source": [
    "import numpy as np\n",
    "import pandas as pd\n",
    "import pylab as plt\n",
    "import scipy.cluster.hierarchy as shc\n",
    "from sklearn.preprocessing import normalize\n",
    "from Bio.SeqRecord import SeqRecord\n",
    "from Bio.Seq import Seq\n",
    "from Bio import SeqIO\n",
    "from Bio import Phylo\n",
    "import seaborn as sns\n",
    "import toytree\n",
    "from snipgenie import app, trees"
   ]
  },
  {
   "cell_type": "markdown",
   "metadata": {},
   "source": [
    "## get snp matrix"
   ]
  },
  {
   "cell_type": "code",
   "execution_count": 232,
   "metadata": {},
   "outputs": [],
   "source": [
    "nucmat = pd.read_csv('../snipgenie/data/nuc_snps_ireland.txt',sep=' ')\n",
    "csqmat = pd.read_csv('../snipgenie/data/snps_ireland.csv',index_col=[0,1,2,3,4])"
   ]
  },
  {
   "cell_type": "code",
   "execution_count": null,
   "metadata": {},
   "outputs": [],
   "source": [
    "X=csqmat\n",
    "print (X.iloc[:2,:3])\n",
    "sns.clustermap(X,xticklabels=False,figsize=(15,10),cmap='gray_r',cbar_pos=None)"
   ]
  },
  {
   "cell_type": "markdown",
   "metadata": {},
   "source": [
    "## combine sub sample of snps with original matrix"
   ]
  },
  {
   "cell_type": "code",
   "execution_count": 269,
   "metadata": {},
   "outputs": [
    {
     "name": "stdout",
     "output_type": "stream",
     "text": [
      "                                                  (687, 'dnaA', '229F')  \\\n",
      "name    county   SB     ClusterNumber clade                               \n",
      "4798    Monaghan SB0140 4             Monaghan-1                      0   \n",
      "19-7209 Monaghan SB0140 3             Monaghan-2                      0   \n",
      "\n",
      "                                                  (937, 'dnaA', '313T>313A')  \\\n",
      "name    county   SB     ClusterNumber clade                                    \n",
      "4798    Monaghan SB0140 4             Monaghan-1                           0   \n",
      "19-7209 Monaghan SB0140 3             Monaghan-2                           1   \n",
      "\n",
      "                                                  (1057, 'dnaA', '353I>353V')  \n",
      "name    county   SB     ClusterNumber clade                                    \n",
      "4798    Monaghan SB0140 4             Monaghan-1                            1  \n",
      "19-7209 Monaghan SB0140 3             Monaghan-2                            1  \n"
     ]
    },
    {
     "ename": "ValueError",
     "evalue": "columns overlap but no suffix specified: Index(['(687, 'dnaA', '229F')', '(937, 'dnaA', '313T>313A')',\n       '(1057, 'dnaA', '353I>353V')', '(1303, 'dnaA', '435G>435R')',\n       '(8741, 'gyrA', '480R')', '(9191, 'gyrA', '630G')',\n       '(18207, 'pknA', '185A')', '(20333, 'rodA', '436I>436T')',\n       '(32965, 'BQ2027_MB0030', '309R')', '(41437, 'BQ2027_MB0039', '50G')',\n       ...\n       '(4298265, 'espj', '281*>281Q')', '(4298265, 'espj', 'stop_lost')',\n       '(4304318, 'mycp1', '406P>406L')', '(4311425, 'eccd2', '126G>126D')',\n       '(4312718, 'esxD', '9P>9S')',\n       '(4320406, 'BQ2027_MB3926c', '272T>272M')',\n       '(4323191, 'BQ2027_MB3929c', '188A>188T')',\n       '(4325917, 'LH57_21250', '118A>118T')',\n       '(4339036, 'sigMa', '160S>160A')', '(4348990, 'rnpA', '58K>58E')'],\n      dtype='object', length=591)",
     "output_type": "error",
     "traceback": [
      "\u001b[0;31m---------------------------------------------------------------------------\u001b[0m",
      "\u001b[0;31mValueError\u001b[0m                                Traceback (most recent call last)",
      "\u001b[0;32m<ipython-input-269-3ac8ebb65324>\u001b[0m in \u001b[0;36m<module>\u001b[0;34m\u001b[0m\n\u001b[1;32m      5\u001b[0m \u001b[0;31m#print(m2.iloc[:2,:3])\u001b[0m\u001b[0;34m\u001b[0m\u001b[0;34m\u001b[0m\u001b[0;34m\u001b[0m\u001b[0m\n\u001b[1;32m      6\u001b[0m \u001b[0;34m\u001b[0m\u001b[0m\n\u001b[0;32m----> 7\u001b[0;31m \u001b[0mnew\u001b[0m \u001b[0;34m=\u001b[0m \u001b[0mm1\u001b[0m\u001b[0;34m.\u001b[0m\u001b[0mjoin\u001b[0m\u001b[0;34m(\u001b[0m\u001b[0mm2\u001b[0m\u001b[0;34m)\u001b[0m\u001b[0;34m.\u001b[0m\u001b[0mfillna\u001b[0m\u001b[0;34m(\u001b[0m\u001b[0;36m0\u001b[0m\u001b[0;34m)\u001b[0m\u001b[0;34m\u001b[0m\u001b[0;34m\u001b[0m\u001b[0m\n\u001b[0m\u001b[1;32m      8\u001b[0m \u001b[0;34m\u001b[0m\u001b[0m\n\u001b[1;32m      9\u001b[0m \u001b[0mprint\u001b[0m \u001b[0;34m(\u001b[0m\u001b[0mlen\u001b[0m\u001b[0;34m(\u001b[0m\u001b[0mm1\u001b[0m\u001b[0;34m)\u001b[0m\u001b[0;34m,\u001b[0m\u001b[0mlen\u001b[0m\u001b[0;34m(\u001b[0m\u001b[0mm2\u001b[0m\u001b[0;34m)\u001b[0m\u001b[0;34m)\u001b[0m\u001b[0;34m\u001b[0m\u001b[0;34m\u001b[0m\u001b[0m\n",
      "\u001b[0;32m/usr/local/lib/python3.8/dist-packages/pandas/core/frame.py\u001b[0m in \u001b[0;36mjoin\u001b[0;34m(self, other, on, how, lsuffix, rsuffix, sort)\u001b[0m\n\u001b[1;32m   8108\u001b[0m         \u001b[0;36m5\u001b[0m  \u001b[0mK5\u001b[0m  \u001b[0mA5\u001b[0m  \u001b[0mNaN\u001b[0m\u001b[0;34m\u001b[0m\u001b[0;34m\u001b[0m\u001b[0m\n\u001b[1;32m   8109\u001b[0m         \"\"\"\n\u001b[0;32m-> 8110\u001b[0;31m         return self._join_compat(\n\u001b[0m\u001b[1;32m   8111\u001b[0m             \u001b[0mother\u001b[0m\u001b[0;34m,\u001b[0m \u001b[0mon\u001b[0m\u001b[0;34m=\u001b[0m\u001b[0mon\u001b[0m\u001b[0;34m,\u001b[0m \u001b[0mhow\u001b[0m\u001b[0;34m=\u001b[0m\u001b[0mhow\u001b[0m\u001b[0;34m,\u001b[0m \u001b[0mlsuffix\u001b[0m\u001b[0;34m=\u001b[0m\u001b[0mlsuffix\u001b[0m\u001b[0;34m,\u001b[0m \u001b[0mrsuffix\u001b[0m\u001b[0;34m=\u001b[0m\u001b[0mrsuffix\u001b[0m\u001b[0;34m,\u001b[0m \u001b[0msort\u001b[0m\u001b[0;34m=\u001b[0m\u001b[0msort\u001b[0m\u001b[0;34m\u001b[0m\u001b[0;34m\u001b[0m\u001b[0m\n\u001b[1;32m   8112\u001b[0m         )\n",
      "\u001b[0;32m/usr/local/lib/python3.8/dist-packages/pandas/core/frame.py\u001b[0m in \u001b[0;36m_join_compat\u001b[0;34m(self, other, on, how, lsuffix, rsuffix, sort)\u001b[0m\n\u001b[1;32m   8133\u001b[0m                     \u001b[0msort\u001b[0m\u001b[0;34m=\u001b[0m\u001b[0msort\u001b[0m\u001b[0;34m,\u001b[0m\u001b[0;34m\u001b[0m\u001b[0;34m\u001b[0m\u001b[0m\n\u001b[1;32m   8134\u001b[0m                 )\n\u001b[0;32m-> 8135\u001b[0;31m             return merge(\n\u001b[0m\u001b[1;32m   8136\u001b[0m                 \u001b[0mself\u001b[0m\u001b[0;34m,\u001b[0m\u001b[0;34m\u001b[0m\u001b[0;34m\u001b[0m\u001b[0m\n\u001b[1;32m   8137\u001b[0m                 \u001b[0mother\u001b[0m\u001b[0;34m,\u001b[0m\u001b[0;34m\u001b[0m\u001b[0;34m\u001b[0m\u001b[0m\n",
      "\u001b[0;32m/usr/local/lib/python3.8/dist-packages/pandas/core/reshape/merge.py\u001b[0m in \u001b[0;36mmerge\u001b[0;34m(left, right, how, on, left_on, right_on, left_index, right_index, sort, suffixes, copy, indicator, validate)\u001b[0m\n\u001b[1;32m     87\u001b[0m         \u001b[0mvalidate\u001b[0m\u001b[0;34m=\u001b[0m\u001b[0mvalidate\u001b[0m\u001b[0;34m,\u001b[0m\u001b[0;34m\u001b[0m\u001b[0;34m\u001b[0m\u001b[0m\n\u001b[1;32m     88\u001b[0m     )\n\u001b[0;32m---> 89\u001b[0;31m     \u001b[0;32mreturn\u001b[0m \u001b[0mop\u001b[0m\u001b[0;34m.\u001b[0m\u001b[0mget_result\u001b[0m\u001b[0;34m(\u001b[0m\u001b[0;34m)\u001b[0m\u001b[0;34m\u001b[0m\u001b[0;34m\u001b[0m\u001b[0m\n\u001b[0m\u001b[1;32m     90\u001b[0m \u001b[0;34m\u001b[0m\u001b[0m\n\u001b[1;32m     91\u001b[0m \u001b[0;34m\u001b[0m\u001b[0m\n",
      "\u001b[0;32m/usr/local/lib/python3.8/dist-packages/pandas/core/reshape/merge.py\u001b[0m in \u001b[0;36mget_result\u001b[0;34m(self)\u001b[0m\n\u001b[1;32m    684\u001b[0m         \u001b[0mjoin_index\u001b[0m\u001b[0;34m,\u001b[0m \u001b[0mleft_indexer\u001b[0m\u001b[0;34m,\u001b[0m \u001b[0mright_indexer\u001b[0m \u001b[0;34m=\u001b[0m \u001b[0mself\u001b[0m\u001b[0;34m.\u001b[0m\u001b[0m_get_join_info\u001b[0m\u001b[0;34m(\u001b[0m\u001b[0;34m)\u001b[0m\u001b[0;34m\u001b[0m\u001b[0;34m\u001b[0m\u001b[0m\n\u001b[1;32m    685\u001b[0m \u001b[0;34m\u001b[0m\u001b[0m\n\u001b[0;32m--> 686\u001b[0;31m         llabels, rlabels = _items_overlap_with_suffix(\n\u001b[0m\u001b[1;32m    687\u001b[0m             \u001b[0mself\u001b[0m\u001b[0;34m.\u001b[0m\u001b[0mleft\u001b[0m\u001b[0;34m.\u001b[0m\u001b[0m_info_axis\u001b[0m\u001b[0;34m,\u001b[0m \u001b[0mself\u001b[0m\u001b[0;34m.\u001b[0m\u001b[0mright\u001b[0m\u001b[0;34m.\u001b[0m\u001b[0m_info_axis\u001b[0m\u001b[0;34m,\u001b[0m \u001b[0mself\u001b[0m\u001b[0;34m.\u001b[0m\u001b[0msuffixes\u001b[0m\u001b[0;34m\u001b[0m\u001b[0;34m\u001b[0m\u001b[0m\n\u001b[1;32m    688\u001b[0m         )\n",
      "\u001b[0;32m/usr/local/lib/python3.8/dist-packages/pandas/core/reshape/merge.py\u001b[0m in \u001b[0;36m_items_overlap_with_suffix\u001b[0;34m(left, right, suffixes)\u001b[0m\n\u001b[1;32m   2176\u001b[0m \u001b[0;34m\u001b[0m\u001b[0m\n\u001b[1;32m   2177\u001b[0m     \u001b[0;32mif\u001b[0m \u001b[0;32mnot\u001b[0m \u001b[0mlsuffix\u001b[0m \u001b[0;32mand\u001b[0m \u001b[0;32mnot\u001b[0m \u001b[0mrsuffix\u001b[0m\u001b[0;34m:\u001b[0m\u001b[0;34m\u001b[0m\u001b[0;34m\u001b[0m\u001b[0m\n\u001b[0;32m-> 2178\u001b[0;31m         \u001b[0;32mraise\u001b[0m \u001b[0mValueError\u001b[0m\u001b[0;34m(\u001b[0m\u001b[0;34mf\"columns overlap but no suffix specified: {to_rename}\"\u001b[0m\u001b[0;34m)\u001b[0m\u001b[0;34m\u001b[0m\u001b[0;34m\u001b[0m\u001b[0m\n\u001b[0m\u001b[1;32m   2179\u001b[0m \u001b[0;34m\u001b[0m\u001b[0m\n\u001b[1;32m   2180\u001b[0m     \u001b[0;32mdef\u001b[0m \u001b[0mrenamer\u001b[0m\u001b[0;34m(\u001b[0m\u001b[0mx\u001b[0m\u001b[0;34m,\u001b[0m \u001b[0msuffix\u001b[0m\u001b[0;34m)\u001b[0m\u001b[0;34m:\u001b[0m\u001b[0;34m\u001b[0m\u001b[0;34m\u001b[0m\u001b[0m\n",
      "\u001b[0;31mValueError\u001b[0m: columns overlap but no suffix specified: Index(['(687, 'dnaA', '229F')', '(937, 'dnaA', '313T>313A')',\n       '(1057, 'dnaA', '353I>353V')', '(1303, 'dnaA', '435G>435R')',\n       '(8741, 'gyrA', '480R')', '(9191, 'gyrA', '630G')',\n       '(18207, 'pknA', '185A')', '(20333, 'rodA', '436I>436T')',\n       '(32965, 'BQ2027_MB0030', '309R')', '(41437, 'BQ2027_MB0039', '50G')',\n       ...\n       '(4298265, 'espj', '281*>281Q')', '(4298265, 'espj', 'stop_lost')',\n       '(4304318, 'mycp1', '406P>406L')', '(4311425, 'eccd2', '126G>126D')',\n       '(4312718, 'esxD', '9P>9S')',\n       '(4320406, 'BQ2027_MB3926c', '272T>272M')',\n       '(4323191, 'BQ2027_MB3929c', '188A>188T')',\n       '(4325917, 'LH57_21250', '118A>118T')',\n       '(4339036, 'sigMa', '160S>160A')', '(4348990, 'rnpA', '58K>58E')'],\n      dtype='object', length=591)"
     ]
    }
   ],
   "source": [
    "m1 = X.sample(30,axis=0,random_state=2)\n",
    "m2 = X.sample(5,axis=0,random_state=5)\n",
    "\n",
    "print(m1.iloc[:2,:3])\n",
    "#print(m2.iloc[:2,:3])\n",
    "\n",
    "new = m1.join(m2).fillna(0)\n",
    "\n",
    "print (len(m1),len(m2))\n",
    "print (len(new))"
   ]
  },
  {
   "cell_type": "markdown",
   "metadata": {},
   "source": [
    "## lookup sample"
   ]
  },
  {
   "cell_type": "code",
   "execution_count": 261,
   "metadata": {},
   "outputs": [
    {
     "data": {
      "text/plain": [
       "42    Monaghan-2\n",
       "Name: clade, dtype: object"
      ]
     },
     "execution_count": 261,
     "metadata": {},
     "output_type": "execute_result"
    }
   ],
   "source": [
    "def get_sample_details(name):\n",
    "    x=csqmat.reset_index()\n",
    "    r = x[x.name==name]\n",
    "    return r\n",
    "\n",
    "get_sample_details('19-2919').clade\n"
   ]
  },
  {
   "cell_type": "code",
   "execution_count": null,
   "metadata": {},
   "outputs": [],
   "source": [
    "def get_nearest_neighbours(name, n):\n",
    "    #get n nearest samples in cluster matrix\n",
    "    X=csqmat\n",
    "    \n",
    "    return\n"
   ]
  },
  {
   "cell_type": "code",
   "execution_count": null,
   "metadata": {},
   "outputs": [],
   "source": [
    "X=snpmat.set_index('pos').sample(250).sort_index()\n",
    "mapping = {\"A\": 1, \"T\": 2, \"C\": 3, \"G\": 4}\n",
    "X=X.replace(mapping)\n",
    "sns.clustermap(X,row_cluster=False,yticklabels=False,figsize=(15,10))\n"
   ]
  },
  {
   "cell_type": "code",
   "execution_count": null,
   "metadata": {},
   "outputs": [],
   "source": [
    "Y=X.copy()\n",
    "from sklearn.cluster import KMeans\n",
    "#km1 = KMeans(n_clusters=4).fit(x)\n",
    "#x['l1'] = km1.labels_\n",
    "\n",
    "for level in range(4,9):\n",
    "    km = KMeans(n_clusters=level).fit(x)\n",
    "    Y['l'+str(level)] = km.labels_\n",
    "Y=Y.sort_values(['l4','l5','l6','l7','l8'])   \n",
    "Y['address'] = Y[['l4','l5','l6','l7','l8']].astype(str).agg('-'.join, axis=1)\n",
    "Y[30:40]\n",
    "Y.address.value_counts()"
   ]
  },
  {
   "cell_type": "code",
   "execution_count": null,
   "metadata": {},
   "outputs": [],
   "source": [
    "def snps_to_fasta(snpmat, outfile):\n",
    "    \"\"\"Write snp matrix to fasta file\"\"\"\n",
    "    \n",
    "    snpmat = snpmat.fillna('N')\n",
    "    recs = []\n",
    "    for col in snpmat.columns[1:]:\n",
    "        seq = ''.join(snpmat[col])        \n",
    "        seqrec = SeqRecord(Seq(seq),id=col)\n",
    "        recs.append(seqrec)\n",
    "    SeqIO.write(recs, outfile, 'fasta')\n",
    "    return    \n",
    "\n",
    "def tree_from_snps(snpmat):\n",
    "    snps_to_fasta(snpmat, 'snps.fa') \n",
    "    treefile = trees.run_fasttree('snps.fa')\n",
    "    tre = toytree.tree(treefile)\n",
    "    mystyle = { \"layout\": 'r','node_sizes':1,'tip_labels_align':False}\n",
    "    tre.ladderize().draw(**mystyle,width=700);\n",
    "    return tre\n",
    "\n",
    "snps_to_fasta(snpmat, 'snps.fa')\n",
    "tree_from_snps(snpmat)"
   ]
  },
  {
   "cell_type": "markdown",
   "metadata": {},
   "source": [
    "## combine sub sample of snps with original matrix\n"
   ]
  },
  {
   "cell_type": "code",
   "execution_count": null,
   "metadata": {},
   "outputs": [],
   "source": [
    "x=snpmat.set_index('pos').sample(150).sort_index()\n",
    "m1 = x.sample(30,axis=1,random_state=2)\n",
    "m1 = m1[2:]\n",
    "m2 = x.sample(6,axis=1,random_state=5)\n",
    "m2 = m2[:-4]\n",
    "#print (m1)\n",
    "    \n",
    "tree_from_snps(m2)"
   ]
  },
  {
   "cell_type": "code",
   "execution_count": null,
   "metadata": {},
   "outputs": [],
   "source": [
    "print(m1[:5])\n",
    "print(m2[:5])"
   ]
  },
  {
   "cell_type": "code",
   "execution_count": null,
   "metadata": {},
   "outputs": [],
   "source": [
    "new = m1.join(m2).fillna('N')\n",
    "new\n",
    "tree_from_snps(new)"
   ]
  },
  {
   "cell_type": "code",
   "execution_count": null,
   "metadata": {},
   "outputs": [],
   "source": [
    "def concat_snp_matrices(ref, other):\n",
    "    \"\"\"\n",
    "    join two snp matrices\n",
    "    we assume there are no private or uninformative snps in the inputs\n",
    "    if site is missing in the other matrix we assign an N there\n",
    "    discard sites that are not in ref?\n",
    "    \"\"\"\n",
    "    \n",
    "    for i,r in other.iterrows():\n",
    "        \n",
    "    return\n",
    "\n",
    "r = snpmat.set_index('pos').T\n",
    "\n",
    "concat_snp_matrices(m1, m2)"
   ]
  },
  {
   "cell_type": "code",
   "execution_count": 24,
   "metadata": {},
   "outputs": [],
   "source": [
    "treefile = trees.run_fasttree('snps.fa')"
   ]
  },
  {
   "cell_type": "markdown",
   "metadata": {},
   "source": [
    "## simulate genomes"
   ]
  },
  {
   "cell_type": "code",
   "execution_count": null,
   "metadata": {},
   "outputs": [],
   "source": [
    "ref = app.mbovis_genome\n",
    "vcf_file='/'\n",
    "cmd = 'perl /storage/btbgenie/simuG/simuG.pl \\\n",
    "     -refseq {r} \\\n",
    "     -snp_vcf {v} \\\n",
    "     -prefix output_prefix '.format(r=ref)"
   ]
  }
 ],
 "metadata": {
  "kernelspec": {
   "display_name": "Python 3",
   "language": "python",
   "name": "python3"
  },
  "language_info": {
   "codemirror_mode": {
    "name": "ipython",
    "version": 3
   },
   "file_extension": ".py",
   "mimetype": "text/x-python",
   "name": "python",
   "nbconvert_exporter": "python",
   "pygments_lexer": "ipython3",
   "version": "3.8.6"
  }
 },
 "nbformat": 4,
 "nbformat_minor": 4
}
