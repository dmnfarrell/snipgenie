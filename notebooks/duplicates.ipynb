{
 "cells": [
  {
   "cell_type": "markdown",
   "id": "4998249b-c264-4dd3-91ff-27c51ed7dba5",
   "metadata": {},
   "source": [
    "# compare duplicate runs "
   ]
  },
  {
   "cell_type": "code",
   "execution_count": 34,
   "id": "75870bcc-0d6e-4620-bf39-5c5c7db52359",
   "metadata": {},
   "outputs": [],
   "source": [
    "import sys,os,io,shutil,subprocess\n",
    "import glob\n",
    "from importlib import reload\n",
    "import numpy as np\n",
    "import pandas as pd\n",
    "pd.set_option('display.width', 200)\n",
    "import pylab as plt\n",
    "import matplotlib as mpl\n",
    "from Bio import SeqIO\n",
    "from Bio import AlignIO\n",
    "import seaborn as sns\n",
    "sys.path.append('pathogenie')\n",
    "from snipgenie import tools, aligners, app, trees, plotting\n",
    "import toytree, toyplot\n",
    "import toyplot.pdf\n",
    "import toyplot.png\n",
    "path = '/storage/btbgenie/all_ireland_results'"
   ]
  },
  {
   "cell_type": "code",
   "execution_count": null,
   "id": "53ab9283-e865-4732-bae6-eb0192a5a3ff",
   "metadata": {},
   "outputs": [],
   "source": [
    "reload(app)\n",
    "reload(aligners)\n",
    "args = {'threads':20, 'outdir': '/storage/btbgenie/dup_results', 'labelsep':'_',\n",
    "        'input':['/storage/btbgenie/mbovis_ireland/duplicates/'],\n",
    "         'species': 'Mbovis-AF212297',\n",
    "         'overwrite':True,\n",
    "         'custom_filters': True,\n",
    "         'buildtree':True}\n",
    "W = app.WorkFlow(**args)\n",
    "st = W.setup()\n",
    "W.run()"
   ]
  },
  {
   "cell_type": "code",
   "execution_count": 35,
   "id": "5ed94df4-7d75-4bcf-b74b-d414209831a5",
   "metadata": {},
   "outputs": [],
   "source": [
    "meta = pd.read_csv('/storage/btbgenie/mbovis_ireland/all_ireland_samples.csv')"
   ]
  },
  {
   "cell_type": "code",
   "execution_count": 36,
   "id": "1eaf5a1e-8282-4054-bbb1-e82c37a39e3d",
   "metadata": {},
   "outputs": [
    {
     "name": "stdout",
     "output_type": "stream",
     "text": [
      "17 17\n"
     ]
    }
   ],
   "source": [
    "dups1=meta[meta.duplicated('aliquot',keep='last')].dropna()\n",
    "dups2=meta[meta.duplicated('aliquot',keep='first')].dropna()\n",
    "print (len(dups1),len(dups2))\n",
    "#print (dups2)"
   ]
  },
  {
   "cell_type": "markdown",
   "id": "bfb5def3-77bd-4048-af9e-70fda2a3ef46",
   "metadata": {},
   "source": [
    "## combine samples into one table"
   ]
  },
  {
   "cell_type": "code",
   "execution_count": 37,
   "id": "40f7b44c-61eb-4003-b7f6-5dc452e9bf06",
   "metadata": {},
   "outputs": [
    {
     "name": "stdout",
     "output_type": "stream",
     "text": [
      "16 17\n"
     ]
    }
   ],
   "source": [
    "summ1 = pd.read_csv('/storage/btbgenie/dup_results/summary.csv')\n",
    "summ2 = pd.read_csv('/storage/btbgenie/monaghan/monaghan_results/summary.csv')\n",
    "summ2 = summ2[summ2['sample'].isin(dups1['sample'])]\n",
    "print (len(summ1),len(summ2))\n",
    "df = pd.concat([summ1,summ2])\n",
    "df['pair'] = df['sample'].apply(lambda x: x[-4:])\n",
    "df=df[df.pair!='4235']\n",
    "df = df.sort_values('pair')"
   ]
  },
  {
   "cell_type": "code",
   "execution_count": 141,
   "id": "7ab65252-dd86-4fb9-ad23-e0b5dec009e4",
   "metadata": {},
   "outputs": [
    {
     "data": {
      "text/plain": [
       "'duplicate_test/samples.txt'"
      ]
     },
     "execution_count": 141,
     "metadata": {},
     "output_type": "execute_result"
    }
   ],
   "source": [
    "app.write_samples(df,'duplicate_test')"
   ]
  },
  {
   "cell_type": "code",
   "execution_count": null,
   "id": "0356299a-596a-42ba-b0c0-600e8230886e",
   "metadata": {},
   "outputs": [],
   "source": [
    "depths=[]\n",
    "for i,r in df.iterrows():\n",
    "    print (r.bam_file)\n",
    "    c=tools.get_mean_depth(r.bam_file)\n",
    "    depths.append(c)"
   ]
  },
  {
   "cell_type": "code",
   "execution_count": 169,
   "id": "f27ec4a5-dc42-4f5d-978c-426c77842d90",
   "metadata": {},
   "outputs": [],
   "source": [
    "df['depth']=depths\n",
    "df.to_csv('duplicates.csv',index=False)"
   ]
  },
  {
   "cell_type": "markdown",
   "id": "648584cf-7f14-424b-8028-605cc3c98e1a",
   "metadata": {},
   "source": [
    "## call variants on paired duplicates"
   ]
  },
  {
   "cell_type": "code",
   "execution_count": 57,
   "id": "dffedf40-3013-4c30-9abc-8a4269b65685",
   "metadata": {},
   "outputs": [
    {
     "name": "stdout",
     "output_type": "stream",
     "text": [
      "duplicate_test/raw.bcf already exists\n",
      "calling variants..\n",
      "bcftools call --ploidy 1 -m -v -o duplicate_test/calls.vcf duplicate_test/raw.bcf\n",
      "duplicate_test/samples.txt\n",
      "bcftools reheader --samples duplicate_test/samples.txt -o /tmp/calls.vcf duplicate_test/calls.vcf\n",
      "bcftools filter -i \"QUAL>=40 && FORMAT/DP>=30 && DP4>=4\" -o duplicate_test/filtered.vcf.gz -O z duplicate_test/calls.vcf\n",
      "splitting snps and indels..\n",
      "bcftools view -v snps -o duplicate_test/snps.vcf.gz -O z duplicate_test/filtered.vcf.gz\n",
      "bcftools view -v indels -o duplicate_test/indels.vcf.gz -O z duplicate_test/filtered.vcf.gz\n",
      "consequence calling..\n",
      "bcftools csq -f /home/farrell/.config/snipgenie/genome/Mbovis_AF212297.fa -g Mbovis_AF212297.gb.gff duplicate_test/snps.vcf.gz -Ot -o duplicate_test/csq.tsv\n",
      "bcftools csq -f /home/farrell/.config/snipgenie/genome/Mbovis_AF212297.fa -g Mbovis_AF212297.gb.gff duplicate_test/indels.vcf.gz -Ot -o duplicate_test/csq_indels.tsv\n",
      "took 17.0 seconds\n",
      "found 443 sites\n",
      "23 sites with at least one missing sample\n",
      "76 uninformative sites\n",
      "raxmlHPC-PTHREADS -f a -N 100 -T 8 -m GTRCAT -V -p 34841443 -x 43885701 -n variants -w /home/farrell/gitprojects/snipgenie/notebooks/duplicate_test -s duplicate_test/core.fa\n"
     ]
    }
   ],
   "source": [
    "reload(app)\n",
    "gff_file='Mbovis_AF212297.gb.gff'\n",
    "app.run_bamfiles(df.bam_file, app.mbovis_genome, outdir='duplicate_test', threads=20, gff_file=gff_file,\n",
    "                 #custom_filters=True, mask=app.mbovis_mask,                 \n",
    "                 overwrite=False)"
   ]
  },
  {
   "cell_type": "markdown",
   "id": "d49f6590-eabb-4198-afec-1ad27e78bc60",
   "metadata": {},
   "source": [
    "## draw tree"
   ]
  },
  {
   "cell_type": "code",
   "execution_count": 356,
   "id": "282e38b3-dda0-4386-9a4a-c1b195322628",
   "metadata": {},
   "outputs": [],
   "source": [
    "tre = toytree.tree('duplicate_test/tree.newick')\n",
    "tre=tre.drop_tips(['ref','2014','TB19-002014'])\n",
    "tre=tre.root('3762')\n",
    "mapping = dict(zip(df['sample'],df.pair))\n",
    "colormap = trees.colors_from_labels(df,'sample','pair')\n",
    "tip_colors = [colormap[mapping[i]] if i in mapping else 'Black' for i in tre.get_tip_labels()]\n",
    "node_sizes=[0 if i else 8 for i in tre.get_node_values(None, 1, 0)]\n",
    "node_colors = [colormap[mapping[n]] if n in mapping else 'black' for n in tre.get_node_values('name', True, True)]\n",
    "\n",
    "canvas,t,r=tre.draw(layout='r',width=1000,height=600,scalebar=True,tip_labels_colors=tip_colors)#tip_labels=False,\n",
    "                    #node_colors=node_colors,node_sizes=node_sizes);\n",
    "toyplot.pdf.render(canvas,'duplicate_test/tree_nofilters.pdf')\n"
   ]
  },
  {
   "cell_type": "markdown",
   "id": "73be8099-f1fd-4a4d-abb6-012cbfd8d0e3",
   "metadata": {},
   "source": [
    "## read snps"
   ]
  },
  {
   "cell_type": "code",
   "execution_count": 58,
   "id": "29c34ab4-3606-4c1b-863f-b8a6f0075f13",
   "metadata": {},
   "outputs": [],
   "source": [
    "sdist = pd.read_csv('duplicate_test/snpdist.csv',index_col=0)\n",
    "#sdist.iloc[:10,:10]"
   ]
  },
  {
   "cell_type": "code",
   "execution_count": 59,
   "id": "4301c741-15cd-4e0f-8c70-80d05bf09848",
   "metadata": {},
   "outputs": [],
   "source": [
    "dists=[]\n",
    "for i,g in df.groupby('pair'):\n",
    "    s1,s2 = list(g['sample'])\n",
    "    dists.append((s1+'v'+s2,sdist.loc[s1,s2]))\n",
    "dists=pd.DataFrame(dists,columns=['pair','snps'])\n",
    "dists2=dists"
   ]
  },
  {
   "cell_type": "code",
   "execution_count": 60,
   "id": "4a168712-3312-4a51-8f69-e1916411558b",
   "metadata": {},
   "outputs": [
    {
     "data": {
      "text/html": [
       "<div>\n",
       "<style scoped>\n",
       "    .dataframe tbody tr th:only-of-type {\n",
       "        vertical-align: middle;\n",
       "    }\n",
       "\n",
       "    .dataframe tbody tr th {\n",
       "        vertical-align: top;\n",
       "    }\n",
       "\n",
       "    .dataframe thead th {\n",
       "        text-align: right;\n",
       "    }\n",
       "</style>\n",
       "<table border=\"1\" class=\"dataframe\">\n",
       "  <thead>\n",
       "    <tr style=\"text-align: right;\">\n",
       "      <th></th>\n",
       "      <th>pair</th>\n",
       "      <th>filter</th>\n",
       "      <th>no filter</th>\n",
       "    </tr>\n",
       "  </thead>\n",
       "  <tbody>\n",
       "    <tr>\n",
       "      <th>1</th>\n",
       "      <td>3260vTB19-003260</td>\n",
       "      <td>1</td>\n",
       "      <td>4</td>\n",
       "    </tr>\n",
       "    <tr>\n",
       "      <th>2</th>\n",
       "      <td>3261vTB19-003261</td>\n",
       "      <td>1</td>\n",
       "      <td>2</td>\n",
       "    </tr>\n",
       "    <tr>\n",
       "      <th>3</th>\n",
       "      <td>TB19-003263v3263</td>\n",
       "      <td>0</td>\n",
       "      <td>5</td>\n",
       "    </tr>\n",
       "    <tr>\n",
       "      <th>4</th>\n",
       "      <td>TB19-003377v3377</td>\n",
       "      <td>1</td>\n",
       "      <td>2</td>\n",
       "    </tr>\n",
       "    <tr>\n",
       "      <th>5</th>\n",
       "      <td>TB19-003437v3437</td>\n",
       "      <td>0</td>\n",
       "      <td>0</td>\n",
       "    </tr>\n",
       "    <tr>\n",
       "      <th>6</th>\n",
       "      <td>TB19-003738v3738</td>\n",
       "      <td>2</td>\n",
       "      <td>2</td>\n",
       "    </tr>\n",
       "    <tr>\n",
       "      <th>7</th>\n",
       "      <td>TB19-003747v3747</td>\n",
       "      <td>2</td>\n",
       "      <td>2</td>\n",
       "    </tr>\n",
       "    <tr>\n",
       "      <th>8</th>\n",
       "      <td>3762vTB19-003762</td>\n",
       "      <td>3</td>\n",
       "      <td>4</td>\n",
       "    </tr>\n",
       "    <tr>\n",
       "      <th>9</th>\n",
       "      <td>3825vTB19-003825</td>\n",
       "      <td>1</td>\n",
       "      <td>1</td>\n",
       "    </tr>\n",
       "    <tr>\n",
       "      <th>10</th>\n",
       "      <td>4238vTB19-004238</td>\n",
       "      <td>0</td>\n",
       "      <td>0</td>\n",
       "    </tr>\n",
       "    <tr>\n",
       "      <th>11</th>\n",
       "      <td>5220vTB19-005220</td>\n",
       "      <td>1</td>\n",
       "      <td>2</td>\n",
       "    </tr>\n",
       "    <tr>\n",
       "      <th>12</th>\n",
       "      <td>19-6246vTB19-006246</td>\n",
       "      <td>1</td>\n",
       "      <td>1</td>\n",
       "    </tr>\n",
       "    <tr>\n",
       "      <th>13</th>\n",
       "      <td>19-6656vTB19-006656</td>\n",
       "      <td>1</td>\n",
       "      <td>2</td>\n",
       "    </tr>\n",
       "    <tr>\n",
       "      <th>14</th>\n",
       "      <td>19-6784vTB19-006784</td>\n",
       "      <td>0</td>\n",
       "      <td>5</td>\n",
       "    </tr>\n",
       "    <tr>\n",
       "      <th>15</th>\n",
       "      <td>19-7328vTB19-007328</td>\n",
       "      <td>0</td>\n",
       "      <td>3</td>\n",
       "    </tr>\n",
       "  </tbody>\n",
       "</table>\n",
       "</div>"
      ],
      "text/plain": [
       "                   pair  filter  no filter\n",
       "1      3260vTB19-003260       1          4\n",
       "2      3261vTB19-003261       1          2\n",
       "3      TB19-003263v3263       0          5\n",
       "4      TB19-003377v3377       1          2\n",
       "5      TB19-003437v3437       0          0\n",
       "6      TB19-003738v3738       2          2\n",
       "7      TB19-003747v3747       2          2\n",
       "8      3762vTB19-003762       3          4\n",
       "9      3825vTB19-003825       1          1\n",
       "10     4238vTB19-004238       0          0\n",
       "11     5220vTB19-005220       1          2\n",
       "12  19-6246vTB19-006246       1          1\n",
       "13  19-6656vTB19-006656       1          2\n",
       "14  19-6784vTB19-006784       0          5\n",
       "15  19-7328vTB19-007328       0          3"
      ]
     },
     "execution_count": 60,
     "metadata": {},
     "output_type": "execute_result"
    }
   ],
   "source": [
    "x=dists1.merge(dists2,on='pair')[1:]\n",
    "x.columns=['pair','filter','no filter']\n",
    "x"
   ]
  },
  {
   "cell_type": "code",
   "execution_count": 61,
   "id": "27d25c2c-5b33-4c90-9795-9fe7bde131a2",
   "metadata": {},
   "outputs": [
    {
     "data": {
      "image/png": "[encoded data removed]",
      "text/plain": [
       "<Figure size 720x432 with 1 Axes>"
      ]
     },
     "metadata": {
      "needs_background": "light"
     },
     "output_type": "display_data"
    }
   ],
   "source": [
    "#sns.set_context('talk')\n",
    "x.plot(x='pair',kind='barh',width=.6,figsize=(10,6))\n",
    "plt.xlabel('snp distance')\n",
    "sns.despine()\n",
    "plt.tight_layout()\n",
    "plt.savefig('snp_duplicates_dists.jpg',dpi=120)"
   ]
  },
  {
   "cell_type": "code",
   "execution_count": 62,
   "id": "b1df63fd-220d-4962-9a34-31706efd050c",
   "metadata": {},
   "outputs": [],
   "source": [
    "csqmat = pd.read_csv('duplicate_test/csq.matrix')"
   ]
  },
  {
   "cell_type": "code",
   "execution_count": 63,
   "id": "fc2937c2-5dae-406b-bcdd-78bbbd63519d",
   "metadata": {},
   "outputs": [
    {
     "name": "stdout",
     "output_type": "stream",
     "text": [
      "       start            gene         aa    snp_type  TB19-002014  2014\n",
      "33    333420       PE_PGRS3a       338G  synonymous            1     0\n",
      "89    928976       PE_PGRS14       753A  synonymous            0     1\n",
      "194  2246064  BQ2027_MB2038c  112A>112G    missense            1     0\n",
      "287  3499469   BQ2027_MB3194  190A>190G    missense            1     0\n",
      "       start       gene           aa    snp_type  3260  TB19-003260\n",
      "140  1619153  PE_PGRS26         423G  synonymous     1            0\n",
      "144  1637867  PE_PGRS28         506G  synonymous     1            0\n",
      "145  1637870  PE_PGRS28         505G  synonymous     1            0\n",
      "185  2158436      PPE34        1640V  synonymous     0            1\n",
      "187  2158441      PPE34  1639P>1639A    missense     0            1\n",
      "188  2158443      PPE34  1638S>1638N    missense     0            1\n",
      "       start       gene         aa    snp_type  3261  TB19-003261\n",
      "186  2158439      PPE34      1639P  synonymous     0            1\n",
      "271  3229680       ppsE  320H>320R    missense     1            0\n",
      "325  4036120  PE_PGRS61  178G>178R    missense     1            0\n",
      "       start            gene           aa    snp_type  TB19-003263  3263\n",
      "185  2158436           PPE34        1640V  synonymous            1     0\n",
      "187  2158441           PPE34  1639P>1639A    missense            1     0\n",
      "188  2158443           PPE34  1638S>1638N    missense            1     0\n",
      "189  2158445           PPE34        1637T  synonymous            1     0\n",
      "194  2246064  BQ2027_MB2038c    112A>112G    missense            0     1\n",
      "       start            gene         aa    snp_type  TB19-003377  3377\n",
      "33    333420       PE_PGRS3a       338G  synonymous            1     0\n",
      "89    928976       PE_PGRS14       753A  synonymous            0     1\n",
      "194  2246064  BQ2027_MB2038c  112A>112G    missense            1     0\n",
      "227  2665998       PE_PGRS41  239N>239K    missense            0     1\n",
      "316  3883512       PE_PGRS54       845G  synonymous            0     1\n",
      "325  4036120       PE_PGRS61  178G>178R    missense            0     1\n",
      "       start            gene         aa    snp_type  TB19-003437  3437\n",
      "33    333420       PE_PGRS3a       338G  synonymous            1     0\n",
      "88    928086       PE_PGRS13       632G  synonymous            0     1\n",
      "140  1619153       PE_PGRS26       423G  synonymous            0     1\n",
      "145  1637870       PE_PGRS28       505G  synonymous            1     0\n",
      "167  1993030  BQ2027_MB1794c  112A>112G    missense            0     1\n",
      "227  2665998       PE_PGRS41  239N>239K    missense            0     1\n",
      "252  2894052       PE_PGRS44  215A>215S    missense            0     1\n",
      "296  3696698      PE_PGRS50b  803A>803D    missense            0     1\n",
      "325  4036120       PE_PGRS61  178G>178R    missense            0     1\n",
      "       start           gene         aa    snp_type  TB19-003738  3738\n",
      "30    252261           pckA    95D>95G    missense            1     0\n",
      "33    333420      PE_PGRS3a       338G  synonymous            1     0\n",
      "81    839308       PE_PGRS9  595N>595S    missense            0     1\n",
      "144  1637867      PE_PGRS28       506G  synonymous            0     1\n",
      "145  1637870      PE_PGRS28       505G  synonymous            0     1\n",
      "287  3499469  BQ2027_MB3194  190A>190G    missense            1     0\n",
      "316  3883512      PE_PGRS54       845G  synonymous            0     1\n",
      "325  4036120      PE_PGRS61  178G>178R    missense            0     1\n",
      "       start           gene         aa    snp_type  TB19-003747  3747\n",
      "33    333420      PE_PGRS3a       338G  synonymous            1     0\n",
      "227  2665998      PE_PGRS41  239N>239K    missense            0     1\n",
      "287  3499469  BQ2027_MB3194  190A>190G    missense            1     0\n",
      "288  3499480  BQ2027_MB3194  194A>194P    missense            1     0\n",
      "316  3883512      PE_PGRS54       845G  synonymous            0     1\n",
      "325  4036120      PE_PGRS61  178G>178R    missense            1     0\n",
      "       start           gene         aa    snp_type  3762  TB19-003762\n",
      "89    928976      PE_PGRS14       753A  synonymous     1            0\n",
      "287  3499469  BQ2027_MB3194  190A>190G    missense     0            1\n",
      "288  3499480  BQ2027_MB3194  194A>194P    missense     0            1\n",
      "316  3883512      PE_PGRS54       845G  synonymous     0            1\n",
      "       start            gene         aa    snp_type  3825  TB19-003825\n",
      "33    333420       PE_PGRS3a       338G  synonymous     0            1\n",
      "167  1993030  BQ2027_MB1794c  112A>112G    missense     0            1\n",
      "227  2665998       PE_PGRS41  239N>239K    missense     1            0\n",
      "316  3883512       PE_PGRS54       845G  synonymous     1            0\n",
      "325  4036120       PE_PGRS61  178G>178R    missense     1            0\n",
      "     start       gene    aa    snp_type  5220  TB19-005220\n",
      "33  333420  PE_PGRS3a  338G  synonymous     0            1\n",
      "89  928976  PE_PGRS14  753A  synonymous     1            0\n",
      "       start            gene         aa    snp_type  19-6246  TB19-006246\n",
      "194  2246064  BQ2027_MB2038c  112A>112G    missense        1            0\n",
      "288  3499480   BQ2027_MB3194  194A>194P    missense        1            0\n",
      "316  3883512       PE_PGRS54       845G  synonymous        0            1\n",
      "       start           gene         aa    snp_type  19-6656  TB19-006656\n",
      "220  2531719         cyp121       202L  synonymous        0            1\n",
      "288  3499480  BQ2027_MB3194  194A>194P    missense        1            0\n",
      "316  3883512      PE_PGRS54       845G  synonymous        0            1\n",
      "       start            gene           aa    snp_type  19-6784  TB19-006784\n",
      "167  1993030  BQ2027_MB1794c    112A>112G    missense        1            0\n",
      "185  2158436           PPE34        1640V  synonymous        0            1\n",
      "187  2158441           PPE34  1639P>1639A    missense        0            1\n",
      "188  2158443           PPE34  1638S>1638N    missense        0            1\n",
      "189  2158445           PPE34        1637T  synonymous        0            1\n",
      "194  2246064  BQ2027_MB2038c    112A>112G    missense        1            0\n",
      "       start            gene           aa    snp_type  19-7328  TB19-007328\n",
      "33    333420       PE_PGRS3a         338G  synonymous        1            0\n",
      "187  2158441           PPE34  1639P>1639A    missense        0            1\n",
      "188  2158443           PPE34  1638S>1638N    missense        0            1\n",
      "189  2158445           PPE34        1637T  synonymous        0            1\n",
      "194  2246064  BQ2027_MB2038c    112A>112G    missense        1            0\n",
      "316  3883512       PE_PGRS54         845G  synonymous        0            1\n"
     ]
    }
   ],
   "source": [
    "dupsnps=[]\n",
    "for i,g in df.groupby('pair'):\n",
    "    c = list(g['sample'])   \n",
    "    s= csqmat[c]\n",
    "    s = s[s[c[0]]!=s[c[1]]]\n",
    "    if len(s)==0:\n",
    "        continue\n",
    "    found = csqmat.loc[s.index]\n",
    "    found['samples'] = 'v'.join(c)\n",
    "    dupsnps.append(found)\n",
    "    print (found[list(csqmat.columns[:4])+c])\n",
    "    \n",
    "dupsnps=pd.concat(dupsnps)"
   ]
  },
  {
   "cell_type": "code",
   "execution_count": 64,
   "id": "ea83eebd-c574-4a7b-a292-f481f6f935a5",
   "metadata": {},
   "outputs": [
    {
     "data": {
      "text/html": [
       "<div>\n",
       "<style scoped>\n",
       "    .dataframe tbody tr th:only-of-type {\n",
       "        vertical-align: middle;\n",
       "    }\n",
       "\n",
       "    .dataframe tbody tr th {\n",
       "        vertical-align: top;\n",
       "    }\n",
       "\n",
       "    .dataframe thead th {\n",
       "        text-align: right;\n",
       "    }\n",
       "</style>\n",
       "<table border=\"1\" class=\"dataframe\">\n",
       "  <thead>\n",
       "    <tr style=\"text-align: right;\">\n",
       "      <th></th>\n",
       "      <th>start</th>\n",
       "      <th>gene</th>\n",
       "      <th>aa</th>\n",
       "      <th>snp_type</th>\n",
       "      <th>samples</th>\n",
       "    </tr>\n",
       "  </thead>\n",
       "  <tbody>\n",
       "    <tr>\n",
       "      <th>30</th>\n",
       "      <td>252261</td>\n",
       "      <td>pckA</td>\n",
       "      <td>95D&gt;95G</td>\n",
       "      <td>missense</td>\n",
       "      <td>TB19-003738v3738</td>\n",
       "    </tr>\n",
       "    <tr>\n",
       "      <th>33</th>\n",
       "      <td>333420</td>\n",
       "      <td>PE_PGRS3a</td>\n",
       "      <td>338G</td>\n",
       "      <td>synonymous</td>\n",
       "      <td>TB19-002014v2014</td>\n",
       "    </tr>\n",
       "    <tr>\n",
       "      <th>33</th>\n",
       "      <td>333420</td>\n",
       "      <td>PE_PGRS3a</td>\n",
       "      <td>338G</td>\n",
       "      <td>synonymous</td>\n",
       "      <td>TB19-003437v3437</td>\n",
       "    </tr>\n",
       "    <tr>\n",
       "      <th>33</th>\n",
       "      <td>333420</td>\n",
       "      <td>PE_PGRS3a</td>\n",
       "      <td>338G</td>\n",
       "      <td>synonymous</td>\n",
       "      <td>TB19-003738v3738</td>\n",
       "    </tr>\n",
       "    <tr>\n",
       "      <th>33</th>\n",
       "      <td>333420</td>\n",
       "      <td>PE_PGRS3a</td>\n",
       "      <td>338G</td>\n",
       "      <td>synonymous</td>\n",
       "      <td>TB19-003377v3377</td>\n",
       "    </tr>\n",
       "    <tr>\n",
       "      <th>...</th>\n",
       "      <td>...</td>\n",
       "      <td>...</td>\n",
       "      <td>...</td>\n",
       "      <td>...</td>\n",
       "      <td>...</td>\n",
       "    </tr>\n",
       "    <tr>\n",
       "      <th>325</th>\n",
       "      <td>4036120</td>\n",
       "      <td>PE_PGRS61</td>\n",
       "      <td>178G&gt;178R</td>\n",
       "      <td>missense</td>\n",
       "      <td>3261vTB19-003261</td>\n",
       "    </tr>\n",
       "    <tr>\n",
       "      <th>325</th>\n",
       "      <td>4036120</td>\n",
       "      <td>PE_PGRS61</td>\n",
       "      <td>178G&gt;178R</td>\n",
       "      <td>missense</td>\n",
       "      <td>TB19-003437v3437</td>\n",
       "    </tr>\n",
       "    <tr>\n",
       "      <th>325</th>\n",
       "      <td>4036120</td>\n",
       "      <td>PE_PGRS61</td>\n",
       "      <td>178G&gt;178R</td>\n",
       "      <td>missense</td>\n",
       "      <td>TB19-003747v3747</td>\n",
       "    </tr>\n",
       "    <tr>\n",
       "      <th>325</th>\n",
       "      <td>4036120</td>\n",
       "      <td>PE_PGRS61</td>\n",
       "      <td>178G&gt;178R</td>\n",
       "      <td>missense</td>\n",
       "      <td>TB19-003377v3377</td>\n",
       "    </tr>\n",
       "    <tr>\n",
       "      <th>325</th>\n",
       "      <td>4036120</td>\n",
       "      <td>PE_PGRS61</td>\n",
       "      <td>178G&gt;178R</td>\n",
       "      <td>missense</td>\n",
       "      <td>3825vTB19-003825</td>\n",
       "    </tr>\n",
       "  </tbody>\n",
       "</table>\n",
       "<p>76 rows × 5 columns</p>\n",
       "</div>"
      ],
      "text/plain": [
       "       start       gene         aa    snp_type           samples\n",
       "30    252261       pckA    95D>95G    missense  TB19-003738v3738\n",
       "33    333420  PE_PGRS3a       338G  synonymous  TB19-002014v2014\n",
       "33    333420  PE_PGRS3a       338G  synonymous  TB19-003437v3437\n",
       "33    333420  PE_PGRS3a       338G  synonymous  TB19-003738v3738\n",
       "33    333420  PE_PGRS3a       338G  synonymous  TB19-003377v3377\n",
       "..       ...        ...        ...         ...               ...\n",
       "325  4036120  PE_PGRS61  178G>178R    missense  3261vTB19-003261\n",
       "325  4036120  PE_PGRS61  178G>178R    missense  TB19-003437v3437\n",
       "325  4036120  PE_PGRS61  178G>178R    missense  TB19-003747v3747\n",
       "325  4036120  PE_PGRS61  178G>178R    missense  TB19-003377v3377\n",
       "325  4036120  PE_PGRS61  178G>178R    missense  3825vTB19-003825\n",
       "\n",
       "[76 rows x 5 columns]"
      ]
     },
     "execution_count": 64,
     "metadata": {},
     "output_type": "execute_result"
    }
   ],
   "source": [
    "cols=list(csqmat.columns[:4])+['samples']\n",
    "dupsnps[cols].sort_values('start')"
   ]
  },
  {
   "cell_type": "code",
   "execution_count": null,
   "id": "c0f7da33-8ce7-4be8-aeb8-c764620ff4c4",
   "metadata": {},
   "outputs": [],
   "source": []
  }
 ],
 "metadata": {
  "kernelspec": {
   "display_name": "Python 3",
   "language": "python",
   "name": "python3"
  },
  "language_info": {
   "codemirror_mode": {
    "name": "ipython",
    "version": 3
   },
   "file_extension": ".py",
   "mimetype": "text/x-python",
   "name": "python",
   "nbconvert_exporter": "python",
   "pygments_lexer": "ipython3",
   "version": "3.9.5"
  }
 },
 "nbformat": 4,
 "nbformat_minor": 5
}
