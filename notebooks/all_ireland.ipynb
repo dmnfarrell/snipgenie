{
 "cells": [
  {
   "cell_type": "markdown",
   "metadata": {},
   "source": [
    "# All Ireland M.bovis strain diversity and clade identification"
   ]
  },
  {
   "cell_type": "code",
   "execution_count": 1,
   "metadata": {},
   "outputs": [],
   "source": [
    "import sys,os,io,shutil,subprocess\n",
    "import glob\n",
    "from importlib import reload\n",
    "import numpy as np\n",
    "import pandas as pd\n",
    "pd.set_option('display.width', 200)\n",
    "import pylab as plt\n",
    "import matplotlib as mpl\n",
    "from Bio import SeqIO\n",
    "import seaborn as sns\n",
    "sys.path.append('pathogenie')\n",
    "from snipgenie import tools, aligners, app, trees, plotting\n",
    "import toytree, toyplot\n",
    "import toyplot.pdf\n",
    "path = '/storage/btbgenie/all_ireland_results'"
   ]
  },
  {
   "cell_type": "markdown",
   "metadata": {},
   "source": [
    "## get meta data"
   ]
  },
  {
   "cell_type": "code",
   "execution_count": 2,
   "metadata": {},
   "outputs": [
    {
     "name": "stdout",
     "output_type": "stream",
     "text": [
      "583\n"
     ]
    }
   ],
   "source": [
    "meta = pd.read_csv('/storage/btbgenie/mbovis_ireland/all_ireland_samples.csv')\n",
    "print (len(meta))"
   ]
  },
  {
   "cell_type": "code",
   "execution_count": null,
   "metadata": {},
   "outputs": [],
   "source": [
    "dups=meta[meta.duplicated('aliquot')].dropna()\n",
    "#print (dups)\n",
    "for i,r in dups.iterrows():\n",
    "    print (meta[meta.aliquot== r.aliquot])\n",
    "#meta[(meta.batch.isin([2,3,4])) & (~meta.aliquot.isin(dups.aliquot)) & (meta.county=='Monaghan')]"
   ]
  },
  {
   "cell_type": "markdown",
   "metadata": {},
   "source": [
    "## run NI"
   ]
  },
  {
   "cell_type": "code",
   "execution_count": null,
   "metadata": {},
   "outputs": [],
   "source": [
    "reload(app)\n",
    "args = {'threads':20, 'outdir': '/storage/btbgenie/NI_results', 'labelsep':'_',\n",
    "        'input':['/storage/btbgenie/mbovis_ireland/NI'],\n",
    "         'species': 'Mbovis-AF212297',\n",
    "         'overwrite':False,\n",
    "         'custom_filters': True,       \n",
    "         'buildtree':True}\n",
    "W = app.WorkFlow(**args)\n",
    "st = W.setup()\n",
    "W.run()"
   ]
  },
  {
   "cell_type": "markdown",
   "metadata": {},
   "source": [
    "## misc 2021 samples"
   ]
  },
  {
   "cell_type": "code",
   "execution_count": null,
   "metadata": {},
   "outputs": [],
   "source": [
    "args = {'threads':20, 'outdir': '/storage/btbgenie/misc_results', 'labelsep':'_',\n",
    "        'input':['/storage/btbgenie/mbovis_ireland/Misc'],\n",
    "         'species': 'Mbovis-AF212297',\n",
    "         'overwrite':False,\n",
    "         'custom_filters': True,\n",
    "         'buildtree':True}\n",
    "W = app.WorkFlow(**args)\n",
    "st = W.setup()\n",
    "W.run()"
   ]
  },
  {
   "cell_type": "code",
   "execution_count": null,
   "metadata": {},
   "outputs": [],
   "source": [
    "reload(app)\n",
    "mask='/home/farrell/gitprojects/snipgenie/snipgenie/data/Mbovis_AF212297_mask.bed'\n",
    "vcf_file='/storage/btbgenie/misc_results/snps.vcf.gz'\n",
    "app.mask_filter(vcf_file, mask)"
   ]
  },
  {
   "cell_type": "code",
   "execution_count": 244,
   "metadata": {},
   "outputs": [
    {
     "name": "stdout",
     "output_type": "stream",
     "text": [
      "         sample                           name                                           bam_file  read_length\n",
      "25  TB19-004280  TB19-004280_S68_L001-4_R2_001  /storage/btbgenie/misc_results/mapped/TB19-004...          149\n",
      "48  TB19-005887  TB19-005887_S29_L001-4_R2_001  /storage/btbgenie/misc_results/mapped/TB19-005...          150\n",
      "65 2 61\n"
     ]
    }
   ],
   "source": [
    "present=pd.read_csv('/storage/btbgenie/misc_results/summary.csv')\n",
    "present['sample']=present['sample'].astype(str)\n",
    "#print (present[:10])\n",
    "l=list(W.fastq_table['sample'].unique())\n",
    "\n",
    "s=meta[meta.batch>=3].sort_values(by='sample')\n",
    "#s['label'] = s['sample'].apply(lambda x : x.split('-')[1][-4:]).astype(str)\n",
    "#s=s.sort_values('label')\n",
    "\n",
    "p = present[~present['sample'].isin(s['sample'])]\n",
    "#p = (s[s['label'].isin(l)])\n",
    "print (p)\n",
    "print (len(s),len(p), len(present))"
   ]
  },
  {
   "cell_type": "code",
   "execution_count": 284,
   "metadata": {},
   "outputs": [],
   "source": [
    "reload(trees)\n",
    "spo=pd.read_csv('/storage/btbgenie/all_ireland_results/misc_spoligotypes.csv')\n",
    "treefile = '/storage/btbgenie/misc_results/tree.newick'\n",
    "tre = toytree.tree(treefile)\n",
    "tipnames = tre.get_tip_labels()\n",
    "mapping = dict(zip(meta['sample'],meta.county))\n",
    "colormap = trees.colors_from_labels(meta,'name','county')\n",
    "tip_colors = [colormap[mapping[i]] if i in mapping else 'Black' for i in tipnames]\n",
    "\n",
    "canvas,t,r=tre.draw(layout='r',width=1000,height=1000,tip_labels_colors=tip_colors,\n",
    "                    scalebar=True,);\n",
    "toyplot.pdf.render(canvas,'/storage/btbgenie/all_ireland_results/misc_samples_tree.pdf')"
   ]
  },
  {
   "cell_type": "markdown",
   "metadata": {},
   "source": [
    "## run CVRL samples"
   ]
  },
  {
   "cell_type": "code",
   "execution_count": null,
   "metadata": {},
   "outputs": [],
   "source": [
    "args = {'threads':20, 'outdir': '/storage/btbgenie/cvrl_results', 'labelsep':'_',\n",
    "        'input':['/storage/btbgenie/mbovis_ireland/CVRL'],\n",
    "         'species': 'Mbovis-AF212297',\n",
    "         'overwrite':False,\n",
    "         'custom_filters': True,\n",
    "         'buildtree':True}\n",
    "W = app.WorkFlow(**args)\n",
    "st = W.setup()\n",
    "W.run()"
   ]
  },
  {
   "cell_type": "code",
   "execution_count": null,
   "metadata": {},
   "outputs": [],
   "source": [
    "reload(trees)\n",
    "spo=pd.read_csv('/storage/btbgenie/all_ireland_results/cvrl_spoligotypes.csv')\n",
    "treefile = '/storage/btbgenie/cvrl_results/tree.newick'\n",
    "tre = toytree.tree(treefile)\n",
    "tipnames = tre.get_tip_labels()\n",
    "mapping = dict(zip(meta['sample'],meta.county))\n",
    "colormap = trees.colors_from_labels(meta,'name','county')\n",
    "tip_colors = [colormap[mapping[i]] if i in mapping else 'Black' for i in tipnames]\n",
    "\n",
    "canvas,t,r=tre.draw(layout='r',width=1000,height=1400,tip_labels_colors=tip_colors,\n",
    "                    scalebar=True,);"
   ]
  },
  {
   "cell_type": "markdown",
   "metadata": {},
   "source": [
    "## integrate previously aligned bam files together and call variants\n",
    "\n",
    "This allows us to join previously mapped results together in one call without re-aligning"
   ]
  },
  {
   "cell_type": "code",
   "execution_count": 4,
   "metadata": {},
   "outputs": [
    {
     "name": "stdout",
     "output_type": "stream",
     "text": [
      "531\n"
     ]
    },
    {
     "data": {
      "text/plain": [
       "'/storage/btbgenie/all_ireland_results/samples.txt'"
      ]
     },
     "execution_count": 4,
     "metadata": {},
     "output_type": "execute_result"
    }
   ],
   "source": [
    "#read in bam files\n",
    "mapped = {'wicklow':'/storage/btbgenie/wicklow_results/mapped/',\n",
    "          'cvrl':'/storage/btbgenie/cvrl_results/mapped/',\n",
    "          'misc':'/storage/btbgenie/misc_results/mapped/',\n",
    "          'monaghan':'/storage/btbgenie/monaghan/monaghan_results/mapped/',\n",
    "          'NI':'/storage/btbgenie/NI_results/','UK':'/storage/btbgenie/UK_results/mapped'}\n",
    "reload(app)\n",
    "bam_files=[]\n",
    "for m in mapped:\n",
    "    f=app.get_files_from_paths(mapped[m], '*.bam')\n",
    "    bam_files.extend(f)\n",
    "print (len(bam_files))\n",
    "\n",
    "outdir='/storage/btbgenie/all_ireland_results'\n",
    "df = app.get_samples(bam_files,sep='_')\n",
    "app.write_samples(df, outdir)"
   ]
  },
  {
   "cell_type": "markdown",
   "metadata": {},
   "source": [
    "## run previously aligned files"
   ]
  },
  {
   "cell_type": "code",
   "execution_count": null,
   "metadata": {},
   "outputs": [],
   "source": [
    "gff_file=os.path.join(outdir,'mbovis.gff')\n",
    "tools.gff_bcftools_format(app.mbovis_gb, gff_file)\n",
    "app.run_bamfiles(bam_files, app.mbovis_genome, outdir='/storage/btbgenie/all_ireland_results', threads=20,\n",
    "                 mask=app.mbovis_mask, gff_file=gff_file,\n",
    "                 custom_filters=True, overwrite=False)"
   ]
  },
  {
   "cell_type": "markdown",
   "metadata": {},
   "source": [
    "## spoligotypes of all samples"
   ]
  },
  {
   "cell_type": "code",
   "execution_count": 3,
   "metadata": {},
   "outputs": [
    {
     "name": "stdout",
     "output_type": "stream",
     "text": [
      "47\n",
      "175\n",
      "205\n",
      "31\n"
     ]
    }
   ],
   "source": [
    "paths = {'Wicklow':'/storage/btbgenie/mbovis_ireland/Wicklow','Monaghan':'/storage/btbgenie/mbovis_ireland/Monaghan/',\n",
    "         'cvrl':'/storage/btbgenie/mbovis_ireland/CVRL',\n",
    "         'NI':'/storage/btbgenie/mbovis_ireland/NI/'}\n",
    "samples = []\n",
    "#paths = {'misc':'/storage/btbgenie/mbovis_ireland/Jun21/'}\n",
    "for p in paths:\n",
    "    f = app.get_files_from_paths(paths[p])   \n",
    "    df = app.get_samples(f,sep='_')\n",
    "    print (len(df['sample'].unique()))\n",
    "    df=df.drop_duplicates('sample')   \n",
    "    df['county'] = p   \n",
    "    samples.append(df)\n",
    "\n",
    "samples = pd.concat(samples)"
   ]
  },
  {
   "cell_type": "code",
   "execution_count": null,
   "metadata": {},
   "outputs": [],
   "source": [
    "reload(tools)\n",
    "res=[]\n",
    "for i,r in samples.iterrows():\n",
    "    f=r.filename\n",
    "    samp=r['sample']\n",
    "    b = tools.get_spoligotype(f,1e6)\n",
    "    sb = tools.get_sb_number(b)\n",
    "    print (f,samp,sb, b)\n",
    "    res.append([f,samp,sb,b])\n",
    "    \n",
    "res = pd.DataFrame(res,columns=['filename','sample','SB','code'])\n",
    "res.code.astype(object)\n",
    "#res.to_csv('/storage/btbgenie/all_ireland_results/spoligotypes.csv',index=False)"
   ]
  },
  {
   "cell_type": "markdown",
   "metadata": {},
   "source": [
    "## clusters"
   ]
  },
  {
   "cell_type": "code",
   "execution_count": 4,
   "metadata": {},
   "outputs": [
    {
     "name": "stdout",
     "output_type": "stream",
     "text": [
      "TreeCluster.py  -i /storage/btbgenie/all_ireland_results/tree.newick -t 100\n"
     ]
    },
    {
     "data": {
      "text/plain": [
       " 8     102\n",
       " 19     90\n",
       " 5      70\n",
       " 15     66\n",
       " 11     49\n",
       " 21     41\n",
       " 2      40\n",
       " 18     13\n",
       " 9       8\n",
       "-1       8\n",
       " 4       7\n",
       " 6       5\n",
       " 14      5\n",
       " 10      4\n",
       " 1       4\n",
       " 16      4\n",
       " 7       3\n",
       " 3       3\n",
       " 12      2\n",
       " 13      2\n",
       " 17      2\n",
       " 20      2\n",
       "Name: ClusterNumber, dtype: int64"
      ]
     },
     "execution_count": 4,
     "metadata": {},
     "output_type": "execute_result"
    }
   ],
   "source": [
    "clust = trees.run_tree_cluster('/storage/btbgenie/all_ireland_results/tree.newick',dist=100)\n",
    "#clust = pd.read_csv('monaghan_results/clusters.txt',sep='\\t')\n",
    "clust.ClusterNumber.value_counts()"
   ]
  },
  {
   "cell_type": "code",
   "execution_count": 21,
   "metadata": {},
   "outputs": [
    {
     "data": {
      "text/html": [
       "<div>\n",
       "<style scoped>\n",
       "    .dataframe tbody tr th:only-of-type {\n",
       "        vertical-align: middle;\n",
       "    }\n",
       "\n",
       "    .dataframe tbody tr th {\n",
       "        vertical-align: top;\n",
       "    }\n",
       "\n",
       "    .dataframe thead th {\n",
       "        text-align: right;\n",
       "    }\n",
       "</style>\n",
       "<table border=\"1\" class=\"dataframe\">\n",
       "  <thead>\n",
       "    <tr style=\"text-align: right;\">\n",
       "      <th></th>\n",
       "      <th>sample</th>\n",
       "      <th>county</th>\n",
       "      <th>species</th>\n",
       "      <th>source</th>\n",
       "      <th>batch</th>\n",
       "      <th>aliquot</th>\n",
       "      <th>county1</th>\n",
       "      <th>county2</th>\n",
       "    </tr>\n",
       "  </thead>\n",
       "  <tbody>\n",
       "    <tr>\n",
       "      <th>0</th>\n",
       "      <td>ERR125617</td>\n",
       "      <td>NI</td>\n",
       "      <td>Cow</td>\n",
       "      <td>Other</td>\n",
       "      <td>NaN</td>\n",
       "      <td>NaN</td>\n",
       "      <td>NI</td>\n",
       "      <td>Other</td>\n",
       "    </tr>\n",
       "    <tr>\n",
       "      <th>1</th>\n",
       "      <td>ERR125622</td>\n",
       "      <td>NI</td>\n",
       "      <td>Cow</td>\n",
       "      <td>Other</td>\n",
       "      <td>NaN</td>\n",
       "      <td>NaN</td>\n",
       "      <td>NI</td>\n",
       "      <td>Other</td>\n",
       "    </tr>\n",
       "    <tr>\n",
       "      <th>2</th>\n",
       "      <td>ERR125598</td>\n",
       "      <td>NI</td>\n",
       "      <td>Cow</td>\n",
       "      <td>Other</td>\n",
       "      <td>NaN</td>\n",
       "      <td>NaN</td>\n",
       "      <td>NI</td>\n",
       "      <td>Other</td>\n",
       "    </tr>\n",
       "    <tr>\n",
       "      <th>3</th>\n",
       "      <td>ERR125612</td>\n",
       "      <td>NI</td>\n",
       "      <td>Cow</td>\n",
       "      <td>Other</td>\n",
       "      <td>NaN</td>\n",
       "      <td>NaN</td>\n",
       "      <td>NI</td>\n",
       "      <td>Other</td>\n",
       "    </tr>\n",
       "    <tr>\n",
       "      <th>4</th>\n",
       "      <td>ERR125603</td>\n",
       "      <td>NI</td>\n",
       "      <td>Cow</td>\n",
       "      <td>Other</td>\n",
       "      <td>NaN</td>\n",
       "      <td>NaN</td>\n",
       "      <td>NI</td>\n",
       "      <td>Other</td>\n",
       "    </tr>\n",
       "    <tr>\n",
       "      <th>...</th>\n",
       "      <td>...</td>\n",
       "      <td>...</td>\n",
       "      <td>...</td>\n",
       "      <td>...</td>\n",
       "      <td>...</td>\n",
       "      <td>...</td>\n",
       "      <td>...</td>\n",
       "      <td>...</td>\n",
       "    </tr>\n",
       "    <tr>\n",
       "      <th>578</th>\n",
       "      <td>TB20-002325</td>\n",
       "      <td>Sligo</td>\n",
       "      <td>Cow</td>\n",
       "      <td>Kevin</td>\n",
       "      <td>5.0</td>\n",
       "      <td>TB20-002325</td>\n",
       "      <td>Other</td>\n",
       "      <td>Other</td>\n",
       "    </tr>\n",
       "    <tr>\n",
       "      <th>579</th>\n",
       "      <td>TB20-001479</td>\n",
       "      <td>Tipperary</td>\n",
       "      <td>Cow</td>\n",
       "      <td>Kevin</td>\n",
       "      <td>5.0</td>\n",
       "      <td>TB20-001479</td>\n",
       "      <td>Other</td>\n",
       "      <td>Other</td>\n",
       "    </tr>\n",
       "    <tr>\n",
       "      <th>580</th>\n",
       "      <td>TB20-000369</td>\n",
       "      <td>Tipperary</td>\n",
       "      <td>Cow</td>\n",
       "      <td>Kevin</td>\n",
       "      <td>5.0</td>\n",
       "      <td>TB20-000369</td>\n",
       "      <td>Other</td>\n",
       "      <td>Other</td>\n",
       "    </tr>\n",
       "    <tr>\n",
       "      <th>581</th>\n",
       "      <td>TB20-001068</td>\n",
       "      <td>Westmeath</td>\n",
       "      <td>Cow</td>\n",
       "      <td>Kevin</td>\n",
       "      <td>5.0</td>\n",
       "      <td>TB20-001068</td>\n",
       "      <td>Other</td>\n",
       "      <td>Other</td>\n",
       "    </tr>\n",
       "    <tr>\n",
       "      <th>582</th>\n",
       "      <td>TB20-002949</td>\n",
       "      <td>Westmeath</td>\n",
       "      <td>Cow</td>\n",
       "      <td>Kevin</td>\n",
       "      <td>5.0</td>\n",
       "      <td>TB20-002949</td>\n",
       "      <td>Other</td>\n",
       "      <td>Other</td>\n",
       "    </tr>\n",
       "  </tbody>\n",
       "</table>\n",
       "<p>583 rows × 8 columns</p>\n",
       "</div>"
      ],
      "text/plain": [
       "          sample     county species source  batch      aliquot county1 county2\n",
       "0      ERR125617         NI     Cow  Other    NaN          NaN      NI   Other\n",
       "1      ERR125622         NI     Cow  Other    NaN          NaN      NI   Other\n",
       "2      ERR125598         NI     Cow  Other    NaN          NaN      NI   Other\n",
       "3      ERR125612         NI     Cow  Other    NaN          NaN      NI   Other\n",
       "4      ERR125603         NI     Cow  Other    NaN          NaN      NI   Other\n",
       "..           ...        ...     ...    ...    ...          ...     ...     ...\n",
       "578  TB20-002325      Sligo     Cow  Kevin    5.0  TB20-002325   Other   Other\n",
       "579  TB20-001479  Tipperary     Cow  Kevin    5.0  TB20-001479   Other   Other\n",
       "580  TB20-000369  Tipperary     Cow  Kevin    5.0  TB20-000369   Other   Other\n",
       "581  TB20-001068  Westmeath     Cow  Kevin    5.0  TB20-001068   Other   Other\n",
       "582  TB20-002949  Westmeath     Cow  Kevin    5.0  TB20-002949   Other   Other\n",
       "\n",
       "[583 rows x 8 columns]"
      ]
     },
     "execution_count": 21,
     "metadata": {},
     "output_type": "execute_result"
    }
   ],
   "source": [
    "common = meta.county.value_counts()[:7]\n",
    "def cty_comm(x):\n",
    "    if x in common:\n",
    "        return x\n",
    "    else:\n",
    "        return 'Other'\n",
    "meta['county1'] = meta.county.apply(cty_comm)\n",
    "meta['county2'] = meta.county.apply(lambda x : x if x in ['Monaghan','Clare'] else 'Other')\n",
    "common\n",
    "meta"
   ]
  },
  {
   "cell_type": "code",
   "execution_count": 22,
   "metadata": {},
   "outputs": [],
   "source": [
    "spo = pd.read_csv('/storage/btbgenie/all_ireland_results/spoligotypes.csv')\n",
    "#clust = pd.read_csv('/storage/btbgenie/all_ireland_results/clusters.txt',sep='\\t')"
   ]
  },
  {
   "cell_type": "code",
   "execution_count": 23,
   "metadata": {},
   "outputs": [
    {
     "name": "stderr",
     "output_type": "stream",
     "text": [
      "<ipython-input-23-5f1ef2fc87bd>:2: FutureWarning: In a future version of pandas all arguments of DataFrame.drop except for the argument 'labels' will be keyword-only\n",
      "  final = final.drop('code',1)\n"
     ]
    },
    {
     "data": {
      "text/plain": [
       "521"
      ]
     },
     "execution_count": 23,
     "metadata": {},
     "output_type": "execute_result"
    }
   ],
   "source": [
    "final = meta.merge(spo,on='sample',how='left')\n",
    "final = final.drop('code',1)\n",
    "final = final.merge(clust,left_on='sample',right_on='SequenceName')\n",
    "len(final)"
   ]
  },
  {
   "cell_type": "code",
   "execution_count": 24,
   "metadata": {},
   "outputs": [],
   "source": [
    "common = final.SB.value_counts()[:6]\n",
    "def sb_comm(x):\n",
    "    if x in common:\n",
    "        return x\n",
    "    else:\n",
    "        return 'Other'\n",
    "final['SB1'] = final.SB.apply(sb_comm)   "
   ]
  },
  {
   "cell_type": "markdown",
   "metadata": {},
   "source": [
    "## assign clade names?"
   ]
  },
  {
   "cell_type": "code",
   "execution_count": 25,
   "metadata": {},
   "outputs": [
    {
     "data": {
      "text/plain": [
       "{-1: 'Other',\n",
       " 1: 'Other',\n",
       " 2: 'A',\n",
       " 3: 'Other',\n",
       " 4: 'Other',\n",
       " 5: 'B',\n",
       " 6: 'Other',\n",
       " 7: 'Other',\n",
       " 8: 'C',\n",
       " 9: 'Other',\n",
       " 10: 'Other',\n",
       " 11: 'D',\n",
       " 12: 'Other',\n",
       " 13: 'Other',\n",
       " 14: 'Other',\n",
       " 15: 'E',\n",
       " 16: 'Other',\n",
       " 17: 'Other',\n",
       " 18: 'Other',\n",
       " 19: 'F',\n",
       " 20: 'Other',\n",
       " 21: 'G'}"
      ]
     },
     "execution_count": 25,
     "metadata": {},
     "output_type": "execute_result"
    }
   ],
   "source": [
    "import string\n",
    "labels=list(string.ascii_uppercase)\n",
    "clmap={}\n",
    "found=[]\n",
    "i=0\n",
    "for c,g in final.groupby('ClusterNumber'):    \n",
    "    if len(g)==0: continue    \n",
    "    cts = g.county.value_counts()\n",
    "    top = cts[0]\n",
    "    if top>10:\n",
    "        #n=1\n",
    "        #print (c,len(g),top)\n",
    "        #name = cts.index[0]\n",
    "        #lbl=name+'-'+str(n)       \n",
    "        #print (lbl, clmap)\n",
    "        #while lbl in clmap.values():\n",
    "        #    n+=1\n",
    "        #    lbl=name+'-'+str(n)            \n",
    "        clmap[c]=labels[i]\n",
    "        i+=1\n",
    "    else:\n",
    "        clmap[c]='Other'\n",
    "\n",
    "clmap"
   ]
  },
  {
   "cell_type": "code",
   "execution_count": 26,
   "metadata": {},
   "outputs": [],
   "source": [
    "final['clade'] = final.ClusterNumber.map(clmap)"
   ]
  },
  {
   "cell_type": "code",
   "execution_count": 27,
   "metadata": {},
   "outputs": [],
   "source": [
    "final.to_csv('/storage/btbgenie/mbovis_ireland/ireland_metadata.csv',index=False)"
   ]
  },
  {
   "cell_type": "markdown",
   "metadata": {},
   "source": [
    "## draw all ireland tree"
   ]
  },
  {
   "cell_type": "code",
   "execution_count": 28,
   "metadata": {},
   "outputs": [],
   "source": [
    "treefile = '/storage/btbgenie/all_ireland_results/tree.newick'\n",
    "tre = toytree.tree(treefile)\n",
    "#canvas,t,r=tre.draw(layout='c')"
   ]
  },
  {
   "cell_type": "code",
   "execution_count": null,
   "metadata": {},
   "outputs": [],
   "source": [
    "reload(trees)\n",
    "#tre = tre.root('TB20-002800')\n",
    "#tre = tre.drop_tips('8567')\n",
    "tipnames = tre.get_tip_labels()\n",
    "mapping = dict(zip(final['sample'],final.clade))\n",
    "#mapping['ref'] = 'AF2122/97'\n",
    "tiplabels = [mapping[i] if i in mapping else 'NA' for i in tipnames]\n",
    "\n",
    "colormap = trees.colors_from_labels(final,'name','clade')\n",
    "print (colormap)\n",
    "tip_colors = [colormap[mapping[i]] if i in mapping else 'Black' for i in tipnames]\n",
    "tip_labels_style={      \n",
    "        \"font-size\": \"6px\",\n",
    "        \"-toyplot-anchor-shift\": \"13px\",\n",
    "    }\n",
    "node_sizes=[0 if i else 5 for i in tre.get_node_values(None, 1, 0)]\n",
    "node_colors = [colormap[mapping[n]] if n in mapping else 'black' for n in tre.get_node_values('name', True, True)]\n",
    "\n",
    "canvas,t,r=tre.draw(layout='r',width=1200,height=1300,node_markers=\"o\",node_hover=True, node_sizes=node_sizes,\n",
    "                    tip_labels=False,tip_labels_style=tip_labels_style,node_colors=node_colors,\n",
    "                    tip_labels_colors=tip_colors,scalebar=True,edge_widths=1);\n",
    "#toyplot.pdf.render(canvas,'/storage/btbgenie/all_ireland_results/ireland_tree.pdf')"
   ]
  },
  {
   "cell_type": "markdown",
   "metadata": {},
   "source": [
    "## SNP analysis\n",
    "\n",
    "* snps unique to each clade/county\n",
    "* protein groups containing common snps"
   ]
  },
  {
   "cell_type": "code",
   "execution_count": 35,
   "metadata": {},
   "outputs": [],
   "source": [
    "csq = app.read_csq_file('/storage/btbgenie/all_ireland_results/csq.tsv')\n",
    "snp_mat = app.get_aa_snp_matrix(csq)\n",
    "#csq_ind = app.read_csq_file('/storage/btbgenie/all_ireland_results/csq_indels.tsv')\n",
    "#ind_mat = app.get_aa_snp_matrix(csq_ind)"
   ]
  },
  {
   "cell_type": "code",
   "execution_count": 36,
   "metadata": {},
   "outputs": [],
   "source": [
    "mat = snp_mat\n",
    "\n",
    "#labelmap = dict(zip(meta['name'],meta.county))\n",
    "#mat = mat.rename(columns=labelmap)\n",
    "#freqs = mat.sum(1)/len(mat.columns)\n",
    "#freqs =freqs.rename('freq') \n",
    "#freqs.sort_values()\n",
    "#freqs.hist(bins=20)"
   ]
  },
  {
   "cell_type": "code",
   "execution_count": 37,
   "metadata": {},
   "outputs": [],
   "source": [
    "#mat.index = mat.index.get_level_values(1)+'_'+mat.index.get_level_values(2)\n",
    "stat = mat.sum(1).reset_index()\n",
    "#stat.gene.value_counts()[:30]"
   ]
  },
  {
   "cell_type": "code",
   "execution_count": null,
   "metadata": {},
   "outputs": [],
   "source": [
    "cols=['sample','county','SB','ClusterNumber','clade']\n",
    "C=mat.T\n",
    "C=C.merge(meta[cols],left_index=True,right_on='sample').set_index(cols).T\n",
    "#print (C)\n",
    "C=C[C.sum(1)>3].T\n",
    "C.iloc[:4,:2]\n",
    "C.to_csv('csq_snps_ireland.csv')"
   ]
  },
  {
   "cell_type": "code",
   "execution_count": 257,
   "metadata": {},
   "outputs": [],
   "source": [
    "counties = list(C.index.get_level_values(1))\n",
    "sb = list(C.index.get_level_values(2))\n",
    "clust = C.index.get_level_values(3)\n",
    "clades = C.index.get_level_values(4)"
   ]
  },
  {
   "cell_type": "code",
   "execution_count": null,
   "metadata": {},
   "outputs": [],
   "source": [
    "colormap1 = dict(zip(clades.unique(), trees.qcolors))\n",
    "#colormap1 = {'Wicklow-1': 'green', 'Monaghan-3': 'red', np.nan: 'gray', \n",
    "#             'Monaghan-1': 'brown', 'Monaghan-2': 'burlywood', 'Unknown': 'lightblue', 'NI-1': 'blue'}\n",
    "colors1 = [colormap1[i] if i in colormap1 else 'Black' for i in clades]\n",
    "#make legend\n",
    "import matplotlib.patches as mpatches\n",
    "pts=[]\n",
    "for c in colormap1:\n",
    "    pts.append(mpatches.Patch(color=colormap1[c],label=c))\n",
    "g=sns.clustermap(C,xticklabels=False,yticklabels=False,figsize=(17,12),cmap='gray_r',cbar_pos=None,row_colors=colors1)\n",
    "g.fig.legend(handles=pts,bbox_to_anchor=(1.05, 1), )\n",
    "g.savefig('/storage/btbgenie/all_ireland_results/snp_clusters.jpg')"
   ]
  },
  {
   "cell_type": "markdown",
   "metadata": {},
   "source": [
    "## PCA"
   ]
  },
  {
   "cell_type": "code",
   "execution_count": null,
   "metadata": {},
   "outputs": [],
   "source": [
    "import sklearn\n",
    "from sklearn import decomposition\n",
    "from sklearn import manifold\n",
    "\n",
    "pca = decomposition.PCA(n_components=3)\n",
    "mds = manifold.MDS(n_components=3)\n",
    "pos = mds.fit(C).embedding_\n",
    "X = pca.fit_transform(pos)\n",
    "#X = pca.transform(C)\n",
    "df=pd.DataFrame(X)\n",
    "df['sb']=sb\n",
    "df.to_csv('/storage/btbgenie/all_ireland_results/pca_snp.csv')\n",
    "\n",
    "fig,ax = plt.subplots(figsize=(7, 7))\n",
    "sc=ax.scatter(X[:, 0], X[:, 1], c=colors1, s=100, alpha=.6)    \n",
    "ax.legend(handles=pts,loc='best')\n",
    "fig.savefig('/storage/btbgenie/all_ireland_results/pca_snp_clusters.jpg',dpi=150)"
   ]
  },
  {
   "cell_type": "markdown",
   "metadata": {},
   "source": [
    "## compare cvrl wgmlst tree"
   ]
  },
  {
   "cell_type": "code",
   "execution_count": null,
   "metadata": {},
   "outputs": [],
   "source": [
    "cvrltre = toytree.tree('declan.newick')\n",
    "cvrltre.draw(layout='c',width=800,height=1000,\n",
    "                node_markers=\"o\",node_hover=True, #node_sizes=node_sizes,\n",
    "                tip_labels=False,tip_labels_style=tip_labels_style,#node_colors=node_colors,\n",
    "                scalebar=True,edge_widths=1)"
   ]
  },
  {
   "cell_type": "code",
   "execution_count": null,
   "metadata": {},
   "outputs": [],
   "source": []
  }
 ],
 "metadata": {
  "kernelspec": {
   "display_name": "Python 3",
   "language": "python",
   "name": "python3"
  },
  "language_info": {
   "codemirror_mode": {
    "name": "ipython",
    "version": 3
   },
   "file_extension": ".py",
   "mimetype": "text/x-python",
   "name": "python",
   "nbconvert_exporter": "python",
   "pygments_lexer": "ipython3",
   "version": "3.9.7"
  }
 },
 "nbformat": 4,
 "nbformat_minor": 4
}
