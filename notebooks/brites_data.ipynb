{
 "cells": [
  {
   "cell_type": "markdown",
   "id": "bf5ca2a6-8999-42f9-b1b1-3e1748b86517",
   "metadata": {},
   "source": [
    "# Global M. bovis lineages - fetch data\n",
    "\n",
    "* Brites paper: https://open-research-europe.ec.europa.eu/articles/1-100/v2\n",
    "* Joe data: https://www.ncbi.nlm.nih.gov/bioproject/PRJNA523164"
   ]
  },
  {
   "cell_type": "code",
   "execution_count": 1,
   "id": "97af57d1-ca19-44cd-80a1-979cb48faa11",
   "metadata": {},
   "outputs": [],
   "source": [
    "import sys,os,shutil,subprocess\n",
    "import glob,random\n",
    "from importlib import reload\n",
    "import numpy as np\n",
    "import pandas as pd\n",
    "pd.set_option('display.width', 200)\n",
    "import pylab as plt\n",
    "import matplotlib as mpl\n",
    "from Bio import SeqIO\n",
    "from snipgenie import clustering"
   ]
  },
  {
   "cell_type": "markdown",
   "id": "fd54b687-205c-4683-8d5e-c76d46f9a63b",
   "metadata": {},
   "source": [
    "## Brites data"
   ]
  },
  {
   "cell_type": "code",
   "execution_count": 85,
   "id": "0c6ba67b-7c70-4860-8a72-02214dd5796f",
   "metadata": {},
   "outputs": [
    {
     "data": {
      "text/plain": [
       "Clonal_Complex\n",
       "La1.8.1       261\n",
       "La1.7.1       119\n",
       "La1.2         105\n",
       "La3            77\n",
       "La1.3          64\n",
       "La2            61\n",
       "La1.7-unk4     31\n",
       "La1.8.2        30\n",
       "La1.5          12\n",
       "La1.6           9\n",
       "La1.1           9\n",
       "La1.7-unk5      9\n",
       "La1.4           7\n",
       "La1.8-unk6      7\n",
       "L6              1\n",
       "La1.8-unk8      1\n",
       "Name: count, dtype: int64"
      ]
     },
     "execution_count": 85,
     "metadata": {},
     "output_type": "execute_result"
    }
   ],
   "source": [
    "#brites = pd.read_csv('brites_table1.csv')\n",
    "brites = pd.read_csv('brites_table1.txt',sep='\\t').iloc[:,:9]\n",
    "brites = brites.dropna(subset=['Accession_Number'])\n",
    "spmap = {'La2':'M.caprae','La3':'M.orygis'}\n",
    "brites['Species'] = brites['Clonal_Complex'].map(spmap).fillna('M.bovis')\n",
    "#brites=brites[brites.Clonal_Complex!='L6']\n",
    "brites.to_csv('brites_table1.csv',index=False)\n",
    "\n",
    "c=brites.Country_Isolation.value_counts()\n",
    "countries=list(c[-24:].index)\n",
    "brites.Clonal_Complex.value_counts()"
   ]
  },
  {
   "cell_type": "code",
   "execution_count": 53,
   "id": "fa3cc039-e1b8-4d6a-951e-d040c98adefb",
   "metadata": {},
   "outputs": [],
   "source": [
    "brites = brites[~brites.Country.isin(['Ireland','United Kingdom'])]\n",
    "#low quality or v large\n",
    "omit = ['ERR017796','SRR7131025','SRR7131117','SRR6797355','SRR10251186','SRR7617446','SRR7851314','SRR1792178',\n",
    "        'SRR4199188','ERR2512942','ERR3458087','SRR2101329','SRR5642718','ERR2517102']"
   ]
  },
  {
   "cell_type": "markdown",
   "id": "5ca0cb69-3977-4bfc-a8ee-4638c0525ac6",
   "metadata": {},
   "source": [
    "## fetch data"
   ]
  },
  {
   "cell_type": "code",
   "execution_count": 54,
   "id": "64a0b082-f6f0-4067-a920-8e591cc828eb",
   "metadata": {},
   "outputs": [],
   "source": [
    "def fetch_data(meta,col,path,omit=[]):\n",
    "    for i,row in meta.iterrows():\n",
    "        run = row[col]\n",
    "        #print (row)\n",
    "        if run in omit:\n",
    "            continue\n",
    "        if 'ERS' in run:\n",
    "            continue\n",
    "        files = glob.glob(os.path.join(path,'%s*.fastq*') %run)\n",
    "        if len(files)>0:\n",
    "            continue\n",
    "        cmd = 'fastq-dump --split-files -O %s %s' %(path,run)\n",
    "        print (run)\n",
    "        print (cmd)\n",
    "        try:\n",
    "            subprocess.check_output(cmd, shell=True)\n",
    "        except:\n",
    "            print ('failed')\n",
    "            continue\n",
    "        f=os.path.join(path,'%s*.fastq' %run)\n",
    "        cmd = 'pigz %s' %f\n",
    "        print (cmd)\n",
    "        subprocess.check_output(cmd, shell=True)\n",
    "        "
   ]
  },
  {
   "cell_type": "code",
   "execution_count": null,
   "id": "b4ad8c70-f11b-49d2-8812-06d3dbeadf20",
   "metadata": {
    "tags": []
   },
   "outputs": [],
   "source": [
    "path = '/storage/btbgenie/brites'\n",
    "#rare = brites[brites.Country.isin(countries)]\n",
    "sub = brites.sample(40)\n",
    "fetch_data(sub,'Accession_Number',path,omit)"
   ]
  },
  {
   "cell_type": "code",
   "execution_count": 6,
   "id": "41b46321-d3d7-4b55-ade4-4dd972c16110",
   "metadata": {
    "tags": []
   },
   "outputs": [],
   "source": [
    "'''files = glob.glob('/storage/btbgenie/mbovis_sra/*.fastq*')\n",
    "for f in files:\n",
    "    name=os.path.splitext(os.path.basename(f))[0].split('_')[0]\n",
    "    #print (name)\n",
    "    if name not in list(meta.Accession_Number):\n",
    "        print (name,os.path.basename(f))\n",
    "        shutil.move(f,os.path.join('/storage/btbgenie/mbovis_sra_other',os.path.basename(f)))'''"
   ]
  },
  {
   "cell_type": "code",
   "execution_count": 84,
   "id": "82b95bfd-9ba1-40e9-a3f4-6cefc43b366b",
   "metadata": {},
   "outputs": [
    {
     "data": {
      "text/html": [
       "<div>\n",
       "<style scoped>\n",
       "    .dataframe tbody tr th:only-of-type {\n",
       "        vertical-align: middle;\n",
       "    }\n",
       "\n",
       "    .dataframe tbody tr th {\n",
       "        vertical-align: top;\n",
       "    }\n",
       "\n",
       "    .dataframe thead th {\n",
       "        text-align: right;\n",
       "    }\n",
       "</style>\n",
       "<table border=\"1\" class=\"dataframe\">\n",
       "  <thead>\n",
       "    <tr style=\"text-align: right;\">\n",
       "      <th></th>\n",
       "      <th>index</th>\n",
       "      <th>sample</th>\n",
       "      <th>filename1</th>\n",
       "      <th>filename2</th>\n",
       "      <th>name1</th>\n",
       "      <th>name2</th>\n",
       "      <th>read_length</th>\n",
       "      <th>bam_file</th>\n",
       "      <th>mapped</th>\n",
       "      <th>reads</th>\n",
       "      <th>perc_mapped</th>\n",
       "      <th>coverage</th>\n",
       "      <th>meandepth</th>\n",
       "      <th>missing_sites</th>\n",
       "    </tr>\n",
       "  </thead>\n",
       "  <tbody>\n",
       "    <tr>\n",
       "      <th>424</th>\n",
       "      <td>ERR1082113</td>\n",
       "      <td>ERR1082113</td>\n",
       "      <td>/storage/btbgenie/brites/ERR1082113_1.fastq.gz</td>\n",
       "      <td>/storage/btbgenie/brites/ERR1082113_2.fastq.gz</td>\n",
       "      <td>ERR1082113_1</td>\n",
       "      <td>ERR1082113_2</td>\n",
       "      <td>125</td>\n",
       "      <td>/storage/btbgenie/global_results/mapped/ERR108...</td>\n",
       "      <td>7684664.0</td>\n",
       "      <td>3875768.0</td>\n",
       "      <td>99.14</td>\n",
       "      <td>99.59</td>\n",
       "      <td>219.72</td>\n",
       "      <td>NaN</td>\n",
       "    </tr>\n",
       "  </tbody>\n",
       "</table>\n",
       "</div>"
      ],
      "text/plain": [
       "          index      sample                                       filename1                                       filename2         name1         name2  read_length  \\\n",
       "424  ERR1082113  ERR1082113  /storage/btbgenie/brites/ERR1082113_1.fastq.gz  /storage/btbgenie/brites/ERR1082113_2.fastq.gz  ERR1082113_1  ERR1082113_2          125   \n",
       "\n",
       "                                              bam_file     mapped      reads  perc_mapped  coverage  meandepth  missing_sites  \n",
       "424  /storage/btbgenie/global_results/mapped/ERR108...  7684664.0  3875768.0        99.14     99.59     219.72            NaN  "
      ]
     },
     "execution_count": 84,
     "metadata": {},
     "output_type": "execute_result"
    }
   ],
   "source": [
    "samples = pd.read_csv('/storage/btbgenie/global_results/samples.csv')\n",
    "x=brites[brites.Accession_Number.isin(samples['sample'])]\n",
    "x.Country_Isolation.value_counts()\n",
    "samples[~samples['sample'].isin(brites.Accession_Number)]"
   ]
  },
  {
   "cell_type": "markdown",
   "id": "8b694e6b-208d-4df0-9be1-a9f9ae523bb2",
   "metadata": {},
   "source": [
    "## Joe data"
   ]
  },
  {
   "cell_type": "code",
   "execution_count": 6,
   "id": "e8ae821a-21d4-4449-b6b1-c47299bbf55b",
   "metadata": {
    "tags": []
   },
   "outputs": [],
   "source": [
    "ukmeta = pd.read_csv('/storage/btbgenie/UK/joe_runtable.txt')\n",
    "\n",
    "path='/storage/btbgenie/UK'\n",
    "#fetch_data(ukmeta,'Run',path)"
   ]
  },
  {
   "cell_type": "code",
   "execution_count": 7,
   "id": "70f7d470-b68d-45bb-9fd3-e7401b975fd1",
   "metadata": {
    "tags": []
   },
   "outputs": [
    {
     "data": {
      "text/html": [
       "<div>\n",
       "<style scoped>\n",
       "    .dataframe tbody tr th:only-of-type {\n",
       "        vertical-align: middle;\n",
       "    }\n",
       "\n",
       "    .dataframe tbody tr th {\n",
       "        vertical-align: top;\n",
       "    }\n",
       "\n",
       "    .dataframe thead th {\n",
       "        text-align: right;\n",
       "    }\n",
       "</style>\n",
       "<table border=\"1\" class=\"dataframe\">\n",
       "  <thead>\n",
       "    <tr style=\"text-align: right;\">\n",
       "      <th></th>\n",
       "      <th>Accession_Number</th>\n",
       "      <th>Clonal_Complex</th>\n",
       "      <th>Country</th>\n",
       "      <th>Gnumber</th>\n",
       "      <th>Host</th>\n",
       "      <th>Map</th>\n",
       "      <th>SIB_Number</th>\n",
       "      <th>Sample.included.in.Loiseau.et.al..2020</th>\n",
       "    </tr>\n",
       "  </thead>\n",
       "  <tbody>\n",
       "  </tbody>\n",
       "</table>\n",
       "</div>"
      ],
      "text/plain": [
       "Empty DataFrame\n",
       "Columns: [Accession_Number, Clonal_Complex, Country, Gnumber, Host, Map, SIB_Number, Sample.included.in.Loiseau.et.al..2020]\n",
       "Index: []"
      ]
     },
     "execution_count": 7,
     "metadata": {},
     "output_type": "execute_result"
    }
   ],
   "source": [
    "#check against brites for dups\n",
    "ukmeta.Run\n",
    "brites[brites.Accession_Number.isin(ukmeta.Run)]"
   ]
  },
  {
   "cell_type": "code",
   "execution_count": null,
   "id": "952c82bf-57a0-4d18-9754-ee7e6b018e51",
   "metadata": {},
   "outputs": [],
   "source": []
  }
 ],
 "metadata": {
  "kernelspec": {
   "display_name": "Python 3 (ipykernel)",
   "language": "python",
   "name": "python3"
  },
  "language_info": {
   "codemirror_mode": {
    "name": "ipython",
    "version": 3
   },
   "file_extension": ".py",
   "mimetype": "text/x-python",
   "name": "python",
   "nbconvert_exporter": "python",
   "pygments_lexer": "ipython3",
   "version": "3.10.12"
  }
 },
 "nbformat": 4,
 "nbformat_minor": 5
}
