{
 "cells": [
  {
   "cell_type": "markdown",
   "id": "097a5efa-3837-48c6-a8ea-309d58ba6fd6",
   "metadata": {},
   "source": [
    "## wgMLST for mbovis\n",
    "\n",
    "* http://www3.ridom.de/seqsphere/cgmlst/\n",
    "* https://www.cgmlst.org/ncs/schema/741110/\n",
    "* https://jcm.asm.org/content/52/7/2479\n",
    "* https://www.biorxiv.org/content/10.1101/172858v1.full\n",
    "* https://www.ncbi.nlm.nih.gov/pmc/articles/PMC3980634/"
   ]
  },
  {
   "cell_type": "markdown",
   "id": "3b554e75-17e5-4a8f-ab03-e93150bcc94e",
   "metadata": {},
   "source": [
    "## steps\n",
    "\n",
    "* get MLST gene list\n",
    "* assembly\n",
    "* annotate\n",
    "* assign allele numbers?"
   ]
  },
  {
   "cell_type": "code",
   "execution_count": 521,
   "id": "5fbe56cd-85be-425d-a949-8d7b709d4acc",
   "metadata": {},
   "outputs": [],
   "source": [
    "import sys,os,shutil,subprocess\n",
    "import glob\n",
    "from importlib import reload\n",
    "import numpy as np\n",
    "import pandas as pd\n",
    "pd.set_option('display.width', 200)\n",
    "pd.set_option('display.max_colwidth', 150)\n",
    "import pylab as plt\n",
    "import seaborn as sns\n",
    "from Bio import SeqIO\n",
    "from Bio.SeqRecord import SeqRecord\n",
    "from io import StringIO\n",
    "import snipgenie as snpg\n",
    "import pathogenie as pg\n",
    "import toytree"
   ]
  },
  {
   "cell_type": "code",
   "execution_count": null,
   "id": "a9158dab-3bba-4414-bad1-59c5f0856117",
   "metadata": {},
   "outputs": [],
   "source": [
    "vcf_file='/storage/btbgenie/wicklow_results/filtered.vcf.gz'"
   ]
  },
  {
   "cell_type": "code",
   "execution_count": null,
   "id": "3bc7763a-0ca8-4267-9f1d-60755c13b101",
   "metadata": {},
   "outputs": [],
   "source": [
    "def get_samples_vcf(vcf_file):\n",
    "    cmd = 'bcftools query -l %s' %vcf_file\n",
    "    tmp = subprocess.check_output(cmd, shell=True)\n",
    "    return tmp.decode().split('\\n')\n",
    "    \n",
    "samplenames = get_samples_vcf(vcf_file)"
   ]
  },
  {
   "cell_type": "code",
   "execution_count": null,
   "id": "f630368c-1859-4574-84dd-8a545f5e17b5",
   "metadata": {},
   "outputs": [],
   "source": [
    "path = '/storage/btbgenie/mbovis_ireland/Wicklow/'\n",
    "files = glob.glob(os.path.join(path,'**', '*.gz'),recursive=True)\n",
    "samp = snpg.app.get_samples(files,sep='_')\n",
    "pairs = pd.pivot_table(samp,index=['sample'],columns=['pair'],values='filename',aggfunc='first').reset_index()\n",
    "print (pairs)"
   ]
  },
  {
   "cell_type": "markdown",
   "id": "1200e6a5-624b-44ff-a8e5-4436b362b548",
   "metadata": {},
   "source": [
    "## create reference proteins for MLST"
   ]
  },
  {
   "cell_type": "code",
   "execution_count": null,
   "id": "7c6c41ff-b137-40ef-b26d-fa40e236835c",
   "metadata": {},
   "outputs": [],
   "source": [
    "prots = pg.tools.genbank_to_dataframe('Mbovis-AF212297.2.gb',cds=True)\n",
    "prots = prots.fillna('')\n",
    "prots = prots.dropna(subset=['locus_tag'])\n",
    "ref_proteins = 'Mbovis_AF212297_proteins.fa'\n",
    "#get prokka type header for using in annotation\n",
    "prots['header'] = prots.apply(lambda x: '~~~'.join([x.locus_tag,x.gene,x['product'],'none']),1)\n",
    "pg.tools.dataframe_to_fasta(prots,idkey='header',outfile=ref_proteins)\n",
    "print (len(prots))"
   ]
  },
  {
   "cell_type": "code",
   "execution_count": null,
   "id": "0c949c63-24d7-481a-b145-ca33f18595b4",
   "metadata": {},
   "outputs": [],
   "source": [
    "def get_nucleotide_sequences(gb_file,out_file,idkey='locus_tag'):\n",
    "    \"\"\"protein nucleotide seqs from genbank\"\"\"\n",
    "    \n",
    "    recs = SeqIO.to_dict(SeqIO.parse(gb_file,'genbank'))\n",
    "    chroms = list(recs.keys())\n",
    "    for chrom in chroms:\n",
    "        refrec = recs[chrom]\n",
    "        result = []\n",
    "        for f in refrec.features[1:]:\n",
    "            q=f.qualifiers\n",
    "            if f.type != 'CDS':\n",
    "                continue\n",
    "            seq = refrec.seq[f.location.start:f.location.end]\n",
    "            try:\n",
    "                new = SeqRecord(seq,id=q[idkey][0])\n",
    "                result.append(new)\n",
    "            except:\n",
    "                #print (q)\n",
    "                pass\n",
    "    SeqIO.write(result,out_file,format='fasta')\n",
    "    return\n",
    "\n",
    "get_nucleotide_sequences('Mbovis-AF212297.2.gb','Mbovis_AF212297_nuc.fa')"
   ]
  },
  {
   "cell_type": "markdown",
   "id": "1df61561-684c-418a-980c-2c62299a216a",
   "metadata": {},
   "source": [
    "## assembly"
   ]
  },
  {
   "cell_type": "code",
   "execution_count": null,
   "id": "09ca0cce-bad8-40a0-81bd-f93f8a39518f",
   "metadata": {},
   "outputs": [],
   "source": [
    "def spades(file1, file2, path, outfile=None, threads=4):\n",
    "    \"\"\"Run spades\"\"\"\n",
    "    \n",
    "    cmd = 'spades -t %s --pe1-1 %s --pe1-2 %s --careful -o %s' %(threads,file1,file2,path)    \n",
    "    if not os.path.exists(path): \n",
    "        print (cmd)\n",
    "        subprocess.check_output(cmd, shell=True)\n",
    "    if outfile != None:\n",
    "        shutil.copy(os.path.join(path,'scaffolds.fasta'),outfile)\n",
    "    return outfile\n",
    "\n",
    "assembly_path = '/storage/btbgenie/assembly/'\n",
    "\n",
    "for i,r in pairs[:10].iterrows():    \n",
    "    name=r['sample']\n",
    "    print (name)\n",
    "    out = os.path.join(assembly_path,name+'.fa')\n",
    "    print (out)\n",
    "    spades(r[1], r[2], os.path.join(assembly_path,name), outfile=out, threads=10)"
   ]
  },
  {
   "cell_type": "markdown",
   "id": "255fab33-d9d4-4cc6-9edf-04a7d8250fd9",
   "metadata": {},
   "source": [
    "## get consensus sequence from alignment instead of assembly"
   ]
  },
  {
   "cell_type": "code",
   "execution_count": null,
   "id": "b1450e60-5c58-4c34-9927-b11396ef068b",
   "metadata": {},
   "outputs": [],
   "source": [
    "def get_consensus(vcf_file, sample, out_file):\n",
    "    \"\"\"Get consensus sequence from vcf\"\"\"\n",
    "      \n",
    "    cmd='bcftools index -f %s' %vcf_file\n",
    "    subprocess.check_output(cmd, shell=True)   \n",
    "    cmd='cat {r} | bcftools consensus -s {s} {v} > {o}'.format(r=snpg.app.mbovis_genome,v=vcf_file,s=sample,o=out_file)\n",
    "    #print (cmd)\n",
    "    subprocess.check_output(cmd, shell=True)\n",
    "    return\n",
    "\n",
    "get_consensus(vcf_file, '1034','consensus.fa')"
   ]
  },
  {
   "cell_type": "markdown",
   "id": "f036d0a1-efe2-497b-bccf-93b0b305a212",
   "metadata": {},
   "source": [
    "## annotate\n"
   ]
  },
  {
   "cell_type": "code",
   "execution_count": null,
   "id": "65652405-949d-4bd8-be2e-e1869169890f",
   "metadata": {},
   "outputs": [],
   "source": [
    "seqfile='/storage/btbgenie/assembly/1034.fa'\n",
    "#seqfile='consensus.fa'\n",
    "featdf,recs = pg.run_annotation(seqfile,\n",
    "                                threads=10, kingdom='bacteria', trusted=ref_proteins)\n",
    "outfile='/storage/btbgenie/annotation_assembly/1034.fa'\n",
    "\n",
    "#write out nucl sequences\n",
    "SeqIO.write(recs,'temp.gb','genbank')\n",
    "get_nucleotide_sequences('temp.gb',outfile,idkey='protein_id')"
   ]
  },
  {
   "cell_type": "markdown",
   "id": "c904b82a-bee9-4bee-a81d-b33539bb3b9f",
   "metadata": {},
   "source": [
    "# initialise MLST table from reference genome"
   ]
  },
  {
   "cell_type": "markdown",
   "id": "b795b5e3-ce6a-4ea8-a417-60a03ad8b5bc",
   "metadata": {},
   "source": [
    "## filter only Mb proteins in scheme"
   ]
  },
  {
   "cell_type": "code",
   "execution_count": null,
   "id": "f2b59498-b340-4405-87a9-54ab89498277",
   "metadata": {},
   "outputs": [],
   "source": [
    "mlst=pd.read_csv('mlst_scheme.csv')\n",
    "mlst=mlst[mlst['Ridom Usage']=='MLST+']\n",
    "targets=list(mlst.Target)"
   ]
  },
  {
   "cell_type": "code",
   "execution_count": null,
   "id": "02009a63-fbc7-4c52-97c1-2daee4048f17",
   "metadata": {},
   "outputs": [],
   "source": [
    "mbmap=pd.read_csv('final_mbovis_mapping.csv')\n",
    "mbmap = mbmap[mbmap.Rv_tag.isin(targets)]\n",
    "mb_tags = list(mbmap.Mb_tag)\n",
    "prots = prots[prots.locus_tag.isin(mb_tags)]\n",
    "nucseqs = pg.tools.fasta_to_dataframe('Mbovis_AF212297_nuc.fa')\n",
    "nucseqs = nucseqs[nucseqs.name.isin(mb_tags)]"
   ]
  },
  {
   "cell_type": "code",
   "execution_count": null,
   "id": "e1698d53-1360-4deb-b9b8-4a6940766fbe",
   "metadata": {},
   "outputs": [],
   "source": [
    "cols = ['name','allele','sequence']\n",
    "ref = nucseqs.copy()\n",
    "ref['allele'] = 1\n",
    "ref=ref.rename(columns={'translation':'sequence'})\n",
    "ref[cols].to_csv('mlst_db.csv.gz',index=False,compression='gzip')\n",
    "print (len(ref))"
   ]
  },
  {
   "cell_type": "code",
   "execution_count": null,
   "id": "18704833-b679-49c8-b459-4d0ca72ee22a",
   "metadata": {},
   "outputs": [],
   "source": [
    "#check a sample against the allele table\n",
    "fastafile='/storage/btbgenie/annotation/1034.fa'\n",
    "\n",
    "def find_alleles(fastafile):\n",
    "    \"\"\"Find allele by simple matches to the reference table of known sequences.\n",
    "    Returns:\n",
    "        dataframe with allele number for each gene\n",
    "        dataframe with new alleles to add to db\n",
    "    \"\"\"\n",
    "    \n",
    "    db = pd.read_csv('mlst_db.csv.gz')\n",
    "    names = ref.name.unique()\n",
    "    df = pg.tools.fasta_to_dataframe(fastafile)\n",
    "    result=[]\n",
    "    new=[]\n",
    "    for name in names:\n",
    "        #print (name)\n",
    "        s = db[db.name==name]\n",
    "        gene = df[df.name==name]\n",
    "        if len(gene)==0:\n",
    "            #print (name)\n",
    "            continue\n",
    "        target = gene.iloc[0].sequence\n",
    "        found = s[s.sequence==target]        \n",
    "        #print (found)\n",
    "        if len(found)>0:\n",
    "            found = found.iloc[0]\n",
    "            result.append((name,found.allele))\n",
    "        else:\n",
    "            #assign new allele\n",
    "            newallele = s.allele.max()+1\n",
    "            result.append((name,newallele))\n",
    "            new.append([name,newallele,target])\n",
    "    prof = pd.DataFrame(result,columns=['name','allele'])\n",
    "    prof['allele'] = prof.allele.astype(int)\n",
    "    new = pd.DataFrame(new,columns=['name','allele','sequence'])\n",
    "    return prof, new\n",
    "    \n",
    "def update_mlst_db(new):\n",
    "    \"\"\"Update the database of MLST profiles\"\"\"\n",
    "    \n",
    "    db = pd.read_csv('mlst_db.csv.gz')\n",
    "    db = pd.concat([db,new])\n",
    "    db.to_csv('mlst_db.csv.gz', index=False, compression='gzip')\n",
    "    print ('added %s new alleles' %len(new))\n",
    "    return\n",
    "\n",
    "res,new = find_alleles(fastafile)\n",
    "print (res)\n",
    "update_mlst_db(new)"
   ]
  },
  {
   "cell_type": "code",
   "execution_count": null,
   "id": "0aaa32a2-0d5f-44e7-b5d9-95148f858e9e",
   "metadata": {},
   "outputs": [],
   "source": [
    "def type_sample(fastafile, outfile, threads=4, overwrite=False):\n",
    "    \"\"\"Type a single sample using wgMLST.\n",
    "    Args:\n",
    "        fastafile: fasta file to type from assembly or other\n",
    "        \n",
    "        path: output folder for annotations\n",
    "    Returns:\n",
    "        dataframe of MLST profile\n",
    "    \"\"\"\n",
    "    \n",
    "    if overwrite == True or not os.path.exists(outfile):\n",
    "        #annotate\n",
    "        featdf,recs = pg.run_annotation(fastafile, threads=threads,\n",
    "                                        kingdom='bacteria', trusted=ref_proteins)\n",
    "        #get nucl sequences from annotation    \n",
    "        SeqIO.write(recs,'temp.gb','genbank')\n",
    "        get_nucleotide_sequences('temp.gb',outfile,idkey='protein_id')\n",
    "    \n",
    "    #find alleles\n",
    "    res,new = find_alleles(outfile)\n",
    "    #print (res)\n",
    "    #update db\n",
    "    update_mlst_db(new)\n",
    "    return res\n",
    "\n",
    "#get_consensus(vcf_file, '26-MBovis')\n",
    "#fastafile = os.path.join(path,'%s.fa' %sample)\n",
    "sample='1034'\n",
    "fastafile = os.path.join(assembly_path,'%s.fa' %sample)\n",
    "res = type_sample(fastafile, '/storage/btbgenie/annotation_assembly/1034.fa', 10)"
   ]
  },
  {
   "cell_type": "code",
   "execution_count": 549,
   "id": "3a1e6f8a-e49d-411d-99b4-7904aefa2676",
   "metadata": {},
   "outputs": [
    {
     "name": "stdout",
     "output_type": "stream",
     "text": [
      "/storage/btbgenie/assembly/19-11957.fa\n",
      "added 0 new alleles\n",
      "/storage/btbgenie/assembly/22-12200.fa\n",
      "added 0 new alleles\n",
      "/storage/btbgenie/assembly/13-11594.fa\n",
      "added 0 new alleles\n",
      "/storage/btbgenie/assembly/17-MBovis.fa\n",
      "added 0 new alleles\n",
      "/storage/btbgenie/assembly/17-11662.fa\n",
      "added 0 new alleles\n",
      "/storage/btbgenie/assembly/15-11643.fa\n",
      "added 0 new alleles\n",
      "/storage/btbgenie/assembly/19-MBovis.fa\n",
      "added 0 new alleles\n",
      "/storage/btbgenie/assembly/182-MBovis.fa\n",
      "added 0 new alleles\n",
      "/storage/btbgenie/assembly/14-MBovis.fa\n",
      "added 0 new alleles\n",
      "/storage/btbgenie/assembly/1034.fa\n",
      "added 0 new alleles\n"
     ]
    }
   ],
   "source": [
    "profs = {}\n",
    "omit=['182-MBovis','19-4281','19-2438']\n",
    "samples=glob.glob(os.path.join(assembly_path,'*.fa'))\n",
    "#print (samples)\n",
    "for s in samples:\n",
    "    print (s)\n",
    "    sample = os.path.splitext(os.path.basename(s))[0]    \n",
    "    profile = type_sample(f, '/storage/btbgenie/annotation_assembly/%s.fa' %sample, threads=12)\n",
    "    profs[sample] = get_profile_string(profile)"
   ]
  },
  {
   "cell_type": "markdown",
   "id": "9bdacafc-a95c-4201-93b8-733d3a77e52a",
   "metadata": {},
   "source": [
    "## find distances between mlst profiles"
   ]
  },
  {
   "cell_type": "code",
   "execution_count": null,
   "id": "fdc652d8-7609-4250-a71a-0431f6bb5c70",
   "metadata": {},
   "outputs": [],
   "source": [
    "def get_profile_string(df):\n",
    "    return ''.join(df.allele.astype(str))"
   ]
  },
  {
   "cell_type": "code",
   "execution_count": 523,
   "id": "68e8b4de-4e52-4aae-8fe4-80eba13d3abf",
   "metadata": {},
   "outputs": [
    {
     "data": {
      "text/plain": [
       "2"
      ]
     },
     "execution_count": 523,
     "metadata": {},
     "output_type": "execute_result"
    }
   ],
   "source": [
    "def diff_profiles(s1, s2):\n",
    "    return sum(1 for a, b in zip(list(s1), list(s2)) if a != b)\n",
    "\n",
    "diff_profiles('AAABBBB','AAABBCC')"
   ]
  },
  {
   "cell_type": "code",
   "execution_count": 540,
   "id": "660e437c-92aa-4809-a244-e5fdc2927870",
   "metadata": {},
   "outputs": [],
   "source": [
    "def dist_matrix(profiles):\n",
    "    \"\"\"Distance matrix of a set of profiles\"\"\"\n",
    "    \n",
    "    dist=[]\n",
    "    for s in profiles:\n",
    "        x=profiles[s]\n",
    "        row=[]\n",
    "        for s in profiles:\n",
    "            d = diff_profiles(x,profiles[s])\n",
    "            row.append(d)\n",
    "        dist.append(row)\n",
    "    D = pd.DataFrame(dist,columns=profiles.keys(),index=profiles.keys())\n",
    "    return D"
   ]
  },
  {
   "cell_type": "code",
   "execution_count": 555,
   "id": "5743d878-a7a9-43a2-b926-4b788ac2e8b9",
   "metadata": {},
   "outputs": [],
   "source": [
    "def tree_from_distmatrix(D):\n",
    "    from skbio import DistanceMatrix\n",
    "    from skbio.tree import nj\n",
    "    ids = list(D.index)\n",
    "    dm = DistanceMatrix(D.values, ids)\n",
    "    tree = nj(dm)\n",
    "    print(tree.ascii_art())\n",
    "    tree.write(treefile, 'newick')\n",
    "    return"
   ]
  },
  {
   "cell_type": "code",
   "execution_count": 557,
   "id": "601550ee-5885-4531-bfdf-f87591254049",
   "metadata": {},
   "outputs": [
    {
     "data": {
      "text/plain": [
       "Tree(rooted=False)"
      ]
     },
     "execution_count": 557,
     "metadata": {},
     "output_type": "execute_result"
    }
   ],
   "source": [
    "def tree_from_distance_matrix(X):\n",
    "    \"\"\"Distance matrix to phylo tree\"\"\"\n",
    "\n",
    "    from Bio import Phylo\n",
    "    from Bio.Phylo.TreeConstruction import DistanceMatrix,DistanceTreeConstructor\n",
    "    from Bio.Cluster import distancematrix\n",
    "\n",
    "    names = list(X.index)\n",
    "    if type(X) is pd.DataFrame:\n",
    "        X = X.values\n",
    "    mat = distancematrix(X)\n",
    "    new=[]\n",
    "    for i in mat:\n",
    "        new.append(np.insert(i, 0, 0).tolist())\n",
    "\n",
    "    dm = DistanceMatrix(names,new)\n",
    "    constructor = DistanceTreeConstructor()\n",
    "    tree = constructor.nj(dm)\n",
    "    Phylo.draw_ascii(tree,file=open('temp.txt','w'))\n",
    "    return tree\n"
   ]
  },
  {
   "cell_type": "code",
   "execution_count": 571,
   "id": "09d0f523-b5eb-4fc2-af3e-95b499d153e4",
   "metadata": {},
   "outputs": [
    {
     "name": "stdout",
     "output_type": "stream",
     "text": [
      "{'A': '111223', 'B': '111221', 'C': '211121', 'D': '211123', 'E': '212211', 'F': '211122'}\n",
      "          /-D\n",
      "         |\n",
      "         |          /-C\n",
      "         |---------|\n",
      "         |         |          /-E\n",
      "---------|          \\--------|\n",
      "         |                   |          /-B\n",
      "         |                    \\--------|\n",
      "         |                              \\-A\n",
      "         |\n",
      "          \\-F\n"
     ]
    },
    {
     "data": {
      "text/html": [
       "<div>\n",
       "<style scoped>\n",
       "    .dataframe tbody tr th:only-of-type {\n",
       "        vertical-align: middle;\n",
       "    }\n",
       "\n",
       "    .dataframe tbody tr th {\n",
       "        vertical-align: top;\n",
       "    }\n",
       "\n",
       "    .dataframe thead th {\n",
       "        text-align: right;\n",
       "    }\n",
       "</style>\n",
       "<table border=\"1\" class=\"dataframe\">\n",
       "  <thead>\n",
       "    <tr style=\"text-align: right;\">\n",
       "      <th></th>\n",
       "      <th>A</th>\n",
       "      <th>B</th>\n",
       "      <th>C</th>\n",
       "      <th>D</th>\n",
       "      <th>E</th>\n",
       "      <th>F</th>\n",
       "    </tr>\n",
       "  </thead>\n",
       "  <tbody>\n",
       "    <tr>\n",
       "      <th>A</th>\n",
       "      <td>0</td>\n",
       "      <td>1</td>\n",
       "      <td>3</td>\n",
       "      <td>2</td>\n",
       "      <td>4</td>\n",
       "      <td>3</td>\n",
       "    </tr>\n",
       "    <tr>\n",
       "      <th>B</th>\n",
       "      <td>1</td>\n",
       "      <td>0</td>\n",
       "      <td>2</td>\n",
       "      <td>3</td>\n",
       "      <td>3</td>\n",
       "      <td>3</td>\n",
       "    </tr>\n",
       "    <tr>\n",
       "      <th>C</th>\n",
       "      <td>3</td>\n",
       "      <td>2</td>\n",
       "      <td>0</td>\n",
       "      <td>1</td>\n",
       "      <td>3</td>\n",
       "      <td>1</td>\n",
       "    </tr>\n",
       "    <tr>\n",
       "      <th>D</th>\n",
       "      <td>2</td>\n",
       "      <td>3</td>\n",
       "      <td>1</td>\n",
       "      <td>0</td>\n",
       "      <td>4</td>\n",
       "      <td>1</td>\n",
       "    </tr>\n",
       "    <tr>\n",
       "      <th>E</th>\n",
       "      <td>4</td>\n",
       "      <td>3</td>\n",
       "      <td>3</td>\n",
       "      <td>4</td>\n",
       "      <td>0</td>\n",
       "      <td>4</td>\n",
       "    </tr>\n",
       "    <tr>\n",
       "      <th>F</th>\n",
       "      <td>3</td>\n",
       "      <td>3</td>\n",
       "      <td>1</td>\n",
       "      <td>1</td>\n",
       "      <td>4</td>\n",
       "      <td>0</td>\n",
       "    </tr>\n",
       "  </tbody>\n",
       "</table>\n",
       "</div>"
      ],
      "text/plain": [
       "   A  B  C  D  E  F\n",
       "A  0  1  3  2  4  3\n",
       "B  1  0  2  3  3  3\n",
       "C  3  2  0  1  3  1\n",
       "D  2  3  1  0  4  1\n",
       "E  4  3  3  4  0  4\n",
       "F  3  3  1  1  4  0"
      ]
     },
     "execution_count": 571,
     "metadata": {},
     "output_type": "execute_result"
    }
   ],
   "source": [
    "import random\n",
    "test = {'A':'111223','B':'111221','C':'211121','D':'211123','E':'212211','F':'211122'}\n",
    "print (test)\n",
    "d = dist_matrix(test)\n",
    "tree_from_distmatrix(d)\n",
    "#tree = tree_from_distance_matrix(d)\n",
    "\n",
    "d"
   ]
  },
  {
   "cell_type": "code",
   "execution_count": 572,
   "id": "7fe28265-9205-4d52-a655-ab7e8d84428f",
   "metadata": {},
   "outputs": [
    {
     "name": "stderr",
     "output_type": "stream",
     "text": [
      "/usr/local/lib/python3.9/dist-packages/seaborn/matrix.py:619: ClusterWarning: scipy.cluster: The symmetric non-negative hollow observation matrix looks suspiciously like an uncondensed distance matrix\n",
      "  linkage = hierarchy.linkage(self.array, method=self.method,\n"
     ]
    },
    {
     "name": "stdout",
     "output_type": "stream",
     "text": [
      "                    /-19-MBovis\n",
      "          /--------|\n",
      "         |         |          /-1034\n",
      "         |          \\--------|\n",
      "         |                   |          /-14-MBovis\n",
      "         |                    \\--------|\n",
      "         |                              \\-13-11594\n",
      "         |\n",
      "         |                    /-17-11662\n",
      "---------|          /--------|\n",
      "         |         |          \\-22-12200\n",
      "         |---------|\n",
      "         |         |          /-19-11957\n",
      "         |          \\--------|\n",
      "         |                   |          /-182-MBovis\n",
      "         |                    \\--------|\n",
      "         |                              \\-15-11643\n",
      "         |\n",
      "          \\-17-MBovis\n"
     ]
    },
    {
     "data": {
      "image/png": "[encoded data removed]",
      "text/plain": [
       "<Figure size 720x720 with 4 Axes>"
      ]
     },
     "metadata": {
      "needs_background": "light"
     },
     "output_type": "display_data"
    }
   ],
   "source": [
    "D = dist_matrix(profs)\n",
    "D.to_csv('dist_mlst.csv',index=False)\n",
    "sns.clustermap(D,xticklabels=True,yticklabels=True)\n",
    "tree_from_distmatrix(D)"
   ]
  },
  {
   "cell_type": "code",
   "execution_count": 573,
   "id": "8debf9c7-a270-4d7b-87cc-bf06f397b5a2",
   "metadata": {},
   "outputs": [
    {
     "data": {
      "text/html": [
       "<div class=\"toyplot\" id=\"t7d69b6ea3cc0459f97d9d8d9d7f18e78\" style=\"text-align:center\"><svg class=\"toyplot-canvas-Canvas\" xmlns:toyplot=\"http://www.sandia.gov/toyplot\" xmlns:xlink=\"http://www.w3.org/1999/xlink\" xmlns=\"http://www.w3.org/2000/svg\" width=\"500.0px\" height=\"275.0px\" viewBox=\"0 0 500.0 275.0\" preserveAspectRatio=\"xMidYMid meet\" style=\"background-color:transparent;border-color:#292724;border-style:none;border-width:1.0;fill:rgb(16.1%,15.3%,14.1%);fill-opacity:1.0;font-family:Helvetica;font-size:12px;opacity:1.0;stroke:rgb(16.1%,15.3%,14.1%);stroke-opacity:1.0;stroke-width:1.0\" id=\"t40ed2e24cb1646fda1233f4d44bb48ae\"><g class=\"toyplot-coordinates-Cartesian\" id=\"te28c976fab3043e6826c2573a752f01c\"><clipPath id=\"tf318315babfe4f50ab7d9aa2ef76178e\"><rect x=\"30.0\" y=\"30.0\" width=\"440.0\" height=\"215.0\"></rect></clipPath><g clip-path=\"url(#tf318315babfe4f50ab7d9aa2ef76178e)\"><g class=\"toytree-mark-Toytree\" id=\"t463e00cbeefa41f7b0084f1227dd8e96\"><g class=\"toytree-Edges\" style=\"fill:none;stroke:rgb(14.9%,14.9%,14.9%);stroke-linecap:round;stroke-opacity:1;stroke-width:2\"><path d=\"M 51.6 83.7 L 51.6 106.4 L 96.2 106.4\" id=\"18,17\"></path><path d=\"M 96.2 106.4 L 96.2 134.8 L 110.4 134.8\" id=\"17,16\"></path><path d=\"M 110.4 134.8 L 110.4 107.8 L 117.0 107.8\" id=\"16,15\"></path><path d=\"M 110.4 134.8 L 110.4 161.9 L 114.1 161.9\" id=\"16,14\"></path><path d=\"M 117.0 107.8 L 117.0 120.5 L 147.2 120.5\" id=\"15,13\"></path><path d=\"M 114.1 161.9 L 114.1 177.9 L 123.4 177.9\" id=\"14,12\"></path><path d=\"M 123.4 177.9 L 123.4 192.7 L 135.3 192.7\" id=\"12,11\"></path><path d=\"M 135.3 192.7 L 135.3 205.5 L 302.9 205.5\" id=\"11,10\"></path><path d=\"M 51.6 83.7 L 51.6 61.0 L 96.2 61.0\" id=\"18,9\"></path><path d=\"M 96.2 106.4 L 96.2 78.0 L 173.2 78.0\" id=\"17,8\"></path><path d=\"M 117.0 107.8 L 117.0 95.0 L 208.3 95.0\" id=\"15,7\"></path><path d=\"M 147.2 120.5 L 147.2 112.0 L 218.4 112.0\" id=\"13,6\"></path><path d=\"M 147.2 120.5 L 147.2 129.0 L 242.2 129.0\" id=\"13,5\"></path><path d=\"M 114.1 161.9 L 114.1 146.0 L 216.6 146.0\" id=\"14,4\"></path><path d=\"M 123.4 177.9 L 123.4 163.0 L 236.2 163.0\" id=\"12,3\"></path><path d=\"M 135.3 192.7 L 135.3 180.0 L 193.5 180.0\" id=\"11,2\"></path><path d=\"M 302.9 205.5 L 302.9 197.0 L 370.8 197.0\" id=\"10,1\"></path><path d=\"M 302.9 205.5 L 302.9 214.0 L 316.0 214.0\" id=\"10,0\"></path></g><g class=\"toytree-TipLabels\" style=\"fill:rgb(14.9%,14.9%,14.9%);fill-opacity:1.0;font-family:helvetica;font-size:11px;font-weight:normal;stroke:none;white-space:pre\"><g transform=\"translate(315.97,213.99)rotate(0)\"><text x=\"15.00\" y=\"2.81\" style=\"\">13-11594</text></g><g transform=\"translate(370.84,196.99)rotate(0)\"><text x=\"15.00\" y=\"2.81\" style=\"\">14-MBovis</text></g><g transform=\"translate(193.52,179.99)rotate(0)\"><text x=\"15.00\" y=\"2.81\" style=\"\">1034</text></g><g transform=\"translate(236.23,163.00)rotate(0)\"><text x=\"15.00\" y=\"2.81\" style=\"\">19-MBovis</text></g><g transform=\"translate(216.65,146.00)rotate(0)\"><text x=\"15.00\" y=\"2.81\" style=\"\">17-MBovis</text></g><g transform=\"translate(242.20,129.00)rotate(0)\"><text x=\"15.00\" y=\"2.81\" style=\"\">15-11643</text></g><g transform=\"translate(218.45,112.00)rotate(0)\"><text x=\"15.00\" y=\"2.81\" style=\"\">182-MBovis</text></g><g transform=\"translate(208.30,95.01)rotate(0)\"><text x=\"15.00\" y=\"2.81\" style=\"\">19-11957</text></g><g transform=\"translate(173.17,78.01)rotate(0)\"><text x=\"15.00\" y=\"2.81\" style=\"\">22-12200</text></g><g transform=\"translate(96.24,61.01)rotate(0)\"><text x=\"15.00\" y=\"2.81\" style=\"\">17-11662</text></g></g></g></g><g class=\"toyplot-coordinates-Axis\" id=\"t18e913d37bd7433c87fcd4ec00179c42\" transform=\"translate(50.0,225.0)translate(0,20.0)\"><line x1=\"1.5962233355879516\" y1=\"0\" x2=\"320.8408904531877\" y2=\"0\" style=\"\"></line><g><line x1=\"320.8408904531877\" y1=\"0\" x2=\"320.8408904531877\" y2=\"-5\" style=\"\"></line><line x1=\"241.02972367378777\" y1=\"0\" x2=\"241.02972367378777\" y2=\"-5\" style=\"\"></line><line x1=\"161.21855689438783\" y1=\"0\" x2=\"161.21855689438783\" y2=\"-5\" style=\"\"></line><line x1=\"81.40739011498789\" y1=\"0\" x2=\"81.40739011498789\" y2=\"-5\" style=\"\"></line><line x1=\"1.5962233355879516\" y1=\"0\" x2=\"1.5962233355879516\" y2=\"-5\" style=\"\"></line></g><g><g transform=\"translate(320.8408904531877,6)\"><text x=\"-2.78\" y=\"8.555\" style=\"fill:rgb(16.1%,15.3%,14.1%);fill-opacity:1.0;font-family:helvetica;font-size:10.0px;font-weight:normal;stroke:none;vertical-align:baseline;white-space:pre\">0</text></g><g transform=\"translate(241.02972367378777,6)\"><text x=\"-5.56\" y=\"8.555\" style=\"fill:rgb(16.1%,15.3%,14.1%);fill-opacity:1.0;font-family:helvetica;font-size:10.0px;font-weight:normal;stroke:none;vertical-align:baseline;white-space:pre\">19</text></g><g transform=\"translate(161.21855689438783,6)\"><text x=\"-5.56\" y=\"8.555\" style=\"fill:rgb(16.1%,15.3%,14.1%);fill-opacity:1.0;font-family:helvetica;font-size:10.0px;font-weight:normal;stroke:none;vertical-align:baseline;white-space:pre\">37</text></g><g transform=\"translate(81.40739011498789,6)\"><text x=\"-5.56\" y=\"8.555\" style=\"fill:rgb(16.1%,15.3%,14.1%);fill-opacity:1.0;font-family:helvetica;font-size:10.0px;font-weight:normal;stroke:none;vertical-align:baseline;white-space:pre\">56</text></g><g transform=\"translate(1.5962233355879516,6)\"><text x=\"-5.56\" y=\"8.555\" style=\"fill:rgb(16.1%,15.3%,14.1%);fill-opacity:1.0;font-family:helvetica;font-size:10.0px;font-weight:normal;stroke:none;vertical-align:baseline;white-space:pre\">75</text></g></g><g class=\"toyplot-coordinates-Axis-coordinates\" style=\"visibility:hidden\" transform=\"\"><line x1=\"0\" x2=\"0\" y1=\"-3.0\" y2=\"4.5\" style=\"stroke:rgb(43.9%,50.2%,56.5%);stroke-opacity:1.0;stroke-width:1.0\"></line><text x=\"0\" y=\"-6\" style=\"alignment-baseline:alphabetic;fill:rgb(43.9%,50.2%,56.5%);fill-opacity:1.0;font-size:10px;font-weight:normal;stroke:none;text-anchor:middle\"></text></g></g></g></svg><div class=\"toyplot-behavior\"><script>(function()\n",
       "{\n",
       "var modules={};\n",
       "modules[\"toyplot/canvas/id\"] = \"t40ed2e24cb1646fda1233f4d44bb48ae\";\n",
       "modules[\"toyplot/canvas\"] = (function(canvas_id)\n",
       "    {\n",
       "        return document.querySelector(\"#\" + canvas_id);\n",
       "    })(modules[\"toyplot/canvas/id\"]);\n",
       "modules[\"toyplot.coordinates.Axis\"] = (\n",
       "        function(canvas)\n",
       "        {\n",
       "            function sign(x)\n",
       "            {\n",
       "                return x < 0 ? -1 : x > 0 ? 1 : 0;\n",
       "            }\n",
       "\n",
       "            function mix(a, b, amount)\n",
       "            {\n",
       "                return ((1.0 - amount) * a) + (amount * b);\n",
       "            }\n",
       "\n",
       "            function log(x, base)\n",
       "            {\n",
       "                return Math.log(Math.abs(x)) / Math.log(base);\n",
       "            }\n",
       "\n",
       "            function in_range(a, x, b)\n",
       "            {\n",
       "                var left = Math.min(a, b);\n",
       "                var right = Math.max(a, b);\n",
       "                return left <= x && x <= right;\n",
       "            }\n",
       "\n",
       "            function inside(range, projection)\n",
       "            {\n",
       "                for(var i = 0; i != projection.length; ++i)\n",
       "                {\n",
       "                    var segment = projection[i];\n",
       "                    if(in_range(segment.range.min, range, segment.range.max))\n",
       "                        return true;\n",
       "                }\n",
       "                return false;\n",
       "            }\n",
       "\n",
       "            function to_domain(range, projection)\n",
       "            {\n",
       "                for(var i = 0; i != projection.length; ++i)\n",
       "                {\n",
       "                    var segment = projection[i];\n",
       "                    if(in_range(segment.range.bounds.min, range, segment.range.bounds.max))\n",
       "                    {\n",
       "                        if(segment.scale == \"linear\")\n",
       "                        {\n",
       "                            var amount = (range - segment.range.min) / (segment.range.max - segment.range.min);\n",
       "                            return mix(segment.domain.min, segment.domain.max, amount)\n",
       "                        }\n",
       "                        else if(segment.scale[0] == \"log\")\n",
       "                        {\n",
       "                            var amount = (range - segment.range.min) / (segment.range.max - segment.range.min);\n",
       "                            var base = segment.scale[1];\n",
       "                            return sign(segment.domain.min) * Math.pow(base, mix(log(segment.domain.min, base), log(segment.domain.max, base), amount));\n",
       "                        }\n",
       "                    }\n",
       "                }\n",
       "            }\n",
       "\n",
       "            var axes = {};\n",
       "\n",
       "            function display_coordinates(e)\n",
       "            {\n",
       "                var current = canvas.createSVGPoint();\n",
       "                current.x = e.clientX;\n",
       "                current.y = e.clientY;\n",
       "\n",
       "                for(var axis_id in axes)\n",
       "                {\n",
       "                    var axis = document.querySelector(\"#\" + axis_id);\n",
       "                    var coordinates = axis.querySelector(\".toyplot-coordinates-Axis-coordinates\");\n",
       "                    if(coordinates)\n",
       "                    {\n",
       "                        var projection = axes[axis_id];\n",
       "                        var local = current.matrixTransform(axis.getScreenCTM().inverse());\n",
       "                        if(inside(local.x, projection))\n",
       "                        {\n",
       "                            var domain = to_domain(local.x, projection);\n",
       "                            coordinates.style.visibility = \"visible\";\n",
       "                            coordinates.setAttribute(\"transform\", \"translate(\" + local.x + \")\");\n",
       "                            var text = coordinates.querySelector(\"text\");\n",
       "                            text.textContent = domain.toFixed(2);\n",
       "                        }\n",
       "                        else\n",
       "                        {\n",
       "                            coordinates.style.visibility= \"hidden\";\n",
       "                        }\n",
       "                    }\n",
       "                }\n",
       "            }\n",
       "\n",
       "            canvas.addEventListener(\"click\", display_coordinates);\n",
       "\n",
       "            var module = {};\n",
       "            module.show_coordinates = function(axis_id, projection)\n",
       "            {\n",
       "                axes[axis_id] = projection;\n",
       "            }\n",
       "\n",
       "            return module;\n",
       "        })(modules[\"toyplot/canvas\"]);\n",
       "(function(axis, axis_id, projection)\n",
       "        {\n",
       "            axis.show_coordinates(axis_id, projection);\n",
       "        })(modules[\"toyplot.coordinates.Axis\"],\"t18e913d37bd7433c87fcd4ec00179c42\",[{\"domain\": {\"bounds\": {\"max\": Infinity, \"min\": -Infinity}, \"max\": 18.572533245472506, \"min\": -75.276593415}, \"range\": {\"bounds\": {\"max\": Infinity, \"min\": -Infinity}, \"max\": 400.0, \"min\": 0.0}, \"scale\": \"linear\"}]);\n",
       "})();</script></div></div>"
      ]
     },
     "metadata": {},
     "output_type": "display_data"
    }
   ],
   "source": [
    "meta = pd.read_csv('/storage/btbgenie/mbovis_ireland/all_ireland_samples.csv')\n",
    "#mapping = dict(zip(meta['sample'],meta.clade))\n",
    "\n",
    "tre = toytree.tree(treefile)\n",
    "tre=tre.root('17-11662')\n",
    "canvas,t,r=tre.draw(layout='r',scalebar=True,width=500)"
   ]
  },
  {
   "cell_type": "code",
   "execution_count": 574,
   "id": "ea9b1f21-c3b7-46f0-93f4-4e3bc503c246",
   "metadata": {},
   "outputs": [
    {
     "data": {
      "text/html": [
       "<div class=\"toyplot\" id=\"t8596166525334af8972d1121db2859e9\" style=\"text-align:center\"><svg class=\"toyplot-canvas-Canvas\" xmlns:toyplot=\"http://www.sandia.gov/toyplot\" xmlns:xlink=\"http://www.w3.org/1999/xlink\" xmlns=\"http://www.w3.org/2000/svg\" width=\"800.0px\" height=\"275.0px\" viewBox=\"0 0 800.0 275.0\" preserveAspectRatio=\"xMidYMid meet\" style=\"background-color:transparent;border-color:#292724;border-style:none;border-width:1.0;fill:rgb(16.1%,15.3%,14.1%);fill-opacity:1.0;font-family:Helvetica;font-size:12px;opacity:1.0;stroke:rgb(16.1%,15.3%,14.1%);stroke-opacity:1.0;stroke-width:1.0\" id=\"tf173427d133547a5a156d9d77290ae33\"><g class=\"toyplot-coordinates-Cartesian\" id=\"t00352982874f461fa5918aa0d26b82e7\"><clipPath id=\"tabde2e1e49b14174b7762c892a63a829\"><rect x=\"30.0\" y=\"30.0\" width=\"740.0\" height=\"215.0\"></rect></clipPath><g clip-path=\"url(#tabde2e1e49b14174b7762c892a63a829)\"><g class=\"toytree-mark-Toytree\" id=\"t336dcda433fe4e8a9a70692f1591a08b\"><g class=\"toytree-Edges\" style=\"fill:none;stroke:rgb(14.9%,14.9%,14.9%);stroke-linecap:round;stroke-opacity:1;stroke-width:2\"><path d=\"M 51.7 88.9 L 51.7 116.8 L 613.0 116.8\" id=\"18,17\"></path><path d=\"M 613.0 116.8 L 613.0 86.5 L 622.9 86.5\" id=\"17,16\"></path><path d=\"M 613.0 116.8 L 613.0 147.1 L 621.5 147.1\" id=\"17,15\"></path><path d=\"M 621.5 147.1 L 621.5 120.5 L 632.7 120.5\" id=\"15,14\"></path><path d=\"M 621.5 147.1 L 621.5 173.6 L 621.5 173.6\" id=\"15,13\"></path><path d=\"M 621.5 173.6 L 621.5 154.5 L 627.1 154.5\" id=\"13,12\"></path><path d=\"M 621.5 173.6 L 621.5 192.7 L 621.5 192.7\" id=\"13,11\"></path><path d=\"M 621.5 192.7 L 621.5 205.5 L 624.3 205.5\" id=\"11,10\"></path><path d=\"M 51.7 88.9 L 51.7 61.0 L 135.8 61.0\" id=\"18,9\"></path><path d=\"M 622.9 86.5 L 622.9 78.0 L 625.8 78.0\" id=\"16,8\"></path><path d=\"M 622.9 86.5 L 622.9 95.0 L 628.6 95.0\" id=\"16,7\"></path><path d=\"M 632.7 120.5 L 632.7 112.0 L 632.7 112.0\" id=\"14,6\"></path><path d=\"M 632.7 120.5 L 632.7 129.0 L 634.1 129.0\" id=\"14,5\"></path><path d=\"M 627.1 154.5 L 627.1 146.0 L 627.1 146.0\" id=\"12,4\"></path><path d=\"M 627.1 154.5 L 627.1 163.0 L 654.5 163.0\" id=\"12,3\"></path><path d=\"M 621.5 192.7 L 621.5 180.0 L 631.4 180.0\" id=\"11,2\"></path><path d=\"M 624.3 205.5 L 624.3 197.0 L 624.3 197.0\" id=\"10,1\"></path><path d=\"M 624.3 205.5 L 624.3 214.0 L 629.9 214.0\" id=\"10,0\"></path></g><g class=\"toytree-TipLabels\" style=\"fill:rgb(14.9%,14.9%,14.9%);fill-opacity:1.0;font-family:helvetica;font-size:11px;font-weight:normal;stroke:none;white-space:pre\"><g transform=\"translate(629.88,213.99)rotate(0)\"><text x=\"15.00\" y=\"2.81\" style=\"\">22-12200</text></g><g transform=\"translate(624.27,196.99)rotate(0)\"><text x=\"15.00\" y=\"2.81\" style=\"\">19-MBovis</text></g><g transform=\"translate(631.38,179.99)rotate(0)\"><text x=\"15.00\" y=\"2.81\" style=\"\">1034</text></g><g transform=\"translate(654.53,163.00)rotate(0)\"><text x=\"15.00\" y=\"2.81\" style=\"\">182-MBovis</text></g><g transform=\"translate(627.11,146.00)rotate(0)\"><text x=\"15.00\" y=\"2.81\" style=\"\">14-MBovis</text></g><g transform=\"translate(634.13,129.00)rotate(0)\"><text x=\"15.00\" y=\"2.81\" style=\"\">19-11957</text></g><g transform=\"translate(632.73,112.00)rotate(0)\"><text x=\"15.00\" y=\"2.81\" style=\"\">15-11643</text></g><g transform=\"translate(628.60,95.01)rotate(0)\"><text x=\"15.00\" y=\"2.81\" style=\"\">13-11594</text></g><g transform=\"translate(625.78,78.01)rotate(0)\"><text x=\"15.00\" y=\"2.81\" style=\"\">17-MBovis</text></g><g transform=\"translate(135.85,61.01)rotate(0)\"><text x=\"15.00\" y=\"2.81\" style=\"\">17-11662</text></g></g></g></g><g class=\"toyplot-coordinates-Axis\" id=\"tde750bc3072b40178c1ca23705683e66\" transform=\"translate(50.0,225.0)translate(0,20.0)\"><line x1=\"1.7223159244100517\" y1=\"0\" x2=\"604.532889467915\" y2=\"0\" style=\"\"></line><g><line x1=\"604.532889467915\" y1=\"0\" x2=\"604.532889467915\" y2=\"-5\" style=\"\"></line><line x1=\"518.4170932474143\" y1=\"0\" x2=\"518.4170932474143\" y2=\"-5\" style=\"\"></line><line x1=\"432.3012970269136\" y1=\"0\" x2=\"432.3012970269136\" y2=\"-5\" style=\"\"></line><line x1=\"346.1855008064129\" y1=\"0\" x2=\"346.1855008064129\" y2=\"-5\" style=\"\"></line><line x1=\"260.0697045859122\" y1=\"0\" x2=\"260.0697045859122\" y2=\"-5\" style=\"\"></line><line x1=\"173.95390836541145\" y1=\"0\" x2=\"173.95390836541145\" y2=\"-5\" style=\"\"></line><line x1=\"87.83811214491078\" y1=\"0\" x2=\"87.83811214491078\" y2=\"-5\" style=\"\"></line><line x1=\"1.7223159244100517\" y1=\"0\" x2=\"1.7223159244100517\" y2=\"-5\" style=\"\"></line></g><g><g transform=\"translate(604.532889467915,6)\"><text x=\"-6.95\" y=\"8.555\" style=\"fill:rgb(16.1%,15.3%,14.1%);fill-opacity:1.0;font-family:helvetica;font-size:10.0px;font-weight:normal;stroke:none;vertical-align:baseline;white-space:pre\">0.0</text></g><g transform=\"translate(518.4170932474143,6)\"><text x=\"-6.95\" y=\"8.555\" style=\"fill:rgb(16.1%,15.3%,14.1%);fill-opacity:1.0;font-family:helvetica;font-size:10.0px;font-weight:normal;stroke:none;vertical-align:baseline;white-space:pre\">0.1</text></g><g transform=\"translate(432.3012970269136,6)\"><text x=\"-6.95\" y=\"8.555\" style=\"fill:rgb(16.1%,15.3%,14.1%);fill-opacity:1.0;font-family:helvetica;font-size:10.0px;font-weight:normal;stroke:none;vertical-align:baseline;white-space:pre\">0.3</text></g><g transform=\"translate(346.1855008064129,6)\"><text x=\"-6.95\" y=\"8.555\" style=\"fill:rgb(16.1%,15.3%,14.1%);fill-opacity:1.0;font-family:helvetica;font-size:10.0px;font-weight:normal;stroke:none;vertical-align:baseline;white-space:pre\">0.4</text></g><g transform=\"translate(260.0697045859122,6)\"><text x=\"-6.95\" y=\"8.555\" style=\"fill:rgb(16.1%,15.3%,14.1%);fill-opacity:1.0;font-family:helvetica;font-size:10.0px;font-weight:normal;stroke:none;vertical-align:baseline;white-space:pre\">0.6</text></g><g transform=\"translate(173.95390836541145,6)\"><text x=\"-6.95\" y=\"8.555\" style=\"fill:rgb(16.1%,15.3%,14.1%);fill-opacity:1.0;font-family:helvetica;font-size:10.0px;font-weight:normal;stroke:none;vertical-align:baseline;white-space:pre\">0.7</text></g><g transform=\"translate(87.83811214491078,6)\"><text x=\"-6.95\" y=\"8.555\" style=\"fill:rgb(16.1%,15.3%,14.1%);fill-opacity:1.0;font-family:helvetica;font-size:10.0px;font-weight:normal;stroke:none;vertical-align:baseline;white-space:pre\">0.8</text></g><g transform=\"translate(1.7223159244100517,6)\"><text x=\"-6.95\" y=\"8.555\" style=\"fill:rgb(16.1%,15.3%,14.1%);fill-opacity:1.0;font-family:helvetica;font-size:10.0px;font-weight:normal;stroke:none;vertical-align:baseline;white-space:pre\">1.0</text></g></g><g class=\"toyplot-coordinates-Axis-coordinates\" style=\"visibility:hidden\" transform=\"\"><line x1=\"0\" x2=\"0\" y1=\"-3.0\" y2=\"4.5\" style=\"stroke:rgb(43.9%,50.2%,56.5%);stroke-opacity:1.0;stroke-width:1.0\"></line><text x=\"0\" y=\"-6\" style=\"alignment-baseline:alphabetic;fill:rgb(43.9%,50.2%,56.5%);fill-opacity:1.0;font-size:10px;font-weight:normal;stroke:none;text-anchor:middle\"></text></g></g></g></svg><div class=\"toyplot-behavior\"><script>(function()\n",
       "{\n",
       "var modules={};\n",
       "modules[\"toyplot/canvas/id\"] = \"tf173427d133547a5a156d9d77290ae33\";\n",
       "modules[\"toyplot/canvas\"] = (function(canvas_id)\n",
       "    {\n",
       "        return document.querySelector(\"#\" + canvas_id);\n",
       "    })(modules[\"toyplot/canvas/id\"]);\n",
       "modules[\"toyplot.coordinates.Axis\"] = (\n",
       "        function(canvas)\n",
       "        {\n",
       "            function sign(x)\n",
       "            {\n",
       "                return x < 0 ? -1 : x > 0 ? 1 : 0;\n",
       "            }\n",
       "\n",
       "            function mix(a, b, amount)\n",
       "            {\n",
       "                return ((1.0 - amount) * a) + (amount * b);\n",
       "            }\n",
       "\n",
       "            function log(x, base)\n",
       "            {\n",
       "                return Math.log(Math.abs(x)) / Math.log(base);\n",
       "            }\n",
       "\n",
       "            function in_range(a, x, b)\n",
       "            {\n",
       "                var left = Math.min(a, b);\n",
       "                var right = Math.max(a, b);\n",
       "                return left <= x && x <= right;\n",
       "            }\n",
       "\n",
       "            function inside(range, projection)\n",
       "            {\n",
       "                for(var i = 0; i != projection.length; ++i)\n",
       "                {\n",
       "                    var segment = projection[i];\n",
       "                    if(in_range(segment.range.min, range, segment.range.max))\n",
       "                        return true;\n",
       "                }\n",
       "                return false;\n",
       "            }\n",
       "\n",
       "            function to_domain(range, projection)\n",
       "            {\n",
       "                for(var i = 0; i != projection.length; ++i)\n",
       "                {\n",
       "                    var segment = projection[i];\n",
       "                    if(in_range(segment.range.bounds.min, range, segment.range.bounds.max))\n",
       "                    {\n",
       "                        if(segment.scale == \"linear\")\n",
       "                        {\n",
       "                            var amount = (range - segment.range.min) / (segment.range.max - segment.range.min);\n",
       "                            return mix(segment.domain.min, segment.domain.max, amount)\n",
       "                        }\n",
       "                        else if(segment.scale[0] == \"log\")\n",
       "                        {\n",
       "                            var amount = (range - segment.range.min) / (segment.range.max - segment.range.min);\n",
       "                            var base = segment.scale[1];\n",
       "                            return sign(segment.domain.min) * Math.pow(base, mix(log(segment.domain.min, base), log(segment.domain.max, base), amount));\n",
       "                        }\n",
       "                    }\n",
       "                }\n",
       "            }\n",
       "\n",
       "            var axes = {};\n",
       "\n",
       "            function display_coordinates(e)\n",
       "            {\n",
       "                var current = canvas.createSVGPoint();\n",
       "                current.x = e.clientX;\n",
       "                current.y = e.clientY;\n",
       "\n",
       "                for(var axis_id in axes)\n",
       "                {\n",
       "                    var axis = document.querySelector(\"#\" + axis_id);\n",
       "                    var coordinates = axis.querySelector(\".toyplot-coordinates-Axis-coordinates\");\n",
       "                    if(coordinates)\n",
       "                    {\n",
       "                        var projection = axes[axis_id];\n",
       "                        var local = current.matrixTransform(axis.getScreenCTM().inverse());\n",
       "                        if(inside(local.x, projection))\n",
       "                        {\n",
       "                            var domain = to_domain(local.x, projection);\n",
       "                            coordinates.style.visibility = \"visible\";\n",
       "                            coordinates.setAttribute(\"transform\", \"translate(\" + local.x + \")\");\n",
       "                            var text = coordinates.querySelector(\"text\");\n",
       "                            text.textContent = domain.toFixed(2);\n",
       "                        }\n",
       "                        else\n",
       "                        {\n",
       "                            coordinates.style.visibility= \"hidden\";\n",
       "                        }\n",
       "                    }\n",
       "                }\n",
       "            }\n",
       "\n",
       "            canvas.addEventListener(\"click\", display_coordinates);\n",
       "\n",
       "            var module = {};\n",
       "            module.show_coordinates = function(axis_id, projection)\n",
       "            {\n",
       "                axes[axis_id] = projection;\n",
       "            }\n",
       "\n",
       "            return module;\n",
       "        })(modules[\"toyplot/canvas\"]);\n",
       "(function(axis, axis_id, projection)\n",
       "        {\n",
       "            axis.show_coordinates(axis_id, projection);\n",
       "        })(modules[\"toyplot.coordinates.Axis\"],\"tde750bc3072b40178c1ca23705683e66\",[{\"domain\": {\"bounds\": {\"max\": Infinity, \"min\": -Infinity}, \"max\": 0.15399630170534828, \"min\": -0.9751612751076089}, \"range\": {\"bounds\": {\"max\": Infinity, \"min\": -Infinity}, \"max\": 700.0, \"min\": 0.0}, \"scale\": \"linear\"}]);\n",
       "})();</script></div></div>"
      ]
     },
     "metadata": {},
     "output_type": "display_data"
    }
   ],
   "source": [
    "tre2 = toytree.tree('/storage/btbgenie/wicklow_results/RAxML_bestTree.variants')\n",
    "drop = list(set(tre2.get_tip_labels()) - set(tre.get_tip_labels()))\n",
    "tre2=tre2.drop_tips(drop)\n",
    "tre2=tre2.root('17-11662')\n",
    "canvas,t,r=tre2.draw(layout='r',scalebar=True,width=800)"
   ]
  },
  {
   "cell_type": "code",
   "execution_count": null,
   "id": "24e4e31b-87c0-4f89-a0e8-8de8e81ac12a",
   "metadata": {},
   "outputs": [],
   "source": []
  }
 ],
 "metadata": {
  "kernelspec": {
   "display_name": "Python 3",
   "language": "python",
   "name": "python3"
  },
  "language_info": {
   "codemirror_mode": {
    "name": "ipython",
    "version": 3
   },
   "file_extension": ".py",
   "mimetype": "text/x-python",
   "name": "python",
   "nbconvert_exporter": "python",
   "pygments_lexer": "ipython3",
   "version": "3.9.4"
  }
 },
 "nbformat": 4,
 "nbformat_minor": 5
}
