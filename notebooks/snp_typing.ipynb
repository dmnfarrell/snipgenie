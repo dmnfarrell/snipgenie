{
 "cells": [
  {
   "cell_type": "markdown",
   "metadata": {},
   "source": [
    "## SNP typing and lineage naming from WGS using reference population\n",
    "\n",
    "References:\n",
    "\n",
    "* https://www.nature.com/articles/ncomms5812\n",
    "* https://www.frontiersin.org/articles/10.3389/fmicb.2020.00843/full\n",
    "* https://www.ncbi.nlm.nih.gov/pmc/articles/PMC3502966/\n",
    "\n",
    "Selection of reference population:\n",
    "\n",
    "* Global\n",
    "* European\n",
    "* UK/Ireland\n",
    "* All Ireland (republic + NI)\n",
    "\n",
    "required: \n",
    "\n",
    "* We need to be able to add new samples to the existing **reference** population phylogeny without having to re-analyse everything together.\n",
    "* We need to have a sufficiently sampled reference matrix that it will cover most potential new inputs. Otherwise they will be considered outgroups.\n"
   ]
  },
  {
   "cell_type": "code",
   "execution_count": 1,
   "metadata": {},
   "outputs": [],
   "source": [
    "import sys,os,subprocess\n",
    "from importlib import reload\n",
    "import numpy as np\n",
    "import pandas as pd\n",
    "import pylab as plt\n",
    "import scipy.cluster.hierarchy as shc\n",
    "from sklearn.preprocessing import normalize\n",
    "from Bio.SeqRecord import SeqRecord\n",
    "from Bio.Seq import Seq\n",
    "from Bio import SeqIO,AlignIO\n",
    "from Bio import Phylo\n",
    "import seaborn as sns\n",
    "import toytree\n",
    "import snipgenie\n",
    "from snipgenie import app, trees, tools, snp_typing"
   ]
  },
  {
   "cell_type": "code",
   "execution_count": 2,
   "metadata": {},
   "outputs": [],
   "source": [
    "def snps_to_fasta(snpmat, outfile):\n",
    "    \"\"\"Write snp matrix to fasta file\"\"\"\n",
    "    \n",
    "    snpmat = snpmat.fillna('N')\n",
    "    recs = []\n",
    "    for col in snpmat.columns[1:]:\n",
    "        seq = ''.join(snpmat[col])        \n",
    "        seqrec = SeqRecord(Seq(seq),id=col)\n",
    "        recs.append(seqrec)\n",
    "    SeqIO.write(recs, outfile, 'fasta')\n",
    "    return    \n",
    "\n",
    "def tree_from_snps(snpmat):\n",
    "    snps_to_fasta(snpmat, 'snps.fa') \n",
    "    treefile = trees.run_fasttree('snps.fa')\n",
    "    tre = toytree.tree(treefile)\n",
    "    mystyle = { \"layout\": 'r','node_sizes':1,'tip_labels_align':False}\n",
    "    tre.ladderize().draw(**mystyle,width=700);\n",
    "    return tre"
   ]
  },
  {
   "cell_type": "code",
   "execution_count": null,
   "metadata": {},
   "outputs": [],
   "source": [
    "#snps_to_fasta(nucmat, 'snps.fa')\n",
    "tree_from_snps(nucmat)"
   ]
  },
  {
   "cell_type": "code",
   "execution_count": 39,
   "metadata": {},
   "outputs": [
    {
     "name": "stdout",
     "output_type": "stream",
     "text": [
      "249\n"
     ]
    }
   ],
   "source": [
    "nucmat = pd.read_csv('../snipgenie/data/nuc_snps_ireland.txt',sep=' ')\n",
    "nucmat = nucmat.set_index('pos')\n",
    "ref=nucmat['ref']\n",
    "print (len(nucmat.T))"
   ]
  },
  {
   "cell_type": "code",
   "execution_count": 37,
   "metadata": {},
   "outputs": [
    {
     "data": {
      "text/html": [
       "<div>\n",
       "<style scoped>\n",
       "    .dataframe tbody tr th:only-of-type {\n",
       "        vertical-align: middle;\n",
       "    }\n",
       "\n",
       "    .dataframe tbody tr th {\n",
       "        vertical-align: top;\n",
       "    }\n",
       "\n",
       "    .dataframe thead th {\n",
       "        text-align: right;\n",
       "    }\n",
       "</style>\n",
       "<table border=\"1\" class=\"dataframe\">\n",
       "  <thead>\n",
       "    <tr style=\"text-align: right;\">\n",
       "      <th></th>\n",
       "      <th>SequenceName</th>\n",
       "      <th>ClusterNumber</th>\n",
       "    </tr>\n",
       "  </thead>\n",
       "  <tbody>\n",
       "    <tr>\n",
       "      <th>10</th>\n",
       "      <td>2602</td>\n",
       "      <td>1</td>\n",
       "    </tr>\n",
       "    <tr>\n",
       "      <th>11</th>\n",
       "      <td>19-1428</td>\n",
       "      <td>1</td>\n",
       "    </tr>\n",
       "    <tr>\n",
       "      <th>12</th>\n",
       "      <td>19-6108</td>\n",
       "      <td>1</td>\n",
       "    </tr>\n",
       "    <tr>\n",
       "      <th>13</th>\n",
       "      <td>19-4803</td>\n",
       "      <td>1</td>\n",
       "    </tr>\n",
       "  </tbody>\n",
       "</table>\n",
       "</div>"
      ],
      "text/plain": [
       "   SequenceName  ClusterNumber\n",
       "10         2602              1\n",
       "11      19-1428              1\n",
       "12      19-6108              1\n",
       "13      19-4803              1"
      ]
     },
     "execution_count": 37,
     "metadata": {},
     "output_type": "execute_result"
    }
   ],
   "source": [
    "clusts=pd.read_csv('/storage/btbgenie/all_ireland_results/clusters.txt',sep='\\t')\n",
    "clusts[10:14]"
   ]
  },
  {
   "cell_type": "code",
   "execution_count": 6,
   "metadata": {},
   "outputs": [],
   "source": [
    "def make_ref_snps():\n",
    "    \n",
    "    nucmat = pd.read_csv('../snipgenie/data/nuc_snps_ireland.txt',sep=' ')\n",
    "    nucmat = nucmat.set_index('pos')\n",
    "    clusts=pd.read_csv('/storage/btbgenie/all_ireland_results/clusters.txt',sep='\\t')\n",
    "    X=nucmat.T.merge(clusts,left_index=True,right_on='SequenceName').set_index(['ClusterNumber']).T\n",
    "    return X"
   ]
  },
  {
   "cell_type": "code",
   "execution_count": 7,
   "metadata": {},
   "outputs": [
    {
     "data": {
      "text/html": [
       "<div>\n",
       "<style scoped>\n",
       "    .dataframe tbody tr th:only-of-type {\n",
       "        vertical-align: middle;\n",
       "    }\n",
       "\n",
       "    .dataframe tbody tr th {\n",
       "        vertical-align: top;\n",
       "    }\n",
       "\n",
       "    .dataframe thead th {\n",
       "        text-align: right;\n",
       "    }\n",
       "</style>\n",
       "<table border=\"1\" class=\"dataframe\">\n",
       "  <thead>\n",
       "    <tr style=\"text-align: right;\">\n",
       "      <th>ClusterNumber</th>\n",
       "      <th>-1</th>\n",
       "      <th>11</th>\n",
       "      <th>11</th>\n",
       "      <th>11</th>\n",
       "      <th>11</th>\n",
       "      <th>11</th>\n",
       "      <th>11</th>\n",
       "      <th>11</th>\n",
       "      <th>2</th>\n",
       "      <th>11</th>\n",
       "      <th>...</th>\n",
       "      <th>20</th>\n",
       "      <th>20</th>\n",
       "      <th>20</th>\n",
       "      <th>20</th>\n",
       "      <th>20</th>\n",
       "      <th>20</th>\n",
       "      <th>20</th>\n",
       "      <th>20</th>\n",
       "      <th>20</th>\n",
       "      <th>20</th>\n",
       "    </tr>\n",
       "  </thead>\n",
       "  <tbody>\n",
       "    <tr>\n",
       "      <th>687</th>\n",
       "      <td>C</td>\n",
       "      <td>C</td>\n",
       "      <td>C</td>\n",
       "      <td>C</td>\n",
       "      <td>C</td>\n",
       "      <td>C</td>\n",
       "      <td>C</td>\n",
       "      <td>C</td>\n",
       "      <td>C</td>\n",
       "      <td>C</td>\n",
       "      <td>...</td>\n",
       "      <td>C</td>\n",
       "      <td>C</td>\n",
       "      <td>C</td>\n",
       "      <td>C</td>\n",
       "      <td>C</td>\n",
       "      <td>C</td>\n",
       "      <td>C</td>\n",
       "      <td>C</td>\n",
       "      <td>C</td>\n",
       "      <td>C</td>\n",
       "    </tr>\n",
       "    <tr>\n",
       "      <th>937</th>\n",
       "      <td>A</td>\n",
       "      <td>A</td>\n",
       "      <td>A</td>\n",
       "      <td>A</td>\n",
       "      <td>A</td>\n",
       "      <td>A</td>\n",
       "      <td>A</td>\n",
       "      <td>A</td>\n",
       "      <td>A</td>\n",
       "      <td>A</td>\n",
       "      <td>...</td>\n",
       "      <td>A</td>\n",
       "      <td>A</td>\n",
       "      <td>A</td>\n",
       "      <td>A</td>\n",
       "      <td>A</td>\n",
       "      <td>A</td>\n",
       "      <td>A</td>\n",
       "      <td>A</td>\n",
       "      <td>A</td>\n",
       "      <td>A</td>\n",
       "    </tr>\n",
       "    <tr>\n",
       "      <th>1303</th>\n",
       "      <td>G</td>\n",
       "      <td>G</td>\n",
       "      <td>G</td>\n",
       "      <td>G</td>\n",
       "      <td>G</td>\n",
       "      <td>G</td>\n",
       "      <td>G</td>\n",
       "      <td>G</td>\n",
       "      <td>G</td>\n",
       "      <td>G</td>\n",
       "      <td>...</td>\n",
       "      <td>G</td>\n",
       "      <td>G</td>\n",
       "      <td>G</td>\n",
       "      <td>G</td>\n",
       "      <td>G</td>\n",
       "      <td>G</td>\n",
       "      <td>G</td>\n",
       "      <td>G</td>\n",
       "      <td>G</td>\n",
       "      <td>G</td>\n",
       "    </tr>\n",
       "    <tr>\n",
       "      <th>1456</th>\n",
       "      <td>G</td>\n",
       "      <td>G</td>\n",
       "      <td>G</td>\n",
       "      <td>G</td>\n",
       "      <td>G</td>\n",
       "      <td>G</td>\n",
       "      <td>G</td>\n",
       "      <td>G</td>\n",
       "      <td>G</td>\n",
       "      <td>G</td>\n",
       "      <td>...</td>\n",
       "      <td>G</td>\n",
       "      <td>G</td>\n",
       "      <td>G</td>\n",
       "      <td>G</td>\n",
       "      <td>G</td>\n",
       "      <td>G</td>\n",
       "      <td>G</td>\n",
       "      <td>G</td>\n",
       "      <td>G</td>\n",
       "      <td>G</td>\n",
       "    </tr>\n",
       "  </tbody>\n",
       "</table>\n",
       "<p>4 rows × 249 columns</p>\n",
       "</div>"
      ],
      "text/plain": [
       "ClusterNumber -1   11  11  11  11  11  11  11  2   11  ...  20  20  20  20  \\\n",
       "687             C   C   C   C   C   C   C   C   C   C  ...   C   C   C   C   \n",
       "937             A   A   A   A   A   A   A   A   A   A  ...   A   A   A   A   \n",
       "1303            G   G   G   G   G   G   G   G   G   G  ...   G   G   G   G   \n",
       "1456            G   G   G   G   G   G   G   G   G   G  ...   G   G   G   G   \n",
       "\n",
       "ClusterNumber  20  20  20  20  20  20  \n",
       "687             C   C   C   C   C   C  \n",
       "937             A   A   A   A   A   A  \n",
       "1303            G   G   G   G   G   G  \n",
       "1456            G   G   G   G   G   G  \n",
       "\n",
       "[4 rows x 249 columns]"
      ]
     },
     "execution_count": 7,
     "metadata": {},
     "output_type": "execute_result"
    }
   ],
   "source": [
    "X = make_ref_snps()\n",
    "X[:4]"
   ]
  },
  {
   "cell_type": "code",
   "execution_count": null,
   "metadata": {},
   "outputs": [],
   "source": [
    "print (X.loc[:,3])"
   ]
  },
  {
   "cell_type": "markdown",
   "metadata": {},
   "source": [
    "## find snps unique to clusters"
   ]
  },
  {
   "cell_type": "code",
   "execution_count": null,
   "metadata": {},
   "outputs": [],
   "source": [
    "def get_clade_snps(refmat):\n",
    "    \"\"\"get unique clade snps from a snp matrix\n",
    "       returns: a dataframe with unique positions/allele for each clade\n",
    "       with this format\n",
    "              clade      pos allele\n",
    "           2   490878      G\n",
    "           2   804997      T\n",
    "           2   941068      A\n",
    "           2  1124266      G\n",
    "    \"\"\"\n",
    "    \n",
    "    res=[]\n",
    "    clusters = refmat.columns.unique()\n",
    "    for c in clusters:\n",
    "        for pos,r in list(refmat.iterrows()):\n",
    "            #print (pos)\n",
    "            a = r[c]\n",
    "            b = r[~r.index.isin([c])]\n",
    "            #print (len(r),len(a),len(b))\n",
    "            f1 = a.value_counts()\n",
    "            f2 = b.value_counts()\n",
    "            alt1 = f1.index[0]\n",
    "            if len(f1)>1:\n",
    "                continue\n",
    "            alt2 = f2.index[0]\n",
    "            if alt1 in f2:\n",
    "                continue\n",
    "            #print (f1,alt2)\n",
    "            #print (f1,f2)\n",
    "            res.append((c,pos,alt1))\n",
    "    \n",
    "    res = pd.DataFrame(res,columns=['clade','pos','allele'])\n",
    "    print (res)\n",
    "    return res\n",
    "\n",
    "refmat = make_ref_snps()\n",
    "res = get_clade_snps(refmat)\n",
    "\n",
    "res.to_csv('clade_snps.csv',index=False)"
   ]
  },
  {
   "cell_type": "code",
   "execution_count": 70,
   "metadata": {},
   "outputs": [
    {
     "data": {
      "text/plain": [
       "ClusterNumber\n",
       "6    C\n",
       "6    C\n",
       "6    C\n",
       "6    C\n",
       "6    C\n",
       "    ..\n",
       "6    C\n",
       "6    C\n",
       "6    C\n",
       "6    C\n",
       "6    C\n",
       "Name: 51709, Length: 72, dtype: object"
      ]
     },
     "execution_count": 70,
     "metadata": {},
     "output_type": "execute_result"
    }
   ],
   "source": [
    "#check results\n",
    "X.loc[51709,6]"
   ]
  },
  {
   "cell_type": "markdown",
   "metadata": {},
   "source": [
    "## identify sample from clade-specific SNPs "
   ]
  },
  {
   "cell_type": "code",
   "execution_count": 25,
   "metadata": {},
   "outputs": [
    {
     "data": {
      "text/plain": [
       "{6}"
      ]
     },
     "execution_count": 25,
     "metadata": {},
     "output_type": "execute_result"
    }
   ],
   "source": [
    "sample = '1579'\n",
    "\n",
    "def lookup_sample(snptable, snps):\n",
    "    \"\"\"Look up a sample using snps and known clades\n",
    "        snptable: reference lookup table\n",
    "        snps: a series with snps at each position for the\n",
    "        given sample, this can be derived from a single row\n",
    "        in the snp matrix produced from snipgenie\n",
    "    \"\"\"     \n",
    "        \n",
    "    found=[]\n",
    "    for i,r in snptable.iterrows():\n",
    "        if not r.pos in snps.index:\n",
    "            continue\n",
    "        if snps[r.pos] == r.allele:\n",
    "            #print (r.pos,r.allele,r.clade)\n",
    "            found.append(r.clade)\n",
    "    if len(found) == 0:\n",
    "        return\n",
    "    return set(found)\n",
    " \n",
    "reload(snp_typing)\n",
    "\n",
    "x = nucmat[sample]\n",
    "snptable = snp_typing.clade_snps\n",
    "lookup_sample(snptable, x)"
   ]
  },
  {
   "cell_type": "code",
   "execution_count": 26,
   "metadata": {},
   "outputs": [
    {
     "name": "stdout",
     "output_type": "stream",
     "text": [
      "ref {2}\n",
      "31-12952 {5}\n",
      "48-MBovis {5}\n"
     ]
    }
   ],
   "source": [
    "def type_samples(nucmat):\n",
    "    \"\"\"\n",
    "    Type multiple samples.\n",
    "    Args:\n",
    "        nucmat: a dataframe with the following format-\n",
    "        pos       687  937  1303 ..      \n",
    "        sample1    C    A    G \n",
    "        sample2    C    A    G\n",
    "        ...\n",
    "    Returns:\n",
    "        types for each sample\n",
    "    \"\"\"\n",
    "    snptable = snp_typing.clade_snps\n",
    "    for name,r in nucmat.iterrows():\n",
    "        #print (r)\n",
    "        cl = lookup_sample(snptable, r)\n",
    "        print (name,cl)\n",
    "        \n",
    "snps = nucmat.T[:3]\n",
    "type_samples(snps)"
   ]
  },
  {
   "cell_type": "markdown",
   "metadata": {},
   "source": [
    "## test on isolated subset of samples - must use uninformative snps from subsamples"
   ]
  },
  {
   "cell_type": "code",
   "execution_count": null,
   "metadata": {},
   "outputs": [],
   "source": [
    "vcf_file='../test_results/filtered.vcf.gz'\n",
    "snprecs, testmat = tools.fasta_alignment_from_vcf(vcf_file, uninformative=True)\n",
    "testmat.T"
   ]
  },
  {
   "cell_type": "code",
   "execution_count": 643,
   "metadata": {},
   "outputs": [
    {
     "name": "stdout",
     "output_type": "stream",
     "text": [
      "ref {2}\n",
      "17-11662 {5}\n",
      "15-11643 {5}\n",
      "19-11957 {5}\n",
      "13-11594 {5}\n"
     ]
    }
   ],
   "source": [
    "type_samples(testmat.T)"
   ]
  },
  {
   "cell_type": "markdown",
   "metadata": {},
   "source": [
    "## store snp data to database"
   ]
  },
  {
   "cell_type": "markdown",
   "metadata": {},
   "source": [
    "## encode snps to store in a single field in DB?\n",
    "\n",
    "e.g. string encoding\n"
   ]
  },
  {
   "cell_type": "code",
   "execution_count": 27,
   "metadata": {},
   "outputs": [
    {
     "data": {
      "text/plain": [
       "pos\n",
       "687        C\n",
       "937        A\n",
       "1303       G\n",
       "1456       G\n",
       "1584       T\n",
       "          ..\n",
       "3832251    G\n",
       "3833590    G\n",
       "3835182    G\n",
       "3839650    T\n",
       "3842525    G\n",
       "Length: 1746, dtype: object"
      ]
     },
     "execution_count": 27,
     "metadata": {},
     "output_type": "execute_result"
    }
   ],
   "source": [
    "x=snps.iloc[0]\n",
    "\n",
    "def encode_snps(x):\n",
    "    \"\"\"encode snps as string for storage\"\"\"\n",
    "    \n",
    "    s=[]\n",
    "    for i in zip(x.index.astype(str),x.values):\n",
    "        s.append(''.join(i))\n",
    "    s = ';'.join(s)\n",
    "    return s\n",
    "\n",
    "s = encode_snps(x)\n",
    "\n",
    "import re\n",
    "def decode_snps(s):\n",
    "    \"\"\"decode snps\"\"\"\n",
    "    \n",
    "    x=s.split(';')\n",
    "    pos=[]\n",
    "    alleles=[]\n",
    "    for i in x:\n",
    "        n,p,a = re.split(r'(\\d+)', i)\n",
    "        pos.append(p)\n",
    "        alleles.append(a)\n",
    "    x = pd.Series(alleles,pos)\n",
    "    x.index.name='pos'\n",
    "    return x\n",
    "\n",
    "x = decode_snps(s)\n",
    "x"
   ]
  },
  {
   "cell_type": "markdown",
   "metadata": {},
   "source": [
    "## snps unique to each snp100 clade to define naming?"
   ]
  },
  {
   "cell_type": "code",
   "execution_count": 9,
   "metadata": {},
   "outputs": [],
   "source": [
    "final = pd.read_csv('/storage/btbgenie/all_ireland_results/metadata.csv')\n",
    "csq = app.read_csq_file('/storage/btbgenie/all_ireland_results/csq.tsv')\n",
    "aamat = app.get_aa_snp_matrix(csq)\n",
    "nucmat = pd.read_csv('/storage/btbgenie/all_ireland_results/core.txt',sep=' ')\n",
    "nucmat = nucmat.set_index('pos')\n"
   ]
  },
  {
   "cell_type": "code",
   "execution_count": 15,
   "metadata": {},
   "outputs": [
    {
     "data": {
      "text/html": [
       "<div>\n",
       "<style scoped>\n",
       "    .dataframe tbody tr th:only-of-type {\n",
       "        vertical-align: middle;\n",
       "    }\n",
       "\n",
       "    .dataframe tbody tr th {\n",
       "        vertical-align: top;\n",
       "    }\n",
       "\n",
       "    .dataframe thead th {\n",
       "        text-align: right;\n",
       "    }\n",
       "</style>\n",
       "<table border=\"1\" class=\"dataframe\">\n",
       "  <thead>\n",
       "    <tr style=\"text-align: right;\">\n",
       "      <th></th>\n",
       "      <th>ref</th>\n",
       "      <th>1034</th>\n",
       "      <th>13-11594</th>\n",
       "      <th>14-MBovis</th>\n",
       "      <th>15-11643</th>\n",
       "      <th>17-11662</th>\n",
       "      <th>17-MBovis</th>\n",
       "      <th>182-MBovis</th>\n",
       "      <th>19-11957</th>\n",
       "      <th>19-MBovis</th>\n",
       "      <th>...</th>\n",
       "      <th>ERR125619</th>\n",
       "      <th>ERR125620</th>\n",
       "      <th>ERR125621</th>\n",
       "      <th>ERR125622</th>\n",
       "      <th>ERR125623</th>\n",
       "      <th>ERR125624</th>\n",
       "      <th>ERR125625</th>\n",
       "      <th>ERR125626</th>\n",
       "      <th>ERR125627</th>\n",
       "      <th>ERR125628</th>\n",
       "    </tr>\n",
       "    <tr>\n",
       "      <th>pos</th>\n",
       "      <th></th>\n",
       "      <th></th>\n",
       "      <th></th>\n",
       "      <th></th>\n",
       "      <th></th>\n",
       "      <th></th>\n",
       "      <th></th>\n",
       "      <th></th>\n",
       "      <th></th>\n",
       "      <th></th>\n",
       "      <th></th>\n",
       "      <th></th>\n",
       "      <th></th>\n",
       "      <th></th>\n",
       "      <th></th>\n",
       "      <th></th>\n",
       "      <th></th>\n",
       "      <th></th>\n",
       "      <th></th>\n",
       "      <th></th>\n",
       "      <th></th>\n",
       "    </tr>\n",
       "  </thead>\n",
       "  <tbody>\n",
       "    <tr>\n",
       "      <th>950278</th>\n",
       "      <td>A</td>\n",
       "      <td>A</td>\n",
       "      <td>A</td>\n",
       "      <td>A</td>\n",
       "      <td>A</td>\n",
       "      <td>A</td>\n",
       "      <td>A</td>\n",
       "      <td>A</td>\n",
       "      <td>A</td>\n",
       "      <td>A</td>\n",
       "      <td>...</td>\n",
       "      <td>A</td>\n",
       "      <td>A</td>\n",
       "      <td>A</td>\n",
       "      <td>A</td>\n",
       "      <td>A</td>\n",
       "      <td>A</td>\n",
       "      <td>A</td>\n",
       "      <td>A</td>\n",
       "      <td>A</td>\n",
       "      <td>A</td>\n",
       "    </tr>\n",
       "    <tr>\n",
       "      <th>1998854</th>\n",
       "      <td>T</td>\n",
       "      <td>T</td>\n",
       "      <td>T</td>\n",
       "      <td>T</td>\n",
       "      <td>T</td>\n",
       "      <td>T</td>\n",
       "      <td>T</td>\n",
       "      <td>T</td>\n",
       "      <td>T</td>\n",
       "      <td>T</td>\n",
       "      <td>...</td>\n",
       "      <td>T</td>\n",
       "      <td>T</td>\n",
       "      <td>T</td>\n",
       "      <td>T</td>\n",
       "      <td>T</td>\n",
       "      <td>T</td>\n",
       "      <td>T</td>\n",
       "      <td>T</td>\n",
       "      <td>T</td>\n",
       "      <td>T</td>\n",
       "    </tr>\n",
       "    <tr>\n",
       "      <th>1507338</th>\n",
       "      <td>C</td>\n",
       "      <td>C</td>\n",
       "      <td>C</td>\n",
       "      <td>C</td>\n",
       "      <td>C</td>\n",
       "      <td>C</td>\n",
       "      <td>C</td>\n",
       "      <td>C</td>\n",
       "      <td>C</td>\n",
       "      <td>C</td>\n",
       "      <td>...</td>\n",
       "      <td>C</td>\n",
       "      <td>C</td>\n",
       "      <td>C</td>\n",
       "      <td>C</td>\n",
       "      <td>C</td>\n",
       "      <td>C</td>\n",
       "      <td>C</td>\n",
       "      <td>C</td>\n",
       "      <td>C</td>\n",
       "      <td>C</td>\n",
       "    </tr>\n",
       "  </tbody>\n",
       "</table>\n",
       "<p>3 rows × 688 columns</p>\n",
       "</div>"
      ],
      "text/plain": [
       "        ref 1034 13-11594 14-MBovis 15-11643 17-11662 17-MBovis 182-MBovis  \\\n",
       "pos                                                                          \n",
       "950278    A    A        A         A        A        A         A          A   \n",
       "1998854   T    T        T         T        T        T         T          T   \n",
       "1507338   C    C        C         C        C        C         C          C   \n",
       "\n",
       "        19-11957 19-MBovis  ... ERR125619 ERR125620 ERR125621 ERR125622  \\\n",
       "pos                         ...                                           \n",
       "950278         A         A  ...         A         A         A         A   \n",
       "1998854        T         T  ...         T         T         T         T   \n",
       "1507338        C         C  ...         C         C         C         C   \n",
       "\n",
       "        ERR125623 ERR125624 ERR125625 ERR125626 ERR125627 ERR125628  \n",
       "pos                                                                  \n",
       "950278          A         A         A         A         A         A  \n",
       "1998854         T         T         T         T         T         T  \n",
       "1507338         C         C         C         C         C         C  \n",
       "\n",
       "[3 rows x 688 columns]"
      ]
     },
     "execution_count": 15,
     "metadata": {},
     "output_type": "execute_result"
    }
   ],
   "source": [
    "nucmat[:3]"
   ]
  },
  {
   "cell_type": "code",
   "execution_count": 10,
   "metadata": {},
   "outputs": [
    {
     "data": {
      "text/html": [
       "<div>\n",
       "<style scoped>\n",
       "    .dataframe tbody tr th:only-of-type {\n",
       "        vertical-align: middle;\n",
       "    }\n",
       "\n",
       "    .dataframe tbody tr th {\n",
       "        vertical-align: top;\n",
       "    }\n",
       "\n",
       "    .dataframe thead th {\n",
       "        text-align: right;\n",
       "    }\n",
       "</style>\n",
       "<table border=\"1\" class=\"dataframe\">\n",
       "  <thead>\n",
       "    <tr style=\"text-align: right;\">\n",
       "      <th></th>\n",
       "      <th></th>\n",
       "      <th></th>\n",
       "      <th>sample</th>\n",
       "      <th>cat-003488</th>\n",
       "    </tr>\n",
       "    <tr>\n",
       "      <th>start</th>\n",
       "      <th>gene</th>\n",
       "      <th>aa</th>\n",
       "      <th>snp_type</th>\n",
       "      <th></th>\n",
       "    </tr>\n",
       "  </thead>\n",
       "  <tbody>\n",
       "    <tr>\n",
       "      <th>1461929</th>\n",
       "      <th>rfe</th>\n",
       "      <th>393R&gt;393C</th>\n",
       "      <th>missense</th>\n",
       "      <td>1</td>\n",
       "    </tr>\n",
       "    <tr>\n",
       "      <th>2753251</th>\n",
       "      <th>gdh</th>\n",
       "      <th>528A&gt;528G</th>\n",
       "      <th>missense</th>\n",
       "      <td>1</td>\n",
       "    </tr>\n",
       "    <tr>\n",
       "      <th>2967659</th>\n",
       "      <th>BQ2027_MB2708c</th>\n",
       "      <th>151H&gt;151R</th>\n",
       "      <th>missense</th>\n",
       "      <td>1</td>\n",
       "    </tr>\n",
       "    <tr>\n",
       "      <th>3057726</th>\n",
       "      <th>BQ2027_MB2810</th>\n",
       "      <th>552V&gt;552E</th>\n",
       "      <th>missense</th>\n",
       "      <td>1</td>\n",
       "    </tr>\n",
       "    <tr>\n",
       "      <th>3355243</th>\n",
       "      <th>BQ2027_MB3060c</th>\n",
       "      <th>217S</th>\n",
       "      <th>synonymous</th>\n",
       "      <td>1</td>\n",
       "    </tr>\n",
       "  </tbody>\n",
       "</table>\n",
       "</div>"
      ],
      "text/plain": [
       "sample                                       cat-003488\n",
       "start   gene           aa        snp_type              \n",
       "1461929 rfe            393R>393C missense             1\n",
       "2753251 gdh            528A>528G missense             1\n",
       "2967659 BQ2027_MB2708c 151H>151R missense             1\n",
       "3057726 BQ2027_MB2810  552V>552E missense             1\n",
       "3355243 BQ2027_MB3060c 217S      synonymous           1"
      ]
     },
     "execution_count": 10,
     "metadata": {},
     "output_type": "execute_result"
    }
   ],
   "source": [
    "reload(tools)\n",
    "name='cat-003488'\n",
    "tools.get_unique_snps(name, aamat)"
   ]
  },
  {
   "cell_type": "code",
   "execution_count": 24,
   "metadata": {},
   "outputs": [
    {
     "name": "stdout",
     "output_type": "stream",
     "text": [
      "3 106 392\n",
      "5 103 479\n",
      "6 70 234\n",
      "7 8 130\n",
      "8 50 213\n",
      "10 9 84\n",
      "11 154 487\n",
      "12 28 294\n",
      "18 71 689\n"
     ]
    }
   ],
   "source": [
    "clades = [3,5,6,7,8,10,11,12,18]\n",
    "for clade in clades:\n",
    "    names = final[final.snp100==clade]['sample']\n",
    "    u = tools.get_unique_snps(names, aamat)\n",
    "    print (clade,len(names),len(u))"
   ]
  },
  {
   "cell_type": "code",
   "execution_count": null,
   "metadata": {},
   "outputs": [],
   "source": []
  }
 ],
 "metadata": {
  "kernelspec": {
   "display_name": "Python 3 (ipykernel)",
   "language": "python",
   "name": "python3"
  },
  "language_info": {
   "codemirror_mode": {
    "name": "ipython",
    "version": 3
   },
   "file_extension": ".py",
   "mimetype": "text/x-python",
   "name": "python",
   "nbconvert_exporter": "python",
   "pygments_lexer": "ipython3",
   "version": "3.10.6"
  }
 },
 "nbformat": 4,
 "nbformat_minor": 4
}
