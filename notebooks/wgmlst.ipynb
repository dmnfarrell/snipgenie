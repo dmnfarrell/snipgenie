{
 "cells": [
  {
   "cell_type": "markdown",
   "id": "097a5efa-3837-48c6-a8ea-309d58ba6fd6",
   "metadata": {},
   "source": [
    "## wgMLST for mbovis\n",
    "\n",
    "* http://www3.ridom.de/seqsphere/cgmlst/\n",
    "* https://www.cgmlst.org/ncs/schema/741110/\n",
    "* https://jcm.asm.org/content/52/7/2479\n",
    "* https://www.biorxiv.org/content/10.1101/172858v1.full\n",
    "* https://www.ncbi.nlm.nih.gov/pmc/articles/PMC3980634/"
   ]
  },
  {
   "cell_type": "markdown",
   "id": "3b554e75-17e5-4a8f-ab03-e93150bcc94e",
   "metadata": {},
   "source": [
    "## steps\n",
    "\n",
    "* get MLST gene list\n",
    "* assembly\n",
    "* annotate\n",
    "* assign allele numbers?"
   ]
  },
  {
   "cell_type": "code",
   "execution_count": 1,
   "id": "5fbe56cd-85be-425d-a949-8d7b709d4acc",
   "metadata": {
    "tags": []
   },
   "outputs": [],
   "source": [
    "import sys,os,shutil,subprocess\n",
    "import glob\n",
    "import random\n",
    "from importlib import reload\n",
    "import numpy as np\n",
    "import pandas as pd\n",
    "pd.set_option('display.width', 200)\n",
    "pd.set_option('display.max_colwidth', 150)\n",
    "import pylab as plt\n",
    "import seaborn as sns\n",
    "from Bio import SeqIO, Phylo\n",
    "from Bio.Seq import Seq\n",
    "from Bio.SeqRecord import SeqRecord\n",
    "from io import StringIO\n",
    "import pathogenie as pg\n",
    "import snipgenie\n",
    "from snipgenie import app,tools,plotting,wgmlst,trees,clustering\n",
    "import toytree, toyplot"
   ]
  },
  {
   "cell_type": "code",
   "execution_count": 63,
   "id": "a9158dab-3bba-4414-bad1-59c5f0856117",
   "metadata": {
    "tags": []
   },
   "outputs": [],
   "source": [
    "#meta = pd.read_csv('/storage/btbgenie/monaghan/metadata/isolates_master.csv')\n",
    "meta = pd.read_csv('/storage/btbgenie/mbovis_ireland/all_ireland_samples.csv')"
   ]
  },
  {
   "cell_type": "markdown",
   "id": "1200e6a5-624b-44ff-a8e5-4436b362b548",
   "metadata": {},
   "source": [
    "## create reference proteins for MLST"
   ]
  },
  {
   "cell_type": "code",
   "execution_count": 5,
   "id": "7c6c41ff-b137-40ef-b26d-fa40e236835c",
   "metadata": {},
   "outputs": [
    {
     "name": "stdout",
     "output_type": "stream",
     "text": [
      "3994\n"
     ]
    }
   ],
   "source": [
    "#prots = wgmlst.make_reference_proteins()\n",
    "#res = wgmlst.get_nucleotide_sequences(app.mbovis_gb,'Mbovis_AF212297_nuc.fa')"
   ]
  },
  {
   "cell_type": "markdown",
   "id": "c904b82a-bee9-4bee-a81d-b33539bb3b9f",
   "metadata": {},
   "source": [
    "## initialise MLST table from reference genome"
   ]
  },
  {
   "cell_type": "code",
   "execution_count": 63,
   "id": "e1698d53-1360-4deb-b9b8-4a6940766fbe",
   "metadata": {},
   "outputs": [
    {
     "name": "stderr",
     "output_type": "stream",
     "text": [
      "/home/farrell/gitprojects/snipgenie/snipgenie/tools.py:385: FutureWarning: The default value of regex will change from True to False in a future version. In addition, single character regular expressions will *not* be treated as literal strings when regex=True.\n",
      "  df[key] = df[key].str.replace('|','_')\n"
     ]
    },
    {
     "name": "stdout",
     "output_type": "stream",
     "text": [
      "3184\n"
     ]
    }
   ],
   "source": [
    "def setup_db():\n",
    "    \"\"\"Setup initial db\"\"\"\n",
    "    \n",
    "    #filter only Mb proteins in scheme\n",
    "    mlst=pd.read_csv('mlst_scheme.csv')\n",
    "    mlst=mlst[mlst['Ridom Usage']=='MLST+']\n",
    "    targets=list(mlst.Target)    \n",
    "    #bovis-tb mapping\n",
    "    mbmap=pd.read_csv('final_mbovis_mapping.csv')\n",
    "    mbmap = mbmap[mbmap.Rv_tag.isin(targets)]\n",
    "    mb_tags = list(mbmap.Mb_tag)\n",
    "    #prots = tools.fasta_to_dataframe()\n",
    "    #prots = prots[prots.locus_tag.isin(mb_tags)]\n",
    "    nucseqs = tools.fasta_to_dataframe('Mbovis_AF212297_nuc.fa')\n",
    "    nucseqs = nucseqs[nucseqs.name.isin(mb_tags)]\n",
    "\n",
    "    #set up initial mlst table with reference sequences \n",
    "    cols = ['name','allele','sequence']\n",
    "    ref = nucseqs.copy()\n",
    "    ref['allele'] = 1\n",
    "    ref=ref.rename(columns={'translation':'sequence'})\n",
    "    ref[cols].to_csv('mbovis_db.csv.gz',index=False,compression='gzip')\n",
    "    print (len(ref))    \n",
    "    \n",
    "setup_db()"
   ]
  },
  {
   "cell_type": "markdown",
   "id": "1df61561-684c-418a-980c-2c62299a216a",
   "metadata": {},
   "source": [
    "## assembly"
   ]
  },
  {
   "cell_type": "code",
   "execution_count": null,
   "id": "09ca0cce-bad8-40a0-81bd-f93f8a39518f",
   "metadata": {
    "tags": []
   },
   "outputs": [],
   "source": [
    "reload(tools)\n",
    "assembly_path = '/storage/btbgenie/mlst_assembly_test/'\n",
    "\n",
    "for i,r in samples.iterrows():\n",
    "    name=r['sample']\n",
    "    print (name)\n",
    "    out = os.path.join(assembly_path,name+'.fa')\n",
    "    print (out)\n",
    "    tools.spades(r.filename1, r.filename2, os.path.join(assembly_path,name), outfile=out, threads=12)"
   ]
  },
  {
   "cell_type": "markdown",
   "id": "f036d0a1-efe2-497b-bccf-93b0b305a212",
   "metadata": {},
   "source": [
    "## test annotation"
   ]
  },
  {
   "cell_type": "code",
   "execution_count": null,
   "id": "65652405-949d-4bd8-be2e-e1869169890f",
   "metadata": {
    "tags": []
   },
   "outputs": [],
   "source": [
    "reload(wgmlst)\n",
    "seqfile='/storage/btbgenie/mlst_assembly_test/1034.fa'\n",
    "#seqfile='consensus.fa'\n",
    "featdf,recs = pg.run_annotation(seqfile, threads=10, kingdom='bacteria', trusted=wgmlst.ref_proteins)\n",
    "annotfile='/storage/btbgenie/mlst_assembly_test/1034.gb'\n",
    "\n",
    "#write out nucl sequence\n",
    "SeqIO.write(recs,annotfile,'genbank')\n",
    "#make nuc sequences - used for typing\n",
    "outfile = '/storage/btbgenie/mlst_assembly_test/1034_proteins.fa'\n",
    "res = wgmlst.get_nucleotide_sequences(annotfile,outfile,idkey='protein_id')"
   ]
  },
  {
   "cell_type": "code",
   "execution_count": null,
   "id": "d1112407-b094-45a1-9b2e-d1936429d4d1",
   "metadata": {},
   "outputs": [],
   "source": [
    "#fastafile='/storage/btbgenie/annotation_assembly/1034.fa'\n",
    "#df = pg.tools.fasta_to_dataframe(fastafile)\n",
    "#df[df.name=='Mb0014c']"
   ]
  },
  {
   "cell_type": "markdown",
   "id": "79ac29a2-70eb-4364-8036-877f7c8113e6",
   "metadata": {},
   "source": [
    "## test typing"
   ]
  },
  {
   "cell_type": "code",
   "execution_count": null,
   "id": "18704833-b679-49c8-b459-4d0ca72ee22a",
   "metadata": {
    "tags": []
   },
   "outputs": [],
   "source": [
    "reload(wgmlst)\n",
    "assembly='/storage/btbgenie/mlst_assembly_test/1034.fa'\n",
    "\n",
    "cmd = 'ragtag.py scaffold {r} {q}'.format(r=app.mbovis_genome,q=assembly)\n",
    "#print (cmd)\n",
    "#testfile='/storage/btbgenie/ragtag_output/ragtag.scaffold.fasta'\n",
    "prof,new = wgmlst.find_alleles(outfile)\n",
    "#wgmlst.update_mlst_db(new)\n",
    "print (len(prof))"
   ]
  },
  {
   "cell_type": "code",
   "execution_count": null,
   "id": "0aaa32a2-0d5f-44e7-b5d9-95148f858e9e",
   "metadata": {
    "tags": []
   },
   "outputs": [],
   "source": [
    "reload(wgmlst)\n",
    "#all typing in one go\n",
    "res = wgmlst.type_sample('consensus.fa', annotfile, outfile, threads=10)"
   ]
  },
  {
   "cell_type": "markdown",
   "id": "9bdacafc-a95c-4201-93b8-733d3a77e52a",
   "metadata": {},
   "source": [
    "## find distances between mlst profiles"
   ]
  },
  {
   "cell_type": "code",
   "execution_count": 13,
   "id": "68e8b4de-4e52-4aae-8fe4-80eba13d3abf",
   "metadata": {
    "tags": []
   },
   "outputs": [],
   "source": [
    "def diff_profiles(s1, s2):    \n",
    "    return sum(1 for a, b in zip(s1, s2) if a != b)"
   ]
  },
  {
   "cell_type": "code",
   "execution_count": 263,
   "id": "09d0f523-b5eb-4fc2-af3e-95b499d153e4",
   "metadata": {
    "tags": []
   },
   "outputs": [
    {
     "name": "stdout",
     "output_type": "stream",
     "text": [
      "   0  1  2  3  4  5  6\n",
      "A  1  1  1  2  2  3  3\n",
      "B  1  2  2  3  2  3  3\n",
      "C  1  2  2  3  2  3  1\n",
      "D  1  2  2  3  2  3  1\n"
     ]
    },
    {
     "data": {
      "text/html": [
       "<div>\n",
       "<style scoped>\n",
       "    .dataframe tbody tr th:only-of-type {\n",
       "        vertical-align: middle;\n",
       "    }\n",
       "\n",
       "    .dataframe tbody tr th {\n",
       "        vertical-align: top;\n",
       "    }\n",
       "\n",
       "    .dataframe thead th {\n",
       "        text-align: right;\n",
       "    }\n",
       "</style>\n",
       "<table border=\"1\" class=\"dataframe\">\n",
       "  <thead>\n",
       "    <tr style=\"text-align: right;\">\n",
       "      <th></th>\n",
       "      <th>A</th>\n",
       "      <th>B</th>\n",
       "      <th>C</th>\n",
       "      <th>D</th>\n",
       "    </tr>\n",
       "  </thead>\n",
       "  <tbody>\n",
       "    <tr>\n",
       "      <th>A</th>\n",
       "      <td>0</td>\n",
       "      <td>3</td>\n",
       "      <td>4</td>\n",
       "      <td>4</td>\n",
       "    </tr>\n",
       "    <tr>\n",
       "      <th>B</th>\n",
       "      <td>3</td>\n",
       "      <td>0</td>\n",
       "      <td>1</td>\n",
       "      <td>1</td>\n",
       "    </tr>\n",
       "    <tr>\n",
       "      <th>C</th>\n",
       "      <td>4</td>\n",
       "      <td>1</td>\n",
       "      <td>0</td>\n",
       "      <td>0</td>\n",
       "    </tr>\n",
       "    <tr>\n",
       "      <th>D</th>\n",
       "      <td>4</td>\n",
       "      <td>1</td>\n",
       "      <td>0</td>\n",
       "      <td>0</td>\n",
       "    </tr>\n",
       "  </tbody>\n",
       "</table>\n",
       "</div>"
      ],
      "text/plain": [
       "   A  B  C  D\n",
       "A  0  3  4  4\n",
       "B  3  0  1  1\n",
       "C  4  1  0  0\n",
       "D  4  1  0  0"
      ]
     },
     "execution_count": 263,
     "metadata": {},
     "output_type": "execute_result"
    }
   ],
   "source": [
    "import random\n",
    "test = {'A':[1,1,1,2,2,3,3],'B':[1,2,2,3,2,3,3],'C':[1,2,2,3,2,3,1],'D':[1,2,2,3,2,3,1]}\n",
    "test = pd.DataFrame(test).T\n",
    "print (test)\n",
    "d = wgmlst.dist_matrix(test)\n",
    "d"
   ]
  },
  {
   "cell_type": "markdown",
   "id": "9f475a04-a9d4-4a24-9924-b1f3eded41d8",
   "metadata": {
    "tags": []
   },
   "source": [
    "## tree from profiles"
   ]
  },
  {
   "cell_type": "code",
   "execution_count": null,
   "id": "7716c63f-07c3-4520-b01f-8391b607d427",
   "metadata": {},
   "outputs": [],
   "source": [
    "def make_neighbor_joining_tree(df):\n",
    "    \"\"\"Neighbour joining tree with biopython\"\"\"\n",
    "    \n",
    "    from Bio.Phylo.TreeConstruction import DistanceTreeConstructor\n",
    "    from Bio.Phylo.TreeConstruction import DistanceMatrix\n",
    "    \n",
    "    def lower_matrix(matrix):\n",
    "        #get lower matrix as non-sparse lists\n",
    "        i=0\n",
    "        m=[]\n",
    "        for n in range(1,matrix.shape[0]+1):\n",
    "            m.append(list(x[i:i+n]))\n",
    "            i+=n\n",
    "        return m\n",
    "    \n",
    "    data = df.values\n",
    "    labels = list(df.index)\n",
    "    \n",
    "    matrix = lower_matrix(data)\n",
    "    dm = DistanceMatrix(labels, matrix)\n",
    "    constructor = DistanceTreeConstructor()\n",
    "    tree = constructor.upgma(dm)\n",
    "    return tree\n",
    "\n",
    "# Create a DistanceMatrix object using a list of labels and a list of distances\n",
    "labels = ['A', 'B', 'C', 'D']\n",
    "matrix = [[0, 1, 2, 3], [1, 0, 4, 5], [2, 4, 0, 6], [3, 5, 6, 0]]\n",
    "df = pd.DataFrame(matrix,index=labels,columns=labels)\n",
    "print (df)\n",
    "# Call the make_neighbor_joining_tree function to create the tree\n",
    "tree = make_neighbor_joining_tree(df)\n",
    "\n",
    "print (tree)\n",
    "# Print the tree in Newick format\n",
    "print(tree.format(\"newick\"))\n",
    "tre = toytree.tree(tree.format(\"newick\"))"
   ]
  },
  {
   "cell_type": "code",
   "execution_count": null,
   "id": "d7a3179e-3d89-4210-831d-ad6450b79652",
   "metadata": {},
   "outputs": [],
   "source": [
    "tree = wgmlst.tree_from_distmatrix(df)\n",
    "print(tree.ascii_art())"
   ]
  },
  {
   "cell_type": "markdown",
   "id": "56cb4f55-9423-4522-a44f-f06c060f57f4",
   "metadata": {},
   "source": [
    "## test on wicklow samples"
   ]
  },
  {
   "cell_type": "code",
   "execution_count": 206,
   "id": "e1b72173-d0d9-4f1a-b0b2-a55fd98cd42a",
   "metadata": {
    "tags": []
   },
   "outputs": [],
   "source": [
    "vcf_file='/storage/btbgenie/wicklow_results/snps.vcf.gz'"
   ]
  },
  {
   "cell_type": "code",
   "execution_count": null,
   "id": "74b4ea83-c6fa-46bc-934d-114b0a97fc56",
   "metadata": {
    "tags": []
   },
   "outputs": [],
   "source": [
    "reload(wgmlst)\n",
    "reload(tools)\n",
    "samples = pd.read_csv('/storage/btbgenie/wicklow_results/samples.csv')\n",
    "#subset=list(samples.sample(8)['sample'])\n",
    "subset = ['29-MBovis','24-MBovis','27-MBovis'] #'47-MBovis'\n",
    "profs = wgmlst.run_samples(samples, '/storage/btbgenie/mlst_assembly_test/', threads=12, names=subset)"
   ]
  },
  {
   "cell_type": "code",
   "execution_count": null,
   "id": "1e76a3f1-315a-4fcf-a236-00789610baa3",
   "metadata": {},
   "outputs": [],
   "source": [
    "def update_profiles(new):\n",
    "    \n",
    "    current = pd.read_csv(wgmlst.sample_profiles)\n",
    "    new = pd.concat([current,new])\n",
    "    print (new)"
   ]
  },
  {
   "cell_type": "code",
   "execution_count": 255,
   "id": "c1a77226-b6e8-4369-b1e0-a91134f429f8",
   "metadata": {
    "tags": []
   },
   "outputs": [
    {
     "data": {
      "text/html": [
       "<div>\n",
       "<style scoped>\n",
       "    .dataframe tbody tr th:only-of-type {\n",
       "        vertical-align: middle;\n",
       "    }\n",
       "\n",
       "    .dataframe tbody tr th {\n",
       "        vertical-align: top;\n",
       "    }\n",
       "\n",
       "    .dataframe thead th {\n",
       "        text-align: right;\n",
       "    }\n",
       "</style>\n",
       "<table border=\"1\" class=\"dataframe\">\n",
       "  <thead>\n",
       "    <tr style=\"text-align: right;\">\n",
       "      <th></th>\n",
       "      <th>24-MBovis</th>\n",
       "      <th>27-MBovis</th>\n",
       "      <th>29-MBovis</th>\n",
       "    </tr>\n",
       "  </thead>\n",
       "  <tbody>\n",
       "    <tr>\n",
       "      <th>0</th>\n",
       "      <td>1</td>\n",
       "      <td>2</td>\n",
       "      <td>2</td>\n",
       "    </tr>\n",
       "    <tr>\n",
       "      <th>1</th>\n",
       "      <td>1</td>\n",
       "      <td>2</td>\n",
       "      <td>2</td>\n",
       "    </tr>\n",
       "    <tr>\n",
       "      <th>2</th>\n",
       "      <td>1</td>\n",
       "      <td>2</td>\n",
       "      <td>2</td>\n",
       "    </tr>\n",
       "    <tr>\n",
       "      <th>3</th>\n",
       "      <td>1</td>\n",
       "      <td>2</td>\n",
       "      <td>2</td>\n",
       "    </tr>\n",
       "    <tr>\n",
       "      <th>4</th>\n",
       "      <td>2</td>\n",
       "      <td>3</td>\n",
       "      <td>3</td>\n",
       "    </tr>\n",
       "    <tr>\n",
       "      <th>...</th>\n",
       "      <td>...</td>\n",
       "      <td>...</td>\n",
       "      <td>...</td>\n",
       "    </tr>\n",
       "    <tr>\n",
       "      <th>3179</th>\n",
       "      <td>1</td>\n",
       "      <td>2</td>\n",
       "      <td>2</td>\n",
       "    </tr>\n",
       "    <tr>\n",
       "      <th>3180</th>\n",
       "      <td>1</td>\n",
       "      <td>2</td>\n",
       "      <td>2</td>\n",
       "    </tr>\n",
       "    <tr>\n",
       "      <th>3181</th>\n",
       "      <td>2</td>\n",
       "      <td>3</td>\n",
       "      <td>3</td>\n",
       "    </tr>\n",
       "    <tr>\n",
       "      <th>3182</th>\n",
       "      <td>1</td>\n",
       "      <td>2</td>\n",
       "      <td>2</td>\n",
       "    </tr>\n",
       "    <tr>\n",
       "      <th>3183</th>\n",
       "      <td>1</td>\n",
       "      <td>2</td>\n",
       "      <td>2</td>\n",
       "    </tr>\n",
       "  </tbody>\n",
       "</table>\n",
       "<p>3184 rows × 3 columns</p>\n",
       "</div>"
      ],
      "text/plain": [
       "      24-MBovis  27-MBovis  29-MBovis\n",
       "0             1          2          2\n",
       "1             1          2          2\n",
       "2             1          2          2\n",
       "3             1          2          2\n",
       "4             2          3          3\n",
       "...         ...        ...        ...\n",
       "3179          1          2          2\n",
       "3180          1          2          2\n",
       "3181          2          3          3\n",
       "3182          1          2          2\n",
       "3183          1          2          2\n",
       "\n",
       "[3184 rows x 3 columns]"
      ]
     },
     "execution_count": 255,
     "metadata": {},
     "output_type": "execute_result"
    }
   ],
   "source": [
    "profs.T"
   ]
  },
  {
   "cell_type": "code",
   "execution_count": 222,
   "id": "eba09fcc-064d-471a-a66c-81121350c874",
   "metadata": {
    "tags": []
   },
   "outputs": [],
   "source": [
    "#profs.to_csv(wgmlst.sample_profiles,mode='a',index=True)\n",
    "update_profiles(new)"
   ]
  },
  {
   "cell_type": "code",
   "execution_count": null,
   "id": "25af26fe-223a-4d2f-be07-53ecad42faff",
   "metadata": {
    "tags": []
   },
   "outputs": [],
   "source": [
    "pd.read_csv('wgmlst_profiles.csv',index_col=0)"
   ]
  },
  {
   "cell_type": "markdown",
   "id": "a8e7b8b4-97be-45bd-b69d-91c633336616",
   "metadata": {
    "tags": []
   },
   "source": [
    "## all ireland samples"
   ]
  },
  {
   "cell_type": "code",
   "execution_count": 223,
   "id": "829ba9a7-1de7-4514-bc96-dc9204edc9ac",
   "metadata": {
    "tags": []
   },
   "outputs": [],
   "source": [
    "samples = pd.read_csv('/storage/btbgenie/all_ireland_results/samples.csv')\n",
    "vcf_file='/storage/btbgenie/all_ireland_results/snps.vcf.gz'"
   ]
  },
  {
   "cell_type": "code",
   "execution_count": 224,
   "id": "4419e0d6-3264-440b-9bd0-12932b84e0cc",
   "metadata": {
    "tags": []
   },
   "outputs": [],
   "source": [
    "subset=list(samples.sample(10)['sample'])"
   ]
  },
  {
   "cell_type": "code",
   "execution_count": null,
   "id": "b2e1b312-19af-4b17-b083-d4b31b9650d5",
   "metadata": {
    "scrolled": true,
    "tags": []
   },
   "outputs": [],
   "source": [
    "profs = wgmlst.run_samples(vcf_file, '/storage/btbgenie/mlst_consensus_test/', threads=12, names=subset)"
   ]
  },
  {
   "cell_type": "markdown",
   "id": "bc27a45a-7b33-44da-b1c2-b10f8c1f4ac5",
   "metadata": {},
   "source": [
    "## clustering and strain naming"
   ]
  },
  {
   "cell_type": "code",
   "execution_count": 252,
   "id": "3165e7d3-a5b3-4065-a27b-98745581292e",
   "metadata": {
    "tags": []
   },
   "outputs": [],
   "source": [
    "DM = wgmlst.dist_matrix(profs)\n",
    "tree = wgmlst.tree_from_distmatrix(DM)\n",
    "tree.write('tree.newick')\n",
    "clusts,members = clustering.get_cluster_levels(DM)"
   ]
  },
  {
   "cell_type": "code",
   "execution_count": 256,
   "id": "7cbd2eba-0d44-4793-89e0-2b8ffe8c62ab",
   "metadata": {
    "tags": []
   },
   "outputs": [
    {
     "data": {
      "text/html": [
       "<div>\n",
       "<style scoped>\n",
       "    .dataframe tbody tr th:only-of-type {\n",
       "        vertical-align: middle;\n",
       "    }\n",
       "\n",
       "    .dataframe tbody tr th {\n",
       "        vertical-align: top;\n",
       "    }\n",
       "\n",
       "    .dataframe thead th {\n",
       "        text-align: right;\n",
       "    }\n",
       "</style>\n",
       "<table border=\"1\" class=\"dataframe\">\n",
       "  <thead>\n",
       "    <tr style=\"text-align: right;\">\n",
       "      <th></th>\n",
       "      <th>24-MBovis</th>\n",
       "      <th>27-MBovis</th>\n",
       "      <th>29-MBovis</th>\n",
       "    </tr>\n",
       "  </thead>\n",
       "  <tbody>\n",
       "    <tr>\n",
       "      <th>24-MBovis</th>\n",
       "      <td>0</td>\n",
       "      <td>1843</td>\n",
       "      <td>1239</td>\n",
       "    </tr>\n",
       "    <tr>\n",
       "      <th>27-MBovis</th>\n",
       "      <td>1843</td>\n",
       "      <td>0</td>\n",
       "      <td>1194</td>\n",
       "    </tr>\n",
       "    <tr>\n",
       "      <th>29-MBovis</th>\n",
       "      <td>1239</td>\n",
       "      <td>1194</td>\n",
       "      <td>0</td>\n",
       "    </tr>\n",
       "  </tbody>\n",
       "</table>\n",
       "</div>"
      ],
      "text/plain": [
       "           24-MBovis  27-MBovis  29-MBovis\n",
       "24-MBovis          0       1843       1239\n",
       "27-MBovis       1843          0       1194\n",
       "29-MBovis       1239       1194          0"
      ]
     },
     "execution_count": 256,
     "metadata": {},
     "output_type": "execute_result"
    }
   ],
   "source": [
    "DM"
   ]
  },
  {
   "cell_type": "code",
   "execution_count": 253,
   "id": "b075e4ca-cd82-4ce5-a2fe-f207dbe2aad7",
   "metadata": {
    "tags": []
   },
   "outputs": [],
   "source": [
    "X=meta.set_index('SeqID').loc[DM.index]\n",
    "st = clustering.generate_strain_names(clusts,X)\n",
    "#st.to_csv('wgmlst_strains.csv')\n",
    "X=X.join(st)"
   ]
  },
  {
   "cell_type": "code",
   "execution_count": 254,
   "id": "13a27734-2ceb-43f8-92d8-d09e1dc75800",
   "metadata": {
    "tags": []
   },
   "outputs": [
    {
     "data": {
      "image/png": "[encoded data removed]",
      "text/html": [
       "<div class=\"toyplot\" id=\"tcfd6255f4cc24e7db802d57632b09c34\" style=\"text-align:center\"><svg class=\"toyplot-canvas-Canvas\" xmlns:toyplot=\"http://www.sandia.gov/toyplot\" xmlns:xlink=\"http://www.w3.org/1999/xlink\" xmlns=\"http://www.w3.org/2000/svg\" width=\"600.0px\" height=\"500.0px\" viewBox=\"0 0 600.0 500.0\" preserveAspectRatio=\"xMidYMid meet\" style=\"background-color:transparent;border-color:#292724;border-style:none;border-width:1.0;fill:rgb(16.1%,15.3%,14.1%);fill-opacity:1.0;font-family:Helvetica;font-size:12px;opacity:1.0;stroke:rgb(16.1%,15.3%,14.1%);stroke-opacity:1.0;stroke-width:1.0\" id=\"tca56fe9e53ce46c9acee0ab0565deba0\"><g class=\"toyplot-coordinates-Cartesian\" id=\"t8011ba3b119b47bb945a628d91fb8f16\"><clipPath id=\"tb5d2ebc3f32c479a8a388cd8eee19b94\"><rect x=\"30.0\" y=\"30.0\" width=\"540.0\" height=\"440.0\"></rect></clipPath><g clip-path=\"url(#tb5d2ebc3f32c479a8a388cd8eee19b94)\"><g class=\"toytree-mark-Toytree\" id=\"t2377c9ce1b3d416ea99a5e11348298e4\"><g class=\"toytree-Edges\" style=\"fill:none;stroke:rgb(14.9%,14.9%,14.9%);stroke-linecap:round;stroke-opacity:1;stroke-width:0.5\"><path d=\"M 50.0 250.0 L 50.0 61.9 L 447.3 61.9\" id=\"3,2\"></path><path d=\"M 50.0 250.0 L 50.0 250.0 L 467.2 250.0\" id=\"3,1\"></path><path d=\"M 50.0 250.0 L 50.0 438.1 L 180.4 438.1\" id=\"3,0\"></path></g><g class=\"toytree-Nodes\" style=\"fill:rgb(40%,76.1%,64.7%);fill-opacity:1.0;stroke:None;stroke-width:1\"><g fill=\"rgb(27.8%,41.2%,4.31%)\" fill-opacity=\"1.0\" id=\"node-0\" transform=\"translate(180.386,438.147)\"><circle r=\"3.0\"></circle></g><g fill=\"rgb(43.5%,65.1%,83.9%)\" fill-opacity=\"1.0\" id=\"node-1\" transform=\"translate(467.235,250.000)\"><circle r=\"3.0\"></circle></g><g fill=\"rgb(4.71%,75.7%,55.7%)\" fill-opacity=\"1.0\" id=\"node-2\" transform=\"translate(447.345,61.853)\"><circle r=\"3.0\"></circle></g><g fill=\"rgb(0%,0%,0%)\" fill-opacity=\"1.0\" id=\"node-3\" transform=\"translate(50.000,250.000)\"><circle r=\"0.0\"></circle></g></g><g class=\"toytree-TipLabels\" style=\"fill:rgb(14.9%,14.9%,14.9%);fill-opacity:1.0;font-family:helvetica;font-size:11px;font-weight:normal;stroke:none;white-space:pre\"><g transform=\"translate(180.39,438.15)rotate(0)\"><text x=\"15.00\" y=\"2.81\" style=\"fill:rgb(27.8%,41.2%,4.31%);fill-opacity:1.0\">29-MBovis</text></g><g transform=\"translate(467.23,250.00)rotate(0)\"><text x=\"15.00\" y=\"2.81\" style=\"fill:rgb(43.5%,65.1%,83.9%);fill-opacity:1.0\">24-MBovis</text></g><g transform=\"translate(447.35,61.85)rotate(0)\"><text x=\"15.00\" y=\"2.81\" style=\"fill:rgb(4.71%,75.7%,55.7%);fill-opacity:1.0\">27-MBovis</text></g></g></g></g><g class=\"toyplot-coordinates-Axis\" id=\"t142ab2e391754960bc0f76c5105fb684\" transform=\"translate(50.0,450.0)translate(0,20.0)\"><line x1=\"0\" y1=\"0\" x2=\"417.2348013878898\" y2=\"0\" style=\"\"></line><g><line x1=\"417.2348013878898\" y1=\"0\" x2=\"417.2348013878898\" y2=\"-5\" style=\"\"></line><line x1=\"333.78784111031183\" y1=\"0\" x2=\"333.78784111031183\" y2=\"-5\" style=\"\"></line><line x1=\"250.34088083273386\" y1=\"0\" x2=\"250.34088083273386\" y2=\"-5\" style=\"\"></line><line x1=\"166.89392055515586\" y1=\"0\" x2=\"166.89392055515586\" y2=\"-5\" style=\"\"></line><line x1=\"83.44696027757793\" y1=\"0\" x2=\"83.44696027757793\" y2=\"-5\" style=\"\"></line><line x1=\"0.0\" y1=\"0\" x2=\"0.0\" y2=\"-5\" style=\"\"></line></g><g><g transform=\"translate(417.2348013878898,6)\"><text x=\"-2.78\" y=\"8.555\" style=\"fill:rgb(16.1%,15.3%,14.1%);fill-opacity:1.0;font-family:helvetica;font-size:10.0px;font-weight:normal;stroke:none;vertical-align:baseline;white-space:pre\">0</text></g><g transform=\"translate(333.78784111031183,6)\"><text x=\"-8.34\" y=\"8.555\" style=\"fill:rgb(16.1%,15.3%,14.1%);fill-opacity:1.0;font-family:helvetica;font-size:10.0px;font-weight:normal;stroke:none;vertical-align:baseline;white-space:pre\">189</text></g><g transform=\"translate(250.34088083273386,6)\"><text x=\"-8.34\" y=\"8.555\" style=\"fill:rgb(16.1%,15.3%,14.1%);fill-opacity:1.0;font-family:helvetica;font-size:10.0px;font-weight:normal;stroke:none;vertical-align:baseline;white-space:pre\">378</text></g><g transform=\"translate(166.89392055515586,6)\"><text x=\"-8.34\" y=\"8.555\" style=\"fill:rgb(16.1%,15.3%,14.1%);fill-opacity:1.0;font-family:helvetica;font-size:10.0px;font-weight:normal;stroke:none;vertical-align:baseline;white-space:pre\">566</text></g><g transform=\"translate(83.44696027757793,6)\"><text x=\"-8.34\" y=\"8.555\" style=\"fill:rgb(16.1%,15.3%,14.1%);fill-opacity:1.0;font-family:helvetica;font-size:10.0px;font-weight:normal;stroke:none;vertical-align:baseline;white-space:pre\">755</text></g><g transform=\"translate(0.0,6)\"><text x=\"-8.34\" y=\"8.555\" style=\"fill:rgb(16.1%,15.3%,14.1%);fill-opacity:1.0;font-family:helvetica;font-size:10.0px;font-weight:normal;stroke:none;vertical-align:baseline;white-space:pre\">944</text></g></g><g class=\"toyplot-coordinates-Axis-coordinates\" style=\"visibility:hidden\" transform=\"\"><line x1=\"0\" x2=\"0\" y1=\"-3.0\" y2=\"4.5\" style=\"stroke:rgb(43.9%,50.2%,56.5%);stroke-opacity:1.0;stroke-width:1.0\"></line><text x=\"0\" y=\"-6\" style=\"alignment-baseline:alphabetic;fill:rgb(43.9%,50.2%,56.5%);fill-opacity:1.0;font-size:10px;font-weight:normal;stroke:none;text-anchor:middle\"></text></g></g></g></svg><div class=\"toyplot-behavior\"><script>(function()\n",
       "{\n",
       "var modules={};\n",
       "modules[\"toyplot/canvas/id\"] = \"tca56fe9e53ce46c9acee0ab0565deba0\";\n",
       "modules[\"toyplot/canvas\"] = (function(canvas_id)\n",
       "    {\n",
       "        return document.querySelector(\"#\" + canvas_id);\n",
       "    })(modules[\"toyplot/canvas/id\"]);\n",
       "modules[\"toyplot.coordinates.Axis\"] = (\n",
       "        function(canvas)\n",
       "        {\n",
       "            function sign(x)\n",
       "            {\n",
       "                return x < 0 ? -1 : x > 0 ? 1 : 0;\n",
       "            }\n",
       "\n",
       "            function mix(a, b, amount)\n",
       "            {\n",
       "                return ((1.0 - amount) * a) + (amount * b);\n",
       "            }\n",
       "\n",
       "            function log(x, base)\n",
       "            {\n",
       "                return Math.log(Math.abs(x)) / Math.log(base);\n",
       "            }\n",
       "\n",
       "            function in_range(a, x, b)\n",
       "            {\n",
       "                var left = Math.min(a, b);\n",
       "                var right = Math.max(a, b);\n",
       "                return left <= x && x <= right;\n",
       "            }\n",
       "\n",
       "            function inside(range, projection)\n",
       "            {\n",
       "                for(var i = 0; i != projection.length; ++i)\n",
       "                {\n",
       "                    var segment = projection[i];\n",
       "                    if(in_range(segment.range.min, range, segment.range.max))\n",
       "                        return true;\n",
       "                }\n",
       "                return false;\n",
       "            }\n",
       "\n",
       "            function to_domain(range, projection)\n",
       "            {\n",
       "                for(var i = 0; i != projection.length; ++i)\n",
       "                {\n",
       "                    var segment = projection[i];\n",
       "                    if(in_range(segment.range.bounds.min, range, segment.range.bounds.max))\n",
       "                    {\n",
       "                        if(segment.scale == \"linear\")\n",
       "                        {\n",
       "                            var amount = (range - segment.range.min) / (segment.range.max - segment.range.min);\n",
       "                            return mix(segment.domain.min, segment.domain.max, amount)\n",
       "                        }\n",
       "                        else if(segment.scale[0] == \"log\")\n",
       "                        {\n",
       "                            var amount = (range - segment.range.min) / (segment.range.max - segment.range.min);\n",
       "                            var base = segment.scale[1];\n",
       "                            return sign(segment.domain.min) * Math.pow(base, mix(log(segment.domain.min, base), log(segment.domain.max, base), amount));\n",
       "                        }\n",
       "                    }\n",
       "                }\n",
       "            }\n",
       "\n",
       "            var axes = {};\n",
       "\n",
       "            function display_coordinates(e)\n",
       "            {\n",
       "                var current = canvas.createSVGPoint();\n",
       "                current.x = e.clientX;\n",
       "                current.y = e.clientY;\n",
       "\n",
       "                for(var axis_id in axes)\n",
       "                {\n",
       "                    var axis = document.querySelector(\"#\" + axis_id);\n",
       "                    var coordinates = axis.querySelector(\".toyplot-coordinates-Axis-coordinates\");\n",
       "                    if(coordinates)\n",
       "                    {\n",
       "                        var projection = axes[axis_id];\n",
       "                        var local = current.matrixTransform(axis.getScreenCTM().inverse());\n",
       "                        if(inside(local.x, projection))\n",
       "                        {\n",
       "                            var domain = to_domain(local.x, projection);\n",
       "                            coordinates.style.visibility = \"visible\";\n",
       "                            coordinates.setAttribute(\"transform\", \"translate(\" + local.x + \")\");\n",
       "                            var text = coordinates.querySelector(\"text\");\n",
       "                            text.textContent = domain.toFixed(2);\n",
       "                        }\n",
       "                        else\n",
       "                        {\n",
       "                            coordinates.style.visibility= \"hidden\";\n",
       "                        }\n",
       "                    }\n",
       "                }\n",
       "            }\n",
       "\n",
       "            canvas.addEventListener(\"click\", display_coordinates);\n",
       "\n",
       "            var module = {};\n",
       "            module.show_coordinates = function(axis_id, projection)\n",
       "            {\n",
       "                axes[axis_id] = projection;\n",
       "            }\n",
       "\n",
       "            return module;\n",
       "        })(modules[\"toyplot/canvas\"]);\n",
       "(function(axis, axis_id, projection)\n",
       "        {\n",
       "            axis.show_coordinates(axis_id, projection);\n",
       "        })(modules[\"toyplot.coordinates.Axis\"],\"t142ab2e391754960bc0f76c5105fb684\",[{\"domain\": {\"bounds\": {\"max\": Infinity, \"min\": -Infinity}, \"max\": 187.25750400000004, \"min\": -944.0}, \"range\": {\"bounds\": {\"max\": Infinity, \"min\": -Infinity}, \"max\": 500.0, \"min\": 0.0}, \"scale\": \"linear\"}]);\n",
       "})();</script></div></div>"
      ],
      "text/plain": [
       "<toyplot.canvas.Canvas at 0x7f254f0215a0>"
      ]
     },
     "execution_count": 254,
     "metadata": {},
     "output_type": "execute_result"
    }
   ],
   "source": [
    "scol='snp200'\n",
    "#scol='County'\n",
    "reload(trees)\n",
    "trees.draw_tree('tree.newick',X,scol,tip_labels=True,width=600)#,cmap=clustering.snp200_cmap)"
   ]
  },
  {
   "cell_type": "code",
   "execution_count": null,
   "id": "d7ec07ee-278e-4374-bec5-814564040ca4",
   "metadata": {
    "tags": []
   },
   "outputs": [],
   "source": [
    "import networkx as nx\n",
    "G= nx.erdos_renyi_graph(n=20,p=0.2)\n",
    "T = nx.minimum_spanning_tree(G)\n",
    "nx.draw(T)"
   ]
  },
  {
   "cell_type": "code",
   "execution_count": null,
   "id": "649e670f-7fee-4aa0-a077-e64e31a864e9",
   "metadata": {
    "tags": []
   },
   "outputs": [],
   "source": [
    "cg = sns.clustermap(DM, cmap='Blues', row_colors=X.color,figsize=(6,6),xticklabels=False,yticklabels=False)\n",
    "cm=dict(zip(X[scol],X.color))\n",
    "p=plotting.make_legend(cg.fig, cm, loc=(1.2, .9), title='cluster',fontsize=10)"
   ]
  },
  {
   "cell_type": "code",
   "execution_count": 194,
   "id": "ea9b1f21-c3b7-46f0-93f4-4e3bc503c246",
   "metadata": {
    "tags": []
   },
   "outputs": [
    {
     "data": {
      "image/png": "[encoded data removed]",
      "text/html": [
       "<div class=\"toyplot\" id=\"tec68c118917f45f495b6ba395a55310e\" style=\"text-align:center\"><svg class=\"toyplot-canvas-Canvas\" xmlns:toyplot=\"http://www.sandia.gov/toyplot\" xmlns:xlink=\"http://www.w3.org/1999/xlink\" xmlns=\"http://www.w3.org/2000/svg\" width=\"600.0px\" height=\"500.0px\" viewBox=\"0 0 600.0 500.0\" preserveAspectRatio=\"xMidYMid meet\" style=\"background-color:transparent;border-color:#292724;border-style:none;border-width:1.0;fill:rgb(16.1%,15.3%,14.1%);fill-opacity:1.0;font-family:Helvetica;font-size:12px;opacity:1.0;stroke:rgb(16.1%,15.3%,14.1%);stroke-opacity:1.0;stroke-width:1.0\" id=\"t5493da4eda5a466e97d1c724c81771d5\"><g class=\"toyplot-coordinates-Cartesian\" id=\"tca85ded3a60d4532900b71d8c18a5373\"><clipPath id=\"t36f674749497403bac070e93bbcb10da\"><rect x=\"30.0\" y=\"30.0\" width=\"540.0\" height=\"440.0\"></rect></clipPath><g clip-path=\"url(#t36f674749497403bac070e93bbcb10da)\"><g class=\"toytree-mark-Toytree\" id=\"t99d45a5d87cf44bda16fb48a1ae749a7\"><g class=\"toytree-Edges\" style=\"fill:none;stroke:rgb(14.9%,14.9%,14.9%);stroke-linecap:round;stroke-opacity:1;stroke-width:0.5\"><path d=\"M 50.4 79.7 L 50.4 107.6 L 50.4 107.6\" id=\"95,94\"></path><path d=\"M 50.4 107.6 L 50.4 137.8 L 141.5 137.8\" id=\"94,93\"></path><path d=\"M 141.5 137.8 L 141.5 103.3 L 195.8 103.3\" id=\"93,92\"></path><path d=\"M 141.5 137.8 L 141.5 172.3 L 141.5 172.3\" id=\"93,91\"></path><path d=\"M 195.8 103.3 L 195.8 89.3 L 290.3 89.3\" id=\"92,90\"></path><path d=\"M 195.8 103.3 L 195.8 117.2 L 252.0 117.2\" id=\"92,89\"></path><path d=\"M 141.5 172.3 L 141.5 188.6 L 141.5 188.6\" id=\"91,88\"></path><path d=\"M 252.0 117.2 L 252.0 105.0 L 270.3 105.0\" id=\"89,87\"></path><path d=\"M 252.0 117.2 L 252.0 129.5 L 287.0 129.5\" id=\"89,86\"></path><path d=\"M 141.5 188.6 L 141.5 167.7 L 161.0 167.7\" id=\"88,85\"></path><path d=\"M 141.5 188.6 L 141.5 209.6 L 141.5 209.6\" id=\"88,84\"></path><path d=\"M 287.0 129.5 L 287.0 120.6 L 287.0 120.6\" id=\"86,83\"></path><path d=\"M 287.0 129.5 L 287.0 138.3 L 304.5 138.3\" id=\"86,82\"></path><path d=\"M 141.5 209.6 L 141.5 186.3 L 435.4 186.3\" id=\"84,81\"></path><path d=\"M 141.5 209.6 L 141.5 232.8 L 196.7 232.8\" id=\"84,80\"></path><path d=\"M 304.5 138.3 L 304.5 144.2 L 304.5 144.2\" id=\"82,79\"></path><path d=\"M 435.4 186.3 L 435.4 193.2 L 435.4 193.2\" id=\"81,78\"></path><path d=\"M 196.7 232.8 L 196.7 254.9 L 250.4 254.9\" id=\"80,77\"></path><path d=\"M 435.4 193.2 L 435.4 199.0 L 435.4 199.0\" id=\"78,76\"></path><path d=\"M 250.4 254.9 L 250.4 224.5 L 285.5 224.5\" id=\"77,75\"></path><path d=\"M 250.4 254.9 L 250.4 285.3 L 250.4 285.3\" id=\"77,74\"></path><path d=\"M 285.5 224.5 L 285.5 230.4 L 320.5 230.4\" id=\"75,73\"></path><path d=\"M 250.4 285.3 L 250.4 246.1 L 250.4 246.1\" id=\"74,72\"></path><path d=\"M 250.4 285.3 L 250.4 324.4 L 250.4 324.4\" id=\"74,71\"></path><path d=\"M 250.4 324.4 L 250.4 282.1 L 250.4 282.1\" id=\"71,70\"></path><path d=\"M 250.4 324.4 L 250.4 366.8 L 250.4 366.8\" id=\"71,69\"></path><path d=\"M 250.4 282.1 L 250.4 264.7 L 250.4 264.7\" id=\"70,68\"></path><path d=\"M 250.4 282.1 L 250.4 299.5 L 250.4 299.5\" id=\"70,67\"></path><path d=\"M 250.4 366.8 L 250.4 343.1 L 268.0 343.1\" id=\"69,66\"></path><path d=\"M 250.4 366.8 L 250.4 390.5 L 268.3 390.5\" id=\"69,65\"></path><path d=\"M 250.4 264.7 L 250.4 271.6 L 267.8 271.6\" id=\"68,64\"></path><path d=\"M 250.4 299.5 L 250.4 309.8 L 285.8 309.8\" id=\"67,63\"></path><path d=\"M 268.0 343.1 L 268.0 350.0 L 321.1 350.0\" id=\"66,62\"></path><path d=\"M 268.3 390.5 L 268.3 374.5 L 303.4 374.5\" id=\"65,61\"></path><path d=\"M 268.3 390.5 L 268.3 406.5 L 358.0 406.5\" id=\"65,60\"></path><path d=\"M 267.8 271.6 L 267.8 277.4 L 358.7 277.4\" id=\"64,59\"></path><path d=\"M 285.8 309.8 L 285.8 301.0 L 322.3 301.0\" id=\"63,58\"></path><path d=\"M 285.8 309.8 L 285.8 318.6 L 322.3 318.6\" id=\"63,57\"></path><path d=\"M 321.1 350.0 L 321.1 355.8 L 321.1 355.8\" id=\"62,56\"></path><path d=\"M 303.4 374.5 L 303.4 381.3 L 303.4 381.3\" id=\"61,55\"></path><path d=\"M 358.0 406.5 L 358.0 414.1 L 358.0 414.1\" id=\"60,54\"></path><path d=\"M 322.3 318.6 L 322.3 324.5 L 322.3 324.5\" id=\"57,53\"></path><path d=\"M 303.4 381.3 L 303.4 387.2 L 391.8 387.2\" id=\"55,52\"></path><path d=\"M 358.0 414.1 L 358.0 421.5 L 358.0 421.5\" id=\"54,51\"></path><path d=\"M 358.0 421.5 L 358.0 428.3 L 358.0 428.3\" id=\"51,50\"></path><path d=\"M 358.0 428.3 L 358.0 434.2 L 358.0 434.2\" id=\"50,49\"></path><path d=\"M 50.4 79.7 L 50.4 61.9 L 50.4 61.9\" id=\"95,48\"></path><path d=\"M 50.4 79.7 L 50.4 69.7 L 50.4 69.7\" id=\"95,47\"></path><path d=\"M 50.4 107.6 L 50.4 77.5 L 50.4 77.5\" id=\"94,46\"></path><path d=\"M 290.3 89.3 L 290.3 85.4 L 308.2 85.4\" id=\"90,45\"></path><path d=\"M 290.3 89.3 L 290.3 93.2 L 290.3 93.2\" id=\"90,44\"></path><path d=\"M 270.3 105.0 L 270.3 101.1 L 342.9 101.1\" id=\"87,43\"></path><path d=\"M 270.3 105.0 L 270.3 108.9 L 288.2 108.9\" id=\"87,42\"></path><path d=\"M 287.0 120.6 L 287.0 116.7 L 322.0 116.7\" id=\"83,41\"></path><path d=\"M 287.0 120.6 L 287.0 124.6 L 304.6 124.6\" id=\"83,40\"></path><path d=\"M 304.5 138.3 L 304.5 132.4 L 321.9 132.4\" id=\"82,39\"></path><path d=\"M 304.5 144.2 L 304.5 140.2 L 304.5 140.2\" id=\"79,38\"></path><path d=\"M 304.5 144.2 L 304.5 148.1 L 304.5 148.1\" id=\"79,37\"></path><path d=\"M 141.5 172.3 L 141.5 155.9 L 141.5 155.9\" id=\"91,36\"></path><path d=\"M 161.0 167.7 L 161.0 163.8 L 482.2 163.8\" id=\"85,35\"></path><path d=\"M 161.0 167.7 L 161.0 171.6 L 306.9 171.6\" id=\"85,34\"></path><path d=\"M 435.4 186.3 L 435.4 179.4 L 468.1 179.4\" id=\"81,33\"></path><path d=\"M 435.4 193.2 L 435.4 187.3 L 435.4 187.3\" id=\"78,32\"></path><path d=\"M 435.4 199.0 L 435.4 195.1 L 468.6 195.1\" id=\"76,31\"></path><path d=\"M 435.4 199.0 L 435.4 203.0 L 451.7 203.0\" id=\"76,30\"></path><path d=\"M 196.7 232.8 L 196.7 210.8 L 483.3 210.8\" id=\"80,29\"></path><path d=\"M 285.5 224.5 L 285.5 218.6 L 285.5 218.6\" id=\"75,28\"></path><path d=\"M 320.5 230.4 L 320.5 226.5 L 337.7 226.5\" id=\"73,27\"></path><path d=\"M 320.5 230.4 L 320.5 234.3 L 320.5 234.3\" id=\"73,26\"></path><path d=\"M 250.4 246.1 L 250.4 242.2 L 322.5 242.2\" id=\"72,25\"></path><path d=\"M 250.4 246.1 L 250.4 250.0 L 322.2 250.0\" id=\"72,24\"></path><path d=\"M 250.4 264.7 L 250.4 257.8 L 322.2 257.8\" id=\"68,23\"></path><path d=\"M 267.8 271.6 L 267.8 265.7 L 321.5 265.7\" id=\"64,22\"></path><path d=\"M 358.7 277.4 L 358.7 273.5 L 358.7 273.5\" id=\"59,21\"></path><path d=\"M 358.7 277.4 L 358.7 281.4 L 410.9 281.4\" id=\"59,20\"></path><path d=\"M 250.4 299.5 L 250.4 289.2 L 267.9 289.2\" id=\"67,19\"></path><path d=\"M 322.3 301.0 L 322.3 297.0 L 358.0 297.0\" id=\"58,18\"></path><path d=\"M 322.3 301.0 L 322.3 304.9 L 322.3 304.9\" id=\"58,17\"></path><path d=\"M 322.3 318.6 L 322.3 312.7 L 357.7 312.7\" id=\"57,16\"></path><path d=\"M 322.3 324.5 L 322.3 320.6 L 322.3 320.6\" id=\"53,15\"></path><path d=\"M 322.3 324.5 L 322.3 328.4 L 322.3 328.4\" id=\"53,14\"></path><path d=\"M 268.0 343.1 L 268.0 336.2 L 340.3 336.2\" id=\"66,13\"></path><path d=\"M 321.1 350.0 L 321.1 344.1 L 355.7 344.1\" id=\"62,12\"></path><path d=\"M 321.1 355.8 L 321.1 351.9 L 321.1 351.9\" id=\"56,11\"></path><path d=\"M 321.1 355.8 L 321.1 359.8 L 321.1 359.8\" id=\"56,10\"></path><path d=\"M 303.4 374.5 L 303.4 367.6 L 320.7 367.6\" id=\"61,9\"></path><path d=\"M 303.4 381.3 L 303.4 375.4 L 374.4 375.4\" id=\"55,8\"></path><path d=\"M 391.8 387.2 L 391.8 383.3 L 408.9 383.3\" id=\"52,7\"></path><path d=\"M 391.8 387.2 L 391.8 391.1 L 391.8 391.1\" id=\"52,6\"></path><path d=\"M 358.0 406.5 L 358.0 398.9 L 375.0 398.9\" id=\"60,5\"></path><path d=\"M 358.0 414.1 L 358.0 406.8 L 375.1 406.8\" id=\"54,4\"></path><path d=\"M 358.0 421.5 L 358.0 414.6 L 358.0 414.6\" id=\"51,3\"></path><path d=\"M 358.0 428.3 L 358.0 422.5 L 358.0 422.5\" id=\"50,2\"></path><path d=\"M 358.0 434.2 L 358.0 430.3 L 358.0 430.3\" id=\"49,1\"></path><path d=\"M 358.0 434.2 L 358.0 438.1 L 358.0 438.1\" id=\"49,0\"></path></g><g class=\"toytree-TipLabels\" style=\"fill:rgb(14.9%,14.9%,14.9%);fill-opacity:1.0;font-family:helvetica;font-size:11px;font-weight:normal;stroke:none;white-space:pre\"><g transform=\"translate(357.98,438.15)rotate(0)\"><text x=\"15.00\" y=\"2.81\" style=\"\">59-6110</text></g><g transform=\"translate(357.98,430.31)rotate(0)\"><text x=\"15.00\" y=\"2.81\" style=\"\">19-MBovis</text></g><g transform=\"translate(357.98,422.47)rotate(0)\"><text x=\"15.00\" y=\"2.81\" style=\"\">42-MBovis</text></g><g transform=\"translate(357.98,414.63)rotate(0)\"><text x=\"15.00\" y=\"2.81\" style=\"\">48-MBovis</text></g><g transform=\"translate(375.09,406.79)rotate(0)\"><text x=\"15.00\" y=\"2.81\" style=\"\">48-2919</text></g><g transform=\"translate(374.99,398.95)rotate(0)\"><text x=\"15.00\" y=\"2.81\" style=\"\">59-MBovis</text></g><g transform=\"translate(391.79,391.11)rotate(0)\"><text x=\"15.00\" y=\"2.81\" style=\"\">26-12883</text></g><g transform=\"translate(408.93,383.27)rotate(0)\"><text x=\"15.00\" y=\"2.81\" style=\"\">3-10110</text></g><g transform=\"translate(374.45,375.43)rotate(0)\"><text x=\"15.00\" y=\"2.81\" style=\"\">55-4348</text></g><g transform=\"translate(320.73,367.59)rotate(0)\"><text x=\"15.00\" y=\"2.81\" style=\"\">37-MBovis</text></g><g transform=\"translate(321.10,359.75)rotate(0)\"><text x=\"15.00\" y=\"2.81\" style=\"\">52-3698</text></g><g transform=\"translate(321.10,351.91)rotate(0)\"><text x=\"15.00\" y=\"2.81\" style=\"\">38-MBovis</text></g><g transform=\"translate(355.75,344.07)rotate(0)\"><text x=\"15.00\" y=\"2.81\" style=\"\">41-2165</text></g><g transform=\"translate(340.31,336.23)rotate(0)\"><text x=\"15.00\" y=\"2.81\" style=\"\">5-10284</text></g><g transform=\"translate(322.29,328.39)rotate(0)\"><text x=\"15.00\" y=\"2.81\" style=\"\">35-MBovis</text></g><g transform=\"translate(322.29,320.56)rotate(0)\"><text x=\"15.00\" y=\"2.81\" style=\"\">49-MBovis</text></g><g transform=\"translate(357.66,312.72)rotate(0)\"><text x=\"15.00\" y=\"2.81\" style=\"\">54-MBovis</text></g><g transform=\"translate(322.29,304.88)rotate(0)\"><text x=\"15.00\" y=\"2.81\" style=\"\">51-MBovis</text></g><g transform=\"translate(357.97,297.04)rotate(0)\"><text x=\"15.00\" y=\"2.81\" style=\"\">23-MBovis</text></g><g transform=\"translate(267.91,289.20)rotate(0)\"><text x=\"15.00\" y=\"2.81\" style=\"\">44-MBovis</text></g><g transform=\"translate(410.91,281.36)rotate(0)\"><text x=\"15.00\" y=\"2.81\" style=\"\">45-MBovis</text></g><g transform=\"translate(358.72,273.52)rotate(0)\"><text x=\"15.00\" y=\"2.81\" style=\"\">7-10423</text></g><g transform=\"translate(321.50,265.68)rotate(0)\"><text x=\"15.00\" y=\"2.81\" style=\"\">41-MBovis</text></g><g transform=\"translate(322.23,257.84)rotate(0)\"><text x=\"15.00\" y=\"2.81\" style=\"\">17-MBovis</text></g><g transform=\"translate(322.17,250.00)rotate(0)\"><text x=\"15.00\" y=\"2.81\" style=\"\">27-MBovis</text></g><g transform=\"translate(322.54,242.16)rotate(0)\"><text x=\"15.00\" y=\"2.81\" style=\"\">47-MBovis</text></g><g transform=\"translate(320.52,234.32)rotate(0)\"><text x=\"15.00\" y=\"2.81\" style=\"\">25-MBovis</text></g><g transform=\"translate(337.72,226.48)rotate(0)\"><text x=\"15.00\" y=\"2.81\" style=\"\">30-MBovis</text></g><g transform=\"translate(285.53,218.64)rotate(0)\"><text x=\"15.00\" y=\"2.81\" style=\"\">14-MBovis</text></g><g transform=\"translate(483.30,210.80)rotate(0)\"><text x=\"15.00\" y=\"2.81\" style=\"\">51-3292</text></g><g transform=\"translate(451.73,202.96)rotate(0)\"><text x=\"15.00\" y=\"2.81\" style=\"\">28-12935</text></g><g transform=\"translate(468.64,195.12)rotate(0)\"><text x=\"15.00\" y=\"2.81\" style=\"\">15-11643</text></g><g transform=\"translate(435.36,187.28)rotate(0)\"><text x=\"15.00\" y=\"2.81\" style=\"\">19-11957</text></g><g transform=\"translate(468.12,179.44)rotate(0)\"><text x=\"15.00\" y=\"2.81\" style=\"\">31-12952</text></g><g transform=\"translate(306.90,171.61)rotate(0)\"><text x=\"15.00\" y=\"2.81\" style=\"\">43-MBovis</text></g><g transform=\"translate(482.16,163.77)rotate(0)\"><text x=\"15.00\" y=\"2.81\" style=\"\">1034</text></g><g transform=\"translate(141.53,155.93)rotate(0)\"><text x=\"15.00\" y=\"2.81\" style=\"\">ref</text></g><g transform=\"translate(304.47,148.09)rotate(0)\"><text x=\"15.00\" y=\"2.81\" style=\"\">36-MBovis</text></g><g transform=\"translate(304.47,140.25)rotate(0)\"><text x=\"15.00\" y=\"2.81\" style=\"\">50-MBovis</text></g><g transform=\"translate(321.90,132.41)rotate(0)\"><text x=\"15.00\" y=\"2.81\" style=\"\">26-MBovis</text></g><g transform=\"translate(304.58,124.57)rotate(0)\"><text x=\"15.00\" y=\"2.81\" style=\"\">22-12200</text></g><g transform=\"translate(321.99,116.73)rotate(0)\"><text x=\"15.00\" y=\"2.81\" style=\"\">56-MBovis</text></g><g transform=\"translate(288.25,108.89)rotate(0)\"><text x=\"15.00\" y=\"2.81\" style=\"\">13-11594</text></g><g transform=\"translate(342.85,101.05)rotate(0)\"><text x=\"15.00\" y=\"2.81\" style=\"\">17-11662</text></g><g transform=\"translate(290.34,93.21)rotate(0)\"><text x=\"15.00\" y=\"2.81\" style=\"\">24-MBovis</text></g><g transform=\"translate(308.20,85.37)rotate(0)\"><text x=\"15.00\" y=\"2.81\" style=\"\">29-MBovis</text></g><g transform=\"translate(50.44,77.53)rotate(0)\"><text x=\"15.00\" y=\"2.81\" style=\"\">TB18-001924</text></g><g transform=\"translate(50.44,69.69)rotate(0)\"><text x=\"15.00\" y=\"2.81\" style=\"\">TB20-003486</text></g><g transform=\"translate(50.44,61.85)rotate(0)\"><text x=\"15.00\" y=\"2.81\" style=\"\">cat-003488</text></g></g></g></g><g class=\"toyplot-coordinates-Axis\" id=\"t21de53b0247b46f48dc8cfe192f58a22\" transform=\"translate(50.0,450.0)translate(0,20.0)\"><line x1=\"0.43286370507084504\" y1=\"0\" x2=\"433.29656877598273\" y2=\"0\" style=\"\"></line><g><line x1=\"433.29656877598273\" y1=\"0\" x2=\"433.29656877598273\" y2=\"-5\" style=\"\"></line><line x1=\"346.72382776180035\" y1=\"0\" x2=\"346.72382776180035\" y2=\"-5\" style=\"\"></line><line x1=\"260.15108674761797\" y1=\"0\" x2=\"260.15108674761797\" y2=\"-5\" style=\"\"></line><line x1=\"173.57834573343555\" y1=\"0\" x2=\"173.57834573343555\" y2=\"-5\" style=\"\"></line><line x1=\"87.00560471925317\" y1=\"0\" x2=\"87.00560471925317\" y2=\"-5\" style=\"\"></line><line x1=\"0.4328637050707839\" y1=\"0\" x2=\"0.4328637050707839\" y2=\"-5\" style=\"\"></line></g><g><g transform=\"translate(433.29656877598273,6)\"><text x=\"-2.78\" y=\"8.555\" style=\"fill:rgb(16.1%,15.3%,14.1%);fill-opacity:1.0;font-family:helvetica;font-size:10.0px;font-weight:normal;stroke:none;vertical-align:baseline;white-space:pre\">0</text></g><g transform=\"translate(346.72382776180035,6)\"><text x=\"-2.78\" y=\"8.555\" style=\"fill:rgb(16.1%,15.3%,14.1%);fill-opacity:1.0;font-family:helvetica;font-size:10.0px;font-weight:normal;stroke:none;vertical-align:baseline;white-space:pre\">5</text></g><g transform=\"translate(260.15108674761797,6)\"><text x=\"-5.56\" y=\"8.555\" style=\"fill:rgb(16.1%,15.3%,14.1%);fill-opacity:1.0;font-family:helvetica;font-size:10.0px;font-weight:normal;stroke:none;vertical-align:baseline;white-space:pre\">10</text></g><g transform=\"translate(173.57834573343555,6)\"><text x=\"-5.56\" y=\"8.555\" style=\"fill:rgb(16.1%,15.3%,14.1%);fill-opacity:1.0;font-family:helvetica;font-size:10.0px;font-weight:normal;stroke:none;vertical-align:baseline;white-space:pre\">15</text></g><g transform=\"translate(87.00560471925317,6)\"><text x=\"-5.56\" y=\"8.555\" style=\"fill:rgb(16.1%,15.3%,14.1%);fill-opacity:1.0;font-family:helvetica;font-size:10.0px;font-weight:normal;stroke:none;vertical-align:baseline;white-space:pre\">20</text></g><g transform=\"translate(0.4328637050707839,6)\"><text x=\"-5.56\" y=\"8.555\" style=\"fill:rgb(16.1%,15.3%,14.1%);fill-opacity:1.0;font-family:helvetica;font-size:10.0px;font-weight:normal;stroke:none;vertical-align:baseline;white-space:pre\">25</text></g></g><g class=\"toyplot-coordinates-Axis-coordinates\" style=\"visibility:hidden\" transform=\"\"><line x1=\"0\" x2=\"0\" y1=\"-3.0\" y2=\"4.5\" style=\"stroke:rgb(43.9%,50.2%,56.5%);stroke-opacity:1.0;stroke-width:1.0\"></line><text x=\"0\" y=\"-6\" style=\"alignment-baseline:alphabetic;fill:rgb(43.9%,50.2%,56.5%);fill-opacity:1.0;font-size:10px;font-weight:normal;stroke:none;text-anchor:middle\"></text></g></g></g></svg><div class=\"toyplot-behavior\"><script>(function()\n",
       "{\n",
       "var modules={};\n",
       "modules[\"toyplot/canvas/id\"] = \"t5493da4eda5a466e97d1c724c81771d5\";\n",
       "modules[\"toyplot/canvas\"] = (function(canvas_id)\n",
       "    {\n",
       "        return document.querySelector(\"#\" + canvas_id);\n",
       "    })(modules[\"toyplot/canvas/id\"]);\n",
       "modules[\"toyplot.coordinates.Axis\"] = (\n",
       "        function(canvas)\n",
       "        {\n",
       "            function sign(x)\n",
       "            {\n",
       "                return x < 0 ? -1 : x > 0 ? 1 : 0;\n",
       "            }\n",
       "\n",
       "            function mix(a, b, amount)\n",
       "            {\n",
       "                return ((1.0 - amount) * a) + (amount * b);\n",
       "            }\n",
       "\n",
       "            function log(x, base)\n",
       "            {\n",
       "                return Math.log(Math.abs(x)) / Math.log(base);\n",
       "            }\n",
       "\n",
       "            function in_range(a, x, b)\n",
       "            {\n",
       "                var left = Math.min(a, b);\n",
       "                var right = Math.max(a, b);\n",
       "                return left <= x && x <= right;\n",
       "            }\n",
       "\n",
       "            function inside(range, projection)\n",
       "            {\n",
       "                for(var i = 0; i != projection.length; ++i)\n",
       "                {\n",
       "                    var segment = projection[i];\n",
       "                    if(in_range(segment.range.min, range, segment.range.max))\n",
       "                        return true;\n",
       "                }\n",
       "                return false;\n",
       "            }\n",
       "\n",
       "            function to_domain(range, projection)\n",
       "            {\n",
       "                for(var i = 0; i != projection.length; ++i)\n",
       "                {\n",
       "                    var segment = projection[i];\n",
       "                    if(in_range(segment.range.bounds.min, range, segment.range.bounds.max))\n",
       "                    {\n",
       "                        if(segment.scale == \"linear\")\n",
       "                        {\n",
       "                            var amount = (range - segment.range.min) / (segment.range.max - segment.range.min);\n",
       "                            return mix(segment.domain.min, segment.domain.max, amount)\n",
       "                        }\n",
       "                        else if(segment.scale[0] == \"log\")\n",
       "                        {\n",
       "                            var amount = (range - segment.range.min) / (segment.range.max - segment.range.min);\n",
       "                            var base = segment.scale[1];\n",
       "                            return sign(segment.domain.min) * Math.pow(base, mix(log(segment.domain.min, base), log(segment.domain.max, base), amount));\n",
       "                        }\n",
       "                    }\n",
       "                }\n",
       "            }\n",
       "\n",
       "            var axes = {};\n",
       "\n",
       "            function display_coordinates(e)\n",
       "            {\n",
       "                var current = canvas.createSVGPoint();\n",
       "                current.x = e.clientX;\n",
       "                current.y = e.clientY;\n",
       "\n",
       "                for(var axis_id in axes)\n",
       "                {\n",
       "                    var axis = document.querySelector(\"#\" + axis_id);\n",
       "                    var coordinates = axis.querySelector(\".toyplot-coordinates-Axis-coordinates\");\n",
       "                    if(coordinates)\n",
       "                    {\n",
       "                        var projection = axes[axis_id];\n",
       "                        var local = current.matrixTransform(axis.getScreenCTM().inverse());\n",
       "                        if(inside(local.x, projection))\n",
       "                        {\n",
       "                            var domain = to_domain(local.x, projection);\n",
       "                            coordinates.style.visibility = \"visible\";\n",
       "                            coordinates.setAttribute(\"transform\", \"translate(\" + local.x + \")\");\n",
       "                            var text = coordinates.querySelector(\"text\");\n",
       "                            text.textContent = domain.toFixed(2);\n",
       "                        }\n",
       "                        else\n",
       "                        {\n",
       "                            coordinates.style.visibility= \"hidden\";\n",
       "                        }\n",
       "                    }\n",
       "                }\n",
       "            }\n",
       "\n",
       "            canvas.addEventListener(\"click\", display_coordinates);\n",
       "\n",
       "            var module = {};\n",
       "            module.show_coordinates = function(axis_id, projection)\n",
       "            {\n",
       "                axes[axis_id] = projection;\n",
       "            }\n",
       "\n",
       "            return module;\n",
       "        })(modules[\"toyplot/canvas\"]);\n",
       "(function(axis, axis_id, projection)\n",
       "        {\n",
       "            axis.show_coordinates(axis_id, projection);\n",
       "        })(modules[\"toyplot.coordinates.Axis\"],\"t21de53b0247b46f48dc8cfe192f58a22\",[{\"domain\": {\"bounds\": {\"max\": Infinity, \"min\": -Infinity}, \"max\": 3.880572884999996, \"min\": -25.207682499999994}, \"range\": {\"bounds\": {\"max\": Infinity, \"min\": -Infinity}, \"max\": 500.0, \"min\": 0.0}, \"scale\": \"linear\"}]);\n",
       "})();</script></div></div>"
      ],
      "text/plain": [
       "<toyplot.canvas.Canvas at 0x7f255253df30>"
      ]
     },
     "execution_count": 194,
     "metadata": {},
     "output_type": "execute_result"
    }
   ],
   "source": [
    "trees.draw_tree('/storage/btbgenie/wicklow_results/tree.newick',tip_labels=True,width=600)"
   ]
  },
  {
   "cell_type": "code",
   "execution_count": 216,
   "id": "6364389f-65cb-4770-86ce-836796109b7e",
   "metadata": {
    "tags": []
   },
   "outputs": [
    {
     "data": {
      "text/html": [
       "<div>\n",
       "<style scoped>\n",
       "    .dataframe tbody tr th:only-of-type {\n",
       "        vertical-align: middle;\n",
       "    }\n",
       "\n",
       "    .dataframe tbody tr th {\n",
       "        vertical-align: top;\n",
       "    }\n",
       "\n",
       "    .dataframe thead th {\n",
       "        text-align: right;\n",
       "    }\n",
       "</style>\n",
       "<table border=\"1\" class=\"dataframe\">\n",
       "  <thead>\n",
       "    <tr style=\"text-align: right;\">\n",
       "      <th></th>\n",
       "      <th>29-MBovis</th>\n",
       "      <th>24-MBovis</th>\n",
       "      <th>47-MBovis</th>\n",
       "      <th>27-MBovis</th>\n",
       "    </tr>\n",
       "  </thead>\n",
       "  <tbody>\n",
       "    <tr>\n",
       "      <th>29-MBovis</th>\n",
       "      <td>0</td>\n",
       "      <td>0</td>\n",
       "      <td>1</td>\n",
       "      <td>2</td>\n",
       "    </tr>\n",
       "    <tr>\n",
       "      <th>24-MBovis</th>\n",
       "      <td>0</td>\n",
       "      <td>0</td>\n",
       "      <td>1</td>\n",
       "      <td>2</td>\n",
       "    </tr>\n",
       "    <tr>\n",
       "      <th>47-MBovis</th>\n",
       "      <td>1</td>\n",
       "      <td>1</td>\n",
       "      <td>0</td>\n",
       "      <td>1</td>\n",
       "    </tr>\n",
       "    <tr>\n",
       "      <th>27-MBovis</th>\n",
       "      <td>2</td>\n",
       "      <td>2</td>\n",
       "      <td>1</td>\n",
       "      <td>0</td>\n",
       "    </tr>\n",
       "  </tbody>\n",
       "</table>\n",
       "</div>"
      ],
      "text/plain": [
       "           29-MBovis  24-MBovis  47-MBovis  27-MBovis\n",
       "29-MBovis          0          0          1          2\n",
       "24-MBovis          0          0          1          2\n",
       "47-MBovis          1          1          0          1\n",
       "27-MBovis          2          2          1          0"
      ]
     },
     "execution_count": 216,
     "metadata": {},
     "output_type": "execute_result"
    },
    {
     "data": {
      "image/png": "[encoded data removed]",
      "text/plain": [
       "<Figure size 1500x800 with 2 Axes>"
      ]
     },
     "metadata": {},
     "output_type": "display_data"
    }
   ],
   "source": [
    "sd=pd.read_csv('/storage/btbgenie/wicklow_results/snpdist.csv',index_col=0)\n",
    "sub = list(X.index)\n",
    "sd = sd.loc[sub,sub]\n",
    "fig,ax=plt.subplots(1,2,figsize=(15,8))\n",
    "sns.heatmap(sd,annot=True,cbar=False,ax=ax[0])\n",
    "sns.heatmap(DM,annot=True,cbar=False,ax=ax[1])\n",
    "\n",
    "sd-DM"
   ]
  },
  {
   "cell_type": "markdown",
   "id": "43644269-419b-441f-af8e-a179f56f6887",
   "metadata": {
    "tags": []
   },
   "source": [
    "## add new isolates\n",
    "\n",
    "* get profile\n",
    "* add to stored profiles\n",
    "* make new distance matrix\n",
    "* re-derive clusters with current members\n",
    "* get strain name\n",
    "* store updated cluster members, dist matrix and profiles"
   ]
  },
  {
   "cell_type": "code",
   "execution_count": null,
   "id": "d41e54e6-e266-4835-90f8-b6671b0d9480",
   "metadata": {},
   "outputs": [],
   "source": []
  },
  {
   "cell_type": "markdown",
   "id": "0e9485ac-50a4-4e0f-a5fb-14062f54896c",
   "metadata": {},
   "source": [
    "# sensitivity analysis - SNPs vs MLST"
   ]
  },
  {
   "cell_type": "markdown",
   "id": "14f844d0-bed1-4dde-b58f-ee52d6f4c893",
   "metadata": {},
   "source": [
    "## phastsim\n",
    "\n",
    "https://www.ncbi.nlm.nih.gov/pmc/articles/PMC7987011/"
   ]
  },
  {
   "cell_type": "code",
   "execution_count": 80,
   "id": "3c305630-afbd-42bc-8123-25a81634db76",
   "metadata": {},
   "outputs": [
    {
     "data": {
      "text/plain": [
       "'phastSim --outpath simulation_output/ --seed 1 --createFasta --createPhylip --treeFile sim.newick --scale 6.896703927259084e-07 --invariable .1 --alpha 1.0 --omegaAlpha 1.0 --reference Mbovis_AF212297.fa'"
      ]
     },
     "execution_count": 80,
     "metadata": {},
     "output_type": "execute_result"
    }
   ],
   "source": [
    "refseq = SeqIO.read('Mbovis_AF212297.fa','fasta')\n",
    "scale = (1/len(refseq))*3\n",
    "#scale=8e-6\n",
    "cmd = 'phastSim --outpath simulation_output/ --seed 1 --createFasta' \\\n",
    "         ' --createPhylip --treeFile sim.newick' \\\n",
    "         ' --scale {s} --invariable .1 --alpha 1.0 --omegaAlpha 1.0' \\\n",
    "         ' --reference Mbovis_AF212297.fa'.format(s=scale)\n",
    "cmd"
   ]
  },
  {
   "cell_type": "code",
   "execution_count": 102,
   "id": "a1248bcc-22af-4627-bb7f-2d53f527e544",
   "metadata": {},
   "outputs": [
    {
     "data": {
      "text/plain": [
       "3"
      ]
     },
     "execution_count": 102,
     "metadata": {},
     "output_type": "execute_result"
    }
   ],
   "source": [
    "simrecs = list(SeqIO.parse('sim_seqs3.fa','fasta'))\n",
    "diff_profiles(simrecs[2].seq,simrecs[4].seq)"
   ]
  },
  {
   "cell_type": "markdown",
   "id": "6d73b147-738b-4d83-ab3f-36917e14f68e",
   "metadata": {},
   "source": [
    "## make fastqs from sequences"
   ]
  },
  {
   "cell_type": "code",
   "execution_count": null,
   "id": "f4bba3fa-808d-4848-83dd-eba8fe005ed2",
   "metadata": {},
   "outputs": [],
   "source": [
    "def make_fastq(ref, outfile, cmp=100):\n",
    "    \n",
    "    f1 = '/storage/btbgenie/mbovis_ireland/Wicklow/Fastqs_07-01-18/17-MBovis_S21_L001-4_R1_001.fastq.gz'\n",
    "    f2 = '/storage/btbgenie/mbovis_ireland/Wicklow/Fastqs_07-01-18/17-MBovis_S21_L001-4_R2_001.fastq.gz'\n",
    "    cmd = 'java -jar /local/ArtificialFastqGenerator/ArtificialFastqGenerator.jar -O {o}'\\\n",
    "          ' -R {r} -S \">temp\" -RL 150 -CMP {cmp} -CSD 0.2 -SE true'.format(r=ref, o=outfile,cmp=cmp,f1=f1,f2=f2) #-URQS true -F1 {f1} -F2 {f2}\n",
    "    print (cmd)\n",
    "    subprocess.check_output(cmd, shell=True)\n",
    "    return"
   ]
  },
  {
   "cell_type": "code",
   "execution_count": null,
   "id": "d31fc35a-b9b3-4b13-b61a-806a64b3ba4a",
   "metadata": {},
   "outputs": [],
   "source": [
    "def generate_fastqs(infile, outpath):\n",
    "    \n",
    "    from joblib import Parallel, delayed\n",
    "    import multiprocessing, time\n",
    "    num_cores = 4\n",
    "    \n",
    "    simrecs = list(SeqIO.parse(infile,'fasta'))\n",
    "    def my_func(rec):\n",
    "        from tempfile import mkstemp\n",
    "        x,tmp = mkstemp()\n",
    "        SeqIO.write(SeqRecord(rec.seq,id='temp'), tmp, 'fasta')\n",
    "        out = os.path.join(outpath,rec.id)\n",
    "        make_fastq(tmp, out)\n",
    "\n",
    "    st = time.time()\n",
    "    Parallel(n_jobs=num_cores)(delayed(my_func)(i) for i in simrecs)\n",
    "    print (time.time()-st)\n",
    "    cmd = 'pigz %s/*.fastq' %outpath\n",
    "    subprocess.check_output(cmd, shell=True)\n",
    "    \n",
    "generate_fastqs('sim_seqs3.fa', 'sim_fastq3')\n",
    "#generate_fastqs('sim_seqs1.fa', 'sim_fastq1')"
   ]
  },
  {
   "cell_type": "markdown",
   "id": "da56ff7b-6352-458a-a699-6ee3c331b455",
   "metadata": {},
   "source": [
    "## run snipgenie on simulated fastqs"
   ]
  },
  {
   "cell_type": "code",
   "execution_count": null,
   "id": "00ea3aac-057a-4fa3-9203-8978722aec39",
   "metadata": {},
   "outputs": [],
   "source": [
    "import snipgenie\n",
    "args = {'threads':10, 'outdir': 'sim_results3', 'labelsep':'_',\n",
    "        'input':['sim_fastq3'],# 'overwrite':True,\n",
    "         'species':'Mbovis-AF212297',        \n",
    "         'custom_filters': True,       \n",
    "         'buildtree':True}\n",
    "W = snipgenie.app.WorkFlow(**args)\n",
    "st = W.setup()\n",
    "W.run()"
   ]
  },
  {
   "cell_type": "code",
   "execution_count": null,
   "id": "b8edca85-547d-4bcc-b5d7-9f50f7e08b86",
   "metadata": {},
   "outputs": [],
   "source": [
    "tresnps = toytree.tree('sim_results3/tree.newick')\n",
    "tresnps=tresnps.root('7')\n",
    "tresnps=tresnps.drop_tips('ref')\n",
    "canvas,t,r=tresnps.draw(layout='r',scalebar=True,height=400,width=500,tip_labels_style={\"font-size\":\"19px\"})\n",
    "sd=snpdist = pd.read_csv('sim_results3/snpdist.csv',index_col=0).iloc[1:,1:]\n",
    "canvas.text(300, 20, \"SNP\", style={\"font-size\":\"32px\"});\n",
    "\n",
    "#import toyplot.png\n",
    "#toyplot.png.render(canvas, \"snp_tree_sim.png\")"
   ]
  },
  {
   "cell_type": "code",
   "execution_count": null,
   "id": "3244dfd5-b197-4100-b64b-5811885a54df",
   "metadata": {},
   "outputs": [],
   "source": [
    "tresboot = toytree.mtree('sim_results3/RAxML_bootstrap.variants')\n",
    "canvas,t,r=tresboot.draw(layout='r', nrows=2, ncols=5,height=400,width=700)"
   ]
  },
  {
   "cell_type": "markdown",
   "id": "27254c49-481d-4790-aa92-9bd2e9130377",
   "metadata": {},
   "source": [
    "## mlst on simulated fastqs"
   ]
  },
  {
   "cell_type": "code",
   "execution_count": null,
   "id": "6577c608-bc47-4c07-b6e5-76e1a010b6d8",
   "metadata": {},
   "outputs": [],
   "source": [
    "sim_vcf = 'sim_results3/filtered.vcf.gz'\n",
    "simprofs = run_samples(sim_vcf, 'sim_mlst3', threads=12)"
   ]
  },
  {
   "cell_type": "code",
   "execution_count": 148,
   "id": "7f3ffe3e-3a9a-4a59-9ea4-deabb35b4435",
   "metadata": {},
   "outputs": [
    {
     "data": {
      "text/html": [
       "<div class=\"toyplot\" id=\"t7fdaad421ce9426c9624212d3d51fa95\" style=\"text-align:center\"><svg class=\"toyplot-canvas-Canvas\" xmlns:toyplot=\"http://www.sandia.gov/toyplot\" xmlns:xlink=\"http://www.w3.org/1999/xlink\" xmlns=\"http://www.w3.org/2000/svg\" width=\"500.0px\" height=\"400.0px\" viewBox=\"0 0 500.0 400.0\" preserveAspectRatio=\"xMidYMid meet\" style=\"background-color:transparent;border-color:#292724;border-style:none;border-width:1.0;fill:rgb(16.1%,15.3%,14.1%);fill-opacity:1.0;font-family:Helvetica;font-size:12px;opacity:1.0;stroke:rgb(16.1%,15.3%,14.1%);stroke-opacity:1.0;stroke-width:1.0\" id=\"td0a1a1d4196447ad9390038956e2b263\"><g class=\"toyplot-coordinates-Cartesian\" id=\"t4d035aeaaf9143788512321fc761172d\"><clipPath id=\"t752428afa3fa40e1b6a608ac5d237efb\"><rect x=\"30.0\" y=\"30.0\" width=\"440.0\" height=\"340.0\"></rect></clipPath><g clip-path=\"url(#t752428afa3fa40e1b6a608ac5d237efb)\"><g class=\"toytree-mark-Toytree\" id=\"tdecb66721f6d41cf967e35f6e75b5a62\"><g class=\"toytree-Edges\" style=\"fill:none;stroke:rgb(14.9%,14.9%,14.9%);stroke-linecap:round;stroke-opacity:1;stroke-width:2\"><path d=\"M 51.9 112.8 L 51.9 160.1 L 194.8 160.1\" id=\"16,15\"></path><path d=\"M 194.8 160.1 L 194.8 116.0 L 194.8 116.0\" id=\"15,14\"></path><path d=\"M 194.8 160.1 L 194.8 204.2 L 236.5 204.2\" id=\"15,13\"></path><path d=\"M 236.5 204.2 L 236.5 242.0 L 254.3 242.0\" id=\"13,12\"></path><path d=\"M 254.3 242.0 L 254.3 284.0 L 293.0 284.0\" id=\"12,11\"></path><path d=\"M 293.0 284.0 L 293.0 250.4 L 359.7 250.4\" id=\"11,10\"></path><path d=\"M 293.0 284.0 L 293.0 317.6 L 321.6 317.6\" id=\"11,9\"></path><path d=\"M 51.9 112.8 L 51.9 65.6 L 194.8 65.6\" id=\"16,8\"></path><path d=\"M 194.8 116.0 L 194.8 99.2 L 290.1 99.2\" id=\"14,7\"></path><path d=\"M 194.8 116.0 L 194.8 132.8 L 290.1 132.8\" id=\"14,6\"></path><path d=\"M 236.5 204.2 L 236.5 166.4 L 337.7 166.4\" id=\"13,5\"></path><path d=\"M 254.3 242.0 L 254.3 200.0 L 430.0 200.0\" id=\"12,4\"></path><path d=\"M 359.7 250.4 L 359.7 233.6 L 380.1 233.6\" id=\"10,3\"></path><path d=\"M 359.7 250.4 L 359.7 267.2 L 434.6 267.2\" id=\"10,2\"></path><path d=\"M 321.6 317.6 L 321.6 300.8 L 377.2 300.8\" id=\"9,1\"></path><path d=\"M 321.6 317.6 L 321.6 334.4 L 361.3 334.4\" id=\"9,0\"></path></g><g class=\"toytree-TipLabels\" style=\"fill:rgb(14.9%,14.9%,14.9%);fill-opacity:1.0;font-family:helvetica;font-size:19px;font-weight:normal;stroke:none;white-space:pre\"><g transform=\"translate(361.31,334.41)rotate(0)\"><text x=\"15.00\" y=\"4.85\" style=\"\">3</text></g><g transform=\"translate(377.19,300.81)rotate(0)\"><text x=\"15.00\" y=\"4.85\" style=\"\">8</text></g><g transform=\"translate(434.57,267.20)rotate(0)\"><text x=\"15.00\" y=\"4.85\" style=\"\">1</text></g><g transform=\"translate(380.14,233.60)rotate(0)\"><text x=\"15.00\" y=\"4.85\" style=\"\">5</text></g><g transform=\"translate(429.98,200.00)rotate(0)\"><text x=\"15.00\" y=\"4.85\" style=\"\">9</text></g><g transform=\"translate(337.70,166.40)rotate(0)\"><text x=\"15.00\" y=\"4.85\" style=\"\">4</text></g><g transform=\"translate(290.07,132.80)rotate(0)\"><text x=\"15.00\" y=\"4.85\" style=\"\">6</text></g><g transform=\"translate(290.07,99.19)rotate(0)\"><text x=\"15.00\" y=\"4.85\" style=\"\">2</text></g><g transform=\"translate(194.81,65.59)rotate(0)\"><text x=\"15.00\" y=\"4.85\" style=\"\">7</text></g></g></g></g><g class=\"toyplot-coordinates-Axis\" id=\"t1ddec4c3bd6e41b0abc44bb49520c440\" transform=\"translate(50.0,350.0)translate(0,20.0)\"><line x1=\"1.913308013890562\" y1=\"0\" x2=\"384.57491079201384\" y2=\"0\" style=\"\"></line><g><line x1=\"384.57491079201384\" y1=\"0\" x2=\"384.57491079201384\" y2=\"-5\" style=\"\"></line><line x1=\"288.909510097483\" y1=\"0\" x2=\"288.909510097483\" y2=\"-5\" style=\"\"></line><line x1=\"193.24410940295218\" y1=\"0\" x2=\"193.24410940295218\" y2=\"-5\" style=\"\"></line><line x1=\"97.57870870842137\" y1=\"0\" x2=\"97.57870870842137\" y2=\"-5\" style=\"\"></line><line x1=\"1.913308013890562\" y1=\"0\" x2=\"1.913308013890562\" y2=\"-5\" style=\"\"></line></g><g><g transform=\"translate(384.57491079201384,6)\"><text x=\"-2.78\" y=\"8.555\" style=\"fill:rgb(16.1%,15.3%,14.1%);fill-opacity:1.0;font-family:helvetica;font-size:10.0px;font-weight:normal;stroke:none;vertical-align:baseline;white-space:pre\">0</text></g><g transform=\"translate(288.909510097483,6)\"><text x=\"-2.78\" y=\"8.555\" style=\"fill:rgb(16.1%,15.3%,14.1%);fill-opacity:1.0;font-family:helvetica;font-size:10.0px;font-weight:normal;stroke:none;vertical-align:baseline;white-space:pre\">2</text></g><g transform=\"translate(193.24410940295218,6)\"><text x=\"-2.78\" y=\"8.555\" style=\"fill:rgb(16.1%,15.3%,14.1%);fill-opacity:1.0;font-family:helvetica;font-size:10.0px;font-weight:normal;stroke:none;vertical-align:baseline;white-space:pre\">4</text></g><g transform=\"translate(97.57870870842137,6)\"><text x=\"-2.78\" y=\"8.555\" style=\"fill:rgb(16.1%,15.3%,14.1%);fill-opacity:1.0;font-family:helvetica;font-size:10.0px;font-weight:normal;stroke:none;vertical-align:baseline;white-space:pre\">6</text></g><g transform=\"translate(1.913308013890562,6)\"><text x=\"-2.78\" y=\"8.555\" style=\"fill:rgb(16.1%,15.3%,14.1%);fill-opacity:1.0;font-family:helvetica;font-size:10.0px;font-weight:normal;stroke:none;vertical-align:baseline;white-space:pre\">8</text></g></g><g class=\"toyplot-coordinates-Axis-coordinates\" style=\"visibility:hidden\" transform=\"\"><line x1=\"0\" x2=\"0\" y1=\"-3.0\" y2=\"4.5\" style=\"stroke:rgb(43.9%,50.2%,56.5%);stroke-opacity:1.0;stroke-width:1.0\"></line><text x=\"0\" y=\"-6\" style=\"alignment-baseline:alphabetic;fill:rgb(43.9%,50.2%,56.5%);fill-opacity:1.0;font-size:10px;font-weight:normal;stroke:none;text-anchor:middle\"></text></g></g></g><g class=\"toyplot-mark-Text\" id=\"t7c598c3d8f6d423681964f199df85a41\"><g class=\"toyplot-Series\"><g class=\"toyplot-Datum\" transform=\"translate(300.0,20.0)\"><text x=\"-63.120000000000005\" y=\"8.175999999999998\" style=\"fill:rgb(16.1%,15.3%,14.1%);fill-opacity:1.0;font-family:helvetica;font-size:32.0px;font-weight:normal;opacity:1;stroke:none;vertical-align:baseline;white-space:pre\">wgMLST</text></g></g></g></svg><div class=\"toyplot-behavior\"><script>(function()\n",
       "{\n",
       "var modules={};\n",
       "modules[\"toyplot/canvas/id\"] = \"td0a1a1d4196447ad9390038956e2b263\";\n",
       "modules[\"toyplot/canvas\"] = (function(canvas_id)\n",
       "    {\n",
       "        return document.querySelector(\"#\" + canvas_id);\n",
       "    })(modules[\"toyplot/canvas/id\"]);\n",
       "modules[\"toyplot.coordinates.Axis\"] = (\n",
       "        function(canvas)\n",
       "        {\n",
       "            function sign(x)\n",
       "            {\n",
       "                return x < 0 ? -1 : x > 0 ? 1 : 0;\n",
       "            }\n",
       "\n",
       "            function mix(a, b, amount)\n",
       "            {\n",
       "                return ((1.0 - amount) * a) + (amount * b);\n",
       "            }\n",
       "\n",
       "            function log(x, base)\n",
       "            {\n",
       "                return Math.log(Math.abs(x)) / Math.log(base);\n",
       "            }\n",
       "\n",
       "            function in_range(a, x, b)\n",
       "            {\n",
       "                var left = Math.min(a, b);\n",
       "                var right = Math.max(a, b);\n",
       "                return left <= x && x <= right;\n",
       "            }\n",
       "\n",
       "            function inside(range, projection)\n",
       "            {\n",
       "                for(var i = 0; i != projection.length; ++i)\n",
       "                {\n",
       "                    var segment = projection[i];\n",
       "                    if(in_range(segment.range.min, range, segment.range.max))\n",
       "                        return true;\n",
       "                }\n",
       "                return false;\n",
       "            }\n",
       "\n",
       "            function to_domain(range, projection)\n",
       "            {\n",
       "                for(var i = 0; i != projection.length; ++i)\n",
       "                {\n",
       "                    var segment = projection[i];\n",
       "                    if(in_range(segment.range.bounds.min, range, segment.range.bounds.max))\n",
       "                    {\n",
       "                        if(segment.scale == \"linear\")\n",
       "                        {\n",
       "                            var amount = (range - segment.range.min) / (segment.range.max - segment.range.min);\n",
       "                            return mix(segment.domain.min, segment.domain.max, amount)\n",
       "                        }\n",
       "                        else if(segment.scale[0] == \"log\")\n",
       "                        {\n",
       "                            var amount = (range - segment.range.min) / (segment.range.max - segment.range.min);\n",
       "                            var base = segment.scale[1];\n",
       "                            return sign(segment.domain.min) * Math.pow(base, mix(log(segment.domain.min, base), log(segment.domain.max, base), amount));\n",
       "                        }\n",
       "                    }\n",
       "                }\n",
       "            }\n",
       "\n",
       "            var axes = {};\n",
       "\n",
       "            function display_coordinates(e)\n",
       "            {\n",
       "                var current = canvas.createSVGPoint();\n",
       "                current.x = e.clientX;\n",
       "                current.y = e.clientY;\n",
       "\n",
       "                for(var axis_id in axes)\n",
       "                {\n",
       "                    var axis = document.querySelector(\"#\" + axis_id);\n",
       "                    var coordinates = axis.querySelector(\".toyplot-coordinates-Axis-coordinates\");\n",
       "                    if(coordinates)\n",
       "                    {\n",
       "                        var projection = axes[axis_id];\n",
       "                        var local = current.matrixTransform(axis.getScreenCTM().inverse());\n",
       "                        if(inside(local.x, projection))\n",
       "                        {\n",
       "                            var domain = to_domain(local.x, projection);\n",
       "                            coordinates.style.visibility = \"visible\";\n",
       "                            coordinates.setAttribute(\"transform\", \"translate(\" + local.x + \")\");\n",
       "                            var text = coordinates.querySelector(\"text\");\n",
       "                            text.textContent = domain.toFixed(2);\n",
       "                        }\n",
       "                        else\n",
       "                        {\n",
       "                            coordinates.style.visibility= \"hidden\";\n",
       "                        }\n",
       "                    }\n",
       "                }\n",
       "            }\n",
       "\n",
       "            canvas.addEventListener(\"click\", display_coordinates);\n",
       "\n",
       "            var module = {};\n",
       "            module.show_coordinates = function(axis_id, projection)\n",
       "            {\n",
       "                axes[axis_id] = projection;\n",
       "            }\n",
       "\n",
       "            return module;\n",
       "        })(modules[\"toyplot/canvas\"]);\n",
       "(function(axis, axis_id, projection)\n",
       "        {\n",
       "            axis.show_coordinates(axis_id, projection);\n",
       "        })(modules[\"toyplot.coordinates.Axis\"],\"t1ddec4c3bd6e41b0abc44bb49520c440\",[{\"domain\": {\"bounds\": {\"max\": Infinity, \"min\": -Infinity}, \"max\": 0.3238476779900006, \"min\": -8.074098645}, \"range\": {\"bounds\": {\"max\": Infinity, \"min\": -Infinity}, \"max\": 400.0, \"min\": 0.0}, \"scale\": \"linear\"}]);\n",
       "})();</script></div></div>"
      ]
     },
     "metadata": {},
     "output_type": "display_data"
    }
   ],
   "source": [
    "D = dist_matrix(simprofs)\n",
    "D.to_csv('dist_mlst.csv')\n",
    "treefile='mlst3.newick'\n",
    "tree_from_distmatrix(D, treefile)\n",
    "tremlst = toytree.tree(treefile)\n",
    "tremlst=tremlst.root('7')\n",
    "canvas,t,r=tremlst.draw(layout='r',scalebar=True,height=400,width=500,tip_labels_style={\"font-size\":\"19px\"})\n",
    "canvas.text(300, 20, \"wgMLST\", style={\"font-size\":\"32px\"});\n",
    "#toyplot.png.render(canvas, \"wgmlst_tree_sim.png\")"
   ]
  },
  {
   "cell_type": "code",
   "execution_count": 158,
   "id": "34b4feaa-4733-4fdf-b91e-1635e7587d8d",
   "metadata": {},
   "outputs": [
    {
     "data": {
      "image/png": "[encoded data removed]",
      "text/plain": [
       "<Figure size 1008x432 with 2 Axes>"
      ]
     },
     "metadata": {
      "needs_background": "light"
     },
     "output_type": "display_data"
    }
   ],
   "source": [
    "fig,ax=plt.subplots(1,2,figsize=(14,6))\n",
    "sns.heatmap(sd,annot=True,cbar=False,ax=ax[0])\n",
    "sns.heatmap(D,annot=True,cbar=False,ax=ax[1])\n",
    "ax[0].set_title('SNPs')\n",
    "ax[1].set_title('wgMLST')\n",
    "plt.savefig('sim_dist_heatmaps.png')"
   ]
  },
  {
   "cell_type": "code",
   "execution_count": 136,
   "id": "24e4e31b-87c0-4f89-a0e8-8de8e81ac12a",
   "metadata": {},
   "outputs": [],
   "source": [
    "import dendropy\n",
    "from dendropy.calculate import treecompare\n",
    "tns = dendropy.TaxonNamespace()\n",
    "reftree = dendropy.Tree.get(path='sim.newick', schema='newick',taxon_namespace=tns)\n",
    "tree1 = dendropy.Tree.get(path='mlst3.newick', schema='newick',taxon_namespace=tns)\n",
    "tree2 = dendropy.Tree.get(path='sim_results1/RAxML_bestTree.variants', schema='newick',taxon_namespace=tns)\n"
   ]
  },
  {
   "cell_type": "code",
   "execution_count": 138,
   "id": "e759c544-f5e4-4b89-90c0-3edad69d0059",
   "metadata": {},
   "outputs": [
    {
     "name": "stdout",
     "output_type": "stream",
     "text": [
      "4.898976053175999\n",
      "5.389472890360061\n"
     ]
    }
   ],
   "source": [
    "print(treecompare.euclidean_distance(reftree, tree1))\n",
    "print(treecompare.euclidean_distance(reftree, tree2))"
   ]
  },
  {
   "cell_type": "code",
   "execution_count": null,
   "id": "e2ee4de8-8331-46da-9145-0e4647983221",
   "metadata": {},
   "outputs": [],
   "source": []
  }
 ],
 "metadata": {
  "kernelspec": {
   "display_name": "Python 3 (ipykernel)",
   "language": "python",
   "name": "python3"
  },
  "language_info": {
   "codemirror_mode": {
    "name": "ipython",
    "version": 3
   },
   "file_extension": ".py",
   "mimetype": "text/x-python",
   "name": "python",
   "nbconvert_exporter": "python",
   "pygments_lexer": "ipython3",
   "version": "3.10.6"
  }
 },
 "nbformat": 4,
 "nbformat_minor": 5
}
