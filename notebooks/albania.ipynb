{
 "cells": [
  {
   "cell_type": "markdown",
   "metadata": {},
   "source": [
    "## Albania isolates with reference genome set\n",
    "\n",
    "* C. Loiseau et al., “An African origin for Mycobacterium bovis,” Evol. Med. Public Heal., pp. 49–59, 2020.\n",
    "* https://www.ncbi.nlm.nih.gov/pmc/articles/PMC3647898/"
   ]
  },
  {
   "cell_type": "code",
   "execution_count": 2,
   "metadata": {},
   "outputs": [],
   "source": [
    "import sys,os,shutil,subprocess\n",
    "import glob\n",
    "from importlib import reload\n",
    "import numpy as np\n",
    "import pandas as pd\n",
    "pd.set_option('display.width', 200)\n",
    "import pylab as plt\n",
    "from Bio import SeqIO\n",
    "from Bio.Seq import Seq\n",
    "from Bio.SeqRecord import SeqRecord\n",
    "from snipgenie import tools, aligners, app, trees, plotting"
   ]
  },
  {
   "cell_type": "code",
   "execution_count": 3,
   "metadata": {},
   "outputs": [],
   "source": [
    "master = pd.read_csv('../mbovis_sra_master.csv')"
   ]
  },
  {
   "cell_type": "code",
   "execution_count": null,
   "metadata": {},
   "outputs": [],
   "source": [
    "reload(app)\n",
    "reload(tools)\n",
    "args = {'threads':10, 'outdir': '../test_results', 'labelsep':'-',  \n",
    "        'input':['/storage/btbgenie/mbovis_sra/',\n",
    "                 '/storage/btbgenie/albania/'],        \n",
    "        'reference': None, 'overwrite':False,\n",
    "        'filters' : 'QUAL>=30 && FORMAT/DP>=30 && DP4>=4 && MQ>35',        \n",
    "        #'custom_filters': True,\n",
    "        #'mask': '../snpgenie/data/Mbovis_AF212297_mask.bed',\n",
    "        'buildtree': True,}\n",
    "W = app.WorkFlow(**args)\n",
    "st = W.setup()\n",
    "W.run()"
   ]
  },
  {
   "cell_type": "markdown",
   "metadata": {},
   "source": [
    "## Create tree labels with meta data"
   ]
  },
  {
   "cell_type": "code",
   "execution_count": 106,
   "metadata": {},
   "outputs": [],
   "source": [
    "summ = pd.read_csv('../test_results/summary.csv')\n",
    "#print (summ)\n",
    "reload(trees)\n",
    "cols = ['Run','COUNTRY_ISOLATION','CLONAL_COMPLEX','LibraryLayout','Host','ReleaseDate','GENOME_COVERAGE','filename']\n",
    "df = summ.merge(master,left_on='sample',right_on='Run',how='left').drop_duplicates('bam_file')\n",
    "df.at[0:1,'COUNTRY_ISOLATION']=df.loc[0:1,'sample']\n",
    "df.at[0:1,'CLONAL_COMPLEX']='Unknown2'\n",
    "df.at[3:4,'CLONAL_COMPLEX']='Caprae'\n",
    "df.at[3,'COUNTRY_ISOLATION']='Congo'\n",
    "df.at[4,'COUNTRY_ISOLATION']='Germany'\n",
    "labelmap = dict(zip(df['sample'],df.COUNTRY_ISOLATION))\n",
    "labelmap\n",
    "colors = {'Eu1': '#D362DE', 'Eu2': 'Green','Af2':'#6DA0E4','Unknown2':'gray','Caprae':'#ff8533'}\n",
    "df['color'] = df.CLONAL_COMPLEX.apply(lambda x: colors[x],1)\n",
    "colormap = dict(zip(df['sample'],df.color))\n",
    "t,ts = trees.create_tree('../test_results/RAxML_bipartitions.variants', 'ref', labelmap, colormap)\n",
    "ts.scale_length = .2\n",
    "from ete3 import CircleFace, TreeStyle, NodeStyle, RectFace, TextFace\n",
    "for i in colors:\n",
    "    f=ts.legend.add_face(\n",
    "            TextFace(text=i,fgcolor=colors[i],fsize=6),            \n",
    "            column=0)\n",
    "        \n",
    "t.render(\"%%inline\",tree_style=ts,w=500)\n",
    "png=t.render('../tree.png',tree_style=ts,dpi=200,w=500)"
   ]
  },
  {
   "cell_type": "markdown",
   "metadata": {},
   "source": [
    "## pairwise SNP distance matrix "
   ]
  },
  {
   "cell_type": "code",
   "execution_count": 89,
   "metadata": {},
   "outputs": [],
   "source": [
    "from Bio.Phylo.TreeConstruction import DistanceCalculator\n",
    "from Bio import AlignIO\n",
    "aln = AlignIO.read(open('../test_results/core.fa'), 'fasta')\n",
    "calculator = DistanceCalculator('identity')\n",
    "dm = calculator.get_distance(aln)\n",
    "x=np.asarray(dm)\n",
    "#import seaborn as sns\n",
    "#sns.heatmap(x)"
   ]
  },
  {
   "cell_type": "code",
   "execution_count": 109,
   "metadata": {},
   "outputs": [
    {
     "name": "stdout",
     "output_type": "stream",
     "text": [
      "{'3_S57_L001': '3_S57_L001', '6_S7_L001': '6_S7_L001', 'ERR125601': 'Ireland', 'ERR551023': 'Congo', 'ERR551704': 'Germany', 'ERR841808': 'UK', 'SRR1791768': 'Canada', 'SRR1791960': 'Mexico', 'SRR1792002': 'USA', 'SRR5216872': 'New Zealand', 'SRR5486071': 'Ethiopia', 'SRR8063654': 'Ethiopia', 'SRR8063665': 'Ethiopia', 'SRR8065079': 'Uganda'}\n"
     ]
    },
    {
     "data": {
      "image/png": "[encoded data removed]",
      "text/plain": [
       "<Figure size 360x360 with 1 Axes>"
      ]
     },
     "metadata": {
      "needs_background": "light"
     },
     "output_type": "display_data"
    }
   ],
   "source": [
    "seq1=aln[0]\n",
    "seq2=aln[1]\n",
    "\n",
    "def diffseqs(seq1,seq2):\n",
    "    \"\"\"Diff two sequences\"\"\"\n",
    "    \n",
    "    c=0\n",
    "    for i in range(len(seq1)):\n",
    "        if seq1[i] != seq2[i]:\n",
    "            c+=1\n",
    "    return c\n",
    "\n",
    "diffseqs(seq1[:20],seq2[:20])\n",
    "\n",
    "def snp_dist_matrix(aln, names=None):\n",
    "    \"\"\"Get pairwise snps distances from biopython \n",
    "       Multiple Sequence Alignment object.\n",
    "       returns: pandas dataframe\n",
    "    \"\"\"\n",
    "    \n",
    "    names=[s.id for s in aln]\n",
    "    m = []    \n",
    "    for i in aln:\n",
    "        x=[]\n",
    "        for j in aln:\n",
    "            d = diffseqs(i,j)            \n",
    "            x.append(d)\n",
    "        #print (x)\n",
    "        m.append(x)\n",
    "    m = pd.DataFrame(m,index=names,columns=names)\n",
    "    return m\n",
    "\n",
    "print (labelmap)\n",
    "x = snp_dist_matrix(aln)\n",
    "x=x.rename(columns=labelmap,index=labelmap)\n",
    "plotting.plot_matrix(x,w=5)"
   ]
  },
  {
   "cell_type": "markdown",
   "metadata": {},
   "source": [
    "## AA mutations from csq file"
   ]
  },
  {
   "cell_type": "code",
   "execution_count": null,
   "metadata": {},
   "outputs": [],
   "source": [
    "reload(app)\n",
    "c = app.read_csq_file('../test_results/csq.tsv')\n",
    "#Caprae mutations\n",
    "c[c.gene=='gyrB']\n",
    "#c[c.gene=='lepA']"
   ]
  },
  {
   "cell_type": "code",
   "execution_count": 8,
   "metadata": {},
   "outputs": [
    {
     "data": {
      "text/html": [
       "<div>\n",
       "<style scoped>\n",
       "    .dataframe tbody tr th:only-of-type {\n",
       "        vertical-align: middle;\n",
       "    }\n",
       "\n",
       "    .dataframe tbody tr th {\n",
       "        vertical-align: top;\n",
       "    }\n",
       "\n",
       "    .dataframe thead th {\n",
       "        text-align: right;\n",
       "    }\n",
       "</style>\n",
       "<table border=\"1\" class=\"dataframe\">\n",
       "  <thead>\n",
       "    <tr style=\"text-align: right;\">\n",
       "      <th>sample</th>\n",
       "      <th>3_S57_L001</th>\n",
       "      <th>6_S7_L001</th>\n",
       "      <th>ERR125601</th>\n",
       "      <th>ERR551023</th>\n",
       "      <th>ERR551704</th>\n",
       "      <th>ERR841808</th>\n",
       "      <th>SRR1791768</th>\n",
       "      <th>SRR1791960</th>\n",
       "      <th>SRR1792002</th>\n",
       "      <th>SRR5216872</th>\n",
       "      <th>SRR5486071</th>\n",
       "      <th>SRR8063654</th>\n",
       "      <th>SRR8063665</th>\n",
       "      <th>SRR8065079</th>\n",
       "    </tr>\n",
       "    <tr>\n",
       "      <th>aa</th>\n",
       "      <th></th>\n",
       "      <th></th>\n",
       "      <th></th>\n",
       "      <th></th>\n",
       "      <th></th>\n",
       "      <th></th>\n",
       "      <th></th>\n",
       "      <th></th>\n",
       "      <th></th>\n",
       "      <th></th>\n",
       "      <th></th>\n",
       "      <th></th>\n",
       "      <th></th>\n",
       "      <th></th>\n",
       "    </tr>\n",
       "  </thead>\n",
       "  <tbody>\n",
       "    <tr>\n",
       "      <th>253T&gt;253I</th>\n",
       "      <td>0.0</td>\n",
       "      <td>0.0</td>\n",
       "      <td>0.0</td>\n",
       "      <td>0.0</td>\n",
       "      <td>1.0</td>\n",
       "      <td>0.0</td>\n",
       "      <td>0.0</td>\n",
       "      <td>0.0</td>\n",
       "      <td>0.0</td>\n",
       "      <td>0.0</td>\n",
       "      <td>0.0</td>\n",
       "      <td>0.0</td>\n",
       "      <td>0.0</td>\n",
       "      <td>0.0</td>\n",
       "    </tr>\n",
       "    <tr>\n",
       "      <th>376L</th>\n",
       "      <td>0.0</td>\n",
       "      <td>0.0</td>\n",
       "      <td>0.0</td>\n",
       "      <td>0.0</td>\n",
       "      <td>1.0</td>\n",
       "      <td>0.0</td>\n",
       "      <td>0.0</td>\n",
       "      <td>0.0</td>\n",
       "      <td>0.0</td>\n",
       "      <td>0.0</td>\n",
       "      <td>0.0</td>\n",
       "      <td>0.0</td>\n",
       "      <td>0.0</td>\n",
       "      <td>0.0</td>\n",
       "    </tr>\n",
       "    <tr>\n",
       "      <th>395A</th>\n",
       "      <td>1.0</td>\n",
       "      <td>0.0</td>\n",
       "      <td>0.0</td>\n",
       "      <td>1.0</td>\n",
       "      <td>1.0</td>\n",
       "      <td>0.0</td>\n",
       "      <td>0.0</td>\n",
       "      <td>0.0</td>\n",
       "      <td>0.0</td>\n",
       "      <td>0.0</td>\n",
       "      <td>0.0</td>\n",
       "      <td>0.0</td>\n",
       "      <td>0.0</td>\n",
       "      <td>0.0</td>\n",
       "    </tr>\n",
       "    <tr>\n",
       "      <th>41A&gt;41G</th>\n",
       "      <td>0.0</td>\n",
       "      <td>1.0</td>\n",
       "      <td>0.0</td>\n",
       "      <td>0.0</td>\n",
       "      <td>0.0</td>\n",
       "      <td>0.0</td>\n",
       "      <td>0.0</td>\n",
       "      <td>0.0</td>\n",
       "      <td>0.0</td>\n",
       "      <td>0.0</td>\n",
       "      <td>0.0</td>\n",
       "      <td>0.0</td>\n",
       "      <td>0.0</td>\n",
       "      <td>0.0</td>\n",
       "    </tr>\n",
       "    <tr>\n",
       "      <th>428N</th>\n",
       "      <td>1.0</td>\n",
       "      <td>0.0</td>\n",
       "      <td>0.0</td>\n",
       "      <td>1.0</td>\n",
       "      <td>1.0</td>\n",
       "      <td>0.0</td>\n",
       "      <td>0.0</td>\n",
       "      <td>0.0</td>\n",
       "      <td>0.0</td>\n",
       "      <td>0.0</td>\n",
       "      <td>0.0</td>\n",
       "      <td>0.0</td>\n",
       "      <td>0.0</td>\n",
       "      <td>0.0</td>\n",
       "    </tr>\n",
       "    <tr>\n",
       "      <th>667P</th>\n",
       "      <td>0.0</td>\n",
       "      <td>0.0</td>\n",
       "      <td>0.0</td>\n",
       "      <td>0.0</td>\n",
       "      <td>0.0</td>\n",
       "      <td>0.0</td>\n",
       "      <td>0.0</td>\n",
       "      <td>0.0</td>\n",
       "      <td>0.0</td>\n",
       "      <td>0.0</td>\n",
       "      <td>0.0</td>\n",
       "      <td>0.0</td>\n",
       "      <td>0.0</td>\n",
       "      <td>1.0</td>\n",
       "    </tr>\n",
       "  </tbody>\n",
       "</table>\n",
       "</div>"
      ],
      "text/plain": [
       "sample     3_S57_L001  6_S7_L001  ERR125601  ERR551023  ERR551704  ERR841808  SRR1791768  SRR1791960  SRR1792002  SRR5216872  SRR5486071  SRR8063654  SRR8063665  SRR8065079\n",
       "aa                                                                                                                                                                          \n",
       "253T>253I         0.0        0.0        0.0        0.0        1.0        0.0         0.0         0.0         0.0         0.0         0.0         0.0         0.0         0.0\n",
       "376L              0.0        0.0        0.0        0.0        1.0        0.0         0.0         0.0         0.0         0.0         0.0         0.0         0.0         0.0\n",
       "395A              1.0        0.0        0.0        1.0        1.0        0.0         0.0         0.0         0.0         0.0         0.0         0.0         0.0         0.0\n",
       "41A>41G           0.0        1.0        0.0        0.0        0.0        0.0         0.0         0.0         0.0         0.0         0.0         0.0         0.0         0.0\n",
       "428N              1.0        0.0        0.0        1.0        1.0        0.0         0.0         0.0         0.0         0.0         0.0         0.0         0.0         0.0\n",
       "667P              0.0        0.0        0.0        0.0        0.0        0.0         0.0         0.0         0.0         0.0         0.0         0.0         0.0         1.0"
      ]
     },
     "execution_count": 8,
     "metadata": {},
     "output_type": "execute_result"
    }
   ],
   "source": [
    "snp_mat = app.get_aa_snp_matrix(c)\n",
    "snp_mat.loc['gyrB',:]"
   ]
  },
  {
   "cell_type": "code",
   "execution_count": null,
   "metadata": {},
   "outputs": [],
   "source": [
    "#frequencies of sites\n",
    "csqmat = pd.read_csv('../test_results/csq.matrix').set_index(['gene','aa'])\n",
    "sitefreqs = (csqmat.sum(1)/len(csqmat.columns)).sort_values(ascending=False)\n",
    "sitefreqs"
   ]
  },
  {
   "cell_type": "code",
   "execution_count": null,
   "metadata": {},
   "outputs": [],
   "source": [
    "reload(tools)\n",
    "\n",
    "def sequences_from_annotations(files, kind='nucl'):\n",
    "    \"\"\"Get specfic sequence from a set of annotation files\"\"\"\n",
    "    \n",
    "    seqs=[]\n",
    "    for f in files:\n",
    "        print (f)\n",
    "        name = os.path.basename(f)\n",
    "        df = tools.genbank_to_dataframe(f)\n",
    "        s = df[df['product']=='DNA gyrase subunit B'].iloc[0]\n",
    "        #print (s)        \n",
    "        seqs.append(SeqRecord(Seq(s.sequence),id=name))\n",
    "    return seqs\n",
    "\n",
    "files=glob.glob('/storage/btbgenie/pygf_results/*.gbk')\n",
    "seqs = sequences_from_annotations(files)\n",
    "SeqIO.write(seqs,'gyrB1.fa','fasta')"
   ]
  },
  {
   "cell_type": "markdown",
   "metadata": {},
   "source": [
    "## Mutations unique to Caprae"
   ]
  },
  {
   "cell_type": "code",
   "execution_count": null,
   "metadata": {},
   "outputs": [],
   "source": [
    "reload(plotting)\n",
    "caprae_samples = ['3_S57_L001','ERR551023','ERR551704']\n",
    "#bovis_samples = X/columns\n",
    "#c[c['sample'].isin(caprae_samples)]\n",
    "cmut = snp_mat[(snp_mat[caprae_samples].sum(1)==3) & (snp_mat.sum(1)<len(snp_mat.columns)-3)]\n",
    "#plotting.plot_matrix(cmut[50:80],w=12,h=8)\n",
    "print (len(cmut), len(snp_mat))"
   ]
  },
  {
   "cell_type": "code",
   "execution_count": 70,
   "metadata": {},
   "outputs": [
    {
     "data": {
      "text/plain": [
       "<matplotlib.collections.PathCollection at 0x7f21ac5a0700>"
      ]
     },
     "execution_count": 70,
     "metadata": {},
     "output_type": "execute_result"
    },
    {
     "data": {
      "image/png": "[encoded data removed]",
      "text/plain": [
       "<Figure size 504x504 with 1 Axes>"
      ]
     },
     "metadata": {
      "needs_background": "light"
     },
     "output_type": "display_data"
    }
   ],
   "source": [
    "import sklearn\n",
    "from sklearn import decomposition\n",
    "pca = decomposition.PCA(n_components=3)\n",
    "pca.fit(snp_mat.T)\n",
    "X = pca.transform(snp_mat.T)\n",
    "fig,ax = plt.subplots(figsize=(7, 7))\n",
    "y = df.color\n",
    "ax.scatter(X[:, 1], X[:, 2], c=y, s=200, alpha=.6)"
   ]
  },
  {
   "cell_type": "markdown",
   "metadata": {},
   "source": [
    "## Snippy comparison\n",
    "\n",
    "https://github.com/tseemann/snippy"
   ]
  },
  {
   "cell_type": "code",
   "execution_count": 61,
   "metadata": {},
   "outputs": [],
   "source": [
    "#tab file for multi snippy\n",
    "df = W.fastq_table\n",
    "x = df.reset_index().pivot(columns='pair', index='sample', values='filename')\n",
    "x.to_csv('samples.tab',sep='\\t')\n",
    "snippycmd = '/local/snippy/bin/snippy-multi samples.tab --ref Mbovis_AF212297.fa --cpus 10 > runme.sh'"
   ]
  },
  {
   "cell_type": "code",
   "execution_count": 77,
   "metadata": {},
   "outputs": [
    {
     "data": {
      "image/png": "[encoded data removed]",
      "text/plain": [
       "<Figure size 432x288 with 1 Axes>"
      ]
     },
     "metadata": {},
     "output_type": "display_data"
    }
   ],
   "source": [
    "#read snippy snps\n",
    "snippycore = pd.read_csv('../snippy_run/core.tab',sep='\\t')\n",
    "#print (snippycore[:4])\n",
    "smat = pd.read_csv('../test_results/core.txt',sep=' ',index_col=0)\n",
    "print \n",
    "import matplotlib_venn\n",
    "sets=[set(snippycore.POS),set(smat.index)]\n",
    "matplotlib_venn.venn2(sets,set_labels=['Snippy','snpgenie'])\n",
    "ax=matplotlib_venn.venn2_circles(sets,linewidth=1)\n",
    "plt.title('SNP site overlap',fontsize=20)\n",
    "plt.savefig('snp_overlap_snippy.png',dpi=100)"
   ]
  },
  {
   "cell_type": "code",
   "execution_count": 55,
   "metadata": {},
   "outputs": [
    {
     "name": "stdout",
     "output_type": "stream",
     "text": [
      "[2225, 4637, 10417, 14513]\n"
     ]
    }
   ],
   "source": [
    "x=sorted(list(set(smat.index)-set(snippycore.POS)))\n",
    "print (x[:4])"
   ]
  },
  {
   "cell_type": "code",
   "execution_count": 56,
   "metadata": {},
   "outputs": [
    {
     "name": "stdout",
     "output_type": "stream",
     "text": [
      "        ref 3_S57_L001 6_S7_L001 ERR125601 ERR551023 ERR551704 ERR841808 SRR1791768 SRR1791960 SRR1792002 SRR5216872 SRR5486071 SRR8063654 SRR8063665 SRR8065079\n",
      "pos                                                                                                                                                             \n",
      "2225      A          A         A         A         G         A         A          A          A          A          A          A          A          A          A\n",
      "4637      C          C         C         C         T         C         C          C          C          C          C          C          C          C          C\n",
      "10417     C          C         C         C         T         C         C          C          C          C          C          C          C          C          C\n",
      "14513     C          C         C         C         G         C         C          C          C          C          C          C          C          C          C\n",
      "15607     C          C         C         C         G         C         C          C          C          C          C          C          C          C          C\n",
      "...      ..        ...       ...       ...       ...       ...       ...        ...        ...        ...        ...        ...        ...        ...        ...\n",
      "4325110   T          T         T         T         C         T         T          T          T          T          T          T          T          T          T\n",
      "4328493   G          A         G         G         A         A         G          G          G          G          G          G          G          G          G\n",
      "4330933   A          A         A         A         C         A         A          A          A          A          A          A          A          A          A\n",
      "4333585   G          A         G         G         G         G         G          G          G          G          G          G          G          G          G\n",
      "4347357   T          C         T         T         C         C         T          T          T          T          T          T          T          T          T\n",
      "\n",
      "[557 rows x 15 columns]\n"
     ]
    }
   ],
   "source": [
    "print (smat.reindex(x))"
   ]
  },
  {
   "cell_type": "code",
   "execution_count": null,
   "metadata": {},
   "outputs": [],
   "source": [
    "#snippy tree\n",
    "treefile = trees.run_RAXML('../snippy_run/core.aln', outpath='.')\n",
    "t,ts = trees.create_tree(treefile, 'Reference', labelmap, colormap)\n",
    "t.render(\"%%inline\",tree_style=ts,w=500)"
   ]
  },
  {
   "cell_type": "markdown",
   "metadata": {},
   "source": [
    "## Assemble samples"
   ]
  },
  {
   "cell_type": "code",
   "execution_count": 252,
   "metadata": {},
   "outputs": [],
   "source": [
    "for i,df in W.fastq_table.groupby('sample'):    \n",
    "    out=os.path.join('/storage/btbgenie/assembly',i)\n",
    "    if not os.path.exists(out):\n",
    "        f1 = df.iloc[0].filename; f2 = df.iloc[1].filename\n",
    "        cmd = '/local/SPAdes-3.13.0-Linux/bin/spades.py --pe1-1 %s --pe1-2 %s --careful -o %s' %(f1,f2,out)\n",
    "        print (cmd)\n",
    "        subprocess.check_output(cmd,shell=True)\n",
    "    shutil.copy(os.path.join(out,'scaffolds.fasta'), '/storage/btbgenie/scaffolds/%s.fa' %i)"
   ]
  },
  {
   "cell_type": "markdown",
   "metadata": {},
   "source": [
    "## RD-Analysis"
   ]
  },
  {
   "cell_type": "code",
   "execution_count": null,
   "metadata": {},
   "outputs": [],
   "source": [
    "from snpgenie import rdiff\n",
    "reload(rdiff)\n",
    "rdiff.create_rd_index()\n",
    "df = W.fastq_table\n",
    "res = rdiff.find_regions(df,'../rd_aligned')"
   ]
  },
  {
   "cell_type": "code",
   "execution_count": 68,
   "metadata": {},
   "outputs": [
    {
     "data": {
      "image/png": "[encoded data removed]",
      "text/plain": [
       "<Figure size 1080x360 with 1 Axes>"
      ]
     },
     "metadata": {
      "needs_background": "light"
     },
     "output_type": "display_data"
    }
   ],
   "source": [
    "X = rdiff.get_matrix(res, cutoff=0.15)\n",
    "X['ident'] = X.apply(rdiff.apply_rules,1)\n",
    "plotting.plot_matrix(X.set_index('ident',append=True), cmap='cubehelix')\n",
    "plt.savefig('rd_albania.png')"
   ]
  },
  {
   "cell_type": "code",
   "execution_count": null,
   "metadata": {},
   "outputs": [],
   "source": [
    "res[res['#rname']=='RD4']"
   ]
  }
 ],
 "metadata": {
  "kernelspec": {
   "display_name": "Python 3 (ipykernel)",
   "language": "python",
   "name": "python3"
  },
  "language_info": {
   "codemirror_mode": {
    "name": "ipython",
    "version": 3
   },
   "file_extension": ".py",
   "mimetype": "text/x-python",
   "name": "python",
   "nbconvert_exporter": "python",
   "pygments_lexer": "ipython3",
   "version": "3.10.6"
  }
 },
 "nbformat": 4,
 "nbformat_minor": 4
}
