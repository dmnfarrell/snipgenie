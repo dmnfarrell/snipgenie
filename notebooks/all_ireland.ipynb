{
 "cells": [
  {
   "cell_type": "markdown",
   "metadata": {},
   "source": [
    "# All Ireland M.bovis strain diversity and clade identification"
   ]
  },
  {
   "cell_type": "code",
   "execution_count": 7,
   "metadata": {},
   "outputs": [],
   "source": [
    "import sys,os,io,shutil,subprocess\n",
    "import glob\n",
    "from importlib import reload\n",
    "import numpy as np\n",
    "import pandas as pd\n",
    "pd.set_option('display.width', 200)\n",
    "import pylab as plt\n",
    "import matplotlib as mpl\n",
    "from Bio import SeqIO\n",
    "import seaborn as sns\n",
    "sys.path.append('pathogenie')\n",
    "from snipgenie import tools, aligners, app, trees, plotting, rdiff\n",
    "#import toytree, toyplot\n",
    "#import toyplot.pdf\n",
    "path = '/storage/btbgenie/all_ireland_results'"
   ]
  },
  {
   "cell_type": "markdown",
   "metadata": {},
   "source": [
    "## get meta data"
   ]
  },
  {
   "cell_type": "code",
   "execution_count": 8,
   "metadata": {},
   "outputs": [
    {
     "name": "stdout",
     "output_type": "stream",
     "text": [
      "636\n"
     ]
    }
   ],
   "source": [
    "meta = pd.read_csv('/storage/btbgenie/mbovis_ireland/all_ireland_samples.csv')\n",
    "print (len(meta))"
   ]
  },
  {
   "cell_type": "code",
   "execution_count": null,
   "metadata": {},
   "outputs": [],
   "source": [
    "dups=meta[meta.duplicated('aliquot')].dropna()\n",
    "#print (dups)\n",
    "for i,r in dups.iterrows():\n",
    "    print (meta[meta.aliquot== r.aliquot])\n",
    "#meta[(meta.batch.isin([2,3,4])) & (~meta.aliquot.isin(dups.aliquot)) & (meta.county=='Monaghan')]"
   ]
  },
  {
   "cell_type": "markdown",
   "metadata": {},
   "source": [
    "## run NI"
   ]
  },
  {
   "cell_type": "code",
   "execution_count": null,
   "metadata": {},
   "outputs": [],
   "source": [
    "reload(app)\n",
    "args = {'threads':20, 'outdir': '/storage/btbgenie/NI_results', 'labelsep':'_',\n",
    "        'input':['/storage/btbgenie/mbovis_ireland/NI'],\n",
    "         'species': 'Mbovis-AF212297',\n",
    "         'overwrite':False,\n",
    "         'custom_filters': True,\n",
    "         'buildtree':True}\n",
    "W = app.WorkFlow(**args)\n",
    "st = W.setup()\n",
    "W.run()"
   ]
  },
  {
   "cell_type": "markdown",
   "metadata": {},
   "source": [
    "## misc 2021 samples (Kevin)"
   ]
  },
  {
   "cell_type": "code",
   "execution_count": null,
   "metadata": {},
   "outputs": [],
   "source": [
    "args = {'threads':20, 'outdir': '/storage/btbgenie/misc_results', 'labelsep':'_',\n",
    "        'input':['/storage/btbgenie/mbovis_ireland/Misc'],\n",
    "         'species': 'Mbovis-AF212297',\n",
    "         'overwrite':False,\n",
    "         'custom_filters': True,\n",
    "         'buildtree':True}\n",
    "W = app.WorkFlow(**args)\n",
    "st = W.setup()\n",
    "W.run()"
   ]
  },
  {
   "cell_type": "code",
   "execution_count": null,
   "metadata": {},
   "outputs": [],
   "source": [
    "reload(app)\n",
    "mask='/home/farrell/gitprojects/snipgenie/snipgenie/data/Mbovis_AF212297_mask.bed'\n",
    "vcf_file='/storage/btbgenie/misc_results/snps.vcf.gz'\n",
    "app.mask_filter(vcf_file, mask)"
   ]
  },
  {
   "cell_type": "code",
   "execution_count": 244,
   "metadata": {},
   "outputs": [
    {
     "name": "stdout",
     "output_type": "stream",
     "text": [
      "         sample                           name                                           bam_file  read_length\n",
      "25  TB19-004280  TB19-004280_S68_L001-4_R2_001  /storage/btbgenie/misc_results/mapped/TB19-004...          149\n",
      "48  TB19-005887  TB19-005887_S29_L001-4_R2_001  /storage/btbgenie/misc_results/mapped/TB19-005...          150\n",
      "65 2 61\n"
     ]
    }
   ],
   "source": [
    "present=pd.read_csv('/storage/btbgenie/misc_results/summary.csv')\n",
    "present['sample']=present['sample'].astype(str)\n",
    "#print (present[:10])\n",
    "l=list(W.fastq_table['sample'].unique())\n",
    "\n",
    "s=meta[meta.batch>=3].sort_values(by='sample')\n",
    "#s['label'] = s['sample'].apply(lambda x : x.split('-')[1][-4:]).astype(str)\n",
    "#s=s.sort_values('label')\n",
    "\n",
    "p = present[~present['sample'].isin(s['sample'])]\n",
    "#p = (s[s['label'].isin(l)])\n",
    "print (p)\n",
    "print (len(s),len(p), len(present))"
   ]
  },
  {
   "cell_type": "code",
   "execution_count": 284,
   "metadata": {},
   "outputs": [],
   "source": [
    "reload(trees)\n",
    "spo=pd.read_csv('/storage/btbgenie/all_ireland_results/misc_spoligotypes.csv')\n",
    "treefile = '/storage/btbgenie/misc_results/tree.newick'\n",
    "tre = toytree.tree(treefile)\n",
    "tipnames = tre.get_tip_labels()\n",
    "mapping = dict(zip(meta['sample'],meta.county))\n",
    "colormap = trees.colors_from_labels(meta,'name','county')\n",
    "tip_colors = [colormap[mapping[i]] if i in mapping else 'Black' for i in tipnames]\n",
    "\n",
    "canvas,t,r=tre.draw(layout='r',width=1000,height=1000,tip_labels_colors=tip_colors,\n",
    "                    scalebar=True,);\n",
    "toyplot.pdf.render(canvas,'/storage/btbgenie/all_ireland_results/misc_samples_tree.pdf')"
   ]
  },
  {
   "cell_type": "markdown",
   "metadata": {},
   "source": [
    "## run CVRL samples"
   ]
  },
  {
   "cell_type": "code",
   "execution_count": null,
   "metadata": {},
   "outputs": [],
   "source": [
    "args = {'threads':20, 'outdir': '/storage/btbgenie/cvrl_results', 'labelsep':'_',\n",
    "        'input':['/storage/btbgenie/mbovis_ireland/CVRL'],\n",
    "         'species': 'Mbovis-AF212297',\n",
    "         'overwrite':False,\n",
    "         'custom_filters': True,\n",
    "         'buildtree':True}\n",
    "W = app.WorkFlow(**args)\n",
    "st = W.setup()\n",
    "W.run()"
   ]
  },
  {
   "cell_type": "markdown",
   "metadata": {},
   "source": [
    "## UK samples?"
   ]
  },
  {
   "cell_type": "code",
   "execution_count": null,
   "metadata": {},
   "outputs": [],
   "source": [
    "args = {'threads':20, 'outdir': '/storage/btbgenie/UK_results', 'labelsep':'_',\n",
    "        'input':['/storage/btbgenie/??'],\n",
    "         'species': 'Mbovis-AF212297',\n",
    "         'overwrite':False,\n",
    "         'custom_filters': True,\n",
    "         'buildtree':True}\n",
    "W = app.WorkFlow(**args)\n",
    "st = W.setup()\n",
    "W.run()"
   ]
  },
  {
   "cell_type": "code",
   "execution_count": null,
   "metadata": {},
   "outputs": [],
   "source": [
    "reload(trees)\n",
    "spo=pd.read_csv('/storage/btbgenie/all_ireland_results/cvrl_spoligotypes.csv')\n",
    "treefile = '/storage/btbgenie/cvrl_results/tree.newick'\n",
    "tre = toytree.tree(treefile)\n",
    "tipnames = tre.get_tip_labels()\n",
    "mapping = dict(zip(meta['sample'],meta.county))\n",
    "colormap = trees.colors_from_labels(meta,'name','county')\n",
    "tip_colors = [colormap[mapping[i]] if i in mapping else 'Black' for i in tipnames]\n",
    "\n",
    "canvas,t,r=tre.draw(layout='r',width=1000,height=1400,tip_labels_colors=tip_colors,\n",
    "                    scalebar=True,);"
   ]
  },
  {
   "cell_type": "markdown",
   "metadata": {},
   "source": [
    "## integrate previously aligned bam files together and call variants\n",
    "\n",
    "This allows us to join previously mapped results together in one call without re-aligning"
   ]
  },
  {
   "cell_type": "code",
   "execution_count": 152,
   "metadata": {},
   "outputs": [
    {
     "name": "stdout",
     "output_type": "stream",
     "text": [
      "wicklow\n",
      "cvrl\n",
      "misc\n",
      "monaghan\n",
      "NI\n",
      "570\n"
     ]
    }
   ],
   "source": [
    "outdir='/storage/btbgenie/all_ireland_results'\n",
    "\n",
    "folders = {'wicklow':'/storage/btbgenie/wicklow_results',\n",
    "          'cvrl':'/storage/btbgenie/cvrl_results',\n",
    "          'misc':'/storage/btbgenie/misc_results',\n",
    "          'monaghan':'/storage/btbgenie/monaghan/monaghan_results',\n",
    "          'NI':'/storage/btbgenie/NI_results/'         \n",
    "          }\n",
    "\n",
    "x=[]\n",
    "for f in folders:\n",
    "    print (f)\n",
    "    file = os.path.join(folders[f],'samples.csv')   \n",
    "    df=pd.read_csv(file)\n",
    "    x.append(df)\n",
    "samples = pd.concat(x)\n",
    "print (len(samples))\n",
    "samples.to_csv('/storage/btbgenie/all_ireland_results/samples.csv',index=False)\n",
    "app.write_samples(samples[['sample']], outdir)\n",
    "bam_files = list(samples.bam_file)"
   ]
  },
  {
   "cell_type": "markdown",
   "metadata": {},
   "source": [
    "## run previously aligned files"
   ]
  },
  {
   "cell_type": "code",
   "execution_count": 4,
   "metadata": {},
   "outputs": [
    {
     "name": "stdout",
     "output_type": "stream",
     "text": [
      "raxmlHPC-PTHREADS -f a -N 100 -T 8 -m GTRCAT -V -p 14234711 -x 86378030 -n variants -w /storage/btbgenie/all_ireland_results -s /storage/btbgenie/all_ireland_results/core.fa\n"
     ]
    }
   ],
   "source": [
    "reload(app)\n",
    "gff_file=os.path.join(outdir,'mbovis.gff')\n",
    "tools.gff_bcftools_format(app.mbovis_gb, gff_file)\n",
    "app.run_bamfiles(bam_files, app.mbovis_genome, outdir='/storage/btbgenie/all_ireland_results', threads=16,                \n",
    "                 mask=app.mbovis_mask, gff_file=gff_file,\n",
    "                 custom_filters=True, overwrite=False)"
   ]
  },
  {
   "cell_type": "markdown",
   "metadata": {},
   "source": [
    "## spoligotypes of all samples"
   ]
  },
  {
   "cell_type": "code",
   "execution_count": 153,
   "metadata": {},
   "outputs": [],
   "source": [
    "reload(tools)\n",
    "spo = pd.read_csv('/storage/btbgenie/mbovis_ireland/spoligotypes.csv')\n",
    "done=list(spo['sample'])\n",
    "res=[]\n",
    "for i,r in samples.iterrows():\n",
    "    f=r.filename1\n",
    "    samp=r['sample']\n",
    "    if samp in done:\n",
    "        continue\n",
    "    b = tools.get_spoligotype(f)\n",
    "    sb = tools.get_sb_number(b)\n",
    "    print (f,samp,sb, b)\n",
    "    res.append([f,samp,sb,b])\n",
    " \n",
    "res = pd.DataFrame(res,columns=['filename','sample','SB','code'])\n",
    "#append new spotypes to current file\n",
    "res=pd.concat([spo,res])"
   ]
  },
  {
   "cell_type": "code",
   "execution_count": 154,
   "metadata": {},
   "outputs": [],
   "source": [
    "len(res),len(meta)\n",
    "#meta[~meta['sample'].isin(res['sample'])]\n",
    "#res.to_csv('/storage/btbgenie/mbovis_ireland/spoligotypes.csv',index=False)"
   ]
  },
  {
   "cell_type": "markdown",
   "metadata": {},
   "source": [
    "<div class=\"alert alert-block alert-info\"><b>Post analysis starts here</b> </div>"
   ]
  },
  {
   "cell_type": "markdown",
   "metadata": {},
   "source": [
    "## clusters"
   ]
  },
  {
   "cell_type": "code",
   "execution_count": 10,
   "metadata": {},
   "outputs": [
    {
     "name": "stdout",
     "output_type": "stream",
     "text": [
      "TreeCluster.py  -i /storage/btbgenie/all_ireland_results/tree.newick -t 3 -m max_clade\n",
      "TreeCluster.py  -i /storage/btbgenie/all_ireland_results/tree.newick -t 5 -m max_clade\n",
      "TreeCluster.py  -i /storage/btbgenie/all_ireland_results/tree.newick -t 7 -m max_clade\n",
      "TreeCluster.py  -i /storage/btbgenie/all_ireland_results/tree.newick -t 10 -m max_clade\n",
      "TreeCluster.py  -i /storage/btbgenie/all_ireland_results/tree.newick -t 12 -m max_clade\n",
      "TreeCluster.py  -i /storage/btbgenie/all_ireland_results/tree.newick -t 20 -m max_clade\n",
      "TreeCluster.py  -i /storage/btbgenie/all_ireland_results/tree.newick -t 50 -m max_clade\n",
      "TreeCluster.py  -i /storage/btbgenie/all_ireland_results/tree.newick -t 100 -m max_clade\n"
     ]
    }
   ],
   "source": [
    "clusts = trees.get_clusters('/storage/btbgenie/all_ireland_results/tree.newick')"
   ]
  },
  {
   "cell_type": "code",
   "execution_count": 11,
   "metadata": {},
   "outputs": [
    {
     "name": "stdout",
     "output_type": "stream",
     "text": [
      "[25, 71, 92, 17, 37, 9, 22, 80, 27, 90, 85, 30, 11, 70, 89, 52, 79, 74, 68]\n"
     ]
    },
    {
     "data": {
      "image/png": "[encoded data removed]",
      "text/plain": [
       "<Figure size 864x360 with 1 Axes>"
      ]
     },
     "metadata": {
      "needs_background": "light"
     },
     "output_type": "display_data"
    }
   ],
   "source": [
    "cc = clusts.snp12.value_counts()[1:20]\n",
    "cc.plot(kind='bar',figsize=(12,5))\n",
    "print (list(cc.index))"
   ]
  },
  {
   "cell_type": "code",
   "execution_count": 130,
   "metadata": {},
   "outputs": [
    {
     "data": {
      "text/plain": [
       "Monaghan    192\n",
       "Clare       157\n",
       "NI           86\n",
       "Wicklow      50\n",
       "Cork         26\n",
       "Meath        16\n",
       "Cavan        13\n",
       "Name: county, dtype: int64"
      ]
     },
     "execution_count": 130,
     "metadata": {},
     "output_type": "execute_result"
    }
   ],
   "source": [
    "common = meta.county.value_counts()[:7]\n",
    "def cty_comm(x):\n",
    "    if x in common:\n",
    "        return x\n",
    "    else:\n",
    "        return 'Other'\n",
    "meta['county1'] = meta.county.apply(cty_comm)\n",
    "meta['county2'] = meta.county.apply(lambda x : x if x in ['Monaghan','Clare'] else 'Other')\n",
    "common"
   ]
  },
  {
   "cell_type": "code",
   "execution_count": 134,
   "metadata": {},
   "outputs": [],
   "source": [
    "spo = pd.read_csv('/storage/btbgenie/all_ireland_results/spoligotypes.csv')"
   ]
  },
  {
   "cell_type": "code",
   "execution_count": 136,
   "metadata": {},
   "outputs": [
    {
     "data": {
      "text/plain": [
       "567"
      ]
     },
     "execution_count": 136,
     "metadata": {},
     "output_type": "execute_result"
    }
   ],
   "source": [
    "final = meta.merge(spo[['sample','SB']],on='sample',how='left')\n",
    "final = final.merge(clusts,left_on='sample',right_on='SequenceName')\n",
    "len(final)"
   ]
  },
  {
   "cell_type": "code",
   "execution_count": 137,
   "metadata": {},
   "outputs": [],
   "source": [
    "common = final.SB.value_counts()[:6]\n",
    "def sb_comm(x):\n",
    "    if x in common:\n",
    "        return x\n",
    "    else:\n",
    "        return 'Other'\n",
    "final['SB1'] = final.SB.apply(sb_comm)   "
   ]
  },
  {
   "cell_type": "markdown",
   "metadata": {},
   "source": [
    "## assign clade names - replace with lineage calling?"
   ]
  },
  {
   "cell_type": "code",
   "execution_count": null,
   "metadata": {},
   "outputs": [],
   "source": [
    "import string\n",
    "labels=list(string.ascii_uppercase)\n",
    "clmap={}\n",
    "found=[]\n",
    "i=0\n",
    "for c,g in final.groupby('ClusterNumber'):    \n",
    "    if len(g)==0: continue    \n",
    "    cts = g.county.value_counts()\n",
    "    top = cts[0]\n",
    "    if top>10:         \n",
    "        clmap[c]=labels[i]\n",
    "        i+=1\n",
    "    else:\n",
    "        clmap[c]='Other'"
   ]
  },
  {
   "cell_type": "markdown",
   "metadata": {},
   "source": [
    "## RD analysis"
   ]
  },
  {
   "cell_type": "code",
   "execution_count": null,
   "metadata": {},
   "outputs": [],
   "source": [
    "reload(rdiff)\n",
    "rdiff.create_rd_index()\n",
    "samples = pd.read_csv('/storage/btbgenie/all_ireland_results/samples.csv')\n",
    "res = rdiff.run_samples(samples,'/storage/btbgenie/all_ireland_results/rd_aligned',threads=12)\n",
    "X = rdiff.get_matrix(res, cutoff=0.15)\n",
    "X['ident'] = X.apply(rdiff.apply_rules,1)\n",
    "X.to_csv('/storage/btbgenie/mbovis_ireland/rd.csv')"
   ]
  },
  {
   "cell_type": "code",
   "execution_count": null,
   "metadata": {},
   "outputs": [],
   "source": [
    "reload(rdiff)\n",
    "rdiff.show_rd_coverage(samples[:4], 'LT708304.1',4310000,4330000,app.mbovis_genome,app.mbovis_gb,margin=1300)"
   ]
  },
  {
   "cell_type": "code",
   "execution_count": 69,
   "metadata": {},
   "outputs": [],
   "source": [
    "wick=list(meta[meta.county=='Wicklow']['sample'])"
   ]
  },
  {
   "cell_type": "code",
   "execution_count": 138,
   "metadata": {},
   "outputs": [
    {
     "data": {
      "text/plain": [
       "<seaborn.matrix.ClusterGrid at 0x7f7c9c0f3a30>"
      ]
     },
     "execution_count": 138,
     "metadata": {},
     "output_type": "execute_result"
    },
    {
     "data": {
      "image/png": "[encoded data removed]",
      "text/plain": [
       "<Figure size 720x720 with 4 Axes>"
      ]
     },
     "metadata": {
      "needs_background": "light"
     },
     "output_type": "display_data"
    }
   ],
   "source": [
    "R=pd.read_csv('/storage/btbgenie/mbovis_ireland/rd.csv',index_col=0)\n",
    "R=R.iloc[:,:-1]\n",
    "#cols=X.columns[(X.sum()<len(X)-1) & (X.sum()>0)]\n",
    "cols = ['RD1','RD1mic','RDWicklow','RD11','RD12bov','RD13','RD149','RD3','RD5','RD5oryx*','RD122','RDAf2']\n",
    "R = R[cols]\n",
    "#fig,ax=plt.subplots(1,1,figsize=(10,10))\n",
    "sns.clustermap(R,cmap='gray_r',figsize=(10,10))"
   ]
  },
  {
   "cell_type": "code",
   "execution_count": 139,
   "metadata": {},
   "outputs": [],
   "source": [
    "final = final.merge(R,left_on='sample',right_index=True)\n",
    "final.to_csv('/storage/btbgenie/all_ireland_results/metadata.csv',index=False)"
   ]
  },
  {
   "cell_type": "markdown",
   "metadata": {},
   "source": [
    "## draw all ireland tree"
   ]
  },
  {
   "cell_type": "code",
   "execution_count": null,
   "metadata": {},
   "outputs": [],
   "source": [
    "treefile = '/storage/btbgenie/all_ireland_results/tree.newick'\n",
    "tre = toytree.tree(treefile)\n",
    "canvas,t,r=tre.draw(height=1000,width=1000)"
   ]
  },
  {
   "cell_type": "code",
   "execution_count": null,
   "metadata": {},
   "outputs": [],
   "source": [
    "reload(trees)\n",
    "#tre = tre.root('TB20-002800')\n",
    "#tre = tre.drop_tips('8567')\n",
    "tipnames = tre.get_tip_labels()\n",
    "mapping = dict(zip(final['sample'],final.clade))\n",
    "#mapping['ref'] = 'AF2122/97'\n",
    "tiplabels = [mapping[i] if i in mapping else 'NA' for i in tipnames]\n",
    "\n",
    "colormap = trees.colors_from_labels(final,'name','clade')\n",
    "print (colormap)\n",
    "tip_colors = [colormap[mapping[i]] if i in mapping else 'Black' for i in tipnames]\n",
    "tip_labels_style={      \n",
    "        \"font-size\": \"6px\",\n",
    "        \"-toyplot-anchor-shift\": \"13px\",\n",
    "    }\n",
    "node_sizes=[0 if i else 5 for i in tre.get_node_values(None, 1, 0)]\n",
    "node_colors = [colormap[mapping[n]] if n in mapping else 'black' for n in tre.get_node_values('name', True, True)]\n",
    "\n",
    "canvas,t,r=tre.draw(layout='r',width=1200,height=1300,node_markers=\"o\",node_hover=True, node_sizes=node_sizes,\n",
    "                    tip_labels=False,tip_labels_style=tip_labels_style,node_colors=node_colors,\n",
    "                    tip_labels_colors=tip_colors,scalebar=True,edge_widths=1);\n",
    "#toyplot.pdf.render(canvas,'/storage/btbgenie/all_ireland_results/ireland_tree.pdf')"
   ]
  },
  {
   "cell_type": "markdown",
   "metadata": {},
   "source": [
    "## SNP analysis\n",
    "\n",
    "* snps unique to each clade/county\n",
    "* protein groups containing common snps"
   ]
  },
  {
   "cell_type": "code",
   "execution_count": 15,
   "metadata": {},
   "outputs": [],
   "source": [
    "final = pd.read_csv('/storage/btbgenie/all_ireland_results/metadata.csv')\n",
    "csq = app.read_csq_file('/storage/btbgenie/all_ireland_results/csq.tsv')\n",
    "snp_mat = app.get_aa_snp_matrix(csq)\n",
    "#csq_ind = app.read_csq_file('/storage/btbgenie/all_ireland_results/csq_indels.tsv')\n",
    "#ind_mat = app.get_aa_snp_matrix(csq_ind)"
   ]
  },
  {
   "cell_type": "code",
   "execution_count": 16,
   "metadata": {},
   "outputs": [],
   "source": [
    "#mat.index = mat.index.get_level_values(1)+'_'+mat.index.get_level_values(2)\n",
    "stat = snp_mat.sum(1).reset_index()\n",
    "#stat.gene.value_counts()[:30]"
   ]
  },
  {
   "cell_type": "code",
   "execution_count": 139,
   "metadata": {},
   "outputs": [
    {
     "name": "stderr",
     "output_type": "stream",
     "text": [
      "/tmp/ipykernel_118753/3265091715.py:3: FutureWarning: merging between different levels is deprecated and will be removed in a future version. (4 levels on the left, 1 on the right)\n",
      "  C=C.merge(final[cols],left_index=True,right_on='sample').set_index(cols).T\n"
     ]
    }
   ],
   "source": [
    "cols=['sample','county1','SB1','snp100']\n",
    "C=snp_mat.T\n",
    "C=C.merge(final[cols],left_index=True,right_on='sample').set_index(cols).T\n",
    "#print (C)\n",
    "C=C[C.sum(1)>3].T\n",
    "C.iloc[:4,:2]\n",
    "C.to_csv('csq_snps_ireland.csv')"
   ]
  },
  {
   "cell_type": "code",
   "execution_count": 261,
   "metadata": {},
   "outputs": [
    {
     "name": "stderr",
     "output_type": "stream",
     "text": [
      "/tmp/ipykernel_118753/1114460170.py:3: FutureWarning: In a future version of pandas all arguments of DataFrame.dropna will be keyword-only.\n",
      "  w = w[w>0].dropna(1)\n"
     ]
    },
    {
     "data": {
      "text/html": [
       "<div>\n",
       "<style scoped>\n",
       "    .dataframe tbody tr th:only-of-type {\n",
       "        vertical-align: middle;\n",
       "    }\n",
       "\n",
       "    .dataframe tbody tr th {\n",
       "        vertical-align: top;\n",
       "    }\n",
       "\n",
       "    .dataframe thead th {\n",
       "        text-align: right;\n",
       "    }\n",
       "</style>\n",
       "<table border=\"1\" class=\"dataframe\">\n",
       "  <thead>\n",
       "    <tr style=\"text-align: right;\">\n",
       "      <th></th>\n",
       "      <th>sample</th>\n",
       "      <th>county1</th>\n",
       "      <th>SB1</th>\n",
       "      <th>snp100</th>\n",
       "      <th>(1057, dnaA, 353I&gt;353V, missense)</th>\n",
       "      <th>(8741, gyrA, 480R, synonymous)</th>\n",
       "      <th>(41437, BQ2027_MB0039, 50G, synonymous)</th>\n",
       "      <th>(67098, BQ2027_MB0064, 62K, synonymous)</th>\n",
       "      <th>(69913, BQ2027_MB0065, 435I&gt;435T, missense)</th>\n",
       "      <th>(119328, BQ2027_MB0105, 527V&gt;527L, missense)</th>\n",
       "      <th>...</th>\n",
       "      <th>(4160782, lipE, 131S&gt;131G, missense)</th>\n",
       "      <th>(4162554, BQ2027_MB3805, 253A, synonymous)</th>\n",
       "      <th>(4180986, embC, 139L, synonymous)</th>\n",
       "      <th>(4191866, fadE35, 25T, synonymous)</th>\n",
       "      <th>(4216874, BQ2027_MB3841, 464A, synonymous)</th>\n",
       "      <th>(4262230, BQ2027_MB3877, 3T&gt;3N, missense)</th>\n",
       "      <th>(4298265, espj, 281*&gt;281Q, stop_lost)</th>\n",
       "      <th>(4298265, espj, stop_lost, stop_lost)</th>\n",
       "      <th>(4311425, eccd2, 126G&gt;126D, missense)</th>\n",
       "      <th>(4339036, sigMa, 160S&gt;160A, missense)</th>\n",
       "    </tr>\n",
       "  </thead>\n",
       "  <tbody>\n",
       "    <tr>\n",
       "      <th>0</th>\n",
       "      <td>001_Bov_2001_1.140</td>\n",
       "      <td>NI</td>\n",
       "      <td>Other</td>\n",
       "      <td>23</td>\n",
       "      <td>1</td>\n",
       "      <td>0</td>\n",
       "      <td>0</td>\n",
       "      <td>0</td>\n",
       "      <td>0</td>\n",
       "      <td>0</td>\n",
       "      <td>...</td>\n",
       "      <td>0</td>\n",
       "      <td>1</td>\n",
       "      <td>1</td>\n",
       "      <td>0</td>\n",
       "      <td>0</td>\n",
       "      <td>0</td>\n",
       "      <td>0</td>\n",
       "      <td>0</td>\n",
       "      <td>1</td>\n",
       "      <td>1</td>\n",
       "    </tr>\n",
       "    <tr>\n",
       "      <th>1</th>\n",
       "      <td>002_Bov_2001_7.140</td>\n",
       "      <td>NI</td>\n",
       "      <td>Other</td>\n",
       "      <td>2</td>\n",
       "      <td>1</td>\n",
       "      <td>0</td>\n",
       "      <td>0</td>\n",
       "      <td>0</td>\n",
       "      <td>0</td>\n",
       "      <td>0</td>\n",
       "      <td>...</td>\n",
       "      <td>0</td>\n",
       "      <td>1</td>\n",
       "      <td>1</td>\n",
       "      <td>0</td>\n",
       "      <td>0</td>\n",
       "      <td>0</td>\n",
       "      <td>0</td>\n",
       "      <td>0</td>\n",
       "      <td>1</td>\n",
       "      <td>1</td>\n",
       "    </tr>\n",
       "    <tr>\n",
       "      <th>2</th>\n",
       "      <td>003_Bov_2001_3.140</td>\n",
       "      <td>NI</td>\n",
       "      <td>Other</td>\n",
       "      <td>2</td>\n",
       "      <td>1</td>\n",
       "      <td>0</td>\n",
       "      <td>0</td>\n",
       "      <td>0</td>\n",
       "      <td>0</td>\n",
       "      <td>0</td>\n",
       "      <td>...</td>\n",
       "      <td>0</td>\n",
       "      <td>1</td>\n",
       "      <td>1</td>\n",
       "      <td>0</td>\n",
       "      <td>0</td>\n",
       "      <td>0</td>\n",
       "      <td>0</td>\n",
       "      <td>0</td>\n",
       "      <td>1</td>\n",
       "      <td>1</td>\n",
       "    </tr>\n",
       "    <tr>\n",
       "      <th>3</th>\n",
       "      <td>004_Bov_2000_1.140</td>\n",
       "      <td>NI</td>\n",
       "      <td>Other</td>\n",
       "      <td>23</td>\n",
       "      <td>1</td>\n",
       "      <td>0</td>\n",
       "      <td>0</td>\n",
       "      <td>0</td>\n",
       "      <td>0</td>\n",
       "      <td>0</td>\n",
       "      <td>...</td>\n",
       "      <td>0</td>\n",
       "      <td>1</td>\n",
       "      <td>1</td>\n",
       "      <td>0</td>\n",
       "      <td>0</td>\n",
       "      <td>0</td>\n",
       "      <td>0</td>\n",
       "      <td>0</td>\n",
       "      <td>1</td>\n",
       "      <td>1</td>\n",
       "    </tr>\n",
       "    <tr>\n",
       "      <th>4</th>\n",
       "      <td>005_Bov_2000_2.142</td>\n",
       "      <td>NI</td>\n",
       "      <td>Other</td>\n",
       "      <td>20</td>\n",
       "      <td>1</td>\n",
       "      <td>0</td>\n",
       "      <td>0</td>\n",
       "      <td>0</td>\n",
       "      <td>0</td>\n",
       "      <td>0</td>\n",
       "      <td>...</td>\n",
       "      <td>0</td>\n",
       "      <td>1</td>\n",
       "      <td>1</td>\n",
       "      <td>0</td>\n",
       "      <td>0</td>\n",
       "      <td>0</td>\n",
       "      <td>0</td>\n",
       "      <td>0</td>\n",
       "      <td>1</td>\n",
       "      <td>1</td>\n",
       "    </tr>\n",
       "    <tr>\n",
       "      <th>...</th>\n",
       "      <td>...</td>\n",
       "      <td>...</td>\n",
       "      <td>...</td>\n",
       "      <td>...</td>\n",
       "      <td>...</td>\n",
       "      <td>...</td>\n",
       "      <td>...</td>\n",
       "      <td>...</td>\n",
       "      <td>...</td>\n",
       "      <td>...</td>\n",
       "      <td>...</td>\n",
       "      <td>...</td>\n",
       "      <td>...</td>\n",
       "      <td>...</td>\n",
       "      <td>...</td>\n",
       "      <td>...</td>\n",
       "      <td>...</td>\n",
       "      <td>...</td>\n",
       "      <td>...</td>\n",
       "      <td>...</td>\n",
       "      <td>...</td>\n",
       "    </tr>\n",
       "    <tr>\n",
       "      <th>562</th>\n",
       "      <td>TB21-000123</td>\n",
       "      <td>Clare</td>\n",
       "      <td>SB0130</td>\n",
       "      <td>14</td>\n",
       "      <td>1</td>\n",
       "      <td>1</td>\n",
       "      <td>1</td>\n",
       "      <td>0</td>\n",
       "      <td>1</td>\n",
       "      <td>0</td>\n",
       "      <td>...</td>\n",
       "      <td>0</td>\n",
       "      <td>1</td>\n",
       "      <td>1</td>\n",
       "      <td>0</td>\n",
       "      <td>0</td>\n",
       "      <td>0</td>\n",
       "      <td>0</td>\n",
       "      <td>0</td>\n",
       "      <td>1</td>\n",
       "      <td>1</td>\n",
       "    </tr>\n",
       "    <tr>\n",
       "      <th>563</th>\n",
       "      <td>TB21-000176</td>\n",
       "      <td>Clare</td>\n",
       "      <td>SB0140</td>\n",
       "      <td>8</td>\n",
       "      <td>1</td>\n",
       "      <td>0</td>\n",
       "      <td>0</td>\n",
       "      <td>0</td>\n",
       "      <td>0</td>\n",
       "      <td>0</td>\n",
       "      <td>...</td>\n",
       "      <td>0</td>\n",
       "      <td>1</td>\n",
       "      <td>1</td>\n",
       "      <td>0</td>\n",
       "      <td>0</td>\n",
       "      <td>0</td>\n",
       "      <td>0</td>\n",
       "      <td>0</td>\n",
       "      <td>1</td>\n",
       "      <td>1</td>\n",
       "    </tr>\n",
       "    <tr>\n",
       "      <th>564</th>\n",
       "      <td>TB21-000221</td>\n",
       "      <td>Clare</td>\n",
       "      <td>SB0130</td>\n",
       "      <td>14</td>\n",
       "      <td>1</td>\n",
       "      <td>1</td>\n",
       "      <td>1</td>\n",
       "      <td>0</td>\n",
       "      <td>1</td>\n",
       "      <td>0</td>\n",
       "      <td>...</td>\n",
       "      <td>0</td>\n",
       "      <td>1</td>\n",
       "      <td>1</td>\n",
       "      <td>0</td>\n",
       "      <td>0</td>\n",
       "      <td>0</td>\n",
       "      <td>0</td>\n",
       "      <td>0</td>\n",
       "      <td>1</td>\n",
       "      <td>1</td>\n",
       "    </tr>\n",
       "    <tr>\n",
       "      <th>565</th>\n",
       "      <td>TB21-000285</td>\n",
       "      <td>Clare</td>\n",
       "      <td>SB0142</td>\n",
       "      <td>8</td>\n",
       "      <td>1</td>\n",
       "      <td>0</td>\n",
       "      <td>0</td>\n",
       "      <td>0</td>\n",
       "      <td>0</td>\n",
       "      <td>0</td>\n",
       "      <td>...</td>\n",
       "      <td>0</td>\n",
       "      <td>1</td>\n",
       "      <td>1</td>\n",
       "      <td>0</td>\n",
       "      <td>0</td>\n",
       "      <td>0</td>\n",
       "      <td>0</td>\n",
       "      <td>0</td>\n",
       "      <td>1</td>\n",
       "      <td>1</td>\n",
       "    </tr>\n",
       "    <tr>\n",
       "      <th>566</th>\n",
       "      <td>TB21-000449</td>\n",
       "      <td>Clare</td>\n",
       "      <td>SB0130</td>\n",
       "      <td>14</td>\n",
       "      <td>1</td>\n",
       "      <td>1</td>\n",
       "      <td>1</td>\n",
       "      <td>0</td>\n",
       "      <td>1</td>\n",
       "      <td>0</td>\n",
       "      <td>...</td>\n",
       "      <td>0</td>\n",
       "      <td>1</td>\n",
       "      <td>1</td>\n",
       "      <td>0</td>\n",
       "      <td>0</td>\n",
       "      <td>0</td>\n",
       "      <td>0</td>\n",
       "      <td>0</td>\n",
       "      <td>1</td>\n",
       "      <td>1</td>\n",
       "    </tr>\n",
       "  </tbody>\n",
       "</table>\n",
       "<p>518 rows × 253 columns</p>\n",
       "</div>"
      ],
      "text/plain": [
       "                 sample county1     SB1  snp100  (1057, dnaA, 353I>353V, missense)  (8741, gyrA, 480R, synonymous)  (41437, BQ2027_MB0039, 50G, synonymous)  (67098, BQ2027_MB0064, 62K, synonymous)  \\\n",
       "0    001_Bov_2001_1.140      NI   Other      23                                  1                               0                                        0                                        0   \n",
       "1    002_Bov_2001_7.140      NI   Other       2                                  1                               0                                        0                                        0   \n",
       "2    003_Bov_2001_3.140      NI   Other       2                                  1                               0                                        0                                        0   \n",
       "3    004_Bov_2000_1.140      NI   Other      23                                  1                               0                                        0                                        0   \n",
       "4    005_Bov_2000_2.142      NI   Other      20                                  1                               0                                        0                                        0   \n",
       "..                  ...     ...     ...     ...                                ...                             ...                                      ...                                      ...   \n",
       "562         TB21-000123   Clare  SB0130      14                                  1                               1                                        1                                        0   \n",
       "563         TB21-000176   Clare  SB0140       8                                  1                               0                                        0                                        0   \n",
       "564         TB21-000221   Clare  SB0130      14                                  1                               1                                        1                                        0   \n",
       "565         TB21-000285   Clare  SB0142       8                                  1                               0                                        0                                        0   \n",
       "566         TB21-000449   Clare  SB0130      14                                  1                               1                                        1                                        0   \n",
       "\n",
       "     (69913, BQ2027_MB0065, 435I>435T, missense)  (119328, BQ2027_MB0105, 527V>527L, missense)  ...  (4160782, lipE, 131S>131G, missense)  (4162554, BQ2027_MB3805, 253A, synonymous)  \\\n",
       "0                                              0                                             0  ...                                     0                                           1   \n",
       "1                                              0                                             0  ...                                     0                                           1   \n",
       "2                                              0                                             0  ...                                     0                                           1   \n",
       "3                                              0                                             0  ...                                     0                                           1   \n",
       "4                                              0                                             0  ...                                     0                                           1   \n",
       "..                                           ...                                           ...  ...                                   ...                                         ...   \n",
       "562                                            1                                             0  ...                                     0                                           1   \n",
       "563                                            0                                             0  ...                                     0                                           1   \n",
       "564                                            1                                             0  ...                                     0                                           1   \n",
       "565                                            0                                             0  ...                                     0                                           1   \n",
       "566                                            1                                             0  ...                                     0                                           1   \n",
       "\n",
       "     (4180986, embC, 139L, synonymous)  (4191866, fadE35, 25T, synonymous)  (4216874, BQ2027_MB3841, 464A, synonymous)  (4262230, BQ2027_MB3877, 3T>3N, missense)  \\\n",
       "0                                    1                                   0                                           0                                          0   \n",
       "1                                    1                                   0                                           0                                          0   \n",
       "2                                    1                                   0                                           0                                          0   \n",
       "3                                    1                                   0                                           0                                          0   \n",
       "4                                    1                                   0                                           0                                          0   \n",
       "..                                 ...                                 ...                                         ...                                        ...   \n",
       "562                                  1                                   0                                           0                                          0   \n",
       "563                                  1                                   0                                           0                                          0   \n",
       "564                                  1                                   0                                           0                                          0   \n",
       "565                                  1                                   0                                           0                                          0   \n",
       "566                                  1                                   0                                           0                                          0   \n",
       "\n",
       "     (4298265, espj, 281*>281Q, stop_lost)  (4298265, espj, stop_lost, stop_lost)  (4311425, eccd2, 126G>126D, missense)  (4339036, sigMa, 160S>160A, missense)  \n",
       "0                                        0                                      0                                      1                                      1  \n",
       "1                                        0                                      0                                      1                                      1  \n",
       "2                                        0                                      0                                      1                                      1  \n",
       "3                                        0                                      0                                      1                                      1  \n",
       "4                                        0                                      0                                      1                                      1  \n",
       "..                                     ...                                    ...                                    ...                                    ...  \n",
       "562                                      0                                      0                                      1                                      1  \n",
       "563                                      0                                      0                                      1                                      1  \n",
       "564                                      0                                      0                                      1                                      1  \n",
       "565                                      0                                      0                                      1                                      1  \n",
       "566                                      0                                      0                                      1                                      1  \n",
       "\n",
       "[518 rows x 253 columns]"
      ]
     },
     "execution_count": 261,
     "metadata": {},
     "output_type": "execute_result"
    }
   ],
   "source": [
    "df=C\n",
    "w = df.xs(11, level=\"snp100\", axis=0)\n",
    "w = w[w>0].dropna(1)\n",
    "x = df[w.columns]\n",
    "#s = x.xs(11, level=\"snp100\", axis=0).index\n",
    "x=x.reset_index()\n",
    "#for i,r in x.iterrows():\n",
    "    #if r.snp100 == 11 and \n",
    "    \n",
    "x[x.snp100!=11]"
   ]
  },
  {
   "cell_type": "code",
   "execution_count": 247,
   "metadata": {},
   "outputs": [
    {
     "name": "stderr",
     "output_type": "stream",
     "text": [
      "/tmp/ipykernel_118753/3463460491.py:4: FutureWarning: In a future version of pandas all arguments of DataFrame.dropna will be keyword-only.\n",
      "  w = w[w>0].dropna(1)\n"
     ]
    },
    {
     "data": {
      "text/html": [
       "<div>\n",
       "<style scoped>\n",
       "    .dataframe tbody tr th:only-of-type {\n",
       "        vertical-align: middle;\n",
       "    }\n",
       "\n",
       "    .dataframe tbody tr th {\n",
       "        vertical-align: top;\n",
       "    }\n",
       "\n",
       "    .dataframe thead th {\n",
       "        text-align: right;\n",
       "    }\n",
       "</style>\n",
       "<table border=\"1\" class=\"dataframe\">\n",
       "  <thead>\n",
       "    <tr style=\"text-align: right;\">\n",
       "      <th></th>\n",
       "      <th></th>\n",
       "      <th></th>\n",
       "      <th></th>\n",
       "      <th>(1057, dnaA, 353I&gt;353V, missense)</th>\n",
       "      <th>(8741, gyrA, 480R, synonymous)</th>\n",
       "      <th>(41437, BQ2027_MB0039, 50G, synonymous)</th>\n",
       "      <th>(67098, BQ2027_MB0064, 62K, synonymous)</th>\n",
       "      <th>(69913, BQ2027_MB0065, 435I&gt;435T, missense)</th>\n",
       "      <th>(119328, BQ2027_MB0105, 527V&gt;527L, missense)</th>\n",
       "      <th>(127447, ctpI, 1044L, synonymous)</th>\n",
       "      <th>(130237, ctpI, 114P, synonymous)</th>\n",
       "      <th>(159370, fadE1, 160F, synonymous)</th>\n",
       "      <th>(160535, fgd2, 147K&gt;147E, missense)</th>\n",
       "      <th>...</th>\n",
       "      <th>(4160782, lipE, 131S&gt;131G, missense)</th>\n",
       "      <th>(4162554, BQ2027_MB3805, 253A, synonymous)</th>\n",
       "      <th>(4180986, embC, 139L, synonymous)</th>\n",
       "      <th>(4191866, fadE35, 25T, synonymous)</th>\n",
       "      <th>(4216874, BQ2027_MB3841, 464A, synonymous)</th>\n",
       "      <th>(4262230, BQ2027_MB3877, 3T&gt;3N, missense)</th>\n",
       "      <th>(4298265, espj, 281*&gt;281Q, stop_lost)</th>\n",
       "      <th>(4298265, espj, stop_lost, stop_lost)</th>\n",
       "      <th>(4311425, eccd2, 126G&gt;126D, missense)</th>\n",
       "      <th>(4339036, sigMa, 160S&gt;160A, missense)</th>\n",
       "    </tr>\n",
       "    <tr>\n",
       "      <th>sample</th>\n",
       "      <th>county1</th>\n",
       "      <th>SB1</th>\n",
       "      <th>snp100</th>\n",
       "      <th></th>\n",
       "      <th></th>\n",
       "      <th></th>\n",
       "      <th></th>\n",
       "      <th></th>\n",
       "      <th></th>\n",
       "      <th></th>\n",
       "      <th></th>\n",
       "      <th></th>\n",
       "      <th></th>\n",
       "      <th></th>\n",
       "      <th></th>\n",
       "      <th></th>\n",
       "      <th></th>\n",
       "      <th></th>\n",
       "      <th></th>\n",
       "      <th></th>\n",
       "      <th></th>\n",
       "      <th></th>\n",
       "      <th></th>\n",
       "      <th></th>\n",
       "    </tr>\n",
       "  </thead>\n",
       "  <tbody>\n",
       "    <tr>\n",
       "      <th>001_Bov_2001_1.140</th>\n",
       "      <th>NI</th>\n",
       "      <th>Other</th>\n",
       "      <th>23</th>\n",
       "      <td>1</td>\n",
       "      <td>0</td>\n",
       "      <td>0</td>\n",
       "      <td>0</td>\n",
       "      <td>0</td>\n",
       "      <td>0</td>\n",
       "      <td>1</td>\n",
       "      <td>1</td>\n",
       "      <td>1</td>\n",
       "      <td>1</td>\n",
       "      <td>...</td>\n",
       "      <td>0</td>\n",
       "      <td>1</td>\n",
       "      <td>1</td>\n",
       "      <td>0</td>\n",
       "      <td>0</td>\n",
       "      <td>0</td>\n",
       "      <td>0</td>\n",
       "      <td>0</td>\n",
       "      <td>1</td>\n",
       "      <td>1</td>\n",
       "    </tr>\n",
       "    <tr>\n",
       "      <th>002_Bov_2001_7.140</th>\n",
       "      <th>NI</th>\n",
       "      <th>Other</th>\n",
       "      <th>2</th>\n",
       "      <td>1</td>\n",
       "      <td>0</td>\n",
       "      <td>0</td>\n",
       "      <td>0</td>\n",
       "      <td>0</td>\n",
       "      <td>0</td>\n",
       "      <td>1</td>\n",
       "      <td>0</td>\n",
       "      <td>1</td>\n",
       "      <td>1</td>\n",
       "      <td>...</td>\n",
       "      <td>0</td>\n",
       "      <td>1</td>\n",
       "      <td>1</td>\n",
       "      <td>0</td>\n",
       "      <td>0</td>\n",
       "      <td>0</td>\n",
       "      <td>0</td>\n",
       "      <td>0</td>\n",
       "      <td>1</td>\n",
       "      <td>1</td>\n",
       "    </tr>\n",
       "    <tr>\n",
       "      <th>003_Bov_2001_3.140</th>\n",
       "      <th>NI</th>\n",
       "      <th>Other</th>\n",
       "      <th>2</th>\n",
       "      <td>1</td>\n",
       "      <td>0</td>\n",
       "      <td>0</td>\n",
       "      <td>0</td>\n",
       "      <td>0</td>\n",
       "      <td>0</td>\n",
       "      <td>1</td>\n",
       "      <td>0</td>\n",
       "      <td>1</td>\n",
       "      <td>1</td>\n",
       "      <td>...</td>\n",
       "      <td>0</td>\n",
       "      <td>1</td>\n",
       "      <td>1</td>\n",
       "      <td>0</td>\n",
       "      <td>0</td>\n",
       "      <td>0</td>\n",
       "      <td>0</td>\n",
       "      <td>0</td>\n",
       "      <td>1</td>\n",
       "      <td>1</td>\n",
       "    </tr>\n",
       "    <tr>\n",
       "      <th>004_Bov_2000_1.140</th>\n",
       "      <th>NI</th>\n",
       "      <th>Other</th>\n",
       "      <th>23</th>\n",
       "      <td>1</td>\n",
       "      <td>0</td>\n",
       "      <td>0</td>\n",
       "      <td>0</td>\n",
       "      <td>0</td>\n",
       "      <td>0</td>\n",
       "      <td>1</td>\n",
       "      <td>1</td>\n",
       "      <td>1</td>\n",
       "      <td>1</td>\n",
       "      <td>...</td>\n",
       "      <td>0</td>\n",
       "      <td>1</td>\n",
       "      <td>1</td>\n",
       "      <td>0</td>\n",
       "      <td>0</td>\n",
       "      <td>0</td>\n",
       "      <td>0</td>\n",
       "      <td>0</td>\n",
       "      <td>1</td>\n",
       "      <td>1</td>\n",
       "    </tr>\n",
       "    <tr>\n",
       "      <th>005_Bov_2000_2.142</th>\n",
       "      <th>NI</th>\n",
       "      <th>Other</th>\n",
       "      <th>20</th>\n",
       "      <td>1</td>\n",
       "      <td>0</td>\n",
       "      <td>0</td>\n",
       "      <td>0</td>\n",
       "      <td>0</td>\n",
       "      <td>0</td>\n",
       "      <td>1</td>\n",
       "      <td>1</td>\n",
       "      <td>1</td>\n",
       "      <td>1</td>\n",
       "      <td>...</td>\n",
       "      <td>0</td>\n",
       "      <td>1</td>\n",
       "      <td>1</td>\n",
       "      <td>0</td>\n",
       "      <td>0</td>\n",
       "      <td>0</td>\n",
       "      <td>0</td>\n",
       "      <td>0</td>\n",
       "      <td>1</td>\n",
       "      <td>1</td>\n",
       "    </tr>\n",
       "    <tr>\n",
       "      <th>...</th>\n",
       "      <th>...</th>\n",
       "      <th>...</th>\n",
       "      <th>...</th>\n",
       "      <td>...</td>\n",
       "      <td>...</td>\n",
       "      <td>...</td>\n",
       "      <td>...</td>\n",
       "      <td>...</td>\n",
       "      <td>...</td>\n",
       "      <td>...</td>\n",
       "      <td>...</td>\n",
       "      <td>...</td>\n",
       "      <td>...</td>\n",
       "      <td>...</td>\n",
       "      <td>...</td>\n",
       "      <td>...</td>\n",
       "      <td>...</td>\n",
       "      <td>...</td>\n",
       "      <td>...</td>\n",
       "      <td>...</td>\n",
       "      <td>...</td>\n",
       "      <td>...</td>\n",
       "      <td>...</td>\n",
       "      <td>...</td>\n",
       "    </tr>\n",
       "    <tr>\n",
       "      <th>TB21-000123</th>\n",
       "      <th>Clare</th>\n",
       "      <th>SB0130</th>\n",
       "      <th>14</th>\n",
       "      <td>1</td>\n",
       "      <td>1</td>\n",
       "      <td>1</td>\n",
       "      <td>0</td>\n",
       "      <td>1</td>\n",
       "      <td>0</td>\n",
       "      <td>1</td>\n",
       "      <td>1</td>\n",
       "      <td>1</td>\n",
       "      <td>1</td>\n",
       "      <td>...</td>\n",
       "      <td>0</td>\n",
       "      <td>1</td>\n",
       "      <td>1</td>\n",
       "      <td>0</td>\n",
       "      <td>0</td>\n",
       "      <td>0</td>\n",
       "      <td>0</td>\n",
       "      <td>0</td>\n",
       "      <td>1</td>\n",
       "      <td>1</td>\n",
       "    </tr>\n",
       "    <tr>\n",
       "      <th>TB21-000176</th>\n",
       "      <th>Clare</th>\n",
       "      <th>SB0140</th>\n",
       "      <th>8</th>\n",
       "      <td>1</td>\n",
       "      <td>0</td>\n",
       "      <td>0</td>\n",
       "      <td>0</td>\n",
       "      <td>0</td>\n",
       "      <td>0</td>\n",
       "      <td>1</td>\n",
       "      <td>1</td>\n",
       "      <td>1</td>\n",
       "      <td>1</td>\n",
       "      <td>...</td>\n",
       "      <td>0</td>\n",
       "      <td>1</td>\n",
       "      <td>1</td>\n",
       "      <td>0</td>\n",
       "      <td>0</td>\n",
       "      <td>0</td>\n",
       "      <td>0</td>\n",
       "      <td>0</td>\n",
       "      <td>1</td>\n",
       "      <td>1</td>\n",
       "    </tr>\n",
       "    <tr>\n",
       "      <th>TB21-000221</th>\n",
       "      <th>Clare</th>\n",
       "      <th>SB0130</th>\n",
       "      <th>14</th>\n",
       "      <td>1</td>\n",
       "      <td>1</td>\n",
       "      <td>1</td>\n",
       "      <td>0</td>\n",
       "      <td>1</td>\n",
       "      <td>0</td>\n",
       "      <td>1</td>\n",
       "      <td>1</td>\n",
       "      <td>1</td>\n",
       "      <td>1</td>\n",
       "      <td>...</td>\n",
       "      <td>0</td>\n",
       "      <td>1</td>\n",
       "      <td>1</td>\n",
       "      <td>0</td>\n",
       "      <td>0</td>\n",
       "      <td>0</td>\n",
       "      <td>0</td>\n",
       "      <td>0</td>\n",
       "      <td>1</td>\n",
       "      <td>1</td>\n",
       "    </tr>\n",
       "    <tr>\n",
       "      <th>TB21-000285</th>\n",
       "      <th>Clare</th>\n",
       "      <th>SB0142</th>\n",
       "      <th>8</th>\n",
       "      <td>1</td>\n",
       "      <td>0</td>\n",
       "      <td>0</td>\n",
       "      <td>0</td>\n",
       "      <td>0</td>\n",
       "      <td>0</td>\n",
       "      <td>1</td>\n",
       "      <td>1</td>\n",
       "      <td>1</td>\n",
       "      <td>1</td>\n",
       "      <td>...</td>\n",
       "      <td>0</td>\n",
       "      <td>1</td>\n",
       "      <td>1</td>\n",
       "      <td>0</td>\n",
       "      <td>0</td>\n",
       "      <td>0</td>\n",
       "      <td>0</td>\n",
       "      <td>0</td>\n",
       "      <td>1</td>\n",
       "      <td>1</td>\n",
       "    </tr>\n",
       "    <tr>\n",
       "      <th>TB21-000449</th>\n",
       "      <th>Clare</th>\n",
       "      <th>SB0130</th>\n",
       "      <th>14</th>\n",
       "      <td>1</td>\n",
       "      <td>1</td>\n",
       "      <td>1</td>\n",
       "      <td>0</td>\n",
       "      <td>1</td>\n",
       "      <td>0</td>\n",
       "      <td>1</td>\n",
       "      <td>1</td>\n",
       "      <td>1</td>\n",
       "      <td>1</td>\n",
       "      <td>...</td>\n",
       "      <td>0</td>\n",
       "      <td>1</td>\n",
       "      <td>1</td>\n",
       "      <td>0</td>\n",
       "      <td>0</td>\n",
       "      <td>0</td>\n",
       "      <td>0</td>\n",
       "      <td>0</td>\n",
       "      <td>1</td>\n",
       "      <td>1</td>\n",
       "    </tr>\n",
       "  </tbody>\n",
       "</table>\n",
       "<p>567 rows × 249 columns</p>\n",
       "</div>"
      ],
      "text/plain": [
       "                                          (1057, dnaA, 353I>353V, missense)  (8741, gyrA, 480R, synonymous)  (41437, BQ2027_MB0039, 50G, synonymous)  (67098, BQ2027_MB0064, 62K, synonymous)  \\\n",
       "sample             county1 SB1    snp100                                                                                                                                                        \n",
       "001_Bov_2001_1.140 NI      Other  23                                      1                               0                                        0                                        0   \n",
       "002_Bov_2001_7.140 NI      Other  2                                       1                               0                                        0                                        0   \n",
       "003_Bov_2001_3.140 NI      Other  2                                       1                               0                                        0                                        0   \n",
       "004_Bov_2000_1.140 NI      Other  23                                      1                               0                                        0                                        0   \n",
       "005_Bov_2000_2.142 NI      Other  20                                      1                               0                                        0                                        0   \n",
       "...                                                                     ...                             ...                                      ...                                      ...   \n",
       "TB21-000123        Clare   SB0130 14                                      1                               1                                        1                                        0   \n",
       "TB21-000176        Clare   SB0140 8                                       1                               0                                        0                                        0   \n",
       "TB21-000221        Clare   SB0130 14                                      1                               1                                        1                                        0   \n",
       "TB21-000285        Clare   SB0142 8                                       1                               0                                        0                                        0   \n",
       "TB21-000449        Clare   SB0130 14                                      1                               1                                        1                                        0   \n",
       "\n",
       "                                          (69913, BQ2027_MB0065, 435I>435T, missense)  (119328, BQ2027_MB0105, 527V>527L, missense)  (127447, ctpI, 1044L, synonymous)  \\\n",
       "sample             county1 SB1    snp100                                                                                                                                 \n",
       "001_Bov_2001_1.140 NI      Other  23                                                0                                             0                                  1   \n",
       "002_Bov_2001_7.140 NI      Other  2                                                 0                                             0                                  1   \n",
       "003_Bov_2001_3.140 NI      Other  2                                                 0                                             0                                  1   \n",
       "004_Bov_2000_1.140 NI      Other  23                                                0                                             0                                  1   \n",
       "005_Bov_2000_2.142 NI      Other  20                                                0                                             0                                  1   \n",
       "...                                                                               ...                                           ...                                ...   \n",
       "TB21-000123        Clare   SB0130 14                                                1                                             0                                  1   \n",
       "TB21-000176        Clare   SB0140 8                                                 0                                             0                                  1   \n",
       "TB21-000221        Clare   SB0130 14                                                1                                             0                                  1   \n",
       "TB21-000285        Clare   SB0142 8                                                 0                                             0                                  1   \n",
       "TB21-000449        Clare   SB0130 14                                                1                                             0                                  1   \n",
       "\n",
       "                                          (130237, ctpI, 114P, synonymous)  (159370, fadE1, 160F, synonymous)  (160535, fgd2, 147K>147E, missense)  ...  (4160782, lipE, 131S>131G, missense)  \\\n",
       "sample             county1 SB1    snp100                                                                                                            ...                                         \n",
       "001_Bov_2001_1.140 NI      Other  23                                     1                                  1                                    1  ...                                     0   \n",
       "002_Bov_2001_7.140 NI      Other  2                                      0                                  1                                    1  ...                                     0   \n",
       "003_Bov_2001_3.140 NI      Other  2                                      0                                  1                                    1  ...                                     0   \n",
       "004_Bov_2000_1.140 NI      Other  23                                     1                                  1                                    1  ...                                     0   \n",
       "005_Bov_2000_2.142 NI      Other  20                                     1                                  1                                    1  ...                                     0   \n",
       "...                                                                    ...                                ...                                  ...  ...                                   ...   \n",
       "TB21-000123        Clare   SB0130 14                                     1                                  1                                    1  ...                                     0   \n",
       "TB21-000176        Clare   SB0140 8                                      1                                  1                                    1  ...                                     0   \n",
       "TB21-000221        Clare   SB0130 14                                     1                                  1                                    1  ...                                     0   \n",
       "TB21-000285        Clare   SB0142 8                                      1                                  1                                    1  ...                                     0   \n",
       "TB21-000449        Clare   SB0130 14                                     1                                  1                                    1  ...                                     0   \n",
       "\n",
       "                                          (4162554, BQ2027_MB3805, 253A, synonymous)  (4180986, embC, 139L, synonymous)  (4191866, fadE35, 25T, synonymous)  \\\n",
       "sample             county1 SB1    snp100                                                                                                                      \n",
       "001_Bov_2001_1.140 NI      Other  23                                               1                                  1                                   0   \n",
       "002_Bov_2001_7.140 NI      Other  2                                                1                                  1                                   0   \n",
       "003_Bov_2001_3.140 NI      Other  2                                                1                                  1                                   0   \n",
       "004_Bov_2000_1.140 NI      Other  23                                               1                                  1                                   0   \n",
       "005_Bov_2000_2.142 NI      Other  20                                               1                                  1                                   0   \n",
       "...                                                                              ...                                ...                                 ...   \n",
       "TB21-000123        Clare   SB0130 14                                               1                                  1                                   0   \n",
       "TB21-000176        Clare   SB0140 8                                                1                                  1                                   0   \n",
       "TB21-000221        Clare   SB0130 14                                               1                                  1                                   0   \n",
       "TB21-000285        Clare   SB0142 8                                                1                                  1                                   0   \n",
       "TB21-000449        Clare   SB0130 14                                               1                                  1                                   0   \n",
       "\n",
       "                                          (4216874, BQ2027_MB3841, 464A, synonymous)  (4262230, BQ2027_MB3877, 3T>3N, missense)  (4298265, espj, 281*>281Q, stop_lost)  \\\n",
       "sample             county1 SB1    snp100                                                                                                                                 \n",
       "001_Bov_2001_1.140 NI      Other  23                                               0                                          0                                      0   \n",
       "002_Bov_2001_7.140 NI      Other  2                                                0                                          0                                      0   \n",
       "003_Bov_2001_3.140 NI      Other  2                                                0                                          0                                      0   \n",
       "004_Bov_2000_1.140 NI      Other  23                                               0                                          0                                      0   \n",
       "005_Bov_2000_2.142 NI      Other  20                                               0                                          0                                      0   \n",
       "...                                                                              ...                                        ...                                    ...   \n",
       "TB21-000123        Clare   SB0130 14                                               0                                          0                                      0   \n",
       "TB21-000176        Clare   SB0140 8                                                0                                          0                                      0   \n",
       "TB21-000221        Clare   SB0130 14                                               0                                          0                                      0   \n",
       "TB21-000285        Clare   SB0142 8                                                0                                          0                                      0   \n",
       "TB21-000449        Clare   SB0130 14                                               0                                          0                                      0   \n",
       "\n",
       "                                          (4298265, espj, stop_lost, stop_lost)  (4311425, eccd2, 126G>126D, missense)  (4339036, sigMa, 160S>160A, missense)  \n",
       "sample             county1 SB1    snp100                                                                                                                       \n",
       "001_Bov_2001_1.140 NI      Other  23                                          0                                      1                                      1  \n",
       "002_Bov_2001_7.140 NI      Other  2                                           0                                      1                                      1  \n",
       "003_Bov_2001_3.140 NI      Other  2                                           0                                      1                                      1  \n",
       "004_Bov_2000_1.140 NI      Other  23                                          0                                      1                                      1  \n",
       "005_Bov_2000_2.142 NI      Other  20                                          0                                      1                                      1  \n",
       "...                                                                         ...                                    ...                                    ...  \n",
       "TB21-000123        Clare   SB0130 14                                          0                                      1                                      1  \n",
       "TB21-000176        Clare   SB0140 8                                           0                                      1                                      1  \n",
       "TB21-000221        Clare   SB0130 14                                          0                                      1                                      1  \n",
       "TB21-000285        Clare   SB0142 8                                           0                                      1                                      1  \n",
       "TB21-000449        Clare   SB0130 14                                          0                                      1                                      1  \n",
       "\n",
       "[567 rows x 249 columns]"
      ]
     },
     "execution_count": 247,
     "metadata": {},
     "output_type": "execute_result"
    }
   ],
   "source": [
    "def get_unique_snps(df):   \n",
    "    #w=df[(df.snp100 == 11)]\n",
    "    w = df.xs(11, level=\"snp100\", axis=0)\n",
    "    w = w[w>0].dropna(1)\n",
    "    x = df[w.columns]\n",
    "    s = x.xs(11, level=\"snp100\", axis=0).index\n",
    "    x\n",
    "    return x\n",
    "    \n",
    "cs = get_unique_snps(C)\n",
    "cs"
   ]
  },
  {
   "cell_type": "markdown",
   "metadata": {
    "tags": []
   },
   "source": [
    "## plot clustermap of SNPs"
   ]
  },
  {
   "cell_type": "code",
   "execution_count": 196,
   "metadata": {},
   "outputs": [
    {
     "name": "stderr",
     "output_type": "stream",
     "text": [
      "/usr/local/lib/python3.10/dist-packages/seaborn/matrix.py:654: UserWarning: Clustering large matrix with scipy. Installing `fastcluster` may give better performance.\n",
      "  warnings.warn(msg)\n"
     ]
    },
    {
     "data": {
      "image/png": "[encoded data removed]",
      "text/plain": [
       "<Figure size 1224x720 with 4 Axes>"
      ]
     },
     "metadata": {},
     "output_type": "display_data"
    }
   ],
   "source": [
    "X=C.sample(20)\n",
    "#X=C.loc[:,['Wicklow','Monaghan'],:]\n",
    "colors1,colormap1=plotting.get_color_mapping(X.reset_index(),'snp100')\n",
    "colors2,colormap2=plotting.get_color_mapping(X.reset_index(),'county1',cmap='Set1')\n",
    "cg = sns.clustermap(X,xticklabels=False,yticklabels=False,cmap='gray_r',cbar_pos=None,row_colors=[colors1,colors2],figsize=(17,10))\n",
    "\n",
    "def make_legend(fig,colormap,loc=(1.08, 1),title=''):\n",
    "    import matplotlib.patches as mpatches\n",
    "    pts=[]\n",
    "    for c in colormap:\n",
    "        pts.append(mpatches.Patch(color=colormap[c],label=c))\n",
    "    fig.legend(handles=pts,bbox_to_anchor=loc,fontsize=14,title=title)\n",
    "    return pts\n",
    "p=make_legend(cg.fig,colormap1,(1.08, .7),'snp100')\n",
    "p=make_legend(cg.fig,colormap2,title='county')\n",
    "#g.savefig('/storage/btbgenie/all_ireland_results/snp_clusters.jpg')"
   ]
  },
  {
   "cell_type": "markdown",
   "metadata": {},
   "source": [
    "## PCA"
   ]
  },
  {
   "cell_type": "code",
   "execution_count": 118,
   "metadata": {},
   "outputs": [
    {
     "name": "stderr",
     "output_type": "stream",
     "text": [
      "/usr/local/lib/python3.10/dist-packages/sklearn/utils/validation.py:1688: FutureWarning: Feature names only support names that are all strings. Got feature names with dtypes: ['tuple']. An error will be raised in 1.2.\n",
      "  warnings.warn(\n"
     ]
    },
    {
     "data": {
      "image/png": "[encoded data removed]",
      "text/plain": [
       "<Figure size 720x720 with 1 Axes>"
      ]
     },
     "metadata": {
      "needs_background": "light"
     },
     "output_type": "display_data"
    }
   ],
   "source": [
    "import sklearn\n",
    "from sklearn import decomposition\n",
    "from sklearn import manifold\n",
    "\n",
    "pca = decomposition.PCA(n_components=3)\n",
    "mds = manifold.MDS(n_components=3)\n",
    "pos = mds.fit(C).embedding_\n",
    "X = pca.fit_transform(pos)\n",
    "#X = pca.transform(C)\n",
    "df=pd.DataFrame(X)\n",
    "#df['sb']=sb\n",
    "#df.to_csv('/storage/btbgenie/all_ireland_results/pca_snp.csv')\n",
    "\n",
    "fig,ax = plt.subplots(figsize=(10, 10))\n",
    "sc=ax.scatter(X[:, 0], X[:, 1], c=colors1, s=100, alpha=.6)    \n",
    "#ax.legend(handles=pts,loc='best')\n",
    "p=make_legend(fig,colormap1,(.9,.85),title='snp100')\n",
    "fig.savefig('/storage/btbgenie/all_ireland_results/pca_snp_clusters.jpg',dpi=150)"
   ]
  },
  {
   "cell_type": "code",
   "execution_count": null,
   "metadata": {},
   "outputs": [],
   "source": []
  }
 ],
 "metadata": {
  "kernelspec": {
   "display_name": "Python 3 (ipykernel)",
   "language": "python",
   "name": "python3"
  },
  "language_info": {
   "codemirror_mode": {
    "name": "ipython",
    "version": 3
   },
   "file_extension": ".py",
   "mimetype": "text/x-python",
   "name": "python",
   "nbconvert_exporter": "python",
   "pygments_lexer": "ipython3",
   "version": "3.10.4"
  }
 },
 "nbformat": 4,
 "nbformat_minor": 4
}
