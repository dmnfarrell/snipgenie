{
 "cells": [
  {
   "cell_type": "markdown",
   "id": "097a5efa-3837-48c6-a8ea-309d58ba6fd6",
   "metadata": {},
   "source": [
    "## wgMLST for mbovis\n",
    "\n",
    "* http://www3.ridom.de/seqsphere/cgmlst/\n",
    "* https://www.cgmlst.org/ncs/schema/741110/\n",
    "* https://jcm.asm.org/content/52/7/2479\n",
    "* https://www.biorxiv.org/content/10.1101/172858v1.full\n",
    "* https://www.ncbi.nlm.nih.gov/pmc/articles/PMC3980634/"
   ]
  },
  {
   "cell_type": "markdown",
   "id": "3b554e75-17e5-4a8f-ab03-e93150bcc94e",
   "metadata": {},
   "source": [
    "## steps\n",
    "\n",
    "* get MLST gene list\n",
    "* assembly\n",
    "* annotate\n",
    "* assign allele numbers?"
   ]
  },
  {
   "cell_type": "code",
   "execution_count": 1096,
   "id": "5fbe56cd-85be-425d-a949-8d7b709d4acc",
   "metadata": {},
   "outputs": [],
   "source": [
    "import sys,os,shutil,subprocess\n",
    "import glob\n",
    "from importlib import reload\n",
    "import numpy as np\n",
    "import pandas as pd\n",
    "pd.set_option('display.width', 200)\n",
    "pd.set_option('display.max_colwidth', 150)\n",
    "import pylab as plt\n",
    "import seaborn as sns\n",
    "from Bio import SeqIO\n",
    "from Bio.SeqRecord import SeqRecord\n",
    "from io import StringIO\n",
    "from snipgenie import app\n",
    "import pathogenie as pg\n",
    "import toytree"
   ]
  },
  {
   "cell_type": "code",
   "execution_count": 3,
   "id": "a9158dab-3bba-4414-bad1-59c5f0856117",
   "metadata": {},
   "outputs": [],
   "source": [
    "meta = pd.read_csv('/storage/btbgenie/mbovis_ireland/all_ireland_samples.csv')\n",
    "vcf_file='/storage/btbgenie/wicklow_results/filtered.vcf.gz'"
   ]
  },
  {
   "cell_type": "code",
   "execution_count": 4,
   "id": "3bc7763a-0ca8-4267-9f1d-60755c13b101",
   "metadata": {},
   "outputs": [],
   "source": [
    "def get_samples_vcf(vcf_file):\n",
    "    cmd = 'bcftools query -l %s' %vcf_file\n",
    "    tmp = subprocess.check_output(cmd, shell=True)\n",
    "    return tmp.decode().split('\\n')\n",
    "    \n",
    "samplenames = get_samples_vcf(vcf_file)"
   ]
  },
  {
   "cell_type": "code",
   "execution_count": 5,
   "id": "f630368c-1859-4574-84dd-8a545f5e17b5",
   "metadata": {},
   "outputs": [
    {
     "name": "stdout",
     "output_type": "stream",
     "text": [
      "pair    sample                                                                                             1  \\\n",
      "0         1034                  /storage/btbgenie/mbovis_ireland/Wicklow/dog/1034_S91_L001-4_R1_001.fastq.gz   \n",
      "1     13-11594  /storage/btbgenie/mbovis_ireland/Wicklow/Fastqs_15-03-19/13-11594_S85_L001-4_R1_001.fastq.gz   \n",
      "\n",
      "pair                                                                                             2  \n",
      "0                     /storage/btbgenie/mbovis_ireland/Wicklow/dog/1034_S91_L001-4_R2_001.fastq.gz  \n",
      "1     /storage/btbgenie/mbovis_ireland/Wicklow/Fastqs_15-03-19/13-11594_S85_L001-4_R2_001.fastq.gz  \n"
     ]
    }
   ],
   "source": [
    "path = '/storage/btbgenie/mbovis_ireland/Wicklow/'\n",
    "files = glob.glob(os.path.join(path,'**', '*.fastq.gz'),recursive=True)\n",
    "samp = app.get_samples(files,sep='_')\n",
    "pairs = pd.pivot_table(samp,index=['sample'],columns=['pair'],values='filename',aggfunc='first').reset_index()\n",
    "print (pairs[:2])"
   ]
  },
  {
   "cell_type": "markdown",
   "id": "1200e6a5-624b-44ff-a8e5-4436b362b548",
   "metadata": {},
   "source": [
    "## create reference proteins for MLST"
   ]
  },
  {
   "cell_type": "code",
   "execution_count": 13,
   "id": "7c6c41ff-b137-40ef-b26d-fa40e236835c",
   "metadata": {},
   "outputs": [
    {
     "name": "stdout",
     "output_type": "stream",
     "text": [
      "3994\n"
     ]
    }
   ],
   "source": [
    "prots = pg.tools.genbank_to_dataframe('Mbovis-AF212297.2.gb',cds=True)\n",
    "prots = prots.fillna('')\n",
    "prots = prots.dropna(subset=['locus_tag'])\n",
    "ref_proteins = 'Mbovis_AF212297_proteins.fa'\n",
    "#get prokka type header for using in annotation\n",
    "prots['header'] = prots.apply(lambda x: '~~~'.join([x.locus_tag,x.gene,x['product'],'none']),1)\n",
    "pg.tools.dataframe_to_fasta(prots,idkey='header',outfile=ref_proteins)\n",
    "print (len(prots))"
   ]
  },
  {
   "cell_type": "code",
   "execution_count": 6,
   "id": "0c949c63-24d7-481a-b145-ca33f18595b4",
   "metadata": {},
   "outputs": [],
   "source": [
    "def get_nucleotide_sequences(gb_file,out_file,idkey='locus_tag'):\n",
    "    \"\"\"protein nucleotide seqs from genbank\"\"\"\n",
    "    \n",
    "    recs = SeqIO.to_dict(SeqIO.parse(gb_file,'genbank'))\n",
    "    chroms = list(recs.keys())\n",
    "    result = []\n",
    "    for chrom in chroms[:10]:       \n",
    "        rec = recs[chrom]        \n",
    "        for f in rec.features[1:]:\n",
    "            q=f.qualifiers\n",
    "            if f.type != 'CDS':\n",
    "                continue\n",
    "            seq = rec.seq[f.location.start:f.location.end]\n",
    "            try:         \n",
    "                new = SeqRecord(seq,id=q[idkey][0])\n",
    "                result.append(new)\n",
    "            except:\n",
    "                #print (q)\n",
    "                pass\n",
    "    SeqIO.write(result,out_file,format='fasta')\n",
    "    return result\n",
    "\n",
    "res=get_nucleotide_sequences('Mbovis-AF212297.2.gb','Mbovis_AF212297_nuc.fa')"
   ]
  },
  {
   "cell_type": "markdown",
   "id": "1df61561-684c-418a-980c-2c62299a216a",
   "metadata": {},
   "source": [
    "## assembly"
   ]
  },
  {
   "cell_type": "code",
   "execution_count": null,
   "id": "09ca0cce-bad8-40a0-81bd-f93f8a39518f",
   "metadata": {},
   "outputs": [],
   "source": [
    "def spades(file1, file2, path, outfile=None, threads=4):\n",
    "    \"\"\"Run spades\"\"\"\n",
    "    \n",
    "    cmd = 'spades -t %s --pe1-1 %s --pe1-2 %s --careful -o %s' %(threads,file1,file2,path)    \n",
    "    if not os.path.exists(path): \n",
    "        print (cmd)\n",
    "        subprocess.check_output(cmd, shell=True)\n",
    "    if outfile != None:\n",
    "        shutil.copy(os.path.join(path,'scaffolds.fasta'),outfile)\n",
    "    return outfile\n",
    "\n",
    "assembly_path = '/storage/btbgenie/assembly/'\n",
    "\n",
    "for i,r in pairs[5:10].iterrows():    \n",
    "    name=r['sample']\n",
    "    print (name)\n",
    "    out = os.path.join(assembly_path,name+'.fa')\n",
    "    print (out)\n",
    "    spades(r[1], r[2], os.path.join(assembly_path,name), outfile=out, threads=12)"
   ]
  },
  {
   "cell_type": "markdown",
   "id": "255fab33-d9d4-4cc6-9edf-04a7d8250fd9",
   "metadata": {},
   "source": [
    "## get consensus sequence from alignment instead of assembly"
   ]
  },
  {
   "cell_type": "code",
   "execution_count": 8,
   "id": "b1450e60-5c58-4c34-9927-b11396ef068b",
   "metadata": {},
   "outputs": [],
   "source": [
    "def get_consensus(vcf_file, sample, out_file='consensus.fa'):\n",
    "    \"\"\"Get consensus sequence from vcf\"\"\"\n",
    "      \n",
    "    cmd='bcftools index -f %s' %vcf_file\n",
    "    subprocess.check_output(cmd, shell=True)   \n",
    "    cmd='cat {r} | bcftools consensus -s {s} {v} > {o}'.format(r=app.mbovis_genome,v=vcf_file,s=sample,o=out_file)\n",
    "    #print (cmd)\n",
    "    subprocess.check_output(cmd, shell=True)\n",
    "    return\n",
    "\n",
    "get_consensus(vcf_file, '1034','consensus.fa')\n"
   ]
  },
  {
   "cell_type": "markdown",
   "id": "f036d0a1-efe2-497b-bccf-93b0b305a212",
   "metadata": {},
   "source": [
    "## annotate\n"
   ]
  },
  {
   "cell_type": "code",
   "execution_count": null,
   "id": "65652405-949d-4bd8-be2e-e1869169890f",
   "metadata": {},
   "outputs": [],
   "source": [
    "seqfile='/storage/btbgenie/assembly/1034.fa'\n",
    "#seqfile='consensus.fa'\n",
    "featdf,recs = pg.run_annotation(seqfile,\n",
    "                                threads=10, kingdom='bacteria', trusted=ref_proteins)\n",
    "outfile='/storage/btbgenie/annotation_assembly/1034.fa'\n",
    "\n",
    "#write out nucl sequences\n",
    "SeqIO.write(recs,'temp.gb','genbank')\n",
    "res = get_nucleotide_sequences('temp.gb',outfile,idkey='protein_id')"
   ]
  },
  {
   "cell_type": "code",
   "execution_count": 853,
   "id": "790a4e36-d0d8-4d9d-8398-124cdb32d6d0",
   "metadata": {},
   "outputs": [
    {
     "name": "stdout",
     "output_type": "stream",
     "text": [
      "Mb3672c\n"
     ]
    },
    {
     "data": {
      "text/plain": [
       "Seq('MPQGTVKWFNAEKGFGFIAPEDGSADVFVHYTEIQGTGFRTLEENQKVEFEIGH...SL*')"
      ]
     },
     "execution_count": 853,
     "metadata": {},
     "output_type": "execute_result"
    }
   ],
   "source": [
    "rec=res[3]\n",
    "print (rec.id)\n",
    "rec.seq.translate()"
   ]
  },
  {
   "cell_type": "markdown",
   "id": "c904b82a-bee9-4bee-a81d-b33539bb3b9f",
   "metadata": {},
   "source": [
    "# initialise MLST table from reference genome"
   ]
  },
  {
   "cell_type": "markdown",
   "id": "b795b5e3-ce6a-4ea8-a417-60a03ad8b5bc",
   "metadata": {},
   "source": [
    "## filter only Mb proteins in scheme"
   ]
  },
  {
   "cell_type": "code",
   "execution_count": 1227,
   "id": "f2b59498-b340-4405-87a9-54ab89498277",
   "metadata": {},
   "outputs": [],
   "source": [
    "mlst=pd.read_csv('mlst_scheme.csv')\n",
    "mlst=mlst[mlst['Ridom Usage']=='MLST+']\n",
    "targets=list(mlst.Target)"
   ]
  },
  {
   "cell_type": "code",
   "execution_count": 1228,
   "id": "02009a63-fbc7-4c52-97c1-2daee4048f17",
   "metadata": {},
   "outputs": [],
   "source": [
    "mbmap=pd.read_csv('final_mbovis_mapping.csv')\n",
    "mbmap = mbmap[mbmap.Rv_tag.isin(targets)]\n",
    "mb_tags = list(mbmap.Mb_tag)\n",
    "prots = prots[prots.locus_tag.isin(mb_tags)]\n",
    "nucseqs = pg.tools.fasta_to_dataframe('Mbovis_AF212297_nuc.fa')\n",
    "nucseqs = nucseqs[nucseqs.name.isin(mb_tags)]"
   ]
  },
  {
   "cell_type": "code",
   "execution_count": 1229,
   "id": "e1698d53-1360-4deb-b9b8-4a6940766fbe",
   "metadata": {},
   "outputs": [
    {
     "name": "stdout",
     "output_type": "stream",
     "text": [
      "3184\n"
     ]
    }
   ],
   "source": [
    "cols = ['name','allele','sequence']\n",
    "ref = nucseqs.copy()\n",
    "ref['allele'] = 1\n",
    "ref=ref.rename(columns={'translation':'sequence'})\n",
    "ref[cols].to_csv('mlst_db.csv.gz',index=False,compression='gzip')\n",
    "print (len(ref))"
   ]
  },
  {
   "cell_type": "code",
   "execution_count": 635,
   "id": "d1112407-b094-45a1-9b2e-d1936429d4d1",
   "metadata": {},
   "outputs": [
    {
     "data": {
      "text/html": [
       "<div>\n",
       "<style scoped>\n",
       "    .dataframe tbody tr th:only-of-type {\n",
       "        vertical-align: middle;\n",
       "    }\n",
       "\n",
       "    .dataframe tbody tr th {\n",
       "        vertical-align: top;\n",
       "    }\n",
       "\n",
       "    .dataframe thead th {\n",
       "        text-align: right;\n",
       "    }\n",
       "</style>\n",
       "<table border=\"1\" class=\"dataframe\">\n",
       "  <thead>\n",
       "    <tr style=\"text-align: right;\">\n",
       "      <th></th>\n",
       "      <th>name</th>\n",
       "      <th>sequence</th>\n",
       "      <th>description</th>\n",
       "      <th>type</th>\n",
       "    </tr>\n",
       "  </thead>\n",
       "  <tbody>\n",
       "    <tr>\n",
       "      <th>3240</th>\n",
       "      <td>Mb0014c</td>\n",
       "      <td>CTACTGGCCGAACCTCAGCGTGATGATGCCGTCCCGGTTGACGCCGGTCCCCGCCGGCGGGTTTTGATAGACGACCCGGTTGTGTTGGGAGCCACCGGCGTCGACGTCGGCCCCTTTGTCGAGCATCCCGGTCCAGCCCAGCGCGC...</td>\n",
       "      <td>Mb0014c &lt;unknown description&gt;</td>\n",
       "      <td>CDS</td>\n",
       "    </tr>\n",
       "  </tbody>\n",
       "</table>\n",
       "</div>"
      ],
      "text/plain": [
       "         name                                                                                                                                               sequence                    description  \\\n",
       "3240  Mb0014c  CTACTGGCCGAACCTCAGCGTGATGATGCCGTCCCGGTTGACGCCGGTCCCCGCCGGCGGGTTTTGATAGACGACCCGGTTGTGTTGGGAGCCACCGGCGTCGACGTCGGCCCCTTTGTCGAGCATCCCGGTCCAGCCCAGCGCGC...  Mb0014c <unknown description>   \n",
       "\n",
       "     type  \n",
       "3240  CDS  "
      ]
     },
     "execution_count": 635,
     "metadata": {},
     "output_type": "execute_result"
    }
   ],
   "source": [
    "fastafile='/storage/btbgenie/annotation_assembly/1034.fa'\n",
    "df = pg.tools.fasta_to_dataframe(fastafile)\n",
    "df[df.name=='Mb0014c']"
   ]
  },
  {
   "cell_type": "code",
   "execution_count": 10,
   "id": "18704833-b679-49c8-b459-4d0ca72ee22a",
   "metadata": {},
   "outputs": [],
   "source": [
    "def find_alleles(fastafile):\n",
    "    \"\"\"Find allele by simple matches to the reference table of known sequences.\n",
    "    Returns:\n",
    "        dataframe with allele number for each gene\n",
    "        dataframe with new alleles to add to db\n",
    "    \"\"\"\n",
    "    \n",
    "    db = pd.read_csv('mlst_db.csv.gz')\n",
    "    names = db.name.unique()\n",
    "    df = pg.tools.fasta_to_dataframe(fastafile).reset_index()\n",
    "    #print (df.iloc[0])\n",
    "    result=[]\n",
    "    new=[]\n",
    "    for name in names:\n",
    "        #print (name)\n",
    "        s = db[db.name==name]\n",
    "        gene = df[df.name==name]\n",
    "        #print (gene)\n",
    "        if len(gene)==0:\n",
    "            #print (name)\n",
    "            #missing gene in target\n",
    "            result.append((name,0))\n",
    "            continue\n",
    "        target = gene.iloc[0].sequence\n",
    "        found = s[s.sequence==target]        \n",
    "        #print (target,found)\n",
    "        if len(found)>0:\n",
    "            found = found.iloc[0]\n",
    "            result.append((name,found.allele))\n",
    "        else:\n",
    "            #assign new allele            \n",
    "            newallele = s.allele.max()+1\n",
    "            result.append((name,newallele))\n",
    "            new.append([name,newallele,target])\n",
    "    prof = pd.DataFrame(result,columns=['name','allele'])\n",
    "    prof['allele'] = prof.allele.astype(int)\n",
    "    #new additions\n",
    "    new = pd.DataFrame(new,columns=['name','allele','sequence'])\n",
    "    return prof, new\n",
    "    \n",
    "def update_mlst_db(new):\n",
    "    \"\"\"Update the database of MLST profiles\"\"\"\n",
    "    \n",
    "    db = pd.read_csv('mlst_db.csv.gz')\n",
    "    db = pd.concat([db,new])\n",
    "    db.to_csv('mlst_db.csv.gz', index=False, compression='gzip')\n",
    "    print ('added %s new alleles' %len(new))\n",
    "    return\n",
    "\n",
    "fastafile='26-Mbovis.fa'\n",
    "prof,new = find_alleles(fastafile)\n",
    "#update_mlst_db(new)\n",
    "#print (prof[:100])"
   ]
  },
  {
   "cell_type": "code",
   "execution_count": null,
   "id": "0aaa32a2-0d5f-44e7-b5d9-95148f858e9e",
   "metadata": {},
   "outputs": [],
   "source": [
    "def type_sample(fastafile, outfile, threads=4, overwrite=False):\n",
    "    \"\"\"Type a single sample using wgMLST.\n",
    "    Args:\n",
    "        fastafile: fasta file to type from assembly or other\n",
    "        \n",
    "        path: output folder for annotations\n",
    "    Returns:\n",
    "        dataframe of MLST profile\n",
    "    \"\"\"\n",
    "    \n",
    "    if overwrite == True or not os.path.exists(outfile):\n",
    "        #annotate\n",
    "        featdf,recs = pg.run_annotation(fastafile, threads=threads,\n",
    "                                        kingdom='bacteria', trusted=ref_proteins)\n",
    "        #get nucl sequences from annotation    \n",
    "        SeqIO.write(recs,'temp.gb','genbank')\n",
    "        get_nucleotide_sequences('temp.gb',outfile,idkey='protein_id')\n",
    "    \n",
    "    #find alleles\n",
    "    res,new = find_alleles(outfile)\n",
    "    #print (res)\n",
    "    #update db\n",
    "    update_mlst_db(new)\n",
    "    return res\n",
    "\n",
    "get_consensus(vcf_file, '26-MBovis')\n",
    "fastafile = 'consensus.fa'\n",
    "res = type_sample(fastafile, '26-Mbovis.fa', threads=10)"
   ]
  },
  {
   "cell_type": "code",
   "execution_count": 15,
   "id": "fdc652d8-7609-4250-a71a-0431f6bb5c70",
   "metadata": {},
   "outputs": [],
   "source": [
    "def get_profile_string(df):\n",
    "    return ''.join(df.allele.astype(str))"
   ]
  },
  {
   "cell_type": "markdown",
   "id": "ea02a7c5-940e-4566-8bda-11ddd4d97244",
   "metadata": {},
   "source": [
    "## profiles from assembly - not needed?"
   ]
  },
  {
   "cell_type": "code",
   "execution_count": null,
   "id": "3a1e6f8a-e49d-411d-99b4-7904aefa2676",
   "metadata": {},
   "outputs": [],
   "source": [
    "profs = {}\n",
    "omit=['182-MBovis','19-4281','19-2438']\n",
    "samples=glob.glob(os.path.join(assembly_path,'*.fa'))\n",
    "pdf=pd.DataFrame()\n",
    "for s in samples:\n",
    "    print (s)\n",
    "    sample = os.path.splitext(os.path.basename(s))[0]    \n",
    "    if sample in omit:\n",
    "        continue\n",
    "    profile = type_sample(s, '/storage/btbgenie/annotation_assembly/%s.fa' %sample, threads=12)\n",
    "    pdf[sample] = profile['allele']\n",
    "    profs[sample] = get_profile_string(profile)"
   ]
  },
  {
   "cell_type": "markdown",
   "id": "c3201168-0b53-4d6e-b990-f171924c03b5",
   "metadata": {},
   "source": [
    "## profiles from consensus seqs"
   ]
  },
  {
   "cell_type": "code",
   "execution_count": null,
   "id": "c3cfa8f4-3452-4dff-b8f7-dc32c4d1a7e9",
   "metadata": {},
   "outputs": [],
   "source": [
    "omit=['182-MBovis','19-4281','19-2438']\n",
    "\n",
    "def run_samples(vcf_file, outdir, omit=[], **kwargs):\n",
    "    \"\"\"Run samples in a vcf file.\n",
    "    Args:\n",
    "        vcf_file: multi sample variant file from previous calling\n",
    "        outdir: folder for writing intermediate files\n",
    "    Returns:\n",
    "        dict of mst profiles\n",
    "    \"\"\"\n",
    "\n",
    "    profs = {}\n",
    "    samplenames = get_samples_vcf(vcf_file)\n",
    "    print (samplenames)\n",
    "    for s in samplenames[:15]:\n",
    "        print (s)\n",
    "        if s in omit or s =='':\n",
    "            continue\n",
    "        get_consensus(vcf_file, s)\n",
    "        outfile = os.path.join(outdir, '%s.fa' %s)\n",
    "        profile = type_sample('consensus.fa', outfile, **kwargs)\n",
    "        profs[s] = get_profile_string(profile)\n",
    "    return profs\n",
    "\n",
    "profs = run_samples(vcf_file, '/storage/btbgenie/annotation_consensus', threads=12, omit=omit)"
   ]
  },
  {
   "cell_type": "code",
   "execution_count": null,
   "id": "74b4ea83-c6fa-46bc-934d-114b0a97fc56",
   "metadata": {},
   "outputs": [],
   "source": [
    "for i in profs:\n",
    "    print (i,len(profs[i]))"
   ]
  },
  {
   "cell_type": "markdown",
   "id": "9bdacafc-a95c-4201-93b8-733d3a77e52a",
   "metadata": {},
   "source": [
    "## find distances between mlst profiles"
   ]
  },
  {
   "cell_type": "code",
   "execution_count": 21,
   "id": "68e8b4de-4e52-4aae-8fe4-80eba13d3abf",
   "metadata": {},
   "outputs": [
    {
     "data": {
      "text/plain": [
       "2"
      ]
     },
     "execution_count": 21,
     "metadata": {},
     "output_type": "execute_result"
    }
   ],
   "source": [
    "def diff_profiles(s1, s2):\n",
    "    #print (list(zip(list(s1), list(s2))))\n",
    "    return sum(1 for a, b in zip(list(s1), list(s2)) if a != b)\n",
    "\n",
    "diff_profiles('AAABBBB','AAABBCC')"
   ]
  },
  {
   "cell_type": "code",
   "execution_count": 19,
   "id": "660e437c-92aa-4809-a244-e5fdc2927870",
   "metadata": {},
   "outputs": [],
   "source": [
    "def dist_matrix(profiles):\n",
    "    \"\"\"Distance matrix of a set of profiles\"\"\"\n",
    "    \n",
    "    dist=[]\n",
    "    for s in profiles:\n",
    "        x=profiles[s]\n",
    "        row=[]\n",
    "        for s in profiles:\n",
    "            d = diff_profiles(x,profiles[s])\n",
    "            row.append(d)\n",
    "        dist.append(row)\n",
    "    D = pd.DataFrame(dist,columns=profiles.keys(),index=profiles.keys())\n",
    "    return D"
   ]
  },
  {
   "cell_type": "code",
   "execution_count": 1153,
   "id": "5743d878-a7a9-43a2-b926-4b788ac2e8b9",
   "metadata": {},
   "outputs": [],
   "source": [
    "def tree_from_distmatrix(D, treefile):\n",
    "    \n",
    "    from skbio import DistanceMatrix\n",
    "    from skbio.tree import nj\n",
    "    ids = list(D.index)\n",
    "    dm = DistanceMatrix(D.values, ids)\n",
    "    tree = nj(dm)\n",
    "    #print(tree.ascii_art())\n",
    "    tree.write(treefile, 'newick')\n",
    "    return tree"
   ]
  },
  {
   "cell_type": "code",
   "execution_count": null,
   "id": "09d0f523-b5eb-4fc2-af3e-95b499d153e4",
   "metadata": {},
   "outputs": [],
   "source": [
    "import random\n",
    "test = {'A':'1112233','B':'1112213','C':'2111213','D':'2111232','E':'212211','F':'2111222'}\n",
    "\n",
    "d = dist_matrix(test)\n",
    "tree_from_distmatrix(d)\n",
    "tre = toytree.tree(treefile)\n",
    "canvas,t,r=tre.draw(layout='r',scalebar=True,width=500)\n",
    "sns.clustermap(d,figsize=(5,5))"
   ]
  },
  {
   "cell_type": "code",
   "execution_count": 1154,
   "id": "3165e7d3-a5b3-4065-a27b-98745581292e",
   "metadata": {},
   "outputs": [
    {
     "data": {
      "text/html": [
       "<div class=\"toyplot\" id=\"t6150b6d66d5f4aa5adfe8eed24300ad0\" style=\"text-align:center\"><svg class=\"toyplot-canvas-Canvas\" xmlns:toyplot=\"http://www.sandia.gov/toyplot\" xmlns:xlink=\"http://www.w3.org/1999/xlink\" xmlns=\"http://www.w3.org/2000/svg\" width=\"500.0px\" height=\"400.0px\" viewBox=\"0 0 500.0 400.0\" preserveAspectRatio=\"xMidYMid meet\" style=\"background-color:transparent;border-color:#292724;border-style:none;border-width:1.0;fill:rgb(16.1%,15.3%,14.1%);fill-opacity:1.0;font-family:Helvetica;font-size:12px;opacity:1.0;stroke:rgb(16.1%,15.3%,14.1%);stroke-opacity:1.0;stroke-width:1.0\" id=\"t54a266c9bbe14f1b8584ee93b0bfd8f4\"><g class=\"toyplot-coordinates-Cartesian\" id=\"t0050808e46e842cd9ece9375b9b64a9a\"><clipPath id=\"t0c72279f006e4473a5da6911a235d6c8\"><rect x=\"30.0\" y=\"30.0\" width=\"440.0\" height=\"340.0\"></rect></clipPath><g clip-path=\"url(#t0c72279f006e4473a5da6911a235d6c8)\"><g class=\"toytree-mark-Toytree\" id=\"t3ce0ce5e83bd41f9adf1c3c57d748a62\"><g class=\"toytree-Edges\" style=\"fill:none;stroke:rgb(14.9%,14.9%,14.9%);stroke-linecap:round;stroke-opacity:1;stroke-width:2\"><path d=\"M 51.7 120.0 L 51.7 178.4 L 127.8 178.4\" id=\"26,25\"></path><path d=\"M 127.8 178.4 L 127.8 117.5 L 134.9 117.5\" id=\"25,24\"></path><path d=\"M 127.8 178.4 L 127.8 239.3 L 178.9 239.3\" id=\"25,23\"></path><path d=\"M 134.9 117.5 L 134.9 93.6 L 186.3 93.6\" id=\"24,22\"></path><path d=\"M 134.9 117.5 L 134.9 141.5 L 161.7 141.5\" id=\"24,21\"></path><path d=\"M 178.9 239.3 L 178.9 205.3 L 216.3 205.3\" id=\"23,20\"></path><path d=\"M 178.9 239.3 L 178.9 273.2 L 239.7 273.2\" id=\"23,19\"></path><path d=\"M 161.7 141.5 L 161.7 157.4 L 192.1 157.4\" id=\"21,18\"></path><path d=\"M 216.3 205.3 L 216.3 221.3 L 239.4 221.3\" id=\"20,17\"></path><path d=\"M 239.7 273.2 L 239.7 293.1 L 262.5 293.1\" id=\"19,16\"></path><path d=\"M 262.5 293.1 L 262.5 311.8 L 283.0 311.8\" id=\"16,15\"></path><path d=\"M 283.0 311.8 L 283.0 327.7 L 309.0 327.7\" id=\"15,14\"></path><path d=\"M 51.7 120.0 L 51.7 61.6 L 127.8 61.6\" id=\"26,13\"></path><path d=\"M 186.3 93.6 L 186.3 82.9 L 326.8 82.9\" id=\"22,12\"></path><path d=\"M 186.3 93.6 L 186.3 104.2 L 261.7 104.2\" id=\"22,11\"></path><path d=\"M 161.7 141.5 L 161.7 125.5 L 261.0 125.5\" id=\"21,10\"></path><path d=\"M 192.1 157.4 L 192.1 146.8 L 294.7 146.8\" id=\"18,9\"></path><path d=\"M 192.1 157.4 L 192.1 168.1 L 391.7 168.1\" id=\"18,8\"></path><path d=\"M 216.3 205.3 L 216.3 189.4 L 279.6 189.4\" id=\"20,7\"></path><path d=\"M 239.4 221.3 L 239.4 210.6 L 300.9 210.6\" id=\"17,6\"></path><path d=\"M 239.4 221.3 L 239.4 231.9 L 307.5 231.9\" id=\"17,5\"></path><path d=\"M 239.7 273.2 L 239.7 253.2 L 322.2 253.2\" id=\"19,4\"></path><path d=\"M 262.5 293.1 L 262.5 274.5 L 333.7 274.5\" id=\"16,3\"></path><path d=\"M 283.0 311.8 L 283.0 295.8 L 354.2 295.8\" id=\"15,2\"></path><path d=\"M 309.0 327.7 L 309.0 317.1 L 338.7 317.1\" id=\"14,1\"></path><path d=\"M 309.0 327.7 L 309.0 338.4 L 365.7 338.4\" id=\"14,0\"></path></g><g class=\"toytree-TipLabels\" style=\"fill:rgb(14.9%,14.9%,14.9%);fill-opacity:1.0;font-family:helvetica;font-size:11px;font-weight:normal;stroke:none;white-space:pre\"><g transform=\"translate(365.69,338.38)rotate(0)\"><text x=\"15.00\" y=\"2.81\" style=\"\">42-MBovis</text></g><g transform=\"translate(338.70,317.09)rotate(0)\"><text x=\"15.00\" y=\"2.81\" style=\"\">59-MBovis</text></g><g transform=\"translate(354.16,295.80)rotate(0)\"><text x=\"15.00\" y=\"2.81\" style=\"\">37-MBovis</text></g><g transform=\"translate(333.75,274.51)rotate(0)\"><text x=\"15.00\" y=\"2.81\" style=\"\">38-MBovis</text></g><g transform=\"translate(322.17,253.22)rotate(0)\"><text x=\"15.00\" y=\"2.81\" style=\"\">23-MBovis</text></g><g transform=\"translate(307.46,231.93)rotate(0)\"><text x=\"15.00\" y=\"2.81\" style=\"\">25-MBovis</text></g><g transform=\"translate(300.88,210.64)rotate(0)\"><text x=\"15.00\" y=\"2.81\" style=\"\">39-MBovis</text></g><g transform=\"translate(279.59,189.36)rotate(0)\"><text x=\"15.00\" y=\"2.81\" style=\"\">49-MBovis</text></g><g transform=\"translate(391.70,168.07)rotate(0)\"><text x=\"15.00\" y=\"2.81\" style=\"\">1034</text></g><g transform=\"translate(294.71,146.78)rotate(0)\"><text x=\"15.00\" y=\"2.81\" style=\"\">50-MBovis</text></g><g transform=\"translate(261.00,125.49)rotate(0)\"><text x=\"15.00\" y=\"2.81\" style=\"\">36-MBovis</text></g><g transform=\"translate(261.67,104.20)rotate(0)\"><text x=\"15.00\" y=\"2.81\" style=\"\">24-MBovis</text></g><g transform=\"translate(326.85,82.91)rotate(0)\"><text x=\"15.00\" y=\"2.81\" style=\"\">29-MBovis</text></g><g transform=\"translate(127.76,61.62)rotate(0)\"><text x=\"15.00\" y=\"2.81\" style=\"\">43-MBovis</text></g></g></g></g><g class=\"toyplot-coordinates-Axis\" id=\"t0c493867255b462080f3171d21466c65\" transform=\"translate(50.0,350.0)translate(0,20.0)\"><line x1=\"1.7000200055184846\" y1=\"0\" x2=\"341.7040211092245\" y2=\"0\" style=\"\"></line><g><line x1=\"341.7040211092245\" y1=\"0\" x2=\"341.7040211092245\" y2=\"-5\" style=\"\"></line><line x1=\"256.703020833298\" y1=\"0\" x2=\"256.703020833298\" y2=\"-5\" style=\"\"></line><line x1=\"171.7020205573715\" y1=\"0\" x2=\"171.7020205573715\" y2=\"-5\" style=\"\"></line><line x1=\"86.70102028144498\" y1=\"0\" x2=\"86.70102028144498\" y2=\"-5\" style=\"\"></line><line x1=\"1.7000200055184465\" y1=\"0\" x2=\"1.7000200055184465\" y2=\"-5\" style=\"\"></line></g><g><g transform=\"translate(341.7040211092245,6)\"><text x=\"-2.78\" y=\"8.555\" style=\"fill:rgb(16.1%,15.3%,14.1%);fill-opacity:1.0;font-family:helvetica;font-size:10.0px;font-weight:normal;stroke:none;vertical-align:baseline;white-space:pre\">0</text></g><g transform=\"translate(256.703020833298,6)\"><text x=\"-2.78\" y=\"8.555\" style=\"fill:rgb(16.1%,15.3%,14.1%);fill-opacity:1.0;font-family:helvetica;font-size:10.0px;font-weight:normal;stroke:none;vertical-align:baseline;white-space:pre\">8</text></g><g transform=\"translate(171.7020205573715,6)\"><text x=\"-5.56\" y=\"8.555\" style=\"fill:rgb(16.1%,15.3%,14.1%);fill-opacity:1.0;font-family:helvetica;font-size:10.0px;font-weight:normal;stroke:none;vertical-align:baseline;white-space:pre\">16</text></g><g transform=\"translate(86.70102028144498,6)\"><text x=\"-5.56\" y=\"8.555\" style=\"fill:rgb(16.1%,15.3%,14.1%);fill-opacity:1.0;font-family:helvetica;font-size:10.0px;font-weight:normal;stroke:none;vertical-align:baseline;white-space:pre\">24</text></g><g transform=\"translate(1.7000200055184465,6)\"><text x=\"-5.56\" y=\"8.555\" style=\"fill:rgb(16.1%,15.3%,14.1%);fill-opacity:1.0;font-family:helvetica;font-size:10.0px;font-weight:normal;stroke:none;vertical-align:baseline;white-space:pre\">31</text></g></g><g class=\"toyplot-coordinates-Axis-coordinates\" style=\"visibility:hidden\" transform=\"\"><line x1=\"0\" x2=\"0\" y1=\"-3.0\" y2=\"4.5\" style=\"stroke:rgb(43.9%,50.2%,56.5%);stroke-opacity:1.0;stroke-width:1.0\"></line><text x=\"0\" y=\"-6\" style=\"alignment-baseline:alphabetic;fill:rgb(43.9%,50.2%,56.5%);fill-opacity:1.0;font-size:10px;font-weight:normal;stroke:none;text-anchor:middle\"></text></g></g></g></svg><div class=\"toyplot-behavior\"><script>(function()\n",
       "{\n",
       "var modules={};\n",
       "modules[\"toyplot/canvas/id\"] = \"t54a266c9bbe14f1b8584ee93b0bfd8f4\";\n",
       "modules[\"toyplot/canvas\"] = (function(canvas_id)\n",
       "    {\n",
       "        return document.querySelector(\"#\" + canvas_id);\n",
       "    })(modules[\"toyplot/canvas/id\"]);\n",
       "modules[\"toyplot.coordinates.Axis\"] = (\n",
       "        function(canvas)\n",
       "        {\n",
       "            function sign(x)\n",
       "            {\n",
       "                return x < 0 ? -1 : x > 0 ? 1 : 0;\n",
       "            }\n",
       "\n",
       "            function mix(a, b, amount)\n",
       "            {\n",
       "                return ((1.0 - amount) * a) + (amount * b);\n",
       "            }\n",
       "\n",
       "            function log(x, base)\n",
       "            {\n",
       "                return Math.log(Math.abs(x)) / Math.log(base);\n",
       "            }\n",
       "\n",
       "            function in_range(a, x, b)\n",
       "            {\n",
       "                var left = Math.min(a, b);\n",
       "                var right = Math.max(a, b);\n",
       "                return left <= x && x <= right;\n",
       "            }\n",
       "\n",
       "            function inside(range, projection)\n",
       "            {\n",
       "                for(var i = 0; i != projection.length; ++i)\n",
       "                {\n",
       "                    var segment = projection[i];\n",
       "                    if(in_range(segment.range.min, range, segment.range.max))\n",
       "                        return true;\n",
       "                }\n",
       "                return false;\n",
       "            }\n",
       "\n",
       "            function to_domain(range, projection)\n",
       "            {\n",
       "                for(var i = 0; i != projection.length; ++i)\n",
       "                {\n",
       "                    var segment = projection[i];\n",
       "                    if(in_range(segment.range.bounds.min, range, segment.range.bounds.max))\n",
       "                    {\n",
       "                        if(segment.scale == \"linear\")\n",
       "                        {\n",
       "                            var amount = (range - segment.range.min) / (segment.range.max - segment.range.min);\n",
       "                            return mix(segment.domain.min, segment.domain.max, amount)\n",
       "                        }\n",
       "                        else if(segment.scale[0] == \"log\")\n",
       "                        {\n",
       "                            var amount = (range - segment.range.min) / (segment.range.max - segment.range.min);\n",
       "                            var base = segment.scale[1];\n",
       "                            return sign(segment.domain.min) * Math.pow(base, mix(log(segment.domain.min, base), log(segment.domain.max, base), amount));\n",
       "                        }\n",
       "                    }\n",
       "                }\n",
       "            }\n",
       "\n",
       "            var axes = {};\n",
       "\n",
       "            function display_coordinates(e)\n",
       "            {\n",
       "                var current = canvas.createSVGPoint();\n",
       "                current.x = e.clientX;\n",
       "                current.y = e.clientY;\n",
       "\n",
       "                for(var axis_id in axes)\n",
       "                {\n",
       "                    var axis = document.querySelector(\"#\" + axis_id);\n",
       "                    var coordinates = axis.querySelector(\".toyplot-coordinates-Axis-coordinates\");\n",
       "                    if(coordinates)\n",
       "                    {\n",
       "                        var projection = axes[axis_id];\n",
       "                        var local = current.matrixTransform(axis.getScreenCTM().inverse());\n",
       "                        if(inside(local.x, projection))\n",
       "                        {\n",
       "                            var domain = to_domain(local.x, projection);\n",
       "                            coordinates.style.visibility = \"visible\";\n",
       "                            coordinates.setAttribute(\"transform\", \"translate(\" + local.x + \")\");\n",
       "                            var text = coordinates.querySelector(\"text\");\n",
       "                            text.textContent = domain.toFixed(2);\n",
       "                        }\n",
       "                        else\n",
       "                        {\n",
       "                            coordinates.style.visibility= \"hidden\";\n",
       "                        }\n",
       "                    }\n",
       "                }\n",
       "            }\n",
       "\n",
       "            canvas.addEventListener(\"click\", display_coordinates);\n",
       "\n",
       "            var module = {};\n",
       "            module.show_coordinates = function(axis_id, projection)\n",
       "            {\n",
       "                axes[axis_id] = projection;\n",
       "            }\n",
       "\n",
       "            return module;\n",
       "        })(modules[\"toyplot/canvas\"]);\n",
       "(function(axis, axis_id, projection)\n",
       "        {\n",
       "            axis.show_coordinates(axis_id, projection);\n",
       "        })(modules[\"toyplot.coordinates.Axis\"],\"t0c493867255b462080f3171d21466c65\",[{\"domain\": {\"bounds\": {\"max\": Infinity, \"min\": -Infinity}, \"max\": 5.399659626342492, \"min\": -31.650303194999992}, \"range\": {\"bounds\": {\"max\": Infinity, \"min\": -Infinity}, \"max\": 400.0, \"min\": 0.0}, \"scale\": \"linear\"}]);\n",
       "})();</script></div></div>"
      ]
     },
     "metadata": {},
     "output_type": "display_data"
    }
   ],
   "source": [
    "D = dist_matrix(profs)\n",
    "D.to_csv('dist_mlst.csv',index=False)\n",
    "#sns.clustermap(D,xticklabels=True,yticklabels=True,figsize=(6,6))\n",
    "treefile='temp.newick'\n",
    "tree_from_distmatrix(D, treefile)\n",
    "tre = toytree.tree(treefile)\n",
    "tre=tre.root('43-MBovis')\n",
    "canvas,t,r=tre.draw(layout='r',scalebar=True,height=400,width=500)\n",
    "import toyplot.png\n",
    "#toyplot.png.render(canvas, \"mlst-tree.png\")"
   ]
  },
  {
   "cell_type": "code",
   "execution_count": 1155,
   "id": "ea9b1f21-c3b7-46f0-93f4-4e3bc503c246",
   "metadata": {},
   "outputs": [
    {
     "data": {
      "text/html": [
       "<div class=\"toyplot\" id=\"t07b52b4f052f4c0baa98f885e09a87ca\" style=\"text-align:center\"><svg class=\"toyplot-canvas-Canvas\" xmlns:toyplot=\"http://www.sandia.gov/toyplot\" xmlns:xlink=\"http://www.w3.org/1999/xlink\" xmlns=\"http://www.w3.org/2000/svg\" width=\"500.0px\" height=\"400.0px\" viewBox=\"0 0 500.0 400.0\" preserveAspectRatio=\"xMidYMid meet\" style=\"background-color:transparent;border-color:#292724;border-style:none;border-width:1.0;fill:rgb(16.1%,15.3%,14.1%);fill-opacity:1.0;font-family:Helvetica;font-size:12px;opacity:1.0;stroke:rgb(16.1%,15.3%,14.1%);stroke-opacity:1.0;stroke-width:1.0\" id=\"tfc8e8cbfaade4ae9944a33a00bdd5e22\"><g class=\"toyplot-coordinates-Cartesian\" id=\"tc26f40a40084498b8e8407422f4b5368\"><clipPath id=\"td9011681eef74424bde378457e4449eb\"><rect x=\"30.0\" y=\"30.0\" width=\"440.0\" height=\"340.0\"></rect></clipPath><g clip-path=\"url(#td9011681eef74424bde378457e4449eb)\"><g class=\"toytree-mark-Toytree\" id=\"tacbfb91859034a02ba59d7de930008e2\"><g class=\"toytree-Edges\" style=\"fill:none;stroke:rgb(14.9%,14.9%,14.9%);stroke-linecap:round;stroke-opacity:1;stroke-width:2\"><path d=\"M 51.6 99.9 L 51.6 138.1 L 64.9 138.1\" id=\"26,25\"></path><path d=\"M 64.9 138.1 L 64.9 193.3 L 67.8 193.3\" id=\"25,24\"></path><path d=\"M 67.8 193.3 L 67.8 136.1 L 76.6 136.1\" id=\"24,23\"></path><path d=\"M 67.8 193.3 L 67.8 250.6 L 85.5 250.6\" id=\"24,22\"></path><path d=\"M 76.6 136.1 L 76.6 114.8 L 97.5 114.8\" id=\"23,21\"></path><path d=\"M 76.6 136.1 L 76.6 157.4 L 97.2 157.4\" id=\"23,20\"></path><path d=\"M 85.5 250.6 L 85.5 208.0 L 85.5 208.0\" id=\"22,19\"></path><path d=\"M 85.5 250.6 L 85.5 293.1 L 85.5 293.1\" id=\"22,18\"></path><path d=\"M 85.5 208.0 L 85.5 226.6 L 91.3 226.6\" id=\"19,17\"></path><path d=\"M 85.5 293.1 L 85.5 311.8 L 88.4 311.8\" id=\"18,16\"></path><path d=\"M 91.3 226.6 L 91.3 242.6 L 100.1 242.6\" id=\"17,15\"></path><path d=\"M 88.4 311.8 L 88.4 327.7 L 103.1 327.7\" id=\"16,14\"></path><path d=\"M 51.6 99.9 L 51.6 61.6 L 64.9 61.6\" id=\"26,13\"></path><path d=\"M 64.9 138.1 L 64.9 82.9 L 115.6 82.9\" id=\"25,12\"></path><path d=\"M 97.5 114.8 L 97.5 104.2 L 97.5 104.2\" id=\"21,11\"></path><path d=\"M 97.5 114.8 L 97.5 125.5 L 100.4 125.5\" id=\"21,10\"></path><path d=\"M 97.2 157.4 L 97.2 146.8 L 97.2 146.8\" id=\"20,9\"></path><path d=\"M 97.2 157.4 L 97.2 168.1 L 97.2 168.1\" id=\"20,8\"></path><path d=\"M 85.5 208.0 L 85.5 189.4 L 97.1 189.4\" id=\"19,7\"></path><path d=\"M 91.3 226.6 L 91.3 210.6 L 103.0 210.6\" id=\"17,6\"></path><path d=\"M 100.1 242.6 L 100.1 231.9 L 370.8 231.9\" id=\"15,5\"></path><path d=\"M 100.1 242.6 L 100.1 253.2 L 100.1 253.2\" id=\"15,4\"></path><path d=\"M 85.5 293.1 L 85.5 274.5 L 97.2 274.5\" id=\"18,3\"></path><path d=\"M 88.4 311.8 L 88.4 295.8 L 97.1 295.8\" id=\"16,2\"></path><path d=\"M 103.1 327.7 L 103.1 317.1 L 106.0 317.1\" id=\"14,1\"></path><path d=\"M 103.1 327.7 L 103.1 338.4 L 103.1 338.4\" id=\"14,0\"></path></g><g class=\"toytree-TipLabels\" style=\"fill:rgb(14.9%,14.9%,14.9%);fill-opacity:1.0;font-family:helvetica;font-size:11px;font-weight:normal;stroke:none;white-space:pre\"><g transform=\"translate(103.09,338.38)rotate(0)\"><text x=\"15.00\" y=\"2.81\" style=\"\">42-MBovis</text></g><g transform=\"translate(105.99,317.09)rotate(0)\"><text x=\"15.00\" y=\"2.81\" style=\"\">59-MBovis</text></g><g transform=\"translate(97.15,295.80)rotate(0)\"><text x=\"15.00\" y=\"2.81\" style=\"\">37-MBovis</text></g><g transform=\"translate(97.16,274.51)rotate(0)\"><text x=\"15.00\" y=\"2.81\" style=\"\">38-MBovis</text></g><g transform=\"translate(100.13,253.22)rotate(0)\"><text x=\"15.00\" y=\"2.81\" style=\"\">49-MBovis</text></g><g transform=\"translate(370.84,231.93)rotate(0)\"><text x=\"15.00\" y=\"2.81\" style=\"\">39-MBovis</text></g><g transform=\"translate(103.04,210.64)rotate(0)\"><text x=\"15.00\" y=\"2.81\" style=\"\">23-MBovis</text></g><g transform=\"translate(97.14,189.36)rotate(0)\"><text x=\"15.00\" y=\"2.81\" style=\"\">25-MBovis</text></g><g transform=\"translate(97.21,168.07)rotate(0)\"><text x=\"15.00\" y=\"2.81\" style=\"\">50-MBovis</text></g><g transform=\"translate(97.21,146.78)rotate(0)\"><text x=\"15.00\" y=\"2.81\" style=\"\">36-MBovis</text></g><g transform=\"translate(100.41,125.49)rotate(0)\"><text x=\"15.00\" y=\"2.81\" style=\"\">29-MBovis</text></g><g transform=\"translate(97.49,104.20)rotate(0)\"><text x=\"15.00\" y=\"2.81\" style=\"\">24-MBovis</text></g><g transform=\"translate(115.58,82.91)rotate(0)\"><text x=\"15.00\" y=\"2.81\" style=\"\">1034</text></g><g transform=\"translate(64.91,61.62)rotate(0)\"><text x=\"15.00\" y=\"2.81\" style=\"\">43-MBovis</text></g></g></g></g><g class=\"toyplot-coordinates-Axis\" id=\"tacb9f897b6734b2db18d4941b6c2fef8\" transform=\"translate(50.0,350.0)translate(0,20.0)\"><line x1=\"1.5962233355879814\" y1=\"0\" x2=\"320.84089045318774\" y2=\"0\" style=\"\"></line><g><line x1=\"320.84089045318774\" y1=\"0\" x2=\"320.84089045318774\" y2=\"-5\" style=\"\"></line><line x1=\"241.0297236737878\" y1=\"0\" x2=\"241.0297236737878\" y2=\"-5\" style=\"\"></line><line x1=\"161.21855689438786\" y1=\"0\" x2=\"161.21855689438786\" y2=\"-5\" style=\"\"></line><line x1=\"81.4073901149879\" y1=\"0\" x2=\"81.4073901149879\" y2=\"-5\" style=\"\"></line><line x1=\"1.5962233355879814\" y1=\"0\" x2=\"1.5962233355879814\" y2=\"-5\" style=\"\"></line></g><g><g transform=\"translate(320.84089045318774,6)\"><text x=\"-9.729999999999999\" y=\"8.555\" style=\"fill:rgb(16.1%,15.3%,14.1%);fill-opacity:1.0;font-family:helvetica;font-size:10.0px;font-weight:normal;stroke:none;vertical-align:baseline;white-space:pre\">0.00</text></g><g transform=\"translate(241.0297236737878,6)\"><text x=\"-9.729999999999999\" y=\"8.555\" style=\"fill:rgb(16.1%,15.3%,14.1%);fill-opacity:1.0;font-family:helvetica;font-size:10.0px;font-weight:normal;stroke:none;vertical-align:baseline;white-space:pre\">0.05</text></g><g transform=\"translate(161.21855689438786,6)\"><text x=\"-9.729999999999999\" y=\"8.555\" style=\"fill:rgb(16.1%,15.3%,14.1%);fill-opacity:1.0;font-family:helvetica;font-size:10.0px;font-weight:normal;stroke:none;vertical-align:baseline;white-space:pre\">0.10</text></g><g transform=\"translate(81.4073901149879,6)\"><text x=\"-9.729999999999999\" y=\"8.555\" style=\"fill:rgb(16.1%,15.3%,14.1%);fill-opacity:1.0;font-family:helvetica;font-size:10.0px;font-weight:normal;stroke:none;vertical-align:baseline;white-space:pre\">0.16</text></g><g transform=\"translate(1.5962233355879814,6)\"><text x=\"-9.729999999999999\" y=\"8.555\" style=\"fill:rgb(16.1%,15.3%,14.1%);fill-opacity:1.0;font-family:helvetica;font-size:10.0px;font-weight:normal;stroke:none;vertical-align:baseline;white-space:pre\">0.21</text></g></g><g class=\"toyplot-coordinates-Axis-coordinates\" style=\"visibility:hidden\" transform=\"\"><line x1=\"0\" x2=\"0\" y1=\"-3.0\" y2=\"4.5\" style=\"stroke:rgb(43.9%,50.2%,56.5%);stroke-opacity:1.0;stroke-width:1.0\"></line><text x=\"0\" y=\"-6\" style=\"alignment-baseline:alphabetic;fill:rgb(43.9%,50.2%,56.5%);fill-opacity:1.0;font-size:10px;font-weight:normal;stroke:none;text-anchor:middle\"></text></g></g></g></svg><div class=\"toyplot-behavior\"><script>(function()\n",
       "{\n",
       "var modules={};\n",
       "modules[\"toyplot/canvas/id\"] = \"tfc8e8cbfaade4ae9944a33a00bdd5e22\";\n",
       "modules[\"toyplot/canvas\"] = (function(canvas_id)\n",
       "    {\n",
       "        return document.querySelector(\"#\" + canvas_id);\n",
       "    })(modules[\"toyplot/canvas/id\"]);\n",
       "modules[\"toyplot.coordinates.Axis\"] = (\n",
       "        function(canvas)\n",
       "        {\n",
       "            function sign(x)\n",
       "            {\n",
       "                return x < 0 ? -1 : x > 0 ? 1 : 0;\n",
       "            }\n",
       "\n",
       "            function mix(a, b, amount)\n",
       "            {\n",
       "                return ((1.0 - amount) * a) + (amount * b);\n",
       "            }\n",
       "\n",
       "            function log(x, base)\n",
       "            {\n",
       "                return Math.log(Math.abs(x)) / Math.log(base);\n",
       "            }\n",
       "\n",
       "            function in_range(a, x, b)\n",
       "            {\n",
       "                var left = Math.min(a, b);\n",
       "                var right = Math.max(a, b);\n",
       "                return left <= x && x <= right;\n",
       "            }\n",
       "\n",
       "            function inside(range, projection)\n",
       "            {\n",
       "                for(var i = 0; i != projection.length; ++i)\n",
       "                {\n",
       "                    var segment = projection[i];\n",
       "                    if(in_range(segment.range.min, range, segment.range.max))\n",
       "                        return true;\n",
       "                }\n",
       "                return false;\n",
       "            }\n",
       "\n",
       "            function to_domain(range, projection)\n",
       "            {\n",
       "                for(var i = 0; i != projection.length; ++i)\n",
       "                {\n",
       "                    var segment = projection[i];\n",
       "                    if(in_range(segment.range.bounds.min, range, segment.range.bounds.max))\n",
       "                    {\n",
       "                        if(segment.scale == \"linear\")\n",
       "                        {\n",
       "                            var amount = (range - segment.range.min) / (segment.range.max - segment.range.min);\n",
       "                            return mix(segment.domain.min, segment.domain.max, amount)\n",
       "                        }\n",
       "                        else if(segment.scale[0] == \"log\")\n",
       "                        {\n",
       "                            var amount = (range - segment.range.min) / (segment.range.max - segment.range.min);\n",
       "                            var base = segment.scale[1];\n",
       "                            return sign(segment.domain.min) * Math.pow(base, mix(log(segment.domain.min, base), log(segment.domain.max, base), amount));\n",
       "                        }\n",
       "                    }\n",
       "                }\n",
       "            }\n",
       "\n",
       "            var axes = {};\n",
       "\n",
       "            function display_coordinates(e)\n",
       "            {\n",
       "                var current = canvas.createSVGPoint();\n",
       "                current.x = e.clientX;\n",
       "                current.y = e.clientY;\n",
       "\n",
       "                for(var axis_id in axes)\n",
       "                {\n",
       "                    var axis = document.querySelector(\"#\" + axis_id);\n",
       "                    var coordinates = axis.querySelector(\".toyplot-coordinates-Axis-coordinates\");\n",
       "                    if(coordinates)\n",
       "                    {\n",
       "                        var projection = axes[axis_id];\n",
       "                        var local = current.matrixTransform(axis.getScreenCTM().inverse());\n",
       "                        if(inside(local.x, projection))\n",
       "                        {\n",
       "                            var domain = to_domain(local.x, projection);\n",
       "                            coordinates.style.visibility = \"visible\";\n",
       "                            coordinates.setAttribute(\"transform\", \"translate(\" + local.x + \")\");\n",
       "                            var text = coordinates.querySelector(\"text\");\n",
       "                            text.textContent = domain.toFixed(2);\n",
       "                        }\n",
       "                        else\n",
       "                        {\n",
       "                            coordinates.style.visibility= \"hidden\";\n",
       "                        }\n",
       "                    }\n",
       "                }\n",
       "            }\n",
       "\n",
       "            canvas.addEventListener(\"click\", display_coordinates);\n",
       "\n",
       "            var module = {};\n",
       "            module.show_coordinates = function(axis_id, projection)\n",
       "            {\n",
       "                axes[axis_id] = projection;\n",
       "            }\n",
       "\n",
       "            return module;\n",
       "        })(modules[\"toyplot/canvas\"]);\n",
       "(function(axis, axis_id, projection)\n",
       "        {\n",
       "            axis.show_coordinates(axis_id, projection);\n",
       "        })(modules[\"toyplot.coordinates.Axis\"],\"tacb9f897b6734b2db18d4941b6c2fef8\",[{\"domain\": {\"bounds\": {\"max\": Infinity, \"min\": -Infinity}, \"max\": 0.05128982920646627, \"min\": -0.20788352178296113}, \"range\": {\"bounds\": {\"max\": Infinity, \"min\": -Infinity}, \"max\": 400.0, \"min\": 0.0}, \"scale\": \"linear\"}]);\n",
       "})();</script></div></div>"
      ]
     },
     "metadata": {},
     "output_type": "display_data"
    }
   ],
   "source": [
    "tre2 = toytree.tree('/storage/btbgenie/wicklow_results/RAxML_bestTree.variants')\n",
    "#tre2 = toytree.tree('snps.newick')\n",
    "drop = list(set(tre2.get_tip_labels()) - set(tre.get_tip_labels()))\n",
    "tre2=tre2.drop_tips(drop)\n",
    "tre2=tre2.root('43-MBovis')\n",
    "canvas,t,r=tre2.draw(layout='r',scalebar=True,height=400,width=500)\n",
    "#toyplot.png.render(canvas, \"snp-tree.png\")"
   ]
  },
  {
   "cell_type": "code",
   "execution_count": 39,
   "id": "24e4e31b-87c0-4f89-a0e8-8de8e81ac12a",
   "metadata": {},
   "outputs": [],
   "source": [
    "import dendropy\n",
    "from dendropy.calculate import treecompare\n",
    "tns = dendropy.TaxonNamespace()\n",
    "tree1 = dendropy.Tree.get(path=treefile, schema='newick',taxon_namespace=tns)\n",
    "tree2 = dendropy.Tree.get(path='/storage/btbgenie/wicklow_results/RAxML_bestTree.variants', schema='newick',taxon_namespace=tns)\n",
    "core = pd.read_csv('/storage/btbgenie/wicklow_results/core.txt',sep=' ')\n",
    "p = len(core)\n",
    "tree=convert_branch_lengths(tree2, p)\n",
    "tree.write(path=\"snps.newick\",schema=\"newick\")"
   ]
  },
  {
   "cell_type": "code",
   "execution_count": 40,
   "id": "e759c544-f5e4-4b89-90c0-3edad69d0059",
   "metadata": {},
   "outputs": [
    {
     "name": "stdout",
     "output_type": "stream",
     "text": [
      "16.37713653314643\n"
     ]
    }
   ],
   "source": [
    "print(treecompare.euclidean_distance(tree1, tree2))"
   ]
  },
  {
   "cell_type": "markdown",
   "id": "d04212ed-5300-43f1-a9d1-f805d2bee14c",
   "metadata": {},
   "source": [
    "## convert branch lengths to snps"
   ]
  },
  {
   "cell_type": "code",
   "execution_count": 38,
   "id": "b54e1c67-db0d-4b17-b596-a84493f3bb8c",
   "metadata": {},
   "outputs": [],
   "source": [
    "def convert_branch_lengths(tree, n=1): \n",
    "    tree=dendropy.Tree(tree)\n",
    "    for edge in tree.postorder_edge_iter():\n",
    "        if edge.length is None:\n",
    "            edge.length = 0\n",
    "        else:\n",
    "            edge.length = float(edge.length)*n\n",
    "    newickstr=tree.as_string(schema='newick')\n",
    "    return tree\n"
   ]
  },
  {
   "cell_type": "markdown",
   "id": "0e9485ac-50a4-4e0f-a5fb-14062f54896c",
   "metadata": {},
   "source": [
    "## sensitivity analysis - SNPs vs MLST\n",
    "\n",
    "* artificial data?"
   ]
  },
  {
   "cell_type": "code",
   "execution_count": 1217,
   "id": "3be50351-ddf4-464b-b052-dd9764e67b09",
   "metadata": {},
   "outputs": [
    {
     "name": "stdout",
     "output_type": "stream",
     "text": [
      "TTGACCGATG\n"
     ]
    },
    {
     "data": {
      "text/plain": [
       "MutableSeq('TAAATGACCGATG')"
      ]
     },
     "execution_count": 1217,
     "metadata": {},
     "output_type": "execute_result"
    }
   ],
   "source": [
    "get_random_sequence(random.randint(2,10))\n",
    "from Bio.Seq import MutableSeq\n",
    "new = MutableSeq(str(ref.seq)[:10])\n",
    "print (new)\n",
    "for i in 'AAA':\n",
    "    new.insert(1,i)\n",
    "new"
   ]
  },
  {
   "cell_type": "code",
   "execution_count": 1237,
   "id": "b4ec1487-61bb-4744-8a53-96e43a7a3982",
   "metadata": {},
   "outputs": [
    {
     "name": "stdout",
     "output_type": "stream",
     "text": [
      "Node('/ref', seq=Seq('TTGACCGATGACCCCGGTTCAGGCTTCACCACAGTGTGGAACGCGGTCGTCTCC...TCG'))\n",
      "├── Node('/ref/A', n=40, seq=MutableSeq('TTGACCGATGACCCCGGTTCAGGCTTCACCACAGTGTGGAACGCGGTCGTCTCC...TCG'))\n",
      "│   └── Node('/ref/A/D', n=20, seq=MutableSeq('TTGACCGATGACCCCGGTTCAGGCTTCACCACAGTGTGGAACGCGGTCGTCTCC...TCG'))\n",
      "│       ├── Node('/ref/A/D/E', n=5, seq=MutableSeq('TTGACCGATGACCCCGGTTCAGGCTTCACCACAGTGTGGAACGCGGTCGTCTCC...TCG'))\n",
      "│       └── Node('/ref/A/D/F', n=60, seq=MutableSeq('TTGACCGATGACCCCGGTTCAGGCTTCACCACAGTGTGGAACGCGGTCGTCTCC...TCG'))\n",
      "└── Node('/ref/B', n=10, seq=MutableSeq('TTGACCGATGACCCCGGTTCAGGCTTCACCACAGTGTGGAACGCGGTCGTCTCC...TCG'))\n",
      "    └── Node('/ref/B/C', n=10, seq=MutableSeq('TTGACCGATGACCCCGGTTCAGGCTTCACCACAGTGTGGAACGCGGTCGTCTCC...TCG'))\n",
      "        ├── Node('/ref/B/C/G', n=40, seq=MutableSeq('TTGACCGATGACCCCGGTTCAGGCTTCACCACAGTGTGGAACGCGGTCGTCTCC...TCG'))\n",
      "        └── Node('/ref/B/C/H', n=15, seq=MutableSeq('TTGACCGATGACCCCGGTTCAGGCTTCACCACAGTGTGGAACGCGGTCGTCTCC...TCG'))\n"
     ]
    }
   ],
   "source": [
    "#simulate snps in genome\n",
    "\n",
    "ref = SeqIO.read('Mbovis-AF212297.2.gb',format='gb')\n",
    "\n",
    "def get_random_sequence(n=1):\n",
    "    return ''.join([random.choice(['A','G','C','T']) for i in range(n)])\n",
    "\n",
    "def mutate(seq, n=100):\n",
    "    \"\"\"create mutations\"\"\"\n",
    "    \n",
    "    from Bio.Seq import MutableSeq\n",
    "    new = MutableSeq(seq)\n",
    "    pos = random.sample(range(len(seq)),k=n)\n",
    "    #make snps\n",
    "    for i in pos:        \n",
    "        s = get_random_sequence()\n",
    "        new[i] = s        \n",
    "        #print (i,seq[i],new[i])\n",
    "    #insertions\n",
    "    for i in random.sample(range(len(seq)),k=20):\n",
    "        s = get_random_sequence(random.randint(2,20))\n",
    "        for c in s:\n",
    "            new.insert(i,c)  \n",
    "    #print (len(new))\n",
    "    return new, pos\n",
    "            \n",
    "def sim_pop(ref):\n",
    "    #simulate related genomes - crude\n",
    "    \n",
    "    from anytree import Node, RenderTree, AsciiStyle, PreOrderIter, importer\n",
    "    from anytree.exporter import DictExporter\n",
    "    from pprint import pprint\n",
    "    root = Node(\"ref\", seq=ref.seq )\n",
    "    b = Node(\"A\", parent=root, seq=None)\n",
    "    a = Node(\"B\", parent=root, seq=None)\n",
    "    c = Node(\"C\", parent=a, seq=None)\n",
    "    d = Node(\"D\", parent=b, seq=None)\n",
    "    e = Node(\"E\", parent=d, seq=None)\n",
    "    f = Node(\"F\", parent=d, seq=None)  \n",
    "    g = Node(\"G\", parent=c, seq=None)\n",
    "    h = Node(\"H\", parent=c, seq=None)\n",
    "    \n",
    "    #exporter = DictExporter()\n",
    "    #pprint(exporter.export(root))  \n",
    "    snps = {'A':40,'B':10,'C':10,'D':20,'E':5,'F':60,'G':40,'H':15}\n",
    "    positions=[]\n",
    "    for node in PreOrderIter(root):\n",
    "        if node.seq == None:\n",
    "            #node.n=random.randint(5,100)\n",
    "            node.n=snps[node.name]\n",
    "            node.seq,pos = mutate(str(node.parent.seq), n=node.n)\n",
    "            positions.extend(pos)\n",
    "                  \n",
    "    return root\n",
    "\n",
    "def make_fastq(outfile):\n",
    "    cmd = 'java -jar /local/ArtificialFastqGenerator/ArtificialFastqGenerator.jar -O {o}'\\\n",
    "          ' -R sim.fa -S \">temp\" -RL 150 -CMP 250 -CSD 0.2 -SE true'.format(o=outfile)\n",
    "    print (cmd)\n",
    "    subprocess.check_output(cmd, shell=True)\n",
    "    return\n",
    "\n",
    "def tree_fastqs(tr, outpath):\n",
    "    \n",
    "    for node in PreOrderIter(tr):\n",
    "        print (node)\n",
    "        if node.name=='ref':\n",
    "            continue\n",
    "        genome = SeqIO.write(SeqRecord(node.seq,id='temp'), 'sim.fa','fasta')\n",
    "        out = os.path.join(outpath,node.name)\n",
    "        make_fastq(out)\n",
    "    cmd = 'pigz {o}/*.fastq'\n",
    "    subprocess.check_output(cmd, shell=True)    \n",
    "    return\n",
    "\n",
    "#mutate(str(ref.seq))\n",
    "tr = sim_pop(ref)\n",
    "print(RenderTree(tr))    \n",
    "#tree_fastqs(tr, 'sim_fastq')\n"
   ]
  },
  {
   "cell_type": "code",
   "execution_count": null,
   "id": "d31fc35a-b9b3-4b13-b61a-806a64b3ba4a",
   "metadata": {},
   "outputs": [],
   "source": [
    "from joblib import Parallel, delayed\n",
    "import multiprocessing, time\n",
    "num_cores = multiprocessing.cpu_count()\n",
    "\n",
    "processed_list = Parallel(n_jobs=num_cores)(delayed(my_function(i,parameters) for i in inputs))\n",
    "#nodes = [node.name,node.seq for node in PreOrderIter(root)]\n"
   ]
  },
  {
   "cell_type": "code",
   "execution_count": 1093,
   "id": "c7c9c930-30b6-4964-b821-845894d4673d",
   "metadata": {},
   "outputs": [],
   "source": [
    "from anytree import Node, RenderTree, AsciiStyle, PreOrderIter\n",
    "from anytree.importer import DictImporter\n",
    "importer = DictImporter()\n",
    "data = {\n",
    "          'name': 'root',\n",
    "            'children': [{'a': 'sub0',\n",
    "                         'children': [{'name': 'sub0A', 'name': 'foo'}, {'name': 'sub0B'}]},\n",
    "         {'name': 'sub1'}]}\n",
    "root = importer.import_(data)\n",
    "    "
   ]
  },
  {
   "cell_type": "markdown",
   "id": "da56ff7b-6352-458a-a699-6ee3c331b455",
   "metadata": {},
   "source": [
    "## run snipgenie on simulated fastqs"
   ]
  },
  {
   "cell_type": "code",
   "execution_count": null,
   "id": "00ea3aac-057a-4fa3-9203-8978722aec39",
   "metadata": {},
   "outputs": [],
   "source": [
    "reload(app)\n",
    "args = {'threads':10, 'outdir': 'sim_results', 'labelsep':'_',\n",
    "        'input':['sim_fastq/'],# 'overwrite':True,\n",
    "         'species':'Mbovis-AF212297',        \n",
    "         'custom_filters': True,       \n",
    "         'buildtree':True}\n",
    "W = app.WorkFlow(**args)\n",
    "st = W.setup()\n",
    "W.run()"
   ]
  },
  {
   "cell_type": "code",
   "execution_count": 1234,
   "id": "b8edca85-547d-4bcc-b5d7-9f50f7e08b86",
   "metadata": {},
   "outputs": [
    {
     "data": {
      "text/html": [
       "<div class=\"toyplot\" id=\"t12c5835991e94f6eab83e8b69b2e3a6b\" style=\"text-align:center\"><svg class=\"toyplot-canvas-Canvas\" xmlns:toyplot=\"http://www.sandia.gov/toyplot\" xmlns:xlink=\"http://www.w3.org/1999/xlink\" xmlns=\"http://www.w3.org/2000/svg\" width=\"500.0px\" height=\"400.0px\" viewBox=\"0 0 500.0 400.0\" preserveAspectRatio=\"xMidYMid meet\" style=\"background-color:transparent;border-color:#292724;border-style:none;border-width:1.0;fill:rgb(16.1%,15.3%,14.1%);fill-opacity:1.0;font-family:Helvetica;font-size:12px;opacity:1.0;stroke:rgb(16.1%,15.3%,14.1%);stroke-opacity:1.0;stroke-width:1.0\" id=\"t50d09c4c83614356a40de4d0108ec33c\"><g class=\"toyplot-coordinates-Cartesian\" id=\"t94a11a64ae5a405c825714a17a5eab57\"><clipPath id=\"tb825b046f97347a7908d8f81b357f242\"><rect x=\"30.0\" y=\"30.0\" width=\"440.0\" height=\"340.0\"></rect></clipPath><g clip-path=\"url(#tb825b046f97347a7908d8f81b357f242)\"><g class=\"toytree-mark-Toytree\" id=\"t372cd037980b46b88a5a6def9c2d1bbc\"><g class=\"toytree-Edges\" style=\"fill:none;stroke:rgb(14.9%,14.9%,14.9%);stroke-linecap:round;stroke-opacity:1;stroke-width:2\"><path d=\"M 51.9 127.1 L 51.9 192.6 L 51.9 192.6\" id=\"14,13\"></path><path d=\"M 51.9 192.6 L 51.9 130.8 L 130.2 130.8\" id=\"13,12\"></path><path d=\"M 51.9 192.6 L 51.9 254.4 L 224.9 254.4\" id=\"13,11\"></path><path d=\"M 130.2 130.8 L 130.2 160.5 L 130.2 160.5\" id=\"12,10\"></path><path d=\"M 224.9 254.4 L 224.9 289.0 L 262.8 289.0\" id=\"11,9\"></path><path d=\"M 262.8 289.0 L 262.8 318.6 L 262.8 318.6\" id=\"9,8\"></path><path d=\"M 51.9 127.1 L 51.9 61.6 L 51.9 61.6\" id=\"14,7\"></path><path d=\"M 130.2 130.8 L 130.2 101.2 L 437.6 101.2\" id=\"12,6\"></path><path d=\"M 130.2 160.5 L 130.2 140.7 L 130.2 140.7\" id=\"10,5\"></path><path d=\"M 130.2 160.5 L 130.2 180.2 L 155.0 180.2\" id=\"10,4\"></path><path d=\"M 224.9 254.4 L 224.9 219.8 L 224.9 219.8\" id=\"11,3\"></path><path d=\"M 262.8 289.0 L 262.8 259.3 L 262.8 259.3\" id=\"9,2\"></path><path d=\"M 262.8 318.6 L 262.8 298.8 L 432.2 298.8\" id=\"8,1\"></path><path d=\"M 262.8 318.6 L 262.8 338.4 L 334.2 338.4\" id=\"8,0\"></path></g><g class=\"toytree-TipLabels\" style=\"fill:rgb(14.9%,14.9%,14.9%);fill-opacity:1.0;font-family:helvetica;font-size:11px;font-weight:normal;stroke:none;white-space:pre\"><g transform=\"translate(334.17,338.38)rotate(0)\"><text x=\"15.00\" y=\"2.81\" style=\"\">H</text></g><g transform=\"translate(432.18,298.84)rotate(0)\"><text x=\"15.00\" y=\"2.81\" style=\"\">G</text></g><g transform=\"translate(262.79,259.30)rotate(0)\"><text x=\"15.00\" y=\"2.81\" style=\"\">C</text></g><g transform=\"translate(224.87,219.77)rotate(0)\"><text x=\"15.00\" y=\"2.81\" style=\"\">B</text></g><g transform=\"translate(155.00,180.23)rotate(0)\"><text x=\"15.00\" y=\"2.81\" style=\"\">E</text></g><g transform=\"translate(130.17,140.70)rotate(0)\"><text x=\"15.00\" y=\"2.81\" style=\"\">D</text></g><g transform=\"translate(437.63,101.16)rotate(0)\"><text x=\"15.00\" y=\"2.81\" style=\"\">F</text></g><g transform=\"translate(51.93,61.62)rotate(0)\"><text x=\"15.00\" y=\"2.81\" style=\"\">A</text></g></g></g></g><g class=\"toyplot-coordinates-Axis\" id=\"tecc1468235f2498881d1902c2bef78f5\" transform=\"translate(50.0,350.0)translate(0,20.0)\"><line x1=\"1.9284961827828053\" y1=\"0\" x2=\"387.62773273935653\" y2=\"0\" style=\"\"></line><g><line x1=\"387.62773273935653\" y1=\"0\" x2=\"387.62773273935653\" y2=\"-5\" style=\"\"></line><line x1=\"291.20292360021307\" y1=\"0\" x2=\"291.20292360021307\" y2=\"-5\" style=\"\"></line><line x1=\"194.77811446106966\" y1=\"0\" x2=\"194.77811446106966\" y2=\"-5\" style=\"\"></line><line x1=\"98.35330532192623\" y1=\"0\" x2=\"98.35330532192623\" y2=\"-5\" style=\"\"></line><line x1=\"1.9284961827828053\" y1=\"0\" x2=\"1.9284961827828053\" y2=\"-5\" style=\"\"></line></g><g><g transform=\"translate(387.62773273935653,6)\"><text x=\"-6.95\" y=\"8.555\" style=\"fill:rgb(16.1%,15.3%,14.1%);fill-opacity:1.0;font-family:helvetica;font-size:10.0px;font-weight:normal;stroke:none;vertical-align:baseline;white-space:pre\">0.0</text></g><g transform=\"translate(291.20292360021307,6)\"><text x=\"-6.95\" y=\"8.555\" style=\"fill:rgb(16.1%,15.3%,14.1%);fill-opacity:1.0;font-family:helvetica;font-size:10.0px;font-weight:normal;stroke:none;vertical-align:baseline;white-space:pre\">0.1</text></g><g transform=\"translate(194.77811446106966,6)\"><text x=\"-6.95\" y=\"8.555\" style=\"fill:rgb(16.1%,15.3%,14.1%);fill-opacity:1.0;font-family:helvetica;font-size:10.0px;font-weight:normal;stroke:none;vertical-align:baseline;white-space:pre\">0.3</text></g><g transform=\"translate(98.35330532192623,6)\"><text x=\"-6.95\" y=\"8.555\" style=\"fill:rgb(16.1%,15.3%,14.1%);fill-opacity:1.0;font-family:helvetica;font-size:10.0px;font-weight:normal;stroke:none;vertical-align:baseline;white-space:pre\">0.4</text></g><g transform=\"translate(1.9284961827828053,6)\"><text x=\"-6.95\" y=\"8.555\" style=\"fill:rgb(16.1%,15.3%,14.1%);fill-opacity:1.0;font-family:helvetica;font-size:10.0px;font-weight:normal;stroke:none;vertical-align:baseline;white-space:pre\">0.5</text></g></g><g class=\"toyplot-coordinates-Axis-coordinates\" style=\"visibility:hidden\" transform=\"\"><line x1=\"0\" x2=\"0\" y1=\"-3.0\" y2=\"4.5\" style=\"stroke:rgb(43.9%,50.2%,56.5%);stroke-opacity:1.0;stroke-width:1.0\"></line><text x=\"0\" y=\"-6\" style=\"alignment-baseline:alphabetic;fill:rgb(43.9%,50.2%,56.5%);fill-opacity:1.0;font-size:10px;font-weight:normal;stroke:none;text-anchor:middle\"></text></g></g></g></svg><div class=\"toyplot-behavior\"><script>(function()\n",
       "{\n",
       "var modules={};\n",
       "modules[\"toyplot/canvas/id\"] = \"t50d09c4c83614356a40de4d0108ec33c\";\n",
       "modules[\"toyplot/canvas\"] = (function(canvas_id)\n",
       "    {\n",
       "        return document.querySelector(\"#\" + canvas_id);\n",
       "    })(modules[\"toyplot/canvas/id\"]);\n",
       "modules[\"toyplot.coordinates.Axis\"] = (\n",
       "        function(canvas)\n",
       "        {\n",
       "            function sign(x)\n",
       "            {\n",
       "                return x < 0 ? -1 : x > 0 ? 1 : 0;\n",
       "            }\n",
       "\n",
       "            function mix(a, b, amount)\n",
       "            {\n",
       "                return ((1.0 - amount) * a) + (amount * b);\n",
       "            }\n",
       "\n",
       "            function log(x, base)\n",
       "            {\n",
       "                return Math.log(Math.abs(x)) / Math.log(base);\n",
       "            }\n",
       "\n",
       "            function in_range(a, x, b)\n",
       "            {\n",
       "                var left = Math.min(a, b);\n",
       "                var right = Math.max(a, b);\n",
       "                return left <= x && x <= right;\n",
       "            }\n",
       "\n",
       "            function inside(range, projection)\n",
       "            {\n",
       "                for(var i = 0; i != projection.length; ++i)\n",
       "                {\n",
       "                    var segment = projection[i];\n",
       "                    if(in_range(segment.range.min, range, segment.range.max))\n",
       "                        return true;\n",
       "                }\n",
       "                return false;\n",
       "            }\n",
       "\n",
       "            function to_domain(range, projection)\n",
       "            {\n",
       "                for(var i = 0; i != projection.length; ++i)\n",
       "                {\n",
       "                    var segment = projection[i];\n",
       "                    if(in_range(segment.range.bounds.min, range, segment.range.bounds.max))\n",
       "                    {\n",
       "                        if(segment.scale == \"linear\")\n",
       "                        {\n",
       "                            var amount = (range - segment.range.min) / (segment.range.max - segment.range.min);\n",
       "                            return mix(segment.domain.min, segment.domain.max, amount)\n",
       "                        }\n",
       "                        else if(segment.scale[0] == \"log\")\n",
       "                        {\n",
       "                            var amount = (range - segment.range.min) / (segment.range.max - segment.range.min);\n",
       "                            var base = segment.scale[1];\n",
       "                            return sign(segment.domain.min) * Math.pow(base, mix(log(segment.domain.min, base), log(segment.domain.max, base), amount));\n",
       "                        }\n",
       "                    }\n",
       "                }\n",
       "            }\n",
       "\n",
       "            var axes = {};\n",
       "\n",
       "            function display_coordinates(e)\n",
       "            {\n",
       "                var current = canvas.createSVGPoint();\n",
       "                current.x = e.clientX;\n",
       "                current.y = e.clientY;\n",
       "\n",
       "                for(var axis_id in axes)\n",
       "                {\n",
       "                    var axis = document.querySelector(\"#\" + axis_id);\n",
       "                    var coordinates = axis.querySelector(\".toyplot-coordinates-Axis-coordinates\");\n",
       "                    if(coordinates)\n",
       "                    {\n",
       "                        var projection = axes[axis_id];\n",
       "                        var local = current.matrixTransform(axis.getScreenCTM().inverse());\n",
       "                        if(inside(local.x, projection))\n",
       "                        {\n",
       "                            var domain = to_domain(local.x, projection);\n",
       "                            coordinates.style.visibility = \"visible\";\n",
       "                            coordinates.setAttribute(\"transform\", \"translate(\" + local.x + \")\");\n",
       "                            var text = coordinates.querySelector(\"text\");\n",
       "                            text.textContent = domain.toFixed(2);\n",
       "                        }\n",
       "                        else\n",
       "                        {\n",
       "                            coordinates.style.visibility= \"hidden\";\n",
       "                        }\n",
       "                    }\n",
       "                }\n",
       "            }\n",
       "\n",
       "            canvas.addEventListener(\"click\", display_coordinates);\n",
       "\n",
       "            var module = {};\n",
       "            module.show_coordinates = function(axis_id, projection)\n",
       "            {\n",
       "                axes[axis_id] = projection;\n",
       "            }\n",
       "\n",
       "            return module;\n",
       "        })(modules[\"toyplot/canvas\"]);\n",
       "(function(axis, axis_id, projection)\n",
       "        {\n",
       "            axis.show_coordinates(axis_id, projection);\n",
       "        })(modules[\"toyplot.coordinates.Axis\"],\"tecc1468235f2498881d1902c2bef78f5\",[{\"domain\": {\"bounds\": {\"max\": Infinity, \"min\": -Infinity}, \"max\": 0.01670575213398749, \"min\": -0.5233974248198093}, \"range\": {\"bounds\": {\"max\": Infinity, \"min\": -Infinity}, \"max\": 400.0, \"min\": 0.0}, \"scale\": \"linear\"}]);\n",
       "})();</script></div></div>"
      ]
     },
     "metadata": {},
     "output_type": "display_data"
    }
   ],
   "source": [
    "tresim1 = toytree.tree('sim_results/RAxML_bestTree.variants')\n",
    "tresim1=tresim1.root('A')\n",
    "tresim1=tresim1.drop_tips('ref')\n",
    "canvas,t,r=tresim1.draw(layout='r',scalebar=True,height=400,width=500)"
   ]
  },
  {
   "cell_type": "markdown",
   "id": "27254c49-481d-4790-aa92-9bd2e9130377",
   "metadata": {},
   "source": [
    "## mlst on simulated fastqs"
   ]
  },
  {
   "cell_type": "code",
   "execution_count": null,
   "id": "6577c608-bc47-4c07-b6e5-76e1a010b6d8",
   "metadata": {},
   "outputs": [],
   "source": [
    "sim_vcf = 'sim_results/filtered.vcf.gz'\n",
    "simprofs = run_samples(sim_vcf, 'sim_mlst', threads=12)"
   ]
  },
  {
   "cell_type": "code",
   "execution_count": 1233,
   "id": "7f3ffe3e-3a9a-4a59-9ea4-deabb35b4435",
   "metadata": {},
   "outputs": [
    {
     "data": {
      "text/html": [
       "<div class=\"toyplot\" id=\"t4f9008040ae745efb112bf5b0723fde4\" style=\"text-align:center\"><svg class=\"toyplot-canvas-Canvas\" xmlns:toyplot=\"http://www.sandia.gov/toyplot\" xmlns:xlink=\"http://www.w3.org/1999/xlink\" xmlns=\"http://www.w3.org/2000/svg\" width=\"500.0px\" height=\"400.0px\" viewBox=\"0 0 500.0 400.0\" preserveAspectRatio=\"xMidYMid meet\" style=\"background-color:transparent;border-color:#292724;border-style:none;border-width:1.0;fill:rgb(16.1%,15.3%,14.1%);fill-opacity:1.0;font-family:Helvetica;font-size:12px;opacity:1.0;stroke:rgb(16.1%,15.3%,14.1%);stroke-opacity:1.0;stroke-width:1.0\" id=\"tf627bc8103134f63aeb84fd84c256ea5\"><g class=\"toyplot-coordinates-Cartesian\" id=\"t96497f6d297448eba790e2ebac43bb3a\"><clipPath id=\"t3bf940585fa14a61ad2583a9e08c0280\"><rect x=\"30.0\" y=\"30.0\" width=\"440.0\" height=\"340.0\"></rect></clipPath><g clip-path=\"url(#t3bf940585fa14a61ad2583a9e08c0280)\"><g class=\"toytree-mark-Toytree\" id=\"t3709924b722e4f6b8e6f2bea422a2721\"><g class=\"toytree-Edges\" style=\"fill:none;stroke:rgb(14.9%,14.9%,14.9%);stroke-linecap:round;stroke-opacity:1;stroke-width:2\"><path d=\"M 51.9 127.1 L 51.9 192.6 L 87.3 192.6\" id=\"14,13\"></path><path d=\"M 87.3 192.6 L 87.3 130.8 L 145.6 130.8\" id=\"13,12\"></path><path d=\"M 87.3 192.6 L 87.3 254.4 L 217.4 254.4\" id=\"13,11\"></path><path d=\"M 145.6 130.8 L 145.6 160.5 L 160.2 160.5\" id=\"12,10\"></path><path d=\"M 217.4 254.4 L 217.4 289.0 L 252.9 289.0\" id=\"11,9\"></path><path d=\"M 252.9 289.0 L 252.9 318.6 L 269.7 318.6\" id=\"9,8\"></path><path d=\"M 51.9 127.1 L 51.9 61.6 L 87.3 61.6\" id=\"14,7\"></path><path d=\"M 145.6 130.8 L 145.6 101.2 L 375.4 101.2\" id=\"12,6\"></path><path d=\"M 160.2 160.5 L 160.2 140.7 L 219.1 140.7\" id=\"10,5\"></path><path d=\"M 160.2 160.5 L 160.2 180.2 L 188.3 180.2\" id=\"10,4\"></path><path d=\"M 217.4 254.4 L 217.4 219.8 L 282.2 219.8\" id=\"11,3\"></path><path d=\"M 252.9 289.0 L 252.9 259.3 L 434.4 259.3\" id=\"9,2\"></path><path d=\"M 269.7 318.6 L 269.7 298.8 L 340.7 298.8\" id=\"8,1\"></path><path d=\"M 269.7 318.6 L 269.7 338.4 L 378.0 338.4\" id=\"8,0\"></path></g><g class=\"toytree-TipLabels\" style=\"fill:rgb(14.9%,14.9%,14.9%);fill-opacity:1.0;font-family:helvetica;font-size:11px;font-weight:normal;stroke:none;white-space:pre\"><g transform=\"translate(378.01,338.38)rotate(0)\"><text x=\"15.00\" y=\"2.81\" style=\"\">H</text></g><g transform=\"translate(340.65,298.84)rotate(0)\"><text x=\"15.00\" y=\"2.81\" style=\"\">C</text></g><g transform=\"translate(434.38,259.30)rotate(0)\"><text x=\"15.00\" y=\"2.81\" style=\"\">G</text></g><g transform=\"translate(282.24,219.77)rotate(0)\"><text x=\"15.00\" y=\"2.81\" style=\"\">B</text></g><g transform=\"translate(188.30,180.23)rotate(0)\"><text x=\"15.00\" y=\"2.81\" style=\"\">D</text></g><g transform=\"translate(219.09,140.70)rotate(0)\"><text x=\"15.00\" y=\"2.81\" style=\"\">E</text></g><g transform=\"translate(375.39,101.16)rotate(0)\"><text x=\"15.00\" y=\"2.81\" style=\"\">F</text></g><g transform=\"translate(87.31,61.62)rotate(0)\"><text x=\"15.00\" y=\"2.81\" style=\"\">A</text></g></g></g></g><g class=\"toyplot-coordinates-Axis\" id=\"t7cd2b86dab2f4523865fc5485daf8788\" transform=\"translate(50.0,350.0)translate(0,20.0)\"><line x1=\"1.9123292648527916\" y1=\"0\" x2=\"384.3781822354173\" y2=\"0\" style=\"\"></line><g><line x1=\"384.3781822354173\" y1=\"0\" x2=\"384.3781822354173\" y2=\"-5\" style=\"\"></line><line x1=\"288.76171899277614\" y1=\"0\" x2=\"288.76171899277614\" y2=\"-5\" style=\"\"></line><line x1=\"193.14525575013505\" y1=\"0\" x2=\"193.14525575013505\" y2=\"-5\" style=\"\"></line><line x1=\"97.5287925074939\" y1=\"0\" x2=\"97.5287925074939\" y2=\"-5\" style=\"\"></line><line x1=\"1.9123292648527916\" y1=\"0\" x2=\"1.9123292648527916\" y2=\"-5\" style=\"\"></line></g><g><g transform=\"translate(384.3781822354173,6)\"><text x=\"-2.78\" y=\"8.555\" style=\"fill:rgb(16.1%,15.3%,14.1%);fill-opacity:1.0;font-family:helvetica;font-size:10.0px;font-weight:normal;stroke:none;vertical-align:baseline;white-space:pre\">0</text></g><g transform=\"translate(288.76171899277614,6)\"><text x=\"-5.56\" y=\"8.555\" style=\"fill:rgb(16.1%,15.3%,14.1%);fill-opacity:1.0;font-family:helvetica;font-size:10.0px;font-weight:normal;stroke:none;vertical-align:baseline;white-space:pre\">18</text></g><g transform=\"translate(193.14525575013505,6)\"><text x=\"-5.56\" y=\"8.555\" style=\"fill:rgb(16.1%,15.3%,14.1%);fill-opacity:1.0;font-family:helvetica;font-size:10.0px;font-weight:normal;stroke:none;vertical-align:baseline;white-space:pre\">35</text></g><g transform=\"translate(97.5287925074939,6)\"><text x=\"-5.56\" y=\"8.555\" style=\"fill:rgb(16.1%,15.3%,14.1%);fill-opacity:1.0;font-family:helvetica;font-size:10.0px;font-weight:normal;stroke:none;vertical-align:baseline;white-space:pre\">53</text></g><g transform=\"translate(1.9123292648527916,6)\"><text x=\"-5.56\" y=\"8.555\" style=\"fill:rgb(16.1%,15.3%,14.1%);fill-opacity:1.0;font-family:helvetica;font-size:10.0px;font-weight:normal;stroke:none;vertical-align:baseline;white-space:pre\">70</text></g></g><g class=\"toyplot-coordinates-Axis-coordinates\" style=\"visibility:hidden\" transform=\"\"><line x1=\"0\" x2=\"0\" y1=\"-3.0\" y2=\"4.5\" style=\"stroke:rgb(43.9%,50.2%,56.5%);stroke-opacity:1.0;stroke-width:1.0\"></line><text x=\"0\" y=\"-6\" style=\"alignment-baseline:alphabetic;fill:rgb(43.9%,50.2%,56.5%);fill-opacity:1.0;font-size:10px;font-weight:normal;stroke:none;text-anchor:middle\"></text></g></g></g></svg><div class=\"toyplot-behavior\"><script>(function()\n",
       "{\n",
       "var modules={};\n",
       "modules[\"toyplot/canvas/id\"] = \"tf627bc8103134f63aeb84fd84c256ea5\";\n",
       "modules[\"toyplot/canvas\"] = (function(canvas_id)\n",
       "    {\n",
       "        return document.querySelector(\"#\" + canvas_id);\n",
       "    })(modules[\"toyplot/canvas/id\"]);\n",
       "modules[\"toyplot.coordinates.Axis\"] = (\n",
       "        function(canvas)\n",
       "        {\n",
       "            function sign(x)\n",
       "            {\n",
       "                return x < 0 ? -1 : x > 0 ? 1 : 0;\n",
       "            }\n",
       "\n",
       "            function mix(a, b, amount)\n",
       "            {\n",
       "                return ((1.0 - amount) * a) + (amount * b);\n",
       "            }\n",
       "\n",
       "            function log(x, base)\n",
       "            {\n",
       "                return Math.log(Math.abs(x)) / Math.log(base);\n",
       "            }\n",
       "\n",
       "            function in_range(a, x, b)\n",
       "            {\n",
       "                var left = Math.min(a, b);\n",
       "                var right = Math.max(a, b);\n",
       "                return left <= x && x <= right;\n",
       "            }\n",
       "\n",
       "            function inside(range, projection)\n",
       "            {\n",
       "                for(var i = 0; i != projection.length; ++i)\n",
       "                {\n",
       "                    var segment = projection[i];\n",
       "                    if(in_range(segment.range.min, range, segment.range.max))\n",
       "                        return true;\n",
       "                }\n",
       "                return false;\n",
       "            }\n",
       "\n",
       "            function to_domain(range, projection)\n",
       "            {\n",
       "                for(var i = 0; i != projection.length; ++i)\n",
       "                {\n",
       "                    var segment = projection[i];\n",
       "                    if(in_range(segment.range.bounds.min, range, segment.range.bounds.max))\n",
       "                    {\n",
       "                        if(segment.scale == \"linear\")\n",
       "                        {\n",
       "                            var amount = (range - segment.range.min) / (segment.range.max - segment.range.min);\n",
       "                            return mix(segment.domain.min, segment.domain.max, amount)\n",
       "                        }\n",
       "                        else if(segment.scale[0] == \"log\")\n",
       "                        {\n",
       "                            var amount = (range - segment.range.min) / (segment.range.max - segment.range.min);\n",
       "                            var base = segment.scale[1];\n",
       "                            return sign(segment.domain.min) * Math.pow(base, mix(log(segment.domain.min, base), log(segment.domain.max, base), amount));\n",
       "                        }\n",
       "                    }\n",
       "                }\n",
       "            }\n",
       "\n",
       "            var axes = {};\n",
       "\n",
       "            function display_coordinates(e)\n",
       "            {\n",
       "                var current = canvas.createSVGPoint();\n",
       "                current.x = e.clientX;\n",
       "                current.y = e.clientY;\n",
       "\n",
       "                for(var axis_id in axes)\n",
       "                {\n",
       "                    var axis = document.querySelector(\"#\" + axis_id);\n",
       "                    var coordinates = axis.querySelector(\".toyplot-coordinates-Axis-coordinates\");\n",
       "                    if(coordinates)\n",
       "                    {\n",
       "                        var projection = axes[axis_id];\n",
       "                        var local = current.matrixTransform(axis.getScreenCTM().inverse());\n",
       "                        if(inside(local.x, projection))\n",
       "                        {\n",
       "                            var domain = to_domain(local.x, projection);\n",
       "                            coordinates.style.visibility = \"visible\";\n",
       "                            coordinates.setAttribute(\"transform\", \"translate(\" + local.x + \")\");\n",
       "                            var text = coordinates.querySelector(\"text\");\n",
       "                            text.textContent = domain.toFixed(2);\n",
       "                        }\n",
       "                        else\n",
       "                        {\n",
       "                            coordinates.style.visibility= \"hidden\";\n",
       "                        }\n",
       "                    }\n",
       "                }\n",
       "            }\n",
       "\n",
       "            canvas.addEventListener(\"click\", display_coordinates);\n",
       "\n",
       "            var module = {};\n",
       "            module.show_coordinates = function(axis_id, projection)\n",
       "            {\n",
       "                axes[axis_id] = projection;\n",
       "            }\n",
       "\n",
       "            return module;\n",
       "        })(modules[\"toyplot/canvas\"]);\n",
       "(function(axis, axis_id, projection)\n",
       "        {\n",
       "            axis.show_coordinates(axis_id, projection);\n",
       "        })(modules[\"toyplot.coordinates.Axis\"],\"t7cd2b86dab2f4523865fc5485daf8788\",[{\"domain\": {\"bounds\": {\"max\": Infinity, \"min\": -Infinity}, \"max\": 2.8751050781250016, \"min\": -70.742578125}, \"range\": {\"bounds\": {\"max\": Infinity, \"min\": -Infinity}, \"max\": 400.0, \"min\": 0.0}, \"scale\": \"linear\"}]);\n",
       "})();</script></div></div>"
      ]
     },
     "metadata": {},
     "output_type": "display_data"
    }
   ],
   "source": [
    "D = dist_matrix(simprofs)\n",
    "D.to_csv('dist_mlst.csv',index=False)\n",
    "treefile='sim.newick'\n",
    "tree_from_distmatrix(D, treefile)\n",
    "tresim2 = toytree.tree(treefile)\n",
    "tresim2=tresim2.root('A')\n",
    "canvas,t,r=tresim2.draw(layout='r',scalebar=True,height=400,width=500)"
   ]
  },
  {
   "cell_type": "code",
   "execution_count": null,
   "id": "1f136f2b-0032-4e18-9a2d-a4785b6680f3",
   "metadata": {},
   "outputs": [],
   "source": []
  }
 ],
 "metadata": {
  "kernelspec": {
   "display_name": "Python 3",
   "language": "python",
   "name": "python3"
  },
  "language_info": {
   "codemirror_mode": {
    "name": "ipython",
    "version": 3
   },
   "file_extension": ".py",
   "mimetype": "text/x-python",
   "name": "python",
   "nbconvert_exporter": "python",
   "pygments_lexer": "ipython3",
   "version": "3.9.5"
  }
 },
 "nbformat": 4,
 "nbformat_minor": 5
}
