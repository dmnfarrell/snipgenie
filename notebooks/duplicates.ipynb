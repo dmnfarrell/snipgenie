{
 "cells": [
  {
   "cell_type": "markdown",
   "id": "4998249b-c264-4dd3-91ff-27c51ed7dba5",
   "metadata": {},
   "source": [
    "# compare duplicate runs "
   ]
  },
  {
   "cell_type": "code",
   "execution_count": 263,
   "id": "75870bcc-0d6e-4620-bf39-5c5c7db52359",
   "metadata": {},
   "outputs": [],
   "source": [
    "import sys,os,io,shutil,subprocess\n",
    "import glob\n",
    "from importlib import reload\n",
    "import numpy as np\n",
    "import pandas as pd\n",
    "pd.set_option('display.width', 200)\n",
    "import pylab as plt\n",
    "import matplotlib as mpl\n",
    "from Bio import SeqIO\n",
    "from Bio import AlignIO\n",
    "import seaborn as sns\n",
    "sys.path.append('pathogenie')\n",
    "from snipgenie import tools, aligners, app, trees, plotting\n",
    "import toytree, toyplot\n",
    "import toyplot.pdf\n",
    "import toyplot.png\n",
    "path = '/storage/btbgenie/all_ireland_results'"
   ]
  },
  {
   "cell_type": "code",
   "execution_count": null,
   "id": "53ab9283-e865-4732-bae6-eb0192a5a3ff",
   "metadata": {},
   "outputs": [],
   "source": [
    "args = {'threads':20, 'outdir': '/storage/btbgenie/dup_results', 'labelsep':'_',\n",
    "        'input':['/storage/btbgenie/mbovis_ireland/duplicates/'],\n",
    "         'species': 'Mbovis-AF212297',\n",
    "         'overwrite':False,\n",
    "         'custom_filters': True,\n",
    "         'buildtree':True}\n",
    "W = app.WorkFlow(**args)\n",
    "st = W.setup()\n",
    "W.run()"
   ]
  },
  {
   "cell_type": "code",
   "execution_count": 5,
   "id": "5ed94df4-7d75-4bcf-b74b-d414209831a5",
   "metadata": {},
   "outputs": [],
   "source": [
    "meta = pd.read_csv('/storage/btbgenie/mbovis_ireland/all_ireland_samples.csv')"
   ]
  },
  {
   "cell_type": "code",
   "execution_count": 136,
   "id": "1eaf5a1e-8282-4054-bbb1-e82c37a39e3d",
   "metadata": {},
   "outputs": [
    {
     "name": "stdout",
     "output_type": "stream",
     "text": [
      "17 17\n"
     ]
    }
   ],
   "source": [
    "dups1=meta[meta.duplicated('aliquot',keep='last')].dropna()\n",
    "dups2=meta[meta.duplicated('aliquot',keep='first')].dropna()\n",
    "print (len(dups1),len(dups2))\n",
    "#print (dups2)"
   ]
  },
  {
   "cell_type": "markdown",
   "id": "bfb5def3-77bd-4048-af9e-70fda2a3ef46",
   "metadata": {},
   "source": [
    "## combine samples into one table"
   ]
  },
  {
   "cell_type": "code",
   "execution_count": 140,
   "id": "40f7b44c-61eb-4003-b7f6-5dc452e9bf06",
   "metadata": {},
   "outputs": [
    {
     "name": "stdout",
     "output_type": "stream",
     "text": [
      "16 17\n"
     ]
    }
   ],
   "source": [
    "summ1 = pd.read_csv('/storage/btbgenie/dup_results/summary.csv')\n",
    "summ2 = pd.read_csv('/storage/btbgenie/monaghan/monaghan_results/summary.csv')\n",
    "summ2 = summ2[summ2['sample'].isin(dups1['sample'])]\n",
    "print (len(summ1),len(summ2))\n",
    "df = pd.concat([summ1,summ2])\n",
    "df['pair'] = df['sample'].apply(lambda x: x[-4:])\n",
    "df=df[df.pair!='4235']\n",
    "df = df.sort_values('pair')"
   ]
  },
  {
   "cell_type": "code",
   "execution_count": 141,
   "id": "7ab65252-dd86-4fb9-ad23-e0b5dec009e4",
   "metadata": {},
   "outputs": [
    {
     "data": {
      "text/plain": [
       "'duplicate_test/samples.txt'"
      ]
     },
     "execution_count": 141,
     "metadata": {},
     "output_type": "execute_result"
    }
   ],
   "source": [
    "app.write_samples(df,'duplicate_test')"
   ]
  },
  {
   "cell_type": "code",
   "execution_count": null,
   "id": "0356299a-596a-42ba-b0c0-600e8230886e",
   "metadata": {},
   "outputs": [],
   "source": [
    "depths=[]\n",
    "for i,r in df.iterrows():\n",
    "    print (r.bam_file)\n",
    "    c=tools.get_mean_depth(r.bam_file)\n",
    "    depths.append(c)"
   ]
  },
  {
   "cell_type": "code",
   "execution_count": 169,
   "id": "f27ec4a5-dc42-4f5d-978c-426c77842d90",
   "metadata": {},
   "outputs": [],
   "source": [
    "df['depth']=depths\n",
    "df.to_csv('duplicates.csv',index=False)"
   ]
  },
  {
   "cell_type": "markdown",
   "id": "648584cf-7f14-424b-8028-605cc3c98e1a",
   "metadata": {},
   "source": [
    "## call variants on paired duplicates"
   ]
  },
  {
   "cell_type": "code",
   "execution_count": 345,
   "id": "dffedf40-3013-4c30-9abc-8a4269b65685",
   "metadata": {},
   "outputs": [
    {
     "name": "stdout",
     "output_type": "stream",
     "text": [
      "duplicate_test/raw.bcf already exists\n",
      "calling variants..\n",
      "bcftools call --ploidy 1 -m -v -o duplicate_test/calls.vcf duplicate_test/raw.bcf\n",
      "duplicate_test/samples.txt\n",
      "bcftools reheader --samples duplicate_test/samples.txt -o /tmp/calls.vcf duplicate_test/calls.vcf\n",
      "bcftools filter -i \"QUAL>=40 && FORMAT/DP>=30 && DP4>=4\" -o duplicate_test/filtered.vcf.gz -O z duplicate_test/calls.vcf\n",
      "splitting snps and indels..\n",
      "bcftools view -v snps -o duplicate_test/snps.vcf.gz -O z duplicate_test/filtered.vcf.gz\n",
      "bcftools view -v indels -o duplicate_test/indels.vcf.gz -O z duplicate_test/filtered.vcf.gz\n",
      "took 17.0 seconds\n",
      "found 443 sites\n",
      "23 sites with at least one missing sample\n",
      "76 uninformative sites\n",
      "raxmlHPC-PTHREADS -f a -N 100 -T 8 -m GTRCAT -V -p 21520906 -x 47681550 -n variants -w /home/farrell/gitprojects/snipgenie/notebooks/duplicate_test -s duplicate_test/core.fa\n"
     ]
    }
   ],
   "source": [
    "reload(app)\n",
    "app.run_bamfiles(df.bam_file, app.mbovis_genome, outdir='duplicate_test', threads=20,\n",
    "                 #custom_filters=True, mask=app.mbovis_mask,\n",
    "                 overwrite=False)"
   ]
  },
  {
   "cell_type": "markdown",
   "id": "d49f6590-eabb-4198-afec-1ad27e78bc60",
   "metadata": {},
   "source": [
    "## draw tree"
   ]
  },
  {
   "cell_type": "code",
   "execution_count": 346,
   "id": "282e38b3-dda0-4386-9a4a-c1b195322628",
   "metadata": {},
   "outputs": [],
   "source": [
    "tre = toytree.tree('duplicate_test/tree.newick')\n",
    "tre=tre.drop_tips(['ref','2014','TB19-002014'])\n",
    "tre=tre.root('3762')\n",
    "mapping = dict(zip(df['sample'],df.pair))\n",
    "colormap = trees.colors_from_labels(df,'sample','pair')\n",
    "tip_colors = [colormap[mapping[i]] if i in mapping else 'Black' for i in tre.get_tip_labels()]\n",
    "node_sizes=[0 if i else 8 for i in tre.get_node_values(None, 1, 0)]\n",
    "node_colors = [colormap[mapping[n]] if n in mapping else 'black' for n in tre.get_node_values('name', True, True)]\n",
    "\n",
    "canvas,t,r=tre.draw(layout='r',width=1000,height=600,scalebar=True,tip_labels_colors=tip_colors)#tip_labels=False,\n",
    "                    #node_colors=node_colors,node_sizes=node_sizes);\n",
    "toyplot.pdf.render(canvas,'duplicate_test/tree_nofilters.pdf')\n"
   ]
  },
  {
   "cell_type": "markdown",
   "id": "73be8099-f1fd-4a4d-abb6-012cbfd8d0e3",
   "metadata": {},
   "source": [
    "## read snps"
   ]
  },
  {
   "cell_type": "code",
   "execution_count": 347,
   "id": "29c34ab4-3606-4c1b-863f-b8a6f0075f13",
   "metadata": {},
   "outputs": [],
   "source": [
    "sdist = pd.read_csv('duplicate_test/snpdist.csv',index_col=0)\n",
    "#sdist.iloc[:10,:10]"
   ]
  },
  {
   "cell_type": "code",
   "execution_count": 348,
   "id": "4301c741-15cd-4e0f-8c70-80d05bf09848",
   "metadata": {},
   "outputs": [],
   "source": [
    "dists=[]\n",
    "for i,g in df.groupby('pair'):\n",
    "    s1,s2 = list(g['sample'])\n",
    "    dists.append((s1+'v'+s2,sdist.loc[s1,s2]))\n",
    "dists=pd.DataFrame(dists,columns=['pair','snps'])\n",
    "dists2=dists"
   ]
  },
  {
   "cell_type": "code",
   "execution_count": 349,
   "id": "4a168712-3312-4a51-8f69-e1916411558b",
   "metadata": {},
   "outputs": [
    {
     "data": {
      "text/html": [
       "<div>\n",
       "<style scoped>\n",
       "    .dataframe tbody tr th:only-of-type {\n",
       "        vertical-align: middle;\n",
       "    }\n",
       "\n",
       "    .dataframe tbody tr th {\n",
       "        vertical-align: top;\n",
       "    }\n",
       "\n",
       "    .dataframe thead th {\n",
       "        text-align: right;\n",
       "    }\n",
       "</style>\n",
       "<table border=\"1\" class=\"dataframe\">\n",
       "  <thead>\n",
       "    <tr style=\"text-align: right;\">\n",
       "      <th></th>\n",
       "      <th>pair</th>\n",
       "      <th>filter</th>\n",
       "      <th>no filter</th>\n",
       "    </tr>\n",
       "  </thead>\n",
       "  <tbody>\n",
       "    <tr>\n",
       "      <th>1</th>\n",
       "      <td>3260vTB19-003260</td>\n",
       "      <td>1</td>\n",
       "      <td>4</td>\n",
       "    </tr>\n",
       "    <tr>\n",
       "      <th>2</th>\n",
       "      <td>3261vTB19-003261</td>\n",
       "      <td>1</td>\n",
       "      <td>2</td>\n",
       "    </tr>\n",
       "    <tr>\n",
       "      <th>3</th>\n",
       "      <td>TB19-003263v3263</td>\n",
       "      <td>0</td>\n",
       "      <td>5</td>\n",
       "    </tr>\n",
       "    <tr>\n",
       "      <th>4</th>\n",
       "      <td>TB19-003377v3377</td>\n",
       "      <td>1</td>\n",
       "      <td>2</td>\n",
       "    </tr>\n",
       "    <tr>\n",
       "      <th>5</th>\n",
       "      <td>TB19-003437v3437</td>\n",
       "      <td>0</td>\n",
       "      <td>0</td>\n",
       "    </tr>\n",
       "    <tr>\n",
       "      <th>6</th>\n",
       "      <td>TB19-003738v3738</td>\n",
       "      <td>2</td>\n",
       "      <td>2</td>\n",
       "    </tr>\n",
       "    <tr>\n",
       "      <th>7</th>\n",
       "      <td>TB19-003747v3747</td>\n",
       "      <td>2</td>\n",
       "      <td>2</td>\n",
       "    </tr>\n",
       "    <tr>\n",
       "      <th>8</th>\n",
       "      <td>3762vTB19-003762</td>\n",
       "      <td>3</td>\n",
       "      <td>4</td>\n",
       "    </tr>\n",
       "    <tr>\n",
       "      <th>9</th>\n",
       "      <td>3825vTB19-003825</td>\n",
       "      <td>1</td>\n",
       "      <td>1</td>\n",
       "    </tr>\n",
       "    <tr>\n",
       "      <th>10</th>\n",
       "      <td>4238vTB19-004238</td>\n",
       "      <td>0</td>\n",
       "      <td>0</td>\n",
       "    </tr>\n",
       "    <tr>\n",
       "      <th>11</th>\n",
       "      <td>5220vTB19-005220</td>\n",
       "      <td>1</td>\n",
       "      <td>2</td>\n",
       "    </tr>\n",
       "    <tr>\n",
       "      <th>12</th>\n",
       "      <td>19-6246vTB19-006246</td>\n",
       "      <td>1</td>\n",
       "      <td>1</td>\n",
       "    </tr>\n",
       "    <tr>\n",
       "      <th>13</th>\n",
       "      <td>19-6656vTB19-006656</td>\n",
       "      <td>1</td>\n",
       "      <td>2</td>\n",
       "    </tr>\n",
       "    <tr>\n",
       "      <th>14</th>\n",
       "      <td>19-6784vTB19-006784</td>\n",
       "      <td>0</td>\n",
       "      <td>5</td>\n",
       "    </tr>\n",
       "    <tr>\n",
       "      <th>15</th>\n",
       "      <td>19-7328vTB19-007328</td>\n",
       "      <td>0</td>\n",
       "      <td>3</td>\n",
       "    </tr>\n",
       "  </tbody>\n",
       "</table>\n",
       "</div>"
      ],
      "text/plain": [
       "                   pair  filter  no filter\n",
       "1      3260vTB19-003260       1          4\n",
       "2      3261vTB19-003261       1          2\n",
       "3      TB19-003263v3263       0          5\n",
       "4      TB19-003377v3377       1          2\n",
       "5      TB19-003437v3437       0          0\n",
       "6      TB19-003738v3738       2          2\n",
       "7      TB19-003747v3747       2          2\n",
       "8      3762vTB19-003762       3          4\n",
       "9      3825vTB19-003825       1          1\n",
       "10     4238vTB19-004238       0          0\n",
       "11     5220vTB19-005220       1          2\n",
       "12  19-6246vTB19-006246       1          1\n",
       "13  19-6656vTB19-006656       1          2\n",
       "14  19-6784vTB19-006784       0          5\n",
       "15  19-7328vTB19-007328       0          3"
      ]
     },
     "execution_count": 349,
     "metadata": {},
     "output_type": "execute_result"
    }
   ],
   "source": [
    "x=dists1.merge(dists2,on='pair')[1:]\n",
    "x.columns=['pair','filter','no filter']\n",
    "x"
   ]
  },
  {
   "cell_type": "code",
   "execution_count": 350,
   "id": "27d25c2c-5b33-4c90-9795-9fe7bde131a2",
   "metadata": {},
   "outputs": [
    {
     "data": {
      "image/png": "[encoded data removed]",
      "text/plain": [
       "<Figure size 720x432 with 1 Axes>"
      ]
     },
     "metadata": {
      "needs_background": "light"
     },
     "output_type": "display_data"
    }
   ],
   "source": [
    "#sns.set_context('talk')\n",
    "x.plot(x='pair',kind='barh',width=.6,figsize=(10,6))\n",
    "plt.xlabel('snp distance')\n",
    "sns.despine()\n",
    "plt.tight_layout()\n",
    "plt.savefig('snp_duplicates_dists.jpg',dpi=120)"
   ]
  },
  {
   "cell_type": "code",
   "execution_count": null,
   "id": "b1df63fd-220d-4962-9a34-31706efd050c",
   "metadata": {},
   "outputs": [],
   "source": []
  }
 ],
 "metadata": {
  "kernelspec": {
   "display_name": "Python 3",
   "language": "python",
   "name": "python3"
  },
  "language_info": {
   "codemirror_mode": {
    "name": "ipython",
    "version": 3
   },
   "file_extension": ".py",
   "mimetype": "text/x-python",
   "name": "python",
   "nbconvert_exporter": "python",
   "pygments_lexer": "ipython3",
   "version": "3.9.5"
  }
 },
 "nbformat": 4,
 "nbformat_minor": 5
}
