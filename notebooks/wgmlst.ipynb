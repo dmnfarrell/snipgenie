{
 "cells": [
  {
   "cell_type": "markdown",
   "id": "097a5efa-3837-48c6-a8ea-309d58ba6fd6",
   "metadata": {},
   "source": [
    "## wgMLST for mbovis\n",
    "\n",
    "* http://www3.ridom.de/seqsphere/cgmlst/\n",
    "* https://www.cgmlst.org/ncs/schema/741110/\n",
    "* https://jcm.asm.org/content/52/7/2479\n",
    "* https://www.biorxiv.org/content/10.1101/172858v1.full\n",
    "* https://www.ncbi.nlm.nih.gov/pmc/articles/PMC3980634/"
   ]
  },
  {
   "cell_type": "markdown",
   "id": "3b554e75-17e5-4a8f-ab03-e93150bcc94e",
   "metadata": {},
   "source": [
    "## steps\n",
    "\n",
    "* get MLST gene list\n",
    "* assembly\n",
    "* annotate\n",
    "* assign allele numbers?"
   ]
  },
  {
   "cell_type": "code",
   "execution_count": 98,
   "id": "5fbe56cd-85be-425d-a949-8d7b709d4acc",
   "metadata": {},
   "outputs": [],
   "source": [
    "import sys,os,shutil,subprocess\n",
    "import glob\n",
    "import random\n",
    "from importlib import reload\n",
    "import numpy as np\n",
    "import pandas as pd\n",
    "pd.set_option('display.width', 200)\n",
    "pd.set_option('display.max_colwidth', 150)\n",
    "import pylab as plt\n",
    "import seaborn as sns\n",
    "from Bio import SeqIO, Phylo\n",
    "from Bio.Seq import Seq\n",
    "from Bio.SeqRecord import SeqRecord\n",
    "from io import StringIO\n",
    "import pathogenie as pg\n",
    "import snipgenie\n",
    "from snipgenie import app,tools,wgmlst,trees\n",
    "import toytree, toyplot"
   ]
  },
  {
   "cell_type": "code",
   "execution_count": 2,
   "id": "a9158dab-3bba-4414-bad1-59c5f0856117",
   "metadata": {},
   "outputs": [],
   "source": [
    "meta = pd.read_csv('/storage/btbgenie/mbovis_ireland/all_ireland_samples.csv')\n",
    "vcf_file='/storage/btbgenie/wicklow_results/filtered.vcf.gz'"
   ]
  },
  {
   "cell_type": "code",
   "execution_count": null,
   "id": "f630368c-1859-4574-84dd-8a545f5e17b5",
   "metadata": {},
   "outputs": [],
   "source": [
    "path = '/storage/btbgenie/mbovis_ireland/Wicklow/'\n",
    "files = glob.glob(os.path.join(path,'**', '*.fastq.gz'),recursive=True)\n",
    "samp = snipgenie.get_samples(files,sep='_')\n",
    "pairs = pd.pivot_table(samp,index=['sample'],columns=['pair'],values='filename',aggfunc='first').reset_index()\n",
    "print (pairs[:2])"
   ]
  },
  {
   "cell_type": "markdown",
   "id": "1200e6a5-624b-44ff-a8e5-4436b362b548",
   "metadata": {},
   "source": [
    "## create reference proteins for MLST"
   ]
  },
  {
   "cell_type": "code",
   "execution_count": 5,
   "id": "7c6c41ff-b137-40ef-b26d-fa40e236835c",
   "metadata": {},
   "outputs": [
    {
     "name": "stdout",
     "output_type": "stream",
     "text": [
      "3994\n"
     ]
    }
   ],
   "source": [
    "#prots = wgmlst.make_reference_proteins()\n",
    "#res = wgmlst.get_nucleotide_sequences(app.mbovis_gb,'Mbovis_AF212297_nuc.fa')"
   ]
  },
  {
   "cell_type": "markdown",
   "id": "c904b82a-bee9-4bee-a81d-b33539bb3b9f",
   "metadata": {},
   "source": [
    "## initialise MLST table from reference genome"
   ]
  },
  {
   "cell_type": "code",
   "execution_count": 63,
   "id": "e1698d53-1360-4deb-b9b8-4a6940766fbe",
   "metadata": {},
   "outputs": [
    {
     "name": "stderr",
     "output_type": "stream",
     "text": [
      "/home/farrell/gitprojects/snipgenie/snipgenie/tools.py:385: FutureWarning: The default value of regex will change from True to False in a future version. In addition, single character regular expressions will *not* be treated as literal strings when regex=True.\n",
      "  df[key] = df[key].str.replace('|','_')\n"
     ]
    },
    {
     "name": "stdout",
     "output_type": "stream",
     "text": [
      "3184\n"
     ]
    }
   ],
   "source": [
    "def setup_db():\n",
    "    \"\"\"Setup initial db\"\"\"\n",
    "    \n",
    "    #filter only Mb proteins in scheme\n",
    "    mlst=pd.read_csv('mlst_scheme.csv')\n",
    "    mlst=mlst[mlst['Ridom Usage']=='MLST+']\n",
    "    targets=list(mlst.Target)    \n",
    "    #bovis-tb mapping\n",
    "    mbmap=pd.read_csv('final_mbovis_mapping.csv')\n",
    "    mbmap = mbmap[mbmap.Rv_tag.isin(targets)]\n",
    "    mb_tags = list(mbmap.Mb_tag)\n",
    "    #prots = tools.fasta_to_dataframe()\n",
    "    #prots = prots[prots.locus_tag.isin(mb_tags)]\n",
    "    nucseqs = tools.fasta_to_dataframe('Mbovis_AF212297_nuc.fa')\n",
    "    nucseqs = nucseqs[nucseqs.name.isin(mb_tags)]\n",
    "\n",
    "    #set up initial mlst table with reference sequences \n",
    "    cols = ['name','allele','sequence']\n",
    "    ref = nucseqs.copy()\n",
    "    ref['allele'] = 1\n",
    "    ref=ref.rename(columns={'translation':'sequence'})\n",
    "    ref[cols].to_csv('mbovis_db.csv.gz',index=False,compression='gzip')\n",
    "    print (len(ref))    \n",
    "    \n",
    "setup_db()"
   ]
  },
  {
   "cell_type": "markdown",
   "id": "1df61561-684c-418a-980c-2c62299a216a",
   "metadata": {},
   "source": [
    "## assembly"
   ]
  },
  {
   "cell_type": "code",
   "execution_count": null,
   "id": "09ca0cce-bad8-40a0-81bd-f93f8a39518f",
   "metadata": {},
   "outputs": [],
   "source": [
    "assembly_path = '/storage/btbgenie/assembly/'\n",
    "\n",
    "for i,r in pairs[5:10].iterrows():    \n",
    "    name=r['sample']\n",
    "    print (name)\n",
    "    out = os.path.join(assembly_path,name+'.fa')\n",
    "    print (out)\n",
    "    spades(r[1], r[2], os.path.join(assembly_path,name), outfile=out, threads=12)"
   ]
  },
  {
   "cell_type": "markdown",
   "id": "255fab33-d9d4-4cc6-9edf-04a7d8250fd9",
   "metadata": {},
   "source": [
    "## get consensus sequence from alignment instead of assembly"
   ]
  },
  {
   "cell_type": "code",
   "execution_count": 42,
   "id": "b1450e60-5c58-4c34-9927-b11396ef068b",
   "metadata": {},
   "outputs": [
    {
     "name": "stderr",
     "output_type": "stream",
     "text": [
      "The site LT708304.1:1358368 overlaps with another variant, skipping...\n",
      "The site LT708304.1:1358369 overlaps with another variant, skipping...\n",
      "The site LT708304.1:1358370 overlaps with another variant, skipping...\n",
      "The site LT708304.1:3880152 overlaps with another variant, skipping...\n",
      "The site LT708304.1:3884294 overlaps with another variant, skipping...\n",
      "Applied 393 variants\n"
     ]
    }
   ],
   "source": [
    "wgmlst.get_consensus(vcf_file, '1034','consensus.fa')"
   ]
  },
  {
   "cell_type": "markdown",
   "id": "f036d0a1-efe2-497b-bccf-93b0b305a212",
   "metadata": {},
   "source": [
    "## test annotatation"
   ]
  },
  {
   "cell_type": "code",
   "execution_count": 61,
   "id": "65652405-949d-4bd8-be2e-e1869169890f",
   "metadata": {},
   "outputs": [],
   "source": [
    "reload(wgmlst)\n",
    "#seqfile='/storage/btbgenie/assembly/1034.fa'\n",
    "seqfile='consensus.fa'\n",
    "#featdf,recs = pg.run_annotation(seqfile, threads=10, kingdom='bacteria', trusted=wgmlst.ref_proteins)\n",
    "annotfile='/storage/btbgenie/mlst_consensus_test/1034.gb'\n",
    "\n",
    "#write out nucl sequence\n",
    "SeqIO.write(recs,annotfile,'genbank')\n",
    "#make nuc sequences - used for typing\n",
    "outfile = '/storage/btbgenie/mlst_consensus_test/1034.fa'\n",
    "res = wgmlst.get_nucleotide_sequences(annotfile,outfile,idkey='protein_id')"
   ]
  },
  {
   "cell_type": "code",
   "execution_count": 13,
   "id": "d1112407-b094-45a1-9b2e-d1936429d4d1",
   "metadata": {},
   "outputs": [
    {
     "data": {
      "text/html": [
       "<div>\n",
       "<style scoped>\n",
       "    .dataframe tbody tr th:only-of-type {\n",
       "        vertical-align: middle;\n",
       "    }\n",
       "\n",
       "    .dataframe tbody tr th {\n",
       "        vertical-align: top;\n",
       "    }\n",
       "\n",
       "    .dataframe thead th {\n",
       "        text-align: right;\n",
       "    }\n",
       "</style>\n",
       "<table border=\"1\" class=\"dataframe\">\n",
       "  <thead>\n",
       "    <tr style=\"text-align: right;\">\n",
       "      <th></th>\n",
       "      <th>name</th>\n",
       "      <th>sequence</th>\n",
       "      <th>description</th>\n",
       "      <th>type</th>\n",
       "    </tr>\n",
       "  </thead>\n",
       "  <tbody>\n",
       "    <tr>\n",
       "      <th>3240</th>\n",
       "      <td>Mb0014c</td>\n",
       "      <td>CTACTGGCCGAACCTCAGCGTGATGATGCCGTCCCGGTTGACGCCGGTCCCCGCCGGCGGGTTTTGATAGACGACCCGGTTGTGTTGGGAGCCACCGGCGTCGACGTCGGCCCCTTTGTCGAGCATCCCGGTCCAGCCCAGCGCGC...</td>\n",
       "      <td>Mb0014c &lt;unknown description&gt;</td>\n",
       "      <td>CDS</td>\n",
       "    </tr>\n",
       "  </tbody>\n",
       "</table>\n",
       "</div>"
      ],
      "text/plain": [
       "         name                                                                                                                                               sequence                    description  \\\n",
       "3240  Mb0014c  CTACTGGCCGAACCTCAGCGTGATGATGCCGTCCCGGTTGACGCCGGTCCCCGCCGGCGGGTTTTGATAGACGACCCGGTTGTGTTGGGAGCCACCGGCGTCGACGTCGGCCCCTTTGTCGAGCATCCCGGTCCAGCCCAGCGCGC...  Mb0014c <unknown description>   \n",
       "\n",
       "     type  \n",
       "3240  CDS  "
      ]
     },
     "execution_count": 13,
     "metadata": {},
     "output_type": "execute_result"
    }
   ],
   "source": [
    "#fastafile='/storage/btbgenie/annotation_assembly/1034.fa'\n",
    "#df = pg.tools.fasta_to_dataframe(fastafile)\n",
    "#df[df.name=='Mb0014c']"
   ]
  },
  {
   "cell_type": "markdown",
   "id": "79ac29a2-70eb-4364-8036-877f7c8113e6",
   "metadata": {},
   "source": [
    "## test typing"
   ]
  },
  {
   "cell_type": "code",
   "execution_count": 68,
   "id": "18704833-b679-49c8-b459-4d0ca72ee22a",
   "metadata": {},
   "outputs": [
    {
     "name": "stderr",
     "output_type": "stream",
     "text": [
      "/home/farrell/gitprojects/snipgenie/snipgenie/tools.py:385: FutureWarning: The default value of regex will change from True to False in a future version. In addition, single character regular expressions will *not* be treated as literal strings when regex=True.\n",
      "  df[key] = df[key].str.replace('|','_')\n"
     ]
    },
    {
     "name": "stdout",
     "output_type": "stream",
     "text": [
      "added 0 new alleles\n",
      "3184\n"
     ]
    }
   ],
   "source": [
    "prof,new = wgmlst.find_alleles(outfile)\n",
    "wgmlst.update_mlst_db(new)\n",
    "print (len(prof))"
   ]
  },
  {
   "cell_type": "code",
   "execution_count": 102,
   "id": "0aaa32a2-0d5f-44e7-b5d9-95148f858e9e",
   "metadata": {},
   "outputs": [
    {
     "name": "stdout",
     "output_type": "stream",
     "text": [
      "added 0 new alleles\n"
     ]
    }
   ],
   "source": [
    "reload(wgmlst)\n",
    "#all typing in one go\n",
    "res = wgmlst.type_sample('consensus.fa', annotfile, outfile, threads=10)"
   ]
  },
  {
   "cell_type": "code",
   "execution_count": 103,
   "id": "1563f5be-5540-4f9e-a29b-2ae7e8f02864",
   "metadata": {},
   "outputs": [
    {
     "data": {
      "text/html": [
       "<div>\n",
       "<style scoped>\n",
       "    .dataframe tbody tr th:only-of-type {\n",
       "        vertical-align: middle;\n",
       "    }\n",
       "\n",
       "    .dataframe tbody tr th {\n",
       "        vertical-align: top;\n",
       "    }\n",
       "\n",
       "    .dataframe thead th {\n",
       "        text-align: right;\n",
       "    }\n",
       "</style>\n",
       "<table border=\"1\" class=\"dataframe\">\n",
       "  <thead>\n",
       "    <tr style=\"text-align: right;\">\n",
       "      <th></th>\n",
       "      <th>name</th>\n",
       "      <th>allele</th>\n",
       "    </tr>\n",
       "  </thead>\n",
       "  <tbody>\n",
       "    <tr>\n",
       "      <th>0</th>\n",
       "      <td>Mb0014c</td>\n",
       "      <td>1</td>\n",
       "    </tr>\n",
       "    <tr>\n",
       "      <th>1</th>\n",
       "      <td>Mb0015c</td>\n",
       "      <td>1</td>\n",
       "    </tr>\n",
       "    <tr>\n",
       "      <th>2</th>\n",
       "      <td>Mb0016c</td>\n",
       "      <td>1</td>\n",
       "    </tr>\n",
       "    <tr>\n",
       "      <th>3</th>\n",
       "      <td>Mb0017c</td>\n",
       "      <td>1</td>\n",
       "    </tr>\n",
       "    <tr>\n",
       "      <th>4</th>\n",
       "      <td>Mb0018c</td>\n",
       "      <td>2</td>\n",
       "    </tr>\n",
       "    <tr>\n",
       "      <th>...</th>\n",
       "      <td>...</td>\n",
       "      <td>...</td>\n",
       "    </tr>\n",
       "    <tr>\n",
       "      <th>3179</th>\n",
       "      <td>Mb3936c</td>\n",
       "      <td>1</td>\n",
       "    </tr>\n",
       "    <tr>\n",
       "      <th>3180</th>\n",
       "      <td>Mb3937c</td>\n",
       "      <td>1</td>\n",
       "    </tr>\n",
       "    <tr>\n",
       "      <th>3181</th>\n",
       "      <td>Mb3938</td>\n",
       "      <td>2</td>\n",
       "    </tr>\n",
       "    <tr>\n",
       "      <th>3182</th>\n",
       "      <td>Mb3939</td>\n",
       "      <td>1</td>\n",
       "    </tr>\n",
       "    <tr>\n",
       "      <th>3183</th>\n",
       "      <td>Mb3940</td>\n",
       "      <td>1</td>\n",
       "    </tr>\n",
       "  </tbody>\n",
       "</table>\n",
       "<p>3184 rows × 2 columns</p>\n",
       "</div>"
      ],
      "text/plain": [
       "         name  allele\n",
       "0     Mb0014c       1\n",
       "1     Mb0015c       1\n",
       "2     Mb0016c       1\n",
       "3     Mb0017c       1\n",
       "4     Mb0018c       2\n",
       "...       ...     ...\n",
       "3179  Mb3936c       1\n",
       "3180  Mb3937c       1\n",
       "3181   Mb3938       2\n",
       "3182   Mb3939       1\n",
       "3183   Mb3940       1\n",
       "\n",
       "[3184 rows x 2 columns]"
      ]
     },
     "execution_count": 103,
     "metadata": {},
     "output_type": "execute_result"
    }
   ],
   "source": [
    "res"
   ]
  },
  {
   "cell_type": "code",
   "execution_count": null,
   "id": "fdc652d8-7609-4250-a71a-0431f6bb5c70",
   "metadata": {},
   "outputs": [],
   "source": [
    "wgmlst.get_profile_string(prof)"
   ]
  },
  {
   "cell_type": "markdown",
   "id": "ea02a7c5-940e-4566-8bda-11ddd4d97244",
   "metadata": {},
   "source": [
    "## profiles from assembly - not needed?"
   ]
  },
  {
   "cell_type": "code",
   "execution_count": null,
   "id": "3a1e6f8a-e49d-411d-99b4-7904aefa2676",
   "metadata": {},
   "outputs": [],
   "source": [
    "profs = {}\n",
    "omit=['182-MBovis','19-4281','19-2438']\n",
    "samples=glob.glob(os.path.join(assembly_path,'*.fa'))\n",
    "pdf=pd.DataFrame()\n",
    "for s in samples:\n",
    "    print (s)\n",
    "    sample = os.path.splitext(os.path.basename(s))[0]    \n",
    "    if sample in omit:\n",
    "        continue\n",
    "    profile = type_sample(s, '/storage/btbgenie/annotation_assembly/%s.fa' %sample, threads=12)\n",
    "    pdf[sample] = profile['allele']\n",
    "    profs[sample] = get_profile_string(profile)"
   ]
  },
  {
   "cell_type": "markdown",
   "id": "9bdacafc-a95c-4201-93b8-733d3a77e52a",
   "metadata": {},
   "source": [
    "## find distances between mlst profiles"
   ]
  },
  {
   "cell_type": "code",
   "execution_count": 22,
   "id": "68e8b4de-4e52-4aae-8fe4-80eba13d3abf",
   "metadata": {},
   "outputs": [],
   "source": [
    "def diff_profiles(s1, s2):    \n",
    "    return sum(1 for a, b in zip(s1, s2) if a != b)"
   ]
  },
  {
   "cell_type": "code",
   "execution_count": null,
   "id": "09d0f523-b5eb-4fc2-af3e-95b499d153e4",
   "metadata": {},
   "outputs": [],
   "source": [
    "import random\n",
    "test = {'A':'1112233','B':'1112213','C':'2111213','D':'2111232','E':'212211','F':'2111222'}\n",
    "\n",
    "d = wgmlst.dist_matrix(test)\n",
    "wgmlst.tree_from_distmatrix(d)\n",
    "tre = toytree.tree(treefile)\n",
    "canvas,t,r=tre.draw(layout='r',scalebar=True,width=500)\n",
    "sns.clustermap(d,figsize=(5,5))"
   ]
  },
  {
   "cell_type": "markdown",
   "id": "56cb4f55-9423-4522-a44f-f06c060f57f4",
   "metadata": {},
   "source": [
    "## test on wicklow samples"
   ]
  },
  {
   "cell_type": "code",
   "execution_count": 92,
   "id": "e1b72173-d0d9-4f1a-b0b2-a55fd98cd42a",
   "metadata": {},
   "outputs": [
    {
     "data": {
      "text/html": [
       "<div>\n",
       "<style scoped>\n",
       "    .dataframe tbody tr th:only-of-type {\n",
       "        vertical-align: middle;\n",
       "    }\n",
       "\n",
       "    .dataframe tbody tr th {\n",
       "        vertical-align: top;\n",
       "    }\n",
       "\n",
       "    .dataframe thead th {\n",
       "        text-align: right;\n",
       "    }\n",
       "</style>\n",
       "<table border=\"1\" class=\"dataframe\">\n",
       "  <thead>\n",
       "    <tr style=\"text-align: right;\">\n",
       "      <th></th>\n",
       "      <th>name</th>\n",
       "      <th>allele</th>\n",
       "      <th>sequence</th>\n",
       "    </tr>\n",
       "  </thead>\n",
       "  <tbody>\n",
       "    <tr>\n",
       "      <th>0</th>\n",
       "      <td>Mb0014c</td>\n",
       "      <td>1</td>\n",
       "      <td>CTACTGGCCGAACCTCAGCGTGATGATGCCGTCCCGGTTGACGCCGGTCCCCGCCGGCGGGTTTTGATAGACGACCCGGTTGTGTTGGGAGCCACCGGCGTCGACGTCGGCCCCTTTGTCGAGCATCCCGGTCCAGCCCAGCGCGC...</td>\n",
       "    </tr>\n",
       "    <tr>\n",
       "      <th>1</th>\n",
       "      <td>Mb0015c</td>\n",
       "      <td>1</td>\n",
       "      <td>TCATTGCGCTATCTCGTATCGGGCCAGCGACGCGCGCGAATGCGGTGTCGGCGGGACAACCCAGCTTTGCAGTCCAGAATGACGTGTTTCCCCGCGTTCCGTCCAATTGAGTCGCGGGCTAGCATCAGTCCCGCCAGTGTTGCTGG...</td>\n",
       "    </tr>\n",
       "    <tr>\n",
       "      <th>2</th>\n",
       "      <td>Mb0016c</td>\n",
       "      <td>1</td>\n",
       "      <td>TCATGGTTCCCCCTGCAGTGCGGCTTCGATCACCGCCCGCCCGATCGGTGCCGCGAGGGCACCTCCGGTGGCGGACAGCCGATCAGCCCCGTTCTCCACCAGCACGGCAACAGCCACCTTGGGCGCTTGTGCGGGCGCAAAGGCGA...</td>\n",
       "    </tr>\n",
       "    <tr>\n",
       "      <th>3</th>\n",
       "      <td>Mb0017c</td>\n",
       "      <td>1</td>\n",
       "      <td>TCATACGCGTTCGATGACCTCGGTGCCGGCCGCCGTAATCGGCGACTTATTTCGTGGGCGGGTGCGCAGTGGGCGGCGGGCTCCGTGCGAGATGCGTGCCAGGATGGCCAGCAATATGTAGTTGGCCAGCAGTGAAGACCCGCCGT...</td>\n",
       "    </tr>\n",
       "    <tr>\n",
       "      <th>4</th>\n",
       "      <td>Mb0018c</td>\n",
       "      <td>1</td>\n",
       "      <td>TCATGCCGCCGCCCGGCAGTCGATGCCCGGCTGAGGCGGGGGTGGCGGAAGTGCGGCCATCGTCGGCGAGCTGGTGACGGGCCAAGGCGTCGGCGGCGACGCGGGCGCTGCCGGGGAGGCACTCGTGGGGATGGCAGGAGTAGTTC...</td>\n",
       "    </tr>\n",
       "    <tr>\n",
       "      <th>...</th>\n",
       "      <td>...</td>\n",
       "      <td>...</td>\n",
       "      <td>...</td>\n",
       "    </tr>\n",
       "    <tr>\n",
       "      <th>3179</th>\n",
       "      <td>Mb3936c</td>\n",
       "      <td>1</td>\n",
       "      <td>CTAAAGGCTGCTGGCGCCGTCGGCGGTGCCGTCGCCGTCGGTGTCGGTCAGCCGTACGTCCCAGCGGCCGTCGCCATCGGTGTCGACGTATCCGGTCACACGCTGCTCACCAGCACACAGCACCCGATCGGCCAGCCCGTCACCGT...</td>\n",
       "    </tr>\n",
       "    <tr>\n",
       "      <th>3180</th>\n",
       "      <td>Mb3937c</td>\n",
       "      <td>1</td>\n",
       "      <td>CTAGCGGTTCCCCCGTGATTTCCACCAGGACAGCAGCTCGGTTGTCGCCTCCTCGGTGGACAACGGGCCGCGCTCTAGCCGCAGCTCCTTCAAGTAGCGCCACGCCTCGCCGACTTGCGGGCCCGCCGGAATGTCGAGCACCGCCA...</td>\n",
       "    </tr>\n",
       "    <tr>\n",
       "      <th>3181</th>\n",
       "      <td>Mb3938</td>\n",
       "      <td>1</td>\n",
       "      <td>GTGTCCGACGGCGAACAAGCCAAATCACGTCGACGCCGGGGGCGGCGCCGCGGGCGGCGCGCTGCGGCTACAGCCGAGAATCACATGGACGCCCAACCGGCCGGCGACGCCACCCCGACCCCGGCAACGGCGAAGCGGTCCCGGTC...</td>\n",
       "    </tr>\n",
       "    <tr>\n",
       "      <th>3182</th>\n",
       "      <td>Mb3939</td>\n",
       "      <td>1</td>\n",
       "      <td>GTGACCGCACTGCAACTCCGCTGGGCCGCTTTGGCGCGCGTCACCTCAGCGATCGGCGTCGTGGCCGGCCTCGCGATGGCGCTCACGGTACCGTCGGCGGCACCGCACGCGCTCGCAGGCGAGCCCAGCCCGACGCCTTTTGTCCA...</td>\n",
       "    </tr>\n",
       "    <tr>\n",
       "      <th>3183</th>\n",
       "      <td>Mb3940</td>\n",
       "      <td>1</td>\n",
       "      <td>ATGAGACCCTCCCCTGGAGAGGTGCCCACGGCATCGCAGAGGCAGCCCGAGCTGTCCGACGCGGCGCTGGTATCGCACTCCTGGGCAATGGCATTCGCGACGCTGATCAGCCGGATCACCGGCTTTGCCCGGATCGTGCTGCTGGC...</td>\n",
       "    </tr>\n",
       "  </tbody>\n",
       "</table>\n",
       "<p>3184 rows × 3 columns</p>\n",
       "</div>"
      ],
      "text/plain": [
       "         name  allele                                                                                                                                               sequence\n",
       "0     Mb0014c       1  CTACTGGCCGAACCTCAGCGTGATGATGCCGTCCCGGTTGACGCCGGTCCCCGCCGGCGGGTTTTGATAGACGACCCGGTTGTGTTGGGAGCCACCGGCGTCGACGTCGGCCCCTTTGTCGAGCATCCCGGTCCAGCCCAGCGCGC...\n",
       "1     Mb0015c       1  TCATTGCGCTATCTCGTATCGGGCCAGCGACGCGCGCGAATGCGGTGTCGGCGGGACAACCCAGCTTTGCAGTCCAGAATGACGTGTTTCCCCGCGTTCCGTCCAATTGAGTCGCGGGCTAGCATCAGTCCCGCCAGTGTTGCTGG...\n",
       "2     Mb0016c       1  TCATGGTTCCCCCTGCAGTGCGGCTTCGATCACCGCCCGCCCGATCGGTGCCGCGAGGGCACCTCCGGTGGCGGACAGCCGATCAGCCCCGTTCTCCACCAGCACGGCAACAGCCACCTTGGGCGCTTGTGCGGGCGCAAAGGCGA...\n",
       "3     Mb0017c       1  TCATACGCGTTCGATGACCTCGGTGCCGGCCGCCGTAATCGGCGACTTATTTCGTGGGCGGGTGCGCAGTGGGCGGCGGGCTCCGTGCGAGATGCGTGCCAGGATGGCCAGCAATATGTAGTTGGCCAGCAGTGAAGACCCGCCGT...\n",
       "4     Mb0018c       1  TCATGCCGCCGCCCGGCAGTCGATGCCCGGCTGAGGCGGGGGTGGCGGAAGTGCGGCCATCGTCGGCGAGCTGGTGACGGGCCAAGGCGTCGGCGGCGACGCGGGCGCTGCCGGGGAGGCACTCGTGGGGATGGCAGGAGTAGTTC...\n",
       "...       ...     ...                                                                                                                                                    ...\n",
       "3179  Mb3936c       1  CTAAAGGCTGCTGGCGCCGTCGGCGGTGCCGTCGCCGTCGGTGTCGGTCAGCCGTACGTCCCAGCGGCCGTCGCCATCGGTGTCGACGTATCCGGTCACACGCTGCTCACCAGCACACAGCACCCGATCGGCCAGCCCGTCACCGT...\n",
       "3180  Mb3937c       1  CTAGCGGTTCCCCCGTGATTTCCACCAGGACAGCAGCTCGGTTGTCGCCTCCTCGGTGGACAACGGGCCGCGCTCTAGCCGCAGCTCCTTCAAGTAGCGCCACGCCTCGCCGACTTGCGGGCCCGCCGGAATGTCGAGCACCGCCA...\n",
       "3181   Mb3938       1  GTGTCCGACGGCGAACAAGCCAAATCACGTCGACGCCGGGGGCGGCGCCGCGGGCGGCGCGCTGCGGCTACAGCCGAGAATCACATGGACGCCCAACCGGCCGGCGACGCCACCCCGACCCCGGCAACGGCGAAGCGGTCCCGGTC...\n",
       "3182   Mb3939       1  GTGACCGCACTGCAACTCCGCTGGGCCGCTTTGGCGCGCGTCACCTCAGCGATCGGCGTCGTGGCCGGCCTCGCGATGGCGCTCACGGTACCGTCGGCGGCACCGCACGCGCTCGCAGGCGAGCCCAGCCCGACGCCTTTTGTCCA...\n",
       "3183   Mb3940       1  ATGAGACCCTCCCCTGGAGAGGTGCCCACGGCATCGCAGAGGCAGCCCGAGCTGTCCGACGCGGCGCTGGTATCGCACTCCTGGGCAATGGCATTCGCGACGCTGATCAGCCGGATCACCGGCTTTGCCCGGATCGTGCTGCTGGC...\n",
       "\n",
       "[3184 rows x 3 columns]"
      ]
     },
     "execution_count": 92,
     "metadata": {},
     "output_type": "execute_result"
    }
   ],
   "source": [
    "pd.read_csv(wgmlst.mbovis_db)"
   ]
  },
  {
   "cell_type": "code",
   "execution_count": null,
   "id": "74b4ea83-c6fa-46bc-934d-114b0a97fc56",
   "metadata": {},
   "outputs": [],
   "source": [
    "reload(wgmlst)\n",
    "reload(tools)\n",
    "omit=['182-MBovis','19-4281','19-2438']\n",
    "profs = wgmlst.run_samples(vcf_file, '/storage/btbgenie/mlst_consensus_test/', threads=12, omit=omit)"
   ]
  },
  {
   "cell_type": "code",
   "execution_count": null,
   "id": "dda818c8-e818-4ea9-8f33-ce5d57483540",
   "metadata": {},
   "outputs": [],
   "source": [
    "for i in profs:\n",
    "    print (i,len(profs[i]))"
   ]
  },
  {
   "cell_type": "markdown",
   "id": "9f475a04-a9d4-4a24-9924-b1f3eded41d8",
   "metadata": {
    "tags": []
   },
   "source": [
    "## tree from profiles"
   ]
  },
  {
   "cell_type": "code",
   "execution_count": null,
   "id": "7716c63f-07c3-4520-b01f-8391b607d427",
   "metadata": {},
   "outputs": [],
   "source": [
    "def make_neighbor_joining_tree(df):\n",
    "    \"\"\"Neighbour joining tree with biopython\"\"\"\n",
    "    \n",
    "    from Bio.Phylo.TreeConstruction import DistanceTreeConstructor\n",
    "    from Bio.Phylo.TreeConstruction import DistanceMatrix\n",
    "    \n",
    "    def lower_matrix(matrix):\n",
    "        #get lower matrix as non-sparse lists\n",
    "        i=0\n",
    "        m=[]\n",
    "        for n in range(1,matrix.shape[0]+1):\n",
    "            m.append(list(x[i:i+n]))\n",
    "            i+=n\n",
    "        return m\n",
    "    \n",
    "    data = df.values\n",
    "    labels = list(df.index)\n",
    "    \n",
    "    matrix = lower_matrix(data)\n",
    "    dm = DistanceMatrix(labels, matrix)\n",
    "    constructor = DistanceTreeConstructor()\n",
    "    tree = constructor.upgma(dm)\n",
    "    return tree\n",
    "\n",
    "# Create a DistanceMatrix object using a list of labels and a list of distances\n",
    "labels = ['A', 'B', 'C', 'D']\n",
    "matrix = [[0, 1, 2, 3], [1, 0, 4, 5], [2, 4, 0, 6], [3, 5, 6, 0]]\n",
    "df = pd.DataFrame(matrix,index=labels,columns=labels)\n",
    "print (df)\n",
    "# Call the make_neighbor_joining_tree function to create the tree\n",
    "tree = make_neighbor_joining_tree(df)\n",
    "\n",
    "print (tree)\n",
    "# Print the tree in Newick format\n",
    "print(tree.format(\"newick\"))\n",
    "tre = toytree.tree(tree.format(\"newick\"))"
   ]
  },
  {
   "cell_type": "code",
   "execution_count": 75,
   "id": "d7a3179e-3d89-4210-831d-ad6450b79652",
   "metadata": {},
   "outputs": [
    {
     "name": "stdout",
     "output_type": "stream",
     "text": [
      "          /-C\n",
      "         |\n",
      "         |          /-B\n",
      "---------|---------|\n",
      "         |          \\-A\n",
      "         |\n",
      "          \\-D\n"
     ]
    }
   ],
   "source": [
    "tree = wgmlst.tree_from_distmatrix(df)\n",
    "print(tree.ascii_art())"
   ]
  },
  {
   "cell_type": "code",
   "execution_count": 106,
   "id": "3165e7d3-a5b3-4065-a27b-98745581292e",
   "metadata": {},
   "outputs": [
    {
     "name": "stdout",
     "output_type": "stream",
     "text": [
      "TreeCluster.py  -i tree.newick -t 3 -m max_clade\n",
      "TreeCluster.py  -i tree.newick -t 5 -m max_clade\n",
      "TreeCluster.py  -i tree.newick -t 7 -m max_clade\n",
      "TreeCluster.py  -i tree.newick -t 10 -m max_clade\n",
      "TreeCluster.py  -i tree.newick -t 12 -m max_clade\n",
      "TreeCluster.py  -i tree.newick -t 20 -m max_clade\n",
      "TreeCluster.py  -i tree.newick -t 50 -m max_clade\n",
      "TreeCluster.py  -i tree.newick -t 100 -m max_clade\n"
     ]
    },
    {
     "data": {
      "text/html": [
       "<div class=\"toyplot\" id=\"t2582ac6d7cdf4f119c02a5de62855ef0\" style=\"text-align:center\"><svg class=\"toyplot-canvas-Canvas\" xmlns:toyplot=\"http://www.sandia.gov/toyplot\" xmlns:xlink=\"http://www.w3.org/1999/xlink\" xmlns=\"http://www.w3.org/2000/svg\" width=\"800.0px\" height=\"600.0px\" viewBox=\"0 0 800.0 600.0\" preserveAspectRatio=\"xMidYMid meet\" style=\"background-color:transparent;border-color:#292724;border-style:none;border-width:1.0;fill:rgb(16.1%,15.3%,14.1%);fill-opacity:1.0;font-family:Helvetica;font-size:12px;opacity:1.0;stroke:rgb(16.1%,15.3%,14.1%);stroke-opacity:1.0;stroke-width:1.0\" id=\"td8ff5b6c141a4df6afdfa00ae1101a50\"><g class=\"toyplot-coordinates-Cartesian\" id=\"ta8596c8f97c84ce1a53088692d7bd476\"><clipPath id=\"tae55f4a726324f6690c48d8b4d09adfb\"><rect x=\"30.0\" y=\"30.0\" width=\"740.0\" height=\"540.0\"></rect></clipPath><g clip-path=\"url(#tae55f4a726324f6690c48d8b4d09adfb)\"><g class=\"toytree-mark-Toytree\" id=\"t69c5045ab5bb49a187b709ec9d93ee16\"><g class=\"toytree-Edges\" style=\"fill:none;stroke:rgb(14.9%,14.9%,14.9%);stroke-linecap:round;stroke-opacity:1;stroke-width:2\"><path d=\"M 51.8 121.9 L 51.8 181.7 L 172.7 181.7\" id=\"94,93\"></path><path d=\"M 172.7 181.7 L 172.7 110.6 L 199.4 110.6\" id=\"93,92\"></path><path d=\"M 172.7 181.7 L 172.7 252.9 L 190.7 252.9\" id=\"93,91\"></path><path d=\"M 199.4 110.6 L 199.4 81.0 L 419.5 81.0\" id=\"92,90\"></path><path d=\"M 199.4 110.6 L 199.4 140.2 L 221.7 140.2\" id=\"92,89\"></path><path d=\"M 190.7 252.9 L 190.7 208.8 L 263.7 208.8\" id=\"91,88\"></path><path d=\"M 190.7 252.9 L 190.7 297.0 L 218.8 297.0\" id=\"91,87\"></path><path d=\"M 419.5 81.0 L 419.5 89.8 L 505.4 89.8\" id=\"90,86\"></path><path d=\"M 221.7 140.2 L 221.7 120.2 L 267.4 120.2\" id=\"89,85\"></path><path d=\"M 221.7 140.2 L 221.7 160.1 L 251.8 160.1\" id=\"89,84\"></path><path d=\"M 218.8 297.0 L 218.8 241.1 L 257.2 241.1\" id=\"87,83\"></path><path d=\"M 218.8 297.0 L 218.8 352.8 L 241.0 352.8\" id=\"87,82\"></path><path d=\"M 505.4 89.8 L 505.4 97.4 L 618.6 97.4\" id=\"86,81\"></path><path d=\"M 267.4 120.2 L 267.4 127.8 L 298.8 127.8\" id=\"85,80\"></path><path d=\"M 251.8 160.1 L 251.8 148.1 L 303.1 148.1\" id=\"84,79\"></path><path d=\"M 251.8 160.1 L 251.8 172.1 L 320.4 172.1\" id=\"84,78\"></path><path d=\"M 257.2 241.1 L 257.2 229.1 L 335.5 229.1\" id=\"83,77\"></path><path d=\"M 257.2 241.1 L 257.2 253.2 L 290.4 253.2\" id=\"83,76\"></path><path d=\"M 241.0 352.8 L 241.0 307.6 L 253.4 307.6\" id=\"82,75\"></path><path d=\"M 241.0 352.8 L 241.0 398.1 L 258.7 398.1\" id=\"82,74\"></path><path d=\"M 320.4 172.1 L 320.4 181.0 L 345.6 181.0\" id=\"78,73\"></path><path d=\"M 290.4 253.2 L 290.4 262.0 L 350.2 262.0\" id=\"76,72\"></path><path d=\"M 253.4 307.6 L 253.4 292.4 L 323.2 292.4\" id=\"75,71\"></path><path d=\"M 253.4 307.6 L 253.4 322.8 L 277.5 322.8\" id=\"75,70\"></path><path d=\"M 258.7 398.1 L 258.7 368.4 L 328.3 368.4\" id=\"74,69\"></path><path d=\"M 258.7 398.1 L 258.7 427.7 L 265.6 427.7\" id=\"74,68\"></path><path d=\"M 345.6 181.0 L 345.6 188.6 L 373.7 188.6\" id=\"73,67\"></path><path d=\"M 350.2 262.0 L 350.2 269.6 L 411.4 269.6\" id=\"72,66\"></path><path d=\"M 323.2 292.4 L 323.2 300.0 L 430.1 300.0\" id=\"71,65\"></path><path d=\"M 277.5 322.8 L 277.5 330.4 L 300.7 330.4\" id=\"70,64\"></path><path d=\"M 328.3 368.4 L 328.3 353.2 L 361.1 353.2\" id=\"69,63\"></path><path d=\"M 328.3 368.4 L 328.3 383.6 L 335.5 383.6\" id=\"69,62\"></path><path d=\"M 265.6 427.7 L 265.6 411.4 L 298.9 411.4\" id=\"68,61\"></path><path d=\"M 265.6 427.7 L 265.6 444.1 L 280.3 444.1\" id=\"68,60\"></path><path d=\"M 361.1 353.2 L 361.1 360.8 L 388.3 360.8\" id=\"63,59\"></path><path d=\"M 335.5 383.6 L 335.5 391.2 L 343.6 391.2\" id=\"62,58\"></path><path d=\"M 280.3 444.1 L 280.3 461.6 L 286.1 461.6\" id=\"60,57\"></path><path d=\"M 286.1 461.6 L 286.1 441.8 L 304.8 441.8\" id=\"57,56\"></path><path d=\"M 286.1 461.6 L 286.1 481.4 L 288.4 481.4\" id=\"57,55\"></path><path d=\"M 288.4 481.4 L 288.4 462.0 L 356.3 462.0\" id=\"55,54\"></path><path d=\"M 288.4 481.4 L 288.4 500.7 L 291.1 500.7\" id=\"55,53\"></path><path d=\"M 291.1 500.7 L 291.1 484.8 L 303.0 484.8\" id=\"53,52\"></path><path d=\"M 291.1 500.7 L 291.1 516.5 L 292.1 516.5\" id=\"53,51\"></path><path d=\"M 303.0 484.8 L 303.0 492.4 L 406.0 492.4\" id=\"52,50\"></path><path d=\"M 292.1 516.5 L 292.1 525.3 L 305.5 525.3\" id=\"51,49\"></path><path d=\"M 305.5 525.3 L 305.5 532.9 L 330.3 532.9\" id=\"49,48\"></path><path d=\"M 51.8 121.9 L 51.8 62.0 L 172.7 62.0\" id=\"94,47\"></path><path d=\"M 419.5 81.0 L 419.5 72.1 L 667.1 72.1\" id=\"90,46\"></path><path d=\"M 505.4 89.8 L 505.4 82.3 L 636.5 82.3\" id=\"86,45\"></path><path d=\"M 618.6 97.4 L 618.6 92.4 L 669.2 92.4\" id=\"81,44\"></path><path d=\"M 618.6 97.4 L 618.6 102.5 L 643.1 102.5\" id=\"81,43\"></path><path d=\"M 267.4 120.2 L 267.4 112.6 L 499.0 112.6\" id=\"85,42\"></path><path d=\"M 298.8 127.8 L 298.8 122.8 L 424.7 122.8\" id=\"80,41\"></path><path d=\"M 298.8 127.8 L 298.8 132.9 L 510.9 132.9\" id=\"80,40\"></path><path d=\"M 303.1 148.1 L 303.1 143.0 L 343.9 143.0\" id=\"79,39\"></path><path d=\"M 303.1 148.1 L 303.1 153.1 L 374.9 153.1\" id=\"79,38\"></path><path d=\"M 320.4 172.1 L 320.4 163.3 L 445.4 163.3\" id=\"78,37\"></path><path d=\"M 345.6 181.0 L 345.6 173.4 L 373.9 173.4\" id=\"73,36\"></path><path d=\"M 373.7 188.6 L 373.7 183.5 L 419.7 183.5\" id=\"67,35\"></path><path d=\"M 373.7 188.6 L 373.7 193.7 L 421.6 193.7\" id=\"67,34\"></path><path d=\"M 263.7 208.8 L 263.7 203.8 L 475.6 203.8\" id=\"88,33\"></path><path d=\"M 263.7 208.8 L 263.7 213.9 L 389.9 213.9\" id=\"88,32\"></path><path d=\"M 335.5 229.1 L 335.5 224.0 L 507.7 224.0\" id=\"77,31\"></path><path d=\"M 335.5 229.1 L 335.5 234.2 L 689.3 234.2\" id=\"77,30\"></path><path d=\"M 290.4 253.2 L 290.4 244.3 L 418.5 244.3\" id=\"76,29\"></path><path d=\"M 350.2 262.0 L 350.2 254.4 L 476.9 254.4\" id=\"72,28\"></path><path d=\"M 411.4 269.6 L 411.4 264.6 L 585.2 264.6\" id=\"66,27\"></path><path d=\"M 411.4 269.6 L 411.4 274.7 L 575.7 274.7\" id=\"66,26\"></path><path d=\"M 323.2 292.4 L 323.2 284.8 L 517.0 284.8\" id=\"71,25\"></path><path d=\"M 430.1 300.0 L 430.1 294.9 L 498.2 294.9\" id=\"65,24\"></path><path d=\"M 430.1 300.0 L 430.1 305.1 L 549.8 305.1\" id=\"65,23\"></path><path d=\"M 277.5 322.8 L 277.5 315.2 L 658.3 315.2\" id=\"70,22\"></path><path d=\"M 300.7 330.4 L 300.7 325.3 L 408.2 325.3\" id=\"64,21\"></path><path d=\"M 300.7 330.4 L 300.7 335.4 L 418.7 335.4\" id=\"64,20\"></path><path d=\"M 361.1 353.2 L 361.1 345.6 L 484.2 345.6\" id=\"63,19\"></path><path d=\"M 388.3 360.8 L 388.3 355.7 L 483.5 355.7\" id=\"59,18\"></path><path d=\"M 388.3 360.8 L 388.3 365.8 L 462.1 365.8\" id=\"59,17\"></path><path d=\"M 335.5 383.6 L 335.5 376.0 L 365.1 376.0\" id=\"62,16\"></path><path d=\"M 343.6 391.2 L 343.6 386.1 L 358.7 386.1\" id=\"58,15\"></path><path d=\"M 343.6 391.2 L 343.6 396.2 L 366.1 396.2\" id=\"58,14\"></path><path d=\"M 298.9 411.4 L 298.9 406.3 L 460.1 406.3\" id=\"61,13\"></path><path d=\"M 298.9 411.4 L 298.9 416.5 L 344.3 416.5\" id=\"61,12\"></path><path d=\"M 280.3 444.1 L 280.3 426.6 L 352.4 426.6\" id=\"60,11\"></path><path d=\"M 304.8 441.8 L 304.8 436.7 L 312.2 436.7\" id=\"56,10\"></path><path d=\"M 304.8 441.8 L 304.8 446.9 L 316.3 446.9\" id=\"56,9\"></path><path d=\"M 356.3 462.0 L 356.3 457.0 L 383.3 457.0\" id=\"54,8\"></path><path d=\"M 356.3 462.0 L 356.3 467.1 L 385.7 467.1\" id=\"54,7\"></path><path d=\"M 303.0 484.8 L 303.0 477.2 L 350.2 477.2\" id=\"52,6\"></path><path d=\"M 406.0 492.4 L 406.0 487.4 L 420.7 487.4\" id=\"50,5\"></path><path d=\"M 406.0 492.4 L 406.0 497.5 L 466.5 497.5\" id=\"50,4\"></path><path d=\"M 292.1 516.5 L 292.1 507.6 L 353.8 507.6\" id=\"51,3\"></path><path d=\"M 305.5 525.3 L 305.5 517.7 L 318.2 517.7\" id=\"49,2\"></path><path d=\"M 330.3 532.9 L 330.3 527.9 L 351.7 527.9\" id=\"48,1\"></path><path d=\"M 330.3 532.9 L 330.3 538.0 L 346.5 538.0\" id=\"48,0\"></path></g><g class=\"toytree-TipLabels\" style=\"fill:rgb(14.9%,14.9%,14.9%);fill-opacity:1.0;font-family:helvetica;font-size:11px;font-weight:normal;stroke:none;white-space:pre\"><g transform=\"translate(346.46,538.00)rotate(0)\"><text x=\"15.00\" y=\"2.81\" style=\"\">25-MBovis</text></g><g transform=\"translate(351.71,527.88)rotate(0)\"><text x=\"15.00\" y=\"2.81\" style=\"\">30-MBovis</text></g><g transform=\"translate(318.21,517.75)rotate(0)\"><text x=\"15.00\" y=\"2.81\" style=\"\">14-MBovis</text></g><g transform=\"translate(353.83,507.62)rotate(0)\"><text x=\"15.00\" y=\"2.81\" style=\"\">27-MBovis</text></g><g transform=\"translate(466.55,497.49)rotate(0)\"><text x=\"15.00\" y=\"2.81\" style=\"\">45-MBovis</text></g><g transform=\"translate(420.68,487.37)rotate(0)\"><text x=\"15.00\" y=\"2.81\" style=\"\">7-10423</text></g><g transform=\"translate(350.19,477.24)rotate(0)\"><text x=\"15.00\" y=\"2.81\" style=\"\">41-MBovis</text></g><g transform=\"translate(385.70,467.11)rotate(0)\"><text x=\"15.00\" y=\"2.81\" style=\"\">38-MBovis</text></g><g transform=\"translate(383.26,456.98)rotate(0)\"><text x=\"15.00\" y=\"2.81\" style=\"\">52-3698</text></g><g transform=\"translate(316.27,446.85)rotate(0)\"><text x=\"15.00\" y=\"2.81\" style=\"\">23-MBovis</text></g><g transform=\"translate(312.15,436.73)rotate(0)\"><text x=\"15.00\" y=\"2.81\" style=\"\">51-MBovis</text></g><g transform=\"translate(352.43,426.60)rotate(0)\"><text x=\"15.00\" y=\"2.81\" style=\"\">47-MBovis</text></g><g transform=\"translate(344.25,416.47)rotate(0)\"><text x=\"15.00\" y=\"2.81\" style=\"\">37-MBovis</text></g><g transform=\"translate(460.10,406.34)rotate(0)\"><text x=\"15.00\" y=\"2.81\" style=\"\">55-4348</text></g><g transform=\"translate(366.10,396.21)rotate(0)\"><text x=\"15.00\" y=\"2.81\" style=\"\">59-6110</text></g><g transform=\"translate(358.67,386.09)rotate(0)\"><text x=\"15.00\" y=\"2.81\" style=\"\">59-MBovis</text></g><g transform=\"translate(365.05,375.96)rotate(0)\"><text x=\"15.00\" y=\"2.81\" style=\"\">19-MBovis</text></g><g transform=\"translate(462.15,365.83)rotate(0)\"><text x=\"15.00\" y=\"2.81\" style=\"\">42-MBovis</text></g><g transform=\"translate(483.52,355.70)rotate(0)\"><text x=\"15.00\" y=\"2.81\" style=\"\">48-2919</text></g><g transform=\"translate(484.15,345.58)rotate(0)\"><text x=\"15.00\" y=\"2.81\" style=\"\">48-MBovis</text></g><g transform=\"translate(418.66,335.45)rotate(0)\"><text x=\"15.00\" y=\"2.81\" style=\"\">49-MBovis</text></g><g transform=\"translate(408.24,325.32)rotate(0)\"><text x=\"15.00\" y=\"2.81\" style=\"\">54-MBovis</text></g><g transform=\"translate(658.27,315.19)rotate(0)\"><text x=\"15.00\" y=\"2.81\" style=\"\">51-3292</text></g><g transform=\"translate(549.79,305.06)rotate(0)\"><text x=\"15.00\" y=\"2.81\" style=\"\">26-12883</text></g><g transform=\"translate(498.24,294.94)rotate(0)\"><text x=\"15.00\" y=\"2.81\" style=\"\">3-10110</text></g><g transform=\"translate(516.99,284.81)rotate(0)\"><text x=\"15.00\" y=\"2.81\" style=\"\">41-2165</text></g><g transform=\"translate(575.73,274.68)rotate(0)\"><text x=\"15.00\" y=\"2.81\" style=\"\">5-10284</text></g><g transform=\"translate(585.18,264.55)rotate(0)\"><text x=\"15.00\" y=\"2.81\" style=\"\">TB18-001924</text></g><g transform=\"translate(476.87,254.42)rotate(0)\"><text x=\"15.00\" y=\"2.81\" style=\"\">17-MBovis</text></g><g transform=\"translate(418.54,244.30)rotate(0)\"><text x=\"15.00\" y=\"2.81\" style=\"\">35-MBovis</text></g><g transform=\"translate(689.31,234.17)rotate(0)\"><text x=\"15.00\" y=\"2.81\" style=\"\">1034</text></g><g transform=\"translate(507.66,224.04)rotate(0)\"><text x=\"15.00\" y=\"2.81\" style=\"\">44-MBovis</text></g><g transform=\"translate(389.93,213.91)rotate(0)\"><text x=\"15.00\" y=\"2.81\" style=\"\">TB20-003486</text></g><g transform=\"translate(475.57,203.79)rotate(0)\"><text x=\"15.00\" y=\"2.81\" style=\"\">cat-003488</text></g><g transform=\"translate(421.62,193.66)rotate(0)\"><text x=\"15.00\" y=\"2.81\" style=\"\">13-11594</text></g><g transform=\"translate(419.66,183.53)rotate(0)\"><text x=\"15.00\" y=\"2.81\" style=\"\">56-MBovis</text></g><g transform=\"translate(373.91,173.40)rotate(0)\"><text x=\"15.00\" y=\"2.81\" style=\"\">50-MBovis</text></g><g transform=\"translate(445.44,163.27)rotate(0)\"><text x=\"15.00\" y=\"2.81\" style=\"\">22-12200</text></g><g transform=\"translate(374.94,153.15)rotate(0)\"><text x=\"15.00\" y=\"2.81\" style=\"\">26-MBovis</text></g><g transform=\"translate(343.92,143.02)rotate(0)\"><text x=\"15.00\" y=\"2.81\" style=\"\">36-MBovis</text></g><g transform=\"translate(510.93,132.89)rotate(0)\"><text x=\"15.00\" y=\"2.81\" style=\"\">24-MBovis</text></g><g transform=\"translate(424.75,122.76)rotate(0)\"><text x=\"15.00\" y=\"2.81\" style=\"\">29-MBovis</text></g><g transform=\"translate(498.97,112.63)rotate(0)\"><text x=\"15.00\" y=\"2.81\" style=\"\">17-11662</text></g><g transform=\"translate(643.06,102.51)rotate(0)\"><text x=\"15.00\" y=\"2.81\" style=\"\">19-11957</text></g><g transform=\"translate(669.20,92.38)rotate(0)\"><text x=\"15.00\" y=\"2.81\" style=\"\">31-12952</text></g><g transform=\"translate(636.51,82.25)rotate(0)\"><text x=\"15.00\" y=\"2.81\" style=\"\">28-12935</text></g><g transform=\"translate(667.13,72.12)rotate(0)\"><text x=\"15.00\" y=\"2.81\" style=\"\">15-11643</text></g><g transform=\"translate(172.67,62.00)rotate(0)\"><text x=\"15.00\" y=\"2.81\" style=\"\">43-MBovis</text></g></g></g></g><g class=\"toyplot-coordinates-Axis\" id=\"te37ff000ca5c4e3a8dd9e74ffed7c218\" transform=\"translate(50.0,550.0)translate(0,20.0)\"><line x1=\"1.821409661468397\" y1=\"0\" x2=\"639.3147911753873\" y2=\"0\" style=\"\"></line><g><line x1=\"639.3147911753873\" y1=\"0\" x2=\"639.3147911753873\" y2=\"-5\" style=\"\"></line><line x1=\"548.2443081019703\" y1=\"0\" x2=\"548.2443081019703\" y2=\"-5\" style=\"\"></line><line x1=\"457.1738250285533\" y1=\"0\" x2=\"457.1738250285533\" y2=\"-5\" style=\"\"></line><line x1=\"366.1033419551364\" y1=\"0\" x2=\"366.1033419551364\" y2=\"-5\" style=\"\"></line><line x1=\"275.0328588817193\" y1=\"0\" x2=\"275.0328588817193\" y2=\"-5\" style=\"\"></line><line x1=\"183.96237580830223\" y1=\"0\" x2=\"183.96237580830223\" y2=\"-5\" style=\"\"></line><line x1=\"92.89189273488525\" y1=\"0\" x2=\"92.89189273488525\" y2=\"-5\" style=\"\"></line><line x1=\"1.8214096614682636\" y1=\"0\" x2=\"1.8214096614682636\" y2=\"-5\" style=\"\"></line></g><g><g transform=\"translate(639.3147911753873,6)\"><text x=\"-2.78\" y=\"8.555\" style=\"fill:rgb(16.1%,15.3%,14.1%);fill-opacity:1.0;font-family:helvetica;font-size:10.0px;font-weight:normal;stroke:none;vertical-align:baseline;white-space:pre\">0</text></g><g transform=\"translate(548.2443081019703,6)\"><text x=\"-2.78\" y=\"8.555\" style=\"fill:rgb(16.1%,15.3%,14.1%);fill-opacity:1.0;font-family:helvetica;font-size:10.0px;font-weight:normal;stroke:none;vertical-align:baseline;white-space:pre\">5</text></g><g transform=\"translate(457.1738250285533,6)\"><text x=\"-5.56\" y=\"8.555\" style=\"fill:rgb(16.1%,15.3%,14.1%);fill-opacity:1.0;font-family:helvetica;font-size:10.0px;font-weight:normal;stroke:none;vertical-align:baseline;white-space:pre\">10</text></g><g transform=\"translate(366.1033419551364,6)\"><text x=\"-5.56\" y=\"8.555\" style=\"fill:rgb(16.1%,15.3%,14.1%);fill-opacity:1.0;font-family:helvetica;font-size:10.0px;font-weight:normal;stroke:none;vertical-align:baseline;white-space:pre\">15</text></g><g transform=\"translate(275.0328588817193,6)\"><text x=\"-5.56\" y=\"8.555\" style=\"fill:rgb(16.1%,15.3%,14.1%);fill-opacity:1.0;font-family:helvetica;font-size:10.0px;font-weight:normal;stroke:none;vertical-align:baseline;white-space:pre\">19</text></g><g transform=\"translate(183.96237580830223,6)\"><text x=\"-5.56\" y=\"8.555\" style=\"fill:rgb(16.1%,15.3%,14.1%);fill-opacity:1.0;font-family:helvetica;font-size:10.0px;font-weight:normal;stroke:none;vertical-align:baseline;white-space:pre\">24</text></g><g transform=\"translate(92.89189273488525,6)\"><text x=\"-5.56\" y=\"8.555\" style=\"fill:rgb(16.1%,15.3%,14.1%);fill-opacity:1.0;font-family:helvetica;font-size:10.0px;font-weight:normal;stroke:none;vertical-align:baseline;white-space:pre\">29</text></g><g transform=\"translate(1.8214096614682636,6)\"><text x=\"-5.56\" y=\"8.555\" style=\"fill:rgb(16.1%,15.3%,14.1%);fill-opacity:1.0;font-family:helvetica;font-size:10.0px;font-weight:normal;stroke:none;vertical-align:baseline;white-space:pre\">34</text></g></g><g class=\"toyplot-coordinates-Axis-coordinates\" style=\"visibility:hidden\" transform=\"\"><line x1=\"0\" x2=\"0\" y1=\"-3.0\" y2=\"4.5\" style=\"stroke:rgb(43.9%,50.2%,56.5%);stroke-opacity:1.0;stroke-width:1.0\"></line><text x=\"0\" y=\"-6\" style=\"alignment-baseline:alphabetic;fill:rgb(43.9%,50.2%,56.5%);fill-opacity:1.0;font-size:10px;font-weight:normal;stroke:none;text-anchor:middle\"></text></g></g></g></svg><div class=\"toyplot-behavior\"><script>(function()\n",
       "{\n",
       "var modules={};\n",
       "modules[\"toyplot/canvas/id\"] = \"td8ff5b6c141a4df6afdfa00ae1101a50\";\n",
       "modules[\"toyplot/canvas\"] = (function(canvas_id)\n",
       "    {\n",
       "        return document.querySelector(\"#\" + canvas_id);\n",
       "    })(modules[\"toyplot/canvas/id\"]);\n",
       "modules[\"toyplot.coordinates.Axis\"] = (\n",
       "        function(canvas)\n",
       "        {\n",
       "            function sign(x)\n",
       "            {\n",
       "                return x < 0 ? -1 : x > 0 ? 1 : 0;\n",
       "            }\n",
       "\n",
       "            function mix(a, b, amount)\n",
       "            {\n",
       "                return ((1.0 - amount) * a) + (amount * b);\n",
       "            }\n",
       "\n",
       "            function log(x, base)\n",
       "            {\n",
       "                return Math.log(Math.abs(x)) / Math.log(base);\n",
       "            }\n",
       "\n",
       "            function in_range(a, x, b)\n",
       "            {\n",
       "                var left = Math.min(a, b);\n",
       "                var right = Math.max(a, b);\n",
       "                return left <= x && x <= right;\n",
       "            }\n",
       "\n",
       "            function inside(range, projection)\n",
       "            {\n",
       "                for(var i = 0; i != projection.length; ++i)\n",
       "                {\n",
       "                    var segment = projection[i];\n",
       "                    if(in_range(segment.range.min, range, segment.range.max))\n",
       "                        return true;\n",
       "                }\n",
       "                return false;\n",
       "            }\n",
       "\n",
       "            function to_domain(range, projection)\n",
       "            {\n",
       "                for(var i = 0; i != projection.length; ++i)\n",
       "                {\n",
       "                    var segment = projection[i];\n",
       "                    if(in_range(segment.range.bounds.min, range, segment.range.bounds.max))\n",
       "                    {\n",
       "                        if(segment.scale == \"linear\")\n",
       "                        {\n",
       "                            var amount = (range - segment.range.min) / (segment.range.max - segment.range.min);\n",
       "                            return mix(segment.domain.min, segment.domain.max, amount)\n",
       "                        }\n",
       "                        else if(segment.scale[0] == \"log\")\n",
       "                        {\n",
       "                            var amount = (range - segment.range.min) / (segment.range.max - segment.range.min);\n",
       "                            var base = segment.scale[1];\n",
       "                            return sign(segment.domain.min) * Math.pow(base, mix(log(segment.domain.min, base), log(segment.domain.max, base), amount));\n",
       "                        }\n",
       "                    }\n",
       "                }\n",
       "            }\n",
       "\n",
       "            var axes = {};\n",
       "\n",
       "            function display_coordinates(e)\n",
       "            {\n",
       "                var current = canvas.createSVGPoint();\n",
       "                current.x = e.clientX;\n",
       "                current.y = e.clientY;\n",
       "\n",
       "                for(var axis_id in axes)\n",
       "                {\n",
       "                    var axis = document.querySelector(\"#\" + axis_id);\n",
       "                    var coordinates = axis.querySelector(\".toyplot-coordinates-Axis-coordinates\");\n",
       "                    if(coordinates)\n",
       "                    {\n",
       "                        var projection = axes[axis_id];\n",
       "                        var local = current.matrixTransform(axis.getScreenCTM().inverse());\n",
       "                        if(inside(local.x, projection))\n",
       "                        {\n",
       "                            var domain = to_domain(local.x, projection);\n",
       "                            coordinates.style.visibility = \"visible\";\n",
       "                            coordinates.setAttribute(\"transform\", \"translate(\" + local.x + \")\");\n",
       "                            var text = coordinates.querySelector(\"text\");\n",
       "                            text.textContent = domain.toFixed(2);\n",
       "                        }\n",
       "                        else\n",
       "                        {\n",
       "                            coordinates.style.visibility= \"hidden\";\n",
       "                        }\n",
       "                    }\n",
       "                }\n",
       "            }\n",
       "\n",
       "            canvas.addEventListener(\"click\", display_coordinates);\n",
       "\n",
       "            var module = {};\n",
       "            module.show_coordinates = function(axis_id, projection)\n",
       "            {\n",
       "                axes[axis_id] = projection;\n",
       "            }\n",
       "\n",
       "            return module;\n",
       "        })(modules[\"toyplot/canvas\"]);\n",
       "(function(axis, axis_id, projection)\n",
       "        {\n",
       "            axis.show_coordinates(axis_id, projection);\n",
       "        })(modules[\"toyplot.coordinates.Axis\"],\"te37ff000ca5c4e3a8dd9e74ffed7c218\",[{\"domain\": {\"bounds\": {\"max\": Infinity, \"min\": -Infinity}, \"max\": 3.230258511125001, \"min\": -34.03056668142857}, \"range\": {\"bounds\": {\"max\": Infinity, \"min\": -Infinity}, \"max\": 700.0, \"min\": 0.0}, \"scale\": \"linear\"}]);\n",
       "})();</script></div></div>"
      ]
     },
     "metadata": {},
     "output_type": "display_data"
    }
   ],
   "source": [
    "D = wgmlst.dist_matrix(profs)\n",
    "D.to_csv('dist_mlst.csv',index=False)\n",
    "#sns.clustermap(D,xticklabels=True,yticklabels=True,figsize=(6,6))\n",
    "treefile='temp.newick'\n",
    "tree = wgmlst.tree_from_distmatrix(D)\n",
    "tree.write('tree.newick')\n",
    "tre = toytree.tree('tree.newick')\n",
    "tre=tre.root('43-MBovis')\n",
    "canvas,t,r=tre.draw(layout='r',scalebar=True,height=600,width=800)\n",
    "clusts = trees.get_clusters('tree.newick')\n",
    "#clusts"
   ]
  },
  {
   "cell_type": "code",
   "execution_count": 107,
   "id": "ea9b1f21-c3b7-46f0-93f4-4e3bc503c246",
   "metadata": {},
   "outputs": [
    {
     "data": {
      "text/html": [
       "<div class=\"toyplot\" id=\"tb8c9e7c8b8d44fcca5b15dba6348167d\" style=\"text-align:center\"><svg class=\"toyplot-canvas-Canvas\" xmlns:toyplot=\"http://www.sandia.gov/toyplot\" xmlns:xlink=\"http://www.w3.org/1999/xlink\" xmlns=\"http://www.w3.org/2000/svg\" width=\"800.0px\" height=\"500.0px\" viewBox=\"0 0 800.0 500.0\" preserveAspectRatio=\"xMidYMid meet\" style=\"background-color:transparent;border-color:#292724;border-style:none;border-width:1.0;fill:rgb(16.1%,15.3%,14.1%);fill-opacity:1.0;font-family:Helvetica;font-size:12px;opacity:1.0;stroke:rgb(16.1%,15.3%,14.1%);stroke-opacity:1.0;stroke-width:1.0\" id=\"tc86c7cc524c945039bc606ad0cff8659\"><g class=\"toyplot-coordinates-Cartesian\" id=\"t63d20fcb401d4fdbab747bc457f8bd03\"><clipPath id=\"t6ac0fa9d39904c8087a081b2b6cbfccf\"><rect x=\"30.0\" y=\"30.0\" width=\"740.0\" height=\"440.0\"></rect></clipPath><g clip-path=\"url(#t6ac0fa9d39904c8087a081b2b6cbfccf)\"><g class=\"toytree-mark-Toytree\" id=\"ta6c4c5747e834da8b0c1997ab99f948f\"><g class=\"toytree-Edges\" style=\"fill:none;stroke:rgb(14.9%,14.9%,14.9%);stroke-linecap:round;stroke-opacity:1;stroke-width:2\"><path d=\"M 51.8 86.7 L 51.8 111.6 L 157.5 111.6\" id=\"94,93\"></path><path d=\"M 157.5 111.6 L 157.5 153.4 L 185.7 153.4\" id=\"93,92\"></path><path d=\"M 185.7 153.4 L 185.7 102.0 L 185.7 102.0\" id=\"92,91\"></path><path d=\"M 185.7 153.4 L 185.7 204.7 L 185.7 204.7\" id=\"92,90\"></path><path d=\"M 185.7 102.0 L 185.7 83.9 L 317.6 83.9\" id=\"91,89\"></path><path d=\"M 185.7 102.0 L 185.7 120.1 L 264.3 120.1\" id=\"91,88\"></path><path d=\"M 185.7 204.7 L 185.7 180.9 L 611.3 180.9\" id=\"90,87\"></path><path d=\"M 185.7 204.7 L 185.7 228.5 L 265.6 228.5\" id=\"90,86\"></path><path d=\"M 317.6 83.9 L 317.6 89.9 L 317.6 89.9\" id=\"89,85\"></path><path d=\"M 264.3 120.1 L 264.3 105.9 L 401.2 105.9\" id=\"88,84\"></path><path d=\"M 264.3 120.1 L 264.3 134.4 L 345.7 134.4\" id=\"88,83\"></path><path d=\"M 611.3 180.9 L 611.3 188.0 L 611.3 188.0\" id=\"87,82\"></path><path d=\"M 265.6 228.5 L 265.6 251.0 L 343.3 251.0\" id=\"86,81\"></path><path d=\"M 345.7 134.4 L 345.7 121.9 L 372.3 121.9\" id=\"83,80\"></path><path d=\"M 345.7 134.4 L 345.7 146.9 L 396.4 146.9\" id=\"83,79\"></path><path d=\"M 611.3 188.0 L 611.3 194.0 L 611.3 194.0\" id=\"82,78\"></path><path d=\"M 343.3 251.0 L 343.3 220.0 L 394.3 220.0\" id=\"81,77\"></path><path d=\"M 343.3 251.0 L 343.3 282.0 L 343.3 282.0\" id=\"81,76\"></path><path d=\"M 396.4 146.9 L 396.4 137.9 L 396.4 137.9\" id=\"79,75\"></path><path d=\"M 396.4 146.9 L 396.4 155.9 L 421.7 155.9\" id=\"79,74\"></path><path d=\"M 394.3 220.0 L 394.3 226.0 L 444.9 226.0\" id=\"77,73\"></path><path d=\"M 343.3 282.0 L 343.3 242.0 L 343.3 242.0\" id=\"76,72\"></path><path d=\"M 343.3 282.0 L 343.3 322.0 L 343.3 322.0\" id=\"76,71\"></path><path d=\"M 421.7 155.9 L 421.7 161.9 L 421.7 161.9\" id=\"74,70\"></path><path d=\"M 343.3 322.0 L 343.3 278.8 L 343.3 278.8\" id=\"71,69\"></path><path d=\"M 343.3 322.0 L 343.3 365.3 L 343.3 365.3\" id=\"71,68\"></path><path d=\"M 343.3 278.8 L 343.3 261.0 L 343.3 261.0\" id=\"69,67\"></path><path d=\"M 343.3 278.8 L 343.3 296.5 L 343.3 296.5\" id=\"69,66\"></path><path d=\"M 343.3 365.3 L 343.3 341.1 L 368.8 341.1\" id=\"68,65\"></path><path d=\"M 343.3 365.3 L 343.3 389.5 L 369.2 389.5\" id=\"68,64\"></path><path d=\"M 343.3 261.0 L 343.3 268.0 L 368.6 268.0\" id=\"67,63\"></path><path d=\"M 343.3 296.5 L 343.3 307.0 L 394.7 307.0\" id=\"66,62\"></path><path d=\"M 368.8 341.1 L 368.8 348.1 L 445.8 348.1\" id=\"65,61\"></path><path d=\"M 369.2 389.5 L 369.2 373.1 L 420.1 373.1\" id=\"64,60\"></path><path d=\"M 369.2 389.5 L 369.2 405.9 L 499.2 405.9\" id=\"64,59\"></path><path d=\"M 368.6 268.0 L 368.6 274.0 L 500.3 274.0\" id=\"63,58\"></path><path d=\"M 394.7 307.0 L 394.7 298.0 L 447.5 298.0\" id=\"62,57\"></path><path d=\"M 394.7 307.0 L 394.7 316.1 L 447.5 316.1\" id=\"62,56\"></path><path d=\"M 445.8 348.1 L 445.8 354.1 L 445.8 354.1\" id=\"61,55\"></path><path d=\"M 420.1 373.1 L 420.1 380.1 L 420.1 380.1\" id=\"60,54\"></path><path d=\"M 499.2 405.9 L 499.2 413.6 L 499.2 413.6\" id=\"59,53\"></path><path d=\"M 447.5 316.1 L 447.5 322.1 L 447.5 322.1\" id=\"56,52\"></path><path d=\"M 420.1 380.1 L 420.1 386.1 L 548.2 386.1\" id=\"54,51\"></path><path d=\"M 499.2 413.6 L 499.2 421.1 L 499.2 421.1\" id=\"53,50\"></path><path d=\"M 499.2 421.1 L 499.2 428.1 L 499.2 428.1\" id=\"50,49\"></path><path d=\"M 499.2 428.1 L 499.2 434.1 L 499.2 434.1\" id=\"49,48\"></path><path d=\"M 51.8 86.7 L 51.8 61.9 L 157.5 61.9\" id=\"94,47\"></path><path d=\"M 157.5 111.6 L 157.5 69.9 L 622.8 69.9\" id=\"93,46\"></path><path d=\"M 317.6 83.9 L 317.6 77.9 L 317.6 77.9\" id=\"89,45\"></path><path d=\"M 317.6 89.9 L 317.6 85.9 L 317.6 85.9\" id=\"85,44\"></path><path d=\"M 317.6 89.9 L 317.6 93.9 L 317.6 93.9\" id=\"85,43\"></path><path d=\"M 401.2 105.9 L 401.2 101.9 L 427.1 101.9\" id=\"84,42\"></path><path d=\"M 401.2 105.9 L 401.2 109.9 L 401.2 109.9\" id=\"84,41\"></path><path d=\"M 372.3 121.9 L 372.3 117.9 L 477.3 117.9\" id=\"80,40\"></path><path d=\"M 372.3 121.9 L 372.3 125.9 L 398.2 125.9\" id=\"80,39\"></path><path d=\"M 396.4 137.9 L 396.4 133.9 L 447.1 133.9\" id=\"75,38\"></path><path d=\"M 396.4 137.9 L 396.4 141.9 L 421.9 141.9\" id=\"75,37\"></path><path d=\"M 421.7 155.9 L 421.7 149.9 L 447.0 149.9\" id=\"74,36\"></path><path d=\"M 421.7 161.9 L 421.7 157.9 L 421.7 157.9\" id=\"70,35\"></path><path d=\"M 421.7 161.9 L 421.7 165.9 L 421.7 165.9\" id=\"70,34\"></path><path d=\"M 611.3 180.9 L 611.3 173.9 L 658.8 173.9\" id=\"87,33\"></path><path d=\"M 611.3 188.0 L 611.3 181.9 L 611.3 181.9\" id=\"82,32\"></path><path d=\"M 611.3 194.0 L 611.3 190.0 L 659.5 190.0\" id=\"78,31\"></path><path d=\"M 611.3 194.0 L 611.3 198.0 L 635.0 198.0\" id=\"78,30\"></path><path d=\"M 265.6 228.5 L 265.6 206.0 L 680.8 206.0\" id=\"86,29\"></path><path d=\"M 394.3 220.0 L 394.3 214.0 L 394.3 214.0\" id=\"77,28\"></path><path d=\"M 444.9 226.0 L 444.9 222.0 L 469.9 222.0\" id=\"73,27\"></path><path d=\"M 444.9 226.0 L 444.9 230.0 L 445.0 230.0\" id=\"73,26\"></path><path d=\"M 343.3 242.0 L 343.3 238.0 L 447.9 238.0\" id=\"72,25\"></path><path d=\"M 343.3 242.0 L 343.3 246.0 L 447.3 246.0\" id=\"72,24\"></path><path d=\"M 343.3 261.0 L 343.3 254.0 L 447.4 254.0\" id=\"67,23\"></path><path d=\"M 368.6 268.0 L 368.6 262.0 L 446.4 262.0\" id=\"63,22\"></path><path d=\"M 500.3 274.0 L 500.3 270.0 L 500.3 270.0\" id=\"58,21\"></path><path d=\"M 500.3 274.0 L 500.3 278.0 L 575.9 278.0\" id=\"58,20\"></path><path d=\"M 343.3 296.5 L 343.3 286.0 L 368.7 286.0\" id=\"66,19\"></path><path d=\"M 447.5 298.0 L 447.5 294.0 L 499.2 294.0\" id=\"57,18\"></path><path d=\"M 447.5 298.0 L 447.5 302.0 L 447.5 302.0\" id=\"57,17\"></path><path d=\"M 447.5 316.1 L 447.5 310.0 L 498.8 310.0\" id=\"56,16\"></path><path d=\"M 447.5 322.1 L 447.5 318.1 L 447.5 318.1\" id=\"52,15\"></path><path d=\"M 447.5 322.1 L 447.5 326.1 L 447.5 326.1\" id=\"52,14\"></path><path d=\"M 368.8 341.1 L 368.8 334.1 L 473.6 334.1\" id=\"65,13\"></path><path d=\"M 445.8 348.1 L 445.8 342.1 L 496.0 342.1\" id=\"61,12\"></path><path d=\"M 445.8 354.1 L 445.8 350.1 L 445.8 350.1\" id=\"55,11\"></path><path d=\"M 445.8 354.1 L 445.8 358.1 L 445.8 358.1\" id=\"55,10\"></path><path d=\"M 420.1 373.1 L 420.1 366.1 L 445.3 366.1\" id=\"60,9\"></path><path d=\"M 420.1 380.1 L 420.1 374.1 L 523.1 374.1\" id=\"54,8\"></path><path d=\"M 548.2 386.1 L 548.2 382.1 L 573.0 382.1\" id=\"51,7\"></path><path d=\"M 548.2 386.1 L 548.2 390.1 L 548.2 390.1\" id=\"51,6\"></path><path d=\"M 499.2 405.9 L 499.2 398.1 L 523.9 398.1\" id=\"59,5\"></path><path d=\"M 499.2 413.6 L 499.2 406.1 L 524.0 406.1\" id=\"53,4\"></path><path d=\"M 499.2 421.1 L 499.2 414.1 L 499.2 414.1\" id=\"50,3\"></path><path d=\"M 499.2 428.1 L 499.2 422.1 L 499.2 422.1\" id=\"49,2\"></path><path d=\"M 499.2 434.1 L 499.2 430.1 L 499.2 430.1\" id=\"48,1\"></path><path d=\"M 499.2 434.1 L 499.2 438.1 L 499.2 438.1\" id=\"48,0\"></path></g><g class=\"toytree-TipLabels\" style=\"fill:rgb(14.9%,14.9%,14.9%);fill-opacity:1.0;font-family:helvetica;font-size:11px;font-weight:normal;stroke:none;white-space:pre\"><g transform=\"translate(499.23,438.15)rotate(0)\"><text x=\"15.00\" y=\"2.81\" style=\"\">59-6110</text></g><g transform=\"translate(499.23,430.14)rotate(0)\"><text x=\"15.00\" y=\"2.81\" style=\"\">19-MBovis</text></g><g transform=\"translate(499.22,422.13)rotate(0)\"><text x=\"15.00\" y=\"2.81\" style=\"\">42-MBovis</text></g><g transform=\"translate(499.22,414.13)rotate(0)\"><text x=\"15.00\" y=\"2.81\" style=\"\">48-MBovis</text></g><g transform=\"translate(524.01,406.12)rotate(0)\"><text x=\"15.00\" y=\"2.81\" style=\"\">48-2919</text></g><g transform=\"translate(523.86,398.12)rotate(0)\"><text x=\"15.00\" y=\"2.81\" style=\"\">59-MBovis</text></g><g transform=\"translate(548.20,390.11)rotate(0)\"><text x=\"15.00\" y=\"2.81\" style=\"\">26-12883</text></g><g transform=\"translate(573.03,382.10)rotate(0)\"><text x=\"15.00\" y=\"2.81\" style=\"\">3-10110</text></g><g transform=\"translate(523.08,374.10)rotate(0)\"><text x=\"15.00\" y=\"2.81\" style=\"\">55-4348</text></g><g transform=\"translate(445.27,366.09)rotate(0)\"><text x=\"15.00\" y=\"2.81\" style=\"\">37-MBovis</text></g><g transform=\"translate(445.80,358.08)rotate(0)\"><text x=\"15.00\" y=\"2.81\" style=\"\">52-3698</text></g><g transform=\"translate(445.80,350.08)rotate(0)\"><text x=\"15.00\" y=\"2.81\" style=\"\">38-MBovis</text></g><g transform=\"translate(495.99,342.07)rotate(0)\"><text x=\"15.00\" y=\"2.81\" style=\"\">41-2165</text></g><g transform=\"translate(473.63,334.07)rotate(0)\"><text x=\"15.00\" y=\"2.81\" style=\"\">5-10284</text></g><g transform=\"translate(447.52,326.06)rotate(0)\"><text x=\"15.00\" y=\"2.81\" style=\"\">35-MBovis</text></g><g transform=\"translate(447.52,318.05)rotate(0)\"><text x=\"15.00\" y=\"2.81\" style=\"\">49-MBovis</text></g><g transform=\"translate(498.75,310.05)rotate(0)\"><text x=\"15.00\" y=\"2.81\" style=\"\">54-MBovis</text></g><g transform=\"translate(447.51,302.04)rotate(0)\"><text x=\"15.00\" y=\"2.81\" style=\"\">51-MBovis</text></g><g transform=\"translate(499.20,294.03)rotate(0)\"><text x=\"15.00\" y=\"2.81\" style=\"\">23-MBovis</text></g><g transform=\"translate(368.74,286.03)rotate(0)\"><text x=\"15.00\" y=\"2.81\" style=\"\">44-MBovis</text></g><g transform=\"translate(575.90,278.02)rotate(0)\"><text x=\"15.00\" y=\"2.81\" style=\"\">45-MBovis</text></g><g transform=\"translate(500.29,270.02)rotate(0)\"><text x=\"15.00\" y=\"2.81\" style=\"\">7-10423</text></g><g transform=\"translate(446.37,262.01)rotate(0)\"><text x=\"15.00\" y=\"2.81\" style=\"\">41-MBovis</text></g><g transform=\"translate(447.44,254.00)rotate(0)\"><text x=\"15.00\" y=\"2.81\" style=\"\">17-MBovis</text></g><g transform=\"translate(447.34,246.00)rotate(0)\"><text x=\"15.00\" y=\"2.81\" style=\"\">27-MBovis</text></g><g transform=\"translate(447.88,237.99)rotate(0)\"><text x=\"15.00\" y=\"2.81\" style=\"\">47-MBovis</text></g><g transform=\"translate(444.95,229.98)rotate(0)\"><text x=\"15.00\" y=\"2.81\" style=\"\">25-MBovis</text></g><g transform=\"translate(469.87,221.98)rotate(0)\"><text x=\"15.00\" y=\"2.81\" style=\"\">30-MBovis</text></g><g transform=\"translate(394.26,213.97)rotate(0)\"><text x=\"15.00\" y=\"2.81\" style=\"\">14-MBovis</text></g><g transform=\"translate(680.77,205.97)rotate(0)\"><text x=\"15.00\" y=\"2.81\" style=\"\">51-3292</text></g><g transform=\"translate(635.03,197.96)rotate(0)\"><text x=\"15.00\" y=\"2.81\" style=\"\">28-12935</text></g><g transform=\"translate(659.54,189.95)rotate(0)\"><text x=\"15.00\" y=\"2.81\" style=\"\">15-11643</text></g><g transform=\"translate(611.32,181.95)rotate(0)\"><text x=\"15.00\" y=\"2.81\" style=\"\">19-11957</text></g><g transform=\"translate(658.78,173.94)rotate(0)\"><text x=\"15.00\" y=\"2.81\" style=\"\">31-12952</text></g><g transform=\"translate(421.72,165.93)rotate(0)\"><text x=\"15.00\" y=\"2.81\" style=\"\">36-MBovis</text></g><g transform=\"translate(421.72,157.93)rotate(0)\"><text x=\"15.00\" y=\"2.81\" style=\"\">50-MBovis</text></g><g transform=\"translate(446.98,149.92)rotate(0)\"><text x=\"15.00\" y=\"2.81\" style=\"\">26-MBovis</text></g><g transform=\"translate(421.88,141.92)rotate(0)\"><text x=\"15.00\" y=\"2.81\" style=\"\">22-12200</text></g><g transform=\"translate(447.10,133.91)rotate(0)\"><text x=\"15.00\" y=\"2.81\" style=\"\">56-MBovis</text></g><g transform=\"translate(398.22,125.90)rotate(0)\"><text x=\"15.00\" y=\"2.81\" style=\"\">13-11594</text></g><g transform=\"translate(477.33,117.90)rotate(0)\"><text x=\"15.00\" y=\"2.81\" style=\"\">17-11662</text></g><g transform=\"translate(401.24,109.89)rotate(0)\"><text x=\"15.00\" y=\"2.81\" style=\"\">24-MBovis</text></g><g transform=\"translate(427.12,101.88)rotate(0)\"><text x=\"15.00\" y=\"2.81\" style=\"\">29-MBovis</text></g><g transform=\"translate(317.64,93.88)rotate(0)\"><text x=\"15.00\" y=\"2.81\" style=\"\">TB20-003486</text></g><g transform=\"translate(317.64,85.87)rotate(0)\"><text x=\"15.00\" y=\"2.81\" style=\"\">cat-003488</text></g><g transform=\"translate(317.63,77.87)rotate(0)\"><text x=\"15.00\" y=\"2.81\" style=\"\">TB18-001924</text></g><g transform=\"translate(622.81,69.86)rotate(0)\"><text x=\"15.00\" y=\"2.81\" style=\"\">1034</text></g><g transform=\"translate(157.50,61.85)rotate(0)\"><text x=\"15.00\" y=\"2.81\" style=\"\">43-MBovis</text></g></g></g></g><g class=\"toyplot-coordinates-Axis\" id=\"t732e5fea16cc45e5920b9134840ce2c6\" transform=\"translate(50.0,450.0)translate(0,20.0)\"><line x1=\"1.797062829167372\" y1=\"0\" x2=\"630.7690530377422\" y2=\"0\" style=\"\"></line><g><line x1=\"630.7690530377422\" y1=\"0\" x2=\"630.7690530377422\" y2=\"-5\" style=\"\"></line><line x1=\"540.9159115793744\" y1=\"0\" x2=\"540.9159115793744\" y2=\"-5\" style=\"\"></line><line x1=\"451.0627701210065\" y1=\"0\" x2=\"451.0627701210065\" y2=\"-5\" style=\"\"></line><line x1=\"361.20962866263875\" y1=\"0\" x2=\"361.20962866263875\" y2=\"-5\" style=\"\"></line><line x1=\"271.3564872042709\" y1=\"0\" x2=\"271.3564872042709\" y2=\"-5\" style=\"\"></line><line x1=\"181.50334574590303\" y1=\"0\" x2=\"181.50334574590303\" y2=\"-5\" style=\"\"></line><line x1=\"91.65020428753526\" y1=\"0\" x2=\"91.65020428753526\" y2=\"-5\" style=\"\"></line><line x1=\"1.797062829167372\" y1=\"0\" x2=\"1.797062829167372\" y2=\"-5\" style=\"\"></line></g><g><g transform=\"translate(630.7690530377422,6)\"><text x=\"-2.78\" y=\"8.555\" style=\"fill:rgb(16.1%,15.3%,14.1%);fill-opacity:1.0;font-family:helvetica;font-size:10.0px;font-weight:normal;stroke:none;vertical-align:baseline;white-space:pre\">0</text></g><g transform=\"translate(540.9159115793744,6)\"><text x=\"-2.78\" y=\"8.555\" style=\"fill:rgb(16.1%,15.3%,14.1%);fill-opacity:1.0;font-family:helvetica;font-size:10.0px;font-weight:normal;stroke:none;vertical-align:baseline;white-space:pre\">4</text></g><g transform=\"translate(451.0627701210065,6)\"><text x=\"-2.78\" y=\"8.555\" style=\"fill:rgb(16.1%,15.3%,14.1%);fill-opacity:1.0;font-family:helvetica;font-size:10.0px;font-weight:normal;stroke:none;vertical-align:baseline;white-space:pre\">7</text></g><g transform=\"translate(361.20962866263875,6)\"><text x=\"-5.56\" y=\"8.555\" style=\"fill:rgb(16.1%,15.3%,14.1%);fill-opacity:1.0;font-family:helvetica;font-size:10.0px;font-weight:normal;stroke:none;vertical-align:baseline;white-space:pre\">11</text></g><g transform=\"translate(271.3564872042709,6)\"><text x=\"-5.56\" y=\"8.555\" style=\"fill:rgb(16.1%,15.3%,14.1%);fill-opacity:1.0;font-family:helvetica;font-size:10.0px;font-weight:normal;stroke:none;vertical-align:baseline;white-space:pre\">14</text></g><g transform=\"translate(181.50334574590303,6)\"><text x=\"-5.56\" y=\"8.555\" style=\"fill:rgb(16.1%,15.3%,14.1%);fill-opacity:1.0;font-family:helvetica;font-size:10.0px;font-weight:normal;stroke:none;vertical-align:baseline;white-space:pre\">18</text></g><g transform=\"translate(91.65020428753526,6)\"><text x=\"-5.56\" y=\"8.555\" style=\"fill:rgb(16.1%,15.3%,14.1%);fill-opacity:1.0;font-family:helvetica;font-size:10.0px;font-weight:normal;stroke:none;vertical-align:baseline;white-space:pre\">22</text></g><g transform=\"translate(1.797062829167372,6)\"><text x=\"-5.56\" y=\"8.555\" style=\"fill:rgb(16.1%,15.3%,14.1%);fill-opacity:1.0;font-family:helvetica;font-size:10.0px;font-weight:normal;stroke:none;vertical-align:baseline;white-space:pre\">25</text></g></g><g class=\"toyplot-coordinates-Axis-coordinates\" style=\"visibility:hidden\" transform=\"\"><line x1=\"0\" x2=\"0\" y1=\"-3.0\" y2=\"4.5\" style=\"stroke:rgb(43.9%,50.2%,56.5%);stroke-opacity:1.0;stroke-width:1.0\"></line><text x=\"0\" y=\"-6\" style=\"alignment-baseline:alphabetic;fill:rgb(43.9%,50.2%,56.5%);fill-opacity:1.0;font-size:10px;font-weight:normal;stroke:none;text-anchor:middle\"></text></g></g></g></svg><div class=\"toyplot-behavior\"><script>(function()\n",
       "{\n",
       "var modules={};\n",
       "modules[\"toyplot/canvas/id\"] = \"tc86c7cc524c945039bc606ad0cff8659\";\n",
       "modules[\"toyplot/canvas\"] = (function(canvas_id)\n",
       "    {\n",
       "        return document.querySelector(\"#\" + canvas_id);\n",
       "    })(modules[\"toyplot/canvas/id\"]);\n",
       "modules[\"toyplot.coordinates.Axis\"] = (\n",
       "        function(canvas)\n",
       "        {\n",
       "            function sign(x)\n",
       "            {\n",
       "                return x < 0 ? -1 : x > 0 ? 1 : 0;\n",
       "            }\n",
       "\n",
       "            function mix(a, b, amount)\n",
       "            {\n",
       "                return ((1.0 - amount) * a) + (amount * b);\n",
       "            }\n",
       "\n",
       "            function log(x, base)\n",
       "            {\n",
       "                return Math.log(Math.abs(x)) / Math.log(base);\n",
       "            }\n",
       "\n",
       "            function in_range(a, x, b)\n",
       "            {\n",
       "                var left = Math.min(a, b);\n",
       "                var right = Math.max(a, b);\n",
       "                return left <= x && x <= right;\n",
       "            }\n",
       "\n",
       "            function inside(range, projection)\n",
       "            {\n",
       "                for(var i = 0; i != projection.length; ++i)\n",
       "                {\n",
       "                    var segment = projection[i];\n",
       "                    if(in_range(segment.range.min, range, segment.range.max))\n",
       "                        return true;\n",
       "                }\n",
       "                return false;\n",
       "            }\n",
       "\n",
       "            function to_domain(range, projection)\n",
       "            {\n",
       "                for(var i = 0; i != projection.length; ++i)\n",
       "                {\n",
       "                    var segment = projection[i];\n",
       "                    if(in_range(segment.range.bounds.min, range, segment.range.bounds.max))\n",
       "                    {\n",
       "                        if(segment.scale == \"linear\")\n",
       "                        {\n",
       "                            var amount = (range - segment.range.min) / (segment.range.max - segment.range.min);\n",
       "                            return mix(segment.domain.min, segment.domain.max, amount)\n",
       "                        }\n",
       "                        else if(segment.scale[0] == \"log\")\n",
       "                        {\n",
       "                            var amount = (range - segment.range.min) / (segment.range.max - segment.range.min);\n",
       "                            var base = segment.scale[1];\n",
       "                            return sign(segment.domain.min) * Math.pow(base, mix(log(segment.domain.min, base), log(segment.domain.max, base), amount));\n",
       "                        }\n",
       "                    }\n",
       "                }\n",
       "            }\n",
       "\n",
       "            var axes = {};\n",
       "\n",
       "            function display_coordinates(e)\n",
       "            {\n",
       "                var current = canvas.createSVGPoint();\n",
       "                current.x = e.clientX;\n",
       "                current.y = e.clientY;\n",
       "\n",
       "                for(var axis_id in axes)\n",
       "                {\n",
       "                    var axis = document.querySelector(\"#\" + axis_id);\n",
       "                    var coordinates = axis.querySelector(\".toyplot-coordinates-Axis-coordinates\");\n",
       "                    if(coordinates)\n",
       "                    {\n",
       "                        var projection = axes[axis_id];\n",
       "                        var local = current.matrixTransform(axis.getScreenCTM().inverse());\n",
       "                        if(inside(local.x, projection))\n",
       "                        {\n",
       "                            var domain = to_domain(local.x, projection);\n",
       "                            coordinates.style.visibility = \"visible\";\n",
       "                            coordinates.setAttribute(\"transform\", \"translate(\" + local.x + \")\");\n",
       "                            var text = coordinates.querySelector(\"text\");\n",
       "                            text.textContent = domain.toFixed(2);\n",
       "                        }\n",
       "                        else\n",
       "                        {\n",
       "                            coordinates.style.visibility= \"hidden\";\n",
       "                        }\n",
       "                    }\n",
       "                }\n",
       "            }\n",
       "\n",
       "            canvas.addEventListener(\"click\", display_coordinates);\n",
       "\n",
       "            var module = {};\n",
       "            module.show_coordinates = function(axis_id, projection)\n",
       "            {\n",
       "                axes[axis_id] = projection;\n",
       "            }\n",
       "\n",
       "            return module;\n",
       "        })(modules[\"toyplot/canvas\"]);\n",
       "(function(axis, axis_id, projection)\n",
       "        {\n",
       "            axis.show_coordinates(axis_id, projection);\n",
       "        })(modules[\"toyplot.coordinates.Axis\"],\"t732e5fea16cc45e5920b9134840ce2c6\",[{\"domain\": {\"bounds\": {\"max\": Infinity, \"min\": -Infinity}, \"max\": 2.780168422949997, \"min\": -25.33035124285714}, \"range\": {\"bounds\": {\"max\": Infinity, \"min\": -Infinity}, \"max\": 700.0, \"min\": 0.0}, \"scale\": \"linear\"}]);\n",
       "})();</script></div></div>"
      ]
     },
     "metadata": {},
     "output_type": "display_data"
    }
   ],
   "source": [
    "tre2 = toytree.tree('/storage/btbgenie/wicklow_results/tree.newick')\n",
    "#drop = list(set(tre2.get_tip_labels()) - set(tre.get_tip_labels()))\n",
    "tre2=tre2.drop_tips(drop)\n",
    "tre2=tre2.root('43-MBovis')\n",
    "canvas,t,r=tre2.draw(layout='r',scalebar=True,height=500,width=800)\n",
    "#toyplot.png.render(canvas, \"snp-tree.png\")"
   ]
  },
  {
   "cell_type": "markdown",
   "id": "0e9485ac-50a4-4e0f-a5fb-14062f54896c",
   "metadata": {},
   "source": [
    "# sensitivity analysis - SNPs vs MLST"
   ]
  },
  {
   "cell_type": "markdown",
   "id": "14f844d0-bed1-4dde-b58f-ee52d6f4c893",
   "metadata": {},
   "source": [
    "## phastsim\n",
    "\n",
    "https://www.ncbi.nlm.nih.gov/pmc/articles/PMC7987011/"
   ]
  },
  {
   "cell_type": "code",
   "execution_count": 80,
   "id": "3c305630-afbd-42bc-8123-25a81634db76",
   "metadata": {},
   "outputs": [
    {
     "data": {
      "text/plain": [
       "'phastSim --outpath simulation_output/ --seed 1 --createFasta --createPhylip --treeFile sim.newick --scale 6.896703927259084e-07 --invariable .1 --alpha 1.0 --omegaAlpha 1.0 --reference Mbovis_AF212297.fa'"
      ]
     },
     "execution_count": 80,
     "metadata": {},
     "output_type": "execute_result"
    }
   ],
   "source": [
    "refseq = SeqIO.read('Mbovis_AF212297.fa','fasta')\n",
    "scale = (1/len(refseq))*3\n",
    "#scale=8e-6\n",
    "cmd = 'phastSim --outpath simulation_output/ --seed 1 --createFasta' \\\n",
    "         ' --createPhylip --treeFile sim.newick' \\\n",
    "         ' --scale {s} --invariable .1 --alpha 1.0 --omegaAlpha 1.0' \\\n",
    "         ' --reference Mbovis_AF212297.fa'.format(s=scale)\n",
    "cmd"
   ]
  },
  {
   "cell_type": "code",
   "execution_count": 102,
   "id": "a1248bcc-22af-4627-bb7f-2d53f527e544",
   "metadata": {},
   "outputs": [
    {
     "data": {
      "text/plain": [
       "3"
      ]
     },
     "execution_count": 102,
     "metadata": {},
     "output_type": "execute_result"
    }
   ],
   "source": [
    "simrecs = list(SeqIO.parse('sim_seqs3.fa','fasta'))\n",
    "diff_profiles(simrecs[2].seq,simrecs[4].seq)"
   ]
  },
  {
   "cell_type": "markdown",
   "id": "6d73b147-738b-4d83-ab3f-36917e14f68e",
   "metadata": {},
   "source": [
    "## make fastqs from sequences"
   ]
  },
  {
   "cell_type": "code",
   "execution_count": null,
   "id": "f4bba3fa-808d-4848-83dd-eba8fe005ed2",
   "metadata": {},
   "outputs": [],
   "source": [
    "def make_fastq(ref, outfile, cmp=100):\n",
    "    \n",
    "    f1 = '/storage/btbgenie/mbovis_ireland/Wicklow/Fastqs_07-01-18/17-MBovis_S21_L001-4_R1_001.fastq.gz'\n",
    "    f2 = '/storage/btbgenie/mbovis_ireland/Wicklow/Fastqs_07-01-18/17-MBovis_S21_L001-4_R2_001.fastq.gz'\n",
    "    cmd = 'java -jar /local/ArtificialFastqGenerator/ArtificialFastqGenerator.jar -O {o}'\\\n",
    "          ' -R {r} -S \">temp\" -RL 150 -CMP {cmp} -CSD 0.2 -SE true'.format(r=ref, o=outfile,cmp=cmp,f1=f1,f2=f2) #-URQS true -F1 {f1} -F2 {f2}\n",
    "    print (cmd)\n",
    "    subprocess.check_output(cmd, shell=True)\n",
    "    return"
   ]
  },
  {
   "cell_type": "code",
   "execution_count": null,
   "id": "d31fc35a-b9b3-4b13-b61a-806a64b3ba4a",
   "metadata": {},
   "outputs": [],
   "source": [
    "def generate_fastqs(infile, outpath):\n",
    "    \n",
    "    from joblib import Parallel, delayed\n",
    "    import multiprocessing, time\n",
    "    num_cores = 4\n",
    "    \n",
    "    simrecs = list(SeqIO.parse(infile,'fasta'))\n",
    "    def my_func(rec):\n",
    "        from tempfile import mkstemp\n",
    "        x,tmp = mkstemp()\n",
    "        SeqIO.write(SeqRecord(rec.seq,id='temp'), tmp, 'fasta')\n",
    "        out = os.path.join(outpath,rec.id)\n",
    "        make_fastq(tmp, out)\n",
    "\n",
    "    st = time.time()\n",
    "    Parallel(n_jobs=num_cores)(delayed(my_func)(i) for i in simrecs)\n",
    "    print (time.time()-st)\n",
    "    cmd = 'pigz %s/*.fastq' %outpath\n",
    "    subprocess.check_output(cmd, shell=True)\n",
    "    \n",
    "generate_fastqs('sim_seqs3.fa', 'sim_fastq3')\n",
    "#generate_fastqs('sim_seqs1.fa', 'sim_fastq1')"
   ]
  },
  {
   "cell_type": "markdown",
   "id": "da56ff7b-6352-458a-a699-6ee3c331b455",
   "metadata": {},
   "source": [
    "## run snipgenie on simulated fastqs"
   ]
  },
  {
   "cell_type": "code",
   "execution_count": null,
   "id": "00ea3aac-057a-4fa3-9203-8978722aec39",
   "metadata": {},
   "outputs": [],
   "source": [
    "import snipgenie\n",
    "args = {'threads':10, 'outdir': 'sim_results3', 'labelsep':'_',\n",
    "        'input':['sim_fastq3'],# 'overwrite':True,\n",
    "         'species':'Mbovis-AF212297',        \n",
    "         'custom_filters': True,       \n",
    "         'buildtree':True}\n",
    "W = snipgenie.app.WorkFlow(**args)\n",
    "st = W.setup()\n",
    "W.run()"
   ]
  },
  {
   "cell_type": "code",
   "execution_count": null,
   "id": "b8edca85-547d-4bcc-b5d7-9f50f7e08b86",
   "metadata": {},
   "outputs": [],
   "source": [
    "tresnps = toytree.tree('sim_results3/tree.newick')\n",
    "tresnps=tresnps.root('7')\n",
    "tresnps=tresnps.drop_tips('ref')\n",
    "canvas,t,r=tresnps.draw(layout='r',scalebar=True,height=400,width=500,tip_labels_style={\"font-size\":\"19px\"})\n",
    "sd=snpdist = pd.read_csv('sim_results3/snpdist.csv',index_col=0).iloc[1:,1:]\n",
    "canvas.text(300, 20, \"SNP\", style={\"font-size\":\"32px\"});\n",
    "\n",
    "#import toyplot.png\n",
    "#toyplot.png.render(canvas, \"snp_tree_sim.png\")"
   ]
  },
  {
   "cell_type": "code",
   "execution_count": null,
   "id": "3244dfd5-b197-4100-b64b-5811885a54df",
   "metadata": {},
   "outputs": [],
   "source": [
    "tresboot = toytree.mtree('sim_results3/RAxML_bootstrap.variants')\n",
    "canvas,t,r=tresboot.draw(layout='r', nrows=2, ncols=5,height=400,width=700)"
   ]
  },
  {
   "cell_type": "markdown",
   "id": "27254c49-481d-4790-aa92-9bd2e9130377",
   "metadata": {},
   "source": [
    "## mlst on simulated fastqs"
   ]
  },
  {
   "cell_type": "code",
   "execution_count": null,
   "id": "6577c608-bc47-4c07-b6e5-76e1a010b6d8",
   "metadata": {},
   "outputs": [],
   "source": [
    "sim_vcf = 'sim_results3/filtered.vcf.gz'\n",
    "simprofs = run_samples(sim_vcf, 'sim_mlst3', threads=12)"
   ]
  },
  {
   "cell_type": "code",
   "execution_count": 148,
   "id": "7f3ffe3e-3a9a-4a59-9ea4-deabb35b4435",
   "metadata": {},
   "outputs": [
    {
     "data": {
      "text/html": [
       "<div class=\"toyplot\" id=\"t7fdaad421ce9426c9624212d3d51fa95\" style=\"text-align:center\"><svg class=\"toyplot-canvas-Canvas\" xmlns:toyplot=\"http://www.sandia.gov/toyplot\" xmlns:xlink=\"http://www.w3.org/1999/xlink\" xmlns=\"http://www.w3.org/2000/svg\" width=\"500.0px\" height=\"400.0px\" viewBox=\"0 0 500.0 400.0\" preserveAspectRatio=\"xMidYMid meet\" style=\"background-color:transparent;border-color:#292724;border-style:none;border-width:1.0;fill:rgb(16.1%,15.3%,14.1%);fill-opacity:1.0;font-family:Helvetica;font-size:12px;opacity:1.0;stroke:rgb(16.1%,15.3%,14.1%);stroke-opacity:1.0;stroke-width:1.0\" id=\"td0a1a1d4196447ad9390038956e2b263\"><g class=\"toyplot-coordinates-Cartesian\" id=\"t4d035aeaaf9143788512321fc761172d\"><clipPath id=\"t752428afa3fa40e1b6a608ac5d237efb\"><rect x=\"30.0\" y=\"30.0\" width=\"440.0\" height=\"340.0\"></rect></clipPath><g clip-path=\"url(#t752428afa3fa40e1b6a608ac5d237efb)\"><g class=\"toytree-mark-Toytree\" id=\"tdecb66721f6d41cf967e35f6e75b5a62\"><g class=\"toytree-Edges\" style=\"fill:none;stroke:rgb(14.9%,14.9%,14.9%);stroke-linecap:round;stroke-opacity:1;stroke-width:2\"><path d=\"M 51.9 112.8 L 51.9 160.1 L 194.8 160.1\" id=\"16,15\"></path><path d=\"M 194.8 160.1 L 194.8 116.0 L 194.8 116.0\" id=\"15,14\"></path><path d=\"M 194.8 160.1 L 194.8 204.2 L 236.5 204.2\" id=\"15,13\"></path><path d=\"M 236.5 204.2 L 236.5 242.0 L 254.3 242.0\" id=\"13,12\"></path><path d=\"M 254.3 242.0 L 254.3 284.0 L 293.0 284.0\" id=\"12,11\"></path><path d=\"M 293.0 284.0 L 293.0 250.4 L 359.7 250.4\" id=\"11,10\"></path><path d=\"M 293.0 284.0 L 293.0 317.6 L 321.6 317.6\" id=\"11,9\"></path><path d=\"M 51.9 112.8 L 51.9 65.6 L 194.8 65.6\" id=\"16,8\"></path><path d=\"M 194.8 116.0 L 194.8 99.2 L 290.1 99.2\" id=\"14,7\"></path><path d=\"M 194.8 116.0 L 194.8 132.8 L 290.1 132.8\" id=\"14,6\"></path><path d=\"M 236.5 204.2 L 236.5 166.4 L 337.7 166.4\" id=\"13,5\"></path><path d=\"M 254.3 242.0 L 254.3 200.0 L 430.0 200.0\" id=\"12,4\"></path><path d=\"M 359.7 250.4 L 359.7 233.6 L 380.1 233.6\" id=\"10,3\"></path><path d=\"M 359.7 250.4 L 359.7 267.2 L 434.6 267.2\" id=\"10,2\"></path><path d=\"M 321.6 317.6 L 321.6 300.8 L 377.2 300.8\" id=\"9,1\"></path><path d=\"M 321.6 317.6 L 321.6 334.4 L 361.3 334.4\" id=\"9,0\"></path></g><g class=\"toytree-TipLabels\" style=\"fill:rgb(14.9%,14.9%,14.9%);fill-opacity:1.0;font-family:helvetica;font-size:19px;font-weight:normal;stroke:none;white-space:pre\"><g transform=\"translate(361.31,334.41)rotate(0)\"><text x=\"15.00\" y=\"4.85\" style=\"\">3</text></g><g transform=\"translate(377.19,300.81)rotate(0)\"><text x=\"15.00\" y=\"4.85\" style=\"\">8</text></g><g transform=\"translate(434.57,267.20)rotate(0)\"><text x=\"15.00\" y=\"4.85\" style=\"\">1</text></g><g transform=\"translate(380.14,233.60)rotate(0)\"><text x=\"15.00\" y=\"4.85\" style=\"\">5</text></g><g transform=\"translate(429.98,200.00)rotate(0)\"><text x=\"15.00\" y=\"4.85\" style=\"\">9</text></g><g transform=\"translate(337.70,166.40)rotate(0)\"><text x=\"15.00\" y=\"4.85\" style=\"\">4</text></g><g transform=\"translate(290.07,132.80)rotate(0)\"><text x=\"15.00\" y=\"4.85\" style=\"\">6</text></g><g transform=\"translate(290.07,99.19)rotate(0)\"><text x=\"15.00\" y=\"4.85\" style=\"\">2</text></g><g transform=\"translate(194.81,65.59)rotate(0)\"><text x=\"15.00\" y=\"4.85\" style=\"\">7</text></g></g></g></g><g class=\"toyplot-coordinates-Axis\" id=\"t1ddec4c3bd6e41b0abc44bb49520c440\" transform=\"translate(50.0,350.0)translate(0,20.0)\"><line x1=\"1.913308013890562\" y1=\"0\" x2=\"384.57491079201384\" y2=\"0\" style=\"\"></line><g><line x1=\"384.57491079201384\" y1=\"0\" x2=\"384.57491079201384\" y2=\"-5\" style=\"\"></line><line x1=\"288.909510097483\" y1=\"0\" x2=\"288.909510097483\" y2=\"-5\" style=\"\"></line><line x1=\"193.24410940295218\" y1=\"0\" x2=\"193.24410940295218\" y2=\"-5\" style=\"\"></line><line x1=\"97.57870870842137\" y1=\"0\" x2=\"97.57870870842137\" y2=\"-5\" style=\"\"></line><line x1=\"1.913308013890562\" y1=\"0\" x2=\"1.913308013890562\" y2=\"-5\" style=\"\"></line></g><g><g transform=\"translate(384.57491079201384,6)\"><text x=\"-2.78\" y=\"8.555\" style=\"fill:rgb(16.1%,15.3%,14.1%);fill-opacity:1.0;font-family:helvetica;font-size:10.0px;font-weight:normal;stroke:none;vertical-align:baseline;white-space:pre\">0</text></g><g transform=\"translate(288.909510097483,6)\"><text x=\"-2.78\" y=\"8.555\" style=\"fill:rgb(16.1%,15.3%,14.1%);fill-opacity:1.0;font-family:helvetica;font-size:10.0px;font-weight:normal;stroke:none;vertical-align:baseline;white-space:pre\">2</text></g><g transform=\"translate(193.24410940295218,6)\"><text x=\"-2.78\" y=\"8.555\" style=\"fill:rgb(16.1%,15.3%,14.1%);fill-opacity:1.0;font-family:helvetica;font-size:10.0px;font-weight:normal;stroke:none;vertical-align:baseline;white-space:pre\">4</text></g><g transform=\"translate(97.57870870842137,6)\"><text x=\"-2.78\" y=\"8.555\" style=\"fill:rgb(16.1%,15.3%,14.1%);fill-opacity:1.0;font-family:helvetica;font-size:10.0px;font-weight:normal;stroke:none;vertical-align:baseline;white-space:pre\">6</text></g><g transform=\"translate(1.913308013890562,6)\"><text x=\"-2.78\" y=\"8.555\" style=\"fill:rgb(16.1%,15.3%,14.1%);fill-opacity:1.0;font-family:helvetica;font-size:10.0px;font-weight:normal;stroke:none;vertical-align:baseline;white-space:pre\">8</text></g></g><g class=\"toyplot-coordinates-Axis-coordinates\" style=\"visibility:hidden\" transform=\"\"><line x1=\"0\" x2=\"0\" y1=\"-3.0\" y2=\"4.5\" style=\"stroke:rgb(43.9%,50.2%,56.5%);stroke-opacity:1.0;stroke-width:1.0\"></line><text x=\"0\" y=\"-6\" style=\"alignment-baseline:alphabetic;fill:rgb(43.9%,50.2%,56.5%);fill-opacity:1.0;font-size:10px;font-weight:normal;stroke:none;text-anchor:middle\"></text></g></g></g><g class=\"toyplot-mark-Text\" id=\"t7c598c3d8f6d423681964f199df85a41\"><g class=\"toyplot-Series\"><g class=\"toyplot-Datum\" transform=\"translate(300.0,20.0)\"><text x=\"-63.120000000000005\" y=\"8.175999999999998\" style=\"fill:rgb(16.1%,15.3%,14.1%);fill-opacity:1.0;font-family:helvetica;font-size:32.0px;font-weight:normal;opacity:1;stroke:none;vertical-align:baseline;white-space:pre\">wgMLST</text></g></g></g></svg><div class=\"toyplot-behavior\"><script>(function()\n",
       "{\n",
       "var modules={};\n",
       "modules[\"toyplot/canvas/id\"] = \"td0a1a1d4196447ad9390038956e2b263\";\n",
       "modules[\"toyplot/canvas\"] = (function(canvas_id)\n",
       "    {\n",
       "        return document.querySelector(\"#\" + canvas_id);\n",
       "    })(modules[\"toyplot/canvas/id\"]);\n",
       "modules[\"toyplot.coordinates.Axis\"] = (\n",
       "        function(canvas)\n",
       "        {\n",
       "            function sign(x)\n",
       "            {\n",
       "                return x < 0 ? -1 : x > 0 ? 1 : 0;\n",
       "            }\n",
       "\n",
       "            function mix(a, b, amount)\n",
       "            {\n",
       "                return ((1.0 - amount) * a) + (amount * b);\n",
       "            }\n",
       "\n",
       "            function log(x, base)\n",
       "            {\n",
       "                return Math.log(Math.abs(x)) / Math.log(base);\n",
       "            }\n",
       "\n",
       "            function in_range(a, x, b)\n",
       "            {\n",
       "                var left = Math.min(a, b);\n",
       "                var right = Math.max(a, b);\n",
       "                return left <= x && x <= right;\n",
       "            }\n",
       "\n",
       "            function inside(range, projection)\n",
       "            {\n",
       "                for(var i = 0; i != projection.length; ++i)\n",
       "                {\n",
       "                    var segment = projection[i];\n",
       "                    if(in_range(segment.range.min, range, segment.range.max))\n",
       "                        return true;\n",
       "                }\n",
       "                return false;\n",
       "            }\n",
       "\n",
       "            function to_domain(range, projection)\n",
       "            {\n",
       "                for(var i = 0; i != projection.length; ++i)\n",
       "                {\n",
       "                    var segment = projection[i];\n",
       "                    if(in_range(segment.range.bounds.min, range, segment.range.bounds.max))\n",
       "                    {\n",
       "                        if(segment.scale == \"linear\")\n",
       "                        {\n",
       "                            var amount = (range - segment.range.min) / (segment.range.max - segment.range.min);\n",
       "                            return mix(segment.domain.min, segment.domain.max, amount)\n",
       "                        }\n",
       "                        else if(segment.scale[0] == \"log\")\n",
       "                        {\n",
       "                            var amount = (range - segment.range.min) / (segment.range.max - segment.range.min);\n",
       "                            var base = segment.scale[1];\n",
       "                            return sign(segment.domain.min) * Math.pow(base, mix(log(segment.domain.min, base), log(segment.domain.max, base), amount));\n",
       "                        }\n",
       "                    }\n",
       "                }\n",
       "            }\n",
       "\n",
       "            var axes = {};\n",
       "\n",
       "            function display_coordinates(e)\n",
       "            {\n",
       "                var current = canvas.createSVGPoint();\n",
       "                current.x = e.clientX;\n",
       "                current.y = e.clientY;\n",
       "\n",
       "                for(var axis_id in axes)\n",
       "                {\n",
       "                    var axis = document.querySelector(\"#\" + axis_id);\n",
       "                    var coordinates = axis.querySelector(\".toyplot-coordinates-Axis-coordinates\");\n",
       "                    if(coordinates)\n",
       "                    {\n",
       "                        var projection = axes[axis_id];\n",
       "                        var local = current.matrixTransform(axis.getScreenCTM().inverse());\n",
       "                        if(inside(local.x, projection))\n",
       "                        {\n",
       "                            var domain = to_domain(local.x, projection);\n",
       "                            coordinates.style.visibility = \"visible\";\n",
       "                            coordinates.setAttribute(\"transform\", \"translate(\" + local.x + \")\");\n",
       "                            var text = coordinates.querySelector(\"text\");\n",
       "                            text.textContent = domain.toFixed(2);\n",
       "                        }\n",
       "                        else\n",
       "                        {\n",
       "                            coordinates.style.visibility= \"hidden\";\n",
       "                        }\n",
       "                    }\n",
       "                }\n",
       "            }\n",
       "\n",
       "            canvas.addEventListener(\"click\", display_coordinates);\n",
       "\n",
       "            var module = {};\n",
       "            module.show_coordinates = function(axis_id, projection)\n",
       "            {\n",
       "                axes[axis_id] = projection;\n",
       "            }\n",
       "\n",
       "            return module;\n",
       "        })(modules[\"toyplot/canvas\"]);\n",
       "(function(axis, axis_id, projection)\n",
       "        {\n",
       "            axis.show_coordinates(axis_id, projection);\n",
       "        })(modules[\"toyplot.coordinates.Axis\"],\"t1ddec4c3bd6e41b0abc44bb49520c440\",[{\"domain\": {\"bounds\": {\"max\": Infinity, \"min\": -Infinity}, \"max\": 0.3238476779900006, \"min\": -8.074098645}, \"range\": {\"bounds\": {\"max\": Infinity, \"min\": -Infinity}, \"max\": 400.0, \"min\": 0.0}, \"scale\": \"linear\"}]);\n",
       "})();</script></div></div>"
      ]
     },
     "metadata": {},
     "output_type": "display_data"
    }
   ],
   "source": [
    "D = dist_matrix(simprofs)\n",
    "D.to_csv('dist_mlst.csv')\n",
    "treefile='mlst3.newick'\n",
    "tree_from_distmatrix(D, treefile)\n",
    "tremlst = toytree.tree(treefile)\n",
    "tremlst=tremlst.root('7')\n",
    "canvas,t,r=tremlst.draw(layout='r',scalebar=True,height=400,width=500,tip_labels_style={\"font-size\":\"19px\"})\n",
    "canvas.text(300, 20, \"wgMLST\", style={\"font-size\":\"32px\"});\n",
    "#toyplot.png.render(canvas, \"wgmlst_tree_sim.png\")"
   ]
  },
  {
   "cell_type": "code",
   "execution_count": 158,
   "id": "34b4feaa-4733-4fdf-b91e-1635e7587d8d",
   "metadata": {},
   "outputs": [
    {
     "data": {
      "image/png": "[encoded data removed]",
      "text/plain": [
       "<Figure size 1008x432 with 2 Axes>"
      ]
     },
     "metadata": {
      "needs_background": "light"
     },
     "output_type": "display_data"
    }
   ],
   "source": [
    "fig,ax=plt.subplots(1,2,figsize=(14,6))\n",
    "sns.heatmap(sd,annot=True,cbar=False,ax=ax[0])\n",
    "sns.heatmap(D,annot=True,cbar=False,ax=ax[1])\n",
    "ax[0].set_title('SNPs')\n",
    "ax[1].set_title('wgMLST')\n",
    "plt.savefig('sim_dist_heatmaps.png')"
   ]
  },
  {
   "cell_type": "code",
   "execution_count": 136,
   "id": "24e4e31b-87c0-4f89-a0e8-8de8e81ac12a",
   "metadata": {},
   "outputs": [],
   "source": [
    "import dendropy\n",
    "from dendropy.calculate import treecompare\n",
    "tns = dendropy.TaxonNamespace()\n",
    "reftree = dendropy.Tree.get(path='sim.newick', schema='newick',taxon_namespace=tns)\n",
    "tree1 = dendropy.Tree.get(path='mlst3.newick', schema='newick',taxon_namespace=tns)\n",
    "tree2 = dendropy.Tree.get(path='sim_results1/RAxML_bestTree.variants', schema='newick',taxon_namespace=tns)\n"
   ]
  },
  {
   "cell_type": "code",
   "execution_count": 138,
   "id": "e759c544-f5e4-4b89-90c0-3edad69d0059",
   "metadata": {},
   "outputs": [
    {
     "name": "stdout",
     "output_type": "stream",
     "text": [
      "4.898976053175999\n",
      "5.389472890360061\n"
     ]
    }
   ],
   "source": [
    "print(treecompare.euclidean_distance(reftree, tree1))\n",
    "print(treecompare.euclidean_distance(reftree, tree2))"
   ]
  },
  {
   "cell_type": "code",
   "execution_count": null,
   "id": "e2ee4de8-8331-46da-9145-0e4647983221",
   "metadata": {},
   "outputs": [],
   "source": []
  }
 ],
 "metadata": {
  "kernelspec": {
   "display_name": "Python 3 (ipykernel)",
   "language": "python",
   "name": "python3"
  },
  "language_info": {
   "codemirror_mode": {
    "name": "ipython",
    "version": 3
   },
   "file_extension": ".py",
   "mimetype": "text/x-python",
   "name": "python",
   "nbconvert_exporter": "python",
   "pygments_lexer": "ipython3",
   "version": "3.10.6"
  }
 },
 "nbformat": 4,
 "nbformat_minor": 5
}
