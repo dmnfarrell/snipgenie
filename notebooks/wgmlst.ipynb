{
 "cells": [
  {
   "cell_type": "markdown",
   "id": "097a5efa-3837-48c6-a8ea-309d58ba6fd6",
   "metadata": {},
   "source": [
    "## wgMLST for mbovis\n",
    "\n",
    "* http://www3.ridom.de/seqsphere/cgmlst/\n",
    "* https://www.cgmlst.org/ncs/schema/741110/\n",
    "* https://jcm.asm.org/content/52/7/2479\n",
    "* https://www.biorxiv.org/content/10.1101/172858v1.full\n",
    "* https://www.ncbi.nlm.nih.gov/pmc/articles/PMC3980634/"
   ]
  },
  {
   "cell_type": "markdown",
   "id": "3b554e75-17e5-4a8f-ab03-e93150bcc94e",
   "metadata": {},
   "source": [
    "## steps\n",
    "\n",
    "* get MLST gene list\n",
    "* assembly\n",
    "* annotate\n",
    "* assign allele numbers?"
   ]
  },
  {
   "cell_type": "code",
   "execution_count": 327,
   "id": "5fbe56cd-85be-425d-a949-8d7b709d4acc",
   "metadata": {},
   "outputs": [],
   "source": [
    "import sys,os,shutil,subprocess\n",
    "import glob\n",
    "from importlib import reload\n",
    "import numpy as np\n",
    "import pandas as pd\n",
    "pd.set_option('display.width', 200)\n",
    "pd.set_option('display.max_colwidth', 150)\n",
    "import pylab as plt\n",
    "import seaborn as sns\n",
    "from Bio import SeqIO\n",
    "from Bio.SeqRecord import SeqRecord\n",
    "from io import StringIO\n",
    "import snipgenie as snpg\n",
    "import pathogenie as pg"
   ]
  },
  {
   "cell_type": "code",
   "execution_count": 361,
   "id": "a9158dab-3bba-4414-bad1-59c5f0856117",
   "metadata": {},
   "outputs": [],
   "source": [
    "vcf_file='/storage/btbgenie/all_ireland_results/filtered.vcf.gz'"
   ]
  },
  {
   "cell_type": "code",
   "execution_count": null,
   "id": "f630368c-1859-4574-84dd-8a545f5e17b5",
   "metadata": {},
   "outputs": [],
   "source": [
    "path = '/storage/btbgenie/mbovis_ireland/Wicklow/Fastqs_07-01-18/'\n",
    "files = glob.glob(os.path.join(path, '*.gz'))\n",
    "samp = snpg.app.get_samples(files)\n",
    "pairs = pd.pivot_table(samp,index=['sample'],columns=['pair'],values='filename',aggfunc='first').reset_index()\n",
    "print (pairs)"
   ]
  },
  {
   "cell_type": "markdown",
   "id": "1200e6a5-624b-44ff-a8e5-4436b362b548",
   "metadata": {},
   "source": [
    "## create reference proteins for MLST"
   ]
  },
  {
   "cell_type": "code",
   "execution_count": 131,
   "id": "7c6c41ff-b137-40ef-b26d-fa40e236835c",
   "metadata": {},
   "outputs": [
    {
     "name": "stdout",
     "output_type": "stream",
     "text": [
      "3994\n"
     ]
    }
   ],
   "source": [
    "prots = pg.tools.genbank_to_dataframe('Mbovis-AF212297.2.gb',cds=True)\n",
    "prots = prots.fillna('')\n",
    "prots = prots.dropna(subset=['locus_tag'])\n",
    "ref_proteins = 'Mbovis_AF212297_proteins.fa'\n",
    "#get prokka type header for using in annotation\n",
    "prots['header'] = prots.apply(lambda x: '~~~'.join([x.locus_tag,x.gene,x['product'],'none']),1)\n",
    "pg.tools.dataframe_to_fasta(prots,idkey='header',outfile=ref_proteins)\n",
    "print (len(prots))"
   ]
  },
  {
   "cell_type": "code",
   "execution_count": 159,
   "id": "0c949c63-24d7-481a-b145-ca33f18595b4",
   "metadata": {},
   "outputs": [],
   "source": [
    "def get_nucleotide_sequences(gb_file,out_file,idkey='locus_tag'):\n",
    "    \"\"\"protein nucleotide seqs from genbank\"\"\"\n",
    "    \n",
    "    recs = SeqIO.to_dict(SeqIO.parse(gb_file,'genbank'))\n",
    "    chrom = list(recs.keys())[0]\n",
    "    refrec = recs[chrom]\n",
    "    result = []\n",
    "    for f in refrec.features[1:]:\n",
    "        q=f.qualifiers\n",
    "        if f.type != 'CDS':\n",
    "            continue\n",
    "        seq = refrec.seq[f.location.start:f.location.end]\n",
    "        try:\n",
    "            new = SeqRecord(seq,id=q[idkey][0])    \n",
    "        except:\n",
    "            #print (q)\n",
    "            pass\n",
    "        result.append(new)\n",
    "    SeqIO.write(result,out_file,format='fasta')\n",
    "    return\n",
    "\n",
    "get_nucleotide_sequences('Mbovis-AF212297.2.gb','Mbovis_AF212297_nuc.fa')"
   ]
  },
  {
   "cell_type": "markdown",
   "id": "1df61561-684c-418a-980c-2c62299a216a",
   "metadata": {},
   "source": [
    "## assembly"
   ]
  },
  {
   "cell_type": "code",
   "execution_count": null,
   "id": "09ca0cce-bad8-40a0-81bd-f93f8a39518f",
   "metadata": {},
   "outputs": [],
   "source": [
    "def spades(file1, file2, out, threads=4):\n",
    "    \"\"\"Run spades\"\"\"\n",
    "    \n",
    "    cmd = 'spades -t %s --pe1-1 %s --pe1-2 %s --careful -o %s' %(threads,file1,file2,outpath)\n",
    "    print (cmd)\n",
    "    if not os.path.exists(out): \n",
    "        subprocess.check_output(cmd, shell=True)\n",
    "    return \n",
    "\n",
    "path = '/storage/btbgenie/assembly/'\n",
    "\n",
    "for i,r in pairs[:1].iterrows():\n",
    "    print (r[1])\n",
    "    out = os.path.join(path,r['sample'])\n",
    "    spades(r[1], r[2], out,threads=10)"
   ]
  },
  {
   "cell_type": "markdown",
   "id": "255fab33-d9d4-4cc6-9edf-04a7d8250fd9",
   "metadata": {},
   "source": [
    "## get consensus sequence from alignment instead of assembly"
   ]
  },
  {
   "cell_type": "code",
   "execution_count": 254,
   "id": "b1450e60-5c58-4c34-9927-b11396ef068b",
   "metadata": {},
   "outputs": [],
   "source": [
    "def get_consensus(vcf_file, sample, out_file):\n",
    "    \"\"\"Get consensus sequence from vcf\"\"\"\n",
    "      \n",
    "    cmd='bcftools index %s' %vcf_file\n",
    "    #subprocess.check_output(cmd, shell=True)\n",
    "    cmd='cat {r} | bcftools consensus -s {s} {v} > {o}'.format(r=snpg.app.mbovis_genome,v=vcf_file,s=sample,o=out_file)\n",
    "    #print (cmd)\n",
    "    subprocess.check_output(cmd, shell=True)\n",
    "    return\n",
    "\n",
    "get_consensus(vcf_file, '1034','consensus.fa')"
   ]
  },
  {
   "cell_type": "markdown",
   "id": "f036d0a1-efe2-497b-bccf-93b0b305a212",
   "metadata": {},
   "source": [
    "## annotate\n"
   ]
  },
  {
   "cell_type": "code",
   "execution_count": null,
   "id": "65652405-949d-4bd8-be2e-e1869169890f",
   "metadata": {},
   "outputs": [],
   "source": [
    "#seqfile='/storage/btbgenie/assembly/17/scaffolds.fasta'\n",
    "seqfile='consensus.fa'\n",
    "featdf,recs = pg.run_annotation(seqfile,\n",
    "                                threads=10, kingdom='bacteria', trusted=ref_proteins)\n",
    "fastafile='/storage/btbgenie/annotation/17.fa'\n",
    "#df = pg.tools.records_to_dataframe(recs)\n",
    "#df['protein_id'] = df.protein_id.fillna(df.locus_tag)\n",
    "#pg.tools.dataframe_to_fasta(df,idkey='protein_id',outfile=fastafile)\n",
    "\n",
    "#write out nucl sequences\n",
    "SeqIO.write(recs,'temp.gb','genbank')\n",
    "get_nucleotide_sequences('temp.gb',fastafile,idkey='protein_id')"
   ]
  },
  {
   "cell_type": "markdown",
   "id": "c904b82a-bee9-4bee-a81d-b33539bb3b9f",
   "metadata": {},
   "source": [
    "# initialise MLST table from reference genome"
   ]
  },
  {
   "cell_type": "markdown",
   "id": "b795b5e3-ce6a-4ea8-a417-60a03ad8b5bc",
   "metadata": {},
   "source": [
    "## filter only Mb proteins in scheme"
   ]
  },
  {
   "cell_type": "code",
   "execution_count": 368,
   "id": "f2b59498-b340-4405-87a9-54ab89498277",
   "metadata": {},
   "outputs": [],
   "source": [
    "mlst=pd.read_csv('mlst_scheme.csv')\n",
    "mlst=mlst[mlst['Ridom Usage']=='MLST+']\n",
    "targets=list(mlst.Target)"
   ]
  },
  {
   "cell_type": "code",
   "execution_count": 369,
   "id": "02009a63-fbc7-4c52-97c1-2daee4048f17",
   "metadata": {},
   "outputs": [],
   "source": [
    "mbmap=pd.read_csv('final_mbovis_mapping.csv')\n",
    "mbmap = mbmap[mbmap.Rv_tag.isin(targets)]\n",
    "mb_tags = list(mbmap.Mb_tag)\n",
    "prots = prots[prots.locus_tag.isin(mb_tags)]\n",
    "nucseqs = pg.tools.fasta_to_dataframe('Mbovis_AF212297_nuc.fa')\n",
    "nucseqs = nucseqs[nucseqs.name.isin(mb_tags)]"
   ]
  },
  {
   "cell_type": "code",
   "execution_count": 370,
   "id": "e1698d53-1360-4deb-b9b8-4a6940766fbe",
   "metadata": {},
   "outputs": [
    {
     "name": "stdout",
     "output_type": "stream",
     "text": [
      "3185\n"
     ]
    }
   ],
   "source": [
    "cols = ['name','allele','sequence']\n",
    "ref = nucseqs.copy()\n",
    "ref['allele'] = 1\n",
    "ref=ref.rename(columns={'translation':'sequence'})\n",
    "ref[cols].to_csv('mlst_db.csv.gz',index=False,compression='gzip')\n",
    "print (len(ref))"
   ]
  },
  {
   "cell_type": "code",
   "execution_count": 335,
   "id": "18704833-b679-49c8-b459-4d0ca72ee22a",
   "metadata": {},
   "outputs": [
    {
     "name": "stdout",
     "output_type": "stream",
     "text": [
      "         name  allele\n",
      "0     Mb0014c       1\n",
      "1     Mb0015c       1\n",
      "2     Mb0016c       1\n",
      "3     Mb0017c       1\n",
      "4     Mb0018c       2\n",
      "...       ...     ...\n",
      "3095  Mb3936c       1\n",
      "3096  Mb3937c       1\n",
      "3097   Mb3938       2\n",
      "3098   Mb3939       1\n",
      "3099   Mb3940       1\n",
      "\n",
      "[3100 rows x 2 columns]\n",
      "added 0 new alleles\n"
     ]
    }
   ],
   "source": [
    "#check a sample against the allele table\n",
    "fastafile='/storage/btbgenie/annotation/1034.fa'\n",
    "\n",
    "def find_alleles(fastafile):\n",
    "    \"\"\"Find allele by simple matches to the reference table of known sequences.\n",
    "    Returns:\n",
    "        dataframe with allele number for each gene\n",
    "        dataframe with new alleles to add to db\n",
    "    \"\"\"\n",
    "    \n",
    "    db = pd.read_csv('mlst_db.csv.gz')\n",
    "    names = ref.name.unique()\n",
    "    df = pg.tools.fasta_to_dataframe(fastafile)\n",
    "    result=[]\n",
    "    new=[]\n",
    "    for name in names:\n",
    "        #print (name)\n",
    "        s = db[db.name==name]\n",
    "        gene = df[df.name==name]\n",
    "        if len(gene)==0:\n",
    "            #print (name)\n",
    "            continue\n",
    "        target = gene.iloc[0].sequence\n",
    "        found = s[s.sequence==target]        \n",
    "        #print (found)\n",
    "        if len(found)>0:\n",
    "            found = found.iloc[0]\n",
    "            result.append((name,found.allele))\n",
    "        else:\n",
    "            #assign new allele\n",
    "            newallele = s.allele.max()+1\n",
    "            result.append((name,newallele))\n",
    "            new.append([name,newallele,target])\n",
    "    prof = pd.DataFrame(result,columns=['name','allele'])\n",
    "    prof['allele'] = prof.allele.astype(int)\n",
    "    new = pd.DataFrame(new,columns=['name','allele','sequence'])\n",
    "    return prof, new\n",
    "    \n",
    "def update_mlst_db(new):\n",
    "    \"\"\"Update the database of MLST profiles\"\"\"\n",
    "    \n",
    "    db = pd.read_csv('mlst_db.csv.gz')\n",
    "    db = pd.concat([db,new])\n",
    "    db.to_csv('mlst_db.csv.gz', index=False, compression='gzip')\n",
    "    print ('added %s new alleles' %len(new))\n",
    "    return\n",
    "\n",
    "res,new = find_alleles(fastafile)\n",
    "print (res)\n",
    "update_mlst_db(new)"
   ]
  },
  {
   "cell_type": "code",
   "execution_count": 363,
   "id": "0aaa32a2-0d5f-44e7-b5d9-95148f858e9e",
   "metadata": {},
   "outputs": [
    {
     "name": "stdout",
     "output_type": "stream",
     "text": [
      "added 0 new alleles\n"
     ]
    }
   ],
   "source": [
    "def type_sample(sample, vcf_file, path, threads=4, overwrite=False):\n",
    "    \"\"\"Type a single sample using wgMLST.\n",
    "    Args:\n",
    "        sample: sample name, must be present in vcf file\n",
    "        vcf_file: source vcf \n",
    "        path: output folder for annotations\n",
    "    Returns:\n",
    "        dataframe of MLST profile\n",
    "    \"\"\"\n",
    "    \n",
    "    seqfile = 'consensus.fa'\n",
    "    fastafile = os.path.join(path,'%s.fa' %sample)\n",
    "    #use consensus for now    \n",
    "    get_consensus(vcf_file, sample, seqfile)\n",
    "    if overwrite == True or not os.path.exists(fastafile):\n",
    "        #annotate\n",
    "        featdf,recs = pg.run_annotation(seqfile,\n",
    "                                    threads=threads, kingdom='bacteria', trusted=ref_proteins)\n",
    "        #get nucl sequences from annotation    \n",
    "        SeqIO.write(recs,'temp.gb','genbank')\n",
    "        get_nucleotide_sequences('temp.gb',fastafile,idkey='protein_id')    \n",
    "    #find alleles\n",
    "    res,new = find_alleles(fastafile)\n",
    "    #print (res)\n",
    "    #update db\n",
    "    update_mlst_db(new)\n",
    "    return res\n",
    "\n",
    "res = type_sample('26-MBovis', vcf_file, '/storage/btbgenie/annotation/')"
   ]
  },
  {
   "cell_type": "code",
   "execution_count": 248,
   "id": "3bc7763a-0ca8-4267-9f1d-60755c13b101",
   "metadata": {},
   "outputs": [],
   "source": [
    "def get_samples_vcf(vcf_file):\n",
    "    cmd = 'bcftools query -l %s' %vcf_file\n",
    "    tmp = subprocess.check_output(cmd, shell=True)\n",
    "    return tmp.decode().split('\\n')\n",
    "    \n",
    "samplenames = get_samples_vcf(vcf_file)"
   ]
  },
  {
   "cell_type": "code",
   "execution_count": null,
   "id": "3a1e6f8a-e49d-411d-99b4-7904aefa2676",
   "metadata": {},
   "outputs": [],
   "source": [
    "profs = {}\n",
    "for s in samplenames[:40]:\n",
    "    print (s)\n",
    "    if s == '182-MBovis':\n",
    "        continue\n",
    "    profile = type_sample(s, vcf_file, '/storage/btbgenie/annotation/', threads=12)\n",
    "    profs[s] = get_profile_string(profile)"
   ]
  },
  {
   "cell_type": "markdown",
   "id": "9bdacafc-a95c-4201-93b8-733d3a77e52a",
   "metadata": {},
   "source": [
    "## find distances between profiles"
   ]
  },
  {
   "cell_type": "code",
   "execution_count": 340,
   "id": "fdc652d8-7609-4250-a71a-0431f6bb5c70",
   "metadata": {},
   "outputs": [],
   "source": [
    "def get_profile_string(df):\n",
    "    return ''.join(df.allele.astype(str))\n"
   ]
  },
  {
   "cell_type": "code",
   "execution_count": 341,
   "id": "68e8b4de-4e52-4aae-8fe4-80eba13d3abf",
   "metadata": {},
   "outputs": [],
   "source": [
    "def diff_profiles(s1, s2):\n",
    "    return sum(1 for a, b in zip(list(s1), list(s2)) if a != b)\n"
   ]
  },
  {
   "cell_type": "code",
   "execution_count": 354,
   "id": "660e437c-92aa-4809-a244-e5fdc2927870",
   "metadata": {},
   "outputs": [],
   "source": [
    "def dist_matrix(profiles):\n",
    "    \"\"\"Distance matrix of a set of profiles\"\"\"\n",
    "    \n",
    "    dist=[]\n",
    "    for s in profiles:\n",
    "        x=profs[s]\n",
    "        row=[]\n",
    "        for s in profs:\n",
    "            d = diff_profiles(x,profs[s])\n",
    "            row.append(d)\n",
    "        dist.append(row)\n",
    "    D = pd.DataFrame(dist,columns=profs.keys(),index=profs.keys())\n",
    "    return D"
   ]
  },
  {
   "cell_type": "code",
   "execution_count": 389,
   "id": "7fe28265-9205-4d52-a655-ab7e8d84428f",
   "metadata": {},
   "outputs": [
    {
     "data": {
      "text/plain": [
       "<seaborn.matrix.ClusterGrid at 0x7f8432e47cd0>"
      ]
     },
     "execution_count": 389,
     "metadata": {},
     "output_type": "execute_result"
    },
    {
     "data": {
      "image/png": "[encoded data removed]",
      "text/plain": [
       "<Figure size 720x720 with 4 Axes>"
      ]
     },
     "metadata": {
      "needs_background": "light"
     },
     "output_type": "display_data"
    }
   ],
   "source": [
    "D = dist_matrix(profs)\n",
    "sns.clustermap(D,xticklabels=True,yticklabels=True)"
   ]
  },
  {
   "cell_type": "code",
   "execution_count": 387,
   "id": "54f0b1aa-82f7-4a51-9efc-bddfcf1eca1a",
   "metadata": {},
   "outputs": [
    {
     "data": {
      "text/plain": [
       "1"
      ]
     },
     "execution_count": 387,
     "metadata": {},
     "output_type": "execute_result"
    }
   ],
   "source": [
    "def tree_from_distance_matrix(X):\n",
    "    \"\"\"Distance matrix to phylo tree\"\"\"\n",
    "\n",
    "    from Bio import Phylo\n",
    "    from Bio.Phylo.TreeConstruction import DistanceMatrix,DistanceTreeConstructor\n",
    "    from Bio.Cluster import distancematrix\n",
    "\n",
    "    names = list(X.index)\n",
    "    if type(X) is pd.DataFrame:\n",
    "        X = X.values\n",
    "    mat = distancematrix(X)\n",
    "    new=[]\n",
    "    for i in mat:\n",
    "        new.append(np.insert(i, 0, 0).tolist())\n",
    "\n",
    "    dm = DistanceMatrix(names,new)\n",
    "    constructor = DistanceTreeConstructor()\n",
    "    tree = constructor.nj(dm)\n",
    "    #Phylo.draw_ascii(tree,file=open('temp.txt','w'))\n",
    "    return tree\n",
    "\n",
    "tree = tree_from_distance_matrix(D)\n",
    "treefile = 'test.newick'\n",
    "Phylo.write(tree,treefile,format='newick')"
   ]
  },
  {
   "cell_type": "code",
   "execution_count": null,
   "id": "84781a9f-8157-4563-b0b4-c43519060934",
   "metadata": {},
   "outputs": [],
   "source": [
    "Phylo.draw_ascii(tree)"
   ]
  },
  {
   "cell_type": "code",
   "execution_count": null,
   "id": "8debf9c7-a270-4d7b-87cc-bf06f397b5a2",
   "metadata": {},
   "outputs": [],
   "source": [
    "import toytree\n",
    "meta = pd.read_csv('/storage/btbgenie/mbovis_ireland/all_ireland_samples.csv')\n",
    "#mapping = dict(zip(meta['sample'],meta.clade))\n",
    "\n",
    "tre = toytree.tree(treefile)\n",
    "canvas,t,r=tre.draw(layout='r')"
   ]
  },
  {
   "cell_type": "code",
   "execution_count": null,
   "id": "ea9b1f21-c3b7-46f0-93f4-4e3bc503c246",
   "metadata": {},
   "outputs": [],
   "source": []
  }
 ],
 "metadata": {
  "kernelspec": {
   "display_name": "Python 3",
   "language": "python",
   "name": "python3"
  },
  "language_info": {
   "codemirror_mode": {
    "name": "ipython",
    "version": 3
   },
   "file_extension": ".py",
   "mimetype": "text/x-python",
   "name": "python",
   "nbconvert_exporter": "python",
   "pygments_lexer": "ipython3",
   "version": "3.9.4"
  }
 },
 "nbformat": 4,
 "nbformat_minor": 5
}
