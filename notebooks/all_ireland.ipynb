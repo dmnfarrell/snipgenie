{
 "cells": [
  {
   "cell_type": "markdown",
   "metadata": {},
   "source": [
    "# All Ireland M.bovis strain diversity and clade identification"
   ]
  },
  {
   "cell_type": "code",
   "execution_count": 1,
   "metadata": {},
   "outputs": [],
   "source": [
    "import sys,os,io,shutil,subprocess\n",
    "import glob\n",
    "from importlib import reload\n",
    "import numpy as np\n",
    "import pandas as pd\n",
    "pd.set_option('display.width', 200)\n",
    "import pylab as plt\n",
    "import matplotlib as mpl\n",
    "from Bio import SeqIO\n",
    "import seaborn as sns\n",
    "sys.path.append('pathogenie')\n",
    "from snipgenie import tools, aligners, app, trees, plotting\n",
    "import toytree, toyplot\n",
    "import toyplot.pdf\n",
    "path = '/storage/btbgenie/all_ireland_results'"
   ]
  },
  {
   "cell_type": "markdown",
   "metadata": {},
   "source": [
    "## get meta data"
   ]
  },
  {
   "cell_type": "code",
   "execution_count": 2,
   "metadata": {},
   "outputs": [
    {
     "name": "stdout",
     "output_type": "stream",
     "text": [
      "636\n"
     ]
    }
   ],
   "source": [
    "meta = pd.read_csv('/storage/btbgenie/mbovis_ireland/all_ireland_samples.csv')\n",
    "print (len(meta))"
   ]
  },
  {
   "cell_type": "code",
   "execution_count": null,
   "metadata": {},
   "outputs": [],
   "source": [
    "dups=meta[meta.duplicated('aliquot')].dropna()\n",
    "#print (dups)\n",
    "for i,r in dups.iterrows():\n",
    "    print (meta[meta.aliquot== r.aliquot])\n",
    "#meta[(meta.batch.isin([2,3,4])) & (~meta.aliquot.isin(dups.aliquot)) & (meta.county=='Monaghan')]"
   ]
  },
  {
   "cell_type": "markdown",
   "metadata": {},
   "source": [
    "## run NI"
   ]
  },
  {
   "cell_type": "code",
   "execution_count": null,
   "metadata": {},
   "outputs": [],
   "source": [
    "reload(app)\n",
    "args = {'threads':20, 'outdir': '/storage/btbgenie/NI_results', 'labelsep':'_',\n",
    "        'input':['/storage/btbgenie/mbovis_ireland/NI'],\n",
    "         'species': 'Mbovis-AF212297',\n",
    "         'overwrite':False,\n",
    "         'custom_filters': True,\n",
    "         'buildtree':True}\n",
    "W = app.WorkFlow(**args)\n",
    "st = W.setup()\n",
    "W.run()"
   ]
  },
  {
   "cell_type": "markdown",
   "metadata": {},
   "source": [
    "## NI AFBI"
   ]
  },
  {
   "cell_type": "code",
   "execution_count": null,
   "metadata": {},
   "outputs": [],
   "source": [
    "reload(app)\n",
    "args = {'threads':16, 'outdir': '/storage/btbgenie/NI_AFBI_results', \n",
    "        'labelsep':'Gen_','labelindex':1,\n",
    "        'input':['/storage/btbgenie/mbovis_ireland/NI_AFBI'],\n",
    "         'species': 'Mbovis-AF212297',\n",
    "         'overwrite':False,\n",
    "         'custom_filters': True,\n",
    "         'buildtree':True}\n",
    "W = app.WorkFlow(**args)\n",
    "st = W.setup()\n",
    "W.run()"
   ]
  },
  {
   "cell_type": "code",
   "execution_count": 72,
   "metadata": {},
   "outputs": [
    {
     "data": {
      "text/html": [
       "<div class=\"toyplot\" id=\"tc5590366cd914346be5714023f7a474c\" style=\"text-align:center\"><svg class=\"toyplot-canvas-Canvas\" xmlns:toyplot=\"http://www.sandia.gov/toyplot\" xmlns:xlink=\"http://www.w3.org/1999/xlink\" xmlns=\"http://www.w3.org/2000/svg\" width=\"1000.0px\" height=\"1000.0px\" viewBox=\"0 0 1000.0 1000.0\" preserveAspectRatio=\"xMidYMid meet\" style=\"background-color:transparent;border-color:#292724;border-style:none;border-width:1.0;fill:rgb(16.1%,15.3%,14.1%);fill-opacity:1.0;font-family:Helvetica;font-size:12px;opacity:1.0;stroke:rgb(16.1%,15.3%,14.1%);stroke-opacity:1.0;stroke-width:1.0\" id=\"t208c0d4debe3489997e5dbd0d2365953\"><g class=\"toyplot-coordinates-Cartesian\" id=\"t27bd10d17fe54e1791a7c7103933c2eb\"><clipPath id=\"t9a3c925f94b84ef59ef353cd6e89d055\"><rect x=\"30.0\" y=\"30.0\" width=\"940.0\" height=\"940.0\"></rect></clipPath><g clip-path=\"url(#t9a3c925f94b84ef59ef353cd6e89d055)\"><g class=\"toytree-mark-Toytree\" id=\"taf10321181be4c28abcca1a6246b0e82\"><g class=\"toytree-Edges\" style=\"fill:none;stroke:rgb(14.9%,14.9%,14.9%);stroke-linecap:round;stroke-opacity:1;stroke-width:2\"><path d=\"M 51.6 122.3 L 51.6 226.0 L 57.6 226.0\" id=\"105,104\"></path><path d=\"M 57.6 226.0 L 57.6 126.8 L 60.6 126.8\" id=\"104,103\"></path><path d=\"M 57.6 226.0 L 57.6 325.2 L 60.6 325.2\" id=\"104,102\"></path><path d=\"M 60.6 126.8 L 60.6 103.6 L 66.6 103.6\" id=\"103,101\"></path><path d=\"M 60.6 126.8 L 60.6 150.0 L 66.6 150.0\" id=\"103,100\"></path><path d=\"M 60.6 325.2 L 60.6 246.8 L 62.1 246.8\" id=\"102,99\"></path><path d=\"M 60.6 325.2 L 60.6 403.6 L 61.8 403.6\" id=\"102,98\"></path><path d=\"M 66.6 150.0 L 66.6 171.7 L 66.6 171.7\" id=\"100,97\"></path><path d=\"M 62.1 246.8 L 62.1 266.2 L 62.1 266.2\" id=\"99,96\"></path><path d=\"M 61.8 403.6 L 61.8 372.0 L 86.3 372.0\" id=\"98,95\"></path><path d=\"M 61.8 403.6 L 61.8 435.2 L 113.7 435.2\" id=\"98,94\"></path><path d=\"M 66.6 171.7 L 66.6 153.1 L 69.6 153.1\" id=\"97,93\"></path><path d=\"M 66.6 171.7 L 66.6 190.3 L 66.6 190.3\" id=\"97,92\"></path><path d=\"M 62.1 266.2 L 62.1 288.4 L 63.6 288.4\" id=\"96,91\"></path><path d=\"M 86.3 372.0 L 86.3 384.4 L 86.3 384.4\" id=\"95,90\"></path><path d=\"M 113.7 435.2 L 113.7 461.2 L 129.6 461.2\" id=\"94,89\"></path><path d=\"M 66.6 190.3 L 66.6 202.7 L 66.6 202.7\" id=\"92,88\"></path><path d=\"M 63.6 288.4 L 63.6 268.7 L 69.7 268.7\" id=\"91,87\"></path><path d=\"M 63.6 288.4 L 63.6 308.0 L 68.1 308.0\" id=\"91,86\"></path><path d=\"M 129.6 461.2 L 129.6 496.7 L 134.1 496.7\" id=\"89,85\"></path><path d=\"M 68.1 308.0 L 68.1 322.4 L 72.6 322.4\" id=\"86,84\"></path><path d=\"M 134.1 496.7 L 134.1 551.2 L 137.0 551.2\" id=\"85,83\"></path><path d=\"M 72.6 322.4 L 72.6 334.8 L 74.1 334.8\" id=\"84,82\"></path><path d=\"M 137.0 551.2 L 137.0 495.9 L 400.0 495.9\" id=\"83,81\"></path><path d=\"M 137.0 551.2 L 137.0 606.5 L 137.0 606.5\" id=\"83,80\"></path><path d=\"M 400.0 495.9 L 400.0 471.1 L 683.0 471.1\" id=\"81,79\"></path><path d=\"M 400.0 495.9 L 400.0 520.6 L 400.0 520.6\" id=\"81,78\"></path><path d=\"M 137.0 606.5 L 137.0 566.1 L 232.7 566.1\" id=\"80,77\"></path><path d=\"M 137.0 606.5 L 137.0 646.9 L 144.4 646.9\" id=\"80,76\"></path><path d=\"M 683.0 471.1 L 683.0 483.5 L 685.9 483.5\" id=\"79,75\"></path><path d=\"M 400.0 520.6 L 400.0 533.0 L 707.7 533.0\" id=\"78,74\"></path><path d=\"M 144.4 646.9 L 144.4 599.1 L 244.3 599.1\" id=\"76,73\"></path><path d=\"M 144.4 646.9 L 144.4 694.7 L 184.2 694.7\" id=\"76,72\"></path><path d=\"M 184.2 694.7 L 184.2 638.3 L 252.0 638.3\" id=\"72,71\"></path><path d=\"M 184.2 694.7 L 184.2 751.0 L 184.2 751.0\" id=\"72,70\"></path><path d=\"M 252.0 638.3 L 252.0 652.8 L 256.2 652.8\" id=\"71,69\"></path><path d=\"M 184.2 751.0 L 184.2 702.4 L 248.9 702.4\" id=\"70,68\"></path><path d=\"M 184.2 751.0 L 184.2 799.7 L 189.2 799.7\" id=\"70,67\"></path><path d=\"M 256.2 652.8 L 256.2 665.2 L 259.2 665.2\" id=\"69,66\"></path><path d=\"M 248.9 702.4 L 248.9 714.7 L 259.4 714.7\" id=\"68,65\"></path><path d=\"M 189.2 799.7 L 189.2 754.0 L 278.2 754.0\" id=\"67,64\"></path><path d=\"M 189.2 799.7 L 189.2 845.3 L 233.2 845.3\" id=\"67,63\"></path><path d=\"M 278.2 754.0 L 278.2 768.4 L 278.2 768.4\" id=\"64,62\"></path><path d=\"M 233.2 845.3 L 233.2 813.9 L 251.6 813.9\" id=\"63,61\"></path><path d=\"M 233.2 845.3 L 233.2 876.8 L 237.5 876.8\" id=\"63,60\"></path><path d=\"M 278.2 768.4 L 278.2 780.8 L 282.7 780.8\" id=\"62,59\"></path><path d=\"M 237.5 876.8 L 237.5 851.0 L 237.5 851.0\" id=\"60,58\"></path><path d=\"M 237.5 876.8 L 237.5 902.6 L 237.5 902.6\" id=\"60,57\"></path><path d=\"M 237.5 851.0 L 237.5 863.4 L 240.5 863.4\" id=\"58,56\"></path><path d=\"M 237.5 902.6 L 237.5 917.1 L 240.5 917.1\" id=\"57,55\"></path><path d=\"M 240.5 917.1 L 240.5 929.5 L 240.5 929.5\" id=\"55,54\"></path><path d=\"M 51.6 122.3 L 51.6 62.3 L 51.6 62.3\" id=\"105,53\"></path><path d=\"M 51.6 122.3 L 51.6 78.8 L 53.1 78.8\" id=\"105,52\"></path><path d=\"M 66.6 103.6 L 66.6 95.3 L 68.1 95.3\" id=\"101,51\"></path><path d=\"M 66.6 103.6 L 66.6 111.8 L 68.1 111.8\" id=\"101,50\"></path><path d=\"M 66.6 150.0 L 66.6 128.3 L 75.6 128.3\" id=\"100,49\"></path><path d=\"M 69.6 153.1 L 69.6 144.8 L 72.6 144.8\" id=\"93,48\"></path><path d=\"M 69.6 153.1 L 69.6 161.4 L 78.7 161.4\" id=\"93,47\"></path><path d=\"M 66.6 190.3 L 66.6 177.9 L 66.6 177.9\" id=\"92,46\"></path><path d=\"M 66.6 202.7 L 66.6 194.4 L 72.6 194.4\" id=\"88,45\"></path><path d=\"M 66.6 202.7 L 66.6 210.9 L 69.6 210.9\" id=\"88,44\"></path><path d=\"M 62.1 246.8 L 62.1 227.4 L 68.1 227.4\" id=\"99,43\"></path><path d=\"M 62.1 266.2 L 62.1 244.0 L 66.6 244.0\" id=\"96,42\"></path><path d=\"M 69.7 268.7 L 69.7 260.5 L 81.7 260.5\" id=\"87,41\"></path><path d=\"M 69.7 268.7 L 69.7 277.0 L 86.3 277.0\" id=\"87,40\"></path><path d=\"M 68.1 308.0 L 68.1 293.5 L 69.6 293.5\" id=\"86,39\"></path><path d=\"M 72.6 322.4 L 72.6 310.0 L 74.1 310.0\" id=\"84,38\"></path><path d=\"M 74.1 334.8 L 74.1 326.6 L 80.1 326.6\" id=\"82,37\"></path><path d=\"M 74.1 334.8 L 74.1 343.1 L 74.1 343.1\" id=\"82,36\"></path><path d=\"M 86.3 372.0 L 86.3 359.6 L 89.3 359.6\" id=\"95,35\"></path><path d=\"M 86.3 384.4 L 86.3 376.1 L 87.8 376.1\" id=\"90,34\"></path><path d=\"M 86.3 384.4 L 86.3 392.6 L 86.3 392.6\" id=\"90,33\"></path><path d=\"M 113.7 435.2 L 113.7 409.1 L 177.9 409.1\" id=\"94,32\"></path><path d=\"M 129.6 461.2 L 129.6 425.7 L 129.6 425.7\" id=\"89,31\"></path><path d=\"M 134.1 496.7 L 134.1 442.2 L 227.6 442.2\" id=\"85,30\"></path><path d=\"M 683.0 471.1 L 683.0 458.7 L 713.7 458.7\" id=\"79,29\"></path><path d=\"M 685.9 483.5 L 685.9 475.2 L 713.1 475.2\" id=\"75,28\"></path><path d=\"M 685.9 483.5 L 685.9 491.7 L 715.0 491.7\" id=\"75,27\"></path><path d=\"M 400.0 520.6 L 400.0 508.3 L 775.4 508.3\" id=\"78,26\"></path><path d=\"M 707.7 533.0 L 707.7 524.8 L 729.5 524.8\" id=\"74,25\"></path><path d=\"M 707.7 533.0 L 707.7 541.3 L 720.8 541.3\" id=\"74,24\"></path><path d=\"M 232.7 566.1 L 232.7 557.8 L 255.3 557.8\" id=\"77,23\"></path><path d=\"M 232.7 566.1 L 232.7 574.3 L 260.4 574.3\" id=\"77,22\"></path><path d=\"M 244.3 599.1 L 244.3 590.9 L 247.3 590.9\" id=\"73,21\"></path><path d=\"M 244.3 599.1 L 244.3 607.4 L 244.3 607.4\" id=\"73,20\"></path><path d=\"M 252.0 638.3 L 252.0 623.9 L 267.4 623.9\" id=\"71,19\"></path><path d=\"M 256.2 652.8 L 256.2 640.4 L 262.2 640.4\" id=\"69,18\"></path><path d=\"M 259.2 665.2 L 259.2 656.9 L 259.2 656.9\" id=\"66,17\"></path><path d=\"M 259.2 665.2 L 259.2 673.4 L 265.2 673.4\" id=\"66,16\"></path><path d=\"M 248.9 702.4 L 248.9 690.0 L 264.0 690.0\" id=\"68,15\"></path><path d=\"M 259.4 714.7 L 259.4 706.5 L 266.9 706.5\" id=\"65,14\"></path><path d=\"M 259.4 714.7 L 259.4 723.0 L 268.4 723.0\" id=\"65,13\"></path><path d=\"M 278.2 754.0 L 278.2 739.5 L 284.2 739.5\" id=\"64,12\"></path><path d=\"M 278.2 768.4 L 278.2 756.0 L 282.7 756.0\" id=\"62,11\"></path><path d=\"M 282.7 780.8 L 282.7 772.6 L 282.7 772.6\" id=\"59,10\"></path><path d=\"M 282.7 780.8 L 282.7 789.1 L 287.2 789.1\" id=\"59,9\"></path><path d=\"M 251.6 813.9 L 251.6 805.6 L 251.6 805.6\" id=\"61,8\"></path><path d=\"M 251.6 813.9 L 251.6 822.1 L 253.1 822.1\" id=\"61,7\"></path><path d=\"M 237.5 851.0 L 237.5 838.6 L 243.5 838.6\" id=\"58,6\"></path><path d=\"M 240.5 863.4 L 240.5 855.2 L 246.5 855.2\" id=\"56,5\"></path><path d=\"M 240.5 863.4 L 240.5 871.7 L 263.1 871.7\" id=\"56,4\"></path><path d=\"M 237.5 902.6 L 237.5 888.2 L 249.5 888.2\" id=\"57,3\"></path><path d=\"M 240.5 917.1 L 240.5 904.7 L 243.5 904.7\" id=\"55,2\"></path><path d=\"M 240.5 929.5 L 240.5 921.2 L 248.0 921.2\" id=\"54,1\"></path><path d=\"M 240.5 929.5 L 240.5 937.7 L 246.5 937.7\" id=\"54,0\"></path></g><g class=\"toytree-TipLabels\" style=\"fill:rgb(14.9%,14.9%,14.9%);fill-opacity:1.0;font-family:helvetica;font-size:11px;font-weight:normal;stroke:none;white-space:pre\"><g transform=\"translate(246.47,937.74)rotate(0)\"><text x=\"15.00\" y=\"2.81\" style=\"\">038_Bov_2004_2.142</text></g><g transform=\"translate(247.96,921.22)rotate(0)\"><text x=\"15.00\" y=\"2.81\" style=\"\">048_Bov_2005_2.142</text></g><g transform=\"translate(243.47,904.71)rotate(0)\"><text x=\"15.00\" y=\"2.81\" style=\"\">036_Bov_2004_2.142</text></g><g transform=\"translate(249.49,888.19)rotate(0)\"><text x=\"15.00\" y=\"2.81\" style=\"\">027_Bov_2004_2.142</text></g><g transform=\"translate(263.08,871.67)rotate(0)\"><text x=\"15.00\" y=\"2.81\" style=\"\">324_Bov_2015_2.142</text></g><g transform=\"translate(246.48,855.15)rotate(0)\"><text x=\"15.00\" y=\"2.81\" style=\"\">005_Bov_2000_2.142</text></g><g transform=\"translate(243.47,838.63)rotate(0)\"><text x=\"15.00\" y=\"2.81\" style=\"\">307_Bov_2013_2.142</text></g><g transform=\"translate(253.09,822.11)rotate(0)\"><text x=\"15.00\" y=\"2.81\" style=\"\">182_Bad_2021_2.142</text></g><g transform=\"translate(251.60,805.59)rotate(0)\"><text x=\"15.00\" y=\"2.81\" style=\"\">041_Bov_2005_2.142</text></g><g transform=\"translate(287.15,789.08)rotate(0)\"><text x=\"15.00\" y=\"2.81\" style=\"\">045_Bov_2003_1.140</text></g><g transform=\"translate(282.68,772.56)rotate(0)\"><text x=\"15.00\" y=\"2.81\" style=\"\">004_Bov_2000_1.140</text></g><g transform=\"translate(282.68,756.04)rotate(0)\"><text x=\"15.00\" y=\"2.81\" style=\"\">001_Bov_2001_1.140</text></g><g transform=\"translate(284.17,739.52)rotate(0)\"><text x=\"15.00\" y=\"2.81\" style=\"\">043_Bov_2003_1.140</text></g><g transform=\"translate(268.41,723.00)rotate(0)\"><text x=\"15.00\" y=\"2.81\" style=\"\">026_Bov_2004_4.140</text></g><g transform=\"translate(266.88,706.48)rotate(0)\"><text x=\"15.00\" y=\"2.81\" style=\"\">047_Bov_2005_4.140</text></g><g transform=\"translate(264.03,689.96)rotate(0)\"><text x=\"15.00\" y=\"2.81\" style=\"\">035_Bov_2004_19.140</text></g><g transform=\"translate(265.18,673.45)rotate(0)\"><text x=\"15.00\" y=\"2.81\" style=\"\">187_Bad_2018_5.140</text></g><g transform=\"translate(259.21,656.93)rotate(0)\"><text x=\"15.00\" y=\"2.81\" style=\"\">037_Bov_2004_5.140</text></g><g transform=\"translate(262.21,640.41)rotate(0)\"><text x=\"15.00\" y=\"2.81\" style=\"\">346_Bov_2016_5.140</text></g><g transform=\"translate(267.35,623.89)rotate(0)\"><text x=\"15.00\" y=\"2.81\" style=\"\">305_Bov_2013_5.140</text></g><g transform=\"translate(244.29,607.37)rotate(0)\"><text x=\"15.00\" y=\"2.81\" style=\"\">227_Bov_20XX_14.140</text></g><g transform=\"translate(247.28,590.85)rotate(0)\"><text x=\"15.00\" y=\"2.81\" style=\"\">212_Bov_20XX_14.140</text></g><g transform=\"translate(260.40,574.33)rotate(0)\"><text x=\"15.00\" y=\"2.81\" style=\"\">044_Bov_2003_8.140</text></g><g transform=\"translate(255.29,557.82)rotate(0)\"><text x=\"15.00\" y=\"2.81\" style=\"\">235_Bov_20XX_5.140</text></g><g transform=\"translate(720.77,541.30)rotate(0)\"><text x=\"15.00\" y=\"2.81\" style=\"\">115_Bov_2007_18.129</text></g><g transform=\"translate(729.53,524.78)rotate(0)\"><text x=\"15.00\" y=\"2.81\" style=\"\">018_Bov_2003_18.129</text></g><g transform=\"translate(775.36,508.26)rotate(0)\"><text x=\"15.00\" y=\"2.81\" style=\"\">378_Bov_2017_11.145</text></g><g transform=\"translate(715.00,491.74)rotate(0)\"><text x=\"15.00\" y=\"2.81\" style=\"\">190_Bov_20XX_24.130</text></g><g transform=\"translate(713.09,475.22)rotate(0)\"><text x=\"15.00\" y=\"2.81\" style=\"\">210_Bov_20XX_24.130</text></g><g transform=\"translate(713.75,458.70)rotate(0)\"><text x=\"15.00\" y=\"2.81\" style=\"\">034_Bov_2004_24.130</text></g><g transform=\"translate(227.60,442.18)rotate(0)\"><text x=\"15.00\" y=\"2.81\" style=\"\">040_Bov_2005_27.140</text></g><g transform=\"translate(129.55,425.67)rotate(0)\"><text x=\"15.00\" y=\"2.81\" style=\"\">ref</text></g><g transform=\"translate(177.88,409.15)rotate(0)\"><text x=\"15.00\" y=\"2.81\" style=\"\">023_Bov_2004_6.263</text></g><g transform=\"translate(86.27,392.63)rotate(0)\"><text x=\"15.00\" y=\"2.81\" style=\"\">077_Bov_2006_3.975</text></g><g transform=\"translate(87.76,376.11)rotate(0)\"><text x=\"15.00\" y=\"2.81\" style=\"\">133_Bov_2007_3.975</text></g><g transform=\"translate(89.25,359.59)rotate(0)\"><text x=\"15.00\" y=\"2.81\" style=\"\">132_Bov_2007_3.975</text></g><g transform=\"translate(74.14,343.07)rotate(0)\"><text x=\"15.00\" y=\"2.81\" style=\"\">050_Bov_2005_3.140</text></g><g transform=\"translate(80.15,326.55)rotate(0)\"><text x=\"15.00\" y=\"2.81\" style=\"\">364_Bov_2017_3.140</text></g><g transform=\"translate(74.14,310.04)rotate(0)\"><text x=\"15.00\" y=\"2.81\" style=\"\">301_Bov_2013_3.140</text></g><g transform=\"translate(69.63,293.52)rotate(0)\"><text x=\"15.00\" y=\"2.81\" style=\"\">009_Bov_1999_3.140</text></g><g transform=\"translate(86.25,277.00)rotate(0)\"><text x=\"15.00\" y=\"2.81\" style=\"\">032_Bov_2004_3.140</text></g><g transform=\"translate(81.71,260.48)rotate(0)\"><text x=\"15.00\" y=\"2.81\" style=\"\">046_Bov_2003_3.140</text></g><g transform=\"translate(66.63,243.96)rotate(0)\"><text x=\"15.00\" y=\"2.81\" style=\"\">029_Bov_2004_7.140</text></g><g transform=\"translate(68.13,227.44)rotate(0)\"><text x=\"15.00\" y=\"2.81\" style=\"\">002_Bov_2001_7.140</text></g><g transform=\"translate(69.64,210.92)rotate(0)\"><text x=\"15.00\" y=\"2.81\" style=\"\">008_Bov_2000_3.140</text></g><g transform=\"translate(72.64,194.41)rotate(0)\"><text x=\"15.00\" y=\"2.81\" style=\"\">031_Bov_2004_3.140</text></g><g transform=\"translate(66.64,177.89)rotate(0)\"><text x=\"15.00\" y=\"2.81\" style=\"\">006_Bov_2000_3.140</text></g><g transform=\"translate(78.65,161.37)rotate(0)\"><text x=\"15.00\" y=\"2.81\" style=\"\">254_Bov_20XX_3.140</text></g><g transform=\"translate(72.65,144.85)rotate(0)\"><text x=\"15.00\" y=\"2.81\" style=\"\">049_Bov_2005_3.140</text></g><g transform=\"translate(75.64,128.33)rotate(0)\"><text x=\"15.00\" y=\"2.81\" style=\"\">030_Bov_2004_3.140</text></g><g transform=\"translate(68.13,111.81)rotate(0)\"><text x=\"15.00\" y=\"2.81\" style=\"\">003_Bov_2001_3.140</text></g><g transform=\"translate(68.14,95.29)rotate(0)\"><text x=\"15.00\" y=\"2.81\" style=\"\">028_Bov_2004_3.140</text></g><g transform=\"translate(53.11,78.78)rotate(0)\"><text x=\"15.00\" y=\"2.81\" style=\"\">033_Bov_2004_25.140</text></g><g transform=\"translate(51.61,62.26)rotate(0)\"><text x=\"15.00\" y=\"2.81\" style=\"\">007_Bov_2000_25.140</text></g></g></g></g><g class=\"toyplot-coordinates-Axis\" id=\"t62f3e27c6d8549f4a69d7132898f3af5\" transform=\"translate(50.0,950.0)translate(0,20.0)\"><line x1=\"1.6083476818794555\" y1=\"0\" x2=\"725.3648045276774\" y2=\"0\" style=\"\"></line><g><line x1=\"725.3648045276774\" y1=\"0\" x2=\"725.3648045276774\" y2=\"-5\" style=\"\"></line><line x1=\"644.9474204336999\" y1=\"0\" x2=\"644.9474204336999\" y2=\"-5\" style=\"\"></line><line x1=\"564.5300363397223\" y1=\"0\" x2=\"564.5300363397223\" y2=\"-5\" style=\"\"></line><line x1=\"484.11265224574475\" y1=\"0\" x2=\"484.11265224574475\" y2=\"-5\" style=\"\"></line><line x1=\"403.6952681517672\" y1=\"0\" x2=\"403.6952681517672\" y2=\"-5\" style=\"\"></line><line x1=\"323.27788405778966\" y1=\"0\" x2=\"323.27788405778966\" y2=\"-5\" style=\"\"></line><line x1=\"242.86049996381206\" y1=\"0\" x2=\"242.86049996381206\" y2=\"-5\" style=\"\"></line><line x1=\"162.44311586983451\" y1=\"0\" x2=\"162.44311586983451\" y2=\"-5\" style=\"\"></line><line x1=\"82.025731775857\" y1=\"0\" x2=\"82.025731775857\" y2=\"-5\" style=\"\"></line><line x1=\"1.6083476818794555\" y1=\"0\" x2=\"1.6083476818794555\" y2=\"-5\" style=\"\"></line></g><g><g transform=\"translate(725.3648045276774,6)\"><text x=\"-2.78\" y=\"8.555\" style=\"fill:rgb(16.1%,15.3%,14.1%);fill-opacity:1.0;font-family:helvetica;font-size:10.0px;font-weight:normal;stroke:none;vertical-align:baseline;white-space:pre\">0</text></g><g transform=\"translate(644.9474204336999,6)\"><text x=\"-5.56\" y=\"8.555\" style=\"fill:rgb(16.1%,15.3%,14.1%);fill-opacity:1.0;font-family:helvetica;font-size:10.0px;font-weight:normal;stroke:none;vertical-align:baseline;white-space:pre\">54</text></g><g transform=\"translate(564.5300363397223,6)\"><text x=\"-8.34\" y=\"8.555\" style=\"fill:rgb(16.1%,15.3%,14.1%);fill-opacity:1.0;font-family:helvetica;font-size:10.0px;font-weight:normal;stroke:none;vertical-align:baseline;white-space:pre\">108</text></g><g transform=\"translate(484.11265224574475,6)\"><text x=\"-8.34\" y=\"8.555\" style=\"fill:rgb(16.1%,15.3%,14.1%);fill-opacity:1.0;font-family:helvetica;font-size:10.0px;font-weight:normal;stroke:none;vertical-align:baseline;white-space:pre\">161</text></g><g transform=\"translate(403.6952681517672,6)\"><text x=\"-8.34\" y=\"8.555\" style=\"fill:rgb(16.1%,15.3%,14.1%);fill-opacity:1.0;font-family:helvetica;font-size:10.0px;font-weight:normal;stroke:none;vertical-align:baseline;white-space:pre\">215</text></g><g transform=\"translate(323.27788405778966,6)\"><text x=\"-8.34\" y=\"8.555\" style=\"fill:rgb(16.1%,15.3%,14.1%);fill-opacity:1.0;font-family:helvetica;font-size:10.0px;font-weight:normal;stroke:none;vertical-align:baseline;white-space:pre\">269</text></g><g transform=\"translate(242.86049996381206,6)\"><text x=\"-8.34\" y=\"8.555\" style=\"fill:rgb(16.1%,15.3%,14.1%);fill-opacity:1.0;font-family:helvetica;font-size:10.0px;font-weight:normal;stroke:none;vertical-align:baseline;white-space:pre\">323</text></g><g transform=\"translate(162.44311586983451,6)\"><text x=\"-8.34\" y=\"8.555\" style=\"fill:rgb(16.1%,15.3%,14.1%);fill-opacity:1.0;font-family:helvetica;font-size:10.0px;font-weight:normal;stroke:none;vertical-align:baseline;white-space:pre\">376</text></g><g transform=\"translate(82.025731775857,6)\"><text x=\"-8.34\" y=\"8.555\" style=\"fill:rgb(16.1%,15.3%,14.1%);fill-opacity:1.0;font-family:helvetica;font-size:10.0px;font-weight:normal;stroke:none;vertical-align:baseline;white-space:pre\">430</text></g><g transform=\"translate(1.6083476818794555,6)\"><text x=\"-8.34\" y=\"8.555\" style=\"fill:rgb(16.1%,15.3%,14.1%);fill-opacity:1.0;font-family:helvetica;font-size:10.0px;font-weight:normal;stroke:none;vertical-align:baseline;white-space:pre\">484</text></g></g><g class=\"toyplot-coordinates-Axis-coordinates\" style=\"visibility:hidden\" transform=\"\"><line x1=\"0\" x2=\"0\" y1=\"-3.0\" y2=\"4.5\" style=\"stroke:rgb(43.9%,50.2%,56.5%);stroke-opacity:1.0;stroke-width:1.0\"></line><text x=\"0\" y=\"-6\" style=\"alignment-baseline:alphabetic;fill:rgb(43.9%,50.2%,56.5%);fill-opacity:1.0;font-size:10px;font-weight:normal;stroke:none;text-anchor:middle\"></text></g></g></g></svg><div class=\"toyplot-behavior\"><script>(function()\n",
       "{\n",
       "var modules={};\n",
       "modules[\"toyplot/canvas/id\"] = \"t208c0d4debe3489997e5dbd0d2365953\";\n",
       "modules[\"toyplot/canvas\"] = (function(canvas_id)\n",
       "    {\n",
       "        return document.querySelector(\"#\" + canvas_id);\n",
       "    })(modules[\"toyplot/canvas/id\"]);\n",
       "modules[\"toyplot.coordinates.Axis\"] = (\n",
       "        function(canvas)\n",
       "        {\n",
       "            function sign(x)\n",
       "            {\n",
       "                return x < 0 ? -1 : x > 0 ? 1 : 0;\n",
       "            }\n",
       "\n",
       "            function mix(a, b, amount)\n",
       "            {\n",
       "                return ((1.0 - amount) * a) + (amount * b);\n",
       "            }\n",
       "\n",
       "            function log(x, base)\n",
       "            {\n",
       "                return Math.log(Math.abs(x)) / Math.log(base);\n",
       "            }\n",
       "\n",
       "            function in_range(a, x, b)\n",
       "            {\n",
       "                var left = Math.min(a, b);\n",
       "                var right = Math.max(a, b);\n",
       "                return left <= x && x <= right;\n",
       "            }\n",
       "\n",
       "            function inside(range, projection)\n",
       "            {\n",
       "                for(var i = 0; i != projection.length; ++i)\n",
       "                {\n",
       "                    var segment = projection[i];\n",
       "                    if(in_range(segment.range.min, range, segment.range.max))\n",
       "                        return true;\n",
       "                }\n",
       "                return false;\n",
       "            }\n",
       "\n",
       "            function to_domain(range, projection)\n",
       "            {\n",
       "                for(var i = 0; i != projection.length; ++i)\n",
       "                {\n",
       "                    var segment = projection[i];\n",
       "                    if(in_range(segment.range.bounds.min, range, segment.range.bounds.max))\n",
       "                    {\n",
       "                        if(segment.scale == \"linear\")\n",
       "                        {\n",
       "                            var amount = (range - segment.range.min) / (segment.range.max - segment.range.min);\n",
       "                            return mix(segment.domain.min, segment.domain.max, amount)\n",
       "                        }\n",
       "                        else if(segment.scale[0] == \"log\")\n",
       "                        {\n",
       "                            var amount = (range - segment.range.min) / (segment.range.max - segment.range.min);\n",
       "                            var base = segment.scale[1];\n",
       "                            return sign(segment.domain.min) * Math.pow(base, mix(log(segment.domain.min, base), log(segment.domain.max, base), amount));\n",
       "                        }\n",
       "                    }\n",
       "                }\n",
       "            }\n",
       "\n",
       "            var axes = {};\n",
       "\n",
       "            function display_coordinates(e)\n",
       "            {\n",
       "                var current = canvas.createSVGPoint();\n",
       "                current.x = e.clientX;\n",
       "                current.y = e.clientY;\n",
       "\n",
       "                for(var axis_id in axes)\n",
       "                {\n",
       "                    var axis = document.querySelector(\"#\" + axis_id);\n",
       "                    var coordinates = axis.querySelector(\".toyplot-coordinates-Axis-coordinates\");\n",
       "                    if(coordinates)\n",
       "                    {\n",
       "                        var projection = axes[axis_id];\n",
       "                        var local = current.matrixTransform(axis.getScreenCTM().inverse());\n",
       "                        if(inside(local.x, projection))\n",
       "                        {\n",
       "                            var domain = to_domain(local.x, projection);\n",
       "                            coordinates.style.visibility = \"visible\";\n",
       "                            coordinates.setAttribute(\"transform\", \"translate(\" + local.x + \")\");\n",
       "                            var text = coordinates.querySelector(\"text\");\n",
       "                            text.textContent = domain.toFixed(2);\n",
       "                        }\n",
       "                        else\n",
       "                        {\n",
       "                            coordinates.style.visibility= \"hidden\";\n",
       "                        }\n",
       "                    }\n",
       "                }\n",
       "            }\n",
       "\n",
       "            canvas.addEventListener(\"click\", display_coordinates);\n",
       "\n",
       "            var module = {};\n",
       "            module.show_coordinates = function(axis_id, projection)\n",
       "            {\n",
       "                axes[axis_id] = projection;\n",
       "            }\n",
       "\n",
       "            return module;\n",
       "        })(modules[\"toyplot/canvas\"]);\n",
       "(function(axis, axis_id, projection)\n",
       "        {\n",
       "            axis.show_coordinates(axis_id, projection);\n",
       "        })(modules[\"toyplot.coordinates.Axis\"],\"t62f3e27c6d8549f4a69d7132898f3af5\",[{\"domain\": {\"bounds\": {\"max\": Infinity, \"min\": -Infinity}, \"max\": 116.79360381990001, \"min\": -485.11395068888885}, \"range\": {\"bounds\": {\"max\": Infinity, \"min\": -Infinity}, \"max\": 900.0, \"min\": 0.0}, \"scale\": \"linear\"}]);\n",
       "})();</script></div></div>"
      ]
     },
     "metadata": {},
     "output_type": "display_data"
    }
   ],
   "source": [
    "treefile = '/storage/btbgenie/NI_AFBI_results/tree.newick'\n",
    "tre = toytree.tree(treefile)\n",
    "canvas,t,r=tre.draw(layout='r',width=1000,height=1000,\n",
    "                    scalebar=True,);"
   ]
  },
  {
   "cell_type": "markdown",
   "metadata": {},
   "source": [
    "## misc 2021 samples (Kevin)"
   ]
  },
  {
   "cell_type": "code",
   "execution_count": null,
   "metadata": {},
   "outputs": [],
   "source": [
    "args = {'threads':20, 'outdir': '/storage/btbgenie/misc_results', 'labelsep':'_',\n",
    "        'input':['/storage/btbgenie/mbovis_ireland/Misc'],\n",
    "         'species': 'Mbovis-AF212297',\n",
    "         'overwrite':False,\n",
    "         'custom_filters': True,\n",
    "         'buildtree':True}\n",
    "W = app.WorkFlow(**args)\n",
    "st = W.setup()\n",
    "W.run()"
   ]
  },
  {
   "cell_type": "code",
   "execution_count": null,
   "metadata": {},
   "outputs": [],
   "source": [
    "reload(app)\n",
    "mask='/home/farrell/gitprojects/snipgenie/snipgenie/data/Mbovis_AF212297_mask.bed'\n",
    "vcf_file='/storage/btbgenie/misc_results/snps.vcf.gz'\n",
    "app.mask_filter(vcf_file, mask)"
   ]
  },
  {
   "cell_type": "code",
   "execution_count": 244,
   "metadata": {},
   "outputs": [
    {
     "name": "stdout",
     "output_type": "stream",
     "text": [
      "         sample                           name                                           bam_file  read_length\n",
      "25  TB19-004280  TB19-004280_S68_L001-4_R2_001  /storage/btbgenie/misc_results/mapped/TB19-004...          149\n",
      "48  TB19-005887  TB19-005887_S29_L001-4_R2_001  /storage/btbgenie/misc_results/mapped/TB19-005...          150\n",
      "65 2 61\n"
     ]
    }
   ],
   "source": [
    "present=pd.read_csv('/storage/btbgenie/misc_results/summary.csv')\n",
    "present['sample']=present['sample'].astype(str)\n",
    "#print (present[:10])\n",
    "l=list(W.fastq_table['sample'].unique())\n",
    "\n",
    "s=meta[meta.batch>=3].sort_values(by='sample')\n",
    "#s['label'] = s['sample'].apply(lambda x : x.split('-')[1][-4:]).astype(str)\n",
    "#s=s.sort_values('label')\n",
    "\n",
    "p = present[~present['sample'].isin(s['sample'])]\n",
    "#p = (s[s['label'].isin(l)])\n",
    "print (p)\n",
    "print (len(s),len(p), len(present))"
   ]
  },
  {
   "cell_type": "code",
   "execution_count": 284,
   "metadata": {},
   "outputs": [],
   "source": [
    "reload(trees)\n",
    "spo=pd.read_csv('/storage/btbgenie/all_ireland_results/misc_spoligotypes.csv')\n",
    "treefile = '/storage/btbgenie/misc_results/tree.newick'\n",
    "tre = toytree.tree(treefile)\n",
    "tipnames = tre.get_tip_labels()\n",
    "mapping = dict(zip(meta['sample'],meta.county))\n",
    "colormap = trees.colors_from_labels(meta,'name','county')\n",
    "tip_colors = [colormap[mapping[i]] if i in mapping else 'Black' for i in tipnames]\n",
    "\n",
    "canvas,t,r=tre.draw(layout='r',width=1000,height=1000,tip_labels_colors=tip_colors,\n",
    "                    scalebar=True,);\n",
    "toyplot.pdf.render(canvas,'/storage/btbgenie/all_ireland_results/misc_samples_tree.pdf')"
   ]
  },
  {
   "cell_type": "markdown",
   "metadata": {},
   "source": [
    "## run CVRL samples"
   ]
  },
  {
   "cell_type": "code",
   "execution_count": null,
   "metadata": {},
   "outputs": [],
   "source": [
    "args = {'threads':20, 'outdir': '/storage/btbgenie/cvrl_results', 'labelsep':'_',\n",
    "        'input':['/storage/btbgenie/mbovis_ireland/CVRL'],\n",
    "         'species': 'Mbovis-AF212297',\n",
    "         'overwrite':False,\n",
    "         'custom_filters': True,\n",
    "         'buildtree':True}\n",
    "W = app.WorkFlow(**args)\n",
    "st = W.setup()\n",
    "W.run()"
   ]
  },
  {
   "cell_type": "markdown",
   "metadata": {},
   "source": [
    "## UK samples?"
   ]
  },
  {
   "cell_type": "code",
   "execution_count": null,
   "metadata": {},
   "outputs": [],
   "source": [
    "args = {'threads':20, 'outdir': '/storage/btbgenie/UK_results', 'labelsep':'_',\n",
    "        'input':['/storage/btbgenie/??'],\n",
    "         'species': 'Mbovis-AF212297',\n",
    "         'overwrite':False,\n",
    "         'custom_filters': True,\n",
    "         'buildtree':True}\n",
    "W = app.WorkFlow(**args)\n",
    "st = W.setup()\n",
    "W.run()"
   ]
  },
  {
   "cell_type": "code",
   "execution_count": null,
   "metadata": {},
   "outputs": [],
   "source": [
    "reload(trees)\n",
    "spo=pd.read_csv('/storage/btbgenie/all_ireland_results/cvrl_spoligotypes.csv')\n",
    "treefile = '/storage/btbgenie/cvrl_results/tree.newick'\n",
    "tre = toytree.tree(treefile)\n",
    "tipnames = tre.get_tip_labels()\n",
    "mapping = dict(zip(meta['sample'],meta.county))\n",
    "colormap = trees.colors_from_labels(meta,'name','county')\n",
    "tip_colors = [colormap[mapping[i]] if i in mapping else 'Black' for i in tipnames]\n",
    "\n",
    "canvas,t,r=tre.draw(layout='r',width=1000,height=1400,tip_labels_colors=tip_colors,\n",
    "                    scalebar=True,);"
   ]
  },
  {
   "cell_type": "markdown",
   "metadata": {},
   "source": [
    "## integrate previously aligned bam files together and call variants\n",
    "\n",
    "This allows us to join previously mapped results together in one call without re-aligning"
   ]
  },
  {
   "cell_type": "code",
   "execution_count": 3,
   "metadata": {},
   "outputs": [
    {
     "name": "stdout",
     "output_type": "stream",
     "text": [
      "wicklow\n",
      "cvrl\n",
      "misc\n",
      "monaghan\n",
      "NI\n",
      "AFBI\n",
      "570\n"
     ]
    }
   ],
   "source": [
    "outdir='/storage/btbgenie/all_ireland_results'\n",
    "\n",
    "folders = {'wicklow':'/storage/btbgenie/wicklow_results',\n",
    "          'cvrl':'/storage/btbgenie/cvrl_results',\n",
    "          'misc':'/storage/btbgenie/misc_results',\n",
    "          'monaghan':'/storage/btbgenie/monaghan/monaghan_results',\n",
    "          'NI':'/storage/btbgenie/NI_results/',\n",
    "          'AFBI':'/storage/btbgenie/NI_AFBI_results/',\n",
    "          }\n",
    "\n",
    "x=[]\n",
    "for f in folders:\n",
    "    print (f)\n",
    "    file = os.path.join(folders[f],'samples.csv')   \n",
    "    df=pd.read_csv(file)\n",
    "    x.append(df)\n",
    "samples = pd.concat(x)\n",
    "print (len(samples))\n",
    "samples.to_csv('/storage/btbgenie/all_ireland_results/samples.csv',index=False)\n",
    "app.write_samples(samples[['sample']], outdir)\n",
    "bam_files = list(samples.bam_file)"
   ]
  },
  {
   "cell_type": "markdown",
   "metadata": {},
   "source": [
    "## run previously aligned files"
   ]
  },
  {
   "cell_type": "code",
   "execution_count": null,
   "metadata": {},
   "outputs": [],
   "source": [
    "reload(app)\n",
    "gff_file=os.path.join(outdir,'mbovis.gff')\n",
    "tools.gff_bcftools_format(app.mbovis_gb, gff_file)\n",
    "app.run_bamfiles(bam_files, app.mbovis_genome, outdir='/storage/btbgenie/all_ireland_results', threads=16,                \n",
    "                 mask=app.mbovis_mask, gff_file=gff_file,\n",
    "                 custom_filters=True, overwrite=False)"
   ]
  },
  {
   "cell_type": "markdown",
   "metadata": {},
   "source": [
    "## spoligotypes of all samples"
   ]
  },
  {
   "cell_type": "code",
   "execution_count": 89,
   "metadata": {},
   "outputs": [],
   "source": [
    "reload(tools)\n",
    "spo = pd.read_csv('/storage/btbgenie/mbovis_ireland/spoligotypes.csv')\n",
    "done=list(spo['sample'])\n",
    "res=[]\n",
    "for i,r in samples.iterrows():\n",
    "    f=r.filename1\n",
    "    samp=r['sample']\n",
    "    if samp in done:\n",
    "        continue\n",
    "    b = tools.get_spoligotype(f)\n",
    "    sb = tools.get_sb_number(b)\n",
    "    print (f,samp,sb, b)\n",
    "    res.append([f,samp,sb,b])\n",
    " \n",
    "res = pd.DataFrame(res,columns=['filename','sample','SB','code'])\n",
    "#append new spotypes to current file\n",
    "res=pd.concat([spo,res])"
   ]
  },
  {
   "cell_type": "code",
   "execution_count": 90,
   "metadata": {},
   "outputs": [
    {
     "data": {
      "text/plain": [
       "(570, 636)"
      ]
     },
     "execution_count": 90,
     "metadata": {},
     "output_type": "execute_result"
    }
   ],
   "source": [
    "len(res),len(meta)\n",
    "#meta[~meta['sample'].isin(res['sample'])]\n",
    "#res.to_csv('/storage/btbgenie/mbovis_ireland/spoligotypes.csv',index=False)"
   ]
  },
  {
   "cell_type": "markdown",
   "metadata": {},
   "source": [
    "<div class=\"alert alert-block alert-info\"><b>Post analysis starts here</b> </div>"
   ]
  },
  {
   "cell_type": "markdown",
   "metadata": {},
   "source": [
    "## clusters"
   ]
  },
  {
   "cell_type": "code",
   "execution_count": 97,
   "metadata": {},
   "outputs": [
    {
     "name": "stdout",
     "output_type": "stream",
     "text": [
      "TreeCluster.py  -i /storage/btbgenie/all_ireland_results/tree.newick -t 3 -m max_clade\n",
      "TreeCluster.py  -i /storage/btbgenie/all_ireland_results/tree.newick -t 5 -m max_clade\n",
      "TreeCluster.py  -i /storage/btbgenie/all_ireland_results/tree.newick -t 7 -m max_clade\n",
      "TreeCluster.py  -i /storage/btbgenie/all_ireland_results/tree.newick -t 10 -m max_clade\n",
      "TreeCluster.py  -i /storage/btbgenie/all_ireland_results/tree.newick -t 12 -m max_clade\n",
      "TreeCluster.py  -i /storage/btbgenie/all_ireland_results/tree.newick -t 20 -m max_clade\n",
      "TreeCluster.py  -i /storage/btbgenie/all_ireland_results/tree.newick -t 50 -m max_clade\n",
      "TreeCluster.py  -i /storage/btbgenie/all_ireland_results/tree.newick -t 100 -m max_clade\n"
     ]
    }
   ],
   "source": [
    "clusts = trees.get_clusters('/storage/btbgenie/all_ireland_results/tree.newick')"
   ]
  },
  {
   "cell_type": "code",
   "execution_count": 98,
   "metadata": {},
   "outputs": [
    {
     "data": {
      "text/html": [
       "<div>\n",
       "<style scoped>\n",
       "    .dataframe tbody tr th:only-of-type {\n",
       "        vertical-align: middle;\n",
       "    }\n",
       "\n",
       "    .dataframe tbody tr th {\n",
       "        vertical-align: top;\n",
       "    }\n",
       "\n",
       "    .dataframe thead th {\n",
       "        text-align: right;\n",
       "    }\n",
       "</style>\n",
       "<table border=\"1\" class=\"dataframe\">\n",
       "  <thead>\n",
       "    <tr style=\"text-align: right;\">\n",
       "      <th>d</th>\n",
       "      <th>SequenceName</th>\n",
       "      <th>snp10</th>\n",
       "      <th>snp100</th>\n",
       "      <th>snp12</th>\n",
       "      <th>snp20</th>\n",
       "      <th>snp3</th>\n",
       "      <th>snp5</th>\n",
       "      <th>snp50</th>\n",
       "      <th>snp7</th>\n",
       "    </tr>\n",
       "  </thead>\n",
       "  <tbody>\n",
       "    <tr>\n",
       "      <th>0</th>\n",
       "      <td>001</td>\n",
       "      <td>-1</td>\n",
       "      <td>11</td>\n",
       "      <td>-1</td>\n",
       "      <td>-1</td>\n",
       "      <td>-1</td>\n",
       "      <td>-1</td>\n",
       "      <td>13</td>\n",
       "      <td>-1</td>\n",
       "    </tr>\n",
       "    <tr>\n",
       "      <th>1</th>\n",
       "      <td>002</td>\n",
       "      <td>23</td>\n",
       "      <td>11</td>\n",
       "      <td>26</td>\n",
       "      <td>23</td>\n",
       "      <td>-1</td>\n",
       "      <td>25</td>\n",
       "      <td>13</td>\n",
       "      <td>30</td>\n",
       "    </tr>\n",
       "    <tr>\n",
       "      <th>2</th>\n",
       "      <td>003</td>\n",
       "      <td>55</td>\n",
       "      <td>11</td>\n",
       "      <td>59</td>\n",
       "      <td>66</td>\n",
       "      <td>-1</td>\n",
       "      <td>56</td>\n",
       "      <td>13</td>\n",
       "      <td>64</td>\n",
       "    </tr>\n",
       "    <tr>\n",
       "      <th>3</th>\n",
       "      <td>004</td>\n",
       "      <td>12</td>\n",
       "      <td>11</td>\n",
       "      <td>15</td>\n",
       "      <td>18</td>\n",
       "      <td>-1</td>\n",
       "      <td>9</td>\n",
       "      <td>13</td>\n",
       "      <td>11</td>\n",
       "    </tr>\n",
       "    <tr>\n",
       "      <th>4</th>\n",
       "      <td>005</td>\n",
       "      <td>23</td>\n",
       "      <td>11</td>\n",
       "      <td>26</td>\n",
       "      <td>23</td>\n",
       "      <td>-1</td>\n",
       "      <td>25</td>\n",
       "      <td>13</td>\n",
       "      <td>30</td>\n",
       "    </tr>\n",
       "    <tr>\n",
       "      <th>...</th>\n",
       "      <td>...</td>\n",
       "      <td>...</td>\n",
       "      <td>...</td>\n",
       "      <td>...</td>\n",
       "      <td>...</td>\n",
       "      <td>...</td>\n",
       "      <td>...</td>\n",
       "      <td>...</td>\n",
       "      <td>...</td>\n",
       "    </tr>\n",
       "    <tr>\n",
       "      <th>566</th>\n",
       "      <td>TB21-000176.bam</td>\n",
       "      <td>-1</td>\n",
       "      <td>20</td>\n",
       "      <td>-1</td>\n",
       "      <td>-1</td>\n",
       "      <td>-1</td>\n",
       "      <td>-1</td>\n",
       "      <td>32</td>\n",
       "      <td>-1</td>\n",
       "    </tr>\n",
       "    <tr>\n",
       "      <th>567</th>\n",
       "      <td>TB21-000221.bam</td>\n",
       "      <td>40</td>\n",
       "      <td>18</td>\n",
       "      <td>44</td>\n",
       "      <td>43</td>\n",
       "      <td>-1</td>\n",
       "      <td>-1</td>\n",
       "      <td>31</td>\n",
       "      <td>-1</td>\n",
       "    </tr>\n",
       "    <tr>\n",
       "      <th>568</th>\n",
       "      <td>TB21-000285.bam</td>\n",
       "      <td>10</td>\n",
       "      <td>2</td>\n",
       "      <td>12</td>\n",
       "      <td>15</td>\n",
       "      <td>-1</td>\n",
       "      <td>-1</td>\n",
       "      <td>2</td>\n",
       "      <td>12</td>\n",
       "    </tr>\n",
       "    <tr>\n",
       "      <th>569</th>\n",
       "      <td>TB21-000449.bam</td>\n",
       "      <td>-1</td>\n",
       "      <td>-1</td>\n",
       "      <td>-1</td>\n",
       "      <td>-1</td>\n",
       "      <td>-1</td>\n",
       "      <td>-1</td>\n",
       "      <td>-1</td>\n",
       "      <td>-1</td>\n",
       "    </tr>\n",
       "    <tr>\n",
       "      <th>570</th>\n",
       "      <td>ref</td>\n",
       "      <td>-1</td>\n",
       "      <td>4</td>\n",
       "      <td>-1</td>\n",
       "      <td>-1</td>\n",
       "      <td>-1</td>\n",
       "      <td>-1</td>\n",
       "      <td>-1</td>\n",
       "      <td>-1</td>\n",
       "    </tr>\n",
       "  </tbody>\n",
       "</table>\n",
       "<p>571 rows × 9 columns</p>\n",
       "</div>"
      ],
      "text/plain": [
       "d       SequenceName  snp10  snp100  snp12  snp20  snp3  snp5  snp50  snp7\n",
       "0                001     -1      11     -1     -1    -1    -1     13    -1\n",
       "1                002     23      11     26     23    -1    25     13    30\n",
       "2                003     55      11     59     66    -1    56     13    64\n",
       "3                004     12      11     15     18    -1     9     13    11\n",
       "4                005     23      11     26     23    -1    25     13    30\n",
       "..               ...    ...     ...    ...    ...   ...   ...    ...   ...\n",
       "566  TB21-000176.bam     -1      20     -1     -1    -1    -1     32    -1\n",
       "567  TB21-000221.bam     40      18     44     43    -1    -1     31    -1\n",
       "568  TB21-000285.bam     10       2     12     15    -1    -1      2    12\n",
       "569  TB21-000449.bam     -1      -1     -1     -1    -1    -1     -1    -1\n",
       "570              ref     -1       4     -1     -1    -1    -1     -1    -1\n",
       "\n",
       "[571 rows x 9 columns]"
      ]
     },
     "execution_count": 98,
     "metadata": {},
     "output_type": "execute_result"
    }
   ],
   "source": [
    "clusts"
   ]
  },
  {
   "cell_type": "code",
   "execution_count": 91,
   "metadata": {},
   "outputs": [
    {
     "data": {
      "text/plain": [
       "Monaghan    192\n",
       "Clare       157\n",
       "NI           86\n",
       "Wicklow      50\n",
       "Cork         26\n",
       "Meath        16\n",
       "Cavan        13\n",
       "Name: county, dtype: int64"
      ]
     },
     "execution_count": 91,
     "metadata": {},
     "output_type": "execute_result"
    }
   ],
   "source": [
    "common = meta.county.value_counts()[:7]\n",
    "def cty_comm(x):\n",
    "    if x in common:\n",
    "        return x\n",
    "    else:\n",
    "        return 'Other'\n",
    "meta['county1'] = meta.county.apply(cty_comm)\n",
    "meta['county2'] = meta.county.apply(lambda x : x if x in ['Monaghan','Clare'] else 'Other')\n",
    "common"
   ]
  },
  {
   "cell_type": "code",
   "execution_count": 92,
   "metadata": {},
   "outputs": [],
   "source": [
    "spo = pd.read_csv('/storage/btbgenie/all_ireland_results/spoligotypes.csv')"
   ]
  },
  {
   "cell_type": "code",
   "execution_count": null,
   "metadata": {},
   "outputs": [],
   "source": [
    "final = meta.merge(spo,on='sample',how='left')\n",
    "final = final.drop('code',1)\n",
    "final = final.merge(clusts,left_on='sample',right_on='SequenceName')\n",
    "len(final)\n",
    "final"
   ]
  },
  {
   "cell_type": "code",
   "execution_count": 23,
   "metadata": {},
   "outputs": [],
   "source": [
    "common = final.SB.value_counts()[:6]\n",
    "def sb_comm(x):\n",
    "    if x in common:\n",
    "        return x\n",
    "    else:\n",
    "        return 'Other'\n",
    "final['SB1'] = final.SB.apply(sb_comm)   "
   ]
  },
  {
   "cell_type": "markdown",
   "metadata": {},
   "source": [
    "## assign clade names - replace with lineage calling?"
   ]
  },
  {
   "cell_type": "code",
   "execution_count": 11,
   "metadata": {},
   "outputs": [],
   "source": [
    "import string\n",
    "labels=list(string.ascii_uppercase)\n",
    "clmap={}\n",
    "found=[]\n",
    "i=0\n",
    "for c,g in final.groupby('ClusterNumber'):    \n",
    "    if len(g)==0: continue    \n",
    "    cts = g.county.value_counts()\n",
    "    top = cts[0]\n",
    "    if top>10:         \n",
    "        clmap[c]=labels[i]\n",
    "        i+=1\n",
    "    else:\n",
    "        clmap[c]='Other'\n"
   ]
  },
  {
   "cell_type": "code",
   "execution_count": 12,
   "metadata": {},
   "outputs": [],
   "source": [
    "#final['clade'] = final.ClusterNumber.map(clmap)"
   ]
  },
  {
   "cell_type": "code",
   "execution_count": 24,
   "metadata": {},
   "outputs": [],
   "source": [
    "final.to_csv('/storage/btbgenie/mbovis_ireland/ireland_metadata.csv',index=False)"
   ]
  },
  {
   "cell_type": "markdown",
   "metadata": {},
   "source": [
    "## RD analysis"
   ]
  },
  {
   "cell_type": "code",
   "execution_count": null,
   "metadata": {},
   "outputs": [],
   "source": [
    "reload(aligners)\n",
    "from snipgenie import rdiff\n",
    "rdiff.create_rd_index()\n",
    "samples = pd.read_csv('/storage/btbgenie/all_ireland_results/samples.csv')\n",
    "res = rdiff.run_samples(samples,'/storage/btbgenie/all_ireland_results/rd_aligned',threads=20)\n",
    "X = rdiff.get_matrix(res, cutoff=0.15)\n",
    "X['ident'] = X.apply(rdiff.apply_rules,1)\n",
    "X.to_csv('/storage/btbgenie/mbovis_ireland/rd.csv')"
   ]
  },
  {
   "cell_type": "markdown",
   "metadata": {},
   "source": [
    "## draw all ireland tree"
   ]
  },
  {
   "cell_type": "code",
   "execution_count": null,
   "metadata": {},
   "outputs": [],
   "source": [
    "treefile = '/storage/btbgenie/all_ireland_results/tree.newick'\n",
    "tre = toytree.tree(treefile)\n",
    "canvas,t,r=tre.draw(height=1000,width=1000)"
   ]
  },
  {
   "cell_type": "code",
   "execution_count": null,
   "metadata": {},
   "outputs": [],
   "source": [
    "reload(trees)\n",
    "#tre = tre.root('TB20-002800')\n",
    "#tre = tre.drop_tips('8567')\n",
    "tipnames = tre.get_tip_labels()\n",
    "mapping = dict(zip(final['sample'],final.clade))\n",
    "#mapping['ref'] = 'AF2122/97'\n",
    "tiplabels = [mapping[i] if i in mapping else 'NA' for i in tipnames]\n",
    "\n",
    "colormap = trees.colors_from_labels(final,'name','clade')\n",
    "print (colormap)\n",
    "tip_colors = [colormap[mapping[i]] if i in mapping else 'Black' for i in tipnames]\n",
    "tip_labels_style={      \n",
    "        \"font-size\": \"6px\",\n",
    "        \"-toyplot-anchor-shift\": \"13px\",\n",
    "    }\n",
    "node_sizes=[0 if i else 5 for i in tre.get_node_values(None, 1, 0)]\n",
    "node_colors = [colormap[mapping[n]] if n in mapping else 'black' for n in tre.get_node_values('name', True, True)]\n",
    "\n",
    "canvas,t,r=tre.draw(layout='r',width=1200,height=1300,node_markers=\"o\",node_hover=True, node_sizes=node_sizes,\n",
    "                    tip_labels=False,tip_labels_style=tip_labels_style,node_colors=node_colors,\n",
    "                    tip_labels_colors=tip_colors,scalebar=True,edge_widths=1);\n",
    "#toyplot.pdf.render(canvas,'/storage/btbgenie/all_ireland_results/ireland_tree.pdf')"
   ]
  },
  {
   "cell_type": "markdown",
   "metadata": {},
   "source": [
    "## SNP analysis\n",
    "\n",
    "* snps unique to each clade/county\n",
    "* protein groups containing common snps"
   ]
  },
  {
   "cell_type": "code",
   "execution_count": 27,
   "metadata": {},
   "outputs": [],
   "source": [
    "csq = app.read_csq_file('/storage/btbgenie/all_ireland_results/csq.tsv')\n",
    "snp_mat = app.get_aa_snp_matrix(csq)\n",
    "#csq_ind = app.read_csq_file('/storage/btbgenie/all_ireland_results/csq_indels.tsv')\n",
    "#ind_mat = app.get_aa_snp_matrix(csq_ind)"
   ]
  },
  {
   "cell_type": "code",
   "execution_count": 28,
   "metadata": {},
   "outputs": [],
   "source": [
    "mat = snp_mat\n",
    "\n",
    "#labelmap = dict(zip(meta['name'],meta.county))\n",
    "#mat = mat.rename(columns=labelmap)\n",
    "#freqs = mat.sum(1)/len(mat.columns)\n",
    "#freqs =freqs.rename('freq') \n",
    "#freqs.sort_values()\n",
    "#freqs.hist(bins=20)"
   ]
  },
  {
   "cell_type": "code",
   "execution_count": 37,
   "metadata": {},
   "outputs": [],
   "source": [
    "#mat.index = mat.index.get_level_values(1)+'_'+mat.index.get_level_values(2)\n",
    "stat = mat.sum(1).reset_index()\n",
    "#stat.gene.value_counts()[:30]"
   ]
  },
  {
   "cell_type": "code",
   "execution_count": null,
   "metadata": {},
   "outputs": [],
   "source": [
    "cols=['sample','county','SB','ClusterNumber','clade']\n",
    "C=mat.T\n",
    "C=C.merge(meta[cols],left_index=True,right_on='sample').set_index(cols).T\n",
    "#print (C)\n",
    "C=C[C.sum(1)>3].T\n",
    "C.iloc[:4,:2]\n",
    "C.to_csv('csq_snps_ireland.csv')"
   ]
  },
  {
   "cell_type": "code",
   "execution_count": 257,
   "metadata": {},
   "outputs": [],
   "source": [
    "counties = list(C.index.get_level_values(1))\n",
    "sb = list(C.index.get_level_values(2))\n",
    "clust = C.index.get_level_values(3)\n",
    "clades = C.index.get_level_values(4)"
   ]
  },
  {
   "cell_type": "code",
   "execution_count": null,
   "metadata": {},
   "outputs": [],
   "source": [
    "colormap1 = dict(zip(clades.unique(), trees.qcolors))\n",
    "#colormap1 = {'Wicklow-1': 'green', 'Monaghan-3': 'red', np.nan: 'gray', \n",
    "#             'Monaghan-1': 'brown', 'Monaghan-2': 'burlywood', 'Unknown': 'lightblue', 'NI-1': 'blue'}\n",
    "colors1 = [colormap1[i] if i in colormap1 else 'Black' for i in clades]\n",
    "#make legend\n",
    "import matplotlib.patches as mpatches\n",
    "pts=[]\n",
    "for c in colormap1:\n",
    "    pts.append(mpatches.Patch(color=colormap1[c],label=c))\n",
    "g=sns.clustermap(C,xticklabels=False,yticklabels=False,figsize=(17,12),cmap='gray_r',cbar_pos=None,row_colors=colors1)\n",
    "g.fig.legend(handles=pts,bbox_to_anchor=(1.05, 1), )\n",
    "g.savefig('/storage/btbgenie/all_ireland_results/snp_clusters.jpg')"
   ]
  },
  {
   "cell_type": "markdown",
   "metadata": {},
   "source": [
    "## PCA"
   ]
  },
  {
   "cell_type": "code",
   "execution_count": null,
   "metadata": {},
   "outputs": [],
   "source": [
    "import sklearn\n",
    "from sklearn import decomposition\n",
    "from sklearn import manifold\n",
    "\n",
    "pca = decomposition.PCA(n_components=3)\n",
    "mds = manifold.MDS(n_components=3)\n",
    "pos = mds.fit(C).embedding_\n",
    "X = pca.fit_transform(pos)\n",
    "#X = pca.transform(C)\n",
    "df=pd.DataFrame(X)\n",
    "df['sb']=sb\n",
    "df.to_csv('/storage/btbgenie/all_ireland_results/pca_snp.csv')\n",
    "\n",
    "fig,ax = plt.subplots(figsize=(7, 7))\n",
    "sc=ax.scatter(X[:, 0], X[:, 1], c=colors1, s=100, alpha=.6)    \n",
    "ax.legend(handles=pts,loc='best')\n",
    "fig.savefig('/storage/btbgenie/all_ireland_results/pca_snp_clusters.jpg',dpi=150)"
   ]
  },
  {
   "cell_type": "markdown",
   "metadata": {},
   "source": [
    "## compare cvrl wgmlst tree"
   ]
  },
  {
   "cell_type": "code",
   "execution_count": null,
   "metadata": {},
   "outputs": [],
   "source": [
    "cvrltre = toytree.tree('declan.newick')\n",
    "cvrltre.draw(layout='c',width=800,height=1000,\n",
    "                node_markers=\"o\",node_hover=True, #node_sizes=node_sizes,\n",
    "                tip_labels=False,tip_labels_style=tip_labels_style,#node_colors=node_colors,\n",
    "                scalebar=True,edge_widths=1)"
   ]
  },
  {
   "cell_type": "code",
   "execution_count": null,
   "metadata": {},
   "outputs": [],
   "source": []
  }
 ],
 "metadata": {
  "kernelspec": {
   "display_name": "Python 3",
   "language": "python",
   "name": "python3"
  },
  "language_info": {
   "codemirror_mode": {
    "name": "ipython",
    "version": 3
   },
   "file_extension": ".py",
   "mimetype": "text/x-python",
   "name": "python",
   "nbconvert_exporter": "python",
   "pygments_lexer": "ipython3",
   "version": "3.9.5"
  }
 },
 "nbformat": 4,
 "nbformat_minor": 4
}
