{
 "cells": [
  {
   "cell_type": "markdown",
   "metadata": {},
   "source": [
    "# All Ireland M.bovis strain diversity and clade identification"
   ]
  },
  {
   "cell_type": "code",
   "execution_count": null,
   "metadata": {
    "tags": []
   },
   "outputs": [],
   "source": [
    "import sys,os,io,shutil,subprocess\n",
    "import glob\n",
    "from importlib import reload\n",
    "import numpy as np\n",
    "import pandas as pd\n",
    "pd.set_option('display.width', 200)\n",
    "import pylab as plt\n",
    "import matplotlib as mpl\n",
    "from Bio import SeqIO\n",
    "import seaborn as sns\n",
    "sys.path.append('pathogenie')\n",
    "from snipgenie import tools, aligners, app, trees, plotting, rdiff, clustering\n",
    "import toytree, toyplot\n",
    "#import toyplot.pdf\n",
    "path = '/storage/btbgenie/all_ireland_results'"
   ]
  },
  {
   "cell_type": "markdown",
   "metadata": {},
   "source": [
    "## get meta data"
   ]
  },
  {
   "cell_type": "code",
   "execution_count": 66,
   "metadata": {
    "tags": []
   },
   "outputs": [
    {
     "name": "stdout",
     "output_type": "stream",
     "text": [
      "3443\n"
     ]
    }
   ],
   "source": [
    "meta = pd.read_csv('/storage/btbgenie/mbovis_ireland/all_ireland_samples.csv')\n",
    "#meta = pd.read_csv('/storage/btbgenie/monaghan/metadata/isolates_master.csv')\n",
    "print (len(meta))"
   ]
  },
  {
   "cell_type": "code",
   "execution_count": 3,
   "metadata": {},
   "outputs": [],
   "source": [
    "dups=meta[meta.duplicated('Aliquot')].dropna()\n",
    "#print (dups)\n",
    "for i,r in dups.iterrows():\n",
    "    print (meta[meta.aliquot== r.aliquot])\n",
    "#meta[(meta.batch.isin([2,3,4])) & (~meta.aliquot.isin(dups.aliquot)) & (meta.county=='Monaghan')]"
   ]
  },
  {
   "cell_type": "markdown",
   "metadata": {},
   "source": [
    "## run AFBI non border"
   ]
  },
  {
   "cell_type": "code",
   "execution_count": null,
   "metadata": {},
   "outputs": [],
   "source": [
    "reload(app)\n",
    "args = {'threads':12, 'outdir': '/storage/btbgenie/AFBI_results', 'labelsep':'_',\n",
    "        'input':['/storage/btbgenie/mbovis_ireland/AFBI_misc/'],\n",
    "         'species': 'Mbovis-AF212297',\n",
    "         'overwrite':False,\n",
    "         'custom_filters': True,\n",
    "         'buildtree':True}\n",
    "W = app.WorkFlow(**args)\n",
    "st = W.setup()\n",
    "W.run()"
   ]
  },
  {
   "cell_type": "markdown",
   "metadata": {},
   "source": [
    "## run NI"
   ]
  },
  {
   "cell_type": "code",
   "execution_count": null,
   "metadata": {},
   "outputs": [],
   "source": [
    "reload(app)\n",
    "args = {'threads':16, 'outdir': '/storage/btbgenie/NI_results', 'labelsep':'_',\n",
    "        'input':['/storage/btbgenie/mbovis_ireland/NI/'],\n",
    "         'species': 'Mbovis-AF212297',\n",
    "         'overwrite':False,\n",
    "         'custom_filters': True,\n",
    "         'buildtree':True}\n",
    "W = app.WorkFlow(**args)\n",
    "st = W.setup()\n",
    "W.run()"
   ]
  },
  {
   "cell_type": "markdown",
   "metadata": {},
   "source": [
    "## misc samples (Ireland non-Monaghan)"
   ]
  },
  {
   "cell_type": "code",
   "execution_count": null,
   "metadata": {},
   "outputs": [],
   "source": [
    "reload(app)\n",
    "args = {'threads':12, 'outdir': '/storage/btbgenie/misc_results', 'labelsep':'_',\n",
    "        'input':['/storage/btbgenie/mbovis_ireland/Misc'],\n",
    "         'species': 'Mbovis-AF212297',\n",
    "         'overwrite':False,\n",
    "         'custom_filters': True,\n",
    "         'get_stats':False,\n",
    "         'buildtree':True}\n",
    "W = app.WorkFlow(**args)\n",
    "st = W.setup()\n",
    "W.run()"
   ]
  },
  {
   "cell_type": "code",
   "execution_count": null,
   "metadata": {},
   "outputs": [],
   "source": [
    "#samples=pd.read_csv('/storage/btbgenie/misc_results/samples.csv')\n",
    "#app.clean_bam_files(samples, '/storage/btbgenie/misc_results/mapped/', remove=True)"
   ]
  },
  {
   "cell_type": "code",
   "execution_count": null,
   "metadata": {},
   "outputs": [],
   "source": [
    "reload(app)\n",
    "mask='/home/farrell/gitprojects/snipgenie/snipgenie/data/Mbovis_AF212297_mask.bed'\n",
    "vcf_file='/storage/btbgenie/misc_results/snps.vcf.gz'\n",
    "app.mask_filter(vcf_file, mask)"
   ]
  },
  {
   "cell_type": "code",
   "execution_count": 244,
   "metadata": {},
   "outputs": [
    {
     "name": "stdout",
     "output_type": "stream",
     "text": [
      "         sample                           name                                           bam_file  read_length\n",
      "25  TB19-004280  TB19-004280_S68_L001-4_R2_001  /storage/btbgenie/misc_results/mapped/TB19-004...          149\n",
      "48  TB19-005887  TB19-005887_S29_L001-4_R2_001  /storage/btbgenie/misc_results/mapped/TB19-005...          150\n",
      "65 2 61\n"
     ]
    }
   ],
   "source": [
    "present=pd.read_csv('/storage/btbgenie/misc_results/summary.csv')\n",
    "present['sample']=present['sample'].astype(str)\n",
    "#print (present[:10])\n",
    "l=list(W.fastq_table['sample'].unique())\n",
    "\n",
    "s=meta[meta.batch>=3].sort_values(by='sample')\n",
    "#s['label'] = s['sample'].apply(lambda x : x.split('-')[1][-4:]).astype(str)\n",
    "#s=s.sort_values('label')\n",
    "\n",
    "p = present[~present['sample'].isin(s['sample'])]\n",
    "#p = (s[s['label'].isin(l)])\n",
    "print (p)\n",
    "print (len(s),len(p), len(present))"
   ]
  },
  {
   "cell_type": "markdown",
   "metadata": {},
   "source": [
    "## integrate previously aligned bam files together and call variants\n",
    "\n",
    "This allows us to join previously mapped results together in one call without re-aligning"
   ]
  },
  {
   "cell_type": "code",
   "execution_count": 4,
   "metadata": {
    "tags": []
   },
   "outputs": [
    {
     "name": "stdout",
     "output_type": "stream",
     "text": [
      "wicklow 48\n",
      "misc 273\n",
      "monaghan 727\n",
      "NI 208\n",
      "UK 179\n",
      "1435\n"
     ]
    }
   ],
   "source": [
    "outdir='/storage/btbgenie/all_ireland_results'\n",
    "\n",
    "folders = {'wicklow':'/storage/btbgenie/wicklow_results',        \n",
    "          'misc':'/storage/btbgenie/misc_results',\n",
    "          'monaghan':'/storage/btbgenie/monaghan/monaghan_results',\n",
    "          'NI':'/storage/btbgenie/AFBI_results/',\n",
    "          'UK':'/storage/btbgenie/UK_results'\n",
    "          }\n",
    "\n",
    "x=[]\n",
    "for f in folders:    \n",
    "    file = os.path.join(folders[f],'samples.csv')   \n",
    "    df=pd.read_csv(file)\n",
    "    df['group'] = f\n",
    "    x.append(df)\n",
    "    print (f, len(df))\n",
    "samples = pd.concat(x)\n",
    "print (len(samples))\n",
    "samples.to_csv('/storage/btbgenie/all_ireland_results/samples.csv',index=False)\n",
    "app.write_samples(samples[['sample']], outdir)\n",
    "bam_files = list(samples.bam_file)"
   ]
  },
  {
   "cell_type": "code",
   "execution_count": null,
   "metadata": {},
   "outputs": [],
   "source": [
    "s=list(samples[samples.duplicated('sample')]['sample'])\n",
    "#samples[samples['sample'].isin(s)]\n",
    "s"
   ]
  },
  {
   "cell_type": "markdown",
   "metadata": {},
   "source": [
    "## run previously aligned files"
   ]
  },
  {
   "cell_type": "code",
   "execution_count": null,
   "metadata": {
    "tags": []
   },
   "outputs": [],
   "source": [
    "reload(app)\n",
    "gff_file=os.path.join(outdir,'mbovis.gff')\n",
    "tools.gff_bcftools_format(app.mbovis_gb, gff_file)\n",
    "app.run_bamfiles(bam_files, app.mbovis_genome, outdir='/storage/btbgenie/all_ireland_results', threads=12,                \n",
    "                 mask=app.mbovis_mask, gff_file=gff_file,\n",
    "                 custom_filters=True)"
   ]
  },
  {
   "cell_type": "code",
   "execution_count": null,
   "metadata": {
    "tags": []
   },
   "outputs": [],
   "source": [
    "from Bio import Align, pairwise2\n",
    "import numpy as np\n",
    "\n",
    "def distance_matrix(aln):\n",
    "    \"\"\"\n",
    "    Compute the number of Single Nucleotide Polymorphisms (SNPs) between sequences in a Biopython alignment.\n",
    "    \"\"\"\n",
    "    \n",
    "    names=[s.id for s in aln]\n",
    "    num_sequences = len(aln)\n",
    "    matrix = np.zeros((num_sequences, num_sequences))\n",
    "\n",
    "    for i in range(num_sequences):\n",
    "        for j in range(i + 1, num_sequences):\n",
    "            seq1 = str(aln[i].seq)\n",
    "            seq2 = str(aln[j].seq)\n",
    "            # Calculate the number of SNPs\n",
    "            snp_count = sum(c1 != c2 for c1, c2 in zip(seq1, seq2))\n",
    "            matrix[i, j] = snp_count\n",
    "            matrix[j, i] = snp_count\n",
    "            \n",
    "    m = pd.DataFrame(matrix,index=names,columns=names).astype(int)\n",
    "    return m\n",
    "\n",
    "from Bio import AlignIO\n",
    "aln = AlignIO.read('/storage/btbgenie/all_ireland_results/core.fa', 'fasta')\n",
    "import time \n",
    "times=[]\n",
    "x=[10,100,200,300,500,1000]\n",
    "for n in x:\n",
    "    st=time.time()\n",
    "    a=aln[:n,:]\n",
    "    d=distance_matrix(a)\n",
    "    #d=tools.snp_dist_matrix(a)\n",
    "    tt=time.time()-st\n",
    "    print(tt)\n",
    "    times.append(tt)\n",
    "plt.plot(x,times)"
   ]
  },
  {
   "cell_type": "code",
   "execution_count": 56,
   "metadata": {
    "tags": []
   },
   "outputs": [],
   "source": [
    "a=aln[:20,:]\n",
    "d=distance_matrix(a)\n",
    "d2=tools.snp_dist_matrix(a)"
   ]
  },
  {
   "cell_type": "markdown",
   "metadata": {},
   "source": [
    "## spoligotypes of all samples"
   ]
  },
  {
   "cell_type": "code",
   "execution_count": null,
   "metadata": {
    "tags": []
   },
   "outputs": [],
   "source": [
    "reload(tools)\n",
    "spo = pd.read_csv('/storage/btbgenie/mbovis_ireland/spoligotypes.csv')\n",
    "done=list(spo['sample'])\n",
    "res=[]\n",
    "for i,r in samples.iterrows():\n",
    "    f=r.filename1\n",
    "    samp=r['sample']\n",
    "    if samp in done:\n",
    "        continue\n",
    "    b = tools.get_spoligotype(f)\n",
    "    sb = tools.get_sb_number(b)\n",
    "    print (f,samp,sb, b)\n",
    "    res.append([f,samp,sb,b])\n",
    " \n",
    "res = pd.DataFrame(res,columns=['filename','sample','SB','code'])\n",
    "#append new spotypes to current file\n",
    "res=pd.concat([spo,res])"
   ]
  },
  {
   "cell_type": "code",
   "execution_count": 7,
   "metadata": {
    "tags": []
   },
   "outputs": [
    {
     "data": {
      "text/plain": [
       "(1683, 3100)"
      ]
     },
     "execution_count": 7,
     "metadata": {},
     "output_type": "execute_result"
    }
   ],
   "source": [
    "len(res),len(meta)\n",
    "#meta[~meta['sample'].isin(res['sample'])]\n",
    "#res.to_csv('/storage/btbgenie/mbovis_ireland/spoligotypes.csv',index=False)"
   ]
  },
  {
   "cell_type": "markdown",
   "metadata": {},
   "source": [
    "<div class=\"alert alert-block alert-info\"><b>Post analysis starts here</b> </div>"
   ]
  },
  {
   "cell_type": "markdown",
   "metadata": {},
   "source": [
    "## clusters"
   ]
  },
  {
   "cell_type": "code",
   "execution_count": 63,
   "metadata": {
    "tags": []
   },
   "outputs": [],
   "source": [
    "#clusts = trees.get_clusters('/storage/btbgenie/all_ireland_results/tree.newick')\n",
    "snpdist = pd.read_csv('/storage/btbgenie/all_ireland_results/snpdist.csv',index_col=0)\n",
    "clusts,members = clustering.get_cluster_levels(snpdist)\n",
    "import pickle\n",
    "pickle.dump(members,open('/storage/btbgenie/cluster_members.pkl','wb'))"
   ]
  },
  {
   "cell_type": "code",
   "execution_count": null,
   "metadata": {
    "tags": []
   },
   "outputs": [],
   "source": [
    "cc = clusts.snp200.value_counts()[1:20]\n",
    "cc.plot(kind='bar',figsize=(12,5))\n",
    "print (list(cc.index))"
   ]
  },
  {
   "cell_type": "markdown",
   "metadata": {},
   "source": [
    "## strain names"
   ]
  },
  {
   "cell_type": "code",
   "execution_count": 64,
   "metadata": {
    "tags": []
   },
   "outputs": [],
   "source": [
    "st = clustering.generate_strain_names(clusts,snpdist)"
   ]
  },
  {
   "cell_type": "code",
   "execution_count": 67,
   "metadata": {
    "tags": []
   },
   "outputs": [
    {
     "data": {
      "text/plain": [
       "Monaghan     449\n",
       "UK           352\n",
       "Cork         193\n",
       "Clare        179\n",
       "Meath        132\n",
       "Tipperary    111\n",
       "Armagh       107\n",
       "Wicklow      107\n",
       "Name: County, dtype: int64"
      ]
     },
     "execution_count": 67,
     "metadata": {},
     "output_type": "execute_result"
    }
   ],
   "source": [
    "common = meta.County.value_counts()[:8]\n",
    "def cty_comm(x):\n",
    "    if x in common:\n",
    "        return x\n",
    "    else:\n",
    "        return 'Other'\n",
    "meta['county1'] = meta.County.apply(cty_comm)\n",
    "meta['county2'] = meta.County.apply(lambda x : x if x in ['Monaghan','Clare'] else 'Other')\n",
    "common"
   ]
  },
  {
   "cell_type": "code",
   "execution_count": 68,
   "metadata": {
    "tags": []
   },
   "outputs": [],
   "source": [
    "spo = pd.read_csv('/storage/btbgenie/mbovis_ireland/spoligotypes.csv')"
   ]
  },
  {
   "cell_type": "code",
   "execution_count": null,
   "metadata": {
    "tags": []
   },
   "outputs": [],
   "source": [
    "print (len(samples))\n",
    "samples[~samples['sample'].isin(meta.SeqID)]\n"
   ]
  },
  {
   "cell_type": "code",
   "execution_count": null,
   "metadata": {
    "tags": []
   },
   "outputs": [],
   "source": [
    "final.iloc[0]"
   ]
  },
  {
   "cell_type": "code",
   "execution_count": 69,
   "metadata": {
    "tags": []
   },
   "outputs": [
    {
     "data": {
      "text/plain": [
       "1435"
      ]
     },
     "execution_count": 69,
     "metadata": {},
     "output_type": "execute_result"
    }
   ],
   "source": [
    "#final = meta.merge(samples,left_on='SeqID',right_on='sample',how='left')\n",
    "final = samples.merge(meta,left_on='sample',right_on='SeqID',how='left')\n",
    "final = final.merge(spo[['sample','SB']],on='sample',how='left')\n",
    "final = final.merge(st,left_on='sample',right_index=True)\n",
    "final = final.drop_duplicates('sample')\n",
    "len(final)"
   ]
  },
  {
   "cell_type": "code",
   "execution_count": 77,
   "metadata": {},
   "outputs": [],
   "source": [
    "#final.SB.value_counts()"
   ]
  },
  {
   "cell_type": "code",
   "execution_count": 70,
   "metadata": {
    "tags": []
   },
   "outputs": [],
   "source": [
    "common = final.SB.value_counts()[:8]\n",
    "def sb_comm(x):\n",
    "    if x in common:\n",
    "        return x\n",
    "    else:\n",
    "        return 'Other'\n",
    "final['SB1'] = final.SB.apply(sb_comm)"
   ]
  },
  {
   "cell_type": "code",
   "execution_count": 71,
   "metadata": {
    "tags": []
   },
   "outputs": [],
   "source": [
    "final.to_csv('/storage/btbgenie/all_ireland_results/metadata.csv',index=False)"
   ]
  },
  {
   "cell_type": "code",
   "execution_count": null,
   "metadata": {
    "tags": []
   },
   "outputs": [],
   "source": [
    "reload(trees)\n",
    "scol='snp200'\n",
    "X=final.set_index('SeqID')\n",
    "treefile='/storage/btbgenie/all_ireland_results/tree.newick'\n",
    "trees.draw_tree(treefile,X,scol,width=600,cmap=clustering.snp200_cmap)"
   ]
  },
  {
   "cell_type": "code",
   "execution_count": null,
   "metadata": {
    "tags": []
   },
   "outputs": [],
   "source": [
    "cg = sns.clustermap(X, cmap='Blues', row_colors=X.color,figsize=(6,6))\n",
    "cm=dict(zip(X[scol],X.color))\n",
    "p=plotting.make_legend(cg.fig, cm, loc=(1.1, .6), title='cluster',fontsize=10)"
   ]
  },
  {
   "cell_type": "markdown",
   "metadata": {},
   "source": [
    "## selected samples for IMRL"
   ]
  },
  {
   "cell_type": "code",
   "execution_count": null,
   "metadata": {},
   "outputs": [],
   "source": [
    "#remove redunancy at snp level\n",
    "x = final[final.group=='misc']\n",
    "x['dup'] = x.snp20.replace(-1,np.nan)\n",
    "x= x[(~x.duplicated('dup')) | (x.dup.isnull())]\n",
    "x=x[~x['sample'].isin(['TB20-002600','TB20-001797','TB20-002596'])]\n",
    "x.snp20.value_counts()\n",
    "print (len(x))\n",
    "#print (x)\n",
    "from zipfile import ZipFile\n",
    "zipObj = ZipFile('/storage/btbgenie/imrl_mbovis2.zip', 'w')\n",
    "for i,r in x[20:40].iterrows():\n",
    "    print (r['sample'])\n",
    "    zipObj.write(r.filename1,os.path.basename(r.filename1))\n",
    "    zipObj.write(r.filename2,os.path.basename(r.filename2))    \n",
    "zipObj.close()\n",
    "\n",
    "#print (list(x['sample']))"
   ]
  },
  {
   "cell_type": "markdown",
   "metadata": {},
   "source": [
    "## RD analysis"
   ]
  },
  {
   "cell_type": "code",
   "execution_count": null,
   "metadata": {},
   "outputs": [],
   "source": [
    "reload(rdiff)\n",
    "rdiff.create_rd_index()\n",
    "samples = pd.read_csv('/storage/btbgenie/all_ireland_results/samples.csv')\n",
    "res = rdiff.run_samples(samples,'/storage/btbgenie/all_ireland_results/rd_aligned',threads=12)\n",
    "X = rdiff.get_matrix(res, cutoff=0.15)\n",
    "X['ident'] = X.apply(rdiff.apply_rules,1)\n",
    "#X.to_csv('/storage/btbgenie/mbovis_ireland/rd.csv')"
   ]
  },
  {
   "cell_type": "code",
   "execution_count": null,
   "metadata": {},
   "outputs": [],
   "source": [
    "R=pd.read_csv('/storage/btbgenie/mbovis_ireland/rd.csv',index_col=0)\n",
    "R=R.iloc[:,:-1]\n",
    "#cols=X.columns[(X.sum()<len(X)-1) & (X.sum()>0)]\n",
    "cols = ['RD1','RD1mic','RDWicklow','RD11','RD12bov','RD13','RD149','RD3','RD5','RD5oryx*','RD122','RDAf2']\n",
    "R = R[cols]\n",
    "#fig,ax=plt.subplots(1,1,figsize=(10,10))\n",
    "sns.clustermap(R,cmap='gray_r',figsize=(10,10))"
   ]
  },
  {
   "cell_type": "code",
   "execution_count": null,
   "metadata": {
    "scrolled": true,
    "tags": []
   },
   "outputs": [],
   "source": [
    "reload(rdiff)\n",
    "samples = pd.read_csv('/storage/btbgenie/all_ireland_results/samples.csv')\n",
    "sub=samples.sample(20,random_state=2)\n",
    "regions = rdiff.get_deletions(sub, app.mbovis_genome, app.mbovis_gb, mask_file=app.mbovis_mask,\n",
    "                              label='sample', min_coverage=0, n_cores=12)\n",
    "regions.to_csv('deletion_regions.csv',index=False)"
   ]
  },
  {
   "cell_type": "code",
   "execution_count": 4,
   "metadata": {},
   "outputs": [
    {
     "data": {
      "text/plain": [
       "<seaborn.matrix.ClusterGrid at 0x7f3211aa9330>"
      ]
     },
     "execution_count": 4,
     "metadata": {},
     "output_type": "execute_result"
    },
    {
     "data": {
      "image/png": "[encoded data removed]",
      "text/plain": [
       "<Figure size 1008x720 with 4 Axes>"
      ]
     },
     "metadata": {
      "needs_background": "light"
     },
     "output_type": "display_data"
    }
   ],
   "source": [
    "regions = pd.read_csv('deletion_regions.csv')\n",
    "res=regions[regions.length>10]\n",
    "X=pd.pivot_table(res,index=['group','genes'],columns='name',values='length').fillna(0)\n",
    "X=X.clip(0,1)\n",
    "X\n",
    "sns.clustermap(X,cmap='Blues',row_cluster=False,yticklabels=True,lw=1,linecolor='.8',figsize=(14,10))"
   ]
  },
  {
   "cell_type": "code",
   "execution_count": null,
   "metadata": {},
   "outputs": [],
   "source": [
    "reload(rdiff)\n",
    "s=3339263;e=s+1000\n",
    "rdiff.show_coverage(sub, 'LT708304.1',s,e,app.mbovis_genome,app.mbovis_gb,margin=1300)"
   ]
  },
  {
   "cell_type": "markdown",
   "metadata": {},
   "source": [
    "## SNP analysis\n",
    "\n",
    "* snps unique to each clade/county\n",
    "* protein groups containing common snps"
   ]
  },
  {
   "cell_type": "code",
   "execution_count": 16,
   "metadata": {},
   "outputs": [],
   "source": [
    "final = pd.read_csv('/storage/btbgenie/all_ireland_results/metadata.csv')\n",
    "csq = app.read_csq_file('/storage/btbgenie/all_ireland_results/csq.tsv')\n",
    "aamat = app.get_aa_snp_matrix(csq)\n",
    "#csqind = app.read_csq_file('/storage/btbgenie/all_ireland_results/csq_indels.tsv')\n",
    "#indmat = app.get_aa_snp_matrix(csq_ind)"
   ]
  },
  {
   "cell_type": "markdown",
   "metadata": {},
   "source": [
    "## snps unique to a clade"
   ]
  },
  {
   "cell_type": "code",
   "execution_count": 17,
   "metadata": {},
   "outputs": [
    {
     "data": {
      "text/html": [
       "<div>\n",
       "<style scoped>\n",
       "    .dataframe tbody tr th:only-of-type {\n",
       "        vertical-align: middle;\n",
       "    }\n",
       "\n",
       "    .dataframe tbody tr th {\n",
       "        vertical-align: top;\n",
       "    }\n",
       "\n",
       "    .dataframe thead th {\n",
       "        text-align: right;\n",
       "    }\n",
       "</style>\n",
       "<table border=\"1\" class=\"dataframe\">\n",
       "  <thead>\n",
       "    <tr style=\"text-align: right;\">\n",
       "      <th></th>\n",
       "      <th></th>\n",
       "      <th></th>\n",
       "      <th>sample</th>\n",
       "      <th>cat-003488</th>\n",
       "    </tr>\n",
       "    <tr>\n",
       "      <th>start</th>\n",
       "      <th>gene</th>\n",
       "      <th>aa</th>\n",
       "      <th>snp_type</th>\n",
       "      <th></th>\n",
       "    </tr>\n",
       "  </thead>\n",
       "  <tbody>\n",
       "    <tr>\n",
       "      <th>1461929</th>\n",
       "      <th>rfe</th>\n",
       "      <th>393R&gt;393C</th>\n",
       "      <th>missense</th>\n",
       "      <td>1</td>\n",
       "    </tr>\n",
       "    <tr>\n",
       "      <th>2753251</th>\n",
       "      <th>gdh</th>\n",
       "      <th>528A&gt;528G</th>\n",
       "      <th>missense</th>\n",
       "      <td>1</td>\n",
       "    </tr>\n",
       "    <tr>\n",
       "      <th>2967659</th>\n",
       "      <th>BQ2027_MB2708c</th>\n",
       "      <th>151H&gt;151R</th>\n",
       "      <th>missense</th>\n",
       "      <td>1</td>\n",
       "    </tr>\n",
       "    <tr>\n",
       "      <th>3057726</th>\n",
       "      <th>BQ2027_MB2810</th>\n",
       "      <th>552V&gt;552E</th>\n",
       "      <th>missense</th>\n",
       "      <td>1</td>\n",
       "    </tr>\n",
       "    <tr>\n",
       "      <th>3355243</th>\n",
       "      <th>BQ2027_MB3060c</th>\n",
       "      <th>217S</th>\n",
       "      <th>synonymous</th>\n",
       "      <td>1</td>\n",
       "    </tr>\n",
       "  </tbody>\n",
       "</table>\n",
       "</div>"
      ],
      "text/plain": [
       "sample                                       cat-003488\n",
       "start   gene           aa        snp_type              \n",
       "1461929 rfe            393R>393C missense             1\n",
       "2753251 gdh            528A>528G missense             1\n",
       "2967659 BQ2027_MB2708c 151H>151R missense             1\n",
       "3057726 BQ2027_MB2810  552V>552E missense             1\n",
       "3355243 BQ2027_MB3060c 217S      synonymous           1"
      ]
     },
     "execution_count": 17,
     "metadata": {},
     "output_type": "execute_result"
    }
   ],
   "source": [
    "reload(tools)\n",
    "name='cat-003488'\n",
    "tools.get_unique_snps(name, aamat)"
   ]
  },
  {
   "cell_type": "code",
   "execution_count": 75,
   "metadata": {},
   "outputs": [],
   "source": [
    "names = final[final.snp100==8]['sample']\n",
    "u = tools.get_unique_snps(names, snpmat)\n",
    "u = u.sum(1).reset_index().sort_values(0,ascending=False)\n",
    "u.to_csv('wicklow_unique_snps.csv',index=False)"
   ]
  },
  {
   "cell_type": "markdown",
   "metadata": {
    "tags": []
   },
   "source": [
    "## plot clustermap of SNPs"
   ]
  },
  {
   "cell_type": "code",
   "execution_count": null,
   "metadata": {},
   "outputs": [],
   "source": [
    "X=snpmat.sample(20)\n",
    "#X=C.loc[:,['Wicklow','Monaghan'],:]\n",
    "colors1,colormap1=plotting.get_color_mapping(X.reset_index(),'snp100')\n",
    "colors2,colormap2=plotting.get_color_mapping(X.reset_index(),'county1',cmap='Set1')\n",
    "cg = sns.clustermap(X,xticklabels=False,yticklabels=False,cmap='gray_r',cbar_pos=None,row_colors=[colors1,colors2],figsize=(17,10))\n",
    "\n",
    "def make_legend(fig,colormap,loc=(1.08, 1),title=''):\n",
    "    import matplotlib.patches as mpatches\n",
    "    pts=[]\n",
    "    for c in colormap:\n",
    "        pts.append(mpatches.Patch(color=colormap[c],label=c))\n",
    "    fig.legend(handles=pts,bbox_to_anchor=loc,fontsize=14,title=title)\n",
    "    return pts\n",
    "p=make_legend(cg.fig,colormap1,(1.08, .7),'snp100')\n",
    "p=make_legend(cg.fig,colormap2,title='county')\n",
    "#g.savefig('/storage/btbgenie/all_ireland_results/snp_clusters.jpg')"
   ]
  },
  {
   "cell_type": "markdown",
   "metadata": {},
   "source": [
    "## PCA"
   ]
  },
  {
   "cell_type": "code",
   "execution_count": null,
   "metadata": {},
   "outputs": [],
   "source": [
    "import sklearn\n",
    "from sklearn import decomposition\n",
    "from sklearn import manifold\n",
    "\n",
    "pca = decomposition.PCA(n_components=3)\n",
    "mds = manifold.MDS(n_components=3)\n",
    "pos = mds.fit(snpmat).embedding_\n",
    "X = pca.fit_transform(pos)\n",
    "#X = pca.transform(C)\n",
    "df=pd.DataFrame(X)\n",
    "#df['sb']=sb\n",
    "#df.to_csv('/storage/btbgenie/all_ireland_results/pca_snp.csv')\n",
    "\n",
    "fig,ax = plt.subplots(figsize=(10, 10))\n",
    "sc=ax.scatter(X[:, 0], X[:, 1], c=colors1, s=100, alpha=.6)    \n",
    "#ax.legend(handles=pts,loc='best')\n",
    "p=make_legend(fig,colormap1,(.9,.85),title='snp100')\n",
    "fig.savefig('/storage/btbgenie/all_ireland_results/pca_snp_clusters.jpg',dpi=150)"
   ]
  },
  {
   "cell_type": "markdown",
   "metadata": {},
   "source": [
    "## wgMLST"
   ]
  },
  {
   "cell_type": "code",
   "execution_count": null,
   "metadata": {
    "scrolled": true,
    "tags": []
   },
   "outputs": [],
   "source": [
    "from snipgenie import wgmlst\n",
    "reload(wgmlst)\n",
    "vcf_file='/storage/btbgenie/all_ireland_results/filtered.vcf.gz'\n",
    "names = wgmlst.get_samples_vcf(vcf_file)\n",
    "profiles = wgmlst.run_samples(vcf_file, outdir='/storage/btbgenie/mlst_consensus_test/', names=names[:10], threads=12)"
   ]
  },
  {
   "cell_type": "markdown",
   "metadata": {},
   "source": [
    "## heterozygosity"
   ]
  },
  {
   "cell_type": "code",
   "execution_count": 181,
   "metadata": {},
   "outputs": [],
   "source": [
    "hdf = pd.read_csv('het_sites.csv').set_index('pos')\n",
    "freq = hdf.count(axis=1)\n",
    "hdf = hdf[freq>20]"
   ]
  },
  {
   "cell_type": "code",
   "execution_count": 182,
   "metadata": {},
   "outputs": [],
   "source": [
    "sites = list(hdf.index)\n",
    "g = tools.genbank_to_dataframe(app.mbovis_gb,cds=True)[1:]"
   ]
  },
  {
   "cell_type": "code",
   "execution_count": 187,
   "metadata": {},
   "outputs": [
    {
     "data": {
      "text/plain": [
       "rpfA      4\n",
       "wag22b    2\n",
       "glnA3     1\n",
       "ponA2     1\n",
       "infB      1\n",
       "vapb19    1\n",
       "lprR      1\n",
       "gdh       1\n",
       "lipP      1\n",
       "lppR      1\n",
       "helZ      1\n",
       "ctpB      1\n",
       "iniB      1\n",
       "whiA      1\n",
       "folP2     1\n",
       "mfd       1\n",
       "fadE13    1\n",
       "pstS2     1\n",
       "fabD2     1\n",
       "gpm1      1\n",
       "sodC      1\n",
       "cpnT      1\n",
       "Name: gene, dtype: int64"
      ]
     },
     "execution_count": 187,
     "metadata": {},
     "output_type": "execute_result"
    }
   ],
   "source": [
    "res=[]\n",
    "for s in sites:   \n",
    "    r=g[(g.start<s) & (g.end>s)]\n",
    "    if len(r)>0:\n",
    "        r=r.iloc[0]\n",
    "        res.append([s,r.locus_tag, r.gene])\n",
    "    #else:\n",
    "    #    print (s)\n",
    "res=pd.DataFrame(res,columns=['site','tag','gene'])\n",
    "res.gene.value_counts()"
   ]
  },
  {
   "cell_type": "code",
   "execution_count": 184,
   "metadata": {},
   "outputs": [
    {
     "data": {
      "text/plain": [
       "<AxesSubplot: ylabel='pos'>"
      ]
     },
     "execution_count": 184,
     "metadata": {},
     "output_type": "execute_result"
    },
    {
     "data": {
      "image/png": "[encoded data removed]",
      "text/plain": [
       "<Figure size 1584x864 with 2 Axes>"
      ]
     },
     "metadata": {
      "needs_background": "light"
     },
     "output_type": "display_data"
    }
   ],
   "source": [
    "plt.figure(figsize=(22,12))\n",
    "sns.heatmap(hdf,xticklabels=False)"
   ]
  },
  {
   "cell_type": "code",
   "execution_count": 149,
   "metadata": {},
   "outputs": [],
   "source": [
    "H=hdf.fillna(0)\n",
    "#cg = sns.clustermap(H,xticklabels=False,yticklabels=False,\n",
    "#                    cmap='Reds',cbar_pos=None,figsize=(17,10)) #row_colors=[colors1,colors2]"
   ]
  },
  {
   "cell_type": "code",
   "execution_count": null,
   "metadata": {},
   "outputs": [],
   "source": []
  }
 ],
 "metadata": {
  "kernelspec": {
   "display_name": "Python 3 (ipykernel)",
   "language": "python",
   "name": "python3"
  },
  "language_info": {
   "codemirror_mode": {
    "name": "ipython",
    "version": 3
   },
   "file_extension": ".py",
   "mimetype": "text/x-python",
   "name": "python",
   "nbconvert_exporter": "python",
   "pygments_lexer": "ipython3",
   "version": "3.10.6"
  }
 },
 "nbformat": 4,
 "nbformat_minor": 4
}
