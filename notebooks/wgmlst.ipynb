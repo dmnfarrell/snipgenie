{
 "cells": [
  {
   "cell_type": "markdown",
   "id": "097a5efa-3837-48c6-a8ea-309d58ba6fd6",
   "metadata": {},
   "source": [
    "## wgMLST for mbovis\n",
    "\n",
    "* http://www3.ridom.de/seqsphere/cgmlst/\n",
    "* https://www.cgmlst.org/ncs/schema/741110/\n",
    "* https://jcm.asm.org/content/52/7/2479\n",
    "* https://www.biorxiv.org/content/10.1101/172858v1.full\n",
    "* https://www.ncbi.nlm.nih.gov/pmc/articles/PMC3980634/"
   ]
  },
  {
   "cell_type": "markdown",
   "id": "3b554e75-17e5-4a8f-ab03-e93150bcc94e",
   "metadata": {},
   "source": [
    "## steps\n",
    "\n",
    "* get MLST gene list\n",
    "* assembly\n",
    "* annotate\n",
    "* assign allele numbers?"
   ]
  },
  {
   "cell_type": "code",
   "execution_count": 9,
   "id": "5fbe56cd-85be-425d-a949-8d7b709d4acc",
   "metadata": {},
   "outputs": [],
   "source": [
    "import sys,os,shutil,subprocess\n",
    "import glob\n",
    "import random\n",
    "from importlib import reload\n",
    "import numpy as np\n",
    "import pandas as pd\n",
    "pd.set_option('display.width', 200)\n",
    "pd.set_option('display.max_colwidth', 150)\n",
    "import pylab as plt\n",
    "import seaborn as sns\n",
    "from Bio import SeqIO, Phylo\n",
    "from Bio.Seq import Seq\n",
    "from Bio.SeqRecord import SeqRecord\n",
    "from io import StringIO\n",
    "import pathogenie as pg\n",
    "import snipgenie\n",
    "import toytree, toyplot"
   ]
  },
  {
   "cell_type": "code",
   "execution_count": 10,
   "id": "a9158dab-3bba-4414-bad1-59c5f0856117",
   "metadata": {},
   "outputs": [],
   "source": [
    "meta = pd.read_csv('/storage/btbgenie/mbovis_ireland/all_ireland_samples.csv')\n",
    "vcf_file='/storage/btbgenie/wicklow_results/filtered.vcf.gz'"
   ]
  },
  {
   "cell_type": "code",
   "execution_count": 11,
   "id": "3bc7763a-0ca8-4267-9f1d-60755c13b101",
   "metadata": {},
   "outputs": [],
   "source": [
    "def get_samples_vcf(vcf_file):\n",
    "    cmd = 'bcftools query -l %s' %vcf_file\n",
    "    tmp = subprocess.check_output(cmd, shell=True)\n",
    "    return tmp.decode().split('\\n')\n",
    "    \n",
    "samplenames = get_samples_vcf(vcf_file)"
   ]
  },
  {
   "cell_type": "code",
   "execution_count": 4,
   "id": "f630368c-1859-4574-84dd-8a545f5e17b5",
   "metadata": {},
   "outputs": [
    {
     "name": "stdout",
     "output_type": "stream",
     "text": [
      "pair    sample                                                                                             1  \\\n",
      "0         1034                  /storage/btbgenie/mbovis_ireland/Wicklow/dog/1034_S91_L001-4_R1_001.fastq.gz   \n",
      "1     13-11594  /storage/btbgenie/mbovis_ireland/Wicklow/Fastqs_15-03-19/13-11594_S85_L001-4_R1_001.fastq.gz   \n",
      "\n",
      "pair                                                                                             2  \n",
      "0                     /storage/btbgenie/mbovis_ireland/Wicklow/dog/1034_S91_L001-4_R2_001.fastq.gz  \n",
      "1     /storage/btbgenie/mbovis_ireland/Wicklow/Fastqs_15-03-19/13-11594_S85_L001-4_R2_001.fastq.gz  \n"
     ]
    }
   ],
   "source": [
    "path = '/storage/btbgenie/mbovis_ireland/Wicklow/'\n",
    "files = glob.glob(os.path.join(path,'**', '*.fastq.gz'),recursive=True)\n",
    "samp = snipgenie.get_samples(files,sep='_')\n",
    "pairs = pd.pivot_table(samp,index=['sample'],columns=['pair'],values='filename',aggfunc='first').reset_index()\n",
    "print (pairs[:2])"
   ]
  },
  {
   "cell_type": "markdown",
   "id": "1200e6a5-624b-44ff-a8e5-4436b362b548",
   "metadata": {},
   "source": [
    "## create reference proteins for MLST"
   ]
  },
  {
   "cell_type": "code",
   "execution_count": 5,
   "id": "7c6c41ff-b137-40ef-b26d-fa40e236835c",
   "metadata": {},
   "outputs": [
    {
     "name": "stdout",
     "output_type": "stream",
     "text": [
      "3994\n"
     ]
    }
   ],
   "source": [
    "def make_reference_proteins():\n",
    "    prots = pg.tools.genbank_to_dataframe('Mbovis-AF212297.2.gb',cds=True)\n",
    "    prots = prots.fillna('')\n",
    "    prots = prots.dropna(subset=['locus_tag'])\n",
    "    ref_proteins = 'Mbovis_AF212297_proteins.fa'\n",
    "    #get prokka type header for using in annotation\n",
    "    prots['header'] = prots.apply(lambda x: '~~~'.join([x.locus_tag,x.gene,x['product'],'none']),1)\n",
    "    pg.tools.dataframe_to_fasta(prots,idkey='header',outfile=ref_proteins)\n",
    "    print (len(prots))\n",
    "    return prots\n",
    "\n",
    "prots=make_reference_proteins()"
   ]
  },
  {
   "cell_type": "code",
   "execution_count": 6,
   "id": "0c949c63-24d7-481a-b145-ca33f18595b4",
   "metadata": {},
   "outputs": [],
   "source": [
    "def get_nucleotide_sequences(gb_file,out_file,idkey='locus_tag'):\n",
    "    \"\"\"protein nucleotide seqs from genbank\"\"\"\n",
    "    \n",
    "    recs = SeqIO.to_dict(SeqIO.parse(gb_file,'genbank'))\n",
    "    chroms = list(recs.keys())\n",
    "    result = []\n",
    "    for chrom in chroms[:10]:       \n",
    "        rec = recs[chrom]        \n",
    "        for f in rec.features[1:]:\n",
    "            q=f.qualifiers\n",
    "            if f.type != 'CDS':\n",
    "                continue\n",
    "            seq = rec.seq[f.location.start:f.location.end]\n",
    "            try:         \n",
    "                new = SeqRecord(seq,id=q[idkey][0])\n",
    "                result.append(new)\n",
    "            except:\n",
    "                #print (q)\n",
    "                pass\n",
    "    SeqIO.write(result,out_file,format='fasta')\n",
    "    return result\n",
    "\n",
    "res=get_nucleotide_sequences('Mbovis-AF212297.2.gb','Mbovis_AF212297_nuc.fa')"
   ]
  },
  {
   "cell_type": "markdown",
   "id": "1df61561-684c-418a-980c-2c62299a216a",
   "metadata": {},
   "source": [
    "## assembly"
   ]
  },
  {
   "cell_type": "code",
   "execution_count": null,
   "id": "09ca0cce-bad8-40a0-81bd-f93f8a39518f",
   "metadata": {},
   "outputs": [],
   "source": [
    "def spades(file1, file2, path, outfile=None, threads=4):\n",
    "    \"\"\"Run spades\"\"\"\n",
    "    \n",
    "    cmd = 'spades -t %s --pe1-1 %s --pe1-2 %s --careful -o %s' %(threads,file1,file2,path)    \n",
    "    if not os.path.exists(path): \n",
    "        print (cmd)\n",
    "        subprocess.check_output(cmd, shell=True)\n",
    "    if outfile != None:\n",
    "        shutil.copy(os.path.join(path,'scaffolds.fasta'),outfile)\n",
    "    return outfile\n",
    "\n",
    "assembly_path = '/storage/btbgenie/assembly/'\n",
    "\n",
    "for i,r in pairs[5:10].iterrows():    \n",
    "    name=r['sample']\n",
    "    print (name)\n",
    "    out = os.path.join(assembly_path,name+'.fa')\n",
    "    print (out)\n",
    "    spades(r[1], r[2], os.path.join(assembly_path,name), outfile=out, threads=12)"
   ]
  },
  {
   "cell_type": "markdown",
   "id": "255fab33-d9d4-4cc6-9edf-04a7d8250fd9",
   "metadata": {},
   "source": [
    "## get consensus sequence from alignment instead of assembly"
   ]
  },
  {
   "cell_type": "code",
   "execution_count": 7,
   "id": "b1450e60-5c58-4c34-9927-b11396ef068b",
   "metadata": {},
   "outputs": [],
   "source": [
    "def get_consensus(vcf_file, sample, out_file='consensus.fa'):\n",
    "    \"\"\"Get consensus sequence from vcf\"\"\"\n",
    "      \n",
    "    cmd='bcftools index -f %s' %vcf_file\n",
    "    subprocess.check_output(cmd, shell=True)   \n",
    "    cmd='cat {r} | bcftools consensus -s {s} {v} > {o}'.format(r=snipgenie.app.mbovis_genome,v=vcf_file,s=sample,o=out_file)\n",
    "    #print (cmd)\n",
    "    subprocess.check_output(cmd, shell=True)\n",
    "    return\n",
    "\n",
    "get_consensus(vcf_file, '1034','consensus.fa')\n"
   ]
  },
  {
   "cell_type": "markdown",
   "id": "f036d0a1-efe2-497b-bccf-93b0b305a212",
   "metadata": {},
   "source": [
    "## annotate\n"
   ]
  },
  {
   "cell_type": "code",
   "execution_count": null,
   "id": "65652405-949d-4bd8-be2e-e1869169890f",
   "metadata": {},
   "outputs": [],
   "source": [
    "seqfile='/storage/btbgenie/assembly/1034.fa'\n",
    "#seqfile='consensus.fa'\n",
    "featdf,recs = pg.run_annotation(seqfile,\n",
    "                                threads=10, kingdom='bacteria', trusted=ref_proteins)\n",
    "outfile='/storage/btbgenie/annotation_assembly/1034.fa'\n",
    "\n",
    "#write out nucl sequences\n",
    "SeqIO.write(recs,'temp.gb','genbank')\n",
    "res = get_nucleotide_sequences('temp.gb',outfile,idkey='protein_id')"
   ]
  },
  {
   "cell_type": "code",
   "execution_count": 853,
   "id": "790a4e36-d0d8-4d9d-8398-124cdb32d6d0",
   "metadata": {},
   "outputs": [
    {
     "name": "stdout",
     "output_type": "stream",
     "text": [
      "Mb3672c\n"
     ]
    },
    {
     "data": {
      "text/plain": [
       "Seq('MPQGTVKWFNAEKGFGFIAPEDGSADVFVHYTEIQGTGFRTLEENQKVEFEIGH...SL*')"
      ]
     },
     "execution_count": 853,
     "metadata": {},
     "output_type": "execute_result"
    }
   ],
   "source": [
    "rec=res[3]\n",
    "print (rec.id)\n",
    "rec.seq.translate()"
   ]
  },
  {
   "cell_type": "markdown",
   "id": "c904b82a-bee9-4bee-a81d-b33539bb3b9f",
   "metadata": {},
   "source": [
    "# initialise MLST table from reference genome"
   ]
  },
  {
   "cell_type": "markdown",
   "id": "b795b5e3-ce6a-4ea8-a417-60a03ad8b5bc",
   "metadata": {},
   "source": [
    "## filter only Mb proteins in scheme"
   ]
  },
  {
   "cell_type": "code",
   "execution_count": 27,
   "id": "f2b59498-b340-4405-87a9-54ab89498277",
   "metadata": {},
   "outputs": [],
   "source": [
    "mlst=pd.read_csv('mlst_scheme.csv')\n",
    "mlst=mlst[mlst['Ridom Usage']=='MLST+']\n",
    "targets=list(mlst.Target)"
   ]
  },
  {
   "cell_type": "code",
   "execution_count": 28,
   "id": "02009a63-fbc7-4c52-97c1-2daee4048f17",
   "metadata": {},
   "outputs": [],
   "source": [
    "mbmap=pd.read_csv('final_mbovis_mapping.csv')\n",
    "mbmap = mbmap[mbmap.Rv_tag.isin(targets)]\n",
    "mb_tags = list(mbmap.Mb_tag)\n",
    "prots = prots[prots.locus_tag.isin(mb_tags)]\n",
    "nucseqs = pg.tools.fasta_to_dataframe('Mbovis_AF212297_nuc.fa')\n",
    "nucseqs = nucseqs[nucseqs.name.isin(mb_tags)]"
   ]
  },
  {
   "cell_type": "code",
   "execution_count": 29,
   "id": "e1698d53-1360-4deb-b9b8-4a6940766fbe",
   "metadata": {},
   "outputs": [
    {
     "name": "stdout",
     "output_type": "stream",
     "text": [
      "3184\n"
     ]
    }
   ],
   "source": [
    "cols = ['name','allele','sequence']\n",
    "ref = nucseqs.copy()\n",
    "ref['allele'] = 1\n",
    "ref=ref.rename(columns={'translation':'sequence'})\n",
    "ref[cols].to_csv('mlst_db.csv.gz',index=False,compression='gzip')\n",
    "print (len(ref))"
   ]
  },
  {
   "cell_type": "code",
   "execution_count": 13,
   "id": "d1112407-b094-45a1-9b2e-d1936429d4d1",
   "metadata": {},
   "outputs": [
    {
     "data": {
      "text/html": [
       "<div>\n",
       "<style scoped>\n",
       "    .dataframe tbody tr th:only-of-type {\n",
       "        vertical-align: middle;\n",
       "    }\n",
       "\n",
       "    .dataframe tbody tr th {\n",
       "        vertical-align: top;\n",
       "    }\n",
       "\n",
       "    .dataframe thead th {\n",
       "        text-align: right;\n",
       "    }\n",
       "</style>\n",
       "<table border=\"1\" class=\"dataframe\">\n",
       "  <thead>\n",
       "    <tr style=\"text-align: right;\">\n",
       "      <th></th>\n",
       "      <th>name</th>\n",
       "      <th>sequence</th>\n",
       "      <th>description</th>\n",
       "      <th>type</th>\n",
       "    </tr>\n",
       "  </thead>\n",
       "  <tbody>\n",
       "    <tr>\n",
       "      <th>3240</th>\n",
       "      <td>Mb0014c</td>\n",
       "      <td>CTACTGGCCGAACCTCAGCGTGATGATGCCGTCCCGGTTGACGCCGGTCCCCGCCGGCGGGTTTTGATAGACGACCCGGTTGTGTTGGGAGCCACCGGCGTCGACGTCGGCCCCTTTGTCGAGCATCCCGGTCCAGCCCAGCGCGC...</td>\n",
       "      <td>Mb0014c &lt;unknown description&gt;</td>\n",
       "      <td>CDS</td>\n",
       "    </tr>\n",
       "  </tbody>\n",
       "</table>\n",
       "</div>"
      ],
      "text/plain": [
       "         name                                                                                                                                               sequence                    description  \\\n",
       "3240  Mb0014c  CTACTGGCCGAACCTCAGCGTGATGATGCCGTCCCGGTTGACGCCGGTCCCCGCCGGCGGGTTTTGATAGACGACCCGGTTGTGTTGGGAGCCACCGGCGTCGACGTCGGCCCCTTTGTCGAGCATCCCGGTCCAGCCCAGCGCGC...  Mb0014c <unknown description>   \n",
       "\n",
       "     type  \n",
       "3240  CDS  "
      ]
     },
     "execution_count": 13,
     "metadata": {},
     "output_type": "execute_result"
    }
   ],
   "source": [
    "fastafile='/storage/btbgenie/annotation_assembly/1034.fa'\n",
    "df = pg.tools.fasta_to_dataframe(fastafile)\n",
    "df[df.name=='Mb0014c']"
   ]
  },
  {
   "cell_type": "code",
   "execution_count": 8,
   "id": "18704833-b679-49c8-b459-4d0ca72ee22a",
   "metadata": {},
   "outputs": [],
   "source": [
    "def find_alleles(fastafile):\n",
    "    \"\"\"Find allele by simple matches to the reference table of known sequences.\n",
    "    Returns:\n",
    "        dataframe with allele number for each gene\n",
    "        dataframe with new alleles to add to db\n",
    "    \"\"\"\n",
    "    \n",
    "    db = pd.read_csv('mlst_db.csv.gz')\n",
    "    names = db.name.unique()\n",
    "    df = pg.tools.fasta_to_dataframe(fastafile).reset_index()\n",
    "    #print (df.iloc[0])\n",
    "    result=[]\n",
    "    new=[]\n",
    "    for name in names:\n",
    "        #print (name)\n",
    "        s = db[db.name==name]\n",
    "        gene = df[df.name==name]\n",
    "        #print (gene)\n",
    "        if len(gene)==0:\n",
    "            #print (name)\n",
    "            #missing gene in target\n",
    "            result.append((name,0))\n",
    "            continue\n",
    "        target = gene.iloc[0].sequence\n",
    "        found = s[s.sequence==target]        \n",
    "        #print (target,found)\n",
    "        if len(found)>0:\n",
    "            found = found.iloc[0]\n",
    "            result.append((name,found.allele))\n",
    "        else:\n",
    "            #assign new allele            \n",
    "            newallele = s.allele.max()+1\n",
    "            result.append((name,newallele))\n",
    "            new.append([name,newallele,target])\n",
    "    prof = pd.DataFrame(result,columns=['name','allele'])\n",
    "    prof['allele'] = prof.allele.astype(int)\n",
    "    #new additions\n",
    "    new = pd.DataFrame(new,columns=['name','allele','sequence'])\n",
    "    return prof, new\n",
    "    \n",
    "def update_mlst_db(new):\n",
    "    \"\"\"Update the database of MLST profiles\"\"\"\n",
    "    \n",
    "    db = pd.read_csv('mlst_db.csv.gz')\n",
    "    db = pd.concat([db,new])\n",
    "    db.to_csv('mlst_db.csv.gz', index=False, compression='gzip')\n",
    "    print ('added %s new alleles' %len(new))\n",
    "    return\n",
    "\n",
    "fastafile='26-Mbovis.fa'\n",
    "#prof,new = find_alleles(fastafile)\n",
    "#update_mlst_db(new)\n",
    "#print (prof[:100])"
   ]
  },
  {
   "cell_type": "code",
   "execution_count": 25,
   "id": "0aaa32a2-0d5f-44e7-b5d9-95148f858e9e",
   "metadata": {},
   "outputs": [
    {
     "name": "stdout",
     "output_type": "stream",
     "text": [
      "added 0 new alleles\n"
     ]
    }
   ],
   "source": [
    "def type_sample(fastafile, outfile, threads=4, overwrite=False):\n",
    "    \"\"\"Type a single sample using wgMLST.\n",
    "    Args:\n",
    "        fastafile: fasta file to type from assembly or other\n",
    "        \n",
    "        path: output folder for annotations\n",
    "    Returns:\n",
    "        dataframe of MLST profile\n",
    "    \"\"\"\n",
    "    \n",
    "    ref_proteins = 'Mbovis_AF212297_proteins.fa'\n",
    "    if overwrite == True or not os.path.exists(outfile):\n",
    "        #annotate\n",
    "        featdf,recs = pg.run_annotation(fastafile, threads=threads,\n",
    "                                        kingdom='bacteria', trusted=ref_proteins)\n",
    "        #get nucl sequences from annotation    \n",
    "        SeqIO.write(recs,'temp.gb','genbank')\n",
    "        get_nucleotide_sequences('temp.gb',outfile,idkey='protein_id')\n",
    "    \n",
    "    #find alleles\n",
    "    res,new = find_alleles(outfile)\n",
    "    #print (res)\n",
    "    #update db\n",
    "    update_mlst_db(new)\n",
    "    return res\n",
    "\n",
    "get_consensus(vcf_file, '26-MBovis')\n",
    "fastafile = 'consensus.fa'\n",
    "res = type_sample(fastafile, '26-Mbovis.fa', threads=10)"
   ]
  },
  {
   "cell_type": "code",
   "execution_count": 10,
   "id": "fdc652d8-7609-4250-a71a-0431f6bb5c70",
   "metadata": {},
   "outputs": [],
   "source": [
    "def get_profile_string(df):\n",
    "    return ''.join(df.allele.astype(str))"
   ]
  },
  {
   "cell_type": "markdown",
   "id": "ea02a7c5-940e-4566-8bda-11ddd4d97244",
   "metadata": {},
   "source": [
    "## profiles from assembly - not needed?"
   ]
  },
  {
   "cell_type": "code",
   "execution_count": null,
   "id": "3a1e6f8a-e49d-411d-99b4-7904aefa2676",
   "metadata": {},
   "outputs": [],
   "source": [
    "profs = {}\n",
    "omit=['182-MBovis','19-4281','19-2438']\n",
    "samples=glob.glob(os.path.join(assembly_path,'*.fa'))\n",
    "pdf=pd.DataFrame()\n",
    "for s in samples:\n",
    "    print (s)\n",
    "    sample = os.path.splitext(os.path.basename(s))[0]    \n",
    "    if sample in omit:\n",
    "        continue\n",
    "    profile = type_sample(s, '/storage/btbgenie/annotation_assembly/%s.fa' %sample, threads=12)\n",
    "    pdf[sample] = profile['allele']\n",
    "    profs[sample] = get_profile_string(profile)"
   ]
  },
  {
   "cell_type": "markdown",
   "id": "c3201168-0b53-4d6e-b990-f171924c03b5",
   "metadata": {},
   "source": [
    "## profiles from consensus seqs"
   ]
  },
  {
   "cell_type": "code",
   "execution_count": 11,
   "id": "c3cfa8f4-3452-4dff-b8f7-dc32c4d1a7e9",
   "metadata": {},
   "outputs": [],
   "source": [
    "def run_samples(vcf_file, outdir, omit=[], **kwargs):\n",
    "    \"\"\"Run samples in a vcf file.\n",
    "    Args:\n",
    "        vcf_file: multi sample variant file from previous calling\n",
    "        outdir: folder for writing intermediate files\n",
    "    Returns:\n",
    "        dict of mst profiles\n",
    "    \"\"\"\n",
    "\n",
    "    profs = {}\n",
    "    samplenames = get_samples_vcf(vcf_file)\n",
    "    print (samplenames)\n",
    "    for s in samplenames[:15]:\n",
    "        print (s)\n",
    "        if s in omit or s =='':\n",
    "            continue\n",
    "        get_consensus(vcf_file, s)\n",
    "        outfile = os.path.join(outdir, '%s.fa' %s)\n",
    "        profile = type_sample('consensus.fa', outfile, **kwargs)\n",
    "        profs[s] = list(profile.allele)\n",
    "    return profs"
   ]
  },
  {
   "cell_type": "markdown",
   "id": "9bdacafc-a95c-4201-93b8-733d3a77e52a",
   "metadata": {},
   "source": [
    "## find distances between mlst profiles"
   ]
  },
  {
   "cell_type": "code",
   "execution_count": 12,
   "id": "68e8b4de-4e52-4aae-8fe4-80eba13d3abf",
   "metadata": {},
   "outputs": [],
   "source": [
    "def diff_profiles(s1, s2):    \n",
    "    return sum(1 for a, b in zip(s1, s2) if a != b)"
   ]
  },
  {
   "cell_type": "code",
   "execution_count": 13,
   "id": "660e437c-92aa-4809-a244-e5fdc2927870",
   "metadata": {},
   "outputs": [],
   "source": [
    "def dist_matrix(profiles):\n",
    "    \"\"\"Distance matrix of a set of profiles\"\"\"\n",
    "    \n",
    "    dist=[]\n",
    "    for s in profiles:\n",
    "        x=profiles[s]\n",
    "        row=[]\n",
    "        for s in profiles:\n",
    "            d = diff_profiles(x,profiles[s])\n",
    "            row.append(d)\n",
    "        dist.append(row)\n",
    "    D = pd.DataFrame(dist,columns=profiles.keys(),index=profiles.keys())\n",
    "    return D"
   ]
  },
  {
   "cell_type": "code",
   "execution_count": 14,
   "id": "5743d878-a7a9-43a2-b926-4b788ac2e8b9",
   "metadata": {},
   "outputs": [],
   "source": [
    "def tree_from_distmatrix(D, treefile):\n",
    "    \n",
    "    from skbio import DistanceMatrix\n",
    "    from skbio.tree import nj\n",
    "    ids = list(D.index)\n",
    "    dm = DistanceMatrix(D.values, ids)\n",
    "    tree = nj(dm)\n",
    "    #print(tree.ascii_art())\n",
    "    tree.write(treefile, 'newick')\n",
    "    return tree"
   ]
  },
  {
   "cell_type": "code",
   "execution_count": null,
   "id": "09d0f523-b5eb-4fc2-af3e-95b499d153e4",
   "metadata": {},
   "outputs": [],
   "source": [
    "import random\n",
    "test = {'A':'1112233','B':'1112213','C':'2111213','D':'2111232','E':'212211','F':'2111222'}\n",
    "\n",
    "d = dist_matrix(test)\n",
    "tree_from_distmatrix(d)\n",
    "tre = toytree.tree(treefile)\n",
    "canvas,t,r=tre.draw(layout='r',scalebar=True,width=500)\n",
    "sns.clustermap(d,figsize=(5,5))"
   ]
  },
  {
   "cell_type": "markdown",
   "id": "56cb4f55-9423-4522-a44f-f06c060f57f4",
   "metadata": {},
   "source": [
    "## test on wicklow samples"
   ]
  },
  {
   "cell_type": "code",
   "execution_count": null,
   "id": "74b4ea83-c6fa-46bc-934d-114b0a97fc56",
   "metadata": {},
   "outputs": [],
   "source": [
    "omit=['182-MBovis','19-4281','19-2438']\n",
    "profs = run_samples(vcf_file, '/storage/btbgenie/annotation_consensus', threads=12, omit=omit)\n",
    "for i in profs:\n",
    "    print (i,len(profs[i]))"
   ]
  },
  {
   "cell_type": "code",
   "execution_count": 57,
   "id": "3165e7d3-a5b3-4065-a27b-98745581292e",
   "metadata": {},
   "outputs": [
    {
     "data": {
      "text/html": [
       "<div class=\"toyplot\" id=\"t2ee1b015fa184ad985c557472272e4f6\" style=\"text-align:center\"><svg class=\"toyplot-canvas-Canvas\" xmlns:toyplot=\"http://www.sandia.gov/toyplot\" xmlns:xlink=\"http://www.w3.org/1999/xlink\" xmlns=\"http://www.w3.org/2000/svg\" width=\"500.0px\" height=\"400.0px\" viewBox=\"0 0 500.0 400.0\" preserveAspectRatio=\"xMidYMid meet\" style=\"background-color:transparent;border-color:#292724;border-style:none;border-width:1.0;fill:rgb(16.1%,15.3%,14.1%);fill-opacity:1.0;font-family:Helvetica;font-size:12px;opacity:1.0;stroke:rgb(16.1%,15.3%,14.1%);stroke-opacity:1.0;stroke-width:1.0\" id=\"t76a87b1d39c6487899583756d17cca82\"><g class=\"toyplot-coordinates-Cartesian\" id=\"t37319d18f7334ab38ad84f1b3e111876\"><clipPath id=\"tb6f78b5dffcb4aa1b4890ba5eb2fc4ca\"><rect x=\"30.0\" y=\"30.0\" width=\"440.0\" height=\"340.0\"></rect></clipPath><g clip-path=\"url(#tb6f78b5dffcb4aa1b4890ba5eb2fc4ca)\"><g class=\"toytree-mark-Toytree\" id=\"tfc39a95e0a634a81855bd5249f313415\"><g class=\"toytree-Edges\" style=\"fill:none;stroke:rgb(14.9%,14.9%,14.9%);stroke-linecap:round;stroke-opacity:1;stroke-width:2\"><path d=\"M 51.7 120.0 L 51.7 178.4 L 127.8 178.4\" id=\"26,25\"></path><path d=\"M 127.8 178.4 L 127.8 117.5 L 134.9 117.5\" id=\"25,24\"></path><path d=\"M 127.8 178.4 L 127.8 239.3 L 178.9 239.3\" id=\"25,23\"></path><path d=\"M 134.9 117.5 L 134.9 93.6 L 186.3 93.6\" id=\"24,22\"></path><path d=\"M 134.9 117.5 L 134.9 141.5 L 161.7 141.5\" id=\"24,21\"></path><path d=\"M 178.9 239.3 L 178.9 205.3 L 216.3 205.3\" id=\"23,20\"></path><path d=\"M 178.9 239.3 L 178.9 273.2 L 239.7 273.2\" id=\"23,19\"></path><path d=\"M 161.7 141.5 L 161.7 157.4 L 192.1 157.4\" id=\"21,18\"></path><path d=\"M 216.3 205.3 L 216.3 221.3 L 239.4 221.3\" id=\"20,17\"></path><path d=\"M 239.7 273.2 L 239.7 293.1 L 262.5 293.1\" id=\"19,16\"></path><path d=\"M 262.5 293.1 L 262.5 311.8 L 283.0 311.8\" id=\"16,15\"></path><path d=\"M 283.0 311.8 L 283.0 327.7 L 309.0 327.7\" id=\"15,14\"></path><path d=\"M 51.7 120.0 L 51.7 61.6 L 127.8 61.6\" id=\"26,13\"></path><path d=\"M 186.3 93.6 L 186.3 82.9 L 326.8 82.9\" id=\"22,12\"></path><path d=\"M 186.3 93.6 L 186.3 104.2 L 261.7 104.2\" id=\"22,11\"></path><path d=\"M 161.7 141.5 L 161.7 125.5 L 261.0 125.5\" id=\"21,10\"></path><path d=\"M 192.1 157.4 L 192.1 146.8 L 294.7 146.8\" id=\"18,9\"></path><path d=\"M 192.1 157.4 L 192.1 168.1 L 391.7 168.1\" id=\"18,8\"></path><path d=\"M 216.3 205.3 L 216.3 189.4 L 279.6 189.4\" id=\"20,7\"></path><path d=\"M 239.4 221.3 L 239.4 210.6 L 300.9 210.6\" id=\"17,6\"></path><path d=\"M 239.4 221.3 L 239.4 231.9 L 307.5 231.9\" id=\"17,5\"></path><path d=\"M 239.7 273.2 L 239.7 253.2 L 322.2 253.2\" id=\"19,4\"></path><path d=\"M 262.5 293.1 L 262.5 274.5 L 333.7 274.5\" id=\"16,3\"></path><path d=\"M 283.0 311.8 L 283.0 295.8 L 354.2 295.8\" id=\"15,2\"></path><path d=\"M 309.0 327.7 L 309.0 317.1 L 338.7 317.1\" id=\"14,1\"></path><path d=\"M 309.0 327.7 L 309.0 338.4 L 365.7 338.4\" id=\"14,0\"></path></g><g class=\"toytree-TipLabels\" style=\"fill:rgb(14.9%,14.9%,14.9%);fill-opacity:1.0;font-family:helvetica;font-size:11px;font-weight:normal;stroke:none;white-space:pre\"><g transform=\"translate(365.69,338.38)rotate(0)\"><text x=\"15.00\" y=\"2.81\" style=\"\">42-MBovis</text></g><g transform=\"translate(338.70,317.09)rotate(0)\"><text x=\"15.00\" y=\"2.81\" style=\"\">59-MBovis</text></g><g transform=\"translate(354.16,295.80)rotate(0)\"><text x=\"15.00\" y=\"2.81\" style=\"\">37-MBovis</text></g><g transform=\"translate(333.75,274.51)rotate(0)\"><text x=\"15.00\" y=\"2.81\" style=\"\">38-MBovis</text></g><g transform=\"translate(322.17,253.22)rotate(0)\"><text x=\"15.00\" y=\"2.81\" style=\"\">23-MBovis</text></g><g transform=\"translate(307.46,231.93)rotate(0)\"><text x=\"15.00\" y=\"2.81\" style=\"\">25-MBovis</text></g><g transform=\"translate(300.88,210.64)rotate(0)\"><text x=\"15.00\" y=\"2.81\" style=\"\">39-MBovis</text></g><g transform=\"translate(279.59,189.36)rotate(0)\"><text x=\"15.00\" y=\"2.81\" style=\"\">49-MBovis</text></g><g transform=\"translate(391.70,168.07)rotate(0)\"><text x=\"15.00\" y=\"2.81\" style=\"\">1034</text></g><g transform=\"translate(294.71,146.78)rotate(0)\"><text x=\"15.00\" y=\"2.81\" style=\"\">50-MBovis</text></g><g transform=\"translate(261.00,125.49)rotate(0)\"><text x=\"15.00\" y=\"2.81\" style=\"\">36-MBovis</text></g><g transform=\"translate(261.67,104.20)rotate(0)\"><text x=\"15.00\" y=\"2.81\" style=\"\">24-MBovis</text></g><g transform=\"translate(326.85,82.91)rotate(0)\"><text x=\"15.00\" y=\"2.81\" style=\"\">29-MBovis</text></g><g transform=\"translate(127.76,61.62)rotate(0)\"><text x=\"15.00\" y=\"2.81\" style=\"\">43-MBovis</text></g></g></g></g><g class=\"toyplot-coordinates-Axis\" id=\"te554f6ae54da48bd9e9fd783e7a3d157\" transform=\"translate(50.0,350.0)translate(0,20.0)\"><line x1=\"1.7000200055184846\" y1=\"0\" x2=\"341.7040211092245\" y2=\"0\" style=\"\"></line><g><line x1=\"341.7040211092245\" y1=\"0\" x2=\"341.7040211092245\" y2=\"-5\" style=\"\"></line><line x1=\"256.703020833298\" y1=\"0\" x2=\"256.703020833298\" y2=\"-5\" style=\"\"></line><line x1=\"171.7020205573715\" y1=\"0\" x2=\"171.7020205573715\" y2=\"-5\" style=\"\"></line><line x1=\"86.70102028144498\" y1=\"0\" x2=\"86.70102028144498\" y2=\"-5\" style=\"\"></line><line x1=\"1.7000200055184465\" y1=\"0\" x2=\"1.7000200055184465\" y2=\"-5\" style=\"\"></line></g><g><g transform=\"translate(341.7040211092245,6)\"><text x=\"-2.78\" y=\"8.555\" style=\"fill:rgb(16.1%,15.3%,14.1%);fill-opacity:1.0;font-family:helvetica;font-size:10.0px;font-weight:normal;stroke:none;vertical-align:baseline;white-space:pre\">0</text></g><g transform=\"translate(256.703020833298,6)\"><text x=\"-2.78\" y=\"8.555\" style=\"fill:rgb(16.1%,15.3%,14.1%);fill-opacity:1.0;font-family:helvetica;font-size:10.0px;font-weight:normal;stroke:none;vertical-align:baseline;white-space:pre\">8</text></g><g transform=\"translate(171.7020205573715,6)\"><text x=\"-5.56\" y=\"8.555\" style=\"fill:rgb(16.1%,15.3%,14.1%);fill-opacity:1.0;font-family:helvetica;font-size:10.0px;font-weight:normal;stroke:none;vertical-align:baseline;white-space:pre\">16</text></g><g transform=\"translate(86.70102028144498,6)\"><text x=\"-5.56\" y=\"8.555\" style=\"fill:rgb(16.1%,15.3%,14.1%);fill-opacity:1.0;font-family:helvetica;font-size:10.0px;font-weight:normal;stroke:none;vertical-align:baseline;white-space:pre\">24</text></g><g transform=\"translate(1.7000200055184465,6)\"><text x=\"-5.56\" y=\"8.555\" style=\"fill:rgb(16.1%,15.3%,14.1%);fill-opacity:1.0;font-family:helvetica;font-size:10.0px;font-weight:normal;stroke:none;vertical-align:baseline;white-space:pre\">31</text></g></g><g class=\"toyplot-coordinates-Axis-coordinates\" style=\"visibility:hidden\" transform=\"\"><line x1=\"0\" x2=\"0\" y1=\"-3.0\" y2=\"4.5\" style=\"stroke:rgb(43.9%,50.2%,56.5%);stroke-opacity:1.0;stroke-width:1.0\"></line><text x=\"0\" y=\"-6\" style=\"alignment-baseline:alphabetic;fill:rgb(43.9%,50.2%,56.5%);fill-opacity:1.0;font-size:10px;font-weight:normal;stroke:none;text-anchor:middle\"></text></g></g></g></svg><div class=\"toyplot-behavior\"><script>(function()\n",
       "{\n",
       "var modules={};\n",
       "modules[\"toyplot/canvas/id\"] = \"t76a87b1d39c6487899583756d17cca82\";\n",
       "modules[\"toyplot/canvas\"] = (function(canvas_id)\n",
       "    {\n",
       "        return document.querySelector(\"#\" + canvas_id);\n",
       "    })(modules[\"toyplot/canvas/id\"]);\n",
       "modules[\"toyplot.coordinates.Axis\"] = (\n",
       "        function(canvas)\n",
       "        {\n",
       "            function sign(x)\n",
       "            {\n",
       "                return x < 0 ? -1 : x > 0 ? 1 : 0;\n",
       "            }\n",
       "\n",
       "            function mix(a, b, amount)\n",
       "            {\n",
       "                return ((1.0 - amount) * a) + (amount * b);\n",
       "            }\n",
       "\n",
       "            function log(x, base)\n",
       "            {\n",
       "                return Math.log(Math.abs(x)) / Math.log(base);\n",
       "            }\n",
       "\n",
       "            function in_range(a, x, b)\n",
       "            {\n",
       "                var left = Math.min(a, b);\n",
       "                var right = Math.max(a, b);\n",
       "                return left <= x && x <= right;\n",
       "            }\n",
       "\n",
       "            function inside(range, projection)\n",
       "            {\n",
       "                for(var i = 0; i != projection.length; ++i)\n",
       "                {\n",
       "                    var segment = projection[i];\n",
       "                    if(in_range(segment.range.min, range, segment.range.max))\n",
       "                        return true;\n",
       "                }\n",
       "                return false;\n",
       "            }\n",
       "\n",
       "            function to_domain(range, projection)\n",
       "            {\n",
       "                for(var i = 0; i != projection.length; ++i)\n",
       "                {\n",
       "                    var segment = projection[i];\n",
       "                    if(in_range(segment.range.bounds.min, range, segment.range.bounds.max))\n",
       "                    {\n",
       "                        if(segment.scale == \"linear\")\n",
       "                        {\n",
       "                            var amount = (range - segment.range.min) / (segment.range.max - segment.range.min);\n",
       "                            return mix(segment.domain.min, segment.domain.max, amount)\n",
       "                        }\n",
       "                        else if(segment.scale[0] == \"log\")\n",
       "                        {\n",
       "                            var amount = (range - segment.range.min) / (segment.range.max - segment.range.min);\n",
       "                            var base = segment.scale[1];\n",
       "                            return sign(segment.domain.min) * Math.pow(base, mix(log(segment.domain.min, base), log(segment.domain.max, base), amount));\n",
       "                        }\n",
       "                    }\n",
       "                }\n",
       "            }\n",
       "\n",
       "            var axes = {};\n",
       "\n",
       "            function display_coordinates(e)\n",
       "            {\n",
       "                var current = canvas.createSVGPoint();\n",
       "                current.x = e.clientX;\n",
       "                current.y = e.clientY;\n",
       "\n",
       "                for(var axis_id in axes)\n",
       "                {\n",
       "                    var axis = document.querySelector(\"#\" + axis_id);\n",
       "                    var coordinates = axis.querySelector(\".toyplot-coordinates-Axis-coordinates\");\n",
       "                    if(coordinates)\n",
       "                    {\n",
       "                        var projection = axes[axis_id];\n",
       "                        var local = current.matrixTransform(axis.getScreenCTM().inverse());\n",
       "                        if(inside(local.x, projection))\n",
       "                        {\n",
       "                            var domain = to_domain(local.x, projection);\n",
       "                            coordinates.style.visibility = \"visible\";\n",
       "                            coordinates.setAttribute(\"transform\", \"translate(\" + local.x + \")\");\n",
       "                            var text = coordinates.querySelector(\"text\");\n",
       "                            text.textContent = domain.toFixed(2);\n",
       "                        }\n",
       "                        else\n",
       "                        {\n",
       "                            coordinates.style.visibility= \"hidden\";\n",
       "                        }\n",
       "                    }\n",
       "                }\n",
       "            }\n",
       "\n",
       "            canvas.addEventListener(\"click\", display_coordinates);\n",
       "\n",
       "            var module = {};\n",
       "            module.show_coordinates = function(axis_id, projection)\n",
       "            {\n",
       "                axes[axis_id] = projection;\n",
       "            }\n",
       "\n",
       "            return module;\n",
       "        })(modules[\"toyplot/canvas\"]);\n",
       "(function(axis, axis_id, projection)\n",
       "        {\n",
       "            axis.show_coordinates(axis_id, projection);\n",
       "        })(modules[\"toyplot.coordinates.Axis\"],\"te554f6ae54da48bd9e9fd783e7a3d157\",[{\"domain\": {\"bounds\": {\"max\": Infinity, \"min\": -Infinity}, \"max\": 5.399659626342492, \"min\": -31.650303194999992}, \"range\": {\"bounds\": {\"max\": Infinity, \"min\": -Infinity}, \"max\": 400.0, \"min\": 0.0}, \"scale\": \"linear\"}]);\n",
       "})();</script></div></div>"
      ]
     },
     "metadata": {},
     "output_type": "display_data"
    }
   ],
   "source": [
    "D = dist_matrix(profs)\n",
    "D.to_csv('dist_mlst.csv',index=False)\n",
    "#sns.clustermap(D,xticklabels=True,yticklabels=True,figsize=(6,6))\n",
    "treefile='temp.newick'\n",
    "tree_from_distmatrix(D, treefile)\n",
    "tre = toytree.tree(treefile)\n",
    "tre=tre.root('43-MBovis')\n",
    "canvas,t,r=tre.draw(layout='r',scalebar=True,height=400,width=500)\n",
    "import toyplot.png\n",
    "#toyplot.png.render(canvas, \"mlst-tree.png\")"
   ]
  },
  {
   "cell_type": "code",
   "execution_count": 58,
   "id": "ea9b1f21-c3b7-46f0-93f4-4e3bc503c246",
   "metadata": {},
   "outputs": [
    {
     "data": {
      "text/html": [
       "<div class=\"toyplot\" id=\"tc1cfb75881f049ab83659ab6d754550c\" style=\"text-align:center\"><svg class=\"toyplot-canvas-Canvas\" xmlns:toyplot=\"http://www.sandia.gov/toyplot\" xmlns:xlink=\"http://www.w3.org/1999/xlink\" xmlns=\"http://www.w3.org/2000/svg\" width=\"500.0px\" height=\"400.0px\" viewBox=\"0 0 500.0 400.0\" preserveAspectRatio=\"xMidYMid meet\" style=\"background-color:transparent;border-color:#292724;border-style:none;border-width:1.0;fill:rgb(16.1%,15.3%,14.1%);fill-opacity:1.0;font-family:Helvetica;font-size:12px;opacity:1.0;stroke:rgb(16.1%,15.3%,14.1%);stroke-opacity:1.0;stroke-width:1.0\" id=\"ta80dac38d5244d8b9fb1d41ae0c73b62\"><g class=\"toyplot-coordinates-Cartesian\" id=\"t1f655075d69e4473afd3225f00db613d\"><clipPath id=\"t41114a2b73114976bfbfe2c6bc2327e2\"><rect x=\"30.0\" y=\"30.0\" width=\"440.0\" height=\"340.0\"></rect></clipPath><g clip-path=\"url(#t41114a2b73114976bfbfe2c6bc2327e2)\"><g class=\"toytree-mark-Toytree\" id=\"ta41c260470a147bd884d16af247a71e5\"><g class=\"toytree-Edges\" style=\"fill:none;stroke:rgb(14.9%,14.9%,14.9%);stroke-linecap:round;stroke-opacity:1;stroke-width:2\"><path d=\"M 51.6 98.5 L 51.6 135.3 L 90.9 135.3\" id=\"26,25\"></path><path d=\"M 90.9 135.3 L 90.9 187.7 L 99.6 187.7\" id=\"25,24\"></path><path d=\"M 99.6 187.7 L 99.6 136.1 L 125.5 136.1\" id=\"24,23\"></path><path d=\"M 99.6 187.7 L 99.6 239.3 L 151.5 239.3\" id=\"24,22\"></path><path d=\"M 125.5 136.1 L 125.5 114.8 L 169.3 114.8\" id=\"23,21\"></path><path d=\"M 125.5 136.1 L 125.5 157.4 L 186.4 157.4\" id=\"23,20\"></path><path d=\"M 151.5 239.3 L 151.5 205.3 L 160.1 205.3\" id=\"22,19\"></path><path d=\"M 151.5 239.3 L 151.5 273.2 L 151.6 273.2\" id=\"22,18\"></path><path d=\"M 160.1 205.3 L 160.1 221.3 L 203.5 221.3\" id=\"19,17\"></path><path d=\"M 151.6 273.2 L 151.6 293.1 L 151.6 293.1\" id=\"18,16\"></path><path d=\"M 151.6 293.1 L 151.6 311.8 L 168.8 311.8\" id=\"16,15\"></path><path d=\"M 168.8 311.8 L 168.8 327.7 L 194.8 327.7\" id=\"15,14\"></path><path d=\"M 51.6 98.5 L 51.6 61.6 L 90.9 61.6\" id=\"26,13\"></path><path d=\"M 90.9 135.3 L 90.9 82.9 L 240.8 82.9\" id=\"25,12\"></path><path d=\"M 169.3 114.8 L 169.3 104.2 L 177.9 104.2\" id=\"21,11\"></path><path d=\"M 169.3 114.8 L 169.3 125.5 L 169.3 125.5\" id=\"21,10\"></path><path d=\"M 186.4 157.4 L 186.4 146.8 L 186.4 146.8\" id=\"20,9\"></path><path d=\"M 186.4 157.4 L 186.4 168.1 L 186.4 168.1\" id=\"20,8\"></path><path d=\"M 160.1 205.3 L 160.1 189.4 L 185.9 189.4\" id=\"19,7\"></path><path d=\"M 203.5 221.3 L 203.5 210.6 L 212.0 210.6\" id=\"17,6\"></path><path d=\"M 203.5 221.3 L 203.5 231.9 L 203.5 231.9\" id=\"17,5\"></path><path d=\"M 151.6 273.2 L 151.6 253.2 L 186.0 253.2\" id=\"18,4\"></path><path d=\"M 151.6 293.1 L 151.6 274.5 L 185.9 274.5\" id=\"16,3\"></path><path d=\"M 168.8 311.8 L 168.8 295.8 L 203.3 295.8\" id=\"15,2\"></path><path d=\"M 194.8 327.7 L 194.8 317.1 L 370.8 317.1\" id=\"14,1\"></path><path d=\"M 194.8 327.7 L 194.8 338.4 L 194.8 338.4\" id=\"14,0\"></path></g><g class=\"toytree-TipLabels\" style=\"fill:rgb(14.9%,14.9%,14.9%);fill-opacity:1.0;font-family:helvetica;font-size:11px;font-weight:normal;stroke:none;white-space:pre\"><g transform=\"translate(194.78,338.38)rotate(0)\"><text x=\"15.00\" y=\"2.81\" style=\"\">49-MBovis</text></g><g transform=\"translate(370.84,317.09)rotate(0)\"><text x=\"15.00\" y=\"2.81\" style=\"\">39-MBovis</text></g><g transform=\"translate(203.33,295.80)rotate(0)\"><text x=\"15.00\" y=\"2.81\" style=\"\">23-MBovis</text></g><g transform=\"translate(185.91,274.51)rotate(0)\"><text x=\"15.00\" y=\"2.81\" style=\"\">25-MBovis</text></g><g transform=\"translate(185.99,253.22)rotate(0)\"><text x=\"15.00\" y=\"2.81\" style=\"\">38-MBovis</text></g><g transform=\"translate(203.47,231.93)rotate(0)\"><text x=\"15.00\" y=\"2.81\" style=\"\">42-MBovis</text></g><g transform=\"translate(211.99,210.64)rotate(0)\"><text x=\"15.00\" y=\"2.81\" style=\"\">59-MBovis</text></g><g transform=\"translate(185.93,189.36)rotate(0)\"><text x=\"15.00\" y=\"2.81\" style=\"\">37-MBovis</text></g><g transform=\"translate(186.41,168.07)rotate(0)\"><text x=\"15.00\" y=\"2.81\" style=\"\">36-MBovis</text></g><g transform=\"translate(186.41,146.78)rotate(0)\"><text x=\"15.00\" y=\"2.81\" style=\"\">50-MBovis</text></g><g transform=\"translate(169.26,125.49)rotate(0)\"><text x=\"15.00\" y=\"2.81\" style=\"\">24-MBovis</text></g><g transform=\"translate(177.86,104.20)rotate(0)\"><text x=\"15.00\" y=\"2.81\" style=\"\">29-MBovis</text></g><g transform=\"translate(240.80,82.91)rotate(0)\"><text x=\"15.00\" y=\"2.81\" style=\"\">1034</text></g><g transform=\"translate(90.89,61.62)rotate(0)\"><text x=\"15.00\" y=\"2.81\" style=\"\">43-MBovis</text></g></g></g></g><g class=\"toyplot-coordinates-Axis\" id=\"t1506b15dc18d4434a5fc911dcaf82762\" transform=\"translate(50.0,350.0)translate(0,20.0)\"><line x1=\"1.596223335587986\" y1=\"0\" x2=\"320.84089045318774\" y2=\"0\" style=\"\"></line><g><line x1=\"320.84089045318774\" y1=\"0\" x2=\"320.84089045318774\" y2=\"-5\" style=\"\"></line><line x1=\"241.0297236737878\" y1=\"0\" x2=\"241.0297236737878\" y2=\"-5\" style=\"\"></line><line x1=\"161.21855689438786\" y1=\"0\" x2=\"161.21855689438786\" y2=\"-5\" style=\"\"></line><line x1=\"81.40739011498792\" y1=\"0\" x2=\"81.40739011498792\" y2=\"-5\" style=\"\"></line><line x1=\"1.596223335587986\" y1=\"0\" x2=\"1.596223335587986\" y2=\"-5\" style=\"\"></line></g><g><g transform=\"translate(320.84089045318774,6)\"><text x=\"-2.78\" y=\"8.555\" style=\"fill:rgb(16.1%,15.3%,14.1%);fill-opacity:1.0;font-family:helvetica;font-size:10.0px;font-weight:normal;stroke:none;vertical-align:baseline;white-space:pre\">0</text></g><g transform=\"translate(241.0297236737878,6)\"><text x=\"-2.78\" y=\"8.555\" style=\"fill:rgb(16.1%,15.3%,14.1%);fill-opacity:1.0;font-family:helvetica;font-size:10.0px;font-weight:normal;stroke:none;vertical-align:baseline;white-space:pre\">9</text></g><g transform=\"translate(161.21855689438786,6)\"><text x=\"-5.56\" y=\"8.555\" style=\"fill:rgb(16.1%,15.3%,14.1%);fill-opacity:1.0;font-family:helvetica;font-size:10.0px;font-weight:normal;stroke:none;vertical-align:baseline;white-space:pre\">19</text></g><g transform=\"translate(81.40739011498792,6)\"><text x=\"-5.56\" y=\"8.555\" style=\"fill:rgb(16.1%,15.3%,14.1%);fill-opacity:1.0;font-family:helvetica;font-size:10.0px;font-weight:normal;stroke:none;vertical-align:baseline;white-space:pre\">28</text></g><g transform=\"translate(1.596223335587986,6)\"><text x=\"-5.56\" y=\"8.555\" style=\"fill:rgb(16.1%,15.3%,14.1%);fill-opacity:1.0;font-family:helvetica;font-size:10.0px;font-weight:normal;stroke:none;vertical-align:baseline;white-space:pre\">37</text></g></g><g class=\"toyplot-coordinates-Axis-coordinates\" style=\"visibility:hidden\" transform=\"\"><line x1=\"0\" x2=\"0\" y1=\"-3.0\" y2=\"4.5\" style=\"stroke:rgb(43.9%,50.2%,56.5%);stroke-opacity:1.0;stroke-width:1.0\"></line><text x=\"0\" y=\"-6\" style=\"alignment-baseline:alphabetic;fill:rgb(43.9%,50.2%,56.5%);fill-opacity:1.0;font-size:10px;font-weight:normal;stroke:none;text-anchor:middle\"></text></g></g></g></svg><div class=\"toyplot-behavior\"><script>(function()\n",
       "{\n",
       "var modules={};\n",
       "modules[\"toyplot/canvas/id\"] = \"ta80dac38d5244d8b9fb1d41ae0c73b62\";\n",
       "modules[\"toyplot/canvas\"] = (function(canvas_id)\n",
       "    {\n",
       "        return document.querySelector(\"#\" + canvas_id);\n",
       "    })(modules[\"toyplot/canvas/id\"]);\n",
       "modules[\"toyplot.coordinates.Axis\"] = (\n",
       "        function(canvas)\n",
       "        {\n",
       "            function sign(x)\n",
       "            {\n",
       "                return x < 0 ? -1 : x > 0 ? 1 : 0;\n",
       "            }\n",
       "\n",
       "            function mix(a, b, amount)\n",
       "            {\n",
       "                return ((1.0 - amount) * a) + (amount * b);\n",
       "            }\n",
       "\n",
       "            function log(x, base)\n",
       "            {\n",
       "                return Math.log(Math.abs(x)) / Math.log(base);\n",
       "            }\n",
       "\n",
       "            function in_range(a, x, b)\n",
       "            {\n",
       "                var left = Math.min(a, b);\n",
       "                var right = Math.max(a, b);\n",
       "                return left <= x && x <= right;\n",
       "            }\n",
       "\n",
       "            function inside(range, projection)\n",
       "            {\n",
       "                for(var i = 0; i != projection.length; ++i)\n",
       "                {\n",
       "                    var segment = projection[i];\n",
       "                    if(in_range(segment.range.min, range, segment.range.max))\n",
       "                        return true;\n",
       "                }\n",
       "                return false;\n",
       "            }\n",
       "\n",
       "            function to_domain(range, projection)\n",
       "            {\n",
       "                for(var i = 0; i != projection.length; ++i)\n",
       "                {\n",
       "                    var segment = projection[i];\n",
       "                    if(in_range(segment.range.bounds.min, range, segment.range.bounds.max))\n",
       "                    {\n",
       "                        if(segment.scale == \"linear\")\n",
       "                        {\n",
       "                            var amount = (range - segment.range.min) / (segment.range.max - segment.range.min);\n",
       "                            return mix(segment.domain.min, segment.domain.max, amount)\n",
       "                        }\n",
       "                        else if(segment.scale[0] == \"log\")\n",
       "                        {\n",
       "                            var amount = (range - segment.range.min) / (segment.range.max - segment.range.min);\n",
       "                            var base = segment.scale[1];\n",
       "                            return sign(segment.domain.min) * Math.pow(base, mix(log(segment.domain.min, base), log(segment.domain.max, base), amount));\n",
       "                        }\n",
       "                    }\n",
       "                }\n",
       "            }\n",
       "\n",
       "            var axes = {};\n",
       "\n",
       "            function display_coordinates(e)\n",
       "            {\n",
       "                var current = canvas.createSVGPoint();\n",
       "                current.x = e.clientX;\n",
       "                current.y = e.clientY;\n",
       "\n",
       "                for(var axis_id in axes)\n",
       "                {\n",
       "                    var axis = document.querySelector(\"#\" + axis_id);\n",
       "                    var coordinates = axis.querySelector(\".toyplot-coordinates-Axis-coordinates\");\n",
       "                    if(coordinates)\n",
       "                    {\n",
       "                        var projection = axes[axis_id];\n",
       "                        var local = current.matrixTransform(axis.getScreenCTM().inverse());\n",
       "                        if(inside(local.x, projection))\n",
       "                        {\n",
       "                            var domain = to_domain(local.x, projection);\n",
       "                            coordinates.style.visibility = \"visible\";\n",
       "                            coordinates.setAttribute(\"transform\", \"translate(\" + local.x + \")\");\n",
       "                            var text = coordinates.querySelector(\"text\");\n",
       "                            text.textContent = domain.toFixed(2);\n",
       "                        }\n",
       "                        else\n",
       "                        {\n",
       "                            coordinates.style.visibility= \"hidden\";\n",
       "                        }\n",
       "                    }\n",
       "                }\n",
       "            }\n",
       "\n",
       "            canvas.addEventListener(\"click\", display_coordinates);\n",
       "\n",
       "            var module = {};\n",
       "            module.show_coordinates = function(axis_id, projection)\n",
       "            {\n",
       "                axes[axis_id] = projection;\n",
       "            }\n",
       "\n",
       "            return module;\n",
       "        })(modules[\"toyplot/canvas\"]);\n",
       "(function(axis, axis_id, projection)\n",
       "        {\n",
       "            axis.show_coordinates(axis_id, projection);\n",
       "        })(modules[\"toyplot.coordinates.Axis\"],\"t1506b15dc18d4434a5fc911dcaf82762\",[{\"domain\": {\"bounds\": {\"max\": Infinity, \"min\": -Infinity}, \"max\": 9.268066170300003, \"min\": -37.5645282}, \"range\": {\"bounds\": {\"max\": Infinity, \"min\": -Infinity}, \"max\": 400.0, \"min\": 0.0}, \"scale\": \"linear\"}]);\n",
       "})();</script></div></div>"
      ]
     },
     "metadata": {},
     "output_type": "display_data"
    }
   ],
   "source": [
    "tre2 = toytree.tree('/storage/btbgenie/wicklow_results/tree.newick')\n",
    "drop = list(set(tre2.get_tip_labels()) - set(tre.get_tip_labels()))\n",
    "tre2=tre2.drop_tips(drop)\n",
    "tre2=tre2.root('43-MBovis')\n",
    "canvas,t,r=tre2.draw(layout='r',scalebar=True,height=400,width=500)\n",
    "#toyplot.png.render(canvas, \"snp-tree.png\")"
   ]
  },
  {
   "cell_type": "markdown",
   "id": "0e9485ac-50a4-4e0f-a5fb-14062f54896c",
   "metadata": {},
   "source": [
    "# sensitivity analysis - SNPs vs MLST"
   ]
  },
  {
   "cell_type": "markdown",
   "id": "14f844d0-bed1-4dde-b58f-ee52d6f4c893",
   "metadata": {},
   "source": [
    "## phastsim\n",
    "\n",
    "https://www.ncbi.nlm.nih.gov/pmc/articles/PMC7987011/"
   ]
  },
  {
   "cell_type": "code",
   "execution_count": 80,
   "id": "3c305630-afbd-42bc-8123-25a81634db76",
   "metadata": {},
   "outputs": [
    {
     "data": {
      "text/plain": [
       "'phastSim --outpath simulation_output/ --seed 1 --createFasta --createPhylip --treeFile sim.newick --scale 6.896703927259084e-07 --invariable .1 --alpha 1.0 --omegaAlpha 1.0 --reference Mbovis_AF212297.fa'"
      ]
     },
     "execution_count": 80,
     "metadata": {},
     "output_type": "execute_result"
    }
   ],
   "source": [
    "refseq = SeqIO.read('Mbovis_AF212297.fa','fasta')\n",
    "scale = (1/len(refseq))*3\n",
    "#scale=8e-6\n",
    "cmd = 'phastSim --outpath simulation_output/ --seed 1 --createFasta' \\\n",
    "         ' --createPhylip --treeFile sim.newick' \\\n",
    "         ' --scale {s} --invariable .1 --alpha 1.0 --omegaAlpha 1.0' \\\n",
    "         ' --reference Mbovis_AF212297.fa'.format(s=scale)\n",
    "cmd"
   ]
  },
  {
   "cell_type": "code",
   "execution_count": 102,
   "id": "a1248bcc-22af-4627-bb7f-2d53f527e544",
   "metadata": {},
   "outputs": [
    {
     "data": {
      "text/plain": [
       "3"
      ]
     },
     "execution_count": 102,
     "metadata": {},
     "output_type": "execute_result"
    }
   ],
   "source": [
    "simrecs = list(SeqIO.parse('sim_seqs3.fa','fasta'))\n",
    "diff_profiles(simrecs[2].seq,simrecs[4].seq)"
   ]
  },
  {
   "cell_type": "markdown",
   "id": "6d73b147-738b-4d83-ab3f-36917e14f68e",
   "metadata": {},
   "source": [
    "## make fastqs from sequences"
   ]
  },
  {
   "cell_type": "code",
   "execution_count": 17,
   "id": "f4bba3fa-808d-4848-83dd-eba8fe005ed2",
   "metadata": {},
   "outputs": [],
   "source": [
    "def make_fastq(ref, outfile, cmp=100):\n",
    "    \n",
    "    f1 = '/storage/btbgenie/mbovis_ireland/Wicklow/Fastqs_07-01-18/17-MBovis_S21_L001-4_R1_001.fastq.gz'\n",
    "    f2 = '/storage/btbgenie/mbovis_ireland/Wicklow/Fastqs_07-01-18/17-MBovis_S21_L001-4_R2_001.fastq.gz'\n",
    "    cmd = 'java -jar /local/ArtificialFastqGenerator/ArtificialFastqGenerator.jar -O {o}'\\\n",
    "          ' -R {r} -S \">temp\" -RL 150 -CMP {cmp} -CSD 0.2 -SE true'.format(r=ref, o=outfile,cmp=cmp,f1=f1,f2=f2) #-URQS true -F1 {f1} -F2 {f2}\n",
    "    print (cmd)\n",
    "    subprocess.check_output(cmd, shell=True)\n",
    "    return"
   ]
  },
  {
   "cell_type": "code",
   "execution_count": 103,
   "id": "d31fc35a-b9b3-4b13-b61a-806a64b3ba4a",
   "metadata": {},
   "outputs": [
    {
     "name": "stdout",
     "output_type": "stream",
     "text": [
      "554.2817695140839\n"
     ]
    }
   ],
   "source": [
    "def generate_fastqs(infile, outpath):\n",
    "    \n",
    "    from joblib import Parallel, delayed\n",
    "    import multiprocessing, time\n",
    "    num_cores = 4\n",
    "    \n",
    "    simrecs = list(SeqIO.parse(infile,'fasta'))\n",
    "    def my_func(rec):\n",
    "        from tempfile import mkstemp\n",
    "        x,tmp = mkstemp()\n",
    "        SeqIO.write(SeqRecord(rec.seq,id='temp'), tmp, 'fasta')\n",
    "        out = os.path.join(outpath,rec.id)\n",
    "        make_fastq(tmp, out)\n",
    "\n",
    "    st = time.time()\n",
    "    Parallel(n_jobs=num_cores)(delayed(my_func)(i) for i in simrecs)\n",
    "    print (time.time()-st)\n",
    "    cmd = 'pigz %s/*.fastq' %outpath\n",
    "    subprocess.check_output(cmd, shell=True)\n",
    "    \n",
    "generate_fastqs('sim_seqs3.fa', 'sim_fastq3')\n",
    "#generate_fastqs('sim_seqs1.fa', 'sim_fastq1')"
   ]
  },
  {
   "cell_type": "markdown",
   "id": "da56ff7b-6352-458a-a699-6ee3c331b455",
   "metadata": {},
   "source": [
    "## run snipgenie on simulated fastqs"
   ]
  },
  {
   "cell_type": "code",
   "execution_count": null,
   "id": "00ea3aac-057a-4fa3-9203-8978722aec39",
   "metadata": {},
   "outputs": [],
   "source": [
    "import snipgenie\n",
    "args = {'threads':10, 'outdir': 'sim_results3', 'labelsep':'_',\n",
    "        'input':['sim_fastq3'],# 'overwrite':True,\n",
    "         'species':'Mbovis-AF212297',        \n",
    "         'custom_filters': True,       \n",
    "         'buildtree':True}\n",
    "W = snipgenie.app.WorkFlow(**args)\n",
    "st = W.setup()\n",
    "W.run()"
   ]
  },
  {
   "cell_type": "code",
   "execution_count": 162,
   "id": "b8edca85-547d-4bcc-b5d7-9f50f7e08b86",
   "metadata": {},
   "outputs": [
    {
     "data": {
      "text/html": [
       "<div class=\"toyplot\" id=\"t854a70ce054e43fd80387e7c43bf86bb\" style=\"text-align:center\"><svg class=\"toyplot-canvas-Canvas\" xmlns:toyplot=\"http://www.sandia.gov/toyplot\" xmlns:xlink=\"http://www.w3.org/1999/xlink\" xmlns=\"http://www.w3.org/2000/svg\" width=\"500.0px\" height=\"400.0px\" viewBox=\"0 0 500.0 400.0\" preserveAspectRatio=\"xMidYMid meet\" style=\"background-color:transparent;border-color:#292724;border-style:none;border-width:1.0;fill:rgb(16.1%,15.3%,14.1%);fill-opacity:1.0;font-family:Helvetica;font-size:12px;opacity:1.0;stroke:rgb(16.1%,15.3%,14.1%);stroke-opacity:1.0;stroke-width:1.0\" id=\"t7798fba6282643af9cecc8d81390260f\"><g class=\"toyplot-coordinates-Cartesian\" id=\"t2dd8034e3653452b91eb0e50c0de6dab\"><clipPath id=\"t825f17b8570a4e2da7a945db34f73199\"><rect x=\"30.0\" y=\"30.0\" width=\"440.0\" height=\"340.0\"></rect></clipPath><g clip-path=\"url(#t825f17b8570a4e2da7a945db34f73199)\"><g class=\"toytree-mark-Toytree\" id=\"tccc87ab0545c4ef8a173dcf31a3b84be\"><g class=\"toytree-Edges\" style=\"fill:none;stroke:rgb(14.9%,14.9%,14.9%);stroke-linecap:round;stroke-opacity:1;stroke-width:2\"><path d=\"M 51.9 107.5 L 51.9 149.3 L 212.2 149.3\" id=\"16,15\"></path><path d=\"M 212.2 149.3 L 212.2 199.5 L 212.2 199.5\" id=\"15,14\"></path><path d=\"M 212.2 199.5 L 212.2 266.2 L 212.2 266.2\" id=\"14,13\"></path><path d=\"M 212.2 266.2 L 212.2 197.9 L 251.3 197.9\" id=\"13,12\"></path><path d=\"M 251.3 197.9 L 251.3 229.4 L 251.3 229.4\" id=\"12,11\"></path><path d=\"M 251.3 229.4 L 251.3 258.8 L 378.6 258.8\" id=\"11,10\"></path><path d=\"M 378.6 258.8 L 378.6 284.0 L 378.6 284.0\" id=\"10,9\"></path><path d=\"M 51.9 107.5 L 51.9 65.6 L 212.2 65.6\" id=\"16,8\"></path><path d=\"M 212.2 149.3 L 212.2 99.2 L 276.3 99.2\" id=\"15,7\"></path><path d=\"M 212.2 199.5 L 212.2 132.8 L 345.9 132.8\" id=\"14,6\"></path><path d=\"M 251.3 197.9 L 251.3 166.4 L 251.3 166.4\" id=\"12,5\"></path><path d=\"M 251.3 229.4 L 251.3 200.0 L 341.8 200.0\" id=\"11,4\"></path><path d=\"M 378.6 258.8 L 378.6 233.6 L 393.0 233.6\" id=\"10,3\"></path><path d=\"M 378.6 284.0 L 378.6 267.2 L 378.6 267.2\" id=\"9,2\"></path><path d=\"M 378.6 284.0 L 378.6 300.8 L 434.6 300.8\" id=\"9,1\"></path><path d=\"M 212.2 266.2 L 212.2 334.4 L 212.2 334.4\" id=\"13,0\"></path></g><g class=\"toytree-TipLabels\" style=\"fill:rgb(14.9%,14.9%,14.9%);fill-opacity:1.0;font-family:helvetica;font-size:19px;font-weight:normal;stroke:none;white-space:pre\"><g transform=\"translate(212.23,334.41)rotate(0)\"><text x=\"15.00\" y=\"4.85\" style=\"\">1</text></g><g transform=\"translate(434.57,300.81)rotate(0)\"><text x=\"15.00\" y=\"4.85\" style=\"\">9</text></g><g transform=\"translate(378.61,267.20)rotate(0)\"><text x=\"15.00\" y=\"4.85\" style=\"\">3</text></g><g transform=\"translate(393.02,233.60)rotate(0)\"><text x=\"15.00\" y=\"4.85\" style=\"\">8</text></g><g transform=\"translate(341.77,200.00)rotate(0)\"><text x=\"15.00\" y=\"4.85\" style=\"\">4</text></g><g transform=\"translate(251.27,166.40)rotate(0)\"><text x=\"15.00\" y=\"4.85\" style=\"\">5</text></g><g transform=\"translate(345.87,132.80)rotate(0)\"><text x=\"15.00\" y=\"4.85\" style=\"\">2</text></g><g transform=\"translate(276.28,99.19)rotate(0)\"><text x=\"15.00\" y=\"4.85\" style=\"\">6</text></g><g transform=\"translate(212.23,65.59)rotate(0)\"><text x=\"15.00\" y=\"4.85\" style=\"\">7</text></g></g></g></g><g class=\"toyplot-coordinates-Axis\" id=\"t0914fb7d35964e228ca9d572499cc250\" transform=\"translate(50.0,350.0)translate(0,20.0)\"><line x1=\"1.913308013890571\" y1=\"0\" x2=\"384.57491079201384\" y2=\"0\" style=\"\"></line><g><line x1=\"384.57491079201384\" y1=\"0\" x2=\"384.57491079201384\" y2=\"-5\" style=\"\"></line><line x1=\"288.909510097483\" y1=\"0\" x2=\"288.909510097483\" y2=\"-5\" style=\"\"></line><line x1=\"193.24410940295215\" y1=\"0\" x2=\"193.24410940295215\" y2=\"-5\" style=\"\"></line><line x1=\"97.57870870842137\" y1=\"0\" x2=\"97.57870870842137\" y2=\"-5\" style=\"\"></line><line x1=\"1.913308013890519\" y1=\"0\" x2=\"1.913308013890519\" y2=\"-5\" style=\"\"></line></g><g><g transform=\"translate(384.57491079201384,6)\"><text x=\"-2.78\" y=\"8.555\" style=\"fill:rgb(16.1%,15.3%,14.1%);fill-opacity:1.0;font-family:helvetica;font-size:10.0px;font-weight:normal;stroke:none;vertical-align:baseline;white-space:pre\">0</text></g><g transform=\"translate(288.909510097483,6)\"><text x=\"-2.78\" y=\"8.555\" style=\"fill:rgb(16.1%,15.3%,14.1%);fill-opacity:1.0;font-family:helvetica;font-size:10.0px;font-weight:normal;stroke:none;vertical-align:baseline;white-space:pre\">7</text></g><g transform=\"translate(193.24410940295215,6)\"><text x=\"-5.56\" y=\"8.555\" style=\"fill:rgb(16.1%,15.3%,14.1%);fill-opacity:1.0;font-family:helvetica;font-size:10.0px;font-weight:normal;stroke:none;vertical-align:baseline;white-space:pre\">13</text></g><g transform=\"translate(97.57870870842137,6)\"><text x=\"-5.56\" y=\"8.555\" style=\"fill:rgb(16.1%,15.3%,14.1%);fill-opacity:1.0;font-family:helvetica;font-size:10.0px;font-weight:normal;stroke:none;vertical-align:baseline;white-space:pre\">20</text></g><g transform=\"translate(1.913308013890519,6)\"><text x=\"-5.56\" y=\"8.555\" style=\"fill:rgb(16.1%,15.3%,14.1%);fill-opacity:1.0;font-family:helvetica;font-size:10.0px;font-weight:normal;stroke:none;vertical-align:baseline;white-space:pre\">26</text></g></g><g class=\"toyplot-coordinates-Axis-coordinates\" style=\"visibility:hidden\" transform=\"\"><line x1=\"0\" x2=\"0\" y1=\"-3.0\" y2=\"4.5\" style=\"stroke:rgb(43.9%,50.2%,56.5%);stroke-opacity:1.0;stroke-width:1.0\"></line><text x=\"0\" y=\"-6\" style=\"alignment-baseline:alphabetic;fill:rgb(43.9%,50.2%,56.5%);fill-opacity:1.0;font-size:10px;font-weight:normal;stroke:none;text-anchor:middle\"></text></g></g></g><g class=\"toyplot-mark-Text\" id=\"tc44025781fce47ba8e540d102204a248\"><g class=\"toyplot-Series\"><g class=\"toyplot-Datum\" transform=\"translate(300.0,20.0)\"><text x=\"-167.632\" y=\"8.175999999999998\" style=\"fill:rgb(16.1%,15.3%,14.1%);fill-opacity:1.0;font-family:helvetica;font-size:32.0px;font-weight:normal;opacity:1;stroke:none;vertical-align:baseline;white-space:pre\">SNP method ~20 SNPs</text></g></g></g></svg><div class=\"toyplot-behavior\"><script>(function()\n",
       "{\n",
       "var modules={};\n",
       "modules[\"toyplot/canvas/id\"] = \"t7798fba6282643af9cecc8d81390260f\";\n",
       "modules[\"toyplot/canvas\"] = (function(canvas_id)\n",
       "    {\n",
       "        return document.querySelector(\"#\" + canvas_id);\n",
       "    })(modules[\"toyplot/canvas/id\"]);\n",
       "modules[\"toyplot.coordinates.Axis\"] = (\n",
       "        function(canvas)\n",
       "        {\n",
       "            function sign(x)\n",
       "            {\n",
       "                return x < 0 ? -1 : x > 0 ? 1 : 0;\n",
       "            }\n",
       "\n",
       "            function mix(a, b, amount)\n",
       "            {\n",
       "                return ((1.0 - amount) * a) + (amount * b);\n",
       "            }\n",
       "\n",
       "            function log(x, base)\n",
       "            {\n",
       "                return Math.log(Math.abs(x)) / Math.log(base);\n",
       "            }\n",
       "\n",
       "            function in_range(a, x, b)\n",
       "            {\n",
       "                var left = Math.min(a, b);\n",
       "                var right = Math.max(a, b);\n",
       "                return left <= x && x <= right;\n",
       "            }\n",
       "\n",
       "            function inside(range, projection)\n",
       "            {\n",
       "                for(var i = 0; i != projection.length; ++i)\n",
       "                {\n",
       "                    var segment = projection[i];\n",
       "                    if(in_range(segment.range.min, range, segment.range.max))\n",
       "                        return true;\n",
       "                }\n",
       "                return false;\n",
       "            }\n",
       "\n",
       "            function to_domain(range, projection)\n",
       "            {\n",
       "                for(var i = 0; i != projection.length; ++i)\n",
       "                {\n",
       "                    var segment = projection[i];\n",
       "                    if(in_range(segment.range.bounds.min, range, segment.range.bounds.max))\n",
       "                    {\n",
       "                        if(segment.scale == \"linear\")\n",
       "                        {\n",
       "                            var amount = (range - segment.range.min) / (segment.range.max - segment.range.min);\n",
       "                            return mix(segment.domain.min, segment.domain.max, amount)\n",
       "                        }\n",
       "                        else if(segment.scale[0] == \"log\")\n",
       "                        {\n",
       "                            var amount = (range - segment.range.min) / (segment.range.max - segment.range.min);\n",
       "                            var base = segment.scale[1];\n",
       "                            return sign(segment.domain.min) * Math.pow(base, mix(log(segment.domain.min, base), log(segment.domain.max, base), amount));\n",
       "                        }\n",
       "                    }\n",
       "                }\n",
       "            }\n",
       "\n",
       "            var axes = {};\n",
       "\n",
       "            function display_coordinates(e)\n",
       "            {\n",
       "                var current = canvas.createSVGPoint();\n",
       "                current.x = e.clientX;\n",
       "                current.y = e.clientY;\n",
       "\n",
       "                for(var axis_id in axes)\n",
       "                {\n",
       "                    var axis = document.querySelector(\"#\" + axis_id);\n",
       "                    var coordinates = axis.querySelector(\".toyplot-coordinates-Axis-coordinates\");\n",
       "                    if(coordinates)\n",
       "                    {\n",
       "                        var projection = axes[axis_id];\n",
       "                        var local = current.matrixTransform(axis.getScreenCTM().inverse());\n",
       "                        if(inside(local.x, projection))\n",
       "                        {\n",
       "                            var domain = to_domain(local.x, projection);\n",
       "                            coordinates.style.visibility = \"visible\";\n",
       "                            coordinates.setAttribute(\"transform\", \"translate(\" + local.x + \")\");\n",
       "                            var text = coordinates.querySelector(\"text\");\n",
       "                            text.textContent = domain.toFixed(2);\n",
       "                        }\n",
       "                        else\n",
       "                        {\n",
       "                            coordinates.style.visibility= \"hidden\";\n",
       "                        }\n",
       "                    }\n",
       "                }\n",
       "            }\n",
       "\n",
       "            canvas.addEventListener(\"click\", display_coordinates);\n",
       "\n",
       "            var module = {};\n",
       "            module.show_coordinates = function(axis_id, projection)\n",
       "            {\n",
       "                axes[axis_id] = projection;\n",
       "            }\n",
       "\n",
       "            return module;\n",
       "        })(modules[\"toyplot/canvas\"]);\n",
       "(function(axis, axis_id, projection)\n",
       "        {\n",
       "            axis.show_coordinates(axis_id, projection);\n",
       "        })(modules[\"toyplot.coordinates.Axis\"],\"t0914fb7d35964e228ca9d572499cc250\",[{\"domain\": {\"bounds\": {\"max\": Infinity, \"min\": -Infinity}, \"max\": 1.0531013701500016, \"min\": -26.255690324999993}, \"range\": {\"bounds\": {\"max\": Infinity, \"min\": -Infinity}, \"max\": 400.0, \"min\": 0.0}, \"scale\": \"linear\"}]);\n",
       "})();</script></div></div>"
      ]
     },
     "metadata": {},
     "output_type": "display_data"
    }
   ],
   "source": [
    "tresnps = toytree.tree('sim_results3/tree.newick')\n",
    "tresnps=tresnps.root('7')\n",
    "tresnps=tresnps.drop_tips('ref')\n",
    "canvas,t,r=tresnps.draw(layout='r',scalebar=True,height=400,width=500,tip_labels_style={\"font-size\":\"19px\"})\n",
    "sd=snpdist = pd.read_csv('sim_results3/snpdist.csv',index_col=0).iloc[1:,1:]\n",
    "canvas.text(300, 20, \"SNP\", style={\"font-size\":\"32px\"});\n",
    "import toyplot.png\n",
    "#toyplot.png.render(canvas, \"snp_tree_sim.png\")"
   ]
  },
  {
   "cell_type": "code",
   "execution_count": null,
   "id": "3244dfd5-b197-4100-b64b-5811885a54df",
   "metadata": {},
   "outputs": [],
   "source": [
    "tresboot = toytree.mtree('sim_results3/RAxML_bootstrap.variants')\n",
    "canvas,t,r=tresboot.draw(layout='r', nrows=2, ncols=5,height=400,width=700)"
   ]
  },
  {
   "cell_type": "markdown",
   "id": "27254c49-481d-4790-aa92-9bd2e9130377",
   "metadata": {},
   "source": [
    "## mlst on simulated fastqs"
   ]
  },
  {
   "cell_type": "code",
   "execution_count": null,
   "id": "6577c608-bc47-4c07-b6e5-76e1a010b6d8",
   "metadata": {},
   "outputs": [],
   "source": [
    "sim_vcf = 'sim_results3/filtered.vcf.gz'\n",
    "simprofs = run_samples(sim_vcf, 'sim_mlst3', threads=12)"
   ]
  },
  {
   "cell_type": "code",
   "execution_count": 148,
   "id": "7f3ffe3e-3a9a-4a59-9ea4-deabb35b4435",
   "metadata": {},
   "outputs": [
    {
     "data": {
      "text/html": [
       "<div class=\"toyplot\" id=\"t7fdaad421ce9426c9624212d3d51fa95\" style=\"text-align:center\"><svg class=\"toyplot-canvas-Canvas\" xmlns:toyplot=\"http://www.sandia.gov/toyplot\" xmlns:xlink=\"http://www.w3.org/1999/xlink\" xmlns=\"http://www.w3.org/2000/svg\" width=\"500.0px\" height=\"400.0px\" viewBox=\"0 0 500.0 400.0\" preserveAspectRatio=\"xMidYMid meet\" style=\"background-color:transparent;border-color:#292724;border-style:none;border-width:1.0;fill:rgb(16.1%,15.3%,14.1%);fill-opacity:1.0;font-family:Helvetica;font-size:12px;opacity:1.0;stroke:rgb(16.1%,15.3%,14.1%);stroke-opacity:1.0;stroke-width:1.0\" id=\"td0a1a1d4196447ad9390038956e2b263\"><g class=\"toyplot-coordinates-Cartesian\" id=\"t4d035aeaaf9143788512321fc761172d\"><clipPath id=\"t752428afa3fa40e1b6a608ac5d237efb\"><rect x=\"30.0\" y=\"30.0\" width=\"440.0\" height=\"340.0\"></rect></clipPath><g clip-path=\"url(#t752428afa3fa40e1b6a608ac5d237efb)\"><g class=\"toytree-mark-Toytree\" id=\"tdecb66721f6d41cf967e35f6e75b5a62\"><g class=\"toytree-Edges\" style=\"fill:none;stroke:rgb(14.9%,14.9%,14.9%);stroke-linecap:round;stroke-opacity:1;stroke-width:2\"><path d=\"M 51.9 112.8 L 51.9 160.1 L 194.8 160.1\" id=\"16,15\"></path><path d=\"M 194.8 160.1 L 194.8 116.0 L 194.8 116.0\" id=\"15,14\"></path><path d=\"M 194.8 160.1 L 194.8 204.2 L 236.5 204.2\" id=\"15,13\"></path><path d=\"M 236.5 204.2 L 236.5 242.0 L 254.3 242.0\" id=\"13,12\"></path><path d=\"M 254.3 242.0 L 254.3 284.0 L 293.0 284.0\" id=\"12,11\"></path><path d=\"M 293.0 284.0 L 293.0 250.4 L 359.7 250.4\" id=\"11,10\"></path><path d=\"M 293.0 284.0 L 293.0 317.6 L 321.6 317.6\" id=\"11,9\"></path><path d=\"M 51.9 112.8 L 51.9 65.6 L 194.8 65.6\" id=\"16,8\"></path><path d=\"M 194.8 116.0 L 194.8 99.2 L 290.1 99.2\" id=\"14,7\"></path><path d=\"M 194.8 116.0 L 194.8 132.8 L 290.1 132.8\" id=\"14,6\"></path><path d=\"M 236.5 204.2 L 236.5 166.4 L 337.7 166.4\" id=\"13,5\"></path><path d=\"M 254.3 242.0 L 254.3 200.0 L 430.0 200.0\" id=\"12,4\"></path><path d=\"M 359.7 250.4 L 359.7 233.6 L 380.1 233.6\" id=\"10,3\"></path><path d=\"M 359.7 250.4 L 359.7 267.2 L 434.6 267.2\" id=\"10,2\"></path><path d=\"M 321.6 317.6 L 321.6 300.8 L 377.2 300.8\" id=\"9,1\"></path><path d=\"M 321.6 317.6 L 321.6 334.4 L 361.3 334.4\" id=\"9,0\"></path></g><g class=\"toytree-TipLabels\" style=\"fill:rgb(14.9%,14.9%,14.9%);fill-opacity:1.0;font-family:helvetica;font-size:19px;font-weight:normal;stroke:none;white-space:pre\"><g transform=\"translate(361.31,334.41)rotate(0)\"><text x=\"15.00\" y=\"4.85\" style=\"\">3</text></g><g transform=\"translate(377.19,300.81)rotate(0)\"><text x=\"15.00\" y=\"4.85\" style=\"\">8</text></g><g transform=\"translate(434.57,267.20)rotate(0)\"><text x=\"15.00\" y=\"4.85\" style=\"\">1</text></g><g transform=\"translate(380.14,233.60)rotate(0)\"><text x=\"15.00\" y=\"4.85\" style=\"\">5</text></g><g transform=\"translate(429.98,200.00)rotate(0)\"><text x=\"15.00\" y=\"4.85\" style=\"\">9</text></g><g transform=\"translate(337.70,166.40)rotate(0)\"><text x=\"15.00\" y=\"4.85\" style=\"\">4</text></g><g transform=\"translate(290.07,132.80)rotate(0)\"><text x=\"15.00\" y=\"4.85\" style=\"\">6</text></g><g transform=\"translate(290.07,99.19)rotate(0)\"><text x=\"15.00\" y=\"4.85\" style=\"\">2</text></g><g transform=\"translate(194.81,65.59)rotate(0)\"><text x=\"15.00\" y=\"4.85\" style=\"\">7</text></g></g></g></g><g class=\"toyplot-coordinates-Axis\" id=\"t1ddec4c3bd6e41b0abc44bb49520c440\" transform=\"translate(50.0,350.0)translate(0,20.0)\"><line x1=\"1.913308013890562\" y1=\"0\" x2=\"384.57491079201384\" y2=\"0\" style=\"\"></line><g><line x1=\"384.57491079201384\" y1=\"0\" x2=\"384.57491079201384\" y2=\"-5\" style=\"\"></line><line x1=\"288.909510097483\" y1=\"0\" x2=\"288.909510097483\" y2=\"-5\" style=\"\"></line><line x1=\"193.24410940295218\" y1=\"0\" x2=\"193.24410940295218\" y2=\"-5\" style=\"\"></line><line x1=\"97.57870870842137\" y1=\"0\" x2=\"97.57870870842137\" y2=\"-5\" style=\"\"></line><line x1=\"1.913308013890562\" y1=\"0\" x2=\"1.913308013890562\" y2=\"-5\" style=\"\"></line></g><g><g transform=\"translate(384.57491079201384,6)\"><text x=\"-2.78\" y=\"8.555\" style=\"fill:rgb(16.1%,15.3%,14.1%);fill-opacity:1.0;font-family:helvetica;font-size:10.0px;font-weight:normal;stroke:none;vertical-align:baseline;white-space:pre\">0</text></g><g transform=\"translate(288.909510097483,6)\"><text x=\"-2.78\" y=\"8.555\" style=\"fill:rgb(16.1%,15.3%,14.1%);fill-opacity:1.0;font-family:helvetica;font-size:10.0px;font-weight:normal;stroke:none;vertical-align:baseline;white-space:pre\">2</text></g><g transform=\"translate(193.24410940295218,6)\"><text x=\"-2.78\" y=\"8.555\" style=\"fill:rgb(16.1%,15.3%,14.1%);fill-opacity:1.0;font-family:helvetica;font-size:10.0px;font-weight:normal;stroke:none;vertical-align:baseline;white-space:pre\">4</text></g><g transform=\"translate(97.57870870842137,6)\"><text x=\"-2.78\" y=\"8.555\" style=\"fill:rgb(16.1%,15.3%,14.1%);fill-opacity:1.0;font-family:helvetica;font-size:10.0px;font-weight:normal;stroke:none;vertical-align:baseline;white-space:pre\">6</text></g><g transform=\"translate(1.913308013890562,6)\"><text x=\"-2.78\" y=\"8.555\" style=\"fill:rgb(16.1%,15.3%,14.1%);fill-opacity:1.0;font-family:helvetica;font-size:10.0px;font-weight:normal;stroke:none;vertical-align:baseline;white-space:pre\">8</text></g></g><g class=\"toyplot-coordinates-Axis-coordinates\" style=\"visibility:hidden\" transform=\"\"><line x1=\"0\" x2=\"0\" y1=\"-3.0\" y2=\"4.5\" style=\"stroke:rgb(43.9%,50.2%,56.5%);stroke-opacity:1.0;stroke-width:1.0\"></line><text x=\"0\" y=\"-6\" style=\"alignment-baseline:alphabetic;fill:rgb(43.9%,50.2%,56.5%);fill-opacity:1.0;font-size:10px;font-weight:normal;stroke:none;text-anchor:middle\"></text></g></g></g><g class=\"toyplot-mark-Text\" id=\"t7c598c3d8f6d423681964f199df85a41\"><g class=\"toyplot-Series\"><g class=\"toyplot-Datum\" transform=\"translate(300.0,20.0)\"><text x=\"-63.120000000000005\" y=\"8.175999999999998\" style=\"fill:rgb(16.1%,15.3%,14.1%);fill-opacity:1.0;font-family:helvetica;font-size:32.0px;font-weight:normal;opacity:1;stroke:none;vertical-align:baseline;white-space:pre\">wgMLST</text></g></g></g></svg><div class=\"toyplot-behavior\"><script>(function()\n",
       "{\n",
       "var modules={};\n",
       "modules[\"toyplot/canvas/id\"] = \"td0a1a1d4196447ad9390038956e2b263\";\n",
       "modules[\"toyplot/canvas\"] = (function(canvas_id)\n",
       "    {\n",
       "        return document.querySelector(\"#\" + canvas_id);\n",
       "    })(modules[\"toyplot/canvas/id\"]);\n",
       "modules[\"toyplot.coordinates.Axis\"] = (\n",
       "        function(canvas)\n",
       "        {\n",
       "            function sign(x)\n",
       "            {\n",
       "                return x < 0 ? -1 : x > 0 ? 1 : 0;\n",
       "            }\n",
       "\n",
       "            function mix(a, b, amount)\n",
       "            {\n",
       "                return ((1.0 - amount) * a) + (amount * b);\n",
       "            }\n",
       "\n",
       "            function log(x, base)\n",
       "            {\n",
       "                return Math.log(Math.abs(x)) / Math.log(base);\n",
       "            }\n",
       "\n",
       "            function in_range(a, x, b)\n",
       "            {\n",
       "                var left = Math.min(a, b);\n",
       "                var right = Math.max(a, b);\n",
       "                return left <= x && x <= right;\n",
       "            }\n",
       "\n",
       "            function inside(range, projection)\n",
       "            {\n",
       "                for(var i = 0; i != projection.length; ++i)\n",
       "                {\n",
       "                    var segment = projection[i];\n",
       "                    if(in_range(segment.range.min, range, segment.range.max))\n",
       "                        return true;\n",
       "                }\n",
       "                return false;\n",
       "            }\n",
       "\n",
       "            function to_domain(range, projection)\n",
       "            {\n",
       "                for(var i = 0; i != projection.length; ++i)\n",
       "                {\n",
       "                    var segment = projection[i];\n",
       "                    if(in_range(segment.range.bounds.min, range, segment.range.bounds.max))\n",
       "                    {\n",
       "                        if(segment.scale == \"linear\")\n",
       "                        {\n",
       "                            var amount = (range - segment.range.min) / (segment.range.max - segment.range.min);\n",
       "                            return mix(segment.domain.min, segment.domain.max, amount)\n",
       "                        }\n",
       "                        else if(segment.scale[0] == \"log\")\n",
       "                        {\n",
       "                            var amount = (range - segment.range.min) / (segment.range.max - segment.range.min);\n",
       "                            var base = segment.scale[1];\n",
       "                            return sign(segment.domain.min) * Math.pow(base, mix(log(segment.domain.min, base), log(segment.domain.max, base), amount));\n",
       "                        }\n",
       "                    }\n",
       "                }\n",
       "            }\n",
       "\n",
       "            var axes = {};\n",
       "\n",
       "            function display_coordinates(e)\n",
       "            {\n",
       "                var current = canvas.createSVGPoint();\n",
       "                current.x = e.clientX;\n",
       "                current.y = e.clientY;\n",
       "\n",
       "                for(var axis_id in axes)\n",
       "                {\n",
       "                    var axis = document.querySelector(\"#\" + axis_id);\n",
       "                    var coordinates = axis.querySelector(\".toyplot-coordinates-Axis-coordinates\");\n",
       "                    if(coordinates)\n",
       "                    {\n",
       "                        var projection = axes[axis_id];\n",
       "                        var local = current.matrixTransform(axis.getScreenCTM().inverse());\n",
       "                        if(inside(local.x, projection))\n",
       "                        {\n",
       "                            var domain = to_domain(local.x, projection);\n",
       "                            coordinates.style.visibility = \"visible\";\n",
       "                            coordinates.setAttribute(\"transform\", \"translate(\" + local.x + \")\");\n",
       "                            var text = coordinates.querySelector(\"text\");\n",
       "                            text.textContent = domain.toFixed(2);\n",
       "                        }\n",
       "                        else\n",
       "                        {\n",
       "                            coordinates.style.visibility= \"hidden\";\n",
       "                        }\n",
       "                    }\n",
       "                }\n",
       "            }\n",
       "\n",
       "            canvas.addEventListener(\"click\", display_coordinates);\n",
       "\n",
       "            var module = {};\n",
       "            module.show_coordinates = function(axis_id, projection)\n",
       "            {\n",
       "                axes[axis_id] = projection;\n",
       "            }\n",
       "\n",
       "            return module;\n",
       "        })(modules[\"toyplot/canvas\"]);\n",
       "(function(axis, axis_id, projection)\n",
       "        {\n",
       "            axis.show_coordinates(axis_id, projection);\n",
       "        })(modules[\"toyplot.coordinates.Axis\"],\"t1ddec4c3bd6e41b0abc44bb49520c440\",[{\"domain\": {\"bounds\": {\"max\": Infinity, \"min\": -Infinity}, \"max\": 0.3238476779900006, \"min\": -8.074098645}, \"range\": {\"bounds\": {\"max\": Infinity, \"min\": -Infinity}, \"max\": 400.0, \"min\": 0.0}, \"scale\": \"linear\"}]);\n",
       "})();</script></div></div>"
      ]
     },
     "metadata": {},
     "output_type": "display_data"
    }
   ],
   "source": [
    "D = dist_matrix(simprofs)\n",
    "D.to_csv('dist_mlst.csv')\n",
    "treefile='mlst3.newick'\n",
    "tree_from_distmatrix(D, treefile)\n",
    "tremlst = toytree.tree(treefile)\n",
    "tremlst=tremlst.root('7')\n",
    "canvas,t,r=tremlst.draw(layout='r',scalebar=True,height=400,width=500,tip_labels_style={\"font-size\":\"19px\"})\n",
    "canvas.text(300, 20, \"wgMLST\", style={\"font-size\":\"32px\"});\n",
    "#toyplot.png.render(canvas, \"wgmlst_tree_sim.png\")"
   ]
  },
  {
   "cell_type": "code",
   "execution_count": 158,
   "id": "34b4feaa-4733-4fdf-b91e-1635e7587d8d",
   "metadata": {},
   "outputs": [
    {
     "data": {
      "image/png": "[encoded data removed]",
      "text/plain": [
       "<Figure size 1008x432 with 2 Axes>"
      ]
     },
     "metadata": {
      "needs_background": "light"
     },
     "output_type": "display_data"
    }
   ],
   "source": [
    "fig,ax=plt.subplots(1,2,figsize=(14,6))\n",
    "sns.heatmap(sd,annot=True,cbar=False,ax=ax[0])\n",
    "sns.heatmap(D,annot=True,cbar=False,ax=ax[1])\n",
    "ax[0].set_title('SNPs')\n",
    "ax[1].set_title('wgMLST')\n",
    "plt.savefig('sim_dist_heatmaps.png')"
   ]
  },
  {
   "cell_type": "code",
   "execution_count": 136,
   "id": "24e4e31b-87c0-4f89-a0e8-8de8e81ac12a",
   "metadata": {},
   "outputs": [],
   "source": [
    "import dendropy\n",
    "from dendropy.calculate import treecompare\n",
    "tns = dendropy.TaxonNamespace()\n",
    "reftree = dendropy.Tree.get(path='sim.newick', schema='newick',taxon_namespace=tns)\n",
    "tree1 = dendropy.Tree.get(path='mlst3.newick', schema='newick',taxon_namespace=tns)\n",
    "tree2 = dendropy.Tree.get(path='sim_results1/RAxML_bestTree.variants', schema='newick',taxon_namespace=tns)\n"
   ]
  },
  {
   "cell_type": "code",
   "execution_count": 138,
   "id": "e759c544-f5e4-4b89-90c0-3edad69d0059",
   "metadata": {},
   "outputs": [
    {
     "name": "stdout",
     "output_type": "stream",
     "text": [
      "4.898976053175999\n",
      "5.389472890360061\n"
     ]
    }
   ],
   "source": [
    "print(treecompare.euclidean_distance(reftree, tree1))\n",
    "print(treecompare.euclidean_distance(reftree, tree2))"
   ]
  },
  {
   "cell_type": "code",
   "execution_count": null,
   "id": "dd0b90ee-f8d6-4fb1-a02d-042927aba255",
   "metadata": {},
   "outputs": [],
   "source": []
  }
 ],
 "metadata": {
  "kernelspec": {
   "display_name": "Python 3",
   "language": "python",
   "name": "python3"
  },
  "language_info": {
   "codemirror_mode": {
    "name": "ipython",
    "version": 3
   },
   "file_extension": ".py",
   "mimetype": "text/x-python",
   "name": "python",
   "nbconvert_exporter": "python",
   "pygments_lexer": "ipython3",
   "version": "3.9.5"
  }
 },
 "nbformat": 4,
 "nbformat_minor": 5
}
