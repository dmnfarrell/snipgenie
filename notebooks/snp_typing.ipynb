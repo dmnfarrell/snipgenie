{
 "cells": [
  {
   "cell_type": "markdown",
   "metadata": {},
   "source": [
    "## SNP typing and lineage naming from WGS using reference population\n",
    "\n",
    "References:\n",
    "\n",
    "* https://www.frontiersin.org/articles/10.3389/fmicb.2020.00843/full\n",
    "* https://www.ncbi.nlm.nih.gov/pmc/articles/PMC3502966/\n",
    "\n",
    "Selection of reference population:\n",
    "\n",
    "* Global\n",
    "* European\n",
    "* UK/Ireland\n",
    "* All Ireland (republic + NI)\n",
    "\n",
    "required: \n",
    "\n",
    "* We need to be able to add new samples to the existing **reference** population phylogeny without having to re-analyse everything together.\n",
    "* We need to have a sufficiently sampled reference matrix that it will cover most potential new inputs. Otherwise they will be considered outgroups.\n",
    "\n",
    "Method: \n",
    "\n",
    "* add one or more samples to an existing population snp matrix - concatenate two sets of snps into one matrix by keeping only the polymorphic sites in the reference matrix. sites not present in the unknown samples are replaced with Ns\n",
    "* generate a new phylogeny from the combined snp matrix or just cluster them\n",
    "* find nearest neighbours and identify the unknown isolates with a known clade"
   ]
  },
  {
   "cell_type": "code",
   "execution_count": 449,
   "metadata": {},
   "outputs": [],
   "source": [
    "import sys,os\n",
    "import numpy as np\n",
    "import pandas as pd\n",
    "import pylab as plt\n",
    "import scipy.cluster.hierarchy as shc\n",
    "from sklearn.preprocessing import normalize\n",
    "from Bio.SeqRecord import SeqRecord\n",
    "from Bio.Seq import Seq\n",
    "from Bio import SeqIO,AlignIO\n",
    "from Bio import Phylo\n",
    "import seaborn as sns\n",
    "import toytree\n",
    "from snipgenie import app, trees, tools"
   ]
  },
  {
   "cell_type": "code",
   "execution_count": null,
   "metadata": {},
   "outputs": [],
   "source": [
    "def matrix_to_records(df):\n",
    "    \"\"\"Write nuc snp matrix to seqrecords\"\"\"\n",
    "    \n",
    "    recs=[]\n",
    "    for i,r in df.iterrows():\n",
    "        #print(i,r.values)\n",
    "        seq = ''.join(r.values)\n",
    "        seqrec = SeqRecord(Seq(seq),id=i)\n",
    "        recs.append(seqrec)\n",
    "        print (len(seqrec))\n",
    "    return\n",
    "\n",
    "def snps_to_fasta(snpmat, outfile):\n",
    "    \"\"\"Write snp matrix to fasta file\"\"\"\n",
    "    \n",
    "    snpmat = snpmat.fillna('N')\n",
    "    recs = []\n",
    "    for col in snpmat.columns[1:]:\n",
    "        seq = ''.join(snpmat[col])        \n",
    "        seqrec = SeqRecord(Seq(seq),id=col)\n",
    "        recs.append(seqrec)\n",
    "    SeqIO.write(recs, outfile, 'fasta')\n",
    "    return    \n",
    "\n",
    "def tree_from_snps(snpmat):\n",
    "    snps_to_fasta(snpmat, 'snps.fa') \n",
    "    treefile = trees.run_fasttree('snps.fa')\n",
    "    tre = toytree.tree(treefile)\n",
    "    mystyle = { \"layout\": 'r','node_sizes':1,'tip_labels_align':False}\n",
    "    tre.ladderize().draw(**mystyle,width=700);\n",
    "    return tre\n",
    "\n",
    "snps_to_fasta(snpmat, 'snps.fa')\n",
    "tree_from_snps(snpmat)"
   ]
  },
  {
   "cell_type": "markdown",
   "metadata": {},
   "source": [
    "## get snp matrices for ref population"
   ]
  },
  {
   "cell_type": "code",
   "execution_count": 436,
   "metadata": {},
   "outputs": [],
   "source": [
    "nucmat = pd.read_csv('../snipgenie/data/nuc_snps_ireland.txt',sep=' ')\n",
    "#\n",
    "csqmat = pd.read_csv('../snipgenie/data/snps_ireland.csv',index_col=[0,1,2,3,4])"
   ]
  },
  {
   "cell_type": "code",
   "execution_count": 438,
   "metadata": {},
   "outputs": [],
   "source": [
    "X=snpmat.set_index('pos').sample(250).sort_index()\n",
    "mapping = {\"A\": 1, \"T\": 2, \"C\": 3, \"G\": 4}\n",
    "X=X.replace(mapping)\n",
    "#sns.clustermap(X,row_cluster=False,yticklabels=False,figsize=(15,10))"
   ]
  },
  {
   "cell_type": "code",
   "execution_count": null,
   "metadata": {},
   "outputs": [],
   "source": [
    "X=csqmat\n",
    "print (X.iloc[:2,:3])\n",
    "sns.clustermap(X,xticklabels=False,figsize=(15,10),cmap='gray_r',cbar_pos=None)"
   ]
  },
  {
   "cell_type": "markdown",
   "metadata": {},
   "source": [
    "## combine sub sample of nucleotide snps with original matrix"
   ]
  },
  {
   "cell_type": "code",
   "execution_count": 430,
   "metadata": {},
   "outputs": [
    {
     "name": "stdout",
     "output_type": "stream",
     "text": [
      "        2606 19-6357 3090 2980 19-2786\n",
      "pos                                   \n",
      "687        T       T    C    C       C\n",
      "937        A       A    G    A       A\n",
      "1303       G       G    G    G       G\n",
      "1456       G       G    G    G       G\n",
      "1584       T       T    T    T       T\n",
      "...      ...     ...  ...  ...     ...\n",
      "3825991    G       G    G    G       G\n",
      "3827894    T       T    T    T       T\n",
      "3828728    G       G    A    A       G\n",
      "3830688    G       G    G    G       G\n",
      "3832251    G       G    G    G       G\n",
      "\n",
      "[1742 rows x 5 columns]\n"
     ]
    },
    {
     "data": {
      "text/plain": [
       "<toytree.Toytree.ToyTree at 0x7f0b30c5b070>"
      ]
     },
     "execution_count": 430,
     "metadata": {},
     "output_type": "execute_result"
    },
    {
     "data": {
      "text/html": [
       "<div class=\"toyplot\" id=\"tc9d6e3061b1b44b9b5224e52dcd144b2\" style=\"text-align:center\"><svg class=\"toyplot-canvas-Canvas\" xmlns:toyplot=\"http://www.sandia.gov/toyplot\" xmlns:xlink=\"http://www.w3.org/1999/xlink\" xmlns=\"http://www.w3.org/2000/svg\" width=\"700.0px\" height=\"275.0px\" viewBox=\"0 0 700.0 275.0\" preserveAspectRatio=\"xMidYMid meet\" style=\"background-color:transparent;border-color:#292724;border-style:none;border-width:1.0;fill:rgb(16.1%,15.3%,14.1%);fill-opacity:1.0;font-family:Helvetica;font-size:12px;opacity:1.0;stroke:rgb(16.1%,15.3%,14.1%);stroke-opacity:1.0;stroke-width:1.0\" id=\"t5cc01d39c6e94ec0aaa947bb81cb77ed\"><g class=\"toyplot-coordinates-Cartesian\" id=\"t8e37cc5118624bcf8b1135d2a178f15f\"><clipPath id=\"ta5e1889e89334f53b0d579b164f6030a\"><rect x=\"30.0\" y=\"30.0\" width=\"640.0\" height=\"215.0\"></rect></clipPath><g clip-path=\"url(#ta5e1889e89334f53b0d579b164f6030a)\"><g class=\"toytree-mark-Toytree\" id=\"t448f6099b7814f2fb8e5ac2d322a9408\"><g class=\"toytree-Edges\" style=\"fill:none;stroke:rgb(14.9%,14.9%,14.9%);stroke-linecap:round;stroke-opacity:1;stroke-width:2\"><path d=\"M 50.9 120.5 L 50.9 188.5 L 543.1 188.5\" id=\"5,4\"></path><path d=\"M 50.9 120.5 L 50.9 61.0 L 114.8 61.0\" id=\"5,3\"></path><path d=\"M 50.9 120.5 L 50.9 112.0 L 110.2 112.0\" id=\"5,2\"></path><path d=\"M 543.1 188.5 L 543.1 163.0 L 581.8 163.0\" id=\"4,1\"></path><path d=\"M 543.1 188.5 L 543.1 214.0 L 559.3 214.0\" id=\"4,0\"></path></g><g class=\"toytree-Nodes\" style=\"fill:rgb(40%,76.1%,64.7%);fill-opacity:1.0;stroke:None;stroke-width:1\"><g id=\"node-0\" transform=\"translate(559.338,213.986)\"><circle r=\"0.5\"></circle></g><g id=\"node-1\" transform=\"translate(581.820,162.995)\"><circle r=\"0.5\"></circle></g><g id=\"node-2\" transform=\"translate(110.235,112.005)\"><circle r=\"0.5\"></circle></g><g id=\"node-3\" transform=\"translate(114.775,61.014)\"><circle r=\"0.5\"></circle></g><g id=\"node-4\" transform=\"translate(543.121,188.491)\"><circle r=\"0.5\"></circle></g><g id=\"node-5\" transform=\"translate(50.885,120.503)\"><circle r=\"0.5\"></circle></g></g><g class=\"toytree-TipLabels\" style=\"fill:rgb(14.9%,14.9%,14.9%);fill-opacity:1.0;font-family:helvetica;font-size:11px;font-weight:normal;stroke:none;white-space:pre\"><g transform=\"translate(559.34,213.99)rotate(0)\"><text x=\"15.00\" y=\"2.81\" style=\"\">19-2786</text></g><g transform=\"translate(581.82,163.00)rotate(0)\"><text x=\"15.00\" y=\"2.81\" style=\"\">19-6357</text></g><g transform=\"translate(110.23,112.00)rotate(0)\"><text x=\"15.00\" y=\"2.81\" style=\"\">2980</text></g><g transform=\"translate(114.78,61.01)rotate(0)\"><text x=\"15.00\" y=\"2.81\" style=\"\">3090</text></g></g></g></g></g></svg><div class=\"toyplot-behavior\"><script>(function()\n",
       "{\n",
       "var modules={};\n",
       "})();</script></div></div>"
      ]
     },
     "metadata": {},
     "output_type": "display_data"
    }
   ],
   "source": [
    "X = nucmat.set_index('pos').sort_index()\n",
    "X\n",
    "m1 = X.sample(50,axis=1,random_state=2)\n",
    "m1 = m1[2:]\n",
    "m2 = X.sample(5,axis=1,random_state=5)\n",
    "m2 = m2[:-4]\n",
    "print (m2)\n",
    "    \n",
    "tree_from_snps(m2)"
   ]
  },
  {
   "cell_type": "code",
   "execution_count": null,
   "metadata": {},
   "outputs": [],
   "source": [
    "new = m1.join(m2).fillna('N')\n",
    "new\n",
    "tree_from_snps(new)"
   ]
  },
  {
   "cell_type": "markdown",
   "metadata": {},
   "source": [
    "## distance matrix for joined nuc alignment"
   ]
  },
  {
   "cell_type": "code",
   "execution_count": 441,
   "metadata": {},
   "outputs": [
    {
     "name": "stderr",
     "output_type": "stream",
     "text": [
      "/usr/local/lib/python3.8/dist-packages/seaborn/matrix.py:619: ClusterWarning: scipy.cluster: The symmetric non-negative hollow observation matrix looks suspiciously like an uncondensed distance matrix\n",
      "  linkage = hierarchy.linkage(self.array, method=self.method,\n"
     ]
    },
    {
     "data": {
      "text/plain": [
       "<seaborn.matrix.ClusterGrid at 0x7f0af55f6970>"
      ]
     },
     "execution_count": 441,
     "metadata": {},
     "output_type": "execute_result"
    },
    {
     "data": {
      "image/png": "[encoded data removed]",
      "text/plain": [
       "<Figure size 720x720 with 4 Axes>"
      ]
     },
     "metadata": {
      "needs_background": "light"
     },
     "output_type": "display_data"
    }
   ],
   "source": [
    "#print (m2)\n",
    "\n",
    "outfasta='snps.fa'\n",
    "snps_to_fasta(new, outfasta)\n",
    "#SeqIO.write(snprecs, 'snps.fasta', 'fasta')\n",
    "aln = AlignIO.read(outfasta, 'fasta')\n",
    "#print (aln)\n",
    "snp_dist = tools.snp_dist_matrix(aln)\n",
    "sns.clustermap(snp_dist,figsize=(10,10))"
   ]
  },
  {
   "cell_type": "markdown",
   "metadata": {},
   "source": [
    "## find nearest isolate"
   ]
  },
  {
   "cell_type": "code",
   "execution_count": 442,
   "metadata": {},
   "outputs": [
    {
     "data": {
      "text/html": [
       "<div>\n",
       "<style scoped>\n",
       "    .dataframe tbody tr th:only-of-type {\n",
       "        vertical-align: middle;\n",
       "    }\n",
       "\n",
       "    .dataframe tbody tr th {\n",
       "        vertical-align: top;\n",
       "    }\n",
       "\n",
       "    .dataframe thead th {\n",
       "        text-align: right;\n",
       "    }\n",
       "</style>\n",
       "<table border=\"1\" class=\"dataframe\">\n",
       "  <thead>\n",
       "    <tr style=\"text-align: right;\">\n",
       "      <th></th>\n",
       "      <th>name</th>\n",
       "      <th>dist</th>\n",
       "    </tr>\n",
       "  </thead>\n",
       "  <tbody>\n",
       "    <tr>\n",
       "      <th>0</th>\n",
       "      <td>1143</td>\n",
       "      <td>5</td>\n",
       "    </tr>\n",
       "    <tr>\n",
       "      <th>1</th>\n",
       "      <td>19-6317</td>\n",
       "      <td>6</td>\n",
       "    </tr>\n",
       "    <tr>\n",
       "      <th>2</th>\n",
       "      <td>19-8206</td>\n",
       "      <td>7</td>\n",
       "    </tr>\n",
       "  </tbody>\n",
       "</table>\n",
       "</div>"
      ],
      "text/plain": [
       "      name  dist\n",
       "0     1143     5\n",
       "1  19-6317     6\n",
       "2  19-8206     7"
      ]
     },
     "execution_count": 442,
     "metadata": {},
     "output_type": "execute_result"
    }
   ],
   "source": [
    "def get_nearest_neighbours(X, name, n=3):\n",
    "    \"\"\"Get nearest samples in reference matrix\"\"\"\n",
    "       \n",
    "    r = X.loc[name].drop(name)    \n",
    "    #print (r[r<d].index)\n",
    "    df=r.sort_values()[:n].reset_index()\n",
    "    df.columns=['name','dist']\n",
    "    return df\n",
    "\n",
    "n = get_nearest_neighbours(snp_dist, '19-2786')\n",
    "n"
   ]
  },
  {
   "cell_type": "markdown",
   "metadata": {},
   "source": [
    "## lookup sample"
   ]
  },
  {
   "cell_type": "code",
   "execution_count": 481,
   "metadata": {},
   "outputs": [
    {
     "name": "stdout",
     "output_type": "stream",
     "text": [
      "1143 Monaghan-3\n",
      "19-6317 Monaghan-3\n",
      "19-8206 Monaghan-3\n"
     ]
    }
   ],
   "source": [
    "def get_sample_details(name):\n",
    "    \"\"\"Lookup sample in reference matrix\"\"\"\n",
    "    \n",
    "    X = csqmat.reset_index()\n",
    "    r = X[X.name==name]\n",
    "    if len(r)==0:\n",
    "        return\n",
    "    return r.iloc[0]\n",
    "\n",
    "for i,r in n.iterrows():\n",
    "    x = get_sample_details(r['name'])\n",
    "    print (x['name'],x.clade)"
   ]
  },
  {
   "cell_type": "code",
   "execution_count": 484,
   "metadata": {},
   "outputs": [],
   "source": [
    "def snp_typing(snpmat, refmat=None):\n",
    "    \"\"\"Type samples using known population\"\"\"\n",
    "\n",
    "    if refmat == None:   \n",
    "        refmat = pd.read_csv('../snipgenie/data/nuc_snps_ireland.txt',sep=' ')\n",
    "    X = refmat.set_index('pos').sort_index()\n",
    "    \n",
    "    #join matrix\n",
    "    try:\n",
    "        new = refmat.join(snpmat).fillna('N')\n",
    "    except ValueError:\n",
    "        print ('columns overlap')\n",
    "        return\n",
    "    \n",
    "    outfasta='snps.fa'\n",
    "    snps_to_fasta(new, outfasta)\n",
    "    #SeqIO.write(snprecs, 'snps.fasta', 'fasta')\n",
    "    aln = AlignIO.read(outfasta, 'fasta')\n",
    "    #print (aln)\n",
    "    snp_dist = tools.snp_dist_matrix(aln)\n",
    "    \n",
    "    #get nearest isolates\n",
    "    n = get_nearest_neighbours(snp_dist, '19-2786')    \n",
    "    for i,r in n.iterrows():\n",
    "        x = get_sample_details(r['name'])\n",
    "        print (x['name'],x.clade)\n",
    "    return\n"
   ]
  },
  {
   "cell_type": "markdown",
   "metadata": {},
   "source": [
    "## test typing workflow"
   ]
  },
  {
   "cell_type": "code",
   "execution_count": 483,
   "metadata": {},
   "outputs": [
    {
     "name": "stdout",
     "output_type": "stream",
     "text": [
      "columns overlap\n"
     ]
    }
   ],
   "source": [
    "snp_typing(m2)"
   ]
  },
  {
   "cell_type": "code",
   "execution_count": null,
   "metadata": {},
   "outputs": [],
   "source": []
  }
 ],
 "metadata": {
  "kernelspec": {
   "display_name": "Python 3",
   "language": "python",
   "name": "python3"
  },
  "language_info": {
   "codemirror_mode": {
    "name": "ipython",
    "version": 3
   },
   "file_extension": ".py",
   "mimetype": "text/x-python",
   "name": "python",
   "nbconvert_exporter": "python",
   "pygments_lexer": "ipython3",
   "version": "3.8.6"
  }
 },
 "nbformat": 4,
 "nbformat_minor": 4
}
