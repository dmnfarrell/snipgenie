{
 "cells": [
  {
   "cell_type": "markdown",
   "id": "06aee665-5b55-423c-afb6-5e519e52fd09",
   "metadata": {},
   "source": [
    "## pyvolve"
   ]
  },
  {
   "cell_type": "code",
   "execution_count": 27,
   "id": "f1afebe9-c807-44d5-921f-4cfb2114cae4",
   "metadata": {},
   "outputs": [],
   "source": [
    "import sys,os,shutil,subprocess\n",
    "import glob\n",
    "from importlib import reload\n",
    "import numpy as np\n",
    "import pandas as pd\n",
    "\n",
    "import pyvolve\n",
    "import toytree"
   ]
  },
  {
   "cell_type": "code",
   "execution_count": 43,
   "id": "b05b6773-32ff-4c3e-8a73-1534f5e5146e",
   "metadata": {},
   "outputs": [
    {
     "data": {
      "text/html": [
       "<div class=\"toyplot\" id=\"t99daca9687204227aecc8c6da20adc8b\" style=\"text-align:center\"><svg class=\"toyplot-canvas-Canvas\" xmlns:toyplot=\"http://www.sandia.gov/toyplot\" xmlns:xlink=\"http://www.w3.org/1999/xlink\" xmlns=\"http://www.w3.org/2000/svg\" width=\"500.0px\" height=\"400.0px\" viewBox=\"0 0 500.0 400.0\" preserveAspectRatio=\"xMidYMid meet\" style=\"background-color:transparent;border-color:#292724;border-style:none;border-width:1.0;fill:rgb(16.1%,15.3%,14.1%);fill-opacity:1.0;font-family:Helvetica;font-size:12px;opacity:1.0;stroke:rgb(16.1%,15.3%,14.1%);stroke-opacity:1.0;stroke-width:1.0\" id=\"t19714e57e0bb4f55a6893849a2030bd1\"><g class=\"toyplot-coordinates-Cartesian\" id=\"t09e5c842f9ab4a6fa4b1952a561bc318\"><clipPath id=\"t1ef0ab4fc66d4815abeed5705bbb9448\"><rect x=\"30.0\" y=\"30.0\" width=\"440.0\" height=\"340.0\"></rect></clipPath><g clip-path=\"url(#t1ef0ab4fc66d4815abeed5705bbb9448)\"><g class=\"toytree-mark-Toytree\" id=\"tb357fbfa6696442dbee09547eb7c82ad\"><g class=\"toytree-Edges\" style=\"fill:none;stroke:rgb(14.9%,14.9%,14.9%);stroke-linecap:round;stroke-opacity:1;stroke-width:2\"><path d=\"M 51.9 113.9 L 51.9 179.0 L 65.7 179.0\" id=\"13,12\"></path><path d=\"M 65.7 179.0 L 65.7 217.3 L 94.8 217.3\" id=\"12,11\"></path><path d=\"M 94.8 217.3 L 94.8 254.4 L 201.4 254.4\" id=\"11,10\"></path><path d=\"M 201.4 254.4 L 201.4 289.0 L 249.2 289.0\" id=\"10,9\"></path><path d=\"M 249.2 289.0 L 249.2 318.6 L 261.2 318.6\" id=\"9,8\"></path><path d=\"M 51.9 113.9 L 51.9 61.6 L 110.1 61.6\" id=\"13,7\"></path><path d=\"M 51.9 113.9 L 51.9 101.2 L 140.7 101.2\" id=\"13,6\"></path><path d=\"M 65.7 179.0 L 65.7 140.7 L 214.5 140.7\" id=\"12,5\"></path><path d=\"M 94.8 217.3 L 94.8 180.2 L 148.0 180.2\" id=\"11,4\"></path><path d=\"M 201.4 254.4 L 201.4 219.8 L 259.5 219.8\" id=\"10,3\"></path><path d=\"M 249.2 289.0 L 249.2 259.3 L 437.6 259.3\" id=\"9,2\"></path><path d=\"M 261.2 318.6 L 261.2 298.8 L 309.5 298.8\" id=\"8,1\"></path><path d=\"M 261.2 318.6 L 261.2 338.4 L 284.2 338.4\" id=\"8,0\"></path></g><g class=\"toytree-TipLabels\" style=\"fill:rgb(14.9%,14.9%,14.9%);fill-opacity:1.0;font-family:helvetica;font-size:11px;font-weight:normal;stroke:none;white-space:pre\"><g transform=\"translate(284.24,338.38)rotate(0)\"><text x=\"15.00\" y=\"2.81\" style=\"\">D</text></g><g transform=\"translate(309.48,298.84)rotate(0)\"><text x=\"15.00\" y=\"2.81\" style=\"\">E</text></g><g transform=\"translate(437.63,259.30)rotate(0)\"><text x=\"15.00\" y=\"2.81\" style=\"\">F</text></g><g transform=\"translate(259.49,219.77)rotate(0)\"><text x=\"15.00\" y=\"2.81\" style=\"\">A</text></g><g transform=\"translate(147.98,180.23)rotate(0)\"><text x=\"15.00\" y=\"2.81\" style=\"\">B</text></g><g transform=\"translate(214.53,140.70)rotate(0)\"><text x=\"15.00\" y=\"2.81\" style=\"\">G</text></g><g transform=\"translate(140.75,101.16)rotate(0)\"><text x=\"15.00\" y=\"2.81\" style=\"\">H</text></g><g transform=\"translate(110.12,61.62)rotate(0)\"><text x=\"15.00\" y=\"2.81\" style=\"\">C</text></g></g></g></g><g class=\"toyplot-coordinates-Axis\" id=\"t8d7dc25b1e8e4bc4aa46ba7b31cd81bc\" transform=\"translate(50.0,350.0)translate(0,20.0)\"><line x1=\"1.9284961827828142\" y1=\"0\" x2=\"387.62773273935653\" y2=\"0\" style=\"\"></line><g><line x1=\"387.62773273935653\" y1=\"0\" x2=\"387.62773273935653\" y2=\"-5\" style=\"\"></line><line x1=\"291.20292360021307\" y1=\"0\" x2=\"291.20292360021307\" y2=\"-5\" style=\"\"></line><line x1=\"194.77811446106966\" y1=\"0\" x2=\"194.77811446106966\" y2=\"-5\" style=\"\"></line><line x1=\"98.35330532192626\" y1=\"0\" x2=\"98.35330532192626\" y2=\"-5\" style=\"\"></line><line x1=\"1.9284961827828142\" y1=\"0\" x2=\"1.9284961827828142\" y2=\"-5\" style=\"\"></line></g><g><g transform=\"translate(387.62773273935653,6)\"><text x=\"-2.78\" y=\"8.555\" style=\"fill:rgb(16.1%,15.3%,14.1%);fill-opacity:1.0;font-family:helvetica;font-size:10.0px;font-weight:normal;stroke:none;vertical-align:baseline;white-space:pre\">0</text></g><g transform=\"translate(291.20292360021307,6)\"><text x=\"-5.56\" y=\"8.555\" style=\"fill:rgb(16.1%,15.3%,14.1%);fill-opacity:1.0;font-family:helvetica;font-size:10.0px;font-weight:normal;stroke:none;vertical-align:baseline;white-space:pre\">22</text></g><g transform=\"translate(194.77811446106966,6)\"><text x=\"-5.56\" y=\"8.555\" style=\"fill:rgb(16.1%,15.3%,14.1%);fill-opacity:1.0;font-family:helvetica;font-size:10.0px;font-weight:normal;stroke:none;vertical-align:baseline;white-space:pre\">43</text></g><g transform=\"translate(98.35330532192626,6)\"><text x=\"-5.56\" y=\"8.555\" style=\"fill:rgb(16.1%,15.3%,14.1%);fill-opacity:1.0;font-family:helvetica;font-size:10.0px;font-weight:normal;stroke:none;vertical-align:baseline;white-space:pre\">65</text></g><g transform=\"translate(1.9284961827828142,6)\"><text x=\"-5.56\" y=\"8.555\" style=\"fill:rgb(16.1%,15.3%,14.1%);fill-opacity:1.0;font-family:helvetica;font-size:10.0px;font-weight:normal;stroke:none;vertical-align:baseline;white-space:pre\">87</text></g></g><g class=\"toyplot-coordinates-Axis-coordinates\" style=\"visibility:hidden\" transform=\"\"><line x1=\"0\" x2=\"0\" y1=\"-3.0\" y2=\"4.5\" style=\"stroke:rgb(43.9%,50.2%,56.5%);stroke-opacity:1.0;stroke-width:1.0\"></line><text x=\"0\" y=\"-6\" style=\"alignment-baseline:alphabetic;fill:rgb(43.9%,50.2%,56.5%);fill-opacity:1.0;font-size:10px;font-weight:normal;stroke:none;text-anchor:middle\"></text></g></g></g></svg><div class=\"toyplot-behavior\"><script>(function()\n",
       "{\n",
       "var modules={};\n",
       "modules[\"toyplot/canvas/id\"] = \"t19714e57e0bb4f55a6893849a2030bd1\";\n",
       "modules[\"toyplot/canvas\"] = (function(canvas_id)\n",
       "    {\n",
       "        return document.querySelector(\"#\" + canvas_id);\n",
       "    })(modules[\"toyplot/canvas/id\"]);\n",
       "modules[\"toyplot.coordinates.Axis\"] = (\n",
       "        function(canvas)\n",
       "        {\n",
       "            function sign(x)\n",
       "            {\n",
       "                return x < 0 ? -1 : x > 0 ? 1 : 0;\n",
       "            }\n",
       "\n",
       "            function mix(a, b, amount)\n",
       "            {\n",
       "                return ((1.0 - amount) * a) + (amount * b);\n",
       "            }\n",
       "\n",
       "            function log(x, base)\n",
       "            {\n",
       "                return Math.log(Math.abs(x)) / Math.log(base);\n",
       "            }\n",
       "\n",
       "            function in_range(a, x, b)\n",
       "            {\n",
       "                var left = Math.min(a, b);\n",
       "                var right = Math.max(a, b);\n",
       "                return left <= x && x <= right;\n",
       "            }\n",
       "\n",
       "            function inside(range, projection)\n",
       "            {\n",
       "                for(var i = 0; i != projection.length; ++i)\n",
       "                {\n",
       "                    var segment = projection[i];\n",
       "                    if(in_range(segment.range.min, range, segment.range.max))\n",
       "                        return true;\n",
       "                }\n",
       "                return false;\n",
       "            }\n",
       "\n",
       "            function to_domain(range, projection)\n",
       "            {\n",
       "                for(var i = 0; i != projection.length; ++i)\n",
       "                {\n",
       "                    var segment = projection[i];\n",
       "                    if(in_range(segment.range.bounds.min, range, segment.range.bounds.max))\n",
       "                    {\n",
       "                        if(segment.scale == \"linear\")\n",
       "                        {\n",
       "                            var amount = (range - segment.range.min) / (segment.range.max - segment.range.min);\n",
       "                            return mix(segment.domain.min, segment.domain.max, amount)\n",
       "                        }\n",
       "                        else if(segment.scale[0] == \"log\")\n",
       "                        {\n",
       "                            var amount = (range - segment.range.min) / (segment.range.max - segment.range.min);\n",
       "                            var base = segment.scale[1];\n",
       "                            return sign(segment.domain.min) * Math.pow(base, mix(log(segment.domain.min, base), log(segment.domain.max, base), amount));\n",
       "                        }\n",
       "                    }\n",
       "                }\n",
       "            }\n",
       "\n",
       "            var axes = {};\n",
       "\n",
       "            function display_coordinates(e)\n",
       "            {\n",
       "                var current = canvas.createSVGPoint();\n",
       "                current.x = e.clientX;\n",
       "                current.y = e.clientY;\n",
       "\n",
       "                for(var axis_id in axes)\n",
       "                {\n",
       "                    var axis = document.querySelector(\"#\" + axis_id);\n",
       "                    var coordinates = axis.querySelector(\".toyplot-coordinates-Axis-coordinates\");\n",
       "                    if(coordinates)\n",
       "                    {\n",
       "                        var projection = axes[axis_id];\n",
       "                        var local = current.matrixTransform(axis.getScreenCTM().inverse());\n",
       "                        if(inside(local.x, projection))\n",
       "                        {\n",
       "                            var domain = to_domain(local.x, projection);\n",
       "                            coordinates.style.visibility = \"visible\";\n",
       "                            coordinates.setAttribute(\"transform\", \"translate(\" + local.x + \")\");\n",
       "                            var text = coordinates.querySelector(\"text\");\n",
       "                            text.textContent = domain.toFixed(2);\n",
       "                        }\n",
       "                        else\n",
       "                        {\n",
       "                            coordinates.style.visibility= \"hidden\";\n",
       "                        }\n",
       "                    }\n",
       "                }\n",
       "            }\n",
       "\n",
       "            canvas.addEventListener(\"click\", display_coordinates);\n",
       "\n",
       "            var module = {};\n",
       "            module.show_coordinates = function(axis_id, projection)\n",
       "            {\n",
       "                axes[axis_id] = projection;\n",
       "            }\n",
       "\n",
       "            return module;\n",
       "        })(modules[\"toyplot/canvas\"]);\n",
       "(function(axis, axis_id, projection)\n",
       "        {\n",
       "            axis.show_coordinates(axis_id, projection);\n",
       "        })(modules[\"toyplot.coordinates.Axis\"],\"t8d7dc25b1e8e4bc4aa46ba7b31cd81bc\",[{\"domain\": {\"bounds\": {\"max\": Infinity, \"min\": -Infinity}, \"max\": 2.777310046874998, \"min\": -87.01415624999998}, \"range\": {\"bounds\": {\"max\": Infinity, \"min\": -Infinity}, \"max\": 400.0, \"min\": 0.0}, \"scale\": \"linear\"}]);\n",
       "})();</script></div></div>"
      ]
     },
     "metadata": {},
     "output_type": "display_data"
    }
   ],
   "source": [
    "treestr=\"(t4:0.785,(t3:0.380,(t2:0.806,(t5:0.612,t1:0.660):0.762):0.921):0.207);\"\n",
    "#tree = pyvolve.read_tree(tree = treestr)\n",
    "tree = pyvolve.read_tree(file='sim.newick')\n",
    "tre = toytree.tree('sim.newick')\n",
    "canvas,t,r=tre.draw(layout='r',scalebar=True,height=400,width=500)"
   ]
  },
  {
   "cell_type": "code",
   "execution_count": 37,
   "id": "c00e9733-4bd6-4bd0-ad39-c2963dfd5dbe",
   "metadata": {},
   "outputs": [],
   "source": [
    "model=pyvolve.Model(\"nucleotide\")\n",
    "partition=pyvolve.Partition(models=model, size=20)#, root_seqeuence=\"GAATCCGTAC\")\n",
    "ev = pyvolve.Evolver(partitions=partition,tree=tree)"
   ]
  },
  {
   "cell_type": "code",
   "execution_count": 38,
   "id": "b6b00ba3-1cb6-47b7-ad72-990532fd7346",
   "metadata": {},
   "outputs": [
    {
     "data": {
      "text/plain": [
       "{'t4': 'TTGTCCTCTGAAATTGTGAG',\n",
       " 't3': 'TTTCCCCCACAAATACGTCC',\n",
       " 't2': 'ATATTGAAATTTGCTAACAC',\n",
       " 't5': 'AACTTACGTGACATGCCCGA',\n",
       " 't1': 'GTGTTAGGAGGTGACTCCGA'}"
      ]
     },
     "execution_count": 38,
     "metadata": {},
     "output_type": "execute_result"
    }
   ],
   "source": [
    "ev()\n",
    "ev.get_sequences()"
   ]
  },
  {
   "cell_type": "code",
   "execution_count": null,
   "id": "7b7f3783-4f2f-45ba-b44a-d1596eca508c",
   "metadata": {},
   "outputs": [],
   "source": []
  }
 ],
 "metadata": {
  "kernelspec": {
   "display_name": "Python 3",
   "language": "python",
   "name": "python3"
  },
  "language_info": {
   "codemirror_mode": {
    "name": "ipython",
    "version": 3
   },
   "file_extension": ".py",
   "mimetype": "text/x-python",
   "name": "python",
   "nbconvert_exporter": "python",
   "pygments_lexer": "ipython3",
   "version": "3.9.4"
  }
 },
 "nbformat": 4,
 "nbformat_minor": 5
}
