{
 "cells": [
  {
   "cell_type": "markdown",
   "id": "097a5efa-3837-48c6-a8ea-309d58ba6fd6",
   "metadata": {},
   "source": [
    "## wgMLST for mbovis\n",
    "\n",
    "* http://www3.ridom.de/seqsphere/cgmlst/\n",
    "* https://www.cgmlst.org/ncs/schema/741110/\n",
    "* https://jcm.asm.org/content/52/7/2479\n",
    "* https://www.biorxiv.org/content/10.1101/172858v1.full\n",
    "* https://www.ncbi.nlm.nih.gov/pmc/articles/PMC3980634/"
   ]
  },
  {
   "cell_type": "markdown",
   "id": "3b554e75-17e5-4a8f-ab03-e93150bcc94e",
   "metadata": {},
   "source": [
    "## steps\n",
    "\n",
    "* get MLST gene list\n",
    "* assembly\n",
    "* annotate\n",
    "* assign allele numbers?"
   ]
  },
  {
   "cell_type": "code",
   "execution_count": 48,
   "id": "5fbe56cd-85be-425d-a949-8d7b709d4acc",
   "metadata": {},
   "outputs": [],
   "source": [
    "import sys,os,shutil,subprocess\n",
    "import glob\n",
    "from importlib import reload\n",
    "import numpy as np\n",
    "import pandas as pd\n",
    "pd.set_option('display.width', 200)\n",
    "pd.set_option('display.max_colwidth', 150)\n",
    "import pylab as plt\n",
    "import seaborn as sns\n",
    "from Bio import SeqIO\n",
    "from Bio.SeqRecord import SeqRecord\n",
    "from io import StringIO\n",
    "import snipgenie as snpg\n",
    "import pathogenie as pg\n",
    "import toytree"
   ]
  },
  {
   "cell_type": "code",
   "execution_count": 807,
   "id": "a9158dab-3bba-4414-bad1-59c5f0856117",
   "metadata": {},
   "outputs": [],
   "source": [
    "meta = pd.read_csv('/storage/btbgenie/mbovis_ireland/all_ireland_samples.csv')\n",
    "vcf_file='/storage/btbgenie/wicklow_results/snps.vcf.gz'"
   ]
  },
  {
   "cell_type": "code",
   "execution_count": null,
   "id": "3bc7763a-0ca8-4267-9f1d-60755c13b101",
   "metadata": {},
   "outputs": [],
   "source": [
    "def get_samples_vcf(vcf_file):\n",
    "    cmd = 'bcftools query -l %s' %vcf_file\n",
    "    tmp = subprocess.check_output(cmd, shell=True)\n",
    "    return tmp.decode().split('\\n')\n",
    "    \n",
    "samplenames = get_samples_vcf(vcf_file)\n",
    "samplenames"
   ]
  },
  {
   "cell_type": "code",
   "execution_count": 802,
   "id": "f630368c-1859-4574-84dd-8a545f5e17b5",
   "metadata": {},
   "outputs": [
    {
     "name": "stdout",
     "output_type": "stream",
     "text": [
      "pair    sample                                                                                             1  \\\n",
      "0         1034                  /storage/btbgenie/mbovis_ireland/Wicklow/dog/1034_S91_L001-4_R2_001.fastq.gz   \n",
      "1     13-11594  /storage/btbgenie/mbovis_ireland/Wicklow/Fastqs_15-03-19/13-11594_S85_L001-4_R1_001.fastq.gz   \n",
      "\n",
      "pair                                                                                             2  \n",
      "0                     /storage/btbgenie/mbovis_ireland/Wicklow/dog/1034_S91_L001-4_R1_001.fastq.gz  \n",
      "1     /storage/btbgenie/mbovis_ireland/Wicklow/Fastqs_15-03-19/13-11594_S85_L001-4_R2_001.fastq.gz  \n"
     ]
    }
   ],
   "source": [
    "path = '/storage/btbgenie/mbovis_ireland/Wicklow/'\n",
    "files = glob.glob(os.path.join(path,'**', '*.fastq.gz'),recursive=True)\n",
    "samp = snpg.app.get_samples(files,sep='_')\n",
    "pairs = pd.pivot_table(samp,index=['sample'],columns=['pair'],values='filename',aggfunc='first').reset_index()\n",
    "print (pairs[:2])"
   ]
  },
  {
   "cell_type": "markdown",
   "id": "1200e6a5-624b-44ff-a8e5-4436b362b548",
   "metadata": {},
   "source": [
    "## create reference proteins for MLST"
   ]
  },
  {
   "cell_type": "code",
   "execution_count": null,
   "id": "7c6c41ff-b137-40ef-b26d-fa40e236835c",
   "metadata": {},
   "outputs": [],
   "source": [
    "prots = pg.tools.genbank_to_dataframe('Mbovis-AF212297.2.gb',cds=True)\n",
    "prots = prots.fillna('')\n",
    "prots = prots.dropna(subset=['locus_tag'])\n",
    "ref_proteins = 'Mbovis_AF212297_proteins.fa'\n",
    "#get prokka type header for using in annotation\n",
    "prots['header'] = prots.apply(lambda x: '~~~'.join([x.locus_tag,x.gene,x['product'],'none']),1)\n",
    "pg.tools.dataframe_to_fasta(prots,idkey='header',outfile=ref_proteins)\n",
    "print (len(prots))"
   ]
  },
  {
   "cell_type": "code",
   "execution_count": 743,
   "id": "0c949c63-24d7-481a-b145-ca33f18595b4",
   "metadata": {},
   "outputs": [],
   "source": [
    "def get_nucleotide_sequences(gb_file,out_file,idkey='locus_tag'):\n",
    "    \"\"\"protein nucleotide seqs from genbank\"\"\"\n",
    "    \n",
    "    recs = SeqIO.to_dict(SeqIO.parse(gb_file,'genbank'))\n",
    "    chroms = list(recs.keys())\n",
    "    result = []\n",
    "    for chrom in chroms:       \n",
    "        rec = recs[chrom]        \n",
    "        for f in rec.features[1:]:\n",
    "            q=f.qualifiers\n",
    "            if f.type != 'CDS':\n",
    "                continue\n",
    "            seq = rec.seq[f.location.start:f.location.end]\n",
    "            try:\n",
    "                new = SeqRecord(seq,id=q[idkey][0])                \n",
    "                result.append(new)\n",
    "            except:\n",
    "                #print (q)\n",
    "                pass\n",
    "    SeqIO.write(result,out_file,format='fasta')\n",
    "    return result\n",
    "\n",
    "res=get_nucleotide_sequences('temp.gb','temp.fa',idkey='protein_id')"
   ]
  },
  {
   "cell_type": "markdown",
   "id": "1df61561-684c-418a-980c-2c62299a216a",
   "metadata": {},
   "source": [
    "## assembly"
   ]
  },
  {
   "cell_type": "code",
   "execution_count": null,
   "id": "09ca0cce-bad8-40a0-81bd-f93f8a39518f",
   "metadata": {},
   "outputs": [],
   "source": [
    "def spades(file1, file2, path, outfile=None, threads=4):\n",
    "    \"\"\"Run spades\"\"\"\n",
    "    \n",
    "    cmd = 'spades -t %s --pe1-1 %s --pe1-2 %s --careful -o %s' %(threads,file1,file2,path)    \n",
    "    if not os.path.exists(path): \n",
    "        print (cmd)\n",
    "        subprocess.check_output(cmd, shell=True)\n",
    "    if outfile != None:\n",
    "        shutil.copy(os.path.join(path,'scaffolds.fasta'),outfile)\n",
    "    return outfile\n",
    "\n",
    "assembly_path = '/storage/btbgenie/assembly/'\n",
    "\n",
    "for i,r in pairs[5:10].iterrows():    \n",
    "    name=r['sample']\n",
    "    print (name)\n",
    "    out = os.path.join(assembly_path,name+'.fa')\n",
    "    print (out)\n",
    "    spades(r[1], r[2], os.path.join(assembly_path,name), outfile=out, threads=12)"
   ]
  },
  {
   "cell_type": "markdown",
   "id": "255fab33-d9d4-4cc6-9edf-04a7d8250fd9",
   "metadata": {},
   "source": [
    "## get consensus sequence from alignment instead of assembly"
   ]
  },
  {
   "cell_type": "code",
   "execution_count": 726,
   "id": "b1450e60-5c58-4c34-9927-b11396ef068b",
   "metadata": {},
   "outputs": [],
   "source": [
    "def get_consensus(vcf_file, sample, out_file='consensus.fa'):\n",
    "    \"\"\"Get consensus sequence from vcf\"\"\"\n",
    "      \n",
    "    cmd='bcftools index -f %s' %vcf_file\n",
    "    subprocess.check_output(cmd, shell=True)   \n",
    "    cmd='cat {r} | bcftools consensus -s {s} {v} > {o}'.format(r=snpg.app.mbovis_genome,v=vcf_file,s=sample,o=out_file)\n",
    "    #print (cmd)\n",
    "    subprocess.check_output(cmd, shell=True)\n",
    "    return\n",
    "\n",
    "get_consensus(vcf_file, '1034','consensus.fa')"
   ]
  },
  {
   "cell_type": "markdown",
   "id": "f036d0a1-efe2-497b-bccf-93b0b305a212",
   "metadata": {},
   "source": [
    "## annotate\n"
   ]
  },
  {
   "cell_type": "code",
   "execution_count": null,
   "id": "65652405-949d-4bd8-be2e-e1869169890f",
   "metadata": {},
   "outputs": [],
   "source": [
    "seqfile='/storage/btbgenie/assembly/1034.fa'\n",
    "#seqfile='consensus.fa'\n",
    "featdf,recs = pg.run_annotation(seqfile,\n",
    "                                threads=10, kingdom='bacteria', trusted=ref_proteins)\n",
    "outfile='/storage/btbgenie/annotation_assembly/1034.fa'\n",
    "\n",
    "#write out nucl sequences\n",
    "SeqIO.write(recs,'temp.gb','genbank')\n",
    "get_nucleotide_sequences('temp.gb',outfile,idkey='protein_id')"
   ]
  },
  {
   "cell_type": "markdown",
   "id": "c904b82a-bee9-4bee-a81d-b33539bb3b9f",
   "metadata": {},
   "source": [
    "# initialise MLST table from reference genome"
   ]
  },
  {
   "cell_type": "markdown",
   "id": "b795b5e3-ce6a-4ea8-a417-60a03ad8b5bc",
   "metadata": {},
   "source": [
    "## filter only Mb proteins in scheme"
   ]
  },
  {
   "cell_type": "code",
   "execution_count": 765,
   "id": "f2b59498-b340-4405-87a9-54ab89498277",
   "metadata": {},
   "outputs": [],
   "source": [
    "mlst=pd.read_csv('mlst_scheme.csv')\n",
    "mlst=mlst[mlst['Ridom Usage']=='MLST+']\n",
    "targets=list(mlst.Target)"
   ]
  },
  {
   "cell_type": "code",
   "execution_count": 766,
   "id": "02009a63-fbc7-4c52-97c1-2daee4048f17",
   "metadata": {},
   "outputs": [],
   "source": [
    "mbmap=pd.read_csv('final_mbovis_mapping.csv')\n",
    "mbmap = mbmap[mbmap.Rv_tag.isin(targets)]\n",
    "mb_tags = list(mbmap.Mb_tag)\n",
    "prots = prots[prots.locus_tag.isin(mb_tags)]\n",
    "nucseqs = pg.tools.fasta_to_dataframe('Mbovis_AF212297_nuc.fa')\n",
    "nucseqs = nucseqs[nucseqs.name.isin(mb_tags)]"
   ]
  },
  {
   "cell_type": "code",
   "execution_count": 767,
   "id": "e1698d53-1360-4deb-b9b8-4a6940766fbe",
   "metadata": {},
   "outputs": [
    {
     "name": "stdout",
     "output_type": "stream",
     "text": [
      "3184\n"
     ]
    }
   ],
   "source": [
    "cols = ['name','allele','sequence']\n",
    "ref = nucseqs.copy()\n",
    "ref['allele'] = 1\n",
    "ref=ref.rename(columns={'translation':'sequence'})\n",
    "ref[cols].to_csv('mlst_db.csv.gz',index=False,compression='gzip')\n",
    "print (len(ref))"
   ]
  },
  {
   "cell_type": "code",
   "execution_count": 635,
   "id": "d1112407-b094-45a1-9b2e-d1936429d4d1",
   "metadata": {},
   "outputs": [
    {
     "data": {
      "text/html": [
       "<div>\n",
       "<style scoped>\n",
       "    .dataframe tbody tr th:only-of-type {\n",
       "        vertical-align: middle;\n",
       "    }\n",
       "\n",
       "    .dataframe tbody tr th {\n",
       "        vertical-align: top;\n",
       "    }\n",
       "\n",
       "    .dataframe thead th {\n",
       "        text-align: right;\n",
       "    }\n",
       "</style>\n",
       "<table border=\"1\" class=\"dataframe\">\n",
       "  <thead>\n",
       "    <tr style=\"text-align: right;\">\n",
       "      <th></th>\n",
       "      <th>name</th>\n",
       "      <th>sequence</th>\n",
       "      <th>description</th>\n",
       "      <th>type</th>\n",
       "    </tr>\n",
       "  </thead>\n",
       "  <tbody>\n",
       "    <tr>\n",
       "      <th>3240</th>\n",
       "      <td>Mb0014c</td>\n",
       "      <td>CTACTGGCCGAACCTCAGCGTGATGATGCCGTCCCGGTTGACGCCGGTCCCCGCCGGCGGGTTTTGATAGACGACCCGGTTGTGTTGGGAGCCACCGGCGTCGACGTCGGCCCCTTTGTCGAGCATCCCGGTCCAGCCCAGCGCGC...</td>\n",
       "      <td>Mb0014c &lt;unknown description&gt;</td>\n",
       "      <td>CDS</td>\n",
       "    </tr>\n",
       "  </tbody>\n",
       "</table>\n",
       "</div>"
      ],
      "text/plain": [
       "         name                                                                                                                                               sequence                    description  \\\n",
       "3240  Mb0014c  CTACTGGCCGAACCTCAGCGTGATGATGCCGTCCCGGTTGACGCCGGTCCCCGCCGGCGGGTTTTGATAGACGACCCGGTTGTGTTGGGAGCCACCGGCGTCGACGTCGGCCCCTTTGTCGAGCATCCCGGTCCAGCCCAGCGCGC...  Mb0014c <unknown description>   \n",
       "\n",
       "     type  \n",
       "3240  CDS  "
      ]
     },
     "execution_count": 635,
     "metadata": {},
     "output_type": "execute_result"
    }
   ],
   "source": [
    "fastafile='/storage/btbgenie/annotation_assembly/1034.fa'\n",
    "df = pg.tools.fasta_to_dataframe(fastafile)\n",
    "df[df.name=='Mb0014c']"
   ]
  },
  {
   "cell_type": "code",
   "execution_count": 776,
   "id": "18704833-b679-49c8-b459-4d0ca72ee22a",
   "metadata": {},
   "outputs": [
    {
     "name": "stdout",
     "output_type": "stream",
     "text": [
      "added 0 new alleles\n"
     ]
    }
   ],
   "source": [
    "def find_alleles(fastafile):\n",
    "    \"\"\"Find allele by simple matches to the reference table of known sequences.\n",
    "    Returns:\n",
    "        dataframe with allele number for each gene\n",
    "        dataframe with new alleles to add to db\n",
    "    \"\"\"\n",
    "    \n",
    "    db = pd.read_csv('mlst_db.csv.gz')\n",
    "    names = ref.name.unique()\n",
    "    df = pg.tools.fasta_to_dataframe(fastafile).reset_index()\n",
    "    #print (df.iloc[0])\n",
    "    result=[]\n",
    "    new=[]\n",
    "    for name in names:\n",
    "        #print (name)\n",
    "        s = db[db.name==name]\n",
    "        gene = df[df.name==name]\n",
    "        #print (gene)\n",
    "        if len(gene)==0:\n",
    "            #print (name)\n",
    "            result.append((name,0))\n",
    "            continue\n",
    "        target = gene.iloc[0].sequence\n",
    "        found = s[s.sequence==target]        \n",
    "        #print (target,found)\n",
    "        if len(found)>0:\n",
    "            found = found.iloc[0]\n",
    "            result.append((name,found.allele))\n",
    "        else:\n",
    "            #assign new allele\n",
    "            newallele = s.allele.max()+1\n",
    "            result.append((name,newallele))\n",
    "            new.append([name,newallele,target])\n",
    "    prof = pd.DataFrame(result,columns=['name','allele'])\n",
    "    prof['allele'] = prof.allele.astype(int)\n",
    "    #new additions\n",
    "    new = pd.DataFrame(new,columns=['name','allele','sequence'])\n",
    "    return prof, new\n",
    "    \n",
    "def update_mlst_db(new):\n",
    "    \"\"\"Update the database of MLST profiles\"\"\"\n",
    "    \n",
    "    db = pd.read_csv('mlst_db.csv.gz')\n",
    "    db = pd.concat([db,new])\n",
    "    db.to_csv('mlst_db.csv.gz', index=False, compression='gzip')\n",
    "    print ('added %s new alleles' %len(new))\n",
    "    return\n",
    "\n",
    "fastafile='/storage/btbgenie/annotation_assembly/1034.fa'\n",
    "prof,new = find_alleles(fastafile)\n",
    "update_mlst_db(new)\n",
    "#print (prof[:100])"
   ]
  },
  {
   "cell_type": "code",
   "execution_count": 791,
   "id": "52d0bb08-378d-4fa7-8ebb-88584b8742e0",
   "metadata": {},
   "outputs": [
    {
     "data": {
      "text/plain": [
       "'1111211111111111112211211111111112111111122221111111111111111111111221111222222222222222222222222222222200002222222222222222222222222222222222222222222222222222222222222222222222222222222222222222222222222222222222222022222222222211121111121112212111111211222211111111121210121211112121111121121221112211111212111122121111210111121111111121211111121212111121112112122122011011122111111111121111112211112122111122221111111111222111111021211212121211222222222222222222222222222222222222222222222222222222222222222222022222220222222222222222222222220222222222222222222222202222222222222222222222022222222022222222220121111111111111121111211122111012111111111111111221221111121211211011121111121212222222222222222222222222222222222222222222222222222222222222222222222222222222222222222222222222222222022222222222222222222022222222222022111111112111102111212221112111121221111112121212222222202222222222011112122121211111222222222222222222222222222222222222222222220222222222222222222222222222222222222222222222222222222222222222222222222222222222222221111111112211121112121112211111112112211111111111111111112222222202222222222222222222222222222220222222220222222222222222222111121122112112211212121122221112111112222111211222222222222222222222222222222222222222222222202222220222222222222222222222222222222222222222222011111211121112111111121221211112221121112212112111111211111111112201211112121122211112111111121111221122121111111111111121221211222112212221202211121121111111111011222121222221111121112211111121111111121122111112122112211211211112121112111122121221212212011112111101212111112111120111101112111111111122212211211111111222222222222222222222222222220222222222022220222202000222222222222222222222222222222222222222222222222222222222222222222222220112111211122221111112111122122221111111111122111111022221212111111221110221111111102121011112021221211121221111020001102211111112112111112101111122211121111121211111112211111121212200121102111111122121111122222202222222222222222002222222222222222222022222202222220222222222222222222222222222222222202222222222222222222222222222222222222222222222222222222222222222222222222200121111212221221102111111100021101212111112121111211112111111121221110111212211121121012111110111110111222222222220222222222202222222222222222222222222222222222222222222222222222202222222222222222222222222222222222222222222222222222222222222222222222222222222222222222222222222222222220222222222022222222222222222222222222222222222222222211222222222222222222222222222222222222222222222222222222222222222222222222022222222222200002021111212111112111121111221121211121211111211222111121222212211111111221211121212111222211111222222222222222222222222222222222222222222222222222222222222222222222221111211211112122222222222222222222222222222222222222222222222202222222222222222222222222202220222222222222222222222222222222211222222222222222222222222222222222222222222202222222222222222222222222222202222222222022222222222222222222222222222222222222222220222222222222222222222222222222202222222222222222222222222222222222222222222222222222222222222222222222222222222220012111212111221111112211121211121121111211201211111211111222111111112211011112122111211'"
      ]
     },
     "execution_count": 791,
     "metadata": {},
     "output_type": "execute_result"
    }
   ],
   "source": [
    "get_profile_string(prof)"
   ]
  },
  {
   "cell_type": "code",
   "execution_count": 769,
   "id": "0aaa32a2-0d5f-44e7-b5d9-95148f858e9e",
   "metadata": {},
   "outputs": [
    {
     "name": "stdout",
     "output_type": "stream",
     "text": [
      "added 0 new alleles\n"
     ]
    }
   ],
   "source": [
    "def type_sample(fastafile, outfile, threads=4, overwrite=False):\n",
    "    \"\"\"Type a single sample using wgMLST.\n",
    "    Args:\n",
    "        fastafile: fasta file to type from assembly or other\n",
    "        \n",
    "        path: output folder for annotations\n",
    "    Returns:\n",
    "        dataframe of MLST profile\n",
    "    \"\"\"\n",
    "    \n",
    "    if overwrite == True or not os.path.exists(outfile):\n",
    "        #annotate\n",
    "        featdf,recs = pg.run_annotation(fastafile, threads=threads,\n",
    "                                        kingdom='bacteria', trusted=ref_proteins)\n",
    "        #get nucl sequences from annotation    \n",
    "        SeqIO.write(recs,'temp.gb','genbank')\n",
    "        get_nucleotide_sequences('temp.gb',outfile,idkey='protein_id')\n",
    "    \n",
    "    #find alleles\n",
    "    res,new = find_alleles(outfile)\n",
    "    #print (res)\n",
    "    #update db\n",
    "    update_mlst_db(new)\n",
    "    return res\n",
    "\n",
    "#get_consensus(vcf_file, '26-MBovis')\n",
    "#fastafile = os.path.join(path,'%s.fa' %sample)\n",
    "sample='1034'\n",
    "fastafile = os.path.join(assembly_path,'%s.fa' %sample)\n",
    "res = type_sample(fastafile, '/storage/btbgenie/annotation_assembly/1034.fa', 10)"
   ]
  },
  {
   "cell_type": "code",
   "execution_count": 662,
   "id": "fdc652d8-7609-4250-a71a-0431f6bb5c70",
   "metadata": {},
   "outputs": [],
   "source": [
    "def get_profile_string(df):\n",
    "    return ''.join(df.allele.astype(str))"
   ]
  },
  {
   "cell_type": "code",
   "execution_count": 778,
   "id": "3a1e6f8a-e49d-411d-99b4-7904aefa2676",
   "metadata": {},
   "outputs": [
    {
     "name": "stdout",
     "output_type": "stream",
     "text": [
      "/storage/btbgenie/assembly/19-11957.fa\n",
      "added 0 new alleles\n",
      "/storage/btbgenie/assembly/22-12200.fa\n",
      "added 0 new alleles\n",
      "/storage/btbgenie/assembly/13-11594.fa\n",
      "added 145 new alleles\n",
      "/storage/btbgenie/assembly/17-MBovis.fa\n",
      "added 45 new alleles\n",
      "/storage/btbgenie/assembly/17-11662.fa\n",
      "added 21 new alleles\n",
      "/storage/btbgenie/assembly/15-11643.fa\n",
      "added 52 new alleles\n",
      "/storage/btbgenie/assembly/19-MBovis.fa\n",
      "added 24 new alleles\n",
      "/storage/btbgenie/assembly/182-MBovis.fa\n",
      "/storage/btbgenie/assembly/14-MBovis.fa\n",
      "added 31 new alleles\n",
      "/storage/btbgenie/assembly/1034.fa\n",
      "added 0 new alleles\n"
     ]
    }
   ],
   "source": [
    "profs = {}\n",
    "omit=['182-MBovis','19-4281','19-2438']\n",
    "samples=glob.glob(os.path.join(assembly_path,'*.fa'))\n",
    "profdf=pd.DataFrame()\n",
    "for s in samples:\n",
    "    print (s)\n",
    "    sample = os.path.splitext(os.path.basename(s))[0]    \n",
    "    if sample in omit:\n",
    "        continue\n",
    "    profile = type_sample(s, '/storage/btbgenie/annotation_assembly/%s.fa' %sample, threads=12)\n",
    "    profdf[sample] = profile['allele']\n",
    "    profs[sample] = get_profile_string(profile)\n"
   ]
  },
  {
   "cell_type": "code",
   "execution_count": 784,
   "id": "8391f248-8daf-44d9-a79c-a62040ce1345",
   "metadata": {},
   "outputs": [
    {
     "name": "stdout",
     "output_type": "stream",
     "text": [
      "19-11957 3184\n",
      "22-12200 3184\n",
      "13-11594 3184\n",
      "17-MBovis 3184\n",
      "17-11662 3184\n",
      "15-11643 3184\n",
      "19-MBovis 3184\n",
      "14-MBovis 3184\n",
      "1034 3184\n"
     ]
    }
   ],
   "source": [
    "for i in profs:\n",
    "    print (i,len(profs[i]))"
   ]
  },
  {
   "cell_type": "markdown",
   "id": "c3201168-0b53-4d6e-b990-f171924c03b5",
   "metadata": {},
   "source": [
    "## profiles from consensus seqs"
   ]
  },
  {
   "cell_type": "code",
   "execution_count": null,
   "id": "c3cfa8f4-3452-4dff-b8f7-dc32c4d1a7e9",
   "metadata": {},
   "outputs": [],
   "source": [
    "profs1 = {}\n",
    "omit=['182-MBovis','19-4281','19-2438']\n",
    "samples=profs.keys()\n",
    "print (samples)\n",
    "for s in samples:\n",
    "    print (s)\n",
    "    get_consensus(vcf_file, s)\n",
    "    profile = type_sample('consensus.fa', '/storage/btbgenie/annotation_consensus/%s.fa' %s, threads=12)\n",
    "    profs1[s] = get_profile_string(profile)"
   ]
  },
  {
   "cell_type": "code",
   "execution_count": 810,
   "id": "74b4ea83-c6fa-46bc-934d-114b0a97fc56",
   "metadata": {},
   "outputs": [
    {
     "name": "stdout",
     "output_type": "stream",
     "text": [
      "19-11957 3184\n",
      "22-12200 3184\n",
      "13-11594 3184\n",
      "17-MBovis 3184\n",
      "17-11662 3184\n",
      "15-11643 3184\n",
      "19-MBovis 3184\n",
      "14-MBovis 3184\n",
      "1034 3184\n"
     ]
    }
   ],
   "source": [
    "for i in profs1:\n",
    "    print (i,len(profs1[i]))"
   ]
  },
  {
   "cell_type": "markdown",
   "id": "9bdacafc-a95c-4201-93b8-733d3a77e52a",
   "metadata": {},
   "source": [
    "## find distances between mlst profiles"
   ]
  },
  {
   "cell_type": "code",
   "execution_count": 663,
   "id": "68e8b4de-4e52-4aae-8fe4-80eba13d3abf",
   "metadata": {},
   "outputs": [
    {
     "data": {
      "text/plain": [
       "2"
      ]
     },
     "execution_count": 663,
     "metadata": {},
     "output_type": "execute_result"
    }
   ],
   "source": [
    "def diff_profiles(s1, s2):\n",
    "    return sum(1 for a, b in zip(list(s1), list(s2)) if a != b)\n",
    "\n",
    "diff_profiles('AAABBBB','AAABBCC')"
   ]
  },
  {
   "cell_type": "code",
   "execution_count": 642,
   "id": "660e437c-92aa-4809-a244-e5fdc2927870",
   "metadata": {},
   "outputs": [],
   "source": [
    "def dist_matrix(profiles):\n",
    "    \"\"\"Distance matrix of a set of profiles\"\"\"\n",
    "    \n",
    "    dist=[]\n",
    "    for s in profiles:\n",
    "        x=profiles[s]\n",
    "        row=[]\n",
    "        for s in profiles:\n",
    "            d = diff_profiles(x,profiles[s])\n",
    "            row.append(d)\n",
    "        dist.append(row)\n",
    "    D = pd.DataFrame(dist,columns=profiles.keys(),index=profiles.keys())\n",
    "    return D"
   ]
  },
  {
   "cell_type": "code",
   "execution_count": 664,
   "id": "5743d878-a7a9-43a2-b926-4b788ac2e8b9",
   "metadata": {},
   "outputs": [],
   "source": [
    "def tree_from_distmatrix(D):\n",
    "    from skbio import DistanceMatrix\n",
    "    from skbio.tree import nj\n",
    "    ids = list(D.index)\n",
    "    dm = DistanceMatrix(D.values, ids)\n",
    "    tree = nj(dm)\n",
    "    #print(tree.ascii_art())\n",
    "    tree.write(treefile, 'newick')\n",
    "    return tree"
   ]
  },
  {
   "cell_type": "code",
   "execution_count": null,
   "id": "09d0f523-b5eb-4fc2-af3e-95b499d153e4",
   "metadata": {},
   "outputs": [],
   "source": [
    "import random\n",
    "test = {'A':'1112233','B':'1112213','C':'2111213','D':'2111232','E':'212211','F':'2111222'}\n",
    "    \n",
    "print (test)\n",
    "d = dist_matrix(test)\n",
    "tree_from_distmatrix(d)\n",
    "\n",
    "tre = toytree.tree(treefile)\n",
    "canvas,t,r=tre.draw(layout='r',scalebar=True,width=500)\n",
    "sns.clustermap(d,figsize=(5,5))"
   ]
  },
  {
   "cell_type": "code",
   "execution_count": 798,
   "id": "7fe28265-9205-4d52-a655-ab7e8d84428f",
   "metadata": {},
   "outputs": [
    {
     "data": {
      "image/png": "[encoded data removed]",
      "text/plain": [
       "<Figure size 432x432 with 4 Axes>"
      ]
     },
     "metadata": {
      "needs_background": "light"
     },
     "output_type": "display_data"
    },
    {
     "data": {
      "text/html": [
       "<div class=\"toyplot\" id=\"t400c04065f3f482e8796e888e0b7d960\" style=\"text-align:center\"><svg class=\"toyplot-canvas-Canvas\" xmlns:toyplot=\"http://www.sandia.gov/toyplot\" xmlns:xlink=\"http://www.w3.org/1999/xlink\" xmlns=\"http://www.w3.org/2000/svg\" width=\"500.0px\" height=\"275.0px\" viewBox=\"0 0 500.0 275.0\" preserveAspectRatio=\"xMidYMid meet\" style=\"background-color:transparent;border-color:#292724;border-style:none;border-width:1.0;fill:rgb(16.1%,15.3%,14.1%);fill-opacity:1.0;font-family:Helvetica;font-size:12px;opacity:1.0;stroke:rgb(16.1%,15.3%,14.1%);stroke-opacity:1.0;stroke-width:1.0\" id=\"tae723fc851044f1bbf7d27255c004c47\"><g class=\"toyplot-coordinates-Cartesian\" id=\"tb7467fbe79af4641a421126bd76910a3\"><clipPath id=\"t03271c0584f44b6f979e5ad7c5859ca4\"><rect x=\"30.0\" y=\"30.0\" width=\"440.0\" height=\"215.0\"></rect></clipPath><g clip-path=\"url(#t03271c0584f44b6f979e5ad7c5859ca4)\"><g class=\"toytree-mark-Toytree\" id=\"tc9361303fa9348f18d574982bcfb6ff9\"><g class=\"toytree-Edges\" style=\"fill:none;stroke:rgb(14.9%,14.9%,14.9%);stroke-linecap:round;stroke-opacity:1;stroke-width:2\"><path d=\"M 51.6 90.5 L 51.6 130.3 L 61.3 130.3\" id=\"15,14\"></path><path d=\"M 61.3 130.3 L 61.3 161.4 L 76.8 161.4\" id=\"14,13\"></path><path d=\"M 76.8 161.4 L 76.8 132.7 L 151.9 132.7\" id=\"13,12\"></path><path d=\"M 76.8 161.4 L 76.8 190.1 L 94.4 190.1\" id=\"13,11\"></path><path d=\"M 151.9 132.7 L 151.9 147.1 L 224.8 147.1\" id=\"12,10\"></path><path d=\"M 94.4 190.1 L 94.4 204.4 L 133.3 204.4\" id=\"11,9\"></path><path d=\"M 51.6 90.5 L 51.6 61.0 L 200.4 61.0\" id=\"15,8\"></path><path d=\"M 51.6 90.5 L 51.6 80.1 L 211.4 80.1\" id=\"15,7\"></path><path d=\"M 61.3 130.3 L 61.3 99.3 L 213.7 99.3\" id=\"14,6\"></path><path d=\"M 151.9 132.7 L 151.9 118.4 L 316.3 118.4\" id=\"12,5\"></path><path d=\"M 224.8 147.1 L 224.8 137.5 L 377.7 137.5\" id=\"10,4\"></path><path d=\"M 224.8 147.1 L 224.8 156.6 L 336.9 156.6\" id=\"10,3\"></path><path d=\"M 94.4 190.1 L 94.4 175.7 L 304.2 175.7\" id=\"11,2\"></path><path d=\"M 133.3 204.4 L 133.3 194.9 L 304.2 194.9\" id=\"9,1\"></path><path d=\"M 133.3 204.4 L 133.3 214.0 L 265.4 214.0\" id=\"9,0\"></path></g><g class=\"toytree-TipLabels\" style=\"fill:rgb(14.9%,14.9%,14.9%);fill-opacity:1.0;font-family:helvetica;font-size:11px;font-weight:normal;stroke:none;white-space:pre\"><g transform=\"translate(265.36,213.99)rotate(0)\"><text x=\"15.00\" y=\"2.81\" style=\"\">17-MBovis</text></g><g transform=\"translate(304.19,194.86)rotate(0)\"><text x=\"15.00\" y=\"2.81\" style=\"\">14-MBovis</text></g><g transform=\"translate(304.24,175.74)rotate(0)\"><text x=\"15.00\" y=\"2.81\" style=\"\">19-11957</text></g><g transform=\"translate(336.91,156.62)rotate(0)\"><text x=\"15.00\" y=\"2.81\" style=\"\">22-12200</text></g><g transform=\"translate(377.68,137.50)rotate(0)\"><text x=\"15.00\" y=\"2.81\" style=\"\">15-11643</text></g><g transform=\"translate(316.25,118.38)rotate(0)\"><text x=\"15.00\" y=\"2.81\" style=\"\">19-MBovis</text></g><g transform=\"translate(213.65,99.26)rotate(0)\"><text x=\"15.00\" y=\"2.81\" style=\"\">17-11662</text></g><g transform=\"translate(211.39,80.14)rotate(0)\"><text x=\"15.00\" y=\"2.81\" style=\"\">1034</text></g><g transform=\"translate(200.38,61.01)rotate(0)\"><text x=\"15.00\" y=\"2.81\" style=\"\">13-11594</text></g></g></g></g><g class=\"toyplot-coordinates-Axis\" id=\"t28156ac40d3b4f4fab62e414b2f177cf\" transform=\"translate(50.0,225.0)translate(0,20.0)\"><line x1=\"1.6302409699933493\" y1=\"0\" x2=\"327.6784349686688\" y2=\"0\" style=\"\"></line><g><line x1=\"327.6784349686688\" y1=\"0\" x2=\"327.6784349686688\" y2=\"-5\" style=\"\"></line><line x1=\"246.16638646899997\" y1=\"0\" x2=\"246.16638646899997\" y2=\"-5\" style=\"\"></line><line x1=\"164.6543379693311\" y1=\"0\" x2=\"164.6543379693311\" y2=\"-5\" style=\"\"></line><line x1=\"83.14228946966222\" y1=\"0\" x2=\"83.14228946966222\" y2=\"-5\" style=\"\"></line><line x1=\"1.6302409699933493\" y1=\"0\" x2=\"1.6302409699933493\" y2=\"-5\" style=\"\"></line></g><g><g transform=\"translate(327.6784349686688,6)\"><text x=\"-2.78\" y=\"8.555\" style=\"fill:rgb(16.1%,15.3%,14.1%);fill-opacity:1.0;font-family:helvetica;font-size:10.0px;font-weight:normal;stroke:none;vertical-align:baseline;white-space:pre\">0</text></g><g transform=\"translate(246.16638646899997,6)\"><text x=\"-8.34\" y=\"8.555\" style=\"fill:rgb(16.1%,15.3%,14.1%);fill-opacity:1.0;font-family:helvetica;font-size:10.0px;font-weight:normal;stroke:none;vertical-align:baseline;white-space:pre\">310</text></g><g transform=\"translate(164.6543379693311,6)\"><text x=\"-8.34\" y=\"8.555\" style=\"fill:rgb(16.1%,15.3%,14.1%);fill-opacity:1.0;font-family:helvetica;font-size:10.0px;font-weight:normal;stroke:none;vertical-align:baseline;white-space:pre\">619</text></g><g transform=\"translate(83.14228946966222,6)\"><text x=\"-8.34\" y=\"8.555\" style=\"fill:rgb(16.1%,15.3%,14.1%);fill-opacity:1.0;font-family:helvetica;font-size:10.0px;font-weight:normal;stroke:none;vertical-align:baseline;white-space:pre\">929</text></g><g transform=\"translate(1.6302409699933493,6)\"><text x=\"-11.12\" y=\"8.555\" style=\"fill:rgb(16.1%,15.3%,14.1%);fill-opacity:1.0;font-family:helvetica;font-size:10.0px;font-weight:normal;stroke:none;vertical-align:baseline;white-space:pre\">1239</text></g></g><g class=\"toyplot-coordinates-Axis-coordinates\" style=\"visibility:hidden\" transform=\"\"><line x1=\"0\" x2=\"0\" y1=\"-3.0\" y2=\"4.5\" style=\"stroke:rgb(43.9%,50.2%,56.5%);stroke-opacity:1.0;stroke-width:1.0\"></line><text x=\"0\" y=\"-6\" style=\"alignment-baseline:alphabetic;fill:rgb(43.9%,50.2%,56.5%);fill-opacity:1.0;font-size:10px;font-weight:normal;stroke:none;text-anchor:middle\"></text></g></g></g></svg><div class=\"toyplot-behavior\"><script>(function()\n",
       "{\n",
       "var modules={};\n",
       "modules[\"toyplot/canvas/id\"] = \"tae723fc851044f1bbf7d27255c004c47\";\n",
       "modules[\"toyplot/canvas\"] = (function(canvas_id)\n",
       "    {\n",
       "        return document.querySelector(\"#\" + canvas_id);\n",
       "    })(modules[\"toyplot/canvas/id\"]);\n",
       "modules[\"toyplot.coordinates.Axis\"] = (\n",
       "        function(canvas)\n",
       "        {\n",
       "            function sign(x)\n",
       "            {\n",
       "                return x < 0 ? -1 : x > 0 ? 1 : 0;\n",
       "            }\n",
       "\n",
       "            function mix(a, b, amount)\n",
       "            {\n",
       "                return ((1.0 - amount) * a) + (amount * b);\n",
       "            }\n",
       "\n",
       "            function log(x, base)\n",
       "            {\n",
       "                return Math.log(Math.abs(x)) / Math.log(base);\n",
       "            }\n",
       "\n",
       "            function in_range(a, x, b)\n",
       "            {\n",
       "                var left = Math.min(a, b);\n",
       "                var right = Math.max(a, b);\n",
       "                return left <= x && x <= right;\n",
       "            }\n",
       "\n",
       "            function inside(range, projection)\n",
       "            {\n",
       "                for(var i = 0; i != projection.length; ++i)\n",
       "                {\n",
       "                    var segment = projection[i];\n",
       "                    if(in_range(segment.range.min, range, segment.range.max))\n",
       "                        return true;\n",
       "                }\n",
       "                return false;\n",
       "            }\n",
       "\n",
       "            function to_domain(range, projection)\n",
       "            {\n",
       "                for(var i = 0; i != projection.length; ++i)\n",
       "                {\n",
       "                    var segment = projection[i];\n",
       "                    if(in_range(segment.range.bounds.min, range, segment.range.bounds.max))\n",
       "                    {\n",
       "                        if(segment.scale == \"linear\")\n",
       "                        {\n",
       "                            var amount = (range - segment.range.min) / (segment.range.max - segment.range.min);\n",
       "                            return mix(segment.domain.min, segment.domain.max, amount)\n",
       "                        }\n",
       "                        else if(segment.scale[0] == \"log\")\n",
       "                        {\n",
       "                            var amount = (range - segment.range.min) / (segment.range.max - segment.range.min);\n",
       "                            var base = segment.scale[1];\n",
       "                            return sign(segment.domain.min) * Math.pow(base, mix(log(segment.domain.min, base), log(segment.domain.max, base), amount));\n",
       "                        }\n",
       "                    }\n",
       "                }\n",
       "            }\n",
       "\n",
       "            var axes = {};\n",
       "\n",
       "            function display_coordinates(e)\n",
       "            {\n",
       "                var current = canvas.createSVGPoint();\n",
       "                current.x = e.clientX;\n",
       "                current.y = e.clientY;\n",
       "\n",
       "                for(var axis_id in axes)\n",
       "                {\n",
       "                    var axis = document.querySelector(\"#\" + axis_id);\n",
       "                    var coordinates = axis.querySelector(\".toyplot-coordinates-Axis-coordinates\");\n",
       "                    if(coordinates)\n",
       "                    {\n",
       "                        var projection = axes[axis_id];\n",
       "                        var local = current.matrixTransform(axis.getScreenCTM().inverse());\n",
       "                        if(inside(local.x, projection))\n",
       "                        {\n",
       "                            var domain = to_domain(local.x, projection);\n",
       "                            coordinates.style.visibility = \"visible\";\n",
       "                            coordinates.setAttribute(\"transform\", \"translate(\" + local.x + \")\");\n",
       "                            var text = coordinates.querySelector(\"text\");\n",
       "                            text.textContent = domain.toFixed(2);\n",
       "                        }\n",
       "                        else\n",
       "                        {\n",
       "                            coordinates.style.visibility= \"hidden\";\n",
       "                        }\n",
       "                    }\n",
       "                }\n",
       "            }\n",
       "\n",
       "            canvas.addEventListener(\"click\", display_coordinates);\n",
       "\n",
       "            var module = {};\n",
       "            module.show_coordinates = function(axis_id, projection)\n",
       "            {\n",
       "                axes[axis_id] = projection;\n",
       "            }\n",
       "\n",
       "            return module;\n",
       "        })(modules[\"toyplot/canvas\"]);\n",
       "(function(axis, axis_id, projection)\n",
       "        {\n",
       "            axis.show_coordinates(axis_id, projection);\n",
       "        })(modules[\"toyplot.coordinates.Axis\"],\"t28156ac40d3b4f4fab62e414b2f177cf\",[{\"domain\": {\"bounds\": {\"max\": Infinity, \"min\": -Infinity}, \"max\": 274.74052724868744, \"min\": -1244.8091513549998}, \"range\": {\"bounds\": {\"max\": Infinity, \"min\": -Infinity}, \"max\": 400.0, \"min\": 0.0}, \"scale\": \"linear\"}]);\n",
       "})();</script></div></div>"
      ]
     },
     "metadata": {},
     "output_type": "display_data"
    }
   ],
   "source": [
    "D = dist_matrix(profs)\n",
    "D.to_csv('dist_mlst.csv',index=False)\n",
    "sns.clustermap(D,xticklabels=True,yticklabels=True,figsize=(6,6))\n",
    "tree_from_distmatrix(D)\n",
    "\n",
    "tre = toytree.tree(treefile)\n",
    "canvas,t,r=tre.draw(layout='r',scalebar=True,width=500)"
   ]
  },
  {
   "cell_type": "code",
   "execution_count": 811,
   "id": "3165e7d3-a5b3-4065-a27b-98745581292e",
   "metadata": {},
   "outputs": [
    {
     "name": "stderr",
     "output_type": "stream",
     "text": [
      "/usr/local/lib/python3.9/dist-packages/seaborn/matrix.py:619: ClusterWarning: scipy.cluster: The symmetric non-negative hollow observation matrix looks suspiciously like an uncondensed distance matrix\n",
      "  linkage = hierarchy.linkage(self.array, method=self.method,\n"
     ]
    },
    {
     "data": {
      "image/png": "[encoded data removed]",
      "text/plain": [
       "<Figure size 432x432 with 4 Axes>"
      ]
     },
     "metadata": {
      "needs_background": "light"
     },
     "output_type": "display_data"
    },
    {
     "data": {
      "text/html": [
       "<div class=\"toyplot\" id=\"ta638fa1429044087babbbad906e906cf\" style=\"text-align:center\"><svg class=\"toyplot-canvas-Canvas\" xmlns:toyplot=\"http://www.sandia.gov/toyplot\" xmlns:xlink=\"http://www.w3.org/1999/xlink\" xmlns=\"http://www.w3.org/2000/svg\" width=\"500.0px\" height=\"275.0px\" viewBox=\"0 0 500.0 275.0\" preserveAspectRatio=\"xMidYMid meet\" style=\"background-color:transparent;border-color:#292724;border-style:none;border-width:1.0;fill:rgb(16.1%,15.3%,14.1%);fill-opacity:1.0;font-family:Helvetica;font-size:12px;opacity:1.0;stroke:rgb(16.1%,15.3%,14.1%);stroke-opacity:1.0;stroke-width:1.0\" id=\"t8cff1d088b09463f88b79274b6ff5500\"><g class=\"toyplot-coordinates-Cartesian\" id=\"t850c00f666554354b1027be73690fd01\"><clipPath id=\"tfe1fad4712c64a5a838d5ddffce08996\"><rect x=\"30.0\" y=\"30.0\" width=\"440.0\" height=\"215.0\"></rect></clipPath><g clip-path=\"url(#tfe1fad4712c64a5a838d5ddffce08996)\"><g class=\"toytree-mark-Toytree\" id=\"tae1b1158ff3b469594965f9c524aab1d\"><g class=\"toytree-Edges\" style=\"fill:none;stroke:rgb(14.9%,14.9%,14.9%);stroke-linecap:round;stroke-opacity:1;stroke-width:2\"><path d=\"M 51.6 88.7 L 51.6 125.0 L 54.2 125.0\" id=\"15,14\"></path><path d=\"M 54.2 125.0 L 54.2 150.6 L 113.5 150.6\" id=\"14,13\"></path><path d=\"M 113.5 150.6 L 113.5 127.9 L 301.0 127.9\" id=\"13,12\"></path><path d=\"M 113.5 150.6 L 113.5 173.4 L 118.7 173.4\" id=\"13,11\"></path><path d=\"M 118.7 173.4 L 118.7 190.1 L 178.0 190.1\" id=\"11,10\"></path><path d=\"M 178.0 190.1 L 178.0 204.4 L 186.3 204.4\" id=\"10,9\"></path><path d=\"M 51.6 88.7 L 51.6 61.0 L 106.7 61.0\" id=\"15,8\"></path><path d=\"M 51.6 88.7 L 51.6 80.1 L 65.4 80.1\" id=\"15,7\"></path><path d=\"M 54.2 125.0 L 54.2 99.3 L 134.2 99.3\" id=\"14,6\"></path><path d=\"M 301.0 127.9 L 301.0 118.4 L 377.7 118.4\" id=\"12,5\"></path><path d=\"M 301.0 127.9 L 301.0 137.5 L 306.9 137.5\" id=\"12,4\"></path><path d=\"M 118.7 173.4 L 118.7 156.6 L 355.2 156.6\" id=\"11,3\"></path><path d=\"M 178.0 190.1 L 178.0 175.7 L 197.3 175.7\" id=\"10,2\"></path><path d=\"M 186.3 204.4 L 186.3 194.9 L 259.7 194.9\" id=\"9,1\"></path><path d=\"M 186.3 204.4 L 186.3 214.0 L 195.5 214.0\" id=\"9,0\"></path></g><g class=\"toytree-TipLabels\" style=\"fill:rgb(14.9%,14.9%,14.9%);fill-opacity:1.0;font-family:helvetica;font-size:11px;font-weight:normal;stroke:none;white-space:pre\"><g transform=\"translate(195.47,213.99)rotate(0)\"><text x=\"15.00\" y=\"2.81\" style=\"\">13-11594</text></g><g transform=\"translate(259.68,194.86)rotate(0)\"><text x=\"15.00\" y=\"2.81\" style=\"\">17-11662</text></g><g transform=\"translate(197.31,175.74)rotate(0)\"><text x=\"15.00\" y=\"2.81\" style=\"\">22-12200</text></g><g transform=\"translate(355.20,156.62)rotate(0)\"><text x=\"15.00\" y=\"2.81\" style=\"\">1034</text></g><g transform=\"translate(306.92,137.50)rotate(0)\"><text x=\"15.00\" y=\"2.81\" style=\"\">19-11957</text></g><g transform=\"translate(377.68,118.38)rotate(0)\"><text x=\"15.00\" y=\"2.81\" style=\"\">15-11643</text></g><g transform=\"translate(134.19,99.26)rotate(0)\"><text x=\"15.00\" y=\"2.81\" style=\"\">19-MBovis</text></g><g transform=\"translate(65.39,80.14)rotate(0)\"><text x=\"15.00\" y=\"2.81\" style=\"\">14-MBovis</text></g><g transform=\"translate(106.67,61.01)rotate(0)\"><text x=\"15.00\" y=\"2.81\" style=\"\">17-MBovis</text></g></g></g></g><g class=\"toyplot-coordinates-Axis\" id=\"t2dc5eb6fbcde4d05a98170957e166624\" transform=\"translate(50.0,225.0)translate(0,20.0)\"><line x1=\"1.6302409699933498\" y1=\"0\" x2=\"327.6784349686688\" y2=\"0\" style=\"\"></line><g><line x1=\"327.6784349686688\" y1=\"0\" x2=\"327.6784349686688\" y2=\"-5\" style=\"\"></line><line x1=\"246.16638646899992\" y1=\"0\" x2=\"246.16638646899992\" y2=\"-5\" style=\"\"></line><line x1=\"164.6543379693311\" y1=\"0\" x2=\"164.6543379693311\" y2=\"-5\" style=\"\"></line><line x1=\"83.14228946966219\" y1=\"0\" x2=\"83.14228946966219\" y2=\"-5\" style=\"\"></line><line x1=\"1.6302409699933498\" y1=\"0\" x2=\"1.6302409699933498\" y2=\"-5\" style=\"\"></line></g><g><g transform=\"translate(327.6784349686688,6)\"><text x=\"-2.78\" y=\"8.555\" style=\"fill:rgb(16.1%,15.3%,14.1%);fill-opacity:1.0;font-family:helvetica;font-size:10.0px;font-weight:normal;stroke:none;vertical-align:baseline;white-space:pre\">0</text></g><g transform=\"translate(246.16638646899992,6)\"><text x=\"-2.78\" y=\"8.555\" style=\"fill:rgb(16.1%,15.3%,14.1%);fill-opacity:1.0;font-family:helvetica;font-size:10.0px;font-weight:normal;stroke:none;vertical-align:baseline;white-space:pre\">6</text></g><g transform=\"translate(164.6543379693311,6)\"><text x=\"-5.56\" y=\"8.555\" style=\"fill:rgb(16.1%,15.3%,14.1%);fill-opacity:1.0;font-family:helvetica;font-size:10.0px;font-weight:normal;stroke:none;vertical-align:baseline;white-space:pre\">12</text></g><g transform=\"translate(83.14228946966219,6)\"><text x=\"-5.56\" y=\"8.555\" style=\"fill:rgb(16.1%,15.3%,14.1%);fill-opacity:1.0;font-family:helvetica;font-size:10.0px;font-weight:normal;stroke:none;vertical-align:baseline;white-space:pre\">18</text></g><g transform=\"translate(1.6302409699933498,6)\"><text x=\"-5.56\" y=\"8.555\" style=\"fill:rgb(16.1%,15.3%,14.1%);fill-opacity:1.0;font-family:helvetica;font-size:10.0px;font-weight:normal;stroke:none;vertical-align:baseline;white-space:pre\">24</text></g></g><g class=\"toyplot-coordinates-Axis-coordinates\" style=\"visibility:hidden\" transform=\"\"><line x1=\"0\" x2=\"0\" y1=\"-3.0\" y2=\"4.5\" style=\"stroke:rgb(43.9%,50.2%,56.5%);stroke-opacity:1.0;stroke-width:1.0\"></line><text x=\"0\" y=\"-6\" style=\"alignment-baseline:alphabetic;fill:rgb(43.9%,50.2%,56.5%);fill-opacity:1.0;font-size:10px;font-weight:normal;stroke:none;text-anchor:middle\"></text></g></g></g></svg><div class=\"toyplot-behavior\"><script>(function()\n",
       "{\n",
       "var modules={};\n",
       "modules[\"toyplot/canvas/id\"] = \"t8cff1d088b09463f88b79274b6ff5500\";\n",
       "modules[\"toyplot/canvas\"] = (function(canvas_id)\n",
       "    {\n",
       "        return document.querySelector(\"#\" + canvas_id);\n",
       "    })(modules[\"toyplot/canvas/id\"]);\n",
       "modules[\"toyplot.coordinates.Axis\"] = (\n",
       "        function(canvas)\n",
       "        {\n",
       "            function sign(x)\n",
       "            {\n",
       "                return x < 0 ? -1 : x > 0 ? 1 : 0;\n",
       "            }\n",
       "\n",
       "            function mix(a, b, amount)\n",
       "            {\n",
       "                return ((1.0 - amount) * a) + (amount * b);\n",
       "            }\n",
       "\n",
       "            function log(x, base)\n",
       "            {\n",
       "                return Math.log(Math.abs(x)) / Math.log(base);\n",
       "            }\n",
       "\n",
       "            function in_range(a, x, b)\n",
       "            {\n",
       "                var left = Math.min(a, b);\n",
       "                var right = Math.max(a, b);\n",
       "                return left <= x && x <= right;\n",
       "            }\n",
       "\n",
       "            function inside(range, projection)\n",
       "            {\n",
       "                for(var i = 0; i != projection.length; ++i)\n",
       "                {\n",
       "                    var segment = projection[i];\n",
       "                    if(in_range(segment.range.min, range, segment.range.max))\n",
       "                        return true;\n",
       "                }\n",
       "                return false;\n",
       "            }\n",
       "\n",
       "            function to_domain(range, projection)\n",
       "            {\n",
       "                for(var i = 0; i != projection.length; ++i)\n",
       "                {\n",
       "                    var segment = projection[i];\n",
       "                    if(in_range(segment.range.bounds.min, range, segment.range.bounds.max))\n",
       "                    {\n",
       "                        if(segment.scale == \"linear\")\n",
       "                        {\n",
       "                            var amount = (range - segment.range.min) / (segment.range.max - segment.range.min);\n",
       "                            return mix(segment.domain.min, segment.domain.max, amount)\n",
       "                        }\n",
       "                        else if(segment.scale[0] == \"log\")\n",
       "                        {\n",
       "                            var amount = (range - segment.range.min) / (segment.range.max - segment.range.min);\n",
       "                            var base = segment.scale[1];\n",
       "                            return sign(segment.domain.min) * Math.pow(base, mix(log(segment.domain.min, base), log(segment.domain.max, base), amount));\n",
       "                        }\n",
       "                    }\n",
       "                }\n",
       "            }\n",
       "\n",
       "            var axes = {};\n",
       "\n",
       "            function display_coordinates(e)\n",
       "            {\n",
       "                var current = canvas.createSVGPoint();\n",
       "                current.x = e.clientX;\n",
       "                current.y = e.clientY;\n",
       "\n",
       "                for(var axis_id in axes)\n",
       "                {\n",
       "                    var axis = document.querySelector(\"#\" + axis_id);\n",
       "                    var coordinates = axis.querySelector(\".toyplot-coordinates-Axis-coordinates\");\n",
       "                    if(coordinates)\n",
       "                    {\n",
       "                        var projection = axes[axis_id];\n",
       "                        var local = current.matrixTransform(axis.getScreenCTM().inverse());\n",
       "                        if(inside(local.x, projection))\n",
       "                        {\n",
       "                            var domain = to_domain(local.x, projection);\n",
       "                            coordinates.style.visibility = \"visible\";\n",
       "                            coordinates.setAttribute(\"transform\", \"translate(\" + local.x + \")\");\n",
       "                            var text = coordinates.querySelector(\"text\");\n",
       "                            text.textContent = domain.toFixed(2);\n",
       "                        }\n",
       "                        else\n",
       "                        {\n",
       "                            coordinates.style.visibility= \"hidden\";\n",
       "                        }\n",
       "                    }\n",
       "                }\n",
       "            }\n",
       "\n",
       "            canvas.addEventListener(\"click\", display_coordinates);\n",
       "\n",
       "            var module = {};\n",
       "            module.show_coordinates = function(axis_id, projection)\n",
       "            {\n",
       "                axes[axis_id] = projection;\n",
       "            }\n",
       "\n",
       "            return module;\n",
       "        })(modules[\"toyplot/canvas\"]);\n",
       "(function(axis, axis_id, projection)\n",
       "        {\n",
       "            axis.show_coordinates(axis_id, projection);\n",
       "        })(modules[\"toyplot.coordinates.Axis\"],\"t2dc5eb6fbcde4d05a98170957e166624\",[{\"domain\": {\"bounds\": {\"max\": Infinity, \"min\": -Infinity}, \"max\": 5.2561641575625, \"min\": -23.814911145}, \"range\": {\"bounds\": {\"max\": Infinity, \"min\": -Infinity}, \"max\": 400.0, \"min\": 0.0}, \"scale\": \"linear\"}]);\n",
       "})();</script></div></div>"
      ]
     },
     "metadata": {},
     "output_type": "display_data"
    }
   ],
   "source": [
    "D = dist_matrix(profs1)\n",
    "D.to_csv('dist_mlst.csv',index=False)\n",
    "sns.clustermap(D,xticklabels=True,yticklabels=True,figsize=(6,6))\n",
    "tree_from_distmatrix(D)\n",
    "\n",
    "tre = toytree.tree(treefile)\n",
    "canvas,t,r=tre.draw(layout='r',scalebar=True,width=500)"
   ]
  },
  {
   "cell_type": "code",
   "execution_count": 812,
   "id": "ea9b1f21-c3b7-46f0-93f4-4e3bc503c246",
   "metadata": {},
   "outputs": [
    {
     "data": {
      "text/html": [
       "<div class=\"toyplot\" id=\"t5e4c84b302ca45ef89d4bccff7dce695\" style=\"text-align:center\"><svg class=\"toyplot-canvas-Canvas\" xmlns:toyplot=\"http://www.sandia.gov/toyplot\" xmlns:xlink=\"http://www.w3.org/1999/xlink\" xmlns=\"http://www.w3.org/2000/svg\" width=\"800.0px\" height=\"275.0px\" viewBox=\"0 0 800.0 275.0\" preserveAspectRatio=\"xMidYMid meet\" style=\"background-color:transparent;border-color:#292724;border-style:none;border-width:1.0;fill:rgb(16.1%,15.3%,14.1%);fill-opacity:1.0;font-family:Helvetica;font-size:12px;opacity:1.0;stroke:rgb(16.1%,15.3%,14.1%);stroke-opacity:1.0;stroke-width:1.0\" id=\"t9f0cfe4806b84af58056bfb2272d0837\"><g class=\"toyplot-coordinates-Cartesian\" id=\"taabb2e005ae346f5b1c208b418644e43\"><clipPath id=\"t8f86ab35e0004c2fa0cf9125be33dd97\"><rect x=\"30.0\" y=\"30.0\" width=\"740.0\" height=\"215.0\"></rect></clipPath><g clip-path=\"url(#t8f86ab35e0004c2fa0cf9125be33dd97)\"><g class=\"toytree-mark-Toytree\" id=\"tf86c151d3a0b4a368d07fe58bb199e49\"><g class=\"toytree-Edges\" style=\"fill:none;stroke:rgb(14.9%,14.9%,14.9%);stroke-linecap:round;stroke-opacity:1;stroke-width:2\"><path d=\"M 51.8 123.2 L 51.8 71.9 L 343.7 71.9\" id=\"14,13\"></path><path d=\"M 51.8 123.2 L 51.8 174.4 L 300.6 174.4\" id=\"14,12\"></path><path d=\"M 300.6 174.4 L 300.6 145.7 L 300.6 145.7\" id=\"12,11\"></path><path d=\"M 300.6 174.4 L 300.6 203.1 L 630.5 203.1\" id=\"12,10\"></path><path d=\"M 300.6 145.7 L 300.6 121.1 L 300.6 121.1\" id=\"11,9\"></path><path d=\"M 300.6 121.1 L 300.6 137.5 L 382.8 137.5\" id=\"9,8\"></path><path d=\"M 343.7 71.9 L 343.7 61.0 L 427.1 61.0\" id=\"13,7\"></path><path d=\"M 343.7 71.9 L 343.7 82.9 L 509.5 82.9\" id=\"13,6\"></path><path d=\"M 300.6 121.1 L 300.6 104.7 L 590.9 104.7\" id=\"9,5\"></path><path d=\"M 382.8 137.5 L 382.8 126.6 L 382.8 126.6\" id=\"8,4\"></path><path d=\"M 382.8 137.5 L 382.8 148.4 L 547.2 148.4\" id=\"8,3\"></path><path d=\"M 300.6 145.7 L 300.6 170.3 L 465.9 170.3\" id=\"11,2\"></path><path d=\"M 630.5 203.1 L 630.5 192.1 L 630.5 192.1\" id=\"10,1\"></path><path d=\"M 630.5 203.1 L 630.5 214.0 L 671.5 214.0\" id=\"10,0\"></path></g><g class=\"toytree-TipLabels\" style=\"fill:rgb(14.9%,14.9%,14.9%);fill-opacity:1.0;font-family:helvetica;font-size:11px;font-weight:normal;stroke:none;white-space:pre\"><g transform=\"translate(671.45,213.99)rotate(0)\"><text x=\"15.00\" y=\"2.81\" style=\"\">19-11957</text></g><g transform=\"translate(630.55,192.13)rotate(0)\"><text x=\"15.00\" y=\"2.81\" style=\"\">15-11643</text></g><g transform=\"translate(465.89,170.28)rotate(0)\"><text x=\"15.00\" y=\"2.81\" style=\"\">14-MBovis</text></g><g transform=\"translate(547.19,148.43)rotate(0)\"><text x=\"15.00\" y=\"2.81\" style=\"\">22-12200</text></g><g transform=\"translate(382.85,126.57)rotate(0)\"><text x=\"15.00\" y=\"2.81\" style=\"\">19-MBovis</text></g><g transform=\"translate(590.87,104.72)rotate(0)\"><text x=\"15.00\" y=\"2.81\" style=\"\">1034</text></g><g transform=\"translate(509.50,82.87)rotate(0)\"><text x=\"15.00\" y=\"2.81\" style=\"\">13-11594</text></g><g transform=\"translate(427.07,61.01)rotate(0)\"><text x=\"15.00\" y=\"2.81\" style=\"\">17-MBovis</text></g></g></g></g><g class=\"toyplot-coordinates-Axis\" id=\"t09013c04c75d4610b15d2f2a0402fad6\" transform=\"translate(50.0,225.0)translate(0,20.0)\"><line x1=\"1.7705270479623108\" y1=\"0\" x2=\"621.4549938347718\" y2=\"0\" style=\"\"></line><g><line x1=\"621.4549938347718\" y1=\"0\" x2=\"621.4549938347718\" y2=\"-5\" style=\"\"></line><line x1=\"532.9286414366561\" y1=\"0\" x2=\"532.9286414366561\" y2=\"-5\" style=\"\"></line><line x1=\"444.4022890385406\" y1=\"0\" x2=\"444.4022890385406\" y2=\"-5\" style=\"\"></line><line x1=\"355.875936640425\" y1=\"0\" x2=\"355.875936640425\" y2=\"-5\" style=\"\"></line><line x1=\"267.34958424230933\" y1=\"0\" x2=\"267.34958424230933\" y2=\"-5\" style=\"\"></line><line x1=\"178.82323184419363\" y1=\"0\" x2=\"178.82323184419363\" y2=\"-5\" style=\"\"></line><line x1=\"90.29687944607805\" y1=\"0\" x2=\"90.29687944607805\" y2=\"-5\" style=\"\"></line><line x1=\"1.7705270479624367\" y1=\"0\" x2=\"1.7705270479624367\" y2=\"-5\" style=\"\"></line></g><g><g transform=\"translate(621.4549938347718,6)\"><text x=\"-12.51\" y=\"8.555\" style=\"fill:rgb(16.1%,15.3%,14.1%);fill-opacity:1.0;font-family:helvetica;font-size:10.0px;font-weight:normal;stroke:none;vertical-align:baseline;white-space:pre\">0.000</text></g><g transform=\"translate(532.9286414366561,6)\"><text x=\"-12.51\" y=\"8.555\" style=\"fill:rgb(16.1%,15.3%,14.1%);fill-opacity:1.0;font-family:helvetica;font-size:10.0px;font-weight:normal;stroke:none;vertical-align:baseline;white-space:pre\">0.005</text></g><g transform=\"translate(444.4022890385406,6)\"><text x=\"-12.51\" y=\"8.555\" style=\"fill:rgb(16.1%,15.3%,14.1%);fill-opacity:1.0;font-family:helvetica;font-size:10.0px;font-weight:normal;stroke:none;vertical-align:baseline;white-space:pre\">0.010</text></g><g transform=\"translate(355.875936640425,6)\"><text x=\"-12.51\" y=\"8.555\" style=\"fill:rgb(16.1%,15.3%,14.1%);fill-opacity:1.0;font-family:helvetica;font-size:10.0px;font-weight:normal;stroke:none;vertical-align:baseline;white-space:pre\">0.015</text></g><g transform=\"translate(267.34958424230933,6)\"><text x=\"-12.51\" y=\"8.555\" style=\"fill:rgb(16.1%,15.3%,14.1%);fill-opacity:1.0;font-family:helvetica;font-size:10.0px;font-weight:normal;stroke:none;vertical-align:baseline;white-space:pre\">0.019</text></g><g transform=\"translate(178.82323184419363,6)\"><text x=\"-12.51\" y=\"8.555\" style=\"fill:rgb(16.1%,15.3%,14.1%);fill-opacity:1.0;font-family:helvetica;font-size:10.0px;font-weight:normal;stroke:none;vertical-align:baseline;white-space:pre\">0.024</text></g><g transform=\"translate(90.29687944607805,6)\"><text x=\"-12.51\" y=\"8.555\" style=\"fill:rgb(16.1%,15.3%,14.1%);fill-opacity:1.0;font-family:helvetica;font-size:10.0px;font-weight:normal;stroke:none;vertical-align:baseline;white-space:pre\">0.029</text></g><g transform=\"translate(1.7705270479624367,6)\"><text x=\"-12.51\" y=\"8.555\" style=\"fill:rgb(16.1%,15.3%,14.1%);fill-opacity:1.0;font-family:helvetica;font-size:10.0px;font-weight:normal;stroke:none;vertical-align:baseline;white-space:pre\">0.034</text></g></g><g class=\"toyplot-coordinates-Axis-coordinates\" style=\"visibility:hidden\" transform=\"\"><line x1=\"0\" x2=\"0\" y1=\"-3.0\" y2=\"4.5\" style=\"stroke:rgb(43.9%,50.2%,56.5%);stroke-opacity:1.0;stroke-width:1.0\"></line><text x=\"0\" y=\"-6\" style=\"alignment-baseline:alphabetic;fill:rgb(43.9%,50.2%,56.5%);fill-opacity:1.0;font-size:10px;font-weight:normal;stroke:none;text-anchor:middle\"></text></g></g></g></svg><div class=\"toyplot-behavior\"><script>(function()\n",
       "{\n",
       "var modules={};\n",
       "modules[\"toyplot/canvas/id\"] = \"t9f0cfe4806b84af58056bfb2272d0837\";\n",
       "modules[\"toyplot/canvas\"] = (function(canvas_id)\n",
       "    {\n",
       "        return document.querySelector(\"#\" + canvas_id);\n",
       "    })(modules[\"toyplot/canvas/id\"]);\n",
       "modules[\"toyplot.coordinates.Axis\"] = (\n",
       "        function(canvas)\n",
       "        {\n",
       "            function sign(x)\n",
       "            {\n",
       "                return x < 0 ? -1 : x > 0 ? 1 : 0;\n",
       "            }\n",
       "\n",
       "            function mix(a, b, amount)\n",
       "            {\n",
       "                return ((1.0 - amount) * a) + (amount * b);\n",
       "            }\n",
       "\n",
       "            function log(x, base)\n",
       "            {\n",
       "                return Math.log(Math.abs(x)) / Math.log(base);\n",
       "            }\n",
       "\n",
       "            function in_range(a, x, b)\n",
       "            {\n",
       "                var left = Math.min(a, b);\n",
       "                var right = Math.max(a, b);\n",
       "                return left <= x && x <= right;\n",
       "            }\n",
       "\n",
       "            function inside(range, projection)\n",
       "            {\n",
       "                for(var i = 0; i != projection.length; ++i)\n",
       "                {\n",
       "                    var segment = projection[i];\n",
       "                    if(in_range(segment.range.min, range, segment.range.max))\n",
       "                        return true;\n",
       "                }\n",
       "                return false;\n",
       "            }\n",
       "\n",
       "            function to_domain(range, projection)\n",
       "            {\n",
       "                for(var i = 0; i != projection.length; ++i)\n",
       "                {\n",
       "                    var segment = projection[i];\n",
       "                    if(in_range(segment.range.bounds.min, range, segment.range.bounds.max))\n",
       "                    {\n",
       "                        if(segment.scale == \"linear\")\n",
       "                        {\n",
       "                            var amount = (range - segment.range.min) / (segment.range.max - segment.range.min);\n",
       "                            return mix(segment.domain.min, segment.domain.max, amount)\n",
       "                        }\n",
       "                        else if(segment.scale[0] == \"log\")\n",
       "                        {\n",
       "                            var amount = (range - segment.range.min) / (segment.range.max - segment.range.min);\n",
       "                            var base = segment.scale[1];\n",
       "                            return sign(segment.domain.min) * Math.pow(base, mix(log(segment.domain.min, base), log(segment.domain.max, base), amount));\n",
       "                        }\n",
       "                    }\n",
       "                }\n",
       "            }\n",
       "\n",
       "            var axes = {};\n",
       "\n",
       "            function display_coordinates(e)\n",
       "            {\n",
       "                var current = canvas.createSVGPoint();\n",
       "                current.x = e.clientX;\n",
       "                current.y = e.clientY;\n",
       "\n",
       "                for(var axis_id in axes)\n",
       "                {\n",
       "                    var axis = document.querySelector(\"#\" + axis_id);\n",
       "                    var coordinates = axis.querySelector(\".toyplot-coordinates-Axis-coordinates\");\n",
       "                    if(coordinates)\n",
       "                    {\n",
       "                        var projection = axes[axis_id];\n",
       "                        var local = current.matrixTransform(axis.getScreenCTM().inverse());\n",
       "                        if(inside(local.x, projection))\n",
       "                        {\n",
       "                            var domain = to_domain(local.x, projection);\n",
       "                            coordinates.style.visibility = \"visible\";\n",
       "                            coordinates.setAttribute(\"transform\", \"translate(\" + local.x + \")\");\n",
       "                            var text = coordinates.querySelector(\"text\");\n",
       "                            text.textContent = domain.toFixed(2);\n",
       "                        }\n",
       "                        else\n",
       "                        {\n",
       "                            coordinates.style.visibility= \"hidden\";\n",
       "                        }\n",
       "                    }\n",
       "                }\n",
       "            }\n",
       "\n",
       "            canvas.addEventListener(\"click\", display_coordinates);\n",
       "\n",
       "            var module = {};\n",
       "            module.show_coordinates = function(axis_id, projection)\n",
       "            {\n",
       "                axes[axis_id] = projection;\n",
       "            }\n",
       "\n",
       "            return module;\n",
       "        })(modules[\"toyplot/canvas\"]);\n",
       "(function(axis, axis_id, projection)\n",
       "        {\n",
       "            axis.show_coordinates(axis_id, projection);\n",
       "        })(modules[\"toyplot.coordinates.Axis\"],\"t09013c04c75d4610b15d2f2a0402fad6\",[{\"domain\": {\"bounds\": {\"max\": Infinity, \"min\": -Infinity}, \"max\": 0.004325224885355147, \"min\": -0.034221559532480246}, \"range\": {\"bounds\": {\"max\": Infinity, \"min\": -Infinity}, \"max\": 700.0, \"min\": 0.0}, \"scale\": \"linear\"}]);\n",
       "})();</script></div></div>"
      ]
     },
     "metadata": {},
     "output_type": "display_data"
    }
   ],
   "source": [
    "tre2 = toytree.tree('/storage/btbgenie/wicklow_results/RAxML_bestTree.variants')\n",
    "drop = list(set(tre2.get_tip_labels()) - set(tre.get_tip_labels()))\n",
    "drop+=['17-11662']\n",
    "tre2=tre2.drop_tips(drop)\n",
    "canvas,t,r=tre2.draw(layout='r',scalebar=True,width=800)"
   ]
  },
  {
   "cell_type": "code",
   "execution_count": null,
   "id": "24e4e31b-87c0-4f89-a0e8-8de8e81ac12a",
   "metadata": {},
   "outputs": [],
   "source": []
  }
 ],
 "metadata": {
  "kernelspec": {
   "display_name": "Python 3",
   "language": "python",
   "name": "python3"
  },
  "language_info": {
   "codemirror_mode": {
    "name": "ipython",
    "version": 3
   },
   "file_extension": ".py",
   "mimetype": "text/x-python",
   "name": "python",
   "nbconvert_exporter": "python",
   "pygments_lexer": "ipython3",
   "version": "3.9.4"
  }
 },
 "nbformat": 4,
 "nbformat_minor": 5
}
